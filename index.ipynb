{
 "cells": [
  {
   "cell_type": "markdown",
   "source": [
    "# Projeto DECD\n",
    "\n",
    "Página Principal\n",
    "\n",
    "\n",
    "## Tabela de Contéudos\n",
    "1. [Preparacao dos Dados](./notebooks/preparacao_dados.ipynb)\n",
    "   1. [Coleção Número de ordens de serviço remotas realizadas](./notebooks/tratamento_ordens_servico.ipynb)"
   ],
   "metadata": {
    "collapsed": false
   },
   "id": "42e6fa1597a3c5f7"
  }
 ],
 "metadata": {
  "kernelspec": {
   "display_name": "Python 3",
   "language": "python",
   "name": "python3"
  },
  "language_info": {
   "codemirror_mode": {
    "name": "ipython",
    "version": 2
   },
   "file_extension": ".py",
   "mimetype": "text/x-python",
   "name": "python",
   "nbconvert_exporter": "python",
   "pygments_lexer": "ipython2",
   "version": "2.7.6"
  }
 },
 "nbformat": 4,
 "nbformat_minor": 5
}
