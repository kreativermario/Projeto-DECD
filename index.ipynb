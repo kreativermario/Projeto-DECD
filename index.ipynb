{
 "cells": [
  {
   "cell_type": "markdown",
   "source": [
    "# Projeto DECD\n",
    "\n",
    "Página Principal\n",
    "\n",
    "\n",
    "## Tabela de Contéudos\n",
    "1. [Data Understanding](./notebooks/data_understanding.ipynb)\n",
    "    1. Tratamento de cada dataset antes da junção\n",
    "        1. [Tratamento coleção 3 - consumos faturados por municipio 10 anos](./notebooks/tratamento_3_consumos_faturados_por_municipio_10_anos.ipynb)\n",
    "        2. [Tratamento coleção 20 - caracterizacao cpes contrato ativo](./notebooks/tratamento_20_caracterizacao_pes_contrato_ativo.ipynb)\n",
    "        3. [Tratamento coleção 22 - diagrama de carga por instalacao](./notebooks/tratamento_22_diagrama_de_carga_por_instalacao.ipynb)\n",
    "    2. [Junção dos datasets](./notebooks/tratamento_juncao.ipynb)\n",
    "2. Preparação de Dados\n",
    "    1. [Conjunto Númerico](./notebooks/data_preparation_numeric.ipynb)\n",
    "    2. [Conjunto Categórico](./notebooks/data_preparation_categoric.ipynb)"
   ],
   "metadata": {
    "collapsed": false
   },
   "id": "42e6fa1597a3c5f7"
  }
 ],
 "metadata": {
  "kernelspec": {
   "display_name": "Python 3",
   "language": "python",
   "name": "python3"
  },
  "language_info": {
   "codemirror_mode": {
    "name": "ipython",
    "version": 2
   },
   "file_extension": ".py",
   "mimetype": "text/x-python",
   "name": "python",
   "nbconvert_exporter": "python",
   "pygments_lexer": "ipython2",
   "version": "2.7.6"
  }
 },
 "nbformat": 4,
 "nbformat_minor": 5
}
