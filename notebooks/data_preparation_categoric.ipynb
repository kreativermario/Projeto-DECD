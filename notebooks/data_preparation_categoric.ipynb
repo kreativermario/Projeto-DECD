{
 "cells": [
  {
   "cell_type": "markdown",
   "source": [
    "# Preparação dos dados"
   ],
   "metadata": {
    "collapsed": false
   },
   "id": "f2f0ee3f84d00207"
  },
  {
   "cell_type": "code",
   "outputs": [],
   "source": [
    "import os\n",
    "\n",
    "import numpy as np\n",
    "import pandas as pd\n",
    "\n",
    "%matplotlib inline\n",
    "import matplotlib.pyplot as plt\n",
    "import seaborn as sns\n",
    "\n",
    "sns.set_theme()"
   ],
   "metadata": {
    "collapsed": false,
    "ExecuteTime": {
     "end_time": "2024-04-16T13:11:52.184763Z",
     "start_time": "2024-04-16T13:11:52.182879Z"
    }
   },
   "id": "f7bcb348da1232f9",
   "execution_count": 7
  },
  {
   "cell_type": "markdown",
   "source": [
    "## Importar dataset"
   ],
   "metadata": {
    "collapsed": false
   },
   "id": "d037479371e8387f"
  },
  {
   "cell_type": "code",
   "outputs": [],
   "source": [
    "data_path = '../data/' if os.path.exists('../data/') else 'https://raw.githubusercontent.com/kreativermario/Projeto-DECD/master/data/'\n",
    "\n",
    "merged_path = data_path + 'treated/merged-dataset.csv'\n",
    "\n",
    "merged_df = pd.read_csv(merged_path)"
   ],
   "metadata": {
    "collapsed": false,
    "ExecuteTime": {
     "end_time": "2024-04-16T13:11:52.194555Z",
     "start_time": "2024-04-16T13:11:52.186433Z"
    }
   },
   "id": "8f86e02d2d380a78",
   "execution_count": 8
  },
  {
   "cell_type": "markdown",
   "source": [
    "## Criar o conjunto totalmente categórico\n",
    "- Visualizar os gráficos e ver a distribuição das variáveis.\n",
    "- Ver quantos outliers existem por variável"
   ],
   "metadata": {
    "collapsed": false
   },
   "id": "1d6013ebc9d43413"
  },
  {
   "cell_type": "code",
   "outputs": [
    {
     "name": "stdout",
     "output_type": "stream",
     "text": [
      "<class 'pandas.core.frame.DataFrame'>\n",
      "RangeIndex: 9790 entries, 0 to 9789\n",
      "Data columns (total 10 columns):\n",
      " #   Column                        Non-Null Count  Dtype  \n",
      "---  ------                        --------------  -----  \n",
      " 0   nível_de_tensão               9790 non-null   object \n",
      " 1   ano                           9790 non-null   int64  \n",
      " 2   mês                           9790 non-null   int64  \n",
      " 3   energia_ativa_(kwh)           9790 non-null   float64\n",
      " 4   cpes_doméstico                9790 non-null   float64\n",
      " 5   cpes_iluminação_pública       9790 non-null   float64\n",
      " 6   cpes_não_doméstico            9790 non-null   float64\n",
      " 7   cpes_outros                   9790 non-null   float64\n",
      " 8   cpes_mobilidade_eletrica_não  9790 non-null   float64\n",
      " 9   cpes_mobilidade_eletrica_sim  9790 non-null   float64\n",
      "dtypes: float64(7), int64(2), object(1)\n",
      "memory usage: 765.0+ KB\n"
     ]
    }
   ],
   "source": [
    "merged_df.info()"
   ],
   "metadata": {
    "collapsed": false,
    "ExecuteTime": {
     "end_time": "2024-04-16T13:11:52.203521Z",
     "start_time": "2024-04-16T13:11:52.195368Z"
    }
   },
   "id": "220c30bfab496189",
   "execution_count": 9
  },
  {
   "cell_type": "markdown",
   "source": [
    "### Sabendo a estrutura de dados do dataset, existem algumas variáveis que são obviamente categóricas.\n",
    "- São: nível_de_tensão, ano, mês\n",
    "- Pode-se observar esse facto utilizando a função unique()"
   ],
   "metadata": {
    "collapsed": false
   },
   "id": "ab3703c956a5dbda"
  },
  {
   "cell_type": "code",
   "outputs": [
    {
     "name": "stdout",
     "output_type": "stream",
     "text": [
      "Unique values in nível_de_tensão: ['Baixa Tensão' 'Muito Alta, Alta e Média Tensões']\n",
      "Unique values in ano: [2022 2023 2024]\n",
      "Unique values in mês: [ 8  9 10 11 12  1  2  3  4  5  6  7]\n"
     ]
    }
   ],
   "source": [
    "categorical_columns = ['nível_de_tensão', 'ano', 'mês']\n",
    "for column in categorical_columns:\n",
    "    print(f\"Unique values in {column}: {merged_df[column].unique()}\")\n"
   ],
   "metadata": {
    "collapsed": false,
    "ExecuteTime": {
     "end_time": "2024-04-16T13:14:26.917309Z",
     "start_time": "2024-04-16T13:14:26.912501Z"
    }
   },
   "id": "62ec78f9b7c49ad1",
   "execution_count": 11
  },
  {
   "cell_type": "markdown",
   "source": [
    "- Transformar em categórico"
   ],
   "metadata": {
    "collapsed": false
   },
   "id": "af2a3c8ee206f04a"
  },
  {
   "cell_type": "code",
   "outputs": [
    {
     "name": "stdout",
     "output_type": "stream",
     "text": [
      "<class 'pandas.core.frame.DataFrame'>\n",
      "RangeIndex: 9790 entries, 0 to 9789\n",
      "Data columns (total 10 columns):\n",
      " #   Column                        Non-Null Count  Dtype   \n",
      "---  ------                        --------------  -----   \n",
      " 0   nível_de_tensão               9790 non-null   category\n",
      " 1   ano                           9790 non-null   category\n",
      " 2   mês                           9790 non-null   category\n",
      " 3   energia_ativa_(kwh)           9790 non-null   float64 \n",
      " 4   cpes_doméstico                9790 non-null   float64 \n",
      " 5   cpes_iluminação_pública       9790 non-null   float64 \n",
      " 6   cpes_não_doméstico            9790 non-null   float64 \n",
      " 7   cpes_outros                   9790 non-null   float64 \n",
      " 8   cpes_mobilidade_eletrica_não  9790 non-null   float64 \n",
      " 9   cpes_mobilidade_eletrica_sim  9790 non-null   float64 \n",
      "dtypes: category(3), float64(7)\n",
      "memory usage: 564.8 KB\n"
     ]
    }
   ],
   "source": [
    "merged_df['nível_de_tensão'] = merged_df['nível_de_tensão'].astype('category')\n",
    "merged_df['ano'] = merged_df['ano'].astype('category')\n",
    "merged_df['mês'] = merged_df['mês'].astype('category')\n",
    "merged_df.info()"
   ],
   "metadata": {
    "collapsed": false,
    "ExecuteTime": {
     "end_time": "2024-04-16T13:16:01.103379Z",
     "start_time": "2024-04-16T13:16:01.095770Z"
    }
   },
   "id": "bbd2994107687765",
   "execution_count": 12
  },
  {
   "cell_type": "code",
   "outputs": [],
   "source": [],
   "metadata": {
    "collapsed": false
   },
   "id": "e2d691b02aa9df24"
  }
 ],
 "metadata": {
  "kernelspec": {
   "display_name": "Python 3",
   "language": "python",
   "name": "python3"
  },
  "language_info": {
   "codemirror_mode": {
    "name": "ipython",
    "version": 2
   },
   "file_extension": ".py",
   "mimetype": "text/x-python",
   "name": "python",
   "nbconvert_exporter": "python",
   "pygments_lexer": "ipython2",
   "version": "2.7.6"
  }
 },
 "nbformat": 4,
 "nbformat_minor": 5
}
