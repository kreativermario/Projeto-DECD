{
 "cells": [
  {
   "cell_type": "markdown",
   "source": [
    "# Preparação dos dados"
   ],
   "metadata": {
    "collapsed": false
   },
   "id": "f2f0ee3f84d00207"
  },
  {
   "cell_type": "code",
   "outputs": [],
   "source": [
    "import os\n",
    "\n",
    "import numpy as np\n",
    "import pandas as pd\n",
    "\n",
    "%matplotlib inline\n",
    "import matplotlib.pyplot as plt\n",
    "import seaborn as sns\n",
    "from sklearn.preprocessing import KBinsDiscretizer\n",
    "\n",
    "sns.set_theme()"
   ],
   "metadata": {
    "collapsed": false,
    "ExecuteTime": {
     "end_time": "2024-04-17T17:43:21.669917Z",
     "start_time": "2024-04-17T17:43:21.655627Z"
    }
   },
   "id": "f7bcb348da1232f9",
   "execution_count": 3
  },
  {
   "cell_type": "markdown",
   "source": [
    "## Importar dataset"
   ],
   "metadata": {
    "collapsed": false
   },
   "id": "d037479371e8387f"
  },
  {
   "cell_type": "code",
   "outputs": [],
   "source": [
    "data_path = '../data/' if os.path.exists('../data/') else 'https://raw.githubusercontent.com/kreativermario/Projeto-DECD/master/data/'\n",
    "\n",
    "merged_path = data_path + 'treated/merged-dataset.csv'\n",
    "\n",
    "merged_df = pd.read_csv(merged_path)"
   ],
   "metadata": {
    "collapsed": false,
    "ExecuteTime": {
     "end_time": "2024-04-17T17:43:21.679327Z",
     "start_time": "2024-04-17T17:43:21.664731Z"
    }
   },
   "id": "8f86e02d2d380a78",
   "execution_count": 4
  },
  {
   "cell_type": "markdown",
   "source": [
    "## Criar o conjunto totalmente categórico\n",
    "- Visualizar os gráficos e ver a distribuição das variáveis.\n",
    "- Ver quantos outliers existem por variável"
   ],
   "metadata": {
    "collapsed": false
   },
   "id": "1d6013ebc9d43413"
  },
  {
   "cell_type": "code",
   "outputs": [
    {
     "name": "stdout",
     "output_type": "stream",
     "text": [
      "<class 'pandas.core.frame.DataFrame'>\n",
      "RangeIndex: 9790 entries, 0 to 9789\n",
      "Data columns (total 10 columns):\n",
      " #   Column                        Non-Null Count  Dtype  \n",
      "---  ------                        --------------  -----  \n",
      " 0   nível_de_tensão               9790 non-null   object \n",
      " 1   ano                           9790 non-null   int64  \n",
      " 2   mês                           9790 non-null   int64  \n",
      " 3   energia_ativa_(kwh)           9790 non-null   float64\n",
      " 4   cpes_doméstico                9790 non-null   float64\n",
      " 5   cpes_iluminação_pública       9790 non-null   float64\n",
      " 6   cpes_não_doméstico            9790 non-null   float64\n",
      " 7   cpes_outros                   9790 non-null   float64\n",
      " 8   cpes_mobilidade_eletrica_não  9790 non-null   float64\n",
      " 9   cpes_mobilidade_eletrica_sim  9790 non-null   float64\n",
      "dtypes: float64(7), int64(2), object(1)\n",
      "memory usage: 765.0+ KB\n"
     ]
    }
   ],
   "source": [
    "merged_df.info()"
   ],
   "metadata": {
    "collapsed": false,
    "ExecuteTime": {
     "end_time": "2024-04-17T17:43:21.686989Z",
     "start_time": "2024-04-17T17:43:21.677563Z"
    }
   },
   "id": "220c30bfab496189",
   "execution_count": 5
  },
  {
   "cell_type": "markdown",
   "source": [
    "### Sabendo a estrutura de dados do dataset, existem algumas variáveis que são obviamente categóricas.\n",
    "- São: nível_de_tensão, ano, mês\n",
    "- Pode-se observar esse facto utilizando a função unique()"
   ],
   "metadata": {
    "collapsed": false
   },
   "id": "ab3703c956a5dbda"
  },
  {
   "cell_type": "code",
   "outputs": [
    {
     "name": "stdout",
     "output_type": "stream",
     "text": [
      "Unique values in nível_de_tensão: ['Baixa Tensão' 'Muito Alta, Alta e Média Tensões']\n",
      "Unique values in ano: [2022 2023 2024]\n",
      "Unique values in mês: [ 8  9 10 11 12  1  2  3  4  5  6  7]\n"
     ]
    }
   ],
   "source": [
    "categorical_columns = ['nível_de_tensão', 'ano', 'mês']\n",
    "for column in categorical_columns:\n",
    "    print(f\"Unique values in {column}: {merged_df[column].unique()}\")\n"
   ],
   "metadata": {
    "collapsed": false,
    "ExecuteTime": {
     "end_time": "2024-04-17T17:43:21.706894Z",
     "start_time": "2024-04-17T17:43:21.689227Z"
    }
   },
   "id": "62ec78f9b7c49ad1",
   "execution_count": 6
  },
  {
   "cell_type": "markdown",
   "source": [
    "- Transformar em categórico"
   ],
   "metadata": {
    "collapsed": false
   },
   "id": "af2a3c8ee206f04a"
  },
  {
   "cell_type": "code",
   "outputs": [
    {
     "name": "stdout",
     "output_type": "stream",
     "text": [
      "<class 'pandas.core.frame.DataFrame'>\n",
      "RangeIndex: 9790 entries, 0 to 9789\n",
      "Data columns (total 10 columns):\n",
      " #   Column                        Non-Null Count  Dtype   \n",
      "---  ------                        --------------  -----   \n",
      " 0   nível_de_tensão               9790 non-null   category\n",
      " 1   ano                           9790 non-null   category\n",
      " 2   mês                           9790 non-null   category\n",
      " 3   energia_ativa_(kwh)           9790 non-null   float64 \n",
      " 4   cpes_doméstico                9790 non-null   float64 \n",
      " 5   cpes_iluminação_pública       9790 non-null   float64 \n",
      " 6   cpes_não_doméstico            9790 non-null   float64 \n",
      " 7   cpes_outros                   9790 non-null   float64 \n",
      " 8   cpes_mobilidade_eletrica_não  9790 non-null   float64 \n",
      " 9   cpes_mobilidade_eletrica_sim  9790 non-null   float64 \n",
      "dtypes: category(3), float64(7)\n",
      "memory usage: 564.8 KB\n"
     ]
    }
   ],
   "source": [
    "merged_df['nível_de_tensão'] = merged_df['nível_de_tensão'].astype('category')\n",
    "merged_df['ano'] = merged_df['ano'].astype('category')\n",
    "merged_df['mês'] = merged_df['mês'].astype('category')\n",
    "merged_df.info()"
   ],
   "metadata": {
    "collapsed": false,
    "ExecuteTime": {
     "end_time": "2024-04-17T17:43:21.707379Z",
     "start_time": "2024-04-17T17:43:21.701542Z"
    }
   },
   "id": "bbd2994107687765",
   "execution_count": 7
  },
  {
   "cell_type": "code",
   "outputs": [
    {
     "name": "stdout",
     "output_type": "stream",
     "text": [
      "<class 'pandas.core.frame.DataFrame'>\n",
      "RangeIndex: 9790 entries, 0 to 9789\n",
      "Data columns (total 10 columns):\n",
      " #   Column                        Non-Null Count  Dtype   \n",
      "---  ------                        --------------  -----   \n",
      " 0   nível_de_tensão               0 non-null      float64 \n",
      " 1   ano                           9790 non-null   category\n",
      " 2   mês                           9790 non-null   category\n",
      " 3   energia_ativa_(kwh)           9790 non-null   float64 \n",
      " 4   cpes_doméstico                9790 non-null   float64 \n",
      " 5   cpes_iluminação_pública       9790 non-null   float64 \n",
      " 6   cpes_não_doméstico            9790 non-null   float64 \n",
      " 7   cpes_outros                   9790 non-null   float64 \n",
      " 8   cpes_mobilidade_eletrica_não  9790 non-null   float64 \n",
      " 9   cpes_mobilidade_eletrica_sim  9790 non-null   float64 \n",
      "dtypes: category(2), float64(8)\n",
      "memory usage: 631.6 KB\n"
     ]
    },
    {
     "data": {
      "text/plain": "       nível_de_tensão  energia_ativa_(kwh)  cpes_doméstico  \\\ncount              0.0         9.790000e+03     9790.000000   \nmean               NaN         6.698904e+06     9437.674055   \nstd                NaN         1.301081e+07    22853.667206   \nmin                NaN         1.899000e+03        0.000000   \n25%                NaN         8.817195e+05        0.000000   \n50%                NaN         2.290926e+06     1289.500000   \n75%                NaN         6.572700e+06     8943.000000   \nmax                NaN         1.633807e+08   312074.000000   \n\n       cpes_iluminação_pública  cpes_não_doméstico  cpes_outros  \\\ncount              9790.000000         9790.000000  9790.000000   \nmean                107.457508         2176.664760    64.922983   \nstd                 174.274733         5290.937589   159.619755   \nmin                   0.000000            5.000000     0.000000   \n25%                   0.000000           52.000000     0.000000   \n50%                  15.000000          428.000000     5.000000   \n75%                 141.000000         2000.000000    55.000000   \nmax                1185.000000        79984.000000  2186.000000   \n\n       cpes_mobilidade_eletrica_não  cpes_mobilidade_eletrica_sim  \ncount                   9790.000000                   9790.000000  \nmean                   13562.938815                      4.675996  \nstd                    22955.528565                     12.331074  \nmin                      572.000000                      0.000000  \n25%                     3063.000000                      1.000000  \n50%                     5692.500000                      1.000000  \n75%                    14888.000000                      3.000000  \nmax                   264079.000000                    191.000000  ",
      "text/html": "<div>\n<style scoped>\n    .dataframe tbody tr th:only-of-type {\n        vertical-align: middle;\n    }\n\n    .dataframe tbody tr th {\n        vertical-align: top;\n    }\n\n    .dataframe thead th {\n        text-align: right;\n    }\n</style>\n<table border=\"1\" class=\"dataframe\">\n  <thead>\n    <tr style=\"text-align: right;\">\n      <th></th>\n      <th>nível_de_tensão</th>\n      <th>energia_ativa_(kwh)</th>\n      <th>cpes_doméstico</th>\n      <th>cpes_iluminação_pública</th>\n      <th>cpes_não_doméstico</th>\n      <th>cpes_outros</th>\n      <th>cpes_mobilidade_eletrica_não</th>\n      <th>cpes_mobilidade_eletrica_sim</th>\n    </tr>\n  </thead>\n  <tbody>\n    <tr>\n      <th>count</th>\n      <td>0.0</td>\n      <td>9.790000e+03</td>\n      <td>9790.000000</td>\n      <td>9790.000000</td>\n      <td>9790.000000</td>\n      <td>9790.000000</td>\n      <td>9790.000000</td>\n      <td>9790.000000</td>\n    </tr>\n    <tr>\n      <th>mean</th>\n      <td>NaN</td>\n      <td>6.698904e+06</td>\n      <td>9437.674055</td>\n      <td>107.457508</td>\n      <td>2176.664760</td>\n      <td>64.922983</td>\n      <td>13562.938815</td>\n      <td>4.675996</td>\n    </tr>\n    <tr>\n      <th>std</th>\n      <td>NaN</td>\n      <td>1.301081e+07</td>\n      <td>22853.667206</td>\n      <td>174.274733</td>\n      <td>5290.937589</td>\n      <td>159.619755</td>\n      <td>22955.528565</td>\n      <td>12.331074</td>\n    </tr>\n    <tr>\n      <th>min</th>\n      <td>NaN</td>\n      <td>1.899000e+03</td>\n      <td>0.000000</td>\n      <td>0.000000</td>\n      <td>5.000000</td>\n      <td>0.000000</td>\n      <td>572.000000</td>\n      <td>0.000000</td>\n    </tr>\n    <tr>\n      <th>25%</th>\n      <td>NaN</td>\n      <td>8.817195e+05</td>\n      <td>0.000000</td>\n      <td>0.000000</td>\n      <td>52.000000</td>\n      <td>0.000000</td>\n      <td>3063.000000</td>\n      <td>1.000000</td>\n    </tr>\n    <tr>\n      <th>50%</th>\n      <td>NaN</td>\n      <td>2.290926e+06</td>\n      <td>1289.500000</td>\n      <td>15.000000</td>\n      <td>428.000000</td>\n      <td>5.000000</td>\n      <td>5692.500000</td>\n      <td>1.000000</td>\n    </tr>\n    <tr>\n      <th>75%</th>\n      <td>NaN</td>\n      <td>6.572700e+06</td>\n      <td>8943.000000</td>\n      <td>141.000000</td>\n      <td>2000.000000</td>\n      <td>55.000000</td>\n      <td>14888.000000</td>\n      <td>3.000000</td>\n    </tr>\n    <tr>\n      <th>max</th>\n      <td>NaN</td>\n      <td>1.633807e+08</td>\n      <td>312074.000000</td>\n      <td>1185.000000</td>\n      <td>79984.000000</td>\n      <td>2186.000000</td>\n      <td>264079.000000</td>\n      <td>191.000000</td>\n    </tr>\n  </tbody>\n</table>\n</div>"
     },
     "execution_count": 11,
     "metadata": {},
     "output_type": "execute_result"
    }
   ],
   "source": [
    "# Define a dictionary for the new categories\n",
    "new_categories = {'Baixa Tensão': 1.0, 'Muito Alta, Alta e Média Tensões': 2.0}\n",
    "\n",
    "# Replace the values\n",
    "merged_df['nível_de_tensão'] = merged_df['nível_de_tensão'].map(new_categories)\n",
    "\n",
    "# Check the new DataFrame info\n",
    "merged_df.info()\n",
    "\n",
    "merged_df.describe()\n",
    "\n"
   ],
   "metadata": {
    "collapsed": false,
    "ExecuteTime": {
     "end_time": "2024-04-17T17:44:38.158325Z",
     "start_time": "2024-04-17T17:44:38.140640Z"
    }
   },
   "id": "e2d691b02aa9df24",
   "execution_count": 11
  },
  {
   "cell_type": "code",
   "outputs": [
    {
     "data": {
      "text/plain": "<Figure size 640x480 with 1 Axes>",
      "image/png": "[encoded data removed]"
     },
     "metadata": {},
     "output_type": "display_data"
    },
    {
     "name": "stdout",
     "output_type": "stream",
     "text": [
      "Intervalo 1: 1899.00 - 3049339.70\n",
      "Intervalo 2: 3049339.70 - 7692539.89\n",
      "Intervalo 3: 7692539.89 - 14389522.38\n",
      "Intervalo 4: 14389522.38 - 23113536.86\n",
      "Intervalo 5: 23113536.86 - 33827252.24\n",
      "Intervalo 6: 33827252.24 - 46513154.96\n",
      "Intervalo 7: 46513154.96 - 60350753.76\n",
      "Intervalo 8: 60350753.76 - 72705673.92\n",
      "Intervalo 9: 72705673.92 - 85083567.47\n",
      "Intervalo 10: 85083567.47 - 101821851.54\n",
      "Intervalo 11: 101821851.54 - 117833889.97\n",
      "Intervalo 12: 117833889.97 - 128347031.33\n",
      "Intervalo 13: 128347031.33 - 138614964.82\n",
      "Intervalo 14: 138614964.82 - 153158179.80\n",
      "Intervalo 15: 153158179.80 - 163380671.51\n",
      "Valores unicos energia ativa: \n"
     ]
    },
    {
     "data": {
      "text/plain": "      nível_de_tensão   ano mês  energia_ativa_(kwh)  cpes_doméstico  \\\n0                 NaN  2022   8          5906036.429         20260.0   \n1                 NaN  2022   9          5316878.736         20270.0   \n2                 NaN  2022  10          5428732.778         20280.0   \n3                 NaN  2022  11          5843266.356         20291.0   \n4                 NaN  2022  12          6778130.292         20297.0   \n...               ...   ...  ..                  ...             ...   \n9785              NaN  2023   9          2362739.409             0.0   \n9786              NaN  2023  10          2434894.975             0.0   \n9787              NaN  2023  11          2287322.884             0.0   \n9788              NaN  2023  12          2324876.442             0.0   \n9789              NaN  2024   1           784013.000             0.0   \n\n      cpes_iluminação_pública  cpes_não_doméstico  cpes_outros  \\\n0                       293.0              4318.0         83.0   \n1                       293.0              4311.0         81.0   \n2                       293.0              4302.0         81.0   \n3                       293.0              4308.0         80.0   \n4                       294.0              4312.0         82.0   \n...                       ...                 ...          ...   \n9785                      0.0                65.0          0.0   \n9786                      0.0                65.0          0.0   \n9787                      0.0                66.0          0.0   \n9788                      0.0                66.0          0.0   \n9789                      0.0                66.0          0.0   \n\n      cpes_mobilidade_eletrica_não  cpes_mobilidade_eletrica_sim  \\\n0                          11097.0                           1.0   \n1                          11298.0                           1.0   \n2                          11563.0                           1.0   \n3                          11969.0                           1.0   \n4                          12210.0                           1.0   \n...                            ...                           ...   \n9785                        7438.0                           2.0   \n9786                        7617.0                           2.0   \n9787                        7797.0                           2.0   \n9788                        8191.0                           2.0   \n9789                        8014.0                           2.0   \n\n                        energia_ativa_bins  \n0     Intervalo 2: 3049339.70 - 7692539.89  \n1     Intervalo 2: 3049339.70 - 7692539.89  \n2     Intervalo 2: 3049339.70 - 7692539.89  \n3     Intervalo 2: 3049339.70 - 7692539.89  \n4     Intervalo 2: 3049339.70 - 7692539.89  \n...                                    ...  \n9785     Intervalo 1: 1899.00 - 3049339.70  \n9786     Intervalo 1: 1899.00 - 3049339.70  \n9787     Intervalo 1: 1899.00 - 3049339.70  \n9788     Intervalo 1: 1899.00 - 3049339.70  \n9789     Intervalo 1: 1899.00 - 3049339.70  \n\n[9790 rows x 11 columns]",
      "text/html": "<div>\n<style scoped>\n    .dataframe tbody tr th:only-of-type {\n        vertical-align: middle;\n    }\n\n    .dataframe tbody tr th {\n        vertical-align: top;\n    }\n\n    .dataframe thead th {\n        text-align: right;\n    }\n</style>\n<table border=\"1\" class=\"dataframe\">\n  <thead>\n    <tr style=\"text-align: right;\">\n      <th></th>\n      <th>nível_de_tensão</th>\n      <th>ano</th>\n      <th>mês</th>\n      <th>energia_ativa_(kwh)</th>\n      <th>cpes_doméstico</th>\n      <th>cpes_iluminação_pública</th>\n      <th>cpes_não_doméstico</th>\n      <th>cpes_outros</th>\n      <th>cpes_mobilidade_eletrica_não</th>\n      <th>cpes_mobilidade_eletrica_sim</th>\n      <th>energia_ativa_bins</th>\n    </tr>\n  </thead>\n  <tbody>\n    <tr>\n      <th>0</th>\n      <td>NaN</td>\n      <td>2022</td>\n      <td>8</td>\n      <td>5906036.429</td>\n      <td>20260.0</td>\n      <td>293.0</td>\n      <td>4318.0</td>\n      <td>83.0</td>\n      <td>11097.0</td>\n      <td>1.0</td>\n      <td>Intervalo 2: 3049339.70 - 7692539.89</td>\n    </tr>\n    <tr>\n      <th>1</th>\n      <td>NaN</td>\n      <td>2022</td>\n      <td>9</td>\n      <td>5316878.736</td>\n      <td>20270.0</td>\n      <td>293.0</td>\n      <td>4311.0</td>\n      <td>81.0</td>\n      <td>11298.0</td>\n      <td>1.0</td>\n      <td>Intervalo 2: 3049339.70 - 7692539.89</td>\n    </tr>\n    <tr>\n      <th>2</th>\n      <td>NaN</td>\n      <td>2022</td>\n      <td>10</td>\n      <td>5428732.778</td>\n      <td>20280.0</td>\n      <td>293.0</td>\n      <td>4302.0</td>\n      <td>81.0</td>\n      <td>11563.0</td>\n      <td>1.0</td>\n      <td>Intervalo 2: 3049339.70 - 7692539.89</td>\n    </tr>\n    <tr>\n      <th>3</th>\n      <td>NaN</td>\n      <td>2022</td>\n      <td>11</td>\n      <td>5843266.356</td>\n      <td>20291.0</td>\n      <td>293.0</td>\n      <td>4308.0</td>\n      <td>80.0</td>\n      <td>11969.0</td>\n      <td>1.0</td>\n      <td>Intervalo 2: 3049339.70 - 7692539.89</td>\n    </tr>\n    <tr>\n      <th>4</th>\n      <td>NaN</td>\n      <td>2022</td>\n      <td>12</td>\n      <td>6778130.292</td>\n      <td>20297.0</td>\n      <td>294.0</td>\n      <td>4312.0</td>\n      <td>82.0</td>\n      <td>12210.0</td>\n      <td>1.0</td>\n      <td>Intervalo 2: 3049339.70 - 7692539.89</td>\n    </tr>\n    <tr>\n      <th>...</th>\n      <td>...</td>\n      <td>...</td>\n      <td>...</td>\n      <td>...</td>\n      <td>...</td>\n      <td>...</td>\n      <td>...</td>\n      <td>...</td>\n      <td>...</td>\n      <td>...</td>\n      <td>...</td>\n    </tr>\n    <tr>\n      <th>9785</th>\n      <td>NaN</td>\n      <td>2023</td>\n      <td>9</td>\n      <td>2362739.409</td>\n      <td>0.0</td>\n      <td>0.0</td>\n      <td>65.0</td>\n      <td>0.0</td>\n      <td>7438.0</td>\n      <td>2.0</td>\n      <td>Intervalo 1: 1899.00 - 3049339.70</td>\n    </tr>\n    <tr>\n      <th>9786</th>\n      <td>NaN</td>\n      <td>2023</td>\n      <td>10</td>\n      <td>2434894.975</td>\n      <td>0.0</td>\n      <td>0.0</td>\n      <td>65.0</td>\n      <td>0.0</td>\n      <td>7617.0</td>\n      <td>2.0</td>\n      <td>Intervalo 1: 1899.00 - 3049339.70</td>\n    </tr>\n    <tr>\n      <th>9787</th>\n      <td>NaN</td>\n      <td>2023</td>\n      <td>11</td>\n      <td>2287322.884</td>\n      <td>0.0</td>\n      <td>0.0</td>\n      <td>66.0</td>\n      <td>0.0</td>\n      <td>7797.0</td>\n      <td>2.0</td>\n      <td>Intervalo 1: 1899.00 - 3049339.70</td>\n    </tr>\n    <tr>\n      <th>9788</th>\n      <td>NaN</td>\n      <td>2023</td>\n      <td>12</td>\n      <td>2324876.442</td>\n      <td>0.0</td>\n      <td>0.0</td>\n      <td>66.0</td>\n      <td>0.0</td>\n      <td>8191.0</td>\n      <td>2.0</td>\n      <td>Intervalo 1: 1899.00 - 3049339.70</td>\n    </tr>\n    <tr>\n      <th>9789</th>\n      <td>NaN</td>\n      <td>2024</td>\n      <td>1</td>\n      <td>784013.000</td>\n      <td>0.0</td>\n      <td>0.0</td>\n      <td>66.0</td>\n      <td>0.0</td>\n      <td>8014.0</td>\n      <td>2.0</td>\n      <td>Intervalo 1: 1899.00 - 3049339.70</td>\n    </tr>\n  </tbody>\n</table>\n<p>9790 rows × 11 columns</p>\n</div>"
     },
     "execution_count": 39,
     "metadata": {},
     "output_type": "execute_result"
    }
   ],
   "source": [
    "energia_ativa = merged_df[\"energia_ativa_(kwh)\"]\n",
    "\n",
    "# Criar um binning por percentis com 15 bins\n",
    "discretizer = KBinsDiscretizer(n_bins=15, strategy=\"kmeans\", subsample=None)\n",
    "\n",
    "# Ajustar o discretizador aos dados e transformá-los em bins\n",
    "bins = discretizer.fit_transform(energia_ativa.values.reshape(-1, 1))\n",
    "\n",
    "# Converter a matriz esparsa em uma matriz densa\n",
    "bins_dense = bins.toarray()\n",
    "\n",
    "# Histograma dos bins\n",
    "plt.hist(bins_dense, bins=15)\n",
    "plt.xlabel('Bin')\n",
    "plt.ylabel('Frequência')\n",
    "plt.title('Histograma dos Bins')\n",
    "plt.show()\n",
    "\n",
    "# Obter os limites dos intervalos dos bins\n",
    "bin_edges = discretizer.bin_edges_[0]\n",
    "\n",
    "# Criar uma lista de categorias com base nos limites dos intervalos\n",
    "categorias = [f'Intervalo {i+1}: {bin_edges[i]:.2f} - {bin_edges[i+1]:.2f}' for i in range(len(bin_edges)-1)]\n",
    "\n",
    "# Imprimir as categorias\n",
    "for categoria in categorias:\n",
    "    print(categoria)\n",
    "\n",
    "# Mapear os valores originais para os intervalos discretizados\n",
    "merged_df['energia_ativa_bins'] = pd.cut(energia_ativa,\n",
    "                                         bins=discretizer.bin_edges_[0],\n",
    "                                         labels=categorias,\n",
    "                                         include_lowest=True)\n",
    "\n",
    "# Exibir os primeiros registros do DataFrame para verificar as mudanças\n",
    "merged_df.head()\n",
    "print(f\"Valores unicos energia ativa: \\n\")\n",
    "merged_df['energia_ativa_bins'].unique()\n",
    "\n",
    "merged_df\n"
   ],
   "metadata": {
    "collapsed": false,
    "ExecuteTime": {
     "end_time": "2024-04-17T18:06:24.987452Z",
     "start_time": "2024-04-17T18:06:24.763388Z"
    }
   },
   "id": "fdd55d7f4df58219",
   "execution_count": 39
  },
  {
   "cell_type": "code",
   "outputs": [],
   "source": [],
   "metadata": {
    "collapsed": false
   },
   "id": "368dfe27f859b6ef"
  }
 ],
 "metadata": {
  "kernelspec": {
   "display_name": "Python 3",
   "language": "python",
   "name": "python3"
  },
  "language_info": {
   "codemirror_mode": {
    "name": "ipython",
    "version": 2
   },
   "file_extension": ".py",
   "mimetype": "text/x-python",
   "name": "python",
   "nbconvert_exporter": "python",
   "pygments_lexer": "ipython2",
   "version": "2.7.6"
  }
 },
 "nbformat": 4,
 "nbformat_minor": 5
}
