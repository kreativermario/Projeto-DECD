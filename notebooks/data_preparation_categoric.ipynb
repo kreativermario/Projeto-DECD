{
 "cells": [
  {
   "cell_type": "markdown",
   "source": [
    "# Preparação dos dados"
   ],
   "metadata": {
    "collapsed": false
   },
   "id": "f2f0ee3f84d00207"
  },
  {
   "cell_type": "code",
   "outputs": [],
   "source": [
    "import os\n",
    "\n",
    "import numpy as np\n",
    "import pandas as pd\n",
    "\n",
    "%matplotlib inline\n",
    "import matplotlib.pyplot as plt\n",
    "import seaborn as sns\n",
    "from sklearn.preprocessing import KBinsDiscretizer\n",
    "\n",
    "sns.set_theme()"
   ],
   "metadata": {
    "collapsed": false,
    "ExecuteTime": {
     "end_time": "2024-04-18T15:31:54.749952Z",
     "start_time": "2024-04-18T15:31:54.712817Z"
    }
   },
   "id": "f7bcb348da1232f9",
   "execution_count": 1
  },
  {
   "cell_type": "markdown",
   "source": [
    "## Importar dataset"
   ],
   "metadata": {
    "collapsed": false
   },
   "id": "d037479371e8387f"
  },
  {
   "cell_type": "code",
   "outputs": [],
   "source": [
    "data_path = '../data/' if os.path.exists('../data/') else 'https://raw.githubusercontent.com/kreativermario/Projeto-DECD/master/data/'\n",
    "\n",
    "merged_path = data_path + 'treated/merged-dataset.csv'\n",
    "\n",
    "merged_df = pd.read_csv(merged_path)"
   ],
   "metadata": {
    "collapsed": false,
    "ExecuteTime": {
     "end_time": "2024-04-18T15:31:54.755686Z",
     "start_time": "2024-04-18T15:31:54.751098Z"
    }
   },
   "id": "8f86e02d2d380a78",
   "execution_count": 2
  },
  {
   "cell_type": "markdown",
   "source": [
    "## Criar o conjunto totalmente categórico\n",
    "- Visualizar os gráficos e ver a distribuição das variáveis.\n",
    "- Ver quantos outliers existem por variável"
   ],
   "metadata": {
    "collapsed": false
   },
   "id": "1d6013ebc9d43413"
  },
  {
   "cell_type": "code",
   "outputs": [
    {
     "name": "stdout",
     "output_type": "stream",
     "text": [
      "<class 'pandas.core.frame.DataFrame'>\n",
      "RangeIndex: 4914 entries, 0 to 4913\n",
      "Data columns (total 14 columns):\n",
      " #   Column                                     Non-Null Count  Dtype\n",
      "---  ------                                     --------------  -----\n",
      " 0   ano                                        4914 non-null   int64\n",
      " 1   mês                                        4914 non-null   int64\n",
      " 2   energia_ativa_baixa_tensao_kwh             4914 non-null   int64\n",
      " 3   energia_ativa_alta_tensao_kwh              4914 non-null   int64\n",
      " 4   cpes_domestico_baixa_tensao                4914 non-null   int64\n",
      " 5   cpes_domestico_alta_tensao                 4914 non-null   int64\n",
      " 6   cpes_iluminacao_publica_baixa_tensao       4914 non-null   int64\n",
      " 7   cpes_iluminacao_publica_alta_tensao        4914 non-null   int64\n",
      " 8   cpes_nao_domestico_baixa_tensao            4914 non-null   int64\n",
      " 9   cpes_nao_domestico_alta_tensao             4914 non-null   int64\n",
      " 10  cpes_outros_baixa_tensao                   4914 non-null   int64\n",
      " 11  cpes_outros_alta_tensao                    4914 non-null   int64\n",
      " 12  cpes_mobilidade_eletrica_nao_baixa_tensao  4914 non-null   int64\n",
      " 13  cpes_mobilidade_eletrica_sim_baixa_tensao  4914 non-null   int64\n",
      "dtypes: int64(14)\n",
      "memory usage: 537.6 KB\n"
     ]
    }
   ],
   "source": [
    "merged_df.info()"
   ],
   "metadata": {
    "collapsed": false,
    "ExecuteTime": {
     "end_time": "2024-04-18T15:31:54.761084Z",
     "start_time": "2024-04-18T15:31:54.756154Z"
    }
   },
   "id": "220c30bfab496189",
   "execution_count": 3
  },
  {
   "cell_type": "markdown",
   "source": [
    "### Sabendo a estrutura de dados do dataset, existem algumas variáveis que são obviamente categóricas.\n",
    "- São: nível_de_tensão, ano, mês\n",
    "- Pode-se observar esse facto utilizando a função unique()"
   ],
   "metadata": {
    "collapsed": false
   },
   "id": "ab3703c956a5dbda"
  },
  {
   "cell_type": "code",
   "outputs": [
    {
     "name": "stdout",
     "output_type": "stream",
     "text": [
      "Valores únicos em ano: [2022 2023 2024]\n",
      "Valores únicos em mês: [ 8  9 10 11 12  1  2  3  4  5  6  7]\n"
     ]
    }
   ],
   "source": [
    "categorical_columns = ['ano', 'mês']\n",
    "for column in categorical_columns:\n",
    "    print(f\"Valores únicos em {column}: {merged_df[column].unique()}\")\n"
   ],
   "metadata": {
    "collapsed": false,
    "ExecuteTime": {
     "end_time": "2024-04-18T15:31:54.764060Z",
     "start_time": "2024-04-18T15:31:54.761217Z"
    }
   },
   "id": "62ec78f9b7c49ad1",
   "execution_count": 4
  },
  {
   "cell_type": "markdown",
   "source": [
    "- Transformar em categórico"
   ],
   "metadata": {
    "collapsed": false
   },
   "id": "af2a3c8ee206f04a"
  },
  {
   "cell_type": "code",
   "outputs": [
    {
     "name": "stdout",
     "output_type": "stream",
     "text": [
      "<class 'pandas.core.frame.DataFrame'>\n",
      "RangeIndex: 4914 entries, 0 to 4913\n",
      "Data columns (total 14 columns):\n",
      " #   Column                                     Non-Null Count  Dtype   \n",
      "---  ------                                     --------------  -----   \n",
      " 0   ano                                        4914 non-null   category\n",
      " 1   mês                                        4914 non-null   category\n",
      " 2   energia_ativa_baixa_tensao_kwh             4914 non-null   int64   \n",
      " 3   energia_ativa_alta_tensao_kwh              4914 non-null   int64   \n",
      " 4   cpes_domestico_baixa_tensao                4914 non-null   int64   \n",
      " 5   cpes_domestico_alta_tensao                 4914 non-null   int64   \n",
      " 6   cpes_iluminacao_publica_baixa_tensao       4914 non-null   int64   \n",
      " 7   cpes_iluminacao_publica_alta_tensao        4914 non-null   int64   \n",
      " 8   cpes_nao_domestico_baixa_tensao            4914 non-null   int64   \n",
      " 9   cpes_nao_domestico_alta_tensao             4914 non-null   int64   \n",
      " 10  cpes_outros_baixa_tensao                   4914 non-null   int64   \n",
      " 11  cpes_outros_alta_tensao                    4914 non-null   int64   \n",
      " 12  cpes_mobilidade_eletrica_nao_baixa_tensao  4914 non-null   int64   \n",
      " 13  cpes_mobilidade_eletrica_sim_baixa_tensao  4914 non-null   int64   \n",
      "dtypes: category(2), int64(12)\n",
      "memory usage: 470.9 KB\n"
     ]
    }
   ],
   "source": [
    "merged_df['ano'] = merged_df['ano'].astype('category')\n",
    "merged_df['mês'] = merged_df['mês'].astype('category')\n",
    "merged_df.info()"
   ],
   "metadata": {
    "collapsed": false,
    "ExecuteTime": {
     "end_time": "2024-04-18T15:31:54.769583Z",
     "start_time": "2024-04-18T15:31:54.764274Z"
    }
   },
   "id": "bbd2994107687765",
   "execution_count": 5
  },
  {
   "cell_type": "markdown",
   "source": [
    "### Discretizar a variável energia ativa baixa tensao kwh"
   ],
   "metadata": {
    "collapsed": false
   },
   "id": "641d23fabe857e60"
  },
  {
   "cell_type": "markdown",
   "source": [
    "O número de bins foi escolhido olhando para o histograma de distribuição dos valores da variável"
   ],
   "metadata": {
    "collapsed": false
   },
   "id": "90e9338ade1b5949"
  },
  {
   "cell_type": "code",
   "outputs": [
    {
     "data": {
      "text/plain": "<Figure size 640x480 with 1 Axes>",
      "image/png": "[encoded data removed]"
     },
     "metadata": {},
     "output_type": "display_data"
    },
    {
     "name": "stdout",
     "output_type": "stream",
     "text": [
      "139066.00 - 2983911.75\n",
      "2983911.75 - 6866211.91\n",
      "6866211.91 - 12252934.51\n",
      "12252934.51 - 18464831.15\n",
      "18464831.15 - 25417395.44\n",
      "25417395.44 - 34389550.85\n",
      "34389550.85 - 47076139.34\n",
      "47076139.34 - 62674180.04\n",
      "62674180.04 - 97910537.38\n",
      "97910537.38 - 128771723.03\n",
      "128771723.03 - 138614964.27\n",
      "138614964.27 - 152274526.67\n",
      "152274526.67 - 161613366.00\n",
      "161613366.00 - 163380671.00\n",
      "Valores unicos energia_ativa_baixa_tensao_kwh: ['2983911.75 - 6866211.91', '6866211.91 - 12252934.51', '139066.00 - 2983911.75', '18464831.15 - 25417395.44', '12252934.51 - 18464831.15', ..., '128771723.03 - 138614964.27', '138614964.27 - 152274526.67', '161613366.00 - 163380671.00', '152274526.67 - 161613366.00', '62674180.04 - 97910537.38']\n",
      "Length: 14\n",
      "Categories (14, object): ['139066.00 - 2983911.75' < '2983911.75 - 6866211.91' < '6866211.91 - 12252934.51' < '12252934.51 - 18464831.15' ... '128771723.03 - 138614964.27' < '138614964.27 - 152274526.67' < '152274526.67 - 161613366.00' < '161613366.00 - 163380671.00']\n",
      "<class 'pandas.core.frame.DataFrame'>\n",
      "RangeIndex: 4914 entries, 0 to 4913\n",
      "Data columns (total 14 columns):\n",
      " #   Column                                     Non-Null Count  Dtype   \n",
      "---  ------                                     --------------  -----   \n",
      " 0   ano                                        4914 non-null   category\n",
      " 1   mês                                        4914 non-null   category\n",
      " 2   energia_ativa_baixa_tensao_kwh             4914 non-null   category\n",
      " 3   energia_ativa_alta_tensao_kwh              4914 non-null   int64   \n",
      " 4   cpes_domestico_baixa_tensao                4914 non-null   int64   \n",
      " 5   cpes_domestico_alta_tensao                 4914 non-null   int64   \n",
      " 6   cpes_iluminacao_publica_baixa_tensao       4914 non-null   int64   \n",
      " 7   cpes_iluminacao_publica_alta_tensao        4914 non-null   int64   \n",
      " 8   cpes_nao_domestico_baixa_tensao            4914 non-null   int64   \n",
      " 9   cpes_nao_domestico_alta_tensao             4914 non-null   int64   \n",
      " 10  cpes_outros_baixa_tensao                   4914 non-null   int64   \n",
      " 11  cpes_outros_alta_tensao                    4914 non-null   int64   \n",
      " 12  cpes_mobilidade_eletrica_nao_baixa_tensao  4914 non-null   int64   \n",
      " 13  cpes_mobilidade_eletrica_sim_baixa_tensao  4914 non-null   int64   \n",
      "dtypes: category(3), int64(11)\n",
      "memory usage: 438.0 KB\n"
     ]
    }
   ],
   "source": [
    "# Parametros\n",
    "coluna = \"energia_ativa_baixa_tensao_kwh\"\n",
    "energia_ativa_baixa = merged_df[coluna]\n",
    "num_bins = 14\n",
    "\n",
    "\n",
    "# Criar um binning por percentis com 20 bins\n",
    "discretizer = KBinsDiscretizer(n_bins=num_bins, strategy=\"kmeans\", subsample=None)\n",
    "\n",
    "# Ajustar o discretizador aos dados e transformá-los em bins\n",
    "bins = discretizer.fit_transform(energia_ativa_baixa.values.reshape(-1, 1))\n",
    "\n",
    "# Converter a matriz esparsa em uma matriz densa\n",
    "bins_dense = bins.toarray()\n",
    "\n",
    "# Histograma dos bins\n",
    "plt.hist(bins_dense, bins=num_bins)\n",
    "plt.xlabel('Bin')\n",
    "plt.ylabel('Frequência')\n",
    "plt.title('Histograma dos Bins')\n",
    "plt.show()\n",
    "\n",
    "# Obter os limites dos intervalos dos bins\n",
    "bin_edges = discretizer.bin_edges_[0]\n",
    "\n",
    "# Criar uma lista de categorias com base nos limites dos intervalos\n",
    "categorias = [f'{bin_edges[i]:.2f} - {bin_edges[i+1]:.2f}' for i in range(len(bin_edges)-1)]\n",
    "\n",
    "# Imprimir as categorias\n",
    "for categoria in categorias:\n",
    "    print(categoria)\n",
    "\n",
    "# Mapear os valores originais para os intervalos discretizados\n",
    "merged_df[coluna] = pd.cut(energia_ativa_baixa,\n",
    "                                         bins=discretizer.bin_edges_[0],\n",
    "                                         labels=categorias,\n",
    "                                         include_lowest=True)\n",
    "\n",
    "# Exibir os primeiros registros do DataFrame para verificar as mudanças\n",
    "merged_df.head()\n",
    "print(f\"Valores unicos {coluna}: {merged_df[coluna].unique()}\")\n",
    "\n",
    "merged_df\n",
    "\n",
    "merged_df.info()\n"
   ],
   "metadata": {
    "collapsed": false,
    "ExecuteTime": {
     "end_time": "2024-04-18T15:31:55.374859Z",
     "start_time": "2024-04-18T15:31:54.770721Z"
    }
   },
   "id": "fdd55d7f4df58219",
   "execution_count": 6
  },
  {
   "cell_type": "markdown",
   "source": [
    "### Discretizar a variável energia ativa alta tensao kwh"
   ],
   "metadata": {
    "collapsed": false
   },
   "id": "8f392e67d465174b"
  },
  {
   "cell_type": "code",
   "outputs": [
    {
     "data": {
      "text/plain": "<Figure size 640x480 with 1 Axes>",
      "image/png": "[encoded data removed]"
     },
     "metadata": {},
     "output_type": "display_data"
    },
    {
     "name": "stdout",
     "output_type": "stream",
     "text": [
      "0.00 - 3353532.66\n",
      "3353532.66 - 9317038.68\n",
      "9317038.68 - 18336169.09\n",
      "18336169.09 - 28225548.10\n",
      "28225548.10 - 37597633.55\n",
      "37597633.55 - 46732665.71\n",
      "46732665.71 - 54151023.47\n",
      "54151023.47 - 62644871.22\n",
      "62644871.22 - 72220494.36\n",
      "72220494.36 - 80429035.37\n",
      "80429035.37 - 88237258.67\n",
      "88237258.67 - 94821507.42\n",
      "94821507.42 - 103652328.36\n",
      "103652328.36 - 113154420.11\n",
      "113154420.11 - 120239728.65\n",
      "120239728.65 - 127947012.00\n",
      "Valores unicos energia_ativa_alta_tensao_kwh: ['3353532.66 - 9317038.68', '0.00 - 3353532.66', '9317038.68 - 18336169.09', '18336169.09 - 28225548.10', '37597633.55 - 46732665.71', ..., '113154420.11 - 120239728.65', '103652328.36 - 113154420.11', '94821507.42 - 103652328.36', '80429035.37 - 88237258.67', '88237258.67 - 94821507.42']\n",
      "Length: 16\n",
      "Categories (16, object): ['0.00 - 3353532.66' < '3353532.66 - 9317038.68' < '9317038.68 - 18336169.09' < '18336169.09 - 28225548.10' ... '94821507.42 - 103652328.36' < '103652328.36 - 113154420.11' < '113154420.11 - 120239728.65' < '120239728.65 - 127947012.00']\n",
      "<class 'pandas.core.frame.DataFrame'>\n",
      "RangeIndex: 4914 entries, 0 to 4913\n",
      "Data columns (total 14 columns):\n",
      " #   Column                                     Non-Null Count  Dtype   \n",
      "---  ------                                     --------------  -----   \n",
      " 0   ano                                        4914 non-null   category\n",
      " 1   mês                                        4914 non-null   category\n",
      " 2   energia_ativa_baixa_tensao_kwh             4914 non-null   category\n",
      " 3   energia_ativa_alta_tensao_kwh              4914 non-null   category\n",
      " 4   cpes_domestico_baixa_tensao                4914 non-null   int64   \n",
      " 5   cpes_domestico_alta_tensao                 4914 non-null   int64   \n",
      " 6   cpes_iluminacao_publica_baixa_tensao       4914 non-null   int64   \n",
      " 7   cpes_iluminacao_publica_alta_tensao        4914 non-null   int64   \n",
      " 8   cpes_nao_domestico_baixa_tensao            4914 non-null   int64   \n",
      " 9   cpes_nao_domestico_alta_tensao             4914 non-null   int64   \n",
      " 10  cpes_outros_baixa_tensao                   4914 non-null   int64   \n",
      " 11  cpes_outros_alta_tensao                    4914 non-null   int64   \n",
      " 12  cpes_mobilidade_eletrica_nao_baixa_tensao  4914 non-null   int64   \n",
      " 13  cpes_mobilidade_eletrica_sim_baixa_tensao  4914 non-null   int64   \n",
      "dtypes: category(4), int64(10)\n",
      "memory usage: 405.1 KB\n"
     ]
    }
   ],
   "source": [
    "# Parametros\n",
    "coluna = \"energia_ativa_alta_tensao_kwh\"\n",
    "energia_ativa_alta = merged_df[coluna]\n",
    "num_bins = 16\n",
    "\n",
    "\n",
    "# Criar um binning por percentis com 20 bins\n",
    "discretizer = KBinsDiscretizer(n_bins=num_bins, strategy=\"kmeans\", subsample=None)\n",
    "\n",
    "# Ajustar o discretizador aos dados e transformá-los em bins\n",
    "bins = discretizer.fit_transform(energia_ativa_alta.values.reshape(-1, 1))\n",
    "\n",
    "# Converter a matriz esparsa em uma matriz densa\n",
    "bins_dense = bins.toarray()\n",
    "\n",
    "# Histograma dos bins\n",
    "plt.hist(bins_dense, bins=num_bins)\n",
    "plt.xlabel('Bin')\n",
    "plt.ylabel('Frequência')\n",
    "plt.title('Histograma dos Bins')\n",
    "plt.show()\n",
    "\n",
    "# Obter os limites dos intervalos dos bins\n",
    "bin_edges = discretizer.bin_edges_[0]\n",
    "\n",
    "# Criar uma lista de categorias com base nos limites dos intervalos\n",
    "categorias = [f'{bin_edges[i]:.2f} - {bin_edges[i+1]:.2f}' for i in range(len(bin_edges)-1)]\n",
    "\n",
    "# Imprimir as categorias\n",
    "for categoria in categorias:\n",
    "    print(categoria)\n",
    "\n",
    "# Mapear os valores originais para os intervalos discretizados\n",
    "merged_df[coluna] = pd.cut(energia_ativa_alta,\n",
    "                                         bins=discretizer.bin_edges_[0],\n",
    "                                         labels=categorias,\n",
    "                                         include_lowest=True)\n",
    "\n",
    "# Exibir os primeiros registros do DataFrame para verificar as mudanças\n",
    "merged_df.head()\n",
    "print(f\"Valores unicos {coluna}: {merged_df[coluna].unique()}\")\n",
    "\n",
    "merged_df\n",
    "\n",
    "merged_df.info()\n"
   ],
   "metadata": {
    "collapsed": false,
    "ExecuteTime": {
     "end_time": "2024-04-18T15:31:55.532550Z",
     "start_time": "2024-04-18T15:31:55.376448Z"
    }
   },
   "id": "368dfe27f859b6ef",
   "execution_count": 7
  },
  {
   "cell_type": "markdown",
   "source": [
    "### Discretizar CPEs domestico baixa tensao"
   ],
   "metadata": {
    "collapsed": false
   },
   "id": "9de0063a2f9ca395"
  },
  {
   "cell_type": "code",
   "outputs": [
    {
     "data": {
      "text/plain": "<Figure size 640x480 with 1 Axes>",
      "image/png": "[encoded data removed]"
     },
     "metadata": {},
     "output_type": "display_data"
    },
    {
     "name": "stdout",
     "output_type": "stream",
     "text": [
      "1042.00 - 3196.96\n",
      "3196.96 - 5377.91\n",
      "5377.91 - 8752.42\n",
      "8752.42 - 14844.51\n",
      "14844.51 - 22924.60\n",
      "22924.60 - 32321.75\n",
      "32321.75 - 40878.28\n",
      "40878.28 - 47539.03\n",
      "47539.03 - 51189.70\n",
      "51189.70 - 51437.25\n",
      "51437.25 - 51535.00\n",
      "51535.00 - 51587.00\n",
      "51587.00 - 55588.09\n",
      "55588.09 - 63298.13\n",
      "63298.13 - 71336.46\n",
      "71336.46 - 77612.73\n",
      "77612.73 - 83044.27\n",
      "83044.27 - 91443.45\n",
      "91443.45 - 101614.67\n",
      "101614.67 - 122348.14\n",
      "122348.14 - 155412.44\n",
      "155412.44 - 240790.42\n",
      "240790.42 - 309977.89\n",
      "309977.89 - 312074.00\n",
      "Valores unicos cpes_domestico_baixa_tensao: ['14844.51 - 22924.60', '3196.96 - 5377.91', '8752.42 - 14844.51', '40878.28 - 47539.03', '5377.91 - 8752.42', ..., '47539.03 - 51189.70', '51189.70 - 51437.25', '51437.25 - 51535.00', '51535.00 - 51587.00', '51587.00 - 55588.09']\n",
      "Length: 24\n",
      "Categories (24, object): ['1042.00 - 3196.96' < '3196.96 - 5377.91' < '5377.91 - 8752.42' < '8752.42 - 14844.51' ... '122348.14 - 155412.44' < '155412.44 - 240790.42' < '240790.42 - 309977.89' < '309977.89 - 312074.00']\n",
      "<class 'pandas.core.frame.DataFrame'>\n",
      "RangeIndex: 4914 entries, 0 to 4913\n",
      "Data columns (total 14 columns):\n",
      " #   Column                                     Non-Null Count  Dtype   \n",
      "---  ------                                     --------------  -----   \n",
      " 0   ano                                        4914 non-null   category\n",
      " 1   mês                                        4914 non-null   category\n",
      " 2   energia_ativa_baixa_tensao_kwh             4914 non-null   category\n",
      " 3   energia_ativa_alta_tensao_kwh              4914 non-null   category\n",
      " 4   cpes_domestico_baixa_tensao                4914 non-null   category\n",
      " 5   cpes_domestico_alta_tensao                 4914 non-null   int64   \n",
      " 6   cpes_iluminacao_publica_baixa_tensao       4914 non-null   int64   \n",
      " 7   cpes_iluminacao_publica_alta_tensao        4914 non-null   int64   \n",
      " 8   cpes_nao_domestico_baixa_tensao            4914 non-null   int64   \n",
      " 9   cpes_nao_domestico_alta_tensao             4914 non-null   int64   \n",
      " 10  cpes_outros_baixa_tensao                   4914 non-null   int64   \n",
      " 11  cpes_outros_alta_tensao                    4914 non-null   int64   \n",
      " 12  cpes_mobilidade_eletrica_nao_baixa_tensao  4914 non-null   int64   \n",
      " 13  cpes_mobilidade_eletrica_sim_baixa_tensao  4914 non-null   int64   \n",
      "dtypes: category(5), int64(9)\n",
      "memory usage: 372.2 KB\n"
     ]
    }
   ],
   "source": [
    "# Parametros\n",
    "coluna = \"cpes_domestico_baixa_tensao\"\n",
    "cpes_domestico_baixa_tensao = merged_df[coluna]\n",
    "num_bins = 24\n",
    "\n",
    "\n",
    "# Criar um binning por percentis com 20 bins\n",
    "discretizer = KBinsDiscretizer(n_bins=num_bins, strategy=\"kmeans\", subsample=None)\n",
    "\n",
    "# Ajustar o discretizador aos dados e transformá-los em bins\n",
    "bins = discretizer.fit_transform(cpes_domestico_baixa_tensao.values.reshape(-1, 1))\n",
    "\n",
    "# Converter a matriz esparsa em uma matriz densa\n",
    "bins_dense = bins.toarray()\n",
    "\n",
    "# Histograma dos bins\n",
    "plt.hist(bins_dense, bins=num_bins)\n",
    "plt.xlabel('Bin')\n",
    "plt.ylabel('Frequência')\n",
    "plt.title('Histograma dos Bins')\n",
    "plt.show()\n",
    "\n",
    "# Obter os limites dos intervalos dos bins\n",
    "bin_edges = discretizer.bin_edges_[0]\n",
    "\n",
    "# Criar uma lista de categorias com base nos limites dos intervalos\n",
    "categorias = [f'{bin_edges[i]:.2f} - {bin_edges[i+1]:.2f}' for i in range(len(bin_edges)-1)]\n",
    "\n",
    "# Imprimir as categorias\n",
    "for categoria in categorias:\n",
    "    print(categoria)\n",
    "\n",
    "# Mapear os valores originais para os intervalos discretizados\n",
    "merged_df[coluna] = pd.cut(cpes_domestico_baixa_tensao,\n",
    "                                         bins=discretizer.bin_edges_[0],\n",
    "                                         labels=categorias,\n",
    "                                         include_lowest=True)\n",
    "\n",
    "# Exibir os primeiros registros do DataFrame para verificar as mudanças\n",
    "merged_df.head()\n",
    "print(f\"Valores unicos {coluna}: {merged_df[coluna].unique()}\")\n",
    "\n",
    "merged_df\n",
    "\n",
    "merged_df.info()\n"
   ],
   "metadata": {
    "collapsed": false,
    "ExecuteTime": {
     "end_time": "2024-04-18T15:31:55.783625Z",
     "start_time": "2024-04-18T15:31:55.534584Z"
    }
   },
   "id": "b19b017b453b0139",
   "execution_count": 8
  },
  {
   "cell_type": "markdown",
   "source": [
    "### Discretizar CPEs domestico alta tensao"
   ],
   "metadata": {
    "collapsed": false
   },
   "id": "8726b62c72ea183e"
  },
  {
   "cell_type": "code",
   "outputs": [
    {
     "data": {
      "text/plain": "<Figure size 640x480 with 1 Axes>",
      "image/png": "[encoded data removed]"
     },
     "metadata": {},
     "output_type": "display_data"
    },
    {
     "name": "stdout",
     "output_type": "stream",
     "text": [
      "0.00 - 0.54\n",
      "0.54 - 2.00\n",
      "Valores unicos cpes_domestico_alta_tensao: ['0.00 - 0.54', '0.54 - 2.00']\n",
      "Categories (2, object): ['0.00 - 0.54' < '0.54 - 2.00']\n",
      "<class 'pandas.core.frame.DataFrame'>\n",
      "RangeIndex: 4914 entries, 0 to 4913\n",
      "Data columns (total 14 columns):\n",
      " #   Column                                     Non-Null Count  Dtype   \n",
      "---  ------                                     --------------  -----   \n",
      " 0   ano                                        4914 non-null   category\n",
      " 1   mês                                        4914 non-null   category\n",
      " 2   energia_ativa_baixa_tensao_kwh             4914 non-null   category\n",
      " 3   energia_ativa_alta_tensao_kwh              4914 non-null   category\n",
      " 4   cpes_domestico_baixa_tensao                4914 non-null   category\n",
      " 5   cpes_domestico_alta_tensao                 4914 non-null   category\n",
      " 6   cpes_iluminacao_publica_baixa_tensao       4914 non-null   int64   \n",
      " 7   cpes_iluminacao_publica_alta_tensao        4914 non-null   int64   \n",
      " 8   cpes_nao_domestico_baixa_tensao            4914 non-null   int64   \n",
      " 9   cpes_nao_domestico_alta_tensao             4914 non-null   int64   \n",
      " 10  cpes_outros_baixa_tensao                   4914 non-null   int64   \n",
      " 11  cpes_outros_alta_tensao                    4914 non-null   int64   \n",
      " 12  cpes_mobilidade_eletrica_nao_baixa_tensao  4914 non-null   int64   \n",
      " 13  cpes_mobilidade_eletrica_sim_baixa_tensao  4914 non-null   int64   \n",
      "dtypes: category(6), int64(8)\n",
      "memory usage: 338.7 KB\n"
     ]
    }
   ],
   "source": [
    "# Parametros\n",
    "coluna = \"cpes_domestico_alta_tensao\"\n",
    "cpes_domestico_alta_tensao = merged_df[coluna]\n",
    "num_bins = 2\n",
    "\n",
    "\n",
    "# Criar um binning por percentis com 20 bins\n",
    "discretizer = KBinsDiscretizer(n_bins=num_bins, strategy=\"kmeans\", subsample=None)\n",
    "\n",
    "# Ajustar o discretizador aos dados e transformá-los em bins\n",
    "bins = discretizer.fit_transform(cpes_domestico_alta_tensao.values.reshape(-1, 1))\n",
    "\n",
    "# Converter a matriz esparsa em uma matriz densa\n",
    "bins_dense = bins.toarray()\n",
    "\n",
    "# Histograma dos bins\n",
    "plt.hist(bins_dense, bins=num_bins)\n",
    "plt.xlabel('Bin')\n",
    "plt.ylabel('Frequência')\n",
    "plt.title('Histograma dos Bins')\n",
    "plt.show()\n",
    "\n",
    "# Obter os limites dos intervalos dos bins\n",
    "bin_edges = discretizer.bin_edges_[0]\n",
    "\n",
    "# Criar uma lista de categorias com base nos limites dos intervalos\n",
    "categorias = [f'{bin_edges[i]:.2f} - {bin_edges[i+1]:.2f}' for i in range(len(bin_edges)-1)]\n",
    "\n",
    "# Imprimir as categorias\n",
    "for categoria in categorias:\n",
    "    print(categoria)\n",
    "\n",
    "# Mapear os valores originais para os intervalos discretizados\n",
    "merged_df[coluna] = pd.cut(cpes_domestico_alta_tensao,\n",
    "                                         bins=discretizer.bin_edges_[0],\n",
    "                                         labels=categorias,\n",
    "                                         include_lowest=True)\n",
    "\n",
    "# Exibir os primeiros registros do DataFrame para verificar as mudanças\n",
    "merged_df.head()\n",
    "print(f\"Valores unicos {coluna}: {merged_df[coluna].unique()}\")\n",
    "\n",
    "merged_df\n",
    "\n",
    "merged_df.info()\n"
   ],
   "metadata": {
    "collapsed": false,
    "ExecuteTime": {
     "end_time": "2024-04-18T15:31:55.858282Z",
     "start_time": "2024-04-18T15:31:55.787608Z"
    }
   },
   "id": "56c6c742191122e0",
   "execution_count": 9
  }
 ],
 "metadata": {
  "kernelspec": {
   "display_name": "Python 3",
   "language": "python",
   "name": "python3"
  },
  "language_info": {
   "codemirror_mode": {
    "name": "ipython",
    "version": 2
   },
   "file_extension": ".py",
   "mimetype": "text/x-python",
   "name": "python",
   "nbconvert_exporter": "python",
   "pygments_lexer": "ipython2",
   "version": "2.7.6"
  }
 },
 "nbformat": 4,
 "nbformat_minor": 5
}
