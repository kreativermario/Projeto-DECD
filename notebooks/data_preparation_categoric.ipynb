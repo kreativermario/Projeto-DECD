{
 "cells": [
  {
   "cell_type": "markdown",
   "source": [
    "# Preparação dos dados"
   ],
   "metadata": {
    "collapsed": false
   },
   "id": "f2f0ee3f84d00207"
  },
  {
   "cell_type": "code",
   "outputs": [],
   "source": [
    "import os\n",
    "\n",
    "import numpy as np\n",
    "import pandas as pd\n",
    "\n",
    "%matplotlib inline\n",
    "import matplotlib.pyplot as plt\n",
    "import seaborn as sns\n",
    "\n",
    "sns.set_theme()"
   ],
   "metadata": {
    "collapsed": false,
    "ExecuteTime": {
     "end_time": "2024-04-17T11:35:53.472955Z",
     "start_time": "2024-04-17T11:35:53.418267Z"
    }
   },
   "id": "f7bcb348da1232f9",
   "execution_count": 2
  },
  {
   "cell_type": "markdown",
   "source": [
    "## Importar dataset"
   ],
   "metadata": {
    "collapsed": false
   },
   "id": "d037479371e8387f"
  },
  {
   "cell_type": "code",
   "outputs": [],
   "source": [
    "data_path = '../data/' if os.path.exists('../data/') else 'https://raw.githubusercontent.com/kreativermario/Projeto-DECD/master/data/'\n",
    "\n",
    "merged_path = data_path + 'treated/merged-dataset.csv'\n",
    "\n",
    "merged_df = pd.read_csv(merged_path)"
   ],
   "metadata": {
    "collapsed": false,
    "ExecuteTime": {
     "end_time": "2024-04-17T11:35:53.476623Z",
     "start_time": "2024-04-17T11:35:53.433796Z"
    }
   },
   "id": "8f86e02d2d380a78",
   "execution_count": 3
  },
  {
   "cell_type": "markdown",
   "source": [
    "## Criar o conjunto totalmente categórico\n",
    "- Visualizar os gráficos e ver a distribuição das variáveis.\n",
    "- Ver quantos outliers existem por variável"
   ],
   "metadata": {
    "collapsed": false
   },
   "id": "1d6013ebc9d43413"
  },
  {
   "cell_type": "code",
   "outputs": [
    {
     "name": "stdout",
     "output_type": "stream",
     "text": [
      "<class 'pandas.core.frame.DataFrame'>\n",
      "RangeIndex: 9790 entries, 0 to 9789\n",
      "Data columns (total 10 columns):\n",
      " #   Column                        Non-Null Count  Dtype  \n",
      "---  ------                        --------------  -----  \n",
      " 0   nível_de_tensão               9790 non-null   object \n",
      " 1   ano                           9790 non-null   int64  \n",
      " 2   mês                           9790 non-null   int64  \n",
      " 3   energia_ativa_(kwh)           9790 non-null   float64\n",
      " 4   cpes_doméstico                9790 non-null   float64\n",
      " 5   cpes_iluminação_pública       9790 non-null   float64\n",
      " 6   cpes_não_doméstico            9790 non-null   float64\n",
      " 7   cpes_outros                   9790 non-null   float64\n",
      " 8   cpes_mobilidade_eletrica_não  9790 non-null   float64\n",
      " 9   cpes_mobilidade_eletrica_sim  9790 non-null   float64\n",
      "dtypes: float64(7), int64(2), object(1)\n",
      "memory usage: 765.0+ KB\n"
     ]
    }
   ],
   "source": [
    "merged_df.info()"
   ],
   "metadata": {
    "collapsed": false,
    "ExecuteTime": {
     "end_time": "2024-04-17T11:35:53.489829Z",
     "start_time": "2024-04-17T11:35:53.478510Z"
    }
   },
   "id": "220c30bfab496189",
   "execution_count": 4
  },
  {
   "cell_type": "markdown",
   "source": [
    "### Sabendo a estrutura de dados do dataset, existem algumas variáveis que são obviamente categóricas.\n",
    "- São: nível_de_tensão, ano, mês\n",
    "- Pode-se observar esse facto utilizando a função unique()"
   ],
   "metadata": {
    "collapsed": false
   },
   "id": "ab3703c956a5dbda"
  },
  {
   "cell_type": "code",
   "outputs": [
    {
     "name": "stdout",
     "output_type": "stream",
     "text": [
      "Unique values in nível_de_tensão: ['Baixa Tensão' 'Muito Alta, Alta e Média Tensões']\n",
      "Unique values in ano: [2022 2023 2024]\n",
      "Unique values in mês: [ 8  9 10 11 12  1  2  3  4  5  6  7]\n"
     ]
    }
   ],
   "source": [
    "categorical_columns = ['nível_de_tensão', 'ano', 'mês']\n",
    "for column in categorical_columns:\n",
    "    print(f\"Unique values in {column}: {merged_df[column].unique()}\")\n"
   ],
   "metadata": {
    "collapsed": false,
    "ExecuteTime": {
     "end_time": "2024-04-17T11:35:53.498233Z",
     "start_time": "2024-04-17T11:35:53.490728Z"
    }
   },
   "id": "62ec78f9b7c49ad1",
   "execution_count": 5
  },
  {
   "cell_type": "markdown",
   "source": [
    "- Transformar em categórico"
   ],
   "metadata": {
    "collapsed": false
   },
   "id": "af2a3c8ee206f04a"
  },
  {
   "cell_type": "code",
   "outputs": [
    {
     "name": "stdout",
     "output_type": "stream",
     "text": [
      "<class 'pandas.core.frame.DataFrame'>\n",
      "RangeIndex: 9790 entries, 0 to 9789\n",
      "Data columns (total 10 columns):\n",
      " #   Column                        Non-Null Count  Dtype   \n",
      "---  ------                        --------------  -----   \n",
      " 0   nível_de_tensão               9790 non-null   category\n",
      " 1   ano                           9790 non-null   category\n",
      " 2   mês                           9790 non-null   category\n",
      " 3   energia_ativa_(kwh)           9790 non-null   float64 \n",
      " 4   cpes_doméstico                9790 non-null   float64 \n",
      " 5   cpes_iluminação_pública       9790 non-null   float64 \n",
      " 6   cpes_não_doméstico            9790 non-null   float64 \n",
      " 7   cpes_outros                   9790 non-null   float64 \n",
      " 8   cpes_mobilidade_eletrica_não  9790 non-null   float64 \n",
      " 9   cpes_mobilidade_eletrica_sim  9790 non-null   float64 \n",
      "dtypes: category(3), float64(7)\n",
      "memory usage: 564.8 KB\n"
     ]
    }
   ],
   "source": [
    "merged_df['nível_de_tensão'] = merged_df['nível_de_tensão'].astype('category')\n",
    "merged_df['ano'] = merged_df['ano'].astype('category')\n",
    "merged_df['mês'] = merged_df['mês'].astype('category')\n",
    "merged_df.info()"
   ],
   "metadata": {
    "collapsed": false,
    "ExecuteTime": {
     "end_time": "2024-04-17T11:35:53.542349Z",
     "start_time": "2024-04-17T11:35:53.498163Z"
    }
   },
   "id": "bbd2994107687765",
   "execution_count": 6
  },
  {
   "cell_type": "markdown",
   "source": [
    "### Fazer discretização das variáveis contínuas para ordinais (para depois serem categóricas)"
   ],
   "metadata": {
    "collapsed": false
   },
   "id": "3fef028fe8e166a5"
  },
  {
   "cell_type": "code",
   "outputs": [
    {
     "data": {
      "text/plain": "<Figure size 1000x600 with 1 Axes>",
      "image/png": "[encoded data removed]"
     },
     "metadata": {},
     "output_type": "display_data"
    }
   ],
   "source": [
    "# Criar uma figura e eixo para o gráfico\n",
    "fig, ax = plt.subplots(figsize=(10, 6))\n",
    "\n",
    "# Discretizar a coluna 'energia_ativa_(kwh)' usando cut com intervalos definidos\n",
    "merged_df['energia_ativa_discretized'] = pd.cut(merged_df['energia_ativa_(kwh)'], bins=7, labels=False)\n",
    "\n",
    "# Plotar gráfico de contagem para a coluna discretizada\n",
    "sns.countplot(data=merged_df, x='energia_ativa_discretized', ax=ax)\n",
    "ax.set_title('Discretized Energia Ativa (kWh)')\n",
    "ax.set_xlabel('Energia Ativa Discretized')\n",
    "ax.set_ylabel('Count')\n",
    "\n",
    "plt.tight_layout()\n",
    "plt.show()"
   ],
   "metadata": {
    "collapsed": false,
    "ExecuteTime": {
     "end_time": "2024-04-17T11:35:53.651423Z",
     "start_time": "2024-04-17T11:35:53.535729Z"
    }
   },
   "id": "31c94aa46436ac43",
   "execution_count": 7
  },
  {
   "cell_type": "code",
   "outputs": [
    {
     "name": "stdout",
     "output_type": "stream",
     "text": [
      "Número de outliers: 271\n",
      "1278    4.040138e+07\n",
      "1279    5.023797e+07\n",
      "1280    4.612451e+07\n",
      "1281    5.119776e+07\n",
      "1282    4.698027e+07\n",
      "Name: energia_ativa_(kwh), dtype: float64\n"
     ]
    }
   ],
   "source": [
    "def max_outliers_energia_ativa(dataframe, coluna_energia_ativa, limite_superior=0.4*1e8):\n",
    "  \"\"\"\n",
    "  Função para identificar outliers máximos na coluna 'energia_ativa_(kwh)'.\n",
    "  \"\"\"\n",
    "\n",
    "  # Obter a coluna de energia ativa\n",
    "  energia_ativa = dataframe[coluna_energia_ativa]\n",
    "\n",
    "  # Filtrar outliers\n",
    "  outliers = energia_ativa[energia_ativa > limite_superior]\n",
    "\n",
    "  # Retornar os outliers\n",
    "  return outliers\n",
    "\n",
    "# Exemplo de uso (substitua 'merged_df' pelo nome do seu dataframe)\n",
    "outliers_energia_ativa = max_outliers_energia_ativa(merged_df, 'energia_ativa_(kwh)')\n",
    "print(f\"Número de outliers: {len(outliers_energia_ativa)}\")\n",
    "print(outliers_energia_ativa.head())"
   ],
   "metadata": {
    "collapsed": false,
    "ExecuteTime": {
     "end_time": "2024-04-17T11:35:53.655613Z",
     "start_time": "2024-04-17T11:35:53.652617Z"
    }
   },
   "id": "3e4a3f7fe1e17d80",
   "execution_count": 8
  },
  {
   "cell_type": "code",
   "outputs": [
    {
     "data": {
      "text/plain": "<Figure size 640x480 with 1 Axes>",
      "image/png": "[encoded data removed]"
     },
     "metadata": {},
     "output_type": "display_data"
    }
   ],
   "source": [
    "# Use your dataframe name 'merged_df'\n",
    "data = merged_df  \n",
    "\n",
    "# Select the 'energia_ativa_(kwh)' column\n",
    "energia_ativa = data['energia_ativa_(kwh)']\n",
    "\n",
    "# Create the histogram \n",
    "plt.hist(energia_ativa, bins=50, edgecolor='black', alpha=0.7)\n",
    "\n",
    "# Add title and axis labels\n",
    "plt.title('Histograma da Energia Ativa (kWh)')\n",
    "plt.xlabel('Energia Ativa (kWh)')\n",
    "plt.ylabel('Frequência')\n",
    "\n",
    "# Adjust layout and display the plot\n",
    "plt.tight_layout()\n",
    "plt.show()"
   ],
   "metadata": {
    "collapsed": false,
    "ExecuteTime": {
     "end_time": "2024-04-17T11:35:53.992533Z",
     "start_time": "2024-04-17T11:35:53.661294Z"
    }
   },
   "id": "15365ea5e19a52d0",
   "execution_count": 9
  },
  {
   "cell_type": "code",
   "outputs": [],
   "source": [],
   "metadata": {
    "collapsed": false,
    "ExecuteTime": {
     "end_time": "2024-04-17T11:35:53.993470Z",
     "start_time": "2024-04-17T11:35:53.782530Z"
    }
   },
   "id": "7219fb6989b10f34",
   "execution_count": 9
  },
  {
   "cell_type": "code",
   "outputs": [
    {
     "name": "stdout",
     "output_type": "stream",
     "text": [
      "Número de linhas com energia ativa entre 0 e 20000000.0: 8984\n"
     ]
    }
   ],
   "source": [
    "# Limite superior para outliers\n",
    "limite_superior = 0.2*1e8\n",
    "\n",
    "# Limite inferior para análise\n",
    "limite_inferior = 0\n",
    "\n",
    "# Obter a coluna 'energia_ativa_(kwh)'\n",
    "energia_ativa = merged_df['energia_ativa_(kwh)']\n",
    "\n",
    "# Contar linhas com valores entre os limites\n",
    "linhas_na_faixa = energia_ativa[(energia_ativa >= limite_inferior) & (energia_ativa <= limite_superior)].count()\n",
    "\n",
    "# Exibir o resultado\n",
    "print(f\"Número de linhas com energia ativa entre {limite_inferior} e {limite_superior}: {linhas_na_faixa}\")\n"
   ],
   "metadata": {
    "collapsed": false,
    "ExecuteTime": {
     "end_time": "2024-04-17T11:37:01.426410Z",
     "start_time": "2024-04-17T11:37:01.422730Z"
    }
   },
   "id": "aba8c32ee29ee2a2",
   "execution_count": 12
  },
  {
   "cell_type": "code",
   "outputs": [
    {
     "name": "stdout",
     "output_type": "stream",
     "text": [
      "Número de linhas com energia ativa entre 20000000.0 e 163000000.0: 805\n"
     ]
    }
   ],
   "source": [
    "# Limite superior para outliers\n",
    "limite_superior = 1.63*1e8\n",
    "\n",
    "# Limite inferior para análise\n",
    "limite_inferior = 0.2*1e8\n",
    "\n",
    "# Obter a coluna 'energia_ativa_(kwh)'\n",
    "energia_ativa = merged_df['energia_ativa_(kwh)']\n",
    "\n",
    "# Contar linhas com valores entre os limites\n",
    "linhas_na_faixa = energia_ativa[(energia_ativa >= limite_inferior) & (energia_ativa <= limite_superior)].count()\n",
    "\n",
    "# Exibir o resultado\n",
    "print(f\"Número de linhas com energia ativa entre {limite_inferior} e {limite_superior}: {linhas_na_faixa}\")\n"
   ],
   "metadata": {
    "collapsed": false,
    "ExecuteTime": {
     "end_time": "2024-04-17T11:40:06.453857Z",
     "start_time": "2024-04-17T11:40:06.447637Z"
    }
   },
   "id": "96820538ce3fa83a",
   "execution_count": 16
  },
  {
   "cell_type": "code",
   "outputs": [],
   "source": [],
   "metadata": {
    "collapsed": false
   },
   "id": "cf618961acfb07"
  }
 ],
 "metadata": {
  "kernelspec": {
   "display_name": "Python 3",
   "language": "python",
   "name": "python3"
  },
  "language_info": {
   "codemirror_mode": {
    "name": "ipython",
    "version": 2
   },
   "file_extension": ".py",
   "mimetype": "text/x-python",
   "name": "python",
   "nbconvert_exporter": "python",
   "pygments_lexer": "ipython2",
   "version": "2.7.6"
  }
 },
 "nbformat": 4,
 "nbformat_minor": 5
}
