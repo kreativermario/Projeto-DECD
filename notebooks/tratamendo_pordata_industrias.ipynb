{
 "cells": [
  {
   "cell_type": "code",
   "execution_count": 16,
   "id": "initial_id",
   "metadata": {
    "collapsed": true,
    "ExecuteTime": {
     "end_time": "2024-05-17T13:54:28.586178Z",
     "start_time": "2024-05-17T13:54:28.566624Z"
    }
   },
   "outputs": [],
   "source": [
    "import os\n",
    "\n",
    "import numpy as np\n",
    "import pandas as pd\n",
    "\n",
    "%matplotlib inline\n",
    "import matplotlib.pyplot as plt\n",
    "import seaborn as sns\n",
    "\n",
    "sns.set_theme()"
   ]
  },
  {
   "cell_type": "markdown",
   "source": [
    "# Importar o dataset"
   ],
   "metadata": {
    "collapsed": false
   },
   "id": "a2c9183cd52379cc"
  },
  {
   "cell_type": "code",
   "outputs": [],
   "source": [
    "data_path = '../data/' if os.path.exists('../data/') else 'https://raw.githubusercontent.com/kreativermario/Projeto-DECD/master/data/'\n",
    "\n",
    "pordata_path = data_path + 'pordata_industrial.csv'\n",
    "\n",
    "df_pordata = pd.read_csv(pordata_path, delimiter=';')"
   ],
   "metadata": {
    "collapsed": false,
    "ExecuteTime": {
     "end_time": "2024-05-17T13:54:28.597033Z",
     "start_time": "2024-05-17T13:54:28.588599Z"
    }
   },
   "id": "a379c90669532a4b",
   "execution_count": 17
  },
  {
   "cell_type": "code",
   "outputs": [],
   "source": [
    "data_path = '../data/' if os.path.exists('../data/') else 'https://raw.githubusercontent.com/kreativermario/Projeto-DECD/master/data/'\n",
    "\n",
    "concelhos_path = data_path + 'treated/merged-dataset-concelho-densidade.csv'\n",
    "\n",
    "df_concelhos = pd.read_csv(concelhos_path)"
   ],
   "metadata": {
    "collapsed": false,
    "ExecuteTime": {
     "end_time": "2024-05-17T13:54:28.598275Z",
     "start_time": "2024-05-17T13:54:28.592276Z"
    }
   },
   "id": "2b8a35a7f70b8b82",
   "execution_count": 18
  },
  {
   "cell_type": "markdown",
   "source": [
    "### 2. Ver o dataset"
   ],
   "metadata": {
    "collapsed": false
   },
   "id": "6ff2c9c0bf960c61"
  },
  {
   "cell_type": "code",
   "outputs": [
    {
     "name": "stdout",
     "output_type": "stream",
     "text": [
      "<class 'pandas.core.frame.DataFrame'>\n",
      "RangeIndex: 308 entries, 0 to 307\n",
      "Data columns (total 3 columns):\n",
      " #   Column                      Non-Null Count  Dtype \n",
      "---  ------                      --------------  ----- \n",
      " 0   Municipio                   308 non-null    object\n",
      " 1   Indústrias extrativas       308 non-null    int64 \n",
      " 2   Indústrias transformadoras  308 non-null    object\n",
      "dtypes: int64(1), object(2)\n",
      "memory usage: 7.3+ KB\n"
     ]
    }
   ],
   "source": [
    "df_pordata.info()"
   ],
   "metadata": {
    "collapsed": false,
    "ExecuteTime": {
     "end_time": "2024-05-17T13:54:28.602011Z",
     "start_time": "2024-05-17T13:54:28.600534Z"
    }
   },
   "id": "b216032de56ea14b",
   "execution_count": 19
  },
  {
   "cell_type": "code",
   "outputs": [
    {
     "name": "stdout",
     "output_type": "stream",
     "text": [
      "Número de nulls por coluna:\n",
      "Municipio                     0\n",
      "Indústrias extrativas         0\n",
      "Indústrias transformadoras    0\n",
      "dtype: int64\n"
     ]
    },
    {
     "data": {
      "text/plain": "                Municipio  Indústrias extrativas Indústrias transformadoras\n0       Arcos de Valdevez                      1                        129\n1                 Caminha                      0                         98\n2                 Melgaço                      0                         58\n3                  Monção                     10                        154\n4        Paredes de Coura                      0                         54\n5          Ponte da Barca                      1                         58\n6           Ponte de Lima                     14                        309\n7                 Valença                     11                        124\n8        Viana do Castelo                      6                        749\n9   Vila Nova de Cerveira                      3                         75\n10                 Amares                      0                        120\n11               Barcelos                      4                      2 531\n12                  Braga                     17                      1 294\n13              Esposende                      6                        406\n14        Terras de Bouro                      0                         11",
      "text/html": "<div>\n<style scoped>\n    .dataframe tbody tr th:only-of-type {\n        vertical-align: middle;\n    }\n\n    .dataframe tbody tr th {\n        vertical-align: top;\n    }\n\n    .dataframe thead th {\n        text-align: right;\n    }\n</style>\n<table border=\"1\" class=\"dataframe\">\n  <thead>\n    <tr style=\"text-align: right;\">\n      <th></th>\n      <th>Municipio</th>\n      <th>Indústrias extrativas</th>\n      <th>Indústrias transformadoras</th>\n    </tr>\n  </thead>\n  <tbody>\n    <tr>\n      <th>0</th>\n      <td>Arcos de Valdevez</td>\n      <td>1</td>\n      <td>129</td>\n    </tr>\n    <tr>\n      <th>1</th>\n      <td>Caminha</td>\n      <td>0</td>\n      <td>98</td>\n    </tr>\n    <tr>\n      <th>2</th>\n      <td>Melgaço</td>\n      <td>0</td>\n      <td>58</td>\n    </tr>\n    <tr>\n      <th>3</th>\n      <td>Monção</td>\n      <td>10</td>\n      <td>154</td>\n    </tr>\n    <tr>\n      <th>4</th>\n      <td>Paredes de Coura</td>\n      <td>0</td>\n      <td>54</td>\n    </tr>\n    <tr>\n      <th>5</th>\n      <td>Ponte da Barca</td>\n      <td>1</td>\n      <td>58</td>\n    </tr>\n    <tr>\n      <th>6</th>\n      <td>Ponte de Lima</td>\n      <td>14</td>\n      <td>309</td>\n    </tr>\n    <tr>\n      <th>7</th>\n      <td>Valença</td>\n      <td>11</td>\n      <td>124</td>\n    </tr>\n    <tr>\n      <th>8</th>\n      <td>Viana do Castelo</td>\n      <td>6</td>\n      <td>749</td>\n    </tr>\n    <tr>\n      <th>9</th>\n      <td>Vila Nova de Cerveira</td>\n      <td>3</td>\n      <td>75</td>\n    </tr>\n    <tr>\n      <th>10</th>\n      <td>Amares</td>\n      <td>0</td>\n      <td>120</td>\n    </tr>\n    <tr>\n      <th>11</th>\n      <td>Barcelos</td>\n      <td>4</td>\n      <td>2 531</td>\n    </tr>\n    <tr>\n      <th>12</th>\n      <td>Braga</td>\n      <td>17</td>\n      <td>1 294</td>\n    </tr>\n    <tr>\n      <th>13</th>\n      <td>Esposende</td>\n      <td>6</td>\n      <td>406</td>\n    </tr>\n    <tr>\n      <th>14</th>\n      <td>Terras de Bouro</td>\n      <td>0</td>\n      <td>11</td>\n    </tr>\n  </tbody>\n</table>\n</div>"
     },
     "execution_count": 20,
     "metadata": {},
     "output_type": "execute_result"
    }
   ],
   "source": [
    "# Verificar nulls\n",
    "null_counts = df_pordata.isnull().sum()\n",
    "\n",
    "# Ver nulls por coluna\n",
    "print(\"Número de nulls por coluna:\")\n",
    "print(null_counts)\n",
    "\n",
    "df_pordata.head(15)"
   ],
   "metadata": {
    "collapsed": false,
    "ExecuteTime": {
     "end_time": "2024-05-17T13:54:28.608548Z",
     "start_time": "2024-05-17T13:54:28.603461Z"
    }
   },
   "id": "6bd1f2f5feaf76c5",
   "execution_count": 20
  },
  {
   "cell_type": "code",
   "outputs": [
    {
     "data": {
      "text/plain": "       Indústrias extrativas\ncount             308.000000\nmean                3.272727\nstd                 7.611300\nmin                 0.000000\n25%                 0.000000\n50%                 1.000000\n75%                 3.000000\nmax                87.000000",
      "text/html": "<div>\n<style scoped>\n    .dataframe tbody tr th:only-of-type {\n        vertical-align: middle;\n    }\n\n    .dataframe tbody tr th {\n        vertical-align: top;\n    }\n\n    .dataframe thead th {\n        text-align: right;\n    }\n</style>\n<table border=\"1\" class=\"dataframe\">\n  <thead>\n    <tr style=\"text-align: right;\">\n      <th></th>\n      <th>Indústrias extrativas</th>\n    </tr>\n  </thead>\n  <tbody>\n    <tr>\n      <th>count</th>\n      <td>308.000000</td>\n    </tr>\n    <tr>\n      <th>mean</th>\n      <td>3.272727</td>\n    </tr>\n    <tr>\n      <th>std</th>\n      <td>7.611300</td>\n    </tr>\n    <tr>\n      <th>min</th>\n      <td>0.000000</td>\n    </tr>\n    <tr>\n      <th>25%</th>\n      <td>0.000000</td>\n    </tr>\n    <tr>\n      <th>50%</th>\n      <td>1.000000</td>\n    </tr>\n    <tr>\n      <th>75%</th>\n      <td>3.000000</td>\n    </tr>\n    <tr>\n      <th>max</th>\n      <td>87.000000</td>\n    </tr>\n  </tbody>\n</table>\n</div>"
     },
     "execution_count": 21,
     "metadata": {},
     "output_type": "execute_result"
    }
   ],
   "source": [
    "df_pordata.describe()"
   ],
   "metadata": {
    "collapsed": false,
    "ExecuteTime": {
     "end_time": "2024-05-17T13:54:28.631341Z",
     "start_time": "2024-05-17T13:54:28.608919Z"
    }
   },
   "id": "4593fd7df9900300",
   "execution_count": 21
  },
  {
   "cell_type": "markdown",
   "source": [
    "### Comparar o número de concelhos (merged dataset) e municipios (pordata)"
   ],
   "metadata": {
    "collapsed": false
   },
   "id": "b6b80894227ce4f5"
  },
  {
   "cell_type": "code",
   "outputs": [
    {
     "name": "stdout",
     "output_type": "stream",
     "text": [
      "concelho\n",
      "Abrantes    19\n",
      "Pombal      19\n",
      "Porto       19\n",
      "Portimão    19\n",
      "Portel      19\n",
      "            ..\n",
      "Golegã      19\n",
      "Gondomar    19\n",
      "Gouveia     19\n",
      "Grândola    19\n",
      "Óbidos      19\n",
      "Name: count, Length: 273, dtype: int64\n"
     ]
    }
   ],
   "source": [
    "concelho_counts = df_concelhos['concelho'].value_counts()\n",
    "print(concelho_counts)  "
   ],
   "metadata": {
    "collapsed": false,
    "ExecuteTime": {
     "end_time": "2024-05-17T13:54:28.639683Z",
     "start_time": "2024-05-17T13:54:28.612839Z"
    }
   },
   "id": "15d5c7d281f1cd8",
   "execution_count": 22
  },
  {
   "cell_type": "markdown",
   "source": [
    "### Merge dos concelhos com municipios"
   ],
   "metadata": {
    "collapsed": false
   },
   "id": "c411002fe53a20b3"
  },
  {
   "cell_type": "code",
   "outputs": [
    {
     "name": "stdout",
     "output_type": "stream",
     "text": [
      "<class 'pandas.core.frame.DataFrame'>\n",
      "RangeIndex: 5187 entries, 0 to 5186\n",
      "Data columns (total 18 columns):\n",
      " #   Column                                     Non-Null Count  Dtype  \n",
      "---  ------                                     --------------  -----  \n",
      " 0   concelho                                   5187 non-null   object \n",
      " 1   ano                                        5187 non-null   int64  \n",
      " 2   mes                                        5187 non-null   int64  \n",
      " 3   energia_ativa_baixa_tensao_kwh             5187 non-null   int64  \n",
      " 4   energia_ativa_alta_tensao_kwh              5187 non-null   int64  \n",
      " 5   cpes_domestico_baixa_tensao                5187 non-null   int64  \n",
      " 6   cpes_domestico_alta_tensao                 5187 non-null   int64  \n",
      " 7   cpes_iluminacao_publica_baixa_tensao       5187 non-null   int64  \n",
      " 8   cpes_iluminacao_publica_alta_tensao        5187 non-null   int64  \n",
      " 9   cpes_nao_domestico_baixa_tensao            5187 non-null   int64  \n",
      " 10  cpes_nao_domestico_alta_tensao             5187 non-null   int64  \n",
      " 11  cpes_outros_baixa_tensao                   5187 non-null   int64  \n",
      " 12  cpes_outros_alta_tensao                    5187 non-null   int64  \n",
      " 13  cpes_mobilidade_eletrica_nao_baixa_tensao  5187 non-null   int64  \n",
      " 14  cpes_mobilidade_eletrica_sim_baixa_tensao  5187 non-null   int64  \n",
      " 15  densidade_populacional_pessoas_km2         5187 non-null   float64\n",
      " 16  Indústrias extrativas                      5187 non-null   int64  \n",
      " 17  Indústrias transformadoras                 5187 non-null   object \n",
      "dtypes: float64(1), int64(15), object(2)\n",
      "memory usage: 729.6+ KB\n"
     ]
    }
   ],
   "source": [
    "merged_df = pd.merge(df_concelhos, df_pordata, left_on='concelho', right_on='Municipio', how='inner')\n",
    "\n",
    "merged_df.drop(columns=['Municipio'], inplace=True)\n",
    "\n",
    "merged_df.info()"
   ],
   "metadata": {
    "collapsed": false,
    "ExecuteTime": {
     "end_time": "2024-05-17T13:54:28.640162Z",
     "start_time": "2024-05-17T13:54:28.616377Z"
    }
   },
   "id": "dc2669f5183bf429",
   "execution_count": 23
  },
  {
   "cell_type": "code",
   "outputs": [
    {
     "data": {
      "text/plain": "               ano          mes  energia_ativa_baixa_tensao_kwh  \\\ncount  5187.000000  5187.000000                    5.187000e+03   \nmean   2022.842105     6.894737                    6.518676e+06   \nstd       0.586137     3.712284                    1.177996e+07   \nmin    2022.000000     1.000000                    1.000680e+05   \n25%    2022.000000     3.000000                    1.266728e+06   \n50%    2023.000000     8.000000                    2.625888e+06   \n75%    2023.000000    10.000000                    7.113475e+06   \nmax    2024.000000    12.000000                    1.641353e+08   \n\n       energia_ativa_alta_tensao_kwh  cpes_domestico_baixa_tensao  \\\ncount                   5.187000e+03                  5187.000000   \nmean                    6.888616e+06                 18808.416426   \nstd                     1.426511e+07                 29413.928256   \nmin                     0.000000e+00                  1042.000000   \n25%                     4.113695e+05                  4580.500000   \n50%                     1.824003e+06                  8935.000000   \n75%                     5.962718e+06                 21437.000000   \nmax                     1.279470e+08                312095.000000   \n\n       cpes_domestico_alta_tensao  cpes_iluminacao_publica_baixa_tensao  \\\ncount                 5187.000000                           5187.000000   \nmean                     0.040486                            214.150183   \nstd                      0.211279                            194.193563   \nmin                      0.000000                              7.000000   \n25%                      0.000000                             91.000000   \n50%                      0.000000                            141.000000   \n75%                      0.000000                            280.000000   \nmax                      2.000000                           1185.000000   \n\n       cpes_iluminacao_publica_alta_tensao  cpes_nao_domestico_baixa_tensao  \\\ncount                               5187.0                      5187.000000   \nmean                                   0.0                      4242.803933   \nstd                                    0.0                      6873.077695   \nmin                                    0.0                       174.000000   \n25%                                    0.0                      1101.000000   \n50%                                    0.0                      1990.000000   \n75%                                    0.0                      4900.000000   \nmax                                    0.0                     79984.000000   \n\n       cpes_nao_domestico_alta_tensao  cpes_outros_baixa_tensao  \\\ncount                     5187.000000               5187.000000   \nmean                        95.497205                128.463852   \nstd                        121.267530                205.717131   \nmin                          0.000000                  1.000000   \n25%                         28.000000                 20.500000   \n50%                         51.000000                 53.000000   \n75%                        119.000000                155.000000   \nmax                       1229.000000               2186.000000   \n\n       cpes_outros_alta_tensao  cpes_mobilidade_eletrica_nao_baixa_tensao  \\\ncount              5187.000000                                5187.000000   \nmean                  0.365529                               27371.181415   \nstd                   4.073821                               46187.414907   \nmin                   0.000000                                1144.000000   \n25%                   0.000000                                6151.000000   \n50%                   0.000000                               11544.000000   \n75%                   0.000000                               30042.000000   \nmax                  75.000000                              530262.000000   \n\n       cpes_mobilidade_eletrica_sim_baixa_tensao  \\\ncount                                5187.000000   \nmean                                    9.612300   \nstd                                    25.397713   \nmin                                     0.000000   \n25%                                     2.000000   \n50%                                     2.000000   \n75%                                     6.000000   \nmax                                   388.000000   \n\n       densidade_populacional_pessoas_km2  Indústrias extrativas  \ncount                         5187.000000            5187.000000  \nmean                           314.549084               3.549451  \nstd                            856.174544               7.986467  \nmin                              4.300000               0.000000  \n25%                             24.700000               0.000000  \n50%                             66.400000               1.000000  \n75%                            176.700000               4.000000  \nmax                           7310.100000              87.000000  ",
      "text/html": "<div>\n<style scoped>\n    .dataframe tbody tr th:only-of-type {\n        vertical-align: middle;\n    }\n\n    .dataframe tbody tr th {\n        vertical-align: top;\n    }\n\n    .dataframe thead th {\n        text-align: right;\n    }\n</style>\n<table border=\"1\" class=\"dataframe\">\n  <thead>\n    <tr style=\"text-align: right;\">\n      <th></th>\n      <th>ano</th>\n      <th>mes</th>\n      <th>energia_ativa_baixa_tensao_kwh</th>\n      <th>energia_ativa_alta_tensao_kwh</th>\n      <th>cpes_domestico_baixa_tensao</th>\n      <th>cpes_domestico_alta_tensao</th>\n      <th>cpes_iluminacao_publica_baixa_tensao</th>\n      <th>cpes_iluminacao_publica_alta_tensao</th>\n      <th>cpes_nao_domestico_baixa_tensao</th>\n      <th>cpes_nao_domestico_alta_tensao</th>\n      <th>cpes_outros_baixa_tensao</th>\n      <th>cpes_outros_alta_tensao</th>\n      <th>cpes_mobilidade_eletrica_nao_baixa_tensao</th>\n      <th>cpes_mobilidade_eletrica_sim_baixa_tensao</th>\n      <th>densidade_populacional_pessoas_km2</th>\n      <th>Indústrias extrativas</th>\n    </tr>\n  </thead>\n  <tbody>\n    <tr>\n      <th>count</th>\n      <td>5187.000000</td>\n      <td>5187.000000</td>\n      <td>5.187000e+03</td>\n      <td>5.187000e+03</td>\n      <td>5187.000000</td>\n      <td>5187.000000</td>\n      <td>5187.000000</td>\n      <td>5187.0</td>\n      <td>5187.000000</td>\n      <td>5187.000000</td>\n      <td>5187.000000</td>\n      <td>5187.000000</td>\n      <td>5187.000000</td>\n      <td>5187.000000</td>\n      <td>5187.000000</td>\n      <td>5187.000000</td>\n    </tr>\n    <tr>\n      <th>mean</th>\n      <td>2022.842105</td>\n      <td>6.894737</td>\n      <td>6.518676e+06</td>\n      <td>6.888616e+06</td>\n      <td>18808.416426</td>\n      <td>0.040486</td>\n      <td>214.150183</td>\n      <td>0.0</td>\n      <td>4242.803933</td>\n      <td>95.497205</td>\n      <td>128.463852</td>\n      <td>0.365529</td>\n      <td>27371.181415</td>\n      <td>9.612300</td>\n      <td>314.549084</td>\n      <td>3.549451</td>\n    </tr>\n    <tr>\n      <th>std</th>\n      <td>0.586137</td>\n      <td>3.712284</td>\n      <td>1.177996e+07</td>\n      <td>1.426511e+07</td>\n      <td>29413.928256</td>\n      <td>0.211279</td>\n      <td>194.193563</td>\n      <td>0.0</td>\n      <td>6873.077695</td>\n      <td>121.267530</td>\n      <td>205.717131</td>\n      <td>4.073821</td>\n      <td>46187.414907</td>\n      <td>25.397713</td>\n      <td>856.174544</td>\n      <td>7.986467</td>\n    </tr>\n    <tr>\n      <th>min</th>\n      <td>2022.000000</td>\n      <td>1.000000</td>\n      <td>1.000680e+05</td>\n      <td>0.000000e+00</td>\n      <td>1042.000000</td>\n      <td>0.000000</td>\n      <td>7.000000</td>\n      <td>0.0</td>\n      <td>174.000000</td>\n      <td>0.000000</td>\n      <td>1.000000</td>\n      <td>0.000000</td>\n      <td>1144.000000</td>\n      <td>0.000000</td>\n      <td>4.300000</td>\n      <td>0.000000</td>\n    </tr>\n    <tr>\n      <th>25%</th>\n      <td>2022.000000</td>\n      <td>3.000000</td>\n      <td>1.266728e+06</td>\n      <td>4.113695e+05</td>\n      <td>4580.500000</td>\n      <td>0.000000</td>\n      <td>91.000000</td>\n      <td>0.0</td>\n      <td>1101.000000</td>\n      <td>28.000000</td>\n      <td>20.500000</td>\n      <td>0.000000</td>\n      <td>6151.000000</td>\n      <td>2.000000</td>\n      <td>24.700000</td>\n      <td>0.000000</td>\n    </tr>\n    <tr>\n      <th>50%</th>\n      <td>2023.000000</td>\n      <td>8.000000</td>\n      <td>2.625888e+06</td>\n      <td>1.824003e+06</td>\n      <td>8935.000000</td>\n      <td>0.000000</td>\n      <td>141.000000</td>\n      <td>0.0</td>\n      <td>1990.000000</td>\n      <td>51.000000</td>\n      <td>53.000000</td>\n      <td>0.000000</td>\n      <td>11544.000000</td>\n      <td>2.000000</td>\n      <td>66.400000</td>\n      <td>1.000000</td>\n    </tr>\n    <tr>\n      <th>75%</th>\n      <td>2023.000000</td>\n      <td>10.000000</td>\n      <td>7.113475e+06</td>\n      <td>5.962718e+06</td>\n      <td>21437.000000</td>\n      <td>0.000000</td>\n      <td>280.000000</td>\n      <td>0.0</td>\n      <td>4900.000000</td>\n      <td>119.000000</td>\n      <td>155.000000</td>\n      <td>0.000000</td>\n      <td>30042.000000</td>\n      <td>6.000000</td>\n      <td>176.700000</td>\n      <td>4.000000</td>\n    </tr>\n    <tr>\n      <th>max</th>\n      <td>2024.000000</td>\n      <td>12.000000</td>\n      <td>1.641353e+08</td>\n      <td>1.279470e+08</td>\n      <td>312095.000000</td>\n      <td>2.000000</td>\n      <td>1185.000000</td>\n      <td>0.0</td>\n      <td>79984.000000</td>\n      <td>1229.000000</td>\n      <td>2186.000000</td>\n      <td>75.000000</td>\n      <td>530262.000000</td>\n      <td>388.000000</td>\n      <td>7310.100000</td>\n      <td>87.000000</td>\n    </tr>\n  </tbody>\n</table>\n</div>"
     },
     "execution_count": 24,
     "metadata": {},
     "output_type": "execute_result"
    }
   ],
   "source": [
    "merged_df.describe()"
   ],
   "metadata": {
    "collapsed": false,
    "ExecuteTime": {
     "end_time": "2024-05-17T13:54:28.680585Z",
     "start_time": "2024-05-17T13:54:28.622035Z"
    }
   },
   "id": "7a71071bb532e9bc",
   "execution_count": 24
  },
  {
   "cell_type": "code",
   "outputs": [
    {
     "name": "stdout",
     "output_type": "stream",
     "text": [
      "<class 'pandas.core.frame.DataFrame'>\n",
      "RangeIndex: 5187 entries, 0 to 5186\n",
      "Data columns (total 18 columns):\n",
      " #   Column                                     Non-Null Count  Dtype  \n",
      "---  ------                                     --------------  -----  \n",
      " 0   concelho                                   5187 non-null   object \n",
      " 1   ano                                        5187 non-null   int64  \n",
      " 2   mes                                        5187 non-null   int64  \n",
      " 3   energia_ativa_baixa_tensao_kwh             5187 non-null   int64  \n",
      " 4   energia_ativa_alta_tensao_kwh              5187 non-null   int64  \n",
      " 5   cpes_domestico_baixa_tensao                5187 non-null   int64  \n",
      " 6   cpes_domestico_alta_tensao                 5187 non-null   int64  \n",
      " 7   cpes_iluminacao_publica_baixa_tensao       5187 non-null   int64  \n",
      " 8   cpes_iluminacao_publica_alta_tensao        5187 non-null   int64  \n",
      " 9   cpes_nao_domestico_baixa_tensao            5187 non-null   int64  \n",
      " 10  cpes_nao_domestico_alta_tensao             5187 non-null   int64  \n",
      " 11  cpes_outros_baixa_tensao                   5187 non-null   int64  \n",
      " 12  cpes_outros_alta_tensao                    5187 non-null   int64  \n",
      " 13  cpes_mobilidade_eletrica_nao_baixa_tensao  5187 non-null   int64  \n",
      " 14  cpes_mobilidade_eletrica_sim_baixa_tensao  5187 non-null   int64  \n",
      " 15  densidade_populacional_pessoas_km2         5187 non-null   float64\n",
      " 16  num_industrias_extrativas                  5187 non-null   int64  \n",
      " 17  num_industrias_transformadoras             5187 non-null   object \n",
      "dtypes: float64(1), int64(15), object(2)\n",
      "memory usage: 729.6+ KB\n"
     ]
    }
   ],
   "source": [
    "# Renomear a coluna\n",
    "merged_df.rename(columns={'Indústrias extrativas': 'num_industrias_extrativas'}, inplace=True)\n",
    "merged_df.rename(columns={'Indústrias transformadoras': 'num_industrias_transformadoras'}, inplace=True)\n",
    "\n",
    "# Verificar se a coluna foi renomeada corretamente\n",
    "merged_df.info()"
   ],
   "metadata": {
    "collapsed": false,
    "ExecuteTime": {
     "end_time": "2024-05-17T13:54:28.690261Z",
     "start_time": "2024-05-17T13:54:28.637221Z"
    }
   },
   "id": "2bac5ef9eb1357f1",
   "execution_count": 25
  },
  {
   "cell_type": "markdown",
   "source": [
    "### Transformar as colunas em int"
   ],
   "metadata": {
    "collapsed": false
   },
   "id": "aae66e505fcb4b39"
  },
  {
   "cell_type": "code",
   "outputs": [
    {
     "data": {
      "text/plain": "   concelho   ano  mes  energia_ativa_baixa_tensao_kwh  \\\n0  Abrantes  2022    8                         5908716   \n1  Abrantes  2022    9                         5319528   \n2  Abrantes  2022   10                         5431060   \n3  Abrantes  2022   11                         5845742   \n4  Abrantes  2022   12                         6780793   \n\n   energia_ativa_alta_tensao_kwh  cpes_domestico_baixa_tensao  \\\n0                        5891542                        20260   \n1                        6159115                        20270   \n2                        6360625                        20280   \n3                        5961164                        20291   \n4                        5272178                        20297   \n\n   cpes_domestico_alta_tensao  cpes_iluminacao_publica_baixa_tensao  \\\n0                           0                                   293   \n1                           0                                   293   \n2                           0                                   293   \n3                           0                                   293   \n4                           0                                   294   \n\n   cpes_iluminacao_publica_alta_tensao  cpes_nao_domestico_baixa_tensao  \\\n0                                    0                             4318   \n1                                    0                             4311   \n2                                    0                             4302   \n3                                    0                             4308   \n4                                    0                             4312   \n\n   cpes_nao_domestico_alta_tensao  cpes_outros_baixa_tensao  \\\n0                             134                        83   \n1                             134                        81   \n2                             134                        81   \n3                             134                        80   \n4                             134                        82   \n\n   cpes_outros_alta_tensao  cpes_mobilidade_eletrica_nao_baixa_tensao  \\\n0                        0                                      22194   \n1                        0                                      22596   \n2                        0                                      23126   \n3                        0                                      23938   \n4                        0                                      24420   \n\n   cpes_mobilidade_eletrica_sim_baixa_tensao  \\\n0                                          2   \n1                                          2   \n2                                          2   \n3                                          2   \n4                                          2   \n\n   densidade_populacional_pessoas_km2  num_industrias_extrativas  \\\n0                                47.5                          0   \n1                                47.5                          0   \n2                                47.5                          0   \n3                                47.5                          0   \n4                                47.5                          0   \n\n   num_industrias_transformadoras  \n0                             160  \n1                             160  \n2                             160  \n3                             160  \n4                             160  ",
      "text/html": "<div>\n<style scoped>\n    .dataframe tbody tr th:only-of-type {\n        vertical-align: middle;\n    }\n\n    .dataframe tbody tr th {\n        vertical-align: top;\n    }\n\n    .dataframe thead th {\n        text-align: right;\n    }\n</style>\n<table border=\"1\" class=\"dataframe\">\n  <thead>\n    <tr style=\"text-align: right;\">\n      <th></th>\n      <th>concelho</th>\n      <th>ano</th>\n      <th>mes</th>\n      <th>energia_ativa_baixa_tensao_kwh</th>\n      <th>energia_ativa_alta_tensao_kwh</th>\n      <th>cpes_domestico_baixa_tensao</th>\n      <th>cpes_domestico_alta_tensao</th>\n      <th>cpes_iluminacao_publica_baixa_tensao</th>\n      <th>cpes_iluminacao_publica_alta_tensao</th>\n      <th>cpes_nao_domestico_baixa_tensao</th>\n      <th>cpes_nao_domestico_alta_tensao</th>\n      <th>cpes_outros_baixa_tensao</th>\n      <th>cpes_outros_alta_tensao</th>\n      <th>cpes_mobilidade_eletrica_nao_baixa_tensao</th>\n      <th>cpes_mobilidade_eletrica_sim_baixa_tensao</th>\n      <th>densidade_populacional_pessoas_km2</th>\n      <th>num_industrias_extrativas</th>\n      <th>num_industrias_transformadoras</th>\n    </tr>\n  </thead>\n  <tbody>\n    <tr>\n      <th>0</th>\n      <td>Abrantes</td>\n      <td>2022</td>\n      <td>8</td>\n      <td>5908716</td>\n      <td>5891542</td>\n      <td>20260</td>\n      <td>0</td>\n      <td>293</td>\n      <td>0</td>\n      <td>4318</td>\n      <td>134</td>\n      <td>83</td>\n      <td>0</td>\n      <td>22194</td>\n      <td>2</td>\n      <td>47.5</td>\n      <td>0</td>\n      <td>160</td>\n    </tr>\n    <tr>\n      <th>1</th>\n      <td>Abrantes</td>\n      <td>2022</td>\n      <td>9</td>\n      <td>5319528</td>\n      <td>6159115</td>\n      <td>20270</td>\n      <td>0</td>\n      <td>293</td>\n      <td>0</td>\n      <td>4311</td>\n      <td>134</td>\n      <td>81</td>\n      <td>0</td>\n      <td>22596</td>\n      <td>2</td>\n      <td>47.5</td>\n      <td>0</td>\n      <td>160</td>\n    </tr>\n    <tr>\n      <th>2</th>\n      <td>Abrantes</td>\n      <td>2022</td>\n      <td>10</td>\n      <td>5431060</td>\n      <td>6360625</td>\n      <td>20280</td>\n      <td>0</td>\n      <td>293</td>\n      <td>0</td>\n      <td>4302</td>\n      <td>134</td>\n      <td>81</td>\n      <td>0</td>\n      <td>23126</td>\n      <td>2</td>\n      <td>47.5</td>\n      <td>0</td>\n      <td>160</td>\n    </tr>\n    <tr>\n      <th>3</th>\n      <td>Abrantes</td>\n      <td>2022</td>\n      <td>11</td>\n      <td>5845742</td>\n      <td>5961164</td>\n      <td>20291</td>\n      <td>0</td>\n      <td>293</td>\n      <td>0</td>\n      <td>4308</td>\n      <td>134</td>\n      <td>80</td>\n      <td>0</td>\n      <td>23938</td>\n      <td>2</td>\n      <td>47.5</td>\n      <td>0</td>\n      <td>160</td>\n    </tr>\n    <tr>\n      <th>4</th>\n      <td>Abrantes</td>\n      <td>2022</td>\n      <td>12</td>\n      <td>6780793</td>\n      <td>5272178</td>\n      <td>20297</td>\n      <td>0</td>\n      <td>294</td>\n      <td>0</td>\n      <td>4312</td>\n      <td>134</td>\n      <td>82</td>\n      <td>0</td>\n      <td>24420</td>\n      <td>2</td>\n      <td>47.5</td>\n      <td>0</td>\n      <td>160</td>\n    </tr>\n  </tbody>\n</table>\n</div>"
     },
     "execution_count": 26,
     "metadata": {},
     "output_type": "execute_result"
    }
   ],
   "source": [
    "# Remover espaços em branco dos valores na coluna\n",
    "merged_df['num_industrias_transformadoras'] = merged_df['num_industrias_transformadoras'].apply(lambda x: x.replace(' ', ''))\n",
    "merged_df['num_industrias_transformadoras'] = merged_df['num_industrias_transformadoras'].astype(int)\n",
    "\n",
    "merged_df.head()"
   ],
   "metadata": {
    "collapsed": false,
    "ExecuteTime": {
     "end_time": "2024-05-17T13:54:28.697851Z",
     "start_time": "2024-05-17T13:54:28.647188Z"
    }
   },
   "id": "a30ddcf692879f27",
   "execution_count": 26
  },
  {
   "cell_type": "code",
   "outputs": [
    {
     "name": "stdout",
     "output_type": "stream",
     "text": [
      "<class 'pandas.core.frame.DataFrame'>\n",
      "RangeIndex: 5187 entries, 0 to 5186\n",
      "Data columns (total 18 columns):\n",
      " #   Column                                     Non-Null Count  Dtype  \n",
      "---  ------                                     --------------  -----  \n",
      " 0   concelho                                   5187 non-null   object \n",
      " 1   ano                                        5187 non-null   int64  \n",
      " 2   mes                                        5187 non-null   int64  \n",
      " 3   energia_ativa_baixa_tensao_kwh             5187 non-null   int64  \n",
      " 4   energia_ativa_alta_tensao_kwh              5187 non-null   int64  \n",
      " 5   cpes_domestico_baixa_tensao                5187 non-null   int64  \n",
      " 6   cpes_domestico_alta_tensao                 5187 non-null   int64  \n",
      " 7   cpes_iluminacao_publica_baixa_tensao       5187 non-null   int64  \n",
      " 8   cpes_iluminacao_publica_alta_tensao        5187 non-null   int64  \n",
      " 9   cpes_nao_domestico_baixa_tensao            5187 non-null   int64  \n",
      " 10  cpes_nao_domestico_alta_tensao             5187 non-null   int64  \n",
      " 11  cpes_outros_baixa_tensao                   5187 non-null   int64  \n",
      " 12  cpes_outros_alta_tensao                    5187 non-null   int64  \n",
      " 13  cpes_mobilidade_eletrica_nao_baixa_tensao  5187 non-null   int64  \n",
      " 14  cpes_mobilidade_eletrica_sim_baixa_tensao  5187 non-null   int64  \n",
      " 15  densidade_populacional_pessoas_km2         5187 non-null   float64\n",
      " 16  num_industrias_extrativas                  5187 non-null   int64  \n",
      " 17  num_industrias_transformadoras             5187 non-null   int64  \n",
      "dtypes: float64(1), int64(16), object(1)\n",
      "memory usage: 729.6+ KB\n"
     ]
    }
   ],
   "source": [
    "merged_df.info()"
   ],
   "metadata": {
    "collapsed": false,
    "ExecuteTime": {
     "end_time": "2024-05-17T13:54:28.698419Z",
     "start_time": "2024-05-17T13:54:28.651947Z"
    }
   },
   "id": "1757cc486b510447",
   "execution_count": 27
  },
  {
   "cell_type": "code",
   "outputs": [
    {
     "data": {
      "text/plain": "               ano          mes  energia_ativa_baixa_tensao_kwh  \\\ncount  5187.000000  5187.000000                    5.187000e+03   \nmean   2022.842105     6.894737                    6.518676e+06   \nstd       0.586137     3.712284                    1.177996e+07   \nmin    2022.000000     1.000000                    1.000680e+05   \n25%    2022.000000     3.000000                    1.266728e+06   \n50%    2023.000000     8.000000                    2.625888e+06   \n75%    2023.000000    10.000000                    7.113475e+06   \nmax    2024.000000    12.000000                    1.641353e+08   \n\n       energia_ativa_alta_tensao_kwh  cpes_domestico_baixa_tensao  \\\ncount                   5.187000e+03                  5187.000000   \nmean                    6.888616e+06                 18808.416426   \nstd                     1.426511e+07                 29413.928256   \nmin                     0.000000e+00                  1042.000000   \n25%                     4.113695e+05                  4580.500000   \n50%                     1.824003e+06                  8935.000000   \n75%                     5.962718e+06                 21437.000000   \nmax                     1.279470e+08                312095.000000   \n\n       cpes_domestico_alta_tensao  cpes_iluminacao_publica_baixa_tensao  \\\ncount                 5187.000000                           5187.000000   \nmean                     0.040486                            214.150183   \nstd                      0.211279                            194.193563   \nmin                      0.000000                              7.000000   \n25%                      0.000000                             91.000000   \n50%                      0.000000                            141.000000   \n75%                      0.000000                            280.000000   \nmax                      2.000000                           1185.000000   \n\n       cpes_iluminacao_publica_alta_tensao  cpes_nao_domestico_baixa_tensao  \\\ncount                               5187.0                      5187.000000   \nmean                                   0.0                      4242.803933   \nstd                                    0.0                      6873.077695   \nmin                                    0.0                       174.000000   \n25%                                    0.0                      1101.000000   \n50%                                    0.0                      1990.000000   \n75%                                    0.0                      4900.000000   \nmax                                    0.0                     79984.000000   \n\n       cpes_nao_domestico_alta_tensao  cpes_outros_baixa_tensao  \\\ncount                     5187.000000               5187.000000   \nmean                        95.497205                128.463852   \nstd                        121.267530                205.717131   \nmin                          0.000000                  1.000000   \n25%                         28.000000                 20.500000   \n50%                         51.000000                 53.000000   \n75%                        119.000000                155.000000   \nmax                       1229.000000               2186.000000   \n\n       cpes_outros_alta_tensao  cpes_mobilidade_eletrica_nao_baixa_tensao  \\\ncount              5187.000000                                5187.000000   \nmean                  0.365529                               27371.181415   \nstd                   4.073821                               46187.414907   \nmin                   0.000000                                1144.000000   \n25%                   0.000000                                6151.000000   \n50%                   0.000000                               11544.000000   \n75%                   0.000000                               30042.000000   \nmax                  75.000000                              530262.000000   \n\n       cpes_mobilidade_eletrica_sim_baixa_tensao  \\\ncount                                5187.000000   \nmean                                    9.612300   \nstd                                    25.397713   \nmin                                     0.000000   \n25%                                     2.000000   \n50%                                     2.000000   \n75%                                     6.000000   \nmax                                   388.000000   \n\n       densidade_populacional_pessoas_km2  num_industrias_extrativas  \\\ncount                         5187.000000                5187.000000   \nmean                           314.549084                   3.549451   \nstd                            856.174544                   7.986467   \nmin                              4.300000                   0.000000   \n25%                             24.700000                   0.000000   \n50%                             66.400000                   1.000000   \n75%                            176.700000                   4.000000   \nmax                           7310.100000                  87.000000   \n\n       num_industrias_transformadoras  \ncount                     5187.000000  \nmean                       243.047619  \nstd                        381.962040  \nmin                          8.000000  \n25%                         43.000000  \n50%                         91.000000  \n75%                        246.000000  \nmax                       2531.000000  ",
      "text/html": "<div>\n<style scoped>\n    .dataframe tbody tr th:only-of-type {\n        vertical-align: middle;\n    }\n\n    .dataframe tbody tr th {\n        vertical-align: top;\n    }\n\n    .dataframe thead th {\n        text-align: right;\n    }\n</style>\n<table border=\"1\" class=\"dataframe\">\n  <thead>\n    <tr style=\"text-align: right;\">\n      <th></th>\n      <th>ano</th>\n      <th>mes</th>\n      <th>energia_ativa_baixa_tensao_kwh</th>\n      <th>energia_ativa_alta_tensao_kwh</th>\n      <th>cpes_domestico_baixa_tensao</th>\n      <th>cpes_domestico_alta_tensao</th>\n      <th>cpes_iluminacao_publica_baixa_tensao</th>\n      <th>cpes_iluminacao_publica_alta_tensao</th>\n      <th>cpes_nao_domestico_baixa_tensao</th>\n      <th>cpes_nao_domestico_alta_tensao</th>\n      <th>cpes_outros_baixa_tensao</th>\n      <th>cpes_outros_alta_tensao</th>\n      <th>cpes_mobilidade_eletrica_nao_baixa_tensao</th>\n      <th>cpes_mobilidade_eletrica_sim_baixa_tensao</th>\n      <th>densidade_populacional_pessoas_km2</th>\n      <th>num_industrias_extrativas</th>\n      <th>num_industrias_transformadoras</th>\n    </tr>\n  </thead>\n  <tbody>\n    <tr>\n      <th>count</th>\n      <td>5187.000000</td>\n      <td>5187.000000</td>\n      <td>5.187000e+03</td>\n      <td>5.187000e+03</td>\n      <td>5187.000000</td>\n      <td>5187.000000</td>\n      <td>5187.000000</td>\n      <td>5187.0</td>\n      <td>5187.000000</td>\n      <td>5187.000000</td>\n      <td>5187.000000</td>\n      <td>5187.000000</td>\n      <td>5187.000000</td>\n      <td>5187.000000</td>\n      <td>5187.000000</td>\n      <td>5187.000000</td>\n      <td>5187.000000</td>\n    </tr>\n    <tr>\n      <th>mean</th>\n      <td>2022.842105</td>\n      <td>6.894737</td>\n      <td>6.518676e+06</td>\n      <td>6.888616e+06</td>\n      <td>18808.416426</td>\n      <td>0.040486</td>\n      <td>214.150183</td>\n      <td>0.0</td>\n      <td>4242.803933</td>\n      <td>95.497205</td>\n      <td>128.463852</td>\n      <td>0.365529</td>\n      <td>27371.181415</td>\n      <td>9.612300</td>\n      <td>314.549084</td>\n      <td>3.549451</td>\n      <td>243.047619</td>\n    </tr>\n    <tr>\n      <th>std</th>\n      <td>0.586137</td>\n      <td>3.712284</td>\n      <td>1.177996e+07</td>\n      <td>1.426511e+07</td>\n      <td>29413.928256</td>\n      <td>0.211279</td>\n      <td>194.193563</td>\n      <td>0.0</td>\n      <td>6873.077695</td>\n      <td>121.267530</td>\n      <td>205.717131</td>\n      <td>4.073821</td>\n      <td>46187.414907</td>\n      <td>25.397713</td>\n      <td>856.174544</td>\n      <td>7.986467</td>\n      <td>381.962040</td>\n    </tr>\n    <tr>\n      <th>min</th>\n      <td>2022.000000</td>\n      <td>1.000000</td>\n      <td>1.000680e+05</td>\n      <td>0.000000e+00</td>\n      <td>1042.000000</td>\n      <td>0.000000</td>\n      <td>7.000000</td>\n      <td>0.0</td>\n      <td>174.000000</td>\n      <td>0.000000</td>\n      <td>1.000000</td>\n      <td>0.000000</td>\n      <td>1144.000000</td>\n      <td>0.000000</td>\n      <td>4.300000</td>\n      <td>0.000000</td>\n      <td>8.000000</td>\n    </tr>\n    <tr>\n      <th>25%</th>\n      <td>2022.000000</td>\n      <td>3.000000</td>\n      <td>1.266728e+06</td>\n      <td>4.113695e+05</td>\n      <td>4580.500000</td>\n      <td>0.000000</td>\n      <td>91.000000</td>\n      <td>0.0</td>\n      <td>1101.000000</td>\n      <td>28.000000</td>\n      <td>20.500000</td>\n      <td>0.000000</td>\n      <td>6151.000000</td>\n      <td>2.000000</td>\n      <td>24.700000</td>\n      <td>0.000000</td>\n      <td>43.000000</td>\n    </tr>\n    <tr>\n      <th>50%</th>\n      <td>2023.000000</td>\n      <td>8.000000</td>\n      <td>2.625888e+06</td>\n      <td>1.824003e+06</td>\n      <td>8935.000000</td>\n      <td>0.000000</td>\n      <td>141.000000</td>\n      <td>0.0</td>\n      <td>1990.000000</td>\n      <td>51.000000</td>\n      <td>53.000000</td>\n      <td>0.000000</td>\n      <td>11544.000000</td>\n      <td>2.000000</td>\n      <td>66.400000</td>\n      <td>1.000000</td>\n      <td>91.000000</td>\n    </tr>\n    <tr>\n      <th>75%</th>\n      <td>2023.000000</td>\n      <td>10.000000</td>\n      <td>7.113475e+06</td>\n      <td>5.962718e+06</td>\n      <td>21437.000000</td>\n      <td>0.000000</td>\n      <td>280.000000</td>\n      <td>0.0</td>\n      <td>4900.000000</td>\n      <td>119.000000</td>\n      <td>155.000000</td>\n      <td>0.000000</td>\n      <td>30042.000000</td>\n      <td>6.000000</td>\n      <td>176.700000</td>\n      <td>4.000000</td>\n      <td>246.000000</td>\n    </tr>\n    <tr>\n      <th>max</th>\n      <td>2024.000000</td>\n      <td>12.000000</td>\n      <td>1.641353e+08</td>\n      <td>1.279470e+08</td>\n      <td>312095.000000</td>\n      <td>2.000000</td>\n      <td>1185.000000</td>\n      <td>0.0</td>\n      <td>79984.000000</td>\n      <td>1229.000000</td>\n      <td>2186.000000</td>\n      <td>75.000000</td>\n      <td>530262.000000</td>\n      <td>388.000000</td>\n      <td>7310.100000</td>\n      <td>87.000000</td>\n      <td>2531.000000</td>\n    </tr>\n  </tbody>\n</table>\n</div>"
     },
     "execution_count": 28,
     "metadata": {},
     "output_type": "execute_result"
    }
   ],
   "source": [
    "merged_df.describe()"
   ],
   "metadata": {
    "collapsed": false,
    "ExecuteTime": {
     "end_time": "2024-05-17T13:54:28.737849Z",
     "start_time": "2024-05-17T13:54:28.654377Z"
    }
   },
   "id": "6f4a216bf9615e69",
   "execution_count": 28
  },
  {
   "cell_type": "markdown",
   "source": [
    "### Guardar num ficheiro com concelho"
   ],
   "metadata": {
    "collapsed": false
   },
   "id": "e1fa05fd3fbecd09"
  },
  {
   "cell_type": "code",
   "outputs": [
    {
     "name": "stdout",
     "output_type": "stream",
     "text": [
      "DataFrame guardado em  ../data/treated/merged-dataset-concelho-industria.csv\n"
     ]
    }
   ],
   "source": [
    "file_path = data_path + 'treated/merged-dataset-concelho-industria.csv'\n",
    "\n",
    "merged_df.to_csv(file_path, index=False)\n",
    "\n",
    "print(\"DataFrame guardado em \", file_path)"
   ],
   "metadata": {
    "collapsed": false,
    "ExecuteTime": {
     "end_time": "2024-05-17T13:54:28.739073Z",
     "start_time": "2024-05-17T13:54:28.670132Z"
    }
   },
   "id": "71f65cd0b6bb161d",
   "execution_count": 29
  },
  {
   "cell_type": "markdown",
   "source": [
    "### Guardar num ficheiro sem concelho"
   ],
   "metadata": {
    "collapsed": false
   },
   "id": "336ed8e018f5d4a6"
  },
  {
   "cell_type": "code",
   "outputs": [
    {
     "name": "stdout",
     "output_type": "stream",
     "text": [
      "DataFrame guardado em  ../data/treated/merged-dataset-industria.csv\n"
     ]
    }
   ],
   "source": [
    "file_path = data_path + 'treated/merged-dataset-industria.csv'\n",
    "\n",
    "merged_df.drop(columns=['concelho'], inplace=True)\n",
    "\n",
    "merged_df.to_csv(file_path, index=False)\n",
    "\n",
    "print(\"DataFrame guardado em \", file_path)"
   ],
   "metadata": {
    "collapsed": false,
    "ExecuteTime": {
     "end_time": "2024-05-17T13:54:28.757558Z",
     "start_time": "2024-05-17T13:54:28.686382Z"
    }
   },
   "id": "5d5dfe56d0ef9b5f",
   "execution_count": 30
  }
 ],
 "metadata": {
  "kernelspec": {
   "display_name": "Python 3",
   "language": "python",
   "name": "python3"
  },
  "language_info": {
   "codemirror_mode": {
    "name": "ipython",
    "version": 2
   },
   "file_extension": ".py",
   "mimetype": "text/x-python",
   "name": "python",
   "nbconvert_exporter": "python",
   "pygments_lexer": "ipython2",
   "version": "2.7.6"
  }
 },
 "nbformat": 4,
 "nbformat_minor": 5
}
