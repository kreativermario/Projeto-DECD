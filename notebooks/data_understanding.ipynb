{
 "cells": [
  {
   "cell_type": "markdown",
   "source": [
    "### Import das dependências"
   ],
   "metadata": {
    "collapsed": false,
    "id": "18ccd133ae2f5781"
   },
   "id": "18ccd133ae2f5781"
  },
  {
   "cell_type": "code",
   "id": "initial_id",
   "metadata": {
    "collapsed": true,
    "id": "initial_id"
   },
   "source": [
    "import os\n",
    "\n",
    "import numpy as np\n",
    "import pandas as pd\n",
    "\n",
    "%matplotlib inline\n",
    "import matplotlib.pyplot as plt\n",
    "import seaborn as sns\n",
    "\n",
    "sns.set_theme()"
   ],
   "outputs": [],
   "execution_count": null
  },
  {
   "cell_type": "markdown",
   "source": [
    "### Importar os datasets"
   ],
   "metadata": {
    "collapsed": false,
    "id": "8856ce864347869"
   },
   "id": "8856ce864347869"
  },
  {
   "cell_type": "code",
   "source": [
    "data_path = '../data/' if os.path.exists('../data/') else 'https://raw.githubusercontent.com/kreativermario/Projeto-DECD/master/data/'\n",
    "\n",
    "merged_path = data_path + 'treated/merged-dataset.csv'\n",
    "\n",
    "merged_df = pd.read_csv(merged_path)\n"
   ],
   "metadata": {
    "id": "2fbd26288bce69d0"
   },
   "id": "2fbd26288bce69d0",
   "outputs": [],
   "execution_count": null
  },
  {
   "cell_type": "markdown",
   "source": [
    "### Verificar qualidade dos dados\n",
    "- Verificar valores null\n",
    "- Verificar duplicados"
   ],
   "metadata": {
    "collapsed": false
   },
   "id": "c2929052d13df653"
  },
  {
   "cell_type": "code",
   "source": [
    "# Verificar valores vazios\n",
    "nulls = merged_df.isnull().sum()\n",
    "print('Número de nulls: ', nulls)\n",
    "\n",
    "# Verificar duplicados\n",
    "duplicates = merged_df.duplicated()\n",
    "print(\"Número de linhas duplicadas:\", duplicates.sum())\n"
   ],
   "metadata": {
    "collapsed": false
   },
   "id": "5c15959ed6fc7fb1",
   "outputs": [],
   "execution_count": null
  },
  {
   "cell_type": "code",
   "source": [
    "# Estatísticas sumarizadas\n",
    "merged_df.describe()"
   ],
   "metadata": {
    "collapsed": false
   },
   "id": "a8dea0f68c2b660b",
   "outputs": [],
   "execution_count": null
  },
  {
   "cell_type": "code",
   "source": [
    "merged_df.info()"
   ],
   "metadata": {
    "collapsed": false
   },
   "id": "4bce091255c9dc06",
   "outputs": [],
   "execution_count": null
  },
  {
   "cell_type": "markdown",
   "source": [
    "### Verificar a correlação entre as variáveis númericas"
   ],
   "metadata": {
    "collapsed": false
   },
   "id": "45095d2f6b075329"
  },
  {
   "cell_type": "code",
   "source": [
    "# Heatmap\n",
    "plt.figure(figsize=(10, 8))\n",
    "sns.heatmap(merged_df.corr(numeric_only=True), annot=True, cmap='coolwarm', fmt=\".2f\")\n",
    "plt.title('Matriz de correlação')\n",
    "plt.show()"
   ],
   "metadata": {
    "collapsed": false
   },
   "id": "481ee2634edb7179",
   "outputs": [],
   "execution_count": null
  },
  {
   "cell_type": "markdown",
   "source": [
    "### Procurar por Outliers"
   ],
   "metadata": {
    "collapsed": false
   },
   "id": "837d9fda69ed1298"
  },
  {
   "cell_type": "code",
   "source": [
    "def find_outliers(f):\n",
    "    q1 = f.quantile(0.25)\n",
    "    q3 = f.quantile(0.75)\n",
    "    iqr = q3 - q1\n",
    "    return f[(f < (q1 - 1.5 * iqr)) | (f > (q3 + 1.5 * iqr))]"
   ],
   "metadata": {
    "collapsed": false
   },
   "id": "908364449e2bf763",
   "outputs": [],
   "execution_count": null
  },
  {
   "cell_type": "markdown",
   "source": [
    "#### Gráfico da variável Ano"
   ],
   "metadata": {
    "collapsed": false
   },
   "id": "f503f418ef0fd273"
  },
  {
   "cell_type": "code",
   "source": [
    "# Coluna para analisar\n",
    "coluna_ano = 'ano'\n",
    "\n",
    "# Criar subplots\n",
    "fig, (ax_boxplot, ax_hist) = plt.subplots(1, 2, figsize=(12, 6))\n",
    "\n",
    "# Boxplot\n",
    "ax_boxplot.boxplot(merged_df[coluna_ano], vert=False)\n",
    "ax_boxplot.set_title(f'Boxplot de {coluna_ano}')\n",
    "ax_boxplot.set_xlabel(coluna_ano)\n",
    "\n",
    "# Histograma\n",
    "ax_hist.hist(merged_df[coluna_ano], bins=10)\n",
    "ax_hist.set_title(f'Distribuição de {coluna_ano}')\n",
    "ax_hist.set_xlabel(coluna_ano)\n",
    "ax_hist.set_ylabel('Frequência')\n",
    "\n",
    "plt.tight_layout()\n",
    "plt.show()\n",
    "\n"
   ],
   "metadata": {
    "collapsed": false
   },
   "id": "b1777b65bfd22d16",
   "outputs": [],
   "execution_count": null
  },
  {
   "metadata": {},
   "cell_type": "code",
   "source": [
    "# Encontrar outliers\n",
    "outliers = find_outliers(merged_df[coluna_ano])\n",
    "print(f\"Outliers na coluna '{coluna_ano}':\\n{outliers}\\n\")\n",
    "\n",
    "# Calcular o número total de valores na coluna 'energia_ativa_(kwh)'\n",
    "total_valores = len(merged_df[coluna_ano])\n",
    "\n",
    "# Calcular o número de outliers\n",
    "num_outliers = len(outliers)\n",
    "\n",
    "# Calcular a percentagem de outliers\n",
    "percent_outliers = (num_outliers / total_valores) * 100\n",
    "\n",
    "print(f\"% outliers '{coluna_ano}' é de {percent_outliers:.2f}%.\")"
   ],
   "id": "f67990ced70bc0d4",
   "outputs": [],
   "execution_count": null
  },
  {
   "cell_type": "markdown",
   "source": [
    "#### Gráfico da variável Mês"
   ],
   "metadata": {
    "collapsed": false
   },
   "id": "ee36d8e5ab07ed7a"
  },
  {
   "cell_type": "code",
   "source": [
    "# Coluna para analisar\n",
    "coluna_mes = 'mês'\n",
    "\n",
    "# Criar subplots\n",
    "fig, (ax_boxplot, ax_hist) = plt.subplots(1, 2, figsize=(12, 6))\n",
    "\n",
    "# Boxplot\n",
    "ax_boxplot.boxplot(merged_df[coluna_mes], vert=False)\n",
    "ax_boxplot.set_title(f'Boxplot de {coluna_mes}')\n",
    "ax_boxplot.set_xlabel(coluna_mes)\n",
    "\n",
    "# Histograma\n",
    "ax_hist.hist(merged_df[coluna_mes], bins=10)\n",
    "ax_hist.set_title(f'Distribuição de {coluna_mes}')\n",
    "ax_hist.set_xlabel(coluna_mes)\n",
    "ax_hist.set_ylabel('Frequência')\n",
    "\n",
    "plt.tight_layout()\n",
    "plt.show()\n"
   ],
   "metadata": {
    "collapsed": false
   },
   "id": "57943a8d19ae2d25",
   "outputs": [],
   "execution_count": null
  },
  {
   "metadata": {},
   "cell_type": "code",
   "source": [
    "# Encontrar outliers\n",
    "outliers = find_outliers(merged_df[coluna_mes])\n",
    "print(f\"Outliers na coluna '{coluna_mes}':\\n{outliers}\\n\")\n",
    "\n",
    "# Calcular o número total de valores na coluna 'mês'\n",
    "total_valores = len(merged_df[coluna_mes])\n",
    "\n",
    "# Calcular o número de outliers\n",
    "num_outliers = len(outliers)\n",
    "\n",
    "# Calcular a percentagem de outliers\n",
    "percent_outliers = (num_outliers / total_valores) * 100\n",
    "\n",
    "print(f\"% outliers '{coluna_mes}' é de {percent_outliers:.2f}%.\")\n"
   ],
   "id": "a0070167e8992c1e",
   "outputs": [],
   "execution_count": null
  },
  {
   "cell_type": "markdown",
   "source": [
    "#### Gráfico da variável Energia Ativa Baixa Tensão (kWh)"
   ],
   "metadata": {
    "collapsed": false
   },
   "id": "42b15fa1ef11b5a"
  },
  {
   "cell_type": "code",
   "source": [
    "# Coluna para analisar\n",
    "coluna_energia_ativa_baixa = 'energia_ativa_baixa_tensao_kwh'\n",
    "\n",
    "# Criar subplots\n",
    "fig, (ax_boxplot, ax_hist) = plt.subplots(1, 2, figsize=(12, 6))\n",
    "\n",
    "# Boxplot\n",
    "ax_boxplot.boxplot(merged_df[coluna_energia_ativa_baixa], vert=False)\n",
    "ax_boxplot.set_title(f'Boxplot de {coluna_energia_ativa_baixa}')\n",
    "ax_boxplot.set_xlabel(coluna_energia_ativa_baixa)\n",
    "\n",
    "# Histograma\n",
    "ax_hist.hist(merged_df[coluna_energia_ativa_baixa], bins=10)\n",
    "ax_hist.set_title(f'Distribuição de {coluna_energia_ativa_baixa}')\n",
    "ax_hist.set_xlabel(coluna_energia_ativa_baixa)\n",
    "ax_hist.set_ylabel('Frequência')\n",
    "\n",
    "plt.tight_layout()\n",
    "plt.show()\n",
    "\n",
    "# Filtrar os dados para valores entre 0 e 0.2 * 1e8 (20.000.000 kWh)\n",
    "lower_limit_1 = 0\n",
    "high_limit_1 = 0.2 * 1e8\n",
    "filtered_data_1 = merged_df[(merged_df[coluna_energia_ativa_baixa] >= lower_limit_1) & (merged_df[coluna_energia_ativa_baixa] <= high_limit_1 )]\n",
    "\n",
    "# Filtrar os dados para valores maiores que 0.2 * 1e8 (20.000.000 kWh)\n",
    "filtered_data_2 = merged_df[(merged_df[coluna_energia_ativa_baixa] > high_limit_1 )]\n",
    "\n",
    "# Criar subplots\n",
    "fig, axes = plt.subplots(1, 2, figsize=(16, 6))\n",
    "\n",
    "# Histograma para valores entre 0 e 0.2 * 1e8\n",
    "axes[0].hist(filtered_data_1[coluna_energia_ativa_baixa], bins=10)\n",
    "axes[0].set_title(f'Distribuição de {coluna_energia_ativa_baixa} (Valores de {lower_limit_1} a {high_limit_1})')\n",
    "axes[0].set_xlabel(coluna_energia_ativa_baixa)\n",
    "axes[0].set_ylabel('Frequência')\n",
    "\n",
    "# Histograma para valores maiores que 0.2 * 1e8\n",
    "axes[1].hist(filtered_data_2[coluna_energia_ativa_baixa], bins=10)\n",
    "axes[1].set_title(f'Distribuição de {coluna_energia_ativa_baixa} (Valores maiores que {high_limit_1})')\n",
    "axes[1].set_xlabel(coluna_energia_ativa_baixa)\n",
    "axes[1].set_ylabel('Frequência')\n",
    "\n",
    "plt.tight_layout()\n",
    "plt.show()"
   ],
   "metadata": {
    "collapsed": false
   },
   "id": "dc646ba58a52f1c2",
   "outputs": [],
   "execution_count": null
  },
  {
   "metadata": {},
   "cell_type": "code",
   "source": [
    "# Encontrar outliers\n",
    "outliers = find_outliers(merged_df[coluna_energia_ativa_baixa])\n",
    "print(f\"Outliers na coluna '{coluna_energia_ativa_baixa}':\\n{outliers}\\n\")\n",
    "\n",
    "# Calcular o número total de valores na coluna 'energia_ativa_(kwh)'\n",
    "total_valores = len(merged_df[coluna_energia_ativa_baixa])\n",
    "\n",
    "# Calcular o número de outliers\n",
    "num_outliers = len(outliers)\n",
    "\n",
    "# Calcular a percentagem de outliers\n",
    "percent_outliers = (num_outliers / total_valores) * 100\n",
    "\n",
    "print(f\"% outliers '{coluna_energia_ativa_baixa}' é de {percent_outliers:.2f}%.\")"
   ],
   "id": "6c940c14aecc40da",
   "outputs": [],
   "execution_count": null
  },
  {
   "cell_type": "markdown",
   "source": [
    "#### Gráfico da variável Energia Ativa Alta Tensão (kWh)"
   ],
   "metadata": {
    "collapsed": false
   },
   "id": "c739d5bf880cc18b"
  },
  {
   "cell_type": "code",
   "source": [
    "# Coluna para analisar\n",
    "coluna_energia_ativa_alta = 'energia_ativa_alta_tensao_kwh'\n",
    "\n",
    "# Criar subplots\n",
    "fig, (ax_boxplot, ax_hist) = plt.subplots(1, 2, figsize=(12, 6))\n",
    "\n",
    "# Boxplot\n",
    "ax_boxplot.boxplot(merged_df[coluna_energia_ativa_alta], vert=False)\n",
    "ax_boxplot.set_title(f'Boxplot de {coluna_energia_ativa_alta}')\n",
    "ax_boxplot.set_xlabel(coluna_energia_ativa_alta)\n",
    "\n",
    "# Histograma\n",
    "ax_hist.hist(merged_df[coluna_energia_ativa_alta], bins=10)\n",
    "ax_hist.set_title(f'Distribuição de {coluna_energia_ativa_alta}')\n",
    "ax_hist.set_xlabel(coluna_energia_ativa_alta)\n",
    "ax_hist.set_ylabel('Frequência')\n",
    "\n",
    "plt.tight_layout()\n",
    "plt.show()\n",
    "\n",
    "# Filtrar os dados para valores entre 0 e 0.2 * 1e8 (20.000.000 kWh)\n",
    "lower_limit_1 = 0\n",
    "high_limit_1 = 0.2 * 1e8\n",
    "filtered_data_1 = merged_df[(merged_df[coluna_energia_ativa_alta] >= lower_limit_1) & (merged_df[coluna_energia_ativa_alta] <= high_limit_1 )]\n",
    "\n",
    "# Filtrar os dados para valores maiores que 0.2 * 1e8 (20.000.000 kWh)\n",
    "filtered_data_2 = merged_df[(merged_df[coluna_energia_ativa_alta] > high_limit_1 )]\n",
    "\n",
    "# Criar subplots\n",
    "fig, axes = plt.subplots(1, 2, figsize=(16, 6))\n",
    "\n",
    "# Histograma para valores entre 0 e 0.2 * 1e8\n",
    "axes[0].hist(filtered_data_1[coluna_energia_ativa_alta], bins=10)\n",
    "axes[0].set_title(f'Distribuição de {coluna_energia_ativa_alta} (Valores de {lower_limit_1} a {high_limit_1})')\n",
    "axes[0].set_xlabel(coluna_energia_ativa_alta)\n",
    "axes[0].set_ylabel('Frequência')\n",
    "\n",
    "# Histograma para valores maiores que 0.2 * 1e8\n",
    "axes[1].hist(filtered_data_2[coluna_energia_ativa_alta], bins=10)\n",
    "axes[1].set_title(f'Distribuição de {coluna_energia_ativa_alta} (Valores maiores que {high_limit_1})')\n",
    "axes[1].set_xlabel(coluna_energia_ativa_alta)\n",
    "axes[1].set_ylabel('Frequência')\n",
    "\n",
    "plt.tight_layout()\n",
    "plt.show()"
   ],
   "metadata": {
    "collapsed": false
   },
   "id": "6e006ab04d72382b",
   "outputs": [],
   "execution_count": null
  },
  {
   "metadata": {},
   "cell_type": "code",
   "source": [
    "# Encontrar outliers\n",
    "outliers = find_outliers(merged_df[coluna_energia_ativa_alta])\n",
    "print(f\"Outliers na coluna '{coluna_energia_ativa_alta}':\\n{outliers}\\n\")\n",
    "\n",
    "# Calcular o número total de valores na coluna 'energia_ativa_(kwh)'\n",
    "total_valores = len(merged_df[coluna_energia_ativa_alta])\n",
    "\n",
    "# Calcular o número de outliers\n",
    "num_outliers = len(outliers)\n",
    "\n",
    "# Calcular a percentagem de outliers\n",
    "percent_outliers = (num_outliers / total_valores) * 100\n",
    "\n",
    "print(f\"% outliers '{coluna_energia_ativa_alta}' é de {percent_outliers:.2f}%.\")"
   ],
   "id": "d6bb09386a0c1c56",
   "outputs": [],
   "execution_count": null
  },
  {
   "cell_type": "markdown",
   "source": [
    "#### Gráfico da variável CPEs Doméstico Baixa Tensão"
   ],
   "metadata": {
    "collapsed": false
   },
   "id": "66332e5c9b0cb2b"
  },
  {
   "cell_type": "code",
   "source": [
    "# Coluna para o histograma\n",
    "coluna_cpes_domestico_baixa = 'cpes_domestico_baixa_tensao'\n",
    "\n",
    "# Criar subplots\n",
    "fig, (ax_boxplot, ax_hist) = plt.subplots(1, 2, figsize=(12, 6))\n",
    "\n",
    "# Boxplot\n",
    "ax_boxplot.boxplot(merged_df[coluna_cpes_domestico_baixa], vert=False)\n",
    "ax_boxplot.set_title(f'Boxplot de {coluna_cpes_domestico_baixa}')\n",
    "ax_boxplot.set_xlabel('CPEs Doméstico')\n",
    "\n",
    "\n",
    "# Histograma\n",
    "ax_hist.hist(merged_df[coluna_cpes_domestico_baixa], bins=10)\n",
    "ax_hist.set_title(f'Distribuição de {coluna_cpes_domestico_baixa}')\n",
    "ax_hist.set_xlabel(coluna_cpes_domestico_baixa)\n",
    "ax_hist.set_ylabel('Frequência')\n",
    "\n",
    "plt.tight_layout()\n",
    "plt.show()\n",
    "\n",
    "# Filtrar os dados para valores entre 0 e 50000\n",
    "lower_limit_1 = 0\n",
    "high_limit_1 = 50000\n",
    "filtered_data_1 = merged_df[(merged_df[coluna_cpes_domestico_baixa] >= lower_limit_1) & (merged_df[coluna_cpes_domestico_baixa] <= high_limit_1 )]\n",
    "\n",
    "# Filtrar os dados para valores maiores que 50000\n",
    "filtered_data_2 = merged_df[(merged_df[coluna_cpes_domestico_baixa] > high_limit_1 )]\n",
    "\n",
    "# Criar subplots\n",
    "fig, axes = plt.subplots(1, 2, figsize=(16, 6))\n",
    "\n",
    "# Histograma para valores entre 0 e 50000\n",
    "axes[0].hist(filtered_data_1[coluna_cpes_domestico_baixa], bins=10)\n",
    "axes[0].set_title(f'Distribuição de {coluna_cpes_domestico_baixa} (Valores de {lower_limit_1} a {high_limit_1})')\n",
    "axes[0].set_xlabel(coluna_cpes_domestico_baixa)\n",
    "axes[0].set_ylabel('Frequência')\n",
    "\n",
    "# Histograma para valores maiores que 50000\n",
    "axes[1].hist(filtered_data_2[coluna_cpes_domestico_baixa], bins=10)\n",
    "axes[1].set_title(f'Distribuição de {coluna_cpes_domestico_baixa} (Valores maiores que {high_limit_1})')\n",
    "axes[1].set_xlabel(coluna_cpes_domestico_baixa)\n",
    "axes[1].set_ylabel('Frequência')\n",
    "\n",
    "plt.tight_layout()\n",
    "plt.show()"
   ],
   "metadata": {
    "collapsed": false
   },
   "id": "6974b61038b18e6c",
   "outputs": [],
   "execution_count": null
  },
  {
   "metadata": {},
   "cell_type": "code",
   "source": [
    "# Encontrar outliers\n",
    "outliers = find_outliers(merged_df[coluna_cpes_domestico_baixa])\n",
    "print(f\"Outliers na coluna '{coluna_cpes_domestico_baixa}':\\n{outliers}\\n\")\n",
    "\n",
    "# Calcular o número total de valores na coluna 'energia_ativa_(kwh)'\n",
    "total_valores = len(merged_df[coluna_cpes_domestico_baixa])\n",
    "\n",
    "# Calcular o número de outliers\n",
    "num_outliers = len(outliers)\n",
    "\n",
    "# Calcular a percentagem de outliers\n",
    "percent_outliers = (num_outliers / total_valores) * 100\n",
    "\n",
    "print(f\"% outliers '{coluna_cpes_domestico_baixa}' é de {percent_outliers:.2f}%.\")"
   ],
   "id": "662224791197b166",
   "outputs": [],
   "execution_count": null
  },
  {
   "cell_type": "markdown",
   "source": [
    "#### Gráfico da variável CPEs Doméstico Alta Tensão"
   ],
   "metadata": {
    "collapsed": false
   },
   "id": "2ece95fbb6223d82"
  },
  {
   "cell_type": "code",
   "source": [
    "# Coluna para o histograma\n",
    "coluna_cpes_domestico_alta = 'cpes_domestico_alta_tensao'\n",
    "\n",
    "# Criar subplots\n",
    "fig, (ax_boxplot, ax_hist) = plt.subplots(1, 2, figsize=(12, 6))\n",
    "\n",
    "# Boxplot\n",
    "ax_boxplot.boxplot(merged_df[coluna_cpes_domestico_alta], vert=False)\n",
    "ax_boxplot.set_title(f'Boxplot de {coluna_cpes_domestico_alta}')\n",
    "ax_boxplot.set_xlabel('CPEs Doméstico')\n",
    "\n",
    "\n",
    "# Histograma\n",
    "ax_hist.hist(merged_df[coluna_cpes_domestico_alta], bins=10)\n",
    "ax_hist.set_title(f'Distribuição de {coluna_cpes_domestico_alta}')\n",
    "ax_hist.set_xlabel(coluna_cpes_domestico_alta)\n",
    "ax_hist.set_ylabel('Frequência')\n",
    "\n",
    "plt.tight_layout()\n",
    "plt.show()\n",
    "\n",
    "# Filtrar os dados para valores entre 0 e 50000\n",
    "lower_limit_1 = 0\n",
    "high_limit_1 = 0.25\n",
    "filtered_data_1 = merged_df[(merged_df[coluna_cpes_domestico_alta] >= lower_limit_1) & (merged_df[coluna_cpes_domestico_alta] <= high_limit_1 )]\n",
    "\n",
    "# Filtrar os dados para valores maiores que 50000\n",
    "filtered_data_2 = merged_df[(merged_df[coluna_cpes_domestico_alta] > high_limit_1 )]\n",
    "\n",
    "# Criar subplots\n",
    "fig, axes = plt.subplots(1, 2, figsize=(16, 6))\n",
    "\n",
    "# Histograma para valores entre 0 e 50000\n",
    "axes[0].hist(filtered_data_1[coluna_cpes_domestico_alta], bins=10)\n",
    "axes[0].set_title(f'Distribuição de {coluna_cpes_domestico_alta} (Valores de {lower_limit_1} a {high_limit_1})')\n",
    "axes[0].set_xlabel(coluna_cpes_domestico_alta)\n",
    "axes[0].set_ylabel('Frequência')\n",
    "\n",
    "# Histograma para valores maiores que 50000\n",
    "axes[1].hist(filtered_data_2[coluna_cpes_domestico_alta], bins=10)\n",
    "axes[1].set_title(f'Distribuição de {coluna_cpes_domestico_alta} (Valores maiores que {high_limit_1})')\n",
    "axes[1].set_xlabel(coluna_cpes_domestico_alta)\n",
    "axes[1].set_ylabel('Frequência')\n",
    "\n",
    "plt.tight_layout()\n",
    "plt.show()"
   ],
   "metadata": {
    "collapsed": false
   },
   "id": "12d0d9e4190b6648",
   "outputs": [],
   "execution_count": null
  },
  {
   "metadata": {},
   "cell_type": "code",
   "source": [
    "# Encontrar outliers\n",
    "outliers = find_outliers(merged_df[coluna_cpes_domestico_alta])\n",
    "print(f\"Outliers na coluna '{coluna_cpes_domestico_alta}':\\n{outliers}\\n\")\n",
    "\n",
    "# Calcular o número total de valores na coluna 'coluna_cpes_domestico_alta'\n",
    "total_valores = len(merged_df[coluna_cpes_domestico_alta])\n",
    "\n",
    "# Calcular o número de outliers\n",
    "num_outliers = len(outliers)\n",
    "\n",
    "# Calcular a percentagem de outliers\n",
    "percent_outliers = (num_outliers / total_valores) * 100\n",
    "\n",
    "print(f\"% outliers '{coluna_cpes_domestico_alta}' é de {percent_outliers:.2f}%.\")"
   ],
   "id": "cb0e2e865ee5d032",
   "outputs": [],
   "execution_count": null
  },
  {
   "cell_type": "markdown",
   "source": [
    "#### Gráfico da variável CPEs Iluminação Pública Alta Tensão"
   ],
   "metadata": {
    "collapsed": false
   },
   "id": "2e6d664b9b49ffdf"
  },
  {
   "cell_type": "code",
   "source": [
    "# Coluna para o histograma\n",
    "coluna_cpes_il_pub_alta = 'cpes_iluminacao_publica_alta_tensao'\n",
    "\n",
    "# Criar subplots\n",
    "fig, (ax_boxplot, ax_hist) = plt.subplots(1, 2, figsize=(12, 6))\n",
    "\n",
    "# Boxplot\n",
    "ax_boxplot.boxplot(merged_df[coluna_cpes_il_pub_alta], vert=False)\n",
    "ax_boxplot.set_title(f'Boxplot de {coluna_cpes_il_pub_alta}')\n",
    "ax_boxplot.set_xlabel(coluna_cpes_il_pub_alta)\n",
    "\n",
    "# Histograma\n",
    "ax_hist.hist(merged_df[coluna_cpes_il_pub_alta], bins=10)\n",
    "ax_hist.set_title(f'Distribuição de {coluna_cpes_il_pub_alta}')\n",
    "ax_hist.set_xlabel(coluna_cpes_il_pub_alta)\n",
    "ax_hist.set_ylabel('Frequência')\n",
    "\n",
    "plt.tight_layout()\n",
    "plt.show()"
   ],
   "metadata": {
    "collapsed": false
   },
   "id": "c69bea540ab8dfc1",
   "outputs": [],
   "execution_count": null
  },
  {
   "metadata": {},
   "cell_type": "code",
   "source": [
    "# Encontrar outliers\n",
    "outliers = find_outliers(merged_df[coluna_cpes_il_pub_alta])\n",
    "print(f\"Outliers na coluna '{coluna_cpes_il_pub_alta}':\\n{outliers}\\n\")\n",
    "\n",
    "# Calcular o número total de valores na coluna 'cpes iluminacao publica'\n",
    "total_valores = len(merged_df[coluna_cpes_il_pub_alta])\n",
    "\n",
    "# Calcular o número de outliers\n",
    "num_outliers = len(outliers)\n",
    "\n",
    "# Calcular a percentagem de outliers\n",
    "percent_outliers = (num_outliers / total_valores) * 100\n",
    "\n",
    "print(f\"% outliers '{coluna_cpes_il_pub_alta}' é de {percent_outliers:.2f}%.\")"
   ],
   "id": "aff16b9c2ee286f4",
   "outputs": [],
   "execution_count": null
  },
  {
   "cell_type": "markdown",
   "source": [
    "#### Gráfico da variável CPEs Iluminação Pública Baixa Tensão"
   ],
   "metadata": {
    "collapsed": false
   },
   "id": "88b55d2936a5e97e"
  },
  {
   "cell_type": "code",
   "source": [
    "# Coluna para o histograma\n",
    "coluna_cpes_il_pub_baixa = 'cpes_iluminacao_publica_baixa_tensao'\n",
    "\n",
    "# Criar subplots\n",
    "fig, (ax_boxplot, ax_hist) = plt.subplots(1, 2, figsize=(12, 6))\n",
    "\n",
    "# Boxplot\n",
    "ax_boxplot.boxplot(merged_df[coluna_cpes_il_pub_baixa], vert=False)\n",
    "ax_boxplot.set_title(f'Boxplot de {coluna_cpes_il_pub_baixa}')\n",
    "ax_boxplot.set_xlabel(coluna_cpes_il_pub_baixa)\n",
    "\n",
    "# Histograma\n",
    "ax_hist.hist(merged_df[coluna_cpes_il_pub_baixa], bins=10)\n",
    "ax_hist.set_title(f'Distribuição de {coluna_cpes_il_pub_baixa}')\n",
    "ax_hist.set_xlabel(coluna_cpes_il_pub_baixa)\n",
    "ax_hist.set_ylabel('Frequência')\n",
    "\n",
    "plt.tight_layout()\n",
    "plt.show()\n",
    "\n",
    "# Filtrar os dados para valores entre 0 e 400\n",
    "lower_limit_1 = 0\n",
    "high_limit_1 = 400\n",
    "filtered_data_1 = merged_df[(merged_df[coluna_cpes_il_pub_baixa] >= lower_limit_1) & (merged_df[coluna_cpes_il_pub_baixa] <= high_limit_1 )]\n",
    "\n",
    "# Filtrar os dados para valores maiores que 400\n",
    "filtered_data_2 = merged_df[(merged_df[coluna_cpes_il_pub_baixa] > high_limit_1 )]\n",
    "\n",
    "# Criar subplots\n",
    "fig, axes = plt.subplots(1, 2, figsize=(16, 6))\n",
    "\n",
    "# Histograma para valores entre 0 e 400\n",
    "axes[0].hist(filtered_data_1[coluna_cpes_il_pub_baixa], bins=10)\n",
    "axes[0].set_title(f'Distribuição de {coluna_cpes_il_pub_baixa} (Valores de {lower_limit_1} a {high_limit_1})')\n",
    "axes[0].set_xlabel(coluna_cpes_il_pub_baixa)\n",
    "axes[0].set_ylabel('Frequência')\n",
    "\n",
    "# Histograma para valores maiores que 400\n",
    "axes[1].hist(filtered_data_2[coluna_cpes_il_pub_baixa], bins=10)\n",
    "axes[1].set_title(f'Distribuição de {coluna_cpes_il_pub_baixa} (Valores maiores que {high_limit_1})')\n",
    "axes[1].set_xlabel(coluna_cpes_il_pub_baixa)\n",
    "axes[1].set_ylabel('Frequência')\n",
    "\n",
    "plt.tight_layout()\n",
    "plt.show()"
   ],
   "metadata": {
    "collapsed": false
   },
   "id": "bf934637ee0a4481",
   "outputs": [],
   "execution_count": null
  },
  {
   "metadata": {},
   "cell_type": "code",
   "source": [
    "# Encontrar outliers\n",
    "outliers = find_outliers(merged_df[coluna_cpes_il_pub_baixa])\n",
    "print(f\"Outliers na coluna '{coluna_cpes_il_pub_baixa}':\\n{outliers}\\n\")\n",
    "\n",
    "# Calcular o número total de valores na coluna 'cpes iluminacao publica'\n",
    "total_valores = len(merged_df[coluna_cpes_il_pub_baixa])\n",
    "\n",
    "# Calcular o número de outliers\n",
    "num_outliers = len(outliers)\n",
    "\n",
    "# Calcular a percentagem de outliers\n",
    "percent_outliers = (num_outliers / total_valores) * 100\n",
    "\n",
    "print(f\"% outliers '{coluna_cpes_il_pub_baixa}' é de {percent_outliers:.2f}%.\")"
   ],
   "id": "dd72cc5d6a48dcdb",
   "outputs": [],
   "execution_count": null
  },
  {
   "cell_type": "markdown",
   "source": [
    "#### Gráfico da variável CPEs Não Doméstico Alta Tensão"
   ],
   "metadata": {
    "collapsed": false
   },
   "id": "d213a193c16ae054"
  },
  {
   "cell_type": "code",
   "source": [
    "# Coluna para o histograma\n",
    "coluna_cpes_nao_domestico_alta = 'cpes_nao_domestico_alta_tensao'\n",
    "\n",
    "# Criar subplots\n",
    "fig, (ax_boxplot, ax_hist) = plt.subplots(1, 2, figsize=(12, 6))\n",
    "\n",
    "# Boxplot\n",
    "ax_boxplot.boxplot(merged_df[coluna_cpes_nao_domestico_alta], vert=False)\n",
    "ax_boxplot.set_title(f'Boxplot de {coluna_cpes_nao_domestico_alta}')\n",
    "ax_boxplot.set_xlabel(coluna_cpes_nao_domestico_alta)\n",
    "\n",
    "# Histograma\n",
    "ax_hist.hist(merged_df[coluna_cpes_nao_domestico_alta], bins=10)\n",
    "ax_hist.set_title(f'Distribuição de {coluna_cpes_nao_domestico_alta}')\n",
    "ax_hist.set_xlabel(coluna_cpes_nao_domestico_alta)\n",
    "ax_hist.set_ylabel('Frequência')\n",
    "\n",
    "plt.tight_layout()\n",
    "plt.show()\n",
    "\n",
    "# Filtrar os dados para valores entre 0 e 400\n",
    "lower_limit_1 = 0\n",
    "high_limit_1 = 200\n",
    "filtered_data_1 = merged_df[(merged_df[coluna_cpes_nao_domestico_alta] >= lower_limit_1) & (merged_df[coluna_cpes_nao_domestico_alta] <= high_limit_1 )]\n",
    "\n",
    "# Filtrar os dados para valores maiores que 400\n",
    "filtered_data_2 = merged_df[(merged_df[coluna_cpes_nao_domestico_alta] > high_limit_1 )]\n",
    "\n",
    "# Criar subplots\n",
    "fig, axes = plt.subplots(1, 2, figsize=(16, 6))\n",
    "\n",
    "# Histograma para valores entre 0 e 400\n",
    "axes[0].hist(filtered_data_1[coluna_cpes_nao_domestico_alta], bins=10)\n",
    "axes[0].set_title(f'Distribuição de {coluna_cpes_nao_domestico_alta} (Valores de {lower_limit_1} a {high_limit_1})')\n",
    "axes[0].set_xlabel(coluna_cpes_nao_domestico_alta)\n",
    "axes[0].set_ylabel('Frequência')\n",
    "\n",
    "# Histograma para valores maiores que 400\n",
    "axes[1].hist(filtered_data_2[coluna_cpes_nao_domestico_alta], bins=10)\n",
    "axes[1].set_title(f'Distribuição de {coluna_cpes_nao_domestico_alta} (Valores maiores que {high_limit_1})')\n",
    "axes[1].set_xlabel(coluna_cpes_nao_domestico_alta)\n",
    "axes[1].set_ylabel('Frequência')\n",
    "\n",
    "plt.tight_layout()\n",
    "plt.show()"
   ],
   "metadata": {
    "collapsed": false
   },
   "id": "5c3b9f51759246c5",
   "outputs": [],
   "execution_count": null
  },
  {
   "metadata": {},
   "cell_type": "code",
   "source": [
    "# Encontrar outliers\n",
    "outliers = find_outliers(merged_df[coluna_cpes_nao_domestico_alta])\n",
    "print(f\"Outliers na coluna '{coluna_cpes_nao_domestico_alta}':\\n{outliers}\\n\")\n",
    "\n",
    "# Calcular o número total de valores na coluna 'energia_ativa_(kwh)'\n",
    "total_valores = len(merged_df[coluna_cpes_nao_domestico_alta])\n",
    "\n",
    "# Calcular o número de outliers\n",
    "num_outliers = len(outliers)\n",
    "\n",
    "# Calcular a percentagem de outliers\n",
    "percent_outliers = (num_outliers / total_valores) * 100\n",
    "\n",
    "print(f\"% outliers '{coluna_cpes_nao_domestico_alta}' é de {percent_outliers:.2f}%.\")"
   ],
   "id": "84ea035f5aca4a2f",
   "outputs": [],
   "execution_count": null
  },
  {
   "cell_type": "markdown",
   "source": [
    "#### Gráfico da variável CPEs Não Doméstico Baixa Tensão"
   ],
   "metadata": {
    "collapsed": false
   },
   "id": "d91fc467eef19ce0"
  },
  {
   "cell_type": "code",
   "source": [
    "# Coluna para o histograma\n",
    "coluna_cpes_nao_domestico_baixa = 'cpes_nao_domestico_baixa_tensao'\n",
    "\n",
    "# Criar subplots\n",
    "fig, (ax_boxplot, ax_hist) = plt.subplots(1, 2, figsize=(12, 6))\n",
    "\n",
    "# Boxplot\n",
    "ax_boxplot.boxplot(merged_df[coluna_cpes_nao_domestico_baixa], vert=False)\n",
    "ax_boxplot.set_title(f'Boxplot de {coluna_cpes_nao_domestico_baixa}')\n",
    "ax_boxplot.set_xlabel(coluna_cpes_nao_domestico_baixa)\n",
    "\n",
    "# Histograma\n",
    "ax_hist.hist(merged_df[coluna_cpes_nao_domestico_baixa], bins=10)\n",
    "ax_hist.set_title(f'Distribuição de {coluna_cpes_nao_domestico_baixa}')\n",
    "ax_hist.set_xlabel(coluna_cpes_nao_domestico_baixa)\n",
    "ax_hist.set_ylabel('Frequência')\n",
    "\n",
    "plt.tight_layout()\n",
    "plt.show()\n",
    "\n",
    "# Filtrar os dados para valores entre 0 e 400\n",
    "lower_limit_1 = 0\n",
    "high_limit_1 = 200\n",
    "filtered_data_1 = merged_df[(merged_df[coluna_cpes_nao_domestico_baixa] >= lower_limit_1) & (merged_df[coluna_cpes_nao_domestico_baixa] <= high_limit_1 )]\n",
    "\n",
    "# Filtrar os dados para valores maiores que 400\n",
    "filtered_data_2 = merged_df[(merged_df[coluna_cpes_nao_domestico_baixa] > high_limit_1 )]\n",
    "\n",
    "# Criar subplots\n",
    "fig, axes = plt.subplots(1, 2, figsize=(16, 6))\n",
    "\n",
    "# Histograma para valores entre 0 e 400\n",
    "axes[0].hist(filtered_data_1[coluna_cpes_nao_domestico_baixa], bins=10)\n",
    "axes[0].set_title(f'Distribuição de {coluna_cpes_nao_domestico_baixa} (Valores de {lower_limit_1} a {high_limit_1})')\n",
    "axes[0].set_xlabel(coluna_cpes_nao_domestico_baixa)\n",
    "axes[0].set_ylabel('Frequência')\n",
    "\n",
    "# Histograma para valores maiores que 400\n",
    "axes[1].hist(filtered_data_2[coluna_cpes_nao_domestico_baixa], bins=10)\n",
    "axes[1].set_title(f'Distribuição de {coluna_cpes_nao_domestico_baixa} (Valores maiores que {high_limit_1})')\n",
    "axes[1].set_xlabel(coluna_cpes_nao_domestico_baixa)\n",
    "axes[1].set_ylabel('Frequência')\n",
    "\n",
    "plt.tight_layout()\n",
    "plt.show()"
   ],
   "metadata": {
    "collapsed": false
   },
   "id": "fd0089b7b09b98f9",
   "outputs": [],
   "execution_count": null
  },
  {
   "metadata": {},
   "cell_type": "code",
   "source": [
    "# Encontrar outliers\n",
    "outliers = find_outliers(merged_df[coluna_cpes_nao_domestico_baixa])\n",
    "print(f\"Outliers na coluna '{coluna_cpes_nao_domestico_baixa}':\\n{outliers}\\n\")\n",
    "\n",
    "# Calcular o número total de valores na coluna 'energia_ativa_(kwh)'\n",
    "total_valores = len(merged_df[coluna_cpes_nao_domestico_baixa])\n",
    "\n",
    "# Calcular o número de outliers\n",
    "num_outliers = len(outliers)\n",
    "\n",
    "# Calcular a percentagem de outliers\n",
    "percent_outliers = (num_outliers / total_valores) * 100\n",
    "\n",
    "print(f\"% outliers '{coluna_cpes_nao_domestico_baixa}' é de {percent_outliers:.2f}%.\")"
   ],
   "id": "93d95d264ce9e216",
   "outputs": [],
   "execution_count": null
  },
  {
   "cell_type": "markdown",
   "source": [
    "#### Gráfico da variável CPEs Outros Alta Tensão"
   ],
   "metadata": {
    "collapsed": false
   },
   "id": "51417e07a3609f6d"
  },
  {
   "cell_type": "code",
   "source": [
    "# Coluna para o histograma\n",
    "coluna_cpes_outros_alta = 'cpes_outros_alta_tensao'\n",
    "\n",
    "# Criar subplots\n",
    "fig, (ax_boxplot, ax_hist) = plt.subplots(1, 2, figsize=(12, 6))\n",
    "\n",
    "# Boxplot\n",
    "ax_boxplot.boxplot(merged_df[coluna_cpes_outros_alta], vert=False)\n",
    "ax_boxplot.set_title(f'Boxplot de {coluna_cpes_outros_alta}')\n",
    "ax_boxplot.set_xlabel(coluna_cpes_outros_alta)\n",
    "\n",
    "# Histograma\n",
    "ax_hist.hist(merged_df[coluna_cpes_outros_alta], bins=10)\n",
    "ax_hist.set_title(f'Distribuição de {coluna_cpes_outros_alta}')\n",
    "ax_hist.set_xlabel(coluna_cpes_outros_alta)\n",
    "ax_hist.set_ylabel('Frequência')\n",
    "\n",
    "plt.tight_layout()\n",
    "plt.show()"
   ],
   "metadata": {
    "collapsed": false
   },
   "id": "dedb15e3e886312c",
   "outputs": [],
   "execution_count": null
  },
  {
   "metadata": {},
   "cell_type": "code",
   "source": [
    "# Encontrar outliers\n",
    "outliers = find_outliers(merged_df[coluna_cpes_outros_alta])\n",
    "print(f\"Outliers na coluna '{coluna_cpes_outros_alta}':\\n{outliers}\\n\")\n",
    "\n",
    "# Calcular o número total de valores na coluna 'cpes_outros'\n",
    "total_valores = len(merged_df[coluna_cpes_outros_alta])\n",
    "\n",
    "# Calcular o número de outliers\n",
    "num_outliers = len(outliers)\n",
    "\n",
    "# Calcular a percentagem de outliers\n",
    "percent_outliers = (num_outliers / total_valores) * 100\n",
    "\n",
    "print(f\"% outliers '{coluna_cpes_outros_alta}' é de {percent_outliers:.2f}%.\")"
   ],
   "id": "feb4f63347973791",
   "outputs": [],
   "execution_count": null
  },
  {
   "cell_type": "markdown",
   "source": [
    "#### Gráfico da variável CPEs Outros Baixa Tensão"
   ],
   "metadata": {
    "collapsed": false
   },
   "id": "d5ee60c3be747f1b"
  },
  {
   "cell_type": "code",
   "source": [
    "# Coluna para o histograma\n",
    "coluna_cpes_outros_baixa = 'cpes_outros_baixa_tensao'\n",
    "\n",
    "# Criar subplots\n",
    "fig, (ax_boxplot, ax_hist) = plt.subplots(1, 2, figsize=(12, 6))\n",
    "\n",
    "# Boxplot\n",
    "ax_boxplot.boxplot(merged_df[coluna_cpes_outros_baixa], vert=False)\n",
    "ax_boxplot.set_title(f'Boxplot de {coluna_cpes_outros_baixa}')\n",
    "ax_boxplot.set_xlabel(coluna_cpes_outros_baixa)\n",
    "\n",
    "# Histograma\n",
    "ax_hist.hist(merged_df[coluna_cpes_outros_baixa], bins=10)\n",
    "ax_hist.set_title(f'Distribuição de {coluna_cpes_outros_baixa}')\n",
    "ax_hist.set_xlabel(coluna_cpes_outros_baixa)\n",
    "ax_hist.set_ylabel('Frequência')\n",
    "\n",
    "plt.tight_layout()\n",
    "plt.show()\n",
    "\n",
    "# Filtrar os dados para valores entre 0 e 400\n",
    "lower_limit_1 = 0\n",
    "high_limit_1 = 400\n",
    "filtered_data_1 = merged_df[(merged_df[coluna_cpes_outros_baixa] >= lower_limit_1) & (merged_df[coluna_cpes_outros_baixa] <= high_limit_1 )]\n",
    "\n",
    "# Filtrar os dados para valores maiores que 400\n",
    "filtered_data_2 = merged_df[(merged_df[coluna_cpes_outros_baixa] > high_limit_1 )]\n",
    "\n",
    "# Criar subplots\n",
    "fig, axes = plt.subplots(1, 2, figsize=(16, 6))\n",
    "\n",
    "# Histograma para valores entre 0 e 400\n",
    "axes[0].hist(filtered_data_1[coluna_cpes_outros_baixa], bins=10)\n",
    "axes[0].set_title(f'Distribuição de {coluna_cpes_outros_baixa} (Valores de {lower_limit_1} a {high_limit_1})')\n",
    "axes[0].set_xlabel(coluna_cpes_outros_baixa)\n",
    "axes[0].set_ylabel('Frequência')\n",
    "\n",
    "# Histograma para valores maiores que 400\n",
    "axes[1].hist(filtered_data_2[coluna_cpes_outros_baixa], bins=10)\n",
    "axes[1].set_title(f'Distribuição de {coluna_cpes_outros_baixa} (Valores maiores que {high_limit_1})')\n",
    "axes[1].set_xlabel(coluna_cpes_outros_baixa)\n",
    "axes[1].set_ylabel('Frequência')\n",
    "\n",
    "plt.tight_layout()\n",
    "plt.show()"
   ],
   "metadata": {
    "collapsed": false
   },
   "id": "38f007629d6072ae",
   "outputs": [],
   "execution_count": null
  },
  {
   "metadata": {},
   "cell_type": "code",
   "source": [
    "# Encontrar outliers\n",
    "outliers = find_outliers(merged_df[coluna_cpes_outros_baixa])\n",
    "print(f\"Outliers na coluna '{coluna_cpes_outros_baixa}':\\n{outliers}\\n\")\n",
    "\n",
    "# Calcular o número total de valores na coluna 'cpes_outros'\n",
    "total_valores = len(merged_df[coluna_cpes_outros_baixa])\n",
    "\n",
    "# Calcular o número de outliers\n",
    "num_outliers = len(outliers)\n",
    "\n",
    "# Calcular a percentagem de outliers\n",
    "percent_outliers = (num_outliers / total_valores) * 100\n",
    "\n",
    "print(f\"% outliers '{coluna_cpes_outros_baixa}' é de {percent_outliers:.2f}%.\")"
   ],
   "id": "94a861807fa3d4cf",
   "outputs": [],
   "execution_count": null
  },
  {
   "cell_type": "markdown",
   "source": [
    "#### Gráfico da variável CPEs Mobilidade Eletrica Não Baixa Tensão"
   ],
   "metadata": {
    "collapsed": false
   },
   "id": "de1f0fdcdfca4a29"
  },
  {
   "cell_type": "code",
   "source": [
    "# Coluna para analisar\n",
    "coluna_mob_elect_n_baixa = 'cpes_mobilidade_eletrica_nao_baixa_tensao'\n",
    "\n",
    "# Criar subplots\n",
    "fig, (ax_boxplot, ax_hist) = plt.subplots(1, 2, figsize=(12, 6))\n",
    "\n",
    "# Boxplot\n",
    "ax_boxplot.boxplot(merged_df[coluna_mob_elect_n_baixa], vert=False)\n",
    "ax_boxplot.set_title(f'Boxplot de {coluna_mob_elect_n_baixa}')\n",
    "ax_boxplot.set_xlabel(coluna_mob_elect_n_baixa)\n",
    "\n",
    "# Histograma\n",
    "ax_hist.hist(merged_df[coluna_mob_elect_n_baixa], bins=10)\n",
    "ax_hist.set_title(f'Distribuição de {coluna_mob_elect_n_baixa}')\n",
    "ax_hist.set_xlabel(coluna_mob_elect_n_baixa)\n",
    "ax_hist.set_ylabel('Frequência')\n",
    "\n",
    "plt.tight_layout()\n",
    "plt.show()\n",
    "\n",
    "# Filtrar os dados para valores entre 0 e 400\n",
    "lower_limit_1 = 0\n",
    "high_limit_1 = 100000\n",
    "filtered_data_1 = merged_df[(merged_df[coluna_mob_elect_n_baixa] >= lower_limit_1) & (merged_df[coluna_mob_elect_n_baixa] <= high_limit_1 )]\n",
    "\n",
    "# Filtrar os dados para valores maiores que 400\n",
    "filtered_data_2 = merged_df[(merged_df[coluna_mob_elect_n_baixa] > high_limit_1 )]\n",
    "\n",
    "# Criar subplots\n",
    "fig, axes = plt.subplots(1, 2, figsize=(16, 6))\n",
    "\n",
    "# Histograma para valores entre 0 e 400\n",
    "axes[0].hist(filtered_data_1[coluna_mob_elect_n_baixa], bins=10)\n",
    "axes[0].set_title(f'Distribuição de {coluna_mob_elect_n_baixa} (Valores de {lower_limit_1} a {high_limit_1})')\n",
    "axes[0].set_xlabel(coluna_mob_elect_n_baixa)\n",
    "axes[0].set_ylabel('Frequência')\n",
    "\n",
    "# Histograma para valores maiores que 400\n",
    "axes[1].hist(filtered_data_2[coluna_mob_elect_n_baixa], bins=10)\n",
    "axes[1].set_title(f'Distribuição de {coluna_mob_elect_n_baixa} (Valores maiores que {high_limit_1})')\n",
    "axes[1].set_xlabel(coluna_mob_elect_n_baixa)\n",
    "axes[1].set_ylabel('Frequência')\n",
    "\n",
    "plt.tight_layout()\n",
    "plt.show()"
   ],
   "metadata": {
    "collapsed": false
   },
   "id": "d01841c427fd8a07",
   "outputs": [],
   "execution_count": null
  },
  {
   "metadata": {},
   "cell_type": "code",
   "source": [
    "# Encontrar outliers\n",
    "outliers = find_outliers(merged_df[coluna_mob_elect_n_baixa])\n",
    "print(f\"Outliers na coluna '{coluna_mob_elect_n_baixa}':\\n{outliers}\\n\")\n",
    "\n",
    "# Calcular o número total de valores na coluna 'mobilidade eletrica nao'\n",
    "total_valores = len(merged_df[coluna_mob_elect_n_baixa])\n",
    "\n",
    "# Calcular o número de outliers\n",
    "num_outliers = len(outliers)\n",
    "\n",
    "# Calcular a percentagem de outliers\n",
    "percent_outliers = (num_outliers / total_valores) * 100\n",
    "\n",
    "print(f\"% outliers '{coluna_mob_elect_n_baixa}' é de {percent_outliers:.2f}%.\")"
   ],
   "id": "9b5ff5e4c945aa6e",
   "outputs": [],
   "execution_count": null
  },
  {
   "metadata": {},
   "cell_type": "markdown",
   "source": [
    "#### Gráfico da variável CPEs Mobilidade Eletrica Sim "
   ],
   "id": "78f42e487bee4b1e"
  },
  {
   "metadata": {},
   "cell_type": "code",
   "source": [
    "# Coluna para analisar\n",
    "coluna_mob_elect_sim_baixa = 'cpes_mobilidade_eletrica_sim_baixa_tensao'\n",
    "\n",
    "# Criar subplots\n",
    "fig, (ax_boxplot, ax_hist) = plt.subplots(1, 2, figsize=(12, 6))\n",
    "\n",
    "# Boxplot\n",
    "ax_boxplot.boxplot(merged_df[coluna_mob_elect_sim_baixa], vert=False)\n",
    "ax_boxplot.set_title(f'Boxplot de {coluna_mob_elect_sim_baixa}')\n",
    "ax_boxplot.set_xlabel(coluna_mob_elect_sim_baixa)\n",
    "\n",
    "# Histograma\n",
    "ax_hist.hist(merged_df[coluna_mob_elect_sim_baixa], bins=10)\n",
    "ax_hist.set_title(f'Distribuição de {coluna_mob_elect_sim_baixa}')\n",
    "ax_hist.set_xlabel(coluna_mob_elect_sim_baixa)\n",
    "ax_hist.set_ylabel('Frequência')\n",
    "\n",
    "plt.tight_layout()\n",
    "plt.show()\n",
    "\n",
    "# Filtrar os dados para valores entre 0 e 400\n",
    "lower_limit_1 = 0\n",
    "high_limit_1 = 50\n",
    "filtered_data_1 = merged_df[(merged_df[coluna_mob_elect_sim_baixa] >= lower_limit_1) & (merged_df[coluna_mob_elect_sim_baixa] <= high_limit_1 )]\n",
    "\n",
    "# Filtrar os dados para valores maiores que 400\n",
    "filtered_data_2 = merged_df[(merged_df[coluna_mob_elect_sim_baixa] > high_limit_1 )]\n",
    "\n",
    "# Criar subplots\n",
    "fig, axes = plt.subplots(1, 2, figsize=(16, 6))\n",
    "\n",
    "# Histograma para valores entre 0 e 400\n",
    "axes[0].hist(filtered_data_1[coluna_mob_elect_sim_baixa], bins=10)\n",
    "axes[0].set_title(f'Distribuição de {coluna_mob_elect_sim_baixa} (Valores de {lower_limit_1} a {high_limit_1})')\n",
    "axes[0].set_xlabel(coluna_mob_elect_sim_baixa)\n",
    "axes[0].set_ylabel('Frequência')\n",
    "\n",
    "# Histograma para valores maiores que 400\n",
    "axes[1].hist(filtered_data_2[coluna_mob_elect_sim_baixa], bins=10)\n",
    "axes[1].set_title(f'Distribuição de {coluna_mob_elect_sim_baixa} (Valores maiores que {high_limit_1})')\n",
    "axes[1].set_xlabel(coluna_mob_elect_sim_baixa)\n",
    "axes[1].set_ylabel('Frequência')\n",
    "\n",
    "plt.tight_layout()\n",
    "plt.show()"
   ],
   "id": "96d9531e906b4574",
   "outputs": [],
   "execution_count": null
  },
  {
   "metadata": {},
   "cell_type": "code",
   "source": [
    "# Encontrar outliers\n",
    "outliers = find_outliers(merged_df[coluna_mob_elect_sim_baixa])\n",
    "print(f\"Outliers na coluna '{coluna_mob_elect_sim_baixa}':\\n{outliers}\\n\")\n",
    "\n",
    "# Calcular o número total de valores na coluna 'mobilidade eletrica sim'\n",
    "total_valores = len(merged_df[coluna_mob_elect_sim_baixa])\n",
    "\n",
    "# Calcular o número de outliers\n",
    "num_outliers = len(outliers)\n",
    "\n",
    "# Calcular a percentagem de outliers\n",
    "percent_outliers = (num_outliers / total_valores) * 100\n",
    "\n",
    "print(f\"% outliers '{coluna_mob_elect_sim_baixa}' é de {percent_outliers:.2f}%.\")"
   ],
   "id": "a92d246d67db09eb",
   "outputs": [],
   "execution_count": null
  },
  {
   "cell_type": "markdown",
   "source": [
    "### Remover a variável CPEs iluminação pública alta tensão\n",
    "- Elimina-se porque os valores são sempre zero e por isso não têm interesse de análise"
   ],
   "metadata": {
    "collapsed": false
   },
   "id": "7840095d0254b368"
  },
  {
   "cell_type": "code",
   "source": [
    "merged_df.drop(columns=['cpes_iluminacao_publica_alta_tensao'], inplace=True)\n",
    "\n",
    "merged_df.info()"
   ],
   "metadata": {
    "collapsed": false
   },
   "id": "45a47a79208181ed",
   "outputs": [],
   "execution_count": null
  },
  {
   "cell_type": "code",
   "source": [
    "# Verificar nulls\n",
    "null_counts = merged_df.isnull().sum()\n",
    "\n",
    "# Ver nulls por coluna\n",
    "print(\"Número de nulls por coluna:\")\n",
    "print(null_counts)"
   ],
   "metadata": {
    "collapsed": false
   },
   "id": "d21331c8fd9fcc66",
   "outputs": [],
   "execution_count": null
  },
  {
   "cell_type": "code",
   "source": [
    "file_path = data_path + 'treated/prepared/merged-dataset.csv'\n",
    "\n",
    "merged_df.to_csv(file_path, index=False)\n",
    "\n",
    "print(\"DataFrame guardado em \", file_path)"
   ],
   "metadata": {
    "collapsed": false
   },
   "id": "c2e9c04b7f4943cb",
   "outputs": [],
   "execution_count": null
  }
 ],
 "metadata": {
  "kernelspec": {
   "display_name": "Python 3",
   "language": "python",
   "name": "python3"
  },
  "language_info": {
   "codemirror_mode": {
    "name": "ipython",
    "version": 2
   },
   "file_extension": ".py",
   "mimetype": "text/x-python",
   "name": "python",
   "nbconvert_exporter": "python",
   "pygments_lexer": "ipython2",
   "version": "2.7.6"
  },
  "colab": {
   "provenance": []
  }
 },
 "nbformat": 4,
 "nbformat_minor": 5
}
