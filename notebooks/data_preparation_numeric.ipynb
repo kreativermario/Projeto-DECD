{
 "cells": [
  {
   "cell_type": "code",
   "id": "initial_id",
   "metadata": {
    "collapsed": true
   },
   "source": [
    "# Preparação dos dados\n",
    "import os\n",
    "\n",
    "import numpy as np\n",
    "import pandas as pd\n",
    "\n",
    "%matplotlib inline\n",
    "import numpy as np\n",
    "import matplotlib.pyplot as plt\n",
    "import seaborn as sns\n",
    "import pandas as pd\n",
    "from sklearn.preprocessing import MinMaxScaler\n",
    "from sklearn.preprocessing import StandardScaler\n",
    "\n",
    "sns.set_theme()"
   ],
   "outputs": [],
   "execution_count": null
  },
  {
   "cell_type": "code",
   "source": [
    "## Importar dataset\n",
    "\n",
    "data_path = '../data/' if os.path.exists(\n",
    "    '../data/') else 'https://raw.githubusercontent.com/kreativermario/Projeto-DECD/master/data/'\n",
    "\n",
    "merged_path = data_path + 'treated/merged-dataset-industria.csv'\n",
    "\n",
    "merged_df = pd.read_csv(merged_path)"
   ],
   "metadata": {
    "collapsed": false
   },
   "id": "f40a7dae517d25ca",
   "outputs": [],
   "execution_count": null
  },
  {
   "cell_type": "markdown",
   "source": [
    "## Criar o conjunto totalmente númerico\n",
    "- Visualizar os gráficos e ver a distribuição das variáveis.\n",
    "- Ver quantos outliers existem por variável"
   ],
   "metadata": {
    "collapsed": false
   },
   "id": "1227f3a67312a983"
  },
  {
   "cell_type": "code",
   "source": [
    "merged_df.info()"
   ],
   "metadata": {
    "collapsed": false
   },
   "id": "8f390c1993486e7d",
   "outputs": [],
   "execution_count": null
  },
  {
   "metadata": {},
   "cell_type": "markdown",
   "source": [
    "### Cast de 'densidade_populacional_pessoas_km2' para int64"
   ],
   "id": "2a1f753f3b039353"
  },
  {
   "metadata": {},
   "cell_type": "code",
   "source": [
    "merged_df['densidade_populacional_pessoas_km2'] = merged_df['densidade_populacional_pessoas_km2'].round().astype(np.int64)\n",
    "merged_df.info()\n",
    "\n",
    "merged_df.head(5)"
   ],
   "id": "164099ce657a5fac",
   "outputs": [],
   "execution_count": null
  },
  {
   "cell_type": "markdown",
   "source": [
    "### Separar os datasets em dois:\n",
    "    - Um para baixa e outro para alta tensão"
   ],
   "metadata": {
    "collapsed": false
   },
   "id": "bff0b206fb367ce7"
  },
  {
   "cell_type": "code",
   "source": [
    "# Selecionar as variáveis de baixa tensão\n",
    "baixa_tensao_columns = ['ano', 'mes', 'energia_ativa_baixa_tensao_kwh', \n",
    "                        'cpes_domestico_baixa_tensao', 'cpes_iluminacao_publica_baixa_tensao',\n",
    "                        'cpes_nao_domestico_baixa_tensao', 'cpes_outros_baixa_tensao',\n",
    "                        'cpes_mobilidade_eletrica_nao_baixa_tensao', 'cpes_mobilidade_eletrica_sim_baixa_tensao', 'densidade_populacional_pessoas_km2']\n",
    "\n",
    "# Selecionar as variáveis de alta tensão\n",
    "alta_tensao_columns = ['ano', 'mes', 'energia_ativa_alta_tensao_kwh',\n",
    "                       'cpes_domestico_alta_tensao',\n",
    "                       'cpes_nao_domestico_alta_tensao', 'cpes_outros_alta_tensao', 'densidade_populacional_pessoas_km2',\n",
    "                       'num_industrias_extrativas', 'num_industrias_transformadoras']\n",
    "\n",
    "# Criar os datasets separados\n",
    "baixa_tensao_df = merged_df[baixa_tensao_columns].copy()\n",
    "alta_tensao_df = merged_df[alta_tensao_columns].copy()"
   ],
   "metadata": {
    "collapsed": false
   },
   "id": "b378c4103bcab609",
   "outputs": [],
   "execution_count": null
  },
  {
   "cell_type": "markdown",
   "source": [
    "#### Dataframe de baixa tensão"
   ],
   "metadata": {
    "collapsed": false
   },
   "id": "7e6a6c08e4ea9a55"
  },
  {
   "cell_type": "code",
   "source": [
    "baixa_tensao_df.info()\n",
    "baixa_tensao_df.describe()"
   ],
   "metadata": {
    "collapsed": false
   },
   "id": "4aca510bec815f4a",
   "outputs": [],
   "execution_count": null
  },
  {
   "cell_type": "code",
   "source": [
    "# Verificar valores vazios\n",
    "nulls = baixa_tensao_df.isnull().sum()\n",
    "print('Número de nulls: ', nulls)\n",
    "\n",
    "# Verificar duplicados\n",
    "duplicates = baixa_tensao_df.duplicated()\n",
    "print(\"Número de linhas duplicadas:\", duplicates.sum())"
   ],
   "metadata": {
    "collapsed": false
   },
   "id": "efa1bbbb95cd08d9",
   "outputs": [],
   "execution_count": null
  },
  {
   "cell_type": "markdown",
   "source": [
    "#### Guardar dataset de baixa tensão"
   ],
   "metadata": {
    "collapsed": false
   },
   "id": "74d2d041ea780bee"
  },
  {
   "cell_type": "code",
   "source": [
    "file_path = data_path + 'treated/prepared/numeric/dataset-numeric-low-tension.csv'\n",
    "\n",
    "baixa_tensao_df.to_csv(file_path, index=False)\n",
    "\n",
    "print(\"DataFrame guardado em \", file_path)"
   ],
   "metadata": {
    "collapsed": false
   },
   "id": "e028d18366d9a253",
   "outputs": [],
   "execution_count": null
  },
  {
   "cell_type": "markdown",
   "source": [
    "#### Dataframe de alta tensão"
   ],
   "metadata": {
    "collapsed": false
   },
   "id": "c92eaa4efa86541"
  },
  {
   "cell_type": "code",
   "source": [
    "alta_tensao_df.info()\n",
    "alta_tensao_df.describe()"
   ],
   "metadata": {
    "collapsed": false
   },
   "id": "fba2899aa3353f74",
   "outputs": [],
   "execution_count": null
  },
  {
   "cell_type": "code",
   "source": [
    "# Verificar valores vazios\n",
    "nulls = alta_tensao_df.isnull().sum()\n",
    "print('Número de nulls: ', nulls)\n",
    "\n",
    "# Verificar duplicados\n",
    "duplicates = alta_tensao_df.duplicated()\n",
    "print(\"Número de linhas duplicadas:\", duplicates.sum())"
   ],
   "metadata": {
    "collapsed": false
   },
   "id": "649272f32cd2ea4c",
   "outputs": [],
   "execution_count": null
  },
  {
   "cell_type": "markdown",
   "source": [
    "#### Guardar dataset de alta tensão"
   ],
   "metadata": {
    "collapsed": false
   },
   "id": "a06a95d877a079e8"
  },
  {
   "cell_type": "code",
   "source": [
    "file_path = data_path + 'treated/prepared/numeric/dataset-numeric-high-tension.csv'\n",
    "\n",
    "alta_tensao_df.to_csv(file_path, index=False)\n",
    "\n",
    "print(\"DataFrame guardado em \", file_path)"
   ],
   "metadata": {
    "collapsed": false
   },
   "id": "44de16118c7906d5",
   "outputs": [],
   "execution_count": null
  },
  {
   "cell_type": "markdown",
   "source": [
    "### Criar dois subsets dentro de cada dataset de nivel de tensao"
   ],
   "metadata": {
    "collapsed": false
   },
   "id": "960a51390a365ebb"
  },
  {
   "cell_type": "markdown",
   "source": [
    "#### Criar o subset de teste (Dados de 2024)"
   ],
   "metadata": {
    "collapsed": false
   },
   "id": "df18db74e5d9d5f"
  },
  {
   "cell_type": "code",
   "source": [
    "# Filtrar o DataFrame para obter os valores de 2024\n",
    "baixa_tensao_2024_df = baixa_tensao_df[(baixa_tensao_df['ano'] == 2024)].copy()\n",
    "\n",
    "baixa_tensao_2024_df.info()\n",
    "baixa_tensao_2024_df.describe()\n",
    "\n",
    "# Filtrar o DataFrame para obter os valores de 2024\n",
    "alta_tensao_2024_df = alta_tensao_df[(alta_tensao_df['ano'] == 2024)].copy()\n",
    "\n",
    "alta_tensao_2024_df.info()\n",
    "alta_tensao_2024_df.describe()"
   ],
   "metadata": {
    "collapsed": false
   },
   "id": "9a2a90a3a50f83f7",
   "outputs": [],
   "execution_count": null
  },
  {
   "cell_type": "markdown",
   "source": [
    "Ver nulls e duplicados"
   ],
   "metadata": {
    "collapsed": false
   },
   "id": "22535fbfe7f3ef2c"
  },
  {
   "cell_type": "code",
   "source": [
    "# Verificar valores vazios\n",
    "nulls = baixa_tensao_2024_df.isnull().sum()\n",
    "print('Número de nulls: ', nulls)\n",
    "\n",
    "# Verificar duplicados\n",
    "duplicates = baixa_tensao_2024_df.duplicated()\n",
    "print(\"Número de linhas duplicadas:\", duplicates.sum())"
   ],
   "metadata": {
    "collapsed": false
   },
   "id": "8041494174caae33",
   "outputs": [],
   "execution_count": null
  },
  {
   "cell_type": "code",
   "source": [
    "# Verificar valores vazios\n",
    "nulls = alta_tensao_2024_df.isnull().sum()\n",
    "print('Número de nulls: ', nulls)\n",
    "\n",
    "# Verificar duplicados\n",
    "duplicates = alta_tensao_2024_df.duplicated()\n",
    "print(\"Número de linhas duplicadas:\", duplicates.sum())"
   ],
   "metadata": {
    "collapsed": false
   },
   "id": "15968a8f8b0051b3",
   "outputs": [],
   "execution_count": null
  },
  {
   "cell_type": "markdown",
   "source": [
    "##### Guardar subset de teste (2024)"
   ],
   "metadata": {
    "collapsed": false
   },
   "id": "9441065b02e04920"
  },
  {
   "cell_type": "code",
   "source": [
    "file_path = data_path + 'treated/prepared/numeric/test/dataset-numeric-low-tension-2024.csv'\n",
    "\n",
    "baixa_tensao_2024_df.to_csv(file_path, index=False)\n",
    "\n",
    "print(\"DataFrame guardado em \", file_path)"
   ],
   "metadata": {
    "collapsed": false
   },
   "id": "f1b7ede1f6fdc457",
   "outputs": [],
   "execution_count": null
  },
  {
   "cell_type": "code",
   "source": [
    "file_path = data_path + 'treated/prepared/numeric/test/dataset-numeric-high-tension-2024.csv'\n",
    "\n",
    "alta_tensao_2024_df.to_csv(file_path, index=False)\n",
    "\n",
    "print(\"DataFrame guardado em \", file_path)"
   ],
   "metadata": {
    "collapsed": false
   },
   "id": "243cae4a6b2a8a85",
   "outputs": [],
   "execution_count": null
  },
  {
   "cell_type": "markdown",
   "source": [
    "#### Criar o subset de treino (2024)"
   ],
   "metadata": {
    "collapsed": false
   },
   "id": "11688dd8f60d4972"
  },
  {
   "cell_type": "code",
   "source": [
    "# Filtrar o DataFrame para obter os valores que não são de 2024\n",
    "baixa_tensao_outros_df = baixa_tensao_df[(baixa_tensao_df['ano'] != 2024)].copy()\n",
    "\n",
    "baixa_tensao_outros_df.info()\n",
    "baixa_tensao_outros_df.describe()\n",
    "\n",
    "# Filtrar o DataFrame para obter os valores que não são de 2024\n",
    "alta_tensao_outros_df = alta_tensao_df[(alta_tensao_df['ano'] != 2024)].copy()\n",
    "\n",
    "alta_tensao_outros_df.info()\n",
    "alta_tensao_outros_df.describe()"
   ],
   "metadata": {
    "collapsed": false
   },
   "id": "b89de3d0476b5e9d",
   "outputs": [],
   "execution_count": null
  },
  {
   "cell_type": "markdown",
   "source": [
    "Ver nulls e duplicados"
   ],
   "metadata": {
    "collapsed": false
   },
   "id": "f8ffb798e68a4c52"
  },
  {
   "cell_type": "code",
   "source": [
    "# Verificar valores vazios\n",
    "nulls = baixa_tensao_outros_df.isnull().sum()\n",
    "print('Número de nulls: ', nulls)\n",
    "\n",
    "# Verificar duplicados\n",
    "duplicates = baixa_tensao_outros_df.duplicated()\n",
    "print(\"Número de linhas duplicadas:\", duplicates.sum())"
   ],
   "metadata": {
    "collapsed": false
   },
   "id": "3d89cb205e776aa5",
   "outputs": [],
   "execution_count": null
  },
  {
   "cell_type": "code",
   "source": [
    "# Verificar valores vazios\n",
    "nulls = alta_tensao_outros_df.isnull().sum()\n",
    "print('Número de nulls: ', nulls)\n",
    "\n",
    "# Verificar duplicados\n",
    "duplicates = alta_tensao_outros_df.duplicated()\n",
    "print(\"Número de linhas duplicadas:\", duplicates.sum())"
   ],
   "metadata": {
    "collapsed": false
   },
   "id": "344a622332b7f2c5",
   "outputs": [],
   "execution_count": null
  },
  {
   "cell_type": "markdown",
   "source": [
    "##### Guardar subset de treino (2022 e 2023)"
   ],
   "metadata": {
    "collapsed": false
   },
   "id": "6299c166cb9e80dd"
  },
  {
   "cell_type": "code",
   "source": [
    "file_path = data_path + 'treated/prepared/numeric/train/dataset-numeric-low-tension-2022-2023.csv'\n",
    "\n",
    "baixa_tensao_outros_df.to_csv(file_path, index=False)\n",
    "\n",
    "print(\"DataFrame guardado em \", file_path)"
   ],
   "metadata": {
    "collapsed": false
   },
   "id": "cbdac9eb701281a0",
   "outputs": [],
   "execution_count": null
  },
  {
   "cell_type": "code",
   "source": [
    "file_path = data_path + 'treated/prepared/numeric/train/dataset-numeric-high-tension-2022-2023.csv'\n",
    "\n",
    "alta_tensao_outros_df.to_csv(file_path, index=False)\n",
    "\n",
    "print(\"DataFrame guardado em \", file_path)"
   ],
   "metadata": {
    "collapsed": false
   },
   "id": "d9ef3042ef5c3f72",
   "outputs": [],
   "execution_count": null
  },
  {
   "cell_type": "markdown",
   "source": [
    "### Guardar versões dos datasets sem a coluna ano e mês pois estas não têm boa correlação e por isso não têm interesse na análise"
   ],
   "metadata": {
    "collapsed": false
   },
   "id": "e46a32faa146de3f"
  },
  {
   "cell_type": "code",
   "source": [
    "merged_df.drop(columns=['ano', 'mes'], inplace=True)\n",
    "\n",
    "file_path = data_path + 'treated/prepared/numeric/no-dates/dataset-numeric-both-tensions-no-dates.csv'\n",
    "\n",
    "merged_df.to_csv(file_path, index=False)\n",
    "\n",
    "print(\"DataFrame guardado em \", file_path)"
   ],
   "metadata": {
    "collapsed": false
   },
   "id": "817c5e26a875b918",
   "outputs": [],
   "execution_count": null
  },
  {
   "cell_type": "code",
   "source": [
    "baixa_tensao_df.drop(columns=['ano', 'mes'], inplace=True)\n",
    "\n",
    "file_path = data_path + 'treated/prepared/numeric/no-dates/dataset-numeric-low-tensions-no-dates.csv'\n",
    "\n",
    "baixa_tensao_df.to_csv(file_path, index=False)\n",
    "\n",
    "print(\"DataFrame guardado em \", file_path)"
   ],
   "metadata": {
    "collapsed": false
   },
   "id": "875c99f14499991b",
   "outputs": [],
   "execution_count": null
  },
  {
   "cell_type": "code",
   "source": [
    "baixa_tensao_2024_df.drop(columns=['ano', 'mes'], inplace=True)\n",
    "\n",
    "file_path = data_path + 'treated/prepared/numeric/no-dates/dataset-numeric-low-tensions-test-no-dates.csv'\n",
    "\n",
    "baixa_tensao_2024_df.to_csv(file_path, index=False)\n",
    "\n",
    "print(\"DataFrame guardado em \", file_path)"
   ],
   "metadata": {
    "collapsed": false
   },
   "id": "27498c6374f0bb6a",
   "outputs": [],
   "execution_count": null
  },
  {
   "cell_type": "code",
   "source": [
    "baixa_tensao_outros_df.drop(columns=['ano', 'mes'], inplace=True)\n",
    "\n",
    "file_path = data_path + 'treated/prepared/numeric/no-dates/dataset-numeric-low-tensions-train-no-dates.csv'\n",
    "\n",
    "baixa_tensao_outros_df.to_csv(file_path, index=False)\n",
    "\n",
    "print(\"DataFrame guardado em \", file_path)"
   ],
   "metadata": {
    "collapsed": false
   },
   "id": "40abe2645546d148",
   "outputs": [],
   "execution_count": null
  },
  {
   "cell_type": "code",
   "source": [
    "alta_tensao_df.drop(columns=['ano', 'mes'], inplace=True)\n",
    "\n",
    "file_path = data_path + 'treated/prepared/numeric/no-dates/dataset-numeric-high-tensions-no-dates.csv'\n",
    "\n",
    "alta_tensao_df.to_csv(file_path, index=False)\n",
    "\n",
    "print(\"DataFrame guardado em \", file_path)"
   ],
   "metadata": {
    "collapsed": false
   },
   "id": "eddd74c485791d2e",
   "outputs": [],
   "execution_count": null
  },
  {
   "cell_type": "code",
   "source": [
    "alta_tensao_2024_df.drop(columns=['ano', 'mes'], inplace=True)\n",
    "\n",
    "file_path = data_path + 'treated/prepared/numeric/no-dates/dataset-numeric-high-tensions-test-no-dates.csv'\n",
    "\n",
    "alta_tensao_2024_df.to_csv(file_path, index=False)\n",
    "\n",
    "print(\"DataFrame guardado em \", file_path)"
   ],
   "metadata": {
    "collapsed": false
   },
   "id": "3bbd37375a5f467",
   "outputs": [],
   "execution_count": null
  },
  {
   "metadata": {},
   "cell_type": "code",
   "source": [
    "alta_tensao_outros_df.drop(columns=['ano', 'mes'], inplace=True)\n",
    "\n",
    "file_path = data_path + 'treated/prepared/numeric/no-dates/dataset-numeric-high-tensions-train-no-dates.csv'\n",
    "\n",
    "alta_tensao_outros_df.to_csv(file_path, index=False)\n",
    "\n",
    "print(\"DataFrame guardado em \", file_path)"
   ],
   "id": "f09af8c1afd88546",
   "outputs": [],
   "execution_count": null
  },
  {
   "cell_type": "markdown",
   "source": [
    "## Normalização Decimal Scaling"
   ],
   "metadata": {
    "collapsed": false
   },
   "id": "859ed47f526e87fc"
  },
  {
   "cell_type": "code",
   "outputs": [],
   "source": [
    "def dec_scale(df):\n",
    "    for x in df:\n",
    "        p = df[x].max()\n",
    "        q = len(str(abs(int(p))))\n",
    "        df[x] = df[x] / (10 ** q)\n",
    "    return df"
   ],
   "metadata": {
    "collapsed": false
   },
   "id": "1e8c6599b34c67fc",
   "execution_count": null
  },
  {
   "cell_type": "code",
   "outputs": [],
   "source": [
    "def dec_scale_column(df, column_name):\n",
    "    p = df[column_name].max()\n",
    "    q = len(str(abs(int(p))))\n",
    "    df[column_name] = df[column_name] / (10 ** q)\n",
    "    return df"
   ],
   "metadata": {
    "collapsed": false
   },
   "id": "16bb9ddb0e40703b",
   "execution_count": null
  },
  {
   "cell_type": "markdown",
   "source": [
    "### Normalização Baixa Tensão Teste Decimal Scaling"
   ],
   "metadata": {
    "collapsed": false
   },
   "id": "cd4c74fcc2cc3532"
  },
  {
   "cell_type": "code",
   "outputs": [],
   "source": [
    "baixa_tensao_2024_scaled_decimal_df = dec_scale(baixa_tensao_2024_df.copy())"
   ],
   "metadata": {
    "collapsed": false
   },
   "id": "d30f48554492b8c7",
   "execution_count": null
  },
  {
   "cell_type": "code",
   "outputs": [],
   "source": [
    "baixa_tensao_2024_scaled_decimal_df.describe()"
   ],
   "metadata": {
    "collapsed": false
   },
   "id": "baeb3cb071809bcb",
   "execution_count": null
  },
  {
   "cell_type": "code",
   "outputs": [],
   "source": [
    "#Guardar no ficheiro\n",
    "file_path = data_path + 'treated/prepared/numeric/normalized/test/dataset-numeric-low-tensions-2024-no-dates-decimal.csv'\n",
    "\n",
    "baixa_tensao_2024_scaled_decimal_df.to_csv(file_path, index=False)\n",
    "\n",
    "print(\"DataFrame guardado em \", file_path)"
   ],
   "metadata": {
    "collapsed": false
   },
   "id": "8032f98b0602ff26",
   "execution_count": null
  },
  {
   "cell_type": "markdown",
   "source": [
    "### Normalização Baixa Tensão Treino Decimal Scaling"
   ],
   "metadata": {
    "collapsed": false
   },
   "id": "5e1c05b15239d175"
  },
  {
   "cell_type": "code",
   "outputs": [],
   "source": [
    "baixa_tensao_outros_scaled_decimal_df = dec_scale(baixa_tensao_outros_df.copy())"
   ],
   "metadata": {
    "collapsed": false
   },
   "id": "f6b6996bab2b0527",
   "execution_count": null
  },
  {
   "cell_type": "code",
   "outputs": [],
   "source": [
    "baixa_tensao_outros_scaled_decimal_df.describe()"
   ],
   "metadata": {
    "collapsed": false
   },
   "id": "78a2bab70fc4bb1f",
   "execution_count": null
  },
  {
   "cell_type": "code",
   "outputs": [],
   "source": [
    "#Guardar no ficheiro\n",
    "file_path = data_path + 'treated/prepared/numeric/normalized/train/dataset-numeric-low-tensions-2223-no-dates-decimal.csv'\n",
    "\n",
    "baixa_tensao_outros_scaled_decimal_df.to_csv(file_path, index=False)\n",
    "\n",
    "print(\"DataFrame guardado em \", file_path)"
   ],
   "metadata": {
    "collapsed": false
   },
   "id": "d0468fe4abe6a302",
   "execution_count": null
  },
  {
   "cell_type": "markdown",
   "source": [
    "### Normalização Alta Tensão Teste Decimal Scaling"
   ],
   "metadata": {
    "collapsed": false
   },
   "id": "c0082c0f1e86eb30"
  },
  {
   "cell_type": "code",
   "outputs": [],
   "source": [
    "alta_tensao_2024_scaled_decimal_df = dec_scale_column(alta_tensao_2024_df.copy(), 'energia_ativa_alta_tensao_kwh')"
   ],
   "metadata": {
    "collapsed": false
   },
   "id": "6c5e6eaefa41eb0",
   "execution_count": null
  },
  {
   "cell_type": "code",
   "outputs": [],
   "source": [
    "alta_tensao_2024_scaled_decimal_df.describe()"
   ],
   "metadata": {
    "collapsed": false
   },
   "id": "6657848b3e4da8c6",
   "execution_count": null
  },
  {
   "cell_type": "code",
   "outputs": [],
   "source": [
    "#Guardar no ficheiro\n",
    "file_path = data_path + 'treated/prepared/numeric/normalized/test/dataset-numeric-high-tensions-2024-no-dates-decimal.csv'\n",
    "\n",
    "alta_tensao_2024_scaled_decimal_df.to_csv(file_path, index=False)\n",
    "\n",
    "print(\"DataFrame guardado em \", file_path)"
   ],
   "metadata": {
    "collapsed": false
   },
   "id": "afb981a7ffd8d73",
   "execution_count": null
  },
  {
   "cell_type": "markdown",
   "source": [
    "### Normalização Alta Tensão Treino Decimal Scaling"
   ],
   "metadata": {
    "collapsed": false
   },
   "id": "6650cc944d5605f"
  },
  {
   "cell_type": "code",
   "outputs": [],
   "source": [
    "alta_tensao_outros_scaled_decimal_df = dec_scale_column(alta_tensao_outros_df.copy(), 'energia_ativa_alta_tensao_kwh')"
   ],
   "metadata": {
    "collapsed": false
   },
   "id": "45ec13f1a48d53d",
   "execution_count": null
  },
  {
   "cell_type": "code",
   "outputs": [],
   "source": [
    "alta_tensao_outros_scaled_decimal_df.describe()"
   ],
   "metadata": {
    "collapsed": false
   },
   "id": "8da12dcc996bc44f",
   "execution_count": null
  },
  {
   "cell_type": "code",
   "outputs": [],
   "source": [
    "#Guardar no ficheiro\n",
    "file_path = data_path + 'treated/prepared/numeric/normalized/train/dataset-numeric-high-tensions-2223-no-dates-decimal.csv'\n",
    "\n",
    "alta_tensao_outros_scaled_decimal_df.to_csv(file_path, index=False)\n",
    "\n",
    "print(\"DataFrame guardado em \", file_path)"
   ],
   "metadata": {
    "collapsed": false
   },
   "id": "6b0d555fbd504b31",
   "execution_count": null
  },
  {
   "cell_type": "markdown",
   "source": [
    "## Normalização MinMax"
   ],
   "metadata": {
    "collapsed": false
   },
   "id": "4acba4f5098af442"
  },
  {
   "cell_type": "markdown",
   "source": [
    "### Normalização MinMax das baixas tensões"
   ],
   "metadata": {
    "collapsed": false
   },
   "id": "15ace259bbfe3549"
  },
  {
   "cell_type": "code",
   "source": [
    "# Normalização com o MinMax\n",
    "scaler = MinMaxScaler()\n",
    "baixa_tensao_scaled_min_max_df = pd.DataFrame(scaler.fit_transform(baixa_tensao_df), columns=baixa_tensao_df.columns)\n",
    "\n",
    "baixa_tensao_scaled_min_max_df.head()"
   ],
   "metadata": {
    "collapsed": false
   },
   "id": "591db641f0c1f796",
   "outputs": [],
   "execution_count": null
  },
  {
   "cell_type": "code",
   "source": [
    "# Estatísticas resumidas antes da normalização\n",
    "baixa_tensao_df.describe()"
   ],
   "metadata": {
    "collapsed": false
   },
   "id": "df5e6cf216a396a0",
   "outputs": [],
   "execution_count": null
  },
  {
   "cell_type": "code",
   "source": [
    "# Estatísticas resumidas depois da normalização\n",
    "baixa_tensao_scaled_min_max_df.describe()"
   ],
   "metadata": {
    "collapsed": false
   },
   "id": "1ebd457641e32f19",
   "outputs": [],
   "execution_count": null
  },
  {
   "metadata": {},
   "cell_type": "code",
   "source": [
    "#Guardar no ficheiro\n",
    "file_path = data_path + 'treated/prepared/numeric/normalized/dataset-numeric-low-tensions-no-dates-minmax.csv'\n",
    "\n",
    "baixa_tensao_scaled_min_max_df.to_csv(file_path, index=False)\n",
    "\n",
    "print(\"DataFrame guardado em \", file_path)"
   ],
   "id": "aac310f215882316",
   "outputs": [],
   "execution_count": null
  },
  {
   "metadata": {},
   "cell_type": "markdown",
   "source": [
    "### Normalização MinMax das altas tensões"
   ],
   "id": "edae78f1567ee5ec"
  },
  {
   "metadata": {},
   "cell_type": "code",
   "source": [
    "# Normalização com o MinMax\n",
    "scaler = MinMaxScaler()\n",
    "alta_tensao_scaled_min_max_df = pd.DataFrame(scaler.fit_transform(alta_tensao_df), columns=alta_tensao_df.columns)\n",
    "\n",
    "alta_tensao_scaled_min_max_df.head()"
   ],
   "id": "67484cb2ba700f50",
   "outputs": [],
   "execution_count": null
  },
  {
   "metadata": {},
   "cell_type": "code",
   "source": [
    "# Estatísticas resumidas antes da normalização\n",
    "alta_tensao_df.describe()"
   ],
   "id": "f6af208228e09dc6",
   "outputs": [],
   "execution_count": null
  },
  {
   "metadata": {},
   "cell_type": "code",
   "source": [
    "# Estatísticas resumidas depois da normalização\n",
    "alta_tensao_scaled_min_max_df.describe()"
   ],
   "id": "8cf7edb3801de8cf",
   "outputs": [],
   "execution_count": null
  },
  {
   "metadata": {},
   "cell_type": "code",
   "source": [
    "#Guardar no ficheiro\n",
    "file_path = data_path + 'treated/prepared/numeric/normalized/dataset-numeric-high-tensions-no-dates-minmax.csv'\n",
    "\n",
    "alta_tensao_scaled_min_max_df.to_csv(file_path, index=False)\n",
    "\n",
    "print(\"DataFrame guardado em \", file_path)"
   ],
   "id": "31639713143b2a61",
   "outputs": [],
   "execution_count": null
  },
  {
   "metadata": {},
   "cell_type": "markdown",
   "source": [
    "### Normalização MinMax baixa tensão 2024"
   ],
   "id": "22a0407f164f538a"
  },
  {
   "metadata": {},
   "cell_type": "code",
   "source": [
    "# Normalização com o MinMax\n",
    "scaler = MinMaxScaler()\n",
    "baixa_tensao_2024_scaled_min_max_df = pd.DataFrame(scaler.fit_transform(baixa_tensao_2024_df), columns=baixa_tensao_2024_df.columns)\n",
    "\n",
    "baixa_tensao_2024_scaled_min_max_df.head()"
   ],
   "id": "b18a15ba3662a1c8",
   "outputs": [],
   "execution_count": null
  },
  {
   "metadata": {},
   "cell_type": "code",
   "source": [
    "# Estatísticas resumidas antes da normalização\n",
    "baixa_tensao_2024_df.describe()"
   ],
   "id": "9d486a3906a60f2e",
   "outputs": [],
   "execution_count": null
  },
  {
   "metadata": {},
   "cell_type": "code",
   "source": [
    "# Estatísticas resumidas depois da normalização\n",
    "baixa_tensao_2024_scaled_min_max_df.describe()"
   ],
   "id": "42e06a953535bd79",
   "outputs": [],
   "execution_count": null
  },
  {
   "metadata": {},
   "cell_type": "code",
   "source": [
    "#Guardar no ficheiro\n",
    "file_path = data_path + 'treated/prepared/numeric/normalized/test/dataset-numeric-low-tensions-2024-no-dates-minmax.csv'\n",
    "\n",
    "baixa_tensao_2024_scaled_min_max_df.to_csv(file_path, index=False)\n",
    "\n",
    "print(\"DataFrame guardado em \", file_path)"
   ],
   "id": "b222c82e529b37c2",
   "outputs": [],
   "execution_count": null
  },
  {
   "metadata": {},
   "cell_type": "markdown",
   "source": [
    "### Normalização MinMax baixa tensão 22/23\n"
   ],
   "id": "fe44c67098832124"
  },
  {
   "metadata": {},
   "cell_type": "code",
   "source": [
    "# Normalização com o MinMax\n",
    "scaler = MinMaxScaler()\n",
    "baixa_tensao_outros_scaled_min_max_df = pd.DataFrame(scaler.fit_transform(baixa_tensao_outros_df), columns=baixa_tensao_outros_df.columns)\n",
    "\n",
    "baixa_tensao_outros_scaled_min_max_df.head()"
   ],
   "id": "6539471e72fa95f9",
   "outputs": [],
   "execution_count": null
  },
  {
   "metadata": {},
   "cell_type": "code",
   "source": [
    "# Estatísticas resumidas antes da normalização\n",
    "baixa_tensao_outros_df.describe()"
   ],
   "id": "6ac5326a755b5a0c",
   "outputs": [],
   "execution_count": null
  },
  {
   "metadata": {},
   "cell_type": "code",
   "source": [
    "# Estatísticas resumidas depois da normalização\n",
    "baixa_tensao_outros_scaled_min_max_df.describe()"
   ],
   "id": "6e61cf9c5af6ebb0",
   "outputs": [],
   "execution_count": null
  },
  {
   "metadata": {},
   "cell_type": "code",
   "source": [
    "#Guardar no ficheiro\n",
    "file_path = data_path + 'treated/prepared/numeric/normalized/train/dataset-numeric-low-tensions-2223-no-dates-minmax.csv'\n",
    "\n",
    "baixa_tensao_outros_scaled_min_max_df.to_csv(file_path, index=False)\n",
    "\n",
    "print(\"DataFrame guardado em \", file_path)"
   ],
   "id": "15a4b256e7bca3f6",
   "outputs": [],
   "execution_count": null
  },
  {
   "metadata": {},
   "cell_type": "markdown",
   "source": [],
   "id": "44a1a054320c2465"
  },
  {
   "metadata": {},
   "cell_type": "markdown",
   "source": [
    "### Normalização MinMax alta tensão 2024"
   ],
   "id": "1a49e3e31d1ff8a4"
  },
  {
   "metadata": {},
   "cell_type": "code",
   "source": [
    "# Normalização com o MinMax\n",
    "scaler = MinMaxScaler()\n",
    "alta_tensao_2024_scaled_min_max_df = pd.DataFrame(scaler.fit_transform(alta_tensao_2024_df), columns=alta_tensao_2024_df.columns)\n",
    "\n",
    "alta_tensao_2024_scaled_min_max_df.head()"
   ],
   "id": "1a33ff375589d186",
   "outputs": [],
   "execution_count": null
  },
  {
   "metadata": {},
   "cell_type": "code",
   "source": [
    "# Estatísticas resumidas antes da normalização\n",
    "alta_tensao_2024_df.describe()"
   ],
   "id": "1fa2434103b7751",
   "outputs": [],
   "execution_count": null
  },
  {
   "metadata": {},
   "cell_type": "code",
   "source": [
    "# Estatísticas resumidas depois da normalização\n",
    "alta_tensao_2024_scaled_min_max_df.describe()"
   ],
   "id": "31339fcc92b3169",
   "outputs": [],
   "execution_count": null
  },
  {
   "metadata": {},
   "cell_type": "code",
   "source": [
    "#Guardar no ficheiro\n",
    "file_path = data_path + 'treated/prepared/numeric/normalized/test/dataset-numeric-high-tensions-2024-no-dates-minmax.csv'\n",
    "\n",
    "alta_tensao_2024_scaled_min_max_df.to_csv(file_path, index=False)\n",
    "\n",
    "print(\"DataFrame guardado em \", file_path)"
   ],
   "id": "61317b2d5b33e651",
   "outputs": [],
   "execution_count": null
  },
  {
   "metadata": {},
   "cell_type": "markdown",
   "source": [
    "### Normalização MinMax alta tensão 22/23"
   ],
   "id": "c4787791fa19cd8a"
  },
  {
   "metadata": {},
   "cell_type": "code",
   "source": [
    "# Normalização com o MinMax\n",
    "scaler = MinMaxScaler()\n",
    "alta_tensao_outros_scaled_min_max_df = pd.DataFrame(scaler.fit_transform(alta_tensao_outros_df), columns=alta_tensao_outros_df.columns)\n",
    "\n",
    "alta_tensao_outros_scaled_min_max_df.head()"
   ],
   "id": "ef7093ac26a9c895",
   "outputs": [],
   "execution_count": null
  },
  {
   "metadata": {},
   "cell_type": "code",
   "source": [
    "# Estatísticas resumidas antes da normalização\n",
    "alta_tensao_outros_df.describe()"
   ],
   "id": "e8b610848671e4ad",
   "outputs": [],
   "execution_count": null
  },
  {
   "metadata": {},
   "cell_type": "code",
   "source": [
    "# Estatísticas resumidas depois da normalização\n",
    "alta_tensao_outros_scaled_min_max_df.describe()"
   ],
   "id": "be7f1021fcfc6df8",
   "outputs": [],
   "execution_count": null
  },
  {
   "metadata": {},
   "cell_type": "code",
   "source": [
    "#Guardar no ficheiro\n",
    "file_path = data_path + 'treated/prepared/numeric/normalized/train/dataset-numeric-high-tensions-2223-no-dates-minmax.csv'\n",
    "\n",
    "alta_tensao_outros_scaled_min_max_df.to_csv(file_path, index=False)\n",
    "\n",
    "print(\"DataFrame guardado em \", file_path)"
   ],
   "id": "c6d76c51bf0a10ae",
   "outputs": [],
   "execution_count": null
  },
  {
   "metadata": {},
   "cell_type": "markdown",
   "source": [
    "## Normalização z-Score"
   ],
   "id": "82e0dc596a43819b"
  },
  {
   "metadata": {},
   "cell_type": "markdown",
   "source": [
    "### Normalização z-Score das baixas tensões"
   ],
   "id": "52154e2f9004a31d"
  },
  {
   "metadata": {},
   "cell_type": "code",
   "source": [
    "# Normalização com o Z-Score\n",
    "scaler = StandardScaler()\n",
    "baixa_tensao_scaled_z_score_df = pd.DataFrame(scaler.fit_transform(baixa_tensao_df), columns=baixa_tensao_df.columns)\n",
    "\n",
    "baixa_tensao_scaled_z_score_df.head()"
   ],
   "id": "b13948d455820e75",
   "outputs": [],
   "execution_count": null
  },
  {
   "metadata": {},
   "cell_type": "code",
   "source": [
    "# Estatísticas resumidas antes da normalização\n",
    "baixa_tensao_df.describe()"
   ],
   "id": "159f7299390e83e6",
   "outputs": [],
   "execution_count": null
  },
  {
   "metadata": {},
   "cell_type": "code",
   "source": [
    "# Estatísticas resumidas depois da normalização\n",
    "baixa_tensao_scaled_z_score_df.describe()"
   ],
   "id": "249810da22568e6d",
   "outputs": [],
   "execution_count": null
  },
  {
   "metadata": {},
   "cell_type": "code",
   "source": [
    "#Guardar no ficheiro\n",
    "file_path = data_path + 'treated/prepared/numeric/normalized/dataset-numeric-low-tensions-no-dates-zscore.csv'\n",
    "\n",
    "baixa_tensao_scaled_z_score_df.to_csv(file_path, index=False)\n",
    "\n",
    "print(\"DataFrame guardado em \", file_path)"
   ],
   "id": "72b2e3fa1c20dfa0",
   "outputs": [],
   "execution_count": null
  },
  {
   "metadata": {},
   "cell_type": "markdown",
   "source": [
    "### Normalização z-Score das altas tensões"
   ],
   "id": "8d1510fb361ec140"
  },
  {
   "metadata": {},
   "cell_type": "code",
   "source": [
    "# Normalização com o Z-Score\n",
    "scaler = StandardScaler()\n",
    "alta_tensao_scaled_z_score_df = pd.DataFrame(scaler.fit_transform(alta_tensao_df), columns=alta_tensao_df.columns)\n",
    "\n",
    "alta_tensao_scaled_z_score_df.head()"
   ],
   "id": "be3be76c299c518",
   "outputs": [],
   "execution_count": null
  },
  {
   "metadata": {},
   "cell_type": "code",
   "source": [
    "# Estatísticas resumidas antes da normalização\n",
    "alta_tensao_df.describe()"
   ],
   "id": "6d546c2e24ffd5e2",
   "outputs": [],
   "execution_count": null
  },
  {
   "metadata": {},
   "cell_type": "code",
   "source": [
    "# Estatísticas resumidas depois da normalização\n",
    "alta_tensao_scaled_z_score_df.describe()"
   ],
   "id": "fe28fb8e87b9a102",
   "outputs": [],
   "execution_count": null
  },
  {
   "metadata": {},
   "cell_type": "code",
   "source": [
    "#Guardar no ficheiro\n",
    "file_path = data_path + 'treated/prepared/numeric/normalized/dataset-numeric-high-tensions-no-dates-zscore.csv'\n",
    "\n",
    "alta_tensao_scaled_z_score_df.to_csv(file_path, index=False)\n",
    "\n",
    "print(\"DataFrame guardado em \", file_path)"
   ],
   "id": "e1dcc598ba0638e1",
   "outputs": [],
   "execution_count": null
  },
  {
   "metadata": {},
   "cell_type": "markdown",
   "source": [
    "### Normalização z-Score baixa tensão 2024"
   ],
   "id": "5ce5c47f5642a364"
  },
  {
   "metadata": {},
   "cell_type": "code",
   "source": [
    "# Normalização com o Z-Score\n",
    "scaler = StandardScaler()\n",
    "baixa_tensao_2024_scaled_z_score_df = pd.DataFrame(scaler.fit_transform(baixa_tensao_2024_df), columns=baixa_tensao_2024_df.columns)\n",
    "\n",
    "baixa_tensao_2024_scaled_z_score_df.head()"
   ],
   "id": "e186859094fc8ad3",
   "outputs": [],
   "execution_count": null
  },
  {
   "metadata": {},
   "cell_type": "code",
   "source": [
    "# Estatísticas resumidas antes da normalização\n",
    "baixa_tensao_2024_df.describe()"
   ],
   "id": "a3677d76763df3c8",
   "outputs": [],
   "execution_count": null
  },
  {
   "metadata": {},
   "cell_type": "code",
   "source": [
    "# Estatísticas resumidas depois da normalização\n",
    "baixa_tensao_2024_scaled_z_score_df.describe()"
   ],
   "id": "ed7df9e2614673af",
   "outputs": [],
   "execution_count": null
  },
  {
   "metadata": {},
   "cell_type": "code",
   "source": [
    "#Guardar no ficheiro\n",
    "file_path = data_path + 'treated/prepared/numeric/normalized/test/dataset-numeric-low-tensions-2024-no-dates-zscore.csv'\n",
    "\n",
    "baixa_tensao_2024_scaled_z_score_df.to_csv(file_path, index=False)\n",
    "\n",
    "print(\"DataFrame guardado em \", file_path)"
   ],
   "id": "516de79e0370d78",
   "outputs": [],
   "execution_count": null
  },
  {
   "metadata": {},
   "cell_type": "markdown",
   "source": [
    "### Normalização z-Score baixa tensão 22/23"
   ],
   "id": "8556697bafe92364"
  },
  {
   "metadata": {},
   "cell_type": "code",
   "source": [
    "# Normalização com o Z-Score\n",
    "scaler = StandardScaler()\n",
    "baixa_tensao_outros_scaled_z_score_df = pd.DataFrame(scaler.fit_transform(baixa_tensao_outros_df), columns=baixa_tensao_outros_df.columns)\n",
    "\n",
    "baixa_tensao_outros_scaled_z_score_df.head()"
   ],
   "id": "67db0b8895968a22",
   "outputs": [],
   "execution_count": null
  },
  {
   "metadata": {},
   "cell_type": "code",
   "source": [
    "# Estatísticas resumidas antes da normalização\n",
    "baixa_tensao_outros_df.describe()"
   ],
   "id": "adb28c6b4f8c5ccc",
   "outputs": [],
   "execution_count": null
  },
  {
   "metadata": {},
   "cell_type": "code",
   "source": [
    "# Estatísticas resumidas depois da normalização\n",
    "baixa_tensao_outros_scaled_z_score_df.describe()"
   ],
   "id": "93c862beea9bb311",
   "outputs": [],
   "execution_count": null
  },
  {
   "metadata": {},
   "cell_type": "code",
   "source": [
    "#Guardar no ficheiro\n",
    "file_path = data_path + 'treated/prepared/numeric/normalized/train/dataset-numeric-low-tensions-2223-no-dates-zscore.csv'\n",
    "\n",
    "baixa_tensao_outros_scaled_z_score_df.to_csv(file_path, index=False)\n",
    "\n",
    "print(\"DataFrame guardado em \", file_path)"
   ],
   "id": "e9db87488803d85a",
   "outputs": [],
   "execution_count": null
  },
  {
   "metadata": {},
   "cell_type": "markdown",
   "source": [
    "### Normalização z-Score alta tensão 2024"
   ],
   "id": "fe26991941dcd253"
  },
  {
   "metadata": {},
   "cell_type": "code",
   "source": [
    "# Normalização com o Z-Score\n",
    "scaler = StandardScaler()\n",
    "alta_tensao_2024_scaled_z_score_df = pd.DataFrame(scaler.fit_transform(alta_tensao_2024_df), columns=alta_tensao_2024_df.columns)\n",
    "\n",
    "alta_tensao_2024_scaled_z_score_df.head()"
   ],
   "id": "41aab379eb52a830",
   "outputs": [],
   "execution_count": null
  },
  {
   "metadata": {},
   "cell_type": "code",
   "source": [
    "# Estatísticas resumidas antes da normalização\n",
    "alta_tensao_2024_df.describe()"
   ],
   "id": "49f0ad15f20e5400",
   "outputs": [],
   "execution_count": null
  },
  {
   "metadata": {},
   "cell_type": "code",
   "source": [
    "# Estatísticas resumidas depois da normalização\n",
    "alta_tensao_2024_scaled_z_score_df.describe()"
   ],
   "id": "8dfb1e9818f6320c",
   "outputs": [],
   "execution_count": null
  },
  {
   "metadata": {},
   "cell_type": "code",
   "source": [
    "#Guardar no ficheiro\n",
    "file_path = data_path + 'treated/prepared/numeric/normalized/test/dataset-numeric-high-tensions-2024-no-dates-zscore.csv'\n",
    "\n",
    "alta_tensao_2024_scaled_z_score_df.to_csv(file_path, index=False)\n",
    "\n",
    "print(\"DataFrame guardado em \", file_path)"
   ],
   "id": "2fabdad93da7ee9d",
   "outputs": [],
   "execution_count": null
  },
  {
   "metadata": {},
   "cell_type": "markdown",
   "source": [
    "### Normalização z-Score alta tensão 22/23"
   ],
   "id": "a96ab4d915555d7c"
  },
  {
   "metadata": {},
   "cell_type": "code",
   "source": [
    "# Normalização com o Z-Score\n",
    "scaler = StandardScaler()\n",
    "alta_tensao_outros_scaled_z_score_df = pd.DataFrame(scaler.fit_transform(alta_tensao_outros_df), columns=alta_tensao_outros_df.columns)\n",
    "\n",
    "alta_tensao_outros_scaled_z_score_df.head()"
   ],
   "id": "2b9a737aa5152262",
   "outputs": [],
   "execution_count": null
  },
  {
   "metadata": {},
   "cell_type": "code",
   "source": [
    "# Estatísticas resumidas antes da normalização\n",
    "alta_tensao_outros_df.describe()"
   ],
   "id": "91c6b3f70778ad94",
   "outputs": [],
   "execution_count": null
  },
  {
   "metadata": {},
   "cell_type": "code",
   "source": [
    "# Estatísticas resumidas depois da normalização\n",
    "alta_tensao_outros_scaled_z_score_df.describe()"
   ],
   "id": "62d66fedd48b4ff6",
   "outputs": [],
   "execution_count": null
  },
  {
   "metadata": {},
   "cell_type": "code",
   "source": [
    "#Guardar no ficheiro\n",
    "file_path = data_path + 'treated/prepared/numeric/normalized/train/dataset-numeric-high-tensions-2223-no-dates-zscore.csv'\n",
    "\n",
    "alta_tensao_outros_scaled_z_score_df.to_csv(file_path, index=False)\n",
    "\n",
    "print(\"DataFrame guardado em \", file_path)"
   ],
   "id": "f99d51cab9d05411",
   "outputs": [],
   "execution_count": null
  },
  {
   "cell_type": "code",
   "source": [
    "# Criar subplots\n",
    "fig, axes = plt.subplots(nrows=len(baixa_tensao_df.columns), ncols=2, figsize=(12, 40))\n",
    "\n",
    "num_bins = 10\n",
    "# Histogramas antes da normalização\n",
    "for i, col in enumerate(baixa_tensao_df.columns):\n",
    "    merged_df[col].hist(ax=axes[i, 0], bins=num_bins)\n",
    "    axes[i, 0].set_title(col + ' (Antes da Normalização)')\n",
    "\n",
    "# Histogramas depois da normalização\n",
    "for i, col in enumerate(baixa_tensao_scaled_min_max_df.columns):\n",
    "    baixa_tensao_scaled_min_max_df[col].hist(ax=axes[i, 1], bins=num_bins)\n",
    "    axes[i, 1].set_title(col + ' (Depois da Normalização)')\n",
    "\n",
    "plt.tight_layout()\n",
    "plt.show()\n"
   ],
   "metadata": {
    "collapsed": false
   },
   "id": "2654f10954965dd5",
   "outputs": [],
   "execution_count": null
  },
  {
   "cell_type": "markdown",
   "source": [
    "# Ver se normalização decimal scaling vale a pena ou não"
   ],
   "metadata": {
    "collapsed": false
   },
   "id": "3490c78fc48e8a90"
  },
  {
   "cell_type": "code",
   "outputs": [],
   "source": [
    "import seaborn as sns\n",
    "import matplotlib.pyplot as plt\n",
    "\n",
    "sns.set_theme()\n",
    "\n",
    "custom_palette = sns.color_palette(\"viridis\", len(baixa_tensao_2024_df.columns))\n",
    "\n",
    "for i, column in enumerate(baixa_tensao_2024_df.columns):\n",
    "    sorted_values = sorted(baixa_tensao_2024_df[column], reverse=True)\n",
    "    \n",
    "    plt.figure(figsize=(10, 6))\n",
    "    sns.barplot(x=list(range(len(sorted_values))), y=sorted_values, color=custom_palette[i], edgecolor='skyblue')  \n",
    "    \n",
    "    plt.title(f'Valores Ordenados de {column}')\n",
    "    plt.xlabel('Índice Ordenado')\n",
    "    plt.ylabel(column)\n",
    "    \n",
    "    plt.xticks(rotation=45)\n",
    "    \n",
    "    plt.tight_layout()  \n",
    "    plt.show()\n"
   ],
   "metadata": {
    "collapsed": false
   },
   "id": "7f7eb90c401f813e",
   "execution_count": null
  },
  {
   "cell_type": "code",
   "outputs": [],
   "source": [
    "custom_palette = sns.color_palette(\"viridis\", len(alta_tensao_df.columns))\n",
    "\n",
    "for i, column in enumerate(alta_tensao_df.columns):\n",
    "    sorted_values = sorted(alta_tensao_df[column], reverse=True)\n",
    "    \n",
    "    plt.figure(figsize=(10, 6))\n",
    "    sns.barplot(x=list(range(len(sorted_values))), y=sorted_values, color=custom_palette[i], edgecolor='skyblue')  # Escolha da cor de borda\n",
    "    \n",
    "    plt.title(f'Valores Ordenados de {column}')\n",
    "    plt.xlabel('Índice Ordenado')\n",
    "    plt.ylabel(column)\n",
    "    \n",
    "    plt.xticks(rotation=45)\n",
    "    \n",
    "    plt.tight_layout() \n",
    "    plt.show()\n"
   ],
   "metadata": {
    "collapsed": false
   },
   "id": "565a3da24d3bf61",
   "execution_count": null
  }
 ],
 "metadata": {
  "kernelspec": {
   "display_name": "Python 3",
   "language": "python",
   "name": "python3"
  },
  "language_info": {
   "codemirror_mode": {
    "name": "ipython",
    "version": 2
   },
   "file_extension": ".py",
   "mimetype": "text/x-python",
   "name": "python",
   "nbconvert_exporter": "python",
   "pygments_lexer": "ipython2",
   "version": "2.7.6"
  }
 },
 "nbformat": 4,
 "nbformat_minor": 5
}
