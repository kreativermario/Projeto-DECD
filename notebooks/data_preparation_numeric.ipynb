{
 "cells": [
  {
   "cell_type": "code",
   "execution_count": 1,
   "id": "initial_id",
   "metadata": {
    "collapsed": true,
    "ExecuteTime": {
     "end_time": "2024-04-19T09:19:53.217523Z",
     "start_time": "2024-04-19T09:19:53.067427Z"
    }
   },
   "outputs": [],
   "source": [
    "# Preparação dos dados\n",
    "import os\n",
    "\n",
    "import numpy as np\n",
    "import pandas as pd\n",
    "\n",
    "%matplotlib inline\n",
    "import matplotlib.pyplot as plt\n",
    "import seaborn as sns\n",
    "import pandas as pd\n",
    "import sklearn\n",
    "\n",
    "sns.set_theme()"
   ]
  },
  {
   "cell_type": "code",
   "outputs": [],
   "source": [
    "## Importar dataset\n",
    "\n",
    "data_path = '../data/' if os.path.exists(\n",
    "    '../data/') else 'https://raw.githubusercontent.com/kreativermario/Projeto-DECD/master/data/'\n",
    "\n",
    "merged_path = data_path + 'treated/merged-dataset.csv'\n",
    "\n",
    "merged_df = pd.read_csv(merged_path)"
   ],
   "metadata": {
    "collapsed": false,
    "ExecuteTime": {
     "end_time": "2024-04-19T09:19:53.247175Z",
     "start_time": "2024-04-19T09:19:53.218523Z"
    }
   },
   "id": "f40a7dae517d25ca",
   "execution_count": 2
  },
  {
   "cell_type": "markdown",
   "source": [
    "## Criar o conjunto totalmente númerico\n",
    "- Visualizar os gráficos e ver a distribuição das variáveis.\n",
    "- Ver quantos outliers existem por variável"
   ],
   "metadata": {
    "collapsed": false
   },
   "id": "1227f3a67312a983"
  },
  {
   "cell_type": "code",
   "outputs": [
    {
     "name": "stdout",
     "output_type": "stream",
     "text": [
      "<class 'pandas.core.frame.DataFrame'>\n",
      "RangeIndex: 4914 entries, 0 to 4913\n",
      "Data columns (total 14 columns):\n",
      " #   Column                                     Non-Null Count  Dtype\n",
      "---  ------                                     --------------  -----\n",
      " 0   ano                                        4914 non-null   int64\n",
      " 1   mês                                        4914 non-null   int64\n",
      " 2   energia_ativa_baixa_tensao_kwh             4914 non-null   int64\n",
      " 3   energia_ativa_alta_tensao_kwh              4914 non-null   int64\n",
      " 4   cpes_domestico_baixa_tensao                4914 non-null   int64\n",
      " 5   cpes_domestico_alta_tensao                 4914 non-null   int64\n",
      " 6   cpes_iluminacao_publica_baixa_tensao       4914 non-null   int64\n",
      " 7   cpes_iluminacao_publica_alta_tensao        4914 non-null   int64\n",
      " 8   cpes_nao_domestico_baixa_tensao            4914 non-null   int64\n",
      " 9   cpes_nao_domestico_alta_tensao             4914 non-null   int64\n",
      " 10  cpes_outros_baixa_tensao                   4914 non-null   int64\n",
      " 11  cpes_outros_alta_tensao                    4914 non-null   int64\n",
      " 12  cpes_mobilidade_eletrica_nao_baixa_tensao  4914 non-null   int64\n",
      " 13  cpes_mobilidade_eletrica_sim_baixa_tensao  4914 non-null   int64\n",
      "dtypes: int64(14)\n",
      "memory usage: 537.6 KB\n"
     ]
    }
   ],
   "source": [
    "merged_df.info()"
   ],
   "metadata": {
    "collapsed": false,
    "ExecuteTime": {
     "end_time": "2024-04-19T09:19:53.267850Z",
     "start_time": "2024-04-19T09:19:53.249173Z"
    }
   },
   "id": "8f390c1993486e7d",
   "execution_count": 3
  },
  {
   "cell_type": "markdown",
   "source": [
    "## Normalização MinMax"
   ],
   "metadata": {
    "collapsed": false
   },
   "id": "4acba4f5098af442"
  },
  {
   "cell_type": "code",
   "outputs": [
    {
     "name": "stdout",
     "output_type": "stream",
     "text": [
      "    ano  mês  energia_ativa_baixa_tensao_kwh  energia_ativa_alta_tensao_kwh  \\\n",
      "0  2022    8                        1.000000                       0.000000   \n",
      "1  2022    9                        0.000000                       0.570417   \n",
      "2  2022   10                        0.189854                       1.000000   \n",
      "3  2022   11                        0.893458                       0.148421   \n",
      "\n",
      "   cpes_domestico_baixa_tensao  cpes_domestico_alta_tensao  \\\n",
      "0                     0.000000                         0.0   \n",
      "1                     0.322581                         0.0   \n",
      "2                     0.645161                         0.0   \n",
      "3                     1.000000                         0.0   \n",
      "\n",
      "   cpes_iluminacao_publica_baixa_tensao  cpes_iluminacao_publica_alta_tensao  \\\n",
      "0                                   0.0                                  0.0   \n",
      "1                                   0.0                                  0.0   \n",
      "2                                   0.0                                  0.0   \n",
      "3                                   0.0                                  0.0   \n",
      "\n",
      "   cpes_nao_domestico_baixa_tensao  cpes_nao_domestico_alta_tensao  \\\n",
      "0                           1.0000                             0.0   \n",
      "1                           0.5625                             0.0   \n",
      "2                           0.0000                             0.0   \n",
      "3                           0.3750                             0.0   \n",
      "\n",
      "   cpes_outros_baixa_tensao  cpes_outros_alta_tensao  \\\n",
      "0                  1.000000                      0.0   \n",
      "1                  0.333333                      0.0   \n",
      "2                  0.333333                      0.0   \n",
      "3                  0.000000                      0.0   \n",
      "\n",
      "   cpes_mobilidade_eletrica_nao_baixa_tensao  \\\n",
      "0                                   0.000000   \n",
      "1                                   0.230505   \n",
      "2                                   0.534404   \n",
      "3                                   1.000000   \n",
      "\n",
      "   cpes_mobilidade_eletrica_sim_baixa_tensao  \n",
      "0                                        0.0  \n",
      "1                                        0.0  \n",
      "2                                        0.0  \n",
      "3                                        0.0  \n"
     ]
    }
   ],
   "source": [
    "import pandas as pd\n",
    "from sklearn.preprocessing import MinMaxScaler\n",
    "\n",
    "# Your dataset\n",
    "data = {\n",
    "    'ano': [2022, 2022, 2022, 2022],\n",
    "    'mês': [8, 9, 10, 11],\n",
    "    'energia_ativa_baixa_tensao_kwh': [5906036, 5316878, 5428732, 5843266],\n",
    "    'energia_ativa_alta_tensao_kwh': [5891542, 6159115, 6360625, 5961164],\n",
    "    'cpes_domestico_baixa_tensao': [20260, 20270, 20280, 20291],\n",
    "    'cpes_domestico_alta_tensao': [0, 0, 0, 0],\n",
    "    'cpes_iluminacao_publica_baixa_tensao': [293, 293, 293, 293],\n",
    "    'cpes_iluminacao_publica_alta_tensao': [0, 0, 0, 0],\n",
    "    'cpes_nao_domestico_baixa_tensao': [4318, 4311, 4302, 4308],\n",
    "    'cpes_nao_domestico_alta_tensao': [134, 134, 134, 134],\n",
    "    'cpes_outros_baixa_tensao': [83, 81, 81, 80],\n",
    "    'cpes_outros_alta_tensao': [0, 0, 0, 0],\n",
    "    'cpes_mobilidade_eletrica_nao_baixa_tensao': [22194, 22596, 23126, 23938],\n",
    "    'cpes_mobilidade_eletrica_sim_baixa_tensao': [2, 2, 2, 2]\n",
    "}\n",
    "\n",
    "df = pd.DataFrame(data)\n",
    "\n",
    "# Select only the columns you want to normalize\n",
    "cols_to_normalize = [\n",
    "    'energia_ativa_baixa_tensao_kwh',\n",
    "    'energia_ativa_alta_tensao_kwh',\n",
    "    'cpes_domestico_baixa_tensao',\n",
    "    'cpes_domestico_alta_tensao',\n",
    "    'cpes_iluminacao_publica_baixa_tensao',\n",
    "    'cpes_iluminacao_publica_alta_tensao',\n",
    "    'cpes_nao_domestico_baixa_tensao',\n",
    "    'cpes_nao_domestico_alta_tensao',\n",
    "    'cpes_outros_baixa_tensao',\n",
    "    'cpes_outros_alta_tensao',\n",
    "    'cpes_mobilidade_eletrica_nao_baixa_tensao',\n",
    "    'cpes_mobilidade_eletrica_sim_baixa_tensao'\n",
    "]\n",
    "\n",
    "# Apply MinMaxScaler\n",
    "scaler = MinMaxScaler()\n",
    "df[cols_to_normalize] = scaler.fit_transform(df[cols_to_normalize])\n",
    "\n",
    "print(df)\n"
   ],
   "metadata": {
    "collapsed": false,
    "ExecuteTime": {
     "end_time": "2024-04-19T09:19:53.339798Z",
     "start_time": "2024-04-19T09:19:53.268851Z"
    }
   },
   "id": "591db641f0c1f796",
   "execution_count": 4
  },
  {
   "cell_type": "code",
   "outputs": [],
   "source": [
    "## Normalizar z-Score"
   ],
   "metadata": {
    "collapsed": false,
    "ExecuteTime": {
     "end_time": "2024-04-19T09:19:53.346365Z",
     "start_time": "2024-04-19T09:19:53.341797Z"
    }
   },
   "id": "530da3b257cf92bd",
   "execution_count": 5
  },
  {
   "cell_type": "code",
   "outputs": [
    {
     "name": "stdout",
     "output_type": "stream",
     "text": [
      "    ano  mês  energia_ativa_baixa_tensao_kwh  energia_ativa_alta_tensao_kwh  \\\n",
      "0  2022    8                        1.107143                      -1.101455   \n",
      "1  2022    9                       -1.203391                       0.360669   \n",
      "2  2022   10                       -0.764727                       1.461799   \n",
      "3  2022   11                        0.860975                      -0.721013   \n",
      "\n",
      "   cpes_domestico_baixa_tensao  cpes_domestico_alta_tensao  \\\n",
      "0                    -1.323899                         0.0   \n",
      "1                    -0.455768                         0.0   \n",
      "2                     0.412362                         0.0   \n",
      "3                     1.367305                         0.0   \n",
      "\n",
      "   cpes_iluminacao_publica_baixa_tensao  cpes_iluminacao_publica_alta_tensao  \\\n",
      "0                                   0.0                                  0.0   \n",
      "1                                   0.0                                  0.0   \n",
      "2                                   0.0                                  0.0   \n",
      "3                                   0.0                                  0.0   \n",
      "\n",
      "   cpes_nao_domestico_baixa_tensao  cpes_nao_domestico_alta_tensao  \\\n",
      "0                         1.432078                             0.0   \n",
      "1                         0.216982                             0.0   \n",
      "2                        -1.345285                             0.0   \n",
      "3                        -0.303774                             0.0   \n",
      "\n",
      "   cpes_outros_baixa_tensao  cpes_outros_alta_tensao  \\\n",
      "0                  1.605910                      0.0   \n",
      "1                 -0.229416                      0.0   \n",
      "2                 -0.229416                      0.0   \n",
      "3                 -1.147079                      0.0   \n",
      "\n",
      "   cpes_mobilidade_eletrica_nao_baixa_tensao  \\\n",
      "0                                  -1.179235   \n",
      "1                                  -0.563182   \n",
      "2                                   0.249026   \n",
      "3                                   1.493391   \n",
      "\n",
      "   cpes_mobilidade_eletrica_sim_baixa_tensao  \n",
      "0                                        0.0  \n",
      "1                                        0.0  \n",
      "2                                        0.0  \n",
      "3                                        0.0  \n"
     ]
    }
   ],
   "source": [
    "import pandas as pd\n",
    "from sklearn.preprocessing import StandardScaler\n",
    "\n",
    "# Your dataset\n",
    "data = {\n",
    "    'ano': [2022, 2022, 2022, 2022],\n",
    "    'mês': [8, 9, 10, 11],\n",
    "    'energia_ativa_baixa_tensao_kwh': [5906036, 5316878, 5428732, 5843266],\n",
    "    'energia_ativa_alta_tensao_kwh': [5891542, 6159115, 6360625, 5961164],\n",
    "    'cpes_domestico_baixa_tensao': [20260, 20270, 20280, 20291],\n",
    "    'cpes_domestico_alta_tensao': [0, 0, 0, 0],\n",
    "    'cpes_iluminacao_publica_baixa_tensao': [293, 293, 293, 293],\n",
    "    'cpes_iluminacao_publica_alta_tensao': [0, 0, 0, 0],\n",
    "    'cpes_nao_domestico_baixa_tensao': [4318, 4311, 4302, 4308],\n",
    "    'cpes_nao_domestico_alta_tensao': [134, 134, 134, 134],\n",
    "    'cpes_outros_baixa_tensao': [83, 81, 81, 80],\n",
    "    'cpes_outros_alta_tensao': [0, 0, 0, 0],\n",
    "    'cpes_mobilidade_eletrica_nao_baixa_tensao': [22194, 22596, 23126, 23938],\n",
    "    'cpes_mobilidade_eletrica_sim_baixa_tensao': [2, 2, 2, 2]\n",
    "}\n",
    "\n",
    "df = pd.DataFrame(data)\n",
    "\n",
    "# Select only the columns you want to normalize\n",
    "cols_to_normalize = [\n",
    "    'energia_ativa_baixa_tensao_kwh',\n",
    "    'energia_ativa_alta_tensao_kwh',\n",
    "    'cpes_domestico_baixa_tensao',\n",
    "    'cpes_domestico_alta_tensao',\n",
    "    'cpes_iluminacao_publica_baixa_tensao',\n",
    "    'cpes_iluminacao_publica_alta_tensao',\n",
    "    'cpes_nao_domestico_baixa_tensao',\n",
    "    'cpes_nao_domestico_alta_tensao',\n",
    "    'cpes_outros_baixa_tensao',\n",
    "    'cpes_outros_alta_tensao',\n",
    "    'cpes_mobilidade_eletrica_nao_baixa_tensao',\n",
    "    'cpes_mobilidade_eletrica_sim_baixa_tensao'\n",
    "]\n",
    "\n",
    "# Apply z-score normalization\n",
    "scaler = StandardScaler()\n",
    "df[cols_to_normalize] = scaler.fit_transform(df[cols_to_normalize])\n",
    "\n",
    "print(df)\n"
   ],
   "metadata": {
    "collapsed": false,
    "ExecuteTime": {
     "end_time": "2024-04-19T09:19:53.379731Z",
     "start_time": "2024-04-19T09:19:53.349367Z"
    }
   },
   "id": "538c9b17b0116847",
   "execution_count": 6
  }
 ],
 "metadata": {
  "kernelspec": {
   "display_name": "Python 3",
   "language": "python",
   "name": "python3"
  },
  "language_info": {
   "codemirror_mode": {
    "name": "ipython",
    "version": 2
   },
   "file_extension": ".py",
   "mimetype": "text/x-python",
   "name": "python",
   "nbconvert_exporter": "python",
   "pygments_lexer": "ipython2",
   "version": "2.7.6"
  }
 },
 "nbformat": 4,
 "nbformat_minor": 5
}
