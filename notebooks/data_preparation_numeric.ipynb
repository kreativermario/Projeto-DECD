{
 "cells": [
  {
   "cell_type": "code",
   "execution_count": 1,
   "id": "initial_id",
   "metadata": {
    "collapsed": true,
    "ExecuteTime": {
     "end_time": "2024-04-18T15:14:15.689956Z",
     "start_time": "2024-04-18T15:14:15.683668Z"
    }
   },
   "outputs": [],
   "source": [
    "# Preparação dos dados\n",
    "import os\n",
    "\n",
    "import numpy as np\n",
    "import pandas as pd\n",
    "\n",
    "%matplotlib inline\n",
    "import matplotlib.pyplot as plt\n",
    "import seaborn as sns\n",
    "\n",
    "sns.set_theme()"
   ]
  },
  {
   "cell_type": "code",
   "outputs": [],
   "source": [
    "## Importar dataset\n",
    "\n",
    "data_path = '../data/' if os.path.exists(\n",
    "    '../data/') else 'https://raw.githubusercontent.com/kreativermario/Projeto-DECD/master/data/'\n",
    "\n",
    "merged_path = data_path + 'treated/merged-dataset.csv'\n",
    "\n",
    "merged_df = pd.read_csv(merged_path)"
   ],
   "metadata": {
    "collapsed": false,
    "ExecuteTime": {
     "end_time": "2024-04-18T15:14:15.694886Z",
     "start_time": "2024-04-18T15:14:15.690140Z"
    }
   },
   "id": "f40a7dae517d25ca",
   "execution_count": 2
  },
  {
   "cell_type": "markdown",
   "source": [
    "## Criar o conjunto totalmente númerico\n",
    "- Visualizar os gráficos e ver a distribuição das variáveis.\n",
    "- Ver quantos outliers existem por variável"
   ],
   "metadata": {
    "collapsed": false
   },
   "id": "1227f3a67312a983"
  },
  {
   "cell_type": "code",
   "outputs": [
    {
     "name": "stdout",
     "output_type": "stream",
     "text": [
      "<class 'pandas.core.frame.DataFrame'>\n",
      "RangeIndex: 4914 entries, 0 to 4913\n",
      "Data columns (total 14 columns):\n",
      " #   Column                                     Non-Null Count  Dtype\n",
      "---  ------                                     --------------  -----\n",
      " 0   ano                                        4914 non-null   int64\n",
      " 1   mês                                        4914 non-null   int64\n",
      " 2   energia_ativa_baixa_tensao_kwh             4914 non-null   int64\n",
      " 3   energia_ativa_alta_tensao_kwh              4914 non-null   int64\n",
      " 4   cpes_domestico_baixa_tensao                4914 non-null   int64\n",
      " 5   cpes_domestico_alta_tensao                 4914 non-null   int64\n",
      " 6   cpes_iluminacao_publica_baixa_tensao       4914 non-null   int64\n",
      " 7   cpes_iluminacao_publica_alta_tensao        4914 non-null   int64\n",
      " 8   cpes_nao_domestico_baixa_tensao            4914 non-null   int64\n",
      " 9   cpes_nao_domestico_alta_tensao             4914 non-null   int64\n",
      " 10  cpes_outros_baixa_tensao                   4914 non-null   int64\n",
      " 11  cpes_outros_alta_tensao                    4914 non-null   int64\n",
      " 12  cpes_mobilidade_eletrica_nao_baixa_tensao  4914 non-null   int64\n",
      " 13  cpes_mobilidade_eletrica_sim_baixa_tensao  4914 non-null   int64\n",
      "dtypes: int64(14)\n",
      "memory usage: 537.6 KB\n"
     ]
    }
   ],
   "source": [
    "merged_df.info()"
   ],
   "metadata": {
    "collapsed": false,
    "ExecuteTime": {
     "end_time": "2024-04-18T15:14:15.700118Z",
     "start_time": "2024-04-18T15:14:15.695317Z"
    }
   },
   "id": "8f390c1993486e7d",
   "execution_count": 3
  },
  {
   "cell_type": "markdown",
   "source": [
    "### Sabendo a estrutura de dados do dataset, existem algumas variáveis que são obviamente categóricas.\n",
    "- São: ano, mês\n",
    "- Pode-se observar esse facto utilizando a função unique()"
   ],
   "metadata": {
    "collapsed": false
   },
   "id": "5ee162eb18e98c33"
  },
  {
   "cell_type": "code",
   "outputs": [
    {
     "name": "stdout",
     "output_type": "stream",
     "text": [
      "Unique values in ano: [2022 2023 2024]\n",
      "Unique values in mês: [ 8  9 10 11 12  1  2  3  4  5  6  7]\n"
     ]
    }
   ],
   "source": [
    "categorical_columns = ['ano', 'mês']\n",
    "for column in categorical_columns:\n",
    "    print(f\"Valores únicos de {column}: {merged_df[column].unique()}\")\n"
   ],
   "metadata": {
    "collapsed": false,
    "ExecuteTime": {
     "end_time": "2024-04-18T15:14:15.702888Z",
     "start_time": "2024-04-18T15:14:15.700618Z"
    }
   },
   "id": "d009a4fff8284c74",
   "execution_count": 4
  },
  {
   "cell_type": "markdown",
   "source": [
    "## trasnformar e visualizar em numerico(float)"
   ],
   "metadata": {
    "collapsed": false
   },
   "id": "4acba4f5098af442"
  },
  {
   "cell_type": "code",
   "outputs": [],
   "source": [],
   "metadata": {
    "collapsed": false,
    "ExecuteTime": {
     "start_time": "2024-04-18T15:14:16.121378Z"
    }
   },
   "id": "591db641f0c1f796",
   "execution_count": null
  }
 ],
 "metadata": {
  "kernelspec": {
   "display_name": "Python 3",
   "language": "python",
   "name": "python3"
  },
  "language_info": {
   "codemirror_mode": {
    "name": "ipython",
    "version": 2
   },
   "file_extension": ".py",
   "mimetype": "text/x-python",
   "name": "python",
   "nbconvert_exporter": "python",
   "pygments_lexer": "ipython2",
   "version": "2.7.6"
  }
 },
 "nbformat": 4,
 "nbformat_minor": 5
}
