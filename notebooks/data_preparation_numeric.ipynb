{
 "cells": [
  {
   "cell_type": "code",
   "id": "initial_id",
   "metadata": {
    "collapsed": true,
    "ExecuteTime": {
     "end_time": "2024-05-10T11:44:28.554562Z",
     "start_time": "2024-05-10T11:44:28.516631Z"
    }
   },
   "source": [
    "# Preparação dos dados\n",
    "import os\n",
    "\n",
    "import numpy as np\n",
    "import pandas as pd\n",
    "\n",
    "%matplotlib inline\n",
    "import numpy as np\n",
    "import matplotlib.pyplot as plt\n",
    "import seaborn as sns\n",
    "import pandas as pd\n",
    "from sklearn.preprocessing import MinMaxScaler\n",
    "from sklearn.preprocessing import StandardScaler\n",
    "\n",
    "sns.set_theme()"
   ],
   "outputs": [],
   "execution_count": 1
  },
  {
   "cell_type": "code",
   "source": [
    "## Importar dataset\n",
    "\n",
    "data_path = '../data/' if os.path.exists(\n",
    "    '../data/') else 'https://raw.githubusercontent.com/kreativermario/Projeto-DECD/master/data/'\n",
    "\n",
    "merged_path = data_path + 'treated/merged-dataset-densidade.csv'\n",
    "\n",
    "merged_df = pd.read_csv(merged_path)"
   ],
   "metadata": {
    "collapsed": false,
    "ExecuteTime": {
     "end_time": "2024-05-10T11:44:28.567435Z",
     "start_time": "2024-05-10T11:44:28.555121Z"
    }
   },
   "id": "f40a7dae517d25ca",
   "outputs": [],
   "execution_count": 2
  },
  {
   "cell_type": "markdown",
   "source": [
    "## Criar o conjunto totalmente númerico\n",
    "- Visualizar os gráficos e ver a distribuição das variáveis.\n",
    "- Ver quantos outliers existem por variável"
   ],
   "metadata": {
    "collapsed": false
   },
   "id": "1227f3a67312a983"
  },
  {
   "cell_type": "code",
   "source": [
    "merged_df.info()"
   ],
   "metadata": {
    "collapsed": false,
    "ExecuteTime": {
     "end_time": "2024-05-10T11:44:28.572416Z",
     "start_time": "2024-05-10T11:44:28.563812Z"
    }
   },
   "id": "8f390c1993486e7d",
   "outputs": [
    {
     "name": "stdout",
     "output_type": "stream",
     "text": [
      "<class 'pandas.core.frame.DataFrame'>\n",
      "RangeIndex: 5187 entries, 0 to 5186\n",
      "Data columns (total 15 columns):\n",
      " #   Column                                     Non-Null Count  Dtype  \n",
      "---  ------                                     --------------  -----  \n",
      " 0   ano                                        5187 non-null   int64  \n",
      " 1   mes                                        5187 non-null   int64  \n",
      " 2   energia_ativa_baixa_tensao_kwh             5187 non-null   int64  \n",
      " 3   energia_ativa_alta_tensao_kwh              5187 non-null   int64  \n",
      " 4   cpes_domestico_baixa_tensao                5187 non-null   int64  \n",
      " 5   cpes_domestico_alta_tensao                 5187 non-null   int64  \n",
      " 6   cpes_iluminacao_publica_baixa_tensao       5187 non-null   int64  \n",
      " 7   cpes_iluminacao_publica_alta_tensao        5187 non-null   int64  \n",
      " 8   cpes_nao_domestico_baixa_tensao            5187 non-null   int64  \n",
      " 9   cpes_nao_domestico_alta_tensao             5187 non-null   int64  \n",
      " 10  cpes_outros_baixa_tensao                   5187 non-null   int64  \n",
      " 11  cpes_outros_alta_tensao                    5187 non-null   int64  \n",
      " 12  cpes_mobilidade_eletrica_nao_baixa_tensao  5187 non-null   int64  \n",
      " 13  cpes_mobilidade_eletrica_sim_baixa_tensao  5187 non-null   int64  \n",
      " 14  densidade_populacional_pessoas_km2         5187 non-null   float64\n",
      "dtypes: float64(1), int64(14)\n",
      "memory usage: 608.0 KB\n"
     ]
    }
   ],
   "execution_count": 3
  },
  {
   "metadata": {},
   "cell_type": "markdown",
   "source": [
    "### Cast de 'densidade_populacional_pessoas_km2' para int64"
   ],
   "id": "2a1f753f3b039353"
  },
  {
   "metadata": {
    "ExecuteTime": {
     "end_time": "2024-05-10T11:44:28.587883Z",
     "start_time": "2024-05-10T11:44:28.567037Z"
    }
   },
   "cell_type": "code",
   "source": [
    "merged_df['densidade_populacional_pessoas_km2'] = merged_df['densidade_populacional_pessoas_km2'].round().astype(np.int64)\n",
    "merged_df.info()\n",
    "\n",
    "merged_df.head(5)"
   ],
   "id": "164099ce657a5fac",
   "outputs": [
    {
     "name": "stdout",
     "output_type": "stream",
     "text": [
      "<class 'pandas.core.frame.DataFrame'>\n",
      "RangeIndex: 5187 entries, 0 to 5186\n",
      "Data columns (total 15 columns):\n",
      " #   Column                                     Non-Null Count  Dtype\n",
      "---  ------                                     --------------  -----\n",
      " 0   ano                                        5187 non-null   int64\n",
      " 1   mes                                        5187 non-null   int64\n",
      " 2   energia_ativa_baixa_tensao_kwh             5187 non-null   int64\n",
      " 3   energia_ativa_alta_tensao_kwh              5187 non-null   int64\n",
      " 4   cpes_domestico_baixa_tensao                5187 non-null   int64\n",
      " 5   cpes_domestico_alta_tensao                 5187 non-null   int64\n",
      " 6   cpes_iluminacao_publica_baixa_tensao       5187 non-null   int64\n",
      " 7   cpes_iluminacao_publica_alta_tensao        5187 non-null   int64\n",
      " 8   cpes_nao_domestico_baixa_tensao            5187 non-null   int64\n",
      " 9   cpes_nao_domestico_alta_tensao             5187 non-null   int64\n",
      " 10  cpes_outros_baixa_tensao                   5187 non-null   int64\n",
      " 11  cpes_outros_alta_tensao                    5187 non-null   int64\n",
      " 12  cpes_mobilidade_eletrica_nao_baixa_tensao  5187 non-null   int64\n",
      " 13  cpes_mobilidade_eletrica_sim_baixa_tensao  5187 non-null   int64\n",
      " 14  densidade_populacional_pessoas_km2         5187 non-null   int64\n",
      "dtypes: int64(15)\n",
      "memory usage: 608.0 KB\n"
     ]
    },
    {
     "data": {
      "text/plain": "    ano  mes  energia_ativa_baixa_tensao_kwh  energia_ativa_alta_tensao_kwh  \\\n0  2022    8                         5908716                        5891542   \n1  2022    9                         5319528                        6159115   \n2  2022   10                         5431060                        6360625   \n3  2022   11                         5845742                        5961164   \n4  2022   12                         6780793                        5272178   \n\n   cpes_domestico_baixa_tensao  cpes_domestico_alta_tensao  \\\n0                        20260                           0   \n1                        20270                           0   \n2                        20280                           0   \n3                        20291                           0   \n4                        20297                           0   \n\n   cpes_iluminacao_publica_baixa_tensao  cpes_iluminacao_publica_alta_tensao  \\\n0                                   293                                    0   \n1                                   293                                    0   \n2                                   293                                    0   \n3                                   293                                    0   \n4                                   294                                    0   \n\n   cpes_nao_domestico_baixa_tensao  cpes_nao_domestico_alta_tensao  \\\n0                             4318                             134   \n1                             4311                             134   \n2                             4302                             134   \n3                             4308                             134   \n4                             4312                             134   \n\n   cpes_outros_baixa_tensao  cpes_outros_alta_tensao  \\\n0                        83                        0   \n1                        81                        0   \n2                        81                        0   \n3                        80                        0   \n4                        82                        0   \n\n   cpes_mobilidade_eletrica_nao_baixa_tensao  \\\n0                                      22194   \n1                                      22596   \n2                                      23126   \n3                                      23938   \n4                                      24420   \n\n   cpes_mobilidade_eletrica_sim_baixa_tensao  \\\n0                                          2   \n1                                          2   \n2                                          2   \n3                                          2   \n4                                          2   \n\n   densidade_populacional_pessoas_km2  \n0                                  48  \n1                                  48  \n2                                  48  \n3                                  48  \n4                                  48  ",
      "text/html": "<div>\n<style scoped>\n    .dataframe tbody tr th:only-of-type {\n        vertical-align: middle;\n    }\n\n    .dataframe tbody tr th {\n        vertical-align: top;\n    }\n\n    .dataframe thead th {\n        text-align: right;\n    }\n</style>\n<table border=\"1\" class=\"dataframe\">\n  <thead>\n    <tr style=\"text-align: right;\">\n      <th></th>\n      <th>ano</th>\n      <th>mes</th>\n      <th>energia_ativa_baixa_tensao_kwh</th>\n      <th>energia_ativa_alta_tensao_kwh</th>\n      <th>cpes_domestico_baixa_tensao</th>\n      <th>cpes_domestico_alta_tensao</th>\n      <th>cpes_iluminacao_publica_baixa_tensao</th>\n      <th>cpes_iluminacao_publica_alta_tensao</th>\n      <th>cpes_nao_domestico_baixa_tensao</th>\n      <th>cpes_nao_domestico_alta_tensao</th>\n      <th>cpes_outros_baixa_tensao</th>\n      <th>cpes_outros_alta_tensao</th>\n      <th>cpes_mobilidade_eletrica_nao_baixa_tensao</th>\n      <th>cpes_mobilidade_eletrica_sim_baixa_tensao</th>\n      <th>densidade_populacional_pessoas_km2</th>\n    </tr>\n  </thead>\n  <tbody>\n    <tr>\n      <th>0</th>\n      <td>2022</td>\n      <td>8</td>\n      <td>5908716</td>\n      <td>5891542</td>\n      <td>20260</td>\n      <td>0</td>\n      <td>293</td>\n      <td>0</td>\n      <td>4318</td>\n      <td>134</td>\n      <td>83</td>\n      <td>0</td>\n      <td>22194</td>\n      <td>2</td>\n      <td>48</td>\n    </tr>\n    <tr>\n      <th>1</th>\n      <td>2022</td>\n      <td>9</td>\n      <td>5319528</td>\n      <td>6159115</td>\n      <td>20270</td>\n      <td>0</td>\n      <td>293</td>\n      <td>0</td>\n      <td>4311</td>\n      <td>134</td>\n      <td>81</td>\n      <td>0</td>\n      <td>22596</td>\n      <td>2</td>\n      <td>48</td>\n    </tr>\n    <tr>\n      <th>2</th>\n      <td>2022</td>\n      <td>10</td>\n      <td>5431060</td>\n      <td>6360625</td>\n      <td>20280</td>\n      <td>0</td>\n      <td>293</td>\n      <td>0</td>\n      <td>4302</td>\n      <td>134</td>\n      <td>81</td>\n      <td>0</td>\n      <td>23126</td>\n      <td>2</td>\n      <td>48</td>\n    </tr>\n    <tr>\n      <th>3</th>\n      <td>2022</td>\n      <td>11</td>\n      <td>5845742</td>\n      <td>5961164</td>\n      <td>20291</td>\n      <td>0</td>\n      <td>293</td>\n      <td>0</td>\n      <td>4308</td>\n      <td>134</td>\n      <td>80</td>\n      <td>0</td>\n      <td>23938</td>\n      <td>2</td>\n      <td>48</td>\n    </tr>\n    <tr>\n      <th>4</th>\n      <td>2022</td>\n      <td>12</td>\n      <td>6780793</td>\n      <td>5272178</td>\n      <td>20297</td>\n      <td>0</td>\n      <td>294</td>\n      <td>0</td>\n      <td>4312</td>\n      <td>134</td>\n      <td>82</td>\n      <td>0</td>\n      <td>24420</td>\n      <td>2</td>\n      <td>48</td>\n    </tr>\n  </tbody>\n</table>\n</div>"
     },
     "execution_count": 4,
     "metadata": {},
     "output_type": "execute_result"
    }
   ],
   "execution_count": 4
  },
  {
   "cell_type": "markdown",
   "source": [
    "### Separar os datasets em dois:\n",
    "    - Um para baixa e outro para alta tensão"
   ],
   "metadata": {
    "collapsed": false
   },
   "id": "bff0b206fb367ce7"
  },
  {
   "cell_type": "code",
   "source": [
    "# Selecionar as variáveis de baixa tensão\n",
    "baixa_tensao_columns = ['ano', 'mes', 'energia_ativa_baixa_tensao_kwh', \n",
    "                        'cpes_domestico_baixa_tensao', 'cpes_iluminacao_publica_baixa_tensao',\n",
    "                        'cpes_nao_domestico_baixa_tensao', 'cpes_outros_baixa_tensao',\n",
    "                        'cpes_mobilidade_eletrica_nao_baixa_tensao', 'cpes_mobilidade_eletrica_sim_baixa_tensao', 'densidade_populacional_pessoas_km2']\n",
    "\n",
    "# Selecionar as variáveis de alta tensão\n",
    "alta_tensao_columns = ['ano', 'mes', 'energia_ativa_alta_tensao_kwh',\n",
    "                       'cpes_domestico_alta_tensao',\n",
    "                       'cpes_nao_domestico_alta_tensao', 'cpes_outros_alta_tensao', 'densidade_populacional_pessoas_km2']\n",
    "\n",
    "# Criar os datasets separados\n",
    "baixa_tensao_df = merged_df[baixa_tensao_columns].copy()\n",
    "alta_tensao_df = merged_df[alta_tensao_columns].copy()"
   ],
   "metadata": {
    "collapsed": false,
    "ExecuteTime": {
     "end_time": "2024-05-10T11:44:28.642898Z",
     "start_time": "2024-05-10T11:44:28.576741Z"
    }
   },
   "id": "b378c4103bcab609",
   "outputs": [],
   "execution_count": 5
  },
  {
   "cell_type": "markdown",
   "source": [
    "#### Dataframe de baixa tensão"
   ],
   "metadata": {
    "collapsed": false
   },
   "id": "7e6a6c08e4ea9a55"
  },
  {
   "cell_type": "code",
   "source": [
    "baixa_tensao_df.info()\n",
    "baixa_tensao_df.describe()"
   ],
   "metadata": {
    "collapsed": false,
    "ExecuteTime": {
     "end_time": "2024-05-10T11:44:28.684969Z",
     "start_time": "2024-05-10T11:44:28.579791Z"
    }
   },
   "id": "4aca510bec815f4a",
   "outputs": [
    {
     "name": "stdout",
     "output_type": "stream",
     "text": [
      "<class 'pandas.core.frame.DataFrame'>\n",
      "RangeIndex: 5187 entries, 0 to 5186\n",
      "Data columns (total 10 columns):\n",
      " #   Column                                     Non-Null Count  Dtype\n",
      "---  ------                                     --------------  -----\n",
      " 0   ano                                        5187 non-null   int64\n",
      " 1   mes                                        5187 non-null   int64\n",
      " 2   energia_ativa_baixa_tensao_kwh             5187 non-null   int64\n",
      " 3   cpes_domestico_baixa_tensao                5187 non-null   int64\n",
      " 4   cpes_iluminacao_publica_baixa_tensao       5187 non-null   int64\n",
      " 5   cpes_nao_domestico_baixa_tensao            5187 non-null   int64\n",
      " 6   cpes_outros_baixa_tensao                   5187 non-null   int64\n",
      " 7   cpes_mobilidade_eletrica_nao_baixa_tensao  5187 non-null   int64\n",
      " 8   cpes_mobilidade_eletrica_sim_baixa_tensao  5187 non-null   int64\n",
      " 9   densidade_populacional_pessoas_km2         5187 non-null   int64\n",
      "dtypes: int64(10)\n",
      "memory usage: 405.4 KB\n"
     ]
    },
    {
     "data": {
      "text/plain": "               ano          mes  energia_ativa_baixa_tensao_kwh  \\\ncount  5187.000000  5187.000000                    5.187000e+03   \nmean   2022.842105     6.894737                    6.518676e+06   \nstd       0.586137     3.712284                    1.177996e+07   \nmin    2022.000000     1.000000                    1.000680e+05   \n25%    2022.000000     3.000000                    1.266728e+06   \n50%    2023.000000     8.000000                    2.625888e+06   \n75%    2023.000000    10.000000                    7.113475e+06   \nmax    2024.000000    12.000000                    1.641353e+08   \n\n       cpes_domestico_baixa_tensao  cpes_iluminacao_publica_baixa_tensao  \\\ncount                  5187.000000                           5187.000000   \nmean                  18808.416426                            214.150183   \nstd                   29413.928256                            194.193563   \nmin                    1042.000000                              7.000000   \n25%                    4580.500000                             91.000000   \n50%                    8935.000000                            141.000000   \n75%                   21437.000000                            280.000000   \nmax                  312095.000000                           1185.000000   \n\n       cpes_nao_domestico_baixa_tensao  cpes_outros_baixa_tensao  \\\ncount                      5187.000000               5187.000000   \nmean                       4242.803933                128.463852   \nstd                        6873.077695                205.717131   \nmin                         174.000000                  1.000000   \n25%                        1101.000000                 20.500000   \n50%                        1990.000000                 53.000000   \n75%                        4900.000000                155.000000   \nmax                       79984.000000               2186.000000   \n\n       cpes_mobilidade_eletrica_nao_baixa_tensao  \\\ncount                                5187.000000   \nmean                                27371.181415   \nstd                                 46187.414907   \nmin                                  1144.000000   \n25%                                  6151.000000   \n50%                                 11544.000000   \n75%                                 30042.000000   \nmax                                530262.000000   \n\n       cpes_mobilidade_eletrica_sim_baixa_tensao  \\\ncount                                5187.000000   \nmean                                    9.612300   \nstd                                    25.397713   \nmin                                     0.000000   \n25%                                     2.000000   \n50%                                     2.000000   \n75%                                     6.000000   \nmax                                   388.000000   \n\n       densidade_populacional_pessoas_km2  \ncount                         5187.000000  \nmean                           314.542125  \nstd                            856.159555  \nmin                              4.000000  \n25%                             25.000000  \n50%                             66.000000  \n75%                            177.000000  \nmax                           7310.000000  ",
      "text/html": "<div>\n<style scoped>\n    .dataframe tbody tr th:only-of-type {\n        vertical-align: middle;\n    }\n\n    .dataframe tbody tr th {\n        vertical-align: top;\n    }\n\n    .dataframe thead th {\n        text-align: right;\n    }\n</style>\n<table border=\"1\" class=\"dataframe\">\n  <thead>\n    <tr style=\"text-align: right;\">\n      <th></th>\n      <th>ano</th>\n      <th>mes</th>\n      <th>energia_ativa_baixa_tensao_kwh</th>\n      <th>cpes_domestico_baixa_tensao</th>\n      <th>cpes_iluminacao_publica_baixa_tensao</th>\n      <th>cpes_nao_domestico_baixa_tensao</th>\n      <th>cpes_outros_baixa_tensao</th>\n      <th>cpes_mobilidade_eletrica_nao_baixa_tensao</th>\n      <th>cpes_mobilidade_eletrica_sim_baixa_tensao</th>\n      <th>densidade_populacional_pessoas_km2</th>\n    </tr>\n  </thead>\n  <tbody>\n    <tr>\n      <th>count</th>\n      <td>5187.000000</td>\n      <td>5187.000000</td>\n      <td>5.187000e+03</td>\n      <td>5187.000000</td>\n      <td>5187.000000</td>\n      <td>5187.000000</td>\n      <td>5187.000000</td>\n      <td>5187.000000</td>\n      <td>5187.000000</td>\n      <td>5187.000000</td>\n    </tr>\n    <tr>\n      <th>mean</th>\n      <td>2022.842105</td>\n      <td>6.894737</td>\n      <td>6.518676e+06</td>\n      <td>18808.416426</td>\n      <td>214.150183</td>\n      <td>4242.803933</td>\n      <td>128.463852</td>\n      <td>27371.181415</td>\n      <td>9.612300</td>\n      <td>314.542125</td>\n    </tr>\n    <tr>\n      <th>std</th>\n      <td>0.586137</td>\n      <td>3.712284</td>\n      <td>1.177996e+07</td>\n      <td>29413.928256</td>\n      <td>194.193563</td>\n      <td>6873.077695</td>\n      <td>205.717131</td>\n      <td>46187.414907</td>\n      <td>25.397713</td>\n      <td>856.159555</td>\n    </tr>\n    <tr>\n      <th>min</th>\n      <td>2022.000000</td>\n      <td>1.000000</td>\n      <td>1.000680e+05</td>\n      <td>1042.000000</td>\n      <td>7.000000</td>\n      <td>174.000000</td>\n      <td>1.000000</td>\n      <td>1144.000000</td>\n      <td>0.000000</td>\n      <td>4.000000</td>\n    </tr>\n    <tr>\n      <th>25%</th>\n      <td>2022.000000</td>\n      <td>3.000000</td>\n      <td>1.266728e+06</td>\n      <td>4580.500000</td>\n      <td>91.000000</td>\n      <td>1101.000000</td>\n      <td>20.500000</td>\n      <td>6151.000000</td>\n      <td>2.000000</td>\n      <td>25.000000</td>\n    </tr>\n    <tr>\n      <th>50%</th>\n      <td>2023.000000</td>\n      <td>8.000000</td>\n      <td>2.625888e+06</td>\n      <td>8935.000000</td>\n      <td>141.000000</td>\n      <td>1990.000000</td>\n      <td>53.000000</td>\n      <td>11544.000000</td>\n      <td>2.000000</td>\n      <td>66.000000</td>\n    </tr>\n    <tr>\n      <th>75%</th>\n      <td>2023.000000</td>\n      <td>10.000000</td>\n      <td>7.113475e+06</td>\n      <td>21437.000000</td>\n      <td>280.000000</td>\n      <td>4900.000000</td>\n      <td>155.000000</td>\n      <td>30042.000000</td>\n      <td>6.000000</td>\n      <td>177.000000</td>\n    </tr>\n    <tr>\n      <th>max</th>\n      <td>2024.000000</td>\n      <td>12.000000</td>\n      <td>1.641353e+08</td>\n      <td>312095.000000</td>\n      <td>1185.000000</td>\n      <td>79984.000000</td>\n      <td>2186.000000</td>\n      <td>530262.000000</td>\n      <td>388.000000</td>\n      <td>7310.000000</td>\n    </tr>\n  </tbody>\n</table>\n</div>"
     },
     "execution_count": 6,
     "metadata": {},
     "output_type": "execute_result"
    }
   ],
   "execution_count": 6
  },
  {
   "cell_type": "code",
   "source": [
    "# Verificar valores vazios\n",
    "nulls = baixa_tensao_df.isnull().sum()\n",
    "print('Número de nulls: ', nulls)\n",
    "\n",
    "# Verificar duplicados\n",
    "duplicates = baixa_tensao_df.duplicated()\n",
    "print(\"Número de linhas duplicadas:\", duplicates.sum())"
   ],
   "metadata": {
    "collapsed": false,
    "ExecuteTime": {
     "end_time": "2024-05-10T11:44:28.686901Z",
     "start_time": "2024-05-10T11:44:28.592603Z"
    }
   },
   "id": "efa1bbbb95cd08d9",
   "outputs": [
    {
     "name": "stdout",
     "output_type": "stream",
     "text": [
      "Número de nulls:  ano                                          0\n",
      "mes                                          0\n",
      "energia_ativa_baixa_tensao_kwh               0\n",
      "cpes_domestico_baixa_tensao                  0\n",
      "cpes_iluminacao_publica_baixa_tensao         0\n",
      "cpes_nao_domestico_baixa_tensao              0\n",
      "cpes_outros_baixa_tensao                     0\n",
      "cpes_mobilidade_eletrica_nao_baixa_tensao    0\n",
      "cpes_mobilidade_eletrica_sim_baixa_tensao    0\n",
      "densidade_populacional_pessoas_km2           0\n",
      "dtype: int64\n",
      "Número de linhas duplicadas: 0\n"
     ]
    }
   ],
   "execution_count": 7
  },
  {
   "cell_type": "markdown",
   "source": [
    "#### Guardar dataset de baixa tensão"
   ],
   "metadata": {
    "collapsed": false
   },
   "id": "74d2d041ea780bee"
  },
  {
   "cell_type": "code",
   "source": [
    "file_path = data_path + 'treated/prepared/numeric/dataset-numeric-low-tension.csv'\n",
    "\n",
    "baixa_tensao_df.to_csv(file_path, index=False)\n",
    "\n",
    "print(\"DataFrame guardado em \", file_path)"
   ],
   "metadata": {
    "collapsed": false,
    "ExecuteTime": {
     "end_time": "2024-05-10T11:44:28.689171Z",
     "start_time": "2024-05-10T11:44:28.596324Z"
    }
   },
   "id": "e028d18366d9a253",
   "outputs": [
    {
     "name": "stdout",
     "output_type": "stream",
     "text": [
      "DataFrame guardado em  ../data/treated/prepared/numeric/dataset-numeric-low-tension.csv\n"
     ]
    }
   ],
   "execution_count": 8
  },
  {
   "cell_type": "markdown",
   "source": [
    "#### Dataframe de alta tensão"
   ],
   "metadata": {
    "collapsed": false
   },
   "id": "c92eaa4efa86541"
  },
  {
   "cell_type": "code",
   "source": [
    "alta_tensao_df.info()\n",
    "alta_tensao_df.describe()"
   ],
   "metadata": {
    "collapsed": false,
    "ExecuteTime": {
     "end_time": "2024-05-10T11:44:28.805716Z",
     "start_time": "2024-05-10T11:44:28.608581Z"
    }
   },
   "id": "fba2899aa3353f74",
   "outputs": [
    {
     "name": "stdout",
     "output_type": "stream",
     "text": [
      "<class 'pandas.core.frame.DataFrame'>\n",
      "RangeIndex: 5187 entries, 0 to 5186\n",
      "Data columns (total 7 columns):\n",
      " #   Column                              Non-Null Count  Dtype\n",
      "---  ------                              --------------  -----\n",
      " 0   ano                                 5187 non-null   int64\n",
      " 1   mes                                 5187 non-null   int64\n",
      " 2   energia_ativa_alta_tensao_kwh       5187 non-null   int64\n",
      " 3   cpes_domestico_alta_tensao          5187 non-null   int64\n",
      " 4   cpes_nao_domestico_alta_tensao      5187 non-null   int64\n",
      " 5   cpes_outros_alta_tensao             5187 non-null   int64\n",
      " 6   densidade_populacional_pessoas_km2  5187 non-null   int64\n",
      "dtypes: int64(7)\n",
      "memory usage: 283.8 KB\n"
     ]
    },
    {
     "data": {
      "text/plain": "               ano          mes  energia_ativa_alta_tensao_kwh  \\\ncount  5187.000000  5187.000000                   5.187000e+03   \nmean   2022.842105     6.894737                   6.888616e+06   \nstd       0.586137     3.712284                   1.426511e+07   \nmin    2022.000000     1.000000                   0.000000e+00   \n25%    2022.000000     3.000000                   4.113695e+05   \n50%    2023.000000     8.000000                   1.824003e+06   \n75%    2023.000000    10.000000                   5.962718e+06   \nmax    2024.000000    12.000000                   1.279470e+08   \n\n       cpes_domestico_alta_tensao  cpes_nao_domestico_alta_tensao  \\\ncount                 5187.000000                     5187.000000   \nmean                     0.040486                       95.497205   \nstd                      0.211279                      121.267530   \nmin                      0.000000                        0.000000   \n25%                      0.000000                       28.000000   \n50%                      0.000000                       51.000000   \n75%                      0.000000                      119.000000   \nmax                      2.000000                     1229.000000   \n\n       cpes_outros_alta_tensao  densidade_populacional_pessoas_km2  \ncount              5187.000000                         5187.000000  \nmean                  0.365529                          314.542125  \nstd                   4.073821                          856.159555  \nmin                   0.000000                            4.000000  \n25%                   0.000000                           25.000000  \n50%                   0.000000                           66.000000  \n75%                   0.000000                          177.000000  \nmax                  75.000000                         7310.000000  ",
      "text/html": "<div>\n<style scoped>\n    .dataframe tbody tr th:only-of-type {\n        vertical-align: middle;\n    }\n\n    .dataframe tbody tr th {\n        vertical-align: top;\n    }\n\n    .dataframe thead th {\n        text-align: right;\n    }\n</style>\n<table border=\"1\" class=\"dataframe\">\n  <thead>\n    <tr style=\"text-align: right;\">\n      <th></th>\n      <th>ano</th>\n      <th>mes</th>\n      <th>energia_ativa_alta_tensao_kwh</th>\n      <th>cpes_domestico_alta_tensao</th>\n      <th>cpes_nao_domestico_alta_tensao</th>\n      <th>cpes_outros_alta_tensao</th>\n      <th>densidade_populacional_pessoas_km2</th>\n    </tr>\n  </thead>\n  <tbody>\n    <tr>\n      <th>count</th>\n      <td>5187.000000</td>\n      <td>5187.000000</td>\n      <td>5.187000e+03</td>\n      <td>5187.000000</td>\n      <td>5187.000000</td>\n      <td>5187.000000</td>\n      <td>5187.000000</td>\n    </tr>\n    <tr>\n      <th>mean</th>\n      <td>2022.842105</td>\n      <td>6.894737</td>\n      <td>6.888616e+06</td>\n      <td>0.040486</td>\n      <td>95.497205</td>\n      <td>0.365529</td>\n      <td>314.542125</td>\n    </tr>\n    <tr>\n      <th>std</th>\n      <td>0.586137</td>\n      <td>3.712284</td>\n      <td>1.426511e+07</td>\n      <td>0.211279</td>\n      <td>121.267530</td>\n      <td>4.073821</td>\n      <td>856.159555</td>\n    </tr>\n    <tr>\n      <th>min</th>\n      <td>2022.000000</td>\n      <td>1.000000</td>\n      <td>0.000000e+00</td>\n      <td>0.000000</td>\n      <td>0.000000</td>\n      <td>0.000000</td>\n      <td>4.000000</td>\n    </tr>\n    <tr>\n      <th>25%</th>\n      <td>2022.000000</td>\n      <td>3.000000</td>\n      <td>4.113695e+05</td>\n      <td>0.000000</td>\n      <td>28.000000</td>\n      <td>0.000000</td>\n      <td>25.000000</td>\n    </tr>\n    <tr>\n      <th>50%</th>\n      <td>2023.000000</td>\n      <td>8.000000</td>\n      <td>1.824003e+06</td>\n      <td>0.000000</td>\n      <td>51.000000</td>\n      <td>0.000000</td>\n      <td>66.000000</td>\n    </tr>\n    <tr>\n      <th>75%</th>\n      <td>2023.000000</td>\n      <td>10.000000</td>\n      <td>5.962718e+06</td>\n      <td>0.000000</td>\n      <td>119.000000</td>\n      <td>0.000000</td>\n      <td>177.000000</td>\n    </tr>\n    <tr>\n      <th>max</th>\n      <td>2024.000000</td>\n      <td>12.000000</td>\n      <td>1.279470e+08</td>\n      <td>2.000000</td>\n      <td>1229.000000</td>\n      <td>75.000000</td>\n      <td>7310.000000</td>\n    </tr>\n  </tbody>\n</table>\n</div>"
     },
     "execution_count": 9,
     "metadata": {},
     "output_type": "execute_result"
    }
   ],
   "execution_count": 9
  },
  {
   "cell_type": "code",
   "source": [
    "# Verificar valores vazios\n",
    "nulls = alta_tensao_df.isnull().sum()\n",
    "print('Número de nulls: ', nulls)\n",
    "\n",
    "# Verificar duplicados\n",
    "duplicates = alta_tensao_df.duplicated()\n",
    "print(\"Número de linhas duplicadas:\", duplicates.sum())"
   ],
   "metadata": {
    "collapsed": false,
    "ExecuteTime": {
     "end_time": "2024-05-10T11:44:28.807554Z",
     "start_time": "2024-05-10T11:44:28.618111Z"
    }
   },
   "id": "649272f32cd2ea4c",
   "outputs": [
    {
     "name": "stdout",
     "output_type": "stream",
     "text": [
      "Número de nulls:  ano                                   0\n",
      "mes                                   0\n",
      "energia_ativa_alta_tensao_kwh         0\n",
      "cpes_domestico_alta_tensao            0\n",
      "cpes_nao_domestico_alta_tensao        0\n",
      "cpes_outros_alta_tensao               0\n",
      "densidade_populacional_pessoas_km2    0\n",
      "dtype: int64\n",
      "Número de linhas duplicadas: 0\n"
     ]
    }
   ],
   "execution_count": 10
  },
  {
   "cell_type": "markdown",
   "source": [
    "#### Guardar dataset de alta tensão"
   ],
   "metadata": {
    "collapsed": false
   },
   "id": "a06a95d877a079e8"
  },
  {
   "cell_type": "code",
   "source": [
    "file_path = data_path + 'treated/prepared/numeric/dataset-numeric-high-tension.csv'\n",
    "\n",
    "alta_tensao_df.to_csv(file_path, index=False)\n",
    "\n",
    "print(\"DataFrame guardado em \", file_path)"
   ],
   "metadata": {
    "collapsed": false,
    "ExecuteTime": {
     "end_time": "2024-05-10T11:44:28.809239Z",
     "start_time": "2024-05-10T11:44:28.623025Z"
    }
   },
   "id": "44de16118c7906d5",
   "outputs": [
    {
     "name": "stdout",
     "output_type": "stream",
     "text": [
      "DataFrame guardado em  ../data/treated/prepared/numeric/dataset-numeric-high-tension.csv\n"
     ]
    }
   ],
   "execution_count": 11
  },
  {
   "cell_type": "markdown",
   "source": [
    "### Criar dois subsets dentro de cada dataset de nivel de tensao"
   ],
   "metadata": {
    "collapsed": false
   },
   "id": "960a51390a365ebb"
  },
  {
   "cell_type": "markdown",
   "source": [
    "#### Criar o subset de teste (Dados de 2024)"
   ],
   "metadata": {
    "collapsed": false
   },
   "id": "df18db74e5d9d5f"
  },
  {
   "cell_type": "code",
   "source": [
    "# Filtrar o DataFrame para obter os valores de 2024\n",
    "baixa_tensao_2024_df = baixa_tensao_df[(baixa_tensao_df['ano'] == 2024)].copy()\n",
    "\n",
    "baixa_tensao_2024_df.info()\n",
    "baixa_tensao_2024_df.describe()\n",
    "\n",
    "# Filtrar o DataFrame para obter os valores de 2024\n",
    "alta_tensao_2024_df = alta_tensao_df[(alta_tensao_df['ano'] == 2024)].copy()\n",
    "\n",
    "alta_tensao_2024_df.info()\n",
    "alta_tensao_2024_df.describe()"
   ],
   "metadata": {
    "collapsed": false,
    "ExecuteTime": {
     "end_time": "2024-05-10T11:44:28.822886Z",
     "start_time": "2024-05-10T11:44:28.630754Z"
    }
   },
   "id": "9a2a90a3a50f83f7",
   "outputs": [
    {
     "name": "stdout",
     "output_type": "stream",
     "text": [
      "<class 'pandas.core.frame.DataFrame'>\n",
      "Index: 546 entries, 17 to 5186\n",
      "Data columns (total 10 columns):\n",
      " #   Column                                     Non-Null Count  Dtype\n",
      "---  ------                                     --------------  -----\n",
      " 0   ano                                        546 non-null    int64\n",
      " 1   mes                                        546 non-null    int64\n",
      " 2   energia_ativa_baixa_tensao_kwh             546 non-null    int64\n",
      " 3   cpes_domestico_baixa_tensao                546 non-null    int64\n",
      " 4   cpes_iluminacao_publica_baixa_tensao       546 non-null    int64\n",
      " 5   cpes_nao_domestico_baixa_tensao            546 non-null    int64\n",
      " 6   cpes_outros_baixa_tensao                   546 non-null    int64\n",
      " 7   cpes_mobilidade_eletrica_nao_baixa_tensao  546 non-null    int64\n",
      " 8   cpes_mobilidade_eletrica_sim_baixa_tensao  546 non-null    int64\n",
      " 9   densidade_populacional_pessoas_km2         546 non-null    int64\n",
      "dtypes: int64(10)\n",
      "memory usage: 46.9 KB\n",
      "<class 'pandas.core.frame.DataFrame'>\n",
      "Index: 546 entries, 17 to 5186\n",
      "Data columns (total 7 columns):\n",
      " #   Column                              Non-Null Count  Dtype\n",
      "---  ------                              --------------  -----\n",
      " 0   ano                                 546 non-null    int64\n",
      " 1   mes                                 546 non-null    int64\n",
      " 2   energia_ativa_alta_tensao_kwh       546 non-null    int64\n",
      " 3   cpes_domestico_alta_tensao          546 non-null    int64\n",
      " 4   cpes_nao_domestico_alta_tensao      546 non-null    int64\n",
      " 5   cpes_outros_alta_tensao             546 non-null    int64\n",
      " 6   densidade_populacional_pessoas_km2  546 non-null    int64\n",
      "dtypes: int64(7)\n",
      "memory usage: 34.1 KB\n"
     ]
    },
    {
     "data": {
      "text/plain": "          ano         mes  energia_ativa_alta_tensao_kwh  \\\ncount   546.0  546.000000                   5.460000e+02   \nmean   2024.0    1.500000                   4.366219e+06   \nstd       0.0    0.500459                   1.108600e+07   \nmin    2024.0    1.000000                   0.000000e+00   \n25%    2024.0    1.000000                   2.135982e+05   \n50%    2024.0    1.500000                   8.463970e+05   \n75%    2024.0    2.000000                   3.183322e+06   \nmax    2024.0    2.000000                   1.118887e+08   \n\n       cpes_domestico_alta_tensao  cpes_nao_domestico_alta_tensao  \\\ncount                  546.000000                      546.000000   \nmean                     0.047619                       96.485348   \nstd                      0.245181                      122.640374   \nmin                      0.000000                        0.000000   \n25%                      0.000000                       29.000000   \n50%                      0.000000                       52.000000   \n75%                      0.000000                      119.000000   \nmax                      2.000000                     1229.000000   \n\n       cpes_outros_alta_tensao  densidade_populacional_pessoas_km2  \ncount                    546.0                          546.000000  \nmean                       0.0                          314.542125  \nstd                        0.0                          856.862054  \nmin                        0.0                            4.000000  \n25%                        0.0                           25.000000  \n50%                        0.0                           66.000000  \n75%                        0.0                          177.000000  \nmax                        0.0                         7310.000000  ",
      "text/html": "<div>\n<style scoped>\n    .dataframe tbody tr th:only-of-type {\n        vertical-align: middle;\n    }\n\n    .dataframe tbody tr th {\n        vertical-align: top;\n    }\n\n    .dataframe thead th {\n        text-align: right;\n    }\n</style>\n<table border=\"1\" class=\"dataframe\">\n  <thead>\n    <tr style=\"text-align: right;\">\n      <th></th>\n      <th>ano</th>\n      <th>mes</th>\n      <th>energia_ativa_alta_tensao_kwh</th>\n      <th>cpes_domestico_alta_tensao</th>\n      <th>cpes_nao_domestico_alta_tensao</th>\n      <th>cpes_outros_alta_tensao</th>\n      <th>densidade_populacional_pessoas_km2</th>\n    </tr>\n  </thead>\n  <tbody>\n    <tr>\n      <th>count</th>\n      <td>546.0</td>\n      <td>546.000000</td>\n      <td>5.460000e+02</td>\n      <td>546.000000</td>\n      <td>546.000000</td>\n      <td>546.0</td>\n      <td>546.000000</td>\n    </tr>\n    <tr>\n      <th>mean</th>\n      <td>2024.0</td>\n      <td>1.500000</td>\n      <td>4.366219e+06</td>\n      <td>0.047619</td>\n      <td>96.485348</td>\n      <td>0.0</td>\n      <td>314.542125</td>\n    </tr>\n    <tr>\n      <th>std</th>\n      <td>0.0</td>\n      <td>0.500459</td>\n      <td>1.108600e+07</td>\n      <td>0.245181</td>\n      <td>122.640374</td>\n      <td>0.0</td>\n      <td>856.862054</td>\n    </tr>\n    <tr>\n      <th>min</th>\n      <td>2024.0</td>\n      <td>1.000000</td>\n      <td>0.000000e+00</td>\n      <td>0.000000</td>\n      <td>0.000000</td>\n      <td>0.0</td>\n      <td>4.000000</td>\n    </tr>\n    <tr>\n      <th>25%</th>\n      <td>2024.0</td>\n      <td>1.000000</td>\n      <td>2.135982e+05</td>\n      <td>0.000000</td>\n      <td>29.000000</td>\n      <td>0.0</td>\n      <td>25.000000</td>\n    </tr>\n    <tr>\n      <th>50%</th>\n      <td>2024.0</td>\n      <td>1.500000</td>\n      <td>8.463970e+05</td>\n      <td>0.000000</td>\n      <td>52.000000</td>\n      <td>0.0</td>\n      <td>66.000000</td>\n    </tr>\n    <tr>\n      <th>75%</th>\n      <td>2024.0</td>\n      <td>2.000000</td>\n      <td>3.183322e+06</td>\n      <td>0.000000</td>\n      <td>119.000000</td>\n      <td>0.0</td>\n      <td>177.000000</td>\n    </tr>\n    <tr>\n      <th>max</th>\n      <td>2024.0</td>\n      <td>2.000000</td>\n      <td>1.118887e+08</td>\n      <td>2.000000</td>\n      <td>1229.000000</td>\n      <td>0.0</td>\n      <td>7310.000000</td>\n    </tr>\n  </tbody>\n</table>\n</div>"
     },
     "execution_count": 12,
     "metadata": {},
     "output_type": "execute_result"
    }
   ],
   "execution_count": 12
  },
  {
   "cell_type": "markdown",
   "source": [
    "Ver nulls e duplicados"
   ],
   "metadata": {
    "collapsed": false
   },
   "id": "22535fbfe7f3ef2c"
  },
  {
   "cell_type": "code",
   "source": [
    "# Verificar valores vazios\n",
    "nulls = baixa_tensao_2024_df.isnull().sum()\n",
    "print('Número de nulls: ', nulls)\n",
    "\n",
    "# Verificar duplicados\n",
    "duplicates = baixa_tensao_2024_df.duplicated()\n",
    "print(\"Número de linhas duplicadas:\", duplicates.sum())"
   ],
   "metadata": {
    "collapsed": false,
    "ExecuteTime": {
     "end_time": "2024-05-10T11:44:28.824695Z",
     "start_time": "2024-05-10T11:44:28.647848Z"
    }
   },
   "id": "8041494174caae33",
   "outputs": [
    {
     "name": "stdout",
     "output_type": "stream",
     "text": [
      "Número de nulls:  ano                                          0\n",
      "mes                                          0\n",
      "energia_ativa_baixa_tensao_kwh               0\n",
      "cpes_domestico_baixa_tensao                  0\n",
      "cpes_iluminacao_publica_baixa_tensao         0\n",
      "cpes_nao_domestico_baixa_tensao              0\n",
      "cpes_outros_baixa_tensao                     0\n",
      "cpes_mobilidade_eletrica_nao_baixa_tensao    0\n",
      "cpes_mobilidade_eletrica_sim_baixa_tensao    0\n",
      "densidade_populacional_pessoas_km2           0\n",
      "dtype: int64\n",
      "Número de linhas duplicadas: 0\n"
     ]
    }
   ],
   "execution_count": 13
  },
  {
   "cell_type": "code",
   "source": [
    "# Verificar valores vazios\n",
    "nulls = alta_tensao_2024_df.isnull().sum()\n",
    "print('Número de nulls: ', nulls)\n",
    "\n",
    "# Verificar duplicados\n",
    "duplicates = alta_tensao_2024_df.duplicated()\n",
    "print(\"Número de linhas duplicadas:\", duplicates.sum())"
   ],
   "metadata": {
    "collapsed": false,
    "ExecuteTime": {
     "end_time": "2024-05-10T11:44:28.826308Z",
     "start_time": "2024-05-10T11:44:28.652233Z"
    }
   },
   "id": "15968a8f8b0051b3",
   "outputs": [
    {
     "name": "stdout",
     "output_type": "stream",
     "text": [
      "Número de nulls:  ano                                   0\n",
      "mes                                   0\n",
      "energia_ativa_alta_tensao_kwh         0\n",
      "cpes_domestico_alta_tensao            0\n",
      "cpes_nao_domestico_alta_tensao        0\n",
      "cpes_outros_alta_tensao               0\n",
      "densidade_populacional_pessoas_km2    0\n",
      "dtype: int64\n",
      "Número de linhas duplicadas: 0\n"
     ]
    }
   ],
   "execution_count": 14
  },
  {
   "cell_type": "markdown",
   "source": [
    "##### Guardar subset de teste (2024)"
   ],
   "metadata": {
    "collapsed": false
   },
   "id": "9441065b02e04920"
  },
  {
   "cell_type": "code",
   "source": [
    "file_path = data_path + 'treated/prepared/numeric/test/dataset-numeric-low-tension-2024.csv'\n",
    "\n",
    "baixa_tensao_2024_df.to_csv(file_path, index=False)\n",
    "\n",
    "print(\"DataFrame guardado em \", file_path)"
   ],
   "metadata": {
    "collapsed": false,
    "ExecuteTime": {
     "end_time": "2024-05-10T11:44:28.834147Z",
     "start_time": "2024-05-10T11:44:28.655092Z"
    }
   },
   "id": "f1b7ede1f6fdc457",
   "outputs": [
    {
     "name": "stdout",
     "output_type": "stream",
     "text": [
      "DataFrame guardado em  ../data/treated/prepared/numeric/test/dataset-numeric-low-tension-2024.csv\n"
     ]
    }
   ],
   "execution_count": 15
  },
  {
   "cell_type": "code",
   "source": [
    "file_path = data_path + 'treated/prepared/numeric/test/dataset-numeric-high-tension-2024.csv'\n",
    "\n",
    "alta_tensao_2024_df.to_csv(file_path, index=False)\n",
    "\n",
    "print(\"DataFrame guardado em \", file_path)"
   ],
   "metadata": {
    "collapsed": false,
    "ExecuteTime": {
     "end_time": "2024-05-10T11:44:28.835976Z",
     "start_time": "2024-05-10T11:44:28.658677Z"
    }
   },
   "id": "243cae4a6b2a8a85",
   "outputs": [
    {
     "name": "stdout",
     "output_type": "stream",
     "text": [
      "DataFrame guardado em  ../data/treated/prepared/numeric/test/dataset-numeric-high-tension-2024.csv\n"
     ]
    }
   ],
   "execution_count": 16
  },
  {
   "cell_type": "markdown",
   "source": [
    "#### Criar o subset de treino (2024)"
   ],
   "metadata": {
    "collapsed": false
   },
   "id": "11688dd8f60d4972"
  },
  {
   "cell_type": "code",
   "source": [
    "# Filtrar o DataFrame para obter os valores que não são de 2024\n",
    "baixa_tensao_outros_df = baixa_tensao_df[(baixa_tensao_df['ano'] != 2024)].copy()\n",
    "\n",
    "baixa_tensao_outros_df.info()\n",
    "baixa_tensao_outros_df.describe()\n",
    "\n",
    "# Filtrar o DataFrame para obter os valores que não são de 2024\n",
    "alta_tensao_outros_df = alta_tensao_df[(alta_tensao_df['ano'] != 2024)].copy()\n",
    "\n",
    "alta_tensao_outros_df.info()\n",
    "alta_tensao_outros_df.describe()"
   ],
   "metadata": {
    "collapsed": false,
    "ExecuteTime": {
     "end_time": "2024-05-10T11:44:28.844788Z",
     "start_time": "2024-05-10T11:44:28.662958Z"
    }
   },
   "id": "b89de3d0476b5e9d",
   "outputs": [
    {
     "name": "stdout",
     "output_type": "stream",
     "text": [
      "<class 'pandas.core.frame.DataFrame'>\n",
      "Index: 4641 entries, 0 to 5184\n",
      "Data columns (total 10 columns):\n",
      " #   Column                                     Non-Null Count  Dtype\n",
      "---  ------                                     --------------  -----\n",
      " 0   ano                                        4641 non-null   int64\n",
      " 1   mes                                        4641 non-null   int64\n",
      " 2   energia_ativa_baixa_tensao_kwh             4641 non-null   int64\n",
      " 3   cpes_domestico_baixa_tensao                4641 non-null   int64\n",
      " 4   cpes_iluminacao_publica_baixa_tensao       4641 non-null   int64\n",
      " 5   cpes_nao_domestico_baixa_tensao            4641 non-null   int64\n",
      " 6   cpes_outros_baixa_tensao                   4641 non-null   int64\n",
      " 7   cpes_mobilidade_eletrica_nao_baixa_tensao  4641 non-null   int64\n",
      " 8   cpes_mobilidade_eletrica_sim_baixa_tensao  4641 non-null   int64\n",
      " 9   densidade_populacional_pessoas_km2         4641 non-null   int64\n",
      "dtypes: int64(10)\n",
      "memory usage: 398.8 KB\n",
      "<class 'pandas.core.frame.DataFrame'>\n",
      "Index: 4641 entries, 0 to 5184\n",
      "Data columns (total 7 columns):\n",
      " #   Column                              Non-Null Count  Dtype\n",
      "---  ------                              --------------  -----\n",
      " 0   ano                                 4641 non-null   int64\n",
      " 1   mes                                 4641 non-null   int64\n",
      " 2   energia_ativa_alta_tensao_kwh       4641 non-null   int64\n",
      " 3   cpes_domestico_alta_tensao          4641 non-null   int64\n",
      " 4   cpes_nao_domestico_alta_tensao      4641 non-null   int64\n",
      " 5   cpes_outros_alta_tensao             4641 non-null   int64\n",
      " 6   densidade_populacional_pessoas_km2  4641 non-null   int64\n",
      "dtypes: int64(7)\n",
      "memory usage: 290.1 KB\n"
     ]
    },
    {
     "data": {
      "text/plain": "               ano          mes  energia_ativa_alta_tensao_kwh  \\\ncount  4641.000000  4641.000000                   4.641000e+03   \nmean   2022.705882     7.529412                   7.185369e+06   \nstd       0.455694     3.397902                   1.456594e+07   \nmin    2022.000000     1.000000                   0.000000e+00   \n25%    2022.000000     5.000000                   4.570540e+05   \n50%    2023.000000     8.000000                   1.955336e+06   \n75%    2023.000000    10.000000                   6.360625e+06   \nmax    2023.000000    12.000000                   1.279470e+08   \n\n       cpes_domestico_alta_tensao  cpes_nao_domestico_alta_tensao  \\\ncount                 4641.000000                     4641.000000   \nmean                     0.039647                       95.380952   \nstd                      0.206940                      121.117813   \nmin                      0.000000                        0.000000   \n25%                      0.000000                       28.000000   \n50%                      0.000000                       51.000000   \n75%                      0.000000                      119.000000   \nmax                      2.000000                     1224.000000   \n\n       cpes_outros_alta_tensao  densidade_populacional_pessoas_km2  \ncount              4641.000000                         4641.000000  \nmean                  0.408533                          314.542125  \nstd                   4.304804                          856.169267  \nmin                   0.000000                            4.000000  \n25%                   0.000000                           25.000000  \n50%                   0.000000                           66.000000  \n75%                   0.000000                          177.000000  \nmax                  75.000000                         7310.000000  ",
      "text/html": "<div>\n<style scoped>\n    .dataframe tbody tr th:only-of-type {\n        vertical-align: middle;\n    }\n\n    .dataframe tbody tr th {\n        vertical-align: top;\n    }\n\n    .dataframe thead th {\n        text-align: right;\n    }\n</style>\n<table border=\"1\" class=\"dataframe\">\n  <thead>\n    <tr style=\"text-align: right;\">\n      <th></th>\n      <th>ano</th>\n      <th>mes</th>\n      <th>energia_ativa_alta_tensao_kwh</th>\n      <th>cpes_domestico_alta_tensao</th>\n      <th>cpes_nao_domestico_alta_tensao</th>\n      <th>cpes_outros_alta_tensao</th>\n      <th>densidade_populacional_pessoas_km2</th>\n    </tr>\n  </thead>\n  <tbody>\n    <tr>\n      <th>count</th>\n      <td>4641.000000</td>\n      <td>4641.000000</td>\n      <td>4.641000e+03</td>\n      <td>4641.000000</td>\n      <td>4641.000000</td>\n      <td>4641.000000</td>\n      <td>4641.000000</td>\n    </tr>\n    <tr>\n      <th>mean</th>\n      <td>2022.705882</td>\n      <td>7.529412</td>\n      <td>7.185369e+06</td>\n      <td>0.039647</td>\n      <td>95.380952</td>\n      <td>0.408533</td>\n      <td>314.542125</td>\n    </tr>\n    <tr>\n      <th>std</th>\n      <td>0.455694</td>\n      <td>3.397902</td>\n      <td>1.456594e+07</td>\n      <td>0.206940</td>\n      <td>121.117813</td>\n      <td>4.304804</td>\n      <td>856.169267</td>\n    </tr>\n    <tr>\n      <th>min</th>\n      <td>2022.000000</td>\n      <td>1.000000</td>\n      <td>0.000000e+00</td>\n      <td>0.000000</td>\n      <td>0.000000</td>\n      <td>0.000000</td>\n      <td>4.000000</td>\n    </tr>\n    <tr>\n      <th>25%</th>\n      <td>2022.000000</td>\n      <td>5.000000</td>\n      <td>4.570540e+05</td>\n      <td>0.000000</td>\n      <td>28.000000</td>\n      <td>0.000000</td>\n      <td>25.000000</td>\n    </tr>\n    <tr>\n      <th>50%</th>\n      <td>2023.000000</td>\n      <td>8.000000</td>\n      <td>1.955336e+06</td>\n      <td>0.000000</td>\n      <td>51.000000</td>\n      <td>0.000000</td>\n      <td>66.000000</td>\n    </tr>\n    <tr>\n      <th>75%</th>\n      <td>2023.000000</td>\n      <td>10.000000</td>\n      <td>6.360625e+06</td>\n      <td>0.000000</td>\n      <td>119.000000</td>\n      <td>0.000000</td>\n      <td>177.000000</td>\n    </tr>\n    <tr>\n      <th>max</th>\n      <td>2023.000000</td>\n      <td>12.000000</td>\n      <td>1.279470e+08</td>\n      <td>2.000000</td>\n      <td>1224.000000</td>\n      <td>75.000000</td>\n      <td>7310.000000</td>\n    </tr>\n  </tbody>\n</table>\n</div>"
     },
     "execution_count": 17,
     "metadata": {},
     "output_type": "execute_result"
    }
   ],
   "execution_count": 17
  },
  {
   "cell_type": "markdown",
   "source": [
    "Ver nulls e duplicados"
   ],
   "metadata": {
    "collapsed": false
   },
   "id": "f8ffb798e68a4c52"
  },
  {
   "cell_type": "code",
   "source": [
    "# Verificar valores vazios\n",
    "nulls = baixa_tensao_outros_df.isnull().sum()\n",
    "print('Número de nulls: ', nulls)\n",
    "\n",
    "# Verificar duplicados\n",
    "duplicates = baixa_tensao_outros_df.duplicated()\n",
    "print(\"Número de linhas duplicadas:\", duplicates.sum())"
   ],
   "metadata": {
    "collapsed": false,
    "ExecuteTime": {
     "end_time": "2024-05-10T11:44:28.846555Z",
     "start_time": "2024-05-10T11:44:28.678840Z"
    }
   },
   "id": "3d89cb205e776aa5",
   "outputs": [
    {
     "name": "stdout",
     "output_type": "stream",
     "text": [
      "Número de nulls:  ano                                          0\n",
      "mes                                          0\n",
      "energia_ativa_baixa_tensao_kwh               0\n",
      "cpes_domestico_baixa_tensao                  0\n",
      "cpes_iluminacao_publica_baixa_tensao         0\n",
      "cpes_nao_domestico_baixa_tensao              0\n",
      "cpes_outros_baixa_tensao                     0\n",
      "cpes_mobilidade_eletrica_nao_baixa_tensao    0\n",
      "cpes_mobilidade_eletrica_sim_baixa_tensao    0\n",
      "densidade_populacional_pessoas_km2           0\n",
      "dtype: int64\n",
      "Número de linhas duplicadas: 0\n"
     ]
    }
   ],
   "execution_count": 18
  },
  {
   "cell_type": "code",
   "source": [
    "# Verificar valores vazios\n",
    "nulls = alta_tensao_outros_df.isnull().sum()\n",
    "print('Número de nulls: ', nulls)\n",
    "\n",
    "# Verificar duplicados\n",
    "duplicates = alta_tensao_outros_df.duplicated()\n",
    "print(\"Número de linhas duplicadas:\", duplicates.sum())"
   ],
   "metadata": {
    "collapsed": false,
    "ExecuteTime": {
     "end_time": "2024-05-10T11:44:28.852931Z",
     "start_time": "2024-05-10T11:44:28.683731Z"
    }
   },
   "id": "344a622332b7f2c5",
   "outputs": [
    {
     "name": "stdout",
     "output_type": "stream",
     "text": [
      "Número de nulls:  ano                                   0\n",
      "mes                                   0\n",
      "energia_ativa_alta_tensao_kwh         0\n",
      "cpes_domestico_alta_tensao            0\n",
      "cpes_nao_domestico_alta_tensao        0\n",
      "cpes_outros_alta_tensao               0\n",
      "densidade_populacional_pessoas_km2    0\n",
      "dtype: int64\n",
      "Número de linhas duplicadas: 0\n"
     ]
    }
   ],
   "execution_count": 19
  },
  {
   "cell_type": "markdown",
   "source": [
    "##### Guardar subset de treino (2022 e 2023)"
   ],
   "metadata": {
    "collapsed": false
   },
   "id": "6299c166cb9e80dd"
  },
  {
   "cell_type": "code",
   "source": [
    "file_path = data_path + 'treated/prepared/numeric/train/dataset-numeric-low-tension-2022-2023.csv'\n",
    "\n",
    "baixa_tensao_outros_df.to_csv(file_path, index=False)\n",
    "\n",
    "print(\"DataFrame guardado em \", file_path)"
   ],
   "metadata": {
    "collapsed": false,
    "ExecuteTime": {
     "end_time": "2024-05-10T11:44:28.865121Z",
     "start_time": "2024-05-10T11:44:28.686949Z"
    }
   },
   "id": "cbdac9eb701281a0",
   "outputs": [
    {
     "name": "stdout",
     "output_type": "stream",
     "text": [
      "DataFrame guardado em  ../data/treated/prepared/numeric/train/dataset-numeric-low-tension-2022-2023.csv\n"
     ]
    }
   ],
   "execution_count": 20
  },
  {
   "cell_type": "code",
   "source": [
    "file_path = data_path + 'treated/prepared/numeric/train/dataset-numeric-high-tension-2022-2023.csv'\n",
    "\n",
    "alta_tensao_outros_df.to_csv(file_path, index=False)\n",
    "\n",
    "print(\"DataFrame guardado em \", file_path)"
   ],
   "metadata": {
    "collapsed": false,
    "ExecuteTime": {
     "end_time": "2024-05-10T11:44:28.881790Z",
     "start_time": "2024-05-10T11:44:28.696213Z"
    }
   },
   "id": "d9ef3042ef5c3f72",
   "outputs": [
    {
     "name": "stdout",
     "output_type": "stream",
     "text": [
      "DataFrame guardado em  ../data/treated/prepared/numeric/train/dataset-numeric-high-tension-2022-2023.csv\n"
     ]
    }
   ],
   "execution_count": 21
  },
  {
   "cell_type": "markdown",
   "source": [
    "### Guardar versões dos datasets sem a coluna ano e mês pois estas não têm boa correlação e por isso não têm interesse na análise"
   ],
   "metadata": {
    "collapsed": false
   },
   "id": "e46a32faa146de3f"
  },
  {
   "cell_type": "code",
   "source": [
    "merged_df.drop(columns=['ano', 'mes'], inplace=True)\n",
    "\n",
    "file_path = data_path + 'treated/prepared/numeric/no-dates/dataset-numeric-both-tensions-no-dates.csv'\n",
    "\n",
    "merged_df.to_csv(file_path, index=False)\n",
    "\n",
    "print(\"DataFrame guardado em \", file_path)"
   ],
   "metadata": {
    "collapsed": false,
    "ExecuteTime": {
     "end_time": "2024-05-10T11:44:28.884275Z",
     "start_time": "2024-05-10T11:44:28.704253Z"
    }
   },
   "id": "817c5e26a875b918",
   "outputs": [
    {
     "name": "stdout",
     "output_type": "stream",
     "text": [
      "DataFrame guardado em  ../data/treated/prepared/numeric/no-dates/dataset-numeric-both-tensions-no-dates.csv\n"
     ]
    }
   ],
   "execution_count": 22
  },
  {
   "cell_type": "code",
   "source": [
    "baixa_tensao_df.drop(columns=['ano', 'mes'], inplace=True)\n",
    "\n",
    "file_path = data_path + 'treated/prepared/numeric/no-dates/dataset-numeric-low-tensions-no-dates.csv'\n",
    "\n",
    "baixa_tensao_df.to_csv(file_path, index=False)\n",
    "\n",
    "print(\"DataFrame guardado em \", file_path)"
   ],
   "metadata": {
    "collapsed": false,
    "ExecuteTime": {
     "end_time": "2024-05-10T11:44:28.898116Z",
     "start_time": "2024-05-10T11:44:28.715757Z"
    }
   },
   "id": "875c99f14499991b",
   "outputs": [
    {
     "name": "stdout",
     "output_type": "stream",
     "text": [
      "DataFrame guardado em  ../data/treated/prepared/numeric/no-dates/dataset-numeric-low-tensions-no-dates.csv\n"
     ]
    }
   ],
   "execution_count": 23
  },
  {
   "cell_type": "code",
   "source": [
    "baixa_tensao_2024_df.drop(columns=['ano', 'mes'], inplace=True)\n",
    "\n",
    "file_path = data_path + 'treated/prepared/numeric/no-dates/dataset-numeric-low-tensions-test-no-dates.csv'\n",
    "\n",
    "baixa_tensao_2024_df.to_csv(file_path, index=False)\n",
    "\n",
    "print(\"DataFrame guardado em \", file_path)"
   ],
   "metadata": {
    "collapsed": false,
    "ExecuteTime": {
     "end_time": "2024-05-10T11:44:28.900186Z",
     "start_time": "2024-05-10T11:44:28.725810Z"
    }
   },
   "id": "27498c6374f0bb6a",
   "outputs": [
    {
     "name": "stdout",
     "output_type": "stream",
     "text": [
      "DataFrame guardado em  ../data/treated/prepared/numeric/no-dates/dataset-numeric-low-tensions-test-no-dates.csv\n"
     ]
    }
   ],
   "execution_count": 24
  },
  {
   "cell_type": "code",
   "source": [
    "baixa_tensao_outros_df.drop(columns=['ano', 'mes'], inplace=True)\n",
    "\n",
    "file_path = data_path + 'treated/prepared/numeric/no-dates/dataset-numeric-low-tensions-train-no-dates.csv'\n",
    "\n",
    "baixa_tensao_outros_df.to_csv(file_path, index=False)\n",
    "\n",
    "print(\"DataFrame guardado em \", file_path)"
   ],
   "metadata": {
    "collapsed": false,
    "ExecuteTime": {
     "end_time": "2024-05-10T11:44:29.095598Z",
     "start_time": "2024-05-10T11:44:28.729954Z"
    }
   },
   "id": "40abe2645546d148",
   "outputs": [
    {
     "name": "stdout",
     "output_type": "stream",
     "text": [
      "DataFrame guardado em  ../data/treated/prepared/numeric/no-dates/dataset-numeric-low-tensions-train-no-dates.csv\n"
     ]
    }
   ],
   "execution_count": 25
  },
  {
   "cell_type": "code",
   "source": [
    "alta_tensao_df.drop(columns=['ano', 'mes'], inplace=True)\n",
    "\n",
    "file_path = data_path + 'treated/prepared/numeric/no-dates/dataset-numeric-high-tensions-no-dates.csv'\n",
    "\n",
    "alta_tensao_df.to_csv(file_path, index=False)\n",
    "\n",
    "print(\"DataFrame guardado em \", file_path)"
   ],
   "metadata": {
    "collapsed": false,
    "ExecuteTime": {
     "end_time": "2024-05-10T11:44:29.097336Z",
     "start_time": "2024-05-10T11:44:28.739012Z"
    }
   },
   "id": "eddd74c485791d2e",
   "outputs": [
    {
     "name": "stdout",
     "output_type": "stream",
     "text": [
      "DataFrame guardado em  ../data/treated/prepared/numeric/no-dates/dataset-numeric-high-tensions-no-dates.csv\n"
     ]
    }
   ],
   "execution_count": 26
  },
  {
   "cell_type": "code",
   "source": [
    "alta_tensao_2024_df.drop(columns=['ano', 'mes'], inplace=True)\n",
    "\n",
    "file_path = data_path + 'treated/prepared/numeric/no-dates/dataset-numeric-high-tensions-test-no-dates.csv'\n",
    "\n",
    "alta_tensao_2024_df.to_csv(file_path, index=False)\n",
    "\n",
    "print(\"DataFrame guardado em \", file_path)"
   ],
   "metadata": {
    "collapsed": false,
    "ExecuteTime": {
     "end_time": "2024-05-10T11:44:29.098854Z",
     "start_time": "2024-05-10T11:44:28.745715Z"
    }
   },
   "id": "3bbd37375a5f467",
   "outputs": [
    {
     "name": "stdout",
     "output_type": "stream",
     "text": [
      "DataFrame guardado em  ../data/treated/prepared/numeric/no-dates/dataset-numeric-high-tensions-test-no-dates.csv\n"
     ]
    }
   ],
   "execution_count": 27
  },
  {
   "metadata": {
    "ExecuteTime": {
     "end_time": "2024-05-10T11:44:29.100370Z",
     "start_time": "2024-05-10T11:44:28.749877Z"
    }
   },
   "cell_type": "code",
   "source": [
    "alta_tensao_outros_df.drop(columns=['ano', 'mes'], inplace=True)\n",
    "\n",
    "file_path = data_path + 'treated/prepared/numeric/no-dates/dataset-numeric-high-tensions-train-no-dates.csv'\n",
    "\n",
    "alta_tensao_outros_df.to_csv(file_path, index=False)\n",
    "\n",
    "print(\"DataFrame guardado em \", file_path)"
   ],
   "id": "f09af8c1afd88546",
   "outputs": [
    {
     "name": "stdout",
     "output_type": "stream",
     "text": [
      "DataFrame guardado em  ../data/treated/prepared/numeric/no-dates/dataset-numeric-high-tensions-train-no-dates.csv\n"
     ]
    }
   ],
   "execution_count": 28
  },
  {
   "cell_type": "markdown",
   "source": [
    "## Normalização MinMax"
   ],
   "metadata": {
    "collapsed": false
   },
   "id": "4acba4f5098af442"
  },
  {
   "cell_type": "markdown",
   "source": [
    "### Normalização MinMax das baixas tensões"
   ],
   "metadata": {
    "collapsed": false
   },
   "id": "15ace259bbfe3549"
  },
  {
   "cell_type": "code",
   "source": [
    "# Normalização com o MinMax\n",
    "scaler = MinMaxScaler()\n",
    "baixa_tensao_scaled_min_max_df = pd.DataFrame(scaler.fit_transform(baixa_tensao_df), columns=baixa_tensao_df.columns)\n",
    "\n",
    "baixa_tensao_scaled_min_max_df.head()"
   ],
   "metadata": {
    "collapsed": false,
    "ExecuteTime": {
     "end_time": "2024-05-10T11:44:29.122143Z",
     "start_time": "2024-05-10T11:44:28.755974Z"
    }
   },
   "id": "591db641f0c1f796",
   "outputs": [
    {
     "data": {
      "text/plain": "   energia_ativa_baixa_tensao_kwh  cpes_domestico_baixa_tensao  \\\n0                        0.035411                     0.061784   \n1                        0.031819                     0.061816   \n2                        0.032499                     0.061848   \n3                        0.035027                     0.061883   \n4                        0.040727                     0.061903   \n\n   cpes_iluminacao_publica_baixa_tensao  cpes_nao_domestico_baixa_tensao  \\\n0                              0.242784                         0.051923   \n1                              0.242784                         0.051836   \n2                              0.242784                         0.051723   \n3                              0.242784                         0.051798   \n4                              0.243633                         0.051848   \n\n   cpes_outros_baixa_tensao  cpes_mobilidade_eletrica_nao_baixa_tensao  \\\n0                  0.037529                                   0.039783   \n1                  0.036613                                   0.040543   \n2                  0.036613                                   0.041545   \n3                  0.036156                                   0.043079   \n4                  0.037071                                   0.043990   \n\n   cpes_mobilidade_eletrica_sim_baixa_tensao  \\\n0                                   0.005155   \n1                                   0.005155   \n2                                   0.005155   \n3                                   0.005155   \n4                                   0.005155   \n\n   densidade_populacional_pessoas_km2  \n0                            0.006022  \n1                            0.006022  \n2                            0.006022  \n3                            0.006022  \n4                            0.006022  ",
      "text/html": "<div>\n<style scoped>\n    .dataframe tbody tr th:only-of-type {\n        vertical-align: middle;\n    }\n\n    .dataframe tbody tr th {\n        vertical-align: top;\n    }\n\n    .dataframe thead th {\n        text-align: right;\n    }\n</style>\n<table border=\"1\" class=\"dataframe\">\n  <thead>\n    <tr style=\"text-align: right;\">\n      <th></th>\n      <th>energia_ativa_baixa_tensao_kwh</th>\n      <th>cpes_domestico_baixa_tensao</th>\n      <th>cpes_iluminacao_publica_baixa_tensao</th>\n      <th>cpes_nao_domestico_baixa_tensao</th>\n      <th>cpes_outros_baixa_tensao</th>\n      <th>cpes_mobilidade_eletrica_nao_baixa_tensao</th>\n      <th>cpes_mobilidade_eletrica_sim_baixa_tensao</th>\n      <th>densidade_populacional_pessoas_km2</th>\n    </tr>\n  </thead>\n  <tbody>\n    <tr>\n      <th>0</th>\n      <td>0.035411</td>\n      <td>0.061784</td>\n      <td>0.242784</td>\n      <td>0.051923</td>\n      <td>0.037529</td>\n      <td>0.039783</td>\n      <td>0.005155</td>\n      <td>0.006022</td>\n    </tr>\n    <tr>\n      <th>1</th>\n      <td>0.031819</td>\n      <td>0.061816</td>\n      <td>0.242784</td>\n      <td>0.051836</td>\n      <td>0.036613</td>\n      <td>0.040543</td>\n      <td>0.005155</td>\n      <td>0.006022</td>\n    </tr>\n    <tr>\n      <th>2</th>\n      <td>0.032499</td>\n      <td>0.061848</td>\n      <td>0.242784</td>\n      <td>0.051723</td>\n      <td>0.036613</td>\n      <td>0.041545</td>\n      <td>0.005155</td>\n      <td>0.006022</td>\n    </tr>\n    <tr>\n      <th>3</th>\n      <td>0.035027</td>\n      <td>0.061883</td>\n      <td>0.242784</td>\n      <td>0.051798</td>\n      <td>0.036156</td>\n      <td>0.043079</td>\n      <td>0.005155</td>\n      <td>0.006022</td>\n    </tr>\n    <tr>\n      <th>4</th>\n      <td>0.040727</td>\n      <td>0.061903</td>\n      <td>0.243633</td>\n      <td>0.051848</td>\n      <td>0.037071</td>\n      <td>0.043990</td>\n      <td>0.005155</td>\n      <td>0.006022</td>\n    </tr>\n  </tbody>\n</table>\n</div>"
     },
     "execution_count": 29,
     "metadata": {},
     "output_type": "execute_result"
    }
   ],
   "execution_count": 29
  },
  {
   "cell_type": "code",
   "source": [
    "# Estatísticas resumidas antes da normalização\n",
    "baixa_tensao_df.describe()"
   ],
   "metadata": {
    "collapsed": false,
    "ExecuteTime": {
     "end_time": "2024-05-10T11:44:29.123974Z",
     "start_time": "2024-05-10T11:44:28.761711Z"
    }
   },
   "id": "df5e6cf216a396a0",
   "outputs": [
    {
     "data": {
      "text/plain": "       energia_ativa_baixa_tensao_kwh  cpes_domestico_baixa_tensao  \\\ncount                    5.187000e+03                  5187.000000   \nmean                     6.518676e+06                 18808.416426   \nstd                      1.177996e+07                 29413.928256   \nmin                      1.000680e+05                  1042.000000   \n25%                      1.266728e+06                  4580.500000   \n50%                      2.625888e+06                  8935.000000   \n75%                      7.113475e+06                 21437.000000   \nmax                      1.641353e+08                312095.000000   \n\n       cpes_iluminacao_publica_baixa_tensao  cpes_nao_domestico_baixa_tensao  \\\ncount                           5187.000000                      5187.000000   \nmean                             214.150183                      4242.803933   \nstd                              194.193563                      6873.077695   \nmin                                7.000000                       174.000000   \n25%                               91.000000                      1101.000000   \n50%                              141.000000                      1990.000000   \n75%                              280.000000                      4900.000000   \nmax                             1185.000000                     79984.000000   \n\n       cpes_outros_baixa_tensao  cpes_mobilidade_eletrica_nao_baixa_tensao  \\\ncount               5187.000000                                5187.000000   \nmean                 128.463852                               27371.181415   \nstd                  205.717131                               46187.414907   \nmin                    1.000000                                1144.000000   \n25%                   20.500000                                6151.000000   \n50%                   53.000000                               11544.000000   \n75%                  155.000000                               30042.000000   \nmax                 2186.000000                              530262.000000   \n\n       cpes_mobilidade_eletrica_sim_baixa_tensao  \\\ncount                                5187.000000   \nmean                                    9.612300   \nstd                                    25.397713   \nmin                                     0.000000   \n25%                                     2.000000   \n50%                                     2.000000   \n75%                                     6.000000   \nmax                                   388.000000   \n\n       densidade_populacional_pessoas_km2  \ncount                         5187.000000  \nmean                           314.542125  \nstd                            856.159555  \nmin                              4.000000  \n25%                             25.000000  \n50%                             66.000000  \n75%                            177.000000  \nmax                           7310.000000  ",
      "text/html": "<div>\n<style scoped>\n    .dataframe tbody tr th:only-of-type {\n        vertical-align: middle;\n    }\n\n    .dataframe tbody tr th {\n        vertical-align: top;\n    }\n\n    .dataframe thead th {\n        text-align: right;\n    }\n</style>\n<table border=\"1\" class=\"dataframe\">\n  <thead>\n    <tr style=\"text-align: right;\">\n      <th></th>\n      <th>energia_ativa_baixa_tensao_kwh</th>\n      <th>cpes_domestico_baixa_tensao</th>\n      <th>cpes_iluminacao_publica_baixa_tensao</th>\n      <th>cpes_nao_domestico_baixa_tensao</th>\n      <th>cpes_outros_baixa_tensao</th>\n      <th>cpes_mobilidade_eletrica_nao_baixa_tensao</th>\n      <th>cpes_mobilidade_eletrica_sim_baixa_tensao</th>\n      <th>densidade_populacional_pessoas_km2</th>\n    </tr>\n  </thead>\n  <tbody>\n    <tr>\n      <th>count</th>\n      <td>5.187000e+03</td>\n      <td>5187.000000</td>\n      <td>5187.000000</td>\n      <td>5187.000000</td>\n      <td>5187.000000</td>\n      <td>5187.000000</td>\n      <td>5187.000000</td>\n      <td>5187.000000</td>\n    </tr>\n    <tr>\n      <th>mean</th>\n      <td>6.518676e+06</td>\n      <td>18808.416426</td>\n      <td>214.150183</td>\n      <td>4242.803933</td>\n      <td>128.463852</td>\n      <td>27371.181415</td>\n      <td>9.612300</td>\n      <td>314.542125</td>\n    </tr>\n    <tr>\n      <th>std</th>\n      <td>1.177996e+07</td>\n      <td>29413.928256</td>\n      <td>194.193563</td>\n      <td>6873.077695</td>\n      <td>205.717131</td>\n      <td>46187.414907</td>\n      <td>25.397713</td>\n      <td>856.159555</td>\n    </tr>\n    <tr>\n      <th>min</th>\n      <td>1.000680e+05</td>\n      <td>1042.000000</td>\n      <td>7.000000</td>\n      <td>174.000000</td>\n      <td>1.000000</td>\n      <td>1144.000000</td>\n      <td>0.000000</td>\n      <td>4.000000</td>\n    </tr>\n    <tr>\n      <th>25%</th>\n      <td>1.266728e+06</td>\n      <td>4580.500000</td>\n      <td>91.000000</td>\n      <td>1101.000000</td>\n      <td>20.500000</td>\n      <td>6151.000000</td>\n      <td>2.000000</td>\n      <td>25.000000</td>\n    </tr>\n    <tr>\n      <th>50%</th>\n      <td>2.625888e+06</td>\n      <td>8935.000000</td>\n      <td>141.000000</td>\n      <td>1990.000000</td>\n      <td>53.000000</td>\n      <td>11544.000000</td>\n      <td>2.000000</td>\n      <td>66.000000</td>\n    </tr>\n    <tr>\n      <th>75%</th>\n      <td>7.113475e+06</td>\n      <td>21437.000000</td>\n      <td>280.000000</td>\n      <td>4900.000000</td>\n      <td>155.000000</td>\n      <td>30042.000000</td>\n      <td>6.000000</td>\n      <td>177.000000</td>\n    </tr>\n    <tr>\n      <th>max</th>\n      <td>1.641353e+08</td>\n      <td>312095.000000</td>\n      <td>1185.000000</td>\n      <td>79984.000000</td>\n      <td>2186.000000</td>\n      <td>530262.000000</td>\n      <td>388.000000</td>\n      <td>7310.000000</td>\n    </tr>\n  </tbody>\n</table>\n</div>"
     },
     "execution_count": 30,
     "metadata": {},
     "output_type": "execute_result"
    }
   ],
   "execution_count": 30
  },
  {
   "cell_type": "code",
   "source": [
    "# Estatísticas resumidas depois da normalização\n",
    "baixa_tensao_scaled_min_max_df.describe()"
   ],
   "metadata": {
    "collapsed": false,
    "ExecuteTime": {
     "end_time": "2024-05-10T11:44:29.125647Z",
     "start_time": "2024-05-10T11:44:28.771123Z"
    }
   },
   "id": "1ebd457641e32f19",
   "outputs": [
    {
     "data": {
      "text/plain": "       energia_ativa_baixa_tensao_kwh  cpes_domestico_baixa_tensao  \\\ncount                     5187.000000                  5187.000000   \nmean                         0.039129                     0.057117   \nstd                          0.071814                     0.094562   \nmin                          0.000000                     0.000000   \n25%                          0.007112                     0.011376   \n50%                          0.015398                     0.025375   \n75%                          0.042755                     0.065568   \nmax                          1.000000                     1.000000   \n\n       cpes_iluminacao_publica_baixa_tensao  cpes_nao_domestico_baixa_tensao  \\\ncount                           5187.000000                      5187.000000   \nmean                               0.175849                         0.050981   \nstd                                0.164850                         0.086118   \nmin                                0.000000                         0.000000   \n25%                                0.071307                         0.011615   \n50%                                0.113752                         0.022754   \n75%                                0.231749                         0.059216   \nmax                                1.000000                         1.000000   \n\n       cpes_outros_baixa_tensao  cpes_mobilidade_eletrica_nao_baixa_tensao  \\\ncount               5187.000000                                5187.000000   \nmean                   0.058336                                   0.049568   \nstd                    0.094150                                   0.087291   \nmin                    0.000000                                   0.000000   \n25%                    0.008924                                   0.009463   \n50%                    0.023799                                   0.019655   \n75%                    0.070481                                   0.054615   \nmax                    1.000000                                   1.000000   \n\n       cpes_mobilidade_eletrica_sim_baixa_tensao  \\\ncount                                5187.000000   \nmean                                    0.024774   \nstd                                     0.065458   \nmin                                     0.000000   \n25%                                     0.005155   \n50%                                     0.005155   \n75%                                     0.015464   \nmax                                     1.000000   \n\n       densidade_populacional_pessoas_km2  \ncount                         5187.000000  \nmean                             0.042505  \nstd                              0.117186  \nmin                              0.000000  \n25%                              0.002874  \n50%                              0.008486  \n75%                              0.023679  \nmax                              1.000000  ",
      "text/html": "<div>\n<style scoped>\n    .dataframe tbody tr th:only-of-type {\n        vertical-align: middle;\n    }\n\n    .dataframe tbody tr th {\n        vertical-align: top;\n    }\n\n    .dataframe thead th {\n        text-align: right;\n    }\n</style>\n<table border=\"1\" class=\"dataframe\">\n  <thead>\n    <tr style=\"text-align: right;\">\n      <th></th>\n      <th>energia_ativa_baixa_tensao_kwh</th>\n      <th>cpes_domestico_baixa_tensao</th>\n      <th>cpes_iluminacao_publica_baixa_tensao</th>\n      <th>cpes_nao_domestico_baixa_tensao</th>\n      <th>cpes_outros_baixa_tensao</th>\n      <th>cpes_mobilidade_eletrica_nao_baixa_tensao</th>\n      <th>cpes_mobilidade_eletrica_sim_baixa_tensao</th>\n      <th>densidade_populacional_pessoas_km2</th>\n    </tr>\n  </thead>\n  <tbody>\n    <tr>\n      <th>count</th>\n      <td>5187.000000</td>\n      <td>5187.000000</td>\n      <td>5187.000000</td>\n      <td>5187.000000</td>\n      <td>5187.000000</td>\n      <td>5187.000000</td>\n      <td>5187.000000</td>\n      <td>5187.000000</td>\n    </tr>\n    <tr>\n      <th>mean</th>\n      <td>0.039129</td>\n      <td>0.057117</td>\n      <td>0.175849</td>\n      <td>0.050981</td>\n      <td>0.058336</td>\n      <td>0.049568</td>\n      <td>0.024774</td>\n      <td>0.042505</td>\n    </tr>\n    <tr>\n      <th>std</th>\n      <td>0.071814</td>\n      <td>0.094562</td>\n      <td>0.164850</td>\n      <td>0.086118</td>\n      <td>0.094150</td>\n      <td>0.087291</td>\n      <td>0.065458</td>\n      <td>0.117186</td>\n    </tr>\n    <tr>\n      <th>min</th>\n      <td>0.000000</td>\n      <td>0.000000</td>\n      <td>0.000000</td>\n      <td>0.000000</td>\n      <td>0.000000</td>\n      <td>0.000000</td>\n      <td>0.000000</td>\n      <td>0.000000</td>\n    </tr>\n    <tr>\n      <th>25%</th>\n      <td>0.007112</td>\n      <td>0.011376</td>\n      <td>0.071307</td>\n      <td>0.011615</td>\n      <td>0.008924</td>\n      <td>0.009463</td>\n      <td>0.005155</td>\n      <td>0.002874</td>\n    </tr>\n    <tr>\n      <th>50%</th>\n      <td>0.015398</td>\n      <td>0.025375</td>\n      <td>0.113752</td>\n      <td>0.022754</td>\n      <td>0.023799</td>\n      <td>0.019655</td>\n      <td>0.005155</td>\n      <td>0.008486</td>\n    </tr>\n    <tr>\n      <th>75%</th>\n      <td>0.042755</td>\n      <td>0.065568</td>\n      <td>0.231749</td>\n      <td>0.059216</td>\n      <td>0.070481</td>\n      <td>0.054615</td>\n      <td>0.015464</td>\n      <td>0.023679</td>\n    </tr>\n    <tr>\n      <th>max</th>\n      <td>1.000000</td>\n      <td>1.000000</td>\n      <td>1.000000</td>\n      <td>1.000000</td>\n      <td>1.000000</td>\n      <td>1.000000</td>\n      <td>1.000000</td>\n      <td>1.000000</td>\n    </tr>\n  </tbody>\n</table>\n</div>"
     },
     "execution_count": 31,
     "metadata": {},
     "output_type": "execute_result"
    }
   ],
   "execution_count": 31
  },
  {
   "metadata": {
    "ExecuteTime": {
     "end_time": "2024-05-10T11:44:29.147734Z",
     "start_time": "2024-05-10T11:44:28.780442Z"
    }
   },
   "cell_type": "code",
   "source": [
    "#Guardar no ficheiro\n",
    "file_path = data_path + 'treated/prepared/numeric/normalized/dataset-numeric-low-tensions-no-dates-minmax.csv'\n",
    "\n",
    "baixa_tensao_scaled_min_max_df.to_csv(file_path, index=False)\n",
    "\n",
    "print(\"DataFrame guardado em \", file_path)"
   ],
   "id": "aac310f215882316",
   "outputs": [
    {
     "name": "stdout",
     "output_type": "stream",
     "text": [
      "DataFrame guardado em  ../data/treated/prepared/numeric/normalized/dataset-numeric-low-tensions-no-dates-minmax.csv\n"
     ]
    }
   ],
   "execution_count": 32
  },
  {
   "metadata": {},
   "cell_type": "markdown",
   "source": [
    "### Normalização MinMax das altas tensões"
   ],
   "id": "edae78f1567ee5ec"
  },
  {
   "metadata": {
    "ExecuteTime": {
     "end_time": "2024-05-10T11:44:29.149883Z",
     "start_time": "2024-05-10T11:44:28.811779Z"
    }
   },
   "cell_type": "code",
   "source": [
    "# Normalização com o MinMax\n",
    "scaler = MinMaxScaler()\n",
    "alta_tensao_scaled_min_max_df = pd.DataFrame(scaler.fit_transform(alta_tensao_df), columns=alta_tensao_df.columns)\n",
    "\n",
    "alta_tensao_scaled_min_max_df.head()"
   ],
   "id": "67484cb2ba700f50",
   "outputs": [
    {
     "data": {
      "text/plain": "   energia_ativa_alta_tensao_kwh  cpes_domestico_alta_tensao  \\\n0                       0.046047                         0.0   \n1                       0.048138                         0.0   \n2                       0.049713                         0.0   \n3                       0.046591                         0.0   \n4                       0.041206                         0.0   \n\n   cpes_nao_domestico_alta_tensao  cpes_outros_alta_tensao  \\\n0                        0.109032                      0.0   \n1                        0.109032                      0.0   \n2                        0.109032                      0.0   \n3                        0.109032                      0.0   \n4                        0.109032                      0.0   \n\n   densidade_populacional_pessoas_km2  \n0                            0.006022  \n1                            0.006022  \n2                            0.006022  \n3                            0.006022  \n4                            0.006022  ",
      "text/html": "<div>\n<style scoped>\n    .dataframe tbody tr th:only-of-type {\n        vertical-align: middle;\n    }\n\n    .dataframe tbody tr th {\n        vertical-align: top;\n    }\n\n    .dataframe thead th {\n        text-align: right;\n    }\n</style>\n<table border=\"1\" class=\"dataframe\">\n  <thead>\n    <tr style=\"text-align: right;\">\n      <th></th>\n      <th>energia_ativa_alta_tensao_kwh</th>\n      <th>cpes_domestico_alta_tensao</th>\n      <th>cpes_nao_domestico_alta_tensao</th>\n      <th>cpes_outros_alta_tensao</th>\n      <th>densidade_populacional_pessoas_km2</th>\n    </tr>\n  </thead>\n  <tbody>\n    <tr>\n      <th>0</th>\n      <td>0.046047</td>\n      <td>0.0</td>\n      <td>0.109032</td>\n      <td>0.0</td>\n      <td>0.006022</td>\n    </tr>\n    <tr>\n      <th>1</th>\n      <td>0.048138</td>\n      <td>0.0</td>\n      <td>0.109032</td>\n      <td>0.0</td>\n      <td>0.006022</td>\n    </tr>\n    <tr>\n      <th>2</th>\n      <td>0.049713</td>\n      <td>0.0</td>\n      <td>0.109032</td>\n      <td>0.0</td>\n      <td>0.006022</td>\n    </tr>\n    <tr>\n      <th>3</th>\n      <td>0.046591</td>\n      <td>0.0</td>\n      <td>0.109032</td>\n      <td>0.0</td>\n      <td>0.006022</td>\n    </tr>\n    <tr>\n      <th>4</th>\n      <td>0.041206</td>\n      <td>0.0</td>\n      <td>0.109032</td>\n      <td>0.0</td>\n      <td>0.006022</td>\n    </tr>\n  </tbody>\n</table>\n</div>"
     },
     "execution_count": 33,
     "metadata": {},
     "output_type": "execute_result"
    }
   ],
   "execution_count": 33
  },
  {
   "metadata": {
    "ExecuteTime": {
     "end_time": "2024-05-10T11:44:29.156961Z",
     "start_time": "2024-05-10T11:44:28.817454Z"
    }
   },
   "cell_type": "code",
   "source": [
    "# Estatísticas resumidas antes da normalização\n",
    "alta_tensao_df.describe()"
   ],
   "id": "f6af208228e09dc6",
   "outputs": [
    {
     "data": {
      "text/plain": "       energia_ativa_alta_tensao_kwh  cpes_domestico_alta_tensao  \\\ncount                   5.187000e+03                 5187.000000   \nmean                    6.888616e+06                    0.040486   \nstd                     1.426511e+07                    0.211279   \nmin                     0.000000e+00                    0.000000   \n25%                     4.113695e+05                    0.000000   \n50%                     1.824003e+06                    0.000000   \n75%                     5.962718e+06                    0.000000   \nmax                     1.279470e+08                    2.000000   \n\n       cpes_nao_domestico_alta_tensao  cpes_outros_alta_tensao  \\\ncount                     5187.000000              5187.000000   \nmean                        95.497205                 0.365529   \nstd                        121.267530                 4.073821   \nmin                          0.000000                 0.000000   \n25%                         28.000000                 0.000000   \n50%                         51.000000                 0.000000   \n75%                        119.000000                 0.000000   \nmax                       1229.000000                75.000000   \n\n       densidade_populacional_pessoas_km2  \ncount                         5187.000000  \nmean                           314.542125  \nstd                            856.159555  \nmin                              4.000000  \n25%                             25.000000  \n50%                             66.000000  \n75%                            177.000000  \nmax                           7310.000000  ",
      "text/html": "<div>\n<style scoped>\n    .dataframe tbody tr th:only-of-type {\n        vertical-align: middle;\n    }\n\n    .dataframe tbody tr th {\n        vertical-align: top;\n    }\n\n    .dataframe thead th {\n        text-align: right;\n    }\n</style>\n<table border=\"1\" class=\"dataframe\">\n  <thead>\n    <tr style=\"text-align: right;\">\n      <th></th>\n      <th>energia_ativa_alta_tensao_kwh</th>\n      <th>cpes_domestico_alta_tensao</th>\n      <th>cpes_nao_domestico_alta_tensao</th>\n      <th>cpes_outros_alta_tensao</th>\n      <th>densidade_populacional_pessoas_km2</th>\n    </tr>\n  </thead>\n  <tbody>\n    <tr>\n      <th>count</th>\n      <td>5.187000e+03</td>\n      <td>5187.000000</td>\n      <td>5187.000000</td>\n      <td>5187.000000</td>\n      <td>5187.000000</td>\n    </tr>\n    <tr>\n      <th>mean</th>\n      <td>6.888616e+06</td>\n      <td>0.040486</td>\n      <td>95.497205</td>\n      <td>0.365529</td>\n      <td>314.542125</td>\n    </tr>\n    <tr>\n      <th>std</th>\n      <td>1.426511e+07</td>\n      <td>0.211279</td>\n      <td>121.267530</td>\n      <td>4.073821</td>\n      <td>856.159555</td>\n    </tr>\n    <tr>\n      <th>min</th>\n      <td>0.000000e+00</td>\n      <td>0.000000</td>\n      <td>0.000000</td>\n      <td>0.000000</td>\n      <td>4.000000</td>\n    </tr>\n    <tr>\n      <th>25%</th>\n      <td>4.113695e+05</td>\n      <td>0.000000</td>\n      <td>28.000000</td>\n      <td>0.000000</td>\n      <td>25.000000</td>\n    </tr>\n    <tr>\n      <th>50%</th>\n      <td>1.824003e+06</td>\n      <td>0.000000</td>\n      <td>51.000000</td>\n      <td>0.000000</td>\n      <td>66.000000</td>\n    </tr>\n    <tr>\n      <th>75%</th>\n      <td>5.962718e+06</td>\n      <td>0.000000</td>\n      <td>119.000000</td>\n      <td>0.000000</td>\n      <td>177.000000</td>\n    </tr>\n    <tr>\n      <th>max</th>\n      <td>1.279470e+08</td>\n      <td>2.000000</td>\n      <td>1229.000000</td>\n      <td>75.000000</td>\n      <td>7310.000000</td>\n    </tr>\n  </tbody>\n</table>\n</div>"
     },
     "execution_count": 34,
     "metadata": {},
     "output_type": "execute_result"
    }
   ],
   "execution_count": 34
  },
  {
   "metadata": {
    "ExecuteTime": {
     "end_time": "2024-05-10T11:44:29.177954Z",
     "start_time": "2024-05-10T11:44:28.828483Z"
    }
   },
   "cell_type": "code",
   "source": [
    "# Estatísticas resumidas depois da normalização\n",
    "alta_tensao_scaled_min_max_df.describe()"
   ],
   "id": "8cf7edb3801de8cf",
   "outputs": [
    {
     "data": {
      "text/plain": "       energia_ativa_alta_tensao_kwh  cpes_domestico_alta_tensao  \\\ncount                    5187.000000                 5187.000000   \nmean                        0.053840                    0.020243   \nstd                         0.111492                    0.105640   \nmin                         0.000000                    0.000000   \n25%                         0.003215                    0.000000   \n50%                         0.014256                    0.000000   \n75%                         0.046603                    0.000000   \nmax                         1.000000                    1.000000   \n\n       cpes_nao_domestico_alta_tensao  cpes_outros_alta_tensao  \\\ncount                     5187.000000              5187.000000   \nmean                         0.077703                 0.004874   \nstd                          0.098672                 0.054318   \nmin                          0.000000                 0.000000   \n25%                          0.022783                 0.000000   \n50%                          0.041497                 0.000000   \n75%                          0.096827                 0.000000   \nmax                          1.000000                 1.000000   \n\n       densidade_populacional_pessoas_km2  \ncount                         5187.000000  \nmean                             0.042505  \nstd                              0.117186  \nmin                              0.000000  \n25%                              0.002874  \n50%                              0.008486  \n75%                              0.023679  \nmax                              1.000000  ",
      "text/html": "<div>\n<style scoped>\n    .dataframe tbody tr th:only-of-type {\n        vertical-align: middle;\n    }\n\n    .dataframe tbody tr th {\n        vertical-align: top;\n    }\n\n    .dataframe thead th {\n        text-align: right;\n    }\n</style>\n<table border=\"1\" class=\"dataframe\">\n  <thead>\n    <tr style=\"text-align: right;\">\n      <th></th>\n      <th>energia_ativa_alta_tensao_kwh</th>\n      <th>cpes_domestico_alta_tensao</th>\n      <th>cpes_nao_domestico_alta_tensao</th>\n      <th>cpes_outros_alta_tensao</th>\n      <th>densidade_populacional_pessoas_km2</th>\n    </tr>\n  </thead>\n  <tbody>\n    <tr>\n      <th>count</th>\n      <td>5187.000000</td>\n      <td>5187.000000</td>\n      <td>5187.000000</td>\n      <td>5187.000000</td>\n      <td>5187.000000</td>\n    </tr>\n    <tr>\n      <th>mean</th>\n      <td>0.053840</td>\n      <td>0.020243</td>\n      <td>0.077703</td>\n      <td>0.004874</td>\n      <td>0.042505</td>\n    </tr>\n    <tr>\n      <th>std</th>\n      <td>0.111492</td>\n      <td>0.105640</td>\n      <td>0.098672</td>\n      <td>0.054318</td>\n      <td>0.117186</td>\n    </tr>\n    <tr>\n      <th>min</th>\n      <td>0.000000</td>\n      <td>0.000000</td>\n      <td>0.000000</td>\n      <td>0.000000</td>\n      <td>0.000000</td>\n    </tr>\n    <tr>\n      <th>25%</th>\n      <td>0.003215</td>\n      <td>0.000000</td>\n      <td>0.022783</td>\n      <td>0.000000</td>\n      <td>0.002874</td>\n    </tr>\n    <tr>\n      <th>50%</th>\n      <td>0.014256</td>\n      <td>0.000000</td>\n      <td>0.041497</td>\n      <td>0.000000</td>\n      <td>0.008486</td>\n    </tr>\n    <tr>\n      <th>75%</th>\n      <td>0.046603</td>\n      <td>0.000000</td>\n      <td>0.096827</td>\n      <td>0.000000</td>\n      <td>0.023679</td>\n    </tr>\n    <tr>\n      <th>max</th>\n      <td>1.000000</td>\n      <td>1.000000</td>\n      <td>1.000000</td>\n      <td>1.000000</td>\n      <td>1.000000</td>\n    </tr>\n  </tbody>\n</table>\n</div>"
     },
     "execution_count": 35,
     "metadata": {},
     "output_type": "execute_result"
    }
   ],
   "execution_count": 35
  },
  {
   "metadata": {
    "ExecuteTime": {
     "end_time": "2024-05-10T11:44:29.195308Z",
     "start_time": "2024-05-10T11:44:28.836730Z"
    }
   },
   "cell_type": "code",
   "source": [
    "#Guardar no ficheiro\n",
    "file_path = data_path + 'treated/prepared/numeric/normalized/dataset-numeric-high-tensions-no-dates-minmax.csv'\n",
    "\n",
    "alta_tensao_scaled_min_max_df.to_csv(file_path, index=False)\n",
    "\n",
    "print(\"DataFrame guardado em \", file_path)"
   ],
   "id": "31639713143b2a61",
   "outputs": [
    {
     "name": "stdout",
     "output_type": "stream",
     "text": [
      "DataFrame guardado em  ../data/treated/prepared/numeric/normalized/dataset-numeric-high-tensions-no-dates-minmax.csv\n"
     ]
    }
   ],
   "execution_count": 36
  },
  {
   "metadata": {},
   "cell_type": "markdown",
   "source": [
    "### Normalização MinMax baixa tensão 2024"
   ],
   "id": "22a0407f164f538a"
  },
  {
   "metadata": {
    "ExecuteTime": {
     "end_time": "2024-05-10T11:44:29.198694Z",
     "start_time": "2024-05-10T11:44:28.856441Z"
    }
   },
   "cell_type": "code",
   "source": [
    "# Normalização com o MinMax\n",
    "scaler = MinMaxScaler()\n",
    "baixa_tensao_2024_scaled_min_max_df = pd.DataFrame(scaler.fit_transform(baixa_tensao_2024_df), columns=baixa_tensao_2024_df.columns)\n",
    "\n",
    "baixa_tensao_2024_scaled_min_max_df.head()"
   ],
   "id": "b18a15ba3662a1c8",
   "outputs": [
    {
     "data": {
      "text/plain": "   energia_ativa_baixa_tensao_kwh  cpes_domestico_baixa_tensao  \\\n0                        0.045225                     0.062144   \n1                        0.014454                     0.062083   \n2                        0.006809                     0.008883   \n3                        0.001694                     0.008899   \n4                        0.007653                     0.007240   \n\n   cpes_iluminacao_publica_baixa_tensao  cpes_nao_domestico_baixa_tensao  \\\n0                              0.245331                         0.052229   \n1                              0.245331                         0.052217   \n2                              0.075552                         0.010200   \n3                              0.075552                         0.010225   \n4                              0.032258                         0.007118   \n\n   cpes_outros_baixa_tensao  cpes_mobilidade_eletrica_nao_baixa_tensao  \\\n0                  0.032619                                   0.061044   \n1                  0.047225                                   0.062577   \n2                  0.003895                                   0.012041   \n3                  0.003895                                   0.012718   \n4                  0.004869                                   0.006034   \n\n   cpes_mobilidade_eletrica_sim_baixa_tensao  \\\n0                                   0.015464   \n1                                   0.020619   \n2                                   0.010309   \n3                                   0.010309   \n4                                   0.005155   \n\n   densidade_populacional_pessoas_km2  \n0                            0.006022  \n1                            0.006022  \n2                            0.003011  \n3                            0.003011  \n4                            0.000684  ",
      "text/html": "<div>\n<style scoped>\n    .dataframe tbody tr th:only-of-type {\n        vertical-align: middle;\n    }\n\n    .dataframe tbody tr th {\n        vertical-align: top;\n    }\n\n    .dataframe thead th {\n        text-align: right;\n    }\n</style>\n<table border=\"1\" class=\"dataframe\">\n  <thead>\n    <tr style=\"text-align: right;\">\n      <th></th>\n      <th>energia_ativa_baixa_tensao_kwh</th>\n      <th>cpes_domestico_baixa_tensao</th>\n      <th>cpes_iluminacao_publica_baixa_tensao</th>\n      <th>cpes_nao_domestico_baixa_tensao</th>\n      <th>cpes_outros_baixa_tensao</th>\n      <th>cpes_mobilidade_eletrica_nao_baixa_tensao</th>\n      <th>cpes_mobilidade_eletrica_sim_baixa_tensao</th>\n      <th>densidade_populacional_pessoas_km2</th>\n    </tr>\n  </thead>\n  <tbody>\n    <tr>\n      <th>0</th>\n      <td>0.045225</td>\n      <td>0.062144</td>\n      <td>0.245331</td>\n      <td>0.052229</td>\n      <td>0.032619</td>\n      <td>0.061044</td>\n      <td>0.015464</td>\n      <td>0.006022</td>\n    </tr>\n    <tr>\n      <th>1</th>\n      <td>0.014454</td>\n      <td>0.062083</td>\n      <td>0.245331</td>\n      <td>0.052217</td>\n      <td>0.047225</td>\n      <td>0.062577</td>\n      <td>0.020619</td>\n      <td>0.006022</td>\n    </tr>\n    <tr>\n      <th>2</th>\n      <td>0.006809</td>\n      <td>0.008883</td>\n      <td>0.075552</td>\n      <td>0.010200</td>\n      <td>0.003895</td>\n      <td>0.012041</td>\n      <td>0.010309</td>\n      <td>0.003011</td>\n    </tr>\n    <tr>\n      <th>3</th>\n      <td>0.001694</td>\n      <td>0.008899</td>\n      <td>0.075552</td>\n      <td>0.010225</td>\n      <td>0.003895</td>\n      <td>0.012718</td>\n      <td>0.010309</td>\n      <td>0.003011</td>\n    </tr>\n    <tr>\n      <th>4</th>\n      <td>0.007653</td>\n      <td>0.007240</td>\n      <td>0.032258</td>\n      <td>0.007118</td>\n      <td>0.004869</td>\n      <td>0.006034</td>\n      <td>0.005155</td>\n      <td>0.000684</td>\n    </tr>\n  </tbody>\n</table>\n</div>"
     },
     "execution_count": 37,
     "metadata": {},
     "output_type": "execute_result"
    }
   ],
   "execution_count": 37
  },
  {
   "metadata": {
    "ExecuteTime": {
     "end_time": "2024-05-10T11:44:29.203843Z",
     "start_time": "2024-05-10T11:44:28.859507Z"
    }
   },
   "cell_type": "code",
   "source": [
    "# Estatísticas resumidas antes da normalização\n",
    "baixa_tensao_2024_df.describe()"
   ],
   "id": "9d486a3906a60f2e",
   "outputs": [
    {
     "data": {
      "text/plain": "       energia_ativa_baixa_tensao_kwh  cpes_domestico_baixa_tensao  \\\ncount                    5.460000e+02                   546.000000   \nmean                     5.381401e+06                 18918.045788   \nstd                      1.106368e+07                 29635.004603   \nmin                      1.000680e+05                  1042.000000   \n25%                      8.825985e+05                  4572.750000   \n50%                      1.962897e+06                  8928.500000   \n75%                      5.025964e+06                 21518.250000   \nmax                      1.641353e+08                312095.000000   \n\n       cpes_iluminacao_publica_baixa_tensao  cpes_nao_domestico_baixa_tensao  \\\ncount                            546.000000                       546.000000   \nmean                             215.278388                      4274.082418   \nstd                              195.630206                      6925.569730   \nmin                                7.000000                       182.000000   \n25%                               91.000000                      1112.000000   \n50%                              142.000000                      2001.500000   \n75%                              281.000000                      4927.250000   \nmax                             1185.000000                     79984.000000   \n\n       cpes_outros_baixa_tensao  cpes_mobilidade_eletrica_nao_baixa_tensao  \\\ncount                546.000000                                 546.000000   \nmean                 119.930403                               33234.115385   \nstd                  197.548003                               50925.096260   \nmin                    1.000000                                1892.000000   \n25%                   18.000000                                8386.000000   \n50%                   48.000000                               15531.000000   \n75%                  141.750000                               39917.000000   \nmax                 2055.000000                              530262.000000   \n\n       cpes_mobilidade_eletrica_sim_baixa_tensao  \\\ncount                                 546.000000   \nmean                                   14.593407   \nstd                                    35.708189   \nmin                                     0.000000   \n25%                                     2.000000   \n50%                                     4.000000   \n75%                                    10.000000   \nmax                                   388.000000   \n\n       densidade_populacional_pessoas_km2  \ncount                          546.000000  \nmean                           314.542125  \nstd                            856.862054  \nmin                              4.000000  \n25%                             25.000000  \n50%                             66.000000  \n75%                            177.000000  \nmax                           7310.000000  ",
      "text/html": "<div>\n<style scoped>\n    .dataframe tbody tr th:only-of-type {\n        vertical-align: middle;\n    }\n\n    .dataframe tbody tr th {\n        vertical-align: top;\n    }\n\n    .dataframe thead th {\n        text-align: right;\n    }\n</style>\n<table border=\"1\" class=\"dataframe\">\n  <thead>\n    <tr style=\"text-align: right;\">\n      <th></th>\n      <th>energia_ativa_baixa_tensao_kwh</th>\n      <th>cpes_domestico_baixa_tensao</th>\n      <th>cpes_iluminacao_publica_baixa_tensao</th>\n      <th>cpes_nao_domestico_baixa_tensao</th>\n      <th>cpes_outros_baixa_tensao</th>\n      <th>cpes_mobilidade_eletrica_nao_baixa_tensao</th>\n      <th>cpes_mobilidade_eletrica_sim_baixa_tensao</th>\n      <th>densidade_populacional_pessoas_km2</th>\n    </tr>\n  </thead>\n  <tbody>\n    <tr>\n      <th>count</th>\n      <td>5.460000e+02</td>\n      <td>546.000000</td>\n      <td>546.000000</td>\n      <td>546.000000</td>\n      <td>546.000000</td>\n      <td>546.000000</td>\n      <td>546.000000</td>\n      <td>546.000000</td>\n    </tr>\n    <tr>\n      <th>mean</th>\n      <td>5.381401e+06</td>\n      <td>18918.045788</td>\n      <td>215.278388</td>\n      <td>4274.082418</td>\n      <td>119.930403</td>\n      <td>33234.115385</td>\n      <td>14.593407</td>\n      <td>314.542125</td>\n    </tr>\n    <tr>\n      <th>std</th>\n      <td>1.106368e+07</td>\n      <td>29635.004603</td>\n      <td>195.630206</td>\n      <td>6925.569730</td>\n      <td>197.548003</td>\n      <td>50925.096260</td>\n      <td>35.708189</td>\n      <td>856.862054</td>\n    </tr>\n    <tr>\n      <th>min</th>\n      <td>1.000680e+05</td>\n      <td>1042.000000</td>\n      <td>7.000000</td>\n      <td>182.000000</td>\n      <td>1.000000</td>\n      <td>1892.000000</td>\n      <td>0.000000</td>\n      <td>4.000000</td>\n    </tr>\n    <tr>\n      <th>25%</th>\n      <td>8.825985e+05</td>\n      <td>4572.750000</td>\n      <td>91.000000</td>\n      <td>1112.000000</td>\n      <td>18.000000</td>\n      <td>8386.000000</td>\n      <td>2.000000</td>\n      <td>25.000000</td>\n    </tr>\n    <tr>\n      <th>50%</th>\n      <td>1.962897e+06</td>\n      <td>8928.500000</td>\n      <td>142.000000</td>\n      <td>2001.500000</td>\n      <td>48.000000</td>\n      <td>15531.000000</td>\n      <td>4.000000</td>\n      <td>66.000000</td>\n    </tr>\n    <tr>\n      <th>75%</th>\n      <td>5.025964e+06</td>\n      <td>21518.250000</td>\n      <td>281.000000</td>\n      <td>4927.250000</td>\n      <td>141.750000</td>\n      <td>39917.000000</td>\n      <td>10.000000</td>\n      <td>177.000000</td>\n    </tr>\n    <tr>\n      <th>max</th>\n      <td>1.641353e+08</td>\n      <td>312095.000000</td>\n      <td>1185.000000</td>\n      <td>79984.000000</td>\n      <td>2055.000000</td>\n      <td>530262.000000</td>\n      <td>388.000000</td>\n      <td>7310.000000</td>\n    </tr>\n  </tbody>\n</table>\n</div>"
     },
     "execution_count": 38,
     "metadata": {},
     "output_type": "execute_result"
    }
   ],
   "execution_count": 38
  },
  {
   "metadata": {
    "ExecuteTime": {
     "end_time": "2024-05-10T11:44:29.211365Z",
     "start_time": "2024-05-10T11:44:28.869130Z"
    }
   },
   "cell_type": "code",
   "source": [
    "# Estatísticas resumidas depois da normalização\n",
    "baixa_tensao_2024_scaled_min_max_df.describe()"
   ],
   "id": "42e06a953535bd79",
   "outputs": [
    {
     "data": {
      "text/plain": "       energia_ativa_baixa_tensao_kwh  cpes_domestico_baixa_tensao  \\\ncount                      546.000000                   546.000000   \nmean                         0.032196                     0.057469   \nstd                          0.067447                     0.095273   \nmin                          0.000000                     0.000000   \n25%                          0.004771                     0.011351   \n50%                          0.011356                     0.025354   \n75%                          0.030029                     0.065829   \nmax                          1.000000                     1.000000   \n\n       cpes_iluminacao_publica_baixa_tensao  cpes_nao_domestico_baixa_tensao  \\\ncount                            546.000000                       546.000000   \nmean                               0.176807                         0.051278   \nstd                                0.166070                         0.086784   \nmin                                0.000000                         0.000000   \n25%                                0.071307                         0.011654   \n50%                                0.114601                         0.022800   \n75%                                0.232598                         0.059463   \nmax                                1.000000                         1.000000   \n\n       cpes_outros_baixa_tensao  cpes_mobilidade_eletrica_nao_baixa_tensao  \\\ncount                546.000000                                 546.000000   \nmean                   0.057902                                   0.059318   \nstd                    0.096177                                   0.096382   \nmin                    0.000000                                   0.000000   \n25%                    0.008277                                   0.012291   \n50%                    0.022882                                   0.025813   \n75%                    0.068525                                   0.071967   \nmax                    1.000000                                   1.000000   \n\n       cpes_mobilidade_eletrica_sim_baixa_tensao  \\\ncount                                 546.000000   \nmean                                    0.037612   \nstd                                     0.092031   \nmin                                     0.000000   \n25%                                     0.005155   \n50%                                     0.010309   \n75%                                     0.025773   \nmax                                     1.000000   \n\n       densidade_populacional_pessoas_km2  \ncount                          546.000000  \nmean                             0.042505  \nstd                              0.117282  \nmin                              0.000000  \n25%                              0.002874  \n50%                              0.008486  \n75%                              0.023679  \nmax                              1.000000  ",
      "text/html": "<div>\n<style scoped>\n    .dataframe tbody tr th:only-of-type {\n        vertical-align: middle;\n    }\n\n    .dataframe tbody tr th {\n        vertical-align: top;\n    }\n\n    .dataframe thead th {\n        text-align: right;\n    }\n</style>\n<table border=\"1\" class=\"dataframe\">\n  <thead>\n    <tr style=\"text-align: right;\">\n      <th></th>\n      <th>energia_ativa_baixa_tensao_kwh</th>\n      <th>cpes_domestico_baixa_tensao</th>\n      <th>cpes_iluminacao_publica_baixa_tensao</th>\n      <th>cpes_nao_domestico_baixa_tensao</th>\n      <th>cpes_outros_baixa_tensao</th>\n      <th>cpes_mobilidade_eletrica_nao_baixa_tensao</th>\n      <th>cpes_mobilidade_eletrica_sim_baixa_tensao</th>\n      <th>densidade_populacional_pessoas_km2</th>\n    </tr>\n  </thead>\n  <tbody>\n    <tr>\n      <th>count</th>\n      <td>546.000000</td>\n      <td>546.000000</td>\n      <td>546.000000</td>\n      <td>546.000000</td>\n      <td>546.000000</td>\n      <td>546.000000</td>\n      <td>546.000000</td>\n      <td>546.000000</td>\n    </tr>\n    <tr>\n      <th>mean</th>\n      <td>0.032196</td>\n      <td>0.057469</td>\n      <td>0.176807</td>\n      <td>0.051278</td>\n      <td>0.057902</td>\n      <td>0.059318</td>\n      <td>0.037612</td>\n      <td>0.042505</td>\n    </tr>\n    <tr>\n      <th>std</th>\n      <td>0.067447</td>\n      <td>0.095273</td>\n      <td>0.166070</td>\n      <td>0.086784</td>\n      <td>0.096177</td>\n      <td>0.096382</td>\n      <td>0.092031</td>\n      <td>0.117282</td>\n    </tr>\n    <tr>\n      <th>min</th>\n      <td>0.000000</td>\n      <td>0.000000</td>\n      <td>0.000000</td>\n      <td>0.000000</td>\n      <td>0.000000</td>\n      <td>0.000000</td>\n      <td>0.000000</td>\n      <td>0.000000</td>\n    </tr>\n    <tr>\n      <th>25%</th>\n      <td>0.004771</td>\n      <td>0.011351</td>\n      <td>0.071307</td>\n      <td>0.011654</td>\n      <td>0.008277</td>\n      <td>0.012291</td>\n      <td>0.005155</td>\n      <td>0.002874</td>\n    </tr>\n    <tr>\n      <th>50%</th>\n      <td>0.011356</td>\n      <td>0.025354</td>\n      <td>0.114601</td>\n      <td>0.022800</td>\n      <td>0.022882</td>\n      <td>0.025813</td>\n      <td>0.010309</td>\n      <td>0.008486</td>\n    </tr>\n    <tr>\n      <th>75%</th>\n      <td>0.030029</td>\n      <td>0.065829</td>\n      <td>0.232598</td>\n      <td>0.059463</td>\n      <td>0.068525</td>\n      <td>0.071967</td>\n      <td>0.025773</td>\n      <td>0.023679</td>\n    </tr>\n    <tr>\n      <th>max</th>\n      <td>1.000000</td>\n      <td>1.000000</td>\n      <td>1.000000</td>\n      <td>1.000000</td>\n      <td>1.000000</td>\n      <td>1.000000</td>\n      <td>1.000000</td>\n      <td>1.000000</td>\n    </tr>\n  </tbody>\n</table>\n</div>"
     },
     "execution_count": 39,
     "metadata": {},
     "output_type": "execute_result"
    }
   ],
   "execution_count": 39
  },
  {
   "metadata": {
    "ExecuteTime": {
     "end_time": "2024-05-10T11:44:29.214654Z",
     "start_time": "2024-05-10T11:44:28.878487Z"
    }
   },
   "cell_type": "code",
   "source": [
    "#Guardar no ficheiro\n",
    "file_path = data_path + 'treated/prepared/numeric/normalized/test/dataset-numeric-low-tensions-2024-no-dates-minmax.csv'\n",
    "\n",
    "baixa_tensao_2024_scaled_min_max_df.to_csv(file_path, index=False)\n",
    "\n",
    "print(\"DataFrame guardado em \", file_path)"
   ],
   "id": "b222c82e529b37c2",
   "outputs": [
    {
     "name": "stdout",
     "output_type": "stream",
     "text": [
      "DataFrame guardado em  ../data/treated/prepared/numeric/normalized/test/dataset-numeric-low-tensions-2024-no-dates-minmax.csv\n"
     ]
    }
   ],
   "execution_count": 40
  },
  {
   "metadata": {},
   "cell_type": "markdown",
   "source": [
    "### Normalização MinMax baixa tensão 22/23\n"
   ],
   "id": "fe44c67098832124"
  },
  {
   "metadata": {
    "ExecuteTime": {
     "end_time": "2024-05-10T11:44:29.230711Z",
     "start_time": "2024-05-10T11:44:28.885087Z"
    }
   },
   "cell_type": "code",
   "source": [
    "# Normalização com o MinMax\n",
    "scaler = MinMaxScaler()\n",
    "baixa_tensao_outros_scaled_min_max_df = pd.DataFrame(scaler.fit_transform(baixa_tensao_outros_df), columns=baixa_tensao_outros_df.columns)\n",
    "\n",
    "baixa_tensao_outros_scaled_min_max_df.head()"
   ],
   "id": "6539471e72fa95f9",
   "outputs": [
    {
     "data": {
      "text/plain": "   energia_ativa_baixa_tensao_kwh  cpes_domestico_baixa_tensao  \\\n0                        0.034948                     0.061838   \n1                        0.031338                     0.061870   \n2                        0.032021                     0.061902   \n3                        0.034562                     0.061937   \n4                        0.040293                     0.061957   \n\n   cpes_iluminacao_publica_baixa_tensao  cpes_nao_domestico_baixa_tensao  \\\n0                              0.242991                         0.051942   \n1                              0.242991                         0.051854   \n2                              0.242991                         0.051741   \n3                              0.242991                         0.051816   \n4                              0.243840                         0.051866   \n\n   cpes_outros_baixa_tensao  cpes_mobilidade_eletrica_nao_baixa_tensao  \\\n0                  0.037529                                   0.039942   \n1                  0.036613                                   0.040705   \n2                  0.036613                                   0.041710   \n3                  0.036156                                   0.043251   \n4                  0.037071                                   0.044166   \n\n   cpes_mobilidade_eletrica_sim_baixa_tensao  \\\n0                                   0.005435   \n1                                   0.005435   \n2                                   0.005435   \n3                                   0.005435   \n4                                   0.005435   \n\n   densidade_populacional_pessoas_km2  \n0                            0.006022  \n1                            0.006022  \n2                            0.006022  \n3                            0.006022  \n4                            0.006022  ",
      "text/html": "<div>\n<style scoped>\n    .dataframe tbody tr th:only-of-type {\n        vertical-align: middle;\n    }\n\n    .dataframe tbody tr th {\n        vertical-align: top;\n    }\n\n    .dataframe thead th {\n        text-align: right;\n    }\n</style>\n<table border=\"1\" class=\"dataframe\">\n  <thead>\n    <tr style=\"text-align: right;\">\n      <th></th>\n      <th>energia_ativa_baixa_tensao_kwh</th>\n      <th>cpes_domestico_baixa_tensao</th>\n      <th>cpes_iluminacao_publica_baixa_tensao</th>\n      <th>cpes_nao_domestico_baixa_tensao</th>\n      <th>cpes_outros_baixa_tensao</th>\n      <th>cpes_mobilidade_eletrica_nao_baixa_tensao</th>\n      <th>cpes_mobilidade_eletrica_sim_baixa_tensao</th>\n      <th>densidade_populacional_pessoas_km2</th>\n    </tr>\n  </thead>\n  <tbody>\n    <tr>\n      <th>0</th>\n      <td>0.034948</td>\n      <td>0.061838</td>\n      <td>0.242991</td>\n      <td>0.051942</td>\n      <td>0.037529</td>\n      <td>0.039942</td>\n      <td>0.005435</td>\n      <td>0.006022</td>\n    </tr>\n    <tr>\n      <th>1</th>\n      <td>0.031338</td>\n      <td>0.061870</td>\n      <td>0.242991</td>\n      <td>0.051854</td>\n      <td>0.036613</td>\n      <td>0.040705</td>\n      <td>0.005435</td>\n      <td>0.006022</td>\n    </tr>\n    <tr>\n      <th>2</th>\n      <td>0.032021</td>\n      <td>0.061902</td>\n      <td>0.242991</td>\n      <td>0.051741</td>\n      <td>0.036613</td>\n      <td>0.041710</td>\n      <td>0.005435</td>\n      <td>0.006022</td>\n    </tr>\n    <tr>\n      <th>3</th>\n      <td>0.034562</td>\n      <td>0.061937</td>\n      <td>0.242991</td>\n      <td>0.051816</td>\n      <td>0.036156</td>\n      <td>0.043251</td>\n      <td>0.005435</td>\n      <td>0.006022</td>\n    </tr>\n    <tr>\n      <th>4</th>\n      <td>0.040293</td>\n      <td>0.061957</td>\n      <td>0.243840</td>\n      <td>0.051866</td>\n      <td>0.037071</td>\n      <td>0.044166</td>\n      <td>0.005435</td>\n      <td>0.006022</td>\n    </tr>\n  </tbody>\n</table>\n</div>"
     },
     "execution_count": 41,
     "metadata": {},
     "output_type": "execute_result"
    }
   ],
   "execution_count": 41
  },
  {
   "metadata": {
    "ExecuteTime": {
     "end_time": "2024-05-10T11:44:29.249744Z",
     "start_time": "2024-05-10T11:44:28.891630Z"
    }
   },
   "cell_type": "code",
   "source": [
    "# Estatísticas resumidas antes da normalização\n",
    "baixa_tensao_outros_df.describe()"
   ],
   "id": "6ac5326a755b5a0c",
   "outputs": [
    {
     "data": {
      "text/plain": "       energia_ativa_baixa_tensao_kwh  cpes_domestico_baixa_tensao  \\\ncount                    4.641000e+03                  4641.000000   \nmean                     6.652473e+06                 18795.518854   \nstd                      1.185535e+07                 29390.997527   \nmin                      2.059940e+05                  1042.000000   \n25%                      1.310791e+06                  4581.000000   \n50%                      2.685664e+06                  8936.000000   \n75%                      7.426747e+06                 21405.000000   \nmax                      1.633819e+08                311824.000000   \n\n       cpes_iluminacao_publica_baixa_tensao  cpes_nao_domestico_baixa_tensao  \\\ncount                           4641.000000                      4641.000000   \nmean                             214.017453                      4239.124111   \nstd                              194.044633                      6867.617704   \nmin                                7.000000                       174.000000   \n25%                               91.000000                      1101.000000   \n50%                              141.000000                      1989.000000   \n75%                              280.000000                      4892.000000   \nmax                             1184.000000                     79956.000000   \n\n       cpes_outros_baixa_tensao  cpes_mobilidade_eletrica_nao_baixa_tensao  \\\ncount               4641.000000                                4641.000000   \nmean                 129.467787                               26681.424477   \nstd                  206.654356                               45554.097416   \nmin                    1.000000                                1144.000000   \n25%                   21.000000                                5940.000000   \n50%                   54.000000                               11104.000000   \n75%                  157.000000                               29350.000000   \nmax                 2186.000000                              528158.000000   \n\n       cpes_mobilidade_eletrica_sim_baixa_tensao  \\\ncount                                4641.000000   \nmean                                    9.026287   \nstd                                    23.831036   \nmin                                     0.000000   \n25%                                     2.000000   \n50%                                     2.000000   \n75%                                     6.000000   \nmax                                   368.000000   \n\n       densidade_populacional_pessoas_km2  \ncount                         4641.000000  \nmean                           314.542125  \nstd                            856.169267  \nmin                              4.000000  \n25%                             25.000000  \n50%                             66.000000  \n75%                            177.000000  \nmax                           7310.000000  ",
      "text/html": "<div>\n<style scoped>\n    .dataframe tbody tr th:only-of-type {\n        vertical-align: middle;\n    }\n\n    .dataframe tbody tr th {\n        vertical-align: top;\n    }\n\n    .dataframe thead th {\n        text-align: right;\n    }\n</style>\n<table border=\"1\" class=\"dataframe\">\n  <thead>\n    <tr style=\"text-align: right;\">\n      <th></th>\n      <th>energia_ativa_baixa_tensao_kwh</th>\n      <th>cpes_domestico_baixa_tensao</th>\n      <th>cpes_iluminacao_publica_baixa_tensao</th>\n      <th>cpes_nao_domestico_baixa_tensao</th>\n      <th>cpes_outros_baixa_tensao</th>\n      <th>cpes_mobilidade_eletrica_nao_baixa_tensao</th>\n      <th>cpes_mobilidade_eletrica_sim_baixa_tensao</th>\n      <th>densidade_populacional_pessoas_km2</th>\n    </tr>\n  </thead>\n  <tbody>\n    <tr>\n      <th>count</th>\n      <td>4.641000e+03</td>\n      <td>4641.000000</td>\n      <td>4641.000000</td>\n      <td>4641.000000</td>\n      <td>4641.000000</td>\n      <td>4641.000000</td>\n      <td>4641.000000</td>\n      <td>4641.000000</td>\n    </tr>\n    <tr>\n      <th>mean</th>\n      <td>6.652473e+06</td>\n      <td>18795.518854</td>\n      <td>214.017453</td>\n      <td>4239.124111</td>\n      <td>129.467787</td>\n      <td>26681.424477</td>\n      <td>9.026287</td>\n      <td>314.542125</td>\n    </tr>\n    <tr>\n      <th>std</th>\n      <td>1.185535e+07</td>\n      <td>29390.997527</td>\n      <td>194.044633</td>\n      <td>6867.617704</td>\n      <td>206.654356</td>\n      <td>45554.097416</td>\n      <td>23.831036</td>\n      <td>856.169267</td>\n    </tr>\n    <tr>\n      <th>min</th>\n      <td>2.059940e+05</td>\n      <td>1042.000000</td>\n      <td>7.000000</td>\n      <td>174.000000</td>\n      <td>1.000000</td>\n      <td>1144.000000</td>\n      <td>0.000000</td>\n      <td>4.000000</td>\n    </tr>\n    <tr>\n      <th>25%</th>\n      <td>1.310791e+06</td>\n      <td>4581.000000</td>\n      <td>91.000000</td>\n      <td>1101.000000</td>\n      <td>21.000000</td>\n      <td>5940.000000</td>\n      <td>2.000000</td>\n      <td>25.000000</td>\n    </tr>\n    <tr>\n      <th>50%</th>\n      <td>2.685664e+06</td>\n      <td>8936.000000</td>\n      <td>141.000000</td>\n      <td>1989.000000</td>\n      <td>54.000000</td>\n      <td>11104.000000</td>\n      <td>2.000000</td>\n      <td>66.000000</td>\n    </tr>\n    <tr>\n      <th>75%</th>\n      <td>7.426747e+06</td>\n      <td>21405.000000</td>\n      <td>280.000000</td>\n      <td>4892.000000</td>\n      <td>157.000000</td>\n      <td>29350.000000</td>\n      <td>6.000000</td>\n      <td>177.000000</td>\n    </tr>\n    <tr>\n      <th>max</th>\n      <td>1.633819e+08</td>\n      <td>311824.000000</td>\n      <td>1184.000000</td>\n      <td>79956.000000</td>\n      <td>2186.000000</td>\n      <td>528158.000000</td>\n      <td>368.000000</td>\n      <td>7310.000000</td>\n    </tr>\n  </tbody>\n</table>\n</div>"
     },
     "execution_count": 42,
     "metadata": {},
     "output_type": "execute_result"
    }
   ],
   "execution_count": 42
  },
  {
   "metadata": {
    "ExecuteTime": {
     "end_time": "2024-05-10T11:44:29.262209Z",
     "start_time": "2024-05-10T11:44:28.901853Z"
    }
   },
   "cell_type": "code",
   "source": [
    "# Estatísticas resumidas depois da normalização\n",
    "baixa_tensao_outros_scaled_min_max_df.describe()"
   ],
   "id": "6e61cf9c5af6ebb0",
   "outputs": [
    {
     "data": {
      "text/plain": "       energia_ativa_baixa_tensao_kwh  cpes_domestico_baixa_tensao  \\\ncount                     4641.000000                  4641.000000   \nmean                         0.039506                     0.057125   \nstd                          0.072654                     0.094571   \nmin                          0.000000                     0.000000   \n25%                          0.006771                     0.011387   \n50%                          0.015196                     0.025400   \n75%                          0.044251                     0.065522   \nmax                          1.000000                     1.000000   \n\n       cpes_iluminacao_publica_baixa_tensao  cpes_nao_domestico_baixa_tensao  \\\ncount                           4641.000000                      4641.000000   \nmean                               0.175886                         0.050953   \nstd                                0.164864                         0.086080   \nmin                                0.000000                         0.000000   \n25%                                0.071368                         0.011619   \n50%                                0.113849                         0.022749   \n75%                                0.231946                         0.059136   \nmax                                1.000000                         1.000000   \n\n       cpes_outros_baixa_tensao  cpes_mobilidade_eletrica_nao_baixa_tensao  \\\ncount               4641.000000                                4641.000000   \nmean                   0.058795                                   0.048457   \nstd                    0.094579                                   0.086438   \nmin                    0.000000                                   0.000000   \n25%                    0.009153                                   0.009100   \n50%                    0.024256                                   0.018899   \n75%                    0.071396                                   0.053520   \nmax                    1.000000                                   1.000000   \n\n       cpes_mobilidade_eletrica_sim_baixa_tensao  \\\ncount                                4641.000000   \nmean                                    0.024528   \nstd                                     0.064758   \nmin                                     0.000000   \n25%                                     0.005435   \n50%                                     0.005435   \n75%                                     0.016304   \nmax                                     1.000000   \n\n       densidade_populacional_pessoas_km2  \ncount                         4641.000000  \nmean                             0.042505  \nstd                              0.117187  \nmin                              0.000000  \n25%                              0.002874  \n50%                              0.008486  \n75%                              0.023679  \nmax                              1.000000  ",
      "text/html": "<div>\n<style scoped>\n    .dataframe tbody tr th:only-of-type {\n        vertical-align: middle;\n    }\n\n    .dataframe tbody tr th {\n        vertical-align: top;\n    }\n\n    .dataframe thead th {\n        text-align: right;\n    }\n</style>\n<table border=\"1\" class=\"dataframe\">\n  <thead>\n    <tr style=\"text-align: right;\">\n      <th></th>\n      <th>energia_ativa_baixa_tensao_kwh</th>\n      <th>cpes_domestico_baixa_tensao</th>\n      <th>cpes_iluminacao_publica_baixa_tensao</th>\n      <th>cpes_nao_domestico_baixa_tensao</th>\n      <th>cpes_outros_baixa_tensao</th>\n      <th>cpes_mobilidade_eletrica_nao_baixa_tensao</th>\n      <th>cpes_mobilidade_eletrica_sim_baixa_tensao</th>\n      <th>densidade_populacional_pessoas_km2</th>\n    </tr>\n  </thead>\n  <tbody>\n    <tr>\n      <th>count</th>\n      <td>4641.000000</td>\n      <td>4641.000000</td>\n      <td>4641.000000</td>\n      <td>4641.000000</td>\n      <td>4641.000000</td>\n      <td>4641.000000</td>\n      <td>4641.000000</td>\n      <td>4641.000000</td>\n    </tr>\n    <tr>\n      <th>mean</th>\n      <td>0.039506</td>\n      <td>0.057125</td>\n      <td>0.175886</td>\n      <td>0.050953</td>\n      <td>0.058795</td>\n      <td>0.048457</td>\n      <td>0.024528</td>\n      <td>0.042505</td>\n    </tr>\n    <tr>\n      <th>std</th>\n      <td>0.072654</td>\n      <td>0.094571</td>\n      <td>0.164864</td>\n      <td>0.086080</td>\n      <td>0.094579</td>\n      <td>0.086438</td>\n      <td>0.064758</td>\n      <td>0.117187</td>\n    </tr>\n    <tr>\n      <th>min</th>\n      <td>0.000000</td>\n      <td>0.000000</td>\n      <td>0.000000</td>\n      <td>0.000000</td>\n      <td>0.000000</td>\n      <td>0.000000</td>\n      <td>0.000000</td>\n      <td>0.000000</td>\n    </tr>\n    <tr>\n      <th>25%</th>\n      <td>0.006771</td>\n      <td>0.011387</td>\n      <td>0.071368</td>\n      <td>0.011619</td>\n      <td>0.009153</td>\n      <td>0.009100</td>\n      <td>0.005435</td>\n      <td>0.002874</td>\n    </tr>\n    <tr>\n      <th>50%</th>\n      <td>0.015196</td>\n      <td>0.025400</td>\n      <td>0.113849</td>\n      <td>0.022749</td>\n      <td>0.024256</td>\n      <td>0.018899</td>\n      <td>0.005435</td>\n      <td>0.008486</td>\n    </tr>\n    <tr>\n      <th>75%</th>\n      <td>0.044251</td>\n      <td>0.065522</td>\n      <td>0.231946</td>\n      <td>0.059136</td>\n      <td>0.071396</td>\n      <td>0.053520</td>\n      <td>0.016304</td>\n      <td>0.023679</td>\n    </tr>\n    <tr>\n      <th>max</th>\n      <td>1.000000</td>\n      <td>1.000000</td>\n      <td>1.000000</td>\n      <td>1.000000</td>\n      <td>1.000000</td>\n      <td>1.000000</td>\n      <td>1.000000</td>\n      <td>1.000000</td>\n    </tr>\n  </tbody>\n</table>\n</div>"
     },
     "execution_count": 43,
     "metadata": {},
     "output_type": "execute_result"
    }
   ],
   "execution_count": 43
  },
  {
   "metadata": {
    "ExecuteTime": {
     "end_time": "2024-05-10T11:44:29.413306Z",
     "start_time": "2024-05-10T11:44:28.912147Z"
    }
   },
   "cell_type": "code",
   "source": [
    "#Guardar no ficheiro\n",
    "file_path = data_path + 'treated/prepared/numeric/normalized/train/dataset-numeric-low-tensions-2223-no-dates-minmax.csv'\n",
    "\n",
    "baixa_tensao_outros_scaled_min_max_df.to_csv(file_path, index=False)\n",
    "\n",
    "print(\"DataFrame guardado em \", file_path)"
   ],
   "id": "15a4b256e7bca3f6",
   "outputs": [
    {
     "name": "stdout",
     "output_type": "stream",
     "text": [
      "DataFrame guardado em  ../data/treated/prepared/numeric/normalized/train/dataset-numeric-low-tensions-2223-no-dates-minmax.csv\n"
     ]
    }
   ],
   "execution_count": 44
  },
  {
   "metadata": {},
   "cell_type": "markdown",
   "source": [],
   "id": "44a1a054320c2465"
  },
  {
   "metadata": {},
   "cell_type": "markdown",
   "source": [
    "### Normalização MinMax alta tensão 2024"
   ],
   "id": "1a49e3e31d1ff8a4"
  },
  {
   "metadata": {
    "ExecuteTime": {
     "end_time": "2024-05-10T11:44:29.415501Z",
     "start_time": "2024-05-10T11:44:28.943344Z"
    }
   },
   "cell_type": "code",
   "source": [
    "# Normalização com o MinMax\n",
    "scaler = MinMaxScaler()\n",
    "alta_tensao_2024_scaled_min_max_df = pd.DataFrame(scaler.fit_transform(alta_tensao_2024_df), columns=alta_tensao_2024_df.columns)\n",
    "\n",
    "alta_tensao_2024_scaled_min_max_df.head()"
   ],
   "id": "1a33ff375589d186",
   "outputs": [
    {
     "data": {
      "text/plain": "   energia_ativa_alta_tensao_kwh  cpes_domestico_alta_tensao  \\\n0                       0.056928                         0.0   \n1                       0.019015                         0.0   \n2                       0.002117                         0.0   \n3                       0.000642                         0.0   \n4                       0.001238                         0.0   \n\n   cpes_nao_domestico_alta_tensao  cpes_outros_alta_tensao  \\\n0                        0.104963                      0.0   \n1                        0.104150                      0.0   \n2                        0.013019                      0.0   \n3                        0.013019                      0.0   \n4                        0.030919                      0.0   \n\n   densidade_populacional_pessoas_km2  \n0                            0.006022  \n1                            0.006022  \n2                            0.003011  \n3                            0.003011  \n4                            0.000684  ",
      "text/html": "<div>\n<style scoped>\n    .dataframe tbody tr th:only-of-type {\n        vertical-align: middle;\n    }\n\n    .dataframe tbody tr th {\n        vertical-align: top;\n    }\n\n    .dataframe thead th {\n        text-align: right;\n    }\n</style>\n<table border=\"1\" class=\"dataframe\">\n  <thead>\n    <tr style=\"text-align: right;\">\n      <th></th>\n      <th>energia_ativa_alta_tensao_kwh</th>\n      <th>cpes_domestico_alta_tensao</th>\n      <th>cpes_nao_domestico_alta_tensao</th>\n      <th>cpes_outros_alta_tensao</th>\n      <th>densidade_populacional_pessoas_km2</th>\n    </tr>\n  </thead>\n  <tbody>\n    <tr>\n      <th>0</th>\n      <td>0.056928</td>\n      <td>0.0</td>\n      <td>0.104963</td>\n      <td>0.0</td>\n      <td>0.006022</td>\n    </tr>\n    <tr>\n      <th>1</th>\n      <td>0.019015</td>\n      <td>0.0</td>\n      <td>0.104150</td>\n      <td>0.0</td>\n      <td>0.006022</td>\n    </tr>\n    <tr>\n      <th>2</th>\n      <td>0.002117</td>\n      <td>0.0</td>\n      <td>0.013019</td>\n      <td>0.0</td>\n      <td>0.003011</td>\n    </tr>\n    <tr>\n      <th>3</th>\n      <td>0.000642</td>\n      <td>0.0</td>\n      <td>0.013019</td>\n      <td>0.0</td>\n      <td>0.003011</td>\n    </tr>\n    <tr>\n      <th>4</th>\n      <td>0.001238</td>\n      <td>0.0</td>\n      <td>0.030919</td>\n      <td>0.0</td>\n      <td>0.000684</td>\n    </tr>\n  </tbody>\n</table>\n</div>"
     },
     "execution_count": 45,
     "metadata": {},
     "output_type": "execute_result"
    }
   ],
   "execution_count": 45
  },
  {
   "metadata": {
    "ExecuteTime": {
     "end_time": "2024-05-10T11:44:29.417759Z",
     "start_time": "2024-05-10T11:44:28.945866Z"
    }
   },
   "cell_type": "code",
   "source": [
    "# Estatísticas resumidas antes da normalização\n",
    "alta_tensao_2024_df.describe()"
   ],
   "id": "1fa2434103b7751",
   "outputs": [
    {
     "data": {
      "text/plain": "       energia_ativa_alta_tensao_kwh  cpes_domestico_alta_tensao  \\\ncount                   5.460000e+02                  546.000000   \nmean                    4.366219e+06                    0.047619   \nstd                     1.108600e+07                    0.245181   \nmin                     0.000000e+00                    0.000000   \n25%                     2.135982e+05                    0.000000   \n50%                     8.463970e+05                    0.000000   \n75%                     3.183322e+06                    0.000000   \nmax                     1.118887e+08                    2.000000   \n\n       cpes_nao_domestico_alta_tensao  cpes_outros_alta_tensao  \\\ncount                      546.000000                    546.0   \nmean                        96.485348                      0.0   \nstd                        122.640374                      0.0   \nmin                          0.000000                      0.0   \n25%                         29.000000                      0.0   \n50%                         52.000000                      0.0   \n75%                        119.000000                      0.0   \nmax                       1229.000000                      0.0   \n\n       densidade_populacional_pessoas_km2  \ncount                          546.000000  \nmean                           314.542125  \nstd                            856.862054  \nmin                              4.000000  \n25%                             25.000000  \n50%                             66.000000  \n75%                            177.000000  \nmax                           7310.000000  ",
      "text/html": "<div>\n<style scoped>\n    .dataframe tbody tr th:only-of-type {\n        vertical-align: middle;\n    }\n\n    .dataframe tbody tr th {\n        vertical-align: top;\n    }\n\n    .dataframe thead th {\n        text-align: right;\n    }\n</style>\n<table border=\"1\" class=\"dataframe\">\n  <thead>\n    <tr style=\"text-align: right;\">\n      <th></th>\n      <th>energia_ativa_alta_tensao_kwh</th>\n      <th>cpes_domestico_alta_tensao</th>\n      <th>cpes_nao_domestico_alta_tensao</th>\n      <th>cpes_outros_alta_tensao</th>\n      <th>densidade_populacional_pessoas_km2</th>\n    </tr>\n  </thead>\n  <tbody>\n    <tr>\n      <th>count</th>\n      <td>5.460000e+02</td>\n      <td>546.000000</td>\n      <td>546.000000</td>\n      <td>546.0</td>\n      <td>546.000000</td>\n    </tr>\n    <tr>\n      <th>mean</th>\n      <td>4.366219e+06</td>\n      <td>0.047619</td>\n      <td>96.485348</td>\n      <td>0.0</td>\n      <td>314.542125</td>\n    </tr>\n    <tr>\n      <th>std</th>\n      <td>1.108600e+07</td>\n      <td>0.245181</td>\n      <td>122.640374</td>\n      <td>0.0</td>\n      <td>856.862054</td>\n    </tr>\n    <tr>\n      <th>min</th>\n      <td>0.000000e+00</td>\n      <td>0.000000</td>\n      <td>0.000000</td>\n      <td>0.0</td>\n      <td>4.000000</td>\n    </tr>\n    <tr>\n      <th>25%</th>\n      <td>2.135982e+05</td>\n      <td>0.000000</td>\n      <td>29.000000</td>\n      <td>0.0</td>\n      <td>25.000000</td>\n    </tr>\n    <tr>\n      <th>50%</th>\n      <td>8.463970e+05</td>\n      <td>0.000000</td>\n      <td>52.000000</td>\n      <td>0.0</td>\n      <td>66.000000</td>\n    </tr>\n    <tr>\n      <th>75%</th>\n      <td>3.183322e+06</td>\n      <td>0.000000</td>\n      <td>119.000000</td>\n      <td>0.0</td>\n      <td>177.000000</td>\n    </tr>\n    <tr>\n      <th>max</th>\n      <td>1.118887e+08</td>\n      <td>2.000000</td>\n      <td>1229.000000</td>\n      <td>0.0</td>\n      <td>7310.000000</td>\n    </tr>\n  </tbody>\n</table>\n</div>"
     },
     "execution_count": 46,
     "metadata": {},
     "output_type": "execute_result"
    }
   ],
   "execution_count": 46
  },
  {
   "metadata": {
    "ExecuteTime": {
     "end_time": "2024-05-10T11:44:29.449869Z",
     "start_time": "2024-05-10T11:44:28.954710Z"
    }
   },
   "cell_type": "code",
   "source": [
    "# Estatísticas resumidas depois da normalização\n",
    "alta_tensao_2024_scaled_min_max_df.describe()"
   ],
   "id": "31339fcc92b3169",
   "outputs": [
    {
     "data": {
      "text/plain": "       energia_ativa_alta_tensao_kwh  cpes_domestico_alta_tensao  \\\ncount                     546.000000                   546.00000   \nmean                        0.039023                     0.02381   \nstd                         0.099081                     0.12259   \nmin                         0.000000                     0.00000   \n25%                         0.001909                     0.00000   \n50%                         0.007565                     0.00000   \n75%                         0.028451                     0.00000   \nmax                         1.000000                     1.00000   \n\n       cpes_nao_domestico_alta_tensao  cpes_outros_alta_tensao  \\\ncount                      546.000000                    546.0   \nmean                         0.078507                      0.0   \nstd                          0.099789                      0.0   \nmin                          0.000000                      0.0   \n25%                          0.023596                      0.0   \n50%                          0.042311                      0.0   \n75%                          0.096827                      0.0   \nmax                          1.000000                      0.0   \n\n       densidade_populacional_pessoas_km2  \ncount                          546.000000  \nmean                             0.042505  \nstd                              0.117282  \nmin                              0.000000  \n25%                              0.002874  \n50%                              0.008486  \n75%                              0.023679  \nmax                              1.000000  ",
      "text/html": "<div>\n<style scoped>\n    .dataframe tbody tr th:only-of-type {\n        vertical-align: middle;\n    }\n\n    .dataframe tbody tr th {\n        vertical-align: top;\n    }\n\n    .dataframe thead th {\n        text-align: right;\n    }\n</style>\n<table border=\"1\" class=\"dataframe\">\n  <thead>\n    <tr style=\"text-align: right;\">\n      <th></th>\n      <th>energia_ativa_alta_tensao_kwh</th>\n      <th>cpes_domestico_alta_tensao</th>\n      <th>cpes_nao_domestico_alta_tensao</th>\n      <th>cpes_outros_alta_tensao</th>\n      <th>densidade_populacional_pessoas_km2</th>\n    </tr>\n  </thead>\n  <tbody>\n    <tr>\n      <th>count</th>\n      <td>546.000000</td>\n      <td>546.00000</td>\n      <td>546.000000</td>\n      <td>546.0</td>\n      <td>546.000000</td>\n    </tr>\n    <tr>\n      <th>mean</th>\n      <td>0.039023</td>\n      <td>0.02381</td>\n      <td>0.078507</td>\n      <td>0.0</td>\n      <td>0.042505</td>\n    </tr>\n    <tr>\n      <th>std</th>\n      <td>0.099081</td>\n      <td>0.12259</td>\n      <td>0.099789</td>\n      <td>0.0</td>\n      <td>0.117282</td>\n    </tr>\n    <tr>\n      <th>min</th>\n      <td>0.000000</td>\n      <td>0.00000</td>\n      <td>0.000000</td>\n      <td>0.0</td>\n      <td>0.000000</td>\n    </tr>\n    <tr>\n      <th>25%</th>\n      <td>0.001909</td>\n      <td>0.00000</td>\n      <td>0.023596</td>\n      <td>0.0</td>\n      <td>0.002874</td>\n    </tr>\n    <tr>\n      <th>50%</th>\n      <td>0.007565</td>\n      <td>0.00000</td>\n      <td>0.042311</td>\n      <td>0.0</td>\n      <td>0.008486</td>\n    </tr>\n    <tr>\n      <th>75%</th>\n      <td>0.028451</td>\n      <td>0.00000</td>\n      <td>0.096827</td>\n      <td>0.0</td>\n      <td>0.023679</td>\n    </tr>\n    <tr>\n      <th>max</th>\n      <td>1.000000</td>\n      <td>1.00000</td>\n      <td>1.000000</td>\n      <td>0.0</td>\n      <td>1.000000</td>\n    </tr>\n  </tbody>\n</table>\n</div>"
     },
     "execution_count": 47,
     "metadata": {},
     "output_type": "execute_result"
    }
   ],
   "execution_count": 47
  },
  {
   "metadata": {
    "ExecuteTime": {
     "end_time": "2024-05-10T11:44:29.452025Z",
     "start_time": "2024-05-10T11:44:28.962173Z"
    }
   },
   "cell_type": "code",
   "source": [
    "#Guardar no ficheiro\n",
    "file_path = data_path + 'treated/prepared/numeric/normalized/test/dataset-numeric-high-tensions-2024-no-dates-minmax.csv'\n",
    "\n",
    "alta_tensao_2024_scaled_min_max_df.to_csv(file_path, index=False)\n",
    "\n",
    "print(\"DataFrame guardado em \", file_path)"
   ],
   "id": "61317b2d5b33e651",
   "outputs": [
    {
     "name": "stdout",
     "output_type": "stream",
     "text": [
      "DataFrame guardado em  ../data/treated/prepared/numeric/normalized/test/dataset-numeric-high-tensions-2024-no-dates-minmax.csv\n"
     ]
    }
   ],
   "execution_count": 48
  },
  {
   "metadata": {},
   "cell_type": "markdown",
   "source": [
    "### Normalização MinMax alta tensão 22/23"
   ],
   "id": "c4787791fa19cd8a"
  },
  {
   "metadata": {
    "ExecuteTime": {
     "end_time": "2024-05-10T11:44:29.453939Z",
     "start_time": "2024-05-10T11:44:28.967259Z"
    }
   },
   "cell_type": "code",
   "source": [
    "# Normalização com o MinMax\n",
    "scaler = MinMaxScaler()\n",
    "alta_tensao_outros_scaled_min_max_df = pd.DataFrame(scaler.fit_transform(alta_tensao_outros_df), columns=alta_tensao_outros_df.columns)\n",
    "\n",
    "alta_tensao_outros_scaled_min_max_df.head()"
   ],
   "id": "ef7093ac26a9c895",
   "outputs": [
    {
     "data": {
      "text/plain": "   energia_ativa_alta_tensao_kwh  cpes_domestico_alta_tensao  \\\n0                       0.046047                         0.0   \n1                       0.048138                         0.0   \n2                       0.049713                         0.0   \n3                       0.046591                         0.0   \n4                       0.041206                         0.0   \n\n   cpes_nao_domestico_alta_tensao  cpes_outros_alta_tensao  \\\n0                        0.109477                      0.0   \n1                        0.109477                      0.0   \n2                        0.109477                      0.0   \n3                        0.109477                      0.0   \n4                        0.109477                      0.0   \n\n   densidade_populacional_pessoas_km2  \n0                            0.006022  \n1                            0.006022  \n2                            0.006022  \n3                            0.006022  \n4                            0.006022  ",
      "text/html": "<div>\n<style scoped>\n    .dataframe tbody tr th:only-of-type {\n        vertical-align: middle;\n    }\n\n    .dataframe tbody tr th {\n        vertical-align: top;\n    }\n\n    .dataframe thead th {\n        text-align: right;\n    }\n</style>\n<table border=\"1\" class=\"dataframe\">\n  <thead>\n    <tr style=\"text-align: right;\">\n      <th></th>\n      <th>energia_ativa_alta_tensao_kwh</th>\n      <th>cpes_domestico_alta_tensao</th>\n      <th>cpes_nao_domestico_alta_tensao</th>\n      <th>cpes_outros_alta_tensao</th>\n      <th>densidade_populacional_pessoas_km2</th>\n    </tr>\n  </thead>\n  <tbody>\n    <tr>\n      <th>0</th>\n      <td>0.046047</td>\n      <td>0.0</td>\n      <td>0.109477</td>\n      <td>0.0</td>\n      <td>0.006022</td>\n    </tr>\n    <tr>\n      <th>1</th>\n      <td>0.048138</td>\n      <td>0.0</td>\n      <td>0.109477</td>\n      <td>0.0</td>\n      <td>0.006022</td>\n    </tr>\n    <tr>\n      <th>2</th>\n      <td>0.049713</td>\n      <td>0.0</td>\n      <td>0.109477</td>\n      <td>0.0</td>\n      <td>0.006022</td>\n    </tr>\n    <tr>\n      <th>3</th>\n      <td>0.046591</td>\n      <td>0.0</td>\n      <td>0.109477</td>\n      <td>0.0</td>\n      <td>0.006022</td>\n    </tr>\n    <tr>\n      <th>4</th>\n      <td>0.041206</td>\n      <td>0.0</td>\n      <td>0.109477</td>\n      <td>0.0</td>\n      <td>0.006022</td>\n    </tr>\n  </tbody>\n</table>\n</div>"
     },
     "execution_count": 49,
     "metadata": {},
     "output_type": "execute_result"
    }
   ],
   "execution_count": 49
  },
  {
   "metadata": {
    "ExecuteTime": {
     "end_time": "2024-05-10T11:44:29.475351Z",
     "start_time": "2024-05-10T11:44:28.973176Z"
    }
   },
   "cell_type": "code",
   "source": [
    "# Estatísticas resumidas antes da normalização\n",
    "alta_tensao_outros_df.describe()"
   ],
   "id": "e8b610848671e4ad",
   "outputs": [
    {
     "data": {
      "text/plain": "       energia_ativa_alta_tensao_kwh  cpes_domestico_alta_tensao  \\\ncount                   4.641000e+03                 4641.000000   \nmean                    7.185369e+06                    0.039647   \nstd                     1.456594e+07                    0.206940   \nmin                     0.000000e+00                    0.000000   \n25%                     4.570540e+05                    0.000000   \n50%                     1.955336e+06                    0.000000   \n75%                     6.360625e+06                    0.000000   \nmax                     1.279470e+08                    2.000000   \n\n       cpes_nao_domestico_alta_tensao  cpes_outros_alta_tensao  \\\ncount                     4641.000000              4641.000000   \nmean                        95.380952                 0.408533   \nstd                        121.117813                 4.304804   \nmin                          0.000000                 0.000000   \n25%                         28.000000                 0.000000   \n50%                         51.000000                 0.000000   \n75%                        119.000000                 0.000000   \nmax                       1224.000000                75.000000   \n\n       densidade_populacional_pessoas_km2  \ncount                         4641.000000  \nmean                           314.542125  \nstd                            856.169267  \nmin                              4.000000  \n25%                             25.000000  \n50%                             66.000000  \n75%                            177.000000  \nmax                           7310.000000  ",
      "text/html": "<div>\n<style scoped>\n    .dataframe tbody tr th:only-of-type {\n        vertical-align: middle;\n    }\n\n    .dataframe tbody tr th {\n        vertical-align: top;\n    }\n\n    .dataframe thead th {\n        text-align: right;\n    }\n</style>\n<table border=\"1\" class=\"dataframe\">\n  <thead>\n    <tr style=\"text-align: right;\">\n      <th></th>\n      <th>energia_ativa_alta_tensao_kwh</th>\n      <th>cpes_domestico_alta_tensao</th>\n      <th>cpes_nao_domestico_alta_tensao</th>\n      <th>cpes_outros_alta_tensao</th>\n      <th>densidade_populacional_pessoas_km2</th>\n    </tr>\n  </thead>\n  <tbody>\n    <tr>\n      <th>count</th>\n      <td>4.641000e+03</td>\n      <td>4641.000000</td>\n      <td>4641.000000</td>\n      <td>4641.000000</td>\n      <td>4641.000000</td>\n    </tr>\n    <tr>\n      <th>mean</th>\n      <td>7.185369e+06</td>\n      <td>0.039647</td>\n      <td>95.380952</td>\n      <td>0.408533</td>\n      <td>314.542125</td>\n    </tr>\n    <tr>\n      <th>std</th>\n      <td>1.456594e+07</td>\n      <td>0.206940</td>\n      <td>121.117813</td>\n      <td>4.304804</td>\n      <td>856.169267</td>\n    </tr>\n    <tr>\n      <th>min</th>\n      <td>0.000000e+00</td>\n      <td>0.000000</td>\n      <td>0.000000</td>\n      <td>0.000000</td>\n      <td>4.000000</td>\n    </tr>\n    <tr>\n      <th>25%</th>\n      <td>4.570540e+05</td>\n      <td>0.000000</td>\n      <td>28.000000</td>\n      <td>0.000000</td>\n      <td>25.000000</td>\n    </tr>\n    <tr>\n      <th>50%</th>\n      <td>1.955336e+06</td>\n      <td>0.000000</td>\n      <td>51.000000</td>\n      <td>0.000000</td>\n      <td>66.000000</td>\n    </tr>\n    <tr>\n      <th>75%</th>\n      <td>6.360625e+06</td>\n      <td>0.000000</td>\n      <td>119.000000</td>\n      <td>0.000000</td>\n      <td>177.000000</td>\n    </tr>\n    <tr>\n      <th>max</th>\n      <td>1.279470e+08</td>\n      <td>2.000000</td>\n      <td>1224.000000</td>\n      <td>75.000000</td>\n      <td>7310.000000</td>\n    </tr>\n  </tbody>\n</table>\n</div>"
     },
     "execution_count": 50,
     "metadata": {},
     "output_type": "execute_result"
    }
   ],
   "execution_count": 50
  },
  {
   "metadata": {
    "ExecuteTime": {
     "end_time": "2024-05-10T11:44:29.488488Z",
     "start_time": "2024-05-10T11:44:28.980105Z"
    }
   },
   "cell_type": "code",
   "source": [
    "# Estatísticas resumidas depois da normalização\n",
    "alta_tensao_outros_scaled_min_max_df.describe()"
   ],
   "id": "be7f1021fcfc6df8",
   "outputs": [
    {
     "data": {
      "text/plain": "       energia_ativa_alta_tensao_kwh  cpes_domestico_alta_tensao  \\\ncount                    4641.000000                 4641.000000   \nmean                        0.056159                    0.019823   \nstd                         0.113844                    0.103470   \nmin                         0.000000                    0.000000   \n25%                         0.003572                    0.000000   \n50%                         0.015282                    0.000000   \n75%                         0.049713                    0.000000   \nmax                         1.000000                    1.000000   \n\n       cpes_nao_domestico_alta_tensao  cpes_outros_alta_tensao  \\\ncount                     4641.000000              4641.000000   \nmean                         0.077926                 0.005447   \nstd                          0.098952                 0.057397   \nmin                          0.000000                 0.000000   \n25%                          0.022876                 0.000000   \n50%                          0.041667                 0.000000   \n75%                          0.097222                 0.000000   \nmax                          1.000000                 1.000000   \n\n       densidade_populacional_pessoas_km2  \ncount                         4641.000000  \nmean                             0.042505  \nstd                              0.117187  \nmin                              0.000000  \n25%                              0.002874  \n50%                              0.008486  \n75%                              0.023679  \nmax                              1.000000  ",
      "text/html": "<div>\n<style scoped>\n    .dataframe tbody tr th:only-of-type {\n        vertical-align: middle;\n    }\n\n    .dataframe tbody tr th {\n        vertical-align: top;\n    }\n\n    .dataframe thead th {\n        text-align: right;\n    }\n</style>\n<table border=\"1\" class=\"dataframe\">\n  <thead>\n    <tr style=\"text-align: right;\">\n      <th></th>\n      <th>energia_ativa_alta_tensao_kwh</th>\n      <th>cpes_domestico_alta_tensao</th>\n      <th>cpes_nao_domestico_alta_tensao</th>\n      <th>cpes_outros_alta_tensao</th>\n      <th>densidade_populacional_pessoas_km2</th>\n    </tr>\n  </thead>\n  <tbody>\n    <tr>\n      <th>count</th>\n      <td>4641.000000</td>\n      <td>4641.000000</td>\n      <td>4641.000000</td>\n      <td>4641.000000</td>\n      <td>4641.000000</td>\n    </tr>\n    <tr>\n      <th>mean</th>\n      <td>0.056159</td>\n      <td>0.019823</td>\n      <td>0.077926</td>\n      <td>0.005447</td>\n      <td>0.042505</td>\n    </tr>\n    <tr>\n      <th>std</th>\n      <td>0.113844</td>\n      <td>0.103470</td>\n      <td>0.098952</td>\n      <td>0.057397</td>\n      <td>0.117187</td>\n    </tr>\n    <tr>\n      <th>min</th>\n      <td>0.000000</td>\n      <td>0.000000</td>\n      <td>0.000000</td>\n      <td>0.000000</td>\n      <td>0.000000</td>\n    </tr>\n    <tr>\n      <th>25%</th>\n      <td>0.003572</td>\n      <td>0.000000</td>\n      <td>0.022876</td>\n      <td>0.000000</td>\n      <td>0.002874</td>\n    </tr>\n    <tr>\n      <th>50%</th>\n      <td>0.015282</td>\n      <td>0.000000</td>\n      <td>0.041667</td>\n      <td>0.000000</td>\n      <td>0.008486</td>\n    </tr>\n    <tr>\n      <th>75%</th>\n      <td>0.049713</td>\n      <td>0.000000</td>\n      <td>0.097222</td>\n      <td>0.000000</td>\n      <td>0.023679</td>\n    </tr>\n    <tr>\n      <th>max</th>\n      <td>1.000000</td>\n      <td>1.000000</td>\n      <td>1.000000</td>\n      <td>1.000000</td>\n      <td>1.000000</td>\n    </tr>\n  </tbody>\n</table>\n</div>"
     },
     "execution_count": 51,
     "metadata": {},
     "output_type": "execute_result"
    }
   ],
   "execution_count": 51
  },
  {
   "metadata": {
    "ExecuteTime": {
     "end_time": "2024-05-10T11:44:29.491034Z",
     "start_time": "2024-05-10T11:44:28.987264Z"
    }
   },
   "cell_type": "code",
   "source": [
    "#Guardar no ficheiro\n",
    "file_path = data_path + 'treated/prepared/numeric/normalized/train/dataset-numeric-high-tensions-2223-no-dates-minmax.csv'\n",
    "\n",
    "alta_tensao_outros_scaled_min_max_df.to_csv(file_path, index=False)\n",
    "\n",
    "print(\"DataFrame guardado em \", file_path)"
   ],
   "id": "c6d76c51bf0a10ae",
   "outputs": [
    {
     "name": "stdout",
     "output_type": "stream",
     "text": [
      "DataFrame guardado em  ../data/treated/prepared/numeric/normalized/train/dataset-numeric-high-tensions-2223-no-dates-minmax.csv\n"
     ]
    }
   ],
   "execution_count": 52
  },
  {
   "metadata": {},
   "cell_type": "markdown",
   "source": [
    "## Normalização z-Score"
   ],
   "id": "82e0dc596a43819b"
  },
  {
   "metadata": {},
   "cell_type": "markdown",
   "source": [
    "### Normalização z-Score das baixas tensões"
   ],
   "id": "52154e2f9004a31d"
  },
  {
   "metadata": {
    "ExecuteTime": {
     "end_time": "2024-05-10T11:44:29.493028Z",
     "start_time": "2024-05-10T11:44:29.002650Z"
    }
   },
   "cell_type": "code",
   "source": [
    "# Normalização com o Z-Score\n",
    "scaler = StandardScaler()\n",
    "baixa_tensao_scaled_z_score_df = pd.DataFrame(scaler.fit_transform(baixa_tensao_df), columns=baixa_tensao_df.columns)\n",
    "\n",
    "baixa_tensao_scaled_z_score_df.head()"
   ],
   "id": "b13948d455820e75",
   "outputs": [
    {
     "data": {
      "text/plain": "   energia_ativa_baixa_tensao_kwh  cpes_domestico_baixa_tensao  \\\n0                       -0.051784                     0.049355   \n1                       -0.101805                     0.049695   \n2                       -0.092336                     0.050035   \n3                       -0.057131                     0.050409   \n4                        0.022253                     0.050613   \n\n   cpes_iluminacao_publica_baixa_tensao  cpes_nao_domestico_baixa_tensao  \\\n0                              0.406076                         0.010942   \n1                              0.406076                         0.009923   \n2                              0.406076                         0.008614   \n3                              0.406076                         0.009487   \n4                              0.411226                         0.010069   \n\n   cpes_outros_baixa_tensao  cpes_mobilidade_eletrica_nao_baixa_tensao  \\\n0                 -0.221023                                  -0.112102   \n1                 -0.230746                                  -0.103397   \n2                 -0.230746                                  -0.091921   \n3                 -0.235608                                  -0.074339   \n4                 -0.225885                                  -0.063902   \n\n   cpes_mobilidade_eletrica_sim_baixa_tensao  \\\n0                                  -0.299753   \n1                                  -0.299753   \n2                                  -0.299753   \n3                                  -0.299753   \n4                                  -0.299753   \n\n   densidade_populacional_pessoas_km2  \n0                           -0.311353  \n1                           -0.311353  \n2                           -0.311353  \n3                           -0.311353  \n4                           -0.311353  ",
      "text/html": "<div>\n<style scoped>\n    .dataframe tbody tr th:only-of-type {\n        vertical-align: middle;\n    }\n\n    .dataframe tbody tr th {\n        vertical-align: top;\n    }\n\n    .dataframe thead th {\n        text-align: right;\n    }\n</style>\n<table border=\"1\" class=\"dataframe\">\n  <thead>\n    <tr style=\"text-align: right;\">\n      <th></th>\n      <th>energia_ativa_baixa_tensao_kwh</th>\n      <th>cpes_domestico_baixa_tensao</th>\n      <th>cpes_iluminacao_publica_baixa_tensao</th>\n      <th>cpes_nao_domestico_baixa_tensao</th>\n      <th>cpes_outros_baixa_tensao</th>\n      <th>cpes_mobilidade_eletrica_nao_baixa_tensao</th>\n      <th>cpes_mobilidade_eletrica_sim_baixa_tensao</th>\n      <th>densidade_populacional_pessoas_km2</th>\n    </tr>\n  </thead>\n  <tbody>\n    <tr>\n      <th>0</th>\n      <td>-0.051784</td>\n      <td>0.049355</td>\n      <td>0.406076</td>\n      <td>0.010942</td>\n      <td>-0.221023</td>\n      <td>-0.112102</td>\n      <td>-0.299753</td>\n      <td>-0.311353</td>\n    </tr>\n    <tr>\n      <th>1</th>\n      <td>-0.101805</td>\n      <td>0.049695</td>\n      <td>0.406076</td>\n      <td>0.009923</td>\n      <td>-0.230746</td>\n      <td>-0.103397</td>\n      <td>-0.299753</td>\n      <td>-0.311353</td>\n    </tr>\n    <tr>\n      <th>2</th>\n      <td>-0.092336</td>\n      <td>0.050035</td>\n      <td>0.406076</td>\n      <td>0.008614</td>\n      <td>-0.230746</td>\n      <td>-0.091921</td>\n      <td>-0.299753</td>\n      <td>-0.311353</td>\n    </tr>\n    <tr>\n      <th>3</th>\n      <td>-0.057131</td>\n      <td>0.050409</td>\n      <td>0.406076</td>\n      <td>0.009487</td>\n      <td>-0.235608</td>\n      <td>-0.074339</td>\n      <td>-0.299753</td>\n      <td>-0.311353</td>\n    </tr>\n    <tr>\n      <th>4</th>\n      <td>0.022253</td>\n      <td>0.050613</td>\n      <td>0.411226</td>\n      <td>0.010069</td>\n      <td>-0.225885</td>\n      <td>-0.063902</td>\n      <td>-0.299753</td>\n      <td>-0.311353</td>\n    </tr>\n  </tbody>\n</table>\n</div>"
     },
     "execution_count": 53,
     "metadata": {},
     "output_type": "execute_result"
    }
   ],
   "execution_count": 53
  },
  {
   "metadata": {
    "ExecuteTime": {
     "end_time": "2024-05-10T11:44:29.519636Z",
     "start_time": "2024-05-10T11:44:29.009327Z"
    }
   },
   "cell_type": "code",
   "source": [
    "# Estatísticas resumidas antes da normalização\n",
    "baixa_tensao_df.describe()"
   ],
   "id": "159f7299390e83e6",
   "outputs": [
    {
     "data": {
      "text/plain": "       energia_ativa_baixa_tensao_kwh  cpes_domestico_baixa_tensao  \\\ncount                    5.187000e+03                  5187.000000   \nmean                     6.518676e+06                 18808.416426   \nstd                      1.177996e+07                 29413.928256   \nmin                      1.000680e+05                  1042.000000   \n25%                      1.266728e+06                  4580.500000   \n50%                      2.625888e+06                  8935.000000   \n75%                      7.113475e+06                 21437.000000   \nmax                      1.641353e+08                312095.000000   \n\n       cpes_iluminacao_publica_baixa_tensao  cpes_nao_domestico_baixa_tensao  \\\ncount                           5187.000000                      5187.000000   \nmean                             214.150183                      4242.803933   \nstd                              194.193563                      6873.077695   \nmin                                7.000000                       174.000000   \n25%                               91.000000                      1101.000000   \n50%                              141.000000                      1990.000000   \n75%                              280.000000                      4900.000000   \nmax                             1185.000000                     79984.000000   \n\n       cpes_outros_baixa_tensao  cpes_mobilidade_eletrica_nao_baixa_tensao  \\\ncount               5187.000000                                5187.000000   \nmean                 128.463852                               27371.181415   \nstd                  205.717131                               46187.414907   \nmin                    1.000000                                1144.000000   \n25%                   20.500000                                6151.000000   \n50%                   53.000000                               11544.000000   \n75%                  155.000000                               30042.000000   \nmax                 2186.000000                              530262.000000   \n\n       cpes_mobilidade_eletrica_sim_baixa_tensao  \\\ncount                                5187.000000   \nmean                                    9.612300   \nstd                                    25.397713   \nmin                                     0.000000   \n25%                                     2.000000   \n50%                                     2.000000   \n75%                                     6.000000   \nmax                                   388.000000   \n\n       densidade_populacional_pessoas_km2  \ncount                         5187.000000  \nmean                           314.542125  \nstd                            856.159555  \nmin                              4.000000  \n25%                             25.000000  \n50%                             66.000000  \n75%                            177.000000  \nmax                           7310.000000  ",
      "text/html": "<div>\n<style scoped>\n    .dataframe tbody tr th:only-of-type {\n        vertical-align: middle;\n    }\n\n    .dataframe tbody tr th {\n        vertical-align: top;\n    }\n\n    .dataframe thead th {\n        text-align: right;\n    }\n</style>\n<table border=\"1\" class=\"dataframe\">\n  <thead>\n    <tr style=\"text-align: right;\">\n      <th></th>\n      <th>energia_ativa_baixa_tensao_kwh</th>\n      <th>cpes_domestico_baixa_tensao</th>\n      <th>cpes_iluminacao_publica_baixa_tensao</th>\n      <th>cpes_nao_domestico_baixa_tensao</th>\n      <th>cpes_outros_baixa_tensao</th>\n      <th>cpes_mobilidade_eletrica_nao_baixa_tensao</th>\n      <th>cpes_mobilidade_eletrica_sim_baixa_tensao</th>\n      <th>densidade_populacional_pessoas_km2</th>\n    </tr>\n  </thead>\n  <tbody>\n    <tr>\n      <th>count</th>\n      <td>5.187000e+03</td>\n      <td>5187.000000</td>\n      <td>5187.000000</td>\n      <td>5187.000000</td>\n      <td>5187.000000</td>\n      <td>5187.000000</td>\n      <td>5187.000000</td>\n      <td>5187.000000</td>\n    </tr>\n    <tr>\n      <th>mean</th>\n      <td>6.518676e+06</td>\n      <td>18808.416426</td>\n      <td>214.150183</td>\n      <td>4242.803933</td>\n      <td>128.463852</td>\n      <td>27371.181415</td>\n      <td>9.612300</td>\n      <td>314.542125</td>\n    </tr>\n    <tr>\n      <th>std</th>\n      <td>1.177996e+07</td>\n      <td>29413.928256</td>\n      <td>194.193563</td>\n      <td>6873.077695</td>\n      <td>205.717131</td>\n      <td>46187.414907</td>\n      <td>25.397713</td>\n      <td>856.159555</td>\n    </tr>\n    <tr>\n      <th>min</th>\n      <td>1.000680e+05</td>\n      <td>1042.000000</td>\n      <td>7.000000</td>\n      <td>174.000000</td>\n      <td>1.000000</td>\n      <td>1144.000000</td>\n      <td>0.000000</td>\n      <td>4.000000</td>\n    </tr>\n    <tr>\n      <th>25%</th>\n      <td>1.266728e+06</td>\n      <td>4580.500000</td>\n      <td>91.000000</td>\n      <td>1101.000000</td>\n      <td>20.500000</td>\n      <td>6151.000000</td>\n      <td>2.000000</td>\n      <td>25.000000</td>\n    </tr>\n    <tr>\n      <th>50%</th>\n      <td>2.625888e+06</td>\n      <td>8935.000000</td>\n      <td>141.000000</td>\n      <td>1990.000000</td>\n      <td>53.000000</td>\n      <td>11544.000000</td>\n      <td>2.000000</td>\n      <td>66.000000</td>\n    </tr>\n    <tr>\n      <th>75%</th>\n      <td>7.113475e+06</td>\n      <td>21437.000000</td>\n      <td>280.000000</td>\n      <td>4900.000000</td>\n      <td>155.000000</td>\n      <td>30042.000000</td>\n      <td>6.000000</td>\n      <td>177.000000</td>\n    </tr>\n    <tr>\n      <th>max</th>\n      <td>1.641353e+08</td>\n      <td>312095.000000</td>\n      <td>1185.000000</td>\n      <td>79984.000000</td>\n      <td>2186.000000</td>\n      <td>530262.000000</td>\n      <td>388.000000</td>\n      <td>7310.000000</td>\n    </tr>\n  </tbody>\n</table>\n</div>"
     },
     "execution_count": 54,
     "metadata": {},
     "output_type": "execute_result"
    }
   ],
   "execution_count": 54
  },
  {
   "metadata": {
    "ExecuteTime": {
     "end_time": "2024-05-10T11:44:29.521743Z",
     "start_time": "2024-05-10T11:44:29.018687Z"
    }
   },
   "cell_type": "code",
   "source": [
    "# Estatísticas resumidas depois da normalização\n",
    "baixa_tensao_scaled_z_score_df.describe()"
   ],
   "id": "249810da22568e6d",
   "outputs": [
    {
     "data": {
      "text/plain": "       energia_ativa_baixa_tensao_kwh  cpes_domestico_baixa_tensao  \\\ncount                    5.187000e+03                 5.187000e+03   \nmean                    -1.917794e-17                -3.013677e-17   \nstd                      1.000096e+00                 1.000096e+00   \nmin                     -5.449276e-01                -6.040720e-01   \n25%                     -4.458803e-01                -4.837602e-01   \n50%                     -3.304903e-01                -3.357038e-01   \n75%                      5.049734e-02                 8.937388e-02   \nmax                      1.338135e+01                 9.971972e+00   \n\n       cpes_iluminacao_publica_baixa_tensao  cpes_nao_domestico_baixa_tensao  \\\ncount                          5.187000e+03                     5.187000e+03   \nmean                           1.095882e-17                    -5.479412e-18   \nstd                            1.000096e+00                     1.000096e+00   \nmin                           -1.066823e+00                    -5.920486e-01   \n25%                           -6.342232e-01                    -4.571615e-01   \n50%                           -3.767233e-01                    -3.278038e-01   \n75%                            3.391264e-01                     9.562811e-02   \nmax                            4.999874e+00                     1.102104e+01   \n\n       cpes_outros_baixa_tensao  cpes_mobilidade_eletrica_nao_baixa_tensao  \\\ncount              5.187000e+03                               5.187000e+03   \nmean               7.123235e-17                              -2.191765e-17   \nstd                1.000096e+00                               1.000096e+00   \nmin               -6.196671e-01                              -5.678973e-01   \n25%               -5.248676e-01                              -4.594807e-01   \n50%               -3.668685e-01                              -3.427061e-01   \n75%                1.290058e-01                               5.783125e-02   \nmax                1.000274e+01                               1.088910e+01   \n\n       cpes_mobilidade_eletrica_sim_baixa_tensao  \\\ncount                               5.187000e+03   \nmean                                5.479412e-18   \nstd                                 1.000096e+00   \nmin                                -3.785076e-01   \n25%                                -2.997527e-01   \n50%                                -2.997527e-01   \n75%                                -1.422431e-01   \nmax                                 1.489993e+01   \n\n       densidade_populacional_pessoas_km2  \ncount                        5.187000e+03  \nmean                        -2.739706e-17  \nstd                          1.000096e+00  \nmin                         -3.627502e-01  \n25%                         -3.382197e-01  \n50%                         -2.903268e-01  \n75%                         -1.606656e-01  \nmax                          8.171529e+00  ",
      "text/html": "<div>\n<style scoped>\n    .dataframe tbody tr th:only-of-type {\n        vertical-align: middle;\n    }\n\n    .dataframe tbody tr th {\n        vertical-align: top;\n    }\n\n    .dataframe thead th {\n        text-align: right;\n    }\n</style>\n<table border=\"1\" class=\"dataframe\">\n  <thead>\n    <tr style=\"text-align: right;\">\n      <th></th>\n      <th>energia_ativa_baixa_tensao_kwh</th>\n      <th>cpes_domestico_baixa_tensao</th>\n      <th>cpes_iluminacao_publica_baixa_tensao</th>\n      <th>cpes_nao_domestico_baixa_tensao</th>\n      <th>cpes_outros_baixa_tensao</th>\n      <th>cpes_mobilidade_eletrica_nao_baixa_tensao</th>\n      <th>cpes_mobilidade_eletrica_sim_baixa_tensao</th>\n      <th>densidade_populacional_pessoas_km2</th>\n    </tr>\n  </thead>\n  <tbody>\n    <tr>\n      <th>count</th>\n      <td>5.187000e+03</td>\n      <td>5.187000e+03</td>\n      <td>5.187000e+03</td>\n      <td>5.187000e+03</td>\n      <td>5.187000e+03</td>\n      <td>5.187000e+03</td>\n      <td>5.187000e+03</td>\n      <td>5.187000e+03</td>\n    </tr>\n    <tr>\n      <th>mean</th>\n      <td>-1.917794e-17</td>\n      <td>-3.013677e-17</td>\n      <td>1.095882e-17</td>\n      <td>-5.479412e-18</td>\n      <td>7.123235e-17</td>\n      <td>-2.191765e-17</td>\n      <td>5.479412e-18</td>\n      <td>-2.739706e-17</td>\n    </tr>\n    <tr>\n      <th>std</th>\n      <td>1.000096e+00</td>\n      <td>1.000096e+00</td>\n      <td>1.000096e+00</td>\n      <td>1.000096e+00</td>\n      <td>1.000096e+00</td>\n      <td>1.000096e+00</td>\n      <td>1.000096e+00</td>\n      <td>1.000096e+00</td>\n    </tr>\n    <tr>\n      <th>min</th>\n      <td>-5.449276e-01</td>\n      <td>-6.040720e-01</td>\n      <td>-1.066823e+00</td>\n      <td>-5.920486e-01</td>\n      <td>-6.196671e-01</td>\n      <td>-5.678973e-01</td>\n      <td>-3.785076e-01</td>\n      <td>-3.627502e-01</td>\n    </tr>\n    <tr>\n      <th>25%</th>\n      <td>-4.458803e-01</td>\n      <td>-4.837602e-01</td>\n      <td>-6.342232e-01</td>\n      <td>-4.571615e-01</td>\n      <td>-5.248676e-01</td>\n      <td>-4.594807e-01</td>\n      <td>-2.997527e-01</td>\n      <td>-3.382197e-01</td>\n    </tr>\n    <tr>\n      <th>50%</th>\n      <td>-3.304903e-01</td>\n      <td>-3.357038e-01</td>\n      <td>-3.767233e-01</td>\n      <td>-3.278038e-01</td>\n      <td>-3.668685e-01</td>\n      <td>-3.427061e-01</td>\n      <td>-2.997527e-01</td>\n      <td>-2.903268e-01</td>\n    </tr>\n    <tr>\n      <th>75%</th>\n      <td>5.049734e-02</td>\n      <td>8.937388e-02</td>\n      <td>3.391264e-01</td>\n      <td>9.562811e-02</td>\n      <td>1.290058e-01</td>\n      <td>5.783125e-02</td>\n      <td>-1.422431e-01</td>\n      <td>-1.606656e-01</td>\n    </tr>\n    <tr>\n      <th>max</th>\n      <td>1.338135e+01</td>\n      <td>9.971972e+00</td>\n      <td>4.999874e+00</td>\n      <td>1.102104e+01</td>\n      <td>1.000274e+01</td>\n      <td>1.088910e+01</td>\n      <td>1.489993e+01</td>\n      <td>8.171529e+00</td>\n    </tr>\n  </tbody>\n</table>\n</div>"
     },
     "execution_count": 55,
     "metadata": {},
     "output_type": "execute_result"
    }
   ],
   "execution_count": 55
  },
  {
   "metadata": {
    "ExecuteTime": {
     "end_time": "2024-05-10T11:44:29.531425Z",
     "start_time": "2024-05-10T11:44:29.029374Z"
    }
   },
   "cell_type": "code",
   "source": [
    "#Guardar no ficheiro\n",
    "file_path = data_path + 'treated/prepared/numeric/normalized/dataset-numeric-low-tensions-no-dates-zscore.csv'\n",
    "\n",
    "baixa_tensao_scaled_z_score_df.to_csv(file_path, index=False)\n",
    "\n",
    "print(\"DataFrame guardado em \", file_path)"
   ],
   "id": "72b2e3fa1c20dfa0",
   "outputs": [
    {
     "name": "stdout",
     "output_type": "stream",
     "text": [
      "DataFrame guardado em  ../data/treated/prepared/numeric/normalized/dataset-numeric-low-tensions-no-dates-zscore.csv\n"
     ]
    }
   ],
   "execution_count": 56
  },
  {
   "metadata": {},
   "cell_type": "markdown",
   "source": [
    "### Normalização z-Score das altas tensões"
   ],
   "id": "8d1510fb361ec140"
  },
  {
   "metadata": {
    "ExecuteTime": {
     "end_time": "2024-05-10T11:44:29.533587Z",
     "start_time": "2024-05-10T11:44:29.059510Z"
    }
   },
   "cell_type": "code",
   "source": [
    "# Normalização com o Z-Score\n",
    "scaler = StandardScaler()\n",
    "alta_tensao_scaled_z_score_df = pd.DataFrame(scaler.fit_transform(alta_tensao_df), columns=alta_tensao_df.columns)\n",
    "\n",
    "alta_tensao_scaled_z_score_df.head()"
   ],
   "id": "be3be76c299c518",
   "outputs": [
    {
     "data": {
      "text/plain": "   energia_ativa_alta_tensao_kwh  cpes_domestico_alta_tensao  \\\n0                      -0.069903                   -0.191641   \n1                      -0.051144                   -0.191641   \n2                      -0.037016                   -0.191641   \n3                      -0.065022                   -0.191641   \n4                      -0.113325                   -0.191641   \n\n   cpes_nao_domestico_alta_tensao  cpes_outros_alta_tensao  \\\n0                        0.317534                -0.089735   \n1                        0.317534                -0.089735   \n2                        0.317534                -0.089735   \n3                        0.317534                -0.089735   \n4                        0.317534                -0.089735   \n\n   densidade_populacional_pessoas_km2  \n0                           -0.311353  \n1                           -0.311353  \n2                           -0.311353  \n3                           -0.311353  \n4                           -0.311353  ",
      "text/html": "<div>\n<style scoped>\n    .dataframe tbody tr th:only-of-type {\n        vertical-align: middle;\n    }\n\n    .dataframe tbody tr th {\n        vertical-align: top;\n    }\n\n    .dataframe thead th {\n        text-align: right;\n    }\n</style>\n<table border=\"1\" class=\"dataframe\">\n  <thead>\n    <tr style=\"text-align: right;\">\n      <th></th>\n      <th>energia_ativa_alta_tensao_kwh</th>\n      <th>cpes_domestico_alta_tensao</th>\n      <th>cpes_nao_domestico_alta_tensao</th>\n      <th>cpes_outros_alta_tensao</th>\n      <th>densidade_populacional_pessoas_km2</th>\n    </tr>\n  </thead>\n  <tbody>\n    <tr>\n      <th>0</th>\n      <td>-0.069903</td>\n      <td>-0.191641</td>\n      <td>0.317534</td>\n      <td>-0.089735</td>\n      <td>-0.311353</td>\n    </tr>\n    <tr>\n      <th>1</th>\n      <td>-0.051144</td>\n      <td>-0.191641</td>\n      <td>0.317534</td>\n      <td>-0.089735</td>\n      <td>-0.311353</td>\n    </tr>\n    <tr>\n      <th>2</th>\n      <td>-0.037016</td>\n      <td>-0.191641</td>\n      <td>0.317534</td>\n      <td>-0.089735</td>\n      <td>-0.311353</td>\n    </tr>\n    <tr>\n      <th>3</th>\n      <td>-0.065022</td>\n      <td>-0.191641</td>\n      <td>0.317534</td>\n      <td>-0.089735</td>\n      <td>-0.311353</td>\n    </tr>\n    <tr>\n      <th>4</th>\n      <td>-0.113325</td>\n      <td>-0.191641</td>\n      <td>0.317534</td>\n      <td>-0.089735</td>\n      <td>-0.311353</td>\n    </tr>\n  </tbody>\n</table>\n</div>"
     },
     "execution_count": 57,
     "metadata": {},
     "output_type": "execute_result"
    }
   ],
   "execution_count": 57
  },
  {
   "metadata": {
    "ExecuteTime": {
     "end_time": "2024-05-10T11:44:29.535555Z",
     "start_time": "2024-05-10T11:44:29.064462Z"
    }
   },
   "cell_type": "code",
   "source": [
    "# Estatísticas resumidas antes da normalização\n",
    "alta_tensao_df.describe()"
   ],
   "id": "6d546c2e24ffd5e2",
   "outputs": [
    {
     "data": {
      "text/plain": "       energia_ativa_alta_tensao_kwh  cpes_domestico_alta_tensao  \\\ncount                   5.187000e+03                 5187.000000   \nmean                    6.888616e+06                    0.040486   \nstd                     1.426511e+07                    0.211279   \nmin                     0.000000e+00                    0.000000   \n25%                     4.113695e+05                    0.000000   \n50%                     1.824003e+06                    0.000000   \n75%                     5.962718e+06                    0.000000   \nmax                     1.279470e+08                    2.000000   \n\n       cpes_nao_domestico_alta_tensao  cpes_outros_alta_tensao  \\\ncount                     5187.000000              5187.000000   \nmean                        95.497205                 0.365529   \nstd                        121.267530                 4.073821   \nmin                          0.000000                 0.000000   \n25%                         28.000000                 0.000000   \n50%                         51.000000                 0.000000   \n75%                        119.000000                 0.000000   \nmax                       1229.000000                75.000000   \n\n       densidade_populacional_pessoas_km2  \ncount                         5187.000000  \nmean                           314.542125  \nstd                            856.159555  \nmin                              4.000000  \n25%                             25.000000  \n50%                             66.000000  \n75%                            177.000000  \nmax                           7310.000000  ",
      "text/html": "<div>\n<style scoped>\n    .dataframe tbody tr th:only-of-type {\n        vertical-align: middle;\n    }\n\n    .dataframe tbody tr th {\n        vertical-align: top;\n    }\n\n    .dataframe thead th {\n        text-align: right;\n    }\n</style>\n<table border=\"1\" class=\"dataframe\">\n  <thead>\n    <tr style=\"text-align: right;\">\n      <th></th>\n      <th>energia_ativa_alta_tensao_kwh</th>\n      <th>cpes_domestico_alta_tensao</th>\n      <th>cpes_nao_domestico_alta_tensao</th>\n      <th>cpes_outros_alta_tensao</th>\n      <th>densidade_populacional_pessoas_km2</th>\n    </tr>\n  </thead>\n  <tbody>\n    <tr>\n      <th>count</th>\n      <td>5.187000e+03</td>\n      <td>5187.000000</td>\n      <td>5187.000000</td>\n      <td>5187.000000</td>\n      <td>5187.000000</td>\n    </tr>\n    <tr>\n      <th>mean</th>\n      <td>6.888616e+06</td>\n      <td>0.040486</td>\n      <td>95.497205</td>\n      <td>0.365529</td>\n      <td>314.542125</td>\n    </tr>\n    <tr>\n      <th>std</th>\n      <td>1.426511e+07</td>\n      <td>0.211279</td>\n      <td>121.267530</td>\n      <td>4.073821</td>\n      <td>856.159555</td>\n    </tr>\n    <tr>\n      <th>min</th>\n      <td>0.000000e+00</td>\n      <td>0.000000</td>\n      <td>0.000000</td>\n      <td>0.000000</td>\n      <td>4.000000</td>\n    </tr>\n    <tr>\n      <th>25%</th>\n      <td>4.113695e+05</td>\n      <td>0.000000</td>\n      <td>28.000000</td>\n      <td>0.000000</td>\n      <td>25.000000</td>\n    </tr>\n    <tr>\n      <th>50%</th>\n      <td>1.824003e+06</td>\n      <td>0.000000</td>\n      <td>51.000000</td>\n      <td>0.000000</td>\n      <td>66.000000</td>\n    </tr>\n    <tr>\n      <th>75%</th>\n      <td>5.962718e+06</td>\n      <td>0.000000</td>\n      <td>119.000000</td>\n      <td>0.000000</td>\n      <td>177.000000</td>\n    </tr>\n    <tr>\n      <th>max</th>\n      <td>1.279470e+08</td>\n      <td>2.000000</td>\n      <td>1229.000000</td>\n      <td>75.000000</td>\n      <td>7310.000000</td>\n    </tr>\n  </tbody>\n</table>\n</div>"
     },
     "execution_count": 58,
     "metadata": {},
     "output_type": "execute_result"
    }
   ],
   "execution_count": 58
  },
  {
   "metadata": {
    "ExecuteTime": {
     "end_time": "2024-05-10T11:44:29.543789Z",
     "start_time": "2024-05-10T11:44:29.076065Z"
    }
   },
   "cell_type": "code",
   "source": [
    "# Estatísticas resumidas depois da normalização\n",
    "alta_tensao_scaled_z_score_df.describe()"
   ],
   "id": "fe28fb8e87b9a102",
   "outputs": [
    {
     "data": {
      "text/plain": "       energia_ativa_alta_tensao_kwh  cpes_domestico_alta_tensao  \\\ncount                   5.187000e+03                5.187000e+03   \nmean                   -1.643824e-17                2.191765e-17   \nstd                     1.000096e+00                1.000096e+00   \nmin                    -4.829463e-01               -1.916406e-01   \n25%                    -4.541060e-01               -1.916406e-01   \n50%                    -3.550693e-01               -1.916406e-01   \n75%                    -6.491271e-02               -1.916406e-01   \nmax                     8.487147e+00                9.275406e+00   \n\n       cpes_nao_domestico_alta_tensao  cpes_outros_alta_tensao  \\\ncount                    5.187000e+03             5.187000e+03   \nmean                     2.328750e-17            -8.219118e-18   \nstd                      1.000096e+00             1.000096e+00   \nmin                     -7.875679e-01            -8.973502e-02   \n25%                     -5.566512e-01            -8.973502e-02   \n50%                     -3.669696e-01            -8.973502e-02   \n75%                      1.938282e-01            -8.973502e-02   \nmax                      9.348026e+00             1.832227e+01   \n\n       densidade_populacional_pessoas_km2  \ncount                        5.187000e+03  \nmean                        -2.739706e-17  \nstd                          1.000096e+00  \nmin                         -3.627502e-01  \n25%                         -3.382197e-01  \n50%                         -2.903268e-01  \n75%                         -1.606656e-01  \nmax                          8.171529e+00  ",
      "text/html": "<div>\n<style scoped>\n    .dataframe tbody tr th:only-of-type {\n        vertical-align: middle;\n    }\n\n    .dataframe tbody tr th {\n        vertical-align: top;\n    }\n\n    .dataframe thead th {\n        text-align: right;\n    }\n</style>\n<table border=\"1\" class=\"dataframe\">\n  <thead>\n    <tr style=\"text-align: right;\">\n      <th></th>\n      <th>energia_ativa_alta_tensao_kwh</th>\n      <th>cpes_domestico_alta_tensao</th>\n      <th>cpes_nao_domestico_alta_tensao</th>\n      <th>cpes_outros_alta_tensao</th>\n      <th>densidade_populacional_pessoas_km2</th>\n    </tr>\n  </thead>\n  <tbody>\n    <tr>\n      <th>count</th>\n      <td>5.187000e+03</td>\n      <td>5.187000e+03</td>\n      <td>5.187000e+03</td>\n      <td>5.187000e+03</td>\n      <td>5.187000e+03</td>\n    </tr>\n    <tr>\n      <th>mean</th>\n      <td>-1.643824e-17</td>\n      <td>2.191765e-17</td>\n      <td>2.328750e-17</td>\n      <td>-8.219118e-18</td>\n      <td>-2.739706e-17</td>\n    </tr>\n    <tr>\n      <th>std</th>\n      <td>1.000096e+00</td>\n      <td>1.000096e+00</td>\n      <td>1.000096e+00</td>\n      <td>1.000096e+00</td>\n      <td>1.000096e+00</td>\n    </tr>\n    <tr>\n      <th>min</th>\n      <td>-4.829463e-01</td>\n      <td>-1.916406e-01</td>\n      <td>-7.875679e-01</td>\n      <td>-8.973502e-02</td>\n      <td>-3.627502e-01</td>\n    </tr>\n    <tr>\n      <th>25%</th>\n      <td>-4.541060e-01</td>\n      <td>-1.916406e-01</td>\n      <td>-5.566512e-01</td>\n      <td>-8.973502e-02</td>\n      <td>-3.382197e-01</td>\n    </tr>\n    <tr>\n      <th>50%</th>\n      <td>-3.550693e-01</td>\n      <td>-1.916406e-01</td>\n      <td>-3.669696e-01</td>\n      <td>-8.973502e-02</td>\n      <td>-2.903268e-01</td>\n    </tr>\n    <tr>\n      <th>75%</th>\n      <td>-6.491271e-02</td>\n      <td>-1.916406e-01</td>\n      <td>1.938282e-01</td>\n      <td>-8.973502e-02</td>\n      <td>-1.606656e-01</td>\n    </tr>\n    <tr>\n      <th>max</th>\n      <td>8.487147e+00</td>\n      <td>9.275406e+00</td>\n      <td>9.348026e+00</td>\n      <td>1.832227e+01</td>\n      <td>8.171529e+00</td>\n    </tr>\n  </tbody>\n</table>\n</div>"
     },
     "execution_count": 59,
     "metadata": {},
     "output_type": "execute_result"
    }
   ],
   "execution_count": 59
  },
  {
   "metadata": {
    "ExecuteTime": {
     "end_time": "2024-05-10T11:44:29.647408Z",
     "start_time": "2024-05-10T11:44:29.188169Z"
    }
   },
   "cell_type": "code",
   "source": [
    "#Guardar no ficheiro\n",
    "file_path = data_path + 'treated/prepared/numeric/normalized/dataset-numeric-high-tensions-no-dates-zscore.csv'\n",
    "\n",
    "alta_tensao_scaled_z_score_df.to_csv(file_path, index=False)\n",
    "\n",
    "print(\"DataFrame guardado em \", file_path)"
   ],
   "id": "e1dcc598ba0638e1",
   "outputs": [
    {
     "name": "stdout",
     "output_type": "stream",
     "text": [
      "DataFrame guardado em  ../data/treated/prepared/numeric/normalized/dataset-numeric-high-tensions-no-dates-zscore.csv\n"
     ]
    }
   ],
   "execution_count": 60
  },
  {
   "metadata": {},
   "cell_type": "markdown",
   "source": [
    "### Normalização z-Score baixa tensão 2024"
   ],
   "id": "5ce5c47f5642a364"
  },
  {
   "metadata": {
    "ExecuteTime": {
     "end_time": "2024-05-10T11:44:30.174697Z",
     "start_time": "2024-05-10T11:44:29.627213Z"
    }
   },
   "cell_type": "code",
   "source": [
    "# Normalização com o Z-Score\n",
    "scaler = StandardScaler()\n",
    "baixa_tensao_2024_scaled_z_score_df = pd.DataFrame(scaler.fit_transform(baixa_tensao_2024_df), columns=baixa_tensao_2024_df.columns)\n",
    "\n",
    "baixa_tensao_2024_scaled_z_score_df.head()"
   ],
   "id": "e186859094fc8ad3",
   "outputs": [
    {
     "data": {
      "text/plain": "   energia_ativa_baixa_tensao_kwh  cpes_domestico_baixa_tensao  \\\n0                        0.193344                     0.049107   \n1                       -0.263295                     0.048465   \n2                       -0.376753                    -0.510440   \n3                       -0.452657                    -0.510272   \n4                       -0.364230                    -0.527699   \n\n   cpes_iluminacao_publica_baixa_tensao  cpes_nao_domestico_baixa_tensao  \\\n0                              0.413002                         0.010972   \n1                              0.413002                         0.010827   \n2                             -0.610273                        -0.473764   \n3                             -0.610273                        -0.473475   \n4                             -0.871208                        -0.509318   \n\n   cpes_outros_baixa_tensao  cpes_mobilidade_eletrica_nao_baixa_tensao  \\\n0                 -0.263116                                   0.017923   \n1                 -0.111115                                   0.033843   \n2                 -0.562051                                  -0.490976   \n3                 -0.562051                                  -0.483940   \n4                 -0.551918                                  -0.553360   \n\n   cpes_mobilidade_eletrica_sim_baixa_tensao  \\\n0                                  -0.240877   \n1                                  -0.184816   \n2                                  -0.296938   \n3                                  -0.296938   \n4                                  -0.352999   \n\n   densidade_populacional_pessoas_km2  \n0                           -0.311353  \n1                           -0.311353  \n2                           -0.337052  \n3                           -0.337052  \n4                           -0.356910  ",
      "text/html": "<div>\n<style scoped>\n    .dataframe tbody tr th:only-of-type {\n        vertical-align: middle;\n    }\n\n    .dataframe tbody tr th {\n        vertical-align: top;\n    }\n\n    .dataframe thead th {\n        text-align: right;\n    }\n</style>\n<table border=\"1\" class=\"dataframe\">\n  <thead>\n    <tr style=\"text-align: right;\">\n      <th></th>\n      <th>energia_ativa_baixa_tensao_kwh</th>\n      <th>cpes_domestico_baixa_tensao</th>\n      <th>cpes_iluminacao_publica_baixa_tensao</th>\n      <th>cpes_nao_domestico_baixa_tensao</th>\n      <th>cpes_outros_baixa_tensao</th>\n      <th>cpes_mobilidade_eletrica_nao_baixa_tensao</th>\n      <th>cpes_mobilidade_eletrica_sim_baixa_tensao</th>\n      <th>densidade_populacional_pessoas_km2</th>\n    </tr>\n  </thead>\n  <tbody>\n    <tr>\n      <th>0</th>\n      <td>0.193344</td>\n      <td>0.049107</td>\n      <td>0.413002</td>\n      <td>0.010972</td>\n      <td>-0.263116</td>\n      <td>0.017923</td>\n      <td>-0.240877</td>\n      <td>-0.311353</td>\n    </tr>\n    <tr>\n      <th>1</th>\n      <td>-0.263295</td>\n      <td>0.048465</td>\n      <td>0.413002</td>\n      <td>0.010827</td>\n      <td>-0.111115</td>\n      <td>0.033843</td>\n      <td>-0.184816</td>\n      <td>-0.311353</td>\n    </tr>\n    <tr>\n      <th>2</th>\n      <td>-0.376753</td>\n      <td>-0.510440</td>\n      <td>-0.610273</td>\n      <td>-0.473764</td>\n      <td>-0.562051</td>\n      <td>-0.490976</td>\n      <td>-0.296938</td>\n      <td>-0.337052</td>\n    </tr>\n    <tr>\n      <th>3</th>\n      <td>-0.452657</td>\n      <td>-0.510272</td>\n      <td>-0.610273</td>\n      <td>-0.473475</td>\n      <td>-0.562051</td>\n      <td>-0.483940</td>\n      <td>-0.296938</td>\n      <td>-0.337052</td>\n    </tr>\n    <tr>\n      <th>4</th>\n      <td>-0.364230</td>\n      <td>-0.527699</td>\n      <td>-0.871208</td>\n      <td>-0.509318</td>\n      <td>-0.551918</td>\n      <td>-0.553360</td>\n      <td>-0.352999</td>\n      <td>-0.356910</td>\n    </tr>\n  </tbody>\n</table>\n</div>"
     },
     "execution_count": 61,
     "metadata": {},
     "output_type": "execute_result"
    }
   ],
   "execution_count": 61
  },
  {
   "metadata": {
    "ExecuteTime": {
     "end_time": "2024-05-10T11:44:30.580799Z",
     "start_time": "2024-05-10T11:44:30.175619Z"
    }
   },
   "cell_type": "code",
   "source": [
    "# Estatísticas resumidas antes da normalização\n",
    "baixa_tensao_2024_df.describe()"
   ],
   "id": "a3677d76763df3c8",
   "outputs": [
    {
     "data": {
      "text/plain": "       energia_ativa_baixa_tensao_kwh  cpes_domestico_baixa_tensao  \\\ncount                    5.460000e+02                   546.000000   \nmean                     5.381401e+06                 18918.045788   \nstd                      1.106368e+07                 29635.004603   \nmin                      1.000680e+05                  1042.000000   \n25%                      8.825985e+05                  4572.750000   \n50%                      1.962897e+06                  8928.500000   \n75%                      5.025964e+06                 21518.250000   \nmax                      1.641353e+08                312095.000000   \n\n       cpes_iluminacao_publica_baixa_tensao  cpes_nao_domestico_baixa_tensao  \\\ncount                            546.000000                       546.000000   \nmean                             215.278388                      4274.082418   \nstd                              195.630206                      6925.569730   \nmin                                7.000000                       182.000000   \n25%                               91.000000                      1112.000000   \n50%                              142.000000                      2001.500000   \n75%                              281.000000                      4927.250000   \nmax                             1185.000000                     79984.000000   \n\n       cpes_outros_baixa_tensao  cpes_mobilidade_eletrica_nao_baixa_tensao  \\\ncount                546.000000                                 546.000000   \nmean                 119.930403                               33234.115385   \nstd                  197.548003                               50925.096260   \nmin                    1.000000                                1892.000000   \n25%                   18.000000                                8386.000000   \n50%                   48.000000                               15531.000000   \n75%                  141.750000                               39917.000000   \nmax                 2055.000000                              530262.000000   \n\n       cpes_mobilidade_eletrica_sim_baixa_tensao  \\\ncount                                 546.000000   \nmean                                   14.593407   \nstd                                    35.708189   \nmin                                     0.000000   \n25%                                     2.000000   \n50%                                     4.000000   \n75%                                    10.000000   \nmax                                   388.000000   \n\n       densidade_populacional_pessoas_km2  \ncount                          546.000000  \nmean                           314.542125  \nstd                            856.862054  \nmin                              4.000000  \n25%                             25.000000  \n50%                             66.000000  \n75%                            177.000000  \nmax                           7310.000000  ",
      "text/html": "<div>\n<style scoped>\n    .dataframe tbody tr th:only-of-type {\n        vertical-align: middle;\n    }\n\n    .dataframe tbody tr th {\n        vertical-align: top;\n    }\n\n    .dataframe thead th {\n        text-align: right;\n    }\n</style>\n<table border=\"1\" class=\"dataframe\">\n  <thead>\n    <tr style=\"text-align: right;\">\n      <th></th>\n      <th>energia_ativa_baixa_tensao_kwh</th>\n      <th>cpes_domestico_baixa_tensao</th>\n      <th>cpes_iluminacao_publica_baixa_tensao</th>\n      <th>cpes_nao_domestico_baixa_tensao</th>\n      <th>cpes_outros_baixa_tensao</th>\n      <th>cpes_mobilidade_eletrica_nao_baixa_tensao</th>\n      <th>cpes_mobilidade_eletrica_sim_baixa_tensao</th>\n      <th>densidade_populacional_pessoas_km2</th>\n    </tr>\n  </thead>\n  <tbody>\n    <tr>\n      <th>count</th>\n      <td>5.460000e+02</td>\n      <td>546.000000</td>\n      <td>546.000000</td>\n      <td>546.000000</td>\n      <td>546.000000</td>\n      <td>546.000000</td>\n      <td>546.000000</td>\n      <td>546.000000</td>\n    </tr>\n    <tr>\n      <th>mean</th>\n      <td>5.381401e+06</td>\n      <td>18918.045788</td>\n      <td>215.278388</td>\n      <td>4274.082418</td>\n      <td>119.930403</td>\n      <td>33234.115385</td>\n      <td>14.593407</td>\n      <td>314.542125</td>\n    </tr>\n    <tr>\n      <th>std</th>\n      <td>1.106368e+07</td>\n      <td>29635.004603</td>\n      <td>195.630206</td>\n      <td>6925.569730</td>\n      <td>197.548003</td>\n      <td>50925.096260</td>\n      <td>35.708189</td>\n      <td>856.862054</td>\n    </tr>\n    <tr>\n      <th>min</th>\n      <td>1.000680e+05</td>\n      <td>1042.000000</td>\n      <td>7.000000</td>\n      <td>182.000000</td>\n      <td>1.000000</td>\n      <td>1892.000000</td>\n      <td>0.000000</td>\n      <td>4.000000</td>\n    </tr>\n    <tr>\n      <th>25%</th>\n      <td>8.825985e+05</td>\n      <td>4572.750000</td>\n      <td>91.000000</td>\n      <td>1112.000000</td>\n      <td>18.000000</td>\n      <td>8386.000000</td>\n      <td>2.000000</td>\n      <td>25.000000</td>\n    </tr>\n    <tr>\n      <th>50%</th>\n      <td>1.962897e+06</td>\n      <td>8928.500000</td>\n      <td>142.000000</td>\n      <td>2001.500000</td>\n      <td>48.000000</td>\n      <td>15531.000000</td>\n      <td>4.000000</td>\n      <td>66.000000</td>\n    </tr>\n    <tr>\n      <th>75%</th>\n      <td>5.025964e+06</td>\n      <td>21518.250000</td>\n      <td>281.000000</td>\n      <td>4927.250000</td>\n      <td>141.750000</td>\n      <td>39917.000000</td>\n      <td>10.000000</td>\n      <td>177.000000</td>\n    </tr>\n    <tr>\n      <th>max</th>\n      <td>1.641353e+08</td>\n      <td>312095.000000</td>\n      <td>1185.000000</td>\n      <td>79984.000000</td>\n      <td>2055.000000</td>\n      <td>530262.000000</td>\n      <td>388.000000</td>\n      <td>7310.000000</td>\n    </tr>\n  </tbody>\n</table>\n</div>"
     },
     "execution_count": 62,
     "metadata": {},
     "output_type": "execute_result"
    }
   ],
   "execution_count": 62
  },
  {
   "metadata": {
    "ExecuteTime": {
     "end_time": "2024-05-10T11:44:30.799251Z",
     "start_time": "2024-05-10T11:44:30.577916Z"
    }
   },
   "cell_type": "code",
   "source": [
    "# Estatísticas resumidas depois da normalização\n",
    "baixa_tensao_2024_scaled_z_score_df.describe()"
   ],
   "id": "ed7df9e2614673af",
   "outputs": [
    {
     "data": {
      "text/plain": "       energia_ativa_baixa_tensao_kwh  cpes_domestico_baixa_tensao  \\\ncount                    5.460000e+02                 5.460000e+02   \nmean                    -9.760202e-18                 1.626700e-17   \nstd                      1.000917e+00                 1.000917e+00   \nmin                     -4.777955e-01                -6.037603e-01   \n25%                     -4.070010e-01                -4.845098e-01   \n50%                     -3.092677e-01                -3.373951e-01   \n75%                     -3.215599e-02                 8.782143e-02   \nmax                      1.436226e+01                 9.901999e+00   \n\n       cpes_iluminacao_publica_baixa_tensao  cpes_nao_domestico_baixa_tensao  \\\ncount                          5.460000e+02                     5.460000e+02   \nmean                          -7.482822e-17                     4.554761e-17   \nstd                            1.000917e+00                     1.000917e+00   \nmin                           -1.065630e+00                    -5.914076e-01   \n25%                           -6.358545e-01                    -4.569995e-01   \n50%                           -3.749195e-01                    -3.284447e-01   \n75%                            3.362562e-01                     9.439895e-02   \nmax                            4.961457e+00                     1.094197e+01   \n\n       cpes_outros_baixa_tensao  cpes_mobilidade_eletrica_nao_baixa_tensao  \\\ncount              5.460000e+02                               5.460000e+02   \nmean              -1.626700e-17                               3.578741e-17   \nstd                1.000917e+00                               1.000917e+00   \nmin               -6.025850e-01                              -6.160196e-01   \n25%               -5.164511e-01                              -4.883820e-01   \n50%               -3.644500e-01                              -3.479493e-01   \n75%                1.105534e-01                               1.313500e-01   \nmax                9.804422e+00                               9.768929e+00   \n\n       cpes_mobilidade_eletrica_sim_baixa_tensao  \\\ncount                               5.460000e+02   \nmean                                6.506802e-18   \nstd                                 1.000917e+00   \nmin                                -4.090599e-01   \n25%                                -3.529990e-01   \n50%                                -2.969381e-01   \n75%                                -1.287553e-01   \nmax                                 1.046676e+01   \n\n       densidade_populacional_pessoas_km2  \ncount                        5.460000e+02  \nmean                        -2.602721e-17  \nstd                          1.000917e+00  \nmin                         -3.627502e-01  \n25%                         -3.382197e-01  \n50%                         -2.903268e-01  \n75%                         -1.606656e-01  \nmax                          8.171529e+00  ",
      "text/html": "<div>\n<style scoped>\n    .dataframe tbody tr th:only-of-type {\n        vertical-align: middle;\n    }\n\n    .dataframe tbody tr th {\n        vertical-align: top;\n    }\n\n    .dataframe thead th {\n        text-align: right;\n    }\n</style>\n<table border=\"1\" class=\"dataframe\">\n  <thead>\n    <tr style=\"text-align: right;\">\n      <th></th>\n      <th>energia_ativa_baixa_tensao_kwh</th>\n      <th>cpes_domestico_baixa_tensao</th>\n      <th>cpes_iluminacao_publica_baixa_tensao</th>\n      <th>cpes_nao_domestico_baixa_tensao</th>\n      <th>cpes_outros_baixa_tensao</th>\n      <th>cpes_mobilidade_eletrica_nao_baixa_tensao</th>\n      <th>cpes_mobilidade_eletrica_sim_baixa_tensao</th>\n      <th>densidade_populacional_pessoas_km2</th>\n    </tr>\n  </thead>\n  <tbody>\n    <tr>\n      <th>count</th>\n      <td>5.460000e+02</td>\n      <td>5.460000e+02</td>\n      <td>5.460000e+02</td>\n      <td>5.460000e+02</td>\n      <td>5.460000e+02</td>\n      <td>5.460000e+02</td>\n      <td>5.460000e+02</td>\n      <td>5.460000e+02</td>\n    </tr>\n    <tr>\n      <th>mean</th>\n      <td>-9.760202e-18</td>\n      <td>1.626700e-17</td>\n      <td>-7.482822e-17</td>\n      <td>4.554761e-17</td>\n      <td>-1.626700e-17</td>\n      <td>3.578741e-17</td>\n      <td>6.506802e-18</td>\n      <td>-2.602721e-17</td>\n    </tr>\n    <tr>\n      <th>std</th>\n      <td>1.000917e+00</td>\n      <td>1.000917e+00</td>\n      <td>1.000917e+00</td>\n      <td>1.000917e+00</td>\n      <td>1.000917e+00</td>\n      <td>1.000917e+00</td>\n      <td>1.000917e+00</td>\n      <td>1.000917e+00</td>\n    </tr>\n    <tr>\n      <th>min</th>\n      <td>-4.777955e-01</td>\n      <td>-6.037603e-01</td>\n      <td>-1.065630e+00</td>\n      <td>-5.914076e-01</td>\n      <td>-6.025850e-01</td>\n      <td>-6.160196e-01</td>\n      <td>-4.090599e-01</td>\n      <td>-3.627502e-01</td>\n    </tr>\n    <tr>\n      <th>25%</th>\n      <td>-4.070010e-01</td>\n      <td>-4.845098e-01</td>\n      <td>-6.358545e-01</td>\n      <td>-4.569995e-01</td>\n      <td>-5.164511e-01</td>\n      <td>-4.883820e-01</td>\n      <td>-3.529990e-01</td>\n      <td>-3.382197e-01</td>\n    </tr>\n    <tr>\n      <th>50%</th>\n      <td>-3.092677e-01</td>\n      <td>-3.373951e-01</td>\n      <td>-3.749195e-01</td>\n      <td>-3.284447e-01</td>\n      <td>-3.644500e-01</td>\n      <td>-3.479493e-01</td>\n      <td>-2.969381e-01</td>\n      <td>-2.903268e-01</td>\n    </tr>\n    <tr>\n      <th>75%</th>\n      <td>-3.215599e-02</td>\n      <td>8.782143e-02</td>\n      <td>3.362562e-01</td>\n      <td>9.439895e-02</td>\n      <td>1.105534e-01</td>\n      <td>1.313500e-01</td>\n      <td>-1.287553e-01</td>\n      <td>-1.606656e-01</td>\n    </tr>\n    <tr>\n      <th>max</th>\n      <td>1.436226e+01</td>\n      <td>9.901999e+00</td>\n      <td>4.961457e+00</td>\n      <td>1.094197e+01</td>\n      <td>9.804422e+00</td>\n      <td>9.768929e+00</td>\n      <td>1.046676e+01</td>\n      <td>8.171529e+00</td>\n    </tr>\n  </tbody>\n</table>\n</div>"
     },
     "execution_count": 63,
     "metadata": {},
     "output_type": "execute_result"
    }
   ],
   "execution_count": 63
  },
  {
   "metadata": {
    "ExecuteTime": {
     "end_time": "2024-05-10T11:44:30.859875Z",
     "start_time": "2024-05-10T11:44:30.751512Z"
    }
   },
   "cell_type": "code",
   "source": [
    "#Guardar no ficheiro\n",
    "file_path = data_path + 'treated/prepared/numeric/normalized/test/dataset-numeric-low-tensions-2024-no-dates-zscore.csv'\n",
    "\n",
    "baixa_tensao_2024_scaled_z_score_df.to_csv(file_path, index=False)\n",
    "\n",
    "print(\"DataFrame guardado em \", file_path)"
   ],
   "id": "516de79e0370d78",
   "outputs": [
    {
     "name": "stdout",
     "output_type": "stream",
     "text": [
      "DataFrame guardado em  ../data/treated/prepared/numeric/normalized/test/dataset-numeric-low-tensions-2024-no-dates-zscore.csv\n"
     ]
    }
   ],
   "execution_count": 64
  },
  {
   "metadata": {},
   "cell_type": "markdown",
   "source": [
    "### Normalização z-Score baixa tensão 22/23"
   ],
   "id": "8556697bafe92364"
  },
  {
   "metadata": {
    "ExecuteTime": {
     "end_time": "2024-05-10T11:44:30.971439Z",
     "start_time": "2024-05-10T11:44:30.861053Z"
    }
   },
   "cell_type": "code",
   "source": [
    "# Normalização com o Z-Score\n",
    "scaler = StandardScaler()\n",
    "baixa_tensao_outros_scaled_z_score_df = pd.DataFrame(scaler.fit_transform(baixa_tensao_outros_df), columns=baixa_tensao_outros_df.columns)\n",
    "\n",
    "baixa_tensao_outros_scaled_z_score_df.head()"
   ],
   "id": "67db0b8895968a22",
   "outputs": [
    {
     "data": {
      "text/plain": "   energia_ativa_baixa_tensao_kwh  cpes_domestico_baixa_tensao  \\\n0                       -0.062743                     0.049833   \n1                       -0.112446                     0.050173   \n2                       -0.103037                     0.050513   \n3                       -0.068055                     0.050888   \n4                        0.010825                     0.051092   \n\n   cpes_iluminacao_publica_baixa_tensao  cpes_nao_domestico_baixa_tensao  \\\n0                              0.407077                         0.011486   \n1                              0.407077                         0.010467   \n2                              0.407077                         0.009156   \n3                              0.407077                         0.010030   \n4                              0.412231                         0.010613   \n\n   cpes_outros_baixa_tensao  cpes_mobilidade_eletrica_nao_baixa_tensao  \\\n0                 -0.224882                                  -0.098518   \n1                 -0.234561                                  -0.089693   \n2                 -0.234561                                  -0.078057   \n3                 -0.239400                                  -0.060230   \n4                 -0.229721                                  -0.049648   \n\n   cpes_mobilidade_eletrica_sim_baixa_tensao  \\\n0                                  -0.294869   \n1                                  -0.294869   \n2                                  -0.294869   \n3                                  -0.294869   \n4                                  -0.294869   \n\n   densidade_populacional_pessoas_km2  \n0                           -0.311353  \n1                           -0.311353  \n2                           -0.311353  \n3                           -0.311353  \n4                           -0.311353  ",
      "text/html": "<div>\n<style scoped>\n    .dataframe tbody tr th:only-of-type {\n        vertical-align: middle;\n    }\n\n    .dataframe tbody tr th {\n        vertical-align: top;\n    }\n\n    .dataframe thead th {\n        text-align: right;\n    }\n</style>\n<table border=\"1\" class=\"dataframe\">\n  <thead>\n    <tr style=\"text-align: right;\">\n      <th></th>\n      <th>energia_ativa_baixa_tensao_kwh</th>\n      <th>cpes_domestico_baixa_tensao</th>\n      <th>cpes_iluminacao_publica_baixa_tensao</th>\n      <th>cpes_nao_domestico_baixa_tensao</th>\n      <th>cpes_outros_baixa_tensao</th>\n      <th>cpes_mobilidade_eletrica_nao_baixa_tensao</th>\n      <th>cpes_mobilidade_eletrica_sim_baixa_tensao</th>\n      <th>densidade_populacional_pessoas_km2</th>\n    </tr>\n  </thead>\n  <tbody>\n    <tr>\n      <th>0</th>\n      <td>-0.062743</td>\n      <td>0.049833</td>\n      <td>0.407077</td>\n      <td>0.011486</td>\n      <td>-0.224882</td>\n      <td>-0.098518</td>\n      <td>-0.294869</td>\n      <td>-0.311353</td>\n    </tr>\n    <tr>\n      <th>1</th>\n      <td>-0.112446</td>\n      <td>0.050173</td>\n      <td>0.407077</td>\n      <td>0.010467</td>\n      <td>-0.234561</td>\n      <td>-0.089693</td>\n      <td>-0.294869</td>\n      <td>-0.311353</td>\n    </tr>\n    <tr>\n      <th>2</th>\n      <td>-0.103037</td>\n      <td>0.050513</td>\n      <td>0.407077</td>\n      <td>0.009156</td>\n      <td>-0.234561</td>\n      <td>-0.078057</td>\n      <td>-0.294869</td>\n      <td>-0.311353</td>\n    </tr>\n    <tr>\n      <th>3</th>\n      <td>-0.068055</td>\n      <td>0.050888</td>\n      <td>0.407077</td>\n      <td>0.010030</td>\n      <td>-0.239400</td>\n      <td>-0.060230</td>\n      <td>-0.294869</td>\n      <td>-0.311353</td>\n    </tr>\n    <tr>\n      <th>4</th>\n      <td>0.010825</td>\n      <td>0.051092</td>\n      <td>0.412231</td>\n      <td>0.010613</td>\n      <td>-0.229721</td>\n      <td>-0.049648</td>\n      <td>-0.294869</td>\n      <td>-0.311353</td>\n    </tr>\n  </tbody>\n</table>\n</div>"
     },
     "execution_count": 65,
     "metadata": {},
     "output_type": "execute_result"
    }
   ],
   "execution_count": 65
  },
  {
   "metadata": {
    "ExecuteTime": {
     "end_time": "2024-05-10T11:44:31.029510Z",
     "start_time": "2024-05-10T11:44:30.943016Z"
    }
   },
   "cell_type": "code",
   "source": [
    "# Estatísticas resumidas antes da normalização\n",
    "baixa_tensao_outros_df.describe()"
   ],
   "id": "adb28c6b4f8c5ccc",
   "outputs": [
    {
     "data": {
      "text/plain": "       energia_ativa_baixa_tensao_kwh  cpes_domestico_baixa_tensao  \\\ncount                    4.641000e+03                  4641.000000   \nmean                     6.652473e+06                 18795.518854   \nstd                      1.185535e+07                 29390.997527   \nmin                      2.059940e+05                  1042.000000   \n25%                      1.310791e+06                  4581.000000   \n50%                      2.685664e+06                  8936.000000   \n75%                      7.426747e+06                 21405.000000   \nmax                      1.633819e+08                311824.000000   \n\n       cpes_iluminacao_publica_baixa_tensao  cpes_nao_domestico_baixa_tensao  \\\ncount                           4641.000000                      4641.000000   \nmean                             214.017453                      4239.124111   \nstd                              194.044633                      6867.617704   \nmin                                7.000000                       174.000000   \n25%                               91.000000                      1101.000000   \n50%                              141.000000                      1989.000000   \n75%                              280.000000                      4892.000000   \nmax                             1184.000000                     79956.000000   \n\n       cpes_outros_baixa_tensao  cpes_mobilidade_eletrica_nao_baixa_tensao  \\\ncount               4641.000000                                4641.000000   \nmean                 129.467787                               26681.424477   \nstd                  206.654356                               45554.097416   \nmin                    1.000000                                1144.000000   \n25%                   21.000000                                5940.000000   \n50%                   54.000000                               11104.000000   \n75%                  157.000000                               29350.000000   \nmax                 2186.000000                              528158.000000   \n\n       cpes_mobilidade_eletrica_sim_baixa_tensao  \\\ncount                                4641.000000   \nmean                                    9.026287   \nstd                                    23.831036   \nmin                                     0.000000   \n25%                                     2.000000   \n50%                                     2.000000   \n75%                                     6.000000   \nmax                                   368.000000   \n\n       densidade_populacional_pessoas_km2  \ncount                         4641.000000  \nmean                           314.542125  \nstd                            856.169267  \nmin                              4.000000  \n25%                             25.000000  \n50%                             66.000000  \n75%                            177.000000  \nmax                           7310.000000  ",
      "text/html": "<div>\n<style scoped>\n    .dataframe tbody tr th:only-of-type {\n        vertical-align: middle;\n    }\n\n    .dataframe tbody tr th {\n        vertical-align: top;\n    }\n\n    .dataframe thead th {\n        text-align: right;\n    }\n</style>\n<table border=\"1\" class=\"dataframe\">\n  <thead>\n    <tr style=\"text-align: right;\">\n      <th></th>\n      <th>energia_ativa_baixa_tensao_kwh</th>\n      <th>cpes_domestico_baixa_tensao</th>\n      <th>cpes_iluminacao_publica_baixa_tensao</th>\n      <th>cpes_nao_domestico_baixa_tensao</th>\n      <th>cpes_outros_baixa_tensao</th>\n      <th>cpes_mobilidade_eletrica_nao_baixa_tensao</th>\n      <th>cpes_mobilidade_eletrica_sim_baixa_tensao</th>\n      <th>densidade_populacional_pessoas_km2</th>\n    </tr>\n  </thead>\n  <tbody>\n    <tr>\n      <th>count</th>\n      <td>4.641000e+03</td>\n      <td>4641.000000</td>\n      <td>4641.000000</td>\n      <td>4641.000000</td>\n      <td>4641.000000</td>\n      <td>4641.000000</td>\n      <td>4641.000000</td>\n      <td>4641.000000</td>\n    </tr>\n    <tr>\n      <th>mean</th>\n      <td>6.652473e+06</td>\n      <td>18795.518854</td>\n      <td>214.017453</td>\n      <td>4239.124111</td>\n      <td>129.467787</td>\n      <td>26681.424477</td>\n      <td>9.026287</td>\n      <td>314.542125</td>\n    </tr>\n    <tr>\n      <th>std</th>\n      <td>1.185535e+07</td>\n      <td>29390.997527</td>\n      <td>194.044633</td>\n      <td>6867.617704</td>\n      <td>206.654356</td>\n      <td>45554.097416</td>\n      <td>23.831036</td>\n      <td>856.169267</td>\n    </tr>\n    <tr>\n      <th>min</th>\n      <td>2.059940e+05</td>\n      <td>1042.000000</td>\n      <td>7.000000</td>\n      <td>174.000000</td>\n      <td>1.000000</td>\n      <td>1144.000000</td>\n      <td>0.000000</td>\n      <td>4.000000</td>\n    </tr>\n    <tr>\n      <th>25%</th>\n      <td>1.310791e+06</td>\n      <td>4581.000000</td>\n      <td>91.000000</td>\n      <td>1101.000000</td>\n      <td>21.000000</td>\n      <td>5940.000000</td>\n      <td>2.000000</td>\n      <td>25.000000</td>\n    </tr>\n    <tr>\n      <th>50%</th>\n      <td>2.685664e+06</td>\n      <td>8936.000000</td>\n      <td>141.000000</td>\n      <td>1989.000000</td>\n      <td>54.000000</td>\n      <td>11104.000000</td>\n      <td>2.000000</td>\n      <td>66.000000</td>\n    </tr>\n    <tr>\n      <th>75%</th>\n      <td>7.426747e+06</td>\n      <td>21405.000000</td>\n      <td>280.000000</td>\n      <td>4892.000000</td>\n      <td>157.000000</td>\n      <td>29350.000000</td>\n      <td>6.000000</td>\n      <td>177.000000</td>\n    </tr>\n    <tr>\n      <th>max</th>\n      <td>1.633819e+08</td>\n      <td>311824.000000</td>\n      <td>1184.000000</td>\n      <td>79956.000000</td>\n      <td>2186.000000</td>\n      <td>528158.000000</td>\n      <td>368.000000</td>\n      <td>7310.000000</td>\n    </tr>\n  </tbody>\n</table>\n</div>"
     },
     "execution_count": 66,
     "metadata": {},
     "output_type": "execute_result"
    }
   ],
   "execution_count": 66
  },
  {
   "metadata": {
    "ExecuteTime": {
     "end_time": "2024-05-10T11:44:31.227948Z",
     "start_time": "2024-05-10T11:44:31.030391Z"
    }
   },
   "cell_type": "code",
   "source": [
    "# Estatísticas resumidas depois da normalização\n",
    "baixa_tensao_outros_scaled_z_score_df.describe()"
   ],
   "id": "93c862beea9bb311",
   "outputs": [
    {
     "data": {
      "text/plain": "       energia_ativa_baixa_tensao_kwh  cpes_domestico_baixa_tensao  \\\ncount                    4.641000e+03                 4.641000e+03   \nmean                    -2.449619e-17                 1.531012e-18   \nstd                      1.000108e+00                 1.000108e+00   \nmin                     -5.438199e-01                -6.041112e-01   \n25%                     -4.506201e-01                -4.836872e-01   \n50%                     -3.346369e-01                -3.354967e-01   \n75%                      6.531720e-02                 8.879462e-02   \nmax                      1.322158e+01                 9.971082e+00   \n\n       cpes_iluminacao_publica_baixa_tensao  cpes_nao_domestico_baixa_tensao  \\\ncount                          4.641000e+03                     4.641000e+03   \nmean                          -1.837215e-17                    -2.755822e-17   \nstd                            1.000108e+00                     1.000108e+00   \nmin                           -1.066970e+00                    -5.919902e-01   \n25%                           -6.340330e-01                    -4.569943e-01   \n50%                           -3.763326e-01                    -3.276779e-01   \n75%                            3.400746e-01                     9.507609e-02   \nmax                            4.999299e+00                     1.102639e+01   \n\n       cpes_outros_baixa_tensao  cpes_mobilidade_eletrica_nao_baixa_tensao  \\\ncount              4.641000e+03                               4.641000e+03   \nmean              -3.674429e-17                              -2.449619e-17   \nstd                1.000108e+00                               1.000108e+00   \nmin               -6.217223e-01                              -5.606560e-01   \n25%               -5.249320e-01                              -4.553632e-01   \n50%               -3.652278e-01                              -3.419913e-01   \n75%                1.332427e-01                               5.858667e-02   \nmax                9.952627e+00                               1.100956e+01   \n\n       cpes_mobilidade_eletrica_sim_baixa_tensao  \\\ncount                                4641.000000   \nmean                                    0.000000   \nstd                                     1.000108   \nmin                                    -0.378803   \n25%                                    -0.294869   \n50%                                    -0.294869   \n75%                                    -0.127003   \nmax                                    15.064909   \n\n       densidade_populacional_pessoas_km2  \ncount                        4.641000e+03  \nmean                        -1.148259e-17  \nstd                          1.000108e+00  \nmin                         -3.627502e-01  \n25%                         -3.382197e-01  \n50%                         -2.903268e-01  \n75%                         -1.606656e-01  \nmax                          8.171529e+00  ",
      "text/html": "<div>\n<style scoped>\n    .dataframe tbody tr th:only-of-type {\n        vertical-align: middle;\n    }\n\n    .dataframe tbody tr th {\n        vertical-align: top;\n    }\n\n    .dataframe thead th {\n        text-align: right;\n    }\n</style>\n<table border=\"1\" class=\"dataframe\">\n  <thead>\n    <tr style=\"text-align: right;\">\n      <th></th>\n      <th>energia_ativa_baixa_tensao_kwh</th>\n      <th>cpes_domestico_baixa_tensao</th>\n      <th>cpes_iluminacao_publica_baixa_tensao</th>\n      <th>cpes_nao_domestico_baixa_tensao</th>\n      <th>cpes_outros_baixa_tensao</th>\n      <th>cpes_mobilidade_eletrica_nao_baixa_tensao</th>\n      <th>cpes_mobilidade_eletrica_sim_baixa_tensao</th>\n      <th>densidade_populacional_pessoas_km2</th>\n    </tr>\n  </thead>\n  <tbody>\n    <tr>\n      <th>count</th>\n      <td>4.641000e+03</td>\n      <td>4.641000e+03</td>\n      <td>4.641000e+03</td>\n      <td>4.641000e+03</td>\n      <td>4.641000e+03</td>\n      <td>4.641000e+03</td>\n      <td>4641.000000</td>\n      <td>4.641000e+03</td>\n    </tr>\n    <tr>\n      <th>mean</th>\n      <td>-2.449619e-17</td>\n      <td>1.531012e-18</td>\n      <td>-1.837215e-17</td>\n      <td>-2.755822e-17</td>\n      <td>-3.674429e-17</td>\n      <td>-2.449619e-17</td>\n      <td>0.000000</td>\n      <td>-1.148259e-17</td>\n    </tr>\n    <tr>\n      <th>std</th>\n      <td>1.000108e+00</td>\n      <td>1.000108e+00</td>\n      <td>1.000108e+00</td>\n      <td>1.000108e+00</td>\n      <td>1.000108e+00</td>\n      <td>1.000108e+00</td>\n      <td>1.000108</td>\n      <td>1.000108e+00</td>\n    </tr>\n    <tr>\n      <th>min</th>\n      <td>-5.438199e-01</td>\n      <td>-6.041112e-01</td>\n      <td>-1.066970e+00</td>\n      <td>-5.919902e-01</td>\n      <td>-6.217223e-01</td>\n      <td>-5.606560e-01</td>\n      <td>-0.378803</td>\n      <td>-3.627502e-01</td>\n    </tr>\n    <tr>\n      <th>25%</th>\n      <td>-4.506201e-01</td>\n      <td>-4.836872e-01</td>\n      <td>-6.340330e-01</td>\n      <td>-4.569943e-01</td>\n      <td>-5.249320e-01</td>\n      <td>-4.553632e-01</td>\n      <td>-0.294869</td>\n      <td>-3.382197e-01</td>\n    </tr>\n    <tr>\n      <th>50%</th>\n      <td>-3.346369e-01</td>\n      <td>-3.354967e-01</td>\n      <td>-3.763326e-01</td>\n      <td>-3.276779e-01</td>\n      <td>-3.652278e-01</td>\n      <td>-3.419913e-01</td>\n      <td>-0.294869</td>\n      <td>-2.903268e-01</td>\n    </tr>\n    <tr>\n      <th>75%</th>\n      <td>6.531720e-02</td>\n      <td>8.879462e-02</td>\n      <td>3.400746e-01</td>\n      <td>9.507609e-02</td>\n      <td>1.332427e-01</td>\n      <td>5.858667e-02</td>\n      <td>-0.127003</td>\n      <td>-1.606656e-01</td>\n    </tr>\n    <tr>\n      <th>max</th>\n      <td>1.322158e+01</td>\n      <td>9.971082e+00</td>\n      <td>4.999299e+00</td>\n      <td>1.102639e+01</td>\n      <td>9.952627e+00</td>\n      <td>1.100956e+01</td>\n      <td>15.064909</td>\n      <td>8.171529e+00</td>\n    </tr>\n  </tbody>\n</table>\n</div>"
     },
     "execution_count": 67,
     "metadata": {},
     "output_type": "execute_result"
    }
   ],
   "execution_count": 67
  },
  {
   "metadata": {
    "ExecuteTime": {
     "end_time": "2024-05-10T11:44:31.333140Z",
     "start_time": "2024-05-10T11:44:31.154138Z"
    }
   },
   "cell_type": "code",
   "source": [
    "#Guardar no ficheiro\n",
    "file_path = data_path + 'treated/prepared/numeric/normalized/train/dataset-numeric-low-tensions-2223-no-dates-zscore.csv'\n",
    "\n",
    "baixa_tensao_outros_scaled_z_score_df.to_csv(file_path, index=False)\n",
    "\n",
    "print(\"DataFrame guardado em \", file_path)"
   ],
   "id": "e9db87488803d85a",
   "outputs": [
    {
     "name": "stdout",
     "output_type": "stream",
     "text": [
      "DataFrame guardado em  ../data/treated/prepared/numeric/normalized/train/dataset-numeric-low-tensions-2223-no-dates-zscore.csv\n"
     ]
    }
   ],
   "execution_count": 68
  },
  {
   "metadata": {},
   "cell_type": "markdown",
   "source": [
    "### Normalização z-Score alta tensão 2024"
   ],
   "id": "fe26991941dcd253"
  },
  {
   "metadata": {
    "ExecuteTime": {
     "end_time": "2024-05-10T11:44:31.450144Z",
     "start_time": "2024-05-10T11:44:31.281369Z"
    }
   },
   "cell_type": "code",
   "source": [
    "# Normalização com o Z-Score\n",
    "scaler = StandardScaler()\n",
    "alta_tensao_2024_scaled_z_score_df = pd.DataFrame(scaler.fit_transform(alta_tensao_2024_df), columns=alta_tensao_2024_df.columns)\n",
    "\n",
    "alta_tensao_2024_scaled_z_score_df.head()"
   ],
   "id": "41aab379eb52a830",
   "outputs": [
    {
     "data": {
      "text/plain": "   energia_ativa_alta_tensao_kwh  cpes_domestico_alta_tensao  \\\n0                       0.180879                   -0.194398   \n1                      -0.202126                   -0.194398   \n2                      -0.372823                   -0.194398   \n3                      -0.387722                   -0.194398   \n4                      -0.381702                   -0.194398   \n\n   cpes_nao_domestico_alta_tensao  cpes_outros_alta_tensao  \\\n0                        0.265365                      0.0   \n1                        0.257204                      0.0   \n2                       -0.656873                      0.0   \n3                       -0.656873                      0.0   \n4                       -0.477322                      0.0   \n\n   densidade_populacional_pessoas_km2  \n0                           -0.311353  \n1                           -0.311353  \n2                           -0.337052  \n3                           -0.337052  \n4                           -0.356910  ",
      "text/html": "<div>\n<style scoped>\n    .dataframe tbody tr th:only-of-type {\n        vertical-align: middle;\n    }\n\n    .dataframe tbody tr th {\n        vertical-align: top;\n    }\n\n    .dataframe thead th {\n        text-align: right;\n    }\n</style>\n<table border=\"1\" class=\"dataframe\">\n  <thead>\n    <tr style=\"text-align: right;\">\n      <th></th>\n      <th>energia_ativa_alta_tensao_kwh</th>\n      <th>cpes_domestico_alta_tensao</th>\n      <th>cpes_nao_domestico_alta_tensao</th>\n      <th>cpes_outros_alta_tensao</th>\n      <th>densidade_populacional_pessoas_km2</th>\n    </tr>\n  </thead>\n  <tbody>\n    <tr>\n      <th>0</th>\n      <td>0.180879</td>\n      <td>-0.194398</td>\n      <td>0.265365</td>\n      <td>0.0</td>\n      <td>-0.311353</td>\n    </tr>\n    <tr>\n      <th>1</th>\n      <td>-0.202126</td>\n      <td>-0.194398</td>\n      <td>0.257204</td>\n      <td>0.0</td>\n      <td>-0.311353</td>\n    </tr>\n    <tr>\n      <th>2</th>\n      <td>-0.372823</td>\n      <td>-0.194398</td>\n      <td>-0.656873</td>\n      <td>0.0</td>\n      <td>-0.337052</td>\n    </tr>\n    <tr>\n      <th>3</th>\n      <td>-0.387722</td>\n      <td>-0.194398</td>\n      <td>-0.656873</td>\n      <td>0.0</td>\n      <td>-0.337052</td>\n    </tr>\n    <tr>\n      <th>4</th>\n      <td>-0.381702</td>\n      <td>-0.194398</td>\n      <td>-0.477322</td>\n      <td>0.0</td>\n      <td>-0.356910</td>\n    </tr>\n  </tbody>\n</table>\n</div>"
     },
     "execution_count": 69,
     "metadata": {},
     "output_type": "execute_result"
    }
   ],
   "execution_count": 69
  },
  {
   "metadata": {
    "ExecuteTime": {
     "end_time": "2024-05-10T11:44:31.573194Z",
     "start_time": "2024-05-10T11:44:31.422424Z"
    }
   },
   "cell_type": "code",
   "source": [
    "# Estatísticas resumidas antes da normalização\n",
    "alta_tensao_2024_df.describe()"
   ],
   "id": "49f0ad15f20e5400",
   "outputs": [
    {
     "data": {
      "text/plain": "       energia_ativa_alta_tensao_kwh  cpes_domestico_alta_tensao  \\\ncount                   5.460000e+02                  546.000000   \nmean                    4.366219e+06                    0.047619   \nstd                     1.108600e+07                    0.245181   \nmin                     0.000000e+00                    0.000000   \n25%                     2.135982e+05                    0.000000   \n50%                     8.463970e+05                    0.000000   \n75%                     3.183322e+06                    0.000000   \nmax                     1.118887e+08                    2.000000   \n\n       cpes_nao_domestico_alta_tensao  cpes_outros_alta_tensao  \\\ncount                      546.000000                    546.0   \nmean                        96.485348                      0.0   \nstd                        122.640374                      0.0   \nmin                          0.000000                      0.0   \n25%                         29.000000                      0.0   \n50%                         52.000000                      0.0   \n75%                        119.000000                      0.0   \nmax                       1229.000000                      0.0   \n\n       densidade_populacional_pessoas_km2  \ncount                          546.000000  \nmean                           314.542125  \nstd                            856.862054  \nmin                              4.000000  \n25%                             25.000000  \n50%                             66.000000  \n75%                            177.000000  \nmax                           7310.000000  ",
      "text/html": "<div>\n<style scoped>\n    .dataframe tbody tr th:only-of-type {\n        vertical-align: middle;\n    }\n\n    .dataframe tbody tr th {\n        vertical-align: top;\n    }\n\n    .dataframe thead th {\n        text-align: right;\n    }\n</style>\n<table border=\"1\" class=\"dataframe\">\n  <thead>\n    <tr style=\"text-align: right;\">\n      <th></th>\n      <th>energia_ativa_alta_tensao_kwh</th>\n      <th>cpes_domestico_alta_tensao</th>\n      <th>cpes_nao_domestico_alta_tensao</th>\n      <th>cpes_outros_alta_tensao</th>\n      <th>densidade_populacional_pessoas_km2</th>\n    </tr>\n  </thead>\n  <tbody>\n    <tr>\n      <th>count</th>\n      <td>5.460000e+02</td>\n      <td>546.000000</td>\n      <td>546.000000</td>\n      <td>546.0</td>\n      <td>546.000000</td>\n    </tr>\n    <tr>\n      <th>mean</th>\n      <td>4.366219e+06</td>\n      <td>0.047619</td>\n      <td>96.485348</td>\n      <td>0.0</td>\n      <td>314.542125</td>\n    </tr>\n    <tr>\n      <th>std</th>\n      <td>1.108600e+07</td>\n      <td>0.245181</td>\n      <td>122.640374</td>\n      <td>0.0</td>\n      <td>856.862054</td>\n    </tr>\n    <tr>\n      <th>min</th>\n      <td>0.000000e+00</td>\n      <td>0.000000</td>\n      <td>0.000000</td>\n      <td>0.0</td>\n      <td>4.000000</td>\n    </tr>\n    <tr>\n      <th>25%</th>\n      <td>2.135982e+05</td>\n      <td>0.000000</td>\n      <td>29.000000</td>\n      <td>0.0</td>\n      <td>25.000000</td>\n    </tr>\n    <tr>\n      <th>50%</th>\n      <td>8.463970e+05</td>\n      <td>0.000000</td>\n      <td>52.000000</td>\n      <td>0.0</td>\n      <td>66.000000</td>\n    </tr>\n    <tr>\n      <th>75%</th>\n      <td>3.183322e+06</td>\n      <td>0.000000</td>\n      <td>119.000000</td>\n      <td>0.0</td>\n      <td>177.000000</td>\n    </tr>\n    <tr>\n      <th>max</th>\n      <td>1.118887e+08</td>\n      <td>2.000000</td>\n      <td>1229.000000</td>\n      <td>0.0</td>\n      <td>7310.000000</td>\n    </tr>\n  </tbody>\n</table>\n</div>"
     },
     "execution_count": 70,
     "metadata": {},
     "output_type": "execute_result"
    }
   ],
   "execution_count": 70
  },
  {
   "metadata": {
    "ExecuteTime": {
     "end_time": "2024-05-10T11:44:31.626535Z",
     "start_time": "2024-05-10T11:44:31.564090Z"
    }
   },
   "cell_type": "code",
   "source": [
    "# Estatísticas resumidas depois da normalização\n",
    "alta_tensao_2024_scaled_z_score_df.describe()"
   ],
   "id": "8dfb1e9818f6320c",
   "outputs": [
    {
     "data": {
      "text/plain": "       energia_ativa_alta_tensao_kwh  cpes_domestico_alta_tensao  \\\ncount                   5.460000e+02                  546.000000   \nmean                    1.626700e-17                    0.000000   \nstd                     1.000917e+00                    1.000917   \nmin                    -3.942110e-01                   -0.194398   \n25%                    -3.749260e-01                   -0.194398   \n50%                    -3.177927e-01                   -0.194398   \n75%                    -1.067997e-01                   -0.194398   \nmax                     9.707842e+00                    7.970330   \n\n       cpes_nao_domestico_alta_tensao  cpes_outros_alta_tensao  \\\ncount                    5.460000e+02                    546.0   \nmean                     9.760202e-18                      0.0   \nstd                      1.000917e+00                      0.0   \nmin                     -7.874554e-01                      0.0   \n25%                     -5.507748e-01                      0.0   \n50%                     -3.630627e-01                      0.0   \n75%                      1.837511e-01                      0.0   \nmax                      9.242904e+00                      0.0   \n\n       densidade_populacional_pessoas_km2  \ncount                        5.460000e+02  \nmean                        -2.602721e-17  \nstd                          1.000917e+00  \nmin                         -3.627502e-01  \n25%                         -3.382197e-01  \n50%                         -2.903268e-01  \n75%                         -1.606656e-01  \nmax                          8.171529e+00  ",
      "text/html": "<div>\n<style scoped>\n    .dataframe tbody tr th:only-of-type {\n        vertical-align: middle;\n    }\n\n    .dataframe tbody tr th {\n        vertical-align: top;\n    }\n\n    .dataframe thead th {\n        text-align: right;\n    }\n</style>\n<table border=\"1\" class=\"dataframe\">\n  <thead>\n    <tr style=\"text-align: right;\">\n      <th></th>\n      <th>energia_ativa_alta_tensao_kwh</th>\n      <th>cpes_domestico_alta_tensao</th>\n      <th>cpes_nao_domestico_alta_tensao</th>\n      <th>cpes_outros_alta_tensao</th>\n      <th>densidade_populacional_pessoas_km2</th>\n    </tr>\n  </thead>\n  <tbody>\n    <tr>\n      <th>count</th>\n      <td>5.460000e+02</td>\n      <td>546.000000</td>\n      <td>5.460000e+02</td>\n      <td>546.0</td>\n      <td>5.460000e+02</td>\n    </tr>\n    <tr>\n      <th>mean</th>\n      <td>1.626700e-17</td>\n      <td>0.000000</td>\n      <td>9.760202e-18</td>\n      <td>0.0</td>\n      <td>-2.602721e-17</td>\n    </tr>\n    <tr>\n      <th>std</th>\n      <td>1.000917e+00</td>\n      <td>1.000917</td>\n      <td>1.000917e+00</td>\n      <td>0.0</td>\n      <td>1.000917e+00</td>\n    </tr>\n    <tr>\n      <th>min</th>\n      <td>-3.942110e-01</td>\n      <td>-0.194398</td>\n      <td>-7.874554e-01</td>\n      <td>0.0</td>\n      <td>-3.627502e-01</td>\n    </tr>\n    <tr>\n      <th>25%</th>\n      <td>-3.749260e-01</td>\n      <td>-0.194398</td>\n      <td>-5.507748e-01</td>\n      <td>0.0</td>\n      <td>-3.382197e-01</td>\n    </tr>\n    <tr>\n      <th>50%</th>\n      <td>-3.177927e-01</td>\n      <td>-0.194398</td>\n      <td>-3.630627e-01</td>\n      <td>0.0</td>\n      <td>-2.903268e-01</td>\n    </tr>\n    <tr>\n      <th>75%</th>\n      <td>-1.067997e-01</td>\n      <td>-0.194398</td>\n      <td>1.837511e-01</td>\n      <td>0.0</td>\n      <td>-1.606656e-01</td>\n    </tr>\n    <tr>\n      <th>max</th>\n      <td>9.707842e+00</td>\n      <td>7.970330</td>\n      <td>9.242904e+00</td>\n      <td>0.0</td>\n      <td>8.171529e+00</td>\n    </tr>\n  </tbody>\n</table>\n</div>"
     },
     "execution_count": 71,
     "metadata": {},
     "output_type": "execute_result"
    }
   ],
   "execution_count": 71
  },
  {
   "metadata": {
    "ExecuteTime": {
     "end_time": "2024-05-10T11:44:31.723970Z",
     "start_time": "2024-05-10T11:44:31.626925Z"
    }
   },
   "cell_type": "code",
   "source": [
    "#Guardar no ficheiro\n",
    "file_path = data_path + 'treated/prepared/numeric/normalized/test/dataset-numeric-high-tensions-2024-no-dates-zscore.csv'\n",
    "\n",
    "alta_tensao_2024_scaled_z_score_df.to_csv(file_path, index=False)\n",
    "\n",
    "print(\"DataFrame guardado em \", file_path)"
   ],
   "id": "2fabdad93da7ee9d",
   "outputs": [
    {
     "name": "stdout",
     "output_type": "stream",
     "text": [
      "DataFrame guardado em  ../data/treated/prepared/numeric/normalized/test/dataset-numeric-high-tensions-2024-no-dates-zscore.csv\n"
     ]
    }
   ],
   "execution_count": 72
  },
  {
   "metadata": {},
   "cell_type": "markdown",
   "source": [
    "### Normalização z-Score alta tensão 22/23"
   ],
   "id": "a96ab4d915555d7c"
  },
  {
   "metadata": {
    "ExecuteTime": {
     "end_time": "2024-05-10T11:44:31.795892Z",
     "start_time": "2024-05-10T11:44:31.713247Z"
    }
   },
   "cell_type": "code",
   "source": [
    "# Normalização com o Z-Score\n",
    "scaler = StandardScaler()\n",
    "alta_tensao_outros_scaled_z_score_df = pd.DataFrame(scaler.fit_transform(alta_tensao_outros_df), columns=alta_tensao_outros_df.columns)\n",
    "\n",
    "alta_tensao_outros_scaled_z_score_df.head()"
   ],
   "id": "2b9a737aa5152262",
   "outputs": [
    {
     "data": {
      "text/plain": "   energia_ativa_alta_tensao_kwh  cpes_domestico_alta_tensao  \\\n0                      -0.088835                   -0.191605   \n1                      -0.070463                   -0.191605   \n2                      -0.056627                   -0.191605   \n3                      -0.084055                   -0.191605   \n4                      -0.131361                   -0.191605   \n\n   cpes_nao_domestico_alta_tensao  cpes_outros_alta_tensao  \\\n0                         0.31889                -0.094912   \n1                         0.31889                -0.094912   \n2                         0.31889                -0.094912   \n3                         0.31889                -0.094912   \n4                         0.31889                -0.094912   \n\n   densidade_populacional_pessoas_km2  \n0                           -0.311353  \n1                           -0.311353  \n2                           -0.311353  \n3                           -0.311353  \n4                           -0.311353  ",
      "text/html": "<div>\n<style scoped>\n    .dataframe tbody tr th:only-of-type {\n        vertical-align: middle;\n    }\n\n    .dataframe tbody tr th {\n        vertical-align: top;\n    }\n\n    .dataframe thead th {\n        text-align: right;\n    }\n</style>\n<table border=\"1\" class=\"dataframe\">\n  <thead>\n    <tr style=\"text-align: right;\">\n      <th></th>\n      <th>energia_ativa_alta_tensao_kwh</th>\n      <th>cpes_domestico_alta_tensao</th>\n      <th>cpes_nao_domestico_alta_tensao</th>\n      <th>cpes_outros_alta_tensao</th>\n      <th>densidade_populacional_pessoas_km2</th>\n    </tr>\n  </thead>\n  <tbody>\n    <tr>\n      <th>0</th>\n      <td>-0.088835</td>\n      <td>-0.191605</td>\n      <td>0.31889</td>\n      <td>-0.094912</td>\n      <td>-0.311353</td>\n    </tr>\n    <tr>\n      <th>1</th>\n      <td>-0.070463</td>\n      <td>-0.191605</td>\n      <td>0.31889</td>\n      <td>-0.094912</td>\n      <td>-0.311353</td>\n    </tr>\n    <tr>\n      <th>2</th>\n      <td>-0.056627</td>\n      <td>-0.191605</td>\n      <td>0.31889</td>\n      <td>-0.094912</td>\n      <td>-0.311353</td>\n    </tr>\n    <tr>\n      <th>3</th>\n      <td>-0.084055</td>\n      <td>-0.191605</td>\n      <td>0.31889</td>\n      <td>-0.094912</td>\n      <td>-0.311353</td>\n    </tr>\n    <tr>\n      <th>4</th>\n      <td>-0.131361</td>\n      <td>-0.191605</td>\n      <td>0.31889</td>\n      <td>-0.094912</td>\n      <td>-0.311353</td>\n    </tr>\n  </tbody>\n</table>\n</div>"
     },
     "execution_count": 73,
     "metadata": {},
     "output_type": "execute_result"
    }
   ],
   "execution_count": 73
  },
  {
   "metadata": {
    "ExecuteTime": {
     "end_time": "2024-05-10T11:44:31.908809Z",
     "start_time": "2024-05-10T11:44:31.787626Z"
    }
   },
   "cell_type": "code",
   "source": [
    "# Estatísticas resumidas antes da normalização\n",
    "alta_tensao_outros_df.describe()"
   ],
   "id": "91c6b3f70778ad94",
   "outputs": [
    {
     "data": {
      "text/plain": "       energia_ativa_alta_tensao_kwh  cpes_domestico_alta_tensao  \\\ncount                   4.641000e+03                 4641.000000   \nmean                    7.185369e+06                    0.039647   \nstd                     1.456594e+07                    0.206940   \nmin                     0.000000e+00                    0.000000   \n25%                     4.570540e+05                    0.000000   \n50%                     1.955336e+06                    0.000000   \n75%                     6.360625e+06                    0.000000   \nmax                     1.279470e+08                    2.000000   \n\n       cpes_nao_domestico_alta_tensao  cpes_outros_alta_tensao  \\\ncount                     4641.000000              4641.000000   \nmean                        95.380952                 0.408533   \nstd                        121.117813                 4.304804   \nmin                          0.000000                 0.000000   \n25%                         28.000000                 0.000000   \n50%                         51.000000                 0.000000   \n75%                        119.000000                 0.000000   \nmax                       1224.000000                75.000000   \n\n       densidade_populacional_pessoas_km2  \ncount                         4641.000000  \nmean                           314.542125  \nstd                            856.169267  \nmin                              4.000000  \n25%                             25.000000  \n50%                             66.000000  \n75%                            177.000000  \nmax                           7310.000000  ",
      "text/html": "<div>\n<style scoped>\n    .dataframe tbody tr th:only-of-type {\n        vertical-align: middle;\n    }\n\n    .dataframe tbody tr th {\n        vertical-align: top;\n    }\n\n    .dataframe thead th {\n        text-align: right;\n    }\n</style>\n<table border=\"1\" class=\"dataframe\">\n  <thead>\n    <tr style=\"text-align: right;\">\n      <th></th>\n      <th>energia_ativa_alta_tensao_kwh</th>\n      <th>cpes_domestico_alta_tensao</th>\n      <th>cpes_nao_domestico_alta_tensao</th>\n      <th>cpes_outros_alta_tensao</th>\n      <th>densidade_populacional_pessoas_km2</th>\n    </tr>\n  </thead>\n  <tbody>\n    <tr>\n      <th>count</th>\n      <td>4.641000e+03</td>\n      <td>4641.000000</td>\n      <td>4641.000000</td>\n      <td>4641.000000</td>\n      <td>4641.000000</td>\n    </tr>\n    <tr>\n      <th>mean</th>\n      <td>7.185369e+06</td>\n      <td>0.039647</td>\n      <td>95.380952</td>\n      <td>0.408533</td>\n      <td>314.542125</td>\n    </tr>\n    <tr>\n      <th>std</th>\n      <td>1.456594e+07</td>\n      <td>0.206940</td>\n      <td>121.117813</td>\n      <td>4.304804</td>\n      <td>856.169267</td>\n    </tr>\n    <tr>\n      <th>min</th>\n      <td>0.000000e+00</td>\n      <td>0.000000</td>\n      <td>0.000000</td>\n      <td>0.000000</td>\n      <td>4.000000</td>\n    </tr>\n    <tr>\n      <th>25%</th>\n      <td>4.570540e+05</td>\n      <td>0.000000</td>\n      <td>28.000000</td>\n      <td>0.000000</td>\n      <td>25.000000</td>\n    </tr>\n    <tr>\n      <th>50%</th>\n      <td>1.955336e+06</td>\n      <td>0.000000</td>\n      <td>51.000000</td>\n      <td>0.000000</td>\n      <td>66.000000</td>\n    </tr>\n    <tr>\n      <th>75%</th>\n      <td>6.360625e+06</td>\n      <td>0.000000</td>\n      <td>119.000000</td>\n      <td>0.000000</td>\n      <td>177.000000</td>\n    </tr>\n    <tr>\n      <th>max</th>\n      <td>1.279470e+08</td>\n      <td>2.000000</td>\n      <td>1224.000000</td>\n      <td>75.000000</td>\n      <td>7310.000000</td>\n    </tr>\n  </tbody>\n</table>\n</div>"
     },
     "execution_count": 74,
     "metadata": {},
     "output_type": "execute_result"
    }
   ],
   "execution_count": 74
  },
  {
   "metadata": {
    "ExecuteTime": {
     "end_time": "2024-05-10T11:44:31.962151Z",
     "start_time": "2024-05-10T11:44:31.885903Z"
    }
   },
   "cell_type": "code",
   "source": [
    "# Estatísticas resumidas depois da normalização\n",
    "alta_tensao_outros_scaled_z_score_df.describe()"
   ],
   "id": "62d66fedd48b4ff6",
   "outputs": [
    {
     "data": {
      "text/plain": "       energia_ativa_alta_tensao_kwh  cpes_domestico_alta_tensao  \\\ncount                   4.641000e+03                4.641000e+03   \nmean                    6.124049e-18                6.124049e-18   \nstd                     1.000108e+00                1.000108e+00   \nmin                    -4.933524e-01               -1.916053e-01   \n25%                    -4.619708e-01               -1.916053e-01   \n50%                    -3.590977e-01               -1.916053e-01   \n75%                    -5.662747e-02               -1.916053e-01   \nmax                     8.291579e+00                9.474051e+00   \n\n       cpes_nao_domestico_alta_tensao  cpes_outros_alta_tensao  \\\ncount                    4.641000e+03             4.641000e+03   \nmean                     7.655061e-18             6.124049e-18   \nstd                      1.000108e+00             1.000108e+00   \nmin                     -7.875904e-01            -9.491178e-02   \n25%                     -5.563856e-01            -9.491178e-02   \n50%                     -3.664674e-01            -9.491178e-02   \n75%                      1.950299e-01            -9.491178e-02   \nmax                      9.319361e+00             1.732936e+01   \n\n       densidade_populacional_pessoas_km2  \ncount                        4.641000e+03  \nmean                        -1.148259e-17  \nstd                          1.000108e+00  \nmin                         -3.627502e-01  \n25%                         -3.382197e-01  \n50%                         -2.903268e-01  \n75%                         -1.606656e-01  \nmax                          8.171529e+00  ",
      "text/html": "<div>\n<style scoped>\n    .dataframe tbody tr th:only-of-type {\n        vertical-align: middle;\n    }\n\n    .dataframe tbody tr th {\n        vertical-align: top;\n    }\n\n    .dataframe thead th {\n        text-align: right;\n    }\n</style>\n<table border=\"1\" class=\"dataframe\">\n  <thead>\n    <tr style=\"text-align: right;\">\n      <th></th>\n      <th>energia_ativa_alta_tensao_kwh</th>\n      <th>cpes_domestico_alta_tensao</th>\n      <th>cpes_nao_domestico_alta_tensao</th>\n      <th>cpes_outros_alta_tensao</th>\n      <th>densidade_populacional_pessoas_km2</th>\n    </tr>\n  </thead>\n  <tbody>\n    <tr>\n      <th>count</th>\n      <td>4.641000e+03</td>\n      <td>4.641000e+03</td>\n      <td>4.641000e+03</td>\n      <td>4.641000e+03</td>\n      <td>4.641000e+03</td>\n    </tr>\n    <tr>\n      <th>mean</th>\n      <td>6.124049e-18</td>\n      <td>6.124049e-18</td>\n      <td>7.655061e-18</td>\n      <td>6.124049e-18</td>\n      <td>-1.148259e-17</td>\n    </tr>\n    <tr>\n      <th>std</th>\n      <td>1.000108e+00</td>\n      <td>1.000108e+00</td>\n      <td>1.000108e+00</td>\n      <td>1.000108e+00</td>\n      <td>1.000108e+00</td>\n    </tr>\n    <tr>\n      <th>min</th>\n      <td>-4.933524e-01</td>\n      <td>-1.916053e-01</td>\n      <td>-7.875904e-01</td>\n      <td>-9.491178e-02</td>\n      <td>-3.627502e-01</td>\n    </tr>\n    <tr>\n      <th>25%</th>\n      <td>-4.619708e-01</td>\n      <td>-1.916053e-01</td>\n      <td>-5.563856e-01</td>\n      <td>-9.491178e-02</td>\n      <td>-3.382197e-01</td>\n    </tr>\n    <tr>\n      <th>50%</th>\n      <td>-3.590977e-01</td>\n      <td>-1.916053e-01</td>\n      <td>-3.664674e-01</td>\n      <td>-9.491178e-02</td>\n      <td>-2.903268e-01</td>\n    </tr>\n    <tr>\n      <th>75%</th>\n      <td>-5.662747e-02</td>\n      <td>-1.916053e-01</td>\n      <td>1.950299e-01</td>\n      <td>-9.491178e-02</td>\n      <td>-1.606656e-01</td>\n    </tr>\n    <tr>\n      <th>max</th>\n      <td>8.291579e+00</td>\n      <td>9.474051e+00</td>\n      <td>9.319361e+00</td>\n      <td>1.732936e+01</td>\n      <td>8.171529e+00</td>\n    </tr>\n  </tbody>\n</table>\n</div>"
     },
     "execution_count": 75,
     "metadata": {},
     "output_type": "execute_result"
    }
   ],
   "execution_count": 75
  },
  {
   "metadata": {
    "ExecuteTime": {
     "end_time": "2024-05-10T11:44:32.108926Z",
     "start_time": "2024-05-10T11:44:31.962347Z"
    }
   },
   "cell_type": "code",
   "source": [
    "#Guardar no ficheiro\n",
    "file_path = data_path + 'treated/prepared/numeric/normalized/train/dataset-numeric-high-tensions-2223-no-dates-zscore.csv'\n",
    "\n",
    "alta_tensao_outros_scaled_z_score_df.to_csv(file_path, index=False)\n",
    "\n",
    "print(\"DataFrame guardado em \", file_path)"
   ],
   "id": "f99d51cab9d05411",
   "outputs": [
    {
     "name": "stdout",
     "output_type": "stream",
     "text": [
      "DataFrame guardado em  ../data/treated/prepared/numeric/normalized/train/dataset-numeric-high-tensions-2223-no-dates-zscore.csv\n"
     ]
    }
   ],
   "execution_count": 76
  },
  {
   "cell_type": "code",
   "source": [
    "# Criar subplots\n",
    "fig, axes = plt.subplots(nrows=len(baixa_tensao_df.columns), ncols=2, figsize=(12, 40))\n",
    "\n",
    "num_bins = 10\n",
    "# Histogramas antes da normalização\n",
    "for i, col in enumerate(baixa_tensao_df.columns):\n",
    "    merged_df[col].hist(ax=axes[i, 0], bins=num_bins)\n",
    "    axes[i, 0].set_title(col + ' (Antes da Normalização)')\n",
    "\n",
    "# Histogramas depois da normalização\n",
    "for i, col in enumerate(baixa_tensao_scaled_min_max_df.columns):\n",
    "    baixa_tensao_scaled_min_max_df[col].hist(ax=axes[i, 1], bins=num_bins)\n",
    "    axes[i, 1].set_title(col + ' (Depois da Normalização)')\n",
    "\n",
    "plt.tight_layout()\n",
    "plt.show()\n"
   ],
   "metadata": {
    "collapsed": false,
    "ExecuteTime": {
     "end_time": "2024-05-10T11:44:33.339646Z",
     "start_time": "2024-05-10T11:44:32.089744Z"
    }
   },
   "id": "2654f10954965dd5",
   "outputs": [
    {
     "data": {
      "text/plain": "<Figure size 1200x4000 with 16 Axes>",
      "image/png": "[encoded data removed]"
     },
     "metadata": {},
     "output_type": "display_data"
    }
   ],
   "execution_count": 77
  }
 ],
 "metadata": {
  "kernelspec": {
   "display_name": "Python 3",
   "language": "python",
   "name": "python3"
  },
  "language_info": {
   "codemirror_mode": {
    "name": "ipython",
    "version": 2
   },
   "file_extension": ".py",
   "mimetype": "text/x-python",
   "name": "python",
   "nbconvert_exporter": "python",
   "pygments_lexer": "ipython2",
   "version": "2.7.6"
  }
 },
 "nbformat": 4,
 "nbformat_minor": 5
}
