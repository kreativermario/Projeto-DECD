{
 "cells": [
  {
   "cell_type": "code",
   "execution_count": 19,
   "id": "initial_id",
   "metadata": {
    "collapsed": true,
    "ExecuteTime": {
     "end_time": "2024-04-17T12:29:30.515344Z",
     "start_time": "2024-04-17T12:29:30.509841Z"
    }
   },
   "outputs": [],
   "source": [
    "# Preparação dos dados\n",
    "import os\n",
    "\n",
    "import numpy as np\n",
    "import pandas as pd\n",
    "\n",
    "%matplotlib inline\n",
    "import matplotlib.pyplot as plt\n",
    "import seaborn as sns\n",
    "\n",
    "sns.set_theme()"
   ]
  },
  {
   "cell_type": "code",
   "outputs": [],
   "source": [
    "## Importar dataset\n",
    "\n",
    "data_path = '../data/' if os.path.exists(\n",
    "    '../data/') else 'https://raw.githubusercontent.com/kreativermario/Projeto-DECD/master/data/'\n",
    "\n",
    "merged_path = data_path + 'treated/merged-dataset.csv'\n",
    "\n",
    "merged_df = pd.read_csv(merged_path)"
   ],
   "metadata": {
    "collapsed": false,
    "ExecuteTime": {
     "end_time": "2024-04-17T12:29:30.698458Z",
     "start_time": "2024-04-17T12:29:30.655682Z"
    }
   },
   "id": "f40a7dae517d25ca",
   "execution_count": 20
  },
  {
   "cell_type": "markdown",
   "source": [
    "## Criar o conjunto totalmente categórico\n",
    "- Visualizar os gráficos e ver a distribuição das variáveis.\n",
    "- Ver quantos outliers existem por variável"
   ],
   "metadata": {
    "collapsed": false
   },
   "id": "1227f3a67312a983"
  },
  {
   "cell_type": "code",
   "outputs": [
    {
     "name": "stdout",
     "output_type": "stream",
     "text": [
      "<class 'pandas.core.frame.DataFrame'>\n",
      "RangeIndex: 9790 entries, 0 to 9789\n",
      "Data columns (total 10 columns):\n",
      " #   Column                        Non-Null Count  Dtype  \n",
      "---  ------                        --------------  -----  \n",
      " 0   nível_de_tensão               9790 non-null   object \n",
      " 1   ano                           9790 non-null   int64  \n",
      " 2   mês                           9790 non-null   int64  \n",
      " 3   energia_ativa_(kwh)           9790 non-null   float64\n",
      " 4   cpes_doméstico                9790 non-null   float64\n",
      " 5   cpes_iluminação_pública       9790 non-null   float64\n",
      " 6   cpes_não_doméstico            9790 non-null   float64\n",
      " 7   cpes_outros                   9790 non-null   float64\n",
      " 8   cpes_mobilidade_eletrica_não  9790 non-null   float64\n",
      " 9   cpes_mobilidade_eletrica_sim  9790 non-null   float64\n",
      "dtypes: float64(7), int64(2), object(1)\n",
      "memory usage: 765.0+ KB\n"
     ]
    }
   ],
   "source": [
    "merged_df.info()"
   ],
   "metadata": {
    "collapsed": false,
    "ExecuteTime": {
     "end_time": "2024-04-17T12:29:30.715313Z",
     "start_time": "2024-04-17T12:29:30.704807Z"
    }
   },
   "id": "8f390c1993486e7d",
   "execution_count": 21
  },
  {
   "cell_type": "markdown",
   "source": [
    "### Sabendo a estrutura de dados do dataset, existem algumas variáveis que são obviamente categóricas.\n",
    "- São: nível_de_tensão, ano, mês\n",
    "- Pode-se observar esse facto utilizando a função unique()"
   ],
   "metadata": {
    "collapsed": false
   },
   "id": "5ee162eb18e98c33"
  },
  {
   "cell_type": "code",
   "outputs": [
    {
     "name": "stdout",
     "output_type": "stream",
     "text": [
      "Unique values in nível_de_tensão: ['Baixa Tensão' 'Muito Alta, Alta e Média Tensões']\n",
      "Unique values in ano: [2022 2023 2024]\n",
      "Unique values in mês: [ 8  9 10 11 12  1  2  3  4  5  6  7]\n"
     ]
    }
   ],
   "source": [
    "categorical_columns = ['nível_de_tensão', 'ano', 'mês']\n",
    "for column in categorical_columns:\n",
    "    print(f\"Unique values in {column}: {merged_df[column].unique()}\")\n"
   ],
   "metadata": {
    "collapsed": false,
    "ExecuteTime": {
     "end_time": "2024-04-17T12:29:30.732453Z",
     "start_time": "2024-04-17T12:29:30.723868Z"
    }
   },
   "id": "d009a4fff8284c74",
   "execution_count": 22
  },
  {
   "cell_type": "markdown",
   "source": [
    "\n"
   ],
   "metadata": {
    "collapsed": false
   },
   "id": "365ce89e599c8438"
  },
  {
   "cell_type": "code",
   "outputs": [],
   "source": [],
   "metadata": {
    "collapsed": false,
    "ExecuteTime": {
     "end_time": "2024-04-17T12:29:30.740958Z",
     "start_time": "2024-04-17T12:29:30.737463Z"
    }
   },
   "id": "f1bb4f5d95a0927d",
   "execution_count": 22
  },
  {
   "cell_type": "markdown",
   "source": [
    "## trasnformar e visualizar em numerico(float)"
   ],
   "metadata": {
    "collapsed": false
   },
   "id": "4acba4f5098af442"
  },
  {
   "cell_type": "code",
   "outputs": [
    {
     "name": "stdout",
     "output_type": "stream",
     "text": [
      "<class 'pandas.core.frame.DataFrame'>\n",
      "RangeIndex: 9790 entries, 0 to 9789\n",
      "Data columns (total 10 columns):\n",
      " #   Column                        Non-Null Count  Dtype  \n",
      "---  ------                        --------------  -----  \n",
      " 0   nível_de_tensão               9790 non-null   float64\n",
      " 1   ano                           9790 non-null   int64  \n",
      " 2   mês                           9790 non-null   int64  \n",
      " 3   energia_ativa_(kwh)           9790 non-null   float64\n",
      " 4   cpes_doméstico                9790 non-null   float64\n",
      " 5   cpes_iluminação_pública       9790 non-null   float64\n",
      " 6   cpes_não_doméstico            9790 non-null   float64\n",
      " 7   cpes_outros                   9790 non-null   float64\n",
      " 8   cpes_mobilidade_eletrica_não  9790 non-null   float64\n",
      " 9   cpes_mobilidade_eletrica_sim  9790 non-null   float64\n",
      "dtypes: float64(8), int64(2)\n",
      "memory usage: 765.0 KB\n",
      "       nível_de_tensão          ano          mês  energia_ativa_(kwh)  \\\n",
      "count      9790.000000  9790.000000  9790.000000         9.790000e+03   \n",
      "mean          1.498059  2022.777528     7.167926         6.698904e+06   \n",
      "std           0.500022     0.532665     3.624244         1.301081e+07   \n",
      "min           1.000000  2022.000000     1.000000         1.899000e+03   \n",
      "25%           1.000000  2022.000000     4.000000         8.817195e+05   \n",
      "50%           1.000000  2023.000000     8.000000         2.290926e+06   \n",
      "75%           2.000000  2023.000000    10.000000         6.572700e+06   \n",
      "max           2.000000  2024.000000    12.000000         1.633807e+08   \n",
      "\n",
      "       cpes_doméstico  cpes_iluminação_pública  cpes_não_doméstico  \\\n",
      "count     9790.000000              9790.000000         9790.000000   \n",
      "mean      9437.674055               107.457508         2176.664760   \n",
      "std      22853.667206               174.274733         5290.937589   \n",
      "min          0.000000                 0.000000            5.000000   \n",
      "25%          0.000000                 0.000000           52.000000   \n",
      "50%       1289.500000                15.000000          428.000000   \n",
      "75%       8943.000000               141.000000         2000.000000   \n",
      "max     312074.000000              1185.000000        79984.000000   \n",
      "\n",
      "       cpes_outros  cpes_mobilidade_eletrica_não  cpes_mobilidade_eletrica_sim  \n",
      "count  9790.000000                   9790.000000                   9790.000000  \n",
      "mean     64.922983                  13562.938815                      4.675996  \n",
      "std     159.619755                  22955.528565                     12.331074  \n",
      "min       0.000000                    572.000000                      0.000000  \n",
      "25%       0.000000                   3063.000000                      1.000000  \n",
      "50%       5.000000                   5692.500000                      1.000000  \n",
      "75%      55.000000                  14888.000000                      3.000000  \n",
      "max    2186.000000                 264079.000000                    191.000000  \n"
     ]
    }
   ],
   "source": [
    "# Define a dictionary for the new categories\n",
    "new_categories = {'Baixa Tensão': 1.0, 'Muito Alta, Alta e Média Tensões': 2.0}\n",
    "\n",
    "# Replace the values\n",
    "merged_df['nível_de_tensão'] = merged_df['nível_de_tensão'].map(new_categories)\n",
    "\n",
    "# Check the new DataFrame info\n",
    "merged_df.info()\n",
    "\n",
    "# Get descriptive statistics of numeric columns\n",
    "numeric_stats = merged_df.describe()\n",
    "\n",
    "# Print the statistics\n",
    "print(numeric_stats)"
   ],
   "metadata": {
    "collapsed": false,
    "ExecuteTime": {
     "end_time": "2024-04-17T12:29:30.797545Z",
     "start_time": "2024-04-17T12:29:30.741981Z"
    }
   },
   "id": "804fb4ebb6f9554b",
   "execution_count": 23
  },
  {
   "cell_type": "code",
   "outputs": [],
   "source": [],
   "metadata": {
    "collapsed": false,
    "ExecuteTime": {
     "end_time": "2024-04-17T12:29:30.807861Z",
     "start_time": "2024-04-17T12:29:30.804117Z"
    }
   },
   "id": "591db641f0c1f796",
   "execution_count": 23
  }
 ],
 "metadata": {
  "kernelspec": {
   "display_name": "Python 3",
   "language": "python",
   "name": "python3"
  },
  "language_info": {
   "codemirror_mode": {
    "name": "ipython",
    "version": 2
   },
   "file_extension": ".py",
   "mimetype": "text/x-python",
   "name": "python",
   "nbconvert_exporter": "python",
   "pygments_lexer": "ipython2",
   "version": "2.7.6"
  }
 },
 "nbformat": 4,
 "nbformat_minor": 5
}
