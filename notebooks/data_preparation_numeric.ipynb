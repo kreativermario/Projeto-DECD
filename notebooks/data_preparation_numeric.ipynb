{
 "cells": [
  {
   "cell_type": "code",
   "id": "initial_id",
   "metadata": {
    "collapsed": true,
    "ExecuteTime": {
     "end_time": "2024-04-20T12:27:47.204997Z",
     "start_time": "2024-04-20T12:27:46.826820Z"
    }
   },
   "source": [
    "# Preparação dos dados\n",
    "import os\n",
    "\n",
    "import numpy as np\n",
    "import pandas as pd\n",
    "\n",
    "%matplotlib inline\n",
    "import matplotlib.pyplot as plt\n",
    "import seaborn as sns\n",
    "import pandas as pd\n",
    "from sklearn.preprocessing import MinMaxScaler\n",
    "from sklearn.preprocessing import StandardScaler\n",
    "\n",
    "sns.set_theme()"
   ],
   "outputs": [],
   "execution_count": 1
  },
  {
   "cell_type": "code",
   "source": [
    "## Importar dataset\n",
    "\n",
    "data_path = '../data/' if os.path.exists(\n",
    "    '../data/') else 'https://raw.githubusercontent.com/kreativermario/Projeto-DECD/master/data/'\n",
    "\n",
    "merged_path = data_path + 'treated/prepared/merged-dataset.csv'\n",
    "\n",
    "merged_df = pd.read_csv(merged_path)"
   ],
   "metadata": {
    "collapsed": false,
    "ExecuteTime": {
     "end_time": "2024-04-20T12:27:47.250570Z",
     "start_time": "2024-04-20T12:27:47.204904Z"
    }
   },
   "id": "f40a7dae517d25ca",
   "outputs": [],
   "execution_count": 2
  },
  {
   "cell_type": "markdown",
   "source": [
    "## Criar o conjunto totalmente númerico\n",
    "- Visualizar os gráficos e ver a distribuição das variáveis.\n",
    "- Ver quantos outliers existem por variável"
   ],
   "metadata": {
    "collapsed": false
   },
   "id": "1227f3a67312a983"
  },
  {
   "cell_type": "code",
   "source": [
    "merged_df.info()"
   ],
   "metadata": {
    "collapsed": false,
    "ExecuteTime": {
     "end_time": "2024-04-20T12:27:47.283591Z",
     "start_time": "2024-04-20T12:27:47.229884Z"
    }
   },
   "id": "8f390c1993486e7d",
   "outputs": [
    {
     "name": "stdout",
     "output_type": "stream",
     "text": [
      "<class 'pandas.core.frame.DataFrame'>\n",
      "RangeIndex: 4914 entries, 0 to 4913\n",
      "Data columns (total 13 columns):\n",
      " #   Column                                     Non-Null Count  Dtype\n",
      "---  ------                                     --------------  -----\n",
      " 0   ano                                        4914 non-null   int64\n",
      " 1   mês                                        4914 non-null   int64\n",
      " 2   energia_ativa_baixa_tensao_kwh             4914 non-null   int64\n",
      " 3   energia_ativa_alta_tensao_kwh              4914 non-null   int64\n",
      " 4   cpes_domestico_baixa_tensao                4914 non-null   int64\n",
      " 5   cpes_domestico_alta_tensao                 4914 non-null   int64\n",
      " 6   cpes_iluminacao_publica_baixa_tensao       4914 non-null   int64\n",
      " 7   cpes_nao_domestico_baixa_tensao            4914 non-null   int64\n",
      " 8   cpes_nao_domestico_alta_tensao             4914 non-null   int64\n",
      " 9   cpes_outros_baixa_tensao                   4914 non-null   int64\n",
      " 10  cpes_outros_alta_tensao                    4914 non-null   int64\n",
      " 11  cpes_mobilidade_eletrica_nao_baixa_tensao  4914 non-null   int64\n",
      " 12  cpes_mobilidade_eletrica_sim_baixa_tensao  4914 non-null   int64\n",
      "dtypes: int64(13)\n",
      "memory usage: 499.2 KB\n"
     ]
    }
   ],
   "execution_count": 3
  },
  {
   "cell_type": "markdown",
   "source": [
    "### Separar os datasets em dois:\n",
    "    - Um para baixa e outro para alta tensão"
   ],
   "metadata": {
    "collapsed": false
   },
   "id": "bff0b206fb367ce7"
  },
  {
   "cell_type": "code",
   "source": [
    "# Selecionar as variáveis de baixa tensão\n",
    "baixa_tensao_columns = ['ano', 'mês', 'energia_ativa_baixa_tensao_kwh', \n",
    "                        'cpes_domestico_baixa_tensao', 'cpes_iluminacao_publica_baixa_tensao',\n",
    "                        'cpes_nao_domestico_baixa_tensao', 'cpes_outros_baixa_tensao',\n",
    "                        'cpes_mobilidade_eletrica_nao_baixa_tensao', 'cpes_mobilidade_eletrica_sim_baixa_tensao']\n",
    "\n",
    "# Selecionar as variáveis de alta tensão\n",
    "alta_tensao_columns = ['ano', 'mês', 'energia_ativa_alta_tensao_kwh',\n",
    "                       'cpes_domestico_alta_tensao',\n",
    "                       'cpes_nao_domestico_alta_tensao', 'cpes_outros_alta_tensao']\n",
    "\n",
    "# Criar os datasets separados\n",
    "baixa_tensao_df = merged_df[baixa_tensao_columns].copy()\n",
    "alta_tensao_df = merged_df[alta_tensao_columns].copy()"
   ],
   "metadata": {
    "collapsed": false,
    "ExecuteTime": {
     "end_time": "2024-04-20T12:27:47.309016Z",
     "start_time": "2024-04-20T12:27:47.266753Z"
    }
   },
   "id": "b378c4103bcab609",
   "outputs": [],
   "execution_count": 4
  },
  {
   "cell_type": "markdown",
   "source": [
    "#### Dataframe de baixa tensão"
   ],
   "metadata": {
    "collapsed": false
   },
   "id": "7e6a6c08e4ea9a55"
  },
  {
   "cell_type": "code",
   "source": [
    "baixa_tensao_df.info()\n",
    "baixa_tensao_df.describe()"
   ],
   "metadata": {
    "collapsed": false,
    "ExecuteTime": {
     "end_time": "2024-04-20T12:27:47.372035Z",
     "start_time": "2024-04-20T12:27:47.303062Z"
    }
   },
   "id": "4aca510bec815f4a",
   "outputs": [
    {
     "name": "stdout",
     "output_type": "stream",
     "text": [
      "<class 'pandas.core.frame.DataFrame'>\n",
      "RangeIndex: 4914 entries, 0 to 4913\n",
      "Data columns (total 9 columns):\n",
      " #   Column                                     Non-Null Count  Dtype\n",
      "---  ------                                     --------------  -----\n",
      " 0   ano                                        4914 non-null   int64\n",
      " 1   mês                                        4914 non-null   int64\n",
      " 2   energia_ativa_baixa_tensao_kwh             4914 non-null   int64\n",
      " 3   cpes_domestico_baixa_tensao                4914 non-null   int64\n",
      " 4   cpes_iluminacao_publica_baixa_tensao       4914 non-null   int64\n",
      " 5   cpes_nao_domestico_baixa_tensao            4914 non-null   int64\n",
      " 6   cpes_outros_baixa_tensao                   4914 non-null   int64\n",
      " 7   cpes_mobilidade_eletrica_nao_baixa_tensao  4914 non-null   int64\n",
      " 8   cpes_mobilidade_eletrica_sim_baixa_tensao  4914 non-null   int64\n",
      "dtypes: int64(9)\n",
      "memory usage: 345.6 KB\n"
     ]
    },
    {
     "data": {
      "text/plain": "               ano          mês  energia_ativa_baixa_tensao_kwh  \\\ncount  4914.000000  4914.000000                    4.914000e+03   \nmean   2022.777778     7.166667                    6.473418e+06   \nstd       0.532924     3.625129                    1.161919e+07   \nmin    2022.000000     1.000000                    1.390660e+05   \n25%    2022.000000     4.000000                    1.269620e+06   \n50%    2023.000000     8.000000                    2.618006e+06   \n75%    2023.000000    10.000000                    7.045592e+06   \nmax    2024.000000    12.000000                    1.633807e+08   \n\n       cpes_domestico_baixa_tensao  cpes_iluminacao_publica_baixa_tensao  \\\ncount                  4914.000000                           4914.000000   \nmean                  18802.326414                            214.084046   \nstd                   29402.960918                            194.120963   \nmin                    1042.000000                              7.000000   \n25%                    4581.000000                             91.000000   \n50%                    8936.000000                            141.000000   \n75%                   21427.000000                            280.000000   \nmax                  312074.000000                           1185.000000   \n\n       cpes_nao_domestico_baixa_tensao  cpes_outros_baixa_tensao  \\\ncount                      4914.000000               4914.000000   \nmean                       4241.061661                128.958079   \nstd                        6870.529538                206.186626   \nmin                         174.000000                  1.000000   \n25%                        1101.000000                 21.000000   \n50%                        1989.500000                 54.000000   \n75%                        4897.250000                157.000000   \nmax                       79984.000000               2186.000000   \n\n       cpes_mobilidade_eletrica_nao_baixa_tensao  \\\ncount                                4914.000000   \nmean                                27020.995319   \nstd                                 45854.018577   \nmin                                  1144.000000   \n25%                                  6044.000000   \n50%                                 11336.000000   \n75%                                 29565.500000   \nmax                                528158.000000   \n\n       cpes_mobilidade_eletrica_sim_baixa_tensao  \ncount                                4914.000000  \nmean                                    9.315832  \nstd                                    24.622134  \nmin                                     0.000000  \n25%                                     2.000000  \n50%                                     2.000000  \n75%                                     6.000000  \nmax                                   382.000000  ",
      "text/html": "<div>\n<style scoped>\n    .dataframe tbody tr th:only-of-type {\n        vertical-align: middle;\n    }\n\n    .dataframe tbody tr th {\n        vertical-align: top;\n    }\n\n    .dataframe thead th {\n        text-align: right;\n    }\n</style>\n<table border=\"1\" class=\"dataframe\">\n  <thead>\n    <tr style=\"text-align: right;\">\n      <th></th>\n      <th>ano</th>\n      <th>mês</th>\n      <th>energia_ativa_baixa_tensao_kwh</th>\n      <th>cpes_domestico_baixa_tensao</th>\n      <th>cpes_iluminacao_publica_baixa_tensao</th>\n      <th>cpes_nao_domestico_baixa_tensao</th>\n      <th>cpes_outros_baixa_tensao</th>\n      <th>cpes_mobilidade_eletrica_nao_baixa_tensao</th>\n      <th>cpes_mobilidade_eletrica_sim_baixa_tensao</th>\n    </tr>\n  </thead>\n  <tbody>\n    <tr>\n      <th>count</th>\n      <td>4914.000000</td>\n      <td>4914.000000</td>\n      <td>4.914000e+03</td>\n      <td>4914.000000</td>\n      <td>4914.000000</td>\n      <td>4914.000000</td>\n      <td>4914.000000</td>\n      <td>4914.000000</td>\n      <td>4914.000000</td>\n    </tr>\n    <tr>\n      <th>mean</th>\n      <td>2022.777778</td>\n      <td>7.166667</td>\n      <td>6.473418e+06</td>\n      <td>18802.326414</td>\n      <td>214.084046</td>\n      <td>4241.061661</td>\n      <td>128.958079</td>\n      <td>27020.995319</td>\n      <td>9.315832</td>\n    </tr>\n    <tr>\n      <th>std</th>\n      <td>0.532924</td>\n      <td>3.625129</td>\n      <td>1.161919e+07</td>\n      <td>29402.960918</td>\n      <td>194.120963</td>\n      <td>6870.529538</td>\n      <td>206.186626</td>\n      <td>45854.018577</td>\n      <td>24.622134</td>\n    </tr>\n    <tr>\n      <th>min</th>\n      <td>2022.000000</td>\n      <td>1.000000</td>\n      <td>1.390660e+05</td>\n      <td>1042.000000</td>\n      <td>7.000000</td>\n      <td>174.000000</td>\n      <td>1.000000</td>\n      <td>1144.000000</td>\n      <td>0.000000</td>\n    </tr>\n    <tr>\n      <th>25%</th>\n      <td>2022.000000</td>\n      <td>4.000000</td>\n      <td>1.269620e+06</td>\n      <td>4581.000000</td>\n      <td>91.000000</td>\n      <td>1101.000000</td>\n      <td>21.000000</td>\n      <td>6044.000000</td>\n      <td>2.000000</td>\n    </tr>\n    <tr>\n      <th>50%</th>\n      <td>2023.000000</td>\n      <td>8.000000</td>\n      <td>2.618006e+06</td>\n      <td>8936.000000</td>\n      <td>141.000000</td>\n      <td>1989.500000</td>\n      <td>54.000000</td>\n      <td>11336.000000</td>\n      <td>2.000000</td>\n    </tr>\n    <tr>\n      <th>75%</th>\n      <td>2023.000000</td>\n      <td>10.000000</td>\n      <td>7.045592e+06</td>\n      <td>21427.000000</td>\n      <td>280.000000</td>\n      <td>4897.250000</td>\n      <td>157.000000</td>\n      <td>29565.500000</td>\n      <td>6.000000</td>\n    </tr>\n    <tr>\n      <th>max</th>\n      <td>2024.000000</td>\n      <td>12.000000</td>\n      <td>1.633807e+08</td>\n      <td>312074.000000</td>\n      <td>1185.000000</td>\n      <td>79984.000000</td>\n      <td>2186.000000</td>\n      <td>528158.000000</td>\n      <td>382.000000</td>\n    </tr>\n  </tbody>\n</table>\n</div>"
     },
     "execution_count": 5,
     "metadata": {},
     "output_type": "execute_result"
    }
   ],
   "execution_count": 5
  },
  {
   "cell_type": "code",
   "source": [
    "# Verificar valores vazios\n",
    "nulls = baixa_tensao_df.isnull().sum()\n",
    "print('Número de nulls: ', nulls)\n",
    "\n",
    "# Verificar duplicados\n",
    "duplicates = baixa_tensao_df.duplicated()\n",
    "print(\"Número de linhas duplicadas:\", duplicates.sum())"
   ],
   "metadata": {
    "collapsed": false,
    "ExecuteTime": {
     "end_time": "2024-04-20T12:27:47.381634Z",
     "start_time": "2024-04-20T12:27:47.364526Z"
    }
   },
   "id": "efa1bbbb95cd08d9",
   "outputs": [
    {
     "name": "stdout",
     "output_type": "stream",
     "text": [
      "Número de nulls:  ano                                          0\n",
      "mês                                          0\n",
      "energia_ativa_baixa_tensao_kwh               0\n",
      "cpes_domestico_baixa_tensao                  0\n",
      "cpes_iluminacao_publica_baixa_tensao         0\n",
      "cpes_nao_domestico_baixa_tensao              0\n",
      "cpes_outros_baixa_tensao                     0\n",
      "cpes_mobilidade_eletrica_nao_baixa_tensao    0\n",
      "cpes_mobilidade_eletrica_sim_baixa_tensao    0\n",
      "dtype: int64\n",
      "Número de linhas duplicadas: 0\n"
     ]
    }
   ],
   "execution_count": 6
  },
  {
   "cell_type": "markdown",
   "source": [
    "#### Guardar dataset de baixa tensão"
   ],
   "metadata": {
    "collapsed": false
   },
   "id": "74d2d041ea780bee"
  },
  {
   "cell_type": "code",
   "source": [
    "file_path = data_path + 'treated/prepared/numeric/dataset-numeric-low-tension.csv'\n",
    "\n",
    "baixa_tensao_df.to_csv(file_path, index=False)\n",
    "\n",
    "print(\"DataFrame guardado em \", file_path)"
   ],
   "metadata": {
    "collapsed": false,
    "ExecuteTime": {
     "end_time": "2024-04-20T12:27:47.464244Z",
     "start_time": "2024-04-20T12:27:47.381758Z"
    }
   },
   "id": "e028d18366d9a253",
   "outputs": [
    {
     "name": "stdout",
     "output_type": "stream",
     "text": [
      "DataFrame guardado em  ../data/treated/prepared/numeric/dataset-numeric-low-tension.csv\n"
     ]
    }
   ],
   "execution_count": 7
  },
  {
   "cell_type": "markdown",
   "source": [
    "#### Dataframe de alta tensão"
   ],
   "metadata": {
    "collapsed": false
   },
   "id": "c92eaa4efa86541"
  },
  {
   "cell_type": "code",
   "source": [
    "alta_tensao_df.info()\n",
    "alta_tensao_df.describe()"
   ],
   "metadata": {
    "collapsed": false,
    "ExecuteTime": {
     "end_time": "2024-04-20T12:27:47.492865Z",
     "start_time": "2024-04-20T12:27:47.427767Z"
    }
   },
   "id": "fba2899aa3353f74",
   "outputs": [
    {
     "name": "stdout",
     "output_type": "stream",
     "text": [
      "<class 'pandas.core.frame.DataFrame'>\n",
      "RangeIndex: 4914 entries, 0 to 4913\n",
      "Data columns (total 6 columns):\n",
      " #   Column                          Non-Null Count  Dtype\n",
      "---  ------                          --------------  -----\n",
      " 0   ano                             4914 non-null   int64\n",
      " 1   mês                             4914 non-null   int64\n",
      " 2   energia_ativa_alta_tensao_kwh   4914 non-null   int64\n",
      " 3   cpes_domestico_alta_tensao      4914 non-null   int64\n",
      " 4   cpes_nao_domestico_alta_tensao  4914 non-null   int64\n",
      " 5   cpes_outros_alta_tensao         4914 non-null   int64\n",
      "dtypes: int64(6)\n",
      "memory usage: 230.5 KB\n"
     ]
    },
    {
     "data": {
      "text/plain": "               ano          mês  energia_ativa_alta_tensao_kwh  \\\ncount  4914.000000  4914.000000                   4.914000e+03   \nmean   2022.777778     7.166667                   6.872585e+06   \nstd       0.532924     3.625129                   1.423193e+07   \nmin    2022.000000     1.000000                   0.000000e+00   \n25%    2022.000000     4.000000                   4.162925e+05   \n50%    2023.000000     8.000000                   1.837661e+06   \n75%    2023.000000    10.000000                   5.952910e+06   \nmax    2024.000000    12.000000                   1.279470e+08   \n\n       cpes_domestico_alta_tensao  cpes_nao_domestico_alta_tensao  \\\ncount                 4914.000000                     4914.000000   \nmean                     0.040090                       95.435694   \nstd                      0.209242                      121.195235   \nmin                      0.000000                        0.000000   \n25%                      0.000000                       28.000000   \n50%                      0.000000                       51.000000   \n75%                      0.000000                      119.000000   \nmax                      2.000000                     1226.000000   \n\n       cpes_outros_alta_tensao  \ncount              4914.000000  \nmean                  0.385836  \nstd                   4.184540  \nmin                   0.000000  \n25%                   0.000000  \n50%                   0.000000  \n75%                   0.000000  \nmax                  75.000000  ",
      "text/html": "<div>\n<style scoped>\n    .dataframe tbody tr th:only-of-type {\n        vertical-align: middle;\n    }\n\n    .dataframe tbody tr th {\n        vertical-align: top;\n    }\n\n    .dataframe thead th {\n        text-align: right;\n    }\n</style>\n<table border=\"1\" class=\"dataframe\">\n  <thead>\n    <tr style=\"text-align: right;\">\n      <th></th>\n      <th>ano</th>\n      <th>mês</th>\n      <th>energia_ativa_alta_tensao_kwh</th>\n      <th>cpes_domestico_alta_tensao</th>\n      <th>cpes_nao_domestico_alta_tensao</th>\n      <th>cpes_outros_alta_tensao</th>\n    </tr>\n  </thead>\n  <tbody>\n    <tr>\n      <th>count</th>\n      <td>4914.000000</td>\n      <td>4914.000000</td>\n      <td>4.914000e+03</td>\n      <td>4914.000000</td>\n      <td>4914.000000</td>\n      <td>4914.000000</td>\n    </tr>\n    <tr>\n      <th>mean</th>\n      <td>2022.777778</td>\n      <td>7.166667</td>\n      <td>6.872585e+06</td>\n      <td>0.040090</td>\n      <td>95.435694</td>\n      <td>0.385836</td>\n    </tr>\n    <tr>\n      <th>std</th>\n      <td>0.532924</td>\n      <td>3.625129</td>\n      <td>1.423193e+07</td>\n      <td>0.209242</td>\n      <td>121.195235</td>\n      <td>4.184540</td>\n    </tr>\n    <tr>\n      <th>min</th>\n      <td>2022.000000</td>\n      <td>1.000000</td>\n      <td>0.000000e+00</td>\n      <td>0.000000</td>\n      <td>0.000000</td>\n      <td>0.000000</td>\n    </tr>\n    <tr>\n      <th>25%</th>\n      <td>2022.000000</td>\n      <td>4.000000</td>\n      <td>4.162925e+05</td>\n      <td>0.000000</td>\n      <td>28.000000</td>\n      <td>0.000000</td>\n    </tr>\n    <tr>\n      <th>50%</th>\n      <td>2023.000000</td>\n      <td>8.000000</td>\n      <td>1.837661e+06</td>\n      <td>0.000000</td>\n      <td>51.000000</td>\n      <td>0.000000</td>\n    </tr>\n    <tr>\n      <th>75%</th>\n      <td>2023.000000</td>\n      <td>10.000000</td>\n      <td>5.952910e+06</td>\n      <td>0.000000</td>\n      <td>119.000000</td>\n      <td>0.000000</td>\n    </tr>\n    <tr>\n      <th>max</th>\n      <td>2024.000000</td>\n      <td>12.000000</td>\n      <td>1.279470e+08</td>\n      <td>2.000000</td>\n      <td>1226.000000</td>\n      <td>75.000000</td>\n    </tr>\n  </tbody>\n</table>\n</div>"
     },
     "execution_count": 8,
     "metadata": {},
     "output_type": "execute_result"
    }
   ],
   "execution_count": 8
  },
  {
   "cell_type": "code",
   "source": [
    "# Verificar valores vazios\n",
    "nulls = alta_tensao_df.isnull().sum()\n",
    "print('Número de nulls: ', nulls)\n",
    "\n",
    "# Verificar duplicados\n",
    "duplicates = alta_tensao_df.duplicated()\n",
    "print(\"Número de linhas duplicadas:\", duplicates.sum())"
   ],
   "metadata": {
    "collapsed": false,
    "ExecuteTime": {
     "end_time": "2024-04-20T12:27:47.578898Z",
     "start_time": "2024-04-20T12:27:47.484150Z"
    }
   },
   "id": "649272f32cd2ea4c",
   "outputs": [
    {
     "name": "stdout",
     "output_type": "stream",
     "text": [
      "Número de nulls:  ano                               0\n",
      "mês                               0\n",
      "energia_ativa_alta_tensao_kwh     0\n",
      "cpes_domestico_alta_tensao        0\n",
      "cpes_nao_domestico_alta_tensao    0\n",
      "cpes_outros_alta_tensao           0\n",
      "dtype: int64\n",
      "Número de linhas duplicadas: 20\n"
     ]
    }
   ],
   "execution_count": 9
  },
  {
   "cell_type": "markdown",
   "source": [
    "#### Guardar dataset de alta tensão"
   ],
   "metadata": {
    "collapsed": false
   },
   "id": "a06a95d877a079e8"
  },
  {
   "cell_type": "code",
   "source": [
    "file_path = data_path + 'treated/prepared/numeric/dataset-numeric-high-tension.csv'\n",
    "\n",
    "alta_tensao_df.to_csv(file_path, index=False)\n",
    "\n",
    "print(\"DataFrame guardado em \", file_path)"
   ],
   "metadata": {
    "collapsed": false,
    "ExecuteTime": {
     "end_time": "2024-04-20T12:27:47.633651Z",
     "start_time": "2024-04-20T12:27:47.531941Z"
    }
   },
   "id": "44de16118c7906d5",
   "outputs": [
    {
     "name": "stdout",
     "output_type": "stream",
     "text": [
      "DataFrame guardado em  ../data/treated/prepared/numeric/dataset-numeric-high-tension.csv\n"
     ]
    }
   ],
   "execution_count": 10
  },
  {
   "cell_type": "markdown",
   "source": [
    "### Criar dois subsets dentro de cada dataset de nivel de tensao"
   ],
   "metadata": {
    "collapsed": false
   },
   "id": "960a51390a365ebb"
  },
  {
   "cell_type": "markdown",
   "source": [
    "#### Criar o subset de teste (Dados de 2024)"
   ],
   "metadata": {
    "collapsed": false
   },
   "id": "df18db74e5d9d5f"
  },
  {
   "cell_type": "code",
   "source": [
    "# Filtrar o DataFrame para obter os valores de 2024\n",
    "baixa_tensao_2024_df = baixa_tensao_df[(baixa_tensao_df['ano'] == 2024)].copy()\n",
    "\n",
    "baixa_tensao_2024_df.info()\n",
    "baixa_tensao_2024_df.describe()\n",
    "\n",
    "# Filtrar o DataFrame para obter os valores de 2024\n",
    "alta_tensao_2024_df = alta_tensao_df[(alta_tensao_df['ano'] == 2024)].copy()\n",
    "\n",
    "alta_tensao_2024_df.info()\n",
    "alta_tensao_2024_df.describe()"
   ],
   "metadata": {
    "collapsed": false,
    "ExecuteTime": {
     "end_time": "2024-04-20T12:27:47.711066Z",
     "start_time": "2024-04-20T12:27:47.609994Z"
    }
   },
   "id": "9a2a90a3a50f83f7",
   "outputs": [
    {
     "name": "stdout",
     "output_type": "stream",
     "text": [
      "<class 'pandas.core.frame.DataFrame'>\n",
      "Index: 273 entries, 17 to 4913\n",
      "Data columns (total 9 columns):\n",
      " #   Column                                     Non-Null Count  Dtype\n",
      "---  ------                                     --------------  -----\n",
      " 0   ano                                        273 non-null    int64\n",
      " 1   mês                                        273 non-null    int64\n",
      " 2   energia_ativa_baixa_tensao_kwh             273 non-null    int64\n",
      " 3   cpes_domestico_baixa_tensao                273 non-null    int64\n",
      " 4   cpes_iluminacao_publica_baixa_tensao       273 non-null    int64\n",
      " 5   cpes_nao_domestico_baixa_tensao            273 non-null    int64\n",
      " 6   cpes_outros_baixa_tensao                   273 non-null    int64\n",
      " 7   cpes_mobilidade_eletrica_nao_baixa_tensao  273 non-null    int64\n",
      " 8   cpes_mobilidade_eletrica_sim_baixa_tensao  273 non-null    int64\n",
      "dtypes: int64(9)\n",
      "memory usage: 21.3 KB\n",
      "<class 'pandas.core.frame.DataFrame'>\n",
      "Index: 273 entries, 17 to 4913\n",
      "Data columns (total 6 columns):\n",
      " #   Column                          Non-Null Count  Dtype\n",
      "---  ------                          --------------  -----\n",
      " 0   ano                             273 non-null    int64\n",
      " 1   mês                             273 non-null    int64\n",
      " 2   energia_ativa_alta_tensao_kwh   273 non-null    int64\n",
      " 3   cpes_domestico_alta_tensao      273 non-null    int64\n",
      " 4   cpes_nao_domestico_alta_tensao  273 non-null    int64\n",
      " 5   cpes_outros_alta_tensao         273 non-null    int64\n",
      "dtypes: int64(6)\n",
      "memory usage: 14.9 KB\n"
     ]
    },
    {
     "data": {
      "text/plain": "          ano    mês  energia_ativa_alta_tensao_kwh  \\\ncount   273.0  273.0                   2.730000e+02   \nmean   2024.0    1.0                   1.528861e+06   \nstd       0.0    0.0                   2.761528e+06   \nmin    2024.0    1.0                   0.000000e+00   \n25%    2024.0    1.0                   1.234420e+05   \n50%    2024.0    1.0                   5.144380e+05   \n75%    2024.0    1.0                   1.654728e+06   \nmax    2024.0    1.0                   2.596288e+07   \n\n       cpes_domestico_alta_tensao  cpes_nao_domestico_alta_tensao  \\\ncount                  273.000000                      273.000000   \nmean                     0.047619                       96.366300   \nstd                      0.245406                      122.724874   \nmin                      0.000000                        0.000000   \n25%                      0.000000                       29.000000   \n50%                      0.000000                       52.000000   \n75%                      0.000000                      119.000000   \nmax                      2.000000                     1226.000000   \n\n       cpes_outros_alta_tensao  \ncount                    273.0  \nmean                       0.0  \nstd                        0.0  \nmin                        0.0  \n25%                        0.0  \n50%                        0.0  \n75%                        0.0  \nmax                        0.0  ",
      "text/html": "<div>\n<style scoped>\n    .dataframe tbody tr th:only-of-type {\n        vertical-align: middle;\n    }\n\n    .dataframe tbody tr th {\n        vertical-align: top;\n    }\n\n    .dataframe thead th {\n        text-align: right;\n    }\n</style>\n<table border=\"1\" class=\"dataframe\">\n  <thead>\n    <tr style=\"text-align: right;\">\n      <th></th>\n      <th>ano</th>\n      <th>mês</th>\n      <th>energia_ativa_alta_tensao_kwh</th>\n      <th>cpes_domestico_alta_tensao</th>\n      <th>cpes_nao_domestico_alta_tensao</th>\n      <th>cpes_outros_alta_tensao</th>\n    </tr>\n  </thead>\n  <tbody>\n    <tr>\n      <th>count</th>\n      <td>273.0</td>\n      <td>273.0</td>\n      <td>2.730000e+02</td>\n      <td>273.000000</td>\n      <td>273.000000</td>\n      <td>273.0</td>\n    </tr>\n    <tr>\n      <th>mean</th>\n      <td>2024.0</td>\n      <td>1.0</td>\n      <td>1.528861e+06</td>\n      <td>0.047619</td>\n      <td>96.366300</td>\n      <td>0.0</td>\n    </tr>\n    <tr>\n      <th>std</th>\n      <td>0.0</td>\n      <td>0.0</td>\n      <td>2.761528e+06</td>\n      <td>0.245406</td>\n      <td>122.724874</td>\n      <td>0.0</td>\n    </tr>\n    <tr>\n      <th>min</th>\n      <td>2024.0</td>\n      <td>1.0</td>\n      <td>0.000000e+00</td>\n      <td>0.000000</td>\n      <td>0.000000</td>\n      <td>0.0</td>\n    </tr>\n    <tr>\n      <th>25%</th>\n      <td>2024.0</td>\n      <td>1.0</td>\n      <td>1.234420e+05</td>\n      <td>0.000000</td>\n      <td>29.000000</td>\n      <td>0.0</td>\n    </tr>\n    <tr>\n      <th>50%</th>\n      <td>2024.0</td>\n      <td>1.0</td>\n      <td>5.144380e+05</td>\n      <td>0.000000</td>\n      <td>52.000000</td>\n      <td>0.0</td>\n    </tr>\n    <tr>\n      <th>75%</th>\n      <td>2024.0</td>\n      <td>1.0</td>\n      <td>1.654728e+06</td>\n      <td>0.000000</td>\n      <td>119.000000</td>\n      <td>0.0</td>\n    </tr>\n    <tr>\n      <th>max</th>\n      <td>2024.0</td>\n      <td>1.0</td>\n      <td>2.596288e+07</td>\n      <td>2.000000</td>\n      <td>1226.000000</td>\n      <td>0.0</td>\n    </tr>\n  </tbody>\n</table>\n</div>"
     },
     "execution_count": 11,
     "metadata": {},
     "output_type": "execute_result"
    }
   ],
   "execution_count": 11
  },
  {
   "cell_type": "markdown",
   "source": [
    "Ver nulls e duplicados"
   ],
   "metadata": {
    "collapsed": false
   },
   "id": "22535fbfe7f3ef2c"
  },
  {
   "cell_type": "code",
   "source": [
    "# Verificar valores vazios\n",
    "nulls = baixa_tensao_2024_df.isnull().sum()\n",
    "print('Número de nulls: ', nulls)\n",
    "\n",
    "# Verificar duplicados\n",
    "duplicates = baixa_tensao_2024_df.duplicated()\n",
    "print(\"Número de linhas duplicadas:\", duplicates.sum())"
   ],
   "metadata": {
    "collapsed": false,
    "ExecuteTime": {
     "end_time": "2024-04-20T12:27:47.776652Z",
     "start_time": "2024-04-20T12:27:47.711950Z"
    }
   },
   "id": "8041494174caae33",
   "outputs": [
    {
     "name": "stdout",
     "output_type": "stream",
     "text": [
      "Número de nulls:  ano                                          0\n",
      "mês                                          0\n",
      "energia_ativa_baixa_tensao_kwh               0\n",
      "cpes_domestico_baixa_tensao                  0\n",
      "cpes_iluminacao_publica_baixa_tensao         0\n",
      "cpes_nao_domestico_baixa_tensao              0\n",
      "cpes_outros_baixa_tensao                     0\n",
      "cpes_mobilidade_eletrica_nao_baixa_tensao    0\n",
      "cpes_mobilidade_eletrica_sim_baixa_tensao    0\n",
      "dtype: int64\n",
      "Número de linhas duplicadas: 0\n"
     ]
    }
   ],
   "execution_count": 12
  },
  {
   "cell_type": "code",
   "source": [
    "# Verificar valores vazios\n",
    "nulls = alta_tensao_2024_df.isnull().sum()\n",
    "print('Número de nulls: ', nulls)\n",
    "\n",
    "# Verificar duplicados\n",
    "duplicates = alta_tensao_2024_df.duplicated()\n",
    "print(\"Número de linhas duplicadas:\", duplicates.sum())"
   ],
   "metadata": {
    "collapsed": false,
    "ExecuteTime": {
     "end_time": "2024-04-20T12:27:47.822047Z",
     "start_time": "2024-04-20T12:27:47.749740Z"
    }
   },
   "id": "15968a8f8b0051b3",
   "outputs": [
    {
     "name": "stdout",
     "output_type": "stream",
     "text": [
      "Número de nulls:  ano                               0\n",
      "mês                               0\n",
      "energia_ativa_alta_tensao_kwh     0\n",
      "cpes_domestico_alta_tensao        0\n",
      "cpes_nao_domestico_alta_tensao    0\n",
      "cpes_outros_alta_tensao           0\n",
      "dtype: int64\n",
      "Número de linhas duplicadas: 3\n"
     ]
    }
   ],
   "execution_count": 13
  },
  {
   "cell_type": "markdown",
   "source": [
    "##### Guardar subset de teste (2024)"
   ],
   "metadata": {
    "collapsed": false
   },
   "id": "9441065b02e04920"
  },
  {
   "cell_type": "code",
   "source": [
    "file_path = data_path + 'treated/prepared/numeric/test/dataset-numeric-low-tension-2024.csv'\n",
    "\n",
    "baixa_tensao_2024_df.to_csv(file_path, index=False)\n",
    "\n",
    "print(\"DataFrame guardado em \", file_path)"
   ],
   "metadata": {
    "collapsed": false,
    "ExecuteTime": {
     "end_time": "2024-04-20T12:27:47.897425Z",
     "start_time": "2024-04-20T12:27:47.822527Z"
    }
   },
   "id": "f1b7ede1f6fdc457",
   "outputs": [
    {
     "name": "stdout",
     "output_type": "stream",
     "text": [
      "DataFrame guardado em  ../data/treated/prepared/numeric/test/dataset-numeric-low-tension-2024.csv\n"
     ]
    }
   ],
   "execution_count": 14
  },
  {
   "cell_type": "code",
   "source": [
    "file_path = data_path + 'treated/prepared/numeric/test/dataset-numeric-high-tension-2024.csv'\n",
    "\n",
    "alta_tensao_2024_df.to_csv(file_path, index=False)\n",
    "\n",
    "print(\"DataFrame guardado em \", file_path)"
   ],
   "metadata": {
    "collapsed": false,
    "ExecuteTime": {
     "end_time": "2024-04-20T12:27:47.953706Z",
     "start_time": "2024-04-20T12:27:47.883881Z"
    }
   },
   "id": "243cae4a6b2a8a85",
   "outputs": [
    {
     "name": "stdout",
     "output_type": "stream",
     "text": [
      "DataFrame guardado em  ../data/treated/prepared/numeric/test/dataset-numeric-high-tension-2024.csv\n"
     ]
    }
   ],
   "execution_count": 15
  },
  {
   "cell_type": "markdown",
   "source": "#### Criar o subset de treino (2024)",
   "metadata": {
    "collapsed": false
   },
   "id": "11688dd8f60d4972"
  },
  {
   "cell_type": "code",
   "source": [
    "# Filtrar o DataFrame para obter os valores que não são de 2024\n",
    "baixa_tensao_outros_df = baixa_tensao_df[(baixa_tensao_df['ano'] != 2024)].copy()\n",
    "\n",
    "baixa_tensao_outros_df.info()\n",
    "baixa_tensao_outros_df.describe()\n",
    "\n",
    "# Filtrar o DataFrame para obter os valores que não são de 2024\n",
    "alta_tensao_outros_df = alta_tensao_df[(alta_tensao_df['ano'] != 2024)].copy()\n",
    "\n",
    "alta_tensao_outros_df.info()\n",
    "alta_tensao_outros_df.describe()"
   ],
   "metadata": {
    "collapsed": false,
    "ExecuteTime": {
     "end_time": "2024-04-20T12:27:48.003205Z",
     "start_time": "2024-04-20T12:27:47.954556Z"
    }
   },
   "id": "b89de3d0476b5e9d",
   "outputs": [
    {
     "name": "stdout",
     "output_type": "stream",
     "text": [
      "<class 'pandas.core.frame.DataFrame'>\n",
      "Index: 4641 entries, 0 to 4912\n",
      "Data columns (total 9 columns):\n",
      " #   Column                                     Non-Null Count  Dtype\n",
      "---  ------                                     --------------  -----\n",
      " 0   ano                                        4641 non-null   int64\n",
      " 1   mês                                        4641 non-null   int64\n",
      " 2   energia_ativa_baixa_tensao_kwh             4641 non-null   int64\n",
      " 3   cpes_domestico_baixa_tensao                4641 non-null   int64\n",
      " 4   cpes_iluminacao_publica_baixa_tensao       4641 non-null   int64\n",
      " 5   cpes_nao_domestico_baixa_tensao            4641 non-null   int64\n",
      " 6   cpes_outros_baixa_tensao                   4641 non-null   int64\n",
      " 7   cpes_mobilidade_eletrica_nao_baixa_tensao  4641 non-null   int64\n",
      " 8   cpes_mobilidade_eletrica_sim_baixa_tensao  4641 non-null   int64\n",
      "dtypes: int64(9)\n",
      "memory usage: 362.6 KB\n",
      "<class 'pandas.core.frame.DataFrame'>\n",
      "Index: 4641 entries, 0 to 4912\n",
      "Data columns (total 6 columns):\n",
      " #   Column                          Non-Null Count  Dtype\n",
      "---  ------                          --------------  -----\n",
      " 0   ano                             4641 non-null   int64\n",
      " 1   mês                             4641 non-null   int64\n",
      " 2   energia_ativa_alta_tensao_kwh   4641 non-null   int64\n",
      " 3   cpes_domestico_alta_tensao      4641 non-null   int64\n",
      " 4   cpes_nao_domestico_alta_tensao  4641 non-null   int64\n",
      " 5   cpes_outros_alta_tensao         4641 non-null   int64\n",
      "dtypes: int64(6)\n",
      "memory usage: 253.8 KB\n"
     ]
    },
    {
     "data": {
      "text/plain": "               ano          mês  energia_ativa_alta_tensao_kwh  \\\ncount  4641.000000  4641.000000                   4.641000e+03   \nmean   2022.705882     7.529412                   7.186922e+06   \nstd       0.455694     3.397902                   1.456843e+07   \nmin    2022.000000     1.000000                   0.000000e+00   \n25%    2022.000000     5.000000                   4.570540e+05   \n50%    2023.000000     8.000000                   1.955336e+06   \n75%    2023.000000    10.000000                   6.360625e+06   \nmax    2023.000000    12.000000                   1.279470e+08   \n\n       cpes_domestico_alta_tensao  cpes_nao_domestico_alta_tensao  \\\ncount                 4641.000000                     4641.000000   \nmean                     0.039647                       95.380952   \nstd                      0.206940                      121.117813   \nmin                      0.000000                        0.000000   \n25%                      0.000000                       28.000000   \n50%                      0.000000                       51.000000   \n75%                      0.000000                      119.000000   \nmax                      2.000000                     1224.000000   \n\n       cpes_outros_alta_tensao  \ncount              4641.000000  \nmean                  0.408533  \nstd                   4.304804  \nmin                   0.000000  \n25%                   0.000000  \n50%                   0.000000  \n75%                   0.000000  \nmax                  75.000000  ",
      "text/html": "<div>\n<style scoped>\n    .dataframe tbody tr th:only-of-type {\n        vertical-align: middle;\n    }\n\n    .dataframe tbody tr th {\n        vertical-align: top;\n    }\n\n    .dataframe thead th {\n        text-align: right;\n    }\n</style>\n<table border=\"1\" class=\"dataframe\">\n  <thead>\n    <tr style=\"text-align: right;\">\n      <th></th>\n      <th>ano</th>\n      <th>mês</th>\n      <th>energia_ativa_alta_tensao_kwh</th>\n      <th>cpes_domestico_alta_tensao</th>\n      <th>cpes_nao_domestico_alta_tensao</th>\n      <th>cpes_outros_alta_tensao</th>\n    </tr>\n  </thead>\n  <tbody>\n    <tr>\n      <th>count</th>\n      <td>4641.000000</td>\n      <td>4641.000000</td>\n      <td>4.641000e+03</td>\n      <td>4641.000000</td>\n      <td>4641.000000</td>\n      <td>4641.000000</td>\n    </tr>\n    <tr>\n      <th>mean</th>\n      <td>2022.705882</td>\n      <td>7.529412</td>\n      <td>7.186922e+06</td>\n      <td>0.039647</td>\n      <td>95.380952</td>\n      <td>0.408533</td>\n    </tr>\n    <tr>\n      <th>std</th>\n      <td>0.455694</td>\n      <td>3.397902</td>\n      <td>1.456843e+07</td>\n      <td>0.206940</td>\n      <td>121.117813</td>\n      <td>4.304804</td>\n    </tr>\n    <tr>\n      <th>min</th>\n      <td>2022.000000</td>\n      <td>1.000000</td>\n      <td>0.000000e+00</td>\n      <td>0.000000</td>\n      <td>0.000000</td>\n      <td>0.000000</td>\n    </tr>\n    <tr>\n      <th>25%</th>\n      <td>2022.000000</td>\n      <td>5.000000</td>\n      <td>4.570540e+05</td>\n      <td>0.000000</td>\n      <td>28.000000</td>\n      <td>0.000000</td>\n    </tr>\n    <tr>\n      <th>50%</th>\n      <td>2023.000000</td>\n      <td>8.000000</td>\n      <td>1.955336e+06</td>\n      <td>0.000000</td>\n      <td>51.000000</td>\n      <td>0.000000</td>\n    </tr>\n    <tr>\n      <th>75%</th>\n      <td>2023.000000</td>\n      <td>10.000000</td>\n      <td>6.360625e+06</td>\n      <td>0.000000</td>\n      <td>119.000000</td>\n      <td>0.000000</td>\n    </tr>\n    <tr>\n      <th>max</th>\n      <td>2023.000000</td>\n      <td>12.000000</td>\n      <td>1.279470e+08</td>\n      <td>2.000000</td>\n      <td>1224.000000</td>\n      <td>75.000000</td>\n    </tr>\n  </tbody>\n</table>\n</div>"
     },
     "execution_count": 16,
     "metadata": {},
     "output_type": "execute_result"
    }
   ],
   "execution_count": 16
  },
  {
   "cell_type": "markdown",
   "source": [
    "Ver nulls e duplicados"
   ],
   "metadata": {
    "collapsed": false
   },
   "id": "f8ffb798e68a4c52"
  },
  {
   "cell_type": "code",
   "source": [
    "# Verificar valores vazios\n",
    "nulls = baixa_tensao_outros_df.isnull().sum()\n",
    "print('Número de nulls: ', nulls)\n",
    "\n",
    "# Verificar duplicados\n",
    "duplicates = baixa_tensao_outros_df.duplicated()\n",
    "print(\"Número de linhas duplicadas:\", duplicates.sum())"
   ],
   "metadata": {
    "collapsed": false,
    "ExecuteTime": {
     "end_time": "2024-04-20T12:27:48.074269Z",
     "start_time": "2024-04-20T12:27:47.998587Z"
    }
   },
   "id": "3d89cb205e776aa5",
   "outputs": [
    {
     "name": "stdout",
     "output_type": "stream",
     "text": [
      "Número de nulls:  ano                                          0\n",
      "mês                                          0\n",
      "energia_ativa_baixa_tensao_kwh               0\n",
      "cpes_domestico_baixa_tensao                  0\n",
      "cpes_iluminacao_publica_baixa_tensao         0\n",
      "cpes_nao_domestico_baixa_tensao              0\n",
      "cpes_outros_baixa_tensao                     0\n",
      "cpes_mobilidade_eletrica_nao_baixa_tensao    0\n",
      "cpes_mobilidade_eletrica_sim_baixa_tensao    0\n",
      "dtype: int64\n",
      "Número de linhas duplicadas: 0\n"
     ]
    }
   ],
   "execution_count": 17
  },
  {
   "cell_type": "code",
   "source": [
    "# Verificar valores vazios\n",
    "nulls = alta_tensao_outros_df.isnull().sum()\n",
    "print('Número de nulls: ', nulls)\n",
    "\n",
    "# Verificar duplicados\n",
    "duplicates = alta_tensao_outros_df.duplicated()\n",
    "print(\"Número de linhas duplicadas:\", duplicates.sum())"
   ],
   "metadata": {
    "collapsed": false,
    "ExecuteTime": {
     "end_time": "2024-04-20T12:27:48.140260Z",
     "start_time": "2024-04-20T12:27:48.074956Z"
    }
   },
   "id": "344a622332b7f2c5",
   "outputs": [
    {
     "name": "stdout",
     "output_type": "stream",
     "text": [
      "Número de nulls:  ano                               0\n",
      "mês                               0\n",
      "energia_ativa_alta_tensao_kwh     0\n",
      "cpes_domestico_alta_tensao        0\n",
      "cpes_nao_domestico_alta_tensao    0\n",
      "cpes_outros_alta_tensao           0\n",
      "dtype: int64\n",
      "Número de linhas duplicadas: 17\n"
     ]
    }
   ],
   "execution_count": 18
  },
  {
   "cell_type": "markdown",
   "source": [
    "##### Guardar subset de treino (2022 e 2023)"
   ],
   "metadata": {
    "collapsed": false
   },
   "id": "6299c166cb9e80dd"
  },
  {
   "cell_type": "code",
   "source": [
    "file_path = data_path + 'treated/prepared/numeric/train/dataset-numeric-low-tension-2022-2023.csv'\n",
    "\n",
    "baixa_tensao_outros_df.to_csv(file_path, index=False)\n",
    "\n",
    "print(\"DataFrame guardado em \", file_path)"
   ],
   "metadata": {
    "collapsed": false,
    "ExecuteTime": {
     "end_time": "2024-04-20T12:27:48.210424Z",
     "start_time": "2024-04-20T12:27:48.128287Z"
    }
   },
   "id": "cbdac9eb701281a0",
   "outputs": [
    {
     "name": "stdout",
     "output_type": "stream",
     "text": [
      "DataFrame guardado em  ../data/treated/prepared/numeric/train/dataset-numeric-low-tension-2022-2023.csv\n"
     ]
    }
   ],
   "execution_count": 19
  },
  {
   "cell_type": "code",
   "source": [
    "file_path = data_path + 'treated/prepared/numeric/train/dataset-numeric-high-tension-2022-2023.csv'\n",
    "\n",
    "alta_tensao_outros_df.to_csv(file_path, index=False)\n",
    "\n",
    "print(\"DataFrame guardado em \", file_path)"
   ],
   "metadata": {
    "collapsed": false,
    "ExecuteTime": {
     "end_time": "2024-04-20T12:27:48.241773Z",
     "start_time": "2024-04-20T12:27:48.210805Z"
    }
   },
   "id": "d9ef3042ef5c3f72",
   "outputs": [
    {
     "name": "stdout",
     "output_type": "stream",
     "text": [
      "DataFrame guardado em  ../data/treated/prepared/numeric/train/dataset-numeric-high-tension-2022-2023.csv\n"
     ]
    }
   ],
   "execution_count": 20
  },
  {
   "cell_type": "markdown",
   "source": [
    "### Guardar versões dos datasets sem a coluna ano e mês pois estas não têm boa correlação e por isso não têm interesse na análise"
   ],
   "metadata": {
    "collapsed": false
   },
   "id": "e46a32faa146de3f"
  },
  {
   "cell_type": "code",
   "source": [
    "merged_df.drop(columns=['ano', 'mês'], inplace=True)\n",
    "\n",
    "file_path = data_path + 'treated/prepared/numeric/no-dates/dataset-numeric-both-tensions-no-dates.csv'\n",
    "\n",
    "merged_df.to_csv(file_path, index=False)\n",
    "\n",
    "print(\"DataFrame guardado em \", file_path)"
   ],
   "metadata": {
    "collapsed": false,
    "ExecuteTime": {
     "end_time": "2024-04-20T12:27:48.300165Z",
     "start_time": "2024-04-20T12:27:48.239009Z"
    }
   },
   "id": "817c5e26a875b918",
   "outputs": [
    {
     "name": "stdout",
     "output_type": "stream",
     "text": [
      "DataFrame guardado em  ../data/treated/prepared/numeric/no-dates/dataset-numeric-both-tensions-no-dates.csv\n"
     ]
    }
   ],
   "execution_count": 21
  },
  {
   "cell_type": "code",
   "source": [
    "baixa_tensao_df.drop(columns=['ano', 'mês'], inplace=True)\n",
    "\n",
    "file_path = data_path + 'treated/prepared/numeric/no-dates/dataset-numeric-low-tensions-no-dates.csv'\n",
    "\n",
    "baixa_tensao_df.to_csv(file_path, index=False)\n",
    "\n",
    "print(\"DataFrame guardado em \", file_path)"
   ],
   "metadata": {
    "collapsed": false,
    "ExecuteTime": {
     "end_time": "2024-04-20T12:27:48.316173Z",
     "start_time": "2024-04-20T12:27:48.287509Z"
    }
   },
   "id": "875c99f14499991b",
   "outputs": [
    {
     "name": "stdout",
     "output_type": "stream",
     "text": [
      "DataFrame guardado em  ../data/treated/prepared/numeric/no-dates/dataset-numeric-low-tensions-no-dates.csv\n"
     ]
    }
   ],
   "execution_count": 22
  },
  {
   "cell_type": "code",
   "source": [
    "baixa_tensao_2024_df.drop(columns=['ano', 'mês'], inplace=True)\n",
    "\n",
    "file_path = data_path + 'treated/prepared/numeric/no-dates/dataset-numeric-low-tensions-test-no-dates.csv'\n",
    "\n",
    "baixa_tensao_2024_df.to_csv(file_path, index=False)\n",
    "\n",
    "print(\"DataFrame guardado em \", file_path)"
   ],
   "metadata": {
    "collapsed": false,
    "ExecuteTime": {
     "end_time": "2024-04-20T12:27:48.380209Z",
     "start_time": "2024-04-20T12:27:48.316674Z"
    }
   },
   "id": "27498c6374f0bb6a",
   "outputs": [
    {
     "name": "stdout",
     "output_type": "stream",
     "text": [
      "DataFrame guardado em  ../data/treated/prepared/numeric/no-dates/dataset-numeric-low-tensions-test-no-dates.csv\n"
     ]
    }
   ],
   "execution_count": 23
  },
  {
   "cell_type": "code",
   "source": [
    "baixa_tensao_outros_df.drop(columns=['ano', 'mês'], inplace=True)\n",
    "\n",
    "file_path = data_path + 'treated/prepared/numeric/no-dates/dataset-numeric-low-tensions-train-no-dates.csv'\n",
    "\n",
    "baixa_tensao_outros_df.to_csv(file_path, index=False)\n",
    "\n",
    "print(\"DataFrame guardado em \", file_path)"
   ],
   "metadata": {
    "collapsed": false,
    "ExecuteTime": {
     "end_time": "2024-04-20T12:27:48.399327Z",
     "start_time": "2024-04-20T12:27:48.369786Z"
    }
   },
   "id": "40abe2645546d148",
   "outputs": [
    {
     "name": "stdout",
     "output_type": "stream",
     "text": [
      "DataFrame guardado em  ../data/treated/prepared/numeric/no-dates/dataset-numeric-low-tensions-train-no-dates.csv\n"
     ]
    }
   ],
   "execution_count": 24
  },
  {
   "cell_type": "code",
   "source": [
    "alta_tensao_df.drop(columns=['ano', 'mês'], inplace=True)\n",
    "\n",
    "file_path = data_path + 'treated/prepared/numeric/no-dates/dataset-numeric-high-tensions-no-dates.csv'\n",
    "\n",
    "alta_tensao_df.to_csv(file_path, index=False)\n",
    "\n",
    "print(\"DataFrame guardado em \", file_path)"
   ],
   "metadata": {
    "collapsed": false,
    "ExecuteTime": {
     "end_time": "2024-04-20T12:27:48.462603Z",
     "start_time": "2024-04-20T12:27:48.400022Z"
    }
   },
   "id": "eddd74c485791d2e",
   "outputs": [
    {
     "name": "stdout",
     "output_type": "stream",
     "text": [
      "DataFrame guardado em  ../data/treated/prepared/numeric/no-dates/dataset-numeric-high-tensions-no-dates.csv\n"
     ]
    }
   ],
   "execution_count": 25
  },
  {
   "cell_type": "code",
   "source": [
    "alta_tensao_2024_df.drop(columns=['ano', 'mês'], inplace=True)\n",
    "\n",
    "file_path = data_path + 'treated/prepared/numeric/no-dates/dataset-numeric-high-tensions-test-no-dates.csv'\n",
    "\n",
    "alta_tensao_2024_df.to_csv(file_path, index=False)\n",
    "\n",
    "print(\"DataFrame guardado em \", file_path)"
   ],
   "metadata": {
    "collapsed": false,
    "ExecuteTime": {
     "end_time": "2024-04-20T12:27:48.492593Z",
     "start_time": "2024-04-20T12:27:48.450329Z"
    }
   },
   "id": "3bbd37375a5f467",
   "outputs": [
    {
     "name": "stdout",
     "output_type": "stream",
     "text": [
      "DataFrame guardado em  ../data/treated/prepared/numeric/no-dates/dataset-numeric-high-tensions-test-no-dates.csv\n"
     ]
    }
   ],
   "execution_count": 26
  },
  {
   "cell_type": "code",
   "source": [
    "alta_tensao_outros_df.drop(columns=['ano', 'mês'], inplace=True)\n",
    "\n",
    "file_path = data_path + 'treated/prepared/numeric/no-dates/dataset-numeric-high-tensions-train-no-dates.csv'\n",
    "\n",
    "alta_tensao_outros_df.to_csv(file_path, index=False)\n",
    "\n",
    "print(\"DataFrame guardado em \", file_path)"
   ],
   "metadata": {
    "collapsed": false,
    "ExecuteTime": {
     "end_time": "2024-04-20T12:27:48.561256Z",
     "start_time": "2024-04-20T12:27:48.492260Z"
    }
   },
   "id": "f09af8c1afd88546",
   "outputs": [
    {
     "name": "stdout",
     "output_type": "stream",
     "text": [
      "DataFrame guardado em  ../data/treated/prepared/numeric/no-dates/dataset-numeric-high-tensions-train-no-dates.csv\n"
     ]
    }
   ],
   "execution_count": 27
  },
  {
   "cell_type": "markdown",
   "source": [
    "## Normalização MinMax"
   ],
   "metadata": {
    "collapsed": false
   },
   "id": "4acba4f5098af442"
  },
  {
   "cell_type": "markdown",
   "source": [
    "### Normalização MinMax das baixas tensões"
   ],
   "metadata": {
    "collapsed": false
   },
   "id": "15ace259bbfe3549"
  },
  {
   "cell_type": "code",
   "source": [
    "# Normalização com o MinMax\n",
    "scaler = MinMaxScaler()\n",
    "baixa_tensao_scaled_min_max_df = pd.DataFrame(scaler.fit_transform(baixa_tensao_df), columns=baixa_tensao_df.columns)\n",
    "\n",
    "baixa_tensao_scaled_min_max_df.head()"
   ],
   "metadata": {
    "collapsed": false,
    "ExecuteTime": {
     "end_time": "2024-04-20T12:27:48.580227Z",
     "start_time": "2024-04-20T12:27:48.550849Z"
    }
   },
   "id": "591db641f0c1f796",
   "outputs": [
    {
     "data": {
      "text/plain": "   energia_ativa_baixa_tensao_kwh  cpes_domestico_baixa_tensao  \\\n0                        0.035328                     0.061788   \n1                        0.031719                     0.061820   \n2                        0.032404                     0.061852   \n3                        0.034943                     0.061888   \n4                        0.040670                     0.061907   \n\n   cpes_iluminacao_publica_baixa_tensao  cpes_nao_domestico_baixa_tensao  \\\n0                              0.242784                         0.051923   \n1                              0.242784                         0.051836   \n2                              0.242784                         0.051723   \n3                              0.242784                         0.051798   \n4                              0.243633                         0.051848   \n\n   cpes_outros_baixa_tensao  cpes_mobilidade_eletrica_nao_baixa_tensao  \\\n0                  0.037529                                   0.039942   \n1                  0.036613                                   0.040705   \n2                  0.036613                                   0.041710   \n3                  0.036156                                   0.043251   \n4                  0.037071                                   0.044166   \n\n   cpes_mobilidade_eletrica_sim_baixa_tensao  \n0                                   0.005236  \n1                                   0.005236  \n2                                   0.005236  \n3                                   0.005236  \n4                                   0.005236  ",
      "text/html": "<div>\n<style scoped>\n    .dataframe tbody tr th:only-of-type {\n        vertical-align: middle;\n    }\n\n    .dataframe tbody tr th {\n        vertical-align: top;\n    }\n\n    .dataframe thead th {\n        text-align: right;\n    }\n</style>\n<table border=\"1\" class=\"dataframe\">\n  <thead>\n    <tr style=\"text-align: right;\">\n      <th></th>\n      <th>energia_ativa_baixa_tensao_kwh</th>\n      <th>cpes_domestico_baixa_tensao</th>\n      <th>cpes_iluminacao_publica_baixa_tensao</th>\n      <th>cpes_nao_domestico_baixa_tensao</th>\n      <th>cpes_outros_baixa_tensao</th>\n      <th>cpes_mobilidade_eletrica_nao_baixa_tensao</th>\n      <th>cpes_mobilidade_eletrica_sim_baixa_tensao</th>\n    </tr>\n  </thead>\n  <tbody>\n    <tr>\n      <th>0</th>\n      <td>0.035328</td>\n      <td>0.061788</td>\n      <td>0.242784</td>\n      <td>0.051923</td>\n      <td>0.037529</td>\n      <td>0.039942</td>\n      <td>0.005236</td>\n    </tr>\n    <tr>\n      <th>1</th>\n      <td>0.031719</td>\n      <td>0.061820</td>\n      <td>0.242784</td>\n      <td>0.051836</td>\n      <td>0.036613</td>\n      <td>0.040705</td>\n      <td>0.005236</td>\n    </tr>\n    <tr>\n      <th>2</th>\n      <td>0.032404</td>\n      <td>0.061852</td>\n      <td>0.242784</td>\n      <td>0.051723</td>\n      <td>0.036613</td>\n      <td>0.041710</td>\n      <td>0.005236</td>\n    </tr>\n    <tr>\n      <th>3</th>\n      <td>0.034943</td>\n      <td>0.061888</td>\n      <td>0.242784</td>\n      <td>0.051798</td>\n      <td>0.036156</td>\n      <td>0.043251</td>\n      <td>0.005236</td>\n    </tr>\n    <tr>\n      <th>4</th>\n      <td>0.040670</td>\n      <td>0.061907</td>\n      <td>0.243633</td>\n      <td>0.051848</td>\n      <td>0.037071</td>\n      <td>0.044166</td>\n      <td>0.005236</td>\n    </tr>\n  </tbody>\n</table>\n</div>"
     },
     "execution_count": 28,
     "metadata": {},
     "output_type": "execute_result"
    }
   ],
   "execution_count": 28
  },
  {
   "cell_type": "code",
   "source": [
    "# Estatísticas resumidas antes da normalização\n",
    "baixa_tensao_df.describe()"
   ],
   "metadata": {
    "collapsed": false,
    "ExecuteTime": {
     "end_time": "2024-04-20T12:27:48.644307Z",
     "start_time": "2024-04-20T12:27:48.578164Z"
    }
   },
   "id": "df5e6cf216a396a0",
   "outputs": [
    {
     "data": {
      "text/plain": "       energia_ativa_baixa_tensao_kwh  cpes_domestico_baixa_tensao  \\\ncount                    4.914000e+03                  4914.000000   \nmean                     6.473418e+06                 18802.326414   \nstd                      1.161919e+07                 29402.960918   \nmin                      1.390660e+05                  1042.000000   \n25%                      1.269620e+06                  4581.000000   \n50%                      2.618006e+06                  8936.000000   \n75%                      7.045592e+06                 21427.000000   \nmax                      1.633807e+08                312074.000000   \n\n       cpes_iluminacao_publica_baixa_tensao  cpes_nao_domestico_baixa_tensao  \\\ncount                           4914.000000                      4914.000000   \nmean                             214.084046                      4241.061661   \nstd                              194.120963                      6870.529538   \nmin                                7.000000                       174.000000   \n25%                               91.000000                      1101.000000   \n50%                              141.000000                      1989.500000   \n75%                              280.000000                      4897.250000   \nmax                             1185.000000                     79984.000000   \n\n       cpes_outros_baixa_tensao  cpes_mobilidade_eletrica_nao_baixa_tensao  \\\ncount               4914.000000                                4914.000000   \nmean                 128.958079                               27020.995319   \nstd                  206.186626                               45854.018577   \nmin                    1.000000                                1144.000000   \n25%                   21.000000                                6044.000000   \n50%                   54.000000                               11336.000000   \n75%                  157.000000                               29565.500000   \nmax                 2186.000000                              528158.000000   \n\n       cpes_mobilidade_eletrica_sim_baixa_tensao  \ncount                                4914.000000  \nmean                                    9.315832  \nstd                                    24.622134  \nmin                                     0.000000  \n25%                                     2.000000  \n50%                                     2.000000  \n75%                                     6.000000  \nmax                                   382.000000  ",
      "text/html": "<div>\n<style scoped>\n    .dataframe tbody tr th:only-of-type {\n        vertical-align: middle;\n    }\n\n    .dataframe tbody tr th {\n        vertical-align: top;\n    }\n\n    .dataframe thead th {\n        text-align: right;\n    }\n</style>\n<table border=\"1\" class=\"dataframe\">\n  <thead>\n    <tr style=\"text-align: right;\">\n      <th></th>\n      <th>energia_ativa_baixa_tensao_kwh</th>\n      <th>cpes_domestico_baixa_tensao</th>\n      <th>cpes_iluminacao_publica_baixa_tensao</th>\n      <th>cpes_nao_domestico_baixa_tensao</th>\n      <th>cpes_outros_baixa_tensao</th>\n      <th>cpes_mobilidade_eletrica_nao_baixa_tensao</th>\n      <th>cpes_mobilidade_eletrica_sim_baixa_tensao</th>\n    </tr>\n  </thead>\n  <tbody>\n    <tr>\n      <th>count</th>\n      <td>4.914000e+03</td>\n      <td>4914.000000</td>\n      <td>4914.000000</td>\n      <td>4914.000000</td>\n      <td>4914.000000</td>\n      <td>4914.000000</td>\n      <td>4914.000000</td>\n    </tr>\n    <tr>\n      <th>mean</th>\n      <td>6.473418e+06</td>\n      <td>18802.326414</td>\n      <td>214.084046</td>\n      <td>4241.061661</td>\n      <td>128.958079</td>\n      <td>27020.995319</td>\n      <td>9.315832</td>\n    </tr>\n    <tr>\n      <th>std</th>\n      <td>1.161919e+07</td>\n      <td>29402.960918</td>\n      <td>194.120963</td>\n      <td>6870.529538</td>\n      <td>206.186626</td>\n      <td>45854.018577</td>\n      <td>24.622134</td>\n    </tr>\n    <tr>\n      <th>min</th>\n      <td>1.390660e+05</td>\n      <td>1042.000000</td>\n      <td>7.000000</td>\n      <td>174.000000</td>\n      <td>1.000000</td>\n      <td>1144.000000</td>\n      <td>0.000000</td>\n    </tr>\n    <tr>\n      <th>25%</th>\n      <td>1.269620e+06</td>\n      <td>4581.000000</td>\n      <td>91.000000</td>\n      <td>1101.000000</td>\n      <td>21.000000</td>\n      <td>6044.000000</td>\n      <td>2.000000</td>\n    </tr>\n    <tr>\n      <th>50%</th>\n      <td>2.618006e+06</td>\n      <td>8936.000000</td>\n      <td>141.000000</td>\n      <td>1989.500000</td>\n      <td>54.000000</td>\n      <td>11336.000000</td>\n      <td>2.000000</td>\n    </tr>\n    <tr>\n      <th>75%</th>\n      <td>7.045592e+06</td>\n      <td>21427.000000</td>\n      <td>280.000000</td>\n      <td>4897.250000</td>\n      <td>157.000000</td>\n      <td>29565.500000</td>\n      <td>6.000000</td>\n    </tr>\n    <tr>\n      <th>max</th>\n      <td>1.633807e+08</td>\n      <td>312074.000000</td>\n      <td>1185.000000</td>\n      <td>79984.000000</td>\n      <td>2186.000000</td>\n      <td>528158.000000</td>\n      <td>382.000000</td>\n    </tr>\n  </tbody>\n</table>\n</div>"
     },
     "execution_count": 29,
     "metadata": {},
     "output_type": "execute_result"
    }
   ],
   "execution_count": 29
  },
  {
   "cell_type": "code",
   "source": [
    "# Estatísticas resumidas depois da normalização\n",
    "baixa_tensao_scaled_min_max_df.describe()"
   ],
   "metadata": {
    "collapsed": false,
    "ExecuteTime": {
     "end_time": "2024-04-20T12:27:48.701002Z",
     "start_time": "2024-04-20T12:27:48.632526Z"
    }
   },
   "id": "1ebd457641e32f19",
   "outputs": [
    {
     "data": {
      "text/plain": "       energia_ativa_baixa_tensao_kwh  cpes_domestico_baixa_tensao  \\\ncount                     4914.000000                  4914.000000   \nmean                         0.038804                     0.057101   \nstd                          0.071178                     0.094534   \nmin                          0.000000                     0.000000   \n25%                          0.006926                     0.011378   \n50%                          0.015186                     0.025380   \n75%                          0.042309                     0.065540   \nmax                          1.000000                     1.000000   \n\n       cpes_iluminacao_publica_baixa_tensao  cpes_nao_domestico_baixa_tensao  \\\ncount                           4914.000000                      4914.000000   \nmean                               0.175793                         0.050959   \nstd                                0.164789                         0.086086   \nmin                                0.000000                         0.000000   \n25%                                0.071307                         0.011615   \n50%                                0.113752                         0.022748   \n75%                                0.231749                         0.059181   \nmax                                1.000000                         1.000000   \n\n       cpes_outros_baixa_tensao  cpes_mobilidade_eletrica_nao_baixa_tensao  \\\ncount               4914.000000                                4914.000000   \nmean                   0.058562                                   0.049101   \nstd                    0.094365                                   0.087007   \nmin                    0.000000                                   0.000000   \n25%                    0.009153                                   0.009298   \n50%                    0.024256                                   0.019339   \n75%                    0.071396                                   0.053929   \nmax                    1.000000                                   1.000000   \n\n       cpes_mobilidade_eletrica_sim_baixa_tensao  \ncount                                4914.000000  \nmean                                    0.024387  \nstd                                     0.064456  \nmin                                     0.000000  \n25%                                     0.005236  \n50%                                     0.005236  \n75%                                     0.015707  \nmax                                     1.000000  ",
      "text/html": "<div>\n<style scoped>\n    .dataframe tbody tr th:only-of-type {\n        vertical-align: middle;\n    }\n\n    .dataframe tbody tr th {\n        vertical-align: top;\n    }\n\n    .dataframe thead th {\n        text-align: right;\n    }\n</style>\n<table border=\"1\" class=\"dataframe\">\n  <thead>\n    <tr style=\"text-align: right;\">\n      <th></th>\n      <th>energia_ativa_baixa_tensao_kwh</th>\n      <th>cpes_domestico_baixa_tensao</th>\n      <th>cpes_iluminacao_publica_baixa_tensao</th>\n      <th>cpes_nao_domestico_baixa_tensao</th>\n      <th>cpes_outros_baixa_tensao</th>\n      <th>cpes_mobilidade_eletrica_nao_baixa_tensao</th>\n      <th>cpes_mobilidade_eletrica_sim_baixa_tensao</th>\n    </tr>\n  </thead>\n  <tbody>\n    <tr>\n      <th>count</th>\n      <td>4914.000000</td>\n      <td>4914.000000</td>\n      <td>4914.000000</td>\n      <td>4914.000000</td>\n      <td>4914.000000</td>\n      <td>4914.000000</td>\n      <td>4914.000000</td>\n    </tr>\n    <tr>\n      <th>mean</th>\n      <td>0.038804</td>\n      <td>0.057101</td>\n      <td>0.175793</td>\n      <td>0.050959</td>\n      <td>0.058562</td>\n      <td>0.049101</td>\n      <td>0.024387</td>\n    </tr>\n    <tr>\n      <th>std</th>\n      <td>0.071178</td>\n      <td>0.094534</td>\n      <td>0.164789</td>\n      <td>0.086086</td>\n      <td>0.094365</td>\n      <td>0.087007</td>\n      <td>0.064456</td>\n    </tr>\n    <tr>\n      <th>min</th>\n      <td>0.000000</td>\n      <td>0.000000</td>\n      <td>0.000000</td>\n      <td>0.000000</td>\n      <td>0.000000</td>\n      <td>0.000000</td>\n      <td>0.000000</td>\n    </tr>\n    <tr>\n      <th>25%</th>\n      <td>0.006926</td>\n      <td>0.011378</td>\n      <td>0.071307</td>\n      <td>0.011615</td>\n      <td>0.009153</td>\n      <td>0.009298</td>\n      <td>0.005236</td>\n    </tr>\n    <tr>\n      <th>50%</th>\n      <td>0.015186</td>\n      <td>0.025380</td>\n      <td>0.113752</td>\n      <td>0.022748</td>\n      <td>0.024256</td>\n      <td>0.019339</td>\n      <td>0.005236</td>\n    </tr>\n    <tr>\n      <th>75%</th>\n      <td>0.042309</td>\n      <td>0.065540</td>\n      <td>0.231749</td>\n      <td>0.059181</td>\n      <td>0.071396</td>\n      <td>0.053929</td>\n      <td>0.015707</td>\n    </tr>\n    <tr>\n      <th>max</th>\n      <td>1.000000</td>\n      <td>1.000000</td>\n      <td>1.000000</td>\n      <td>1.000000</td>\n      <td>1.000000</td>\n      <td>1.000000</td>\n      <td>1.000000</td>\n    </tr>\n  </tbody>\n</table>\n</div>"
     },
     "execution_count": 30,
     "metadata": {},
     "output_type": "execute_result"
    }
   ],
   "execution_count": 30
  },
  {
   "metadata": {
    "ExecuteTime": {
     "end_time": "2024-04-20T12:27:48.770601Z",
     "start_time": "2024-04-20T12:27:48.690794Z"
    }
   },
   "cell_type": "code",
   "source": [
    "#Guardar no ficheiro\n",
    "file_path = data_path + 'treated/prepared/numeric/normalized/dataset-numeric-low-tensions-no-dates-minmax.csv'\n",
    "\n",
    "baixa_tensao_scaled_min_max_df.to_csv(file_path, index=False)\n",
    "\n",
    "print(\"DataFrame guardado em \", file_path)"
   ],
   "id": "aac310f215882316",
   "outputs": [
    {
     "name": "stdout",
     "output_type": "stream",
     "text": [
      "DataFrame guardado em  ../data/treated/prepared/numeric/normalized/dataset-numeric-low-tensions-no-dates-minmax.csv\n"
     ]
    }
   ],
   "execution_count": 31
  },
  {
   "metadata": {},
   "cell_type": "markdown",
   "source": "### Normalização MinMax das altas tensões",
   "id": "edae78f1567ee5ec"
  },
  {
   "metadata": {
    "ExecuteTime": {
     "end_time": "2024-04-20T12:27:48.827492Z",
     "start_time": "2024-04-20T12:27:48.744415Z"
    }
   },
   "cell_type": "code",
   "source": [
    "# Normalização com o MinMax\n",
    "scaler = MinMaxScaler()\n",
    "alta_tensao_scaled_min_max_df = pd.DataFrame(scaler.fit_transform(alta_tensao_df), columns=alta_tensao_df.columns)\n",
    "\n",
    "alta_tensao_scaled_min_max_df.head()"
   ],
   "id": "67484cb2ba700f50",
   "outputs": [
    {
     "data": {
      "text/plain": "   energia_ativa_alta_tensao_kwh  cpes_domestico_alta_tensao  \\\n0                       0.046047                         0.0   \n1                       0.048138                         0.0   \n2                       0.049713                         0.0   \n3                       0.046591                         0.0   \n4                       0.041206                         0.0   \n\n   cpes_nao_domestico_alta_tensao  cpes_outros_alta_tensao  \n0                        0.109299                      0.0  \n1                        0.109299                      0.0  \n2                        0.109299                      0.0  \n3                        0.109299                      0.0  \n4                        0.109299                      0.0  ",
      "text/html": "<div>\n<style scoped>\n    .dataframe tbody tr th:only-of-type {\n        vertical-align: middle;\n    }\n\n    .dataframe tbody tr th {\n        vertical-align: top;\n    }\n\n    .dataframe thead th {\n        text-align: right;\n    }\n</style>\n<table border=\"1\" class=\"dataframe\">\n  <thead>\n    <tr style=\"text-align: right;\">\n      <th></th>\n      <th>energia_ativa_alta_tensao_kwh</th>\n      <th>cpes_domestico_alta_tensao</th>\n      <th>cpes_nao_domestico_alta_tensao</th>\n      <th>cpes_outros_alta_tensao</th>\n    </tr>\n  </thead>\n  <tbody>\n    <tr>\n      <th>0</th>\n      <td>0.046047</td>\n      <td>0.0</td>\n      <td>0.109299</td>\n      <td>0.0</td>\n    </tr>\n    <tr>\n      <th>1</th>\n      <td>0.048138</td>\n      <td>0.0</td>\n      <td>0.109299</td>\n      <td>0.0</td>\n    </tr>\n    <tr>\n      <th>2</th>\n      <td>0.049713</td>\n      <td>0.0</td>\n      <td>0.109299</td>\n      <td>0.0</td>\n    </tr>\n    <tr>\n      <th>3</th>\n      <td>0.046591</td>\n      <td>0.0</td>\n      <td>0.109299</td>\n      <td>0.0</td>\n    </tr>\n    <tr>\n      <th>4</th>\n      <td>0.041206</td>\n      <td>0.0</td>\n      <td>0.109299</td>\n      <td>0.0</td>\n    </tr>\n  </tbody>\n</table>\n</div>"
     },
     "execution_count": 32,
     "metadata": {},
     "output_type": "execute_result"
    }
   ],
   "execution_count": 32
  },
  {
   "metadata": {
    "ExecuteTime": {
     "end_time": "2024-04-20T12:27:48.954489Z",
     "start_time": "2024-04-20T12:27:48.828010Z"
    }
   },
   "cell_type": "code",
   "source": [
    "# Estatísticas resumidas antes da normalização\n",
    "alta_tensao_df.describe()"
   ],
   "id": "f6af208228e09dc6",
   "outputs": [
    {
     "data": {
      "text/plain": "       energia_ativa_alta_tensao_kwh  cpes_domestico_alta_tensao  \\\ncount                   4.914000e+03                 4914.000000   \nmean                    6.872585e+06                    0.040090   \nstd                     1.423193e+07                    0.209242   \nmin                     0.000000e+00                    0.000000   \n25%                     4.162925e+05                    0.000000   \n50%                     1.837661e+06                    0.000000   \n75%                     5.952910e+06                    0.000000   \nmax                     1.279470e+08                    2.000000   \n\n       cpes_nao_domestico_alta_tensao  cpes_outros_alta_tensao  \ncount                     4914.000000              4914.000000  \nmean                        95.435694                 0.385836  \nstd                        121.195235                 4.184540  \nmin                          0.000000                 0.000000  \n25%                         28.000000                 0.000000  \n50%                         51.000000                 0.000000  \n75%                        119.000000                 0.000000  \nmax                       1226.000000                75.000000  ",
      "text/html": "<div>\n<style scoped>\n    .dataframe tbody tr th:only-of-type {\n        vertical-align: middle;\n    }\n\n    .dataframe tbody tr th {\n        vertical-align: top;\n    }\n\n    .dataframe thead th {\n        text-align: right;\n    }\n</style>\n<table border=\"1\" class=\"dataframe\">\n  <thead>\n    <tr style=\"text-align: right;\">\n      <th></th>\n      <th>energia_ativa_alta_tensao_kwh</th>\n      <th>cpes_domestico_alta_tensao</th>\n      <th>cpes_nao_domestico_alta_tensao</th>\n      <th>cpes_outros_alta_tensao</th>\n    </tr>\n  </thead>\n  <tbody>\n    <tr>\n      <th>count</th>\n      <td>4.914000e+03</td>\n      <td>4914.000000</td>\n      <td>4914.000000</td>\n      <td>4914.000000</td>\n    </tr>\n    <tr>\n      <th>mean</th>\n      <td>6.872585e+06</td>\n      <td>0.040090</td>\n      <td>95.435694</td>\n      <td>0.385836</td>\n    </tr>\n    <tr>\n      <th>std</th>\n      <td>1.423193e+07</td>\n      <td>0.209242</td>\n      <td>121.195235</td>\n      <td>4.184540</td>\n    </tr>\n    <tr>\n      <th>min</th>\n      <td>0.000000e+00</td>\n      <td>0.000000</td>\n      <td>0.000000</td>\n      <td>0.000000</td>\n    </tr>\n    <tr>\n      <th>25%</th>\n      <td>4.162925e+05</td>\n      <td>0.000000</td>\n      <td>28.000000</td>\n      <td>0.000000</td>\n    </tr>\n    <tr>\n      <th>50%</th>\n      <td>1.837661e+06</td>\n      <td>0.000000</td>\n      <td>51.000000</td>\n      <td>0.000000</td>\n    </tr>\n    <tr>\n      <th>75%</th>\n      <td>5.952910e+06</td>\n      <td>0.000000</td>\n      <td>119.000000</td>\n      <td>0.000000</td>\n    </tr>\n    <tr>\n      <th>max</th>\n      <td>1.279470e+08</td>\n      <td>2.000000</td>\n      <td>1226.000000</td>\n      <td>75.000000</td>\n    </tr>\n  </tbody>\n</table>\n</div>"
     },
     "execution_count": 33,
     "metadata": {},
     "output_type": "execute_result"
    }
   ],
   "execution_count": 33
  },
  {
   "metadata": {
    "ExecuteTime": {
     "end_time": "2024-04-20T12:27:49.015179Z",
     "start_time": "2024-04-20T12:27:48.919682Z"
    }
   },
   "cell_type": "code",
   "source": [
    "# Estatísticas resumidas depois da normalização\n",
    "alta_tensao_scaled_min_max_df.describe()"
   ],
   "id": "8cf7edb3801de8cf",
   "outputs": [
    {
     "data": {
      "text/plain": "       energia_ativa_alta_tensao_kwh  cpes_domestico_alta_tensao  \\\ncount                    4914.000000                 4914.000000   \nmean                        0.053714                    0.020045   \nstd                         0.111233                    0.104621   \nmin                         0.000000                    0.000000   \n25%                         0.003254                    0.000000   \n50%                         0.014363                    0.000000   \n75%                         0.046526                    0.000000   \nmax                         1.000000                    1.000000   \n\n       cpes_nao_domestico_alta_tensao  cpes_outros_alta_tensao  \ncount                     4914.000000              4914.000000  \nmean                         0.077843                 0.005144  \nstd                          0.098854                 0.055794  \nmin                          0.000000                 0.000000  \n25%                          0.022838                 0.000000  \n50%                          0.041599                 0.000000  \n75%                          0.097064                 0.000000  \nmax                          1.000000                 1.000000  ",
      "text/html": "<div>\n<style scoped>\n    .dataframe tbody tr th:only-of-type {\n        vertical-align: middle;\n    }\n\n    .dataframe tbody tr th {\n        vertical-align: top;\n    }\n\n    .dataframe thead th {\n        text-align: right;\n    }\n</style>\n<table border=\"1\" class=\"dataframe\">\n  <thead>\n    <tr style=\"text-align: right;\">\n      <th></th>\n      <th>energia_ativa_alta_tensao_kwh</th>\n      <th>cpes_domestico_alta_tensao</th>\n      <th>cpes_nao_domestico_alta_tensao</th>\n      <th>cpes_outros_alta_tensao</th>\n    </tr>\n  </thead>\n  <tbody>\n    <tr>\n      <th>count</th>\n      <td>4914.000000</td>\n      <td>4914.000000</td>\n      <td>4914.000000</td>\n      <td>4914.000000</td>\n    </tr>\n    <tr>\n      <th>mean</th>\n      <td>0.053714</td>\n      <td>0.020045</td>\n      <td>0.077843</td>\n      <td>0.005144</td>\n    </tr>\n    <tr>\n      <th>std</th>\n      <td>0.111233</td>\n      <td>0.104621</td>\n      <td>0.098854</td>\n      <td>0.055794</td>\n    </tr>\n    <tr>\n      <th>min</th>\n      <td>0.000000</td>\n      <td>0.000000</td>\n      <td>0.000000</td>\n      <td>0.000000</td>\n    </tr>\n    <tr>\n      <th>25%</th>\n      <td>0.003254</td>\n      <td>0.000000</td>\n      <td>0.022838</td>\n      <td>0.000000</td>\n    </tr>\n    <tr>\n      <th>50%</th>\n      <td>0.014363</td>\n      <td>0.000000</td>\n      <td>0.041599</td>\n      <td>0.000000</td>\n    </tr>\n    <tr>\n      <th>75%</th>\n      <td>0.046526</td>\n      <td>0.000000</td>\n      <td>0.097064</td>\n      <td>0.000000</td>\n    </tr>\n    <tr>\n      <th>max</th>\n      <td>1.000000</td>\n      <td>1.000000</td>\n      <td>1.000000</td>\n      <td>1.000000</td>\n    </tr>\n  </tbody>\n</table>\n</div>"
     },
     "execution_count": 34,
     "metadata": {},
     "output_type": "execute_result"
    }
   ],
   "execution_count": 34
  },
  {
   "metadata": {
    "ExecuteTime": {
     "end_time": "2024-04-20T12:27:49.105215Z",
     "start_time": "2024-04-20T12:27:49.015293Z"
    }
   },
   "cell_type": "code",
   "source": [
    "#Guardar no ficheiro\n",
    "file_path = data_path + 'treated/prepared/numeric/normalized/dataset-numeric-high-tensions-no-dates-minmax.csv'\n",
    "\n",
    "alta_tensao_scaled_min_max_df.to_csv(file_path, index=False)\n",
    "\n",
    "print(\"DataFrame guardado em \", file_path)"
   ],
   "id": "31639713143b2a61",
   "outputs": [
    {
     "name": "stdout",
     "output_type": "stream",
     "text": [
      "DataFrame guardado em  ../data/treated/prepared/numeric/normalized/dataset-numeric-high-tensions-no-dates-minmax.csv\n"
     ]
    }
   ],
   "execution_count": 35
  },
  {
   "metadata": {},
   "cell_type": "markdown",
   "source": "### Normalização MinMax baixa tensão 2024",
   "id": "22a0407f164f538a"
  },
  {
   "metadata": {
    "ExecuteTime": {
     "end_time": "2024-04-20T12:27:49.175476Z",
     "start_time": "2024-04-20T12:27:49.095606Z"
    }
   },
   "cell_type": "code",
   "source": [
    "# Normalização com o MinMax\n",
    "scaler = MinMaxScaler()\n",
    "baixa_tensao_2024_scaled_min_max_df = pd.DataFrame(scaler.fit_transform(baixa_tensao_2024_df), columns=baixa_tensao_2024_df.columns)\n",
    "\n",
    "baixa_tensao_2024_scaled_min_max_df.head()"
   ],
   "id": "b18a15ba3662a1c8",
   "outputs": [
    {
     "data": {
      "text/plain": "   energia_ativa_baixa_tensao_kwh  cpes_domestico_baixa_tensao  \\\n0                        0.049968                     0.062148   \n1                        0.005723                     0.008883   \n2                        0.006239                     0.007240   \n3                        0.032065                     0.033263   \n4                        0.122774                     0.134568   \n\n   cpes_iluminacao_publica_baixa_tensao  cpes_nao_domestico_baixa_tensao  \\\n0                              0.245331                         0.052217   \n1                              0.075552                         0.010188   \n2                              0.032258                         0.007105   \n3                              0.145161                         0.029373   \n4                              0.383701                         0.129284   \n\n   cpes_outros_baixa_tensao  cpes_mobilidade_eletrica_nao_baixa_tensao  \\\n0                  0.032619                                   0.062724   \n1                  0.003895                                   0.012399   \n2                  0.004869                                   0.006229   \n3                  0.045764                                   0.031089   \n4                  0.062804                                   0.150921   \n\n   cpes_mobilidade_eletrica_sim_baixa_tensao  \n0                                   0.015707  \n1                                   0.010471  \n2                                   0.005236  \n3                                   0.010471  \n4                                   0.057592  ",
      "text/html": "<div>\n<style scoped>\n    .dataframe tbody tr th:only-of-type {\n        vertical-align: middle;\n    }\n\n    .dataframe tbody tr th {\n        vertical-align: top;\n    }\n\n    .dataframe thead th {\n        text-align: right;\n    }\n</style>\n<table border=\"1\" class=\"dataframe\">\n  <thead>\n    <tr style=\"text-align: right;\">\n      <th></th>\n      <th>energia_ativa_baixa_tensao_kwh</th>\n      <th>cpes_domestico_baixa_tensao</th>\n      <th>cpes_iluminacao_publica_baixa_tensao</th>\n      <th>cpes_nao_domestico_baixa_tensao</th>\n      <th>cpes_outros_baixa_tensao</th>\n      <th>cpes_mobilidade_eletrica_nao_baixa_tensao</th>\n      <th>cpes_mobilidade_eletrica_sim_baixa_tensao</th>\n    </tr>\n  </thead>\n  <tbody>\n    <tr>\n      <th>0</th>\n      <td>0.049968</td>\n      <td>0.062148</td>\n      <td>0.245331</td>\n      <td>0.052217</td>\n      <td>0.032619</td>\n      <td>0.062724</td>\n      <td>0.015707</td>\n    </tr>\n    <tr>\n      <th>1</th>\n      <td>0.005723</td>\n      <td>0.008883</td>\n      <td>0.075552</td>\n      <td>0.010188</td>\n      <td>0.003895</td>\n      <td>0.012399</td>\n      <td>0.010471</td>\n    </tr>\n    <tr>\n      <th>2</th>\n      <td>0.006239</td>\n      <td>0.007240</td>\n      <td>0.032258</td>\n      <td>0.007105</td>\n      <td>0.004869</td>\n      <td>0.006229</td>\n      <td>0.005236</td>\n    </tr>\n    <tr>\n      <th>3</th>\n      <td>0.032065</td>\n      <td>0.033263</td>\n      <td>0.145161</td>\n      <td>0.029373</td>\n      <td>0.045764</td>\n      <td>0.031089</td>\n      <td>0.010471</td>\n    </tr>\n    <tr>\n      <th>4</th>\n      <td>0.122774</td>\n      <td>0.134568</td>\n      <td>0.383701</td>\n      <td>0.129284</td>\n      <td>0.062804</td>\n      <td>0.150921</td>\n      <td>0.057592</td>\n    </tr>\n  </tbody>\n</table>\n</div>"
     },
     "execution_count": 36,
     "metadata": {},
     "output_type": "execute_result"
    }
   ],
   "execution_count": 36
  },
  {
   "metadata": {
    "ExecuteTime": {
     "end_time": "2024-04-20T12:27:49.259505Z",
     "start_time": "2024-04-20T12:27:49.177021Z"
    }
   },
   "cell_type": "code",
   "source": [
    "# Estatísticas resumidas antes da normalização\n",
    "baixa_tensao_2024_df.describe()"
   ],
   "id": "9d486a3906a60f2e",
   "outputs": [
    {
     "data": {
      "text/plain": "       energia_ativa_baixa_tensao_kwh  cpes_domestico_baixa_tensao  \\\ncount                    2.730000e+02                   273.000000   \nmean                     3.549982e+06                 18918.054945   \nstd                      6.115725e+06                 29659.687532   \nmin                      1.390660e+05                  1042.000000   \n25%                      7.098610e+05                  4581.000000   \n50%                      1.448285e+06                  8938.000000   \n75%                      3.910561e+06                 21507.000000   \nmax                      6.678215e+07                312074.000000   \n\n       cpes_iluminacao_publica_baixa_tensao  cpes_nao_domestico_baixa_tensao  \\\ncount                            273.000000                       273.000000   \nmean                             215.216117                      4274.000000   \nstd                              195.769130                      6932.458115   \nmin                                7.000000                       183.000000   \n25%                               91.000000                      1112.000000   \n50%                              142.000000                      2003.000000   \n75%                              281.000000                      4929.000000   \nmax                             1185.000000                     79984.000000   \n\n       cpes_outros_baixa_tensao  cpes_mobilidade_eletrica_nao_baixa_tensao  \\\ncount                 273.00000                                 273.000000   \nmean                  120.29304                               32793.699634   \nstd                   198.23069                               50423.988286   \nmin                     1.00000                                1875.000000   \n25%                    18.00000                                8268.000000   \n50%                    49.00000                               15134.000000   \n75%                   141.00000                               38928.000000   \nmax                  2055.00000                              516364.000000   \n\n       cpes_mobilidade_eletrica_sim_baixa_tensao  \ncount                                 273.000000  \nmean                                   14.238095  \nstd                                    35.165550  \nmin                                     0.000000  \n25%                                     2.000000  \n50%                                     4.000000  \n75%                                     8.000000  \nmax                                   382.000000  ",
      "text/html": "<div>\n<style scoped>\n    .dataframe tbody tr th:only-of-type {\n        vertical-align: middle;\n    }\n\n    .dataframe tbody tr th {\n        vertical-align: top;\n    }\n\n    .dataframe thead th {\n        text-align: right;\n    }\n</style>\n<table border=\"1\" class=\"dataframe\">\n  <thead>\n    <tr style=\"text-align: right;\">\n      <th></th>\n      <th>energia_ativa_baixa_tensao_kwh</th>\n      <th>cpes_domestico_baixa_tensao</th>\n      <th>cpes_iluminacao_publica_baixa_tensao</th>\n      <th>cpes_nao_domestico_baixa_tensao</th>\n      <th>cpes_outros_baixa_tensao</th>\n      <th>cpes_mobilidade_eletrica_nao_baixa_tensao</th>\n      <th>cpes_mobilidade_eletrica_sim_baixa_tensao</th>\n    </tr>\n  </thead>\n  <tbody>\n    <tr>\n      <th>count</th>\n      <td>2.730000e+02</td>\n      <td>273.000000</td>\n      <td>273.000000</td>\n      <td>273.000000</td>\n      <td>273.00000</td>\n      <td>273.000000</td>\n      <td>273.000000</td>\n    </tr>\n    <tr>\n      <th>mean</th>\n      <td>3.549982e+06</td>\n      <td>18918.054945</td>\n      <td>215.216117</td>\n      <td>4274.000000</td>\n      <td>120.29304</td>\n      <td>32793.699634</td>\n      <td>14.238095</td>\n    </tr>\n    <tr>\n      <th>std</th>\n      <td>6.115725e+06</td>\n      <td>29659.687532</td>\n      <td>195.769130</td>\n      <td>6932.458115</td>\n      <td>198.23069</td>\n      <td>50423.988286</td>\n      <td>35.165550</td>\n    </tr>\n    <tr>\n      <th>min</th>\n      <td>1.390660e+05</td>\n      <td>1042.000000</td>\n      <td>7.000000</td>\n      <td>183.000000</td>\n      <td>1.00000</td>\n      <td>1875.000000</td>\n      <td>0.000000</td>\n    </tr>\n    <tr>\n      <th>25%</th>\n      <td>7.098610e+05</td>\n      <td>4581.000000</td>\n      <td>91.000000</td>\n      <td>1112.000000</td>\n      <td>18.00000</td>\n      <td>8268.000000</td>\n      <td>2.000000</td>\n    </tr>\n    <tr>\n      <th>50%</th>\n      <td>1.448285e+06</td>\n      <td>8938.000000</td>\n      <td>142.000000</td>\n      <td>2003.000000</td>\n      <td>49.00000</td>\n      <td>15134.000000</td>\n      <td>4.000000</td>\n    </tr>\n    <tr>\n      <th>75%</th>\n      <td>3.910561e+06</td>\n      <td>21507.000000</td>\n      <td>281.000000</td>\n      <td>4929.000000</td>\n      <td>141.00000</td>\n      <td>38928.000000</td>\n      <td>8.000000</td>\n    </tr>\n    <tr>\n      <th>max</th>\n      <td>6.678215e+07</td>\n      <td>312074.000000</td>\n      <td>1185.000000</td>\n      <td>79984.000000</td>\n      <td>2055.00000</td>\n      <td>516364.000000</td>\n      <td>382.000000</td>\n    </tr>\n  </tbody>\n</table>\n</div>"
     },
     "execution_count": 37,
     "metadata": {},
     "output_type": "execute_result"
    }
   ],
   "execution_count": 37
  },
  {
   "metadata": {
    "ExecuteTime": {
     "end_time": "2024-04-20T12:27:49.329534Z",
     "start_time": "2024-04-20T12:27:49.248597Z"
    }
   },
   "cell_type": "code",
   "source": [
    "# Estatísticas resumidas depois da normalização\n",
    "baixa_tensao_2024_scaled_min_max_df.describe()"
   ],
   "id": "42e06a953535bd79",
   "outputs": [
    {
     "data": {
      "text/plain": "       energia_ativa_baixa_tensao_kwh  cpes_domestico_baixa_tensao  \\\ncount                      273.000000                   273.000000   \nmean                         0.051182                     0.057473   \nstd                          0.091768                     0.095359   \nmin                          0.000000                     0.000000   \n25%                          0.008565                     0.011378   \n50%                          0.019645                     0.025386   \n75%                          0.056592                     0.065797   \nmax                          1.000000                     1.000000   \n\n       cpes_iluminacao_publica_baixa_tensao  cpes_nao_domestico_baixa_tensao  \\\ncount                            273.000000                       273.000000   \nmean                               0.176754                         0.051265   \nstd                                0.166188                         0.086872   \nmin                                0.000000                         0.000000   \n25%                                0.071307                         0.011641   \n50%                                0.114601                         0.022807   \n75%                                0.232598                         0.059473   \nmax                                1.000000                         1.000000   \n\n       cpes_outros_baixa_tensao  cpes_mobilidade_eletrica_nao_baixa_tensao  \\\ncount                273.000000                                 273.000000   \nmean                   0.058078                                   0.060096   \nstd                    0.096510                                   0.098008   \nmin                    0.000000                                   0.000000   \n25%                    0.008277                                   0.012426   \n50%                    0.023369                                   0.025771   \n75%                    0.068160                                   0.072019   \nmax                    1.000000                                   1.000000   \n\n       cpes_mobilidade_eletrica_sim_baixa_tensao  \ncount                                 273.000000  \nmean                                    0.037273  \nstd                                     0.092056  \nmin                                     0.000000  \n25%                                     0.005236  \n50%                                     0.010471  \n75%                                     0.020942  \nmax                                     1.000000  ",
      "text/html": "<div>\n<style scoped>\n    .dataframe tbody tr th:only-of-type {\n        vertical-align: middle;\n    }\n\n    .dataframe tbody tr th {\n        vertical-align: top;\n    }\n\n    .dataframe thead th {\n        text-align: right;\n    }\n</style>\n<table border=\"1\" class=\"dataframe\">\n  <thead>\n    <tr style=\"text-align: right;\">\n      <th></th>\n      <th>energia_ativa_baixa_tensao_kwh</th>\n      <th>cpes_domestico_baixa_tensao</th>\n      <th>cpes_iluminacao_publica_baixa_tensao</th>\n      <th>cpes_nao_domestico_baixa_tensao</th>\n      <th>cpes_outros_baixa_tensao</th>\n      <th>cpes_mobilidade_eletrica_nao_baixa_tensao</th>\n      <th>cpes_mobilidade_eletrica_sim_baixa_tensao</th>\n    </tr>\n  </thead>\n  <tbody>\n    <tr>\n      <th>count</th>\n      <td>273.000000</td>\n      <td>273.000000</td>\n      <td>273.000000</td>\n      <td>273.000000</td>\n      <td>273.000000</td>\n      <td>273.000000</td>\n      <td>273.000000</td>\n    </tr>\n    <tr>\n      <th>mean</th>\n      <td>0.051182</td>\n      <td>0.057473</td>\n      <td>0.176754</td>\n      <td>0.051265</td>\n      <td>0.058078</td>\n      <td>0.060096</td>\n      <td>0.037273</td>\n    </tr>\n    <tr>\n      <th>std</th>\n      <td>0.091768</td>\n      <td>0.095359</td>\n      <td>0.166188</td>\n      <td>0.086872</td>\n      <td>0.096510</td>\n      <td>0.098008</td>\n      <td>0.092056</td>\n    </tr>\n    <tr>\n      <th>min</th>\n      <td>0.000000</td>\n      <td>0.000000</td>\n      <td>0.000000</td>\n      <td>0.000000</td>\n      <td>0.000000</td>\n      <td>0.000000</td>\n      <td>0.000000</td>\n    </tr>\n    <tr>\n      <th>25%</th>\n      <td>0.008565</td>\n      <td>0.011378</td>\n      <td>0.071307</td>\n      <td>0.011641</td>\n      <td>0.008277</td>\n      <td>0.012426</td>\n      <td>0.005236</td>\n    </tr>\n    <tr>\n      <th>50%</th>\n      <td>0.019645</td>\n      <td>0.025386</td>\n      <td>0.114601</td>\n      <td>0.022807</td>\n      <td>0.023369</td>\n      <td>0.025771</td>\n      <td>0.010471</td>\n    </tr>\n    <tr>\n      <th>75%</th>\n      <td>0.056592</td>\n      <td>0.065797</td>\n      <td>0.232598</td>\n      <td>0.059473</td>\n      <td>0.068160</td>\n      <td>0.072019</td>\n      <td>0.020942</td>\n    </tr>\n    <tr>\n      <th>max</th>\n      <td>1.000000</td>\n      <td>1.000000</td>\n      <td>1.000000</td>\n      <td>1.000000</td>\n      <td>1.000000</td>\n      <td>1.000000</td>\n      <td>1.000000</td>\n    </tr>\n  </tbody>\n</table>\n</div>"
     },
     "execution_count": 38,
     "metadata": {},
     "output_type": "execute_result"
    }
   ],
   "execution_count": 38
  },
  {
   "metadata": {
    "ExecuteTime": {
     "end_time": "2024-04-20T12:27:49.388366Z",
     "start_time": "2024-04-20T12:27:49.306679Z"
    }
   },
   "cell_type": "code",
   "source": [
    "#Guardar no ficheiro\n",
    "file_path = data_path + 'treated/prepared/numeric/normalized/test/dataset-numeric-low-tensions-2024-no-dates-minmax.csv'\n",
    "\n",
    "baixa_tensao_2024_scaled_min_max_df.to_csv(file_path, index=False)\n",
    "\n",
    "print(\"DataFrame guardado em \", file_path)"
   ],
   "id": "b222c82e529b37c2",
   "outputs": [
    {
     "name": "stdout",
     "output_type": "stream",
     "text": [
      "DataFrame guardado em  ../data/treated/prepared/numeric/normalized/test/dataset-numeric-low-tensions-2024-no-dates-minmax.csv\n"
     ]
    }
   ],
   "execution_count": 39
  },
  {
   "metadata": {},
   "cell_type": "markdown",
   "source": "### Normalização MinMax baixa tensão 22/23\n",
   "id": "fe44c67098832124"
  },
  {
   "metadata": {
    "ExecuteTime": {
     "end_time": "2024-04-20T12:27:49.498687Z",
     "start_time": "2024-04-20T12:27:49.389763Z"
    }
   },
   "cell_type": "code",
   "source": [
    "# Normalização com o MinMax\n",
    "scaler = MinMaxScaler()\n",
    "baixa_tensao_outros_scaled_min_max_df = pd.DataFrame(scaler.fit_transform(baixa_tensao_outros_df), columns=baixa_tensao_outros_df.columns)\n",
    "\n",
    "baixa_tensao_outros_scaled_min_max_df.head()"
   ],
   "id": "6539471e72fa95f9",
   "outputs": [
    {
     "data": {
      "text/plain": "   energia_ativa_baixa_tensao_kwh  cpes_domestico_baixa_tensao  \\\n0                        0.034932                     0.061838   \n1                        0.031321                     0.061870   \n2                        0.032006                     0.061902   \n3                        0.034547                     0.061937   \n4                        0.040276                     0.061957   \n\n   cpes_iluminacao_publica_baixa_tensao  cpes_nao_domestico_baixa_tensao  \\\n0                              0.242991                         0.051942   \n1                              0.242991                         0.051854   \n2                              0.242991                         0.051741   \n3                              0.242991                         0.051816   \n4                              0.243840                         0.051866   \n\n   cpes_outros_baixa_tensao  cpes_mobilidade_eletrica_nao_baixa_tensao  \\\n0                  0.037529                                   0.039942   \n1                  0.036613                                   0.040705   \n2                  0.036613                                   0.041710   \n3                  0.036156                                   0.043251   \n4                  0.037071                                   0.044166   \n\n   cpes_mobilidade_eletrica_sim_baixa_tensao  \n0                                   0.005435  \n1                                   0.005435  \n2                                   0.005435  \n3                                   0.005435  \n4                                   0.005435  ",
      "text/html": "<div>\n<style scoped>\n    .dataframe tbody tr th:only-of-type {\n        vertical-align: middle;\n    }\n\n    .dataframe tbody tr th {\n        vertical-align: top;\n    }\n\n    .dataframe thead th {\n        text-align: right;\n    }\n</style>\n<table border=\"1\" class=\"dataframe\">\n  <thead>\n    <tr style=\"text-align: right;\">\n      <th></th>\n      <th>energia_ativa_baixa_tensao_kwh</th>\n      <th>cpes_domestico_baixa_tensao</th>\n      <th>cpes_iluminacao_publica_baixa_tensao</th>\n      <th>cpes_nao_domestico_baixa_tensao</th>\n      <th>cpes_outros_baixa_tensao</th>\n      <th>cpes_mobilidade_eletrica_nao_baixa_tensao</th>\n      <th>cpes_mobilidade_eletrica_sim_baixa_tensao</th>\n    </tr>\n  </thead>\n  <tbody>\n    <tr>\n      <th>0</th>\n      <td>0.034932</td>\n      <td>0.061838</td>\n      <td>0.242991</td>\n      <td>0.051942</td>\n      <td>0.037529</td>\n      <td>0.039942</td>\n      <td>0.005435</td>\n    </tr>\n    <tr>\n      <th>1</th>\n      <td>0.031321</td>\n      <td>0.061870</td>\n      <td>0.242991</td>\n      <td>0.051854</td>\n      <td>0.036613</td>\n      <td>0.040705</td>\n      <td>0.005435</td>\n    </tr>\n    <tr>\n      <th>2</th>\n      <td>0.032006</td>\n      <td>0.061902</td>\n      <td>0.242991</td>\n      <td>0.051741</td>\n      <td>0.036613</td>\n      <td>0.041710</td>\n      <td>0.005435</td>\n    </tr>\n    <tr>\n      <th>3</th>\n      <td>0.034547</td>\n      <td>0.061937</td>\n      <td>0.242991</td>\n      <td>0.051816</td>\n      <td>0.036156</td>\n      <td>0.043251</td>\n      <td>0.005435</td>\n    </tr>\n    <tr>\n      <th>4</th>\n      <td>0.040276</td>\n      <td>0.061957</td>\n      <td>0.243840</td>\n      <td>0.051866</td>\n      <td>0.037071</td>\n      <td>0.044166</td>\n      <td>0.005435</td>\n    </tr>\n  </tbody>\n</table>\n</div>"
     },
     "execution_count": 40,
     "metadata": {},
     "output_type": "execute_result"
    }
   ],
   "execution_count": 40
  },
  {
   "metadata": {
    "ExecuteTime": {
     "end_time": "2024-04-20T12:27:49.565084Z",
     "start_time": "2024-04-20T12:27:49.476165Z"
    }
   },
   "cell_type": "code",
   "source": [
    "# Estatísticas resumidas antes da normalização\n",
    "baixa_tensao_outros_df.describe()"
   ],
   "id": "6ac5326a755b5a0c",
   "outputs": [
    {
     "data": {
      "text/plain": "       energia_ativa_baixa_tensao_kwh  cpes_domestico_baixa_tensao  \\\ncount                    4.641000e+03                  4641.000000   \nmean                     6.645385e+06                 18795.518854   \nstd                      1.184161e+07                 29390.997527   \nmin                      2.060870e+05                  1042.000000   \n25%                      1.308489e+06                  4581.000000   \n50%                      2.682608e+06                  8936.000000   \n75%                      7.395246e+06                 21405.000000   \nmax                      1.633807e+08                311824.000000   \n\n       cpes_iluminacao_publica_baixa_tensao  cpes_nao_domestico_baixa_tensao  \\\ncount                           4641.000000                      4641.000000   \nmean                             214.017453                      4239.124111   \nstd                              194.044633                      6867.617704   \nmin                                7.000000                       174.000000   \n25%                               91.000000                      1101.000000   \n50%                              141.000000                      1989.000000   \n75%                              280.000000                      4892.000000   \nmax                             1184.000000                     79956.000000   \n\n       cpes_outros_baixa_tensao  cpes_mobilidade_eletrica_nao_baixa_tensao  \\\ncount               4641.000000                                4641.000000   \nmean                 129.467787                               26681.424477   \nstd                  206.654356                               45554.097416   \nmin                    1.000000                                1144.000000   \n25%                   21.000000                                5940.000000   \n50%                   54.000000                               11104.000000   \n75%                  157.000000                               29350.000000   \nmax                 2186.000000                              528158.000000   \n\n       cpes_mobilidade_eletrica_sim_baixa_tensao  \ncount                                4641.000000  \nmean                                    9.026287  \nstd                                    23.831036  \nmin                                     0.000000  \n25%                                     2.000000  \n50%                                     2.000000  \n75%                                     6.000000  \nmax                                   368.000000  ",
      "text/html": "<div>\n<style scoped>\n    .dataframe tbody tr th:only-of-type {\n        vertical-align: middle;\n    }\n\n    .dataframe tbody tr th {\n        vertical-align: top;\n    }\n\n    .dataframe thead th {\n        text-align: right;\n    }\n</style>\n<table border=\"1\" class=\"dataframe\">\n  <thead>\n    <tr style=\"text-align: right;\">\n      <th></th>\n      <th>energia_ativa_baixa_tensao_kwh</th>\n      <th>cpes_domestico_baixa_tensao</th>\n      <th>cpes_iluminacao_publica_baixa_tensao</th>\n      <th>cpes_nao_domestico_baixa_tensao</th>\n      <th>cpes_outros_baixa_tensao</th>\n      <th>cpes_mobilidade_eletrica_nao_baixa_tensao</th>\n      <th>cpes_mobilidade_eletrica_sim_baixa_tensao</th>\n    </tr>\n  </thead>\n  <tbody>\n    <tr>\n      <th>count</th>\n      <td>4.641000e+03</td>\n      <td>4641.000000</td>\n      <td>4641.000000</td>\n      <td>4641.000000</td>\n      <td>4641.000000</td>\n      <td>4641.000000</td>\n      <td>4641.000000</td>\n    </tr>\n    <tr>\n      <th>mean</th>\n      <td>6.645385e+06</td>\n      <td>18795.518854</td>\n      <td>214.017453</td>\n      <td>4239.124111</td>\n      <td>129.467787</td>\n      <td>26681.424477</td>\n      <td>9.026287</td>\n    </tr>\n    <tr>\n      <th>std</th>\n      <td>1.184161e+07</td>\n      <td>29390.997527</td>\n      <td>194.044633</td>\n      <td>6867.617704</td>\n      <td>206.654356</td>\n      <td>45554.097416</td>\n      <td>23.831036</td>\n    </tr>\n    <tr>\n      <th>min</th>\n      <td>2.060870e+05</td>\n      <td>1042.000000</td>\n      <td>7.000000</td>\n      <td>174.000000</td>\n      <td>1.000000</td>\n      <td>1144.000000</td>\n      <td>0.000000</td>\n    </tr>\n    <tr>\n      <th>25%</th>\n      <td>1.308489e+06</td>\n      <td>4581.000000</td>\n      <td>91.000000</td>\n      <td>1101.000000</td>\n      <td>21.000000</td>\n      <td>5940.000000</td>\n      <td>2.000000</td>\n    </tr>\n    <tr>\n      <th>50%</th>\n      <td>2.682608e+06</td>\n      <td>8936.000000</td>\n      <td>141.000000</td>\n      <td>1989.000000</td>\n      <td>54.000000</td>\n      <td>11104.000000</td>\n      <td>2.000000</td>\n    </tr>\n    <tr>\n      <th>75%</th>\n      <td>7.395246e+06</td>\n      <td>21405.000000</td>\n      <td>280.000000</td>\n      <td>4892.000000</td>\n      <td>157.000000</td>\n      <td>29350.000000</td>\n      <td>6.000000</td>\n    </tr>\n    <tr>\n      <th>max</th>\n      <td>1.633807e+08</td>\n      <td>311824.000000</td>\n      <td>1184.000000</td>\n      <td>79956.000000</td>\n      <td>2186.000000</td>\n      <td>528158.000000</td>\n      <td>368.000000</td>\n    </tr>\n  </tbody>\n</table>\n</div>"
     },
     "execution_count": 41,
     "metadata": {},
     "output_type": "execute_result"
    }
   ],
   "execution_count": 41
  },
  {
   "metadata": {
    "ExecuteTime": {
     "end_time": "2024-04-20T12:27:49.661442Z",
     "start_time": "2024-04-20T12:27:49.565569Z"
    }
   },
   "cell_type": "code",
   "source": [
    "# Estatísticas resumidas depois da normalização\n",
    "baixa_tensao_outros_scaled_min_max_df.describe()"
   ],
   "id": "6e61cf9c5af6ebb0",
   "outputs": [
    {
     "data": {
      "text/plain": "       energia_ativa_baixa_tensao_kwh  cpes_domestico_baixa_tensao  \\\ncount                     4641.000000                  4641.000000   \nmean                         0.039463                     0.057125   \nstd                          0.072570                     0.094571   \nmin                          0.000000                     0.000000   \n25%                          0.006756                     0.011387   \n50%                          0.015177                     0.025400   \n75%                          0.044058                     0.065522   \nmax                          1.000000                     1.000000   \n\n       cpes_iluminacao_publica_baixa_tensao  cpes_nao_domestico_baixa_tensao  \\\ncount                           4641.000000                      4641.000000   \nmean                               0.175886                         0.050953   \nstd                                0.164864                         0.086080   \nmin                                0.000000                         0.000000   \n25%                                0.071368                         0.011619   \n50%                                0.113849                         0.022749   \n75%                                0.231946                         0.059136   \nmax                                1.000000                         1.000000   \n\n       cpes_outros_baixa_tensao  cpes_mobilidade_eletrica_nao_baixa_tensao  \\\ncount               4641.000000                                4641.000000   \nmean                   0.058795                                   0.048457   \nstd                    0.094579                                   0.086438   \nmin                    0.000000                                   0.000000   \n25%                    0.009153                                   0.009100   \n50%                    0.024256                                   0.018899   \n75%                    0.071396                                   0.053520   \nmax                    1.000000                                   1.000000   \n\n       cpes_mobilidade_eletrica_sim_baixa_tensao  \ncount                                4641.000000  \nmean                                    0.024528  \nstd                                     0.064758  \nmin                                     0.000000  \n25%                                     0.005435  \n50%                                     0.005435  \n75%                                     0.016304  \nmax                                     1.000000  ",
      "text/html": "<div>\n<style scoped>\n    .dataframe tbody tr th:only-of-type {\n        vertical-align: middle;\n    }\n\n    .dataframe tbody tr th {\n        vertical-align: top;\n    }\n\n    .dataframe thead th {\n        text-align: right;\n    }\n</style>\n<table border=\"1\" class=\"dataframe\">\n  <thead>\n    <tr style=\"text-align: right;\">\n      <th></th>\n      <th>energia_ativa_baixa_tensao_kwh</th>\n      <th>cpes_domestico_baixa_tensao</th>\n      <th>cpes_iluminacao_publica_baixa_tensao</th>\n      <th>cpes_nao_domestico_baixa_tensao</th>\n      <th>cpes_outros_baixa_tensao</th>\n      <th>cpes_mobilidade_eletrica_nao_baixa_tensao</th>\n      <th>cpes_mobilidade_eletrica_sim_baixa_tensao</th>\n    </tr>\n  </thead>\n  <tbody>\n    <tr>\n      <th>count</th>\n      <td>4641.000000</td>\n      <td>4641.000000</td>\n      <td>4641.000000</td>\n      <td>4641.000000</td>\n      <td>4641.000000</td>\n      <td>4641.000000</td>\n      <td>4641.000000</td>\n    </tr>\n    <tr>\n      <th>mean</th>\n      <td>0.039463</td>\n      <td>0.057125</td>\n      <td>0.175886</td>\n      <td>0.050953</td>\n      <td>0.058795</td>\n      <td>0.048457</td>\n      <td>0.024528</td>\n    </tr>\n    <tr>\n      <th>std</th>\n      <td>0.072570</td>\n      <td>0.094571</td>\n      <td>0.164864</td>\n      <td>0.086080</td>\n      <td>0.094579</td>\n      <td>0.086438</td>\n      <td>0.064758</td>\n    </tr>\n    <tr>\n      <th>min</th>\n      <td>0.000000</td>\n      <td>0.000000</td>\n      <td>0.000000</td>\n      <td>0.000000</td>\n      <td>0.000000</td>\n      <td>0.000000</td>\n      <td>0.000000</td>\n    </tr>\n    <tr>\n      <th>25%</th>\n      <td>0.006756</td>\n      <td>0.011387</td>\n      <td>0.071368</td>\n      <td>0.011619</td>\n      <td>0.009153</td>\n      <td>0.009100</td>\n      <td>0.005435</td>\n    </tr>\n    <tr>\n      <th>50%</th>\n      <td>0.015177</td>\n      <td>0.025400</td>\n      <td>0.113849</td>\n      <td>0.022749</td>\n      <td>0.024256</td>\n      <td>0.018899</td>\n      <td>0.005435</td>\n    </tr>\n    <tr>\n      <th>75%</th>\n      <td>0.044058</td>\n      <td>0.065522</td>\n      <td>0.231946</td>\n      <td>0.059136</td>\n      <td>0.071396</td>\n      <td>0.053520</td>\n      <td>0.016304</td>\n    </tr>\n    <tr>\n      <th>max</th>\n      <td>1.000000</td>\n      <td>1.000000</td>\n      <td>1.000000</td>\n      <td>1.000000</td>\n      <td>1.000000</td>\n      <td>1.000000</td>\n      <td>1.000000</td>\n    </tr>\n  </tbody>\n</table>\n</div>"
     },
     "execution_count": 42,
     "metadata": {},
     "output_type": "execute_result"
    }
   ],
   "execution_count": 42
  },
  {
   "metadata": {
    "ExecuteTime": {
     "end_time": "2024-04-20T12:27:49.800804Z",
     "start_time": "2024-04-20T12:27:49.649403Z"
    }
   },
   "cell_type": "code",
   "source": [
    "#Guardar no ficheiro\n",
    "file_path = data_path + 'treated/prepared/numeric/normalized/train/dataset-numeric-low-tensions-2223-no-dates-minmax.csv'\n",
    "\n",
    "baixa_tensao_outros_scaled_min_max_df.to_csv(file_path, index=False)\n",
    "\n",
    "print(\"DataFrame guardado em \", file_path)"
   ],
   "id": "15a4b256e7bca3f6",
   "outputs": [
    {
     "name": "stdout",
     "output_type": "stream",
     "text": [
      "DataFrame guardado em  ../data/treated/prepared/numeric/normalized/train/dataset-numeric-low-tensions-2223-no-dates-minmax.csv\n"
     ]
    }
   ],
   "execution_count": 43
  },
  {
   "metadata": {},
   "cell_type": "markdown",
   "source": "",
   "id": "44a1a054320c2465"
  },
  {
   "metadata": {},
   "cell_type": "markdown",
   "source": "### Normalização MinMax alta tensão 2024",
   "id": "1a49e3e31d1ff8a4"
  },
  {
   "metadata": {
    "ExecuteTime": {
     "end_time": "2024-04-20T12:27:49.830851Z",
     "start_time": "2024-04-20T12:27:49.723271Z"
    }
   },
   "cell_type": "code",
   "source": [
    "# Normalização com o MinMax\n",
    "scaler = MinMaxScaler()\n",
    "alta_tensao_2024_scaled_min_max_df = pd.DataFrame(scaler.fit_transform(alta_tensao_2024_df), columns=alta_tensao_2024_df.columns)\n",
    "\n",
    "alta_tensao_2024_scaled_min_max_df.head()"
   ],
   "id": "1a33ff375589d186",
   "outputs": [
    {
     "data": {
      "text/plain": "   energia_ativa_alta_tensao_kwh  cpes_domestico_alta_tensao  \\\n0                       0.090654                         0.0   \n1                       0.003014                         0.0   \n2                       0.003152                         0.0   \n3                       0.089293                         0.0   \n4                       0.076864                         0.0   \n\n   cpes_nao_domestico_alta_tensao  cpes_outros_alta_tensao  \n0                        0.105220                      0.0  \n1                        0.013051                      0.0  \n2                        0.030995                      0.0  \n3                        0.074225                      0.0  \n4                        0.106852                      0.0  ",
      "text/html": "<div>\n<style scoped>\n    .dataframe tbody tr th:only-of-type {\n        vertical-align: middle;\n    }\n\n    .dataframe tbody tr th {\n        vertical-align: top;\n    }\n\n    .dataframe thead th {\n        text-align: right;\n    }\n</style>\n<table border=\"1\" class=\"dataframe\">\n  <thead>\n    <tr style=\"text-align: right;\">\n      <th></th>\n      <th>energia_ativa_alta_tensao_kwh</th>\n      <th>cpes_domestico_alta_tensao</th>\n      <th>cpes_nao_domestico_alta_tensao</th>\n      <th>cpes_outros_alta_tensao</th>\n    </tr>\n  </thead>\n  <tbody>\n    <tr>\n      <th>0</th>\n      <td>0.090654</td>\n      <td>0.0</td>\n      <td>0.105220</td>\n      <td>0.0</td>\n    </tr>\n    <tr>\n      <th>1</th>\n      <td>0.003014</td>\n      <td>0.0</td>\n      <td>0.013051</td>\n      <td>0.0</td>\n    </tr>\n    <tr>\n      <th>2</th>\n      <td>0.003152</td>\n      <td>0.0</td>\n      <td>0.030995</td>\n      <td>0.0</td>\n    </tr>\n    <tr>\n      <th>3</th>\n      <td>0.089293</td>\n      <td>0.0</td>\n      <td>0.074225</td>\n      <td>0.0</td>\n    </tr>\n    <tr>\n      <th>4</th>\n      <td>0.076864</td>\n      <td>0.0</td>\n      <td>0.106852</td>\n      <td>0.0</td>\n    </tr>\n  </tbody>\n</table>\n</div>"
     },
     "execution_count": 44,
     "metadata": {},
     "output_type": "execute_result"
    }
   ],
   "execution_count": 44
  },
  {
   "metadata": {
    "ExecuteTime": {
     "end_time": "2024-04-20T12:27:49.929998Z",
     "start_time": "2024-04-20T12:27:49.822494Z"
    }
   },
   "cell_type": "code",
   "source": [
    "# Estatísticas resumidas antes da normalização\n",
    "alta_tensao_2024_df.describe()"
   ],
   "id": "1fa2434103b7751",
   "outputs": [
    {
     "data": {
      "text/plain": "       energia_ativa_alta_tensao_kwh  cpes_domestico_alta_tensao  \\\ncount                   2.730000e+02                  273.000000   \nmean                    1.528861e+06                    0.047619   \nstd                     2.761528e+06                    0.245406   \nmin                     0.000000e+00                    0.000000   \n25%                     1.234420e+05                    0.000000   \n50%                     5.144380e+05                    0.000000   \n75%                     1.654728e+06                    0.000000   \nmax                     2.596288e+07                    2.000000   \n\n       cpes_nao_domestico_alta_tensao  cpes_outros_alta_tensao  \ncount                      273.000000                    273.0  \nmean                        96.366300                      0.0  \nstd                        122.724874                      0.0  \nmin                          0.000000                      0.0  \n25%                         29.000000                      0.0  \n50%                         52.000000                      0.0  \n75%                        119.000000                      0.0  \nmax                       1226.000000                      0.0  ",
      "text/html": "<div>\n<style scoped>\n    .dataframe tbody tr th:only-of-type {\n        vertical-align: middle;\n    }\n\n    .dataframe tbody tr th {\n        vertical-align: top;\n    }\n\n    .dataframe thead th {\n        text-align: right;\n    }\n</style>\n<table border=\"1\" class=\"dataframe\">\n  <thead>\n    <tr style=\"text-align: right;\">\n      <th></th>\n      <th>energia_ativa_alta_tensao_kwh</th>\n      <th>cpes_domestico_alta_tensao</th>\n      <th>cpes_nao_domestico_alta_tensao</th>\n      <th>cpes_outros_alta_tensao</th>\n    </tr>\n  </thead>\n  <tbody>\n    <tr>\n      <th>count</th>\n      <td>2.730000e+02</td>\n      <td>273.000000</td>\n      <td>273.000000</td>\n      <td>273.0</td>\n    </tr>\n    <tr>\n      <th>mean</th>\n      <td>1.528861e+06</td>\n      <td>0.047619</td>\n      <td>96.366300</td>\n      <td>0.0</td>\n    </tr>\n    <tr>\n      <th>std</th>\n      <td>2.761528e+06</td>\n      <td>0.245406</td>\n      <td>122.724874</td>\n      <td>0.0</td>\n    </tr>\n    <tr>\n      <th>min</th>\n      <td>0.000000e+00</td>\n      <td>0.000000</td>\n      <td>0.000000</td>\n      <td>0.0</td>\n    </tr>\n    <tr>\n      <th>25%</th>\n      <td>1.234420e+05</td>\n      <td>0.000000</td>\n      <td>29.000000</td>\n      <td>0.0</td>\n    </tr>\n    <tr>\n      <th>50%</th>\n      <td>5.144380e+05</td>\n      <td>0.000000</td>\n      <td>52.000000</td>\n      <td>0.0</td>\n    </tr>\n    <tr>\n      <th>75%</th>\n      <td>1.654728e+06</td>\n      <td>0.000000</td>\n      <td>119.000000</td>\n      <td>0.0</td>\n    </tr>\n    <tr>\n      <th>max</th>\n      <td>2.596288e+07</td>\n      <td>2.000000</td>\n      <td>1226.000000</td>\n      <td>0.0</td>\n    </tr>\n  </tbody>\n</table>\n</div>"
     },
     "execution_count": 45,
     "metadata": {},
     "output_type": "execute_result"
    }
   ],
   "execution_count": 45
  },
  {
   "metadata": {
    "ExecuteTime": {
     "end_time": "2024-04-20T12:27:49.973832Z",
     "start_time": "2024-04-20T12:27:49.921995Z"
    }
   },
   "cell_type": "code",
   "source": [
    "# Estatísticas resumidas depois da normalização\n",
    "alta_tensao_2024_scaled_min_max_df.describe()"
   ],
   "id": "31339fcc92b3169",
   "outputs": [
    {
     "data": {
      "text/plain": "       energia_ativa_alta_tensao_kwh  cpes_domestico_alta_tensao  \\\ncount                     273.000000                  273.000000   \nmean                        0.058886                    0.023810   \nstd                         0.106364                    0.122703   \nmin                         0.000000                    0.000000   \n25%                         0.004755                    0.000000   \n50%                         0.019814                    0.000000   \n75%                         0.063734                    0.000000   \nmax                         1.000000                    1.000000   \n\n       cpes_nao_domestico_alta_tensao  cpes_outros_alta_tensao  \ncount                      273.000000                    273.0  \nmean                         0.078602                      0.0  \nstd                          0.100102                      0.0  \nmin                          0.000000                      0.0  \n25%                          0.023654                      0.0  \n50%                          0.042414                      0.0  \n75%                          0.097064                      0.0  \nmax                          1.000000                      0.0  ",
      "text/html": "<div>\n<style scoped>\n    .dataframe tbody tr th:only-of-type {\n        vertical-align: middle;\n    }\n\n    .dataframe tbody tr th {\n        vertical-align: top;\n    }\n\n    .dataframe thead th {\n        text-align: right;\n    }\n</style>\n<table border=\"1\" class=\"dataframe\">\n  <thead>\n    <tr style=\"text-align: right;\">\n      <th></th>\n      <th>energia_ativa_alta_tensao_kwh</th>\n      <th>cpes_domestico_alta_tensao</th>\n      <th>cpes_nao_domestico_alta_tensao</th>\n      <th>cpes_outros_alta_tensao</th>\n    </tr>\n  </thead>\n  <tbody>\n    <tr>\n      <th>count</th>\n      <td>273.000000</td>\n      <td>273.000000</td>\n      <td>273.000000</td>\n      <td>273.0</td>\n    </tr>\n    <tr>\n      <th>mean</th>\n      <td>0.058886</td>\n      <td>0.023810</td>\n      <td>0.078602</td>\n      <td>0.0</td>\n    </tr>\n    <tr>\n      <th>std</th>\n      <td>0.106364</td>\n      <td>0.122703</td>\n      <td>0.100102</td>\n      <td>0.0</td>\n    </tr>\n    <tr>\n      <th>min</th>\n      <td>0.000000</td>\n      <td>0.000000</td>\n      <td>0.000000</td>\n      <td>0.0</td>\n    </tr>\n    <tr>\n      <th>25%</th>\n      <td>0.004755</td>\n      <td>0.000000</td>\n      <td>0.023654</td>\n      <td>0.0</td>\n    </tr>\n    <tr>\n      <th>50%</th>\n      <td>0.019814</td>\n      <td>0.000000</td>\n      <td>0.042414</td>\n      <td>0.0</td>\n    </tr>\n    <tr>\n      <th>75%</th>\n      <td>0.063734</td>\n      <td>0.000000</td>\n      <td>0.097064</td>\n      <td>0.0</td>\n    </tr>\n    <tr>\n      <th>max</th>\n      <td>1.000000</td>\n      <td>1.000000</td>\n      <td>1.000000</td>\n      <td>0.0</td>\n    </tr>\n  </tbody>\n</table>\n</div>"
     },
     "execution_count": 46,
     "metadata": {},
     "output_type": "execute_result"
    }
   ],
   "execution_count": 46
  },
  {
   "metadata": {
    "ExecuteTime": {
     "end_time": "2024-04-20T12:27:50.063287Z",
     "start_time": "2024-04-20T12:27:49.973662Z"
    }
   },
   "cell_type": "code",
   "source": [
    "#Guardar no ficheiro\n",
    "file_path = data_path + 'treated/prepared/numeric/normalized/test/dataset-numeric-high-tensions-2024-no-dates-minmax.csv'\n",
    "\n",
    "alta_tensao_2024_scaled_min_max_df.to_csv(file_path, index=False)\n",
    "\n",
    "print(\"DataFrame guardado em \", file_path)"
   ],
   "id": "61317b2d5b33e651",
   "outputs": [
    {
     "name": "stdout",
     "output_type": "stream",
     "text": [
      "DataFrame guardado em  ../data/treated/prepared/numeric/normalized/test/dataset-numeric-high-tensions-2024-no-dates-minmax.csv\n"
     ]
    }
   ],
   "execution_count": 47
  },
  {
   "metadata": {},
   "cell_type": "markdown",
   "source": "### Normalização MinMax alta tensão 22/23",
   "id": "c4787791fa19cd8a"
  },
  {
   "metadata": {
    "ExecuteTime": {
     "end_time": "2024-04-20T12:27:50.147732Z",
     "start_time": "2024-04-20T12:27:50.052068Z"
    }
   },
   "cell_type": "code",
   "source": [
    "# Normalização com o MinMax\n",
    "scaler = MinMaxScaler()\n",
    "alta_tensao_outros_scaled_min_max_df = pd.DataFrame(scaler.fit_transform(alta_tensao_outros_df), columns=alta_tensao_outros_df.columns)\n",
    "\n",
    "alta_tensao_outros_scaled_min_max_df.head()"
   ],
   "id": "ef7093ac26a9c895",
   "outputs": [
    {
     "data": {
      "text/plain": "   energia_ativa_alta_tensao_kwh  cpes_domestico_alta_tensao  \\\n0                       0.046047                         0.0   \n1                       0.048138                         0.0   \n2                       0.049713                         0.0   \n3                       0.046591                         0.0   \n4                       0.041206                         0.0   \n\n   cpes_nao_domestico_alta_tensao  cpes_outros_alta_tensao  \n0                        0.109477                      0.0  \n1                        0.109477                      0.0  \n2                        0.109477                      0.0  \n3                        0.109477                      0.0  \n4                        0.109477                      0.0  ",
      "text/html": "<div>\n<style scoped>\n    .dataframe tbody tr th:only-of-type {\n        vertical-align: middle;\n    }\n\n    .dataframe tbody tr th {\n        vertical-align: top;\n    }\n\n    .dataframe thead th {\n        text-align: right;\n    }\n</style>\n<table border=\"1\" class=\"dataframe\">\n  <thead>\n    <tr style=\"text-align: right;\">\n      <th></th>\n      <th>energia_ativa_alta_tensao_kwh</th>\n      <th>cpes_domestico_alta_tensao</th>\n      <th>cpes_nao_domestico_alta_tensao</th>\n      <th>cpes_outros_alta_tensao</th>\n    </tr>\n  </thead>\n  <tbody>\n    <tr>\n      <th>0</th>\n      <td>0.046047</td>\n      <td>0.0</td>\n      <td>0.109477</td>\n      <td>0.0</td>\n    </tr>\n    <tr>\n      <th>1</th>\n      <td>0.048138</td>\n      <td>0.0</td>\n      <td>0.109477</td>\n      <td>0.0</td>\n    </tr>\n    <tr>\n      <th>2</th>\n      <td>0.049713</td>\n      <td>0.0</td>\n      <td>0.109477</td>\n      <td>0.0</td>\n    </tr>\n    <tr>\n      <th>3</th>\n      <td>0.046591</td>\n      <td>0.0</td>\n      <td>0.109477</td>\n      <td>0.0</td>\n    </tr>\n    <tr>\n      <th>4</th>\n      <td>0.041206</td>\n      <td>0.0</td>\n      <td>0.109477</td>\n      <td>0.0</td>\n    </tr>\n  </tbody>\n</table>\n</div>"
     },
     "execution_count": 48,
     "metadata": {},
     "output_type": "execute_result"
    }
   ],
   "execution_count": 48
  },
  {
   "metadata": {
    "ExecuteTime": {
     "end_time": "2024-04-20T12:27:50.237064Z",
     "start_time": "2024-04-20T12:27:50.126800Z"
    }
   },
   "cell_type": "code",
   "source": [
    "# Estatísticas resumidas antes da normalização\n",
    "alta_tensao_outros_df.describe()"
   ],
   "id": "e8b610848671e4ad",
   "outputs": [
    {
     "data": {
      "text/plain": "       energia_ativa_alta_tensao_kwh  cpes_domestico_alta_tensao  \\\ncount                   4.641000e+03                 4641.000000   \nmean                    7.186922e+06                    0.039647   \nstd                     1.456843e+07                    0.206940   \nmin                     0.000000e+00                    0.000000   \n25%                     4.570540e+05                    0.000000   \n50%                     1.955336e+06                    0.000000   \n75%                     6.360625e+06                    0.000000   \nmax                     1.279470e+08                    2.000000   \n\n       cpes_nao_domestico_alta_tensao  cpes_outros_alta_tensao  \ncount                     4641.000000              4641.000000  \nmean                        95.380952                 0.408533  \nstd                        121.117813                 4.304804  \nmin                          0.000000                 0.000000  \n25%                         28.000000                 0.000000  \n50%                         51.000000                 0.000000  \n75%                        119.000000                 0.000000  \nmax                       1224.000000                75.000000  ",
      "text/html": "<div>\n<style scoped>\n    .dataframe tbody tr th:only-of-type {\n        vertical-align: middle;\n    }\n\n    .dataframe tbody tr th {\n        vertical-align: top;\n    }\n\n    .dataframe thead th {\n        text-align: right;\n    }\n</style>\n<table border=\"1\" class=\"dataframe\">\n  <thead>\n    <tr style=\"text-align: right;\">\n      <th></th>\n      <th>energia_ativa_alta_tensao_kwh</th>\n      <th>cpes_domestico_alta_tensao</th>\n      <th>cpes_nao_domestico_alta_tensao</th>\n      <th>cpes_outros_alta_tensao</th>\n    </tr>\n  </thead>\n  <tbody>\n    <tr>\n      <th>count</th>\n      <td>4.641000e+03</td>\n      <td>4641.000000</td>\n      <td>4641.000000</td>\n      <td>4641.000000</td>\n    </tr>\n    <tr>\n      <th>mean</th>\n      <td>7.186922e+06</td>\n      <td>0.039647</td>\n      <td>95.380952</td>\n      <td>0.408533</td>\n    </tr>\n    <tr>\n      <th>std</th>\n      <td>1.456843e+07</td>\n      <td>0.206940</td>\n      <td>121.117813</td>\n      <td>4.304804</td>\n    </tr>\n    <tr>\n      <th>min</th>\n      <td>0.000000e+00</td>\n      <td>0.000000</td>\n      <td>0.000000</td>\n      <td>0.000000</td>\n    </tr>\n    <tr>\n      <th>25%</th>\n      <td>4.570540e+05</td>\n      <td>0.000000</td>\n      <td>28.000000</td>\n      <td>0.000000</td>\n    </tr>\n    <tr>\n      <th>50%</th>\n      <td>1.955336e+06</td>\n      <td>0.000000</td>\n      <td>51.000000</td>\n      <td>0.000000</td>\n    </tr>\n    <tr>\n      <th>75%</th>\n      <td>6.360625e+06</td>\n      <td>0.000000</td>\n      <td>119.000000</td>\n      <td>0.000000</td>\n    </tr>\n    <tr>\n      <th>max</th>\n      <td>1.279470e+08</td>\n      <td>2.000000</td>\n      <td>1224.000000</td>\n      <td>75.000000</td>\n    </tr>\n  </tbody>\n</table>\n</div>"
     },
     "execution_count": 49,
     "metadata": {},
     "output_type": "execute_result"
    }
   ],
   "execution_count": 49
  },
  {
   "metadata": {
    "ExecuteTime": {
     "end_time": "2024-04-20T12:27:50.315239Z",
     "start_time": "2024-04-20T12:27:50.237291Z"
    }
   },
   "cell_type": "code",
   "source": [
    "# Estatísticas resumidas depois da normalização\n",
    "alta_tensao_outros_scaled_min_max_df.describe()"
   ],
   "id": "be7f1021fcfc6df8",
   "outputs": [
    {
     "data": {
      "text/plain": "       energia_ativa_alta_tensao_kwh  cpes_domestico_alta_tensao  \\\ncount                    4641.000000                 4641.000000   \nmean                        0.056171                    0.019823   \nstd                         0.113863                    0.103470   \nmin                         0.000000                    0.000000   \n25%                         0.003572                    0.000000   \n50%                         0.015282                    0.000000   \n75%                         0.049713                    0.000000   \nmax                         1.000000                    1.000000   \n\n       cpes_nao_domestico_alta_tensao  cpes_outros_alta_tensao  \ncount                     4641.000000              4641.000000  \nmean                         0.077926                 0.005447  \nstd                          0.098952                 0.057397  \nmin                          0.000000                 0.000000  \n25%                          0.022876                 0.000000  \n50%                          0.041667                 0.000000  \n75%                          0.097222                 0.000000  \nmax                          1.000000                 1.000000  ",
      "text/html": "<div>\n<style scoped>\n    .dataframe tbody tr th:only-of-type {\n        vertical-align: middle;\n    }\n\n    .dataframe tbody tr th {\n        vertical-align: top;\n    }\n\n    .dataframe thead th {\n        text-align: right;\n    }\n</style>\n<table border=\"1\" class=\"dataframe\">\n  <thead>\n    <tr style=\"text-align: right;\">\n      <th></th>\n      <th>energia_ativa_alta_tensao_kwh</th>\n      <th>cpes_domestico_alta_tensao</th>\n      <th>cpes_nao_domestico_alta_tensao</th>\n      <th>cpes_outros_alta_tensao</th>\n    </tr>\n  </thead>\n  <tbody>\n    <tr>\n      <th>count</th>\n      <td>4641.000000</td>\n      <td>4641.000000</td>\n      <td>4641.000000</td>\n      <td>4641.000000</td>\n    </tr>\n    <tr>\n      <th>mean</th>\n      <td>0.056171</td>\n      <td>0.019823</td>\n      <td>0.077926</td>\n      <td>0.005447</td>\n    </tr>\n    <tr>\n      <th>std</th>\n      <td>0.113863</td>\n      <td>0.103470</td>\n      <td>0.098952</td>\n      <td>0.057397</td>\n    </tr>\n    <tr>\n      <th>min</th>\n      <td>0.000000</td>\n      <td>0.000000</td>\n      <td>0.000000</td>\n      <td>0.000000</td>\n    </tr>\n    <tr>\n      <th>25%</th>\n      <td>0.003572</td>\n      <td>0.000000</td>\n      <td>0.022876</td>\n      <td>0.000000</td>\n    </tr>\n    <tr>\n      <th>50%</th>\n      <td>0.015282</td>\n      <td>0.000000</td>\n      <td>0.041667</td>\n      <td>0.000000</td>\n    </tr>\n    <tr>\n      <th>75%</th>\n      <td>0.049713</td>\n      <td>0.000000</td>\n      <td>0.097222</td>\n      <td>0.000000</td>\n    </tr>\n    <tr>\n      <th>max</th>\n      <td>1.000000</td>\n      <td>1.000000</td>\n      <td>1.000000</td>\n      <td>1.000000</td>\n    </tr>\n  </tbody>\n</table>\n</div>"
     },
     "execution_count": 50,
     "metadata": {},
     "output_type": "execute_result"
    }
   ],
   "execution_count": 50
  },
  {
   "metadata": {
    "ExecuteTime": {
     "end_time": "2024-04-20T12:27:50.370537Z",
     "start_time": "2024-04-20T12:27:50.304355Z"
    }
   },
   "cell_type": "code",
   "source": [
    "#Guardar no ficheiro\n",
    "file_path = data_path + 'treated/prepared/numeric/normalized/train/dataset-numeric-high-tensions-2223-no-dates-minmax.csv'\n",
    "\n",
    "alta_tensao_outros_scaled_min_max_df.to_csv(file_path, index=False)\n",
    "\n",
    "print(\"DataFrame guardado em \", file_path)"
   ],
   "id": "c6d76c51bf0a10ae",
   "outputs": [
    {
     "name": "stdout",
     "output_type": "stream",
     "text": [
      "DataFrame guardado em  ../data/treated/prepared/numeric/normalized/train/dataset-numeric-high-tensions-2223-no-dates-minmax.csv\n"
     ]
    }
   ],
   "execution_count": 51
  },
  {
   "metadata": {},
   "cell_type": "markdown",
   "source": "## Normalização z-Score",
   "id": "82e0dc596a43819b"
  },
  {
   "metadata": {},
   "cell_type": "markdown",
   "source": "### Normalização z-Score das baixas tensões",
   "id": "52154e2f9004a31d"
  },
  {
   "metadata": {
    "ExecuteTime": {
     "end_time": "2024-04-20T12:27:50.446520Z",
     "start_time": "2024-04-20T12:27:50.367747Z"
    }
   },
   "cell_type": "code",
   "source": [
    "# Normalização com o Z-Score\n",
    "scaler = StandardScaler()\n",
    "baixa_tensao_scaled_z_score_df = pd.DataFrame(scaler.fit_transform(baixa_tensao_df), columns=baixa_tensao_df.columns)\n",
    "\n",
    "baixa_tensao_scaled_z_score_df.head()"
   ],
   "id": "b13948d455820e75",
   "outputs": [
    {
     "data": {
      "text/plain": "   energia_ativa_baixa_tensao_kwh  cpes_domestico_baixa_tensao  \\\n0                       -0.048836                     0.049581   \n1                       -0.099547                     0.049921   \n2                       -0.089920                     0.050261   \n3                       -0.054239                     0.050635   \n4                        0.026228                     0.050839   \n\n   cpes_iluminacao_publica_baixa_tensao  cpes_nao_domestico_baixa_tensao  \\\n0                              0.406571                         0.011199   \n1                              0.406571                         0.010181   \n2                              0.406571                         0.008870   \n3                              0.406571                         0.009744   \n4                              0.411723                         0.010326   \n\n   cpes_outros_baixa_tensao  cpes_mobilidade_eletrica_nao_baixa_tensao  \\\n0                 -0.222918                                  -0.105279   \n1                 -0.232619                                  -0.096512   \n2                 -0.232619                                  -0.084952   \n3                 -0.237470                                  -0.067242   \n4                 -0.227769                                  -0.056729   \n\n   cpes_mobilidade_eletrica_sim_baixa_tensao  \n0                                  -0.297154  \n1                                  -0.297154  \n2                                  -0.297154  \n3                                  -0.297154  \n4                                  -0.297154  ",
      "text/html": "<div>\n<style scoped>\n    .dataframe tbody tr th:only-of-type {\n        vertical-align: middle;\n    }\n\n    .dataframe tbody tr th {\n        vertical-align: top;\n    }\n\n    .dataframe thead th {\n        text-align: right;\n    }\n</style>\n<table border=\"1\" class=\"dataframe\">\n  <thead>\n    <tr style=\"text-align: right;\">\n      <th></th>\n      <th>energia_ativa_baixa_tensao_kwh</th>\n      <th>cpes_domestico_baixa_tensao</th>\n      <th>cpes_iluminacao_publica_baixa_tensao</th>\n      <th>cpes_nao_domestico_baixa_tensao</th>\n      <th>cpes_outros_baixa_tensao</th>\n      <th>cpes_mobilidade_eletrica_nao_baixa_tensao</th>\n      <th>cpes_mobilidade_eletrica_sim_baixa_tensao</th>\n    </tr>\n  </thead>\n  <tbody>\n    <tr>\n      <th>0</th>\n      <td>-0.048836</td>\n      <td>0.049581</td>\n      <td>0.406571</td>\n      <td>0.011199</td>\n      <td>-0.222918</td>\n      <td>-0.105279</td>\n      <td>-0.297154</td>\n    </tr>\n    <tr>\n      <th>1</th>\n      <td>-0.099547</td>\n      <td>0.049921</td>\n      <td>0.406571</td>\n      <td>0.010181</td>\n      <td>-0.232619</td>\n      <td>-0.096512</td>\n      <td>-0.297154</td>\n    </tr>\n    <tr>\n      <th>2</th>\n      <td>-0.089920</td>\n      <td>0.050261</td>\n      <td>0.406571</td>\n      <td>0.008870</td>\n      <td>-0.232619</td>\n      <td>-0.084952</td>\n      <td>-0.297154</td>\n    </tr>\n    <tr>\n      <th>3</th>\n      <td>-0.054239</td>\n      <td>0.050635</td>\n      <td>0.406571</td>\n      <td>0.009744</td>\n      <td>-0.237470</td>\n      <td>-0.067242</td>\n      <td>-0.297154</td>\n    </tr>\n    <tr>\n      <th>4</th>\n      <td>0.026228</td>\n      <td>0.050839</td>\n      <td>0.411723</td>\n      <td>0.010326</td>\n      <td>-0.227769</td>\n      <td>-0.056729</td>\n      <td>-0.297154</td>\n    </tr>\n  </tbody>\n</table>\n</div>"
     },
     "execution_count": 52,
     "metadata": {},
     "output_type": "execute_result"
    }
   ],
   "execution_count": 52
  },
  {
   "metadata": {
    "ExecuteTime": {
     "end_time": "2024-04-20T12:27:50.537552Z",
     "start_time": "2024-04-20T12:27:50.443811Z"
    }
   },
   "cell_type": "code",
   "source": [
    "# Estatísticas resumidas antes da normalização\n",
    "baixa_tensao_df.describe()"
   ],
   "id": "159f7299390e83e6",
   "outputs": [
    {
     "data": {
      "text/plain": "       energia_ativa_baixa_tensao_kwh  cpes_domestico_baixa_tensao  \\\ncount                    4.914000e+03                  4914.000000   \nmean                     6.473418e+06                 18802.326414   \nstd                      1.161919e+07                 29402.960918   \nmin                      1.390660e+05                  1042.000000   \n25%                      1.269620e+06                  4581.000000   \n50%                      2.618006e+06                  8936.000000   \n75%                      7.045592e+06                 21427.000000   \nmax                      1.633807e+08                312074.000000   \n\n       cpes_iluminacao_publica_baixa_tensao  cpes_nao_domestico_baixa_tensao  \\\ncount                           4914.000000                      4914.000000   \nmean                             214.084046                      4241.061661   \nstd                              194.120963                      6870.529538   \nmin                                7.000000                       174.000000   \n25%                               91.000000                      1101.000000   \n50%                              141.000000                      1989.500000   \n75%                              280.000000                      4897.250000   \nmax                             1185.000000                     79984.000000   \n\n       cpes_outros_baixa_tensao  cpes_mobilidade_eletrica_nao_baixa_tensao  \\\ncount               4914.000000                                4914.000000   \nmean                 128.958079                               27020.995319   \nstd                  206.186626                               45854.018577   \nmin                    1.000000                                1144.000000   \n25%                   21.000000                                6044.000000   \n50%                   54.000000                               11336.000000   \n75%                  157.000000                               29565.500000   \nmax                 2186.000000                              528158.000000   \n\n       cpes_mobilidade_eletrica_sim_baixa_tensao  \ncount                                4914.000000  \nmean                                    9.315832  \nstd                                    24.622134  \nmin                                     0.000000  \n25%                                     2.000000  \n50%                                     2.000000  \n75%                                     6.000000  \nmax                                   382.000000  ",
      "text/html": "<div>\n<style scoped>\n    .dataframe tbody tr th:only-of-type {\n        vertical-align: middle;\n    }\n\n    .dataframe tbody tr th {\n        vertical-align: top;\n    }\n\n    .dataframe thead th {\n        text-align: right;\n    }\n</style>\n<table border=\"1\" class=\"dataframe\">\n  <thead>\n    <tr style=\"text-align: right;\">\n      <th></th>\n      <th>energia_ativa_baixa_tensao_kwh</th>\n      <th>cpes_domestico_baixa_tensao</th>\n      <th>cpes_iluminacao_publica_baixa_tensao</th>\n      <th>cpes_nao_domestico_baixa_tensao</th>\n      <th>cpes_outros_baixa_tensao</th>\n      <th>cpes_mobilidade_eletrica_nao_baixa_tensao</th>\n      <th>cpes_mobilidade_eletrica_sim_baixa_tensao</th>\n    </tr>\n  </thead>\n  <tbody>\n    <tr>\n      <th>count</th>\n      <td>4.914000e+03</td>\n      <td>4914.000000</td>\n      <td>4914.000000</td>\n      <td>4914.000000</td>\n      <td>4914.000000</td>\n      <td>4914.000000</td>\n      <td>4914.000000</td>\n    </tr>\n    <tr>\n      <th>mean</th>\n      <td>6.473418e+06</td>\n      <td>18802.326414</td>\n      <td>214.084046</td>\n      <td>4241.061661</td>\n      <td>128.958079</td>\n      <td>27020.995319</td>\n      <td>9.315832</td>\n    </tr>\n    <tr>\n      <th>std</th>\n      <td>1.161919e+07</td>\n      <td>29402.960918</td>\n      <td>194.120963</td>\n      <td>6870.529538</td>\n      <td>206.186626</td>\n      <td>45854.018577</td>\n      <td>24.622134</td>\n    </tr>\n    <tr>\n      <th>min</th>\n      <td>1.390660e+05</td>\n      <td>1042.000000</td>\n      <td>7.000000</td>\n      <td>174.000000</td>\n      <td>1.000000</td>\n      <td>1144.000000</td>\n      <td>0.000000</td>\n    </tr>\n    <tr>\n      <th>25%</th>\n      <td>1.269620e+06</td>\n      <td>4581.000000</td>\n      <td>91.000000</td>\n      <td>1101.000000</td>\n      <td>21.000000</td>\n      <td>6044.000000</td>\n      <td>2.000000</td>\n    </tr>\n    <tr>\n      <th>50%</th>\n      <td>2.618006e+06</td>\n      <td>8936.000000</td>\n      <td>141.000000</td>\n      <td>1989.500000</td>\n      <td>54.000000</td>\n      <td>11336.000000</td>\n      <td>2.000000</td>\n    </tr>\n    <tr>\n      <th>75%</th>\n      <td>7.045592e+06</td>\n      <td>21427.000000</td>\n      <td>280.000000</td>\n      <td>4897.250000</td>\n      <td>157.000000</td>\n      <td>29565.500000</td>\n      <td>6.000000</td>\n    </tr>\n    <tr>\n      <th>max</th>\n      <td>1.633807e+08</td>\n      <td>312074.000000</td>\n      <td>1185.000000</td>\n      <td>79984.000000</td>\n      <td>2186.000000</td>\n      <td>528158.000000</td>\n      <td>382.000000</td>\n    </tr>\n  </tbody>\n</table>\n</div>"
     },
     "execution_count": 53,
     "metadata": {},
     "output_type": "execute_result"
    }
   ],
   "execution_count": 53
  },
  {
   "metadata": {
    "ExecuteTime": {
     "end_time": "2024-04-20T12:27:50.588598Z",
     "start_time": "2024-04-20T12:27:50.506677Z"
    }
   },
   "cell_type": "code",
   "source": [
    "# Estatísticas resumidas depois da normalização\n",
    "baixa_tensao_scaled_z_score_df.describe()"
   ],
   "id": "249810da22568e6d",
   "outputs": [
    {
     "data": {
      "text/plain": "       energia_ativa_baixa_tensao_kwh  cpes_domestico_baixa_tensao  \\\ncount                    4.914000e+03                 4.914000e+03   \nmean                     3.759485e-17                 3.759485e-17   \nstd                      1.000102e+00                 1.000102e+00   \nmin                     -5.452185e-01                -6.040934e-01   \n25%                     -4.479081e-01                -4.837191e-01   \n50%                     -3.318480e-01                -3.355897e-01   \n75%                      4.924882e-02                 8.927471e-02   \nmax                      1.350552e+01                 9.975238e+00   \n\n       cpes_iluminacao_publica_baixa_tensao  cpes_nao_domestico_baixa_tensao  \\\ncount                          4.914000e+03                      4914.000000   \nmean                          -2.024338e-17                         0.000000   \nstd                            1.000102e+00                         1.000102   \nmin                           -1.066887e+00                        -0.592018   \n25%                           -6.341230e-01                        -0.457080   \n50%                           -3.765255e-01                        -0.327746   \n75%                            3.395958e-01                         0.095517   \nmax                            5.002112e+00                        11.025445   \n\n       cpes_outros_baixa_tensao  cpes_mobilidade_eletrica_nao_baixa_tensao  \\\ncount              4.914000e+03                               4.914000e+03   \nmean              -8.386544e-17                              -1.156765e-17   \nstd                1.000102e+00                               1.000102e+00   \nmin               -6.206567e-01                              -5.643917e-01   \n25%               -5.236473e-01                              -4.575200e-01   \n50%               -3.635818e-01                              -3.420985e-01   \n75%                1.360165e-01                               5.549707e-02   \nmax                9.977617e+00                               1.093008e+01   \n\n       cpes_mobilidade_eletrica_sim_baixa_tensao  \ncount                                4914.000000  \nmean                                    0.000000  \nstd                                     1.000102  \nmin                                    -0.378390  \n25%                                    -0.297154  \n50%                                    -0.297154  \n75%                                    -0.134682  \nmax                                    15.137684  ",
      "text/html": "<div>\n<style scoped>\n    .dataframe tbody tr th:only-of-type {\n        vertical-align: middle;\n    }\n\n    .dataframe tbody tr th {\n        vertical-align: top;\n    }\n\n    .dataframe thead th {\n        text-align: right;\n    }\n</style>\n<table border=\"1\" class=\"dataframe\">\n  <thead>\n    <tr style=\"text-align: right;\">\n      <th></th>\n      <th>energia_ativa_baixa_tensao_kwh</th>\n      <th>cpes_domestico_baixa_tensao</th>\n      <th>cpes_iluminacao_publica_baixa_tensao</th>\n      <th>cpes_nao_domestico_baixa_tensao</th>\n      <th>cpes_outros_baixa_tensao</th>\n      <th>cpes_mobilidade_eletrica_nao_baixa_tensao</th>\n      <th>cpes_mobilidade_eletrica_sim_baixa_tensao</th>\n    </tr>\n  </thead>\n  <tbody>\n    <tr>\n      <th>count</th>\n      <td>4.914000e+03</td>\n      <td>4.914000e+03</td>\n      <td>4.914000e+03</td>\n      <td>4914.000000</td>\n      <td>4.914000e+03</td>\n      <td>4.914000e+03</td>\n      <td>4914.000000</td>\n    </tr>\n    <tr>\n      <th>mean</th>\n      <td>3.759485e-17</td>\n      <td>3.759485e-17</td>\n      <td>-2.024338e-17</td>\n      <td>0.000000</td>\n      <td>-8.386544e-17</td>\n      <td>-1.156765e-17</td>\n      <td>0.000000</td>\n    </tr>\n    <tr>\n      <th>std</th>\n      <td>1.000102e+00</td>\n      <td>1.000102e+00</td>\n      <td>1.000102e+00</td>\n      <td>1.000102</td>\n      <td>1.000102e+00</td>\n      <td>1.000102e+00</td>\n      <td>1.000102</td>\n    </tr>\n    <tr>\n      <th>min</th>\n      <td>-5.452185e-01</td>\n      <td>-6.040934e-01</td>\n      <td>-1.066887e+00</td>\n      <td>-0.592018</td>\n      <td>-6.206567e-01</td>\n      <td>-5.643917e-01</td>\n      <td>-0.378390</td>\n    </tr>\n    <tr>\n      <th>25%</th>\n      <td>-4.479081e-01</td>\n      <td>-4.837191e-01</td>\n      <td>-6.341230e-01</td>\n      <td>-0.457080</td>\n      <td>-5.236473e-01</td>\n      <td>-4.575200e-01</td>\n      <td>-0.297154</td>\n    </tr>\n    <tr>\n      <th>50%</th>\n      <td>-3.318480e-01</td>\n      <td>-3.355897e-01</td>\n      <td>-3.765255e-01</td>\n      <td>-0.327746</td>\n      <td>-3.635818e-01</td>\n      <td>-3.420985e-01</td>\n      <td>-0.297154</td>\n    </tr>\n    <tr>\n      <th>75%</th>\n      <td>4.924882e-02</td>\n      <td>8.927471e-02</td>\n      <td>3.395958e-01</td>\n      <td>0.095517</td>\n      <td>1.360165e-01</td>\n      <td>5.549707e-02</td>\n      <td>-0.134682</td>\n    </tr>\n    <tr>\n      <th>max</th>\n      <td>1.350552e+01</td>\n      <td>9.975238e+00</td>\n      <td>5.002112e+00</td>\n      <td>11.025445</td>\n      <td>9.977617e+00</td>\n      <td>1.093008e+01</td>\n      <td>15.137684</td>\n    </tr>\n  </tbody>\n</table>\n</div>"
     },
     "execution_count": 54,
     "metadata": {},
     "output_type": "execute_result"
    }
   ],
   "execution_count": 54
  },
  {
   "metadata": {
    "ExecuteTime": {
     "end_time": "2024-04-20T12:27:50.749986Z",
     "start_time": "2024-04-20T12:27:50.588884Z"
    }
   },
   "cell_type": "code",
   "source": [
    "#Guardar no ficheiro\n",
    "file_path = data_path + 'treated/prepared/numeric/normalized/dataset-numeric-low-tensions-no-dates-zscore.csv'\n",
    "\n",
    "baixa_tensao_scaled_z_score_df.to_csv(file_path, index=False)\n",
    "\n",
    "print(\"DataFrame guardado em \", file_path)"
   ],
   "id": "72b2e3fa1c20dfa0",
   "outputs": [
    {
     "name": "stdout",
     "output_type": "stream",
     "text": [
      "DataFrame guardado em  ../data/treated/prepared/numeric/normalized/dataset-numeric-low-tensions-no-dates-zscore.csv\n"
     ]
    }
   ],
   "execution_count": 55
  },
  {
   "metadata": {},
   "cell_type": "markdown",
   "source": "### Normalização z-Score das altas tensões",
   "id": "8d1510fb361ec140"
  },
  {
   "metadata": {
    "ExecuteTime": {
     "end_time": "2024-04-20T12:27:50.790670Z",
     "start_time": "2024-04-20T12:27:50.680413Z"
    }
   },
   "cell_type": "code",
   "source": [
    "# Normalização com o Z-Score\n",
    "scaler = StandardScaler()\n",
    "alta_tensao_scaled_z_score_df = pd.DataFrame(scaler.fit_transform(alta_tensao_df), columns=alta_tensao_df.columns)\n",
    "\n",
    "alta_tensao_scaled_z_score_df.head()"
   ],
   "id": "be3be76c299c518",
   "outputs": [
    {
     "data": {
      "text/plain": "   energia_ativa_alta_tensao_kwh  cpes_domestico_alta_tensao  \\\n0                      -0.068940                   -0.191613   \n1                      -0.050137                   -0.191613   \n2                      -0.035976                   -0.191613   \n3                      -0.064047                   -0.191613   \n4                      -0.112463                   -0.191613   \n\n   cpes_nao_domestico_alta_tensao  cpes_outros_alta_tensao  \n0                        0.318232                -0.092215  \n1                        0.318232                -0.092215  \n2                        0.318232                -0.092215  \n3                        0.318232                -0.092215  \n4                        0.318232                -0.092215  ",
      "text/html": "<div>\n<style scoped>\n    .dataframe tbody tr th:only-of-type {\n        vertical-align: middle;\n    }\n\n    .dataframe tbody tr th {\n        vertical-align: top;\n    }\n\n    .dataframe thead th {\n        text-align: right;\n    }\n</style>\n<table border=\"1\" class=\"dataframe\">\n  <thead>\n    <tr style=\"text-align: right;\">\n      <th></th>\n      <th>energia_ativa_alta_tensao_kwh</th>\n      <th>cpes_domestico_alta_tensao</th>\n      <th>cpes_nao_domestico_alta_tensao</th>\n      <th>cpes_outros_alta_tensao</th>\n    </tr>\n  </thead>\n  <tbody>\n    <tr>\n      <th>0</th>\n      <td>-0.068940</td>\n      <td>-0.191613</td>\n      <td>0.318232</td>\n      <td>-0.092215</td>\n    </tr>\n    <tr>\n      <th>1</th>\n      <td>-0.050137</td>\n      <td>-0.191613</td>\n      <td>0.318232</td>\n      <td>-0.092215</td>\n    </tr>\n    <tr>\n      <th>2</th>\n      <td>-0.035976</td>\n      <td>-0.191613</td>\n      <td>0.318232</td>\n      <td>-0.092215</td>\n    </tr>\n    <tr>\n      <th>3</th>\n      <td>-0.064047</td>\n      <td>-0.191613</td>\n      <td>0.318232</td>\n      <td>-0.092215</td>\n    </tr>\n    <tr>\n      <th>4</th>\n      <td>-0.112463</td>\n      <td>-0.191613</td>\n      <td>0.318232</td>\n      <td>-0.092215</td>\n    </tr>\n  </tbody>\n</table>\n</div>"
     },
     "execution_count": 56,
     "metadata": {},
     "output_type": "execute_result"
    }
   ],
   "execution_count": 56
  },
  {
   "metadata": {
    "ExecuteTime": {
     "end_time": "2024-04-20T12:27:50.935112Z",
     "start_time": "2024-04-20T12:27:50.769999Z"
    }
   },
   "cell_type": "code",
   "source": [
    "# Estatísticas resumidas antes da normalização\n",
    "alta_tensao_df.describe()"
   ],
   "id": "6d546c2e24ffd5e2",
   "outputs": [
    {
     "data": {
      "text/plain": "       energia_ativa_alta_tensao_kwh  cpes_domestico_alta_tensao  \\\ncount                   4.914000e+03                 4914.000000   \nmean                    6.872585e+06                    0.040090   \nstd                     1.423193e+07                    0.209242   \nmin                     0.000000e+00                    0.000000   \n25%                     4.162925e+05                    0.000000   \n50%                     1.837661e+06                    0.000000   \n75%                     5.952910e+06                    0.000000   \nmax                     1.279470e+08                    2.000000   \n\n       cpes_nao_domestico_alta_tensao  cpes_outros_alta_tensao  \ncount                     4914.000000              4914.000000  \nmean                        95.435694                 0.385836  \nstd                        121.195235                 4.184540  \nmin                          0.000000                 0.000000  \n25%                         28.000000                 0.000000  \n50%                         51.000000                 0.000000  \n75%                        119.000000                 0.000000  \nmax                       1226.000000                75.000000  ",
      "text/html": "<div>\n<style scoped>\n    .dataframe tbody tr th:only-of-type {\n        vertical-align: middle;\n    }\n\n    .dataframe tbody tr th {\n        vertical-align: top;\n    }\n\n    .dataframe thead th {\n        text-align: right;\n    }\n</style>\n<table border=\"1\" class=\"dataframe\">\n  <thead>\n    <tr style=\"text-align: right;\">\n      <th></th>\n      <th>energia_ativa_alta_tensao_kwh</th>\n      <th>cpes_domestico_alta_tensao</th>\n      <th>cpes_nao_domestico_alta_tensao</th>\n      <th>cpes_outros_alta_tensao</th>\n    </tr>\n  </thead>\n  <tbody>\n    <tr>\n      <th>count</th>\n      <td>4.914000e+03</td>\n      <td>4914.000000</td>\n      <td>4914.000000</td>\n      <td>4914.000000</td>\n    </tr>\n    <tr>\n      <th>mean</th>\n      <td>6.872585e+06</td>\n      <td>0.040090</td>\n      <td>95.435694</td>\n      <td>0.385836</td>\n    </tr>\n    <tr>\n      <th>std</th>\n      <td>1.423193e+07</td>\n      <td>0.209242</td>\n      <td>121.195235</td>\n      <td>4.184540</td>\n    </tr>\n    <tr>\n      <th>min</th>\n      <td>0.000000e+00</td>\n      <td>0.000000</td>\n      <td>0.000000</td>\n      <td>0.000000</td>\n    </tr>\n    <tr>\n      <th>25%</th>\n      <td>4.162925e+05</td>\n      <td>0.000000</td>\n      <td>28.000000</td>\n      <td>0.000000</td>\n    </tr>\n    <tr>\n      <th>50%</th>\n      <td>1.837661e+06</td>\n      <td>0.000000</td>\n      <td>51.000000</td>\n      <td>0.000000</td>\n    </tr>\n    <tr>\n      <th>75%</th>\n      <td>5.952910e+06</td>\n      <td>0.000000</td>\n      <td>119.000000</td>\n      <td>0.000000</td>\n    </tr>\n    <tr>\n      <th>max</th>\n      <td>1.279470e+08</td>\n      <td>2.000000</td>\n      <td>1226.000000</td>\n      <td>75.000000</td>\n    </tr>\n  </tbody>\n</table>\n</div>"
     },
     "execution_count": 57,
     "metadata": {},
     "output_type": "execute_result"
    }
   ],
   "execution_count": 57
  },
  {
   "metadata": {
    "ExecuteTime": {
     "end_time": "2024-04-20T12:27:50.988308Z",
     "start_time": "2024-04-20T12:27:50.907126Z"
    }
   },
   "cell_type": "code",
   "source": [
    "# Estatísticas resumidas depois da normalização\n",
    "alta_tensao_scaled_z_score_df.describe()"
   ],
   "id": "fe28fb8e87b9a102",
   "outputs": [
    {
     "data": {
      "text/plain": "       energia_ativa_alta_tensao_kwh  cpes_domestico_alta_tensao  \\\ncount                   4.914000e+03                4.914000e+03   \nmean                    3.470294e-17               -4.627059e-17   \nstd                     1.000102e+00                1.000102e+00   \nmin                    -4.829480e-01               -1.916135e-01   \n25%                    -4.536945e-01               -1.916135e-01   \n50%                    -3.538125e-01               -1.916135e-01   \n75%                    -6.462708e-02               -1.916135e-01   \nmax                     8.508102e+00                9.367662e+00   \n\n       cpes_nao_domestico_alta_tensao  cpes_outros_alta_tensao  \ncount                    4.914000e+03             4.914000e+03  \nmean                     1.735147e-17             2.891912e-18  \nstd                      1.000102e+00             1.000102e+00  \nmin                     -7.875343e-01            -9.221460e-02  \n25%                     -5.564786e-01            -9.221460e-02  \n50%                     -3.666829e-01            -9.221460e-02  \n75%                      1.944524e-01            -9.221460e-02  \nmax                      9.329404e+00             1.783273e+01  ",
      "text/html": "<div>\n<style scoped>\n    .dataframe tbody tr th:only-of-type {\n        vertical-align: middle;\n    }\n\n    .dataframe tbody tr th {\n        vertical-align: top;\n    }\n\n    .dataframe thead th {\n        text-align: right;\n    }\n</style>\n<table border=\"1\" class=\"dataframe\">\n  <thead>\n    <tr style=\"text-align: right;\">\n      <th></th>\n      <th>energia_ativa_alta_tensao_kwh</th>\n      <th>cpes_domestico_alta_tensao</th>\n      <th>cpes_nao_domestico_alta_tensao</th>\n      <th>cpes_outros_alta_tensao</th>\n    </tr>\n  </thead>\n  <tbody>\n    <tr>\n      <th>count</th>\n      <td>4.914000e+03</td>\n      <td>4.914000e+03</td>\n      <td>4.914000e+03</td>\n      <td>4.914000e+03</td>\n    </tr>\n    <tr>\n      <th>mean</th>\n      <td>3.470294e-17</td>\n      <td>-4.627059e-17</td>\n      <td>1.735147e-17</td>\n      <td>2.891912e-18</td>\n    </tr>\n    <tr>\n      <th>std</th>\n      <td>1.000102e+00</td>\n      <td>1.000102e+00</td>\n      <td>1.000102e+00</td>\n      <td>1.000102e+00</td>\n    </tr>\n    <tr>\n      <th>min</th>\n      <td>-4.829480e-01</td>\n      <td>-1.916135e-01</td>\n      <td>-7.875343e-01</td>\n      <td>-9.221460e-02</td>\n    </tr>\n    <tr>\n      <th>25%</th>\n      <td>-4.536945e-01</td>\n      <td>-1.916135e-01</td>\n      <td>-5.564786e-01</td>\n      <td>-9.221460e-02</td>\n    </tr>\n    <tr>\n      <th>50%</th>\n      <td>-3.538125e-01</td>\n      <td>-1.916135e-01</td>\n      <td>-3.666829e-01</td>\n      <td>-9.221460e-02</td>\n    </tr>\n    <tr>\n      <th>75%</th>\n      <td>-6.462708e-02</td>\n      <td>-1.916135e-01</td>\n      <td>1.944524e-01</td>\n      <td>-9.221460e-02</td>\n    </tr>\n    <tr>\n      <th>max</th>\n      <td>8.508102e+00</td>\n      <td>9.367662e+00</td>\n      <td>9.329404e+00</td>\n      <td>1.783273e+01</td>\n    </tr>\n  </tbody>\n</table>\n</div>"
     },
     "execution_count": 58,
     "metadata": {},
     "output_type": "execute_result"
    }
   ],
   "execution_count": 58
  },
  {
   "metadata": {
    "ExecuteTime": {
     "end_time": "2024-04-20T12:27:51.055225Z",
     "start_time": "2024-04-20T12:27:50.963139Z"
    }
   },
   "cell_type": "code",
   "source": [
    "#Guardar no ficheiro\n",
    "file_path = data_path + 'treated/prepared/numeric/normalized/dataset-numeric-high-tensions-no-dates-zscore.csv'\n",
    "\n",
    "alta_tensao_scaled_z_score_df.to_csv(file_path, index=False)\n",
    "\n",
    "print(\"DataFrame guardado em \", file_path)"
   ],
   "id": "e1dcc598ba0638e1",
   "outputs": [
    {
     "name": "stdout",
     "output_type": "stream",
     "text": [
      "DataFrame guardado em  ../data/treated/prepared/numeric/normalized/dataset-numeric-high-tensions-no-dates-zscore.csv\n"
     ]
    }
   ],
   "execution_count": 59
  },
  {
   "metadata": {},
   "cell_type": "markdown",
   "source": "### Normalização z-Score baixa tensão 2024",
   "id": "5ce5c47f5642a364"
  },
  {
   "metadata": {
    "ExecuteTime": {
     "end_time": "2024-04-20T12:27:51.127606Z",
     "start_time": "2024-04-20T12:27:51.051358Z"
    }
   },
   "cell_type": "code",
   "source": [
    "# Normalização com o Z-Score\n",
    "scaler = StandardScaler()\n",
    "baixa_tensao_2024_scaled_z_score_df = pd.DataFrame(scaler.fit_transform(baixa_tensao_2024_df), columns=baixa_tensao_2024_df.columns)\n",
    "\n",
    "baixa_tensao_2024_scaled_z_score_df.head()"
   ],
   "id": "e186859094fc8ad3",
   "outputs": [
    {
     "data": {
      "text/plain": "   energia_ativa_baixa_tensao_kwh  cpes_domestico_baixa_tensao  \\\n0                       -0.013255                     0.049111   \n1                       -0.496277                    -0.510485   \n2                       -0.490647                    -0.527745   \n3                       -0.208697                    -0.254348   \n4                        0.781572                     0.809954   \n\n   cpes_iluminacao_publica_baixa_tensao  cpes_nao_domestico_baixa_tensao  \\\n0                              0.413407                         0.010983   \n1                             -0.610081                        -0.473717   \n2                             -0.871071                        -0.509267   \n3                             -0.190451                        -0.252466   \n4                              1.247549                         0.899744   \n\n   cpes_outros_baixa_tensao  cpes_mobilidade_eletrica_nao_baixa_tensao  \\\n0                 -0.264283                                   0.026868   \n1                 -0.562463                                  -0.487561   \n2                 -0.552355                                  -0.550623   \n3                 -0.127828                                  -0.296508   \n4                  0.049058                                   0.928410   \n\n   cpes_mobilidade_eletrica_sim_baixa_tensao  \n0                                  -0.234696  \n1                                  -0.291675  \n2                                  -0.348653  \n3                                  -0.291675  \n4                                   0.221130  ",
      "text/html": "<div>\n<style scoped>\n    .dataframe tbody tr th:only-of-type {\n        vertical-align: middle;\n    }\n\n    .dataframe tbody tr th {\n        vertical-align: top;\n    }\n\n    .dataframe thead th {\n        text-align: right;\n    }\n</style>\n<table border=\"1\" class=\"dataframe\">\n  <thead>\n    <tr style=\"text-align: right;\">\n      <th></th>\n      <th>energia_ativa_baixa_tensao_kwh</th>\n      <th>cpes_domestico_baixa_tensao</th>\n      <th>cpes_iluminacao_publica_baixa_tensao</th>\n      <th>cpes_nao_domestico_baixa_tensao</th>\n      <th>cpes_outros_baixa_tensao</th>\n      <th>cpes_mobilidade_eletrica_nao_baixa_tensao</th>\n      <th>cpes_mobilidade_eletrica_sim_baixa_tensao</th>\n    </tr>\n  </thead>\n  <tbody>\n    <tr>\n      <th>0</th>\n      <td>-0.013255</td>\n      <td>0.049111</td>\n      <td>0.413407</td>\n      <td>0.010983</td>\n      <td>-0.264283</td>\n      <td>0.026868</td>\n      <td>-0.234696</td>\n    </tr>\n    <tr>\n      <th>1</th>\n      <td>-0.496277</td>\n      <td>-0.510485</td>\n      <td>-0.610081</td>\n      <td>-0.473717</td>\n      <td>-0.562463</td>\n      <td>-0.487561</td>\n      <td>-0.291675</td>\n    </tr>\n    <tr>\n      <th>2</th>\n      <td>-0.490647</td>\n      <td>-0.527745</td>\n      <td>-0.871071</td>\n      <td>-0.509267</td>\n      <td>-0.552355</td>\n      <td>-0.550623</td>\n      <td>-0.348653</td>\n    </tr>\n    <tr>\n      <th>3</th>\n      <td>-0.208697</td>\n      <td>-0.254348</td>\n      <td>-0.190451</td>\n      <td>-0.252466</td>\n      <td>-0.127828</td>\n      <td>-0.296508</td>\n      <td>-0.291675</td>\n    </tr>\n    <tr>\n      <th>4</th>\n      <td>0.781572</td>\n      <td>0.809954</td>\n      <td>1.247549</td>\n      <td>0.899744</td>\n      <td>0.049058</td>\n      <td>0.928410</td>\n      <td>0.221130</td>\n    </tr>\n  </tbody>\n</table>\n</div>"
     },
     "execution_count": 60,
     "metadata": {},
     "output_type": "execute_result"
    }
   ],
   "execution_count": 60
  },
  {
   "metadata": {
    "ExecuteTime": {
     "end_time": "2024-04-20T12:27:51.230337Z",
     "start_time": "2024-04-20T12:27:51.128076Z"
    }
   },
   "cell_type": "code",
   "source": [
    "# Estatísticas resumidas antes da normalização\n",
    "baixa_tensao_2024_df.describe()"
   ],
   "id": "a3677d76763df3c8",
   "outputs": [
    {
     "data": {
      "text/plain": "       energia_ativa_baixa_tensao_kwh  cpes_domestico_baixa_tensao  \\\ncount                    2.730000e+02                   273.000000   \nmean                     3.549982e+06                 18918.054945   \nstd                      6.115725e+06                 29659.687532   \nmin                      1.390660e+05                  1042.000000   \n25%                      7.098610e+05                  4581.000000   \n50%                      1.448285e+06                  8938.000000   \n75%                      3.910561e+06                 21507.000000   \nmax                      6.678215e+07                312074.000000   \n\n       cpes_iluminacao_publica_baixa_tensao  cpes_nao_domestico_baixa_tensao  \\\ncount                            273.000000                       273.000000   \nmean                             215.216117                      4274.000000   \nstd                              195.769130                      6932.458115   \nmin                                7.000000                       183.000000   \n25%                               91.000000                      1112.000000   \n50%                              142.000000                      2003.000000   \n75%                              281.000000                      4929.000000   \nmax                             1185.000000                     79984.000000   \n\n       cpes_outros_baixa_tensao  cpes_mobilidade_eletrica_nao_baixa_tensao  \\\ncount                 273.00000                                 273.000000   \nmean                  120.29304                               32793.699634   \nstd                   198.23069                               50423.988286   \nmin                     1.00000                                1875.000000   \n25%                    18.00000                                8268.000000   \n50%                    49.00000                               15134.000000   \n75%                   141.00000                               38928.000000   \nmax                  2055.00000                              516364.000000   \n\n       cpes_mobilidade_eletrica_sim_baixa_tensao  \ncount                                 273.000000  \nmean                                   14.238095  \nstd                                    35.165550  \nmin                                     0.000000  \n25%                                     2.000000  \n50%                                     4.000000  \n75%                                     8.000000  \nmax                                   382.000000  ",
      "text/html": "<div>\n<style scoped>\n    .dataframe tbody tr th:only-of-type {\n        vertical-align: middle;\n    }\n\n    .dataframe tbody tr th {\n        vertical-align: top;\n    }\n\n    .dataframe thead th {\n        text-align: right;\n    }\n</style>\n<table border=\"1\" class=\"dataframe\">\n  <thead>\n    <tr style=\"text-align: right;\">\n      <th></th>\n      <th>energia_ativa_baixa_tensao_kwh</th>\n      <th>cpes_domestico_baixa_tensao</th>\n      <th>cpes_iluminacao_publica_baixa_tensao</th>\n      <th>cpes_nao_domestico_baixa_tensao</th>\n      <th>cpes_outros_baixa_tensao</th>\n      <th>cpes_mobilidade_eletrica_nao_baixa_tensao</th>\n      <th>cpes_mobilidade_eletrica_sim_baixa_tensao</th>\n    </tr>\n  </thead>\n  <tbody>\n    <tr>\n      <th>count</th>\n      <td>2.730000e+02</td>\n      <td>273.000000</td>\n      <td>273.000000</td>\n      <td>273.000000</td>\n      <td>273.00000</td>\n      <td>273.000000</td>\n      <td>273.000000</td>\n    </tr>\n    <tr>\n      <th>mean</th>\n      <td>3.549982e+06</td>\n      <td>18918.054945</td>\n      <td>215.216117</td>\n      <td>4274.000000</td>\n      <td>120.29304</td>\n      <td>32793.699634</td>\n      <td>14.238095</td>\n    </tr>\n    <tr>\n      <th>std</th>\n      <td>6.115725e+06</td>\n      <td>29659.687532</td>\n      <td>195.769130</td>\n      <td>6932.458115</td>\n      <td>198.23069</td>\n      <td>50423.988286</td>\n      <td>35.165550</td>\n    </tr>\n    <tr>\n      <th>min</th>\n      <td>1.390660e+05</td>\n      <td>1042.000000</td>\n      <td>7.000000</td>\n      <td>183.000000</td>\n      <td>1.00000</td>\n      <td>1875.000000</td>\n      <td>0.000000</td>\n    </tr>\n    <tr>\n      <th>25%</th>\n      <td>7.098610e+05</td>\n      <td>4581.000000</td>\n      <td>91.000000</td>\n      <td>1112.000000</td>\n      <td>18.00000</td>\n      <td>8268.000000</td>\n      <td>2.000000</td>\n    </tr>\n    <tr>\n      <th>50%</th>\n      <td>1.448285e+06</td>\n      <td>8938.000000</td>\n      <td>142.000000</td>\n      <td>2003.000000</td>\n      <td>49.00000</td>\n      <td>15134.000000</td>\n      <td>4.000000</td>\n    </tr>\n    <tr>\n      <th>75%</th>\n      <td>3.910561e+06</td>\n      <td>21507.000000</td>\n      <td>281.000000</td>\n      <td>4929.000000</td>\n      <td>141.00000</td>\n      <td>38928.000000</td>\n      <td>8.000000</td>\n    </tr>\n    <tr>\n      <th>max</th>\n      <td>6.678215e+07</td>\n      <td>312074.000000</td>\n      <td>1185.000000</td>\n      <td>79984.000000</td>\n      <td>2055.00000</td>\n      <td>516364.000000</td>\n      <td>382.000000</td>\n    </tr>\n  </tbody>\n</table>\n</div>"
     },
     "execution_count": 61,
     "metadata": {},
     "output_type": "execute_result"
    }
   ],
   "execution_count": 61
  },
  {
   "metadata": {
    "ExecuteTime": {
     "end_time": "2024-04-20T12:27:51.281070Z",
     "start_time": "2024-04-20T12:27:51.225753Z"
    }
   },
   "cell_type": "code",
   "source": [
    "# Estatísticas resumidas depois da normalização\n",
    "baixa_tensao_2024_scaled_z_score_df.describe()"
   ],
   "id": "ed7df9e2614673af",
   "outputs": [
    {
     "data": {
      "text/plain": "       energia_ativa_baixa_tensao_kwh  cpes_domestico_baixa_tensao  \\\ncount                    2.730000e+02                 2.730000e+02   \nmean                    -2.277381e-17                 3.416071e-17   \nstd                      1.001837e+00                 1.001837e+00   \nmin                     -5.587531e-01                -6.038123e-01   \n25%                     -4.652493e-01                -4.842730e-01   \n50%                     -3.442857e-01                -3.371035e-01   \n75%                      5.906757e-02                 8.744865e-02   \nmax                      1.035826e+01                 9.902139e+00   \n\n       cpes_iluminacao_publica_baixa_tensao  cpes_nao_domestico_baixa_tensao  \\\ncount                          2.730000e+02                       273.000000   \nmean                          -8.133502e-17                         0.000000   \nstd                            1.001837e+00                         1.001837   \nmin                           -1.065533e+00                        -0.591206   \n25%                           -6.356684e-01                        -0.456953   \n50%                           -3.746790e-01                        -0.328191   \n75%                            3.366450e-01                         0.094657   \nmax                            4.962810e+00                        10.941147   \n\n       cpes_outros_baixa_tensao  cpes_mobilidade_eletrica_nao_baixa_tensao  \\\ncount              2.730000e+02                               2.730000e+02   \nmean               3.253401e-18                               4.880101e-17   \nstd                1.001837e+00                               1.001837e+00   \nmin               -6.028942e-01                              -6.143005e-01   \n25%               -5.169780e-01                              -4.872828e-01   \n50%               -3.603073e-01                              -3.508674e-01   \n75%                1.046507e-01                               1.218778e-01   \nmax                9.777801e+00                               9.607697e+00   \n\n       cpes_mobilidade_eletrica_sim_baixa_tensao  \ncount                               2.730000e+02  \nmean                                2.602721e-17  \nstd                                 1.001837e+00  \nmin                                -4.056312e-01  \n25%                                -3.486529e-01  \n50%                                -2.916746e-01  \n75%                                -1.777180e-01  \nmax                                 1.047722e+01  ",
      "text/html": "<div>\n<style scoped>\n    .dataframe tbody tr th:only-of-type {\n        vertical-align: middle;\n    }\n\n    .dataframe tbody tr th {\n        vertical-align: top;\n    }\n\n    .dataframe thead th {\n        text-align: right;\n    }\n</style>\n<table border=\"1\" class=\"dataframe\">\n  <thead>\n    <tr style=\"text-align: right;\">\n      <th></th>\n      <th>energia_ativa_baixa_tensao_kwh</th>\n      <th>cpes_domestico_baixa_tensao</th>\n      <th>cpes_iluminacao_publica_baixa_tensao</th>\n      <th>cpes_nao_domestico_baixa_tensao</th>\n      <th>cpes_outros_baixa_tensao</th>\n      <th>cpes_mobilidade_eletrica_nao_baixa_tensao</th>\n      <th>cpes_mobilidade_eletrica_sim_baixa_tensao</th>\n    </tr>\n  </thead>\n  <tbody>\n    <tr>\n      <th>count</th>\n      <td>2.730000e+02</td>\n      <td>2.730000e+02</td>\n      <td>2.730000e+02</td>\n      <td>273.000000</td>\n      <td>2.730000e+02</td>\n      <td>2.730000e+02</td>\n      <td>2.730000e+02</td>\n    </tr>\n    <tr>\n      <th>mean</th>\n      <td>-2.277381e-17</td>\n      <td>3.416071e-17</td>\n      <td>-8.133502e-17</td>\n      <td>0.000000</td>\n      <td>3.253401e-18</td>\n      <td>4.880101e-17</td>\n      <td>2.602721e-17</td>\n    </tr>\n    <tr>\n      <th>std</th>\n      <td>1.001837e+00</td>\n      <td>1.001837e+00</td>\n      <td>1.001837e+00</td>\n      <td>1.001837</td>\n      <td>1.001837e+00</td>\n      <td>1.001837e+00</td>\n      <td>1.001837e+00</td>\n    </tr>\n    <tr>\n      <th>min</th>\n      <td>-5.587531e-01</td>\n      <td>-6.038123e-01</td>\n      <td>-1.065533e+00</td>\n      <td>-0.591206</td>\n      <td>-6.028942e-01</td>\n      <td>-6.143005e-01</td>\n      <td>-4.056312e-01</td>\n    </tr>\n    <tr>\n      <th>25%</th>\n      <td>-4.652493e-01</td>\n      <td>-4.842730e-01</td>\n      <td>-6.356684e-01</td>\n      <td>-0.456953</td>\n      <td>-5.169780e-01</td>\n      <td>-4.872828e-01</td>\n      <td>-3.486529e-01</td>\n    </tr>\n    <tr>\n      <th>50%</th>\n      <td>-3.442857e-01</td>\n      <td>-3.371035e-01</td>\n      <td>-3.746790e-01</td>\n      <td>-0.328191</td>\n      <td>-3.603073e-01</td>\n      <td>-3.508674e-01</td>\n      <td>-2.916746e-01</td>\n    </tr>\n    <tr>\n      <th>75%</th>\n      <td>5.906757e-02</td>\n      <td>8.744865e-02</td>\n      <td>3.366450e-01</td>\n      <td>0.094657</td>\n      <td>1.046507e-01</td>\n      <td>1.218778e-01</td>\n      <td>-1.777180e-01</td>\n    </tr>\n    <tr>\n      <th>max</th>\n      <td>1.035826e+01</td>\n      <td>9.902139e+00</td>\n      <td>4.962810e+00</td>\n      <td>10.941147</td>\n      <td>9.777801e+00</td>\n      <td>9.607697e+00</td>\n      <td>1.047722e+01</td>\n    </tr>\n  </tbody>\n</table>\n</div>"
     },
     "execution_count": 62,
     "metadata": {},
     "output_type": "execute_result"
    }
   ],
   "execution_count": 62
  },
  {
   "metadata": {
    "ExecuteTime": {
     "end_time": "2024-04-20T12:27:51.330330Z",
     "start_time": "2024-04-20T12:27:51.273509Z"
    }
   },
   "cell_type": "code",
   "source": [
    "#Guardar no ficheiro\n",
    "file_path = data_path + 'treated/prepared/numeric/normalized/test/dataset-numeric-low-tensions-2024-no-dates-zscore.csv'\n",
    "\n",
    "baixa_tensao_2024_scaled_z_score_df.to_csv(file_path, index=False)\n",
    "\n",
    "print(\"DataFrame guardado em \", file_path)"
   ],
   "id": "516de79e0370d78",
   "outputs": [
    {
     "name": "stdout",
     "output_type": "stream",
     "text": [
      "DataFrame guardado em  ../data/treated/prepared/numeric/normalized/test/dataset-numeric-low-tensions-2024-no-dates-zscore.csv\n"
     ]
    }
   ],
   "execution_count": 63
  },
  {
   "metadata": {},
   "cell_type": "markdown",
   "source": "### Normalização z-Score baixa tensão 22/23",
   "id": "8556697bafe92364"
  },
  {
   "metadata": {
    "ExecuteTime": {
     "end_time": "2024-04-20T12:27:51.415164Z",
     "start_time": "2024-04-20T12:27:51.329416Z"
    }
   },
   "cell_type": "code",
   "source": [
    "# Normalização com o Z-Score\n",
    "scaler = StandardScaler()\n",
    "baixa_tensao_outros_scaled_z_score_df = pd.DataFrame(scaler.fit_transform(baixa_tensao_outros_df), columns=baixa_tensao_outros_df.columns)\n",
    "\n",
    "baixa_tensao_outros_scaled_z_score_df.head()"
   ],
   "id": "67db0b8895968a22",
   "outputs": [
    {
     "data": {
      "text/plain": "   energia_ativa_baixa_tensao_kwh  cpes_domestico_baixa_tensao  \\\n0                       -0.062443                     0.049833   \n1                       -0.112202                     0.050173   \n2                       -0.102755                     0.050513   \n3                       -0.067745                     0.050888   \n4                        0.011211                     0.051092   \n\n   cpes_iluminacao_publica_baixa_tensao  cpes_nao_domestico_baixa_tensao  \\\n0                              0.407077                         0.011486   \n1                              0.407077                         0.010467   \n2                              0.407077                         0.009156   \n3                              0.407077                         0.010030   \n4                              0.412231                         0.010613   \n\n   cpes_outros_baixa_tensao  cpes_mobilidade_eletrica_nao_baixa_tensao  \\\n0                 -0.224882                                  -0.098518   \n1                 -0.234561                                  -0.089693   \n2                 -0.234561                                  -0.078057   \n3                 -0.239400                                  -0.060230   \n4                 -0.229721                                  -0.049648   \n\n   cpes_mobilidade_eletrica_sim_baixa_tensao  \n0                                  -0.294869  \n1                                  -0.294869  \n2                                  -0.294869  \n3                                  -0.294869  \n4                                  -0.294869  ",
      "text/html": "<div>\n<style scoped>\n    .dataframe tbody tr th:only-of-type {\n        vertical-align: middle;\n    }\n\n    .dataframe tbody tr th {\n        vertical-align: top;\n    }\n\n    .dataframe thead th {\n        text-align: right;\n    }\n</style>\n<table border=\"1\" class=\"dataframe\">\n  <thead>\n    <tr style=\"text-align: right;\">\n      <th></th>\n      <th>energia_ativa_baixa_tensao_kwh</th>\n      <th>cpes_domestico_baixa_tensao</th>\n      <th>cpes_iluminacao_publica_baixa_tensao</th>\n      <th>cpes_nao_domestico_baixa_tensao</th>\n      <th>cpes_outros_baixa_tensao</th>\n      <th>cpes_mobilidade_eletrica_nao_baixa_tensao</th>\n      <th>cpes_mobilidade_eletrica_sim_baixa_tensao</th>\n    </tr>\n  </thead>\n  <tbody>\n    <tr>\n      <th>0</th>\n      <td>-0.062443</td>\n      <td>0.049833</td>\n      <td>0.407077</td>\n      <td>0.011486</td>\n      <td>-0.224882</td>\n      <td>-0.098518</td>\n      <td>-0.294869</td>\n    </tr>\n    <tr>\n      <th>1</th>\n      <td>-0.112202</td>\n      <td>0.050173</td>\n      <td>0.407077</td>\n      <td>0.010467</td>\n      <td>-0.234561</td>\n      <td>-0.089693</td>\n      <td>-0.294869</td>\n    </tr>\n    <tr>\n      <th>2</th>\n      <td>-0.102755</td>\n      <td>0.050513</td>\n      <td>0.407077</td>\n      <td>0.009156</td>\n      <td>-0.234561</td>\n      <td>-0.078057</td>\n      <td>-0.294869</td>\n    </tr>\n    <tr>\n      <th>3</th>\n      <td>-0.067745</td>\n      <td>0.050888</td>\n      <td>0.407077</td>\n      <td>0.010030</td>\n      <td>-0.239400</td>\n      <td>-0.060230</td>\n      <td>-0.294869</td>\n    </tr>\n    <tr>\n      <th>4</th>\n      <td>0.011211</td>\n      <td>0.051092</td>\n      <td>0.412231</td>\n      <td>0.010613</td>\n      <td>-0.229721</td>\n      <td>-0.049648</td>\n      <td>-0.294869</td>\n    </tr>\n  </tbody>\n</table>\n</div>"
     },
     "execution_count": 64,
     "metadata": {},
     "output_type": "execute_result"
    }
   ],
   "execution_count": 64
  },
  {
   "metadata": {
    "ExecuteTime": {
     "end_time": "2024-04-20T12:27:51.531375Z",
     "start_time": "2024-04-20T12:27:51.404492Z"
    }
   },
   "cell_type": "code",
   "source": [
    "# Estatísticas resumidas antes da normalização\n",
    "baixa_tensao_outros_df.describe()"
   ],
   "id": "adb28c6b4f8c5ccc",
   "outputs": [
    {
     "data": {
      "text/plain": "       energia_ativa_baixa_tensao_kwh  cpes_domestico_baixa_tensao  \\\ncount                    4.641000e+03                  4641.000000   \nmean                     6.645385e+06                 18795.518854   \nstd                      1.184161e+07                 29390.997527   \nmin                      2.060870e+05                  1042.000000   \n25%                      1.308489e+06                  4581.000000   \n50%                      2.682608e+06                  8936.000000   \n75%                      7.395246e+06                 21405.000000   \nmax                      1.633807e+08                311824.000000   \n\n       cpes_iluminacao_publica_baixa_tensao  cpes_nao_domestico_baixa_tensao  \\\ncount                           4641.000000                      4641.000000   \nmean                             214.017453                      4239.124111   \nstd                              194.044633                      6867.617704   \nmin                                7.000000                       174.000000   \n25%                               91.000000                      1101.000000   \n50%                              141.000000                      1989.000000   \n75%                              280.000000                      4892.000000   \nmax                             1184.000000                     79956.000000   \n\n       cpes_outros_baixa_tensao  cpes_mobilidade_eletrica_nao_baixa_tensao  \\\ncount               4641.000000                                4641.000000   \nmean                 129.467787                               26681.424477   \nstd                  206.654356                               45554.097416   \nmin                    1.000000                                1144.000000   \n25%                   21.000000                                5940.000000   \n50%                   54.000000                               11104.000000   \n75%                  157.000000                               29350.000000   \nmax                 2186.000000                              528158.000000   \n\n       cpes_mobilidade_eletrica_sim_baixa_tensao  \ncount                                4641.000000  \nmean                                    9.026287  \nstd                                    23.831036  \nmin                                     0.000000  \n25%                                     2.000000  \n50%                                     2.000000  \n75%                                     6.000000  \nmax                                   368.000000  ",
      "text/html": "<div>\n<style scoped>\n    .dataframe tbody tr th:only-of-type {\n        vertical-align: middle;\n    }\n\n    .dataframe tbody tr th {\n        vertical-align: top;\n    }\n\n    .dataframe thead th {\n        text-align: right;\n    }\n</style>\n<table border=\"1\" class=\"dataframe\">\n  <thead>\n    <tr style=\"text-align: right;\">\n      <th></th>\n      <th>energia_ativa_baixa_tensao_kwh</th>\n      <th>cpes_domestico_baixa_tensao</th>\n      <th>cpes_iluminacao_publica_baixa_tensao</th>\n      <th>cpes_nao_domestico_baixa_tensao</th>\n      <th>cpes_outros_baixa_tensao</th>\n      <th>cpes_mobilidade_eletrica_nao_baixa_tensao</th>\n      <th>cpes_mobilidade_eletrica_sim_baixa_tensao</th>\n    </tr>\n  </thead>\n  <tbody>\n    <tr>\n      <th>count</th>\n      <td>4.641000e+03</td>\n      <td>4641.000000</td>\n      <td>4641.000000</td>\n      <td>4641.000000</td>\n      <td>4641.000000</td>\n      <td>4641.000000</td>\n      <td>4641.000000</td>\n    </tr>\n    <tr>\n      <th>mean</th>\n      <td>6.645385e+06</td>\n      <td>18795.518854</td>\n      <td>214.017453</td>\n      <td>4239.124111</td>\n      <td>129.467787</td>\n      <td>26681.424477</td>\n      <td>9.026287</td>\n    </tr>\n    <tr>\n      <th>std</th>\n      <td>1.184161e+07</td>\n      <td>29390.997527</td>\n      <td>194.044633</td>\n      <td>6867.617704</td>\n      <td>206.654356</td>\n      <td>45554.097416</td>\n      <td>23.831036</td>\n    </tr>\n    <tr>\n      <th>min</th>\n      <td>2.060870e+05</td>\n      <td>1042.000000</td>\n      <td>7.000000</td>\n      <td>174.000000</td>\n      <td>1.000000</td>\n      <td>1144.000000</td>\n      <td>0.000000</td>\n    </tr>\n    <tr>\n      <th>25%</th>\n      <td>1.308489e+06</td>\n      <td>4581.000000</td>\n      <td>91.000000</td>\n      <td>1101.000000</td>\n      <td>21.000000</td>\n      <td>5940.000000</td>\n      <td>2.000000</td>\n    </tr>\n    <tr>\n      <th>50%</th>\n      <td>2.682608e+06</td>\n      <td>8936.000000</td>\n      <td>141.000000</td>\n      <td>1989.000000</td>\n      <td>54.000000</td>\n      <td>11104.000000</td>\n      <td>2.000000</td>\n    </tr>\n    <tr>\n      <th>75%</th>\n      <td>7.395246e+06</td>\n      <td>21405.000000</td>\n      <td>280.000000</td>\n      <td>4892.000000</td>\n      <td>157.000000</td>\n      <td>29350.000000</td>\n      <td>6.000000</td>\n    </tr>\n    <tr>\n      <th>max</th>\n      <td>1.633807e+08</td>\n      <td>311824.000000</td>\n      <td>1184.000000</td>\n      <td>79956.000000</td>\n      <td>2186.000000</td>\n      <td>528158.000000</td>\n      <td>368.000000</td>\n    </tr>\n  </tbody>\n</table>\n</div>"
     },
     "execution_count": 65,
     "metadata": {},
     "output_type": "execute_result"
    }
   ],
   "execution_count": 65
  },
  {
   "metadata": {
    "ExecuteTime": {
     "end_time": "2024-04-20T12:27:51.635375Z",
     "start_time": "2024-04-20T12:27:51.531765Z"
    }
   },
   "cell_type": "code",
   "source": [
    "# Estatísticas resumidas depois da normalização\n",
    "baixa_tensao_outros_scaled_z_score_df.describe()"
   ],
   "id": "93c862beea9bb311",
   "outputs": [
    {
     "data": {
      "text/plain": "       energia_ativa_baixa_tensao_kwh  cpes_domestico_baixa_tensao  \\\ncount                    4.641000e+03                 4.641000e+03   \nmean                    -2.449619e-17                 1.531012e-18   \nstd                      1.000108e+00                 1.000108e+00   \nmin                     -5.438441e-01                -6.041112e-01   \n25%                     -4.507385e-01                -4.836872e-01   \n50%                     -3.346845e-01                -3.354967e-01   \n75%                      6.333103e-02                 8.879462e-02   \nmax                      1.323740e+01                 9.971082e+00   \n\n       cpes_iluminacao_publica_baixa_tensao  cpes_nao_domestico_baixa_tensao  \\\ncount                          4.641000e+03                     4.641000e+03   \nmean                          -1.837215e-17                    -2.755822e-17   \nstd                            1.000108e+00                     1.000108e+00   \nmin                           -1.066970e+00                    -5.919902e-01   \n25%                           -6.340330e-01                    -4.569943e-01   \n50%                           -3.763326e-01                    -3.276779e-01   \n75%                            3.400746e-01                     9.507609e-02   \nmax                            4.999299e+00                     1.102639e+01   \n\n       cpes_outros_baixa_tensao  cpes_mobilidade_eletrica_nao_baixa_tensao  \\\ncount              4.641000e+03                               4.641000e+03   \nmean              -3.674429e-17                              -2.449619e-17   \nstd                1.000108e+00                               1.000108e+00   \nmin               -6.217223e-01                              -5.606560e-01   \n25%               -5.249320e-01                              -4.553632e-01   \n50%               -3.652278e-01                              -3.419913e-01   \n75%                1.332427e-01                               5.858667e-02   \nmax                9.952627e+00                               1.100956e+01   \n\n       cpes_mobilidade_eletrica_sim_baixa_tensao  \ncount                                4641.000000  \nmean                                    0.000000  \nstd                                     1.000108  \nmin                                    -0.378803  \n25%                                    -0.294869  \n50%                                    -0.294869  \n75%                                    -0.127003  \nmax                                    15.064909  ",
      "text/html": "<div>\n<style scoped>\n    .dataframe tbody tr th:only-of-type {\n        vertical-align: middle;\n    }\n\n    .dataframe tbody tr th {\n        vertical-align: top;\n    }\n\n    .dataframe thead th {\n        text-align: right;\n    }\n</style>\n<table border=\"1\" class=\"dataframe\">\n  <thead>\n    <tr style=\"text-align: right;\">\n      <th></th>\n      <th>energia_ativa_baixa_tensao_kwh</th>\n      <th>cpes_domestico_baixa_tensao</th>\n      <th>cpes_iluminacao_publica_baixa_tensao</th>\n      <th>cpes_nao_domestico_baixa_tensao</th>\n      <th>cpes_outros_baixa_tensao</th>\n      <th>cpes_mobilidade_eletrica_nao_baixa_tensao</th>\n      <th>cpes_mobilidade_eletrica_sim_baixa_tensao</th>\n    </tr>\n  </thead>\n  <tbody>\n    <tr>\n      <th>count</th>\n      <td>4.641000e+03</td>\n      <td>4.641000e+03</td>\n      <td>4.641000e+03</td>\n      <td>4.641000e+03</td>\n      <td>4.641000e+03</td>\n      <td>4.641000e+03</td>\n      <td>4641.000000</td>\n    </tr>\n    <tr>\n      <th>mean</th>\n      <td>-2.449619e-17</td>\n      <td>1.531012e-18</td>\n      <td>-1.837215e-17</td>\n      <td>-2.755822e-17</td>\n      <td>-3.674429e-17</td>\n      <td>-2.449619e-17</td>\n      <td>0.000000</td>\n    </tr>\n    <tr>\n      <th>std</th>\n      <td>1.000108e+00</td>\n      <td>1.000108e+00</td>\n      <td>1.000108e+00</td>\n      <td>1.000108e+00</td>\n      <td>1.000108e+00</td>\n      <td>1.000108e+00</td>\n      <td>1.000108</td>\n    </tr>\n    <tr>\n      <th>min</th>\n      <td>-5.438441e-01</td>\n      <td>-6.041112e-01</td>\n      <td>-1.066970e+00</td>\n      <td>-5.919902e-01</td>\n      <td>-6.217223e-01</td>\n      <td>-5.606560e-01</td>\n      <td>-0.378803</td>\n    </tr>\n    <tr>\n      <th>25%</th>\n      <td>-4.507385e-01</td>\n      <td>-4.836872e-01</td>\n      <td>-6.340330e-01</td>\n      <td>-4.569943e-01</td>\n      <td>-5.249320e-01</td>\n      <td>-4.553632e-01</td>\n      <td>-0.294869</td>\n    </tr>\n    <tr>\n      <th>50%</th>\n      <td>-3.346845e-01</td>\n      <td>-3.354967e-01</td>\n      <td>-3.763326e-01</td>\n      <td>-3.276779e-01</td>\n      <td>-3.652278e-01</td>\n      <td>-3.419913e-01</td>\n      <td>-0.294869</td>\n    </tr>\n    <tr>\n      <th>75%</th>\n      <td>6.333103e-02</td>\n      <td>8.879462e-02</td>\n      <td>3.400746e-01</td>\n      <td>9.507609e-02</td>\n      <td>1.332427e-01</td>\n      <td>5.858667e-02</td>\n      <td>-0.127003</td>\n    </tr>\n    <tr>\n      <th>max</th>\n      <td>1.323740e+01</td>\n      <td>9.971082e+00</td>\n      <td>4.999299e+00</td>\n      <td>1.102639e+01</td>\n      <td>9.952627e+00</td>\n      <td>1.100956e+01</td>\n      <td>15.064909</td>\n    </tr>\n  </tbody>\n</table>\n</div>"
     },
     "execution_count": 66,
     "metadata": {},
     "output_type": "execute_result"
    }
   ],
   "execution_count": 66
  },
  {
   "metadata": {
    "ExecuteTime": {
     "end_time": "2024-04-20T12:27:51.728219Z",
     "start_time": "2024-04-20T12:27:51.611Z"
    }
   },
   "cell_type": "code",
   "source": [
    "#Guardar no ficheiro\n",
    "file_path = data_path + 'treated/prepared/numeric/normalized/train/dataset-numeric-low-tensions-2223-no-dates-zscore.csv'\n",
    "\n",
    "baixa_tensao_outros_scaled_z_score_df.to_csv(file_path, index=False)\n",
    "\n",
    "print(\"DataFrame guardado em \", file_path)"
   ],
   "id": "e9db87488803d85a",
   "outputs": [
    {
     "name": "stdout",
     "output_type": "stream",
     "text": [
      "DataFrame guardado em  ../data/treated/prepared/numeric/normalized/train/dataset-numeric-low-tensions-2223-no-dates-zscore.csv\n"
     ]
    }
   ],
   "execution_count": 67
  },
  {
   "metadata": {},
   "cell_type": "markdown",
   "source": "### Normalização z-Score alta tensão 2024",
   "id": "fe26991941dcd253"
  },
  {
   "metadata": {
    "ExecuteTime": {
     "end_time": "2024-04-20T12:27:51.820806Z",
     "start_time": "2024-04-20T12:27:51.697548Z"
    }
   },
   "cell_type": "code",
   "source": [
    "# Normalização com o Z-Score\n",
    "scaler = StandardScaler()\n",
    "alta_tensao_2024_scaled_z_score_df = pd.DataFrame(scaler.fit_transform(alta_tensao_2024_df), columns=alta_tensao_2024_df.columns)\n",
    "\n",
    "alta_tensao_2024_scaled_z_score_df.head()"
   ],
   "id": "41aab379eb52a830",
   "outputs": [
    {
     "data": {
      "text/plain": "   energia_ativa_alta_tensao_kwh  cpes_domestico_alta_tensao  \\\n0                       0.299214                   -0.194398   \n1                      -0.526253                   -0.194398   \n2                      -0.524960                   -0.194398   \n3                       0.286395                   -0.194398   \n4                       0.169332                   -0.194398   \n\n   cpes_nao_domestico_alta_tensao  cpes_outros_alta_tensao  \n0                        0.266398                      0.0  \n1                       -0.656052                      0.0  \n2                       -0.476460                      0.0  \n3                       -0.043807                      0.0  \n4                        0.282724                      0.0  ",
      "text/html": "<div>\n<style scoped>\n    .dataframe tbody tr th:only-of-type {\n        vertical-align: middle;\n    }\n\n    .dataframe tbody tr th {\n        vertical-align: top;\n    }\n\n    .dataframe thead th {\n        text-align: right;\n    }\n</style>\n<table border=\"1\" class=\"dataframe\">\n  <thead>\n    <tr style=\"text-align: right;\">\n      <th></th>\n      <th>energia_ativa_alta_tensao_kwh</th>\n      <th>cpes_domestico_alta_tensao</th>\n      <th>cpes_nao_domestico_alta_tensao</th>\n      <th>cpes_outros_alta_tensao</th>\n    </tr>\n  </thead>\n  <tbody>\n    <tr>\n      <th>0</th>\n      <td>0.299214</td>\n      <td>-0.194398</td>\n      <td>0.266398</td>\n      <td>0.0</td>\n    </tr>\n    <tr>\n      <th>1</th>\n      <td>-0.526253</td>\n      <td>-0.194398</td>\n      <td>-0.656052</td>\n      <td>0.0</td>\n    </tr>\n    <tr>\n      <th>2</th>\n      <td>-0.524960</td>\n      <td>-0.194398</td>\n      <td>-0.476460</td>\n      <td>0.0</td>\n    </tr>\n    <tr>\n      <th>3</th>\n      <td>0.286395</td>\n      <td>-0.194398</td>\n      <td>-0.043807</td>\n      <td>0.0</td>\n    </tr>\n    <tr>\n      <th>4</th>\n      <td>0.169332</td>\n      <td>-0.194398</td>\n      <td>0.282724</td>\n      <td>0.0</td>\n    </tr>\n  </tbody>\n</table>\n</div>"
     },
     "execution_count": 68,
     "metadata": {},
     "output_type": "execute_result"
    }
   ],
   "execution_count": 68
  },
  {
   "metadata": {
    "ExecuteTime": {
     "end_time": "2024-04-20T12:27:51.926004Z",
     "start_time": "2024-04-20T12:27:51.822429Z"
    }
   },
   "cell_type": "code",
   "source": [
    "# Estatísticas resumidas antes da normalização\n",
    "alta_tensao_2024_df.describe()"
   ],
   "id": "49f0ad15f20e5400",
   "outputs": [
    {
     "data": {
      "text/plain": "       energia_ativa_alta_tensao_kwh  cpes_domestico_alta_tensao  \\\ncount                   2.730000e+02                  273.000000   \nmean                    1.528861e+06                    0.047619   \nstd                     2.761528e+06                    0.245406   \nmin                     0.000000e+00                    0.000000   \n25%                     1.234420e+05                    0.000000   \n50%                     5.144380e+05                    0.000000   \n75%                     1.654728e+06                    0.000000   \nmax                     2.596288e+07                    2.000000   \n\n       cpes_nao_domestico_alta_tensao  cpes_outros_alta_tensao  \ncount                      273.000000                    273.0  \nmean                        96.366300                      0.0  \nstd                        122.724874                      0.0  \nmin                          0.000000                      0.0  \n25%                         29.000000                      0.0  \n50%                         52.000000                      0.0  \n75%                        119.000000                      0.0  \nmax                       1226.000000                      0.0  ",
      "text/html": "<div>\n<style scoped>\n    .dataframe tbody tr th:only-of-type {\n        vertical-align: middle;\n    }\n\n    .dataframe tbody tr th {\n        vertical-align: top;\n    }\n\n    .dataframe thead th {\n        text-align: right;\n    }\n</style>\n<table border=\"1\" class=\"dataframe\">\n  <thead>\n    <tr style=\"text-align: right;\">\n      <th></th>\n      <th>energia_ativa_alta_tensao_kwh</th>\n      <th>cpes_domestico_alta_tensao</th>\n      <th>cpes_nao_domestico_alta_tensao</th>\n      <th>cpes_outros_alta_tensao</th>\n    </tr>\n  </thead>\n  <tbody>\n    <tr>\n      <th>count</th>\n      <td>2.730000e+02</td>\n      <td>273.000000</td>\n      <td>273.000000</td>\n      <td>273.0</td>\n    </tr>\n    <tr>\n      <th>mean</th>\n      <td>1.528861e+06</td>\n      <td>0.047619</td>\n      <td>96.366300</td>\n      <td>0.0</td>\n    </tr>\n    <tr>\n      <th>std</th>\n      <td>2.761528e+06</td>\n      <td>0.245406</td>\n      <td>122.724874</td>\n      <td>0.0</td>\n    </tr>\n    <tr>\n      <th>min</th>\n      <td>0.000000e+00</td>\n      <td>0.000000</td>\n      <td>0.000000</td>\n      <td>0.0</td>\n    </tr>\n    <tr>\n      <th>25%</th>\n      <td>1.234420e+05</td>\n      <td>0.000000</td>\n      <td>29.000000</td>\n      <td>0.0</td>\n    </tr>\n    <tr>\n      <th>50%</th>\n      <td>5.144380e+05</td>\n      <td>0.000000</td>\n      <td>52.000000</td>\n      <td>0.0</td>\n    </tr>\n    <tr>\n      <th>75%</th>\n      <td>1.654728e+06</td>\n      <td>0.000000</td>\n      <td>119.000000</td>\n      <td>0.0</td>\n    </tr>\n    <tr>\n      <th>max</th>\n      <td>2.596288e+07</td>\n      <td>2.000000</td>\n      <td>1226.000000</td>\n      <td>0.0</td>\n    </tr>\n  </tbody>\n</table>\n</div>"
     },
     "execution_count": 69,
     "metadata": {},
     "output_type": "execute_result"
    }
   ],
   "execution_count": 69
  },
  {
   "metadata": {
    "ExecuteTime": {
     "end_time": "2024-04-20T12:27:51.994274Z",
     "start_time": "2024-04-20T12:27:51.923587Z"
    }
   },
   "cell_type": "code",
   "source": [
    "# Estatísticas resumidas depois da normalização\n",
    "alta_tensao_2024_scaled_z_score_df.describe()"
   ],
   "id": "8dfb1e9818f6320c",
   "outputs": [
    {
     "data": {
      "text/plain": "       energia_ativa_alta_tensao_kwh  cpes_domestico_alta_tensao  \\\ncount                   2.730000e+02                2.730000e+02   \nmean                    1.952040e-17               -6.506802e-18   \nstd                     1.001837e+00                1.001837e+00   \nmin                    -5.546454e-01               -1.943983e-01   \n25%                    -5.098627e-01               -1.943983e-01   \n50%                    -3.680158e-01               -1.943983e-01   \n75%                     4.566254e-02               -1.943983e-01   \nmax                     8.864259e+00                7.970330e+00   \n\n       cpes_nao_domestico_alta_tensao  cpes_outros_alta_tensao  \ncount                    2.730000e+02                    273.0  \nmean                    -3.253401e-18                      0.0  \nstd                      1.001837e+00                      0.0  \nmin                     -7.866643e-01                      0.0  \n25%                     -5.499294e-01                      0.0  \n50%                     -3.621742e-01                      0.0  \n75%                      1.847651e-01                      0.0  \nmax                      9.221507e+00                      0.0  ",
      "text/html": "<div>\n<style scoped>\n    .dataframe tbody tr th:only-of-type {\n        vertical-align: middle;\n    }\n\n    .dataframe tbody tr th {\n        vertical-align: top;\n    }\n\n    .dataframe thead th {\n        text-align: right;\n    }\n</style>\n<table border=\"1\" class=\"dataframe\">\n  <thead>\n    <tr style=\"text-align: right;\">\n      <th></th>\n      <th>energia_ativa_alta_tensao_kwh</th>\n      <th>cpes_domestico_alta_tensao</th>\n      <th>cpes_nao_domestico_alta_tensao</th>\n      <th>cpes_outros_alta_tensao</th>\n    </tr>\n  </thead>\n  <tbody>\n    <tr>\n      <th>count</th>\n      <td>2.730000e+02</td>\n      <td>2.730000e+02</td>\n      <td>2.730000e+02</td>\n      <td>273.0</td>\n    </tr>\n    <tr>\n      <th>mean</th>\n      <td>1.952040e-17</td>\n      <td>-6.506802e-18</td>\n      <td>-3.253401e-18</td>\n      <td>0.0</td>\n    </tr>\n    <tr>\n      <th>std</th>\n      <td>1.001837e+00</td>\n      <td>1.001837e+00</td>\n      <td>1.001837e+00</td>\n      <td>0.0</td>\n    </tr>\n    <tr>\n      <th>min</th>\n      <td>-5.546454e-01</td>\n      <td>-1.943983e-01</td>\n      <td>-7.866643e-01</td>\n      <td>0.0</td>\n    </tr>\n    <tr>\n      <th>25%</th>\n      <td>-5.098627e-01</td>\n      <td>-1.943983e-01</td>\n      <td>-5.499294e-01</td>\n      <td>0.0</td>\n    </tr>\n    <tr>\n      <th>50%</th>\n      <td>-3.680158e-01</td>\n      <td>-1.943983e-01</td>\n      <td>-3.621742e-01</td>\n      <td>0.0</td>\n    </tr>\n    <tr>\n      <th>75%</th>\n      <td>4.566254e-02</td>\n      <td>-1.943983e-01</td>\n      <td>1.847651e-01</td>\n      <td>0.0</td>\n    </tr>\n    <tr>\n      <th>max</th>\n      <td>8.864259e+00</td>\n      <td>7.970330e+00</td>\n      <td>9.221507e+00</td>\n      <td>0.0</td>\n    </tr>\n  </tbody>\n</table>\n</div>"
     },
     "execution_count": 70,
     "metadata": {},
     "output_type": "execute_result"
    }
   ],
   "execution_count": 70
  },
  {
   "metadata": {
    "ExecuteTime": {
     "end_time": "2024-04-20T12:27:52.045539Z",
     "start_time": "2024-04-20T12:27:51.984135Z"
    }
   },
   "cell_type": "code",
   "source": [
    "#Guardar no ficheiro\n",
    "file_path = data_path + 'treated/prepared/numeric/normalized/test/dataset-numeric-high-tensions-2024-no-dates-zscore.csv'\n",
    "\n",
    "alta_tensao_2024_scaled_z_score_df.to_csv(file_path, index=False)\n",
    "\n",
    "print(\"DataFrame guardado em \", file_path)"
   ],
   "id": "2fabdad93da7ee9d",
   "outputs": [
    {
     "name": "stdout",
     "output_type": "stream",
     "text": [
      "DataFrame guardado em  ../data/treated/prepared/numeric/normalized/test/dataset-numeric-high-tensions-2024-no-dates-zscore.csv\n"
     ]
    }
   ],
   "execution_count": 71
  },
  {
   "metadata": {},
   "cell_type": "markdown",
   "source": "### Normalização z-Score alta tensão 22/23",
   "id": "a96ab4d915555d7c"
  },
  {
   "metadata": {
    "ExecuteTime": {
     "end_time": "2024-04-20T12:27:52.127069Z",
     "start_time": "2024-04-20T12:27:52.046375Z"
    }
   },
   "cell_type": "code",
   "source": [
    "# Normalização com o Z-Score\n",
    "scaler = StandardScaler()\n",
    "alta_tensao_outros_scaled_z_score_df = pd.DataFrame(scaler.fit_transform(alta_tensao_outros_df), columns=alta_tensao_outros_df.columns)\n",
    "\n",
    "alta_tensao_outros_scaled_z_score_df.head()"
   ],
   "id": "2b9a737aa5152262",
   "outputs": [
    {
     "data": {
      "text/plain": "   energia_ativa_alta_tensao_kwh  cpes_domestico_alta_tensao  \\\n0                      -0.088926                   -0.191605   \n1                      -0.070558                   -0.191605   \n2                      -0.056724                   -0.191605   \n3                      -0.084147                   -0.191605   \n4                      -0.131445                   -0.191605   \n\n   cpes_nao_domestico_alta_tensao  cpes_outros_alta_tensao  \n0                         0.31889                -0.094912  \n1                         0.31889                -0.094912  \n2                         0.31889                -0.094912  \n3                         0.31889                -0.094912  \n4                         0.31889                -0.094912  ",
      "text/html": "<div>\n<style scoped>\n    .dataframe tbody tr th:only-of-type {\n        vertical-align: middle;\n    }\n\n    .dataframe tbody tr th {\n        vertical-align: top;\n    }\n\n    .dataframe thead th {\n        text-align: right;\n    }\n</style>\n<table border=\"1\" class=\"dataframe\">\n  <thead>\n    <tr style=\"text-align: right;\">\n      <th></th>\n      <th>energia_ativa_alta_tensao_kwh</th>\n      <th>cpes_domestico_alta_tensao</th>\n      <th>cpes_nao_domestico_alta_tensao</th>\n      <th>cpes_outros_alta_tensao</th>\n    </tr>\n  </thead>\n  <tbody>\n    <tr>\n      <th>0</th>\n      <td>-0.088926</td>\n      <td>-0.191605</td>\n      <td>0.31889</td>\n      <td>-0.094912</td>\n    </tr>\n    <tr>\n      <th>1</th>\n      <td>-0.070558</td>\n      <td>-0.191605</td>\n      <td>0.31889</td>\n      <td>-0.094912</td>\n    </tr>\n    <tr>\n      <th>2</th>\n      <td>-0.056724</td>\n      <td>-0.191605</td>\n      <td>0.31889</td>\n      <td>-0.094912</td>\n    </tr>\n    <tr>\n      <th>3</th>\n      <td>-0.084147</td>\n      <td>-0.191605</td>\n      <td>0.31889</td>\n      <td>-0.094912</td>\n    </tr>\n    <tr>\n      <th>4</th>\n      <td>-0.131445</td>\n      <td>-0.191605</td>\n      <td>0.31889</td>\n      <td>-0.094912</td>\n    </tr>\n  </tbody>\n</table>\n</div>"
     },
     "execution_count": 72,
     "metadata": {},
     "output_type": "execute_result"
    }
   ],
   "execution_count": 72
  },
  {
   "metadata": {
    "ExecuteTime": {
     "end_time": "2024-04-20T12:27:52.176658Z",
     "start_time": "2024-04-20T12:27:52.117781Z"
    }
   },
   "cell_type": "code",
   "source": [
    "# Estatísticas resumidas antes da normalização\n",
    "alta_tensao_outros_df.describe()"
   ],
   "id": "91c6b3f70778ad94",
   "outputs": [
    {
     "data": {
      "text/plain": "       energia_ativa_alta_tensao_kwh  cpes_domestico_alta_tensao  \\\ncount                   4.641000e+03                 4641.000000   \nmean                    7.186922e+06                    0.039647   \nstd                     1.456843e+07                    0.206940   \nmin                     0.000000e+00                    0.000000   \n25%                     4.570540e+05                    0.000000   \n50%                     1.955336e+06                    0.000000   \n75%                     6.360625e+06                    0.000000   \nmax                     1.279470e+08                    2.000000   \n\n       cpes_nao_domestico_alta_tensao  cpes_outros_alta_tensao  \ncount                     4641.000000              4641.000000  \nmean                        95.380952                 0.408533  \nstd                        121.117813                 4.304804  \nmin                          0.000000                 0.000000  \n25%                         28.000000                 0.000000  \n50%                         51.000000                 0.000000  \n75%                        119.000000                 0.000000  \nmax                       1224.000000                75.000000  ",
      "text/html": "<div>\n<style scoped>\n    .dataframe tbody tr th:only-of-type {\n        vertical-align: middle;\n    }\n\n    .dataframe tbody tr th {\n        vertical-align: top;\n    }\n\n    .dataframe thead th {\n        text-align: right;\n    }\n</style>\n<table border=\"1\" class=\"dataframe\">\n  <thead>\n    <tr style=\"text-align: right;\">\n      <th></th>\n      <th>energia_ativa_alta_tensao_kwh</th>\n      <th>cpes_domestico_alta_tensao</th>\n      <th>cpes_nao_domestico_alta_tensao</th>\n      <th>cpes_outros_alta_tensao</th>\n    </tr>\n  </thead>\n  <tbody>\n    <tr>\n      <th>count</th>\n      <td>4.641000e+03</td>\n      <td>4641.000000</td>\n      <td>4641.000000</td>\n      <td>4641.000000</td>\n    </tr>\n    <tr>\n      <th>mean</th>\n      <td>7.186922e+06</td>\n      <td>0.039647</td>\n      <td>95.380952</td>\n      <td>0.408533</td>\n    </tr>\n    <tr>\n      <th>std</th>\n      <td>1.456843e+07</td>\n      <td>0.206940</td>\n      <td>121.117813</td>\n      <td>4.304804</td>\n    </tr>\n    <tr>\n      <th>min</th>\n      <td>0.000000e+00</td>\n      <td>0.000000</td>\n      <td>0.000000</td>\n      <td>0.000000</td>\n    </tr>\n    <tr>\n      <th>25%</th>\n      <td>4.570540e+05</td>\n      <td>0.000000</td>\n      <td>28.000000</td>\n      <td>0.000000</td>\n    </tr>\n    <tr>\n      <th>50%</th>\n      <td>1.955336e+06</td>\n      <td>0.000000</td>\n      <td>51.000000</td>\n      <td>0.000000</td>\n    </tr>\n    <tr>\n      <th>75%</th>\n      <td>6.360625e+06</td>\n      <td>0.000000</td>\n      <td>119.000000</td>\n      <td>0.000000</td>\n    </tr>\n    <tr>\n      <th>max</th>\n      <td>1.279470e+08</td>\n      <td>2.000000</td>\n      <td>1224.000000</td>\n      <td>75.000000</td>\n    </tr>\n  </tbody>\n</table>\n</div>"
     },
     "execution_count": 73,
     "metadata": {},
     "output_type": "execute_result"
    }
   ],
   "execution_count": 73
  },
  {
   "metadata": {
    "ExecuteTime": {
     "end_time": "2024-04-20T12:27:52.265584Z",
     "start_time": "2024-04-20T12:27:52.177388Z"
    }
   },
   "cell_type": "code",
   "source": [
    "# Estatísticas resumidas depois da normalização\n",
    "alta_tensao_outros_scaled_z_score_df.describe()"
   ],
   "id": "62d66fedd48b4ff6",
   "outputs": [
    {
     "data": {
      "text/plain": "       energia_ativa_alta_tensao_kwh  cpes_domestico_alta_tensao  \\\ncount                   4.641000e+03                4.641000e+03   \nmean                    3.674429e-17                6.124049e-18   \nstd                     1.000108e+00                1.000108e+00   \nmin                    -4.933748e-01               -1.916053e-01   \n25%                    -4.619985e-01               -1.916053e-01   \n50%                    -3.591430e-01               -1.916053e-01   \n75%                    -5.672443e-02               -1.916053e-01   \nmax                     8.290056e+00                9.474051e+00   \n\n       cpes_nao_domestico_alta_tensao  cpes_outros_alta_tensao  \ncount                    4.641000e+03             4.641000e+03  \nmean                     7.655061e-18             6.124049e-18  \nstd                      1.000108e+00             1.000108e+00  \nmin                     -7.875904e-01            -9.491178e-02  \n25%                     -5.563856e-01            -9.491178e-02  \n50%                     -3.664674e-01            -9.491178e-02  \n75%                      1.950299e-01            -9.491178e-02  \nmax                      9.319361e+00             1.732936e+01  ",
      "text/html": "<div>\n<style scoped>\n    .dataframe tbody tr th:only-of-type {\n        vertical-align: middle;\n    }\n\n    .dataframe tbody tr th {\n        vertical-align: top;\n    }\n\n    .dataframe thead th {\n        text-align: right;\n    }\n</style>\n<table border=\"1\" class=\"dataframe\">\n  <thead>\n    <tr style=\"text-align: right;\">\n      <th></th>\n      <th>energia_ativa_alta_tensao_kwh</th>\n      <th>cpes_domestico_alta_tensao</th>\n      <th>cpes_nao_domestico_alta_tensao</th>\n      <th>cpes_outros_alta_tensao</th>\n    </tr>\n  </thead>\n  <tbody>\n    <tr>\n      <th>count</th>\n      <td>4.641000e+03</td>\n      <td>4.641000e+03</td>\n      <td>4.641000e+03</td>\n      <td>4.641000e+03</td>\n    </tr>\n    <tr>\n      <th>mean</th>\n      <td>3.674429e-17</td>\n      <td>6.124049e-18</td>\n      <td>7.655061e-18</td>\n      <td>6.124049e-18</td>\n    </tr>\n    <tr>\n      <th>std</th>\n      <td>1.000108e+00</td>\n      <td>1.000108e+00</td>\n      <td>1.000108e+00</td>\n      <td>1.000108e+00</td>\n    </tr>\n    <tr>\n      <th>min</th>\n      <td>-4.933748e-01</td>\n      <td>-1.916053e-01</td>\n      <td>-7.875904e-01</td>\n      <td>-9.491178e-02</td>\n    </tr>\n    <tr>\n      <th>25%</th>\n      <td>-4.619985e-01</td>\n      <td>-1.916053e-01</td>\n      <td>-5.563856e-01</td>\n      <td>-9.491178e-02</td>\n    </tr>\n    <tr>\n      <th>50%</th>\n      <td>-3.591430e-01</td>\n      <td>-1.916053e-01</td>\n      <td>-3.664674e-01</td>\n      <td>-9.491178e-02</td>\n    </tr>\n    <tr>\n      <th>75%</th>\n      <td>-5.672443e-02</td>\n      <td>-1.916053e-01</td>\n      <td>1.950299e-01</td>\n      <td>-9.491178e-02</td>\n    </tr>\n    <tr>\n      <th>max</th>\n      <td>8.290056e+00</td>\n      <td>9.474051e+00</td>\n      <td>9.319361e+00</td>\n      <td>1.732936e+01</td>\n    </tr>\n  </tbody>\n</table>\n</div>"
     },
     "execution_count": 74,
     "metadata": {},
     "output_type": "execute_result"
    }
   ],
   "execution_count": 74
  },
  {
   "metadata": {
    "ExecuteTime": {
     "end_time": "2024-04-20T12:27:52.353540Z",
     "start_time": "2024-04-20T12:27:52.241513Z"
    }
   },
   "cell_type": "code",
   "source": [
    "#Guardar no ficheiro\n",
    "file_path = data_path + 'treated/prepared/numeric/normalized/train/dataset-numeric-high-tensions-2223-no-dates-zscore.csv'\n",
    "\n",
    "alta_tensao_outros_scaled_z_score_df.to_csv(file_path, index=False)\n",
    "\n",
    "print(\"DataFrame guardado em \", file_path)"
   ],
   "id": "f99d51cab9d05411",
   "outputs": [
    {
     "name": "stdout",
     "output_type": "stream",
     "text": [
      "DataFrame guardado em  ../data/treated/prepared/numeric/normalized/train/dataset-numeric-high-tensions-2223-no-dates-zscore.csv\n"
     ]
    }
   ],
   "execution_count": 75
  },
  {
   "cell_type": "code",
   "source": [
    "# Criar subplots\n",
    "fig, axes = plt.subplots(nrows=len(baixa_tensao_df.columns), ncols=2, figsize=(12, 40))\n",
    "\n",
    "num_bins = 10\n",
    "# Histogramas antes da normalização\n",
    "for i, col in enumerate(baixa_tensao_df.columns):\n",
    "    merged_df[col].hist(ax=axes[i, 0], bins=num_bins)\n",
    "    axes[i, 0].set_title(col + ' (Antes da Normalização)')\n",
    "\n",
    "# Histogramas depois da normalização\n",
    "for i, col in enumerate(baixa_tensao_scaled_min_max_df.columns):\n",
    "    baixa_tensao_scaled_min_max_df[col].hist(ax=axes[i, 1], bins=num_bins)\n",
    "    axes[i, 1].set_title(col + ' (Depois da Normalização)')\n",
    "\n",
    "plt.tight_layout()\n",
    "plt.show()\n"
   ],
   "metadata": {
    "collapsed": false,
    "ExecuteTime": {
     "end_time": "2024-04-20T12:27:53.574095Z",
     "start_time": "2024-04-20T12:27:52.358353Z"
    }
   },
   "id": "2654f10954965dd5",
   "outputs": [
    {
     "data": {
      "text/plain": "<Figure size 1200x4000 with 14 Axes>",
      "image/png": "[encoded data removed]"
     },
     "metadata": {},
     "output_type": "display_data"
    }
   ],
   "execution_count": 76
  }
 ],
 "metadata": {
  "kernelspec": {
   "display_name": "Python 3",
   "language": "python",
   "name": "python3"
  },
  "language_info": {
   "codemirror_mode": {
    "name": "ipython",
    "version": 2
   },
   "file_extension": ".py",
   "mimetype": "text/x-python",
   "name": "python",
   "nbconvert_exporter": "python",
   "pygments_lexer": "ipython2",
   "version": "2.7.6"
  }
 },
 "nbformat": 4,
 "nbformat_minor": 5
}
