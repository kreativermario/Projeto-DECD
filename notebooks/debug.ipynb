{
 "cells": [
  {
   "cell_type": "code",
   "outputs": [],
   "source": [
    "# Preparação dos dados\n",
    "import os\n",
    "\n",
    "import numpy as np\n",
    "import pandas as pd\n",
    "\n",
    "%matplotlib inline\n",
    "import numpy as np\n",
    "import matplotlib.pyplot as plt\n",
    "import seaborn as sns\n",
    "import pandas as pd\n",
    "from sklearn.preprocessing import MinMaxScaler\n",
    "from sklearn.preprocessing import StandardScaler\n",
    "\n",
    "sns.set_theme()"
   ],
   "metadata": {
    "collapsed": false,
    "ExecuteTime": {
     "end_time": "2024-05-10T11:46:14.507580Z",
     "start_time": "2024-05-10T11:46:14.488378Z"
    }
   },
   "id": "a53d2c4d91fb8e1a",
   "execution_count": 14
  },
  {
   "cell_type": "code",
   "execution_count": 15,
   "id": "initial_id",
   "metadata": {
    "collapsed": true,
    "ExecuteTime": {
     "end_time": "2024-05-10T11:46:14.509140Z",
     "start_time": "2024-05-10T11:46:14.503069Z"
    }
   },
   "outputs": [],
   "source": [
    "## Importar dataset\n",
    "\n",
    "data_path = '../data/' if os.path.exists(\n",
    "    '../data/') else 'https://raw.githubusercontent.com/kreativermario/Projeto-DECD/master/data/'\n",
    "\n",
    "merged_path = data_path + 'treated/merged-dataset-concelho-densidade.csv'\n",
    "\n",
    "merged_df = pd.read_csv(merged_path)"
   ]
  },
  {
   "cell_type": "code",
   "outputs": [
    {
     "data": {
      "text/plain": "               ano          mes  energia_ativa_baixa_tensao_kwh  \\\ncount  5187.000000  5187.000000                    5.187000e+03   \nmean   2022.842105     6.894737                    6.518676e+06   \nstd       0.586137     3.712284                    1.177996e+07   \nmin    2022.000000     1.000000                    1.000680e+05   \n25%    2022.000000     3.000000                    1.266728e+06   \n50%    2023.000000     8.000000                    2.625888e+06   \n75%    2023.000000    10.000000                    7.113475e+06   \nmax    2024.000000    12.000000                    1.641353e+08   \n\n       energia_ativa_alta_tensao_kwh  cpes_domestico_baixa_tensao  \\\ncount                   5.187000e+03                  5187.000000   \nmean                    6.888616e+06                 18808.416426   \nstd                     1.426511e+07                 29413.928256   \nmin                     0.000000e+00                  1042.000000   \n25%                     4.113695e+05                  4580.500000   \n50%                     1.824003e+06                  8935.000000   \n75%                     5.962718e+06                 21437.000000   \nmax                     1.279470e+08                312095.000000   \n\n       cpes_domestico_alta_tensao  cpes_iluminacao_publica_baixa_tensao  \\\ncount                 5187.000000                           5187.000000   \nmean                     0.040486                            214.150183   \nstd                      0.211279                            194.193563   \nmin                      0.000000                              7.000000   \n25%                      0.000000                             91.000000   \n50%                      0.000000                            141.000000   \n75%                      0.000000                            280.000000   \nmax                      2.000000                           1185.000000   \n\n       cpes_iluminacao_publica_alta_tensao  cpes_nao_domestico_baixa_tensao  \\\ncount                               5187.0                      5187.000000   \nmean                                   0.0                      4242.803933   \nstd                                    0.0                      6873.077695   \nmin                                    0.0                       174.000000   \n25%                                    0.0                      1101.000000   \n50%                                    0.0                      1990.000000   \n75%                                    0.0                      4900.000000   \nmax                                    0.0                     79984.000000   \n\n       cpes_nao_domestico_alta_tensao  cpes_outros_baixa_tensao  \\\ncount                     5187.000000               5187.000000   \nmean                        95.497205                128.463852   \nstd                        121.267530                205.717131   \nmin                          0.000000                  1.000000   \n25%                         28.000000                 20.500000   \n50%                         51.000000                 53.000000   \n75%                        119.000000                155.000000   \nmax                       1229.000000               2186.000000   \n\n       cpes_outros_alta_tensao  cpes_mobilidade_eletrica_nao_baixa_tensao  \\\ncount              5187.000000                                5187.000000   \nmean                  0.365529                               27371.181415   \nstd                   4.073821                               46187.414907   \nmin                   0.000000                                1144.000000   \n25%                   0.000000                                6151.000000   \n50%                   0.000000                               11544.000000   \n75%                   0.000000                               30042.000000   \nmax                  75.000000                              530262.000000   \n\n       cpes_mobilidade_eletrica_sim_baixa_tensao  \\\ncount                                5187.000000   \nmean                                    9.612300   \nstd                                    25.397713   \nmin                                     0.000000   \n25%                                     2.000000   \n50%                                     2.000000   \n75%                                     6.000000   \nmax                                   388.000000   \n\n       densidade_populacional_pessoas_km2  \ncount                         5187.000000  \nmean                           314.549084  \nstd                            856.174544  \nmin                              4.300000  \n25%                             24.700000  \n50%                             66.400000  \n75%                            176.700000  \nmax                           7310.100000  ",
      "text/html": "<div>\n<style scoped>\n    .dataframe tbody tr th:only-of-type {\n        vertical-align: middle;\n    }\n\n    .dataframe tbody tr th {\n        vertical-align: top;\n    }\n\n    .dataframe thead th {\n        text-align: right;\n    }\n</style>\n<table border=\"1\" class=\"dataframe\">\n  <thead>\n    <tr style=\"text-align: right;\">\n      <th></th>\n      <th>ano</th>\n      <th>mes</th>\n      <th>energia_ativa_baixa_tensao_kwh</th>\n      <th>energia_ativa_alta_tensao_kwh</th>\n      <th>cpes_domestico_baixa_tensao</th>\n      <th>cpes_domestico_alta_tensao</th>\n      <th>cpes_iluminacao_publica_baixa_tensao</th>\n      <th>cpes_iluminacao_publica_alta_tensao</th>\n      <th>cpes_nao_domestico_baixa_tensao</th>\n      <th>cpes_nao_domestico_alta_tensao</th>\n      <th>cpes_outros_baixa_tensao</th>\n      <th>cpes_outros_alta_tensao</th>\n      <th>cpes_mobilidade_eletrica_nao_baixa_tensao</th>\n      <th>cpes_mobilidade_eletrica_sim_baixa_tensao</th>\n      <th>densidade_populacional_pessoas_km2</th>\n    </tr>\n  </thead>\n  <tbody>\n    <tr>\n      <th>count</th>\n      <td>5187.000000</td>\n      <td>5187.000000</td>\n      <td>5.187000e+03</td>\n      <td>5.187000e+03</td>\n      <td>5187.000000</td>\n      <td>5187.000000</td>\n      <td>5187.000000</td>\n      <td>5187.0</td>\n      <td>5187.000000</td>\n      <td>5187.000000</td>\n      <td>5187.000000</td>\n      <td>5187.000000</td>\n      <td>5187.000000</td>\n      <td>5187.000000</td>\n      <td>5187.000000</td>\n    </tr>\n    <tr>\n      <th>mean</th>\n      <td>2022.842105</td>\n      <td>6.894737</td>\n      <td>6.518676e+06</td>\n      <td>6.888616e+06</td>\n      <td>18808.416426</td>\n      <td>0.040486</td>\n      <td>214.150183</td>\n      <td>0.0</td>\n      <td>4242.803933</td>\n      <td>95.497205</td>\n      <td>128.463852</td>\n      <td>0.365529</td>\n      <td>27371.181415</td>\n      <td>9.612300</td>\n      <td>314.549084</td>\n    </tr>\n    <tr>\n      <th>std</th>\n      <td>0.586137</td>\n      <td>3.712284</td>\n      <td>1.177996e+07</td>\n      <td>1.426511e+07</td>\n      <td>29413.928256</td>\n      <td>0.211279</td>\n      <td>194.193563</td>\n      <td>0.0</td>\n      <td>6873.077695</td>\n      <td>121.267530</td>\n      <td>205.717131</td>\n      <td>4.073821</td>\n      <td>46187.414907</td>\n      <td>25.397713</td>\n      <td>856.174544</td>\n    </tr>\n    <tr>\n      <th>min</th>\n      <td>2022.000000</td>\n      <td>1.000000</td>\n      <td>1.000680e+05</td>\n      <td>0.000000e+00</td>\n      <td>1042.000000</td>\n      <td>0.000000</td>\n      <td>7.000000</td>\n      <td>0.0</td>\n      <td>174.000000</td>\n      <td>0.000000</td>\n      <td>1.000000</td>\n      <td>0.000000</td>\n      <td>1144.000000</td>\n      <td>0.000000</td>\n      <td>4.300000</td>\n    </tr>\n    <tr>\n      <th>25%</th>\n      <td>2022.000000</td>\n      <td>3.000000</td>\n      <td>1.266728e+06</td>\n      <td>4.113695e+05</td>\n      <td>4580.500000</td>\n      <td>0.000000</td>\n      <td>91.000000</td>\n      <td>0.0</td>\n      <td>1101.000000</td>\n      <td>28.000000</td>\n      <td>20.500000</td>\n      <td>0.000000</td>\n      <td>6151.000000</td>\n      <td>2.000000</td>\n      <td>24.700000</td>\n    </tr>\n    <tr>\n      <th>50%</th>\n      <td>2023.000000</td>\n      <td>8.000000</td>\n      <td>2.625888e+06</td>\n      <td>1.824003e+06</td>\n      <td>8935.000000</td>\n      <td>0.000000</td>\n      <td>141.000000</td>\n      <td>0.0</td>\n      <td>1990.000000</td>\n      <td>51.000000</td>\n      <td>53.000000</td>\n      <td>0.000000</td>\n      <td>11544.000000</td>\n      <td>2.000000</td>\n      <td>66.400000</td>\n    </tr>\n    <tr>\n      <th>75%</th>\n      <td>2023.000000</td>\n      <td>10.000000</td>\n      <td>7.113475e+06</td>\n      <td>5.962718e+06</td>\n      <td>21437.000000</td>\n      <td>0.000000</td>\n      <td>280.000000</td>\n      <td>0.0</td>\n      <td>4900.000000</td>\n      <td>119.000000</td>\n      <td>155.000000</td>\n      <td>0.000000</td>\n      <td>30042.000000</td>\n      <td>6.000000</td>\n      <td>176.700000</td>\n    </tr>\n    <tr>\n      <th>max</th>\n      <td>2024.000000</td>\n      <td>12.000000</td>\n      <td>1.641353e+08</td>\n      <td>1.279470e+08</td>\n      <td>312095.000000</td>\n      <td>2.000000</td>\n      <td>1185.000000</td>\n      <td>0.0</td>\n      <td>79984.000000</td>\n      <td>1229.000000</td>\n      <td>2186.000000</td>\n      <td>75.000000</td>\n      <td>530262.000000</td>\n      <td>388.000000</td>\n      <td>7310.100000</td>\n    </tr>\n  </tbody>\n</table>\n</div>"
     },
     "execution_count": 16,
     "metadata": {},
     "output_type": "execute_result"
    }
   ],
   "source": [
    "merged_df.describe()"
   ],
   "metadata": {
    "collapsed": false,
    "ExecuteTime": {
     "end_time": "2024-05-10T11:46:14.527808Z",
     "start_time": "2024-05-10T11:46:14.511551Z"
    }
   },
   "id": "bc662cdcb635d552",
   "execution_count": 16
  },
  {
   "cell_type": "code",
   "outputs": [
    {
     "name": "stdout",
     "output_type": "stream",
     "text": [
      "<class 'pandas.core.frame.DataFrame'>\n",
      "RangeIndex: 5187 entries, 0 to 5186\n",
      "Data columns (total 16 columns):\n",
      " #   Column                                     Non-Null Count  Dtype  \n",
      "---  ------                                     --------------  -----  \n",
      " 0   concelho                                   5187 non-null   object \n",
      " 1   ano                                        5187 non-null   int64  \n",
      " 2   mes                                        5187 non-null   int64  \n",
      " 3   energia_ativa_baixa_tensao_kwh             5187 non-null   int64  \n",
      " 4   energia_ativa_alta_tensao_kwh              5187 non-null   int64  \n",
      " 5   cpes_domestico_baixa_tensao                5187 non-null   int64  \n",
      " 6   cpes_domestico_alta_tensao                 5187 non-null   int64  \n",
      " 7   cpes_iluminacao_publica_baixa_tensao       5187 non-null   int64  \n",
      " 8   cpes_iluminacao_publica_alta_tensao        5187 non-null   int64  \n",
      " 9   cpes_nao_domestico_baixa_tensao            5187 non-null   int64  \n",
      " 10  cpes_nao_domestico_alta_tensao             5187 non-null   int64  \n",
      " 11  cpes_outros_baixa_tensao                   5187 non-null   int64  \n",
      " 12  cpes_outros_alta_tensao                    5187 non-null   int64  \n",
      " 13  cpes_mobilidade_eletrica_nao_baixa_tensao  5187 non-null   int64  \n",
      " 14  cpes_mobilidade_eletrica_sim_baixa_tensao  5187 non-null   int64  \n",
      " 15  densidade_populacional_pessoas_km2         5187 non-null   float64\n",
      "dtypes: float64(1), int64(14), object(1)\n",
      "memory usage: 648.5+ KB\n"
     ]
    }
   ],
   "source": [
    "merged_df.info()"
   ],
   "metadata": {
    "collapsed": false,
    "ExecuteTime": {
     "end_time": "2024-05-10T11:46:14.549903Z",
     "start_time": "2024-05-10T11:46:14.527742Z"
    }
   },
   "id": "d5f8480d2bc4e194",
   "execution_count": 17
  },
  {
   "cell_type": "code",
   "outputs": [],
   "source": [
    "# Selecionar as variáveis de baixa tensão\n",
    "baixa_tensao_columns = ['ano', 'mes', 'concelho', 'energia_ativa_baixa_tensao_kwh', \n",
    "                        'cpes_domestico_baixa_tensao', 'cpes_iluminacao_publica_baixa_tensao',\n",
    "                        'cpes_nao_domestico_baixa_tensao', 'cpes_outros_baixa_tensao',\n",
    "                        'cpes_mobilidade_eletrica_nao_baixa_tensao', 'cpes_mobilidade_eletrica_sim_baixa_tensao', 'densidade_populacional_pessoas_km2']\n",
    "\n",
    "# Selecionar as variáveis de alta tensão\n",
    "alta_tensao_columns = ['ano', 'mes', 'concelho', 'energia_ativa_alta_tensao_kwh',\n",
    "                       'cpes_domestico_alta_tensao',\n",
    "                       'cpes_nao_domestico_alta_tensao', 'cpes_outros_alta_tensao', 'densidade_populacional_pessoas_km2']\n",
    "\n",
    "# Criar os datasets separados\n",
    "baixa_tensao_df = merged_df[baixa_tensao_columns].copy()\n",
    "alta_tensao_df = merged_df[alta_tensao_columns].copy()"
   ],
   "metadata": {
    "collapsed": false,
    "ExecuteTime": {
     "end_time": "2024-05-10T11:46:14.562839Z",
     "start_time": "2024-05-10T11:46:14.531760Z"
    }
   },
   "id": "7e613d744f08c1d2",
   "execution_count": 18
  },
  {
   "cell_type": "code",
   "outputs": [],
   "source": [
    "# Filtrar o DataFrame para obter os valores de 2024\n",
    "baixa_tensao_teste_df = baixa_tensao_df[(baixa_tensao_df['ano'] == 2024)].copy()\n",
    "# Filtrar o DataFrame para obter os valores de 2024\n",
    "alta_tensao_teste_df = alta_tensao_df[(alta_tensao_df['ano'] == 2024)].copy()"
   ],
   "metadata": {
    "collapsed": false,
    "ExecuteTime": {
     "end_time": "2024-05-10T11:46:14.563257Z",
     "start_time": "2024-05-10T11:46:14.536253Z"
    }
   },
   "id": "250760071b84f444",
   "execution_count": 19
  },
  {
   "cell_type": "code",
   "outputs": [],
   "source": [
    "# Filtrar o DataFrame para obter os valores que não são de 2024\n",
    "baixa_tensao_treino_df = baixa_tensao_df[(baixa_tensao_df['ano'] != 2024)].copy()\n",
    "\n",
    "# Filtrar o DataFrame para obter os valores que não são de 2024\n",
    "alta_tensao_treino_df = alta_tensao_df[(alta_tensao_df['ano'] != 2024)].copy()"
   ],
   "metadata": {
    "collapsed": false,
    "ExecuteTime": {
     "end_time": "2024-05-10T11:46:14.563484Z",
     "start_time": "2024-05-10T11:46:14.539485Z"
    }
   },
   "id": "9940b22f9b796839",
   "execution_count": 20
  },
  {
   "cell_type": "markdown",
   "source": [
    "# Baixa Tensão"
   ],
   "metadata": {
    "collapsed": false
   },
   "id": "4f988a0252dd9a2c"
  },
  {
   "cell_type": "code",
   "outputs": [
    {
     "data": {
      "text/plain": "               ano          mes  energia_ativa_baixa_tensao_kwh  \\\ncount  5187.000000  5187.000000                    5.187000e+03   \nmean   2022.842105     6.894737                    6.518676e+06   \nstd       0.586137     3.712284                    1.177996e+07   \nmin    2022.000000     1.000000                    1.000680e+05   \n25%    2022.000000     3.000000                    1.266728e+06   \n50%    2023.000000     8.000000                    2.625888e+06   \n75%    2023.000000    10.000000                    7.113475e+06   \nmax    2024.000000    12.000000                    1.641353e+08   \n\n       cpes_domestico_baixa_tensao  cpes_iluminacao_publica_baixa_tensao  \\\ncount                  5187.000000                           5187.000000   \nmean                  18808.416426                            214.150183   \nstd                   29413.928256                            194.193563   \nmin                    1042.000000                              7.000000   \n25%                    4580.500000                             91.000000   \n50%                    8935.000000                            141.000000   \n75%                   21437.000000                            280.000000   \nmax                  312095.000000                           1185.000000   \n\n       cpes_nao_domestico_baixa_tensao  cpes_outros_baixa_tensao  \\\ncount                      5187.000000               5187.000000   \nmean                       4242.803933                128.463852   \nstd                        6873.077695                205.717131   \nmin                         174.000000                  1.000000   \n25%                        1101.000000                 20.500000   \n50%                        1990.000000                 53.000000   \n75%                        4900.000000                155.000000   \nmax                       79984.000000               2186.000000   \n\n       cpes_mobilidade_eletrica_nao_baixa_tensao  \\\ncount                                5187.000000   \nmean                                27371.181415   \nstd                                 46187.414907   \nmin                                  1144.000000   \n25%                                  6151.000000   \n50%                                 11544.000000   \n75%                                 30042.000000   \nmax                                530262.000000   \n\n       cpes_mobilidade_eletrica_sim_baixa_tensao  \\\ncount                                5187.000000   \nmean                                    9.612300   \nstd                                    25.397713   \nmin                                     0.000000   \n25%                                     2.000000   \n50%                                     2.000000   \n75%                                     6.000000   \nmax                                   388.000000   \n\n       densidade_populacional_pessoas_km2  \ncount                         5187.000000  \nmean                           314.549084  \nstd                            856.174544  \nmin                              4.300000  \n25%                             24.700000  \n50%                             66.400000  \n75%                            176.700000  \nmax                           7310.100000  ",
      "text/html": "<div>\n<style scoped>\n    .dataframe tbody tr th:only-of-type {\n        vertical-align: middle;\n    }\n\n    .dataframe tbody tr th {\n        vertical-align: top;\n    }\n\n    .dataframe thead th {\n        text-align: right;\n    }\n</style>\n<table border=\"1\" class=\"dataframe\">\n  <thead>\n    <tr style=\"text-align: right;\">\n      <th></th>\n      <th>ano</th>\n      <th>mes</th>\n      <th>energia_ativa_baixa_tensao_kwh</th>\n      <th>cpes_domestico_baixa_tensao</th>\n      <th>cpes_iluminacao_publica_baixa_tensao</th>\n      <th>cpes_nao_domestico_baixa_tensao</th>\n      <th>cpes_outros_baixa_tensao</th>\n      <th>cpes_mobilidade_eletrica_nao_baixa_tensao</th>\n      <th>cpes_mobilidade_eletrica_sim_baixa_tensao</th>\n      <th>densidade_populacional_pessoas_km2</th>\n    </tr>\n  </thead>\n  <tbody>\n    <tr>\n      <th>count</th>\n      <td>5187.000000</td>\n      <td>5187.000000</td>\n      <td>5.187000e+03</td>\n      <td>5187.000000</td>\n      <td>5187.000000</td>\n      <td>5187.000000</td>\n      <td>5187.000000</td>\n      <td>5187.000000</td>\n      <td>5187.000000</td>\n      <td>5187.000000</td>\n    </tr>\n    <tr>\n      <th>mean</th>\n      <td>2022.842105</td>\n      <td>6.894737</td>\n      <td>6.518676e+06</td>\n      <td>18808.416426</td>\n      <td>214.150183</td>\n      <td>4242.803933</td>\n      <td>128.463852</td>\n      <td>27371.181415</td>\n      <td>9.612300</td>\n      <td>314.549084</td>\n    </tr>\n    <tr>\n      <th>std</th>\n      <td>0.586137</td>\n      <td>3.712284</td>\n      <td>1.177996e+07</td>\n      <td>29413.928256</td>\n      <td>194.193563</td>\n      <td>6873.077695</td>\n      <td>205.717131</td>\n      <td>46187.414907</td>\n      <td>25.397713</td>\n      <td>856.174544</td>\n    </tr>\n    <tr>\n      <th>min</th>\n      <td>2022.000000</td>\n      <td>1.000000</td>\n      <td>1.000680e+05</td>\n      <td>1042.000000</td>\n      <td>7.000000</td>\n      <td>174.000000</td>\n      <td>1.000000</td>\n      <td>1144.000000</td>\n      <td>0.000000</td>\n      <td>4.300000</td>\n    </tr>\n    <tr>\n      <th>25%</th>\n      <td>2022.000000</td>\n      <td>3.000000</td>\n      <td>1.266728e+06</td>\n      <td>4580.500000</td>\n      <td>91.000000</td>\n      <td>1101.000000</td>\n      <td>20.500000</td>\n      <td>6151.000000</td>\n      <td>2.000000</td>\n      <td>24.700000</td>\n    </tr>\n    <tr>\n      <th>50%</th>\n      <td>2023.000000</td>\n      <td>8.000000</td>\n      <td>2.625888e+06</td>\n      <td>8935.000000</td>\n      <td>141.000000</td>\n      <td>1990.000000</td>\n      <td>53.000000</td>\n      <td>11544.000000</td>\n      <td>2.000000</td>\n      <td>66.400000</td>\n    </tr>\n    <tr>\n      <th>75%</th>\n      <td>2023.000000</td>\n      <td>10.000000</td>\n      <td>7.113475e+06</td>\n      <td>21437.000000</td>\n      <td>280.000000</td>\n      <td>4900.000000</td>\n      <td>155.000000</td>\n      <td>30042.000000</td>\n      <td>6.000000</td>\n      <td>176.700000</td>\n    </tr>\n    <tr>\n      <th>max</th>\n      <td>2024.000000</td>\n      <td>12.000000</td>\n      <td>1.641353e+08</td>\n      <td>312095.000000</td>\n      <td>1185.000000</td>\n      <td>79984.000000</td>\n      <td>2186.000000</td>\n      <td>530262.000000</td>\n      <td>388.000000</td>\n      <td>7310.100000</td>\n    </tr>\n  </tbody>\n</table>\n</div>"
     },
     "execution_count": 21,
     "metadata": {},
     "output_type": "execute_result"
    }
   ],
   "source": [
    "baixa_tensao_df.describe()"
   ],
   "metadata": {
    "collapsed": false,
    "ExecuteTime": {
     "end_time": "2024-05-10T11:46:14.564976Z",
     "start_time": "2024-05-10T11:46:14.542966Z"
    }
   },
   "id": "b0cdcf2f034c3e46",
   "execution_count": 21
  },
  {
   "cell_type": "code",
   "outputs": [
    {
     "data": {
      "text/plain": "          ano         mes  energia_ativa_baixa_tensao_kwh  \\\ncount   546.0  546.000000                    5.460000e+02   \nmean   2024.0    1.500000                    5.381401e+06   \nstd       0.0    0.500459                    1.106368e+07   \nmin    2024.0    1.000000                    1.000680e+05   \n25%    2024.0    1.000000                    8.825985e+05   \n50%    2024.0    1.500000                    1.962897e+06   \n75%    2024.0    2.000000                    5.025964e+06   \nmax    2024.0    2.000000                    1.641353e+08   \n\n       cpes_domestico_baixa_tensao  cpes_iluminacao_publica_baixa_tensao  \\\ncount                   546.000000                            546.000000   \nmean                  18918.045788                            215.278388   \nstd                   29635.004603                            195.630206   \nmin                    1042.000000                              7.000000   \n25%                    4572.750000                             91.000000   \n50%                    8928.500000                            142.000000   \n75%                   21518.250000                            281.000000   \nmax                  312095.000000                           1185.000000   \n\n       cpes_nao_domestico_baixa_tensao  cpes_outros_baixa_tensao  \\\ncount                       546.000000                546.000000   \nmean                       4274.082418                119.930403   \nstd                        6925.569730                197.548003   \nmin                         182.000000                  1.000000   \n25%                        1112.000000                 18.000000   \n50%                        2001.500000                 48.000000   \n75%                        4927.250000                141.750000   \nmax                       79984.000000               2055.000000   \n\n       cpes_mobilidade_eletrica_nao_baixa_tensao  \\\ncount                                 546.000000   \nmean                                33234.115385   \nstd                                 50925.096260   \nmin                                  1892.000000   \n25%                                  8386.000000   \n50%                                 15531.000000   \n75%                                 39917.000000   \nmax                                530262.000000   \n\n       cpes_mobilidade_eletrica_sim_baixa_tensao  \\\ncount                                 546.000000   \nmean                                   14.593407   \nstd                                    35.708189   \nmin                                     0.000000   \n25%                                     2.000000   \n50%                                     4.000000   \n75%                                    10.000000   \nmax                                   388.000000   \n\n       densidade_populacional_pessoas_km2  \ncount                          546.000000  \nmean                           314.549084  \nstd                            856.877055  \nmin                              4.300000  \n25%                             24.700000  \n50%                             66.400000  \n75%                            176.700000  \nmax                           7310.100000  ",
      "text/html": "<div>\n<style scoped>\n    .dataframe tbody tr th:only-of-type {\n        vertical-align: middle;\n    }\n\n    .dataframe tbody tr th {\n        vertical-align: top;\n    }\n\n    .dataframe thead th {\n        text-align: right;\n    }\n</style>\n<table border=\"1\" class=\"dataframe\">\n  <thead>\n    <tr style=\"text-align: right;\">\n      <th></th>\n      <th>ano</th>\n      <th>mes</th>\n      <th>energia_ativa_baixa_tensao_kwh</th>\n      <th>cpes_domestico_baixa_tensao</th>\n      <th>cpes_iluminacao_publica_baixa_tensao</th>\n      <th>cpes_nao_domestico_baixa_tensao</th>\n      <th>cpes_outros_baixa_tensao</th>\n      <th>cpes_mobilidade_eletrica_nao_baixa_tensao</th>\n      <th>cpes_mobilidade_eletrica_sim_baixa_tensao</th>\n      <th>densidade_populacional_pessoas_km2</th>\n    </tr>\n  </thead>\n  <tbody>\n    <tr>\n      <th>count</th>\n      <td>546.0</td>\n      <td>546.000000</td>\n      <td>5.460000e+02</td>\n      <td>546.000000</td>\n      <td>546.000000</td>\n      <td>546.000000</td>\n      <td>546.000000</td>\n      <td>546.000000</td>\n      <td>546.000000</td>\n      <td>546.000000</td>\n    </tr>\n    <tr>\n      <th>mean</th>\n      <td>2024.0</td>\n      <td>1.500000</td>\n      <td>5.381401e+06</td>\n      <td>18918.045788</td>\n      <td>215.278388</td>\n      <td>4274.082418</td>\n      <td>119.930403</td>\n      <td>33234.115385</td>\n      <td>14.593407</td>\n      <td>314.549084</td>\n    </tr>\n    <tr>\n      <th>std</th>\n      <td>0.0</td>\n      <td>0.500459</td>\n      <td>1.106368e+07</td>\n      <td>29635.004603</td>\n      <td>195.630206</td>\n      <td>6925.569730</td>\n      <td>197.548003</td>\n      <td>50925.096260</td>\n      <td>35.708189</td>\n      <td>856.877055</td>\n    </tr>\n    <tr>\n      <th>min</th>\n      <td>2024.0</td>\n      <td>1.000000</td>\n      <td>1.000680e+05</td>\n      <td>1042.000000</td>\n      <td>7.000000</td>\n      <td>182.000000</td>\n      <td>1.000000</td>\n      <td>1892.000000</td>\n      <td>0.000000</td>\n      <td>4.300000</td>\n    </tr>\n    <tr>\n      <th>25%</th>\n      <td>2024.0</td>\n      <td>1.000000</td>\n      <td>8.825985e+05</td>\n      <td>4572.750000</td>\n      <td>91.000000</td>\n      <td>1112.000000</td>\n      <td>18.000000</td>\n      <td>8386.000000</td>\n      <td>2.000000</td>\n      <td>24.700000</td>\n    </tr>\n    <tr>\n      <th>50%</th>\n      <td>2024.0</td>\n      <td>1.500000</td>\n      <td>1.962897e+06</td>\n      <td>8928.500000</td>\n      <td>142.000000</td>\n      <td>2001.500000</td>\n      <td>48.000000</td>\n      <td>15531.000000</td>\n      <td>4.000000</td>\n      <td>66.400000</td>\n    </tr>\n    <tr>\n      <th>75%</th>\n      <td>2024.0</td>\n      <td>2.000000</td>\n      <td>5.025964e+06</td>\n      <td>21518.250000</td>\n      <td>281.000000</td>\n      <td>4927.250000</td>\n      <td>141.750000</td>\n      <td>39917.000000</td>\n      <td>10.000000</td>\n      <td>176.700000</td>\n    </tr>\n    <tr>\n      <th>max</th>\n      <td>2024.0</td>\n      <td>2.000000</td>\n      <td>1.641353e+08</td>\n      <td>312095.000000</td>\n      <td>1185.000000</td>\n      <td>79984.000000</td>\n      <td>2055.000000</td>\n      <td>530262.000000</td>\n      <td>388.000000</td>\n      <td>7310.100000</td>\n    </tr>\n  </tbody>\n</table>\n</div>"
     },
     "execution_count": 22,
     "metadata": {},
     "output_type": "execute_result"
    }
   ],
   "source": [
    "baixa_tensao_teste_df.describe()"
   ],
   "metadata": {
    "collapsed": false,
    "ExecuteTime": {
     "end_time": "2024-05-10T11:46:14.619640Z",
     "start_time": "2024-05-10T11:46:14.553641Z"
    }
   },
   "id": "2a1d0cca2377c172",
   "execution_count": 22
  },
  {
   "cell_type": "code",
   "outputs": [
    {
     "data": {
      "text/plain": "               ano          mes  energia_ativa_baixa_tensao_kwh  \\\ncount  4641.000000  4641.000000                    4.641000e+03   \nmean   2022.705882     7.529412                    6.652473e+06   \nstd       0.455694     3.397902                    1.185535e+07   \nmin    2022.000000     1.000000                    2.059940e+05   \n25%    2022.000000     5.000000                    1.310791e+06   \n50%    2023.000000     8.000000                    2.685664e+06   \n75%    2023.000000    10.000000                    7.426747e+06   \nmax    2023.000000    12.000000                    1.633819e+08   \n\n       cpes_domestico_baixa_tensao  cpes_iluminacao_publica_baixa_tensao  \\\ncount                  4641.000000                           4641.000000   \nmean                  18795.518854                            214.017453   \nstd                   29390.997527                            194.044633   \nmin                    1042.000000                              7.000000   \n25%                    4581.000000                             91.000000   \n50%                    8936.000000                            141.000000   \n75%                   21405.000000                            280.000000   \nmax                  311824.000000                           1184.000000   \n\n       cpes_nao_domestico_baixa_tensao  cpes_outros_baixa_tensao  \\\ncount                      4641.000000               4641.000000   \nmean                       4239.124111                129.467787   \nstd                        6867.617704                206.654356   \nmin                         174.000000                  1.000000   \n25%                        1101.000000                 21.000000   \n50%                        1989.000000                 54.000000   \n75%                        4892.000000                157.000000   \nmax                       79956.000000               2186.000000   \n\n       cpes_mobilidade_eletrica_nao_baixa_tensao  \\\ncount                                4641.000000   \nmean                                26681.424477   \nstd                                 45554.097416   \nmin                                  1144.000000   \n25%                                  5940.000000   \n50%                                 11104.000000   \n75%                                 29350.000000   \nmax                                528158.000000   \n\n       cpes_mobilidade_eletrica_sim_baixa_tensao  \\\ncount                                4641.000000   \nmean                                    9.026287   \nstd                                    23.831036   \nmin                                     0.000000   \n25%                                     2.000000   \n50%                                     2.000000   \n75%                                     6.000000   \nmax                                   368.000000   \n\n       densidade_populacional_pessoas_km2  \ncount                         4641.000000  \nmean                           314.549084  \nstd                            856.184256  \nmin                              4.300000  \n25%                             24.700000  \n50%                             66.400000  \n75%                            176.700000  \nmax                           7310.100000  ",
      "text/html": "<div>\n<style scoped>\n    .dataframe tbody tr th:only-of-type {\n        vertical-align: middle;\n    }\n\n    .dataframe tbody tr th {\n        vertical-align: top;\n    }\n\n    .dataframe thead th {\n        text-align: right;\n    }\n</style>\n<table border=\"1\" class=\"dataframe\">\n  <thead>\n    <tr style=\"text-align: right;\">\n      <th></th>\n      <th>ano</th>\n      <th>mes</th>\n      <th>energia_ativa_baixa_tensao_kwh</th>\n      <th>cpes_domestico_baixa_tensao</th>\n      <th>cpes_iluminacao_publica_baixa_tensao</th>\n      <th>cpes_nao_domestico_baixa_tensao</th>\n      <th>cpes_outros_baixa_tensao</th>\n      <th>cpes_mobilidade_eletrica_nao_baixa_tensao</th>\n      <th>cpes_mobilidade_eletrica_sim_baixa_tensao</th>\n      <th>densidade_populacional_pessoas_km2</th>\n    </tr>\n  </thead>\n  <tbody>\n    <tr>\n      <th>count</th>\n      <td>4641.000000</td>\n      <td>4641.000000</td>\n      <td>4.641000e+03</td>\n      <td>4641.000000</td>\n      <td>4641.000000</td>\n      <td>4641.000000</td>\n      <td>4641.000000</td>\n      <td>4641.000000</td>\n      <td>4641.000000</td>\n      <td>4641.000000</td>\n    </tr>\n    <tr>\n      <th>mean</th>\n      <td>2022.705882</td>\n      <td>7.529412</td>\n      <td>6.652473e+06</td>\n      <td>18795.518854</td>\n      <td>214.017453</td>\n      <td>4239.124111</td>\n      <td>129.467787</td>\n      <td>26681.424477</td>\n      <td>9.026287</td>\n      <td>314.549084</td>\n    </tr>\n    <tr>\n      <th>std</th>\n      <td>0.455694</td>\n      <td>3.397902</td>\n      <td>1.185535e+07</td>\n      <td>29390.997527</td>\n      <td>194.044633</td>\n      <td>6867.617704</td>\n      <td>206.654356</td>\n      <td>45554.097416</td>\n      <td>23.831036</td>\n      <td>856.184256</td>\n    </tr>\n    <tr>\n      <th>min</th>\n      <td>2022.000000</td>\n      <td>1.000000</td>\n      <td>2.059940e+05</td>\n      <td>1042.000000</td>\n      <td>7.000000</td>\n      <td>174.000000</td>\n      <td>1.000000</td>\n      <td>1144.000000</td>\n      <td>0.000000</td>\n      <td>4.300000</td>\n    </tr>\n    <tr>\n      <th>25%</th>\n      <td>2022.000000</td>\n      <td>5.000000</td>\n      <td>1.310791e+06</td>\n      <td>4581.000000</td>\n      <td>91.000000</td>\n      <td>1101.000000</td>\n      <td>21.000000</td>\n      <td>5940.000000</td>\n      <td>2.000000</td>\n      <td>24.700000</td>\n    </tr>\n    <tr>\n      <th>50%</th>\n      <td>2023.000000</td>\n      <td>8.000000</td>\n      <td>2.685664e+06</td>\n      <td>8936.000000</td>\n      <td>141.000000</td>\n      <td>1989.000000</td>\n      <td>54.000000</td>\n      <td>11104.000000</td>\n      <td>2.000000</td>\n      <td>66.400000</td>\n    </tr>\n    <tr>\n      <th>75%</th>\n      <td>2023.000000</td>\n      <td>10.000000</td>\n      <td>7.426747e+06</td>\n      <td>21405.000000</td>\n      <td>280.000000</td>\n      <td>4892.000000</td>\n      <td>157.000000</td>\n      <td>29350.000000</td>\n      <td>6.000000</td>\n      <td>176.700000</td>\n    </tr>\n    <tr>\n      <th>max</th>\n      <td>2023.000000</td>\n      <td>12.000000</td>\n      <td>1.633819e+08</td>\n      <td>311824.000000</td>\n      <td>1184.000000</td>\n      <td>79956.000000</td>\n      <td>2186.000000</td>\n      <td>528158.000000</td>\n      <td>368.000000</td>\n      <td>7310.100000</td>\n    </tr>\n  </tbody>\n</table>\n</div>"
     },
     "execution_count": 23,
     "metadata": {},
     "output_type": "execute_result"
    }
   ],
   "source": [
    "baixa_tensao_treino_df.describe()"
   ],
   "metadata": {
    "collapsed": false,
    "ExecuteTime": {
     "end_time": "2024-05-10T11:46:14.629269Z",
     "start_time": "2024-05-10T11:46:14.564313Z"
    }
   },
   "id": "774384627d4fcbb4",
   "execution_count": 23
  },
  {
   "cell_type": "markdown",
   "source": [
    "# Alta tensão"
   ],
   "metadata": {
    "collapsed": false
   },
   "id": "970772a9a051e678"
  },
  {
   "cell_type": "code",
   "outputs": [
    {
     "data": {
      "text/plain": "               ano          mes  energia_ativa_alta_tensao_kwh  \\\ncount  5187.000000  5187.000000                   5.187000e+03   \nmean   2022.842105     6.894737                   6.888616e+06   \nstd       0.586137     3.712284                   1.426511e+07   \nmin    2022.000000     1.000000                   0.000000e+00   \n25%    2022.000000     3.000000                   4.113695e+05   \n50%    2023.000000     8.000000                   1.824003e+06   \n75%    2023.000000    10.000000                   5.962718e+06   \nmax    2024.000000    12.000000                   1.279470e+08   \n\n       cpes_domestico_alta_tensao  cpes_nao_domestico_alta_tensao  \\\ncount                 5187.000000                     5187.000000   \nmean                     0.040486                       95.497205   \nstd                      0.211279                      121.267530   \nmin                      0.000000                        0.000000   \n25%                      0.000000                       28.000000   \n50%                      0.000000                       51.000000   \n75%                      0.000000                      119.000000   \nmax                      2.000000                     1229.000000   \n\n       cpes_outros_alta_tensao  densidade_populacional_pessoas_km2  \ncount              5187.000000                         5187.000000  \nmean                  0.365529                          314.549084  \nstd                   4.073821                          856.174544  \nmin                   0.000000                            4.300000  \n25%                   0.000000                           24.700000  \n50%                   0.000000                           66.400000  \n75%                   0.000000                          176.700000  \nmax                  75.000000                         7310.100000  ",
      "text/html": "<div>\n<style scoped>\n    .dataframe tbody tr th:only-of-type {\n        vertical-align: middle;\n    }\n\n    .dataframe tbody tr th {\n        vertical-align: top;\n    }\n\n    .dataframe thead th {\n        text-align: right;\n    }\n</style>\n<table border=\"1\" class=\"dataframe\">\n  <thead>\n    <tr style=\"text-align: right;\">\n      <th></th>\n      <th>ano</th>\n      <th>mes</th>\n      <th>energia_ativa_alta_tensao_kwh</th>\n      <th>cpes_domestico_alta_tensao</th>\n      <th>cpes_nao_domestico_alta_tensao</th>\n      <th>cpes_outros_alta_tensao</th>\n      <th>densidade_populacional_pessoas_km2</th>\n    </tr>\n  </thead>\n  <tbody>\n    <tr>\n      <th>count</th>\n      <td>5187.000000</td>\n      <td>5187.000000</td>\n      <td>5.187000e+03</td>\n      <td>5187.000000</td>\n      <td>5187.000000</td>\n      <td>5187.000000</td>\n      <td>5187.000000</td>\n    </tr>\n    <tr>\n      <th>mean</th>\n      <td>2022.842105</td>\n      <td>6.894737</td>\n      <td>6.888616e+06</td>\n      <td>0.040486</td>\n      <td>95.497205</td>\n      <td>0.365529</td>\n      <td>314.549084</td>\n    </tr>\n    <tr>\n      <th>std</th>\n      <td>0.586137</td>\n      <td>3.712284</td>\n      <td>1.426511e+07</td>\n      <td>0.211279</td>\n      <td>121.267530</td>\n      <td>4.073821</td>\n      <td>856.174544</td>\n    </tr>\n    <tr>\n      <th>min</th>\n      <td>2022.000000</td>\n      <td>1.000000</td>\n      <td>0.000000e+00</td>\n      <td>0.000000</td>\n      <td>0.000000</td>\n      <td>0.000000</td>\n      <td>4.300000</td>\n    </tr>\n    <tr>\n      <th>25%</th>\n      <td>2022.000000</td>\n      <td>3.000000</td>\n      <td>4.113695e+05</td>\n      <td>0.000000</td>\n      <td>28.000000</td>\n      <td>0.000000</td>\n      <td>24.700000</td>\n    </tr>\n    <tr>\n      <th>50%</th>\n      <td>2023.000000</td>\n      <td>8.000000</td>\n      <td>1.824003e+06</td>\n      <td>0.000000</td>\n      <td>51.000000</td>\n      <td>0.000000</td>\n      <td>66.400000</td>\n    </tr>\n    <tr>\n      <th>75%</th>\n      <td>2023.000000</td>\n      <td>10.000000</td>\n      <td>5.962718e+06</td>\n      <td>0.000000</td>\n      <td>119.000000</td>\n      <td>0.000000</td>\n      <td>176.700000</td>\n    </tr>\n    <tr>\n      <th>max</th>\n      <td>2024.000000</td>\n      <td>12.000000</td>\n      <td>1.279470e+08</td>\n      <td>2.000000</td>\n      <td>1229.000000</td>\n      <td>75.000000</td>\n      <td>7310.100000</td>\n    </tr>\n  </tbody>\n</table>\n</div>"
     },
     "execution_count": 24,
     "metadata": {},
     "output_type": "execute_result"
    }
   ],
   "source": [
    "alta_tensao_df.describe()"
   ],
   "metadata": {
    "collapsed": false,
    "ExecuteTime": {
     "end_time": "2024-05-10T11:46:14.629721Z",
     "start_time": "2024-05-10T11:46:14.579322Z"
    }
   },
   "id": "9ce47140e2e9176b",
   "execution_count": 24
  },
  {
   "cell_type": "code",
   "outputs": [
    {
     "data": {
      "text/plain": "          ano         mes  energia_ativa_alta_tensao_kwh  \\\ncount   546.0  546.000000                   5.460000e+02   \nmean   2024.0    1.500000                   4.366219e+06   \nstd       0.0    0.500459                   1.108600e+07   \nmin    2024.0    1.000000                   0.000000e+00   \n25%    2024.0    1.000000                   2.135982e+05   \n50%    2024.0    1.500000                   8.463970e+05   \n75%    2024.0    2.000000                   3.183322e+06   \nmax    2024.0    2.000000                   1.118887e+08   \n\n       cpes_domestico_alta_tensao  cpes_nao_domestico_alta_tensao  \\\ncount                  546.000000                      546.000000   \nmean                     0.047619                       96.485348   \nstd                      0.245181                      122.640374   \nmin                      0.000000                        0.000000   \n25%                      0.000000                       29.000000   \n50%                      0.000000                       52.000000   \n75%                      0.000000                      119.000000   \nmax                      2.000000                     1229.000000   \n\n       cpes_outros_alta_tensao  densidade_populacional_pessoas_km2  \ncount                    546.0                          546.000000  \nmean                       0.0                          314.549084  \nstd                        0.0                          856.877055  \nmin                        0.0                            4.300000  \n25%                        0.0                           24.700000  \n50%                        0.0                           66.400000  \n75%                        0.0                          176.700000  \nmax                        0.0                         7310.100000  ",
      "text/html": "<div>\n<style scoped>\n    .dataframe tbody tr th:only-of-type {\n        vertical-align: middle;\n    }\n\n    .dataframe tbody tr th {\n        vertical-align: top;\n    }\n\n    .dataframe thead th {\n        text-align: right;\n    }\n</style>\n<table border=\"1\" class=\"dataframe\">\n  <thead>\n    <tr style=\"text-align: right;\">\n      <th></th>\n      <th>ano</th>\n      <th>mes</th>\n      <th>energia_ativa_alta_tensao_kwh</th>\n      <th>cpes_domestico_alta_tensao</th>\n      <th>cpes_nao_domestico_alta_tensao</th>\n      <th>cpes_outros_alta_tensao</th>\n      <th>densidade_populacional_pessoas_km2</th>\n    </tr>\n  </thead>\n  <tbody>\n    <tr>\n      <th>count</th>\n      <td>546.0</td>\n      <td>546.000000</td>\n      <td>5.460000e+02</td>\n      <td>546.000000</td>\n      <td>546.000000</td>\n      <td>546.0</td>\n      <td>546.000000</td>\n    </tr>\n    <tr>\n      <th>mean</th>\n      <td>2024.0</td>\n      <td>1.500000</td>\n      <td>4.366219e+06</td>\n      <td>0.047619</td>\n      <td>96.485348</td>\n      <td>0.0</td>\n      <td>314.549084</td>\n    </tr>\n    <tr>\n      <th>std</th>\n      <td>0.0</td>\n      <td>0.500459</td>\n      <td>1.108600e+07</td>\n      <td>0.245181</td>\n      <td>122.640374</td>\n      <td>0.0</td>\n      <td>856.877055</td>\n    </tr>\n    <tr>\n      <th>min</th>\n      <td>2024.0</td>\n      <td>1.000000</td>\n      <td>0.000000e+00</td>\n      <td>0.000000</td>\n      <td>0.000000</td>\n      <td>0.0</td>\n      <td>4.300000</td>\n    </tr>\n    <tr>\n      <th>25%</th>\n      <td>2024.0</td>\n      <td>1.000000</td>\n      <td>2.135982e+05</td>\n      <td>0.000000</td>\n      <td>29.000000</td>\n      <td>0.0</td>\n      <td>24.700000</td>\n    </tr>\n    <tr>\n      <th>50%</th>\n      <td>2024.0</td>\n      <td>1.500000</td>\n      <td>8.463970e+05</td>\n      <td>0.000000</td>\n      <td>52.000000</td>\n      <td>0.0</td>\n      <td>66.400000</td>\n    </tr>\n    <tr>\n      <th>75%</th>\n      <td>2024.0</td>\n      <td>2.000000</td>\n      <td>3.183322e+06</td>\n      <td>0.000000</td>\n      <td>119.000000</td>\n      <td>0.0</td>\n      <td>176.700000</td>\n    </tr>\n    <tr>\n      <th>max</th>\n      <td>2024.0</td>\n      <td>2.000000</td>\n      <td>1.118887e+08</td>\n      <td>2.000000</td>\n      <td>1229.000000</td>\n      <td>0.0</td>\n      <td>7310.100000</td>\n    </tr>\n  </tbody>\n</table>\n</div>"
     },
     "execution_count": 25,
     "metadata": {},
     "output_type": "execute_result"
    }
   ],
   "source": [
    "alta_tensao_teste_df.describe()"
   ],
   "metadata": {
    "collapsed": false,
    "ExecuteTime": {
     "end_time": "2024-05-10T11:46:14.630045Z",
     "start_time": "2024-05-10T11:46:14.590746Z"
    }
   },
   "id": "28d95417f1bbd70f",
   "execution_count": 25
  },
  {
   "cell_type": "code",
   "outputs": [
    {
     "data": {
      "text/plain": "               ano          mes  energia_ativa_alta_tensao_kwh  \\\ncount  4641.000000  4641.000000                   4.641000e+03   \nmean   2022.705882     7.529412                   7.185369e+06   \nstd       0.455694     3.397902                   1.456594e+07   \nmin    2022.000000     1.000000                   0.000000e+00   \n25%    2022.000000     5.000000                   4.570540e+05   \n50%    2023.000000     8.000000                   1.955336e+06   \n75%    2023.000000    10.000000                   6.360625e+06   \nmax    2023.000000    12.000000                   1.279470e+08   \n\n       cpes_domestico_alta_tensao  cpes_nao_domestico_alta_tensao  \\\ncount                 4641.000000                     4641.000000   \nmean                     0.039647                       95.380952   \nstd                      0.206940                      121.117813   \nmin                      0.000000                        0.000000   \n25%                      0.000000                       28.000000   \n50%                      0.000000                       51.000000   \n75%                      0.000000                      119.000000   \nmax                      2.000000                     1224.000000   \n\n       cpes_outros_alta_tensao  densidade_populacional_pessoas_km2  \ncount              4641.000000                         4641.000000  \nmean                  0.408533                          314.549084  \nstd                   4.304804                          856.184256  \nmin                   0.000000                            4.300000  \n25%                   0.000000                           24.700000  \n50%                   0.000000                           66.400000  \n75%                   0.000000                          176.700000  \nmax                  75.000000                         7310.100000  ",
      "text/html": "<div>\n<style scoped>\n    .dataframe tbody tr th:only-of-type {\n        vertical-align: middle;\n    }\n\n    .dataframe tbody tr th {\n        vertical-align: top;\n    }\n\n    .dataframe thead th {\n        text-align: right;\n    }\n</style>\n<table border=\"1\" class=\"dataframe\">\n  <thead>\n    <tr style=\"text-align: right;\">\n      <th></th>\n      <th>ano</th>\n      <th>mes</th>\n      <th>energia_ativa_alta_tensao_kwh</th>\n      <th>cpes_domestico_alta_tensao</th>\n      <th>cpes_nao_domestico_alta_tensao</th>\n      <th>cpes_outros_alta_tensao</th>\n      <th>densidade_populacional_pessoas_km2</th>\n    </tr>\n  </thead>\n  <tbody>\n    <tr>\n      <th>count</th>\n      <td>4641.000000</td>\n      <td>4641.000000</td>\n      <td>4.641000e+03</td>\n      <td>4641.000000</td>\n      <td>4641.000000</td>\n      <td>4641.000000</td>\n      <td>4641.000000</td>\n    </tr>\n    <tr>\n      <th>mean</th>\n      <td>2022.705882</td>\n      <td>7.529412</td>\n      <td>7.185369e+06</td>\n      <td>0.039647</td>\n      <td>95.380952</td>\n      <td>0.408533</td>\n      <td>314.549084</td>\n    </tr>\n    <tr>\n      <th>std</th>\n      <td>0.455694</td>\n      <td>3.397902</td>\n      <td>1.456594e+07</td>\n      <td>0.206940</td>\n      <td>121.117813</td>\n      <td>4.304804</td>\n      <td>856.184256</td>\n    </tr>\n    <tr>\n      <th>min</th>\n      <td>2022.000000</td>\n      <td>1.000000</td>\n      <td>0.000000e+00</td>\n      <td>0.000000</td>\n      <td>0.000000</td>\n      <td>0.000000</td>\n      <td>4.300000</td>\n    </tr>\n    <tr>\n      <th>25%</th>\n      <td>2022.000000</td>\n      <td>5.000000</td>\n      <td>4.570540e+05</td>\n      <td>0.000000</td>\n      <td>28.000000</td>\n      <td>0.000000</td>\n      <td>24.700000</td>\n    </tr>\n    <tr>\n      <th>50%</th>\n      <td>2023.000000</td>\n      <td>8.000000</td>\n      <td>1.955336e+06</td>\n      <td>0.000000</td>\n      <td>51.000000</td>\n      <td>0.000000</td>\n      <td>66.400000</td>\n    </tr>\n    <tr>\n      <th>75%</th>\n      <td>2023.000000</td>\n      <td>10.000000</td>\n      <td>6.360625e+06</td>\n      <td>0.000000</td>\n      <td>119.000000</td>\n      <td>0.000000</td>\n      <td>176.700000</td>\n    </tr>\n    <tr>\n      <th>max</th>\n      <td>2023.000000</td>\n      <td>12.000000</td>\n      <td>1.279470e+08</td>\n      <td>2.000000</td>\n      <td>1224.000000</td>\n      <td>75.000000</td>\n      <td>7310.100000</td>\n    </tr>\n  </tbody>\n</table>\n</div>"
     },
     "execution_count": 26,
     "metadata": {},
     "output_type": "execute_result"
    }
   ],
   "source": [
    "alta_tensao_treino_df.describe()"
   ],
   "metadata": {
    "collapsed": false,
    "ExecuteTime": {
     "end_time": "2024-05-10T11:46:14.660576Z",
     "start_time": "2024-05-10T11:46:14.598395Z"
    }
   },
   "id": "f15f116b15f113a3",
   "execution_count": 26
  }
 ],
 "metadata": {
  "kernelspec": {
   "display_name": "Python 3",
   "language": "python",
   "name": "python3"
  },
  "language_info": {
   "codemirror_mode": {
    "name": "ipython",
    "version": 2
   },
   "file_extension": ".py",
   "mimetype": "text/x-python",
   "name": "python",
   "nbconvert_exporter": "python",
   "pygments_lexer": "ipython2",
   "version": "2.7.6"
  }
 },
 "nbformat": 4,
 "nbformat_minor": 5
}
