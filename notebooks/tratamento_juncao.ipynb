{
 "cells": [
  {
   "cell_type": "markdown",
   "source": [
    "### Import das dependencias"
   ],
   "metadata": {
    "collapsed": false
   },
   "id": "efcc4b5c578b4079"
  },
  {
   "cell_type": "code",
   "source": [
    "import os\n",
    "\n",
    "import numpy as np\n",
    "import pandas as pd\n",
    "\n",
    "%matplotlib inline\n",
    "import matplotlib.pyplot as plt\n",
    "import seaborn as sns\n",
    "\n",
    "sns.set_theme()"
   ],
   "metadata": {
    "collapsed": false,
    "ExecuteTime": {
     "end_time": "2024-05-10T11:44:14.764728Z",
     "start_time": "2024-05-10T11:44:14.758512Z"
    }
   },
   "id": "f5ec9a1ea709c083",
   "outputs": [],
   "execution_count": 1
  },
  {
   "cell_type": "markdown",
   "source": [
    "### 1. Importar todos os datasets tratados"
   ],
   "metadata": {
    "collapsed": false
   },
   "id": "51bd4d1097fb7c24"
  },
  {
   "cell_type": "code",
   "source": [
    "data_path = '../data/' if os.path.exists('../data/') else 'https://raw.githubusercontent.com/kreativermario/Projeto-DECD/master/data/'\n",
    "\n",
    "consumos_faturados_path = data_path + 'treated/consumos_faturados_por_municipio_10_anos.csv'\n",
    "caracterizacao_cpe_path = data_path + 'treated/caracterizacao-pes-contrato-ativo.csv'\n",
    "diagrama_carga_path = data_path + 'treated/diagrama_de_carga_por_mes.csv'\n",
    "\n",
    "df_consumos_faturados = pd.read_csv(consumos_faturados_path)\n",
    "df_caracterizacao_cpe = pd.read_csv(caracterizacao_cpe_path)\n",
    "df_diagrama_carga = pd.read_csv(diagrama_carga_path)"
   ],
   "metadata": {
    "collapsed": false,
    "ExecuteTime": {
     "end_time": "2024-05-10T11:44:14.801275Z",
     "start_time": "2024-05-10T11:44:14.765353Z"
    }
   },
   "id": "20788c7075242c0f",
   "outputs": [],
   "execution_count": 2
  },
  {
   "cell_type": "markdown",
   "source": [
    "### 2. Juntar os datasets\n",
    "\n",
    "- 1. Primeiro juntar consumos faturados e caracterizacao cpe\n",
    "    - A coleção de caracterizacao CPE tem uma categorização de nível de tensão diferente da coleção consumos faturados\n",
    "        - Separando a \"Baixa Tensão\" em duas \"Baixa Tensão Normal\" e \"Baixa Tensão Especial\"\n",
    "        - Temos então de tratar da coleção caracterizacao_cpe primeiro para tornar esses dois tipos num único tipo \"Baixa Tensão\"\\\n",
    "        - Criar colunas para cada tipo de instalação e depois somar os CPEs de acordo\n",
    "    - Após esse tratamento, pode-se proceder à junção \n",
    "- 2. Segundo juntar com a coleção de diagramas de carga.\n",
    "    - Criar colunas para Mobilidade Elétrica Sim ou Mobilidade Elétrica Não e depois somar os CPEs de acordo"
   ],
   "metadata": {
    "collapsed": false
   },
   "id": "ec6d78242c2d1319"
  },
  {
   "cell_type": "markdown",
   "source": [
    "Ver os valores possíveis de Nível de Tensão da coleção caracterizacao de cpe"
   ],
   "metadata": {
    "collapsed": false
   },
   "id": "59daf3a5943d4f01"
  },
  {
   "cell_type": "code",
   "source": [
    "df_caracterizacao_cpe['nivel_de_tensao'].unique()"
   ],
   "metadata": {
    "collapsed": false,
    "ExecuteTime": {
     "end_time": "2024-05-10T11:44:14.809825Z",
     "start_time": "2024-05-10T11:44:14.803458Z"
    }
   },
   "id": "2bb7ba412bce7a2e",
   "outputs": [
    {
     "data": {
      "text/plain": "array(['Baixa Tensão Especial', 'Baixa Tensão Normal',\n       'Muito Alta, Alta e Média Tensões'], dtype=object)"
     },
     "execution_count": 3,
     "metadata": {},
     "output_type": "execute_result"
    }
   ],
   "execution_count": 3
  },
  {
   "cell_type": "markdown",
   "source": [
    "1. Tratamento coleção caracterizacao CPE"
   ],
   "metadata": {
    "collapsed": false
   },
   "id": "93ddee248f410726"
  },
  {
   "cell_type": "code",
   "source": [
    "# Substituir valores de nível de tensão\n",
    "df_caracterizacao_cpe['nivel_de_tensao'] = df_caracterizacao_cpe['nivel_de_tensao'].replace({'Baixa Tensão Normal': 'Baixa Tensão', 'Baixa Tensão Especial': 'Baixa Tensão'})\n",
    "\n",
    "df_caracterizacao_cpe['nivel_de_tensao'].unique()"
   ],
   "metadata": {
    "collapsed": false,
    "ExecuteTime": {
     "end_time": "2024-05-10T11:44:14.819460Z",
     "start_time": "2024-05-10T11:44:14.809231Z"
    }
   },
   "id": "c6853b8ba5bf2c08",
   "outputs": [
    {
     "data": {
      "text/plain": "array(['Baixa Tensão', 'Muito Alta, Alta e Média Tensões'], dtype=object)"
     },
     "execution_count": 4,
     "metadata": {},
     "output_type": "execute_result"
    }
   ],
   "execution_count": 4
  },
  {
   "cell_type": "markdown",
   "source": [
    "2. Agrupar os valores de contagens de CPEs com a nova categoria \"Baixa Tensão\""
   ],
   "metadata": {
    "collapsed": false
   },
   "id": "bbf1506bf950f1e6"
  },
  {
   "cell_type": "code",
   "source": [
    "# Criar colunas para cada 'Tipo de Instalação' e somar 'CPEs (#)'\n",
    "df_caracterizacao_cpe_grouped = df_caracterizacao_cpe.pivot_table(index=['concelho', 'nivel_de_tensao', 'ano', 'mes'], \n",
    "                                               columns='tipo_de_instalacao', \n",
    "                                               values='cpes_quantidade', \n",
    "                                               aggfunc='sum').reset_index()\n",
    "\n",
    "# Preencher valores vazios com 0\n",
    "df_caracterizacao_cpe_grouped.fillna(0, inplace=True)\n",
    "\n",
    "# Renomear as colunas\n",
    "df_caracterizacao_cpe_grouped.columns.name = None\n",
    "df_caracterizacao_cpe_grouped.columns = [col if col in ['concelho', 'nivel_de_tensao', 'ano', 'mes'] else f\"CPEs_{col}\" for col in df_caracterizacao_cpe_grouped.columns]\n",
    "df_caracterizacao_cpe_grouped.rename(columns={'CPEs_Doméstico': 'cpes_domestico', 'CPEs_Iluminação Pública': 'cpes_iluminacao_publica', 'CPEs_Não Doméstico': 'cpes_nao_domestico', 'CPEs_Outros':'cpes_outros'}, inplace=True)\n",
    "\n",
    "df_caracterizacao_cpe_grouped.head()"
   ],
   "metadata": {
    "collapsed": false,
    "ExecuteTime": {
     "end_time": "2024-05-10T11:44:14.844875Z",
     "start_time": "2024-05-10T11:44:14.819952Z"
    }
   },
   "id": "b32dbea69b717904",
   "outputs": [
    {
     "data": {
      "text/plain": "   concelho nivel_de_tensao   ano  mes  cpes_domestico  \\\n0  Abrantes    Baixa Tensão  2022    3         20283.0   \n1  Abrantes    Baixa Tensão  2022    4         20267.0   \n2  Abrantes    Baixa Tensão  2022    5         20254.0   \n3  Abrantes    Baixa Tensão  2022    6         20259.0   \n4  Abrantes    Baixa Tensão  2022    7         20250.0   \n\n   cpes_iluminacao_publica  cpes_nao_domestico  cpes_outros  \n0                    293.0              4334.0         83.0  \n1                    293.0              4337.0         83.0  \n2                    293.0              4324.0         82.0  \n3                    293.0              4327.0         82.0  \n4                    293.0              4320.0         83.0  ",
      "text/html": "<div>\n<style scoped>\n    .dataframe tbody tr th:only-of-type {\n        vertical-align: middle;\n    }\n\n    .dataframe tbody tr th {\n        vertical-align: top;\n    }\n\n    .dataframe thead th {\n        text-align: right;\n    }\n</style>\n<table border=\"1\" class=\"dataframe\">\n  <thead>\n    <tr style=\"text-align: right;\">\n      <th></th>\n      <th>concelho</th>\n      <th>nivel_de_tensao</th>\n      <th>ano</th>\n      <th>mes</th>\n      <th>cpes_domestico</th>\n      <th>cpes_iluminacao_publica</th>\n      <th>cpes_nao_domestico</th>\n      <th>cpes_outros</th>\n    </tr>\n  </thead>\n  <tbody>\n    <tr>\n      <th>0</th>\n      <td>Abrantes</td>\n      <td>Baixa Tensão</td>\n      <td>2022</td>\n      <td>3</td>\n      <td>20283.0</td>\n      <td>293.0</td>\n      <td>4334.0</td>\n      <td>83.0</td>\n    </tr>\n    <tr>\n      <th>1</th>\n      <td>Abrantes</td>\n      <td>Baixa Tensão</td>\n      <td>2022</td>\n      <td>4</td>\n      <td>20267.0</td>\n      <td>293.0</td>\n      <td>4337.0</td>\n      <td>83.0</td>\n    </tr>\n    <tr>\n      <th>2</th>\n      <td>Abrantes</td>\n      <td>Baixa Tensão</td>\n      <td>2022</td>\n      <td>5</td>\n      <td>20254.0</td>\n      <td>293.0</td>\n      <td>4324.0</td>\n      <td>82.0</td>\n    </tr>\n    <tr>\n      <th>3</th>\n      <td>Abrantes</td>\n      <td>Baixa Tensão</td>\n      <td>2022</td>\n      <td>6</td>\n      <td>20259.0</td>\n      <td>293.0</td>\n      <td>4327.0</td>\n      <td>82.0</td>\n    </tr>\n    <tr>\n      <th>4</th>\n      <td>Abrantes</td>\n      <td>Baixa Tensão</td>\n      <td>2022</td>\n      <td>7</td>\n      <td>20250.0</td>\n      <td>293.0</td>\n      <td>4320.0</td>\n      <td>83.0</td>\n    </tr>\n  </tbody>\n</table>\n</div>"
     },
     "execution_count": 5,
     "metadata": {},
     "output_type": "execute_result"
    }
   ],
   "execution_count": 5
  },
  {
   "cell_type": "markdown",
   "source": [
    "3. Guardar ficheiro para verificar se está tudo certo"
   ],
   "metadata": {
    "collapsed": false
   },
   "id": "aee514ff0c84b"
  },
  {
   "cell_type": "code",
   "source": [
    "file_path = data_path + 'treated/caracterizacao-pes-contrato-ativo-agrupado.csv'\n",
    "\n",
    "df_caracterizacao_cpe_grouped.to_csv(file_path, index=False)\n",
    "\n",
    "print(\"DataFrame guardado em \", file_path)"
   ],
   "metadata": {
    "collapsed": false,
    "ExecuteTime": {
     "end_time": "2024-05-10T11:44:14.878424Z",
     "start_time": "2024-05-10T11:44:14.840565Z"
    }
   },
   "id": "fc3e05800de9969a",
   "outputs": [
    {
     "name": "stdout",
     "output_type": "stream",
     "text": [
      "DataFrame guardado em  ../data/treated/caracterizacao-pes-contrato-ativo-agrupado.csv\n"
     ]
    }
   ],
   "execution_count": 6
  },
  {
   "cell_type": "markdown",
   "source": [
    "4. Junção das coleçoes consumos faturados e caracterizacao cpe"
   ],
   "metadata": {
    "collapsed": false
   },
   "id": "1f8abd29535a22e8"
  },
  {
   "cell_type": "code",
   "source": [
    "merged_df = pd.merge(df_consumos_faturados, df_caracterizacao_cpe_grouped, on=['concelho', 'ano', 'mes', 'nivel_de_tensao'], how='inner')\n",
    "\n",
    "# Verificar nulls\n",
    "null_counts = merged_df.isnull().sum()\n",
    "\n",
    "# Ver nulls por coluna\n",
    "print(\"Número de nulls por coluna:\")\n",
    "print(null_counts)\n",
    "\n",
    "merged_df.info()\n",
    "merged_df.head(50)"
   ],
   "metadata": {
    "collapsed": false,
    "ExecuteTime": {
     "end_time": "2024-05-10T11:44:14.918512Z",
     "start_time": "2024-05-10T11:44:14.872013Z"
    }
   },
   "id": "4a02f261327f6d36",
   "outputs": [
    {
     "name": "stdout",
     "output_type": "stream",
     "text": [
      "Número de nulls por coluna:\n",
      "concelho                   0\n",
      "nivel_de_tensao            0\n",
      "ano                        0\n",
      "mes                        0\n",
      "energia_ativa_kwh          0\n",
      "cpes_domestico             0\n",
      "cpes_iluminacao_publica    0\n",
      "cpes_nao_domestico         0\n",
      "cpes_outros                0\n",
      "dtype: int64\n",
      "<class 'pandas.core.frame.DataFrame'>\n",
      "RangeIndex: 13294 entries, 0 to 13293\n",
      "Data columns (total 9 columns):\n",
      " #   Column                   Non-Null Count  Dtype  \n",
      "---  ------                   --------------  -----  \n",
      " 0   concelho                 13294 non-null  object \n",
      " 1   nivel_de_tensao          13294 non-null  object \n",
      " 2   ano                      13294 non-null  int64  \n",
      " 3   mes                      13294 non-null  int64  \n",
      " 4   energia_ativa_kwh        13294 non-null  float64\n",
      " 5   cpes_domestico           13294 non-null  float64\n",
      " 6   cpes_iluminacao_publica  13294 non-null  float64\n",
      " 7   cpes_nao_domestico       13294 non-null  float64\n",
      " 8   cpes_outros              13294 non-null  float64\n",
      "dtypes: float64(5), int64(2), object(2)\n",
      "memory usage: 934.9+ KB\n"
     ]
    },
    {
     "data": {
      "text/plain": "           concelho                   nivel_de_tensao   ano  mes  \\\n0          Abrantes                      Baixa Tensão  2022    3   \n1          Abrantes                      Baixa Tensão  2022    4   \n2          Abrantes                      Baixa Tensão  2022    5   \n3          Abrantes                      Baixa Tensão  2022    6   \n4          Abrantes                      Baixa Tensão  2022    7   \n5          Abrantes                      Baixa Tensão  2022    8   \n6          Abrantes                      Baixa Tensão  2022    9   \n7          Abrantes                      Baixa Tensão  2022   10   \n8          Abrantes                      Baixa Tensão  2022   11   \n9          Abrantes                      Baixa Tensão  2022   12   \n10         Abrantes                      Baixa Tensão  2023    1   \n11         Abrantes                      Baixa Tensão  2023    2   \n12         Abrantes                      Baixa Tensão  2023    3   \n13         Abrantes                      Baixa Tensão  2023    4   \n14         Abrantes                      Baixa Tensão  2023    5   \n15         Abrantes                      Baixa Tensão  2023    6   \n16         Abrantes                      Baixa Tensão  2023    7   \n17         Abrantes                      Baixa Tensão  2023    8   \n18         Abrantes                      Baixa Tensão  2023    9   \n19         Abrantes                      Baixa Tensão  2023   10   \n20         Abrantes                      Baixa Tensão  2023   11   \n21         Abrantes                      Baixa Tensão  2023   12   \n22         Abrantes                      Baixa Tensão  2024    1   \n23         Abrantes                      Baixa Tensão  2024    2   \n24         Abrantes  Muito Alta, Alta e Média Tensões  2022    3   \n25         Abrantes  Muito Alta, Alta e Média Tensões  2022    4   \n26         Abrantes  Muito Alta, Alta e Média Tensões  2022    5   \n27         Abrantes  Muito Alta, Alta e Média Tensões  2022    6   \n28         Abrantes  Muito Alta, Alta e Média Tensões  2022    7   \n29         Abrantes  Muito Alta, Alta e Média Tensões  2022    8   \n30         Abrantes  Muito Alta, Alta e Média Tensões  2022    9   \n31         Abrantes  Muito Alta, Alta e Média Tensões  2022   10   \n32         Abrantes  Muito Alta, Alta e Média Tensões  2022   11   \n33         Abrantes  Muito Alta, Alta e Média Tensões  2022   12   \n34         Abrantes  Muito Alta, Alta e Média Tensões  2023    1   \n35         Abrantes  Muito Alta, Alta e Média Tensões  2023    2   \n36         Abrantes  Muito Alta, Alta e Média Tensões  2023    3   \n37         Abrantes  Muito Alta, Alta e Média Tensões  2023    4   \n38         Abrantes  Muito Alta, Alta e Média Tensões  2023    5   \n39         Abrantes  Muito Alta, Alta e Média Tensões  2023    6   \n40         Abrantes  Muito Alta, Alta e Média Tensões  2023    7   \n41         Abrantes  Muito Alta, Alta e Média Tensões  2023    8   \n42         Abrantes  Muito Alta, Alta e Média Tensões  2023    9   \n43         Abrantes  Muito Alta, Alta e Média Tensões  2023   10   \n44         Abrantes  Muito Alta, Alta e Média Tensões  2023   11   \n45         Abrantes  Muito Alta, Alta e Média Tensões  2023   12   \n46         Abrantes  Muito Alta, Alta e Média Tensões  2024    1   \n47         Abrantes  Muito Alta, Alta e Média Tensões  2024    2   \n48  Aguiar da Beira                      Baixa Tensão  2022    3   \n49  Aguiar da Beira                      Baixa Tensão  2022    4   \n\n    energia_ativa_kwh  cpes_domestico  cpes_iluminacao_publica  \\\n0         6377125.614         20283.0                    293.0   \n1         5562424.100         20267.0                    293.0   \n2         5483020.699         20254.0                    293.0   \n3         5423066.794         20259.0                    293.0   \n4         6230478.442         20250.0                    293.0   \n5         5908716.726         20260.0                    293.0   \n6         5319528.107         20270.0                    293.0   \n7         5431060.198         20280.0                    293.0   \n8         5845742.136         20291.0                    293.0   \n9         6780793.391         20297.0                    294.0   \n10        7371280.764         20298.0                    294.0   \n11        6508911.283         20288.0                    294.0   \n12        6078748.399         20280.0                    294.0   \n13        5176041.281         20280.0                    294.0   \n14        5243476.885         20280.0                    294.0   \n15        5393047.388         20329.0                    295.0   \n16        5895124.752         20344.0                    295.0   \n17        5991535.788         20344.0                    296.0   \n18        5378651.415         20344.0                    296.0   \n19        5650166.640         20372.0                    296.0   \n20        6196875.916         20382.0                    296.0   \n21        7719291.295         20379.0                    296.0   \n22        7518534.120         20372.0                    296.0   \n23        2471058.880         20353.0                    296.0   \n24        7157802.917             0.0                      0.0   \n25        6312850.260             0.0                      0.0   \n26        6320147.247             0.0                      0.0   \n27        5788702.612             0.0                      0.0   \n28        6487342.101             0.0                      0.0   \n29        5891542.227             0.0                      0.0   \n30        6159115.706             0.0                      0.0   \n31        6360625.206             0.0                      0.0   \n32        5961164.626             0.0                      0.0   \n33        5272178.134             0.0                      0.0   \n34        6615131.802             0.0                      0.0   \n35        5674410.040             0.0                      0.0   \n36        6187526.764             0.0                      0.0   \n37        5652034.043             0.0                      0.0   \n38        5924078.599             0.0                      0.0   \n39        5252440.752             0.0                      0.0   \n40        5906508.826             0.0                      0.0   \n41        5357597.886             0.0                      0.0   \n42        5680322.620             0.0                      0.0   \n43        6098404.032             0.0                      0.0   \n44        6292665.594             0.0                      0.0   \n45        5739963.042             0.0                      0.0   \n46        6369608.506             0.0                      0.0   \n47        2127509.494             0.0                      0.0   \n48        1071837.546          3799.0                     91.0   \n49        1006307.934          3791.0                     91.0   \n\n    cpes_nao_domestico  cpes_outros  \n0               4334.0         83.0  \n1               4337.0         83.0  \n2               4324.0         82.0  \n3               4327.0         82.0  \n4               4320.0         83.0  \n5               4318.0         83.0  \n6               4311.0         81.0  \n7               4302.0         81.0  \n8               4308.0         80.0  \n9               4312.0         82.0  \n10              4309.0         82.0  \n11              4310.0        113.0  \n12              4316.0         75.0  \n13              4316.0         75.0  \n14              4316.0         75.0  \n15              4346.0         77.0  \n16              4341.0         73.0  \n17              4338.0         72.0  \n18              4344.0         70.0  \n19              4351.0         69.0  \n20              4348.0         69.0  \n21              4354.0         68.0  \n22              4350.0         68.0  \n23              4349.0         98.0  \n24               133.0          0.0  \n25               133.0          0.0  \n26               133.0          0.0  \n27               134.0          0.0  \n28               134.0          0.0  \n29               134.0          0.0  \n30               134.0          0.0  \n31               134.0          0.0  \n32               134.0          0.0  \n33               134.0          0.0  \n34               132.0          0.0  \n35               132.0          0.0  \n36               132.0          0.0  \n37               132.0          0.0  \n38               132.0          0.0  \n39               133.0          0.0  \n40               133.0          0.0  \n41               132.0          0.0  \n42               132.0          0.0  \n43               131.0          0.0  \n44               131.0          0.0  \n45               130.0          0.0  \n46               129.0          0.0  \n47               128.0          0.0  \n48               993.0         20.0  \n49               993.0         21.0  ",
      "text/html": "<div>\n<style scoped>\n    .dataframe tbody tr th:only-of-type {\n        vertical-align: middle;\n    }\n\n    .dataframe tbody tr th {\n        vertical-align: top;\n    }\n\n    .dataframe thead th {\n        text-align: right;\n    }\n</style>\n<table border=\"1\" class=\"dataframe\">\n  <thead>\n    <tr style=\"text-align: right;\">\n      <th></th>\n      <th>concelho</th>\n      <th>nivel_de_tensao</th>\n      <th>ano</th>\n      <th>mes</th>\n      <th>energia_ativa_kwh</th>\n      <th>cpes_domestico</th>\n      <th>cpes_iluminacao_publica</th>\n      <th>cpes_nao_domestico</th>\n      <th>cpes_outros</th>\n    </tr>\n  </thead>\n  <tbody>\n    <tr>\n      <th>0</th>\n      <td>Abrantes</td>\n      <td>Baixa Tensão</td>\n      <td>2022</td>\n      <td>3</td>\n      <td>6377125.614</td>\n      <td>20283.0</td>\n      <td>293.0</td>\n      <td>4334.0</td>\n      <td>83.0</td>\n    </tr>\n    <tr>\n      <th>1</th>\n      <td>Abrantes</td>\n      <td>Baixa Tensão</td>\n      <td>2022</td>\n      <td>4</td>\n      <td>5562424.100</td>\n      <td>20267.0</td>\n      <td>293.0</td>\n      <td>4337.0</td>\n      <td>83.0</td>\n    </tr>\n    <tr>\n      <th>2</th>\n      <td>Abrantes</td>\n      <td>Baixa Tensão</td>\n      <td>2022</td>\n      <td>5</td>\n      <td>5483020.699</td>\n      <td>20254.0</td>\n      <td>293.0</td>\n      <td>4324.0</td>\n      <td>82.0</td>\n    </tr>\n    <tr>\n      <th>3</th>\n      <td>Abrantes</td>\n      <td>Baixa Tensão</td>\n      <td>2022</td>\n      <td>6</td>\n      <td>5423066.794</td>\n      <td>20259.0</td>\n      <td>293.0</td>\n      <td>4327.0</td>\n      <td>82.0</td>\n    </tr>\n    <tr>\n      <th>4</th>\n      <td>Abrantes</td>\n      <td>Baixa Tensão</td>\n      <td>2022</td>\n      <td>7</td>\n      <td>6230478.442</td>\n      <td>20250.0</td>\n      <td>293.0</td>\n      <td>4320.0</td>\n      <td>83.0</td>\n    </tr>\n    <tr>\n      <th>5</th>\n      <td>Abrantes</td>\n      <td>Baixa Tensão</td>\n      <td>2022</td>\n      <td>8</td>\n      <td>5908716.726</td>\n      <td>20260.0</td>\n      <td>293.0</td>\n      <td>4318.0</td>\n      <td>83.0</td>\n    </tr>\n    <tr>\n      <th>6</th>\n      <td>Abrantes</td>\n      <td>Baixa Tensão</td>\n      <td>2022</td>\n      <td>9</td>\n      <td>5319528.107</td>\n      <td>20270.0</td>\n      <td>293.0</td>\n      <td>4311.0</td>\n      <td>81.0</td>\n    </tr>\n    <tr>\n      <th>7</th>\n      <td>Abrantes</td>\n      <td>Baixa Tensão</td>\n      <td>2022</td>\n      <td>10</td>\n      <td>5431060.198</td>\n      <td>20280.0</td>\n      <td>293.0</td>\n      <td>4302.0</td>\n      <td>81.0</td>\n    </tr>\n    <tr>\n      <th>8</th>\n      <td>Abrantes</td>\n      <td>Baixa Tensão</td>\n      <td>2022</td>\n      <td>11</td>\n      <td>5845742.136</td>\n      <td>20291.0</td>\n      <td>293.0</td>\n      <td>4308.0</td>\n      <td>80.0</td>\n    </tr>\n    <tr>\n      <th>9</th>\n      <td>Abrantes</td>\n      <td>Baixa Tensão</td>\n      <td>2022</td>\n      <td>12</td>\n      <td>6780793.391</td>\n      <td>20297.0</td>\n      <td>294.0</td>\n      <td>4312.0</td>\n      <td>82.0</td>\n    </tr>\n    <tr>\n      <th>10</th>\n      <td>Abrantes</td>\n      <td>Baixa Tensão</td>\n      <td>2023</td>\n      <td>1</td>\n      <td>7371280.764</td>\n      <td>20298.0</td>\n      <td>294.0</td>\n      <td>4309.0</td>\n      <td>82.0</td>\n    </tr>\n    <tr>\n      <th>11</th>\n      <td>Abrantes</td>\n      <td>Baixa Tensão</td>\n      <td>2023</td>\n      <td>2</td>\n      <td>6508911.283</td>\n      <td>20288.0</td>\n      <td>294.0</td>\n      <td>4310.0</td>\n      <td>113.0</td>\n    </tr>\n    <tr>\n      <th>12</th>\n      <td>Abrantes</td>\n      <td>Baixa Tensão</td>\n      <td>2023</td>\n      <td>3</td>\n      <td>6078748.399</td>\n      <td>20280.0</td>\n      <td>294.0</td>\n      <td>4316.0</td>\n      <td>75.0</td>\n    </tr>\n    <tr>\n      <th>13</th>\n      <td>Abrantes</td>\n      <td>Baixa Tensão</td>\n      <td>2023</td>\n      <td>4</td>\n      <td>5176041.281</td>\n      <td>20280.0</td>\n      <td>294.0</td>\n      <td>4316.0</td>\n      <td>75.0</td>\n    </tr>\n    <tr>\n      <th>14</th>\n      <td>Abrantes</td>\n      <td>Baixa Tensão</td>\n      <td>2023</td>\n      <td>5</td>\n      <td>5243476.885</td>\n      <td>20280.0</td>\n      <td>294.0</td>\n      <td>4316.0</td>\n      <td>75.0</td>\n    </tr>\n    <tr>\n      <th>15</th>\n      <td>Abrantes</td>\n      <td>Baixa Tensão</td>\n      <td>2023</td>\n      <td>6</td>\n      <td>5393047.388</td>\n      <td>20329.0</td>\n      <td>295.0</td>\n      <td>4346.0</td>\n      <td>77.0</td>\n    </tr>\n    <tr>\n      <th>16</th>\n      <td>Abrantes</td>\n      <td>Baixa Tensão</td>\n      <td>2023</td>\n      <td>7</td>\n      <td>5895124.752</td>\n      <td>20344.0</td>\n      <td>295.0</td>\n      <td>4341.0</td>\n      <td>73.0</td>\n    </tr>\n    <tr>\n      <th>17</th>\n      <td>Abrantes</td>\n      <td>Baixa Tensão</td>\n      <td>2023</td>\n      <td>8</td>\n      <td>5991535.788</td>\n      <td>20344.0</td>\n      <td>296.0</td>\n      <td>4338.0</td>\n      <td>72.0</td>\n    </tr>\n    <tr>\n      <th>18</th>\n      <td>Abrantes</td>\n      <td>Baixa Tensão</td>\n      <td>2023</td>\n      <td>9</td>\n      <td>5378651.415</td>\n      <td>20344.0</td>\n      <td>296.0</td>\n      <td>4344.0</td>\n      <td>70.0</td>\n    </tr>\n    <tr>\n      <th>19</th>\n      <td>Abrantes</td>\n      <td>Baixa Tensão</td>\n      <td>2023</td>\n      <td>10</td>\n      <td>5650166.640</td>\n      <td>20372.0</td>\n      <td>296.0</td>\n      <td>4351.0</td>\n      <td>69.0</td>\n    </tr>\n    <tr>\n      <th>20</th>\n      <td>Abrantes</td>\n      <td>Baixa Tensão</td>\n      <td>2023</td>\n      <td>11</td>\n      <td>6196875.916</td>\n      <td>20382.0</td>\n      <td>296.0</td>\n      <td>4348.0</td>\n      <td>69.0</td>\n    </tr>\n    <tr>\n      <th>21</th>\n      <td>Abrantes</td>\n      <td>Baixa Tensão</td>\n      <td>2023</td>\n      <td>12</td>\n      <td>7719291.295</td>\n      <td>20379.0</td>\n      <td>296.0</td>\n      <td>4354.0</td>\n      <td>68.0</td>\n    </tr>\n    <tr>\n      <th>22</th>\n      <td>Abrantes</td>\n      <td>Baixa Tensão</td>\n      <td>2024</td>\n      <td>1</td>\n      <td>7518534.120</td>\n      <td>20372.0</td>\n      <td>296.0</td>\n      <td>4350.0</td>\n      <td>68.0</td>\n    </tr>\n    <tr>\n      <th>23</th>\n      <td>Abrantes</td>\n      <td>Baixa Tensão</td>\n      <td>2024</td>\n      <td>2</td>\n      <td>2471058.880</td>\n      <td>20353.0</td>\n      <td>296.0</td>\n      <td>4349.0</td>\n      <td>98.0</td>\n    </tr>\n    <tr>\n      <th>24</th>\n      <td>Abrantes</td>\n      <td>Muito Alta, Alta e Média Tensões</td>\n      <td>2022</td>\n      <td>3</td>\n      <td>7157802.917</td>\n      <td>0.0</td>\n      <td>0.0</td>\n      <td>133.0</td>\n      <td>0.0</td>\n    </tr>\n    <tr>\n      <th>25</th>\n      <td>Abrantes</td>\n      <td>Muito Alta, Alta e Média Tensões</td>\n      <td>2022</td>\n      <td>4</td>\n      <td>6312850.260</td>\n      <td>0.0</td>\n      <td>0.0</td>\n      <td>133.0</td>\n      <td>0.0</td>\n    </tr>\n    <tr>\n      <th>26</th>\n      <td>Abrantes</td>\n      <td>Muito Alta, Alta e Média Tensões</td>\n      <td>2022</td>\n      <td>5</td>\n      <td>6320147.247</td>\n      <td>0.0</td>\n      <td>0.0</td>\n      <td>133.0</td>\n      <td>0.0</td>\n    </tr>\n    <tr>\n      <th>27</th>\n      <td>Abrantes</td>\n      <td>Muito Alta, Alta e Média Tensões</td>\n      <td>2022</td>\n      <td>6</td>\n      <td>5788702.612</td>\n      <td>0.0</td>\n      <td>0.0</td>\n      <td>134.0</td>\n      <td>0.0</td>\n    </tr>\n    <tr>\n      <th>28</th>\n      <td>Abrantes</td>\n      <td>Muito Alta, Alta e Média Tensões</td>\n      <td>2022</td>\n      <td>7</td>\n      <td>6487342.101</td>\n      <td>0.0</td>\n      <td>0.0</td>\n      <td>134.0</td>\n      <td>0.0</td>\n    </tr>\n    <tr>\n      <th>29</th>\n      <td>Abrantes</td>\n      <td>Muito Alta, Alta e Média Tensões</td>\n      <td>2022</td>\n      <td>8</td>\n      <td>5891542.227</td>\n      <td>0.0</td>\n      <td>0.0</td>\n      <td>134.0</td>\n      <td>0.0</td>\n    </tr>\n    <tr>\n      <th>30</th>\n      <td>Abrantes</td>\n      <td>Muito Alta, Alta e Média Tensões</td>\n      <td>2022</td>\n      <td>9</td>\n      <td>6159115.706</td>\n      <td>0.0</td>\n      <td>0.0</td>\n      <td>134.0</td>\n      <td>0.0</td>\n    </tr>\n    <tr>\n      <th>31</th>\n      <td>Abrantes</td>\n      <td>Muito Alta, Alta e Média Tensões</td>\n      <td>2022</td>\n      <td>10</td>\n      <td>6360625.206</td>\n      <td>0.0</td>\n      <td>0.0</td>\n      <td>134.0</td>\n      <td>0.0</td>\n    </tr>\n    <tr>\n      <th>32</th>\n      <td>Abrantes</td>\n      <td>Muito Alta, Alta e Média Tensões</td>\n      <td>2022</td>\n      <td>11</td>\n      <td>5961164.626</td>\n      <td>0.0</td>\n      <td>0.0</td>\n      <td>134.0</td>\n      <td>0.0</td>\n    </tr>\n    <tr>\n      <th>33</th>\n      <td>Abrantes</td>\n      <td>Muito Alta, Alta e Média Tensões</td>\n      <td>2022</td>\n      <td>12</td>\n      <td>5272178.134</td>\n      <td>0.0</td>\n      <td>0.0</td>\n      <td>134.0</td>\n      <td>0.0</td>\n    </tr>\n    <tr>\n      <th>34</th>\n      <td>Abrantes</td>\n      <td>Muito Alta, Alta e Média Tensões</td>\n      <td>2023</td>\n      <td>1</td>\n      <td>6615131.802</td>\n      <td>0.0</td>\n      <td>0.0</td>\n      <td>132.0</td>\n      <td>0.0</td>\n    </tr>\n    <tr>\n      <th>35</th>\n      <td>Abrantes</td>\n      <td>Muito Alta, Alta e Média Tensões</td>\n      <td>2023</td>\n      <td>2</td>\n      <td>5674410.040</td>\n      <td>0.0</td>\n      <td>0.0</td>\n      <td>132.0</td>\n      <td>0.0</td>\n    </tr>\n    <tr>\n      <th>36</th>\n      <td>Abrantes</td>\n      <td>Muito Alta, Alta e Média Tensões</td>\n      <td>2023</td>\n      <td>3</td>\n      <td>6187526.764</td>\n      <td>0.0</td>\n      <td>0.0</td>\n      <td>132.0</td>\n      <td>0.0</td>\n    </tr>\n    <tr>\n      <th>37</th>\n      <td>Abrantes</td>\n      <td>Muito Alta, Alta e Média Tensões</td>\n      <td>2023</td>\n      <td>4</td>\n      <td>5652034.043</td>\n      <td>0.0</td>\n      <td>0.0</td>\n      <td>132.0</td>\n      <td>0.0</td>\n    </tr>\n    <tr>\n      <th>38</th>\n      <td>Abrantes</td>\n      <td>Muito Alta, Alta e Média Tensões</td>\n      <td>2023</td>\n      <td>5</td>\n      <td>5924078.599</td>\n      <td>0.0</td>\n      <td>0.0</td>\n      <td>132.0</td>\n      <td>0.0</td>\n    </tr>\n    <tr>\n      <th>39</th>\n      <td>Abrantes</td>\n      <td>Muito Alta, Alta e Média Tensões</td>\n      <td>2023</td>\n      <td>6</td>\n      <td>5252440.752</td>\n      <td>0.0</td>\n      <td>0.0</td>\n      <td>133.0</td>\n      <td>0.0</td>\n    </tr>\n    <tr>\n      <th>40</th>\n      <td>Abrantes</td>\n      <td>Muito Alta, Alta e Média Tensões</td>\n      <td>2023</td>\n      <td>7</td>\n      <td>5906508.826</td>\n      <td>0.0</td>\n      <td>0.0</td>\n      <td>133.0</td>\n      <td>0.0</td>\n    </tr>\n    <tr>\n      <th>41</th>\n      <td>Abrantes</td>\n      <td>Muito Alta, Alta e Média Tensões</td>\n      <td>2023</td>\n      <td>8</td>\n      <td>5357597.886</td>\n      <td>0.0</td>\n      <td>0.0</td>\n      <td>132.0</td>\n      <td>0.0</td>\n    </tr>\n    <tr>\n      <th>42</th>\n      <td>Abrantes</td>\n      <td>Muito Alta, Alta e Média Tensões</td>\n      <td>2023</td>\n      <td>9</td>\n      <td>5680322.620</td>\n      <td>0.0</td>\n      <td>0.0</td>\n      <td>132.0</td>\n      <td>0.0</td>\n    </tr>\n    <tr>\n      <th>43</th>\n      <td>Abrantes</td>\n      <td>Muito Alta, Alta e Média Tensões</td>\n      <td>2023</td>\n      <td>10</td>\n      <td>6098404.032</td>\n      <td>0.0</td>\n      <td>0.0</td>\n      <td>131.0</td>\n      <td>0.0</td>\n    </tr>\n    <tr>\n      <th>44</th>\n      <td>Abrantes</td>\n      <td>Muito Alta, Alta e Média Tensões</td>\n      <td>2023</td>\n      <td>11</td>\n      <td>6292665.594</td>\n      <td>0.0</td>\n      <td>0.0</td>\n      <td>131.0</td>\n      <td>0.0</td>\n    </tr>\n    <tr>\n      <th>45</th>\n      <td>Abrantes</td>\n      <td>Muito Alta, Alta e Média Tensões</td>\n      <td>2023</td>\n      <td>12</td>\n      <td>5739963.042</td>\n      <td>0.0</td>\n      <td>0.0</td>\n      <td>130.0</td>\n      <td>0.0</td>\n    </tr>\n    <tr>\n      <th>46</th>\n      <td>Abrantes</td>\n      <td>Muito Alta, Alta e Média Tensões</td>\n      <td>2024</td>\n      <td>1</td>\n      <td>6369608.506</td>\n      <td>0.0</td>\n      <td>0.0</td>\n      <td>129.0</td>\n      <td>0.0</td>\n    </tr>\n    <tr>\n      <th>47</th>\n      <td>Abrantes</td>\n      <td>Muito Alta, Alta e Média Tensões</td>\n      <td>2024</td>\n      <td>2</td>\n      <td>2127509.494</td>\n      <td>0.0</td>\n      <td>0.0</td>\n      <td>128.0</td>\n      <td>0.0</td>\n    </tr>\n    <tr>\n      <th>48</th>\n      <td>Aguiar da Beira</td>\n      <td>Baixa Tensão</td>\n      <td>2022</td>\n      <td>3</td>\n      <td>1071837.546</td>\n      <td>3799.0</td>\n      <td>91.0</td>\n      <td>993.0</td>\n      <td>20.0</td>\n    </tr>\n    <tr>\n      <th>49</th>\n      <td>Aguiar da Beira</td>\n      <td>Baixa Tensão</td>\n      <td>2022</td>\n      <td>4</td>\n      <td>1006307.934</td>\n      <td>3791.0</td>\n      <td>91.0</td>\n      <td>993.0</td>\n      <td>21.0</td>\n    </tr>\n  </tbody>\n</table>\n</div>"
     },
     "execution_count": 7,
     "metadata": {},
     "output_type": "execute_result"
    }
   ],
   "execution_count": 7
  },
  {
   "cell_type": "markdown",
   "source": [
    "5. No dataset diagramas de cargas, criar colunas para a mobilidade elétrica"
   ],
   "metadata": {
    "collapsed": false
   },
   "id": "dce213c25b196165"
  },
  {
   "cell_type": "code",
   "source": [
    "# Criar colunas para 'Inclui Mobilidade Elétrica' e somar 'CPEs com DCs Recolhidos (#)'\n",
    "df_pivoted_mobility = df_diagrama_carga.pivot_table(index=['concelho', 'ano', 'mes'], \n",
    "                                                        columns='inclui_mobilidade_eletrica', \n",
    "                                                        values='cpes_com_dcs_recolhidos_quantidade', \n",
    "                                                        aggfunc='sum').reset_index()\n",
    "\n",
    "# Valores NA preencher com 0\n",
    "df_pivoted_mobility.fillna(0, inplace=True)\n",
    "\n",
    "# Renomear as colunas\n",
    "df_pivoted_mobility.columns.name = None \n",
    "df_pivoted_mobility.columns = [col if col in ['concelho', 'ano', 'mes'] else f\"CPEs_Mobilidade_Eletrica_{col}\" for col in df_pivoted_mobility.columns]\n",
    "df_pivoted_mobility.rename(columns={'CPEs_Mobilidade_Eletrica_Não': 'cpes_mobilidade_eletrica_nao', 'CPEs_Mobilidade_Eletrica_Sim': 'cpes_mobilidade_eletrica_sim'}, inplace=True)\n",
    "\n",
    "df_pivoted_mobility.head()"
   ],
   "metadata": {
    "collapsed": false,
    "ExecuteTime": {
     "end_time": "2024-05-10T11:44:14.943260Z",
     "start_time": "2024-05-10T11:44:14.891490Z"
    }
   },
   "id": "85a14cd794c9aa79",
   "outputs": [
    {
     "data": {
      "text/plain": "   concelho   ano  mes  cpes_mobilidade_eletrica_nao  \\\n0  Abrantes  2022    8                       11097.0   \n1  Abrantes  2022    9                       11298.0   \n2  Abrantes  2022   10                       11563.0   \n3  Abrantes  2022   11                       11969.0   \n4  Abrantes  2022   12                       12210.0   \n\n   cpes_mobilidade_eletrica_sim  \n0                           1.0  \n1                           1.0  \n2                           1.0  \n3                           1.0  \n4                           1.0  ",
      "text/html": "<div>\n<style scoped>\n    .dataframe tbody tr th:only-of-type {\n        vertical-align: middle;\n    }\n\n    .dataframe tbody tr th {\n        vertical-align: top;\n    }\n\n    .dataframe thead th {\n        text-align: right;\n    }\n</style>\n<table border=\"1\" class=\"dataframe\">\n  <thead>\n    <tr style=\"text-align: right;\">\n      <th></th>\n      <th>concelho</th>\n      <th>ano</th>\n      <th>mes</th>\n      <th>cpes_mobilidade_eletrica_nao</th>\n      <th>cpes_mobilidade_eletrica_sim</th>\n    </tr>\n  </thead>\n  <tbody>\n    <tr>\n      <th>0</th>\n      <td>Abrantes</td>\n      <td>2022</td>\n      <td>8</td>\n      <td>11097.0</td>\n      <td>1.0</td>\n    </tr>\n    <tr>\n      <th>1</th>\n      <td>Abrantes</td>\n      <td>2022</td>\n      <td>9</td>\n      <td>11298.0</td>\n      <td>1.0</td>\n    </tr>\n    <tr>\n      <th>2</th>\n      <td>Abrantes</td>\n      <td>2022</td>\n      <td>10</td>\n      <td>11563.0</td>\n      <td>1.0</td>\n    </tr>\n    <tr>\n      <th>3</th>\n      <td>Abrantes</td>\n      <td>2022</td>\n      <td>11</td>\n      <td>11969.0</td>\n      <td>1.0</td>\n    </tr>\n    <tr>\n      <th>4</th>\n      <td>Abrantes</td>\n      <td>2022</td>\n      <td>12</td>\n      <td>12210.0</td>\n      <td>1.0</td>\n    </tr>\n  </tbody>\n</table>\n</div>"
     },
     "execution_count": 8,
     "metadata": {},
     "output_type": "execute_result"
    }
   ],
   "execution_count": 8
  },
  {
   "cell_type": "markdown",
   "source": [
    "6. Juntar com a coleção diagramas de carga"
   ],
   "metadata": {
    "collapsed": false
   },
   "id": "350868c2e6e747eb"
  },
  {
   "cell_type": "code",
   "source": [
    "merged_df = pd.merge(merged_df, df_pivoted_mobility, on=['concelho', 'ano', 'mes'], how='inner')\n",
    "\n",
    "# Verificar nulls\n",
    "null_counts = merged_df.isnull().sum()\n",
    "\n",
    "# Ver nulls por coluna\n",
    "print(\"Número de nulls por coluna:\")\n",
    "print(null_counts)\n",
    "\n",
    "merged_df.info()\n",
    "merged_df.head(50)"
   ],
   "metadata": {
    "collapsed": false,
    "ExecuteTime": {
     "end_time": "2024-05-10T11:44:14.946974Z",
     "start_time": "2024-05-10T11:44:14.901650Z"
    }
   },
   "id": "31904dd9dd3a695",
   "outputs": [
    {
     "name": "stdout",
     "output_type": "stream",
     "text": [
      "Número de nulls por coluna:\n",
      "concelho                        0\n",
      "nivel_de_tensao                 0\n",
      "ano                             0\n",
      "mes                             0\n",
      "energia_ativa_kwh               0\n",
      "cpes_domestico                  0\n",
      "cpes_iluminacao_publica         0\n",
      "cpes_nao_domestico              0\n",
      "cpes_outros                     0\n",
      "cpes_mobilidade_eletrica_nao    0\n",
      "cpes_mobilidade_eletrica_sim    0\n",
      "dtype: int64\n",
      "<class 'pandas.core.frame.DataFrame'>\n",
      "RangeIndex: 10334 entries, 0 to 10333\n",
      "Data columns (total 11 columns):\n",
      " #   Column                        Non-Null Count  Dtype  \n",
      "---  ------                        --------------  -----  \n",
      " 0   concelho                      10334 non-null  object \n",
      " 1   nivel_de_tensao               10334 non-null  object \n",
      " 2   ano                           10334 non-null  int64  \n",
      " 3   mes                           10334 non-null  int64  \n",
      " 4   energia_ativa_kwh             10334 non-null  float64\n",
      " 5   cpes_domestico                10334 non-null  float64\n",
      " 6   cpes_iluminacao_publica       10334 non-null  float64\n",
      " 7   cpes_nao_domestico            10334 non-null  float64\n",
      " 8   cpes_outros                   10334 non-null  float64\n",
      " 9   cpes_mobilidade_eletrica_nao  10334 non-null  float64\n",
      " 10  cpes_mobilidade_eletrica_sim  10334 non-null  float64\n",
      "dtypes: float64(7), int64(2), object(2)\n",
      "memory usage: 888.2+ KB\n"
     ]
    },
    {
     "data": {
      "text/plain": "           concelho                   nivel_de_tensao   ano  mes  \\\n0          Abrantes                      Baixa Tensão  2022    8   \n1          Abrantes                      Baixa Tensão  2022    9   \n2          Abrantes                      Baixa Tensão  2022   10   \n3          Abrantes                      Baixa Tensão  2022   11   \n4          Abrantes                      Baixa Tensão  2022   12   \n5          Abrantes                      Baixa Tensão  2023    1   \n6          Abrantes                      Baixa Tensão  2023    2   \n7          Abrantes                      Baixa Tensão  2023    3   \n8          Abrantes                      Baixa Tensão  2023    4   \n9          Abrantes                      Baixa Tensão  2023    5   \n10         Abrantes                      Baixa Tensão  2023    6   \n11         Abrantes                      Baixa Tensão  2023    7   \n12         Abrantes                      Baixa Tensão  2023    8   \n13         Abrantes                      Baixa Tensão  2023    9   \n14         Abrantes                      Baixa Tensão  2023   10   \n15         Abrantes                      Baixa Tensão  2023   11   \n16         Abrantes                      Baixa Tensão  2023   12   \n17         Abrantes                      Baixa Tensão  2024    1   \n18         Abrantes                      Baixa Tensão  2024    2   \n19         Abrantes  Muito Alta, Alta e Média Tensões  2022    8   \n20         Abrantes  Muito Alta, Alta e Média Tensões  2022    9   \n21         Abrantes  Muito Alta, Alta e Média Tensões  2022   10   \n22         Abrantes  Muito Alta, Alta e Média Tensões  2022   11   \n23         Abrantes  Muito Alta, Alta e Média Tensões  2022   12   \n24         Abrantes  Muito Alta, Alta e Média Tensões  2023    1   \n25         Abrantes  Muito Alta, Alta e Média Tensões  2023    2   \n26         Abrantes  Muito Alta, Alta e Média Tensões  2023    3   \n27         Abrantes  Muito Alta, Alta e Média Tensões  2023    4   \n28         Abrantes  Muito Alta, Alta e Média Tensões  2023    5   \n29         Abrantes  Muito Alta, Alta e Média Tensões  2023    6   \n30         Abrantes  Muito Alta, Alta e Média Tensões  2023    7   \n31         Abrantes  Muito Alta, Alta e Média Tensões  2023    8   \n32         Abrantes  Muito Alta, Alta e Média Tensões  2023    9   \n33         Abrantes  Muito Alta, Alta e Média Tensões  2023   10   \n34         Abrantes  Muito Alta, Alta e Média Tensões  2023   11   \n35         Abrantes  Muito Alta, Alta e Média Tensões  2023   12   \n36         Abrantes  Muito Alta, Alta e Média Tensões  2024    1   \n37         Abrantes  Muito Alta, Alta e Média Tensões  2024    2   \n38  Aguiar da Beira                      Baixa Tensão  2022    8   \n39  Aguiar da Beira                      Baixa Tensão  2022    9   \n40  Aguiar da Beira                      Baixa Tensão  2022   10   \n41  Aguiar da Beira                      Baixa Tensão  2022   11   \n42  Aguiar da Beira                      Baixa Tensão  2022   12   \n43  Aguiar da Beira                      Baixa Tensão  2023    1   \n44  Aguiar da Beira                      Baixa Tensão  2023    2   \n45  Aguiar da Beira                      Baixa Tensão  2023    3   \n46  Aguiar da Beira                      Baixa Tensão  2023    4   \n47  Aguiar da Beira                      Baixa Tensão  2023    5   \n48  Aguiar da Beira                      Baixa Tensão  2023    6   \n49  Aguiar da Beira                      Baixa Tensão  2023    7   \n\n    energia_ativa_kwh  cpes_domestico  cpes_iluminacao_publica  \\\n0         5908716.726         20260.0                    293.0   \n1         5319528.107         20270.0                    293.0   \n2         5431060.198         20280.0                    293.0   \n3         5845742.136         20291.0                    293.0   \n4         6780793.391         20297.0                    294.0   \n5         7371280.764         20298.0                    294.0   \n6         6508911.283         20288.0                    294.0   \n7         6078748.399         20280.0                    294.0   \n8         5176041.281         20280.0                    294.0   \n9         5243476.885         20280.0                    294.0   \n10        5393047.388         20329.0                    295.0   \n11        5895124.752         20344.0                    295.0   \n12        5991535.788         20344.0                    296.0   \n13        5378651.415         20344.0                    296.0   \n14        5650166.640         20372.0                    296.0   \n15        6196875.916         20382.0                    296.0   \n16        7719291.295         20379.0                    296.0   \n17        7518534.120         20372.0                    296.0   \n18        2471058.880         20353.0                    296.0   \n19        5891542.227             0.0                      0.0   \n20        6159115.706             0.0                      0.0   \n21        6360625.206             0.0                      0.0   \n22        5961164.626             0.0                      0.0   \n23        5272178.134             0.0                      0.0   \n24        6615131.802             0.0                      0.0   \n25        5674410.040             0.0                      0.0   \n26        6187526.764             0.0                      0.0   \n27        5652034.043             0.0                      0.0   \n28        5924078.599             0.0                      0.0   \n29        5252440.752             0.0                      0.0   \n30        5906508.826             0.0                      0.0   \n31        5357597.886             0.0                      0.0   \n32        5680322.620             0.0                      0.0   \n33        6098404.032             0.0                      0.0   \n34        6292665.594             0.0                      0.0   \n35        5739963.042             0.0                      0.0   \n36        6369608.506             0.0                      0.0   \n37        2127509.494             0.0                      0.0   \n38        1175081.094          3782.0                     92.0   \n39        1020159.556          3784.0                     92.0   \n40        1040276.601          3784.0                     92.0   \n41        1086080.294          3779.0                     92.0   \n42        1167576.322          3782.0                     93.0   \n43        1178492.048          3788.0                     95.0   \n44        1016374.489          3793.0                     95.0   \n45        1062276.052          3794.0                     95.0   \n46         950221.976          3794.0                     95.0   \n47         967925.289          3794.0                     95.0   \n48         992994.146          3802.0                     95.0   \n49        1146291.924          3806.0                     95.0   \n\n    cpes_nao_domestico  cpes_outros  cpes_mobilidade_eletrica_nao  \\\n0               4318.0         83.0                       11097.0   \n1               4311.0         81.0                       11298.0   \n2               4302.0         81.0                       11563.0   \n3               4308.0         80.0                       11969.0   \n4               4312.0         82.0                       12210.0   \n5               4309.0         82.0                       13334.0   \n6               4310.0        113.0                       13499.0   \n7               4316.0         75.0                       13973.0   \n8               4316.0         75.0                       14307.0   \n9               4316.0         75.0                       14194.0   \n10              4346.0         77.0                       14834.0   \n11              4341.0         73.0                       14679.0   \n12              4338.0         72.0                       14815.0   \n13              4344.0         70.0                       14855.0   \n14              4351.0         69.0                       15457.0   \n15              4348.0         69.0                       15853.0   \n16              4354.0         68.0                       16460.0   \n17              4350.0         68.0                       17073.0   \n18              4349.0         98.0                       17478.0   \n19               134.0          0.0                       11097.0   \n20               134.0          0.0                       11298.0   \n21               134.0          0.0                       11563.0   \n22               134.0          0.0                       11969.0   \n23               134.0          0.0                       12210.0   \n24               132.0          0.0                       13334.0   \n25               132.0          0.0                       13499.0   \n26               132.0          0.0                       13973.0   \n27               132.0          0.0                       14307.0   \n28               132.0          0.0                       14194.0   \n29               133.0          0.0                       14834.0   \n30               133.0          0.0                       14679.0   \n31               132.0          0.0                       14815.0   \n32               132.0          0.0                       14855.0   \n33               131.0          0.0                       15457.0   \n34               131.0          0.0                       15853.0   \n35               130.0          0.0                       16460.0   \n36               129.0          0.0                       17073.0   \n37               128.0          0.0                       17478.0   \n38              1000.0         14.0                        1895.0   \n39               999.0         16.0                        1916.0   \n40               998.0         16.0                        2096.0   \n41               999.0         16.0                        2488.0   \n42              1001.0         16.0                        2549.0   \n43               998.0         15.0                        2661.0   \n44               996.0         15.0                        2971.0   \n45               997.0         14.0                        2909.0   \n46               997.0         14.0                        2995.0   \n47               997.0         14.0                        2919.0   \n48              1007.0         13.0                        3302.0   \n49              1006.0         14.0                        3490.0   \n\n    cpes_mobilidade_eletrica_sim  \n0                            1.0  \n1                            1.0  \n2                            1.0  \n3                            1.0  \n4                            1.0  \n5                            1.0  \n6                            1.0  \n7                            1.0  \n8                            1.0  \n9                            1.0  \n10                           2.0  \n11                           2.0  \n12                           2.0  \n13                           2.0  \n14                           2.0  \n15                           2.0  \n16                           2.0  \n17                           3.0  \n18                           4.0  \n19                           1.0  \n20                           1.0  \n21                           1.0  \n22                           1.0  \n23                           1.0  \n24                           1.0  \n25                           1.0  \n26                           1.0  \n27                           1.0  \n28                           1.0  \n29                           2.0  \n30                           2.0  \n31                           2.0  \n32                           2.0  \n33                           2.0  \n34                           2.0  \n35                           2.0  \n36                           3.0  \n37                           4.0  \n38                           1.0  \n39                           1.0  \n40                           1.0  \n41                           1.0  \n42                           1.0  \n43                           1.0  \n44                           1.0  \n45                           2.0  \n46                           2.0  \n47                           2.0  \n48                           2.0  \n49                           2.0  ",
      "text/html": "<div>\n<style scoped>\n    .dataframe tbody tr th:only-of-type {\n        vertical-align: middle;\n    }\n\n    .dataframe tbody tr th {\n        vertical-align: top;\n    }\n\n    .dataframe thead th {\n        text-align: right;\n    }\n</style>\n<table border=\"1\" class=\"dataframe\">\n  <thead>\n    <tr style=\"text-align: right;\">\n      <th></th>\n      <th>concelho</th>\n      <th>nivel_de_tensao</th>\n      <th>ano</th>\n      <th>mes</th>\n      <th>energia_ativa_kwh</th>\n      <th>cpes_domestico</th>\n      <th>cpes_iluminacao_publica</th>\n      <th>cpes_nao_domestico</th>\n      <th>cpes_outros</th>\n      <th>cpes_mobilidade_eletrica_nao</th>\n      <th>cpes_mobilidade_eletrica_sim</th>\n    </tr>\n  </thead>\n  <tbody>\n    <tr>\n      <th>0</th>\n      <td>Abrantes</td>\n      <td>Baixa Tensão</td>\n      <td>2022</td>\n      <td>8</td>\n      <td>5908716.726</td>\n      <td>20260.0</td>\n      <td>293.0</td>\n      <td>4318.0</td>\n      <td>83.0</td>\n      <td>11097.0</td>\n      <td>1.0</td>\n    </tr>\n    <tr>\n      <th>1</th>\n      <td>Abrantes</td>\n      <td>Baixa Tensão</td>\n      <td>2022</td>\n      <td>9</td>\n      <td>5319528.107</td>\n      <td>20270.0</td>\n      <td>293.0</td>\n      <td>4311.0</td>\n      <td>81.0</td>\n      <td>11298.0</td>\n      <td>1.0</td>\n    </tr>\n    <tr>\n      <th>2</th>\n      <td>Abrantes</td>\n      <td>Baixa Tensão</td>\n      <td>2022</td>\n      <td>10</td>\n      <td>5431060.198</td>\n      <td>20280.0</td>\n      <td>293.0</td>\n      <td>4302.0</td>\n      <td>81.0</td>\n      <td>11563.0</td>\n      <td>1.0</td>\n    </tr>\n    <tr>\n      <th>3</th>\n      <td>Abrantes</td>\n      <td>Baixa Tensão</td>\n      <td>2022</td>\n      <td>11</td>\n      <td>5845742.136</td>\n      <td>20291.0</td>\n      <td>293.0</td>\n      <td>4308.0</td>\n      <td>80.0</td>\n      <td>11969.0</td>\n      <td>1.0</td>\n    </tr>\n    <tr>\n      <th>4</th>\n      <td>Abrantes</td>\n      <td>Baixa Tensão</td>\n      <td>2022</td>\n      <td>12</td>\n      <td>6780793.391</td>\n      <td>20297.0</td>\n      <td>294.0</td>\n      <td>4312.0</td>\n      <td>82.0</td>\n      <td>12210.0</td>\n      <td>1.0</td>\n    </tr>\n    <tr>\n      <th>5</th>\n      <td>Abrantes</td>\n      <td>Baixa Tensão</td>\n      <td>2023</td>\n      <td>1</td>\n      <td>7371280.764</td>\n      <td>20298.0</td>\n      <td>294.0</td>\n      <td>4309.0</td>\n      <td>82.0</td>\n      <td>13334.0</td>\n      <td>1.0</td>\n    </tr>\n    <tr>\n      <th>6</th>\n      <td>Abrantes</td>\n      <td>Baixa Tensão</td>\n      <td>2023</td>\n      <td>2</td>\n      <td>6508911.283</td>\n      <td>20288.0</td>\n      <td>294.0</td>\n      <td>4310.0</td>\n      <td>113.0</td>\n      <td>13499.0</td>\n      <td>1.0</td>\n    </tr>\n    <tr>\n      <th>7</th>\n      <td>Abrantes</td>\n      <td>Baixa Tensão</td>\n      <td>2023</td>\n      <td>3</td>\n      <td>6078748.399</td>\n      <td>20280.0</td>\n      <td>294.0</td>\n      <td>4316.0</td>\n      <td>75.0</td>\n      <td>13973.0</td>\n      <td>1.0</td>\n    </tr>\n    <tr>\n      <th>8</th>\n      <td>Abrantes</td>\n      <td>Baixa Tensão</td>\n      <td>2023</td>\n      <td>4</td>\n      <td>5176041.281</td>\n      <td>20280.0</td>\n      <td>294.0</td>\n      <td>4316.0</td>\n      <td>75.0</td>\n      <td>14307.0</td>\n      <td>1.0</td>\n    </tr>\n    <tr>\n      <th>9</th>\n      <td>Abrantes</td>\n      <td>Baixa Tensão</td>\n      <td>2023</td>\n      <td>5</td>\n      <td>5243476.885</td>\n      <td>20280.0</td>\n      <td>294.0</td>\n      <td>4316.0</td>\n      <td>75.0</td>\n      <td>14194.0</td>\n      <td>1.0</td>\n    </tr>\n    <tr>\n      <th>10</th>\n      <td>Abrantes</td>\n      <td>Baixa Tensão</td>\n      <td>2023</td>\n      <td>6</td>\n      <td>5393047.388</td>\n      <td>20329.0</td>\n      <td>295.0</td>\n      <td>4346.0</td>\n      <td>77.0</td>\n      <td>14834.0</td>\n      <td>2.0</td>\n    </tr>\n    <tr>\n      <th>11</th>\n      <td>Abrantes</td>\n      <td>Baixa Tensão</td>\n      <td>2023</td>\n      <td>7</td>\n      <td>5895124.752</td>\n      <td>20344.0</td>\n      <td>295.0</td>\n      <td>4341.0</td>\n      <td>73.0</td>\n      <td>14679.0</td>\n      <td>2.0</td>\n    </tr>\n    <tr>\n      <th>12</th>\n      <td>Abrantes</td>\n      <td>Baixa Tensão</td>\n      <td>2023</td>\n      <td>8</td>\n      <td>5991535.788</td>\n      <td>20344.0</td>\n      <td>296.0</td>\n      <td>4338.0</td>\n      <td>72.0</td>\n      <td>14815.0</td>\n      <td>2.0</td>\n    </tr>\n    <tr>\n      <th>13</th>\n      <td>Abrantes</td>\n      <td>Baixa Tensão</td>\n      <td>2023</td>\n      <td>9</td>\n      <td>5378651.415</td>\n      <td>20344.0</td>\n      <td>296.0</td>\n      <td>4344.0</td>\n      <td>70.0</td>\n      <td>14855.0</td>\n      <td>2.0</td>\n    </tr>\n    <tr>\n      <th>14</th>\n      <td>Abrantes</td>\n      <td>Baixa Tensão</td>\n      <td>2023</td>\n      <td>10</td>\n      <td>5650166.640</td>\n      <td>20372.0</td>\n      <td>296.0</td>\n      <td>4351.0</td>\n      <td>69.0</td>\n      <td>15457.0</td>\n      <td>2.0</td>\n    </tr>\n    <tr>\n      <th>15</th>\n      <td>Abrantes</td>\n      <td>Baixa Tensão</td>\n      <td>2023</td>\n      <td>11</td>\n      <td>6196875.916</td>\n      <td>20382.0</td>\n      <td>296.0</td>\n      <td>4348.0</td>\n      <td>69.0</td>\n      <td>15853.0</td>\n      <td>2.0</td>\n    </tr>\n    <tr>\n      <th>16</th>\n      <td>Abrantes</td>\n      <td>Baixa Tensão</td>\n      <td>2023</td>\n      <td>12</td>\n      <td>7719291.295</td>\n      <td>20379.0</td>\n      <td>296.0</td>\n      <td>4354.0</td>\n      <td>68.0</td>\n      <td>16460.0</td>\n      <td>2.0</td>\n    </tr>\n    <tr>\n      <th>17</th>\n      <td>Abrantes</td>\n      <td>Baixa Tensão</td>\n      <td>2024</td>\n      <td>1</td>\n      <td>7518534.120</td>\n      <td>20372.0</td>\n      <td>296.0</td>\n      <td>4350.0</td>\n      <td>68.0</td>\n      <td>17073.0</td>\n      <td>3.0</td>\n    </tr>\n    <tr>\n      <th>18</th>\n      <td>Abrantes</td>\n      <td>Baixa Tensão</td>\n      <td>2024</td>\n      <td>2</td>\n      <td>2471058.880</td>\n      <td>20353.0</td>\n      <td>296.0</td>\n      <td>4349.0</td>\n      <td>98.0</td>\n      <td>17478.0</td>\n      <td>4.0</td>\n    </tr>\n    <tr>\n      <th>19</th>\n      <td>Abrantes</td>\n      <td>Muito Alta, Alta e Média Tensões</td>\n      <td>2022</td>\n      <td>8</td>\n      <td>5891542.227</td>\n      <td>0.0</td>\n      <td>0.0</td>\n      <td>134.0</td>\n      <td>0.0</td>\n      <td>11097.0</td>\n      <td>1.0</td>\n    </tr>\n    <tr>\n      <th>20</th>\n      <td>Abrantes</td>\n      <td>Muito Alta, Alta e Média Tensões</td>\n      <td>2022</td>\n      <td>9</td>\n      <td>6159115.706</td>\n      <td>0.0</td>\n      <td>0.0</td>\n      <td>134.0</td>\n      <td>0.0</td>\n      <td>11298.0</td>\n      <td>1.0</td>\n    </tr>\n    <tr>\n      <th>21</th>\n      <td>Abrantes</td>\n      <td>Muito Alta, Alta e Média Tensões</td>\n      <td>2022</td>\n      <td>10</td>\n      <td>6360625.206</td>\n      <td>0.0</td>\n      <td>0.0</td>\n      <td>134.0</td>\n      <td>0.0</td>\n      <td>11563.0</td>\n      <td>1.0</td>\n    </tr>\n    <tr>\n      <th>22</th>\n      <td>Abrantes</td>\n      <td>Muito Alta, Alta e Média Tensões</td>\n      <td>2022</td>\n      <td>11</td>\n      <td>5961164.626</td>\n      <td>0.0</td>\n      <td>0.0</td>\n      <td>134.0</td>\n      <td>0.0</td>\n      <td>11969.0</td>\n      <td>1.0</td>\n    </tr>\n    <tr>\n      <th>23</th>\n      <td>Abrantes</td>\n      <td>Muito Alta, Alta e Média Tensões</td>\n      <td>2022</td>\n      <td>12</td>\n      <td>5272178.134</td>\n      <td>0.0</td>\n      <td>0.0</td>\n      <td>134.0</td>\n      <td>0.0</td>\n      <td>12210.0</td>\n      <td>1.0</td>\n    </tr>\n    <tr>\n      <th>24</th>\n      <td>Abrantes</td>\n      <td>Muito Alta, Alta e Média Tensões</td>\n      <td>2023</td>\n      <td>1</td>\n      <td>6615131.802</td>\n      <td>0.0</td>\n      <td>0.0</td>\n      <td>132.0</td>\n      <td>0.0</td>\n      <td>13334.0</td>\n      <td>1.0</td>\n    </tr>\n    <tr>\n      <th>25</th>\n      <td>Abrantes</td>\n      <td>Muito Alta, Alta e Média Tensões</td>\n      <td>2023</td>\n      <td>2</td>\n      <td>5674410.040</td>\n      <td>0.0</td>\n      <td>0.0</td>\n      <td>132.0</td>\n      <td>0.0</td>\n      <td>13499.0</td>\n      <td>1.0</td>\n    </tr>\n    <tr>\n      <th>26</th>\n      <td>Abrantes</td>\n      <td>Muito Alta, Alta e Média Tensões</td>\n      <td>2023</td>\n      <td>3</td>\n      <td>6187526.764</td>\n      <td>0.0</td>\n      <td>0.0</td>\n      <td>132.0</td>\n      <td>0.0</td>\n      <td>13973.0</td>\n      <td>1.0</td>\n    </tr>\n    <tr>\n      <th>27</th>\n      <td>Abrantes</td>\n      <td>Muito Alta, Alta e Média Tensões</td>\n      <td>2023</td>\n      <td>4</td>\n      <td>5652034.043</td>\n      <td>0.0</td>\n      <td>0.0</td>\n      <td>132.0</td>\n      <td>0.0</td>\n      <td>14307.0</td>\n      <td>1.0</td>\n    </tr>\n    <tr>\n      <th>28</th>\n      <td>Abrantes</td>\n      <td>Muito Alta, Alta e Média Tensões</td>\n      <td>2023</td>\n      <td>5</td>\n      <td>5924078.599</td>\n      <td>0.0</td>\n      <td>0.0</td>\n      <td>132.0</td>\n      <td>0.0</td>\n      <td>14194.0</td>\n      <td>1.0</td>\n    </tr>\n    <tr>\n      <th>29</th>\n      <td>Abrantes</td>\n      <td>Muito Alta, Alta e Média Tensões</td>\n      <td>2023</td>\n      <td>6</td>\n      <td>5252440.752</td>\n      <td>0.0</td>\n      <td>0.0</td>\n      <td>133.0</td>\n      <td>0.0</td>\n      <td>14834.0</td>\n      <td>2.0</td>\n    </tr>\n    <tr>\n      <th>30</th>\n      <td>Abrantes</td>\n      <td>Muito Alta, Alta e Média Tensões</td>\n      <td>2023</td>\n      <td>7</td>\n      <td>5906508.826</td>\n      <td>0.0</td>\n      <td>0.0</td>\n      <td>133.0</td>\n      <td>0.0</td>\n      <td>14679.0</td>\n      <td>2.0</td>\n    </tr>\n    <tr>\n      <th>31</th>\n      <td>Abrantes</td>\n      <td>Muito Alta, Alta e Média Tensões</td>\n      <td>2023</td>\n      <td>8</td>\n      <td>5357597.886</td>\n      <td>0.0</td>\n      <td>0.0</td>\n      <td>132.0</td>\n      <td>0.0</td>\n      <td>14815.0</td>\n      <td>2.0</td>\n    </tr>\n    <tr>\n      <th>32</th>\n      <td>Abrantes</td>\n      <td>Muito Alta, Alta e Média Tensões</td>\n      <td>2023</td>\n      <td>9</td>\n      <td>5680322.620</td>\n      <td>0.0</td>\n      <td>0.0</td>\n      <td>132.0</td>\n      <td>0.0</td>\n      <td>14855.0</td>\n      <td>2.0</td>\n    </tr>\n    <tr>\n      <th>33</th>\n      <td>Abrantes</td>\n      <td>Muito Alta, Alta e Média Tensões</td>\n      <td>2023</td>\n      <td>10</td>\n      <td>6098404.032</td>\n      <td>0.0</td>\n      <td>0.0</td>\n      <td>131.0</td>\n      <td>0.0</td>\n      <td>15457.0</td>\n      <td>2.0</td>\n    </tr>\n    <tr>\n      <th>34</th>\n      <td>Abrantes</td>\n      <td>Muito Alta, Alta e Média Tensões</td>\n      <td>2023</td>\n      <td>11</td>\n      <td>6292665.594</td>\n      <td>0.0</td>\n      <td>0.0</td>\n      <td>131.0</td>\n      <td>0.0</td>\n      <td>15853.0</td>\n      <td>2.0</td>\n    </tr>\n    <tr>\n      <th>35</th>\n      <td>Abrantes</td>\n      <td>Muito Alta, Alta e Média Tensões</td>\n      <td>2023</td>\n      <td>12</td>\n      <td>5739963.042</td>\n      <td>0.0</td>\n      <td>0.0</td>\n      <td>130.0</td>\n      <td>0.0</td>\n      <td>16460.0</td>\n      <td>2.0</td>\n    </tr>\n    <tr>\n      <th>36</th>\n      <td>Abrantes</td>\n      <td>Muito Alta, Alta e Média Tensões</td>\n      <td>2024</td>\n      <td>1</td>\n      <td>6369608.506</td>\n      <td>0.0</td>\n      <td>0.0</td>\n      <td>129.0</td>\n      <td>0.0</td>\n      <td>17073.0</td>\n      <td>3.0</td>\n    </tr>\n    <tr>\n      <th>37</th>\n      <td>Abrantes</td>\n      <td>Muito Alta, Alta e Média Tensões</td>\n      <td>2024</td>\n      <td>2</td>\n      <td>2127509.494</td>\n      <td>0.0</td>\n      <td>0.0</td>\n      <td>128.0</td>\n      <td>0.0</td>\n      <td>17478.0</td>\n      <td>4.0</td>\n    </tr>\n    <tr>\n      <th>38</th>\n      <td>Aguiar da Beira</td>\n      <td>Baixa Tensão</td>\n      <td>2022</td>\n      <td>8</td>\n      <td>1175081.094</td>\n      <td>3782.0</td>\n      <td>92.0</td>\n      <td>1000.0</td>\n      <td>14.0</td>\n      <td>1895.0</td>\n      <td>1.0</td>\n    </tr>\n    <tr>\n      <th>39</th>\n      <td>Aguiar da Beira</td>\n      <td>Baixa Tensão</td>\n      <td>2022</td>\n      <td>9</td>\n      <td>1020159.556</td>\n      <td>3784.0</td>\n      <td>92.0</td>\n      <td>999.0</td>\n      <td>16.0</td>\n      <td>1916.0</td>\n      <td>1.0</td>\n    </tr>\n    <tr>\n      <th>40</th>\n      <td>Aguiar da Beira</td>\n      <td>Baixa Tensão</td>\n      <td>2022</td>\n      <td>10</td>\n      <td>1040276.601</td>\n      <td>3784.0</td>\n      <td>92.0</td>\n      <td>998.0</td>\n      <td>16.0</td>\n      <td>2096.0</td>\n      <td>1.0</td>\n    </tr>\n    <tr>\n      <th>41</th>\n      <td>Aguiar da Beira</td>\n      <td>Baixa Tensão</td>\n      <td>2022</td>\n      <td>11</td>\n      <td>1086080.294</td>\n      <td>3779.0</td>\n      <td>92.0</td>\n      <td>999.0</td>\n      <td>16.0</td>\n      <td>2488.0</td>\n      <td>1.0</td>\n    </tr>\n    <tr>\n      <th>42</th>\n      <td>Aguiar da Beira</td>\n      <td>Baixa Tensão</td>\n      <td>2022</td>\n      <td>12</td>\n      <td>1167576.322</td>\n      <td>3782.0</td>\n      <td>93.0</td>\n      <td>1001.0</td>\n      <td>16.0</td>\n      <td>2549.0</td>\n      <td>1.0</td>\n    </tr>\n    <tr>\n      <th>43</th>\n      <td>Aguiar da Beira</td>\n      <td>Baixa Tensão</td>\n      <td>2023</td>\n      <td>1</td>\n      <td>1178492.048</td>\n      <td>3788.0</td>\n      <td>95.0</td>\n      <td>998.0</td>\n      <td>15.0</td>\n      <td>2661.0</td>\n      <td>1.0</td>\n    </tr>\n    <tr>\n      <th>44</th>\n      <td>Aguiar da Beira</td>\n      <td>Baixa Tensão</td>\n      <td>2023</td>\n      <td>2</td>\n      <td>1016374.489</td>\n      <td>3793.0</td>\n      <td>95.0</td>\n      <td>996.0</td>\n      <td>15.0</td>\n      <td>2971.0</td>\n      <td>1.0</td>\n    </tr>\n    <tr>\n      <th>45</th>\n      <td>Aguiar da Beira</td>\n      <td>Baixa Tensão</td>\n      <td>2023</td>\n      <td>3</td>\n      <td>1062276.052</td>\n      <td>3794.0</td>\n      <td>95.0</td>\n      <td>997.0</td>\n      <td>14.0</td>\n      <td>2909.0</td>\n      <td>2.0</td>\n    </tr>\n    <tr>\n      <th>46</th>\n      <td>Aguiar da Beira</td>\n      <td>Baixa Tensão</td>\n      <td>2023</td>\n      <td>4</td>\n      <td>950221.976</td>\n      <td>3794.0</td>\n      <td>95.0</td>\n      <td>997.0</td>\n      <td>14.0</td>\n      <td>2995.0</td>\n      <td>2.0</td>\n    </tr>\n    <tr>\n      <th>47</th>\n      <td>Aguiar da Beira</td>\n      <td>Baixa Tensão</td>\n      <td>2023</td>\n      <td>5</td>\n      <td>967925.289</td>\n      <td>3794.0</td>\n      <td>95.0</td>\n      <td>997.0</td>\n      <td>14.0</td>\n      <td>2919.0</td>\n      <td>2.0</td>\n    </tr>\n    <tr>\n      <th>48</th>\n      <td>Aguiar da Beira</td>\n      <td>Baixa Tensão</td>\n      <td>2023</td>\n      <td>6</td>\n      <td>992994.146</td>\n      <td>3802.0</td>\n      <td>95.0</td>\n      <td>1007.0</td>\n      <td>13.0</td>\n      <td>3302.0</td>\n      <td>2.0</td>\n    </tr>\n    <tr>\n      <th>49</th>\n      <td>Aguiar da Beira</td>\n      <td>Baixa Tensão</td>\n      <td>2023</td>\n      <td>7</td>\n      <td>1146291.924</td>\n      <td>3806.0</td>\n      <td>95.0</td>\n      <td>1006.0</td>\n      <td>14.0</td>\n      <td>3490.0</td>\n      <td>2.0</td>\n    </tr>\n  </tbody>\n</table>\n</div>"
     },
     "execution_count": 9,
     "metadata": {},
     "output_type": "execute_result"
    }
   ],
   "execution_count": 9
  },
  {
   "cell_type": "markdown",
   "source": [
    "7. Renomear as colunas para remover espaços e transformar tudo em letras minúsculas"
   ],
   "metadata": {
    "collapsed": false
   },
   "id": "1f56108d79491382"
  },
  {
   "cell_type": "code",
   "source": [
    "# Renomear as colunas removendo espaços e convertendo para letras minúsculas\n",
    "merged_df.columns = merged_df.columns.str.strip().str.lower().str.replace(' ', '_')\n",
    "\n",
    "# Exibir as novas colunas\n",
    "merged_df.info()"
   ],
   "metadata": {
    "collapsed": false,
    "ExecuteTime": {
     "end_time": "2024-05-10T11:44:14.947699Z",
     "start_time": "2024-05-10T11:44:14.922235Z"
    }
   },
   "id": "1c33da349261bff1",
   "outputs": [
    {
     "name": "stdout",
     "output_type": "stream",
     "text": [
      "<class 'pandas.core.frame.DataFrame'>\n",
      "RangeIndex: 10334 entries, 0 to 10333\n",
      "Data columns (total 11 columns):\n",
      " #   Column                        Non-Null Count  Dtype  \n",
      "---  ------                        --------------  -----  \n",
      " 0   concelho                      10334 non-null  object \n",
      " 1   nivel_de_tensao               10334 non-null  object \n",
      " 2   ano                           10334 non-null  int64  \n",
      " 3   mes                           10334 non-null  int64  \n",
      " 4   energia_ativa_kwh             10334 non-null  float64\n",
      " 5   cpes_domestico                10334 non-null  float64\n",
      " 6   cpes_iluminacao_publica       10334 non-null  float64\n",
      " 7   cpes_nao_domestico            10334 non-null  float64\n",
      " 8   cpes_outros                   10334 non-null  float64\n",
      " 9   cpes_mobilidade_eletrica_nao  10334 non-null  float64\n",
      " 10  cpes_mobilidade_eletrica_sim  10334 non-null  float64\n",
      "dtypes: float64(7), int64(2), object(2)\n",
      "memory usage: 888.2+ KB\n"
     ]
    }
   ],
   "execution_count": 10
  },
  {
   "cell_type": "markdown",
   "source": [
    "8. Colocar os tipos de tensão numa linha.\n",
    "    - Criando duas colunas de energia ativa (um para baixa tensão e outro para alta)\n",
    "    - Criando duas colunas para CPEs_domestico (um para baixa tensao e outro para alta)\n",
    "    - Criando duas colunas para CPEs_iluminacao_publica (um para baixa tensao e outro para alta)\n",
    "    - Criando duas colunas para CPEs_nao domestico (um para baixa tensao e outro para alta)\n",
    "    - Criando duas colunas para CPEs_outros (um para baixa tensao e outro para alta)\n",
    "    - Renomear as colunas de mobilidade eletrica para baixa tensao, porque estes só correspondem a CPEs de baixa tensão"
   ],
   "metadata": {
    "collapsed": false
   },
   "id": "96848e1238d0eb93"
  },
  {
   "cell_type": "code",
   "source": [
    "merged_df['energia_ativa_kwh'] = merged_df['energia_ativa_kwh'].astype('int64')\n",
    "\n",
    "# Criar novas colunas para energia ativa e CPES de baixa e alta tensão, inicialmente com valor zero\n",
    "merged_df['energia_ativa_baixa_tensao_kwh'] = 0\n",
    "merged_df['energia_ativa_alta_tensao_kwh'] = 0\n",
    "merged_df['cpes_domestico_baixa_tensao'] = 0\n",
    "merged_df['cpes_domestico_alta_tensao'] = 0\n",
    "merged_df['cpes_iluminacao_publica_baixa_tensao'] = 0\n",
    "merged_df['cpes_iluminacao_publica_alta_tensao'] = 0\n",
    "merged_df['cpes_nao_domestico_baixa_tensao'] = 0\n",
    "merged_df['cpes_nao_domestico_alta_tensao'] = 0\n",
    "merged_df['cpes_outros_baixa_tensao'] = 0\n",
    "merged_df['cpes_outros_alta_tensao'] = 0\n",
    "\n",
    "# Filtrar os dados de alta tensão e baixa tensão\n",
    "baixa_tensao_mask = merged_df['nivel_de_tensao'].str.contains('Baixa Tensão')\n",
    "alta_tensao_mask = merged_df['nivel_de_tensao'].str.contains('Muito Alta, Alta e Média Tensões')\n",
    "\n",
    "# Atribuir os valores correspondentes de energia ativa e CPES às colunas apropriadas de baixa e alta tensão\n",
    "merged_df.loc[baixa_tensao_mask, 'energia_ativa_baixa_tensao_kwh'] = merged_df.loc[baixa_tensao_mask, 'energia_ativa_kwh']\n",
    "merged_df.loc[alta_tensao_mask, 'energia_ativa_alta_tensao_kwh'] = merged_df.loc[alta_tensao_mask, 'energia_ativa_kwh']\n",
    "\n",
    "merged_df.loc[baixa_tensao_mask, 'cpes_domestico_baixa_tensao'] = merged_df.loc[baixa_tensao_mask, 'cpes_domestico']\n",
    "merged_df.loc[alta_tensao_mask, 'cpes_domestico_alta_tensao'] = merged_df.loc[alta_tensao_mask, 'cpes_domestico']\n",
    "\n",
    "merged_df.loc[baixa_tensao_mask, 'cpes_iluminacao_publica_baixa_tensao'] = merged_df.loc[baixa_tensao_mask, 'cpes_iluminacao_publica']\n",
    "merged_df.loc[alta_tensao_mask, 'cpes_iluminacao_publica_alta_tensao'] = merged_df.loc[alta_tensao_mask, 'cpes_iluminacao_publica']\n",
    "\n",
    "merged_df.loc[baixa_tensao_mask, 'cpes_nao_domestico_baixa_tensao'] = merged_df.loc[baixa_tensao_mask, 'cpes_nao_domestico']\n",
    "merged_df.loc[alta_tensao_mask, 'cpes_nao_domestico_alta_tensao'] = merged_df.loc[alta_tensao_mask, 'cpes_nao_domestico']\n",
    "\n",
    "merged_df.loc[baixa_tensao_mask, 'cpes_outros_baixa_tensao'] = merged_df.loc[baixa_tensao_mask, 'cpes_outros']\n",
    "merged_df.loc[alta_tensao_mask, 'cpes_outros_alta_tensao'] = merged_df.loc[alta_tensao_mask, 'cpes_outros']\n",
    "\n",
    "merged_df['cpes_mobilidade_eletrica_nao_baixa_tensao'] = merged_df['cpes_mobilidade_eletrica_nao']\n",
    "merged_df['cpes_mobilidade_eletrica_sim_baixa_tensao'] = merged_df['cpes_mobilidade_eletrica_sim']\n",
    "\n",
    "merged_df['cpes_mobilidade_eletrica_nao_baixa_tensao'] = merged_df['cpes_mobilidade_eletrica_nao_baixa_tensao'].astype('int64')\n",
    "merged_df['cpes_mobilidade_eletrica_sim_baixa_tensao'] = merged_df['cpes_mobilidade_eletrica_sim_baixa_tensao'].astype('int64')\n",
    "\n",
    "# Excluir a coluna de tipo de tensão original\n",
    "merged_df.drop(columns=['nivel_de_tensao'], inplace=True)\n",
    "\n",
    "# Agrupar por ano e mês e somar os valores das colunas\n",
    "merged_df = merged_df.groupby(['concelho', 'ano', 'mes']).sum().reset_index()\n",
    "\n",
    "# Exibir os registros do DataFrame\n",
    "merged_df\n"
   ],
   "metadata": {
    "collapsed": false,
    "ExecuteTime": {
     "end_time": "2024-05-10T11:44:15.027998Z",
     "start_time": "2024-05-10T11:44:14.930674Z"
    }
   },
   "id": "58861a896e574e9f",
   "outputs": [
    {
     "data": {
      "text/plain": "      concelho   ano  mes  energia_ativa_kwh  cpes_domestico  \\\n0     Abrantes  2022    8           11800258         20260.0   \n1     Abrantes  2022    9           11478643         20270.0   \n2     Abrantes  2022   10           11791685         20280.0   \n3     Abrantes  2022   11           11806906         20291.0   \n4     Abrantes  2022   12           12052971         20297.0   \n...        ...   ...  ...                ...             ...   \n5182    Óbidos  2023   10            5946716          8550.0   \n5183    Óbidos  2023   11            5868395          8556.0   \n5184    Óbidos  2023   12            6731301          8576.0   \n5185    Óbidos  2024    1            6407400          8586.0   \n5186    Óbidos  2024    2            2143427          8587.0   \n\n      cpes_iluminacao_publica  cpes_nao_domestico  cpes_outros  \\\n0                       293.0              4452.0         83.0   \n1                       293.0              4445.0         81.0   \n2                       293.0              4436.0         81.0   \n3                       293.0              4442.0         80.0   \n4                       294.0              4446.0         82.0   \n...                       ...                 ...          ...   \n5182                    157.0              1730.0        107.0   \n5183                    157.0              1725.0        110.0   \n5184                    157.0              1726.0        107.0   \n5185                    157.0              1725.0        102.0   \n5186                    157.0              1726.0        105.0   \n\n      cpes_mobilidade_eletrica_nao  cpes_mobilidade_eletrica_sim  ...  \\\n0                          22194.0                           2.0  ...   \n1                          22596.0                           2.0  ...   \n2                          23126.0                           2.0  ...   \n3                          23938.0                           2.0  ...   \n4                          24420.0                           2.0  ...   \n...                            ...                           ...  ...   \n5182                       15234.0                           4.0  ...   \n5183                       15594.0                           4.0  ...   \n5184                       16382.0                           4.0  ...   \n5185                       16028.0                           4.0  ...   \n5186                       16118.0                           4.0  ...   \n\n      cpes_domestico_baixa_tensao  cpes_domestico_alta_tensao  \\\n0                           20260                           0   \n1                           20270                           0   \n2                           20280                           0   \n3                           20291                           0   \n4                           20297                           0   \n...                           ...                         ...   \n5182                         8550                           0   \n5183                         8556                           0   \n5184                         8576                           0   \n5185                         8586                           0   \n5186                         8587                           0   \n\n      cpes_iluminacao_publica_baixa_tensao  \\\n0                                      293   \n1                                      293   \n2                                      293   \n3                                      293   \n4                                      294   \n...                                    ...   \n5182                                   157   \n5183                                   157   \n5184                                   157   \n5185                                   157   \n5186                                   157   \n\n      cpes_iluminacao_publica_alta_tensao  cpes_nao_domestico_baixa_tensao  \\\n0                                       0                             4318   \n1                                       0                             4311   \n2                                       0                             4302   \n3                                       0                             4308   \n4                                       0                             4312   \n...                                   ...                              ...   \n5182                                    0                             1665   \n5183                                    0                             1659   \n5184                                    0                             1660   \n5185                                    0                             1659   \n5186                                    0                             1660   \n\n      cpes_nao_domestico_alta_tensao  cpes_outros_baixa_tensao  \\\n0                                134                        83   \n1                                134                        81   \n2                                134                        81   \n3                                134                        80   \n4                                134                        82   \n...                              ...                       ...   \n5182                              65                       107   \n5183                              66                       110   \n5184                              66                       107   \n5185                              66                       102   \n5186                              66                       105   \n\n      cpes_outros_alta_tensao  cpes_mobilidade_eletrica_nao_baixa_tensao  \\\n0                           0                                      22194   \n1                           0                                      22596   \n2                           0                                      23126   \n3                           0                                      23938   \n4                           0                                      24420   \n...                       ...                                        ...   \n5182                        0                                      15234   \n5183                        0                                      15594   \n5184                        0                                      16382   \n5185                        0                                      16028   \n5186                        0                                      16118   \n\n      cpes_mobilidade_eletrica_sim_baixa_tensao  \n0                                             2  \n1                                             2  \n2                                             2  \n3                                             2  \n4                                             2  \n...                                         ...  \n5182                                          4  \n5183                                          4  \n5184                                          4  \n5185                                          4  \n5186                                          4  \n\n[5187 rows x 22 columns]",
      "text/html": "<div>\n<style scoped>\n    .dataframe tbody tr th:only-of-type {\n        vertical-align: middle;\n    }\n\n    .dataframe tbody tr th {\n        vertical-align: top;\n    }\n\n    .dataframe thead th {\n        text-align: right;\n    }\n</style>\n<table border=\"1\" class=\"dataframe\">\n  <thead>\n    <tr style=\"text-align: right;\">\n      <th></th>\n      <th>concelho</th>\n      <th>ano</th>\n      <th>mes</th>\n      <th>energia_ativa_kwh</th>\n      <th>cpes_domestico</th>\n      <th>cpes_iluminacao_publica</th>\n      <th>cpes_nao_domestico</th>\n      <th>cpes_outros</th>\n      <th>cpes_mobilidade_eletrica_nao</th>\n      <th>cpes_mobilidade_eletrica_sim</th>\n      <th>...</th>\n      <th>cpes_domestico_baixa_tensao</th>\n      <th>cpes_domestico_alta_tensao</th>\n      <th>cpes_iluminacao_publica_baixa_tensao</th>\n      <th>cpes_iluminacao_publica_alta_tensao</th>\n      <th>cpes_nao_domestico_baixa_tensao</th>\n      <th>cpes_nao_domestico_alta_tensao</th>\n      <th>cpes_outros_baixa_tensao</th>\n      <th>cpes_outros_alta_tensao</th>\n      <th>cpes_mobilidade_eletrica_nao_baixa_tensao</th>\n      <th>cpes_mobilidade_eletrica_sim_baixa_tensao</th>\n    </tr>\n  </thead>\n  <tbody>\n    <tr>\n      <th>0</th>\n      <td>Abrantes</td>\n      <td>2022</td>\n      <td>8</td>\n      <td>11800258</td>\n      <td>20260.0</td>\n      <td>293.0</td>\n      <td>4452.0</td>\n      <td>83.0</td>\n      <td>22194.0</td>\n      <td>2.0</td>\n      <td>...</td>\n      <td>20260</td>\n      <td>0</td>\n      <td>293</td>\n      <td>0</td>\n      <td>4318</td>\n      <td>134</td>\n      <td>83</td>\n      <td>0</td>\n      <td>22194</td>\n      <td>2</td>\n    </tr>\n    <tr>\n      <th>1</th>\n      <td>Abrantes</td>\n      <td>2022</td>\n      <td>9</td>\n      <td>11478643</td>\n      <td>20270.0</td>\n      <td>293.0</td>\n      <td>4445.0</td>\n      <td>81.0</td>\n      <td>22596.0</td>\n      <td>2.0</td>\n      <td>...</td>\n      <td>20270</td>\n      <td>0</td>\n      <td>293</td>\n      <td>0</td>\n      <td>4311</td>\n      <td>134</td>\n      <td>81</td>\n      <td>0</td>\n      <td>22596</td>\n      <td>2</td>\n    </tr>\n    <tr>\n      <th>2</th>\n      <td>Abrantes</td>\n      <td>2022</td>\n      <td>10</td>\n      <td>11791685</td>\n      <td>20280.0</td>\n      <td>293.0</td>\n      <td>4436.0</td>\n      <td>81.0</td>\n      <td>23126.0</td>\n      <td>2.0</td>\n      <td>...</td>\n      <td>20280</td>\n      <td>0</td>\n      <td>293</td>\n      <td>0</td>\n      <td>4302</td>\n      <td>134</td>\n      <td>81</td>\n      <td>0</td>\n      <td>23126</td>\n      <td>2</td>\n    </tr>\n    <tr>\n      <th>3</th>\n      <td>Abrantes</td>\n      <td>2022</td>\n      <td>11</td>\n      <td>11806906</td>\n      <td>20291.0</td>\n      <td>293.0</td>\n      <td>4442.0</td>\n      <td>80.0</td>\n      <td>23938.0</td>\n      <td>2.0</td>\n      <td>...</td>\n      <td>20291</td>\n      <td>0</td>\n      <td>293</td>\n      <td>0</td>\n      <td>4308</td>\n      <td>134</td>\n      <td>80</td>\n      <td>0</td>\n      <td>23938</td>\n      <td>2</td>\n    </tr>\n    <tr>\n      <th>4</th>\n      <td>Abrantes</td>\n      <td>2022</td>\n      <td>12</td>\n      <td>12052971</td>\n      <td>20297.0</td>\n      <td>294.0</td>\n      <td>4446.0</td>\n      <td>82.0</td>\n      <td>24420.0</td>\n      <td>2.0</td>\n      <td>...</td>\n      <td>20297</td>\n      <td>0</td>\n      <td>294</td>\n      <td>0</td>\n      <td>4312</td>\n      <td>134</td>\n      <td>82</td>\n      <td>0</td>\n      <td>24420</td>\n      <td>2</td>\n    </tr>\n    <tr>\n      <th>...</th>\n      <td>...</td>\n      <td>...</td>\n      <td>...</td>\n      <td>...</td>\n      <td>...</td>\n      <td>...</td>\n      <td>...</td>\n      <td>...</td>\n      <td>...</td>\n      <td>...</td>\n      <td>...</td>\n      <td>...</td>\n      <td>...</td>\n      <td>...</td>\n      <td>...</td>\n      <td>...</td>\n      <td>...</td>\n      <td>...</td>\n      <td>...</td>\n      <td>...</td>\n      <td>...</td>\n    </tr>\n    <tr>\n      <th>5182</th>\n      <td>Óbidos</td>\n      <td>2023</td>\n      <td>10</td>\n      <td>5946716</td>\n      <td>8550.0</td>\n      <td>157.0</td>\n      <td>1730.0</td>\n      <td>107.0</td>\n      <td>15234.0</td>\n      <td>4.0</td>\n      <td>...</td>\n      <td>8550</td>\n      <td>0</td>\n      <td>157</td>\n      <td>0</td>\n      <td>1665</td>\n      <td>65</td>\n      <td>107</td>\n      <td>0</td>\n      <td>15234</td>\n      <td>4</td>\n    </tr>\n    <tr>\n      <th>5183</th>\n      <td>Óbidos</td>\n      <td>2023</td>\n      <td>11</td>\n      <td>5868395</td>\n      <td>8556.0</td>\n      <td>157.0</td>\n      <td>1725.0</td>\n      <td>110.0</td>\n      <td>15594.0</td>\n      <td>4.0</td>\n      <td>...</td>\n      <td>8556</td>\n      <td>0</td>\n      <td>157</td>\n      <td>0</td>\n      <td>1659</td>\n      <td>66</td>\n      <td>110</td>\n      <td>0</td>\n      <td>15594</td>\n      <td>4</td>\n    </tr>\n    <tr>\n      <th>5184</th>\n      <td>Óbidos</td>\n      <td>2023</td>\n      <td>12</td>\n      <td>6731301</td>\n      <td>8576.0</td>\n      <td>157.0</td>\n      <td>1726.0</td>\n      <td>107.0</td>\n      <td>16382.0</td>\n      <td>4.0</td>\n      <td>...</td>\n      <td>8576</td>\n      <td>0</td>\n      <td>157</td>\n      <td>0</td>\n      <td>1660</td>\n      <td>66</td>\n      <td>107</td>\n      <td>0</td>\n      <td>16382</td>\n      <td>4</td>\n    </tr>\n    <tr>\n      <th>5185</th>\n      <td>Óbidos</td>\n      <td>2024</td>\n      <td>1</td>\n      <td>6407400</td>\n      <td>8586.0</td>\n      <td>157.0</td>\n      <td>1725.0</td>\n      <td>102.0</td>\n      <td>16028.0</td>\n      <td>4.0</td>\n      <td>...</td>\n      <td>8586</td>\n      <td>0</td>\n      <td>157</td>\n      <td>0</td>\n      <td>1659</td>\n      <td>66</td>\n      <td>102</td>\n      <td>0</td>\n      <td>16028</td>\n      <td>4</td>\n    </tr>\n    <tr>\n      <th>5186</th>\n      <td>Óbidos</td>\n      <td>2024</td>\n      <td>2</td>\n      <td>2143427</td>\n      <td>8587.0</td>\n      <td>157.0</td>\n      <td>1726.0</td>\n      <td>105.0</td>\n      <td>16118.0</td>\n      <td>4.0</td>\n      <td>...</td>\n      <td>8587</td>\n      <td>0</td>\n      <td>157</td>\n      <td>0</td>\n      <td>1660</td>\n      <td>66</td>\n      <td>105</td>\n      <td>0</td>\n      <td>16118</td>\n      <td>4</td>\n    </tr>\n  </tbody>\n</table>\n<p>5187 rows × 22 columns</p>\n</div>"
     },
     "execution_count": 11,
     "metadata": {},
     "output_type": "execute_result"
    }
   ],
   "execution_count": 11
  },
  {
   "cell_type": "markdown",
   "source": [
    "9. Remover as colunas antigas"
   ],
   "metadata": {
    "collapsed": false
   },
   "id": "7f054ab301e32a48"
  },
  {
   "cell_type": "code",
   "source": [
    "# Drop das colunas originais\n",
    "merged_df.drop(columns=['energia_ativa_kwh', 'cpes_domestico', 'cpes_iluminacao_publica', 'cpes_nao_domestico', 'cpes_outros', 'cpes_mobilidade_eletrica_nao', 'cpes_mobilidade_eletrica_sim'], inplace=True)\n",
    "\n",
    "merged_df.info()\n",
    "\n",
    "file_path = data_path + 'treated/merged-dataset-concelho.csv'\n",
    "\n",
    "merged_df.to_csv(file_path, index=False)\n",
    "\n",
    "print(\"DataFrame guardado em \", file_path)"
   ],
   "metadata": {
    "collapsed": false,
    "ExecuteTime": {
     "end_time": "2024-05-10T11:44:15.028468Z",
     "start_time": "2024-05-10T11:44:14.952849Z"
    }
   },
   "id": "e723c751dd4a6588",
   "outputs": [
    {
     "name": "stdout",
     "output_type": "stream",
     "text": [
      "<class 'pandas.core.frame.DataFrame'>\n",
      "RangeIndex: 5187 entries, 0 to 5186\n",
      "Data columns (total 15 columns):\n",
      " #   Column                                     Non-Null Count  Dtype \n",
      "---  ------                                     --------------  ----- \n",
      " 0   concelho                                   5187 non-null   object\n",
      " 1   ano                                        5187 non-null   int64 \n",
      " 2   mes                                        5187 non-null   int64 \n",
      " 3   energia_ativa_baixa_tensao_kwh             5187 non-null   int64 \n",
      " 4   energia_ativa_alta_tensao_kwh              5187 non-null   int64 \n",
      " 5   cpes_domestico_baixa_tensao                5187 non-null   int64 \n",
      " 6   cpes_domestico_alta_tensao                 5187 non-null   int64 \n",
      " 7   cpes_iluminacao_publica_baixa_tensao       5187 non-null   int64 \n",
      " 8   cpes_iluminacao_publica_alta_tensao        5187 non-null   int64 \n",
      " 9   cpes_nao_domestico_baixa_tensao            5187 non-null   int64 \n",
      " 10  cpes_nao_domestico_alta_tensao             5187 non-null   int64 \n",
      " 11  cpes_outros_baixa_tensao                   5187 non-null   int64 \n",
      " 12  cpes_outros_alta_tensao                    5187 non-null   int64 \n",
      " 13  cpes_mobilidade_eletrica_nao_baixa_tensao  5187 non-null   int64 \n",
      " 14  cpes_mobilidade_eletrica_sim_baixa_tensao  5187 non-null   int64 \n",
      "dtypes: int64(14), object(1)\n",
      "memory usage: 608.0+ KB\n",
      "DataFrame guardado em  ../data/treated/merged-dataset-concelho.csv\n"
     ]
    }
   ],
   "execution_count": 12
  },
  {
   "cell_type": "markdown",
   "source": [
    "10. Remover a coluna do concelho porque não pode fazer parte das variáveis informativas. Só serve para agregar os dados"
   ],
   "metadata": {
    "collapsed": false
   },
   "id": "7e79fa363ddf3323"
  },
  {
   "cell_type": "code",
   "source": [
    "merged_df.drop(columns=['concelho'], inplace=True)"
   ],
   "metadata": {
    "collapsed": false,
    "ExecuteTime": {
     "end_time": "2024-05-10T11:44:15.028719Z",
     "start_time": "2024-05-10T11:44:14.968892Z"
    }
   },
   "id": "9ba2af2a9da78a44",
   "outputs": [],
   "execution_count": 13
  },
  {
   "cell_type": "markdown",
   "source": [
    "11. Guardar ficheiro para verificar se está tudo certo"
   ],
   "metadata": {
    "collapsed": false
   },
   "id": "5ddabd239c6258e9"
  },
  {
   "cell_type": "code",
   "source": [
    "# Verificar nulls\n",
    "null_counts = merged_df.isnull().sum()\n",
    "\n",
    "# Ver nulls por coluna\n",
    "print(\"Número de nulls por coluna:\")\n",
    "print(null_counts)\n",
    "\n",
    "file_path = data_path + 'treated/merged-dataset.csv'\n",
    "\n",
    "merged_df.to_csv(file_path, index=False)\n",
    "\n",
    "print(\"DataFrame guardado em \", file_path)"
   ],
   "metadata": {
    "collapsed": false,
    "ExecuteTime": {
     "end_time": "2024-05-10T11:44:15.066938Z",
     "start_time": "2024-05-10T11:44:14.972619Z"
    }
   },
   "id": "367c74a59115e94e",
   "outputs": [
    {
     "name": "stdout",
     "output_type": "stream",
     "text": [
      "Número de nulls por coluna:\n",
      "ano                                          0\n",
      "mes                                          0\n",
      "energia_ativa_baixa_tensao_kwh               0\n",
      "energia_ativa_alta_tensao_kwh                0\n",
      "cpes_domestico_baixa_tensao                  0\n",
      "cpes_domestico_alta_tensao                   0\n",
      "cpes_iluminacao_publica_baixa_tensao         0\n",
      "cpes_iluminacao_publica_alta_tensao          0\n",
      "cpes_nao_domestico_baixa_tensao              0\n",
      "cpes_nao_domestico_alta_tensao               0\n",
      "cpes_outros_baixa_tensao                     0\n",
      "cpes_outros_alta_tensao                      0\n",
      "cpes_mobilidade_eletrica_nao_baixa_tensao    0\n",
      "cpes_mobilidade_eletrica_sim_baixa_tensao    0\n",
      "dtype: int64\n",
      "DataFrame guardado em  ../data/treated/merged-dataset.csv\n"
     ]
    }
   ],
   "execution_count": 14
  }
 ],
 "metadata": {
  "kernelspec": {
   "display_name": "Python 3",
   "language": "python",
   "name": "python3"
  },
  "language_info": {
   "codemirror_mode": {
    "name": "ipython",
    "version": 2
   },
   "file_extension": ".py",
   "mimetype": "text/x-python",
   "name": "python",
   "nbconvert_exporter": "python",
   "pygments_lexer": "ipython2",
   "version": "2.7.6"
  }
 },
 "nbformat": 4,
 "nbformat_minor": 5
}
