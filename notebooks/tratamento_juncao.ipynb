{
 "cells": [
  {
   "cell_type": "markdown",
   "source": [
    "### Import das dependencias"
   ],
   "metadata": {
    "collapsed": false
   },
   "id": "efcc4b5c578b4079"
  },
  {
   "cell_type": "code",
   "outputs": [],
   "source": [
    "import os\n",
    "\n",
    "import numpy as np\n",
    "import pandas as pd\n",
    "\n",
    "%matplotlib inline\n",
    "import matplotlib.pyplot as plt\n",
    "import seaborn as sns\n",
    "\n",
    "sns.set_theme()"
   ],
   "metadata": {
    "collapsed": false,
    "ExecuteTime": {
     "end_time": "2024-04-18T15:14:04.062025Z",
     "start_time": "2024-04-18T15:14:04.056076Z"
    }
   },
   "id": "f5ec9a1ea709c083",
   "execution_count": 1
  },
  {
   "cell_type": "markdown",
   "source": [
    "### 1. Importar todos os datasets tratados"
   ],
   "metadata": {
    "collapsed": false
   },
   "id": "51bd4d1097fb7c24"
  },
  {
   "cell_type": "code",
   "outputs": [],
   "source": [
    "data_path = '../data/' if os.path.exists('../data/') else 'https://raw.githubusercontent.com/kreativermario/Projeto-DECD/master/data/'\n",
    "\n",
    "consumos_faturados_path = data_path + 'treated/consumos_faturados_por_municipio_10_anos.csv'\n",
    "caracterizacao_cpe_path = data_path + 'treated/caracterizacao-pes-contrato-ativo.csv'\n",
    "diagrama_carga_path = data_path + 'treated/diagrama_de_carga_por_mes.csv'\n",
    "\n",
    "df_consumos_faturados = pd.read_csv(consumos_faturados_path)\n",
    "df_caracterizacao_cpe = pd.read_csv(caracterizacao_cpe_path)\n",
    "df_diagrama_carga = pd.read_csv(diagrama_carga_path)"
   ],
   "metadata": {
    "collapsed": false,
    "ExecuteTime": {
     "end_time": "2024-04-18T15:14:04.097283Z",
     "start_time": "2024-04-18T15:14:04.063084Z"
    }
   },
   "id": "20788c7075242c0f",
   "execution_count": 2
  },
  {
   "cell_type": "markdown",
   "source": [
    "### 2. Juntar os datasets\n",
    "\n",
    "- 1. Primeiro juntar consumos faturados e caracterizacao cpe\n",
    "    - A coleção de caracterizacao CPE tem uma categorização de nível de tensão diferente da coleção consumos faturados\n",
    "        - Separando a \"Baixa Tensão\" em duas \"Baixa Tensão Normal\" e \"Baixa Tensão Especial\"\n",
    "        - Temos então de tratar da coleção caracterizacao_cpe primeiro para tornar esses dois tipos num único tipo \"Baixa Tensão\"\\\n",
    "        - Criar colunas para cada tipo de instalação e depois somar os CPEs de acordo\n",
    "    - Após esse tratamento, pode-se proceder à junção \n",
    "- 2. Segundo juntar com a coleção de diagramas de carga.\n",
    "    - Criar colunas para Mobilidade Elétrica Sim ou Mobilidade Elétrica Não e depois somar os CPEs de acordo"
   ],
   "metadata": {
    "collapsed": false
   },
   "id": "ec6d78242c2d1319"
  },
  {
   "cell_type": "markdown",
   "source": [
    "Ver os valores possíveis de Nível de Tensão da coleção caracterizacao de cpe"
   ],
   "metadata": {
    "collapsed": false
   },
   "id": "59daf3a5943d4f01"
  },
  {
   "cell_type": "code",
   "outputs": [
    {
     "data": {
      "text/plain": "array(['Baixa Tensão Especial', 'Baixa Tensão Normal',\n       'Muito Alta, Alta e Média Tensões'], dtype=object)"
     },
     "execution_count": 3,
     "metadata": {},
     "output_type": "execute_result"
    }
   ],
   "source": [
    "df_caracterizacao_cpe['Nível de Tensão'].unique()"
   ],
   "metadata": {
    "collapsed": false,
    "ExecuteTime": {
     "end_time": "2024-04-18T15:14:04.106704Z",
     "start_time": "2024-04-18T15:14:04.099711Z"
    }
   },
   "id": "2bb7ba412bce7a2e",
   "execution_count": 3
  },
  {
   "cell_type": "markdown",
   "source": [
    "1. Tratamento coleção caracterizacao CPE"
   ],
   "metadata": {
    "collapsed": false
   },
   "id": "93ddee248f410726"
  },
  {
   "cell_type": "code",
   "outputs": [
    {
     "data": {
      "text/plain": "array(['Baixa Tensão', 'Muito Alta, Alta e Média Tensões'], dtype=object)"
     },
     "execution_count": 4,
     "metadata": {},
     "output_type": "execute_result"
    }
   ],
   "source": [
    "# Substituir valores de nível de tensão\n",
    "df_caracterizacao_cpe['Nível de Tensão'] = df_caracterizacao_cpe['Nível de Tensão'].replace({'Baixa Tensão Normal': 'Baixa Tensão', 'Baixa Tensão Especial': 'Baixa Tensão'})\n",
    "\n",
    "df_caracterizacao_cpe['Nível de Tensão'].unique()"
   ],
   "metadata": {
    "collapsed": false,
    "ExecuteTime": {
     "end_time": "2024-04-18T15:14:04.114924Z",
     "start_time": "2024-04-18T15:14:04.105154Z"
    }
   },
   "id": "c6853b8ba5bf2c08",
   "execution_count": 4
  },
  {
   "cell_type": "markdown",
   "source": [
    "2. Agrupar os valores de contagens de CPEs com a nova categoria \"Baixa Tensão\""
   ],
   "metadata": {
    "collapsed": false
   },
   "id": "bbf1506bf950f1e6"
  },
  {
   "cell_type": "code",
   "outputs": [
    {
     "data": {
      "text/plain": "   Concelho Nível de Tensão   Ano  Mês  CPEs_Doméstico  \\\n0  Abrantes    Baixa Tensão  2022    3         20283.0   \n1  Abrantes    Baixa Tensão  2022    4         20267.0   \n2  Abrantes    Baixa Tensão  2022    5         20254.0   \n3  Abrantes    Baixa Tensão  2022    6         20259.0   \n4  Abrantes    Baixa Tensão  2022    7         20250.0   \n\n   CPEs_Iluminação Pública  CPEs_Não Doméstico  CPEs_Outros  \n0                    293.0              4334.0         83.0  \n1                    293.0              4337.0         83.0  \n2                    293.0              4324.0         82.0  \n3                    293.0              4327.0         82.0  \n4                    293.0              4320.0         83.0  ",
      "text/html": "<div>\n<style scoped>\n    .dataframe tbody tr th:only-of-type {\n        vertical-align: middle;\n    }\n\n    .dataframe tbody tr th {\n        vertical-align: top;\n    }\n\n    .dataframe thead th {\n        text-align: right;\n    }\n</style>\n<table border=\"1\" class=\"dataframe\">\n  <thead>\n    <tr style=\"text-align: right;\">\n      <th></th>\n      <th>Concelho</th>\n      <th>Nível de Tensão</th>\n      <th>Ano</th>\n      <th>Mês</th>\n      <th>CPEs_Doméstico</th>\n      <th>CPEs_Iluminação Pública</th>\n      <th>CPEs_Não Doméstico</th>\n      <th>CPEs_Outros</th>\n    </tr>\n  </thead>\n  <tbody>\n    <tr>\n      <th>0</th>\n      <td>Abrantes</td>\n      <td>Baixa Tensão</td>\n      <td>2022</td>\n      <td>3</td>\n      <td>20283.0</td>\n      <td>293.0</td>\n      <td>4334.0</td>\n      <td>83.0</td>\n    </tr>\n    <tr>\n      <th>1</th>\n      <td>Abrantes</td>\n      <td>Baixa Tensão</td>\n      <td>2022</td>\n      <td>4</td>\n      <td>20267.0</td>\n      <td>293.0</td>\n      <td>4337.0</td>\n      <td>83.0</td>\n    </tr>\n    <tr>\n      <th>2</th>\n      <td>Abrantes</td>\n      <td>Baixa Tensão</td>\n      <td>2022</td>\n      <td>5</td>\n      <td>20254.0</td>\n      <td>293.0</td>\n      <td>4324.0</td>\n      <td>82.0</td>\n    </tr>\n    <tr>\n      <th>3</th>\n      <td>Abrantes</td>\n      <td>Baixa Tensão</td>\n      <td>2022</td>\n      <td>6</td>\n      <td>20259.0</td>\n      <td>293.0</td>\n      <td>4327.0</td>\n      <td>82.0</td>\n    </tr>\n    <tr>\n      <th>4</th>\n      <td>Abrantes</td>\n      <td>Baixa Tensão</td>\n      <td>2022</td>\n      <td>7</td>\n      <td>20250.0</td>\n      <td>293.0</td>\n      <td>4320.0</td>\n      <td>83.0</td>\n    </tr>\n  </tbody>\n</table>\n</div>"
     },
     "execution_count": 5,
     "metadata": {},
     "output_type": "execute_result"
    }
   ],
   "source": [
    "# Criar colunas para cada 'Tipo de Instalação' e somar 'CPEs (#)'\n",
    "df_caracterizacao_cpe_grouped = df_caracterizacao_cpe.pivot_table(index=['Concelho', 'Nível de Tensão', 'Ano', 'Mês'], \n",
    "                                               columns='Tipo de Instalação', \n",
    "                                               values='CPEs (#)', \n",
    "                                               aggfunc='sum').reset_index()\n",
    "\n",
    "# Preencher valores vazios com 0\n",
    "df_caracterizacao_cpe_grouped.fillna(0, inplace=True)\n",
    "\n",
    "# Renomear as colunas\n",
    "df_caracterizacao_cpe_grouped.columns.name = None\n",
    "df_caracterizacao_cpe_grouped.columns = [col if col in ['Concelho', 'Nível de Tensão', 'Ano', 'Mês'] else f\"CPEs_{col}\" for col in df_caracterizacao_cpe_grouped.columns]\n",
    "\n",
    "df_caracterizacao_cpe_grouped.head()"
   ],
   "metadata": {
    "collapsed": false,
    "ExecuteTime": {
     "end_time": "2024-04-18T15:14:04.136561Z",
     "start_time": "2024-04-18T15:14:04.114949Z"
    }
   },
   "id": "b32dbea69b717904",
   "execution_count": 5
  },
  {
   "cell_type": "markdown",
   "source": [
    "3. Guardar ficheiro para verificar se está tudo certo"
   ],
   "metadata": {
    "collapsed": false
   },
   "id": "aee514ff0c84b"
  },
  {
   "cell_type": "code",
   "outputs": [
    {
     "name": "stdout",
     "output_type": "stream",
     "text": [
      "DataFrame guardado em  ../data/treated/caracterizacao-pes-contrato-ativo-agrupado.csv\n"
     ]
    }
   ],
   "source": [
    "file_path = data_path + 'treated/caracterizacao-pes-contrato-ativo-agrupado.csv'\n",
    "\n",
    "df_caracterizacao_cpe_grouped.to_csv(file_path, index=False)\n",
    "\n",
    "print(\"DataFrame guardado em \", file_path)"
   ],
   "metadata": {
    "collapsed": false,
    "ExecuteTime": {
     "end_time": "2024-04-18T15:14:04.174950Z",
     "start_time": "2024-04-18T15:14:04.134254Z"
    }
   },
   "id": "fc3e05800de9969a",
   "execution_count": 6
  },
  {
   "cell_type": "markdown",
   "source": [
    "4. Junção das coleçoes consumos faturados e caracterizacao cpe"
   ],
   "metadata": {
    "collapsed": false
   },
   "id": "1f8abd29535a22e8"
  },
  {
   "cell_type": "code",
   "outputs": [
    {
     "name": "stdout",
     "output_type": "stream",
     "text": [
      "Número de nulls por coluna:\n",
      "Concelho                   0\n",
      "Nível de Tensão            0\n",
      "Ano                        0\n",
      "Mês                        0\n",
      "Energia Ativa (kWh)        0\n",
      "CPEs_Doméstico             0\n",
      "CPEs_Iluminação Pública    0\n",
      "CPEs_Não Doméstico         0\n",
      "CPEs_Outros                0\n",
      "dtype: int64\n",
      "<class 'pandas.core.frame.DataFrame'>\n",
      "RangeIndex: 12740 entries, 0 to 12739\n",
      "Data columns (total 9 columns):\n",
      " #   Column                   Non-Null Count  Dtype  \n",
      "---  ------                   --------------  -----  \n",
      " 0   Concelho                 12740 non-null  object \n",
      " 1   Nível de Tensão          12740 non-null  object \n",
      " 2   Ano                      12740 non-null  int64  \n",
      " 3   Mês                      12740 non-null  int64  \n",
      " 4   Energia Ativa (kWh)      12740 non-null  float64\n",
      " 5   CPEs_Doméstico           12740 non-null  float64\n",
      " 6   CPEs_Iluminação Pública  12740 non-null  float64\n",
      " 7   CPEs_Não Doméstico       12740 non-null  float64\n",
      " 8   CPEs_Outros              12740 non-null  float64\n",
      "dtypes: float64(5), int64(2), object(2)\n",
      "memory usage: 895.9+ KB\n"
     ]
    },
    {
     "data": {
      "text/plain": "           Concelho                   Nível de Tensão   Ano  Mês  \\\n0          Abrantes                      Baixa Tensão  2022    3   \n1          Abrantes                      Baixa Tensão  2022    4   \n2          Abrantes                      Baixa Tensão  2022    5   \n3          Abrantes                      Baixa Tensão  2022    6   \n4          Abrantes                      Baixa Tensão  2022    7   \n5          Abrantes                      Baixa Tensão  2022    8   \n6          Abrantes                      Baixa Tensão  2022    9   \n7          Abrantes                      Baixa Tensão  2022   10   \n8          Abrantes                      Baixa Tensão  2022   11   \n9          Abrantes                      Baixa Tensão  2022   12   \n10         Abrantes                      Baixa Tensão  2023    1   \n11         Abrantes                      Baixa Tensão  2023    2   \n12         Abrantes                      Baixa Tensão  2023    3   \n13         Abrantes                      Baixa Tensão  2023    4   \n14         Abrantes                      Baixa Tensão  2023    5   \n15         Abrantes                      Baixa Tensão  2023    6   \n16         Abrantes                      Baixa Tensão  2023    7   \n17         Abrantes                      Baixa Tensão  2023    8   \n18         Abrantes                      Baixa Tensão  2023    9   \n19         Abrantes                      Baixa Tensão  2023   10   \n20         Abrantes                      Baixa Tensão  2023   11   \n21         Abrantes                      Baixa Tensão  2023   12   \n22         Abrantes                      Baixa Tensão  2024    1   \n23         Abrantes  Muito Alta, Alta e Média Tensões  2022    3   \n24         Abrantes  Muito Alta, Alta e Média Tensões  2022    4   \n25         Abrantes  Muito Alta, Alta e Média Tensões  2022    5   \n26         Abrantes  Muito Alta, Alta e Média Tensões  2022    6   \n27         Abrantes  Muito Alta, Alta e Média Tensões  2022    7   \n28         Abrantes  Muito Alta, Alta e Média Tensões  2022    8   \n29         Abrantes  Muito Alta, Alta e Média Tensões  2022    9   \n30         Abrantes  Muito Alta, Alta e Média Tensões  2022   10   \n31         Abrantes  Muito Alta, Alta e Média Tensões  2022   11   \n32         Abrantes  Muito Alta, Alta e Média Tensões  2022   12   \n33         Abrantes  Muito Alta, Alta e Média Tensões  2023    1   \n34         Abrantes  Muito Alta, Alta e Média Tensões  2023    2   \n35         Abrantes  Muito Alta, Alta e Média Tensões  2023    3   \n36         Abrantes  Muito Alta, Alta e Média Tensões  2023    4   \n37         Abrantes  Muito Alta, Alta e Média Tensões  2023    5   \n38         Abrantes  Muito Alta, Alta e Média Tensões  2023    6   \n39         Abrantes  Muito Alta, Alta e Média Tensões  2023    7   \n40         Abrantes  Muito Alta, Alta e Média Tensões  2023    8   \n41         Abrantes  Muito Alta, Alta e Média Tensões  2023    9   \n42         Abrantes  Muito Alta, Alta e Média Tensões  2023   10   \n43         Abrantes  Muito Alta, Alta e Média Tensões  2023   11   \n44         Abrantes  Muito Alta, Alta e Média Tensões  2023   12   \n45         Abrantes  Muito Alta, Alta e Média Tensões  2024    1   \n46  Aguiar da Beira                      Baixa Tensão  2022    3   \n47  Aguiar da Beira                      Baixa Tensão  2022    4   \n48  Aguiar da Beira                      Baixa Tensão  2022    5   \n49  Aguiar da Beira                      Baixa Tensão  2022    6   \n\n    Energia Ativa (kWh)  CPEs_Doméstico  CPEs_Iluminação Pública  \\\n0           6375824.308         20283.0                    293.0   \n1           5560992.246         20267.0                    293.0   \n2           5480833.643         20254.0                    293.0   \n3           5420579.537         20259.0                    293.0   \n4           6227622.409         20250.0                    293.0   \n5           5906036.429         20260.0                    293.0   \n6           5316878.736         20270.0                    293.0   \n7           5428732.778         20280.0                    293.0   \n8           5843266.356         20291.0                    293.0   \n9           6778130.292         20297.0                    294.0   \n10          7369772.117         20298.0                    294.0   \n11          6507806.283         20288.0                    294.0   \n12          6077229.553         20280.0                    294.0   \n13          5174260.623         20280.0                    294.0   \n14          5241076.429         20280.0                    294.0   \n15          5390736.995         20329.0                    295.0   \n16          5893487.903         20344.0                    295.0   \n17          5988657.814         20344.0                    296.0   \n18          5375821.043         20344.0                    296.0   \n19          5648442.877         20372.0                    296.0   \n20          6175214.371         20382.0                    296.0   \n21          7689317.798         20379.0                    296.0   \n22          3469066.000         20372.0                    296.0   \n23          7157802.917             0.0                      0.0   \n24          6312850.260             0.0                      0.0   \n25          6320147.247             0.0                      0.0   \n26          5788702.612             0.0                      0.0   \n27          6487342.101             0.0                      0.0   \n28          5891542.227             0.0                      0.0   \n29          6159115.706             0.0                      0.0   \n30          6360625.206             0.0                      0.0   \n31          5961164.626             0.0                      0.0   \n32          5272178.134             0.0                      0.0   \n33          6615131.802             0.0                      0.0   \n34          5674410.040             0.0                      0.0   \n35          6187526.764             0.0                      0.0   \n36          5652034.043             0.0                      0.0   \n37          5924078.599             0.0                      0.0   \n38          5252440.752             0.0                      0.0   \n39          5906508.826             0.0                      0.0   \n40          5357597.886             0.0                      0.0   \n41          5680322.620             0.0                      0.0   \n42          6098404.032             0.0                      0.0   \n43          6292809.727             0.0                      0.0   \n44          5732598.909             0.0                      0.0   \n45          2353635.000             0.0                      0.0   \n46          1071914.806          3799.0                     91.0   \n47          1006463.855          3791.0                     91.0   \n48           988381.532          3785.0                     91.0   \n49          1004952.128          3779.0                     91.0   \n\n    CPEs_Não Doméstico  CPEs_Outros  \n0               4334.0         83.0  \n1               4337.0         83.0  \n2               4324.0         82.0  \n3               4327.0         82.0  \n4               4320.0         83.0  \n5               4318.0         83.0  \n6               4311.0         81.0  \n7               4302.0         81.0  \n8               4308.0         80.0  \n9               4312.0         82.0  \n10              4309.0         82.0  \n11              4310.0        113.0  \n12              4316.0         75.0  \n13              4316.0         75.0  \n14              4316.0         75.0  \n15              4346.0         77.0  \n16              4341.0         73.0  \n17              4338.0         72.0  \n18              4344.0         70.0  \n19              4351.0         69.0  \n20              4348.0         69.0  \n21              4354.0         68.0  \n22              4350.0         68.0  \n23               133.0          0.0  \n24               133.0          0.0  \n25               133.0          0.0  \n26               134.0          0.0  \n27               134.0          0.0  \n28               134.0          0.0  \n29               134.0          0.0  \n30               134.0          0.0  \n31               134.0          0.0  \n32               134.0          0.0  \n33               132.0          0.0  \n34               132.0          0.0  \n35               132.0          0.0  \n36               132.0          0.0  \n37               132.0          0.0  \n38               133.0          0.0  \n39               133.0          0.0  \n40               132.0          0.0  \n41               132.0          0.0  \n42               131.0          0.0  \n43               131.0          0.0  \n44               130.0          0.0  \n45               129.0          0.0  \n46               993.0         20.0  \n47               993.0         21.0  \n48               996.0         21.0  \n49               999.0         19.0  ",
      "text/html": "<div>\n<style scoped>\n    .dataframe tbody tr th:only-of-type {\n        vertical-align: middle;\n    }\n\n    .dataframe tbody tr th {\n        vertical-align: top;\n    }\n\n    .dataframe thead th {\n        text-align: right;\n    }\n</style>\n<table border=\"1\" class=\"dataframe\">\n  <thead>\n    <tr style=\"text-align: right;\">\n      <th></th>\n      <th>Concelho</th>\n      <th>Nível de Tensão</th>\n      <th>Ano</th>\n      <th>Mês</th>\n      <th>Energia Ativa (kWh)</th>\n      <th>CPEs_Doméstico</th>\n      <th>CPEs_Iluminação Pública</th>\n      <th>CPEs_Não Doméstico</th>\n      <th>CPEs_Outros</th>\n    </tr>\n  </thead>\n  <tbody>\n    <tr>\n      <th>0</th>\n      <td>Abrantes</td>\n      <td>Baixa Tensão</td>\n      <td>2022</td>\n      <td>3</td>\n      <td>6375824.308</td>\n      <td>20283.0</td>\n      <td>293.0</td>\n      <td>4334.0</td>\n      <td>83.0</td>\n    </tr>\n    <tr>\n      <th>1</th>\n      <td>Abrantes</td>\n      <td>Baixa Tensão</td>\n      <td>2022</td>\n      <td>4</td>\n      <td>5560992.246</td>\n      <td>20267.0</td>\n      <td>293.0</td>\n      <td>4337.0</td>\n      <td>83.0</td>\n    </tr>\n    <tr>\n      <th>2</th>\n      <td>Abrantes</td>\n      <td>Baixa Tensão</td>\n      <td>2022</td>\n      <td>5</td>\n      <td>5480833.643</td>\n      <td>20254.0</td>\n      <td>293.0</td>\n      <td>4324.0</td>\n      <td>82.0</td>\n    </tr>\n    <tr>\n      <th>3</th>\n      <td>Abrantes</td>\n      <td>Baixa Tensão</td>\n      <td>2022</td>\n      <td>6</td>\n      <td>5420579.537</td>\n      <td>20259.0</td>\n      <td>293.0</td>\n      <td>4327.0</td>\n      <td>82.0</td>\n    </tr>\n    <tr>\n      <th>4</th>\n      <td>Abrantes</td>\n      <td>Baixa Tensão</td>\n      <td>2022</td>\n      <td>7</td>\n      <td>6227622.409</td>\n      <td>20250.0</td>\n      <td>293.0</td>\n      <td>4320.0</td>\n      <td>83.0</td>\n    </tr>\n    <tr>\n      <th>5</th>\n      <td>Abrantes</td>\n      <td>Baixa Tensão</td>\n      <td>2022</td>\n      <td>8</td>\n      <td>5906036.429</td>\n      <td>20260.0</td>\n      <td>293.0</td>\n      <td>4318.0</td>\n      <td>83.0</td>\n    </tr>\n    <tr>\n      <th>6</th>\n      <td>Abrantes</td>\n      <td>Baixa Tensão</td>\n      <td>2022</td>\n      <td>9</td>\n      <td>5316878.736</td>\n      <td>20270.0</td>\n      <td>293.0</td>\n      <td>4311.0</td>\n      <td>81.0</td>\n    </tr>\n    <tr>\n      <th>7</th>\n      <td>Abrantes</td>\n      <td>Baixa Tensão</td>\n      <td>2022</td>\n      <td>10</td>\n      <td>5428732.778</td>\n      <td>20280.0</td>\n      <td>293.0</td>\n      <td>4302.0</td>\n      <td>81.0</td>\n    </tr>\n    <tr>\n      <th>8</th>\n      <td>Abrantes</td>\n      <td>Baixa Tensão</td>\n      <td>2022</td>\n      <td>11</td>\n      <td>5843266.356</td>\n      <td>20291.0</td>\n      <td>293.0</td>\n      <td>4308.0</td>\n      <td>80.0</td>\n    </tr>\n    <tr>\n      <th>9</th>\n      <td>Abrantes</td>\n      <td>Baixa Tensão</td>\n      <td>2022</td>\n      <td>12</td>\n      <td>6778130.292</td>\n      <td>20297.0</td>\n      <td>294.0</td>\n      <td>4312.0</td>\n      <td>82.0</td>\n    </tr>\n    <tr>\n      <th>10</th>\n      <td>Abrantes</td>\n      <td>Baixa Tensão</td>\n      <td>2023</td>\n      <td>1</td>\n      <td>7369772.117</td>\n      <td>20298.0</td>\n      <td>294.0</td>\n      <td>4309.0</td>\n      <td>82.0</td>\n    </tr>\n    <tr>\n      <th>11</th>\n      <td>Abrantes</td>\n      <td>Baixa Tensão</td>\n      <td>2023</td>\n      <td>2</td>\n      <td>6507806.283</td>\n      <td>20288.0</td>\n      <td>294.0</td>\n      <td>4310.0</td>\n      <td>113.0</td>\n    </tr>\n    <tr>\n      <th>12</th>\n      <td>Abrantes</td>\n      <td>Baixa Tensão</td>\n      <td>2023</td>\n      <td>3</td>\n      <td>6077229.553</td>\n      <td>20280.0</td>\n      <td>294.0</td>\n      <td>4316.0</td>\n      <td>75.0</td>\n    </tr>\n    <tr>\n      <th>13</th>\n      <td>Abrantes</td>\n      <td>Baixa Tensão</td>\n      <td>2023</td>\n      <td>4</td>\n      <td>5174260.623</td>\n      <td>20280.0</td>\n      <td>294.0</td>\n      <td>4316.0</td>\n      <td>75.0</td>\n    </tr>\n    <tr>\n      <th>14</th>\n      <td>Abrantes</td>\n      <td>Baixa Tensão</td>\n      <td>2023</td>\n      <td>5</td>\n      <td>5241076.429</td>\n      <td>20280.0</td>\n      <td>294.0</td>\n      <td>4316.0</td>\n      <td>75.0</td>\n    </tr>\n    <tr>\n      <th>15</th>\n      <td>Abrantes</td>\n      <td>Baixa Tensão</td>\n      <td>2023</td>\n      <td>6</td>\n      <td>5390736.995</td>\n      <td>20329.0</td>\n      <td>295.0</td>\n      <td>4346.0</td>\n      <td>77.0</td>\n    </tr>\n    <tr>\n      <th>16</th>\n      <td>Abrantes</td>\n      <td>Baixa Tensão</td>\n      <td>2023</td>\n      <td>7</td>\n      <td>5893487.903</td>\n      <td>20344.0</td>\n      <td>295.0</td>\n      <td>4341.0</td>\n      <td>73.0</td>\n    </tr>\n    <tr>\n      <th>17</th>\n      <td>Abrantes</td>\n      <td>Baixa Tensão</td>\n      <td>2023</td>\n      <td>8</td>\n      <td>5988657.814</td>\n      <td>20344.0</td>\n      <td>296.0</td>\n      <td>4338.0</td>\n      <td>72.0</td>\n    </tr>\n    <tr>\n      <th>18</th>\n      <td>Abrantes</td>\n      <td>Baixa Tensão</td>\n      <td>2023</td>\n      <td>9</td>\n      <td>5375821.043</td>\n      <td>20344.0</td>\n      <td>296.0</td>\n      <td>4344.0</td>\n      <td>70.0</td>\n    </tr>\n    <tr>\n      <th>19</th>\n      <td>Abrantes</td>\n      <td>Baixa Tensão</td>\n      <td>2023</td>\n      <td>10</td>\n      <td>5648442.877</td>\n      <td>20372.0</td>\n      <td>296.0</td>\n      <td>4351.0</td>\n      <td>69.0</td>\n    </tr>\n    <tr>\n      <th>20</th>\n      <td>Abrantes</td>\n      <td>Baixa Tensão</td>\n      <td>2023</td>\n      <td>11</td>\n      <td>6175214.371</td>\n      <td>20382.0</td>\n      <td>296.0</td>\n      <td>4348.0</td>\n      <td>69.0</td>\n    </tr>\n    <tr>\n      <th>21</th>\n      <td>Abrantes</td>\n      <td>Baixa Tensão</td>\n      <td>2023</td>\n      <td>12</td>\n      <td>7689317.798</td>\n      <td>20379.0</td>\n      <td>296.0</td>\n      <td>4354.0</td>\n      <td>68.0</td>\n    </tr>\n    <tr>\n      <th>22</th>\n      <td>Abrantes</td>\n      <td>Baixa Tensão</td>\n      <td>2024</td>\n      <td>1</td>\n      <td>3469066.000</td>\n      <td>20372.0</td>\n      <td>296.0</td>\n      <td>4350.0</td>\n      <td>68.0</td>\n    </tr>\n    <tr>\n      <th>23</th>\n      <td>Abrantes</td>\n      <td>Muito Alta, Alta e Média Tensões</td>\n      <td>2022</td>\n      <td>3</td>\n      <td>7157802.917</td>\n      <td>0.0</td>\n      <td>0.0</td>\n      <td>133.0</td>\n      <td>0.0</td>\n    </tr>\n    <tr>\n      <th>24</th>\n      <td>Abrantes</td>\n      <td>Muito Alta, Alta e Média Tensões</td>\n      <td>2022</td>\n      <td>4</td>\n      <td>6312850.260</td>\n      <td>0.0</td>\n      <td>0.0</td>\n      <td>133.0</td>\n      <td>0.0</td>\n    </tr>\n    <tr>\n      <th>25</th>\n      <td>Abrantes</td>\n      <td>Muito Alta, Alta e Média Tensões</td>\n      <td>2022</td>\n      <td>5</td>\n      <td>6320147.247</td>\n      <td>0.0</td>\n      <td>0.0</td>\n      <td>133.0</td>\n      <td>0.0</td>\n    </tr>\n    <tr>\n      <th>26</th>\n      <td>Abrantes</td>\n      <td>Muito Alta, Alta e Média Tensões</td>\n      <td>2022</td>\n      <td>6</td>\n      <td>5788702.612</td>\n      <td>0.0</td>\n      <td>0.0</td>\n      <td>134.0</td>\n      <td>0.0</td>\n    </tr>\n    <tr>\n      <th>27</th>\n      <td>Abrantes</td>\n      <td>Muito Alta, Alta e Média Tensões</td>\n      <td>2022</td>\n      <td>7</td>\n      <td>6487342.101</td>\n      <td>0.0</td>\n      <td>0.0</td>\n      <td>134.0</td>\n      <td>0.0</td>\n    </tr>\n    <tr>\n      <th>28</th>\n      <td>Abrantes</td>\n      <td>Muito Alta, Alta e Média Tensões</td>\n      <td>2022</td>\n      <td>8</td>\n      <td>5891542.227</td>\n      <td>0.0</td>\n      <td>0.0</td>\n      <td>134.0</td>\n      <td>0.0</td>\n    </tr>\n    <tr>\n      <th>29</th>\n      <td>Abrantes</td>\n      <td>Muito Alta, Alta e Média Tensões</td>\n      <td>2022</td>\n      <td>9</td>\n      <td>6159115.706</td>\n      <td>0.0</td>\n      <td>0.0</td>\n      <td>134.0</td>\n      <td>0.0</td>\n    </tr>\n    <tr>\n      <th>30</th>\n      <td>Abrantes</td>\n      <td>Muito Alta, Alta e Média Tensões</td>\n      <td>2022</td>\n      <td>10</td>\n      <td>6360625.206</td>\n      <td>0.0</td>\n      <td>0.0</td>\n      <td>134.0</td>\n      <td>0.0</td>\n    </tr>\n    <tr>\n      <th>31</th>\n      <td>Abrantes</td>\n      <td>Muito Alta, Alta e Média Tensões</td>\n      <td>2022</td>\n      <td>11</td>\n      <td>5961164.626</td>\n      <td>0.0</td>\n      <td>0.0</td>\n      <td>134.0</td>\n      <td>0.0</td>\n    </tr>\n    <tr>\n      <th>32</th>\n      <td>Abrantes</td>\n      <td>Muito Alta, Alta e Média Tensões</td>\n      <td>2022</td>\n      <td>12</td>\n      <td>5272178.134</td>\n      <td>0.0</td>\n      <td>0.0</td>\n      <td>134.0</td>\n      <td>0.0</td>\n    </tr>\n    <tr>\n      <th>33</th>\n      <td>Abrantes</td>\n      <td>Muito Alta, Alta e Média Tensões</td>\n      <td>2023</td>\n      <td>1</td>\n      <td>6615131.802</td>\n      <td>0.0</td>\n      <td>0.0</td>\n      <td>132.0</td>\n      <td>0.0</td>\n    </tr>\n    <tr>\n      <th>34</th>\n      <td>Abrantes</td>\n      <td>Muito Alta, Alta e Média Tensões</td>\n      <td>2023</td>\n      <td>2</td>\n      <td>5674410.040</td>\n      <td>0.0</td>\n      <td>0.0</td>\n      <td>132.0</td>\n      <td>0.0</td>\n    </tr>\n    <tr>\n      <th>35</th>\n      <td>Abrantes</td>\n      <td>Muito Alta, Alta e Média Tensões</td>\n      <td>2023</td>\n      <td>3</td>\n      <td>6187526.764</td>\n      <td>0.0</td>\n      <td>0.0</td>\n      <td>132.0</td>\n      <td>0.0</td>\n    </tr>\n    <tr>\n      <th>36</th>\n      <td>Abrantes</td>\n      <td>Muito Alta, Alta e Média Tensões</td>\n      <td>2023</td>\n      <td>4</td>\n      <td>5652034.043</td>\n      <td>0.0</td>\n      <td>0.0</td>\n      <td>132.0</td>\n      <td>0.0</td>\n    </tr>\n    <tr>\n      <th>37</th>\n      <td>Abrantes</td>\n      <td>Muito Alta, Alta e Média Tensões</td>\n      <td>2023</td>\n      <td>5</td>\n      <td>5924078.599</td>\n      <td>0.0</td>\n      <td>0.0</td>\n      <td>132.0</td>\n      <td>0.0</td>\n    </tr>\n    <tr>\n      <th>38</th>\n      <td>Abrantes</td>\n      <td>Muito Alta, Alta e Média Tensões</td>\n      <td>2023</td>\n      <td>6</td>\n      <td>5252440.752</td>\n      <td>0.0</td>\n      <td>0.0</td>\n      <td>133.0</td>\n      <td>0.0</td>\n    </tr>\n    <tr>\n      <th>39</th>\n      <td>Abrantes</td>\n      <td>Muito Alta, Alta e Média Tensões</td>\n      <td>2023</td>\n      <td>7</td>\n      <td>5906508.826</td>\n      <td>0.0</td>\n      <td>0.0</td>\n      <td>133.0</td>\n      <td>0.0</td>\n    </tr>\n    <tr>\n      <th>40</th>\n      <td>Abrantes</td>\n      <td>Muito Alta, Alta e Média Tensões</td>\n      <td>2023</td>\n      <td>8</td>\n      <td>5357597.886</td>\n      <td>0.0</td>\n      <td>0.0</td>\n      <td>132.0</td>\n      <td>0.0</td>\n    </tr>\n    <tr>\n      <th>41</th>\n      <td>Abrantes</td>\n      <td>Muito Alta, Alta e Média Tensões</td>\n      <td>2023</td>\n      <td>9</td>\n      <td>5680322.620</td>\n      <td>0.0</td>\n      <td>0.0</td>\n      <td>132.0</td>\n      <td>0.0</td>\n    </tr>\n    <tr>\n      <th>42</th>\n      <td>Abrantes</td>\n      <td>Muito Alta, Alta e Média Tensões</td>\n      <td>2023</td>\n      <td>10</td>\n      <td>6098404.032</td>\n      <td>0.0</td>\n      <td>0.0</td>\n      <td>131.0</td>\n      <td>0.0</td>\n    </tr>\n    <tr>\n      <th>43</th>\n      <td>Abrantes</td>\n      <td>Muito Alta, Alta e Média Tensões</td>\n      <td>2023</td>\n      <td>11</td>\n      <td>6292809.727</td>\n      <td>0.0</td>\n      <td>0.0</td>\n      <td>131.0</td>\n      <td>0.0</td>\n    </tr>\n    <tr>\n      <th>44</th>\n      <td>Abrantes</td>\n      <td>Muito Alta, Alta e Média Tensões</td>\n      <td>2023</td>\n      <td>12</td>\n      <td>5732598.909</td>\n      <td>0.0</td>\n      <td>0.0</td>\n      <td>130.0</td>\n      <td>0.0</td>\n    </tr>\n    <tr>\n      <th>45</th>\n      <td>Abrantes</td>\n      <td>Muito Alta, Alta e Média Tensões</td>\n      <td>2024</td>\n      <td>1</td>\n      <td>2353635.000</td>\n      <td>0.0</td>\n      <td>0.0</td>\n      <td>129.0</td>\n      <td>0.0</td>\n    </tr>\n    <tr>\n      <th>46</th>\n      <td>Aguiar da Beira</td>\n      <td>Baixa Tensão</td>\n      <td>2022</td>\n      <td>3</td>\n      <td>1071914.806</td>\n      <td>3799.0</td>\n      <td>91.0</td>\n      <td>993.0</td>\n      <td>20.0</td>\n    </tr>\n    <tr>\n      <th>47</th>\n      <td>Aguiar da Beira</td>\n      <td>Baixa Tensão</td>\n      <td>2022</td>\n      <td>4</td>\n      <td>1006463.855</td>\n      <td>3791.0</td>\n      <td>91.0</td>\n      <td>993.0</td>\n      <td>21.0</td>\n    </tr>\n    <tr>\n      <th>48</th>\n      <td>Aguiar da Beira</td>\n      <td>Baixa Tensão</td>\n      <td>2022</td>\n      <td>5</td>\n      <td>988381.532</td>\n      <td>3785.0</td>\n      <td>91.0</td>\n      <td>996.0</td>\n      <td>21.0</td>\n    </tr>\n    <tr>\n      <th>49</th>\n      <td>Aguiar da Beira</td>\n      <td>Baixa Tensão</td>\n      <td>2022</td>\n      <td>6</td>\n      <td>1004952.128</td>\n      <td>3779.0</td>\n      <td>91.0</td>\n      <td>999.0</td>\n      <td>19.0</td>\n    </tr>\n  </tbody>\n</table>\n</div>"
     },
     "execution_count": 7,
     "metadata": {},
     "output_type": "execute_result"
    }
   ],
   "source": [
    "merged_df = pd.merge(df_consumos_faturados, df_caracterizacao_cpe_grouped, on=['Concelho', 'Ano', 'Mês', 'Nível de Tensão'], how='inner')\n",
    "\n",
    "# Verificar nulls\n",
    "null_counts = merged_df.isnull().sum()\n",
    "\n",
    "# Ver nulls por coluna\n",
    "print(\"Número de nulls por coluna:\")\n",
    "print(null_counts)\n",
    "\n",
    "merged_df.info()\n",
    "merged_df.head(50)"
   ],
   "metadata": {
    "collapsed": false,
    "ExecuteTime": {
     "end_time": "2024-04-18T15:14:04.207024Z",
     "start_time": "2024-04-18T15:14:04.165430Z"
    }
   },
   "id": "4a02f261327f6d36",
   "execution_count": 7
  },
  {
   "cell_type": "markdown",
   "source": [
    "5. No dataset diagramas de cargas, criar colunas para a mobilidade elétrica"
   ],
   "metadata": {
    "collapsed": false
   },
   "id": "dce213c25b196165"
  },
  {
   "cell_type": "code",
   "outputs": [
    {
     "data": {
      "text/plain": "   Concelho   Ano  Mês  CPEs_Mobilidade_Eletrica_Não  \\\n0  Abrantes  2022    8                       11097.0   \n1  Abrantes  2022    9                       11298.0   \n2  Abrantes  2022   10                       11563.0   \n3  Abrantes  2022   11                       11969.0   \n4  Abrantes  2022   12                       12210.0   \n\n   CPEs_Mobilidade_Eletrica_Sim  \n0                           1.0  \n1                           1.0  \n2                           1.0  \n3                           1.0  \n4                           1.0  ",
      "text/html": "<div>\n<style scoped>\n    .dataframe tbody tr th:only-of-type {\n        vertical-align: middle;\n    }\n\n    .dataframe tbody tr th {\n        vertical-align: top;\n    }\n\n    .dataframe thead th {\n        text-align: right;\n    }\n</style>\n<table border=\"1\" class=\"dataframe\">\n  <thead>\n    <tr style=\"text-align: right;\">\n      <th></th>\n      <th>Concelho</th>\n      <th>Ano</th>\n      <th>Mês</th>\n      <th>CPEs_Mobilidade_Eletrica_Não</th>\n      <th>CPEs_Mobilidade_Eletrica_Sim</th>\n    </tr>\n  </thead>\n  <tbody>\n    <tr>\n      <th>0</th>\n      <td>Abrantes</td>\n      <td>2022</td>\n      <td>8</td>\n      <td>11097.0</td>\n      <td>1.0</td>\n    </tr>\n    <tr>\n      <th>1</th>\n      <td>Abrantes</td>\n      <td>2022</td>\n      <td>9</td>\n      <td>11298.0</td>\n      <td>1.0</td>\n    </tr>\n    <tr>\n      <th>2</th>\n      <td>Abrantes</td>\n      <td>2022</td>\n      <td>10</td>\n      <td>11563.0</td>\n      <td>1.0</td>\n    </tr>\n    <tr>\n      <th>3</th>\n      <td>Abrantes</td>\n      <td>2022</td>\n      <td>11</td>\n      <td>11969.0</td>\n      <td>1.0</td>\n    </tr>\n    <tr>\n      <th>4</th>\n      <td>Abrantes</td>\n      <td>2022</td>\n      <td>12</td>\n      <td>12210.0</td>\n      <td>1.0</td>\n    </tr>\n  </tbody>\n</table>\n</div>"
     },
     "execution_count": 8,
     "metadata": {},
     "output_type": "execute_result"
    }
   ],
   "source": [
    "# Criar colunas para 'Inclui Mobilidade Elétrica' e somar 'CPEs com DCs Recolhidos (#)'\n",
    "df_pivoted_mobility = df_diagrama_carga.pivot_table(index=['Concelho', 'Ano', 'Mês'], \n",
    "                                                        columns='Inclui Mobilidade Elétrica', \n",
    "                                                        values='CPEs com DCs Recolhidos (#)', \n",
    "                                                        aggfunc='sum').reset_index()\n",
    "\n",
    "# Valores NA preencher com 0\n",
    "df_pivoted_mobility.fillna(0, inplace=True)\n",
    "\n",
    "# Renomear as colunas\n",
    "df_pivoted_mobility.columns.name = None \n",
    "df_pivoted_mobility.columns = [col if col in ['Concelho', 'Ano', 'Mês'] else f\"CPEs_Mobilidade_Eletrica_{col}\" for col in df_pivoted_mobility.columns]\n",
    "\n",
    "df_pivoted_mobility.head()"
   ],
   "metadata": {
    "collapsed": false,
    "ExecuteTime": {
     "end_time": "2024-04-18T15:14:04.242434Z",
     "start_time": "2024-04-18T15:14:04.185874Z"
    }
   },
   "id": "85a14cd794c9aa79",
   "execution_count": 8
  },
  {
   "cell_type": "markdown",
   "source": [
    "6. Juntar com a coleção diagramas de carga"
   ],
   "metadata": {
    "collapsed": false
   },
   "id": "350868c2e6e747eb"
  },
  {
   "cell_type": "code",
   "outputs": [
    {
     "name": "stdout",
     "output_type": "stream",
     "text": [
      "Número de nulls por coluna:\n",
      "Concelho                        0\n",
      "Nível de Tensão                 0\n",
      "Ano                             0\n",
      "Mês                             0\n",
      "Energia Ativa (kWh)             0\n",
      "CPEs_Doméstico                  0\n",
      "CPEs_Iluminação Pública         0\n",
      "CPEs_Não Doméstico              0\n",
      "CPEs_Outros                     0\n",
      "CPEs_Mobilidade_Eletrica_Não    0\n",
      "CPEs_Mobilidade_Eletrica_Sim    0\n",
      "dtype: int64\n",
      "<class 'pandas.core.frame.DataFrame'>\n",
      "RangeIndex: 9790 entries, 0 to 9789\n",
      "Data columns (total 11 columns):\n",
      " #   Column                        Non-Null Count  Dtype  \n",
      "---  ------                        --------------  -----  \n",
      " 0   Concelho                      9790 non-null   object \n",
      " 1   Nível de Tensão               9790 non-null   object \n",
      " 2   Ano                           9790 non-null   int64  \n",
      " 3   Mês                           9790 non-null   int64  \n",
      " 4   Energia Ativa (kWh)           9790 non-null   float64\n",
      " 5   CPEs_Doméstico                9790 non-null   float64\n",
      " 6   CPEs_Iluminação Pública       9790 non-null   float64\n",
      " 7   CPEs_Não Doméstico            9790 non-null   float64\n",
      " 8   CPEs_Outros                   9790 non-null   float64\n",
      " 9   CPEs_Mobilidade_Eletrica_Não  9790 non-null   float64\n",
      " 10  CPEs_Mobilidade_Eletrica_Sim  9790 non-null   float64\n",
      "dtypes: float64(7), int64(2), object(2)\n",
      "memory usage: 841.5+ KB\n"
     ]
    },
    {
     "data": {
      "text/plain": "           Concelho                   Nível de Tensão   Ano  Mês  \\\n0          Abrantes                      Baixa Tensão  2022    8   \n1          Abrantes                      Baixa Tensão  2022    9   \n2          Abrantes                      Baixa Tensão  2022   10   \n3          Abrantes                      Baixa Tensão  2022   11   \n4          Abrantes                      Baixa Tensão  2022   12   \n5          Abrantes                      Baixa Tensão  2023    1   \n6          Abrantes                      Baixa Tensão  2023    2   \n7          Abrantes                      Baixa Tensão  2023    3   \n8          Abrantes                      Baixa Tensão  2023    4   \n9          Abrantes                      Baixa Tensão  2023    5   \n10         Abrantes                      Baixa Tensão  2023    6   \n11         Abrantes                      Baixa Tensão  2023    7   \n12         Abrantes                      Baixa Tensão  2023    8   \n13         Abrantes                      Baixa Tensão  2023    9   \n14         Abrantes                      Baixa Tensão  2023   10   \n15         Abrantes                      Baixa Tensão  2023   11   \n16         Abrantes                      Baixa Tensão  2023   12   \n17         Abrantes                      Baixa Tensão  2024    1   \n18         Abrantes  Muito Alta, Alta e Média Tensões  2022    8   \n19         Abrantes  Muito Alta, Alta e Média Tensões  2022    9   \n20         Abrantes  Muito Alta, Alta e Média Tensões  2022   10   \n21         Abrantes  Muito Alta, Alta e Média Tensões  2022   11   \n22         Abrantes  Muito Alta, Alta e Média Tensões  2022   12   \n23         Abrantes  Muito Alta, Alta e Média Tensões  2023    1   \n24         Abrantes  Muito Alta, Alta e Média Tensões  2023    2   \n25         Abrantes  Muito Alta, Alta e Média Tensões  2023    3   \n26         Abrantes  Muito Alta, Alta e Média Tensões  2023    4   \n27         Abrantes  Muito Alta, Alta e Média Tensões  2023    5   \n28         Abrantes  Muito Alta, Alta e Média Tensões  2023    6   \n29         Abrantes  Muito Alta, Alta e Média Tensões  2023    7   \n30         Abrantes  Muito Alta, Alta e Média Tensões  2023    8   \n31         Abrantes  Muito Alta, Alta e Média Tensões  2023    9   \n32         Abrantes  Muito Alta, Alta e Média Tensões  2023   10   \n33         Abrantes  Muito Alta, Alta e Média Tensões  2023   11   \n34         Abrantes  Muito Alta, Alta e Média Tensões  2023   12   \n35         Abrantes  Muito Alta, Alta e Média Tensões  2024    1   \n36  Aguiar da Beira                      Baixa Tensão  2022    8   \n37  Aguiar da Beira                      Baixa Tensão  2022    9   \n38  Aguiar da Beira                      Baixa Tensão  2022   10   \n39  Aguiar da Beira                      Baixa Tensão  2022   11   \n40  Aguiar da Beira                      Baixa Tensão  2022   12   \n41  Aguiar da Beira                      Baixa Tensão  2023    1   \n42  Aguiar da Beira                      Baixa Tensão  2023    2   \n43  Aguiar da Beira                      Baixa Tensão  2023    3   \n44  Aguiar da Beira                      Baixa Tensão  2023    4   \n45  Aguiar da Beira                      Baixa Tensão  2023    5   \n46  Aguiar da Beira                      Baixa Tensão  2023    6   \n47  Aguiar da Beira                      Baixa Tensão  2023    7   \n48  Aguiar da Beira                      Baixa Tensão  2023    8   \n49  Aguiar da Beira                      Baixa Tensão  2023    9   \n\n    Energia Ativa (kWh)  CPEs_Doméstico  CPEs_Iluminação Pública  \\\n0           5906036.429         20260.0                    293.0   \n1           5316878.736         20270.0                    293.0   \n2           5428732.778         20280.0                    293.0   \n3           5843266.356         20291.0                    293.0   \n4           6778130.292         20297.0                    294.0   \n5           7369772.117         20298.0                    294.0   \n6           6507806.283         20288.0                    294.0   \n7           6077229.553         20280.0                    294.0   \n8           5174260.623         20280.0                    294.0   \n9           5241076.429         20280.0                    294.0   \n10          5390736.995         20329.0                    295.0   \n11          5893487.903         20344.0                    295.0   \n12          5988657.814         20344.0                    296.0   \n13          5375821.043         20344.0                    296.0   \n14          5648442.877         20372.0                    296.0   \n15          6175214.371         20382.0                    296.0   \n16          7689317.798         20379.0                    296.0   \n17          3469066.000         20372.0                    296.0   \n18          5891542.227             0.0                      0.0   \n19          6159115.706             0.0                      0.0   \n20          6360625.206             0.0                      0.0   \n21          5961164.626             0.0                      0.0   \n22          5272178.134             0.0                      0.0   \n23          6615131.802             0.0                      0.0   \n24          5674410.040             0.0                      0.0   \n25          6187526.764             0.0                      0.0   \n26          5652034.043             0.0                      0.0   \n27          5924078.599             0.0                      0.0   \n28          5252440.752             0.0                      0.0   \n29          5906508.826             0.0                      0.0   \n30          5357597.886             0.0                      0.0   \n31          5680322.620             0.0                      0.0   \n32          6098404.032             0.0                      0.0   \n33          6292809.727             0.0                      0.0   \n34          5732598.909             0.0                      0.0   \n35          2353635.000             0.0                      0.0   \n36          1169901.469          3782.0                     92.0   \n37          1015091.450          3784.0                     92.0   \n38          1034971.493          3784.0                     92.0   \n39          1080885.266          3779.0                     92.0   \n40          1162331.221          3782.0                     93.0   \n41          1173285.049          3788.0                     95.0   \n42          1011769.778          3793.0                     95.0   \n43          1057910.894          3794.0                     95.0   \n44           947341.011          3794.0                     95.0   \n45           963018.657          3794.0                     95.0   \n46           986129.611          3802.0                     95.0   \n47          1134875.794          3806.0                     95.0   \n48          1177218.564          3813.0                     95.0   \n49          1009073.010          3811.0                     95.0   \n\n    CPEs_Não Doméstico  CPEs_Outros  CPEs_Mobilidade_Eletrica_Não  \\\n0               4318.0         83.0                       11097.0   \n1               4311.0         81.0                       11298.0   \n2               4302.0         81.0                       11563.0   \n3               4308.0         80.0                       11969.0   \n4               4312.0         82.0                       12210.0   \n5               4309.0         82.0                       13334.0   \n6               4310.0        113.0                       13499.0   \n7               4316.0         75.0                       13973.0   \n8               4316.0         75.0                       14307.0   \n9               4316.0         75.0                       14194.0   \n10              4346.0         77.0                       14834.0   \n11              4341.0         73.0                       14679.0   \n12              4338.0         72.0                       14815.0   \n13              4344.0         70.0                       14855.0   \n14              4351.0         69.0                       15457.0   \n15              4348.0         69.0                       15853.0   \n16              4354.0         68.0                       16460.0   \n17              4350.0         68.0                       17073.0   \n18               134.0          0.0                       11097.0   \n19               134.0          0.0                       11298.0   \n20               134.0          0.0                       11563.0   \n21               134.0          0.0                       11969.0   \n22               134.0          0.0                       12210.0   \n23               132.0          0.0                       13334.0   \n24               132.0          0.0                       13499.0   \n25               132.0          0.0                       13973.0   \n26               132.0          0.0                       14307.0   \n27               132.0          0.0                       14194.0   \n28               133.0          0.0                       14834.0   \n29               133.0          0.0                       14679.0   \n30               132.0          0.0                       14815.0   \n31               132.0          0.0                       14855.0   \n32               131.0          0.0                       15457.0   \n33               131.0          0.0                       15853.0   \n34               130.0          0.0                       16460.0   \n35               129.0          0.0                       17073.0   \n36              1000.0         14.0                        1895.0   \n37               999.0         16.0                        1916.0   \n38               998.0         16.0                        2096.0   \n39               999.0         16.0                        2488.0   \n40              1001.0         16.0                        2549.0   \n41               998.0         15.0                        2661.0   \n42               996.0         15.0                        2971.0   \n43               997.0         14.0                        2909.0   \n44               997.0         14.0                        2995.0   \n45               997.0         14.0                        2919.0   \n46              1007.0         13.0                        3302.0   \n47              1006.0         14.0                        3490.0   \n48              1005.0         11.0                        3568.0   \n49              1001.0         10.0                        3514.0   \n\n    CPEs_Mobilidade_Eletrica_Sim  \n0                            1.0  \n1                            1.0  \n2                            1.0  \n3                            1.0  \n4                            1.0  \n5                            1.0  \n6                            1.0  \n7                            1.0  \n8                            1.0  \n9                            1.0  \n10                           2.0  \n11                           2.0  \n12                           2.0  \n13                           2.0  \n14                           2.0  \n15                           2.0  \n16                           2.0  \n17                           3.0  \n18                           1.0  \n19                           1.0  \n20                           1.0  \n21                           1.0  \n22                           1.0  \n23                           1.0  \n24                           1.0  \n25                           1.0  \n26                           1.0  \n27                           1.0  \n28                           2.0  \n29                           2.0  \n30                           2.0  \n31                           2.0  \n32                           2.0  \n33                           2.0  \n34                           2.0  \n35                           3.0  \n36                           1.0  \n37                           1.0  \n38                           1.0  \n39                           1.0  \n40                           1.0  \n41                           1.0  \n42                           1.0  \n43                           2.0  \n44                           2.0  \n45                           2.0  \n46                           2.0  \n47                           2.0  \n48                           2.0  \n49                           2.0  ",
      "text/html": "<div>\n<style scoped>\n    .dataframe tbody tr th:only-of-type {\n        vertical-align: middle;\n    }\n\n    .dataframe tbody tr th {\n        vertical-align: top;\n    }\n\n    .dataframe thead th {\n        text-align: right;\n    }\n</style>\n<table border=\"1\" class=\"dataframe\">\n  <thead>\n    <tr style=\"text-align: right;\">\n      <th></th>\n      <th>Concelho</th>\n      <th>Nível de Tensão</th>\n      <th>Ano</th>\n      <th>Mês</th>\n      <th>Energia Ativa (kWh)</th>\n      <th>CPEs_Doméstico</th>\n      <th>CPEs_Iluminação Pública</th>\n      <th>CPEs_Não Doméstico</th>\n      <th>CPEs_Outros</th>\n      <th>CPEs_Mobilidade_Eletrica_Não</th>\n      <th>CPEs_Mobilidade_Eletrica_Sim</th>\n    </tr>\n  </thead>\n  <tbody>\n    <tr>\n      <th>0</th>\n      <td>Abrantes</td>\n      <td>Baixa Tensão</td>\n      <td>2022</td>\n      <td>8</td>\n      <td>5906036.429</td>\n      <td>20260.0</td>\n      <td>293.0</td>\n      <td>4318.0</td>\n      <td>83.0</td>\n      <td>11097.0</td>\n      <td>1.0</td>\n    </tr>\n    <tr>\n      <th>1</th>\n      <td>Abrantes</td>\n      <td>Baixa Tensão</td>\n      <td>2022</td>\n      <td>9</td>\n      <td>5316878.736</td>\n      <td>20270.0</td>\n      <td>293.0</td>\n      <td>4311.0</td>\n      <td>81.0</td>\n      <td>11298.0</td>\n      <td>1.0</td>\n    </tr>\n    <tr>\n      <th>2</th>\n      <td>Abrantes</td>\n      <td>Baixa Tensão</td>\n      <td>2022</td>\n      <td>10</td>\n      <td>5428732.778</td>\n      <td>20280.0</td>\n      <td>293.0</td>\n      <td>4302.0</td>\n      <td>81.0</td>\n      <td>11563.0</td>\n      <td>1.0</td>\n    </tr>\n    <tr>\n      <th>3</th>\n      <td>Abrantes</td>\n      <td>Baixa Tensão</td>\n      <td>2022</td>\n      <td>11</td>\n      <td>5843266.356</td>\n      <td>20291.0</td>\n      <td>293.0</td>\n      <td>4308.0</td>\n      <td>80.0</td>\n      <td>11969.0</td>\n      <td>1.0</td>\n    </tr>\n    <tr>\n      <th>4</th>\n      <td>Abrantes</td>\n      <td>Baixa Tensão</td>\n      <td>2022</td>\n      <td>12</td>\n      <td>6778130.292</td>\n      <td>20297.0</td>\n      <td>294.0</td>\n      <td>4312.0</td>\n      <td>82.0</td>\n      <td>12210.0</td>\n      <td>1.0</td>\n    </tr>\n    <tr>\n      <th>5</th>\n      <td>Abrantes</td>\n      <td>Baixa Tensão</td>\n      <td>2023</td>\n      <td>1</td>\n      <td>7369772.117</td>\n      <td>20298.0</td>\n      <td>294.0</td>\n      <td>4309.0</td>\n      <td>82.0</td>\n      <td>13334.0</td>\n      <td>1.0</td>\n    </tr>\n    <tr>\n      <th>6</th>\n      <td>Abrantes</td>\n      <td>Baixa Tensão</td>\n      <td>2023</td>\n      <td>2</td>\n      <td>6507806.283</td>\n      <td>20288.0</td>\n      <td>294.0</td>\n      <td>4310.0</td>\n      <td>113.0</td>\n      <td>13499.0</td>\n      <td>1.0</td>\n    </tr>\n    <tr>\n      <th>7</th>\n      <td>Abrantes</td>\n      <td>Baixa Tensão</td>\n      <td>2023</td>\n      <td>3</td>\n      <td>6077229.553</td>\n      <td>20280.0</td>\n      <td>294.0</td>\n      <td>4316.0</td>\n      <td>75.0</td>\n      <td>13973.0</td>\n      <td>1.0</td>\n    </tr>\n    <tr>\n      <th>8</th>\n      <td>Abrantes</td>\n      <td>Baixa Tensão</td>\n      <td>2023</td>\n      <td>4</td>\n      <td>5174260.623</td>\n      <td>20280.0</td>\n      <td>294.0</td>\n      <td>4316.0</td>\n      <td>75.0</td>\n      <td>14307.0</td>\n      <td>1.0</td>\n    </tr>\n    <tr>\n      <th>9</th>\n      <td>Abrantes</td>\n      <td>Baixa Tensão</td>\n      <td>2023</td>\n      <td>5</td>\n      <td>5241076.429</td>\n      <td>20280.0</td>\n      <td>294.0</td>\n      <td>4316.0</td>\n      <td>75.0</td>\n      <td>14194.0</td>\n      <td>1.0</td>\n    </tr>\n    <tr>\n      <th>10</th>\n      <td>Abrantes</td>\n      <td>Baixa Tensão</td>\n      <td>2023</td>\n      <td>6</td>\n      <td>5390736.995</td>\n      <td>20329.0</td>\n      <td>295.0</td>\n      <td>4346.0</td>\n      <td>77.0</td>\n      <td>14834.0</td>\n      <td>2.0</td>\n    </tr>\n    <tr>\n      <th>11</th>\n      <td>Abrantes</td>\n      <td>Baixa Tensão</td>\n      <td>2023</td>\n      <td>7</td>\n      <td>5893487.903</td>\n      <td>20344.0</td>\n      <td>295.0</td>\n      <td>4341.0</td>\n      <td>73.0</td>\n      <td>14679.0</td>\n      <td>2.0</td>\n    </tr>\n    <tr>\n      <th>12</th>\n      <td>Abrantes</td>\n      <td>Baixa Tensão</td>\n      <td>2023</td>\n      <td>8</td>\n      <td>5988657.814</td>\n      <td>20344.0</td>\n      <td>296.0</td>\n      <td>4338.0</td>\n      <td>72.0</td>\n      <td>14815.0</td>\n      <td>2.0</td>\n    </tr>\n    <tr>\n      <th>13</th>\n      <td>Abrantes</td>\n      <td>Baixa Tensão</td>\n      <td>2023</td>\n      <td>9</td>\n      <td>5375821.043</td>\n      <td>20344.0</td>\n      <td>296.0</td>\n      <td>4344.0</td>\n      <td>70.0</td>\n      <td>14855.0</td>\n      <td>2.0</td>\n    </tr>\n    <tr>\n      <th>14</th>\n      <td>Abrantes</td>\n      <td>Baixa Tensão</td>\n      <td>2023</td>\n      <td>10</td>\n      <td>5648442.877</td>\n      <td>20372.0</td>\n      <td>296.0</td>\n      <td>4351.0</td>\n      <td>69.0</td>\n      <td>15457.0</td>\n      <td>2.0</td>\n    </tr>\n    <tr>\n      <th>15</th>\n      <td>Abrantes</td>\n      <td>Baixa Tensão</td>\n      <td>2023</td>\n      <td>11</td>\n      <td>6175214.371</td>\n      <td>20382.0</td>\n      <td>296.0</td>\n      <td>4348.0</td>\n      <td>69.0</td>\n      <td>15853.0</td>\n      <td>2.0</td>\n    </tr>\n    <tr>\n      <th>16</th>\n      <td>Abrantes</td>\n      <td>Baixa Tensão</td>\n      <td>2023</td>\n      <td>12</td>\n      <td>7689317.798</td>\n      <td>20379.0</td>\n      <td>296.0</td>\n      <td>4354.0</td>\n      <td>68.0</td>\n      <td>16460.0</td>\n      <td>2.0</td>\n    </tr>\n    <tr>\n      <th>17</th>\n      <td>Abrantes</td>\n      <td>Baixa Tensão</td>\n      <td>2024</td>\n      <td>1</td>\n      <td>3469066.000</td>\n      <td>20372.0</td>\n      <td>296.0</td>\n      <td>4350.0</td>\n      <td>68.0</td>\n      <td>17073.0</td>\n      <td>3.0</td>\n    </tr>\n    <tr>\n      <th>18</th>\n      <td>Abrantes</td>\n      <td>Muito Alta, Alta e Média Tensões</td>\n      <td>2022</td>\n      <td>8</td>\n      <td>5891542.227</td>\n      <td>0.0</td>\n      <td>0.0</td>\n      <td>134.0</td>\n      <td>0.0</td>\n      <td>11097.0</td>\n      <td>1.0</td>\n    </tr>\n    <tr>\n      <th>19</th>\n      <td>Abrantes</td>\n      <td>Muito Alta, Alta e Média Tensões</td>\n      <td>2022</td>\n      <td>9</td>\n      <td>6159115.706</td>\n      <td>0.0</td>\n      <td>0.0</td>\n      <td>134.0</td>\n      <td>0.0</td>\n      <td>11298.0</td>\n      <td>1.0</td>\n    </tr>\n    <tr>\n      <th>20</th>\n      <td>Abrantes</td>\n      <td>Muito Alta, Alta e Média Tensões</td>\n      <td>2022</td>\n      <td>10</td>\n      <td>6360625.206</td>\n      <td>0.0</td>\n      <td>0.0</td>\n      <td>134.0</td>\n      <td>0.0</td>\n      <td>11563.0</td>\n      <td>1.0</td>\n    </tr>\n    <tr>\n      <th>21</th>\n      <td>Abrantes</td>\n      <td>Muito Alta, Alta e Média Tensões</td>\n      <td>2022</td>\n      <td>11</td>\n      <td>5961164.626</td>\n      <td>0.0</td>\n      <td>0.0</td>\n      <td>134.0</td>\n      <td>0.0</td>\n      <td>11969.0</td>\n      <td>1.0</td>\n    </tr>\n    <tr>\n      <th>22</th>\n      <td>Abrantes</td>\n      <td>Muito Alta, Alta e Média Tensões</td>\n      <td>2022</td>\n      <td>12</td>\n      <td>5272178.134</td>\n      <td>0.0</td>\n      <td>0.0</td>\n      <td>134.0</td>\n      <td>0.0</td>\n      <td>12210.0</td>\n      <td>1.0</td>\n    </tr>\n    <tr>\n      <th>23</th>\n      <td>Abrantes</td>\n      <td>Muito Alta, Alta e Média Tensões</td>\n      <td>2023</td>\n      <td>1</td>\n      <td>6615131.802</td>\n      <td>0.0</td>\n      <td>0.0</td>\n      <td>132.0</td>\n      <td>0.0</td>\n      <td>13334.0</td>\n      <td>1.0</td>\n    </tr>\n    <tr>\n      <th>24</th>\n      <td>Abrantes</td>\n      <td>Muito Alta, Alta e Média Tensões</td>\n      <td>2023</td>\n      <td>2</td>\n      <td>5674410.040</td>\n      <td>0.0</td>\n      <td>0.0</td>\n      <td>132.0</td>\n      <td>0.0</td>\n      <td>13499.0</td>\n      <td>1.0</td>\n    </tr>\n    <tr>\n      <th>25</th>\n      <td>Abrantes</td>\n      <td>Muito Alta, Alta e Média Tensões</td>\n      <td>2023</td>\n      <td>3</td>\n      <td>6187526.764</td>\n      <td>0.0</td>\n      <td>0.0</td>\n      <td>132.0</td>\n      <td>0.0</td>\n      <td>13973.0</td>\n      <td>1.0</td>\n    </tr>\n    <tr>\n      <th>26</th>\n      <td>Abrantes</td>\n      <td>Muito Alta, Alta e Média Tensões</td>\n      <td>2023</td>\n      <td>4</td>\n      <td>5652034.043</td>\n      <td>0.0</td>\n      <td>0.0</td>\n      <td>132.0</td>\n      <td>0.0</td>\n      <td>14307.0</td>\n      <td>1.0</td>\n    </tr>\n    <tr>\n      <th>27</th>\n      <td>Abrantes</td>\n      <td>Muito Alta, Alta e Média Tensões</td>\n      <td>2023</td>\n      <td>5</td>\n      <td>5924078.599</td>\n      <td>0.0</td>\n      <td>0.0</td>\n      <td>132.0</td>\n      <td>0.0</td>\n      <td>14194.0</td>\n      <td>1.0</td>\n    </tr>\n    <tr>\n      <th>28</th>\n      <td>Abrantes</td>\n      <td>Muito Alta, Alta e Média Tensões</td>\n      <td>2023</td>\n      <td>6</td>\n      <td>5252440.752</td>\n      <td>0.0</td>\n      <td>0.0</td>\n      <td>133.0</td>\n      <td>0.0</td>\n      <td>14834.0</td>\n      <td>2.0</td>\n    </tr>\n    <tr>\n      <th>29</th>\n      <td>Abrantes</td>\n      <td>Muito Alta, Alta e Média Tensões</td>\n      <td>2023</td>\n      <td>7</td>\n      <td>5906508.826</td>\n      <td>0.0</td>\n      <td>0.0</td>\n      <td>133.0</td>\n      <td>0.0</td>\n      <td>14679.0</td>\n      <td>2.0</td>\n    </tr>\n    <tr>\n      <th>30</th>\n      <td>Abrantes</td>\n      <td>Muito Alta, Alta e Média Tensões</td>\n      <td>2023</td>\n      <td>8</td>\n      <td>5357597.886</td>\n      <td>0.0</td>\n      <td>0.0</td>\n      <td>132.0</td>\n      <td>0.0</td>\n      <td>14815.0</td>\n      <td>2.0</td>\n    </tr>\n    <tr>\n      <th>31</th>\n      <td>Abrantes</td>\n      <td>Muito Alta, Alta e Média Tensões</td>\n      <td>2023</td>\n      <td>9</td>\n      <td>5680322.620</td>\n      <td>0.0</td>\n      <td>0.0</td>\n      <td>132.0</td>\n      <td>0.0</td>\n      <td>14855.0</td>\n      <td>2.0</td>\n    </tr>\n    <tr>\n      <th>32</th>\n      <td>Abrantes</td>\n      <td>Muito Alta, Alta e Média Tensões</td>\n      <td>2023</td>\n      <td>10</td>\n      <td>6098404.032</td>\n      <td>0.0</td>\n      <td>0.0</td>\n      <td>131.0</td>\n      <td>0.0</td>\n      <td>15457.0</td>\n      <td>2.0</td>\n    </tr>\n    <tr>\n      <th>33</th>\n      <td>Abrantes</td>\n      <td>Muito Alta, Alta e Média Tensões</td>\n      <td>2023</td>\n      <td>11</td>\n      <td>6292809.727</td>\n      <td>0.0</td>\n      <td>0.0</td>\n      <td>131.0</td>\n      <td>0.0</td>\n      <td>15853.0</td>\n      <td>2.0</td>\n    </tr>\n    <tr>\n      <th>34</th>\n      <td>Abrantes</td>\n      <td>Muito Alta, Alta e Média Tensões</td>\n      <td>2023</td>\n      <td>12</td>\n      <td>5732598.909</td>\n      <td>0.0</td>\n      <td>0.0</td>\n      <td>130.0</td>\n      <td>0.0</td>\n      <td>16460.0</td>\n      <td>2.0</td>\n    </tr>\n    <tr>\n      <th>35</th>\n      <td>Abrantes</td>\n      <td>Muito Alta, Alta e Média Tensões</td>\n      <td>2024</td>\n      <td>1</td>\n      <td>2353635.000</td>\n      <td>0.0</td>\n      <td>0.0</td>\n      <td>129.0</td>\n      <td>0.0</td>\n      <td>17073.0</td>\n      <td>3.0</td>\n    </tr>\n    <tr>\n      <th>36</th>\n      <td>Aguiar da Beira</td>\n      <td>Baixa Tensão</td>\n      <td>2022</td>\n      <td>8</td>\n      <td>1169901.469</td>\n      <td>3782.0</td>\n      <td>92.0</td>\n      <td>1000.0</td>\n      <td>14.0</td>\n      <td>1895.0</td>\n      <td>1.0</td>\n    </tr>\n    <tr>\n      <th>37</th>\n      <td>Aguiar da Beira</td>\n      <td>Baixa Tensão</td>\n      <td>2022</td>\n      <td>9</td>\n      <td>1015091.450</td>\n      <td>3784.0</td>\n      <td>92.0</td>\n      <td>999.0</td>\n      <td>16.0</td>\n      <td>1916.0</td>\n      <td>1.0</td>\n    </tr>\n    <tr>\n      <th>38</th>\n      <td>Aguiar da Beira</td>\n      <td>Baixa Tensão</td>\n      <td>2022</td>\n      <td>10</td>\n      <td>1034971.493</td>\n      <td>3784.0</td>\n      <td>92.0</td>\n      <td>998.0</td>\n      <td>16.0</td>\n      <td>2096.0</td>\n      <td>1.0</td>\n    </tr>\n    <tr>\n      <th>39</th>\n      <td>Aguiar da Beira</td>\n      <td>Baixa Tensão</td>\n      <td>2022</td>\n      <td>11</td>\n      <td>1080885.266</td>\n      <td>3779.0</td>\n      <td>92.0</td>\n      <td>999.0</td>\n      <td>16.0</td>\n      <td>2488.0</td>\n      <td>1.0</td>\n    </tr>\n    <tr>\n      <th>40</th>\n      <td>Aguiar da Beira</td>\n      <td>Baixa Tensão</td>\n      <td>2022</td>\n      <td>12</td>\n      <td>1162331.221</td>\n      <td>3782.0</td>\n      <td>93.0</td>\n      <td>1001.0</td>\n      <td>16.0</td>\n      <td>2549.0</td>\n      <td>1.0</td>\n    </tr>\n    <tr>\n      <th>41</th>\n      <td>Aguiar da Beira</td>\n      <td>Baixa Tensão</td>\n      <td>2023</td>\n      <td>1</td>\n      <td>1173285.049</td>\n      <td>3788.0</td>\n      <td>95.0</td>\n      <td>998.0</td>\n      <td>15.0</td>\n      <td>2661.0</td>\n      <td>1.0</td>\n    </tr>\n    <tr>\n      <th>42</th>\n      <td>Aguiar da Beira</td>\n      <td>Baixa Tensão</td>\n      <td>2023</td>\n      <td>2</td>\n      <td>1011769.778</td>\n      <td>3793.0</td>\n      <td>95.0</td>\n      <td>996.0</td>\n      <td>15.0</td>\n      <td>2971.0</td>\n      <td>1.0</td>\n    </tr>\n    <tr>\n      <th>43</th>\n      <td>Aguiar da Beira</td>\n      <td>Baixa Tensão</td>\n      <td>2023</td>\n      <td>3</td>\n      <td>1057910.894</td>\n      <td>3794.0</td>\n      <td>95.0</td>\n      <td>997.0</td>\n      <td>14.0</td>\n      <td>2909.0</td>\n      <td>2.0</td>\n    </tr>\n    <tr>\n      <th>44</th>\n      <td>Aguiar da Beira</td>\n      <td>Baixa Tensão</td>\n      <td>2023</td>\n      <td>4</td>\n      <td>947341.011</td>\n      <td>3794.0</td>\n      <td>95.0</td>\n      <td>997.0</td>\n      <td>14.0</td>\n      <td>2995.0</td>\n      <td>2.0</td>\n    </tr>\n    <tr>\n      <th>45</th>\n      <td>Aguiar da Beira</td>\n      <td>Baixa Tensão</td>\n      <td>2023</td>\n      <td>5</td>\n      <td>963018.657</td>\n      <td>3794.0</td>\n      <td>95.0</td>\n      <td>997.0</td>\n      <td>14.0</td>\n      <td>2919.0</td>\n      <td>2.0</td>\n    </tr>\n    <tr>\n      <th>46</th>\n      <td>Aguiar da Beira</td>\n      <td>Baixa Tensão</td>\n      <td>2023</td>\n      <td>6</td>\n      <td>986129.611</td>\n      <td>3802.0</td>\n      <td>95.0</td>\n      <td>1007.0</td>\n      <td>13.0</td>\n      <td>3302.0</td>\n      <td>2.0</td>\n    </tr>\n    <tr>\n      <th>47</th>\n      <td>Aguiar da Beira</td>\n      <td>Baixa Tensão</td>\n      <td>2023</td>\n      <td>7</td>\n      <td>1134875.794</td>\n      <td>3806.0</td>\n      <td>95.0</td>\n      <td>1006.0</td>\n      <td>14.0</td>\n      <td>3490.0</td>\n      <td>2.0</td>\n    </tr>\n    <tr>\n      <th>48</th>\n      <td>Aguiar da Beira</td>\n      <td>Baixa Tensão</td>\n      <td>2023</td>\n      <td>8</td>\n      <td>1177218.564</td>\n      <td>3813.0</td>\n      <td>95.0</td>\n      <td>1005.0</td>\n      <td>11.0</td>\n      <td>3568.0</td>\n      <td>2.0</td>\n    </tr>\n    <tr>\n      <th>49</th>\n      <td>Aguiar da Beira</td>\n      <td>Baixa Tensão</td>\n      <td>2023</td>\n      <td>9</td>\n      <td>1009073.010</td>\n      <td>3811.0</td>\n      <td>95.0</td>\n      <td>1001.0</td>\n      <td>10.0</td>\n      <td>3514.0</td>\n      <td>2.0</td>\n    </tr>\n  </tbody>\n</table>\n</div>"
     },
     "execution_count": 9,
     "metadata": {},
     "output_type": "execute_result"
    }
   ],
   "source": [
    "merged_df = pd.merge(merged_df, df_pivoted_mobility, on=['Concelho', 'Ano', 'Mês'], how='inner')\n",
    "\n",
    "# Verificar nulls\n",
    "null_counts = merged_df.isnull().sum()\n",
    "\n",
    "# Ver nulls por coluna\n",
    "print(\"Número de nulls por coluna:\")\n",
    "print(null_counts)\n",
    "\n",
    "merged_df.info()\n",
    "merged_df.head(50)"
   ],
   "metadata": {
    "collapsed": false,
    "ExecuteTime": {
     "end_time": "2024-04-18T15:14:04.245055Z",
     "start_time": "2024-04-18T15:14:04.194889Z"
    }
   },
   "id": "31904dd9dd3a695",
   "execution_count": 9
  },
  {
   "cell_type": "markdown",
   "source": [
    "7. Renomear as colunas para remover espaços e transformar tudo em letras minúsculas"
   ],
   "metadata": {
    "collapsed": false
   },
   "id": "1f56108d79491382"
  },
  {
   "cell_type": "code",
   "outputs": [
    {
     "name": "stdout",
     "output_type": "stream",
     "text": [
      "<class 'pandas.core.frame.DataFrame'>\n",
      "RangeIndex: 9790 entries, 0 to 9789\n",
      "Data columns (total 11 columns):\n",
      " #   Column                        Non-Null Count  Dtype  \n",
      "---  ------                        --------------  -----  \n",
      " 0   concelho                      9790 non-null   object \n",
      " 1   nível_de_tensão               9790 non-null   object \n",
      " 2   ano                           9790 non-null   int64  \n",
      " 3   mês                           9790 non-null   int64  \n",
      " 4   energia_ativa_(kwh)           9790 non-null   float64\n",
      " 5   cpes_doméstico                9790 non-null   float64\n",
      " 6   cpes_iluminação_pública       9790 non-null   float64\n",
      " 7   cpes_não_doméstico            9790 non-null   float64\n",
      " 8   cpes_outros                   9790 non-null   float64\n",
      " 9   cpes_mobilidade_eletrica_não  9790 non-null   float64\n",
      " 10  cpes_mobilidade_eletrica_sim  9790 non-null   float64\n",
      "dtypes: float64(7), int64(2), object(2)\n",
      "memory usage: 841.5+ KB\n"
     ]
    }
   ],
   "source": [
    "# Renomear as colunas removendo espaços e convertendo para letras minúsculas\n",
    "merged_df.columns = merged_df.columns.str.strip().str.lower().str.replace(' ', '_')\n",
    "\n",
    "# Exibir as novas colunas\n",
    "merged_df.info()"
   ],
   "metadata": {
    "collapsed": false,
    "ExecuteTime": {
     "end_time": "2024-04-18T15:14:04.253261Z",
     "start_time": "2024-04-18T15:14:04.214978Z"
    }
   },
   "id": "1c33da349261bff1",
   "execution_count": 10
  },
  {
   "cell_type": "markdown",
   "source": [
    "8. Colocar os tipos de tensão numa linha.\n",
    "    - Criando duas colunas de energia ativa (um para baixa tensão e outro para alta)\n",
    "    - Criando duas colunas para CPEs_domestico (um para baixa tensao e outro para alta)\n",
    "    - Criando duas colunas para CPEs_iluminacao_publica (um para baixa tensao e outro para alta)\n",
    "    - Criando duas colunas para CPEs_nao domestico (um para baixa tensao e outro para alta)\n",
    "    - Criando duas colunas para CPEs_outros (um para baixa tensao e outro para alta)\n",
    "    - Renomear as colunas de mobilidade eletrica para baixa tensao, porque estes só correspondem a CPEs de baixa tensão"
   ],
   "metadata": {
    "collapsed": false
   },
   "id": "96848e1238d0eb93"
  },
  {
   "cell_type": "code",
   "outputs": [
    {
     "data": {
      "text/plain": "      concelho   ano  mês  energia_ativa_(kwh)  cpes_doméstico  \\\n0     Abrantes  2022    8             11797578         20260.0   \n1     Abrantes  2022    9             11475993         20270.0   \n2     Abrantes  2022   10             11789357         20280.0   \n3     Abrantes  2022   11             11804430         20291.0   \n4     Abrantes  2022   12             12050308         20297.0   \n...        ...   ...  ...                  ...             ...   \n4909    Óbidos  2023    9              5790012          8533.0   \n4910    Óbidos  2023   10              5943510          8550.0   \n4911    Óbidos  2023   11              5856102          8556.0   \n4912    Óbidos  2023   12              6680626          8576.0   \n4913    Óbidos  2024    1              2699452          8586.0   \n\n      cpes_iluminação_pública  cpes_não_doméstico  cpes_outros  \\\n0                       293.0              4452.0         83.0   \n1                       293.0              4445.0         81.0   \n2                       293.0              4436.0         81.0   \n3                       293.0              4442.0         80.0   \n4                       294.0              4446.0         82.0   \n...                       ...                 ...          ...   \n4909                    157.0              1731.0        107.0   \n4910                    157.0              1730.0        107.0   \n4911                    157.0              1725.0        110.0   \n4912                    157.0              1726.0        107.0   \n4913                    157.0              1725.0        102.0   \n\n      cpes_mobilidade_eletrica_não  cpes_mobilidade_eletrica_sim  ...  \\\n0                          22194.0                           2.0  ...   \n1                          22596.0                           2.0  ...   \n2                          23126.0                           2.0  ...   \n3                          23938.0                           2.0  ...   \n4                          24420.0                           2.0  ...   \n...                            ...                           ...  ...   \n4909                       14876.0                           4.0  ...   \n4910                       15234.0                           4.0  ...   \n4911                       15594.0                           4.0  ...   \n4912                       16382.0                           4.0  ...   \n4913                       16028.0                           4.0  ...   \n\n      cpes_domestico_baixa_tensao  cpes_domestico_alta_tensao  \\\n0                           20260                           0   \n1                           20270                           0   \n2                           20280                           0   \n3                           20291                           0   \n4                           20297                           0   \n...                           ...                         ...   \n4909                         8533                           0   \n4910                         8550                           0   \n4911                         8556                           0   \n4912                         8576                           0   \n4913                         8586                           0   \n\n      cpes_iluminacao_publica_baixa_tensao  \\\n0                                      293   \n1                                      293   \n2                                      293   \n3                                      293   \n4                                      294   \n...                                    ...   \n4909                                   157   \n4910                                   157   \n4911                                   157   \n4912                                   157   \n4913                                   157   \n\n      cpes_iluminacao_publica_alta_tensao  cpes_nao_domestico_baixa_tensao  \\\n0                                       0                             4318   \n1                                       0                             4311   \n2                                       0                             4302   \n3                                       0                             4308   \n4                                       0                             4312   \n...                                   ...                              ...   \n4909                                    0                             1666   \n4910                                    0                             1665   \n4911                                    0                             1659   \n4912                                    0                             1660   \n4913                                    0                             1659   \n\n      cpes_nao_domestico_alta_tensao  cpes_outros_baixa_tensao  \\\n0                                134                        83   \n1                                134                        81   \n2                                134                        81   \n3                                134                        80   \n4                                134                        82   \n...                              ...                       ...   \n4909                              65                       107   \n4910                              65                       107   \n4911                              66                       110   \n4912                              66                       107   \n4913                              66                       102   \n\n      cpes_outros_alta_tensao  cpes_mobilidade_eletrica_nao_baixa_tensao  \\\n0                           0                                      22194   \n1                           0                                      22596   \n2                           0                                      23126   \n3                           0                                      23938   \n4                           0                                      24420   \n...                       ...                                        ...   \n4909                        0                                      14876   \n4910                        0                                      15234   \n4911                        0                                      15594   \n4912                        0                                      16382   \n4913                        0                                      16028   \n\n      cpes_mobilidade_eletrica_sim_baixa_tensao  \n0                                             2  \n1                                             2  \n2                                             2  \n3                                             2  \n4                                             2  \n...                                         ...  \n4909                                          4  \n4910                                          4  \n4911                                          4  \n4912                                          4  \n4913                                          4  \n\n[4914 rows x 22 columns]",
      "text/html": "<div>\n<style scoped>\n    .dataframe tbody tr th:only-of-type {\n        vertical-align: middle;\n    }\n\n    .dataframe tbody tr th {\n        vertical-align: top;\n    }\n\n    .dataframe thead th {\n        text-align: right;\n    }\n</style>\n<table border=\"1\" class=\"dataframe\">\n  <thead>\n    <tr style=\"text-align: right;\">\n      <th></th>\n      <th>concelho</th>\n      <th>ano</th>\n      <th>mês</th>\n      <th>energia_ativa_(kwh)</th>\n      <th>cpes_doméstico</th>\n      <th>cpes_iluminação_pública</th>\n      <th>cpes_não_doméstico</th>\n      <th>cpes_outros</th>\n      <th>cpes_mobilidade_eletrica_não</th>\n      <th>cpes_mobilidade_eletrica_sim</th>\n      <th>...</th>\n      <th>cpes_domestico_baixa_tensao</th>\n      <th>cpes_domestico_alta_tensao</th>\n      <th>cpes_iluminacao_publica_baixa_tensao</th>\n      <th>cpes_iluminacao_publica_alta_tensao</th>\n      <th>cpes_nao_domestico_baixa_tensao</th>\n      <th>cpes_nao_domestico_alta_tensao</th>\n      <th>cpes_outros_baixa_tensao</th>\n      <th>cpes_outros_alta_tensao</th>\n      <th>cpes_mobilidade_eletrica_nao_baixa_tensao</th>\n      <th>cpes_mobilidade_eletrica_sim_baixa_tensao</th>\n    </tr>\n  </thead>\n  <tbody>\n    <tr>\n      <th>0</th>\n      <td>Abrantes</td>\n      <td>2022</td>\n      <td>8</td>\n      <td>11797578</td>\n      <td>20260.0</td>\n      <td>293.0</td>\n      <td>4452.0</td>\n      <td>83.0</td>\n      <td>22194.0</td>\n      <td>2.0</td>\n      <td>...</td>\n      <td>20260</td>\n      <td>0</td>\n      <td>293</td>\n      <td>0</td>\n      <td>4318</td>\n      <td>134</td>\n      <td>83</td>\n      <td>0</td>\n      <td>22194</td>\n      <td>2</td>\n    </tr>\n    <tr>\n      <th>1</th>\n      <td>Abrantes</td>\n      <td>2022</td>\n      <td>9</td>\n      <td>11475993</td>\n      <td>20270.0</td>\n      <td>293.0</td>\n      <td>4445.0</td>\n      <td>81.0</td>\n      <td>22596.0</td>\n      <td>2.0</td>\n      <td>...</td>\n      <td>20270</td>\n      <td>0</td>\n      <td>293</td>\n      <td>0</td>\n      <td>4311</td>\n      <td>134</td>\n      <td>81</td>\n      <td>0</td>\n      <td>22596</td>\n      <td>2</td>\n    </tr>\n    <tr>\n      <th>2</th>\n      <td>Abrantes</td>\n      <td>2022</td>\n      <td>10</td>\n      <td>11789357</td>\n      <td>20280.0</td>\n      <td>293.0</td>\n      <td>4436.0</td>\n      <td>81.0</td>\n      <td>23126.0</td>\n      <td>2.0</td>\n      <td>...</td>\n      <td>20280</td>\n      <td>0</td>\n      <td>293</td>\n      <td>0</td>\n      <td>4302</td>\n      <td>134</td>\n      <td>81</td>\n      <td>0</td>\n      <td>23126</td>\n      <td>2</td>\n    </tr>\n    <tr>\n      <th>3</th>\n      <td>Abrantes</td>\n      <td>2022</td>\n      <td>11</td>\n      <td>11804430</td>\n      <td>20291.0</td>\n      <td>293.0</td>\n      <td>4442.0</td>\n      <td>80.0</td>\n      <td>23938.0</td>\n      <td>2.0</td>\n      <td>...</td>\n      <td>20291</td>\n      <td>0</td>\n      <td>293</td>\n      <td>0</td>\n      <td>4308</td>\n      <td>134</td>\n      <td>80</td>\n      <td>0</td>\n      <td>23938</td>\n      <td>2</td>\n    </tr>\n    <tr>\n      <th>4</th>\n      <td>Abrantes</td>\n      <td>2022</td>\n      <td>12</td>\n      <td>12050308</td>\n      <td>20297.0</td>\n      <td>294.0</td>\n      <td>4446.0</td>\n      <td>82.0</td>\n      <td>24420.0</td>\n      <td>2.0</td>\n      <td>...</td>\n      <td>20297</td>\n      <td>0</td>\n      <td>294</td>\n      <td>0</td>\n      <td>4312</td>\n      <td>134</td>\n      <td>82</td>\n      <td>0</td>\n      <td>24420</td>\n      <td>2</td>\n    </tr>\n    <tr>\n      <th>...</th>\n      <td>...</td>\n      <td>...</td>\n      <td>...</td>\n      <td>...</td>\n      <td>...</td>\n      <td>...</td>\n      <td>...</td>\n      <td>...</td>\n      <td>...</td>\n      <td>...</td>\n      <td>...</td>\n      <td>...</td>\n      <td>...</td>\n      <td>...</td>\n      <td>...</td>\n      <td>...</td>\n      <td>...</td>\n      <td>...</td>\n      <td>...</td>\n      <td>...</td>\n      <td>...</td>\n    </tr>\n    <tr>\n      <th>4909</th>\n      <td>Óbidos</td>\n      <td>2023</td>\n      <td>9</td>\n      <td>5790012</td>\n      <td>8533.0</td>\n      <td>157.0</td>\n      <td>1731.0</td>\n      <td>107.0</td>\n      <td>14876.0</td>\n      <td>4.0</td>\n      <td>...</td>\n      <td>8533</td>\n      <td>0</td>\n      <td>157</td>\n      <td>0</td>\n      <td>1666</td>\n      <td>65</td>\n      <td>107</td>\n      <td>0</td>\n      <td>14876</td>\n      <td>4</td>\n    </tr>\n    <tr>\n      <th>4910</th>\n      <td>Óbidos</td>\n      <td>2023</td>\n      <td>10</td>\n      <td>5943510</td>\n      <td>8550.0</td>\n      <td>157.0</td>\n      <td>1730.0</td>\n      <td>107.0</td>\n      <td>15234.0</td>\n      <td>4.0</td>\n      <td>...</td>\n      <td>8550</td>\n      <td>0</td>\n      <td>157</td>\n      <td>0</td>\n      <td>1665</td>\n      <td>65</td>\n      <td>107</td>\n      <td>0</td>\n      <td>15234</td>\n      <td>4</td>\n    </tr>\n    <tr>\n      <th>4911</th>\n      <td>Óbidos</td>\n      <td>2023</td>\n      <td>11</td>\n      <td>5856102</td>\n      <td>8556.0</td>\n      <td>157.0</td>\n      <td>1725.0</td>\n      <td>110.0</td>\n      <td>15594.0</td>\n      <td>4.0</td>\n      <td>...</td>\n      <td>8556</td>\n      <td>0</td>\n      <td>157</td>\n      <td>0</td>\n      <td>1659</td>\n      <td>66</td>\n      <td>110</td>\n      <td>0</td>\n      <td>15594</td>\n      <td>4</td>\n    </tr>\n    <tr>\n      <th>4912</th>\n      <td>Óbidos</td>\n      <td>2023</td>\n      <td>12</td>\n      <td>6680626</td>\n      <td>8576.0</td>\n      <td>157.0</td>\n      <td>1726.0</td>\n      <td>107.0</td>\n      <td>16382.0</td>\n      <td>4.0</td>\n      <td>...</td>\n      <td>8576</td>\n      <td>0</td>\n      <td>157</td>\n      <td>0</td>\n      <td>1660</td>\n      <td>66</td>\n      <td>107</td>\n      <td>0</td>\n      <td>16382</td>\n      <td>4</td>\n    </tr>\n    <tr>\n      <th>4913</th>\n      <td>Óbidos</td>\n      <td>2024</td>\n      <td>1</td>\n      <td>2699452</td>\n      <td>8586.0</td>\n      <td>157.0</td>\n      <td>1725.0</td>\n      <td>102.0</td>\n      <td>16028.0</td>\n      <td>4.0</td>\n      <td>...</td>\n      <td>8586</td>\n      <td>0</td>\n      <td>157</td>\n      <td>0</td>\n      <td>1659</td>\n      <td>66</td>\n      <td>102</td>\n      <td>0</td>\n      <td>16028</td>\n      <td>4</td>\n    </tr>\n  </tbody>\n</table>\n<p>4914 rows × 22 columns</p>\n</div>"
     },
     "execution_count": 11,
     "metadata": {},
     "output_type": "execute_result"
    }
   ],
   "source": [
    "merged_df['energia_ativa_(kwh)'] = merged_df['energia_ativa_(kwh)'].astype('int64')\n",
    "\n",
    "# Criar novas colunas para energia ativa e CPES de baixa e alta tensão, inicialmente com valor zero\n",
    "merged_df['energia_ativa_baixa_tensao_kwh'] = 0\n",
    "merged_df['energia_ativa_alta_tensao_kwh'] = 0\n",
    "merged_df['cpes_domestico_baixa_tensao'] = 0\n",
    "merged_df['cpes_domestico_alta_tensao'] = 0\n",
    "merged_df['cpes_iluminacao_publica_baixa_tensao'] = 0\n",
    "merged_df['cpes_iluminacao_publica_alta_tensao'] = 0\n",
    "merged_df['cpes_nao_domestico_baixa_tensao'] = 0\n",
    "merged_df['cpes_nao_domestico_alta_tensao'] = 0\n",
    "merged_df['cpes_outros_baixa_tensao'] = 0\n",
    "merged_df['cpes_outros_alta_tensao'] = 0\n",
    "\n",
    "# Filtrar os dados de alta tensão e baixa tensão\n",
    "baixa_tensao_mask = merged_df['nível_de_tensão'].str.contains('Baixa Tensão')\n",
    "alta_tensao_mask = merged_df['nível_de_tensão'].str.contains('Muito Alta, Alta e Média Tensões')\n",
    "\n",
    "# Atribuir os valores correspondentes de energia ativa e CPES às colunas apropriadas de baixa e alta tensão\n",
    "merged_df.loc[baixa_tensao_mask, 'energia_ativa_baixa_tensao_kwh'] = merged_df.loc[baixa_tensao_mask, 'energia_ativa_(kwh)']\n",
    "merged_df.loc[alta_tensao_mask, 'energia_ativa_alta_tensao_kwh'] = merged_df.loc[alta_tensao_mask, 'energia_ativa_(kwh)']\n",
    "\n",
    "merged_df.loc[baixa_tensao_mask, 'cpes_domestico_baixa_tensao'] = merged_df.loc[baixa_tensao_mask, 'cpes_doméstico']\n",
    "merged_df.loc[alta_tensao_mask, 'cpes_domestico_alta_tensao'] = merged_df.loc[alta_tensao_mask, 'cpes_doméstico']\n",
    "\n",
    "merged_df.loc[baixa_tensao_mask, 'cpes_iluminacao_publica_baixa_tensao'] = merged_df.loc[baixa_tensao_mask, 'cpes_iluminação_pública']\n",
    "merged_df.loc[alta_tensao_mask, 'cpes_iluminacao_publica_alta_tensao'] = merged_df.loc[alta_tensao_mask, 'cpes_iluminação_pública']\n",
    "\n",
    "merged_df.loc[baixa_tensao_mask, 'cpes_nao_domestico_baixa_tensao'] = merged_df.loc[baixa_tensao_mask, 'cpes_não_doméstico']\n",
    "merged_df.loc[alta_tensao_mask, 'cpes_nao_domestico_alta_tensao'] = merged_df.loc[alta_tensao_mask, 'cpes_não_doméstico']\n",
    "\n",
    "merged_df.loc[baixa_tensao_mask, 'cpes_outros_baixa_tensao'] = merged_df.loc[baixa_tensao_mask, 'cpes_outros']\n",
    "merged_df.loc[alta_tensao_mask, 'cpes_outros_alta_tensao'] = merged_df.loc[alta_tensao_mask, 'cpes_outros']\n",
    "\n",
    "merged_df['cpes_mobilidade_eletrica_nao_baixa_tensao'] = merged_df['cpes_mobilidade_eletrica_não']\n",
    "merged_df['cpes_mobilidade_eletrica_sim_baixa_tensao'] = merged_df['cpes_mobilidade_eletrica_sim']\n",
    "\n",
    "merged_df['cpes_mobilidade_eletrica_nao_baixa_tensao'] = merged_df['cpes_mobilidade_eletrica_nao_baixa_tensao'].astype('int64')\n",
    "merged_df['cpes_mobilidade_eletrica_sim_baixa_tensao'] = merged_df['cpes_mobilidade_eletrica_sim_baixa_tensao'].astype('int64')\n",
    "\n",
    "# Excluir a coluna de tipo de tensão original\n",
    "merged_df.drop(columns=['nível_de_tensão'], inplace=True)\n",
    "\n",
    "# Agrupar por ano e mês e somar os valores das colunas\n",
    "merged_df = merged_df.groupby(['concelho', 'ano', 'mês']).sum().reset_index()\n",
    "\n",
    "# Exibir os registros do DataFrame\n",
    "merged_df\n"
   ],
   "metadata": {
    "collapsed": false,
    "ExecuteTime": {
     "end_time": "2024-04-18T15:14:04.290663Z",
     "start_time": "2024-04-18T15:14:04.221626Z"
    }
   },
   "id": "58861a896e574e9f",
   "execution_count": 11
  },
  {
   "cell_type": "markdown",
   "source": [
    "9. Remover as colunas antigas"
   ],
   "metadata": {
    "collapsed": false
   },
   "id": "7f054ab301e32a48"
  },
  {
   "cell_type": "code",
   "outputs": [
    {
     "name": "stdout",
     "output_type": "stream",
     "text": [
      "<class 'pandas.core.frame.DataFrame'>\n",
      "RangeIndex: 4914 entries, 0 to 4913\n",
      "Data columns (total 15 columns):\n",
      " #   Column                                     Non-Null Count  Dtype \n",
      "---  ------                                     --------------  ----- \n",
      " 0   concelho                                   4914 non-null   object\n",
      " 1   ano                                        4914 non-null   int64 \n",
      " 2   mês                                        4914 non-null   int64 \n",
      " 3   energia_ativa_baixa_tensao_kwh             4914 non-null   int64 \n",
      " 4   energia_ativa_alta_tensao_kwh              4914 non-null   int64 \n",
      " 5   cpes_domestico_baixa_tensao                4914 non-null   int64 \n",
      " 6   cpes_domestico_alta_tensao                 4914 non-null   int64 \n",
      " 7   cpes_iluminacao_publica_baixa_tensao       4914 non-null   int64 \n",
      " 8   cpes_iluminacao_publica_alta_tensao        4914 non-null   int64 \n",
      " 9   cpes_nao_domestico_baixa_tensao            4914 non-null   int64 \n",
      " 10  cpes_nao_domestico_alta_tensao             4914 non-null   int64 \n",
      " 11  cpes_outros_baixa_tensao                   4914 non-null   int64 \n",
      " 12  cpes_outros_alta_tensao                    4914 non-null   int64 \n",
      " 13  cpes_mobilidade_eletrica_nao_baixa_tensao  4914 non-null   int64 \n",
      " 14  cpes_mobilidade_eletrica_sim_baixa_tensao  4914 non-null   int64 \n",
      "dtypes: int64(14), object(1)\n",
      "memory usage: 576.0+ KB\n",
      "DataFrame guardado em  ../data/treated/merged-dataset-concelho.csv\n"
     ]
    }
   ],
   "source": [
    "# Drop das colunas originais\n",
    "merged_df.drop(columns=['energia_ativa_(kwh)', 'cpes_doméstico', 'cpes_iluminação_pública', 'cpes_não_doméstico', 'cpes_outros', 'cpes_mobilidade_eletrica_não', 'cpes_mobilidade_eletrica_sim'], inplace=True)\n",
    "\n",
    "merged_df.info()\n",
    "\n",
    "file_path = data_path + 'treated/merged-dataset-concelho.csv'\n",
    "\n",
    "merged_df.to_csv(file_path, index=False)\n",
    "\n",
    "print(\"DataFrame guardado em \", file_path)"
   ],
   "metadata": {
    "collapsed": false,
    "ExecuteTime": {
     "end_time": "2024-04-18T15:14:04.319307Z",
     "start_time": "2024-04-18T15:14:04.242143Z"
    }
   },
   "id": "e723c751dd4a6588",
   "execution_count": 12
  },
  {
   "cell_type": "markdown",
   "source": [
    "10. Remover a coluna do concelho porque não pode fazer parte das variáveis informativas. Só serve para agregar os dados"
   ],
   "metadata": {
    "collapsed": false
   },
   "id": "7e79fa363ddf3323"
  },
  {
   "cell_type": "code",
   "outputs": [],
   "source": [
    "merged_df.drop(columns=['concelho'], inplace=True)"
   ],
   "metadata": {
    "collapsed": false,
    "ExecuteTime": {
     "end_time": "2024-04-18T15:14:04.319991Z",
     "start_time": "2024-04-18T15:14:04.256902Z"
    }
   },
   "id": "9ba2af2a9da78a44",
   "execution_count": 13
  },
  {
   "cell_type": "markdown",
   "source": [
    "11. Guardar ficheiro para verificar se está tudo certo"
   ],
   "metadata": {
    "collapsed": false
   },
   "id": "5ddabd239c6258e9"
  },
  {
   "cell_type": "code",
   "outputs": [
    {
     "name": "stdout",
     "output_type": "stream",
     "text": [
      "Número de nulls por coluna:\n",
      "ano                                          0\n",
      "mês                                          0\n",
      "energia_ativa_baixa_tensao_kwh               0\n",
      "energia_ativa_alta_tensao_kwh                0\n",
      "cpes_domestico_baixa_tensao                  0\n",
      "cpes_domestico_alta_tensao                   0\n",
      "cpes_iluminacao_publica_baixa_tensao         0\n",
      "cpes_iluminacao_publica_alta_tensao          0\n",
      "cpes_nao_domestico_baixa_tensao              0\n",
      "cpes_nao_domestico_alta_tensao               0\n",
      "cpes_outros_baixa_tensao                     0\n",
      "cpes_outros_alta_tensao                      0\n",
      "cpes_mobilidade_eletrica_nao_baixa_tensao    0\n",
      "cpes_mobilidade_eletrica_sim_baixa_tensao    0\n",
      "dtype: int64\n",
      "DataFrame guardado em  ../data/treated/merged-dataset.csv\n"
     ]
    }
   ],
   "source": [
    "# Verificar nulls\n",
    "null_counts = merged_df.isnull().sum()\n",
    "\n",
    "# Ver nulls por coluna\n",
    "print(\"Número de nulls por coluna:\")\n",
    "print(null_counts)\n",
    "\n",
    "file_path = data_path + 'treated/merged-dataset.csv'\n",
    "\n",
    "merged_df.to_csv(file_path, index=False)\n",
    "\n",
    "print(\"DataFrame guardado em \", file_path)"
   ],
   "metadata": {
    "collapsed": false,
    "ExecuteTime": {
     "end_time": "2024-04-18T15:14:04.324891Z",
     "start_time": "2024-04-18T15:14:04.260468Z"
    }
   },
   "id": "367c74a59115e94e",
   "execution_count": 14
  }
 ],
 "metadata": {
  "kernelspec": {
   "display_name": "Python 3",
   "language": "python",
   "name": "python3"
  },
  "language_info": {
   "codemirror_mode": {
    "name": "ipython",
    "version": 2
   },
   "file_extension": ".py",
   "mimetype": "text/x-python",
   "name": "python",
   "nbconvert_exporter": "python",
   "pygments_lexer": "ipython2",
   "version": "2.7.6"
  }
 },
 "nbformat": 4,
 "nbformat_minor": 5
}
