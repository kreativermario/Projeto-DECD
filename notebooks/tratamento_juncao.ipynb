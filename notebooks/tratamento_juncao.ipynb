{
 "cells": [
  {
   "cell_type": "markdown",
   "source": [
    "### Import das dependencias"
   ],
   "metadata": {
    "collapsed": false
   },
   "id": "efcc4b5c578b4079"
  },
  {
   "cell_type": "code",
   "outputs": [],
   "source": [
    "import os\n",
    "\n",
    "import numpy as np\n",
    "import pandas as pd\n",
    "\n",
    "%matplotlib inline\n",
    "import matplotlib.pyplot as plt\n",
    "import seaborn as sns\n",
    "\n",
    "sns.set_theme()"
   ],
   "metadata": {
    "collapsed": false,
    "ExecuteTime": {
     "end_time": "2024-04-06T14:46:37.113230Z",
     "start_time": "2024-04-06T14:46:37.099138Z"
    }
   },
   "id": "f5ec9a1ea709c083",
   "execution_count": 25
  },
  {
   "cell_type": "markdown",
   "source": [
    "### 1. Importar todos os datasets tratados"
   ],
   "metadata": {
    "collapsed": false
   },
   "id": "51bd4d1097fb7c24"
  },
  {
   "cell_type": "code",
   "outputs": [],
   "source": [
    "data_path = '../data/' if os.path.exists('../data/') else 'https://raw.githubusercontent.com/kreativermario/Projeto-DECD/master/data/'\n",
    "\n",
    "consumos_faturados_path = data_path + 'treated/consumos_faturados_por_municipio_10_anos.csv'\n",
    "caracterizacao_cpe_path = data_path + 'treated/caracterizacao-pes-contrato-ativo.csv'\n",
    "diagrama_carga_path = data_path + 'treated/diagrama_de_carga_por_mes.csv'\n",
    "\n",
    "df_consumos_faturados = pd.read_csv(consumos_faturados_path)\n",
    "df_caracterizacao_cpe = pd.read_csv(caracterizacao_cpe_path)\n",
    "df_diagrama_carga = pd.read_csv(diagrama_carga_path)"
   ],
   "metadata": {
    "collapsed": false,
    "ExecuteTime": {
     "end_time": "2024-04-06T14:46:37.155916Z",
     "start_time": "2024-04-06T14:46:37.116285Z"
    }
   },
   "id": "20788c7075242c0f",
   "execution_count": 26
  },
  {
   "cell_type": "markdown",
   "source": [
    "### 2. Juntar os datasets\n",
    "\n",
    "- 1. Primeiro juntar consumos faturados e caracterizacao cpe\n",
    "    - A coleção de caracterizacao CPE tem uma categorização de nível de tensão diferente da coleção consumos faturados\n",
    "        - Separando a \"Baixa Tensão\" em duas \"Baixa Tensão Normal\" e \"Baixa Tensão Especial\"\n",
    "        - Temos então de tratar da coleção caracterizacao_cpe primeiro para tornar esses dois tipos num único tipo \"Baixa Tensão\"\n",
    "    - Após esse tratamento, pode-se proceder à junção \n",
    "- 2. Segundo juntar com a coleção de diagramas de carga."
   ],
   "metadata": {
    "collapsed": false
   },
   "id": "ec6d78242c2d1319"
  },
  {
   "cell_type": "markdown",
   "source": [
    "Ver os valores possíveis de Nível de Tensão da coleção caracterizacao de cpe"
   ],
   "metadata": {
    "collapsed": false
   },
   "id": "59daf3a5943d4f01"
  },
  {
   "cell_type": "code",
   "outputs": [
    {
     "data": {
      "text/plain": "array(['Baixa Tensão Especial', 'Baixa Tensão Normal',\n       'Muito Alta, Alta e Média Tensões'], dtype=object)"
     },
     "execution_count": 27,
     "metadata": {},
     "output_type": "execute_result"
    }
   ],
   "source": [
    "df_caracterizacao_cpe['Nível de Tensão'].unique()"
   ],
   "metadata": {
    "collapsed": false,
    "ExecuteTime": {
     "end_time": "2024-04-06T14:46:37.159977Z",
     "start_time": "2024-04-06T14:46:37.154531Z"
    }
   },
   "id": "2bb7ba412bce7a2e",
   "execution_count": 27
  },
  {
   "cell_type": "markdown",
   "source": [
    "1. Tratamento coleção caracterizacao CPE"
   ],
   "metadata": {
    "collapsed": false
   },
   "id": "93ddee248f410726"
  },
  {
   "cell_type": "code",
   "outputs": [
    {
     "data": {
      "text/plain": "array(['Baixa Tensão', 'Muito Alta, Alta e Média Tensões'], dtype=object)"
     },
     "execution_count": 28,
     "metadata": {},
     "output_type": "execute_result"
    }
   ],
   "source": [
    "# Passo 1: Substituir valores de nível de tensão\n",
    "df_caracterizacao_cpe['Nível de Tensão'] = df_caracterizacao_cpe['Nível de Tensão'].replace({'Baixa Tensão Normal': 'Baixa Tensão', 'Baixa Tensão Especial': 'Baixa Tensão'})\n",
    "\n",
    "df_caracterizacao_cpe['Nível de Tensão'].unique()"
   ],
   "metadata": {
    "collapsed": false,
    "ExecuteTime": {
     "end_time": "2024-04-06T14:46:37.168445Z",
     "start_time": "2024-04-06T14:46:37.158992Z"
    }
   },
   "id": "c6853b8ba5bf2c08",
   "execution_count": 28
  },
  {
   "cell_type": "markdown",
   "source": [
    "2. Agrupar os valores de contagens de CPEs com a nova categoria \"Baixa Tensão\""
   ],
   "metadata": {
    "collapsed": false
   },
   "id": "bbf1506bf950f1e6"
  },
  {
   "cell_type": "code",
   "outputs": [
    {
     "data": {
      "text/plain": "       Concelho                   Nível de Tensão Tipo de Instalação   Ano  \\\n0      Abrantes                      Baixa Tensão          Doméstico  2022   \n1      Abrantes                      Baixa Tensão          Doméstico  2022   \n2      Abrantes                      Baixa Tensão          Doméstico  2022   \n3      Abrantes                      Baixa Tensão          Doméstico  2022   \n4      Abrantes                      Baixa Tensão          Doméstico  2022   \n...         ...                               ...                ...   ...   \n35123    Óbidos  Muito Alta, Alta e Média Tensões      Não Doméstico  2023   \n35124    Óbidos  Muito Alta, Alta e Média Tensões      Não Doméstico  2023   \n35125    Óbidos  Muito Alta, Alta e Média Tensões      Não Doméstico  2024   \n35126    Óbidos  Muito Alta, Alta e Média Tensões      Não Doméstico  2024   \n35127    Óbidos  Muito Alta, Alta e Média Tensões      Não Doméstico  2024   \n\n       Mês  CPEs (#)  \n0        3     20283  \n1        4     20267  \n2        5     20254  \n3        6     20259  \n4        7     20250  \n...    ...       ...  \n35123   11        66  \n35124   12        66  \n35125    1        66  \n35126    2        66  \n35127    3        67  \n\n[35128 rows x 6 columns]",
      "text/html": "<div>\n<style scoped>\n    .dataframe tbody tr th:only-of-type {\n        vertical-align: middle;\n    }\n\n    .dataframe tbody tr th {\n        vertical-align: top;\n    }\n\n    .dataframe thead th {\n        text-align: right;\n    }\n</style>\n<table border=\"1\" class=\"dataframe\">\n  <thead>\n    <tr style=\"text-align: right;\">\n      <th></th>\n      <th>Concelho</th>\n      <th>Nível de Tensão</th>\n      <th>Tipo de Instalação</th>\n      <th>Ano</th>\n      <th>Mês</th>\n      <th>CPEs (#)</th>\n    </tr>\n  </thead>\n  <tbody>\n    <tr>\n      <th>0</th>\n      <td>Abrantes</td>\n      <td>Baixa Tensão</td>\n      <td>Doméstico</td>\n      <td>2022</td>\n      <td>3</td>\n      <td>20283</td>\n    </tr>\n    <tr>\n      <th>1</th>\n      <td>Abrantes</td>\n      <td>Baixa Tensão</td>\n      <td>Doméstico</td>\n      <td>2022</td>\n      <td>4</td>\n      <td>20267</td>\n    </tr>\n    <tr>\n      <th>2</th>\n      <td>Abrantes</td>\n      <td>Baixa Tensão</td>\n      <td>Doméstico</td>\n      <td>2022</td>\n      <td>5</td>\n      <td>20254</td>\n    </tr>\n    <tr>\n      <th>3</th>\n      <td>Abrantes</td>\n      <td>Baixa Tensão</td>\n      <td>Doméstico</td>\n      <td>2022</td>\n      <td>6</td>\n      <td>20259</td>\n    </tr>\n    <tr>\n      <th>4</th>\n      <td>Abrantes</td>\n      <td>Baixa Tensão</td>\n      <td>Doméstico</td>\n      <td>2022</td>\n      <td>7</td>\n      <td>20250</td>\n    </tr>\n    <tr>\n      <th>...</th>\n      <td>...</td>\n      <td>...</td>\n      <td>...</td>\n      <td>...</td>\n      <td>...</td>\n      <td>...</td>\n    </tr>\n    <tr>\n      <th>35123</th>\n      <td>Óbidos</td>\n      <td>Muito Alta, Alta e Média Tensões</td>\n      <td>Não Doméstico</td>\n      <td>2023</td>\n      <td>11</td>\n      <td>66</td>\n    </tr>\n    <tr>\n      <th>35124</th>\n      <td>Óbidos</td>\n      <td>Muito Alta, Alta e Média Tensões</td>\n      <td>Não Doméstico</td>\n      <td>2023</td>\n      <td>12</td>\n      <td>66</td>\n    </tr>\n    <tr>\n      <th>35125</th>\n      <td>Óbidos</td>\n      <td>Muito Alta, Alta e Média Tensões</td>\n      <td>Não Doméstico</td>\n      <td>2024</td>\n      <td>1</td>\n      <td>66</td>\n    </tr>\n    <tr>\n      <th>35126</th>\n      <td>Óbidos</td>\n      <td>Muito Alta, Alta e Média Tensões</td>\n      <td>Não Doméstico</td>\n      <td>2024</td>\n      <td>2</td>\n      <td>66</td>\n    </tr>\n    <tr>\n      <th>35127</th>\n      <td>Óbidos</td>\n      <td>Muito Alta, Alta e Média Tensões</td>\n      <td>Não Doméstico</td>\n      <td>2024</td>\n      <td>3</td>\n      <td>67</td>\n    </tr>\n  </tbody>\n</table>\n<p>35128 rows × 6 columns</p>\n</div>"
     },
     "execution_count": 29,
     "metadata": {},
     "output_type": "execute_result"
    }
   ],
   "source": [
    "df_caracterizacao_cpe_grouped = df_caracterizacao_cpe.groupby(['Concelho', 'Nível de Tensão', 'Tipo de Instalação', 'Ano', 'Mês']).sum().reset_index()\n",
    "\n",
    "df_caracterizacao_cpe_grouped\n"
   ],
   "metadata": {
    "collapsed": false,
    "ExecuteTime": {
     "end_time": "2024-04-06T14:46:37.184924Z",
     "start_time": "2024-04-06T14:46:37.169680Z"
    }
   },
   "id": "d65cf39eeb6057c9",
   "execution_count": 29
  },
  {
   "cell_type": "markdown",
   "source": [
    "3. Guardar ficheiro para verificar se está tudo certo"
   ],
   "metadata": {
    "collapsed": false
   },
   "id": "aee514ff0c84b"
  },
  {
   "cell_type": "code",
   "outputs": [
    {
     "name": "stdout",
     "output_type": "stream",
     "text": [
      "DataFrame guardado em  ../data/treated/caracterizacao-pes-contrato-ativo-agrupado.csv\n"
     ]
    }
   ],
   "source": [
    "file_path = data_path + 'treated/caracterizacao-pes-contrato-ativo-agrupado.csv'\n",
    "\n",
    "df_caracterizacao_cpe_grouped.to_csv(file_path, index=False)\n",
    "\n",
    "print(\"DataFrame guardado em \", file_path)"
   ],
   "metadata": {
    "collapsed": false,
    "ExecuteTime": {
     "end_time": "2024-04-06T14:46:37.232886Z",
     "start_time": "2024-04-06T14:46:37.183273Z"
    }
   },
   "id": "fc3e05800de9969a",
   "execution_count": 30
  },
  {
   "cell_type": "markdown",
   "source": [
    "4. Junção das coleçoes consumos faturados e caracterizacao cpe"
   ],
   "metadata": {
    "collapsed": false
   },
   "id": "1f8abd29535a22e8"
  },
  {
   "cell_type": "code",
   "outputs": [
    {
     "name": "stdout",
     "output_type": "stream",
     "text": [
      "Número de nulls por coluna:\n",
      "Concelho               0\n",
      "Nível de Tensão        0\n",
      "Ano                    0\n",
      "Mês                    0\n",
      "Energia Ativa (kWh)    0\n",
      "Tipo de Instalação     0\n",
      "CPEs (#)               0\n",
      "dtype: int64\n",
      "<class 'pandas.core.frame.DataFrame'>\n",
      "RangeIndex: 32278 entries, 0 to 32277\n",
      "Data columns (total 7 columns):\n",
      " #   Column               Non-Null Count  Dtype  \n",
      "---  ------               --------------  -----  \n",
      " 0   Concelho             32278 non-null  object \n",
      " 1   Nível de Tensão      32278 non-null  object \n",
      " 2   Ano                  32278 non-null  int64  \n",
      " 3   Mês                  32278 non-null  int64  \n",
      " 4   Energia Ativa (kWh)  32278 non-null  float64\n",
      " 5   Tipo de Instalação   32278 non-null  object \n",
      " 6   CPEs (#)             32278 non-null  int64  \n",
      "dtypes: float64(1), int64(3), object(3)\n",
      "memory usage: 1.7+ MB\n"
     ]
    },
    {
     "data": {
      "text/plain": "    Concelho Nível de Tensão   Ano  Mês  Energia Ativa (kWh)  \\\n0   Abrantes    Baixa Tensão  2022    3          6375824.308   \n1   Abrantes    Baixa Tensão  2022    3          6375824.308   \n2   Abrantes    Baixa Tensão  2022    3          6375824.308   \n3   Abrantes    Baixa Tensão  2022    3          6375824.308   \n4   Abrantes    Baixa Tensão  2022    4          5560992.246   \n5   Abrantes    Baixa Tensão  2022    4          5560992.246   \n6   Abrantes    Baixa Tensão  2022    4          5560992.246   \n7   Abrantes    Baixa Tensão  2022    4          5560992.246   \n8   Abrantes    Baixa Tensão  2022    5          5480833.643   \n9   Abrantes    Baixa Tensão  2022    5          5480833.643   \n10  Abrantes    Baixa Tensão  2022    5          5480833.643   \n11  Abrantes    Baixa Tensão  2022    5          5480833.643   \n12  Abrantes    Baixa Tensão  2022    6          5420579.537   \n13  Abrantes    Baixa Tensão  2022    6          5420579.537   \n14  Abrantes    Baixa Tensão  2022    6          5420579.537   \n15  Abrantes    Baixa Tensão  2022    6          5420579.537   \n16  Abrantes    Baixa Tensão  2022    7          6227622.409   \n17  Abrantes    Baixa Tensão  2022    7          6227622.409   \n18  Abrantes    Baixa Tensão  2022    7          6227622.409   \n19  Abrantes    Baixa Tensão  2022    7          6227622.409   \n20  Abrantes    Baixa Tensão  2022    8          5906036.429   \n21  Abrantes    Baixa Tensão  2022    8          5906036.429   \n22  Abrantes    Baixa Tensão  2022    8          5906036.429   \n23  Abrantes    Baixa Tensão  2022    8          5906036.429   \n24  Abrantes    Baixa Tensão  2022    9          5316878.736   \n25  Abrantes    Baixa Tensão  2022    9          5316878.736   \n26  Abrantes    Baixa Tensão  2022    9          5316878.736   \n27  Abrantes    Baixa Tensão  2022    9          5316878.736   \n28  Abrantes    Baixa Tensão  2022   10          5428732.778   \n29  Abrantes    Baixa Tensão  2022   10          5428732.778   \n30  Abrantes    Baixa Tensão  2022   10          5428732.778   \n31  Abrantes    Baixa Tensão  2022   10          5428732.778   \n32  Abrantes    Baixa Tensão  2022   11          5843266.356   \n33  Abrantes    Baixa Tensão  2022   11          5843266.356   \n34  Abrantes    Baixa Tensão  2022   11          5843266.356   \n35  Abrantes    Baixa Tensão  2022   11          5843266.356   \n36  Abrantes    Baixa Tensão  2022   12          6778130.292   \n37  Abrantes    Baixa Tensão  2022   12          6778130.292   \n38  Abrantes    Baixa Tensão  2022   12          6778130.292   \n39  Abrantes    Baixa Tensão  2022   12          6778130.292   \n40  Abrantes    Baixa Tensão  2023    1          7369772.117   \n41  Abrantes    Baixa Tensão  2023    1          7369772.117   \n42  Abrantes    Baixa Tensão  2023    1          7369772.117   \n43  Abrantes    Baixa Tensão  2023    1          7369772.117   \n44  Abrantes    Baixa Tensão  2023    2          6507806.283   \n45  Abrantes    Baixa Tensão  2023    2          6507806.283   \n46  Abrantes    Baixa Tensão  2023    2          6507806.283   \n47  Abrantes    Baixa Tensão  2023    2          6507806.283   \n48  Abrantes    Baixa Tensão  2023    3          6077229.553   \n49  Abrantes    Baixa Tensão  2023    3          6077229.553   \n\n    Tipo de Instalação  CPEs (#)  \n0            Doméstico     20283  \n1   Iluminação Pública       293  \n2        Não Doméstico      4334  \n3               Outros        83  \n4            Doméstico     20267  \n5   Iluminação Pública       293  \n6        Não Doméstico      4337  \n7               Outros        83  \n8            Doméstico     20254  \n9   Iluminação Pública       293  \n10       Não Doméstico      4324  \n11              Outros        82  \n12           Doméstico     20259  \n13  Iluminação Pública       293  \n14       Não Doméstico      4327  \n15              Outros        82  \n16           Doméstico     20250  \n17  Iluminação Pública       293  \n18       Não Doméstico      4320  \n19              Outros        83  \n20           Doméstico     20260  \n21  Iluminação Pública       293  \n22       Não Doméstico      4318  \n23              Outros        83  \n24           Doméstico     20270  \n25  Iluminação Pública       293  \n26       Não Doméstico      4311  \n27              Outros        81  \n28           Doméstico     20280  \n29  Iluminação Pública       293  \n30       Não Doméstico      4302  \n31              Outros        81  \n32           Doméstico     20291  \n33  Iluminação Pública       293  \n34       Não Doméstico      4308  \n35              Outros        80  \n36           Doméstico     20297  \n37  Iluminação Pública       294  \n38       Não Doméstico      4312  \n39              Outros        82  \n40           Doméstico     20298  \n41  Iluminação Pública       294  \n42       Não Doméstico      4309  \n43              Outros        82  \n44           Doméstico     20288  \n45  Iluminação Pública       294  \n46       Não Doméstico      4310  \n47              Outros       113  \n48           Doméstico     20280  \n49  Iluminação Pública       294  ",
      "text/html": "<div>\n<style scoped>\n    .dataframe tbody tr th:only-of-type {\n        vertical-align: middle;\n    }\n\n    .dataframe tbody tr th {\n        vertical-align: top;\n    }\n\n    .dataframe thead th {\n        text-align: right;\n    }\n</style>\n<table border=\"1\" class=\"dataframe\">\n  <thead>\n    <tr style=\"text-align: right;\">\n      <th></th>\n      <th>Concelho</th>\n      <th>Nível de Tensão</th>\n      <th>Ano</th>\n      <th>Mês</th>\n      <th>Energia Ativa (kWh)</th>\n      <th>Tipo de Instalação</th>\n      <th>CPEs (#)</th>\n    </tr>\n  </thead>\n  <tbody>\n    <tr>\n      <th>0</th>\n      <td>Abrantes</td>\n      <td>Baixa Tensão</td>\n      <td>2022</td>\n      <td>3</td>\n      <td>6375824.308</td>\n      <td>Doméstico</td>\n      <td>20283</td>\n    </tr>\n    <tr>\n      <th>1</th>\n      <td>Abrantes</td>\n      <td>Baixa Tensão</td>\n      <td>2022</td>\n      <td>3</td>\n      <td>6375824.308</td>\n      <td>Iluminação Pública</td>\n      <td>293</td>\n    </tr>\n    <tr>\n      <th>2</th>\n      <td>Abrantes</td>\n      <td>Baixa Tensão</td>\n      <td>2022</td>\n      <td>3</td>\n      <td>6375824.308</td>\n      <td>Não Doméstico</td>\n      <td>4334</td>\n    </tr>\n    <tr>\n      <th>3</th>\n      <td>Abrantes</td>\n      <td>Baixa Tensão</td>\n      <td>2022</td>\n      <td>3</td>\n      <td>6375824.308</td>\n      <td>Outros</td>\n      <td>83</td>\n    </tr>\n    <tr>\n      <th>4</th>\n      <td>Abrantes</td>\n      <td>Baixa Tensão</td>\n      <td>2022</td>\n      <td>4</td>\n      <td>5560992.246</td>\n      <td>Doméstico</td>\n      <td>20267</td>\n    </tr>\n    <tr>\n      <th>5</th>\n      <td>Abrantes</td>\n      <td>Baixa Tensão</td>\n      <td>2022</td>\n      <td>4</td>\n      <td>5560992.246</td>\n      <td>Iluminação Pública</td>\n      <td>293</td>\n    </tr>\n    <tr>\n      <th>6</th>\n      <td>Abrantes</td>\n      <td>Baixa Tensão</td>\n      <td>2022</td>\n      <td>4</td>\n      <td>5560992.246</td>\n      <td>Não Doméstico</td>\n      <td>4337</td>\n    </tr>\n    <tr>\n      <th>7</th>\n      <td>Abrantes</td>\n      <td>Baixa Tensão</td>\n      <td>2022</td>\n      <td>4</td>\n      <td>5560992.246</td>\n      <td>Outros</td>\n      <td>83</td>\n    </tr>\n    <tr>\n      <th>8</th>\n      <td>Abrantes</td>\n      <td>Baixa Tensão</td>\n      <td>2022</td>\n      <td>5</td>\n      <td>5480833.643</td>\n      <td>Doméstico</td>\n      <td>20254</td>\n    </tr>\n    <tr>\n      <th>9</th>\n      <td>Abrantes</td>\n      <td>Baixa Tensão</td>\n      <td>2022</td>\n      <td>5</td>\n      <td>5480833.643</td>\n      <td>Iluminação Pública</td>\n      <td>293</td>\n    </tr>\n    <tr>\n      <th>10</th>\n      <td>Abrantes</td>\n      <td>Baixa Tensão</td>\n      <td>2022</td>\n      <td>5</td>\n      <td>5480833.643</td>\n      <td>Não Doméstico</td>\n      <td>4324</td>\n    </tr>\n    <tr>\n      <th>11</th>\n      <td>Abrantes</td>\n      <td>Baixa Tensão</td>\n      <td>2022</td>\n      <td>5</td>\n      <td>5480833.643</td>\n      <td>Outros</td>\n      <td>82</td>\n    </tr>\n    <tr>\n      <th>12</th>\n      <td>Abrantes</td>\n      <td>Baixa Tensão</td>\n      <td>2022</td>\n      <td>6</td>\n      <td>5420579.537</td>\n      <td>Doméstico</td>\n      <td>20259</td>\n    </tr>\n    <tr>\n      <th>13</th>\n      <td>Abrantes</td>\n      <td>Baixa Tensão</td>\n      <td>2022</td>\n      <td>6</td>\n      <td>5420579.537</td>\n      <td>Iluminação Pública</td>\n      <td>293</td>\n    </tr>\n    <tr>\n      <th>14</th>\n      <td>Abrantes</td>\n      <td>Baixa Tensão</td>\n      <td>2022</td>\n      <td>6</td>\n      <td>5420579.537</td>\n      <td>Não Doméstico</td>\n      <td>4327</td>\n    </tr>\n    <tr>\n      <th>15</th>\n      <td>Abrantes</td>\n      <td>Baixa Tensão</td>\n      <td>2022</td>\n      <td>6</td>\n      <td>5420579.537</td>\n      <td>Outros</td>\n      <td>82</td>\n    </tr>\n    <tr>\n      <th>16</th>\n      <td>Abrantes</td>\n      <td>Baixa Tensão</td>\n      <td>2022</td>\n      <td>7</td>\n      <td>6227622.409</td>\n      <td>Doméstico</td>\n      <td>20250</td>\n    </tr>\n    <tr>\n      <th>17</th>\n      <td>Abrantes</td>\n      <td>Baixa Tensão</td>\n      <td>2022</td>\n      <td>7</td>\n      <td>6227622.409</td>\n      <td>Iluminação Pública</td>\n      <td>293</td>\n    </tr>\n    <tr>\n      <th>18</th>\n      <td>Abrantes</td>\n      <td>Baixa Tensão</td>\n      <td>2022</td>\n      <td>7</td>\n      <td>6227622.409</td>\n      <td>Não Doméstico</td>\n      <td>4320</td>\n    </tr>\n    <tr>\n      <th>19</th>\n      <td>Abrantes</td>\n      <td>Baixa Tensão</td>\n      <td>2022</td>\n      <td>7</td>\n      <td>6227622.409</td>\n      <td>Outros</td>\n      <td>83</td>\n    </tr>\n    <tr>\n      <th>20</th>\n      <td>Abrantes</td>\n      <td>Baixa Tensão</td>\n      <td>2022</td>\n      <td>8</td>\n      <td>5906036.429</td>\n      <td>Doméstico</td>\n      <td>20260</td>\n    </tr>\n    <tr>\n      <th>21</th>\n      <td>Abrantes</td>\n      <td>Baixa Tensão</td>\n      <td>2022</td>\n      <td>8</td>\n      <td>5906036.429</td>\n      <td>Iluminação Pública</td>\n      <td>293</td>\n    </tr>\n    <tr>\n      <th>22</th>\n      <td>Abrantes</td>\n      <td>Baixa Tensão</td>\n      <td>2022</td>\n      <td>8</td>\n      <td>5906036.429</td>\n      <td>Não Doméstico</td>\n      <td>4318</td>\n    </tr>\n    <tr>\n      <th>23</th>\n      <td>Abrantes</td>\n      <td>Baixa Tensão</td>\n      <td>2022</td>\n      <td>8</td>\n      <td>5906036.429</td>\n      <td>Outros</td>\n      <td>83</td>\n    </tr>\n    <tr>\n      <th>24</th>\n      <td>Abrantes</td>\n      <td>Baixa Tensão</td>\n      <td>2022</td>\n      <td>9</td>\n      <td>5316878.736</td>\n      <td>Doméstico</td>\n      <td>20270</td>\n    </tr>\n    <tr>\n      <th>25</th>\n      <td>Abrantes</td>\n      <td>Baixa Tensão</td>\n      <td>2022</td>\n      <td>9</td>\n      <td>5316878.736</td>\n      <td>Iluminação Pública</td>\n      <td>293</td>\n    </tr>\n    <tr>\n      <th>26</th>\n      <td>Abrantes</td>\n      <td>Baixa Tensão</td>\n      <td>2022</td>\n      <td>9</td>\n      <td>5316878.736</td>\n      <td>Não Doméstico</td>\n      <td>4311</td>\n    </tr>\n    <tr>\n      <th>27</th>\n      <td>Abrantes</td>\n      <td>Baixa Tensão</td>\n      <td>2022</td>\n      <td>9</td>\n      <td>5316878.736</td>\n      <td>Outros</td>\n      <td>81</td>\n    </tr>\n    <tr>\n      <th>28</th>\n      <td>Abrantes</td>\n      <td>Baixa Tensão</td>\n      <td>2022</td>\n      <td>10</td>\n      <td>5428732.778</td>\n      <td>Doméstico</td>\n      <td>20280</td>\n    </tr>\n    <tr>\n      <th>29</th>\n      <td>Abrantes</td>\n      <td>Baixa Tensão</td>\n      <td>2022</td>\n      <td>10</td>\n      <td>5428732.778</td>\n      <td>Iluminação Pública</td>\n      <td>293</td>\n    </tr>\n    <tr>\n      <th>30</th>\n      <td>Abrantes</td>\n      <td>Baixa Tensão</td>\n      <td>2022</td>\n      <td>10</td>\n      <td>5428732.778</td>\n      <td>Não Doméstico</td>\n      <td>4302</td>\n    </tr>\n    <tr>\n      <th>31</th>\n      <td>Abrantes</td>\n      <td>Baixa Tensão</td>\n      <td>2022</td>\n      <td>10</td>\n      <td>5428732.778</td>\n      <td>Outros</td>\n      <td>81</td>\n    </tr>\n    <tr>\n      <th>32</th>\n      <td>Abrantes</td>\n      <td>Baixa Tensão</td>\n      <td>2022</td>\n      <td>11</td>\n      <td>5843266.356</td>\n      <td>Doméstico</td>\n      <td>20291</td>\n    </tr>\n    <tr>\n      <th>33</th>\n      <td>Abrantes</td>\n      <td>Baixa Tensão</td>\n      <td>2022</td>\n      <td>11</td>\n      <td>5843266.356</td>\n      <td>Iluminação Pública</td>\n      <td>293</td>\n    </tr>\n    <tr>\n      <th>34</th>\n      <td>Abrantes</td>\n      <td>Baixa Tensão</td>\n      <td>2022</td>\n      <td>11</td>\n      <td>5843266.356</td>\n      <td>Não Doméstico</td>\n      <td>4308</td>\n    </tr>\n    <tr>\n      <th>35</th>\n      <td>Abrantes</td>\n      <td>Baixa Tensão</td>\n      <td>2022</td>\n      <td>11</td>\n      <td>5843266.356</td>\n      <td>Outros</td>\n      <td>80</td>\n    </tr>\n    <tr>\n      <th>36</th>\n      <td>Abrantes</td>\n      <td>Baixa Tensão</td>\n      <td>2022</td>\n      <td>12</td>\n      <td>6778130.292</td>\n      <td>Doméstico</td>\n      <td>20297</td>\n    </tr>\n    <tr>\n      <th>37</th>\n      <td>Abrantes</td>\n      <td>Baixa Tensão</td>\n      <td>2022</td>\n      <td>12</td>\n      <td>6778130.292</td>\n      <td>Iluminação Pública</td>\n      <td>294</td>\n    </tr>\n    <tr>\n      <th>38</th>\n      <td>Abrantes</td>\n      <td>Baixa Tensão</td>\n      <td>2022</td>\n      <td>12</td>\n      <td>6778130.292</td>\n      <td>Não Doméstico</td>\n      <td>4312</td>\n    </tr>\n    <tr>\n      <th>39</th>\n      <td>Abrantes</td>\n      <td>Baixa Tensão</td>\n      <td>2022</td>\n      <td>12</td>\n      <td>6778130.292</td>\n      <td>Outros</td>\n      <td>82</td>\n    </tr>\n    <tr>\n      <th>40</th>\n      <td>Abrantes</td>\n      <td>Baixa Tensão</td>\n      <td>2023</td>\n      <td>1</td>\n      <td>7369772.117</td>\n      <td>Doméstico</td>\n      <td>20298</td>\n    </tr>\n    <tr>\n      <th>41</th>\n      <td>Abrantes</td>\n      <td>Baixa Tensão</td>\n      <td>2023</td>\n      <td>1</td>\n      <td>7369772.117</td>\n      <td>Iluminação Pública</td>\n      <td>294</td>\n    </tr>\n    <tr>\n      <th>42</th>\n      <td>Abrantes</td>\n      <td>Baixa Tensão</td>\n      <td>2023</td>\n      <td>1</td>\n      <td>7369772.117</td>\n      <td>Não Doméstico</td>\n      <td>4309</td>\n    </tr>\n    <tr>\n      <th>43</th>\n      <td>Abrantes</td>\n      <td>Baixa Tensão</td>\n      <td>2023</td>\n      <td>1</td>\n      <td>7369772.117</td>\n      <td>Outros</td>\n      <td>82</td>\n    </tr>\n    <tr>\n      <th>44</th>\n      <td>Abrantes</td>\n      <td>Baixa Tensão</td>\n      <td>2023</td>\n      <td>2</td>\n      <td>6507806.283</td>\n      <td>Doméstico</td>\n      <td>20288</td>\n    </tr>\n    <tr>\n      <th>45</th>\n      <td>Abrantes</td>\n      <td>Baixa Tensão</td>\n      <td>2023</td>\n      <td>2</td>\n      <td>6507806.283</td>\n      <td>Iluminação Pública</td>\n      <td>294</td>\n    </tr>\n    <tr>\n      <th>46</th>\n      <td>Abrantes</td>\n      <td>Baixa Tensão</td>\n      <td>2023</td>\n      <td>2</td>\n      <td>6507806.283</td>\n      <td>Não Doméstico</td>\n      <td>4310</td>\n    </tr>\n    <tr>\n      <th>47</th>\n      <td>Abrantes</td>\n      <td>Baixa Tensão</td>\n      <td>2023</td>\n      <td>2</td>\n      <td>6507806.283</td>\n      <td>Outros</td>\n      <td>113</td>\n    </tr>\n    <tr>\n      <th>48</th>\n      <td>Abrantes</td>\n      <td>Baixa Tensão</td>\n      <td>2023</td>\n      <td>3</td>\n      <td>6077229.553</td>\n      <td>Doméstico</td>\n      <td>20280</td>\n    </tr>\n    <tr>\n      <th>49</th>\n      <td>Abrantes</td>\n      <td>Baixa Tensão</td>\n      <td>2023</td>\n      <td>3</td>\n      <td>6077229.553</td>\n      <td>Iluminação Pública</td>\n      <td>294</td>\n    </tr>\n  </tbody>\n</table>\n</div>"
     },
     "execution_count": 31,
     "metadata": {},
     "output_type": "execute_result"
    }
   ],
   "source": [
    "merged_df = pd.merge(df_consumos_faturados, df_caracterizacao_cpe_grouped, on=['Concelho', 'Ano', 'Mês', 'Nível de Tensão'], how='inner')\n",
    "\n",
    "# Verificar nulls\n",
    "null_counts = merged_df.isnull().sum()\n",
    "\n",
    "# Ver nulls por coluna\n",
    "print(\"Número de nulls por coluna:\")\n",
    "print(null_counts)\n",
    "\n",
    "merged_df.info()\n",
    "merged_df.head(50)"
   ],
   "metadata": {
    "collapsed": false,
    "ExecuteTime": {
     "end_time": "2024-04-06T14:46:37.254545Z",
     "start_time": "2024-04-06T14:46:37.226123Z"
    }
   },
   "id": "4a02f261327f6d36",
   "execution_count": 31
  },
  {
   "cell_type": "markdown",
   "source": [
    "5. Juntar com a coleção diagramas de carga"
   ],
   "metadata": {
    "collapsed": false
   },
   "id": "dce213c25b196165"
  },
  {
   "cell_type": "code",
   "outputs": [
    {
     "name": "stdout",
     "output_type": "stream",
     "text": [
      "Número de nulls por coluna:\n",
      "Concelho                       0\n",
      "Nível de Tensão                0\n",
      "Ano                            0\n",
      "Mês                            0\n",
      "Energia Ativa (kWh)            0\n",
      "Tipo de Instalação             0\n",
      "CPEs (#)                       0\n",
      "Inclui Mobilidade Elétrica     0\n",
      "CPEs com DCs Recolhidos (#)    0\n",
      "dtype: int64\n",
      "<class 'pandas.core.frame.DataFrame'>\n",
      "RangeIndex: 49195 entries, 0 to 49194\n",
      "Data columns (total 9 columns):\n",
      " #   Column                       Non-Null Count  Dtype  \n",
      "---  ------                       --------------  -----  \n",
      " 0   Concelho                     49195 non-null  object \n",
      " 1   Nível de Tensão              49195 non-null  object \n",
      " 2   Ano                          49195 non-null  int64  \n",
      " 3   Mês                          49195 non-null  int64  \n",
      " 4   Energia Ativa (kWh)          49195 non-null  float64\n",
      " 5   Tipo de Instalação           49195 non-null  object \n",
      " 6   CPEs (#)                     49195 non-null  int64  \n",
      " 7   Inclui Mobilidade Elétrica   49195 non-null  object \n",
      " 8   CPEs com DCs Recolhidos (#)  49195 non-null  int64  \n",
      "dtypes: float64(1), int64(4), object(4)\n",
      "memory usage: 3.4+ MB\n"
     ]
    },
    {
     "data": {
      "text/plain": "    Concelho Nível de Tensão   Ano  Mês  Energia Ativa (kWh)  \\\n0   Abrantes    Baixa Tensão  2022    8          5906036.429   \n1   Abrantes    Baixa Tensão  2022    8          5906036.429   \n2   Abrantes    Baixa Tensão  2022    8          5906036.429   \n3   Abrantes    Baixa Tensão  2022    8          5906036.429   \n4   Abrantes    Baixa Tensão  2022    8          5906036.429   \n5   Abrantes    Baixa Tensão  2022    8          5906036.429   \n6   Abrantes    Baixa Tensão  2022    8          5906036.429   \n7   Abrantes    Baixa Tensão  2022    8          5906036.429   \n8   Abrantes    Baixa Tensão  2022    9          5316878.736   \n9   Abrantes    Baixa Tensão  2022    9          5316878.736   \n10  Abrantes    Baixa Tensão  2022    9          5316878.736   \n11  Abrantes    Baixa Tensão  2022    9          5316878.736   \n12  Abrantes    Baixa Tensão  2022    9          5316878.736   \n13  Abrantes    Baixa Tensão  2022    9          5316878.736   \n14  Abrantes    Baixa Tensão  2022    9          5316878.736   \n15  Abrantes    Baixa Tensão  2022    9          5316878.736   \n16  Abrantes    Baixa Tensão  2022   10          5428732.778   \n17  Abrantes    Baixa Tensão  2022   10          5428732.778   \n18  Abrantes    Baixa Tensão  2022   10          5428732.778   \n19  Abrantes    Baixa Tensão  2022   10          5428732.778   \n20  Abrantes    Baixa Tensão  2022   10          5428732.778   \n21  Abrantes    Baixa Tensão  2022   10          5428732.778   \n22  Abrantes    Baixa Tensão  2022   10          5428732.778   \n23  Abrantes    Baixa Tensão  2022   10          5428732.778   \n24  Abrantes    Baixa Tensão  2022   11          5843266.356   \n25  Abrantes    Baixa Tensão  2022   11          5843266.356   \n26  Abrantes    Baixa Tensão  2022   11          5843266.356   \n27  Abrantes    Baixa Tensão  2022   11          5843266.356   \n28  Abrantes    Baixa Tensão  2022   11          5843266.356   \n29  Abrantes    Baixa Tensão  2022   11          5843266.356   \n30  Abrantes    Baixa Tensão  2022   11          5843266.356   \n31  Abrantes    Baixa Tensão  2022   11          5843266.356   \n32  Abrantes    Baixa Tensão  2022   12          6778130.292   \n33  Abrantes    Baixa Tensão  2022   12          6778130.292   \n34  Abrantes    Baixa Tensão  2022   12          6778130.292   \n35  Abrantes    Baixa Tensão  2022   12          6778130.292   \n36  Abrantes    Baixa Tensão  2022   12          6778130.292   \n37  Abrantes    Baixa Tensão  2022   12          6778130.292   \n38  Abrantes    Baixa Tensão  2022   12          6778130.292   \n39  Abrantes    Baixa Tensão  2022   12          6778130.292   \n40  Abrantes    Baixa Tensão  2023    1          7369772.117   \n41  Abrantes    Baixa Tensão  2023    1          7369772.117   \n42  Abrantes    Baixa Tensão  2023    1          7369772.117   \n43  Abrantes    Baixa Tensão  2023    1          7369772.117   \n44  Abrantes    Baixa Tensão  2023    1          7369772.117   \n45  Abrantes    Baixa Tensão  2023    1          7369772.117   \n46  Abrantes    Baixa Tensão  2023    1          7369772.117   \n47  Abrantes    Baixa Tensão  2023    1          7369772.117   \n48  Abrantes    Baixa Tensão  2023    2          6507806.283   \n49  Abrantes    Baixa Tensão  2023    2          6507806.283   \n\n    Tipo de Instalação  CPEs (#) Inclui Mobilidade Elétrica  \\\n0            Doméstico     20260                        Não   \n1            Doméstico     20260                        Sim   \n2   Iluminação Pública       293                        Não   \n3   Iluminação Pública       293                        Sim   \n4        Não Doméstico      4318                        Não   \n5        Não Doméstico      4318                        Sim   \n6               Outros        83                        Não   \n7               Outros        83                        Sim   \n8            Doméstico     20270                        Não   \n9            Doméstico     20270                        Sim   \n10  Iluminação Pública       293                        Não   \n11  Iluminação Pública       293                        Sim   \n12       Não Doméstico      4311                        Não   \n13       Não Doméstico      4311                        Sim   \n14              Outros        81                        Não   \n15              Outros        81                        Sim   \n16           Doméstico     20280                        Não   \n17           Doméstico     20280                        Sim   \n18  Iluminação Pública       293                        Não   \n19  Iluminação Pública       293                        Sim   \n20       Não Doméstico      4302                        Não   \n21       Não Doméstico      4302                        Sim   \n22              Outros        81                        Não   \n23              Outros        81                        Sim   \n24           Doméstico     20291                        Não   \n25           Doméstico     20291                        Sim   \n26  Iluminação Pública       293                        Não   \n27  Iluminação Pública       293                        Sim   \n28       Não Doméstico      4308                        Não   \n29       Não Doméstico      4308                        Sim   \n30              Outros        80                        Não   \n31              Outros        80                        Sim   \n32           Doméstico     20297                        Não   \n33           Doméstico     20297                        Sim   \n34  Iluminação Pública       294                        Não   \n35  Iluminação Pública       294                        Sim   \n36       Não Doméstico      4312                        Não   \n37       Não Doméstico      4312                        Sim   \n38              Outros        82                        Não   \n39              Outros        82                        Sim   \n40           Doméstico     20298                        Não   \n41           Doméstico     20298                        Sim   \n42  Iluminação Pública       294                        Não   \n43  Iluminação Pública       294                        Sim   \n44       Não Doméstico      4309                        Não   \n45       Não Doméstico      4309                        Sim   \n46              Outros        82                        Não   \n47              Outros        82                        Sim   \n48           Doméstico     20288                        Não   \n49           Doméstico     20288                        Sim   \n\n    CPEs com DCs Recolhidos (#)  \n0                         11097  \n1                             1  \n2                         11097  \n3                             1  \n4                         11097  \n5                             1  \n6                         11097  \n7                             1  \n8                         11298  \n9                             1  \n10                        11298  \n11                            1  \n12                        11298  \n13                            1  \n14                        11298  \n15                            1  \n16                        11563  \n17                            1  \n18                        11563  \n19                            1  \n20                        11563  \n21                            1  \n22                        11563  \n23                            1  \n24                        11969  \n25                            1  \n26                        11969  \n27                            1  \n28                        11969  \n29                            1  \n30                        11969  \n31                            1  \n32                        12210  \n33                            1  \n34                        12210  \n35                            1  \n36                        12210  \n37                            1  \n38                        12210  \n39                            1  \n40                        13334  \n41                            1  \n42                        13334  \n43                            1  \n44                        13334  \n45                            1  \n46                        13334  \n47                            1  \n48                        13499  \n49                            1  ",
      "text/html": "<div>\n<style scoped>\n    .dataframe tbody tr th:only-of-type {\n        vertical-align: middle;\n    }\n\n    .dataframe tbody tr th {\n        vertical-align: top;\n    }\n\n    .dataframe thead th {\n        text-align: right;\n    }\n</style>\n<table border=\"1\" class=\"dataframe\">\n  <thead>\n    <tr style=\"text-align: right;\">\n      <th></th>\n      <th>Concelho</th>\n      <th>Nível de Tensão</th>\n      <th>Ano</th>\n      <th>Mês</th>\n      <th>Energia Ativa (kWh)</th>\n      <th>Tipo de Instalação</th>\n      <th>CPEs (#)</th>\n      <th>Inclui Mobilidade Elétrica</th>\n      <th>CPEs com DCs Recolhidos (#)</th>\n    </tr>\n  </thead>\n  <tbody>\n    <tr>\n      <th>0</th>\n      <td>Abrantes</td>\n      <td>Baixa Tensão</td>\n      <td>2022</td>\n      <td>8</td>\n      <td>5906036.429</td>\n      <td>Doméstico</td>\n      <td>20260</td>\n      <td>Não</td>\n      <td>11097</td>\n    </tr>\n    <tr>\n      <th>1</th>\n      <td>Abrantes</td>\n      <td>Baixa Tensão</td>\n      <td>2022</td>\n      <td>8</td>\n      <td>5906036.429</td>\n      <td>Doméstico</td>\n      <td>20260</td>\n      <td>Sim</td>\n      <td>1</td>\n    </tr>\n    <tr>\n      <th>2</th>\n      <td>Abrantes</td>\n      <td>Baixa Tensão</td>\n      <td>2022</td>\n      <td>8</td>\n      <td>5906036.429</td>\n      <td>Iluminação Pública</td>\n      <td>293</td>\n      <td>Não</td>\n      <td>11097</td>\n    </tr>\n    <tr>\n      <th>3</th>\n      <td>Abrantes</td>\n      <td>Baixa Tensão</td>\n      <td>2022</td>\n      <td>8</td>\n      <td>5906036.429</td>\n      <td>Iluminação Pública</td>\n      <td>293</td>\n      <td>Sim</td>\n      <td>1</td>\n    </tr>\n    <tr>\n      <th>4</th>\n      <td>Abrantes</td>\n      <td>Baixa Tensão</td>\n      <td>2022</td>\n      <td>8</td>\n      <td>5906036.429</td>\n      <td>Não Doméstico</td>\n      <td>4318</td>\n      <td>Não</td>\n      <td>11097</td>\n    </tr>\n    <tr>\n      <th>5</th>\n      <td>Abrantes</td>\n      <td>Baixa Tensão</td>\n      <td>2022</td>\n      <td>8</td>\n      <td>5906036.429</td>\n      <td>Não Doméstico</td>\n      <td>4318</td>\n      <td>Sim</td>\n      <td>1</td>\n    </tr>\n    <tr>\n      <th>6</th>\n      <td>Abrantes</td>\n      <td>Baixa Tensão</td>\n      <td>2022</td>\n      <td>8</td>\n      <td>5906036.429</td>\n      <td>Outros</td>\n      <td>83</td>\n      <td>Não</td>\n      <td>11097</td>\n    </tr>\n    <tr>\n      <th>7</th>\n      <td>Abrantes</td>\n      <td>Baixa Tensão</td>\n      <td>2022</td>\n      <td>8</td>\n      <td>5906036.429</td>\n      <td>Outros</td>\n      <td>83</td>\n      <td>Sim</td>\n      <td>1</td>\n    </tr>\n    <tr>\n      <th>8</th>\n      <td>Abrantes</td>\n      <td>Baixa Tensão</td>\n      <td>2022</td>\n      <td>9</td>\n      <td>5316878.736</td>\n      <td>Doméstico</td>\n      <td>20270</td>\n      <td>Não</td>\n      <td>11298</td>\n    </tr>\n    <tr>\n      <th>9</th>\n      <td>Abrantes</td>\n      <td>Baixa Tensão</td>\n      <td>2022</td>\n      <td>9</td>\n      <td>5316878.736</td>\n      <td>Doméstico</td>\n      <td>20270</td>\n      <td>Sim</td>\n      <td>1</td>\n    </tr>\n    <tr>\n      <th>10</th>\n      <td>Abrantes</td>\n      <td>Baixa Tensão</td>\n      <td>2022</td>\n      <td>9</td>\n      <td>5316878.736</td>\n      <td>Iluminação Pública</td>\n      <td>293</td>\n      <td>Não</td>\n      <td>11298</td>\n    </tr>\n    <tr>\n      <th>11</th>\n      <td>Abrantes</td>\n      <td>Baixa Tensão</td>\n      <td>2022</td>\n      <td>9</td>\n      <td>5316878.736</td>\n      <td>Iluminação Pública</td>\n      <td>293</td>\n      <td>Sim</td>\n      <td>1</td>\n    </tr>\n    <tr>\n      <th>12</th>\n      <td>Abrantes</td>\n      <td>Baixa Tensão</td>\n      <td>2022</td>\n      <td>9</td>\n      <td>5316878.736</td>\n      <td>Não Doméstico</td>\n      <td>4311</td>\n      <td>Não</td>\n      <td>11298</td>\n    </tr>\n    <tr>\n      <th>13</th>\n      <td>Abrantes</td>\n      <td>Baixa Tensão</td>\n      <td>2022</td>\n      <td>9</td>\n      <td>5316878.736</td>\n      <td>Não Doméstico</td>\n      <td>4311</td>\n      <td>Sim</td>\n      <td>1</td>\n    </tr>\n    <tr>\n      <th>14</th>\n      <td>Abrantes</td>\n      <td>Baixa Tensão</td>\n      <td>2022</td>\n      <td>9</td>\n      <td>5316878.736</td>\n      <td>Outros</td>\n      <td>81</td>\n      <td>Não</td>\n      <td>11298</td>\n    </tr>\n    <tr>\n      <th>15</th>\n      <td>Abrantes</td>\n      <td>Baixa Tensão</td>\n      <td>2022</td>\n      <td>9</td>\n      <td>5316878.736</td>\n      <td>Outros</td>\n      <td>81</td>\n      <td>Sim</td>\n      <td>1</td>\n    </tr>\n    <tr>\n      <th>16</th>\n      <td>Abrantes</td>\n      <td>Baixa Tensão</td>\n      <td>2022</td>\n      <td>10</td>\n      <td>5428732.778</td>\n      <td>Doméstico</td>\n      <td>20280</td>\n      <td>Não</td>\n      <td>11563</td>\n    </tr>\n    <tr>\n      <th>17</th>\n      <td>Abrantes</td>\n      <td>Baixa Tensão</td>\n      <td>2022</td>\n      <td>10</td>\n      <td>5428732.778</td>\n      <td>Doméstico</td>\n      <td>20280</td>\n      <td>Sim</td>\n      <td>1</td>\n    </tr>\n    <tr>\n      <th>18</th>\n      <td>Abrantes</td>\n      <td>Baixa Tensão</td>\n      <td>2022</td>\n      <td>10</td>\n      <td>5428732.778</td>\n      <td>Iluminação Pública</td>\n      <td>293</td>\n      <td>Não</td>\n      <td>11563</td>\n    </tr>\n    <tr>\n      <th>19</th>\n      <td>Abrantes</td>\n      <td>Baixa Tensão</td>\n      <td>2022</td>\n      <td>10</td>\n      <td>5428732.778</td>\n      <td>Iluminação Pública</td>\n      <td>293</td>\n      <td>Sim</td>\n      <td>1</td>\n    </tr>\n    <tr>\n      <th>20</th>\n      <td>Abrantes</td>\n      <td>Baixa Tensão</td>\n      <td>2022</td>\n      <td>10</td>\n      <td>5428732.778</td>\n      <td>Não Doméstico</td>\n      <td>4302</td>\n      <td>Não</td>\n      <td>11563</td>\n    </tr>\n    <tr>\n      <th>21</th>\n      <td>Abrantes</td>\n      <td>Baixa Tensão</td>\n      <td>2022</td>\n      <td>10</td>\n      <td>5428732.778</td>\n      <td>Não Doméstico</td>\n      <td>4302</td>\n      <td>Sim</td>\n      <td>1</td>\n    </tr>\n    <tr>\n      <th>22</th>\n      <td>Abrantes</td>\n      <td>Baixa Tensão</td>\n      <td>2022</td>\n      <td>10</td>\n      <td>5428732.778</td>\n      <td>Outros</td>\n      <td>81</td>\n      <td>Não</td>\n      <td>11563</td>\n    </tr>\n    <tr>\n      <th>23</th>\n      <td>Abrantes</td>\n      <td>Baixa Tensão</td>\n      <td>2022</td>\n      <td>10</td>\n      <td>5428732.778</td>\n      <td>Outros</td>\n      <td>81</td>\n      <td>Sim</td>\n      <td>1</td>\n    </tr>\n    <tr>\n      <th>24</th>\n      <td>Abrantes</td>\n      <td>Baixa Tensão</td>\n      <td>2022</td>\n      <td>11</td>\n      <td>5843266.356</td>\n      <td>Doméstico</td>\n      <td>20291</td>\n      <td>Não</td>\n      <td>11969</td>\n    </tr>\n    <tr>\n      <th>25</th>\n      <td>Abrantes</td>\n      <td>Baixa Tensão</td>\n      <td>2022</td>\n      <td>11</td>\n      <td>5843266.356</td>\n      <td>Doméstico</td>\n      <td>20291</td>\n      <td>Sim</td>\n      <td>1</td>\n    </tr>\n    <tr>\n      <th>26</th>\n      <td>Abrantes</td>\n      <td>Baixa Tensão</td>\n      <td>2022</td>\n      <td>11</td>\n      <td>5843266.356</td>\n      <td>Iluminação Pública</td>\n      <td>293</td>\n      <td>Não</td>\n      <td>11969</td>\n    </tr>\n    <tr>\n      <th>27</th>\n      <td>Abrantes</td>\n      <td>Baixa Tensão</td>\n      <td>2022</td>\n      <td>11</td>\n      <td>5843266.356</td>\n      <td>Iluminação Pública</td>\n      <td>293</td>\n      <td>Sim</td>\n      <td>1</td>\n    </tr>\n    <tr>\n      <th>28</th>\n      <td>Abrantes</td>\n      <td>Baixa Tensão</td>\n      <td>2022</td>\n      <td>11</td>\n      <td>5843266.356</td>\n      <td>Não Doméstico</td>\n      <td>4308</td>\n      <td>Não</td>\n      <td>11969</td>\n    </tr>\n    <tr>\n      <th>29</th>\n      <td>Abrantes</td>\n      <td>Baixa Tensão</td>\n      <td>2022</td>\n      <td>11</td>\n      <td>5843266.356</td>\n      <td>Não Doméstico</td>\n      <td>4308</td>\n      <td>Sim</td>\n      <td>1</td>\n    </tr>\n    <tr>\n      <th>30</th>\n      <td>Abrantes</td>\n      <td>Baixa Tensão</td>\n      <td>2022</td>\n      <td>11</td>\n      <td>5843266.356</td>\n      <td>Outros</td>\n      <td>80</td>\n      <td>Não</td>\n      <td>11969</td>\n    </tr>\n    <tr>\n      <th>31</th>\n      <td>Abrantes</td>\n      <td>Baixa Tensão</td>\n      <td>2022</td>\n      <td>11</td>\n      <td>5843266.356</td>\n      <td>Outros</td>\n      <td>80</td>\n      <td>Sim</td>\n      <td>1</td>\n    </tr>\n    <tr>\n      <th>32</th>\n      <td>Abrantes</td>\n      <td>Baixa Tensão</td>\n      <td>2022</td>\n      <td>12</td>\n      <td>6778130.292</td>\n      <td>Doméstico</td>\n      <td>20297</td>\n      <td>Não</td>\n      <td>12210</td>\n    </tr>\n    <tr>\n      <th>33</th>\n      <td>Abrantes</td>\n      <td>Baixa Tensão</td>\n      <td>2022</td>\n      <td>12</td>\n      <td>6778130.292</td>\n      <td>Doméstico</td>\n      <td>20297</td>\n      <td>Sim</td>\n      <td>1</td>\n    </tr>\n    <tr>\n      <th>34</th>\n      <td>Abrantes</td>\n      <td>Baixa Tensão</td>\n      <td>2022</td>\n      <td>12</td>\n      <td>6778130.292</td>\n      <td>Iluminação Pública</td>\n      <td>294</td>\n      <td>Não</td>\n      <td>12210</td>\n    </tr>\n    <tr>\n      <th>35</th>\n      <td>Abrantes</td>\n      <td>Baixa Tensão</td>\n      <td>2022</td>\n      <td>12</td>\n      <td>6778130.292</td>\n      <td>Iluminação Pública</td>\n      <td>294</td>\n      <td>Sim</td>\n      <td>1</td>\n    </tr>\n    <tr>\n      <th>36</th>\n      <td>Abrantes</td>\n      <td>Baixa Tensão</td>\n      <td>2022</td>\n      <td>12</td>\n      <td>6778130.292</td>\n      <td>Não Doméstico</td>\n      <td>4312</td>\n      <td>Não</td>\n      <td>12210</td>\n    </tr>\n    <tr>\n      <th>37</th>\n      <td>Abrantes</td>\n      <td>Baixa Tensão</td>\n      <td>2022</td>\n      <td>12</td>\n      <td>6778130.292</td>\n      <td>Não Doméstico</td>\n      <td>4312</td>\n      <td>Sim</td>\n      <td>1</td>\n    </tr>\n    <tr>\n      <th>38</th>\n      <td>Abrantes</td>\n      <td>Baixa Tensão</td>\n      <td>2022</td>\n      <td>12</td>\n      <td>6778130.292</td>\n      <td>Outros</td>\n      <td>82</td>\n      <td>Não</td>\n      <td>12210</td>\n    </tr>\n    <tr>\n      <th>39</th>\n      <td>Abrantes</td>\n      <td>Baixa Tensão</td>\n      <td>2022</td>\n      <td>12</td>\n      <td>6778130.292</td>\n      <td>Outros</td>\n      <td>82</td>\n      <td>Sim</td>\n      <td>1</td>\n    </tr>\n    <tr>\n      <th>40</th>\n      <td>Abrantes</td>\n      <td>Baixa Tensão</td>\n      <td>2023</td>\n      <td>1</td>\n      <td>7369772.117</td>\n      <td>Doméstico</td>\n      <td>20298</td>\n      <td>Não</td>\n      <td>13334</td>\n    </tr>\n    <tr>\n      <th>41</th>\n      <td>Abrantes</td>\n      <td>Baixa Tensão</td>\n      <td>2023</td>\n      <td>1</td>\n      <td>7369772.117</td>\n      <td>Doméstico</td>\n      <td>20298</td>\n      <td>Sim</td>\n      <td>1</td>\n    </tr>\n    <tr>\n      <th>42</th>\n      <td>Abrantes</td>\n      <td>Baixa Tensão</td>\n      <td>2023</td>\n      <td>1</td>\n      <td>7369772.117</td>\n      <td>Iluminação Pública</td>\n      <td>294</td>\n      <td>Não</td>\n      <td>13334</td>\n    </tr>\n    <tr>\n      <th>43</th>\n      <td>Abrantes</td>\n      <td>Baixa Tensão</td>\n      <td>2023</td>\n      <td>1</td>\n      <td>7369772.117</td>\n      <td>Iluminação Pública</td>\n      <td>294</td>\n      <td>Sim</td>\n      <td>1</td>\n    </tr>\n    <tr>\n      <th>44</th>\n      <td>Abrantes</td>\n      <td>Baixa Tensão</td>\n      <td>2023</td>\n      <td>1</td>\n      <td>7369772.117</td>\n      <td>Não Doméstico</td>\n      <td>4309</td>\n      <td>Não</td>\n      <td>13334</td>\n    </tr>\n    <tr>\n      <th>45</th>\n      <td>Abrantes</td>\n      <td>Baixa Tensão</td>\n      <td>2023</td>\n      <td>1</td>\n      <td>7369772.117</td>\n      <td>Não Doméstico</td>\n      <td>4309</td>\n      <td>Sim</td>\n      <td>1</td>\n    </tr>\n    <tr>\n      <th>46</th>\n      <td>Abrantes</td>\n      <td>Baixa Tensão</td>\n      <td>2023</td>\n      <td>1</td>\n      <td>7369772.117</td>\n      <td>Outros</td>\n      <td>82</td>\n      <td>Não</td>\n      <td>13334</td>\n    </tr>\n    <tr>\n      <th>47</th>\n      <td>Abrantes</td>\n      <td>Baixa Tensão</td>\n      <td>2023</td>\n      <td>1</td>\n      <td>7369772.117</td>\n      <td>Outros</td>\n      <td>82</td>\n      <td>Sim</td>\n      <td>1</td>\n    </tr>\n    <tr>\n      <th>48</th>\n      <td>Abrantes</td>\n      <td>Baixa Tensão</td>\n      <td>2023</td>\n      <td>2</td>\n      <td>6507806.283</td>\n      <td>Doméstico</td>\n      <td>20288</td>\n      <td>Não</td>\n      <td>13499</td>\n    </tr>\n    <tr>\n      <th>49</th>\n      <td>Abrantes</td>\n      <td>Baixa Tensão</td>\n      <td>2023</td>\n      <td>2</td>\n      <td>6507806.283</td>\n      <td>Doméstico</td>\n      <td>20288</td>\n      <td>Sim</td>\n      <td>1</td>\n    </tr>\n  </tbody>\n</table>\n</div>"
     },
     "execution_count": 32,
     "metadata": {},
     "output_type": "execute_result"
    }
   ],
   "source": [
    "merged_df = pd.merge(merged_df, df_diagrama_carga, on=['Concelho', 'Ano', 'Mês'], how='inner')\n",
    "\n",
    "# Verificar nulls\n",
    "null_counts = merged_df.isnull().sum()\n",
    "\n",
    "# Ver nulls por coluna\n",
    "print(\"Número de nulls por coluna:\")\n",
    "print(null_counts)\n",
    "\n",
    "merged_df.info()\n",
    "merged_df.head(50)"
   ],
   "metadata": {
    "collapsed": false,
    "ExecuteTime": {
     "end_time": "2024-04-06T14:46:37.282061Z",
     "start_time": "2024-04-06T14:46:37.247666Z"
    }
   },
   "id": "31904dd9dd3a695",
   "execution_count": 32
  },
  {
   "cell_type": "markdown",
   "source": [
    "6. Guardar ficheiro para verificar se está tudo certo"
   ],
   "metadata": {
    "collapsed": false
   },
   "id": "5ddabd239c6258e9"
  },
  {
   "cell_type": "code",
   "outputs": [
    {
     "name": "stdout",
     "output_type": "stream",
     "text": [
      "DataFrame guardado em  ../data/treated/merged-dataset.csv\n"
     ]
    }
   ],
   "source": [
    "file_path = data_path + 'treated/merged-dataset.csv'\n",
    "\n",
    "merged_df.to_csv(file_path, index=False)\n",
    "\n",
    "print(\"DataFrame guardado em \", file_path)"
   ],
   "metadata": {
    "collapsed": false,
    "ExecuteTime": {
     "end_time": "2024-04-06T14:46:37.384950Z",
     "start_time": "2024-04-06T14:46:37.272658Z"
    }
   },
   "id": "367c74a59115e94e",
   "execution_count": 33
  }
 ],
 "metadata": {
  "kernelspec": {
   "display_name": "Python 3",
   "language": "python",
   "name": "python3"
  },
  "language_info": {
   "codemirror_mode": {
    "name": "ipython",
    "version": 2
   },
   "file_extension": ".py",
   "mimetype": "text/x-python",
   "name": "python",
   "nbconvert_exporter": "python",
   "pygments_lexer": "ipython2",
   "version": "2.7.6"
  }
 },
 "nbformat": 4,
 "nbformat_minor": 5
}
