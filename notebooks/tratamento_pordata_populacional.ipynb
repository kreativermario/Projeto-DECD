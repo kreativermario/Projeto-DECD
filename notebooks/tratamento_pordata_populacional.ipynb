{
 "cells": [
  {
   "cell_type": "code",
   "id": "initial_id",
   "metadata": {
    "collapsed": true,
    "ExecuteTime": {
     "end_time": "2024-05-10T11:44:21.871627Z",
     "start_time": "2024-05-10T11:44:21.865519Z"
    }
   },
   "source": [
    "import os\n",
    "\n",
    "import numpy as np\n",
    "import pandas as pd\n",
    "\n",
    "%matplotlib inline\n",
    "import matplotlib.pyplot as plt\n",
    "import seaborn as sns\n",
    "\n",
    "sns.set_theme()"
   ],
   "outputs": [],
   "execution_count": 1
  },
  {
   "cell_type": "markdown",
   "source": [
    "### 1. Importar o dataset"
   ],
   "metadata": {
    "collapsed": false
   },
   "id": "66a4c187f287bf2a"
  },
  {
   "cell_type": "code",
   "source": [
    "data_path = '../data/' if os.path.exists('../data/') else 'https://raw.githubusercontent.com/kreativermario/Projeto-DECD/master/data/'\n",
    "\n",
    "pordata_path = data_path + 'pordata_populacional.csv'\n",
    "\n",
    "df_pordata = pd.read_csv(pordata_path, delimiter=';')"
   ],
   "metadata": {
    "collapsed": false,
    "ExecuteTime": {
     "end_time": "2024-05-10T11:44:21.875695Z",
     "start_time": "2024-05-10T11:44:21.872684Z"
    }
   },
   "id": "4a6efcb0d58da5da",
   "outputs": [],
   "execution_count": 2
  },
  {
   "cell_type": "code",
   "source": [
    "data_path = '../data/' if os.path.exists('../data/') else 'https://raw.githubusercontent.com/kreativermario/Projeto-DECD/master/data/'\n",
    "\n",
    "concelhos_path = data_path + 'treated/merged-dataset-concelho.csv'\n",
    "\n",
    "df_concelhos = pd.read_csv(concelhos_path)"
   ],
   "metadata": {
    "collapsed": false,
    "ExecuteTime": {
     "end_time": "2024-05-10T11:44:21.882565Z",
     "start_time": "2024-05-10T11:44:21.877408Z"
    }
   },
   "id": "beb8630cca57ff86",
   "outputs": [],
   "execution_count": 3
  },
  {
   "cell_type": "markdown",
   "source": [
    "### 2. Ver o dataset"
   ],
   "metadata": {
    "collapsed": false
   },
   "id": "84b6a5204ab0705e"
  },
  {
   "cell_type": "code",
   "source": [
    "df_pordata.info()"
   ],
   "metadata": {
    "collapsed": false,
    "ExecuteTime": {
     "end_time": "2024-05-10T11:44:21.889485Z",
     "start_time": "2024-05-10T11:44:21.885299Z"
    }
   },
   "id": "28e4857dea4278cb",
   "outputs": [
    {
     "name": "stdout",
     "output_type": "stream",
     "text": [
      "<class 'pandas.core.frame.DataFrame'>\n",
      "RangeIndex: 308 entries, 0 to 307\n",
      "Data columns (total 2 columns):\n",
      " #   Column                                Non-Null Count  Dtype \n",
      "---  ------                                --------------  ----- \n",
      " 0   Municipio                             308 non-null    object\n",
      " 1   Densidade Populacional (medio p/km2)  308 non-null    object\n",
      "dtypes: object(2)\n",
      "memory usage: 4.9+ KB\n"
     ]
    }
   ],
   "execution_count": 4
  },
  {
   "cell_type": "code",
   "source": [
    "# Verificar nulls\n",
    "null_counts = df_pordata.isnull().sum()\n",
    "\n",
    "# Ver nulls por coluna\n",
    "print(\"Número de nulls por coluna:\")\n",
    "print(null_counts)\n",
    "\n",
    "df_pordata.head(15)"
   ],
   "metadata": {
    "collapsed": false,
    "ExecuteTime": {
     "end_time": "2024-05-10T11:44:21.902227Z",
     "start_time": "2024-05-10T11:44:21.888888Z"
    }
   },
   "id": "81d4cdc56d8fd31e",
   "outputs": [
    {
     "name": "stdout",
     "output_type": "stream",
     "text": [
      "Número de nulls por coluna:\n",
      "Municipio                               0\n",
      "Densidade Populacional (medio p/km2)    0\n",
      "dtype: int64\n"
     ]
    },
    {
     "data": {
      "text/plain": "                Municipio Densidade Populacional (medio p/km2)\n0       Arcos de Valdevez                                 46,2\n1                 Caminha                                117,4\n2                 Melgaço                                 32,1\n3                  Monção                                 84,6\n4        Paredes de Coura                                 62,8\n5          Ponte da Barca                                 60,8\n6           Ponte de Lima                                128,2\n7                 Valença                                118,3\n8        Viana do Castelo                                269,7\n9   Vila Nova de Cerveira                                 83,8\n10                 Amares                                232,2\n11               Barcelos                                307,6\n12                  Braga                              1 071,1\n13              Esposende                                377,5\n14        Terras de Bouro                                 22,9",
      "text/html": "<div>\n<style scoped>\n    .dataframe tbody tr th:only-of-type {\n        vertical-align: middle;\n    }\n\n    .dataframe tbody tr th {\n        vertical-align: top;\n    }\n\n    .dataframe thead th {\n        text-align: right;\n    }\n</style>\n<table border=\"1\" class=\"dataframe\">\n  <thead>\n    <tr style=\"text-align: right;\">\n      <th></th>\n      <th>Municipio</th>\n      <th>Densidade Populacional (medio p/km2)</th>\n    </tr>\n  </thead>\n  <tbody>\n    <tr>\n      <th>0</th>\n      <td>Arcos de Valdevez</td>\n      <td>46,2</td>\n    </tr>\n    <tr>\n      <th>1</th>\n      <td>Caminha</td>\n      <td>117,4</td>\n    </tr>\n    <tr>\n      <th>2</th>\n      <td>Melgaço</td>\n      <td>32,1</td>\n    </tr>\n    <tr>\n      <th>3</th>\n      <td>Monção</td>\n      <td>84,6</td>\n    </tr>\n    <tr>\n      <th>4</th>\n      <td>Paredes de Coura</td>\n      <td>62,8</td>\n    </tr>\n    <tr>\n      <th>5</th>\n      <td>Ponte da Barca</td>\n      <td>60,8</td>\n    </tr>\n    <tr>\n      <th>6</th>\n      <td>Ponte de Lima</td>\n      <td>128,2</td>\n    </tr>\n    <tr>\n      <th>7</th>\n      <td>Valença</td>\n      <td>118,3</td>\n    </tr>\n    <tr>\n      <th>8</th>\n      <td>Viana do Castelo</td>\n      <td>269,7</td>\n    </tr>\n    <tr>\n      <th>9</th>\n      <td>Vila Nova de Cerveira</td>\n      <td>83,8</td>\n    </tr>\n    <tr>\n      <th>10</th>\n      <td>Amares</td>\n      <td>232,2</td>\n    </tr>\n    <tr>\n      <th>11</th>\n      <td>Barcelos</td>\n      <td>307,6</td>\n    </tr>\n    <tr>\n      <th>12</th>\n      <td>Braga</td>\n      <td>1 071,1</td>\n    </tr>\n    <tr>\n      <th>13</th>\n      <td>Esposende</td>\n      <td>377,5</td>\n    </tr>\n    <tr>\n      <th>14</th>\n      <td>Terras de Bouro</td>\n      <td>22,9</td>\n    </tr>\n  </tbody>\n</table>\n</div>"
     },
     "execution_count": 5,
     "metadata": {},
     "output_type": "execute_result"
    }
   ],
   "execution_count": 5
  },
  {
   "cell_type": "code",
   "source": [
    "df_pordata.describe()"
   ],
   "metadata": {
    "collapsed": false,
    "ExecuteTime": {
     "end_time": "2024-05-10T11:44:21.903112Z",
     "start_time": "2024-05-10T11:44:21.896023Z"
    }
   },
   "id": "3633bac8c136bc7b",
   "outputs": [
    {
     "data": {
      "text/plain": "                Municipio Densidade Populacional (medio p/km2)\ncount                 308                                  308\nunique                308                                  282\ntop     Arcos de Valdevez                                  8,6\nfreq                    1                                    4",
      "text/html": "<div>\n<style scoped>\n    .dataframe tbody tr th:only-of-type {\n        vertical-align: middle;\n    }\n\n    .dataframe tbody tr th {\n        vertical-align: top;\n    }\n\n    .dataframe thead th {\n        text-align: right;\n    }\n</style>\n<table border=\"1\" class=\"dataframe\">\n  <thead>\n    <tr style=\"text-align: right;\">\n      <th></th>\n      <th>Municipio</th>\n      <th>Densidade Populacional (medio p/km2)</th>\n    </tr>\n  </thead>\n  <tbody>\n    <tr>\n      <th>count</th>\n      <td>308</td>\n      <td>308</td>\n    </tr>\n    <tr>\n      <th>unique</th>\n      <td>308</td>\n      <td>282</td>\n    </tr>\n    <tr>\n      <th>top</th>\n      <td>Arcos de Valdevez</td>\n      <td>8,6</td>\n    </tr>\n    <tr>\n      <th>freq</th>\n      <td>1</td>\n      <td>4</td>\n    </tr>\n  </tbody>\n</table>\n</div>"
     },
     "execution_count": 6,
     "metadata": {},
     "output_type": "execute_result"
    }
   ],
   "execution_count": 6
  },
  {
   "cell_type": "markdown",
   "source": [
    "### Comparar o número de concelhos (merged dataset) e municipios (pordata)"
   ],
   "metadata": {
    "collapsed": false
   },
   "id": "4b428e397baf74dd"
  },
  {
   "cell_type": "code",
   "source": [
    "concelho_counts = df_concelhos['concelho'].value_counts()\n",
    "print(concelho_counts)  "
   ],
   "metadata": {
    "collapsed": false,
    "ExecuteTime": {
     "end_time": "2024-05-10T11:44:21.903466Z",
     "start_time": "2024-05-10T11:44:21.898319Z"
    }
   },
   "id": "7279ce359bddf1b8",
   "outputs": [
    {
     "name": "stdout",
     "output_type": "stream",
     "text": [
      "concelho\n",
      "Abrantes    19\n",
      "Pombal      19\n",
      "Porto       19\n",
      "Portimão    19\n",
      "Portel      19\n",
      "            ..\n",
      "Golegã      19\n",
      "Gondomar    19\n",
      "Gouveia     19\n",
      "Grândola    19\n",
      "Óbidos      19\n",
      "Name: count, Length: 273, dtype: int64\n"
     ]
    }
   ],
   "execution_count": 7
  },
  {
   "cell_type": "markdown",
   "source": [
    "### Merge dos concelhos com municipios"
   ],
   "metadata": {
    "collapsed": false
   },
   "id": "cfebc3b4f3696682"
  },
  {
   "cell_type": "code",
   "source": [
    "merged_df = pd.merge(df_concelhos, df_pordata, left_on='concelho', right_on='Municipio', how='inner')\n",
    "\n",
    "merged_df.drop(columns=['Municipio'], inplace=True)\n",
    "\n",
    "merged_df.info()\n"
   ],
   "metadata": {
    "collapsed": false,
    "ExecuteTime": {
     "end_time": "2024-05-10T11:44:21.910264Z",
     "start_time": "2024-05-10T11:44:21.902494Z"
    }
   },
   "id": "2e87a222bc7b3dd6",
   "outputs": [
    {
     "name": "stdout",
     "output_type": "stream",
     "text": [
      "<class 'pandas.core.frame.DataFrame'>\n",
      "RangeIndex: 5187 entries, 0 to 5186\n",
      "Data columns (total 16 columns):\n",
      " #   Column                                     Non-Null Count  Dtype \n",
      "---  ------                                     --------------  ----- \n",
      " 0   concelho                                   5187 non-null   object\n",
      " 1   ano                                        5187 non-null   int64 \n",
      " 2   mes                                        5187 non-null   int64 \n",
      " 3   energia_ativa_baixa_tensao_kwh             5187 non-null   int64 \n",
      " 4   energia_ativa_alta_tensao_kwh              5187 non-null   int64 \n",
      " 5   cpes_domestico_baixa_tensao                5187 non-null   int64 \n",
      " 6   cpes_domestico_alta_tensao                 5187 non-null   int64 \n",
      " 7   cpes_iluminacao_publica_baixa_tensao       5187 non-null   int64 \n",
      " 8   cpes_iluminacao_publica_alta_tensao        5187 non-null   int64 \n",
      " 9   cpes_nao_domestico_baixa_tensao            5187 non-null   int64 \n",
      " 10  cpes_nao_domestico_alta_tensao             5187 non-null   int64 \n",
      " 11  cpes_outros_baixa_tensao                   5187 non-null   int64 \n",
      " 12  cpes_outros_alta_tensao                    5187 non-null   int64 \n",
      " 13  cpes_mobilidade_eletrica_nao_baixa_tensao  5187 non-null   int64 \n",
      " 14  cpes_mobilidade_eletrica_sim_baixa_tensao  5187 non-null   int64 \n",
      " 15  Densidade Populacional (medio p/km2)       5187 non-null   object\n",
      "dtypes: int64(14), object(2)\n",
      "memory usage: 648.5+ KB\n"
     ]
    }
   ],
   "execution_count": 8
  },
  {
   "cell_type": "code",
   "source": [
    "merged_df.describe()"
   ],
   "metadata": {
    "collapsed": false,
    "ExecuteTime": {
     "end_time": "2024-05-10T11:44:21.946116Z",
     "start_time": "2024-05-10T11:44:21.908831Z"
    }
   },
   "id": "61ccf8f6eea21e75",
   "outputs": [
    {
     "data": {
      "text/plain": "               ano          mes  energia_ativa_baixa_tensao_kwh  \\\ncount  5187.000000  5187.000000                    5.187000e+03   \nmean   2022.842105     6.894737                    6.518676e+06   \nstd       0.586137     3.712284                    1.177996e+07   \nmin    2022.000000     1.000000                    1.000680e+05   \n25%    2022.000000     3.000000                    1.266728e+06   \n50%    2023.000000     8.000000                    2.625888e+06   \n75%    2023.000000    10.000000                    7.113475e+06   \nmax    2024.000000    12.000000                    1.641353e+08   \n\n       energia_ativa_alta_tensao_kwh  cpes_domestico_baixa_tensao  \\\ncount                   5.187000e+03                  5187.000000   \nmean                    6.888616e+06                 18808.416426   \nstd                     1.426511e+07                 29413.928256   \nmin                     0.000000e+00                  1042.000000   \n25%                     4.113695e+05                  4580.500000   \n50%                     1.824003e+06                  8935.000000   \n75%                     5.962718e+06                 21437.000000   \nmax                     1.279470e+08                312095.000000   \n\n       cpes_domestico_alta_tensao  cpes_iluminacao_publica_baixa_tensao  \\\ncount                 5187.000000                           5187.000000   \nmean                     0.040486                            214.150183   \nstd                      0.211279                            194.193563   \nmin                      0.000000                              7.000000   \n25%                      0.000000                             91.000000   \n50%                      0.000000                            141.000000   \n75%                      0.000000                            280.000000   \nmax                      2.000000                           1185.000000   \n\n       cpes_iluminacao_publica_alta_tensao  cpes_nao_domestico_baixa_tensao  \\\ncount                               5187.0                      5187.000000   \nmean                                   0.0                      4242.803933   \nstd                                    0.0                      6873.077695   \nmin                                    0.0                       174.000000   \n25%                                    0.0                      1101.000000   \n50%                                    0.0                      1990.000000   \n75%                                    0.0                      4900.000000   \nmax                                    0.0                     79984.000000   \n\n       cpes_nao_domestico_alta_tensao  cpes_outros_baixa_tensao  \\\ncount                     5187.000000               5187.000000   \nmean                        95.497205                128.463852   \nstd                        121.267530                205.717131   \nmin                          0.000000                  1.000000   \n25%                         28.000000                 20.500000   \n50%                         51.000000                 53.000000   \n75%                        119.000000                155.000000   \nmax                       1229.000000               2186.000000   \n\n       cpes_outros_alta_tensao  cpes_mobilidade_eletrica_nao_baixa_tensao  \\\ncount              5187.000000                                5187.000000   \nmean                  0.365529                               27371.181415   \nstd                   4.073821                               46187.414907   \nmin                   0.000000                                1144.000000   \n25%                   0.000000                                6151.000000   \n50%                   0.000000                               11544.000000   \n75%                   0.000000                               30042.000000   \nmax                  75.000000                              530262.000000   \n\n       cpes_mobilidade_eletrica_sim_baixa_tensao  \ncount                                5187.000000  \nmean                                    9.612300  \nstd                                    25.397713  \nmin                                     0.000000  \n25%                                     2.000000  \n50%                                     2.000000  \n75%                                     6.000000  \nmax                                   388.000000  ",
      "text/html": "<div>\n<style scoped>\n    .dataframe tbody tr th:only-of-type {\n        vertical-align: middle;\n    }\n\n    .dataframe tbody tr th {\n        vertical-align: top;\n    }\n\n    .dataframe thead th {\n        text-align: right;\n    }\n</style>\n<table border=\"1\" class=\"dataframe\">\n  <thead>\n    <tr style=\"text-align: right;\">\n      <th></th>\n      <th>ano</th>\n      <th>mes</th>\n      <th>energia_ativa_baixa_tensao_kwh</th>\n      <th>energia_ativa_alta_tensao_kwh</th>\n      <th>cpes_domestico_baixa_tensao</th>\n      <th>cpes_domestico_alta_tensao</th>\n      <th>cpes_iluminacao_publica_baixa_tensao</th>\n      <th>cpes_iluminacao_publica_alta_tensao</th>\n      <th>cpes_nao_domestico_baixa_tensao</th>\n      <th>cpes_nao_domestico_alta_tensao</th>\n      <th>cpes_outros_baixa_tensao</th>\n      <th>cpes_outros_alta_tensao</th>\n      <th>cpes_mobilidade_eletrica_nao_baixa_tensao</th>\n      <th>cpes_mobilidade_eletrica_sim_baixa_tensao</th>\n    </tr>\n  </thead>\n  <tbody>\n    <tr>\n      <th>count</th>\n      <td>5187.000000</td>\n      <td>5187.000000</td>\n      <td>5.187000e+03</td>\n      <td>5.187000e+03</td>\n      <td>5187.000000</td>\n      <td>5187.000000</td>\n      <td>5187.000000</td>\n      <td>5187.0</td>\n      <td>5187.000000</td>\n      <td>5187.000000</td>\n      <td>5187.000000</td>\n      <td>5187.000000</td>\n      <td>5187.000000</td>\n      <td>5187.000000</td>\n    </tr>\n    <tr>\n      <th>mean</th>\n      <td>2022.842105</td>\n      <td>6.894737</td>\n      <td>6.518676e+06</td>\n      <td>6.888616e+06</td>\n      <td>18808.416426</td>\n      <td>0.040486</td>\n      <td>214.150183</td>\n      <td>0.0</td>\n      <td>4242.803933</td>\n      <td>95.497205</td>\n      <td>128.463852</td>\n      <td>0.365529</td>\n      <td>27371.181415</td>\n      <td>9.612300</td>\n    </tr>\n    <tr>\n      <th>std</th>\n      <td>0.586137</td>\n      <td>3.712284</td>\n      <td>1.177996e+07</td>\n      <td>1.426511e+07</td>\n      <td>29413.928256</td>\n      <td>0.211279</td>\n      <td>194.193563</td>\n      <td>0.0</td>\n      <td>6873.077695</td>\n      <td>121.267530</td>\n      <td>205.717131</td>\n      <td>4.073821</td>\n      <td>46187.414907</td>\n      <td>25.397713</td>\n    </tr>\n    <tr>\n      <th>min</th>\n      <td>2022.000000</td>\n      <td>1.000000</td>\n      <td>1.000680e+05</td>\n      <td>0.000000e+00</td>\n      <td>1042.000000</td>\n      <td>0.000000</td>\n      <td>7.000000</td>\n      <td>0.0</td>\n      <td>174.000000</td>\n      <td>0.000000</td>\n      <td>1.000000</td>\n      <td>0.000000</td>\n      <td>1144.000000</td>\n      <td>0.000000</td>\n    </tr>\n    <tr>\n      <th>25%</th>\n      <td>2022.000000</td>\n      <td>3.000000</td>\n      <td>1.266728e+06</td>\n      <td>4.113695e+05</td>\n      <td>4580.500000</td>\n      <td>0.000000</td>\n      <td>91.000000</td>\n      <td>0.0</td>\n      <td>1101.000000</td>\n      <td>28.000000</td>\n      <td>20.500000</td>\n      <td>0.000000</td>\n      <td>6151.000000</td>\n      <td>2.000000</td>\n    </tr>\n    <tr>\n      <th>50%</th>\n      <td>2023.000000</td>\n      <td>8.000000</td>\n      <td>2.625888e+06</td>\n      <td>1.824003e+06</td>\n      <td>8935.000000</td>\n      <td>0.000000</td>\n      <td>141.000000</td>\n      <td>0.0</td>\n      <td>1990.000000</td>\n      <td>51.000000</td>\n      <td>53.000000</td>\n      <td>0.000000</td>\n      <td>11544.000000</td>\n      <td>2.000000</td>\n    </tr>\n    <tr>\n      <th>75%</th>\n      <td>2023.000000</td>\n      <td>10.000000</td>\n      <td>7.113475e+06</td>\n      <td>5.962718e+06</td>\n      <td>21437.000000</td>\n      <td>0.000000</td>\n      <td>280.000000</td>\n      <td>0.0</td>\n      <td>4900.000000</td>\n      <td>119.000000</td>\n      <td>155.000000</td>\n      <td>0.000000</td>\n      <td>30042.000000</td>\n      <td>6.000000</td>\n    </tr>\n    <tr>\n      <th>max</th>\n      <td>2024.000000</td>\n      <td>12.000000</td>\n      <td>1.641353e+08</td>\n      <td>1.279470e+08</td>\n      <td>312095.000000</td>\n      <td>2.000000</td>\n      <td>1185.000000</td>\n      <td>0.0</td>\n      <td>79984.000000</td>\n      <td>1229.000000</td>\n      <td>2186.000000</td>\n      <td>75.000000</td>\n      <td>530262.000000</td>\n      <td>388.000000</td>\n    </tr>\n  </tbody>\n</table>\n</div>"
     },
     "execution_count": 9,
     "metadata": {},
     "output_type": "execute_result"
    }
   ],
   "execution_count": 9
  },
  {
   "cell_type": "code",
   "source": [
    "# Verificar nulls\n",
    "null_counts = merged_df.isnull().sum()\n",
    "\n",
    "# Ver nulls por coluna\n",
    "print(\"Número de nulls por coluna:\")\n",
    "print(null_counts)"
   ],
   "metadata": {
    "collapsed": false,
    "ExecuteTime": {
     "end_time": "2024-05-10T11:44:21.957111Z",
     "start_time": "2024-05-10T11:44:21.923797Z"
    }
   },
   "id": "3ac1f758ddd8ac96",
   "outputs": [
    {
     "name": "stdout",
     "output_type": "stream",
     "text": [
      "Número de nulls por coluna:\n",
      "concelho                                     0\n",
      "ano                                          0\n",
      "mes                                          0\n",
      "energia_ativa_baixa_tensao_kwh               0\n",
      "energia_ativa_alta_tensao_kwh                0\n",
      "cpes_domestico_baixa_tensao                  0\n",
      "cpes_domestico_alta_tensao                   0\n",
      "cpes_iluminacao_publica_baixa_tensao         0\n",
      "cpes_iluminacao_publica_alta_tensao          0\n",
      "cpes_nao_domestico_baixa_tensao              0\n",
      "cpes_nao_domestico_alta_tensao               0\n",
      "cpes_outros_baixa_tensao                     0\n",
      "cpes_outros_alta_tensao                      0\n",
      "cpes_mobilidade_eletrica_nao_baixa_tensao    0\n",
      "cpes_mobilidade_eletrica_sim_baixa_tensao    0\n",
      "Densidade Populacional (medio p/km2)         0\n",
      "dtype: int64\n"
     ]
    }
   ],
   "execution_count": 10
  },
  {
   "cell_type": "code",
   "source": [
    "# Renomear a coluna\n",
    "merged_df.rename(columns={'Densidade Populacional (medio p/km2)': 'densidade_populacional_pessoas_km2'}, inplace=True)\n",
    "\n",
    "# Verificar se a coluna foi renomeada corretamente\n",
    "merged_df.head()"
   ],
   "metadata": {
    "collapsed": false,
    "ExecuteTime": {
     "end_time": "2024-05-10T11:44:21.988615Z",
     "start_time": "2024-05-10T11:44:21.928981Z"
    }
   },
   "id": "ee7c5db26ebf78b",
   "outputs": [
    {
     "data": {
      "text/plain": "   concelho   ano  mes  energia_ativa_baixa_tensao_kwh  \\\n0  Abrantes  2022    8                         5908716   \n1  Abrantes  2022    9                         5319528   \n2  Abrantes  2022   10                         5431060   \n3  Abrantes  2022   11                         5845742   \n4  Abrantes  2022   12                         6780793   \n\n   energia_ativa_alta_tensao_kwh  cpes_domestico_baixa_tensao  \\\n0                        5891542                        20260   \n1                        6159115                        20270   \n2                        6360625                        20280   \n3                        5961164                        20291   \n4                        5272178                        20297   \n\n   cpes_domestico_alta_tensao  cpes_iluminacao_publica_baixa_tensao  \\\n0                           0                                   293   \n1                           0                                   293   \n2                           0                                   293   \n3                           0                                   293   \n4                           0                                   294   \n\n   cpes_iluminacao_publica_alta_tensao  cpes_nao_domestico_baixa_tensao  \\\n0                                    0                             4318   \n1                                    0                             4311   \n2                                    0                             4302   \n3                                    0                             4308   \n4                                    0                             4312   \n\n   cpes_nao_domestico_alta_tensao  cpes_outros_baixa_tensao  \\\n0                             134                        83   \n1                             134                        81   \n2                             134                        81   \n3                             134                        80   \n4                             134                        82   \n\n   cpes_outros_alta_tensao  cpes_mobilidade_eletrica_nao_baixa_tensao  \\\n0                        0                                      22194   \n1                        0                                      22596   \n2                        0                                      23126   \n3                        0                                      23938   \n4                        0                                      24420   \n\n   cpes_mobilidade_eletrica_sim_baixa_tensao  \\\n0                                          2   \n1                                          2   \n2                                          2   \n3                                          2   \n4                                          2   \n\n  densidade_populacional_pessoas_km2  \n0                               47,5  \n1                               47,5  \n2                               47,5  \n3                               47,5  \n4                               47,5  ",
      "text/html": "<div>\n<style scoped>\n    .dataframe tbody tr th:only-of-type {\n        vertical-align: middle;\n    }\n\n    .dataframe tbody tr th {\n        vertical-align: top;\n    }\n\n    .dataframe thead th {\n        text-align: right;\n    }\n</style>\n<table border=\"1\" class=\"dataframe\">\n  <thead>\n    <tr style=\"text-align: right;\">\n      <th></th>\n      <th>concelho</th>\n      <th>ano</th>\n      <th>mes</th>\n      <th>energia_ativa_baixa_tensao_kwh</th>\n      <th>energia_ativa_alta_tensao_kwh</th>\n      <th>cpes_domestico_baixa_tensao</th>\n      <th>cpes_domestico_alta_tensao</th>\n      <th>cpes_iluminacao_publica_baixa_tensao</th>\n      <th>cpes_iluminacao_publica_alta_tensao</th>\n      <th>cpes_nao_domestico_baixa_tensao</th>\n      <th>cpes_nao_domestico_alta_tensao</th>\n      <th>cpes_outros_baixa_tensao</th>\n      <th>cpes_outros_alta_tensao</th>\n      <th>cpes_mobilidade_eletrica_nao_baixa_tensao</th>\n      <th>cpes_mobilidade_eletrica_sim_baixa_tensao</th>\n      <th>densidade_populacional_pessoas_km2</th>\n    </tr>\n  </thead>\n  <tbody>\n    <tr>\n      <th>0</th>\n      <td>Abrantes</td>\n      <td>2022</td>\n      <td>8</td>\n      <td>5908716</td>\n      <td>5891542</td>\n      <td>20260</td>\n      <td>0</td>\n      <td>293</td>\n      <td>0</td>\n      <td>4318</td>\n      <td>134</td>\n      <td>83</td>\n      <td>0</td>\n      <td>22194</td>\n      <td>2</td>\n      <td>47,5</td>\n    </tr>\n    <tr>\n      <th>1</th>\n      <td>Abrantes</td>\n      <td>2022</td>\n      <td>9</td>\n      <td>5319528</td>\n      <td>6159115</td>\n      <td>20270</td>\n      <td>0</td>\n      <td>293</td>\n      <td>0</td>\n      <td>4311</td>\n      <td>134</td>\n      <td>81</td>\n      <td>0</td>\n      <td>22596</td>\n      <td>2</td>\n      <td>47,5</td>\n    </tr>\n    <tr>\n      <th>2</th>\n      <td>Abrantes</td>\n      <td>2022</td>\n      <td>10</td>\n      <td>5431060</td>\n      <td>6360625</td>\n      <td>20280</td>\n      <td>0</td>\n      <td>293</td>\n      <td>0</td>\n      <td>4302</td>\n      <td>134</td>\n      <td>81</td>\n      <td>0</td>\n      <td>23126</td>\n      <td>2</td>\n      <td>47,5</td>\n    </tr>\n    <tr>\n      <th>3</th>\n      <td>Abrantes</td>\n      <td>2022</td>\n      <td>11</td>\n      <td>5845742</td>\n      <td>5961164</td>\n      <td>20291</td>\n      <td>0</td>\n      <td>293</td>\n      <td>0</td>\n      <td>4308</td>\n      <td>134</td>\n      <td>80</td>\n      <td>0</td>\n      <td>23938</td>\n      <td>2</td>\n      <td>47,5</td>\n    </tr>\n    <tr>\n      <th>4</th>\n      <td>Abrantes</td>\n      <td>2022</td>\n      <td>12</td>\n      <td>6780793</td>\n      <td>5272178</td>\n      <td>20297</td>\n      <td>0</td>\n      <td>294</td>\n      <td>0</td>\n      <td>4312</td>\n      <td>134</td>\n      <td>82</td>\n      <td>0</td>\n      <td>24420</td>\n      <td>2</td>\n      <td>47,5</td>\n    </tr>\n  </tbody>\n</table>\n</div>"
     },
     "execution_count": 11,
     "metadata": {},
     "output_type": "execute_result"
    }
   ],
   "execution_count": 11
  },
  {
   "cell_type": "markdown",
   "source": [
    "### Transformar a coluna em int"
   ],
   "metadata": {
    "collapsed": false
   },
   "id": "591719147a7471c9"
  },
  {
   "cell_type": "code",
   "source": [
    "# Remover espaços em branco dos valores na coluna\n",
    "merged_df['densidade_populacional_pessoas_km2'] = merged_df['densidade_populacional_pessoas_km2'].apply(lambda x: x.replace(' ', ''))\n",
    "merged_df['densidade_populacional_pessoas_km2'] = merged_df['densidade_populacional_pessoas_km2'].apply(lambda x: x.replace(',', '.'))\n",
    "\n",
    "merged_df.head()"
   ],
   "metadata": {
    "collapsed": false,
    "ExecuteTime": {
     "end_time": "2024-05-10T11:44:21.989310Z",
     "start_time": "2024-05-10T11:44:21.937449Z"
    }
   },
   "id": "2b8bd876a65161f1",
   "outputs": [
    {
     "data": {
      "text/plain": "   concelho   ano  mes  energia_ativa_baixa_tensao_kwh  \\\n0  Abrantes  2022    8                         5908716   \n1  Abrantes  2022    9                         5319528   \n2  Abrantes  2022   10                         5431060   \n3  Abrantes  2022   11                         5845742   \n4  Abrantes  2022   12                         6780793   \n\n   energia_ativa_alta_tensao_kwh  cpes_domestico_baixa_tensao  \\\n0                        5891542                        20260   \n1                        6159115                        20270   \n2                        6360625                        20280   \n3                        5961164                        20291   \n4                        5272178                        20297   \n\n   cpes_domestico_alta_tensao  cpes_iluminacao_publica_baixa_tensao  \\\n0                           0                                   293   \n1                           0                                   293   \n2                           0                                   293   \n3                           0                                   293   \n4                           0                                   294   \n\n   cpes_iluminacao_publica_alta_tensao  cpes_nao_domestico_baixa_tensao  \\\n0                                    0                             4318   \n1                                    0                             4311   \n2                                    0                             4302   \n3                                    0                             4308   \n4                                    0                             4312   \n\n   cpes_nao_domestico_alta_tensao  cpes_outros_baixa_tensao  \\\n0                             134                        83   \n1                             134                        81   \n2                             134                        81   \n3                             134                        80   \n4                             134                        82   \n\n   cpes_outros_alta_tensao  cpes_mobilidade_eletrica_nao_baixa_tensao  \\\n0                        0                                      22194   \n1                        0                                      22596   \n2                        0                                      23126   \n3                        0                                      23938   \n4                        0                                      24420   \n\n   cpes_mobilidade_eletrica_sim_baixa_tensao  \\\n0                                          2   \n1                                          2   \n2                                          2   \n3                                          2   \n4                                          2   \n\n  densidade_populacional_pessoas_km2  \n0                               47.5  \n1                               47.5  \n2                               47.5  \n3                               47.5  \n4                               47.5  ",
      "text/html": "<div>\n<style scoped>\n    .dataframe tbody tr th:only-of-type {\n        vertical-align: middle;\n    }\n\n    .dataframe tbody tr th {\n        vertical-align: top;\n    }\n\n    .dataframe thead th {\n        text-align: right;\n    }\n</style>\n<table border=\"1\" class=\"dataframe\">\n  <thead>\n    <tr style=\"text-align: right;\">\n      <th></th>\n      <th>concelho</th>\n      <th>ano</th>\n      <th>mes</th>\n      <th>energia_ativa_baixa_tensao_kwh</th>\n      <th>energia_ativa_alta_tensao_kwh</th>\n      <th>cpes_domestico_baixa_tensao</th>\n      <th>cpes_domestico_alta_tensao</th>\n      <th>cpes_iluminacao_publica_baixa_tensao</th>\n      <th>cpes_iluminacao_publica_alta_tensao</th>\n      <th>cpes_nao_domestico_baixa_tensao</th>\n      <th>cpes_nao_domestico_alta_tensao</th>\n      <th>cpes_outros_baixa_tensao</th>\n      <th>cpes_outros_alta_tensao</th>\n      <th>cpes_mobilidade_eletrica_nao_baixa_tensao</th>\n      <th>cpes_mobilidade_eletrica_sim_baixa_tensao</th>\n      <th>densidade_populacional_pessoas_km2</th>\n    </tr>\n  </thead>\n  <tbody>\n    <tr>\n      <th>0</th>\n      <td>Abrantes</td>\n      <td>2022</td>\n      <td>8</td>\n      <td>5908716</td>\n      <td>5891542</td>\n      <td>20260</td>\n      <td>0</td>\n      <td>293</td>\n      <td>0</td>\n      <td>4318</td>\n      <td>134</td>\n      <td>83</td>\n      <td>0</td>\n      <td>22194</td>\n      <td>2</td>\n      <td>47.5</td>\n    </tr>\n    <tr>\n      <th>1</th>\n      <td>Abrantes</td>\n      <td>2022</td>\n      <td>9</td>\n      <td>5319528</td>\n      <td>6159115</td>\n      <td>20270</td>\n      <td>0</td>\n      <td>293</td>\n      <td>0</td>\n      <td>4311</td>\n      <td>134</td>\n      <td>81</td>\n      <td>0</td>\n      <td>22596</td>\n      <td>2</td>\n      <td>47.5</td>\n    </tr>\n    <tr>\n      <th>2</th>\n      <td>Abrantes</td>\n      <td>2022</td>\n      <td>10</td>\n      <td>5431060</td>\n      <td>6360625</td>\n      <td>20280</td>\n      <td>0</td>\n      <td>293</td>\n      <td>0</td>\n      <td>4302</td>\n      <td>134</td>\n      <td>81</td>\n      <td>0</td>\n      <td>23126</td>\n      <td>2</td>\n      <td>47.5</td>\n    </tr>\n    <tr>\n      <th>3</th>\n      <td>Abrantes</td>\n      <td>2022</td>\n      <td>11</td>\n      <td>5845742</td>\n      <td>5961164</td>\n      <td>20291</td>\n      <td>0</td>\n      <td>293</td>\n      <td>0</td>\n      <td>4308</td>\n      <td>134</td>\n      <td>80</td>\n      <td>0</td>\n      <td>23938</td>\n      <td>2</td>\n      <td>47.5</td>\n    </tr>\n    <tr>\n      <th>4</th>\n      <td>Abrantes</td>\n      <td>2022</td>\n      <td>12</td>\n      <td>6780793</td>\n      <td>5272178</td>\n      <td>20297</td>\n      <td>0</td>\n      <td>294</td>\n      <td>0</td>\n      <td>4312</td>\n      <td>134</td>\n      <td>82</td>\n      <td>0</td>\n      <td>24420</td>\n      <td>2</td>\n      <td>47.5</td>\n    </tr>\n  </tbody>\n</table>\n</div>"
     },
     "execution_count": 12,
     "metadata": {},
     "output_type": "execute_result"
    }
   ],
   "execution_count": 12
  },
  {
   "cell_type": "code",
   "source": [
    "merged_df['densidade_populacional_pessoas_km2'] = merged_df['densidade_populacional_pessoas_km2'].astype('float')"
   ],
   "metadata": {
    "collapsed": false,
    "ExecuteTime": {
     "end_time": "2024-05-10T11:44:21.989549Z",
     "start_time": "2024-05-10T11:44:21.940388Z"
    }
   },
   "id": "481d0dca93f75c08",
   "outputs": [],
   "execution_count": 13
  },
  {
   "cell_type": "code",
   "source": [
    "merged_df.info()"
   ],
   "metadata": {
    "collapsed": false,
    "ExecuteTime": {
     "end_time": "2024-05-10T11:44:22.008885Z",
     "start_time": "2024-05-10T11:44:21.942417Z"
    }
   },
   "id": "a3f3739f95b86c17",
   "outputs": [
    {
     "name": "stdout",
     "output_type": "stream",
     "text": [
      "<class 'pandas.core.frame.DataFrame'>\n",
      "RangeIndex: 5187 entries, 0 to 5186\n",
      "Data columns (total 16 columns):\n",
      " #   Column                                     Non-Null Count  Dtype  \n",
      "---  ------                                     --------------  -----  \n",
      " 0   concelho                                   5187 non-null   object \n",
      " 1   ano                                        5187 non-null   int64  \n",
      " 2   mes                                        5187 non-null   int64  \n",
      " 3   energia_ativa_baixa_tensao_kwh             5187 non-null   int64  \n",
      " 4   energia_ativa_alta_tensao_kwh              5187 non-null   int64  \n",
      " 5   cpes_domestico_baixa_tensao                5187 non-null   int64  \n",
      " 6   cpes_domestico_alta_tensao                 5187 non-null   int64  \n",
      " 7   cpes_iluminacao_publica_baixa_tensao       5187 non-null   int64  \n",
      " 8   cpes_iluminacao_publica_alta_tensao        5187 non-null   int64  \n",
      " 9   cpes_nao_domestico_baixa_tensao            5187 non-null   int64  \n",
      " 10  cpes_nao_domestico_alta_tensao             5187 non-null   int64  \n",
      " 11  cpes_outros_baixa_tensao                   5187 non-null   int64  \n",
      " 12  cpes_outros_alta_tensao                    5187 non-null   int64  \n",
      " 13  cpes_mobilidade_eletrica_nao_baixa_tensao  5187 non-null   int64  \n",
      " 14  cpes_mobilidade_eletrica_sim_baixa_tensao  5187 non-null   int64  \n",
      " 15  densidade_populacional_pessoas_km2         5187 non-null   float64\n",
      "dtypes: float64(1), int64(14), object(1)\n",
      "memory usage: 648.5+ KB\n"
     ]
    }
   ],
   "execution_count": 14
  },
  {
   "cell_type": "markdown",
   "source": [
    "### Guardar num ficheiro com concelho"
   ],
   "metadata": {
    "collapsed": false
   },
   "id": "2c3bed7bbf5eaabe"
  },
  {
   "cell_type": "code",
   "source": [
    "file_path = data_path + 'treated/merged-dataset-concelho-densidade.csv'\n",
    "\n",
    "merged_df.to_csv(file_path, index=False)\n",
    "\n",
    "print(\"DataFrame guardado em \", file_path)"
   ],
   "metadata": {
    "collapsed": false,
    "ExecuteTime": {
     "end_time": "2024-05-10T11:44:22.029614Z",
     "start_time": "2024-05-10T11:44:21.946833Z"
    }
   },
   "id": "5fb9f50f5d032b12",
   "outputs": [
    {
     "name": "stdout",
     "output_type": "stream",
     "text": [
      "DataFrame guardado em  ../data/treated/merged-dataset-concelho-densidade.csv\n"
     ]
    }
   ],
   "execution_count": 15
  },
  {
   "cell_type": "markdown",
   "source": [
    "### Guardar num ficheiro sem concelho"
   ],
   "metadata": {
    "collapsed": false
   },
   "id": "5ea50faaffdb647b"
  },
  {
   "cell_type": "code",
   "source": [
    "file_path = data_path + 'treated/merged-dataset-densidade.csv'\n",
    "\n",
    "merged_df.drop(columns=['concelho'], inplace=True)\n",
    "\n",
    "merged_df.to_csv(file_path, index=False)\n",
    "\n",
    "print(\"DataFrame guardado em \", file_path)"
   ],
   "metadata": {
    "collapsed": false,
    "ExecuteTime": {
     "end_time": "2024-05-10T11:44:22.054746Z",
     "start_time": "2024-05-10T11:44:21.962171Z"
    }
   },
   "id": "793f50af17035f33",
   "outputs": [
    {
     "name": "stdout",
     "output_type": "stream",
     "text": [
      "DataFrame guardado em  ../data/treated/merged-dataset-densidade.csv\n"
     ]
    }
   ],
   "execution_count": 16
  }
 ],
 "metadata": {
  "kernelspec": {
   "display_name": "Python 3",
   "language": "python",
   "name": "python3"
  },
  "language_info": {
   "codemirror_mode": {
    "name": "ipython",
    "version": 2
   },
   "file_extension": ".py",
   "mimetype": "text/x-python",
   "name": "python",
   "nbconvert_exporter": "python",
   "pygments_lexer": "ipython2",
   "version": "2.7.6"
  }
 },
 "nbformat": 4,
 "nbformat_minor": 5
}
