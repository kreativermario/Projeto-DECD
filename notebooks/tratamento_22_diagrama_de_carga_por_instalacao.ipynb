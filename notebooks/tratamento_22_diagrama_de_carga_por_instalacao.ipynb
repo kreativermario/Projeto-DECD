{
 "cells": [
  {
   "cell_type": "markdown",
   "source": [
    "### Import das dependências"
   ],
   "metadata": {
    "collapsed": false
   },
   "id": "7ee9a7514d814140"
  },
  {
   "cell_type": "code",
   "outputs": [],
   "source": [
    "import os\n",
    "\n",
    "import numpy as np\n",
    "import pandas as pd\n",
    "\n",
    "%matplotlib inline\n",
    "import matplotlib.pyplot as plt\n",
    "import seaborn as sns\n",
    "\n",
    "sns.set_theme()"
   ],
   "metadata": {
    "collapsed": false,
    "ExecuteTime": {
     "end_time": "2024-04-04T16:50:23.888138Z",
     "start_time": "2024-04-04T16:50:23.883389Z"
    }
   },
   "id": "911d7fbfdb9025f8",
   "execution_count": 24
  },
  {
   "cell_type": "markdown",
   "source": [
    "### 1. Importar o dataset - \"Número de ordens de serviço remotas realizadas\""
   ],
   "metadata": {
    "collapsed": false
   },
   "id": "1d51cb1f9d0235e7"
  },
  {
   "cell_type": "code",
   "outputs": [],
   "source": [
    "data_path = '../data/' if os.path.exists('../data/') else 'https://raw.githubusercontent.com/kreativermario/Projeto-DECD/master/data/'\n",
    "\n",
    "diagrama_de_carga_path = data_path + '22-diagrama-de-carga-por-instalacao.csv'\n",
    "\n",
    "df_diagrama_de_carga = pd.read_csv(diagrama_de_carga_path, delimiter=';')"
   ],
   "metadata": {
    "collapsed": false,
    "ExecuteTime": {
     "end_time": "2024-04-04T16:50:24.031021Z",
     "start_time": "2024-04-04T16:50:23.932215Z"
    }
   },
   "id": "f22893ae7070fb98",
   "execution_count": 25
  },
  {
   "cell_type": "markdown",
   "source": [
    "### 2. Ver o dataset"
   ],
   "metadata": {
    "collapsed": false
   },
   "id": "4031a1ac936c93a6"
  },
  {
   "cell_type": "code",
   "outputs": [
    {
     "name": "stdout",
     "output_type": "stream",
     "text": [
      "<class 'pandas.core.frame.DataFrame'>\n",
      "RangeIndex: 67960 entries, 0 to 67959\n",
      "Data columns (total 9 columns):\n",
      " #   Column                        Non-Null Count  Dtype \n",
      "---  ------                        --------------  ----- \n",
      " 0   Ano                           67960 non-null  int64 \n",
      " 1   Mês                           67960 non-null  int64 \n",
      " 2   data                          67960 non-null  object\n",
      " 3   Distrito                      67960 non-null  object\n",
      " 4   Concelho                      67960 non-null  object\n",
      " 5   Freguesia                     67960 non-null  object\n",
      " 6   Inclui Mobilidade Elétrica    67960 non-null  object\n",
      " 7   CPEs com DCs Recolhidos (#)   67960 non-null  int64 \n",
      " 8   CodDistritoConcelhoFreguesia  67960 non-null  object\n",
      "dtypes: int64(3), object(6)\n",
      "memory usage: 4.7+ MB\n"
     ]
    }
   ],
   "source": [
    "df_diagrama_de_carga.info()"
   ],
   "metadata": {
    "collapsed": false,
    "ExecuteTime": {
     "end_time": "2024-04-04T16:50:24.054933Z",
     "start_time": "2024-04-04T16:50:24.032023Z"
    }
   },
   "id": "6ef951d5286d3d05",
   "execution_count": 26
  },
  {
   "cell_type": "markdown",
   "source": [
    "1. Verificar se há elementos null"
   ],
   "metadata": {
    "collapsed": false
   },
   "id": "56ab6e1565b57dfb"
  },
  {
   "cell_type": "code",
   "outputs": [
    {
     "name": "stdout",
     "output_type": "stream",
     "text": [
      "Número de nulls por coluna:\n",
      "Ano                             0\n",
      "Mês                             0\n",
      "data                            0\n",
      "Distrito                        0\n",
      "Concelho                        0\n",
      "Freguesia                       0\n",
      "Inclui Mobilidade Elétrica      0\n",
      "CPEs com DCs Recolhidos (#)     0\n",
      "CodDistritoConcelhoFreguesia    0\n",
      "dtype: int64\n"
     ]
    },
    {
     "data": {
      "text/plain": "     Ano  Mês     data        Distrito               Concelho  \\\n0   2023    8  2023-08        Bragança              Mirandela   \n1   2023    8  2023-08        Bragança              Mirandela   \n2   2023    8  2023-08        Bragança              Mogadouro   \n3   2023    8  2023-08        Bragança              Vila Flor   \n4   2023    8  2023-08  Castelo Branco         Castelo Branco   \n5   2023    8  2023-08  Castelo Branco                Oleiros   \n6   2023    8  2023-08         Coimbra        Figueira da Foz   \n7   2023    8  2023-08         Coimbra        Figueira da Foz   \n8   2023    8  2023-08         Coimbra                  Lousã   \n9   2023    8  2023-08         Coimbra   Oliveira do Hospital   \n10  2023    8  2023-08         Coimbra   Oliveira do Hospital   \n11  2023    8  2023-08         Coimbra                  Soure   \n12  2023    8  2023-08           Évora              Arraiolos   \n13  2023    8  2023-08           Évora                 Mourão   \n14  2023    8  2023-08           Évora  Reguengos de Monsaraz   \n\n                                            Freguesia  \\\n0                                           Fradizela   \n1                                      Vale de Telhas   \n2                                                  Tó   \n3                                            Freixiel   \n4                                  Salgueiro do Campo   \n5                                                Isna   \n6                                               Lavos   \n7                                               Paião   \n8                                            Gândaras   \n9   União das freguesias de Ervedal e Vila Franca ...   \n10  União das freguesias de Oliveira do Hospital e...   \n11                                              Soure   \n12                                           Vimieiro   \n13                                             Mourão   \n14                              Reguengos de Monsaraz   \n\n   Inclui Mobilidade Elétrica  CPEs com DCs Recolhidos (#)  \\\n0                         Não                           83   \n1                         Não                          147   \n2                         Não                           87   \n3                         Não                           29   \n4                         Não                           21   \n5                         Não                          110   \n6                         Sim                            1   \n7                         Não                          235   \n8                         Não                          580   \n9                         Não                          111   \n10                        Não                         3200   \n11                        Não                         3972   \n12                        Não                          231   \n13                        Não                          914   \n14                        Sim                            3   \n\n   CodDistritoConcelhoFreguesia  \n0                        040714  \n1                        040734  \n2                        040819  \n3                        041005  \n4                        050220  \n5                        050605  \n6                        060522  \n7                        060523  \n8                        060706  \n9                        061122  \n10                       061124  \n11                       061509  \n12                       070206  \n13                       070803  \n14                       071104  ",
      "text/html": "<div>\n<style scoped>\n    .dataframe tbody tr th:only-of-type {\n        vertical-align: middle;\n    }\n\n    .dataframe tbody tr th {\n        vertical-align: top;\n    }\n\n    .dataframe thead th {\n        text-align: right;\n    }\n</style>\n<table border=\"1\" class=\"dataframe\">\n  <thead>\n    <tr style=\"text-align: right;\">\n      <th></th>\n      <th>Ano</th>\n      <th>Mês</th>\n      <th>data</th>\n      <th>Distrito</th>\n      <th>Concelho</th>\n      <th>Freguesia</th>\n      <th>Inclui Mobilidade Elétrica</th>\n      <th>CPEs com DCs Recolhidos (#)</th>\n      <th>CodDistritoConcelhoFreguesia</th>\n    </tr>\n  </thead>\n  <tbody>\n    <tr>\n      <th>0</th>\n      <td>2023</td>\n      <td>8</td>\n      <td>2023-08</td>\n      <td>Bragança</td>\n      <td>Mirandela</td>\n      <td>Fradizela</td>\n      <td>Não</td>\n      <td>83</td>\n      <td>040714</td>\n    </tr>\n    <tr>\n      <th>1</th>\n      <td>2023</td>\n      <td>8</td>\n      <td>2023-08</td>\n      <td>Bragança</td>\n      <td>Mirandela</td>\n      <td>Vale de Telhas</td>\n      <td>Não</td>\n      <td>147</td>\n      <td>040734</td>\n    </tr>\n    <tr>\n      <th>2</th>\n      <td>2023</td>\n      <td>8</td>\n      <td>2023-08</td>\n      <td>Bragança</td>\n      <td>Mogadouro</td>\n      <td>Tó</td>\n      <td>Não</td>\n      <td>87</td>\n      <td>040819</td>\n    </tr>\n    <tr>\n      <th>3</th>\n      <td>2023</td>\n      <td>8</td>\n      <td>2023-08</td>\n      <td>Bragança</td>\n      <td>Vila Flor</td>\n      <td>Freixiel</td>\n      <td>Não</td>\n      <td>29</td>\n      <td>041005</td>\n    </tr>\n    <tr>\n      <th>4</th>\n      <td>2023</td>\n      <td>8</td>\n      <td>2023-08</td>\n      <td>Castelo Branco</td>\n      <td>Castelo Branco</td>\n      <td>Salgueiro do Campo</td>\n      <td>Não</td>\n      <td>21</td>\n      <td>050220</td>\n    </tr>\n    <tr>\n      <th>5</th>\n      <td>2023</td>\n      <td>8</td>\n      <td>2023-08</td>\n      <td>Castelo Branco</td>\n      <td>Oleiros</td>\n      <td>Isna</td>\n      <td>Não</td>\n      <td>110</td>\n      <td>050605</td>\n    </tr>\n    <tr>\n      <th>6</th>\n      <td>2023</td>\n      <td>8</td>\n      <td>2023-08</td>\n      <td>Coimbra</td>\n      <td>Figueira da Foz</td>\n      <td>Lavos</td>\n      <td>Sim</td>\n      <td>1</td>\n      <td>060522</td>\n    </tr>\n    <tr>\n      <th>7</th>\n      <td>2023</td>\n      <td>8</td>\n      <td>2023-08</td>\n      <td>Coimbra</td>\n      <td>Figueira da Foz</td>\n      <td>Paião</td>\n      <td>Não</td>\n      <td>235</td>\n      <td>060523</td>\n    </tr>\n    <tr>\n      <th>8</th>\n      <td>2023</td>\n      <td>8</td>\n      <td>2023-08</td>\n      <td>Coimbra</td>\n      <td>Lousã</td>\n      <td>Gândaras</td>\n      <td>Não</td>\n      <td>580</td>\n      <td>060706</td>\n    </tr>\n    <tr>\n      <th>9</th>\n      <td>2023</td>\n      <td>8</td>\n      <td>2023-08</td>\n      <td>Coimbra</td>\n      <td>Oliveira do Hospital</td>\n      <td>União das freguesias de Ervedal e Vila Franca ...</td>\n      <td>Não</td>\n      <td>111</td>\n      <td>061122</td>\n    </tr>\n    <tr>\n      <th>10</th>\n      <td>2023</td>\n      <td>8</td>\n      <td>2023-08</td>\n      <td>Coimbra</td>\n      <td>Oliveira do Hospital</td>\n      <td>União das freguesias de Oliveira do Hospital e...</td>\n      <td>Não</td>\n      <td>3200</td>\n      <td>061124</td>\n    </tr>\n    <tr>\n      <th>11</th>\n      <td>2023</td>\n      <td>8</td>\n      <td>2023-08</td>\n      <td>Coimbra</td>\n      <td>Soure</td>\n      <td>Soure</td>\n      <td>Não</td>\n      <td>3972</td>\n      <td>061509</td>\n    </tr>\n    <tr>\n      <th>12</th>\n      <td>2023</td>\n      <td>8</td>\n      <td>2023-08</td>\n      <td>Évora</td>\n      <td>Arraiolos</td>\n      <td>Vimieiro</td>\n      <td>Não</td>\n      <td>231</td>\n      <td>070206</td>\n    </tr>\n    <tr>\n      <th>13</th>\n      <td>2023</td>\n      <td>8</td>\n      <td>2023-08</td>\n      <td>Évora</td>\n      <td>Mourão</td>\n      <td>Mourão</td>\n      <td>Não</td>\n      <td>914</td>\n      <td>070803</td>\n    </tr>\n    <tr>\n      <th>14</th>\n      <td>2023</td>\n      <td>8</td>\n      <td>2023-08</td>\n      <td>Évora</td>\n      <td>Reguengos de Monsaraz</td>\n      <td>Reguengos de Monsaraz</td>\n      <td>Sim</td>\n      <td>3</td>\n      <td>071104</td>\n    </tr>\n  </tbody>\n</table>\n</div>"
     },
     "execution_count": 27,
     "metadata": {},
     "output_type": "execute_result"
    }
   ],
   "source": [
    "# Verificar nulls\n",
    "null_counts = df_diagrama_de_carga.isnull().sum()\n",
    "\n",
    "# Ver nulls por coluna\n",
    "print(\"Número de nulls por coluna:\")\n",
    "print(null_counts)\n",
    "\n",
    "df_diagrama_de_carga.head(15)"
   ],
   "metadata": {
    "collapsed": false,
    "ExecuteTime": {
     "end_time": "2024-04-04T16:50:24.080786Z",
     "start_time": "2024-04-04T16:50:24.055459Z"
    }
   },
   "id": "77d1ffab394acb0a",
   "execution_count": 27
  },
  {
   "cell_type": "markdown",
   "source": [
    "### 3. Tratamento e agregação dos dados\n",
    "\n",
    "1. Remover atributos como a data, CodDistritoConcelhoFreguesia\n",
    "2. Agrupar por concelhos e remover a freguesia\n",
    "3. Agrupar por semestres e anos"
   ],
   "metadata": {
    "collapsed": false
   },
   "id": "439e2b8001cb7375"
  },
  {
   "cell_type": "markdown",
   "source": [
    "1. Remover atributos como a data, CodDistritoConcelhoFreguesia"
   ],
   "metadata": {
    "collapsed": false
   },
   "id": "a3a4e32a07c6f74c"
  },
  {
   "cell_type": "code",
   "outputs": [
    {
     "name": "stdout",
     "output_type": "stream",
     "text": [
      "<class 'pandas.core.frame.DataFrame'>\n",
      "RangeIndex: 67960 entries, 0 to 67959\n",
      "Data columns (total 6 columns):\n",
      " #   Column                       Non-Null Count  Dtype \n",
      "---  ------                       --------------  ----- \n",
      " 0   Ano                          67960 non-null  int64 \n",
      " 1   Mês                          67960 non-null  int64 \n",
      " 2   Concelho                     67960 non-null  object\n",
      " 3   Freguesia                    67960 non-null  object\n",
      " 4   Inclui Mobilidade Elétrica   67960 non-null  object\n",
      " 5   CPEs com DCs Recolhidos (#)  67960 non-null  int64 \n",
      "dtypes: int64(3), object(3)\n",
      "memory usage: 3.1+ MB\n"
     ]
    }
   ],
   "source": [
    "# Remover atributos como a data e código, distrito\n",
    "df_diagrama_de_carga.drop(columns=['data', 'CodDistritoConcelhoFreguesia', 'Distrito'], inplace=True)\n",
    "df_diagrama_de_carga.info()"
   ],
   "metadata": {
    "collapsed": false,
    "ExecuteTime": {
     "end_time": "2024-04-04T16:50:24.100818Z",
     "start_time": "2024-04-04T16:50:24.081821Z"
    }
   },
   "id": "1682ec833e810ada",
   "execution_count": 28
  },
  {
   "cell_type": "markdown",
   "source": [
    "2. Agrupar por concelhos e remover a freguesia"
   ],
   "metadata": {
    "collapsed": false
   },
   "id": "27c6766be4d69b69"
  },
  {
   "cell_type": "code",
   "outputs": [
    {
     "data": {
      "text/plain": "          Concelho   Ano   Mês  \\\n0         Abrantes  2022   700   \n1         Abrantes  2023  1155   \n2         Abrantes  2024    90   \n3  Aguiar da Beira  2022   500   \n4  Aguiar da Beira  2023   933   \n\n                          Inclui Mobilidade Elétrica  \\\n0  NãoNãoNãoSimNãoNãoNãoNãoNãoNãoNãoNãoNãoNãoNãoN...   \n1  NãoNãoNãoNãoNãoNãoNãoNãoNãoNãoNãoNãoNãoNãoNãoN...   \n2  NãoNãoNãoNãoNãoNãoNãoNãoNãoSimNãoSimNãoNãoNãoN...   \n3  NãoNãoNãoNãoNãoNãoNãoNãoNãoNãoNãoNãoNãoNãoNãoN...   \n4  NãoNãoNãoNãoNãoSimSimSimNãoNãoSimNãoNãoNãoNãoN...   \n\n   CPEs com DCs Recolhidos (#)  \n0                        58142  \n1                       176279  \n2                        51590  \n3                        10949  \n4                        39793  ",
      "text/html": "<div>\n<style scoped>\n    .dataframe tbody tr th:only-of-type {\n        vertical-align: middle;\n    }\n\n    .dataframe tbody tr th {\n        vertical-align: top;\n    }\n\n    .dataframe thead th {\n        text-align: right;\n    }\n</style>\n<table border=\"1\" class=\"dataframe\">\n  <thead>\n    <tr style=\"text-align: right;\">\n      <th></th>\n      <th>Concelho</th>\n      <th>Ano</th>\n      <th>Mês</th>\n      <th>Inclui Mobilidade Elétrica</th>\n      <th>CPEs com DCs Recolhidos (#)</th>\n    </tr>\n  </thead>\n  <tbody>\n    <tr>\n      <th>0</th>\n      <td>Abrantes</td>\n      <td>2022</td>\n      <td>700</td>\n      <td>NãoNãoNãoSimNãoNãoNãoNãoNãoNãoNãoNãoNãoNãoNãoN...</td>\n      <td>58142</td>\n    </tr>\n    <tr>\n      <th>1</th>\n      <td>Abrantes</td>\n      <td>2023</td>\n      <td>1155</td>\n      <td>NãoNãoNãoNãoNãoNãoNãoNãoNãoNãoNãoNãoNãoNãoNãoN...</td>\n      <td>176279</td>\n    </tr>\n    <tr>\n      <th>2</th>\n      <td>Abrantes</td>\n      <td>2024</td>\n      <td>90</td>\n      <td>NãoNãoNãoNãoNãoNãoNãoNãoNãoSimNãoSimNãoNãoNãoN...</td>\n      <td>51590</td>\n    </tr>\n    <tr>\n      <th>3</th>\n      <td>Aguiar da Beira</td>\n      <td>2022</td>\n      <td>500</td>\n      <td>NãoNãoNãoNãoNãoNãoNãoNãoNãoNãoNãoNãoNãoNãoNãoN...</td>\n      <td>10949</td>\n    </tr>\n    <tr>\n      <th>4</th>\n      <td>Aguiar da Beira</td>\n      <td>2023</td>\n      <td>933</td>\n      <td>NãoNãoNãoNãoNãoSimSimSimNãoNãoSimNãoNãoNãoNãoN...</td>\n      <td>39793</td>\n    </tr>\n  </tbody>\n</table>\n</div>"
     },
     "execution_count": 29,
     "metadata": {},
     "output_type": "execute_result"
    }
   ],
   "source": [
    "df_agrupado = df_diagrama_de_carga.groupby(['Concelho', 'Ano']).sum().reset_index()\n",
    "df_agrupado.drop(columns=['Freguesia'], inplace=True)\n",
    "df_agrupado.head()"
   ],
   "metadata": {
    "collapsed": false,
    "ExecuteTime": {
     "end_time": "2024-04-04T16:50:24.177182Z",
     "start_time": "2024-04-04T16:50:24.101826Z"
    }
   },
   "id": "6ce45ef627535963",
   "execution_count": 29
  },
  {
   "cell_type": "markdown",
   "source": [
    "3. Verificar o número de linhas"
   ],
   "metadata": {
    "collapsed": false
   },
   "id": "28f450603a36487c"
  },
  {
   "cell_type": "code",
   "outputs": [
    {
     "name": "stdout",
     "output_type": "stream",
     "text": [
      "Número de linhas antes do agrupamento: 67960\n",
      "Número de linhas depois do agrupamento: 834\n",
      "<class 'pandas.core.frame.DataFrame'>\n",
      "RangeIndex: 834 entries, 0 to 833\n",
      "Data columns (total 5 columns):\n",
      " #   Column                       Non-Null Count  Dtype \n",
      "---  ------                       --------------  ----- \n",
      " 0   Concelho                     834 non-null    object\n",
      " 1   Ano                          834 non-null    int64 \n",
      " 2   Mês                          834 non-null    int64 \n",
      " 3   Inclui Mobilidade Elétrica   834 non-null    object\n",
      " 4   CPEs com DCs Recolhidos (#)  834 non-null    int64 \n",
      "dtypes: int64(3), object(2)\n",
      "memory usage: 32.7+ KB\n"
     ]
    },
    {
     "data": {
      "text/plain": "              Concelho   Ano   Mês  \\\n0             Abrantes  2022   700   \n1             Abrantes  2023  1155   \n2             Abrantes  2024    90   \n3      Aguiar da Beira  2022   500   \n4      Aguiar da Beira  2023   933   \n5      Aguiar da Beira  2024    72   \n6            Alandroal  2022   250   \n7            Alandroal  2023   390   \n8            Alandroal  2024    30   \n9   Albergaria-a-Velha  2022   350   \n10  Albergaria-a-Velha  2023   546   \n11  Albergaria-a-Velha  2024    42   \n12           Albufeira  2022   400   \n13           Albufeira  2023   591   \n14           Albufeira  2024    48   \n\n                           Inclui Mobilidade Elétrica  \\\n0   NãoNãoNãoSimNãoNãoNãoNãoNãoNãoNãoNãoNãoNãoNãoN...   \n1   NãoNãoNãoNãoNãoNãoNãoNãoNãoNãoNãoNãoNãoNãoNãoN...   \n2   NãoNãoNãoNãoNãoNãoNãoNãoNãoSimNãoSimNãoNãoNãoN...   \n3   NãoNãoNãoNãoNãoNãoNãoNãoNãoNãoNãoNãoNãoNãoNãoN...   \n4   NãoNãoNãoNãoNãoSimSimSimNãoNãoSimNãoNãoNãoNãoN...   \n5   NãoNãoNãoSimSimNãoNãoNãoNãoNãoNãoNãoNãoSimNãoN...   \n6   NãoNãoNãoNãoSimNãoNãoSimNãoSimSimNãoNãoNãoSimN...   \n7   SimNãoNãoNãoNãoNãoNãoNãoNãoNãoNãoNãoNãoNãoSimN...   \n8       NãoNãoNãoNãoSimNãoSimNãoNãoNãoNãoNãoNãoNãoSim   \n9   NãoNãoNãoNãoNãoNãoSimNãoNãoNãoNãoNãoNãoNãoSimN...   \n10  NãoNãoNãoNãoNãoNãoNãoNãoNãoSimNãoSimNãoNãoNãoS...   \n11  NãoNãoNãoNãoNãoNãoSimNãoNãoNãoNãoNãoNãoNãoSimN...   \n12  NãoNãoNãoNãoNãoNãoSimNãoSimSimSimNãoNãoSimSimS...   \n13  NãoNãoNãoNãoNãoSimSimNãoNãoNãoSimSimNãoNãoSimN...   \n14  NãoSimSimSimSimNãoNãoSimNãoSimNãoSimNãoSimNãoS...   \n\n    CPEs com DCs Recolhidos (#)  \n0                         58142  \n1                        176279  \n2                         51590  \n3                         10949  \n4                         39793  \n5                         12367  \n6                          7568  \n7                         23741  \n8                          7671  \n9                         18175  \n10                        77968  \n11                        28385  \n12                       130926  \n13                       400585  \n14                       121005  ",
      "text/html": "<div>\n<style scoped>\n    .dataframe tbody tr th:only-of-type {\n        vertical-align: middle;\n    }\n\n    .dataframe tbody tr th {\n        vertical-align: top;\n    }\n\n    .dataframe thead th {\n        text-align: right;\n    }\n</style>\n<table border=\"1\" class=\"dataframe\">\n  <thead>\n    <tr style=\"text-align: right;\">\n      <th></th>\n      <th>Concelho</th>\n      <th>Ano</th>\n      <th>Mês</th>\n      <th>Inclui Mobilidade Elétrica</th>\n      <th>CPEs com DCs Recolhidos (#)</th>\n    </tr>\n  </thead>\n  <tbody>\n    <tr>\n      <th>0</th>\n      <td>Abrantes</td>\n      <td>2022</td>\n      <td>700</td>\n      <td>NãoNãoNãoSimNãoNãoNãoNãoNãoNãoNãoNãoNãoNãoNãoN...</td>\n      <td>58142</td>\n    </tr>\n    <tr>\n      <th>1</th>\n      <td>Abrantes</td>\n      <td>2023</td>\n      <td>1155</td>\n      <td>NãoNãoNãoNãoNãoNãoNãoNãoNãoNãoNãoNãoNãoNãoNãoN...</td>\n      <td>176279</td>\n    </tr>\n    <tr>\n      <th>2</th>\n      <td>Abrantes</td>\n      <td>2024</td>\n      <td>90</td>\n      <td>NãoNãoNãoNãoNãoNãoNãoNãoNãoSimNãoSimNãoNãoNãoN...</td>\n      <td>51590</td>\n    </tr>\n    <tr>\n      <th>3</th>\n      <td>Aguiar da Beira</td>\n      <td>2022</td>\n      <td>500</td>\n      <td>NãoNãoNãoNãoNãoNãoNãoNãoNãoNãoNãoNãoNãoNãoNãoN...</td>\n      <td>10949</td>\n    </tr>\n    <tr>\n      <th>4</th>\n      <td>Aguiar da Beira</td>\n      <td>2023</td>\n      <td>933</td>\n      <td>NãoNãoNãoNãoNãoSimSimSimNãoNãoSimNãoNãoNãoNãoN...</td>\n      <td>39793</td>\n    </tr>\n    <tr>\n      <th>5</th>\n      <td>Aguiar da Beira</td>\n      <td>2024</td>\n      <td>72</td>\n      <td>NãoNãoNãoSimSimNãoNãoNãoNãoNãoNãoNãoNãoSimNãoN...</td>\n      <td>12367</td>\n    </tr>\n    <tr>\n      <th>6</th>\n      <td>Alandroal</td>\n      <td>2022</td>\n      <td>250</td>\n      <td>NãoNãoNãoNãoSimNãoNãoSimNãoSimSimNãoNãoNãoSimN...</td>\n      <td>7568</td>\n    </tr>\n    <tr>\n      <th>7</th>\n      <td>Alandroal</td>\n      <td>2023</td>\n      <td>390</td>\n      <td>SimNãoNãoNãoNãoNãoNãoNãoNãoNãoNãoNãoNãoNãoSimN...</td>\n      <td>23741</td>\n    </tr>\n    <tr>\n      <th>8</th>\n      <td>Alandroal</td>\n      <td>2024</td>\n      <td>30</td>\n      <td>NãoNãoNãoNãoSimNãoSimNãoNãoNãoNãoNãoNãoNãoSim</td>\n      <td>7671</td>\n    </tr>\n    <tr>\n      <th>9</th>\n      <td>Albergaria-a-Velha</td>\n      <td>2022</td>\n      <td>350</td>\n      <td>NãoNãoNãoNãoNãoNãoSimNãoNãoNãoNãoNãoNãoNãoSimN...</td>\n      <td>18175</td>\n    </tr>\n    <tr>\n      <th>10</th>\n      <td>Albergaria-a-Velha</td>\n      <td>2023</td>\n      <td>546</td>\n      <td>NãoNãoNãoNãoNãoNãoNãoNãoNãoSimNãoSimNãoNãoNãoS...</td>\n      <td>77968</td>\n    </tr>\n    <tr>\n      <th>11</th>\n      <td>Albergaria-a-Velha</td>\n      <td>2024</td>\n      <td>42</td>\n      <td>NãoNãoNãoNãoNãoNãoSimNãoNãoNãoNãoNãoNãoNãoSimN...</td>\n      <td>28385</td>\n    </tr>\n    <tr>\n      <th>12</th>\n      <td>Albufeira</td>\n      <td>2022</td>\n      <td>400</td>\n      <td>NãoNãoNãoNãoNãoNãoSimNãoSimSimSimNãoNãoSimSimS...</td>\n      <td>130926</td>\n    </tr>\n    <tr>\n      <th>13</th>\n      <td>Albufeira</td>\n      <td>2023</td>\n      <td>591</td>\n      <td>NãoNãoNãoNãoNãoSimSimNãoNãoNãoSimSimNãoNãoSimN...</td>\n      <td>400585</td>\n    </tr>\n    <tr>\n      <th>14</th>\n      <td>Albufeira</td>\n      <td>2024</td>\n      <td>48</td>\n      <td>NãoSimSimSimSimNãoNãoSimNãoSimNãoSimNãoSimNãoS...</td>\n      <td>121005</td>\n    </tr>\n  </tbody>\n</table>\n</div>"
     },
     "execution_count": 30,
     "metadata": {},
     "output_type": "execute_result"
    }
   ],
   "source": [
    "# Contagem de linhas antes do agrupamento\n",
    "num_linhas_antes = len(df_diagrama_de_carga)\n",
    "\n",
    "# Contagem de linhas depois do agrupamento\n",
    "num_linhas_depois = len(df_agrupado)\n",
    "\n",
    "# Exibição das contagens\n",
    "print(\"Número de linhas antes do agrupamento:\", num_linhas_antes)\n",
    "print(\"Número de linhas depois do agrupamento:\", num_linhas_depois)\n",
    "\n",
    "df_agrupado.info()\n",
    "\n",
    "df_agrupado.head(15)"
   ],
   "metadata": {
    "collapsed": false,
    "ExecuteTime": {
     "end_time": "2024-04-04T16:50:24.195710Z",
     "start_time": "2024-04-04T16:50:24.178187Z"
    }
   },
   "id": "be4b6ec16ebe4de1",
   "execution_count": 30
  },
  {
   "cell_type": "markdown",
   "source": [
    "4. Verificar se está tudo bem"
   ],
   "metadata": {
    "collapsed": false
   },
   "id": "5c0fa9f9cdaa3c20"
  },
  {
   "cell_type": "code",
   "outputs": [
    {
     "name": "stdout",
     "output_type": "stream",
     "text": [
      "<class 'pandas.core.frame.DataFrame'>\n",
      "Index: 3 entries, 333 to 335\n",
      "Data columns (total 5 columns):\n",
      " #   Column                       Non-Null Count  Dtype \n",
      "---  ------                       --------------  ----- \n",
      " 0   Concelho                     3 non-null      object\n",
      " 1   Ano                          3 non-null      int64 \n",
      " 2   Mês                          3 non-null      int64 \n",
      " 3   Inclui Mobilidade Elétrica   3 non-null      object\n",
      " 4   CPEs com DCs Recolhidos (#)  3 non-null      int64 \n",
      "dtypes: int64(3), object(2)\n",
      "memory usage: 144.0+ bytes\n"
     ]
    }
   ],
   "source": [
    "# Para a coleção de Consumos Mensais por Concelho\n",
    "df_consumos_lisboa = df_agrupado[df_agrupado['Concelho'] == 'Lisboa']\n",
    "df_consumos_lisboa.info()"
   ],
   "metadata": {
    "collapsed": false,
    "ExecuteTime": {
     "end_time": "2024-04-04T16:50:24.207268Z",
     "start_time": "2024-04-04T16:50:24.196719Z"
    }
   },
   "id": "6a90c971651f3e40",
   "execution_count": 31
  },
  {
   "cell_type": "code",
   "outputs": [
    {
     "data": {
      "text/plain": "    Concelho   Ano   Mês                         Inclui Mobilidade Elétrica  \\\n333   Lisboa  2022  2300  SimSimNãoNãoSimNãoNãoNãoSimSimSimSimSimNãoNãoS...   \n334   Lisboa  2023  3694  NãoSimNãoNãoSimNãoSimSimSimNãoSimSimNãoNãoSimS...   \n335   Lisboa  2024   288  NãoNãoSimSimNãoNãoNãoSimSimSimSimNãoNãoNãoNãoN...   \n\n     CPEs com DCs Recolhidos (#)  \n333                      1196349  \n334                      2945921  \n335                       777791  ",
      "text/html": "<div>\n<style scoped>\n    .dataframe tbody tr th:only-of-type {\n        vertical-align: middle;\n    }\n\n    .dataframe tbody tr th {\n        vertical-align: top;\n    }\n\n    .dataframe thead th {\n        text-align: right;\n    }\n</style>\n<table border=\"1\" class=\"dataframe\">\n  <thead>\n    <tr style=\"text-align: right;\">\n      <th></th>\n      <th>Concelho</th>\n      <th>Ano</th>\n      <th>Mês</th>\n      <th>Inclui Mobilidade Elétrica</th>\n      <th>CPEs com DCs Recolhidos (#)</th>\n    </tr>\n  </thead>\n  <tbody>\n    <tr>\n      <th>333</th>\n      <td>Lisboa</td>\n      <td>2022</td>\n      <td>2300</td>\n      <td>SimSimNãoNãoSimNãoNãoNãoSimSimSimSimSimNãoNãoS...</td>\n      <td>1196349</td>\n    </tr>\n    <tr>\n      <th>334</th>\n      <td>Lisboa</td>\n      <td>2023</td>\n      <td>3694</td>\n      <td>NãoSimNãoNãoSimNãoSimSimSimNãoSimSimNãoNãoSimS...</td>\n      <td>2945921</td>\n    </tr>\n    <tr>\n      <th>335</th>\n      <td>Lisboa</td>\n      <td>2024</td>\n      <td>288</td>\n      <td>NãoNãoSimSimNãoNãoNãoSimSimSimSimNãoNãoNãoNãoN...</td>\n      <td>777791</td>\n    </tr>\n  </tbody>\n</table>\n</div>"
     },
     "execution_count": 32,
     "metadata": {},
     "output_type": "execute_result"
    }
   ],
   "source": [
    "df_consumos_lisboa"
   ],
   "metadata": {
    "collapsed": false,
    "ExecuteTime": {
     "end_time": "2024-04-04T16:50:24.217272Z",
     "start_time": "2024-04-04T16:50:24.209274Z"
    }
   },
   "id": "2b1314a6a3495e56",
   "execution_count": 32
  },
  {
   "cell_type": "markdown",
   "source": [
    "5. Guardar num ficheiro"
   ],
   "metadata": {
    "collapsed": false
   },
   "id": "5afe2964ad0d0578"
  },
  {
   "cell_type": "code",
   "outputs": [
    {
     "name": "stdout",
     "output_type": "stream",
     "text": [
      "DataFrame guardado em  ../data/treated/diagrama_de_carga_por_mes.csv\n"
     ]
    }
   ],
   "source": [
    "file_path = data_path + 'treated/diagrama_de_carga_por_mes.csv'\n",
    "\n",
    "df_agrupado.to_csv(file_path, index=False)\n",
    "\n",
    "print(\"DataFrame guardado em \", file_path)"
   ],
   "metadata": {
    "collapsed": false,
    "ExecuteTime": {
     "end_time": "2024-04-04T16:50:24.236087Z",
     "start_time": "2024-04-04T16:50:24.219281Z"
    }
   },
   "id": "cec70542238f4561",
   "execution_count": 33
  }
 ],
 "metadata": {
  "kernelspec": {
   "display_name": "Python 3",
   "language": "python",
   "name": "python3"
  },
  "language_info": {
   "codemirror_mode": {
    "name": "ipython",
    "version": 2
   },
   "file_extension": ".py",
   "mimetype": "text/x-python",
   "name": "python",
   "nbconvert_exporter": "python",
   "pygments_lexer": "ipython2",
   "version": "2.7.6"
  }
 },
 "nbformat": 4,
 "nbformat_minor": 5
}
