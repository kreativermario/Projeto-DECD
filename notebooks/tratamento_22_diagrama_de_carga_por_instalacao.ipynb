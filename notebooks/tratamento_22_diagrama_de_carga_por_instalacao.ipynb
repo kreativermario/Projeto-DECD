{
 "cells": [
  {
   "cell_type": "markdown",
   "source": [
    "### Import das dependências"
   ],
   "metadata": {
    "collapsed": false
   },
   "id": "7ee9a7514d814140"
  },
  {
   "cell_type": "code",
   "source": [
    "import os\n",
    "\n",
    "import numpy as np\n",
    "import pandas as pd\n",
    "\n",
    "%matplotlib inline\n",
    "import matplotlib.pyplot as plt\n",
    "import seaborn as sns\n",
    "\n",
    "sns.set_theme()"
   ],
   "metadata": {
    "collapsed": false,
    "ExecuteTime": {
     "end_time": "2024-05-10T11:44:09.519989Z",
     "start_time": "2024-05-10T11:44:09.513329Z"
    }
   },
   "id": "911d7fbfdb9025f8",
   "outputs": [],
   "execution_count": 1
  },
  {
   "cell_type": "markdown",
   "source": [
    "### 1. Importar o dataset - \"Número de ordens de serviço remotas realizadas\""
   ],
   "metadata": {
    "collapsed": false
   },
   "id": "1d51cb1f9d0235e7"
  },
  {
   "cell_type": "code",
   "source": [
    "data_path = '../data/' if os.path.exists('../data/') else 'https://raw.githubusercontent.com/kreativermario/Projeto-DECD/master/data/'\n",
    "\n",
    "diagrama_de_carga_path = data_path + '22-diagrama-de-carga-por-instalacao.csv'\n",
    "\n",
    "df_diagrama_de_carga = pd.read_csv(diagrama_de_carga_path, delimiter=';')"
   ],
   "metadata": {
    "collapsed": false,
    "ExecuteTime": {
     "end_time": "2024-05-10T11:44:09.579724Z",
     "start_time": "2024-05-10T11:44:09.521007Z"
    }
   },
   "id": "f22893ae7070fb98",
   "outputs": [],
   "execution_count": 2
  },
  {
   "cell_type": "markdown",
   "source": [
    "### 2. Ver o dataset"
   ],
   "metadata": {
    "collapsed": false
   },
   "id": "4031a1ac936c93a6"
  },
  {
   "cell_type": "code",
   "source": [
    "df_diagrama_de_carga.info()"
   ],
   "metadata": {
    "collapsed": false,
    "ExecuteTime": {
     "end_time": "2024-05-10T11:44:09.596104Z",
     "start_time": "2024-05-10T11:44:09.588998Z"
    }
   },
   "id": "6ef951d5286d3d05",
   "outputs": [
    {
     "name": "stdout",
     "output_type": "stream",
     "text": [
      "<class 'pandas.core.frame.DataFrame'>\n",
      "RangeIndex: 71505 entries, 0 to 71504\n",
      "Data columns (total 9 columns):\n",
      " #   Column                        Non-Null Count  Dtype \n",
      "---  ------                        --------------  ----- \n",
      " 0   Ano                           71505 non-null  int64 \n",
      " 1   Mês                           71505 non-null  int64 \n",
      " 2   data                          71505 non-null  object\n",
      " 3   Distrito                      71505 non-null  object\n",
      " 4   Concelho                      71505 non-null  object\n",
      " 5   Freguesia                     71505 non-null  object\n",
      " 6   Inclui Mobilidade Elétrica    71505 non-null  object\n",
      " 7   CPEs com DCs Recolhidos (#)   71505 non-null  int64 \n",
      " 8   CodDistritoConcelhoFreguesia  71505 non-null  object\n",
      "dtypes: int64(3), object(6)\n",
      "memory usage: 4.9+ MB\n"
     ]
    }
   ],
   "execution_count": 3
  },
  {
   "cell_type": "markdown",
   "source": [
    "1. Verificar se há elementos null"
   ],
   "metadata": {
    "collapsed": false
   },
   "id": "56ab6e1565b57dfb"
  },
  {
   "cell_type": "code",
   "source": [
    "# Verificar nulls\n",
    "null_counts = df_diagrama_de_carga.isnull().sum()\n",
    "\n",
    "# Ver nulls por coluna\n",
    "print(\"Número de nulls por coluna:\")\n",
    "print(null_counts)\n",
    "\n",
    "df_diagrama_de_carga.head(15)"
   ],
   "metadata": {
    "collapsed": false,
    "ExecuteTime": {
     "end_time": "2024-05-10T11:44:09.619806Z",
     "start_time": "2024-05-10T11:44:09.594134Z"
    }
   },
   "id": "77d1ffab394acb0a",
   "outputs": [
    {
     "name": "stdout",
     "output_type": "stream",
     "text": [
      "Número de nulls por coluna:\n",
      "Ano                             0\n",
      "Mês                             0\n",
      "data                            0\n",
      "Distrito                        0\n",
      "Concelho                        0\n",
      "Freguesia                       0\n",
      "Inclui Mobilidade Elétrica      0\n",
      "CPEs com DCs Recolhidos (#)     0\n",
      "CodDistritoConcelhoFreguesia    0\n",
      "dtype: int64\n"
     ]
    },
    {
     "data": {
      "text/plain": "     Ano  Mês     data    Distrito                Concelho  \\\n0   2023   11  2023-11  Portalegre            Ponte de Sôr   \n1   2023   11  2023-11       Porto                Amarante   \n2   2023   11  2023-11       Porto              Felgueiras   \n3   2023   11  2023-11       Porto              Felgueiras   \n4   2023   11  2023-11       Porto                 Lousada   \n5   2023   11  2023-11    Santarém                Abrantes   \n6   2023   11  2023-11    Santarém  Vila Nova da Barquinha   \n7   2023   11  2023-11     Setúbal                 Setúbal   \n8   2023   11  2023-11   Vila Real                  Chaves   \n9   2023   11  2023-11   Vila Real               Vila Real   \n10  2023   11  2023-11   Vila Real               Vila Real   \n11  2023   11  2023-11       Viseu                 Cinfães   \n12  2023   11  2023-11       Viseu       Moimenta da Beira   \n13  2023   11  2023-11       Viseu        São Pedro do Sul   \n14  2023   11  2023-11       Viseu        São Pedro do Sul   \n\n                                            Freguesia  \\\n0   União das freguesias de Ponte de Sor, Tramaga ...   \n1                                             Ansiães   \n2                              Pombeiro de Ribavizela   \n3   União das freguesias de Pedreira, Rande e Sern...   \n4                                             Lodares   \n5          União das freguesias de Alvega e Concavada   \n6                                   Praia do Ribatejo   \n7                                                Sado   \n8                                              Anelhe   \n9                                           Folhadela   \n10                                            Lordelo   \n11                                  Santiago de Piães   \n12         União das freguesias de Paradinha e Nagosa   \n13                                          Bordonhos   \n14  União das freguesias de São Pedro do Sul, Várz...   \n\n   Inclui Mobilidade Elétrica  CPEs com DCs Recolhidos (#)  \\\n0                         Sim                            2   \n1                         Não                            9   \n2                         Sim                            1   \n3                         Não                          375   \n4                         Não                          901   \n5                         Não                          660   \n6                         Não                          474   \n7                         Não                         2122   \n8                         Não                          203   \n9                         Não                         1229   \n10                        Não                          714   \n11                        Não                          163   \n12                        Não                           22   \n13                        Não                          255   \n14                        Não                         3695   \n\n   CodDistritoConcelhoFreguesia  \n0                        121308  \n1                        130103  \n2                        130315  \n3                        130336  \n4                        130510  \n5                        140122  \n6                        142002  \n7                        151208  \n8                        170302  \n9                        171409  \n10                       171414  \n11                       180412  \n12                       180721  \n13                       181602  \n14                       181623  ",
      "text/html": "<div>\n<style scoped>\n    .dataframe tbody tr th:only-of-type {\n        vertical-align: middle;\n    }\n\n    .dataframe tbody tr th {\n        vertical-align: top;\n    }\n\n    .dataframe thead th {\n        text-align: right;\n    }\n</style>\n<table border=\"1\" class=\"dataframe\">\n  <thead>\n    <tr style=\"text-align: right;\">\n      <th></th>\n      <th>Ano</th>\n      <th>Mês</th>\n      <th>data</th>\n      <th>Distrito</th>\n      <th>Concelho</th>\n      <th>Freguesia</th>\n      <th>Inclui Mobilidade Elétrica</th>\n      <th>CPEs com DCs Recolhidos (#)</th>\n      <th>CodDistritoConcelhoFreguesia</th>\n    </tr>\n  </thead>\n  <tbody>\n    <tr>\n      <th>0</th>\n      <td>2023</td>\n      <td>11</td>\n      <td>2023-11</td>\n      <td>Portalegre</td>\n      <td>Ponte de Sôr</td>\n      <td>União das freguesias de Ponte de Sor, Tramaga ...</td>\n      <td>Sim</td>\n      <td>2</td>\n      <td>121308</td>\n    </tr>\n    <tr>\n      <th>1</th>\n      <td>2023</td>\n      <td>11</td>\n      <td>2023-11</td>\n      <td>Porto</td>\n      <td>Amarante</td>\n      <td>Ansiães</td>\n      <td>Não</td>\n      <td>9</td>\n      <td>130103</td>\n    </tr>\n    <tr>\n      <th>2</th>\n      <td>2023</td>\n      <td>11</td>\n      <td>2023-11</td>\n      <td>Porto</td>\n      <td>Felgueiras</td>\n      <td>Pombeiro de Ribavizela</td>\n      <td>Sim</td>\n      <td>1</td>\n      <td>130315</td>\n    </tr>\n    <tr>\n      <th>3</th>\n      <td>2023</td>\n      <td>11</td>\n      <td>2023-11</td>\n      <td>Porto</td>\n      <td>Felgueiras</td>\n      <td>União das freguesias de Pedreira, Rande e Sern...</td>\n      <td>Não</td>\n      <td>375</td>\n      <td>130336</td>\n    </tr>\n    <tr>\n      <th>4</th>\n      <td>2023</td>\n      <td>11</td>\n      <td>2023-11</td>\n      <td>Porto</td>\n      <td>Lousada</td>\n      <td>Lodares</td>\n      <td>Não</td>\n      <td>901</td>\n      <td>130510</td>\n    </tr>\n    <tr>\n      <th>5</th>\n      <td>2023</td>\n      <td>11</td>\n      <td>2023-11</td>\n      <td>Santarém</td>\n      <td>Abrantes</td>\n      <td>União das freguesias de Alvega e Concavada</td>\n      <td>Não</td>\n      <td>660</td>\n      <td>140122</td>\n    </tr>\n    <tr>\n      <th>6</th>\n      <td>2023</td>\n      <td>11</td>\n      <td>2023-11</td>\n      <td>Santarém</td>\n      <td>Vila Nova da Barquinha</td>\n      <td>Praia do Ribatejo</td>\n      <td>Não</td>\n      <td>474</td>\n      <td>142002</td>\n    </tr>\n    <tr>\n      <th>7</th>\n      <td>2023</td>\n      <td>11</td>\n      <td>2023-11</td>\n      <td>Setúbal</td>\n      <td>Setúbal</td>\n      <td>Sado</td>\n      <td>Não</td>\n      <td>2122</td>\n      <td>151208</td>\n    </tr>\n    <tr>\n      <th>8</th>\n      <td>2023</td>\n      <td>11</td>\n      <td>2023-11</td>\n      <td>Vila Real</td>\n      <td>Chaves</td>\n      <td>Anelhe</td>\n      <td>Não</td>\n      <td>203</td>\n      <td>170302</td>\n    </tr>\n    <tr>\n      <th>9</th>\n      <td>2023</td>\n      <td>11</td>\n      <td>2023-11</td>\n      <td>Vila Real</td>\n      <td>Vila Real</td>\n      <td>Folhadela</td>\n      <td>Não</td>\n      <td>1229</td>\n      <td>171409</td>\n    </tr>\n    <tr>\n      <th>10</th>\n      <td>2023</td>\n      <td>11</td>\n      <td>2023-11</td>\n      <td>Vila Real</td>\n      <td>Vila Real</td>\n      <td>Lordelo</td>\n      <td>Não</td>\n      <td>714</td>\n      <td>171414</td>\n    </tr>\n    <tr>\n      <th>11</th>\n      <td>2023</td>\n      <td>11</td>\n      <td>2023-11</td>\n      <td>Viseu</td>\n      <td>Cinfães</td>\n      <td>Santiago de Piães</td>\n      <td>Não</td>\n      <td>163</td>\n      <td>180412</td>\n    </tr>\n    <tr>\n      <th>12</th>\n      <td>2023</td>\n      <td>11</td>\n      <td>2023-11</td>\n      <td>Viseu</td>\n      <td>Moimenta da Beira</td>\n      <td>União das freguesias de Paradinha e Nagosa</td>\n      <td>Não</td>\n      <td>22</td>\n      <td>180721</td>\n    </tr>\n    <tr>\n      <th>13</th>\n      <td>2023</td>\n      <td>11</td>\n      <td>2023-11</td>\n      <td>Viseu</td>\n      <td>São Pedro do Sul</td>\n      <td>Bordonhos</td>\n      <td>Não</td>\n      <td>255</td>\n      <td>181602</td>\n    </tr>\n    <tr>\n      <th>14</th>\n      <td>2023</td>\n      <td>11</td>\n      <td>2023-11</td>\n      <td>Viseu</td>\n      <td>São Pedro do Sul</td>\n      <td>União das freguesias de São Pedro do Sul, Várz...</td>\n      <td>Não</td>\n      <td>3695</td>\n      <td>181623</td>\n    </tr>\n  </tbody>\n</table>\n</div>"
     },
     "execution_count": 4,
     "metadata": {},
     "output_type": "execute_result"
    }
   ],
   "execution_count": 4
  },
  {
   "cell_type": "markdown",
   "source": [
    "### 3. Tratamento e agregação dos dados\n",
    "\n",
    "1. Remover atributos como a data, CodDistritoConcelhoFreguesia\n",
    "2. Agrupar por concelhos e remover a freguesia\n",
    "3. Agrupar por semestres e anos"
   ],
   "metadata": {
    "collapsed": false
   },
   "id": "439e2b8001cb7375"
  },
  {
   "cell_type": "markdown",
   "source": [
    "1. Remover atributos como a data, CodDistritoConcelhoFreguesia"
   ],
   "metadata": {
    "collapsed": false
   },
   "id": "a3a4e32a07c6f74c"
  },
  {
   "cell_type": "code",
   "source": [
    "# Remover atributos como a data e código, distrito\n",
    "df_diagrama_de_carga.drop(columns=['data', 'CodDistritoConcelhoFreguesia', 'Distrito'], inplace=True)\n",
    "df_diagrama_de_carga.info()"
   ],
   "metadata": {
    "collapsed": false,
    "ExecuteTime": {
     "end_time": "2024-05-10T11:44:09.620436Z",
     "start_time": "2024-05-10T11:44:09.610412Z"
    }
   },
   "id": "1682ec833e810ada",
   "outputs": [
    {
     "name": "stdout",
     "output_type": "stream",
     "text": [
      "<class 'pandas.core.frame.DataFrame'>\n",
      "RangeIndex: 71505 entries, 0 to 71504\n",
      "Data columns (total 6 columns):\n",
      " #   Column                       Non-Null Count  Dtype \n",
      "---  ------                       --------------  ----- \n",
      " 0   Ano                          71505 non-null  int64 \n",
      " 1   Mês                          71505 non-null  int64 \n",
      " 2   Concelho                     71505 non-null  object\n",
      " 3   Freguesia                    71505 non-null  object\n",
      " 4   Inclui Mobilidade Elétrica   71505 non-null  object\n",
      " 5   CPEs com DCs Recolhidos (#)  71505 non-null  int64 \n",
      "dtypes: int64(3), object(3)\n",
      "memory usage: 3.3+ MB\n"
     ]
    }
   ],
   "execution_count": 5
  },
  {
   "cell_type": "markdown",
   "source": [
    "2. Agrupar por concelhos e remover a freguesia"
   ],
   "metadata": {
    "collapsed": false
   },
   "id": "27c6766be4d69b69"
  },
  {
   "cell_type": "code",
   "source": [
    "df_agrupado = df_diagrama_de_carga.groupby(['Concelho', 'Ano', 'Mês', 'Inclui Mobilidade Elétrica']).sum().reset_index()\n",
    "df_agrupado.drop(columns=['Freguesia'], inplace=True)\n",
    "df_agrupado.rename(columns={'Concelho':'concelho', 'Ano':'ano', 'Mês':'mes','Inclui Mobilidade Elétrica': 'inclui_mobilidade_eletrica', 'CPEs com DCs Recolhidos (#)':'cpes_com_dcs_recolhidos_quantidade'}, inplace=True)\n",
    "df_agrupado.head()"
   ],
   "metadata": {
    "collapsed": false,
    "ExecuteTime": {
     "end_time": "2024-05-10T11:44:09.667902Z",
     "start_time": "2024-05-10T11:44:09.622289Z"
    }
   },
   "id": "6ce45ef627535963",
   "outputs": [
    {
     "data": {
      "text/plain": "   concelho   ano  mes inclui_mobilidade_eletrica  \\\n0  Abrantes  2022    8                        Não   \n1  Abrantes  2022    8                        Sim   \n2  Abrantes  2022    9                        Não   \n3  Abrantes  2022    9                        Sim   \n4  Abrantes  2022   10                        Não   \n\n   cpes_com_dcs_recolhidos_quantidade  \n0                               11097  \n1                                   1  \n2                               11298  \n3                                   1  \n4                               11563  ",
      "text/html": "<div>\n<style scoped>\n    .dataframe tbody tr th:only-of-type {\n        vertical-align: middle;\n    }\n\n    .dataframe tbody tr th {\n        vertical-align: top;\n    }\n\n    .dataframe thead th {\n        text-align: right;\n    }\n</style>\n<table border=\"1\" class=\"dataframe\">\n  <thead>\n    <tr style=\"text-align: right;\">\n      <th></th>\n      <th>concelho</th>\n      <th>ano</th>\n      <th>mes</th>\n      <th>inclui_mobilidade_eletrica</th>\n      <th>cpes_com_dcs_recolhidos_quantidade</th>\n    </tr>\n  </thead>\n  <tbody>\n    <tr>\n      <th>0</th>\n      <td>Abrantes</td>\n      <td>2022</td>\n      <td>8</td>\n      <td>Não</td>\n      <td>11097</td>\n    </tr>\n    <tr>\n      <th>1</th>\n      <td>Abrantes</td>\n      <td>2022</td>\n      <td>8</td>\n      <td>Sim</td>\n      <td>1</td>\n    </tr>\n    <tr>\n      <th>2</th>\n      <td>Abrantes</td>\n      <td>2022</td>\n      <td>9</td>\n      <td>Não</td>\n      <td>11298</td>\n    </tr>\n    <tr>\n      <th>3</th>\n      <td>Abrantes</td>\n      <td>2022</td>\n      <td>9</td>\n      <td>Sim</td>\n      <td>1</td>\n    </tr>\n    <tr>\n      <th>4</th>\n      <td>Abrantes</td>\n      <td>2022</td>\n      <td>10</td>\n      <td>Não</td>\n      <td>11563</td>\n    </tr>\n  </tbody>\n</table>\n</div>"
     },
     "execution_count": 6,
     "metadata": {},
     "output_type": "execute_result"
    }
   ],
   "execution_count": 6
  },
  {
   "cell_type": "markdown",
   "source": [
    "3. Verificar o número de linhas"
   ],
   "metadata": {
    "collapsed": false
   },
   "id": "28f450603a36487c"
  },
  {
   "cell_type": "code",
   "source": [
    "# Contagem de linhas antes do agrupamento\n",
    "num_linhas_antes = len(df_diagrama_de_carga)\n",
    "\n",
    "# Contagem de linhas depois do agrupamento\n",
    "num_linhas_depois = len(df_agrupado)\n",
    "\n",
    "# Exibição das contagens\n",
    "print(\"Número de linhas antes do agrupamento:\", num_linhas_antes)\n",
    "print(\"Número de linhas depois do agrupamento:\", num_linhas_depois)\n",
    "\n",
    "df_agrupado.info()\n",
    "\n",
    "df_agrupado.head(15)"
   ],
   "metadata": {
    "collapsed": false,
    "ExecuteTime": {
     "end_time": "2024-05-10T11:44:09.669158Z",
     "start_time": "2024-05-10T11:44:09.644101Z"
    }
   },
   "id": "be4b6ec16ebe4de1",
   "outputs": [
    {
     "name": "stdout",
     "output_type": "stream",
     "text": [
      "Número de linhas antes do agrupamento: 71505\n",
      "Número de linhas depois do agrupamento: 11594\n",
      "<class 'pandas.core.frame.DataFrame'>\n",
      "RangeIndex: 11594 entries, 0 to 11593\n",
      "Data columns (total 5 columns):\n",
      " #   Column                              Non-Null Count  Dtype \n",
      "---  ------                              --------------  ----- \n",
      " 0   concelho                            11594 non-null  object\n",
      " 1   ano                                 11594 non-null  int64 \n",
      " 2   mes                                 11594 non-null  int64 \n",
      " 3   inclui_mobilidade_eletrica          11594 non-null  object\n",
      " 4   cpes_com_dcs_recolhidos_quantidade  11594 non-null  int64 \n",
      "dtypes: int64(3), object(2)\n",
      "memory usage: 453.0+ KB\n"
     ]
    },
    {
     "data": {
      "text/plain": "    concelho   ano  mes inclui_mobilidade_eletrica  \\\n0   Abrantes  2022    8                        Não   \n1   Abrantes  2022    8                        Sim   \n2   Abrantes  2022    9                        Não   \n3   Abrantes  2022    9                        Sim   \n4   Abrantes  2022   10                        Não   \n5   Abrantes  2022   10                        Sim   \n6   Abrantes  2022   11                        Não   \n7   Abrantes  2022   11                        Sim   \n8   Abrantes  2022   12                        Não   \n9   Abrantes  2022   12                        Sim   \n10  Abrantes  2023    1                        Não   \n11  Abrantes  2023    1                        Sim   \n12  Abrantes  2023    2                        Não   \n13  Abrantes  2023    2                        Sim   \n14  Abrantes  2023    3                        Não   \n\n    cpes_com_dcs_recolhidos_quantidade  \n0                                11097  \n1                                    1  \n2                                11298  \n3                                    1  \n4                                11563  \n5                                    1  \n6                                11969  \n7                                    1  \n8                                12210  \n9                                    1  \n10                               13334  \n11                                   1  \n12                               13499  \n13                                   1  \n14                               13973  ",
      "text/html": "<div>\n<style scoped>\n    .dataframe tbody tr th:only-of-type {\n        vertical-align: middle;\n    }\n\n    .dataframe tbody tr th {\n        vertical-align: top;\n    }\n\n    .dataframe thead th {\n        text-align: right;\n    }\n</style>\n<table border=\"1\" class=\"dataframe\">\n  <thead>\n    <tr style=\"text-align: right;\">\n      <th></th>\n      <th>concelho</th>\n      <th>ano</th>\n      <th>mes</th>\n      <th>inclui_mobilidade_eletrica</th>\n      <th>cpes_com_dcs_recolhidos_quantidade</th>\n    </tr>\n  </thead>\n  <tbody>\n    <tr>\n      <th>0</th>\n      <td>Abrantes</td>\n      <td>2022</td>\n      <td>8</td>\n      <td>Não</td>\n      <td>11097</td>\n    </tr>\n    <tr>\n      <th>1</th>\n      <td>Abrantes</td>\n      <td>2022</td>\n      <td>8</td>\n      <td>Sim</td>\n      <td>1</td>\n    </tr>\n    <tr>\n      <th>2</th>\n      <td>Abrantes</td>\n      <td>2022</td>\n      <td>9</td>\n      <td>Não</td>\n      <td>11298</td>\n    </tr>\n    <tr>\n      <th>3</th>\n      <td>Abrantes</td>\n      <td>2022</td>\n      <td>9</td>\n      <td>Sim</td>\n      <td>1</td>\n    </tr>\n    <tr>\n      <th>4</th>\n      <td>Abrantes</td>\n      <td>2022</td>\n      <td>10</td>\n      <td>Não</td>\n      <td>11563</td>\n    </tr>\n    <tr>\n      <th>5</th>\n      <td>Abrantes</td>\n      <td>2022</td>\n      <td>10</td>\n      <td>Sim</td>\n      <td>1</td>\n    </tr>\n    <tr>\n      <th>6</th>\n      <td>Abrantes</td>\n      <td>2022</td>\n      <td>11</td>\n      <td>Não</td>\n      <td>11969</td>\n    </tr>\n    <tr>\n      <th>7</th>\n      <td>Abrantes</td>\n      <td>2022</td>\n      <td>11</td>\n      <td>Sim</td>\n      <td>1</td>\n    </tr>\n    <tr>\n      <th>8</th>\n      <td>Abrantes</td>\n      <td>2022</td>\n      <td>12</td>\n      <td>Não</td>\n      <td>12210</td>\n    </tr>\n    <tr>\n      <th>9</th>\n      <td>Abrantes</td>\n      <td>2022</td>\n      <td>12</td>\n      <td>Sim</td>\n      <td>1</td>\n    </tr>\n    <tr>\n      <th>10</th>\n      <td>Abrantes</td>\n      <td>2023</td>\n      <td>1</td>\n      <td>Não</td>\n      <td>13334</td>\n    </tr>\n    <tr>\n      <th>11</th>\n      <td>Abrantes</td>\n      <td>2023</td>\n      <td>1</td>\n      <td>Sim</td>\n      <td>1</td>\n    </tr>\n    <tr>\n      <th>12</th>\n      <td>Abrantes</td>\n      <td>2023</td>\n      <td>2</td>\n      <td>Não</td>\n      <td>13499</td>\n    </tr>\n    <tr>\n      <th>13</th>\n      <td>Abrantes</td>\n      <td>2023</td>\n      <td>2</td>\n      <td>Sim</td>\n      <td>1</td>\n    </tr>\n    <tr>\n      <th>14</th>\n      <td>Abrantes</td>\n      <td>2023</td>\n      <td>3</td>\n      <td>Não</td>\n      <td>13973</td>\n    </tr>\n  </tbody>\n</table>\n</div>"
     },
     "execution_count": 7,
     "metadata": {},
     "output_type": "execute_result"
    }
   ],
   "execution_count": 7
  },
  {
   "cell_type": "markdown",
   "source": [
    "4. Verificar se está tudo bem"
   ],
   "metadata": {
    "collapsed": false
   },
   "id": "5c0fa9f9cdaa3c20"
  },
  {
   "cell_type": "code",
   "source": [
    "# Para a coleção de Consumos Mensais por Concelho\n",
    "df_consumos_lisboa = df_agrupado[df_agrupado['concelho'] == 'Lisboa']\n",
    "df_consumos_lisboa.info()"
   ],
   "metadata": {
    "collapsed": false,
    "ExecuteTime": {
     "end_time": "2024-05-10T11:44:09.669566Z",
     "start_time": "2024-05-10T11:44:09.652131Z"
    }
   },
   "id": "6a90c971651f3e40",
   "outputs": [
    {
     "name": "stdout",
     "output_type": "stream",
     "text": [
      "<class 'pandas.core.frame.DataFrame'>\n",
      "Index: 42 entries, 4648 to 4689\n",
      "Data columns (total 5 columns):\n",
      " #   Column                              Non-Null Count  Dtype \n",
      "---  ------                              --------------  ----- \n",
      " 0   concelho                            42 non-null     object\n",
      " 1   ano                                 42 non-null     int64 \n",
      " 2   mes                                 42 non-null     int64 \n",
      " 3   inclui_mobilidade_eletrica          42 non-null     object\n",
      " 4   cpes_com_dcs_recolhidos_quantidade  42 non-null     int64 \n",
      "dtypes: int64(3), object(2)\n",
      "memory usage: 2.0+ KB\n"
     ]
    }
   ],
   "execution_count": 8
  },
  {
   "cell_type": "code",
   "source": [
    "df_consumos_lisboa"
   ],
   "metadata": {
    "collapsed": false,
    "ExecuteTime": {
     "end_time": "2024-05-10T11:44:09.670473Z",
     "start_time": "2024-05-10T11:44:09.656939Z"
    }
   },
   "id": "2b1314a6a3495e56",
   "outputs": [
    {
     "data": {
      "text/plain": "     concelho   ano  mes inclui_mobilidade_eletrica  \\\n4648   Lisboa  2022    8                        Não   \n4649   Lisboa  2022    8                        Sim   \n4650   Lisboa  2022    9                        Não   \n4651   Lisboa  2022    9                        Sim   \n4652   Lisboa  2022   10                        Não   \n4653   Lisboa  2022   10                        Sim   \n4654   Lisboa  2022   11                        Não   \n4655   Lisboa  2022   11                        Sim   \n4656   Lisboa  2022   12                        Não   \n4657   Lisboa  2022   12                        Sim   \n4658   Lisboa  2023    1                        Não   \n4659   Lisboa  2023    1                        Sim   \n4660   Lisboa  2023    2                        Não   \n4661   Lisboa  2023    2                        Sim   \n4662   Lisboa  2023    3                        Não   \n4663   Lisboa  2023    3                        Sim   \n4664   Lisboa  2023    4                        Não   \n4665   Lisboa  2023    4                        Sim   \n4666   Lisboa  2023    5                        Não   \n4667   Lisboa  2023    5                        Sim   \n4668   Lisboa  2023    6                        Não   \n4669   Lisboa  2023    6                        Sim   \n4670   Lisboa  2023    7                        Não   \n4671   Lisboa  2023    7                        Sim   \n4672   Lisboa  2023    8                        Não   \n4673   Lisboa  2023    8                        Sim   \n4674   Lisboa  2023    9                        Não   \n4675   Lisboa  2023    9                        Sim   \n4676   Lisboa  2023   10                        Não   \n4677   Lisboa  2023   10                        Sim   \n4678   Lisboa  2023   11                        Não   \n4679   Lisboa  2023   11                        Sim   \n4680   Lisboa  2023   12                        Não   \n4681   Lisboa  2023   12                        Sim   \n4682   Lisboa  2024    1                        Não   \n4683   Lisboa  2024    1                        Sim   \n4684   Lisboa  2024    2                        Não   \n4685   Lisboa  2024    2                        Sim   \n4686   Lisboa  2024    3                        Não   \n4687   Lisboa  2024    3                        Sim   \n4688   Lisboa  2024    4                        Não   \n4689   Lisboa  2024    4                        Sim   \n\n      cpes_com_dcs_recolhidos_quantidade  \n4648                              243736  \n4649                                 107  \n4650                              236050  \n4651                                 110  \n4652                              241055  \n4653                                 118  \n4654                              237329  \n4655                                 118  \n4656                              237600  \n4657                                 126  \n4658                              235121  \n4659                                 128  \n4660                              244116  \n4661                                 131  \n4662                              237031  \n4663                                 134  \n4664                              241639  \n4665                                 141  \n4666                              227107  \n4667                                 138  \n4668                              248148  \n4669                                 145  \n4670                              246694  \n4671                                 146  \n4672                              248041  \n4673                                 152  \n4674                              252310  \n4675                                 160  \n4676                              249352  \n4677                                 173  \n4678                              250474  \n4679                                 177  \n4680                              264079  \n4681                                 184  \n4682                              258182  \n4683                                 191  \n4684                              265131  \n4685                                 194  \n4686                              267716  \n4687                                 206  \n4688                              265514  \n4689                                 204  ",
      "text/html": "<div>\n<style scoped>\n    .dataframe tbody tr th:only-of-type {\n        vertical-align: middle;\n    }\n\n    .dataframe tbody tr th {\n        vertical-align: top;\n    }\n\n    .dataframe thead th {\n        text-align: right;\n    }\n</style>\n<table border=\"1\" class=\"dataframe\">\n  <thead>\n    <tr style=\"text-align: right;\">\n      <th></th>\n      <th>concelho</th>\n      <th>ano</th>\n      <th>mes</th>\n      <th>inclui_mobilidade_eletrica</th>\n      <th>cpes_com_dcs_recolhidos_quantidade</th>\n    </tr>\n  </thead>\n  <tbody>\n    <tr>\n      <th>4648</th>\n      <td>Lisboa</td>\n      <td>2022</td>\n      <td>8</td>\n      <td>Não</td>\n      <td>243736</td>\n    </tr>\n    <tr>\n      <th>4649</th>\n      <td>Lisboa</td>\n      <td>2022</td>\n      <td>8</td>\n      <td>Sim</td>\n      <td>107</td>\n    </tr>\n    <tr>\n      <th>4650</th>\n      <td>Lisboa</td>\n      <td>2022</td>\n      <td>9</td>\n      <td>Não</td>\n      <td>236050</td>\n    </tr>\n    <tr>\n      <th>4651</th>\n      <td>Lisboa</td>\n      <td>2022</td>\n      <td>9</td>\n      <td>Sim</td>\n      <td>110</td>\n    </tr>\n    <tr>\n      <th>4652</th>\n      <td>Lisboa</td>\n      <td>2022</td>\n      <td>10</td>\n      <td>Não</td>\n      <td>241055</td>\n    </tr>\n    <tr>\n      <th>4653</th>\n      <td>Lisboa</td>\n      <td>2022</td>\n      <td>10</td>\n      <td>Sim</td>\n      <td>118</td>\n    </tr>\n    <tr>\n      <th>4654</th>\n      <td>Lisboa</td>\n      <td>2022</td>\n      <td>11</td>\n      <td>Não</td>\n      <td>237329</td>\n    </tr>\n    <tr>\n      <th>4655</th>\n      <td>Lisboa</td>\n      <td>2022</td>\n      <td>11</td>\n      <td>Sim</td>\n      <td>118</td>\n    </tr>\n    <tr>\n      <th>4656</th>\n      <td>Lisboa</td>\n      <td>2022</td>\n      <td>12</td>\n      <td>Não</td>\n      <td>237600</td>\n    </tr>\n    <tr>\n      <th>4657</th>\n      <td>Lisboa</td>\n      <td>2022</td>\n      <td>12</td>\n      <td>Sim</td>\n      <td>126</td>\n    </tr>\n    <tr>\n      <th>4658</th>\n      <td>Lisboa</td>\n      <td>2023</td>\n      <td>1</td>\n      <td>Não</td>\n      <td>235121</td>\n    </tr>\n    <tr>\n      <th>4659</th>\n      <td>Lisboa</td>\n      <td>2023</td>\n      <td>1</td>\n      <td>Sim</td>\n      <td>128</td>\n    </tr>\n    <tr>\n      <th>4660</th>\n      <td>Lisboa</td>\n      <td>2023</td>\n      <td>2</td>\n      <td>Não</td>\n      <td>244116</td>\n    </tr>\n    <tr>\n      <th>4661</th>\n      <td>Lisboa</td>\n      <td>2023</td>\n      <td>2</td>\n      <td>Sim</td>\n      <td>131</td>\n    </tr>\n    <tr>\n      <th>4662</th>\n      <td>Lisboa</td>\n      <td>2023</td>\n      <td>3</td>\n      <td>Não</td>\n      <td>237031</td>\n    </tr>\n    <tr>\n      <th>4663</th>\n      <td>Lisboa</td>\n      <td>2023</td>\n      <td>3</td>\n      <td>Sim</td>\n      <td>134</td>\n    </tr>\n    <tr>\n      <th>4664</th>\n      <td>Lisboa</td>\n      <td>2023</td>\n      <td>4</td>\n      <td>Não</td>\n      <td>241639</td>\n    </tr>\n    <tr>\n      <th>4665</th>\n      <td>Lisboa</td>\n      <td>2023</td>\n      <td>4</td>\n      <td>Sim</td>\n      <td>141</td>\n    </tr>\n    <tr>\n      <th>4666</th>\n      <td>Lisboa</td>\n      <td>2023</td>\n      <td>5</td>\n      <td>Não</td>\n      <td>227107</td>\n    </tr>\n    <tr>\n      <th>4667</th>\n      <td>Lisboa</td>\n      <td>2023</td>\n      <td>5</td>\n      <td>Sim</td>\n      <td>138</td>\n    </tr>\n    <tr>\n      <th>4668</th>\n      <td>Lisboa</td>\n      <td>2023</td>\n      <td>6</td>\n      <td>Não</td>\n      <td>248148</td>\n    </tr>\n    <tr>\n      <th>4669</th>\n      <td>Lisboa</td>\n      <td>2023</td>\n      <td>6</td>\n      <td>Sim</td>\n      <td>145</td>\n    </tr>\n    <tr>\n      <th>4670</th>\n      <td>Lisboa</td>\n      <td>2023</td>\n      <td>7</td>\n      <td>Não</td>\n      <td>246694</td>\n    </tr>\n    <tr>\n      <th>4671</th>\n      <td>Lisboa</td>\n      <td>2023</td>\n      <td>7</td>\n      <td>Sim</td>\n      <td>146</td>\n    </tr>\n    <tr>\n      <th>4672</th>\n      <td>Lisboa</td>\n      <td>2023</td>\n      <td>8</td>\n      <td>Não</td>\n      <td>248041</td>\n    </tr>\n    <tr>\n      <th>4673</th>\n      <td>Lisboa</td>\n      <td>2023</td>\n      <td>8</td>\n      <td>Sim</td>\n      <td>152</td>\n    </tr>\n    <tr>\n      <th>4674</th>\n      <td>Lisboa</td>\n      <td>2023</td>\n      <td>9</td>\n      <td>Não</td>\n      <td>252310</td>\n    </tr>\n    <tr>\n      <th>4675</th>\n      <td>Lisboa</td>\n      <td>2023</td>\n      <td>9</td>\n      <td>Sim</td>\n      <td>160</td>\n    </tr>\n    <tr>\n      <th>4676</th>\n      <td>Lisboa</td>\n      <td>2023</td>\n      <td>10</td>\n      <td>Não</td>\n      <td>249352</td>\n    </tr>\n    <tr>\n      <th>4677</th>\n      <td>Lisboa</td>\n      <td>2023</td>\n      <td>10</td>\n      <td>Sim</td>\n      <td>173</td>\n    </tr>\n    <tr>\n      <th>4678</th>\n      <td>Lisboa</td>\n      <td>2023</td>\n      <td>11</td>\n      <td>Não</td>\n      <td>250474</td>\n    </tr>\n    <tr>\n      <th>4679</th>\n      <td>Lisboa</td>\n      <td>2023</td>\n      <td>11</td>\n      <td>Sim</td>\n      <td>177</td>\n    </tr>\n    <tr>\n      <th>4680</th>\n      <td>Lisboa</td>\n      <td>2023</td>\n      <td>12</td>\n      <td>Não</td>\n      <td>264079</td>\n    </tr>\n    <tr>\n      <th>4681</th>\n      <td>Lisboa</td>\n      <td>2023</td>\n      <td>12</td>\n      <td>Sim</td>\n      <td>184</td>\n    </tr>\n    <tr>\n      <th>4682</th>\n      <td>Lisboa</td>\n      <td>2024</td>\n      <td>1</td>\n      <td>Não</td>\n      <td>258182</td>\n    </tr>\n    <tr>\n      <th>4683</th>\n      <td>Lisboa</td>\n      <td>2024</td>\n      <td>1</td>\n      <td>Sim</td>\n      <td>191</td>\n    </tr>\n    <tr>\n      <th>4684</th>\n      <td>Lisboa</td>\n      <td>2024</td>\n      <td>2</td>\n      <td>Não</td>\n      <td>265131</td>\n    </tr>\n    <tr>\n      <th>4685</th>\n      <td>Lisboa</td>\n      <td>2024</td>\n      <td>2</td>\n      <td>Sim</td>\n      <td>194</td>\n    </tr>\n    <tr>\n      <th>4686</th>\n      <td>Lisboa</td>\n      <td>2024</td>\n      <td>3</td>\n      <td>Não</td>\n      <td>267716</td>\n    </tr>\n    <tr>\n      <th>4687</th>\n      <td>Lisboa</td>\n      <td>2024</td>\n      <td>3</td>\n      <td>Sim</td>\n      <td>206</td>\n    </tr>\n    <tr>\n      <th>4688</th>\n      <td>Lisboa</td>\n      <td>2024</td>\n      <td>4</td>\n      <td>Não</td>\n      <td>265514</td>\n    </tr>\n    <tr>\n      <th>4689</th>\n      <td>Lisboa</td>\n      <td>2024</td>\n      <td>4</td>\n      <td>Sim</td>\n      <td>204</td>\n    </tr>\n  </tbody>\n</table>\n</div>"
     },
     "execution_count": 9,
     "metadata": {},
     "output_type": "execute_result"
    }
   ],
   "execution_count": 9
  },
  {
   "cell_type": "markdown",
   "source": [
    "5. Guardar num ficheiro"
   ],
   "metadata": {
    "collapsed": false
   },
   "id": "5afe2964ad0d0578"
  },
  {
   "cell_type": "code",
   "source": [
    "file_path = data_path + 'treated/diagrama_de_carga_por_mes.csv'\n",
    "\n",
    "df_agrupado.to_csv(file_path, index=False)\n",
    "\n",
    "print(\"DataFrame guardado em \", file_path)"
   ],
   "metadata": {
    "collapsed": false,
    "ExecuteTime": {
     "end_time": "2024-05-10T11:44:09.751342Z",
     "start_time": "2024-05-10T11:44:09.659474Z"
    }
   },
   "id": "cec70542238f4561",
   "outputs": [
    {
     "name": "stdout",
     "output_type": "stream",
     "text": [
      "DataFrame guardado em  ../data/treated/diagrama_de_carga_por_mes.csv\n"
     ]
    }
   ],
   "execution_count": 10
  }
 ],
 "metadata": {
  "kernelspec": {
   "display_name": "Python 3",
   "language": "python",
   "name": "python3"
  },
  "language_info": {
   "codemirror_mode": {
    "name": "ipython",
    "version": 2
   },
   "file_extension": ".py",
   "mimetype": "text/x-python",
   "name": "python",
   "nbconvert_exporter": "python",
   "pygments_lexer": "ipython2",
   "version": "2.7.6"
  }
 },
 "nbformat": 4,
 "nbformat_minor": 5
}
