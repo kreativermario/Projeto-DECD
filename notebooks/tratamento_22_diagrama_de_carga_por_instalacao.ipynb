{
 "cells": [
  {
   "cell_type": "markdown",
   "source": [
    "### Import das dependências"
   ],
   "metadata": {
    "collapsed": false
   },
   "id": "7ee9a7514d814140"
  },
  {
   "cell_type": "code",
   "outputs": [],
   "source": [
    "import os\n",
    "\n",
    "import numpy as np\n",
    "import pandas as pd\n",
    "\n",
    "%matplotlib inline\n",
    "import matplotlib.pyplot as plt\n",
    "import seaborn as sns\n",
    "\n",
    "sns.set_theme()"
   ],
   "metadata": {
    "collapsed": false,
    "ExecuteTime": {
     "end_time": "2024-04-04T21:10:39.878707Z",
     "start_time": "2024-04-04T21:10:39.869084Z"
    }
   },
   "id": "911d7fbfdb9025f8",
   "execution_count": 1
  },
  {
   "cell_type": "markdown",
   "source": [
    "### 1. Importar o dataset - \"Número de ordens de serviço remotas realizadas\""
   ],
   "metadata": {
    "collapsed": false
   },
   "id": "1d51cb1f9d0235e7"
  },
  {
   "cell_type": "code",
   "outputs": [],
   "source": [
    "data_path = '../data/' if os.path.exists('../data/') else 'https://raw.githubusercontent.com/kreativermario/Projeto-DECD/master/data/'\n",
    "\n",
    "diagrama_de_carga_path = data_path + '22-diagrama-de-carga-por-instalacao.csv'\n",
    "\n",
    "df_diagrama_de_carga = pd.read_csv(diagrama_de_carga_path, delimiter=';')"
   ],
   "metadata": {
    "collapsed": false,
    "ExecuteTime": {
     "end_time": "2024-04-04T21:10:39.928514Z",
     "start_time": "2024-04-04T21:10:39.876321Z"
    }
   },
   "id": "f22893ae7070fb98",
   "execution_count": 2
  },
  {
   "cell_type": "markdown",
   "source": [
    "### 2. Ver o dataset"
   ],
   "metadata": {
    "collapsed": false
   },
   "id": "4031a1ac936c93a6"
  },
  {
   "cell_type": "code",
   "outputs": [
    {
     "name": "stdout",
     "output_type": "stream",
     "text": [
      "<class 'pandas.core.frame.DataFrame'>\n",
      "RangeIndex: 67960 entries, 0 to 67959\n",
      "Data columns (total 9 columns):\n",
      " #   Column                        Non-Null Count  Dtype \n",
      "---  ------                        --------------  ----- \n",
      " 0   Ano                           67960 non-null  int64 \n",
      " 1   Mês                           67960 non-null  int64 \n",
      " 2   data                          67960 non-null  object\n",
      " 3   Distrito                      67960 non-null  object\n",
      " 4   Concelho                      67960 non-null  object\n",
      " 5   Freguesia                     67960 non-null  object\n",
      " 6   Inclui Mobilidade Elétrica    67960 non-null  object\n",
      " 7   CPEs com DCs Recolhidos (#)   67960 non-null  int64 \n",
      " 8   CodDistritoConcelhoFreguesia  67960 non-null  object\n",
      "dtypes: int64(3), object(6)\n",
      "memory usage: 4.7+ MB\n"
     ]
    }
   ],
   "source": [
    "df_diagrama_de_carga.info()"
   ],
   "metadata": {
    "collapsed": false,
    "ExecuteTime": {
     "end_time": "2024-04-04T21:10:39.943819Z",
     "start_time": "2024-04-04T21:10:39.937803Z"
    }
   },
   "id": "6ef951d5286d3d05",
   "execution_count": 3
  },
  {
   "cell_type": "markdown",
   "source": [
    "1. Verificar se há elementos null"
   ],
   "metadata": {
    "collapsed": false
   },
   "id": "56ab6e1565b57dfb"
  },
  {
   "cell_type": "code",
   "outputs": [
    {
     "name": "stdout",
     "output_type": "stream",
     "text": [
      "Número de nulls por coluna:\n",
      "Ano                             0\n",
      "Mês                             0\n",
      "data                            0\n",
      "Distrito                        0\n",
      "Concelho                        0\n",
      "Freguesia                       0\n",
      "Inclui Mobilidade Elétrica      0\n",
      "CPEs com DCs Recolhidos (#)     0\n",
      "CodDistritoConcelhoFreguesia    0\n",
      "dtype: int64\n"
     ]
    },
    {
     "data": {
      "text/plain": "     Ano  Mês     data        Distrito               Concelho  \\\n0   2023    8  2023-08        Bragança              Mirandela   \n1   2023    8  2023-08        Bragança              Mirandela   \n2   2023    8  2023-08        Bragança              Mogadouro   \n3   2023    8  2023-08        Bragança              Vila Flor   \n4   2023    8  2023-08  Castelo Branco         Castelo Branco   \n5   2023    8  2023-08  Castelo Branco                Oleiros   \n6   2023    8  2023-08         Coimbra        Figueira da Foz   \n7   2023    8  2023-08         Coimbra        Figueira da Foz   \n8   2023    8  2023-08         Coimbra                  Lousã   \n9   2023    8  2023-08         Coimbra   Oliveira do Hospital   \n10  2023    8  2023-08         Coimbra   Oliveira do Hospital   \n11  2023    8  2023-08         Coimbra                  Soure   \n12  2023    8  2023-08           Évora              Arraiolos   \n13  2023    8  2023-08           Évora                 Mourão   \n14  2023    8  2023-08           Évora  Reguengos de Monsaraz   \n\n                                            Freguesia  \\\n0                                           Fradizela   \n1                                      Vale de Telhas   \n2                                                  Tó   \n3                                            Freixiel   \n4                                  Salgueiro do Campo   \n5                                                Isna   \n6                                               Lavos   \n7                                               Paião   \n8                                            Gândaras   \n9   União das freguesias de Ervedal e Vila Franca ...   \n10  União das freguesias de Oliveira do Hospital e...   \n11                                              Soure   \n12                                           Vimieiro   \n13                                             Mourão   \n14                              Reguengos de Monsaraz   \n\n   Inclui Mobilidade Elétrica  CPEs com DCs Recolhidos (#)  \\\n0                         Não                           83   \n1                         Não                          147   \n2                         Não                           87   \n3                         Não                           29   \n4                         Não                           21   \n5                         Não                          110   \n6                         Sim                            1   \n7                         Não                          235   \n8                         Não                          580   \n9                         Não                          111   \n10                        Não                         3200   \n11                        Não                         3972   \n12                        Não                          231   \n13                        Não                          914   \n14                        Sim                            3   \n\n   CodDistritoConcelhoFreguesia  \n0                        040714  \n1                        040734  \n2                        040819  \n3                        041005  \n4                        050220  \n5                        050605  \n6                        060522  \n7                        060523  \n8                        060706  \n9                        061122  \n10                       061124  \n11                       061509  \n12                       070206  \n13                       070803  \n14                       071104  ",
      "text/html": "<div>\n<style scoped>\n    .dataframe tbody tr th:only-of-type {\n        vertical-align: middle;\n    }\n\n    .dataframe tbody tr th {\n        vertical-align: top;\n    }\n\n    .dataframe thead th {\n        text-align: right;\n    }\n</style>\n<table border=\"1\" class=\"dataframe\">\n  <thead>\n    <tr style=\"text-align: right;\">\n      <th></th>\n      <th>Ano</th>\n      <th>Mês</th>\n      <th>data</th>\n      <th>Distrito</th>\n      <th>Concelho</th>\n      <th>Freguesia</th>\n      <th>Inclui Mobilidade Elétrica</th>\n      <th>CPEs com DCs Recolhidos (#)</th>\n      <th>CodDistritoConcelhoFreguesia</th>\n    </tr>\n  </thead>\n  <tbody>\n    <tr>\n      <th>0</th>\n      <td>2023</td>\n      <td>8</td>\n      <td>2023-08</td>\n      <td>Bragança</td>\n      <td>Mirandela</td>\n      <td>Fradizela</td>\n      <td>Não</td>\n      <td>83</td>\n      <td>040714</td>\n    </tr>\n    <tr>\n      <th>1</th>\n      <td>2023</td>\n      <td>8</td>\n      <td>2023-08</td>\n      <td>Bragança</td>\n      <td>Mirandela</td>\n      <td>Vale de Telhas</td>\n      <td>Não</td>\n      <td>147</td>\n      <td>040734</td>\n    </tr>\n    <tr>\n      <th>2</th>\n      <td>2023</td>\n      <td>8</td>\n      <td>2023-08</td>\n      <td>Bragança</td>\n      <td>Mogadouro</td>\n      <td>Tó</td>\n      <td>Não</td>\n      <td>87</td>\n      <td>040819</td>\n    </tr>\n    <tr>\n      <th>3</th>\n      <td>2023</td>\n      <td>8</td>\n      <td>2023-08</td>\n      <td>Bragança</td>\n      <td>Vila Flor</td>\n      <td>Freixiel</td>\n      <td>Não</td>\n      <td>29</td>\n      <td>041005</td>\n    </tr>\n    <tr>\n      <th>4</th>\n      <td>2023</td>\n      <td>8</td>\n      <td>2023-08</td>\n      <td>Castelo Branco</td>\n      <td>Castelo Branco</td>\n      <td>Salgueiro do Campo</td>\n      <td>Não</td>\n      <td>21</td>\n      <td>050220</td>\n    </tr>\n    <tr>\n      <th>5</th>\n      <td>2023</td>\n      <td>8</td>\n      <td>2023-08</td>\n      <td>Castelo Branco</td>\n      <td>Oleiros</td>\n      <td>Isna</td>\n      <td>Não</td>\n      <td>110</td>\n      <td>050605</td>\n    </tr>\n    <tr>\n      <th>6</th>\n      <td>2023</td>\n      <td>8</td>\n      <td>2023-08</td>\n      <td>Coimbra</td>\n      <td>Figueira da Foz</td>\n      <td>Lavos</td>\n      <td>Sim</td>\n      <td>1</td>\n      <td>060522</td>\n    </tr>\n    <tr>\n      <th>7</th>\n      <td>2023</td>\n      <td>8</td>\n      <td>2023-08</td>\n      <td>Coimbra</td>\n      <td>Figueira da Foz</td>\n      <td>Paião</td>\n      <td>Não</td>\n      <td>235</td>\n      <td>060523</td>\n    </tr>\n    <tr>\n      <th>8</th>\n      <td>2023</td>\n      <td>8</td>\n      <td>2023-08</td>\n      <td>Coimbra</td>\n      <td>Lousã</td>\n      <td>Gândaras</td>\n      <td>Não</td>\n      <td>580</td>\n      <td>060706</td>\n    </tr>\n    <tr>\n      <th>9</th>\n      <td>2023</td>\n      <td>8</td>\n      <td>2023-08</td>\n      <td>Coimbra</td>\n      <td>Oliveira do Hospital</td>\n      <td>União das freguesias de Ervedal e Vila Franca ...</td>\n      <td>Não</td>\n      <td>111</td>\n      <td>061122</td>\n    </tr>\n    <tr>\n      <th>10</th>\n      <td>2023</td>\n      <td>8</td>\n      <td>2023-08</td>\n      <td>Coimbra</td>\n      <td>Oliveira do Hospital</td>\n      <td>União das freguesias de Oliveira do Hospital e...</td>\n      <td>Não</td>\n      <td>3200</td>\n      <td>061124</td>\n    </tr>\n    <tr>\n      <th>11</th>\n      <td>2023</td>\n      <td>8</td>\n      <td>2023-08</td>\n      <td>Coimbra</td>\n      <td>Soure</td>\n      <td>Soure</td>\n      <td>Não</td>\n      <td>3972</td>\n      <td>061509</td>\n    </tr>\n    <tr>\n      <th>12</th>\n      <td>2023</td>\n      <td>8</td>\n      <td>2023-08</td>\n      <td>Évora</td>\n      <td>Arraiolos</td>\n      <td>Vimieiro</td>\n      <td>Não</td>\n      <td>231</td>\n      <td>070206</td>\n    </tr>\n    <tr>\n      <th>13</th>\n      <td>2023</td>\n      <td>8</td>\n      <td>2023-08</td>\n      <td>Évora</td>\n      <td>Mourão</td>\n      <td>Mourão</td>\n      <td>Não</td>\n      <td>914</td>\n      <td>070803</td>\n    </tr>\n    <tr>\n      <th>14</th>\n      <td>2023</td>\n      <td>8</td>\n      <td>2023-08</td>\n      <td>Évora</td>\n      <td>Reguengos de Monsaraz</td>\n      <td>Reguengos de Monsaraz</td>\n      <td>Sim</td>\n      <td>3</td>\n      <td>071104</td>\n    </tr>\n  </tbody>\n</table>\n</div>"
     },
     "execution_count": 4,
     "metadata": {},
     "output_type": "execute_result"
    }
   ],
   "source": [
    "# Verificar nulls\n",
    "null_counts = df_diagrama_de_carga.isnull().sum()\n",
    "\n",
    "# Ver nulls por coluna\n",
    "print(\"Número de nulls por coluna:\")\n",
    "print(null_counts)\n",
    "\n",
    "df_diagrama_de_carga.head(15)"
   ],
   "metadata": {
    "collapsed": false,
    "ExecuteTime": {
     "end_time": "2024-04-04T21:10:39.961567Z",
     "start_time": "2024-04-04T21:10:39.950579Z"
    }
   },
   "id": "77d1ffab394acb0a",
   "execution_count": 4
  },
  {
   "cell_type": "markdown",
   "source": [
    "### 3. Tratamento e agregação dos dados\n",
    "\n",
    "1. Remover atributos como a data, CodDistritoConcelhoFreguesia\n",
    "2. Agrupar por concelhos e remover a freguesia\n",
    "3. Agrupar por semestres e anos"
   ],
   "metadata": {
    "collapsed": false
   },
   "id": "439e2b8001cb7375"
  },
  {
   "cell_type": "markdown",
   "source": [
    "1. Remover atributos como a data, CodDistritoConcelhoFreguesia"
   ],
   "metadata": {
    "collapsed": false
   },
   "id": "a3a4e32a07c6f74c"
  },
  {
   "cell_type": "code",
   "outputs": [
    {
     "name": "stdout",
     "output_type": "stream",
     "text": [
      "<class 'pandas.core.frame.DataFrame'>\n",
      "RangeIndex: 67960 entries, 0 to 67959\n",
      "Data columns (total 6 columns):\n",
      " #   Column                       Non-Null Count  Dtype \n",
      "---  ------                       --------------  ----- \n",
      " 0   Ano                          67960 non-null  int64 \n",
      " 1   Mês                          67960 non-null  int64 \n",
      " 2   Concelho                     67960 non-null  object\n",
      " 3   Freguesia                    67960 non-null  object\n",
      " 4   Inclui Mobilidade Elétrica   67960 non-null  object\n",
      " 5   CPEs com DCs Recolhidos (#)  67960 non-null  int64 \n",
      "dtypes: int64(3), object(3)\n",
      "memory usage: 3.1+ MB\n"
     ]
    }
   ],
   "source": [
    "# Remover atributos como a data e código, distrito\n",
    "df_diagrama_de_carga.drop(columns=['data', 'CodDistritoConcelhoFreguesia', 'Distrito'], inplace=True)\n",
    "df_diagrama_de_carga.info()"
   ],
   "metadata": {
    "collapsed": false,
    "ExecuteTime": {
     "end_time": "2024-04-04T21:10:39.968842Z",
     "start_time": "2024-04-04T21:10:39.958365Z"
    }
   },
   "id": "1682ec833e810ada",
   "execution_count": 5
  },
  {
   "cell_type": "markdown",
   "source": [
    "2. Agrupar por concelhos e remover a freguesia"
   ],
   "metadata": {
    "collapsed": false
   },
   "id": "27c6766be4d69b69"
  },
  {
   "cell_type": "code",
   "outputs": [
    {
     "data": {
      "text/plain": "   Concelho   Ano  Mês Inclui Mobilidade Elétrica  CPEs com DCs Recolhidos (#)\n0  Abrantes  2022    8                        Não                        11097\n1  Abrantes  2022    8                        Sim                            1\n2  Abrantes  2022    9                        Não                        11298\n3  Abrantes  2022    9                        Sim                            1\n4  Abrantes  2022   10                        Não                        11563",
      "text/html": "<div>\n<style scoped>\n    .dataframe tbody tr th:only-of-type {\n        vertical-align: middle;\n    }\n\n    .dataframe tbody tr th {\n        vertical-align: top;\n    }\n\n    .dataframe thead th {\n        text-align: right;\n    }\n</style>\n<table border=\"1\" class=\"dataframe\">\n  <thead>\n    <tr style=\"text-align: right;\">\n      <th></th>\n      <th>Concelho</th>\n      <th>Ano</th>\n      <th>Mês</th>\n      <th>Inclui Mobilidade Elétrica</th>\n      <th>CPEs com DCs Recolhidos (#)</th>\n    </tr>\n  </thead>\n  <tbody>\n    <tr>\n      <th>0</th>\n      <td>Abrantes</td>\n      <td>2022</td>\n      <td>8</td>\n      <td>Não</td>\n      <td>11097</td>\n    </tr>\n    <tr>\n      <th>1</th>\n      <td>Abrantes</td>\n      <td>2022</td>\n      <td>8</td>\n      <td>Sim</td>\n      <td>1</td>\n    </tr>\n    <tr>\n      <th>2</th>\n      <td>Abrantes</td>\n      <td>2022</td>\n      <td>9</td>\n      <td>Não</td>\n      <td>11298</td>\n    </tr>\n    <tr>\n      <th>3</th>\n      <td>Abrantes</td>\n      <td>2022</td>\n      <td>9</td>\n      <td>Sim</td>\n      <td>1</td>\n    </tr>\n    <tr>\n      <th>4</th>\n      <td>Abrantes</td>\n      <td>2022</td>\n      <td>10</td>\n      <td>Não</td>\n      <td>11563</td>\n    </tr>\n  </tbody>\n</table>\n</div>"
     },
     "execution_count": 6,
     "metadata": {},
     "output_type": "execute_result"
    }
   ],
   "source": [
    "df_agrupado = df_diagrama_de_carga.groupby(['Concelho', 'Ano', 'Mês', 'Inclui Mobilidade Elétrica']).sum().reset_index()\n",
    "df_agrupado.drop(columns=['Freguesia'], inplace=True)\n",
    "df_agrupado.head()"
   ],
   "metadata": {
    "collapsed": false,
    "ExecuteTime": {
     "end_time": "2024-04-04T21:10:40.001343Z",
     "start_time": "2024-04-04T21:10:39.969372Z"
    }
   },
   "id": "6ce45ef627535963",
   "execution_count": 6
  },
  {
   "cell_type": "markdown",
   "source": [
    "3. Verificar o número de linhas"
   ],
   "metadata": {
    "collapsed": false
   },
   "id": "28f450603a36487c"
  },
  {
   "cell_type": "code",
   "outputs": [
    {
     "name": "stdout",
     "output_type": "stream",
     "text": [
      "Número de linhas antes do agrupamento: 67960\n",
      "Número de linhas depois do agrupamento: 11040\n",
      "<class 'pandas.core.frame.DataFrame'>\n",
      "RangeIndex: 11040 entries, 0 to 11039\n",
      "Data columns (total 5 columns):\n",
      " #   Column                       Non-Null Count  Dtype \n",
      "---  ------                       --------------  ----- \n",
      " 0   Concelho                     11040 non-null  object\n",
      " 1   Ano                          11040 non-null  int64 \n",
      " 2   Mês                          11040 non-null  int64 \n",
      " 3   Inclui Mobilidade Elétrica   11040 non-null  object\n",
      " 4   CPEs com DCs Recolhidos (#)  11040 non-null  int64 \n",
      "dtypes: int64(3), object(2)\n",
      "memory usage: 431.4+ KB\n"
     ]
    },
    {
     "data": {
      "text/plain": "    Concelho   Ano  Mês Inclui Mobilidade Elétrica  \\\n0   Abrantes  2022    8                        Não   \n1   Abrantes  2022    8                        Sim   \n2   Abrantes  2022    9                        Não   \n3   Abrantes  2022    9                        Sim   \n4   Abrantes  2022   10                        Não   \n5   Abrantes  2022   10                        Sim   \n6   Abrantes  2022   11                        Não   \n7   Abrantes  2022   11                        Sim   \n8   Abrantes  2022   12                        Não   \n9   Abrantes  2022   12                        Sim   \n10  Abrantes  2023    1                        Não   \n11  Abrantes  2023    1                        Sim   \n12  Abrantes  2023    2                        Não   \n13  Abrantes  2023    2                        Sim   \n14  Abrantes  2023    3                        Não   \n\n    CPEs com DCs Recolhidos (#)  \n0                         11097  \n1                             1  \n2                         11298  \n3                             1  \n4                         11563  \n5                             1  \n6                         11969  \n7                             1  \n8                         12210  \n9                             1  \n10                        13334  \n11                            1  \n12                        13499  \n13                            1  \n14                        13973  ",
      "text/html": "<div>\n<style scoped>\n    .dataframe tbody tr th:only-of-type {\n        vertical-align: middle;\n    }\n\n    .dataframe tbody tr th {\n        vertical-align: top;\n    }\n\n    .dataframe thead th {\n        text-align: right;\n    }\n</style>\n<table border=\"1\" class=\"dataframe\">\n  <thead>\n    <tr style=\"text-align: right;\">\n      <th></th>\n      <th>Concelho</th>\n      <th>Ano</th>\n      <th>Mês</th>\n      <th>Inclui Mobilidade Elétrica</th>\n      <th>CPEs com DCs Recolhidos (#)</th>\n    </tr>\n  </thead>\n  <tbody>\n    <tr>\n      <th>0</th>\n      <td>Abrantes</td>\n      <td>2022</td>\n      <td>8</td>\n      <td>Não</td>\n      <td>11097</td>\n    </tr>\n    <tr>\n      <th>1</th>\n      <td>Abrantes</td>\n      <td>2022</td>\n      <td>8</td>\n      <td>Sim</td>\n      <td>1</td>\n    </tr>\n    <tr>\n      <th>2</th>\n      <td>Abrantes</td>\n      <td>2022</td>\n      <td>9</td>\n      <td>Não</td>\n      <td>11298</td>\n    </tr>\n    <tr>\n      <th>3</th>\n      <td>Abrantes</td>\n      <td>2022</td>\n      <td>9</td>\n      <td>Sim</td>\n      <td>1</td>\n    </tr>\n    <tr>\n      <th>4</th>\n      <td>Abrantes</td>\n      <td>2022</td>\n      <td>10</td>\n      <td>Não</td>\n      <td>11563</td>\n    </tr>\n    <tr>\n      <th>5</th>\n      <td>Abrantes</td>\n      <td>2022</td>\n      <td>10</td>\n      <td>Sim</td>\n      <td>1</td>\n    </tr>\n    <tr>\n      <th>6</th>\n      <td>Abrantes</td>\n      <td>2022</td>\n      <td>11</td>\n      <td>Não</td>\n      <td>11969</td>\n    </tr>\n    <tr>\n      <th>7</th>\n      <td>Abrantes</td>\n      <td>2022</td>\n      <td>11</td>\n      <td>Sim</td>\n      <td>1</td>\n    </tr>\n    <tr>\n      <th>8</th>\n      <td>Abrantes</td>\n      <td>2022</td>\n      <td>12</td>\n      <td>Não</td>\n      <td>12210</td>\n    </tr>\n    <tr>\n      <th>9</th>\n      <td>Abrantes</td>\n      <td>2022</td>\n      <td>12</td>\n      <td>Sim</td>\n      <td>1</td>\n    </tr>\n    <tr>\n      <th>10</th>\n      <td>Abrantes</td>\n      <td>2023</td>\n      <td>1</td>\n      <td>Não</td>\n      <td>13334</td>\n    </tr>\n    <tr>\n      <th>11</th>\n      <td>Abrantes</td>\n      <td>2023</td>\n      <td>1</td>\n      <td>Sim</td>\n      <td>1</td>\n    </tr>\n    <tr>\n      <th>12</th>\n      <td>Abrantes</td>\n      <td>2023</td>\n      <td>2</td>\n      <td>Não</td>\n      <td>13499</td>\n    </tr>\n    <tr>\n      <th>13</th>\n      <td>Abrantes</td>\n      <td>2023</td>\n      <td>2</td>\n      <td>Sim</td>\n      <td>1</td>\n    </tr>\n    <tr>\n      <th>14</th>\n      <td>Abrantes</td>\n      <td>2023</td>\n      <td>3</td>\n      <td>Não</td>\n      <td>13973</td>\n    </tr>\n  </tbody>\n</table>\n</div>"
     },
     "execution_count": 7,
     "metadata": {},
     "output_type": "execute_result"
    }
   ],
   "source": [
    "# Contagem de linhas antes do agrupamento\n",
    "num_linhas_antes = len(df_diagrama_de_carga)\n",
    "\n",
    "# Contagem de linhas depois do agrupamento\n",
    "num_linhas_depois = len(df_agrupado)\n",
    "\n",
    "# Exibição das contagens\n",
    "print(\"Número de linhas antes do agrupamento:\", num_linhas_antes)\n",
    "print(\"Número de linhas depois do agrupamento:\", num_linhas_depois)\n",
    "\n",
    "df_agrupado.info()\n",
    "\n",
    "df_agrupado.head(15)"
   ],
   "metadata": {
    "collapsed": false,
    "ExecuteTime": {
     "end_time": "2024-04-04T21:10:40.025494Z",
     "start_time": "2024-04-04T21:10:39.990235Z"
    }
   },
   "id": "be4b6ec16ebe4de1",
   "execution_count": 7
  },
  {
   "cell_type": "markdown",
   "source": [
    "4. Verificar se está tudo bem"
   ],
   "metadata": {
    "collapsed": false
   },
   "id": "5c0fa9f9cdaa3c20"
  },
  {
   "cell_type": "code",
   "outputs": [
    {
     "name": "stdout",
     "output_type": "stream",
     "text": [
      "<class 'pandas.core.frame.DataFrame'>\n",
      "Index: 40 entries, 4426 to 4465\n",
      "Data columns (total 5 columns):\n",
      " #   Column                       Non-Null Count  Dtype \n",
      "---  ------                       --------------  ----- \n",
      " 0   Concelho                     40 non-null     object\n",
      " 1   Ano                          40 non-null     int64 \n",
      " 2   Mês                          40 non-null     int64 \n",
      " 3   Inclui Mobilidade Elétrica   40 non-null     object\n",
      " 4   CPEs com DCs Recolhidos (#)  40 non-null     int64 \n",
      "dtypes: int64(3), object(2)\n",
      "memory usage: 1.9+ KB\n"
     ]
    }
   ],
   "source": [
    "# Para a coleção de Consumos Mensais por Concelho\n",
    "df_consumos_lisboa = df_agrupado[df_agrupado['Concelho'] == 'Lisboa']\n",
    "df_consumos_lisboa.info()"
   ],
   "metadata": {
    "collapsed": false,
    "ExecuteTime": {
     "end_time": "2024-04-04T21:10:40.030539Z",
     "start_time": "2024-04-04T21:10:39.999154Z"
    }
   },
   "id": "6a90c971651f3e40",
   "execution_count": 8
  },
  {
   "cell_type": "code",
   "outputs": [
    {
     "data": {
      "text/plain": "     Concelho   Ano  Mês Inclui Mobilidade Elétrica  \\\n4426   Lisboa  2022    8                        Não   \n4427   Lisboa  2022    8                        Sim   \n4428   Lisboa  2022    9                        Não   \n4429   Lisboa  2022    9                        Sim   \n4430   Lisboa  2022   10                        Não   \n4431   Lisboa  2022   10                        Sim   \n4432   Lisboa  2022   11                        Não   \n4433   Lisboa  2022   11                        Sim   \n4434   Lisboa  2022   12                        Não   \n4435   Lisboa  2022   12                        Sim   \n4436   Lisboa  2023    1                        Não   \n4437   Lisboa  2023    1                        Sim   \n4438   Lisboa  2023    2                        Não   \n4439   Lisboa  2023    2                        Sim   \n4440   Lisboa  2023    3                        Não   \n4441   Lisboa  2023    3                        Sim   \n4442   Lisboa  2023    4                        Não   \n4443   Lisboa  2023    4                        Sim   \n4444   Lisboa  2023    5                        Não   \n4445   Lisboa  2023    5                        Sim   \n4446   Lisboa  2023    6                        Não   \n4447   Lisboa  2023    6                        Sim   \n4448   Lisboa  2023    7                        Não   \n4449   Lisboa  2023    7                        Sim   \n4450   Lisboa  2023    8                        Não   \n4451   Lisboa  2023    8                        Sim   \n4452   Lisboa  2023    9                        Não   \n4453   Lisboa  2023    9                        Sim   \n4454   Lisboa  2023   10                        Não   \n4455   Lisboa  2023   10                        Sim   \n4456   Lisboa  2023   11                        Não   \n4457   Lisboa  2023   11                        Sim   \n4458   Lisboa  2023   12                        Não   \n4459   Lisboa  2023   12                        Sim   \n4460   Lisboa  2024    1                        Não   \n4461   Lisboa  2024    1                        Sim   \n4462   Lisboa  2024    2                        Não   \n4463   Lisboa  2024    2                        Sim   \n4464   Lisboa  2024    3                        Não   \n4465   Lisboa  2024    3                        Sim   \n\n      CPEs com DCs Recolhidos (#)  \n4426                       243736  \n4427                          107  \n4428                       236050  \n4429                          110  \n4430                       241055  \n4431                          118  \n4432                       237329  \n4433                          118  \n4434                       237600  \n4435                          126  \n4436                       235121  \n4437                          128  \n4438                       244116  \n4439                          131  \n4440                       237031  \n4441                          134  \n4442                       241639  \n4443                          141  \n4444                       227107  \n4445                          138  \n4446                       248148  \n4447                          145  \n4448                       246694  \n4449                          146  \n4450                       248041  \n4451                          152  \n4452                       252310  \n4453                          160  \n4454                       249352  \n4455                          173  \n4456                       250474  \n4457                          177  \n4458                       264079  \n4459                          184  \n4460                       258182  \n4461                          191  \n4462                       265131  \n4463                          194  \n4464                       253898  \n4465                          195  ",
      "text/html": "<div>\n<style scoped>\n    .dataframe tbody tr th:only-of-type {\n        vertical-align: middle;\n    }\n\n    .dataframe tbody tr th {\n        vertical-align: top;\n    }\n\n    .dataframe thead th {\n        text-align: right;\n    }\n</style>\n<table border=\"1\" class=\"dataframe\">\n  <thead>\n    <tr style=\"text-align: right;\">\n      <th></th>\n      <th>Concelho</th>\n      <th>Ano</th>\n      <th>Mês</th>\n      <th>Inclui Mobilidade Elétrica</th>\n      <th>CPEs com DCs Recolhidos (#)</th>\n    </tr>\n  </thead>\n  <tbody>\n    <tr>\n      <th>4426</th>\n      <td>Lisboa</td>\n      <td>2022</td>\n      <td>8</td>\n      <td>Não</td>\n      <td>243736</td>\n    </tr>\n    <tr>\n      <th>4427</th>\n      <td>Lisboa</td>\n      <td>2022</td>\n      <td>8</td>\n      <td>Sim</td>\n      <td>107</td>\n    </tr>\n    <tr>\n      <th>4428</th>\n      <td>Lisboa</td>\n      <td>2022</td>\n      <td>9</td>\n      <td>Não</td>\n      <td>236050</td>\n    </tr>\n    <tr>\n      <th>4429</th>\n      <td>Lisboa</td>\n      <td>2022</td>\n      <td>9</td>\n      <td>Sim</td>\n      <td>110</td>\n    </tr>\n    <tr>\n      <th>4430</th>\n      <td>Lisboa</td>\n      <td>2022</td>\n      <td>10</td>\n      <td>Não</td>\n      <td>241055</td>\n    </tr>\n    <tr>\n      <th>4431</th>\n      <td>Lisboa</td>\n      <td>2022</td>\n      <td>10</td>\n      <td>Sim</td>\n      <td>118</td>\n    </tr>\n    <tr>\n      <th>4432</th>\n      <td>Lisboa</td>\n      <td>2022</td>\n      <td>11</td>\n      <td>Não</td>\n      <td>237329</td>\n    </tr>\n    <tr>\n      <th>4433</th>\n      <td>Lisboa</td>\n      <td>2022</td>\n      <td>11</td>\n      <td>Sim</td>\n      <td>118</td>\n    </tr>\n    <tr>\n      <th>4434</th>\n      <td>Lisboa</td>\n      <td>2022</td>\n      <td>12</td>\n      <td>Não</td>\n      <td>237600</td>\n    </tr>\n    <tr>\n      <th>4435</th>\n      <td>Lisboa</td>\n      <td>2022</td>\n      <td>12</td>\n      <td>Sim</td>\n      <td>126</td>\n    </tr>\n    <tr>\n      <th>4436</th>\n      <td>Lisboa</td>\n      <td>2023</td>\n      <td>1</td>\n      <td>Não</td>\n      <td>235121</td>\n    </tr>\n    <tr>\n      <th>4437</th>\n      <td>Lisboa</td>\n      <td>2023</td>\n      <td>1</td>\n      <td>Sim</td>\n      <td>128</td>\n    </tr>\n    <tr>\n      <th>4438</th>\n      <td>Lisboa</td>\n      <td>2023</td>\n      <td>2</td>\n      <td>Não</td>\n      <td>244116</td>\n    </tr>\n    <tr>\n      <th>4439</th>\n      <td>Lisboa</td>\n      <td>2023</td>\n      <td>2</td>\n      <td>Sim</td>\n      <td>131</td>\n    </tr>\n    <tr>\n      <th>4440</th>\n      <td>Lisboa</td>\n      <td>2023</td>\n      <td>3</td>\n      <td>Não</td>\n      <td>237031</td>\n    </tr>\n    <tr>\n      <th>4441</th>\n      <td>Lisboa</td>\n      <td>2023</td>\n      <td>3</td>\n      <td>Sim</td>\n      <td>134</td>\n    </tr>\n    <tr>\n      <th>4442</th>\n      <td>Lisboa</td>\n      <td>2023</td>\n      <td>4</td>\n      <td>Não</td>\n      <td>241639</td>\n    </tr>\n    <tr>\n      <th>4443</th>\n      <td>Lisboa</td>\n      <td>2023</td>\n      <td>4</td>\n      <td>Sim</td>\n      <td>141</td>\n    </tr>\n    <tr>\n      <th>4444</th>\n      <td>Lisboa</td>\n      <td>2023</td>\n      <td>5</td>\n      <td>Não</td>\n      <td>227107</td>\n    </tr>\n    <tr>\n      <th>4445</th>\n      <td>Lisboa</td>\n      <td>2023</td>\n      <td>5</td>\n      <td>Sim</td>\n      <td>138</td>\n    </tr>\n    <tr>\n      <th>4446</th>\n      <td>Lisboa</td>\n      <td>2023</td>\n      <td>6</td>\n      <td>Não</td>\n      <td>248148</td>\n    </tr>\n    <tr>\n      <th>4447</th>\n      <td>Lisboa</td>\n      <td>2023</td>\n      <td>6</td>\n      <td>Sim</td>\n      <td>145</td>\n    </tr>\n    <tr>\n      <th>4448</th>\n      <td>Lisboa</td>\n      <td>2023</td>\n      <td>7</td>\n      <td>Não</td>\n      <td>246694</td>\n    </tr>\n    <tr>\n      <th>4449</th>\n      <td>Lisboa</td>\n      <td>2023</td>\n      <td>7</td>\n      <td>Sim</td>\n      <td>146</td>\n    </tr>\n    <tr>\n      <th>4450</th>\n      <td>Lisboa</td>\n      <td>2023</td>\n      <td>8</td>\n      <td>Não</td>\n      <td>248041</td>\n    </tr>\n    <tr>\n      <th>4451</th>\n      <td>Lisboa</td>\n      <td>2023</td>\n      <td>8</td>\n      <td>Sim</td>\n      <td>152</td>\n    </tr>\n    <tr>\n      <th>4452</th>\n      <td>Lisboa</td>\n      <td>2023</td>\n      <td>9</td>\n      <td>Não</td>\n      <td>252310</td>\n    </tr>\n    <tr>\n      <th>4453</th>\n      <td>Lisboa</td>\n      <td>2023</td>\n      <td>9</td>\n      <td>Sim</td>\n      <td>160</td>\n    </tr>\n    <tr>\n      <th>4454</th>\n      <td>Lisboa</td>\n      <td>2023</td>\n      <td>10</td>\n      <td>Não</td>\n      <td>249352</td>\n    </tr>\n    <tr>\n      <th>4455</th>\n      <td>Lisboa</td>\n      <td>2023</td>\n      <td>10</td>\n      <td>Sim</td>\n      <td>173</td>\n    </tr>\n    <tr>\n      <th>4456</th>\n      <td>Lisboa</td>\n      <td>2023</td>\n      <td>11</td>\n      <td>Não</td>\n      <td>250474</td>\n    </tr>\n    <tr>\n      <th>4457</th>\n      <td>Lisboa</td>\n      <td>2023</td>\n      <td>11</td>\n      <td>Sim</td>\n      <td>177</td>\n    </tr>\n    <tr>\n      <th>4458</th>\n      <td>Lisboa</td>\n      <td>2023</td>\n      <td>12</td>\n      <td>Não</td>\n      <td>264079</td>\n    </tr>\n    <tr>\n      <th>4459</th>\n      <td>Lisboa</td>\n      <td>2023</td>\n      <td>12</td>\n      <td>Sim</td>\n      <td>184</td>\n    </tr>\n    <tr>\n      <th>4460</th>\n      <td>Lisboa</td>\n      <td>2024</td>\n      <td>1</td>\n      <td>Não</td>\n      <td>258182</td>\n    </tr>\n    <tr>\n      <th>4461</th>\n      <td>Lisboa</td>\n      <td>2024</td>\n      <td>1</td>\n      <td>Sim</td>\n      <td>191</td>\n    </tr>\n    <tr>\n      <th>4462</th>\n      <td>Lisboa</td>\n      <td>2024</td>\n      <td>2</td>\n      <td>Não</td>\n      <td>265131</td>\n    </tr>\n    <tr>\n      <th>4463</th>\n      <td>Lisboa</td>\n      <td>2024</td>\n      <td>2</td>\n      <td>Sim</td>\n      <td>194</td>\n    </tr>\n    <tr>\n      <th>4464</th>\n      <td>Lisboa</td>\n      <td>2024</td>\n      <td>3</td>\n      <td>Não</td>\n      <td>253898</td>\n    </tr>\n    <tr>\n      <th>4465</th>\n      <td>Lisboa</td>\n      <td>2024</td>\n      <td>3</td>\n      <td>Sim</td>\n      <td>195</td>\n    </tr>\n  </tbody>\n</table>\n</div>"
     },
     "execution_count": 9,
     "metadata": {},
     "output_type": "execute_result"
    }
   ],
   "source": [
    "df_consumos_lisboa"
   ],
   "metadata": {
    "collapsed": false,
    "ExecuteTime": {
     "end_time": "2024-04-04T21:10:40.035752Z",
     "start_time": "2024-04-04T21:10:40.003748Z"
    }
   },
   "id": "2b1314a6a3495e56",
   "execution_count": 9
  },
  {
   "cell_type": "markdown",
   "source": [
    "5. Guardar num ficheiro"
   ],
   "metadata": {
    "collapsed": false
   },
   "id": "5afe2964ad0d0578"
  },
  {
   "cell_type": "code",
   "outputs": [
    {
     "name": "stdout",
     "output_type": "stream",
     "text": [
      "DataFrame guardado em  ../data/treated/diagrama_de_carga_por_mes.csv\n"
     ]
    }
   ],
   "source": [
    "file_path = data_path + 'treated/diagrama_de_carga_por_mes.csv'\n",
    "\n",
    "df_agrupado.to_csv(file_path, index=False)\n",
    "\n",
    "print(\"DataFrame guardado em \", file_path)"
   ],
   "metadata": {
    "collapsed": false,
    "ExecuteTime": {
     "end_time": "2024-04-04T21:10:40.055391Z",
     "start_time": "2024-04-04T21:10:40.006688Z"
    }
   },
   "id": "cec70542238f4561",
   "execution_count": 10
  }
 ],
 "metadata": {
  "kernelspec": {
   "display_name": "Python 3",
   "language": "python",
   "name": "python3"
  },
  "language_info": {
   "codemirror_mode": {
    "name": "ipython",
    "version": 2
   },
   "file_extension": ".py",
   "mimetype": "text/x-python",
   "name": "python",
   "nbconvert_exporter": "python",
   "pygments_lexer": "ipython2",
   "version": "2.7.6"
  }
 },
 "nbformat": 4,
 "nbformat_minor": 5
}
