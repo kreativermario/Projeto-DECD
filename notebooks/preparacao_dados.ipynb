{
 "cells": [
  {
   "cell_type": "markdown",
   "source": [
    "### Import das dependências"
   ],
   "metadata": {
    "collapsed": false,
    "id": "18ccd133ae2f5781"
   },
   "id": "18ccd133ae2f5781"
  },
  {
   "cell_type": "code",
   "execution_count": 4,
   "id": "initial_id",
   "metadata": {
    "collapsed": true,
    "id": "initial_id",
    "ExecuteTime": {
     "end_time": "2024-04-03T11:53:15.851955Z",
     "start_time": "2024-04-03T11:53:15.839223Z"
    }
   },
   "outputs": [],
   "source": [
    "import os\n",
    "\n",
    "import numpy as np\n",
    "import pandas as pd\n",
    "\n",
    "%matplotlib inline\n",
    "import matplotlib.pyplot as plt\n",
    "import seaborn as sns\n",
    "\n",
    "sns.set_theme()"
   ]
  },
  {
   "cell_type": "markdown",
   "source": [
    "### Importar os datasets"
   ],
   "metadata": {
    "collapsed": false,
    "id": "8856ce864347869"
   },
   "id": "8856ce864347869"
  },
  {
   "cell_type": "code",
   "outputs": [],
   "source": [
    "data_path = '../data/' if os.path.exists('../data/') else 'https://raw.githubusercontent.com/kreativermario/Projeto-DECD/master/data/'\n",
    "\n",
    "consumos_path = data_path + '3-consumos-faturados-por-municipio-ultimos-10-anos.csv'\n",
    "mobilidade_eletrica_path = data_path + '9-plr-mobilidade-eletrica.csv'\n",
    "diagramas_carga_path = data_path + '22-diagrama-de-carga-por-instalacao.csv'\n",
    "caracterizacao_contrato_ativo_path = data_path + '20-caracterizacao-pes-contrato-ativo.csv'\n",
    "contadores_energia_path = data_path + '21-contadores-de-energia.csv'\n",
    "ordens_servico_path = data_path + '15-ordens-de-servico.csv'\n",
    "\n",
    "\n",
    "df_consumos = pd.read_csv(consumos_path, delimiter=';')\n",
    "df_mobilidade_eletrica = pd.read_csv(mobilidade_eletrica_path, delimiter=';')\n",
    "df_diagramas_carga = pd.read_csv(diagramas_carga_path, delimiter=';')\n",
    "df_caracterizacao_contrato_ativo = pd.read_csv(caracterizacao_contrato_ativo_path, delimiter=';')\n",
    "df_contadores_energia = pd.read_csv(contadores_energia_path, delimiter=';', low_memory=False)\n",
    "df_ordens_servico = pd.read_csv(ordens_servico_path, delimiter=';')\n"
   ],
   "metadata": {
    "id": "2fbd26288bce69d0",
    "ExecuteTime": {
     "end_time": "2024-04-03T11:53:16.622973Z",
     "start_time": "2024-04-03T11:53:15.843042Z"
    }
   },
   "id": "2fbd26288bce69d0",
   "execution_count": 5
  }
 ],
 "metadata": {
  "kernelspec": {
   "display_name": "Python 3",
   "language": "python",
   "name": "python3"
  },
  "language_info": {
   "codemirror_mode": {
    "name": "ipython",
    "version": 2
   },
   "file_extension": ".py",
   "mimetype": "text/x-python",
   "name": "python",
   "nbconvert_exporter": "python",
   "pygments_lexer": "ipython2",
   "version": "2.7.6"
  },
  "colab": {
   "provenance": []
  }
 },
 "nbformat": 4,
 "nbformat_minor": 5
}
