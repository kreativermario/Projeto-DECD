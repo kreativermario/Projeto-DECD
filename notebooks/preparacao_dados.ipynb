{
  "cells": [
    {
      "cell_type": "markdown",
      "source": [
        "### Import das dependências"
      ],
      "metadata": {
        "collapsed": false,
        "id": "18ccd133ae2f5781"
      },
      "id": "18ccd133ae2f5781"
    },
    {
      "cell_type": "code",
      "execution_count": 1,
      "id": "initial_id",
      "metadata": {
        "collapsed": true,
        "ExecuteTime": {
          "end_time": "2024-03-28T17:34:19.820735Z",
          "start_time": "2024-03-28T17:34:19.783744Z"
        },
        "id": "initial_id"
      },
      "outputs": [],
      "source": [
        "import os\n",
        "\n",
        "import numpy as np\n",
        "import pandas as pd\n",
        "\n",
        "%matplotlib inline\n",
        "import matplotlib.pyplot as plt\n",
        "import seaborn as sns\n",
        "\n",
        "sns.set_theme()"
      ]
    },
    {
      "cell_type": "markdown",
      "source": [
        "### Importar os datasets"
      ],
      "metadata": {
        "collapsed": false,
        "id": "8856ce864347869"
      },
      "id": "8856ce864347869"
    },
    {
      "cell_type": "code",
      "outputs": [],
      "source": [
        "data_path = '../data/' if os.path.exists('../data/') else 'https://raw.githubusercontent.com/kreativermario/Projeto-DECD/master/data/'\n",
        "\n",
        "consumos_path = data_path + '3-consumos-faturados-por-municipio-ultimos-10-anos.csv'\n",
        "mobilidade_eletrica_path = data_path + '9-plr-mobilidade-eletrica.csv'\n",
        "diagramas_carga_path = data_path + '22-diagrama-de-carga-por-instalacao.csv'\n",
        "caracterizacao_contrato_ativo_path = data_path + '20-caracterizacao-pes-contrato-ativo.csv'\n",
        "contadores_energia_path = data_path + '21-contadores-de-energia.csv'\n",
        "ordens_servico_path = data_path + '15-ordens-de-servico.csv'\n",
        "\n",
        "\n",
        "df_consumos = pd.read_csv(consumos_path, delimiter=';')\n",
        "df_mobilidade_eletrica = pd.read_csv(mobilidade_eletrica_path, delimiter=';')\n",
        "df_diagramas_carga = pd.read_csv(diagramas_carga_path, delimiter=';')\n",
        "df_caracterizacao_contrato_ativo = pd.read_csv(caracterizacao_contrato_ativo_path, delimiter=';')\n",
        "df_contadores_energia = pd.read_csv(contadores_energia_path, delimiter=';', low_memory=False)\n",
        "df_ordens_servico = pd.read_csv(ordens_servico_path, delimiter=';')\n"
      ],
      "metadata": {
        "ExecuteTime": {
          "end_time": "2024-03-28T17:34:20.642455Z",
          "start_time": "2024-03-28T17:34:19.799428Z"
        },
        "id": "2fbd26288bce69d0"
      },
      "id": "2fbd26288bce69d0",
      "execution_count": 4
    },
    {
      "cell_type": "markdown",
      "source": [
        "### 1. Tratar coleções uma a um\n",
        "Colocar os datatypes, agrupar antes de juntar as várias coleções numa"
      ],
      "metadata": {
        "collapsed": false,
        "id": "701c78b7c6315ea9"
      },
      "id": "701c78b7c6315ea9"
    },
    {
      "cell_type": "markdown",
      "source": [
        "### 1.1 - Coleção \"Número de ordens de serviço remotas realizadas (15)\""
      ],
      "metadata": {
        "collapsed": false,
        "id": "c27420a0038574ba"
      },
      "id": "c27420a0038574ba"
    },
    {
      "cell_type": "code",
      "source": [
        "df_ordens_servico.info()"
      ],
      "metadata": {
        "id": "Cg_HCI5VxMJA",
        "outputId": "84eda073-c3aa-4098-e49e-184f12185389",
        "colab": {
          "base_uri": "https://localhost:8080/"
        }
      },
      "id": "Cg_HCI5VxMJA",
      "execution_count": 7,
      "outputs": [
        {
          "output_type": "stream",
          "name": "stdout",
          "text": [
            "<class 'pandas.core.frame.DataFrame'>\n",
            "RangeIndex: 194181 entries, 0 to 194180\n",
            "Data columns (total 9 columns):\n",
            " #   Column                         Non-Null Count   Dtype \n",
            "---  ------                         --------------   ----- \n",
            " 0   Ano                            194181 non-null  int64 \n",
            " 1   Mes                            194181 non-null  int64 \n",
            " 2   data                           194181 non-null  object\n",
            " 3   Distrito                       194181 non-null  object\n",
            " 4   Concelho                       194181 non-null  object\n",
            " 5   Freguesia                      194181 non-null  object\n",
            " 6   Tipo de Serviço                194181 non-null  object\n",
            " 7   Ordens Serviço Realizadas (#)  194181 non-null  int64 \n",
            " 8   CodDistritoConcelhoFreguesia   194181 non-null  object\n",
            "dtypes: int64(3), object(6)\n",
            "memory usage: 13.3+ MB\n"
          ]
        }
      ]
    },
    {
      "cell_type": "code",
      "source": [
        "df_ordens_servico.describe()"
      ],
      "metadata": {
        "id": "Ma4J1OxGxFE7",
        "outputId": "81c810ce-dee5-4473-894f-be7d5e889db5",
        "colab": {
          "base_uri": "https://localhost:8080/",
          "height": 300
        }
      },
      "id": "Ma4J1OxGxFE7",
      "execution_count": 9,
      "outputs": [
        {
          "output_type": "execute_result",
          "data": {
            "text/plain": [
              "                 Ano            Mes  Ordens Serviço Realizadas (#)\n",
              "count  194181.000000  194181.000000                  194181.000000\n",
              "mean     2022.792925       6.381598                      16.397186\n",
              "std         0.638967       3.550345                      41.077491\n",
              "min      2022.000000       1.000000                       1.000000\n",
              "25%      2022.000000       3.000000                       1.000000\n",
              "50%      2023.000000       6.000000                       3.000000\n",
              "75%      2023.000000      10.000000                      11.000000\n",
              "max      2024.000000      12.000000                    1923.000000"
            ],
            "text/html": [
              "\n",
              "  <div id=\"df-bca09d45-519d-49fd-86d1-eda21b848140\" class=\"colab-df-container\">\n",
              "    <div>\n",
              "<style scoped>\n",
              "    .dataframe tbody tr th:only-of-type {\n",
              "        vertical-align: middle;\n",
              "    }\n",
              "\n",
              "    .dataframe tbody tr th {\n",
              "        vertical-align: top;\n",
              "    }\n",
              "\n",
              "    .dataframe thead th {\n",
              "        text-align: right;\n",
              "    }\n",
              "</style>\n",
              "<table border=\"1\" class=\"dataframe\">\n",
              "  <thead>\n",
              "    <tr style=\"text-align: right;\">\n",
              "      <th></th>\n",
              "      <th>Ano</th>\n",
              "      <th>Mes</th>\n",
              "      <th>Ordens Serviço Realizadas (#)</th>\n",
              "    </tr>\n",
              "  </thead>\n",
              "  <tbody>\n",
              "    <tr>\n",
              "      <th>count</th>\n",
              "      <td>194181.000000</td>\n",
              "      <td>194181.000000</td>\n",
              "      <td>194181.000000</td>\n",
              "    </tr>\n",
              "    <tr>\n",
              "      <th>mean</th>\n",
              "      <td>2022.792925</td>\n",
              "      <td>6.381598</td>\n",
              "      <td>16.397186</td>\n",
              "    </tr>\n",
              "    <tr>\n",
              "      <th>std</th>\n",
              "      <td>0.638967</td>\n",
              "      <td>3.550345</td>\n",
              "      <td>41.077491</td>\n",
              "    </tr>\n",
              "    <tr>\n",
              "      <th>min</th>\n",
              "      <td>2022.000000</td>\n",
              "      <td>1.000000</td>\n",
              "      <td>1.000000</td>\n",
              "    </tr>\n",
              "    <tr>\n",
              "      <th>25%</th>\n",
              "      <td>2022.000000</td>\n",
              "      <td>3.000000</td>\n",
              "      <td>1.000000</td>\n",
              "    </tr>\n",
              "    <tr>\n",
              "      <th>50%</th>\n",
              "      <td>2023.000000</td>\n",
              "      <td>6.000000</td>\n",
              "      <td>3.000000</td>\n",
              "    </tr>\n",
              "    <tr>\n",
              "      <th>75%</th>\n",
              "      <td>2023.000000</td>\n",
              "      <td>10.000000</td>\n",
              "      <td>11.000000</td>\n",
              "    </tr>\n",
              "    <tr>\n",
              "      <th>max</th>\n",
              "      <td>2024.000000</td>\n",
              "      <td>12.000000</td>\n",
              "      <td>1923.000000</td>\n",
              "    </tr>\n",
              "  </tbody>\n",
              "</table>\n",
              "</div>\n",
              "    <div class=\"colab-df-buttons\">\n",
              "\n",
              "  <div class=\"colab-df-container\">\n",
              "    <button class=\"colab-df-convert\" onclick=\"convertToInteractive('df-bca09d45-519d-49fd-86d1-eda21b848140')\"\n",
              "            title=\"Convert this dataframe to an interactive table.\"\n",
              "            style=\"display:none;\">\n",
              "\n",
              "  <svg xmlns=\"http://www.w3.org/2000/svg\" height=\"24px\" viewBox=\"0 -960 960 960\">\n",
              "    <path d=\"M120-120v-720h720v720H120Zm60-500h600v-160H180v160Zm220 220h160v-160H400v160Zm0 220h160v-160H400v160ZM180-400h160v-160H180v160Zm440 0h160v-160H620v160ZM180-180h160v-160H180v160Zm440 0h160v-160H620v160Z\"/>\n",
              "  </svg>\n",
              "    </button>\n",
              "\n",
              "  <style>\n",
              "    .colab-df-container {\n",
              "      display:flex;\n",
              "      gap: 12px;\n",
              "    }\n",
              "\n",
              "    .colab-df-convert {\n",
              "      background-color: #E8F0FE;\n",
              "      border: none;\n",
              "      border-radius: 50%;\n",
              "      cursor: pointer;\n",
              "      display: none;\n",
              "      fill: #1967D2;\n",
              "      height: 32px;\n",
              "      padding: 0 0 0 0;\n",
              "      width: 32px;\n",
              "    }\n",
              "\n",
              "    .colab-df-convert:hover {\n",
              "      background-color: #E2EBFA;\n",
              "      box-shadow: 0px 1px 2px rgba(60, 64, 67, 0.3), 0px 1px 3px 1px rgba(60, 64, 67, 0.15);\n",
              "      fill: #174EA6;\n",
              "    }\n",
              "\n",
              "    .colab-df-buttons div {\n",
              "      margin-bottom: 4px;\n",
              "    }\n",
              "\n",
              "    [theme=dark] .colab-df-convert {\n",
              "      background-color: #3B4455;\n",
              "      fill: #D2E3FC;\n",
              "    }\n",
              "\n",
              "    [theme=dark] .colab-df-convert:hover {\n",
              "      background-color: #434B5C;\n",
              "      box-shadow: 0px 1px 3px 1px rgba(0, 0, 0, 0.15);\n",
              "      filter: drop-shadow(0px 1px 2px rgba(0, 0, 0, 0.3));\n",
              "      fill: #FFFFFF;\n",
              "    }\n",
              "  </style>\n",
              "\n",
              "    <script>\n",
              "      const buttonEl =\n",
              "        document.querySelector('#df-bca09d45-519d-49fd-86d1-eda21b848140 button.colab-df-convert');\n",
              "      buttonEl.style.display =\n",
              "        google.colab.kernel.accessAllowed ? 'block' : 'none';\n",
              "\n",
              "      async function convertToInteractive(key) {\n",
              "        const element = document.querySelector('#df-bca09d45-519d-49fd-86d1-eda21b848140');\n",
              "        const dataTable =\n",
              "          await google.colab.kernel.invokeFunction('convertToInteractive',\n",
              "                                                    [key], {});\n",
              "        if (!dataTable) return;\n",
              "\n",
              "        const docLinkHtml = 'Like what you see? Visit the ' +\n",
              "          '<a target=\"_blank\" href=https://colab.research.google.com/notebooks/data_table.ipynb>data table notebook</a>'\n",
              "          + ' to learn more about interactive tables.';\n",
              "        element.innerHTML = '';\n",
              "        dataTable['output_type'] = 'display_data';\n",
              "        await google.colab.output.renderOutput(dataTable, element);\n",
              "        const docLink = document.createElement('div');\n",
              "        docLink.innerHTML = docLinkHtml;\n",
              "        element.appendChild(docLink);\n",
              "      }\n",
              "    </script>\n",
              "  </div>\n",
              "\n",
              "\n",
              "<div id=\"df-30bf25f3-98f4-4ad2-b77f-c8a531ac008e\">\n",
              "  <button class=\"colab-df-quickchart\" onclick=\"quickchart('df-30bf25f3-98f4-4ad2-b77f-c8a531ac008e')\"\n",
              "            title=\"Suggest charts\"\n",
              "            style=\"display:none;\">\n",
              "\n",
              "<svg xmlns=\"http://www.w3.org/2000/svg\" height=\"24px\"viewBox=\"0 0 24 24\"\n",
              "     width=\"24px\">\n",
              "    <g>\n",
              "        <path d=\"M19 3H5c-1.1 0-2 .9-2 2v14c0 1.1.9 2 2 2h14c1.1 0 2-.9 2-2V5c0-1.1-.9-2-2-2zM9 17H7v-7h2v7zm4 0h-2V7h2v10zm4 0h-2v-4h2v4z\"/>\n",
              "    </g>\n",
              "</svg>\n",
              "  </button>\n",
              "\n",
              "<style>\n",
              "  .colab-df-quickchart {\n",
              "      --bg-color: #E8F0FE;\n",
              "      --fill-color: #1967D2;\n",
              "      --hover-bg-color: #E2EBFA;\n",
              "      --hover-fill-color: #174EA6;\n",
              "      --disabled-fill-color: #AAA;\n",
              "      --disabled-bg-color: #DDD;\n",
              "  }\n",
              "\n",
              "  [theme=dark] .colab-df-quickchart {\n",
              "      --bg-color: #3B4455;\n",
              "      --fill-color: #D2E3FC;\n",
              "      --hover-bg-color: #434B5C;\n",
              "      --hover-fill-color: #FFFFFF;\n",
              "      --disabled-bg-color: #3B4455;\n",
              "      --disabled-fill-color: #666;\n",
              "  }\n",
              "\n",
              "  .colab-df-quickchart {\n",
              "    background-color: var(--bg-color);\n",
              "    border: none;\n",
              "    border-radius: 50%;\n",
              "    cursor: pointer;\n",
              "    display: none;\n",
              "    fill: var(--fill-color);\n",
              "    height: 32px;\n",
              "    padding: 0;\n",
              "    width: 32px;\n",
              "  }\n",
              "\n",
              "  .colab-df-quickchart:hover {\n",
              "    background-color: var(--hover-bg-color);\n",
              "    box-shadow: 0 1px 2px rgba(60, 64, 67, 0.3), 0 1px 3px 1px rgba(60, 64, 67, 0.15);\n",
              "    fill: var(--button-hover-fill-color);\n",
              "  }\n",
              "\n",
              "  .colab-df-quickchart-complete:disabled,\n",
              "  .colab-df-quickchart-complete:disabled:hover {\n",
              "    background-color: var(--disabled-bg-color);\n",
              "    fill: var(--disabled-fill-color);\n",
              "    box-shadow: none;\n",
              "  }\n",
              "\n",
              "  .colab-df-spinner {\n",
              "    border: 2px solid var(--fill-color);\n",
              "    border-color: transparent;\n",
              "    border-bottom-color: var(--fill-color);\n",
              "    animation:\n",
              "      spin 1s steps(1) infinite;\n",
              "  }\n",
              "\n",
              "  @keyframes spin {\n",
              "    0% {\n",
              "      border-color: transparent;\n",
              "      border-bottom-color: var(--fill-color);\n",
              "      border-left-color: var(--fill-color);\n",
              "    }\n",
              "    20% {\n",
              "      border-color: transparent;\n",
              "      border-left-color: var(--fill-color);\n",
              "      border-top-color: var(--fill-color);\n",
              "    }\n",
              "    30% {\n",
              "      border-color: transparent;\n",
              "      border-left-color: var(--fill-color);\n",
              "      border-top-color: var(--fill-color);\n",
              "      border-right-color: var(--fill-color);\n",
              "    }\n",
              "    40% {\n",
              "      border-color: transparent;\n",
              "      border-right-color: var(--fill-color);\n",
              "      border-top-color: var(--fill-color);\n",
              "    }\n",
              "    60% {\n",
              "      border-color: transparent;\n",
              "      border-right-color: var(--fill-color);\n",
              "    }\n",
              "    80% {\n",
              "      border-color: transparent;\n",
              "      border-right-color: var(--fill-color);\n",
              "      border-bottom-color: var(--fill-color);\n",
              "    }\n",
              "    90% {\n",
              "      border-color: transparent;\n",
              "      border-bottom-color: var(--fill-color);\n",
              "    }\n",
              "  }\n",
              "</style>\n",
              "\n",
              "  <script>\n",
              "    async function quickchart(key) {\n",
              "      const quickchartButtonEl =\n",
              "        document.querySelector('#' + key + ' button');\n",
              "      quickchartButtonEl.disabled = true;  // To prevent multiple clicks.\n",
              "      quickchartButtonEl.classList.add('colab-df-spinner');\n",
              "      try {\n",
              "        const charts = await google.colab.kernel.invokeFunction(\n",
              "            'suggestCharts', [key], {});\n",
              "      } catch (error) {\n",
              "        console.error('Error during call to suggestCharts:', error);\n",
              "      }\n",
              "      quickchartButtonEl.classList.remove('colab-df-spinner');\n",
              "      quickchartButtonEl.classList.add('colab-df-quickchart-complete');\n",
              "    }\n",
              "    (() => {\n",
              "      let quickchartButtonEl =\n",
              "        document.querySelector('#df-30bf25f3-98f4-4ad2-b77f-c8a531ac008e button');\n",
              "      quickchartButtonEl.style.display =\n",
              "        google.colab.kernel.accessAllowed ? 'block' : 'none';\n",
              "    })();\n",
              "  </script>\n",
              "</div>\n",
              "    </div>\n",
              "  </div>\n"
            ],
            "application/vnd.google.colaboratory.intrinsic+json": {
              "type": "dataframe",
              "summary": "{\n  \"name\": \"df_ordens_servico\",\n  \"rows\": 8,\n  \"fields\": [\n    {\n      \"column\": \"Ano\",\n      \"properties\": {\n        \"dtype\": \"number\",\n        \"std\": 68043.99746522664,\n        \"min\": 0.6389667498970989,\n        \"max\": 194181.0,\n        \"num_unique_values\": 6,\n        \"samples\": [\n          194181.0,\n          2022.7929251574562,\n          2024.0\n        ],\n        \"semantic_type\": \"\",\n        \"description\": \"\"\n      }\n    },\n    {\n      \"column\": \"Mes\",\n      \"properties\": {\n        \"dtype\": \"number\",\n        \"std\": 68651.23315174549,\n        \"min\": 1.0,\n        \"max\": 194181.0,\n        \"num_unique_values\": 8,\n        \"samples\": [\n          6.381597581637751,\n          6.0,\n          194181.0\n        ],\n        \"semantic_type\": \"\",\n        \"description\": \"\"\n      }\n    },\n    {\n      \"column\": \"Ordens Servi\\u00e7o Realizadas (#)\",\n      \"properties\": {\n        \"dtype\": \"number\",\n        \"std\": 68555.77560529322,\n        \"min\": 1.0,\n        \"max\": 194181.0,\n        \"num_unique_values\": 7,\n        \"samples\": [\n          194181.0,\n          16.397186130465904,\n          11.0\n        ],\n        \"semantic_type\": \"\",\n        \"description\": \"\"\n      }\n    }\n  ]\n}"
            }
          },
          "metadata": {},
          "execution_count": 9
        }
      ]
    },
    {
      "cell_type": "markdown",
      "source": [
        "1.1.1 - Remover atributos\n",
        "\n",
        "\n",
        "*   Remover a data, e CodDistritoConcelhoFreguesia\n",
        "\n"
      ],
      "metadata": {
        "id": "2Je2qe8ixeMW"
      },
      "id": "2Je2qe8ixeMW"
    },
    {
      "cell_type": "code",
      "source": [
        "df_ordens_servico.drop(columns=['data', 'CodDistritoConcelhoFreguesia'], inplace=True)"
      ],
      "metadata": {
        "id": "25kRy6fJxuC7"
      },
      "id": "25kRy6fJxuC7",
      "execution_count": 8,
      "outputs": []
    },
    {
      "cell_type": "code",
      "source": [
        "df_ordens_servico.info()"
      ],
      "metadata": {
        "id": "NTpWTVZyx5Fu",
        "outputId": "99966314-7fb8-4fd3-c3f6-d9692c5777da",
        "colab": {
          "base_uri": "https://localhost:8080/"
        }
      },
      "id": "NTpWTVZyx5Fu",
      "execution_count": 10,
      "outputs": [
        {
          "output_type": "stream",
          "name": "stdout",
          "text": [
            "<class 'pandas.core.frame.DataFrame'>\n",
            "RangeIndex: 194181 entries, 0 to 194180\n",
            "Data columns (total 7 columns):\n",
            " #   Column                         Non-Null Count   Dtype \n",
            "---  ------                         --------------   ----- \n",
            " 0   Ano                            194181 non-null  int64 \n",
            " 1   Mes                            194181 non-null  int64 \n",
            " 2   Distrito                       194181 non-null  object\n",
            " 3   Concelho                       194181 non-null  object\n",
            " 4   Freguesia                      194181 non-null  object\n",
            " 5   Tipo de Serviço                194181 non-null  object\n",
            " 6   Ordens Serviço Realizadas (#)  194181 non-null  int64 \n",
            "dtypes: int64(3), object(4)\n",
            "memory usage: 10.4+ MB\n"
          ]
        }
      ]
    }
  ],
  "metadata": {
    "kernelspec": {
      "display_name": "Python 3",
      "language": "python",
      "name": "python3"
    },
    "language_info": {
      "codemirror_mode": {
        "name": "ipython",
        "version": 2
      },
      "file_extension": ".py",
      "mimetype": "text/x-python",
      "name": "python",
      "nbconvert_exporter": "python",
      "pygments_lexer": "ipython2",
      "version": "2.7.6"
    },
    "colab": {
      "provenance": []
    }
  },
  "nbformat": 4,
  "nbformat_minor": 5
}