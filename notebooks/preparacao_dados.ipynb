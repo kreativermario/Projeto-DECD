{
 "cells": [
  {
   "cell_type": "markdown",
   "source": [
    "### Import das dependências"
   ],
   "metadata": {
    "collapsed": false
   },
   "id": "18ccd133ae2f5781"
  },
  {
   "cell_type": "code",
   "execution_count": 13,
   "id": "initial_id",
   "metadata": {
    "collapsed": true,
    "ExecuteTime": {
     "end_time": "2024-03-28T17:34:19.820735Z",
     "start_time": "2024-03-28T17:34:19.783744Z"
    }
   },
   "outputs": [],
   "source": [
    "import os\n",
    "\n",
    "import numpy as np\n",
    "import pandas as pd\n",
    "\n",
    "%matplotlib inline\n",
    "import matplotlib.pyplot as plt\n",
    "import seaborn as sns\n",
    "\n",
    "sns.set_theme()"
   ]
  },
  {
   "cell_type": "markdown",
   "source": [
    "### Importar os datasets"
   ],
   "metadata": {
    "collapsed": false
   },
   "id": "8856ce864347869"
  },
  {
   "cell_type": "code",
   "outputs": [],
   "source": [
    "data_path = '../data/'\n",
    "\n",
    "df_consumos = pd.read_csv(f\"{data_path}3-consumos-faturados-por-municipio-ultimos-10-anos.csv\", delimiter=';')\n",
    "df_mobilidade_eletrica = pd.read_csv(f\"{data_path}9-plr-mobilidade-eletrica.csv\", delimiter=';')\n",
    "df_diagramas_carga = pd.read_csv(f\"{data_path}22-diagrama-de-carga-por-instalacao.csv\", delimiter=';')\n",
    "df_caracterizacao_contrato_ativo = pd.read_csv(f\"{data_path}20-caracterizacao-pes-contrato-ativo.csv\", delimiter=';')\n",
    "df_contadores_energia = pd.read_csv(f\"{data_path}21-contadores-de-energia.csv\", delimiter=';', low_memory=False)\n",
    "df_ordens_servico = pd.read_csv(f\"{data_path}15-ordens-de-servico.csv\", delimiter=';')\n"
   ],
   "metadata": {
    "collapsed": false,
    "ExecuteTime": {
     "end_time": "2024-03-28T17:34:20.642455Z",
     "start_time": "2024-03-28T17:34:19.799428Z"
    }
   },
   "id": "2fbd26288bce69d0",
   "execution_count": 14
  },
  {
   "cell_type": "markdown",
   "source": [
    "### 1. Tratar coleções uma a um\n",
    "Colocar os datatypes, agrupar antes de juntar as várias coleções numa"
   ],
   "metadata": {
    "collapsed": false
   },
   "id": "701c78b7c6315ea9"
  },
  {
   "cell_type": "markdown",
   "source": [
    "### 1.1 - Consumos mensais por concelho"
   ],
   "metadata": {
    "collapsed": false
   },
   "id": "c27420a0038574ba"
  },
  {
   "cell_type": "code",
   "outputs": [
    {
     "data": {
      "text/plain": "                 Ano            Mês  Energia Ativa (kWh)    CodDistrito  \\\ncount  173912.000000  173912.000000         1.739120e+05  173912.000000   \nmean     2021.947818       6.621274         8.338499e+05       9.640209   \nstd         0.957736       3.611179         2.651379e+06       5.494382   \nmin      2020.000000       1.000000         2.370000e+02       1.000000   \n25%      2021.000000       3.000000         6.657747e+04       4.000000   \n50%      2022.000000       7.000000         1.863577e+05      10.000000   \n75%      2023.000000      10.000000         5.916892e+05      14.000000   \nmax      2024.000000      12.000000         7.548685e+07      18.000000   \n\n       CodDistritoConcelho  \ncount        173912.000000  \nmean            972.305246  \nstd             550.497447  \nmin             101.000000  \n25%             408.000000  \n50%            1006.000000  \n75%            1416.000000  \nmax            1824.000000  ",
      "text/html": "<div>\n<style scoped>\n    .dataframe tbody tr th:only-of-type {\n        vertical-align: middle;\n    }\n\n    .dataframe tbody tr th {\n        vertical-align: top;\n    }\n\n    .dataframe thead th {\n        text-align: right;\n    }\n</style>\n<table border=\"1\" class=\"dataframe\">\n  <thead>\n    <tr style=\"text-align: right;\">\n      <th></th>\n      <th>Ano</th>\n      <th>Mês</th>\n      <th>Energia Ativa (kWh)</th>\n      <th>CodDistrito</th>\n      <th>CodDistritoConcelho</th>\n    </tr>\n  </thead>\n  <tbody>\n    <tr>\n      <th>count</th>\n      <td>173912.000000</td>\n      <td>173912.000000</td>\n      <td>1.739120e+05</td>\n      <td>173912.000000</td>\n      <td>173912.000000</td>\n    </tr>\n    <tr>\n      <th>mean</th>\n      <td>2021.947818</td>\n      <td>6.621274</td>\n      <td>8.338499e+05</td>\n      <td>9.640209</td>\n      <td>972.305246</td>\n    </tr>\n    <tr>\n      <th>std</th>\n      <td>0.957736</td>\n      <td>3.611179</td>\n      <td>2.651379e+06</td>\n      <td>5.494382</td>\n      <td>550.497447</td>\n    </tr>\n    <tr>\n      <th>min</th>\n      <td>2020.000000</td>\n      <td>1.000000</td>\n      <td>2.370000e+02</td>\n      <td>1.000000</td>\n      <td>101.000000</td>\n    </tr>\n    <tr>\n      <th>25%</th>\n      <td>2021.000000</td>\n      <td>3.000000</td>\n      <td>6.657747e+04</td>\n      <td>4.000000</td>\n      <td>408.000000</td>\n    </tr>\n    <tr>\n      <th>50%</th>\n      <td>2022.000000</td>\n      <td>7.000000</td>\n      <td>1.863577e+05</td>\n      <td>10.000000</td>\n      <td>1006.000000</td>\n    </tr>\n    <tr>\n      <th>75%</th>\n      <td>2023.000000</td>\n      <td>10.000000</td>\n      <td>5.916892e+05</td>\n      <td>14.000000</td>\n      <td>1416.000000</td>\n    </tr>\n    <tr>\n      <th>max</th>\n      <td>2024.000000</td>\n      <td>12.000000</td>\n      <td>7.548685e+07</td>\n      <td>18.000000</td>\n      <td>1824.000000</td>\n    </tr>\n  </tbody>\n</table>\n</div>"
     },
     "execution_count": 15,
     "metadata": {},
     "output_type": "execute_result"
    }
   ],
   "source": [
    "df_consumos.describe()\n"
   ],
   "metadata": {
    "collapsed": false,
    "ExecuteTime": {
     "end_time": "2024-03-28T17:34:20.669730Z",
     "start_time": "2024-03-28T17:34:20.644375Z"
    }
   },
   "id": "4eaaa7c785a2a12",
   "execution_count": 15
  },
  {
   "cell_type": "code",
   "outputs": [
    {
     "name": "stdout",
     "output_type": "stream",
     "text": [
      "\n",
      "Informações sobre os tipos de dados:\n",
      "<class 'pandas.core.frame.DataFrame'>\n",
      "RangeIndex: 173912 entries, 0 to 173911\n",
      "Data columns (total 11 columns):\n",
      " #   Column                        Non-Null Count   Dtype  \n",
      "---  ------                        --------------   -----  \n",
      " 0   Ano                           173912 non-null  int64  \n",
      " 1   Mês                           173912 non-null  int64  \n",
      " 2   Data                          173912 non-null  object \n",
      " 3   Distrito                      173912 non-null  object \n",
      " 4   Concelho                      173912 non-null  object \n",
      " 5   Freguesia                     173912 non-null  object \n",
      " 6   Nível de Tensão               173912 non-null  object \n",
      " 7   Energia Ativa (kWh)           173912 non-null  float64\n",
      " 8   CodDistrito                   173912 non-null  int64  \n",
      " 9   CodDistritoConcelho           173912 non-null  int64  \n",
      " 10  CodDistritoConcelhoFreguesia  173320 non-null  object \n",
      "dtypes: float64(1), int64(4), object(6)\n",
      "memory usage: 14.6+ MB\n",
      "None\n"
     ]
    }
   ],
   "source": [
    "# Visualizar os tipos de dados\n",
    "print(\"\\nInformações sobre os tipos de dados:\")\n",
    "print(df_consumos.info())\n"
   ],
   "metadata": {
    "collapsed": false,
    "ExecuteTime": {
     "end_time": "2024-03-28T17:34:20.721470Z",
     "start_time": "2024-03-28T17:34:20.665687Z"
    }
   },
   "id": "5308aa11e60a5828",
   "execution_count": 16
  },
  {
   "cell_type": "code",
   "outputs": [
    {
     "name": "stdout",
     "output_type": "stream",
     "text": [
      "<class 'pandas.core.frame.DataFrame'>\n",
      "RangeIndex: 173912 entries, 0 to 173911\n",
      "Data columns (total 11 columns):\n",
      " #   Column                        Non-Null Count   Dtype   \n",
      "---  ------                        --------------   -----   \n",
      " 0   Ano                           173912 non-null  category\n",
      " 1   Mês                           173912 non-null  category\n",
      " 2   Data                          173912 non-null  object  \n",
      " 3   Distrito                      173912 non-null  object  \n",
      " 4   Concelho                      173912 non-null  object  \n",
      " 5   Freguesia                     173912 non-null  object  \n",
      " 6   Nível de Tensão               173912 non-null  category\n",
      " 7   Energia Ativa (kWh)           173912 non-null  float64 \n",
      " 8   CodDistrito                   173912 non-null  int64   \n",
      " 9   CodDistritoConcelho           173912 non-null  int64   \n",
      " 10  CodDistritoConcelhoFreguesia  173320 non-null  object  \n",
      "dtypes: category(3), float64(1), int64(2), object(5)\n",
      "memory usage: 11.1+ MB\n",
      "None\n"
     ]
    }
   ],
   "source": [
    "# Converter as colunas para o tipo categórico\n",
    "df_consumos['Ano'] = df_consumos['Ano'].astype('category')\n",
    "df_consumos['Mês'] = df_consumos['Mês'].astype('category')\n",
    "df_consumos['Nível de Tensão'] = df_consumos['Nível de Tensão'].astype('category')\n",
    "\n",
    "# Verificar as mudanças\n",
    "print(df_consumos.info())\n"
   ],
   "metadata": {
    "collapsed": false,
    "ExecuteTime": {
     "end_time": "2024-03-28T17:34:20.781422Z",
     "start_time": "2024-03-28T17:34:20.693526Z"
    }
   },
   "id": "b05f32e59e64d938",
   "execution_count": 17
  },
  {
   "cell_type": "code",
   "outputs": [
    {
     "name": "stdout",
     "output_type": "stream",
     "text": [
      "Todas as categorias únicas da coluna 'Ano':\n",
      "Index([2020, 2021, 2022, 2023, 2024], dtype='int64')\n",
      "Todas as categorias únicas da coluna 'Mês':\n",
      "Index([1, 2, 3, 4, 5, 6, 7, 8, 9, 10, 11, 12], dtype='int64')\n",
      "Todas as categorias únicas da coluna 'Nível de Tensão':\n",
      "Index(['Baixa Tensão', 'Muito Alta, Alta e Média Tensões'], dtype='object')\n"
     ]
    }
   ],
   "source": [
    "# Iterar sobre todas as colunas do DataFrame\n",
    "for column in df_consumos.columns:\n",
    "    # Verificar se a coluna é do tipo categórico\n",
    "    if df_consumos[column].dtype.name == 'category':\n",
    "        # Imprimir todas as categorias únicas da coluna\n",
    "        print(f\"Todas as categorias únicas da coluna '{column}':\")\n",
    "        print(df_consumos[column].cat.categories)\n"
   ],
   "metadata": {
    "collapsed": false,
    "ExecuteTime": {
     "end_time": "2024-03-28T17:34:20.781976Z",
     "start_time": "2024-03-28T17:34:20.726334Z"
    }
   },
   "id": "73f937f0d91f6ea9",
   "execution_count": 18
  },
  {
   "cell_type": "markdown",
   "source": [
    "### Agrupar por concelho"
   ],
   "metadata": {
    "collapsed": false
   },
   "id": "ad30d3164df58a92"
  },
  {
   "cell_type": "code",
   "outputs": [
    {
     "data": {
      "text/plain": "     Ano Mês             Concelho                   Nível de Tensão  \\\n0   2021   4        Ponte de Lima                      Baixa Tensão   \n1   2021   5               Amares  Muito Alta, Alta e Média Tensões   \n2   2021   5               Vizela                      Baixa Tensão   \n3   2021   5          Campo Maior  Muito Alta, Alta e Média Tensões   \n4   2021   5              Sardoal                      Baixa Tensão   \n5   2021   6      Vieira do Minho  Muito Alta, Alta e Média Tensões   \n6   2021   6            Bombarral                      Baixa Tensão   \n7   2021   6           Felgueiras                      Baixa Tensão   \n8   2021   6      Póvoa de Varzim                      Baixa Tensão   \n9   2021   6        Ponte de Lima                      Baixa Tensão   \n10  2021   6               Chaves                      Baixa Tensão   \n11  2021   6                Nelas                      Baixa Tensão   \n12  2021   7  São João da Madeira                      Baixa Tensão   \n13  2021   7      Vieira do Minho  Muito Alta, Alta e Média Tensões   \n14  2021   7        Torres Vedras  Muito Alta, Alta e Média Tensões   \n\n    Energia Ativa (kWh)  \n0            104321.726  \n1             45123.071  \n2           1669013.735  \n3            450138.731  \n4             44856.247  \n5            171359.782  \n6            482473.048  \n7            101726.041  \n8            763835.428  \n9             34802.676  \n10           149215.416  \n11            79670.569  \n12          4327808.001  \n13           153811.645  \n14          3186603.166  ",
      "text/html": "<div>\n<style scoped>\n    .dataframe tbody tr th:only-of-type {\n        vertical-align: middle;\n    }\n\n    .dataframe tbody tr th {\n        vertical-align: top;\n    }\n\n    .dataframe thead th {\n        text-align: right;\n    }\n</style>\n<table border=\"1\" class=\"dataframe\">\n  <thead>\n    <tr style=\"text-align: right;\">\n      <th></th>\n      <th>Ano</th>\n      <th>Mês</th>\n      <th>Concelho</th>\n      <th>Nível de Tensão</th>\n      <th>Energia Ativa (kWh)</th>\n    </tr>\n  </thead>\n  <tbody>\n    <tr>\n      <th>0</th>\n      <td>2021</td>\n      <td>4</td>\n      <td>Ponte de Lima</td>\n      <td>Baixa Tensão</td>\n      <td>104321.726</td>\n    </tr>\n    <tr>\n      <th>1</th>\n      <td>2021</td>\n      <td>5</td>\n      <td>Amares</td>\n      <td>Muito Alta, Alta e Média Tensões</td>\n      <td>45123.071</td>\n    </tr>\n    <tr>\n      <th>2</th>\n      <td>2021</td>\n      <td>5</td>\n      <td>Vizela</td>\n      <td>Baixa Tensão</td>\n      <td>1669013.735</td>\n    </tr>\n    <tr>\n      <th>3</th>\n      <td>2021</td>\n      <td>5</td>\n      <td>Campo Maior</td>\n      <td>Muito Alta, Alta e Média Tensões</td>\n      <td>450138.731</td>\n    </tr>\n    <tr>\n      <th>4</th>\n      <td>2021</td>\n      <td>5</td>\n      <td>Sardoal</td>\n      <td>Baixa Tensão</td>\n      <td>44856.247</td>\n    </tr>\n    <tr>\n      <th>5</th>\n      <td>2021</td>\n      <td>6</td>\n      <td>Vieira do Minho</td>\n      <td>Muito Alta, Alta e Média Tensões</td>\n      <td>171359.782</td>\n    </tr>\n    <tr>\n      <th>6</th>\n      <td>2021</td>\n      <td>6</td>\n      <td>Bombarral</td>\n      <td>Baixa Tensão</td>\n      <td>482473.048</td>\n    </tr>\n    <tr>\n      <th>7</th>\n      <td>2021</td>\n      <td>6</td>\n      <td>Felgueiras</td>\n      <td>Baixa Tensão</td>\n      <td>101726.041</td>\n    </tr>\n    <tr>\n      <th>8</th>\n      <td>2021</td>\n      <td>6</td>\n      <td>Póvoa de Varzim</td>\n      <td>Baixa Tensão</td>\n      <td>763835.428</td>\n    </tr>\n    <tr>\n      <th>9</th>\n      <td>2021</td>\n      <td>6</td>\n      <td>Ponte de Lima</td>\n      <td>Baixa Tensão</td>\n      <td>34802.676</td>\n    </tr>\n    <tr>\n      <th>10</th>\n      <td>2021</td>\n      <td>6</td>\n      <td>Chaves</td>\n      <td>Baixa Tensão</td>\n      <td>149215.416</td>\n    </tr>\n    <tr>\n      <th>11</th>\n      <td>2021</td>\n      <td>6</td>\n      <td>Nelas</td>\n      <td>Baixa Tensão</td>\n      <td>79670.569</td>\n    </tr>\n    <tr>\n      <th>12</th>\n      <td>2021</td>\n      <td>7</td>\n      <td>São João da Madeira</td>\n      <td>Baixa Tensão</td>\n      <td>4327808.001</td>\n    </tr>\n    <tr>\n      <th>13</th>\n      <td>2021</td>\n      <td>7</td>\n      <td>Vieira do Minho</td>\n      <td>Muito Alta, Alta e Média Tensões</td>\n      <td>153811.645</td>\n    </tr>\n    <tr>\n      <th>14</th>\n      <td>2021</td>\n      <td>7</td>\n      <td>Torres Vedras</td>\n      <td>Muito Alta, Alta e Média Tensões</td>\n      <td>3186603.166</td>\n    </tr>\n  </tbody>\n</table>\n</div>"
     },
     "execution_count": 22,
     "metadata": {},
     "output_type": "execute_result"
    }
   ],
   "source": [
    "# Agrupar os dados por ano, mês, concelho e tipo de tensão, somando os valores de 'Energia Ativa (kWh)'\n",
    "df_consumos_sem_freguesia = df_consumos.drop(columns=['Distrito','Freguesia', 'Data', 'CodDistrito', 'CodDistritoConcelho', 'CodDistritoConcelhoFreguesia'])\n",
    "# Exibir o DataFrame resultante\n",
    "df_consumos_sem_freguesia.head(15)\n"
   ],
   "metadata": {
    "collapsed": false,
    "ExecuteTime": {
     "end_time": "2024-03-28T17:35:09.251262Z",
     "start_time": "2024-03-28T17:35:09.246389Z"
    }
   },
   "id": "8bd59416297ddb49",
   "execution_count": 22
  },
  {
   "cell_type": "code",
   "outputs": [
    {
     "data": {
      "text/plain": "         Ano Mês  Concelho                   Nível de Tensão  \\\n849     2022   2  Odivelas                      Baixa Tensão   \n1376    2021   5  Odivelas  Muito Alta, Alta e Média Tensões   \n2299    2023   6  Odivelas  Muito Alta, Alta e Média Tensões   \n2308    2023   9  Odivelas                      Baixa Tensão   \n3091    2022   9  Odivelas                      Baixa Tensão   \n...      ...  ..       ...                               ...   \n169978  2023   9  Odivelas                      Baixa Tensão   \n170790  2022   5  Odivelas                      Baixa Tensão   \n170861  2022  11  Odivelas                      Baixa Tensão   \n171098  2021   4  Odivelas  Muito Alta, Alta e Média Tensões   \n172897  2023   8  Odivelas  Muito Alta, Alta e Média Tensões   \n\n        Energia Ativa (kWh)  \n849             2166366.580  \n1376            2027665.179  \n2299             822406.614  \n2308            7907209.255  \n3091            1950241.104  \n...                     ...  \n169978          2061230.742  \n170790          4384314.692  \n170861          4232794.958  \n171098           423540.637  \n172897           819233.323  \n\n[312 rows x 5 columns]",
      "text/html": "<div>\n<style scoped>\n    .dataframe tbody tr th:only-of-type {\n        vertical-align: middle;\n    }\n\n    .dataframe tbody tr th {\n        vertical-align: top;\n    }\n\n    .dataframe thead th {\n        text-align: right;\n    }\n</style>\n<table border=\"1\" class=\"dataframe\">\n  <thead>\n    <tr style=\"text-align: right;\">\n      <th></th>\n      <th>Ano</th>\n      <th>Mês</th>\n      <th>Concelho</th>\n      <th>Nível de Tensão</th>\n      <th>Energia Ativa (kWh)</th>\n    </tr>\n  </thead>\n  <tbody>\n    <tr>\n      <th>849</th>\n      <td>2022</td>\n      <td>2</td>\n      <td>Odivelas</td>\n      <td>Baixa Tensão</td>\n      <td>2166366.580</td>\n    </tr>\n    <tr>\n      <th>1376</th>\n      <td>2021</td>\n      <td>5</td>\n      <td>Odivelas</td>\n      <td>Muito Alta, Alta e Média Tensões</td>\n      <td>2027665.179</td>\n    </tr>\n    <tr>\n      <th>2299</th>\n      <td>2023</td>\n      <td>6</td>\n      <td>Odivelas</td>\n      <td>Muito Alta, Alta e Média Tensões</td>\n      <td>822406.614</td>\n    </tr>\n    <tr>\n      <th>2308</th>\n      <td>2023</td>\n      <td>9</td>\n      <td>Odivelas</td>\n      <td>Baixa Tensão</td>\n      <td>7907209.255</td>\n    </tr>\n    <tr>\n      <th>3091</th>\n      <td>2022</td>\n      <td>9</td>\n      <td>Odivelas</td>\n      <td>Baixa Tensão</td>\n      <td>1950241.104</td>\n    </tr>\n    <tr>\n      <th>...</th>\n      <td>...</td>\n      <td>...</td>\n      <td>...</td>\n      <td>...</td>\n      <td>...</td>\n    </tr>\n    <tr>\n      <th>169978</th>\n      <td>2023</td>\n      <td>9</td>\n      <td>Odivelas</td>\n      <td>Baixa Tensão</td>\n      <td>2061230.742</td>\n    </tr>\n    <tr>\n      <th>170790</th>\n      <td>2022</td>\n      <td>5</td>\n      <td>Odivelas</td>\n      <td>Baixa Tensão</td>\n      <td>4384314.692</td>\n    </tr>\n    <tr>\n      <th>170861</th>\n      <td>2022</td>\n      <td>11</td>\n      <td>Odivelas</td>\n      <td>Baixa Tensão</td>\n      <td>4232794.958</td>\n    </tr>\n    <tr>\n      <th>171098</th>\n      <td>2021</td>\n      <td>4</td>\n      <td>Odivelas</td>\n      <td>Muito Alta, Alta e Média Tensões</td>\n      <td>423540.637</td>\n    </tr>\n    <tr>\n      <th>172897</th>\n      <td>2023</td>\n      <td>8</td>\n      <td>Odivelas</td>\n      <td>Muito Alta, Alta e Média Tensões</td>\n      <td>819233.323</td>\n    </tr>\n  </tbody>\n</table>\n<p>312 rows × 5 columns</p>\n</div>"
     },
     "execution_count": 23,
     "metadata": {},
     "output_type": "execute_result"
    }
   ],
   "source": [
    "# Para a coleção de Consumos Mensais por Concelho\n",
    "df_consumos_odivelas = df_consumos_sem_freguesia[df_consumos_sem_freguesia['Concelho'] == 'Odivelas']\n",
    "df_consumos_odivelas"
   ],
   "metadata": {
    "collapsed": false,
    "ExecuteTime": {
     "end_time": "2024-03-28T17:35:27.655370Z",
     "start_time": "2024-03-28T17:35:27.649306Z"
    }
   },
   "id": "7664e929414cab76",
   "execution_count": 23
  },
  {
   "cell_type": "code",
   "outputs": [],
   "source": [
    "### 1.1 - Consumos mensais por concelho"
   ],
   "metadata": {
    "collapsed": false,
    "ExecuteTime": {
     "end_time": "2024-03-28T17:34:20.894111Z",
     "start_time": "2024-03-28T17:34:20.745695Z"
    }
   },
   "id": "8a3dd6ab21b941d5",
   "execution_count": 21
  },
  {
   "cell_type": "code",
   "outputs": [],
   "source": [],
   "metadata": {
    "collapsed": false,
    "ExecuteTime": {
     "end_time": "2024-03-28T17:34:20.894340Z",
     "start_time": "2024-03-28T17:34:20.747946Z"
    }
   },
   "id": "dde6729b6a465adf",
   "execution_count": 21
  }
 ],
 "metadata": {
  "kernelspec": {
   "display_name": "Python 3",
   "language": "python",
   "name": "python3"
  },
  "language_info": {
   "codemirror_mode": {
    "name": "ipython",
    "version": 2
   },
   "file_extension": ".py",
   "mimetype": "text/x-python",
   "name": "python",
   "nbconvert_exporter": "python",
   "pygments_lexer": "ipython2",
   "version": "2.7.6"
  }
 },
 "nbformat": 4,
 "nbformat_minor": 5
}
