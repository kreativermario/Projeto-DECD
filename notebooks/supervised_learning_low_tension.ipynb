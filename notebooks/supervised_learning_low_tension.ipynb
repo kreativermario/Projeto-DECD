{
 "cells": [
  {
   "metadata": {
    "ExecuteTime": {
     "end_time": "2024-05-17T09:05:46.275889Z",
     "start_time": "2024-05-17T09:05:46.042280Z"
    }
   },
   "cell_type": "code",
   "source": [
    "# Preparação dos dados\n",
    "import os\n",
    "\n",
    "%matplotlib inline\n",
    "import numpy as np\n",
    "import seaborn as sns\n",
    "import pandas as pd\n",
    "from sklearn.metrics import r2_score, mean_squared_error, mean_absolute_error\n",
    "from sklearn.linear_model import LinearRegression, Ridge, Lasso, ElasticNet\n",
    "from sklearn.neighbors import KNeighborsRegressor\n",
    "from sklearn.tree import DecisionTreeRegressor\n",
    "from sklearn.ensemble import RandomForestRegressor\n",
    "from sklearn.svm import SVR\n",
    "from sklearn.neural_network import MLPRegressor\n",
    "from sklearn.model_selection import cross_val_score\n",
    "\n",
    "sns.set_theme()"
   ],
   "id": "5e63f6baf14b80e9",
   "outputs": [],
   "execution_count": 1
  },
  {
   "metadata": {
    "ExecuteTime": {
     "end_time": "2024-05-17T09:05:46.284693Z",
     "start_time": "2024-05-17T09:05:46.273560Z"
    }
   },
   "cell_type": "code",
   "source": [
    "## Importar dataset teste\n",
    "\n",
    "data_path = '../data/' if os.path.exists(\n",
    "    '../data/') else 'https://raw.githubusercontent.com/kreativermario/Projeto-DECD/master/data/'\n",
    "\n",
    "test_path = data_path + 'treated/prepared/numeric/no-dates/dataset-numeric-low-tensions-test-no-dates.csv'\n",
    "\n",
    "test_df = pd.read_csv(test_path)"
   ],
   "id": "134aae1f67a2a2ea",
   "outputs": [],
   "execution_count": 2
  },
  {
   "metadata": {
    "ExecuteTime": {
     "end_time": "2024-05-17T09:05:46.285060Z",
     "start_time": "2024-05-17T09:05:46.277178Z"
    }
   },
   "cell_type": "code",
   "source": [
    "## Importar dataset treino\n",
    "train_path = data_path + 'treated/prepared/numeric/no-dates/dataset-numeric-low-tensions-train-no-dates.csv'\n",
    "\n",
    "train_df = pd.read_csv(train_path)"
   ],
   "id": "3d9528f24e972d45",
   "outputs": [],
   "execution_count": 3
  },
  {
   "cell_type": "code",
   "outputs": [
    {
     "data": {
      "text/plain": "       energia_ativa_baixa_tensao_kwh  cpes_domestico_baixa_tensao  \\\ncount                    4.641000e+03                  4641.000000   \nmean                     6.652473e+06                 18795.518854   \nstd                      1.185535e+07                 29390.997527   \nmin                      2.059940e+05                  1042.000000   \n25%                      1.310791e+06                  4581.000000   \n50%                      2.685664e+06                  8936.000000   \n75%                      7.426747e+06                 21405.000000   \nmax                      1.633819e+08                311824.000000   \n\n       cpes_iluminacao_publica_baixa_tensao  cpes_nao_domestico_baixa_tensao  \\\ncount                           4641.000000                      4641.000000   \nmean                             214.017453                      4239.124111   \nstd                              194.044633                      6867.617704   \nmin                                7.000000                       174.000000   \n25%                               91.000000                      1101.000000   \n50%                              141.000000                      1989.000000   \n75%                              280.000000                      4892.000000   \nmax                             1184.000000                     79956.000000   \n\n       cpes_outros_baixa_tensao  cpes_mobilidade_eletrica_nao_baixa_tensao  \\\ncount               4641.000000                                4641.000000   \nmean                 129.467787                               26681.424477   \nstd                  206.654356                               45554.097416   \nmin                    1.000000                                1144.000000   \n25%                   21.000000                                5940.000000   \n50%                   54.000000                               11104.000000   \n75%                  157.000000                               29350.000000   \nmax                 2186.000000                              528158.000000   \n\n       cpes_mobilidade_eletrica_sim_baixa_tensao  \\\ncount                                4641.000000   \nmean                                    9.026287   \nstd                                    23.831036   \nmin                                     0.000000   \n25%                                     2.000000   \n50%                                     2.000000   \n75%                                     6.000000   \nmax                                   368.000000   \n\n       densidade_populacional_pessoas_km2  \ncount                         4641.000000  \nmean                           314.542125  \nstd                            856.169267  \nmin                              4.000000  \n25%                             25.000000  \n50%                             66.000000  \n75%                            177.000000  \nmax                           7310.000000  ",
      "text/html": "<div>\n<style scoped>\n    .dataframe tbody tr th:only-of-type {\n        vertical-align: middle;\n    }\n\n    .dataframe tbody tr th {\n        vertical-align: top;\n    }\n\n    .dataframe thead th {\n        text-align: right;\n    }\n</style>\n<table border=\"1\" class=\"dataframe\">\n  <thead>\n    <tr style=\"text-align: right;\">\n      <th></th>\n      <th>energia_ativa_baixa_tensao_kwh</th>\n      <th>cpes_domestico_baixa_tensao</th>\n      <th>cpes_iluminacao_publica_baixa_tensao</th>\n      <th>cpes_nao_domestico_baixa_tensao</th>\n      <th>cpes_outros_baixa_tensao</th>\n      <th>cpes_mobilidade_eletrica_nao_baixa_tensao</th>\n      <th>cpes_mobilidade_eletrica_sim_baixa_tensao</th>\n      <th>densidade_populacional_pessoas_km2</th>\n    </tr>\n  </thead>\n  <tbody>\n    <tr>\n      <th>count</th>\n      <td>4.641000e+03</td>\n      <td>4641.000000</td>\n      <td>4641.000000</td>\n      <td>4641.000000</td>\n      <td>4641.000000</td>\n      <td>4641.000000</td>\n      <td>4641.000000</td>\n      <td>4641.000000</td>\n    </tr>\n    <tr>\n      <th>mean</th>\n      <td>6.652473e+06</td>\n      <td>18795.518854</td>\n      <td>214.017453</td>\n      <td>4239.124111</td>\n      <td>129.467787</td>\n      <td>26681.424477</td>\n      <td>9.026287</td>\n      <td>314.542125</td>\n    </tr>\n    <tr>\n      <th>std</th>\n      <td>1.185535e+07</td>\n      <td>29390.997527</td>\n      <td>194.044633</td>\n      <td>6867.617704</td>\n      <td>206.654356</td>\n      <td>45554.097416</td>\n      <td>23.831036</td>\n      <td>856.169267</td>\n    </tr>\n    <tr>\n      <th>min</th>\n      <td>2.059940e+05</td>\n      <td>1042.000000</td>\n      <td>7.000000</td>\n      <td>174.000000</td>\n      <td>1.000000</td>\n      <td>1144.000000</td>\n      <td>0.000000</td>\n      <td>4.000000</td>\n    </tr>\n    <tr>\n      <th>25%</th>\n      <td>1.310791e+06</td>\n      <td>4581.000000</td>\n      <td>91.000000</td>\n      <td>1101.000000</td>\n      <td>21.000000</td>\n      <td>5940.000000</td>\n      <td>2.000000</td>\n      <td>25.000000</td>\n    </tr>\n    <tr>\n      <th>50%</th>\n      <td>2.685664e+06</td>\n      <td>8936.000000</td>\n      <td>141.000000</td>\n      <td>1989.000000</td>\n      <td>54.000000</td>\n      <td>11104.000000</td>\n      <td>2.000000</td>\n      <td>66.000000</td>\n    </tr>\n    <tr>\n      <th>75%</th>\n      <td>7.426747e+06</td>\n      <td>21405.000000</td>\n      <td>280.000000</td>\n      <td>4892.000000</td>\n      <td>157.000000</td>\n      <td>29350.000000</td>\n      <td>6.000000</td>\n      <td>177.000000</td>\n    </tr>\n    <tr>\n      <th>max</th>\n      <td>1.633819e+08</td>\n      <td>311824.000000</td>\n      <td>1184.000000</td>\n      <td>79956.000000</td>\n      <td>2186.000000</td>\n      <td>528158.000000</td>\n      <td>368.000000</td>\n      <td>7310.000000</td>\n    </tr>\n  </tbody>\n</table>\n</div>"
     },
     "execution_count": 4,
     "metadata": {},
     "output_type": "execute_result"
    }
   ],
   "source": [
    "train_df.describe()"
   ],
   "metadata": {
    "collapsed": false,
    "ExecuteTime": {
     "end_time": "2024-05-17T09:05:46.294160Z",
     "start_time": "2024-05-17T09:05:46.282172Z"
    }
   },
   "id": "15cc89a1e5a4e4bb",
   "execution_count": 4
  },
  {
   "cell_type": "code",
   "outputs": [
    {
     "data": {
      "text/plain": "       energia_ativa_baixa_tensao_kwh  cpes_domestico_baixa_tensao  \\\ncount                    5.460000e+02                   546.000000   \nmean                     5.381401e+06                 18918.045788   \nstd                      1.106368e+07                 29635.004603   \nmin                      1.000680e+05                  1042.000000   \n25%                      8.825985e+05                  4572.750000   \n50%                      1.962897e+06                  8928.500000   \n75%                      5.025964e+06                 21518.250000   \nmax                      1.641353e+08                312095.000000   \n\n       cpes_iluminacao_publica_baixa_tensao  cpes_nao_domestico_baixa_tensao  \\\ncount                            546.000000                       546.000000   \nmean                             215.278388                      4274.082418   \nstd                              195.630206                      6925.569730   \nmin                                7.000000                       182.000000   \n25%                               91.000000                      1112.000000   \n50%                              142.000000                      2001.500000   \n75%                              281.000000                      4927.250000   \nmax                             1185.000000                     79984.000000   \n\n       cpes_outros_baixa_tensao  cpes_mobilidade_eletrica_nao_baixa_tensao  \\\ncount                546.000000                                 546.000000   \nmean                 119.930403                               33234.115385   \nstd                  197.548003                               50925.096260   \nmin                    1.000000                                1892.000000   \n25%                   18.000000                                8386.000000   \n50%                   48.000000                               15531.000000   \n75%                  141.750000                               39917.000000   \nmax                 2055.000000                              530262.000000   \n\n       cpes_mobilidade_eletrica_sim_baixa_tensao  \\\ncount                                 546.000000   \nmean                                   14.593407   \nstd                                    35.708189   \nmin                                     0.000000   \n25%                                     2.000000   \n50%                                     4.000000   \n75%                                    10.000000   \nmax                                   388.000000   \n\n       densidade_populacional_pessoas_km2  \ncount                          546.000000  \nmean                           314.542125  \nstd                            856.862054  \nmin                              4.000000  \n25%                             25.000000  \n50%                             66.000000  \n75%                            177.000000  \nmax                           7310.000000  ",
      "text/html": "<div>\n<style scoped>\n    .dataframe tbody tr th:only-of-type {\n        vertical-align: middle;\n    }\n\n    .dataframe tbody tr th {\n        vertical-align: top;\n    }\n\n    .dataframe thead th {\n        text-align: right;\n    }\n</style>\n<table border=\"1\" class=\"dataframe\">\n  <thead>\n    <tr style=\"text-align: right;\">\n      <th></th>\n      <th>energia_ativa_baixa_tensao_kwh</th>\n      <th>cpes_domestico_baixa_tensao</th>\n      <th>cpes_iluminacao_publica_baixa_tensao</th>\n      <th>cpes_nao_domestico_baixa_tensao</th>\n      <th>cpes_outros_baixa_tensao</th>\n      <th>cpes_mobilidade_eletrica_nao_baixa_tensao</th>\n      <th>cpes_mobilidade_eletrica_sim_baixa_tensao</th>\n      <th>densidade_populacional_pessoas_km2</th>\n    </tr>\n  </thead>\n  <tbody>\n    <tr>\n      <th>count</th>\n      <td>5.460000e+02</td>\n      <td>546.000000</td>\n      <td>546.000000</td>\n      <td>546.000000</td>\n      <td>546.000000</td>\n      <td>546.000000</td>\n      <td>546.000000</td>\n      <td>546.000000</td>\n    </tr>\n    <tr>\n      <th>mean</th>\n      <td>5.381401e+06</td>\n      <td>18918.045788</td>\n      <td>215.278388</td>\n      <td>4274.082418</td>\n      <td>119.930403</td>\n      <td>33234.115385</td>\n      <td>14.593407</td>\n      <td>314.542125</td>\n    </tr>\n    <tr>\n      <th>std</th>\n      <td>1.106368e+07</td>\n      <td>29635.004603</td>\n      <td>195.630206</td>\n      <td>6925.569730</td>\n      <td>197.548003</td>\n      <td>50925.096260</td>\n      <td>35.708189</td>\n      <td>856.862054</td>\n    </tr>\n    <tr>\n      <th>min</th>\n      <td>1.000680e+05</td>\n      <td>1042.000000</td>\n      <td>7.000000</td>\n      <td>182.000000</td>\n      <td>1.000000</td>\n      <td>1892.000000</td>\n      <td>0.000000</td>\n      <td>4.000000</td>\n    </tr>\n    <tr>\n      <th>25%</th>\n      <td>8.825985e+05</td>\n      <td>4572.750000</td>\n      <td>91.000000</td>\n      <td>1112.000000</td>\n      <td>18.000000</td>\n      <td>8386.000000</td>\n      <td>2.000000</td>\n      <td>25.000000</td>\n    </tr>\n    <tr>\n      <th>50%</th>\n      <td>1.962897e+06</td>\n      <td>8928.500000</td>\n      <td>142.000000</td>\n      <td>2001.500000</td>\n      <td>48.000000</td>\n      <td>15531.000000</td>\n      <td>4.000000</td>\n      <td>66.000000</td>\n    </tr>\n    <tr>\n      <th>75%</th>\n      <td>5.025964e+06</td>\n      <td>21518.250000</td>\n      <td>281.000000</td>\n      <td>4927.250000</td>\n      <td>141.750000</td>\n      <td>39917.000000</td>\n      <td>10.000000</td>\n      <td>177.000000</td>\n    </tr>\n    <tr>\n      <th>max</th>\n      <td>1.641353e+08</td>\n      <td>312095.000000</td>\n      <td>1185.000000</td>\n      <td>79984.000000</td>\n      <td>2055.000000</td>\n      <td>530262.000000</td>\n      <td>388.000000</td>\n      <td>7310.000000</td>\n    </tr>\n  </tbody>\n</table>\n</div>"
     },
     "execution_count": 5,
     "metadata": {},
     "output_type": "execute_result"
    }
   ],
   "source": [
    "test_df.describe()"
   ],
   "metadata": {
    "collapsed": false,
    "ExecuteTime": {
     "end_time": "2024-05-17T09:05:46.341155Z",
     "start_time": "2024-05-17T09:05:46.294240Z"
    }
   },
   "id": "7cb2a7357e2fe211",
   "execution_count": 5
  },
  {
   "metadata": {},
   "cell_type": "markdown",
   "source": [
    "# Algoritmos de Aprendizagem supervisionada"
   ],
   "id": "369b5bdc3c2c13bd"
  },
  {
   "cell_type": "markdown",
   "source": [
    "## Dataset não normalizado"
   ],
   "metadata": {
    "collapsed": false
   },
   "id": "901a59afcc19edd4"
  },
  {
   "cell_type": "code",
   "outputs": [],
   "source": [
    "regressors = {\n",
    "    'Linear Regression': LinearRegression(),\n",
    "    'Ridge': Ridge(alpha=1.0, solver='auto'),\n",
    "    'Lasso': Lasso(alpha=1.0), \n",
    "    'ElasticNet': ElasticNet(alpha=1.0, l1_ratio=0.5),\n",
    "    'k-NN': KNeighborsRegressor(n_neighbors=5),\n",
    "    'Decision Tree': DecisionTreeRegressor(),\n",
    "    'Random Forest': RandomForestRegressor(n_estimators=100),\n",
    "    'SVM': SVR(kernel='linear', max_iter=1000000000),\n",
    "    'MLP': MLPRegressor(hidden_layer_sizes=(8,4), max_iter=200000)\n",
    "}"
   ],
   "metadata": {
    "collapsed": false,
    "ExecuteTime": {
     "end_time": "2024-05-17T09:05:46.349415Z",
     "start_time": "2024-05-17T09:05:46.304343Z"
    }
   },
   "id": "15b2bc29b1b39644",
   "execution_count": 6
  },
  {
   "cell_type": "code",
   "outputs": [
    {
     "name": "stderr",
     "output_type": "stream",
     "text": [
      "/Users/caoma/Documents/Programming/GIT/Projeto-DECD/.venv/lib/python3.11/site-packages/sklearn/linear_model/_coordinate_descent.py:678: ConvergenceWarning: Objective did not converge. You might want to increase the number of iterations, check the scale of the features or consider increasing regularisation. Duality gap: 7.559e+15, tolerance: 5.907e+13\n",
      "  model = cd_fast.enet_coordinate_descent(\n",
      "/Users/caoma/Documents/Programming/GIT/Projeto-DECD/.venv/lib/python3.11/site-packages/sklearn/linear_model/_coordinate_descent.py:678: ConvergenceWarning: Objective did not converge. You might want to increase the number of iterations, check the scale of the features or consider increasing regularisation. Duality gap: 7.965e+15, tolerance: 5.907e+13\n",
      "  model = cd_fast.enet_coordinate_descent(\n"
     ]
    },
    {
     "data": {
      "text/plain": "Linear Regression    0.944744\nRidge                0.944744\nLasso                0.944744\nElasticNet           0.944751\nk-NN                 0.929297\nDecision Tree        0.918589\nRandom Forest        0.937285\nSVM                  0.951433\nMLP                  0.942007\ndtype: float64"
     },
     "execution_count": 7,
     "metadata": {},
     "output_type": "execute_result"
    }
   ],
   "source": [
    "cv_scores = pd.Series({\n",
    "    name: np.mean(cross_val_score(regressor, train_df.drop(columns=['energia_ativa_baixa_tensao_kwh']), train_df['energia_ativa_baixa_tensao_kwh'], cv=5))\n",
    "    for name, regressor in regressors.items()\n",
    "})\n",
    "\n",
    "cv_scores"
   ],
   "metadata": {
    "collapsed": false,
    "ExecuteTime": {
     "end_time": "2024-05-17T09:06:44.301825Z",
     "start_time": "2024-05-17T09:05:46.307885Z"
    }
   },
   "id": "b7eaa974a58fa410",
   "execution_count": 7
  },
  {
   "cell_type": "code",
   "outputs": [
    {
     "name": "stdout",
     "output_type": "stream",
     "text": [
      "### SVM ###\n",
      "r2: 0.6787181817616937\n",
      "mse: 39254473085991.016\n",
      "mae: 2798339.5838791123\n"
     ]
    }
   ],
   "source": [
    "best = cv_scores.sort_values(ascending=False).index[0]\n",
    "best_regressor = regressors[best]\n",
    "best_regressor.fit(train_df.drop(columns=['energia_ativa_baixa_tensao_kwh']), train_df['energia_ativa_baixa_tensao_kwh'])\n",
    "\n",
    "print(f'### {best} ###')\n",
    "\n",
    "y_pred = best_regressor.predict(test_df.drop(columns=['energia_ativa_baixa_tensao_kwh']))\n",
    "\n",
    "print('r2: {}'.format(r2_score(test_df['energia_ativa_baixa_tensao_kwh'], y_pred)))\n",
    "print('mse: {}'.format(mean_squared_error(test_df['energia_ativa_baixa_tensao_kwh'], y_pred)))\n",
    "print('mae: {}'.format(mean_absolute_error(test_df['energia_ativa_baixa_tensao_kwh'], y_pred)))"
   ],
   "metadata": {
    "collapsed": false,
    "ExecuteTime": {
     "end_time": "2024-05-17T09:06:55.840790Z",
     "start_time": "2024-05-17T09:06:44.301265Z"
    }
   },
   "id": "629a225a2090cd41",
   "execution_count": 8
  },
  {
   "metadata": {},
   "cell_type": "markdown",
   "source": [
    "### Ordenar os exemplos do conjunto de teste por ordem decrescente do erro da previsão do regressor e verificar se existe algum padrão relevante. \n"
   ],
   "id": "1602f2c531e747bb"
  },
  {
   "metadata": {
    "ExecuteTime": {
     "end_time": "2024-05-17T09:06:55.847140Z",
     "start_time": "2024-05-17T09:06:55.841127Z"
    }
   },
   "cell_type": "code",
   "source": [
    "df_error = test_df.copy()\n",
    "df_error['error'] = np.abs(df_error['energia_ativa_baixa_tensao_kwh'] - y_pred)\n",
    "\n",
    "df_error.sort_values('error', ascending=False).head(20)"
   ],
   "id": "7da14c91bcc8e487",
   "outputs": [
    {
     "data": {
      "text/plain": "     energia_ativa_baixa_tensao_kwh  cpes_domestico_baixa_tensao  \\\n219                        49701737                       312095   \n433                        21242743                       173756   \n218                       164135303                       312074   \n373                        25851440                       139500   \n372                        81748684                       139499   \n507                        20742447                       138873   \n31                         11622919                        96690   \n223                        11978360                        89988   \n99                         13249506                        86590   \n47                          8554055                        81435   \n121                        17236846                       107338   \n506                        63968986                       138805   \n311                        11382482                        84687   \n120                        53441216                       107344   \n145                        11164852                        76144   \n425                         7767111                        59241   \n415                         9624753                        79148   \n497                         7364371                        61973   \n247                        12593332                        79966   \n309                         7660027                        68051   \n\n     cpes_iluminacao_publica_baixa_tensao  cpes_nao_domestico_baixa_tensao  \\\n219                                  1185                            79939   \n433                                   938                            40704   \n218                                  1185                            79984   \n373                                   707                            34819   \n372                                   707                            34810   \n507                                  1181                            22422   \n31                                    531                            18709   \n223                                   563                            19734   \n99                                    797                            18398   \n47                                    256                            16812   \n121                                   622                            19609   \n506                                  1181                            22422   \n311                                   451                            17518   \n120                                   622                            19595   \n145                                   684                            17325   \n425                                   506                            15621   \n415                                   442                            13358   \n497                                   404                            15727   \n247                                   549                            16672   \n309                                   330                            13646   \n\n     cpes_outros_baixa_tensao  cpes_mobilidade_eletrica_nao_baixa_tensao  \\\n219                      2050                                     530262   \n433                       473                                     236910   \n218                      2055                                     516364   \n373                       997                                     288380   \n372                      1000                                     286406   \n507                      1005                                     245714   \n31                        572                                     171990   \n223                       526                                     168622   \n99                        937                                     144366   \n47                        334                                     122264   \n121                       538                                     198438   \n506                      1009                                     241612   \n311                       396                                     133132   \n120                       538                                     194550   \n145                       435                                     152224   \n425                       417                                     132912   \n415                       545                                     139966   \n497                       240                                     108196   \n247                       478                                     139872   \n309                       217                                     125768   \n\n     cpes_mobilidade_eletrica_sim_baixa_tensao  \\\n219                                        388   \n433                                        104   \n218                                        382   \n373                                         92   \n372                                         82   \n507                                        120   \n31                                          84   \n223                                        122   \n99                                         110   \n47                                          54   \n121                                        210   \n506                                        108   \n311                                        184   \n120                                        204   \n145                                         56   \n425                                         70   \n415                                         50   \n497                                         36   \n247                                         64   \n309                                         66   \n\n     densidade_populacional_pessoas_km2         error  \n219                                5466  7.758240e+07  \n433                                1215  4.035582e+07  \n218                                5466  3.706299e+07  \n373                                5753  3.085388e+07  \n372                                5753  2.511211e+07  \n507                                1821  2.432439e+07  \n31                                 2544  2.198287e+07  \n223                                1215  2.137236e+07  \n99                                 1071  2.012195e+07  \n47                                 7310  1.950238e+07  \n121                                2196  1.915828e+07  \n506                                1821  1.901327e+07  \n311                                3755  1.849431e+07  \n120                                2196  1.715289e+07  \n145                                 445  1.705949e+07  \n425                                 533  1.678309e+07  \n415                                1770  1.659512e+07  \n497                                 433  1.615991e+07  \n247                                2814  1.589242e+07  \n309                                5642  1.534978e+07  ",
      "text/html": "<div>\n<style scoped>\n    .dataframe tbody tr th:only-of-type {\n        vertical-align: middle;\n    }\n\n    .dataframe tbody tr th {\n        vertical-align: top;\n    }\n\n    .dataframe thead th {\n        text-align: right;\n    }\n</style>\n<table border=\"1\" class=\"dataframe\">\n  <thead>\n    <tr style=\"text-align: right;\">\n      <th></th>\n      <th>energia_ativa_baixa_tensao_kwh</th>\n      <th>cpes_domestico_baixa_tensao</th>\n      <th>cpes_iluminacao_publica_baixa_tensao</th>\n      <th>cpes_nao_domestico_baixa_tensao</th>\n      <th>cpes_outros_baixa_tensao</th>\n      <th>cpes_mobilidade_eletrica_nao_baixa_tensao</th>\n      <th>cpes_mobilidade_eletrica_sim_baixa_tensao</th>\n      <th>densidade_populacional_pessoas_km2</th>\n      <th>error</th>\n    </tr>\n  </thead>\n  <tbody>\n    <tr>\n      <th>219</th>\n      <td>49701737</td>\n      <td>312095</td>\n      <td>1185</td>\n      <td>79939</td>\n      <td>2050</td>\n      <td>530262</td>\n      <td>388</td>\n      <td>5466</td>\n      <td>7.758240e+07</td>\n    </tr>\n    <tr>\n      <th>433</th>\n      <td>21242743</td>\n      <td>173756</td>\n      <td>938</td>\n      <td>40704</td>\n      <td>473</td>\n      <td>236910</td>\n      <td>104</td>\n      <td>1215</td>\n      <td>4.035582e+07</td>\n    </tr>\n    <tr>\n      <th>218</th>\n      <td>164135303</td>\n      <td>312074</td>\n      <td>1185</td>\n      <td>79984</td>\n      <td>2055</td>\n      <td>516364</td>\n      <td>382</td>\n      <td>5466</td>\n      <td>3.706299e+07</td>\n    </tr>\n    <tr>\n      <th>373</th>\n      <td>25851440</td>\n      <td>139500</td>\n      <td>707</td>\n      <td>34819</td>\n      <td>997</td>\n      <td>288380</td>\n      <td>92</td>\n      <td>5753</td>\n      <td>3.085388e+07</td>\n    </tr>\n    <tr>\n      <th>372</th>\n      <td>81748684</td>\n      <td>139499</td>\n      <td>707</td>\n      <td>34810</td>\n      <td>1000</td>\n      <td>286406</td>\n      <td>82</td>\n      <td>5753</td>\n      <td>2.511211e+07</td>\n    </tr>\n    <tr>\n      <th>507</th>\n      <td>20742447</td>\n      <td>138873</td>\n      <td>1181</td>\n      <td>22422</td>\n      <td>1005</td>\n      <td>245714</td>\n      <td>120</td>\n      <td>1821</td>\n      <td>2.432439e+07</td>\n    </tr>\n    <tr>\n      <th>31</th>\n      <td>11622919</td>\n      <td>96690</td>\n      <td>531</td>\n      <td>18709</td>\n      <td>572</td>\n      <td>171990</td>\n      <td>84</td>\n      <td>2544</td>\n      <td>2.198287e+07</td>\n    </tr>\n    <tr>\n      <th>223</th>\n      <td>11978360</td>\n      <td>89988</td>\n      <td>563</td>\n      <td>19734</td>\n      <td>526</td>\n      <td>168622</td>\n      <td>122</td>\n      <td>1215</td>\n      <td>2.137236e+07</td>\n    </tr>\n    <tr>\n      <th>99</th>\n      <td>13249506</td>\n      <td>86590</td>\n      <td>797</td>\n      <td>18398</td>\n      <td>937</td>\n      <td>144366</td>\n      <td>110</td>\n      <td>1071</td>\n      <td>2.012195e+07</td>\n    </tr>\n    <tr>\n      <th>47</th>\n      <td>8554055</td>\n      <td>81435</td>\n      <td>256</td>\n      <td>16812</td>\n      <td>334</td>\n      <td>122264</td>\n      <td>54</td>\n      <td>7310</td>\n      <td>1.950238e+07</td>\n    </tr>\n    <tr>\n      <th>121</th>\n      <td>17236846</td>\n      <td>107338</td>\n      <td>622</td>\n      <td>19609</td>\n      <td>538</td>\n      <td>198438</td>\n      <td>210</td>\n      <td>2196</td>\n      <td>1.915828e+07</td>\n    </tr>\n    <tr>\n      <th>506</th>\n      <td>63968986</td>\n      <td>138805</td>\n      <td>1181</td>\n      <td>22422</td>\n      <td>1009</td>\n      <td>241612</td>\n      <td>108</td>\n      <td>1821</td>\n      <td>1.901327e+07</td>\n    </tr>\n    <tr>\n      <th>311</th>\n      <td>11382482</td>\n      <td>84687</td>\n      <td>451</td>\n      <td>17518</td>\n      <td>396</td>\n      <td>133132</td>\n      <td>184</td>\n      <td>3755</td>\n      <td>1.849431e+07</td>\n    </tr>\n    <tr>\n      <th>120</th>\n      <td>53441216</td>\n      <td>107344</td>\n      <td>622</td>\n      <td>19595</td>\n      <td>538</td>\n      <td>194550</td>\n      <td>204</td>\n      <td>2196</td>\n      <td>1.715289e+07</td>\n    </tr>\n    <tr>\n      <th>145</th>\n      <td>11164852</td>\n      <td>76144</td>\n      <td>684</td>\n      <td>17325</td>\n      <td>435</td>\n      <td>152224</td>\n      <td>56</td>\n      <td>445</td>\n      <td>1.705949e+07</td>\n    </tr>\n    <tr>\n      <th>425</th>\n      <td>7767111</td>\n      <td>59241</td>\n      <td>506</td>\n      <td>15621</td>\n      <td>417</td>\n      <td>132912</td>\n      <td>70</td>\n      <td>533</td>\n      <td>1.678309e+07</td>\n    </tr>\n    <tr>\n      <th>415</th>\n      <td>9624753</td>\n      <td>79148</td>\n      <td>442</td>\n      <td>13358</td>\n      <td>545</td>\n      <td>139966</td>\n      <td>50</td>\n      <td>1770</td>\n      <td>1.659512e+07</td>\n    </tr>\n    <tr>\n      <th>497</th>\n      <td>7364371</td>\n      <td>61973</td>\n      <td>404</td>\n      <td>15727</td>\n      <td>240</td>\n      <td>108196</td>\n      <td>36</td>\n      <td>433</td>\n      <td>1.615991e+07</td>\n    </tr>\n    <tr>\n      <th>247</th>\n      <td>12593332</td>\n      <td>79966</td>\n      <td>549</td>\n      <td>16672</td>\n      <td>478</td>\n      <td>139872</td>\n      <td>64</td>\n      <td>2814</td>\n      <td>1.589242e+07</td>\n    </tr>\n    <tr>\n      <th>309</th>\n      <td>7660027</td>\n      <td>68051</td>\n      <td>330</td>\n      <td>13646</td>\n      <td>217</td>\n      <td>125768</td>\n      <td>66</td>\n      <td>5642</td>\n      <td>1.534978e+07</td>\n    </tr>\n  </tbody>\n</table>\n</div>"
     },
     "execution_count": 9,
     "metadata": {},
     "output_type": "execute_result"
    }
   ],
   "execution_count": 9
  },
  {
   "cell_type": "markdown",
   "source": [
    "## Dataset normalizado"
   ],
   "metadata": {
    "collapsed": false
   },
   "id": "dac6942f9b4ab2fb"
  },
  {
   "cell_type": "code",
   "outputs": [],
   "source": [
    "## Importar dataset treino normalizado\n",
    "trainn_path = data_path + 'treated/prepared/numeric/normalized/train/dataset-numeric-low-tensions-2223-no-dates-decimal.csv'\n",
    "\n",
    "train_n_df = pd.read_csv(trainn_path)\n",
    "\n",
    "## Importar dataset teste normalizado\n",
    "testnn_path = data_path + 'treated/prepared/numeric/normalized/test/dataset-numeric-low-tensions-2024-no-dates-decimal.csv'\n",
    "\n",
    "test_n_df = pd.read_csv(testnn_path)"
   ],
   "metadata": {
    "collapsed": false,
    "ExecuteTime": {
     "end_time": "2024-05-17T09:06:55.853846Z",
     "start_time": "2024-05-17T09:06:55.848844Z"
    }
   },
   "id": "586000b9a8a4df2c",
   "execution_count": 10
  },
  {
   "cell_type": "code",
   "outputs": [],
   "source": [
    "normalized_regressors = {\n",
    "    'Linear Regression': LinearRegression(),\n",
    "    'Ridge': Ridge(alpha=1.0, solver='auto'),\n",
    "    'Lasso': Lasso(alpha=1.0), \n",
    "    'ElasticNet': ElasticNet(alpha=1.0, l1_ratio=0.5),\n",
    "    'k-NN': KNeighborsRegressor(n_neighbors=5),\n",
    "    'Decision Tree': DecisionTreeRegressor(),\n",
    "    'Random Forest': RandomForestRegressor(n_estimators=100),\n",
    "    'SVM': SVR(kernel='linear', max_iter=1000000000),\n",
    "    'MLP': MLPRegressor(hidden_layer_sizes=(8,4), max_iter=200000)\n",
    "}"
   ],
   "metadata": {
    "collapsed": false,
    "ExecuteTime": {
     "end_time": "2024-05-17T09:06:55.857556Z",
     "start_time": "2024-05-17T09:06:55.854673Z"
    }
   },
   "id": "ecc59094ffafea45",
   "execution_count": 11
  },
  {
   "cell_type": "code",
   "outputs": [
    {
     "data": {
      "text/plain": "Linear Regression     0.944744\nRidge                 0.946044\nLasso                -0.016974\nElasticNet           -0.016974\nk-NN                  0.860837\nDecision Tree         0.920717\nRandom Forest         0.928284\nSVM                 -59.609186\nMLP                  -2.245113\ndtype: float64"
     },
     "execution_count": 12,
     "metadata": {},
     "output_type": "execute_result"
    }
   ],
   "source": [
    "cv_scores_n = pd.Series({\n",
    "    name: np.mean(cross_val_score(regressor, train_n_df.drop(columns=['energia_ativa_baixa_tensao_kwh']), train_n_df['energia_ativa_baixa_tensao_kwh'], cv=5))\n",
    "    for name, regressor in normalized_regressors.items()\n",
    "})\n",
    "\n",
    "cv_scores_n"
   ],
   "metadata": {
    "collapsed": false,
    "ExecuteTime": {
     "end_time": "2024-05-17T09:07:01.935073Z",
     "start_time": "2024-05-17T09:06:55.858050Z"
    }
   },
   "id": "a6bfdb599f948d85",
   "execution_count": 12
  },
  {
   "cell_type": "code",
   "outputs": [
    {
     "name": "stdout",
     "output_type": "stream",
     "text": [
      "### Ridge ###\n",
      "r2: 0.6385361380542611\n",
      "mse: 4.416394777056085e-05\n",
      "mae: 0.0029059619239669983\n"
     ]
    }
   ],
   "source": [
    "best = cv_scores_n.sort_values(ascending=False).index[0]\n",
    "best_regressor_normalized = normalized_regressors[best]\n",
    "best_regressor_normalized.fit(train_n_df.drop(columns=['energia_ativa_baixa_tensao_kwh']), train_n_df['energia_ativa_baixa_tensao_kwh'])\n",
    "\n",
    "print(f'### {best} ###')\n",
    "\n",
    "y_pred = best_regressor_normalized.predict(test_n_df.drop(columns=['energia_ativa_baixa_tensao_kwh']))\n",
    "\n",
    "print('r2: {}'.format(r2_score(test_n_df['energia_ativa_baixa_tensao_kwh'], y_pred)))\n",
    "print('mse: {}'.format(mean_squared_error(test_n_df['energia_ativa_baixa_tensao_kwh'], y_pred)))\n",
    "print('mae: {}'.format(mean_absolute_error(test_n_df['energia_ativa_baixa_tensao_kwh'], y_pred)))"
   ],
   "metadata": {
    "collapsed": false,
    "ExecuteTime": {
     "end_time": "2024-05-17T09:07:01.940934Z",
     "start_time": "2024-05-17T09:07:01.938898Z"
    }
   },
   "id": "974143e98b35931c",
   "execution_count": 13
  },
  {
   "cell_type": "markdown",
   "source": [
    "### Ordenar os exemplos do conjunto de teste por ordem decrescente do erro da previsão do regressor e verificar se existe algum padrão relevante. \n"
   ],
   "metadata": {
    "collapsed": false
   },
   "id": "d494a1a946972257"
  },
  {
   "cell_type": "code",
   "outputs": [
    {
     "data": {
      "text/plain": "     energia_ativa_baixa_tensao_kwh  cpes_domestico_baixa_tensao  \\\n219                        0.049702                     0.312095   \n433                        0.021243                     0.173756   \n373                        0.025851                     0.139500   \n218                        0.164135                     0.312074   \n507                        0.020742                     0.138873   \n223                        0.011978                     0.089988   \n121                        0.017237                     0.107338   \n31                         0.011623                     0.096690   \n311                        0.011382                     0.084687   \n99                         0.013250                     0.086590   \n47                         0.008554                     0.081435   \n372                        0.081749                     0.139499   \n425                        0.007767                     0.059241   \n145                        0.011165                     0.076144   \n309                        0.007660                     0.068051   \n247                        0.012593                     0.079966   \n217                        0.010559                     0.065809   \n415                        0.009625                     0.079148   \n497                        0.007364                     0.061973   \n205                        0.010625                     0.064007   \n\n     cpes_iluminacao_publica_baixa_tensao  cpes_nao_domestico_baixa_tensao  \\\n219                                0.1185                          0.79939   \n433                                0.0938                          0.40704   \n373                                0.0707                          0.34819   \n218                                0.1185                          0.79984   \n507                                0.1181                          0.22422   \n223                                0.0563                          0.19734   \n121                                0.0622                          0.19609   \n31                                 0.0531                          0.18709   \n311                                0.0451                          0.17518   \n99                                 0.0797                          0.18398   \n47                                 0.0256                          0.16812   \n372                                0.0707                          0.34810   \n425                                0.0506                          0.15621   \n145                                0.0684                          0.17325   \n309                                0.0330                          0.13646   \n247                                0.0549                          0.16672   \n217                                0.0938                          0.15849   \n415                                0.0442                          0.13358   \n497                                0.0404                          0.15727   \n205                                0.0809                          0.13653   \n\n     cpes_outros_baixa_tensao  cpes_mobilidade_eletrica_nao_baixa_tensao  \\\n219                    0.2050                                   0.530262   \n433                    0.0473                                   0.236910   \n373                    0.0997                                   0.288380   \n218                    0.2055                                   0.516364   \n507                    0.1005                                   0.245714   \n223                    0.0526                                   0.168622   \n121                    0.0538                                   0.198438   \n31                     0.0572                                   0.171990   \n311                    0.0396                                   0.133132   \n99                     0.0937                                   0.144366   \n47                     0.0334                                   0.122264   \n372                    0.1000                                   0.286406   \n425                    0.0417                                   0.132912   \n145                    0.0435                                   0.152224   \n309                    0.0217                                   0.125768   \n247                    0.0478                                   0.139872   \n217                    0.0422                                   0.127276   \n415                    0.0545                                   0.139966   \n497                    0.0240                                   0.108196   \n205                    0.0566                                   0.120754   \n\n     cpes_mobilidade_eletrica_sim_baixa_tensao  \\\n219                                      0.388   \n433                                      0.104   \n373                                      0.092   \n218                                      0.382   \n507                                      0.120   \n223                                      0.122   \n121                                      0.210   \n31                                       0.084   \n311                                      0.184   \n99                                       0.110   \n47                                       0.054   \n372                                      0.082   \n425                                      0.070   \n145                                      0.056   \n309                                      0.066   \n247                                      0.064   \n217                                      0.050   \n415                                      0.050   \n497                                      0.036   \n205                                      0.108   \n\n     densidade_populacional_pessoas_km2     error  \n219                              0.5466  0.083182  \n433                              0.1215  0.040439  \n373                              0.5753  0.034870  \n218                              0.5466  0.032060  \n507                              0.1821  0.027135  \n223                              0.1215  0.024218  \n121                              0.2196  0.024137  \n31                               0.2544  0.023698  \n311                              0.3755  0.022971  \n99                               0.1071  0.022118  \n47                               0.7310  0.021664  \n372                              0.5753  0.021406  \n425                              0.0533  0.019474  \n145                              0.0445  0.019290  \n309                              0.5642  0.018765  \n247                              0.2814  0.017903  \n217                              0.0231  0.017247  \n415                              0.1770  0.017049  \n497                              0.0433  0.016926  \n205                              0.0649  0.016882  ",
      "text/html": "<div>\n<style scoped>\n    .dataframe tbody tr th:only-of-type {\n        vertical-align: middle;\n    }\n\n    .dataframe tbody tr th {\n        vertical-align: top;\n    }\n\n    .dataframe thead th {\n        text-align: right;\n    }\n</style>\n<table border=\"1\" class=\"dataframe\">\n  <thead>\n    <tr style=\"text-align: right;\">\n      <th></th>\n      <th>energia_ativa_baixa_tensao_kwh</th>\n      <th>cpes_domestico_baixa_tensao</th>\n      <th>cpes_iluminacao_publica_baixa_tensao</th>\n      <th>cpes_nao_domestico_baixa_tensao</th>\n      <th>cpes_outros_baixa_tensao</th>\n      <th>cpes_mobilidade_eletrica_nao_baixa_tensao</th>\n      <th>cpes_mobilidade_eletrica_sim_baixa_tensao</th>\n      <th>densidade_populacional_pessoas_km2</th>\n      <th>error</th>\n    </tr>\n  </thead>\n  <tbody>\n    <tr>\n      <th>219</th>\n      <td>0.049702</td>\n      <td>0.312095</td>\n      <td>0.1185</td>\n      <td>0.79939</td>\n      <td>0.2050</td>\n      <td>0.530262</td>\n      <td>0.388</td>\n      <td>0.5466</td>\n      <td>0.083182</td>\n    </tr>\n    <tr>\n      <th>433</th>\n      <td>0.021243</td>\n      <td>0.173756</td>\n      <td>0.0938</td>\n      <td>0.40704</td>\n      <td>0.0473</td>\n      <td>0.236910</td>\n      <td>0.104</td>\n      <td>0.1215</td>\n      <td>0.040439</td>\n    </tr>\n    <tr>\n      <th>373</th>\n      <td>0.025851</td>\n      <td>0.139500</td>\n      <td>0.0707</td>\n      <td>0.34819</td>\n      <td>0.0997</td>\n      <td>0.288380</td>\n      <td>0.092</td>\n      <td>0.5753</td>\n      <td>0.034870</td>\n    </tr>\n    <tr>\n      <th>218</th>\n      <td>0.164135</td>\n      <td>0.312074</td>\n      <td>0.1185</td>\n      <td>0.79984</td>\n      <td>0.2055</td>\n      <td>0.516364</td>\n      <td>0.382</td>\n      <td>0.5466</td>\n      <td>0.032060</td>\n    </tr>\n    <tr>\n      <th>507</th>\n      <td>0.020742</td>\n      <td>0.138873</td>\n      <td>0.1181</td>\n      <td>0.22422</td>\n      <td>0.1005</td>\n      <td>0.245714</td>\n      <td>0.120</td>\n      <td>0.1821</td>\n      <td>0.027135</td>\n    </tr>\n    <tr>\n      <th>223</th>\n      <td>0.011978</td>\n      <td>0.089988</td>\n      <td>0.0563</td>\n      <td>0.19734</td>\n      <td>0.0526</td>\n      <td>0.168622</td>\n      <td>0.122</td>\n      <td>0.1215</td>\n      <td>0.024218</td>\n    </tr>\n    <tr>\n      <th>121</th>\n      <td>0.017237</td>\n      <td>0.107338</td>\n      <td>0.0622</td>\n      <td>0.19609</td>\n      <td>0.0538</td>\n      <td>0.198438</td>\n      <td>0.210</td>\n      <td>0.2196</td>\n      <td>0.024137</td>\n    </tr>\n    <tr>\n      <th>31</th>\n      <td>0.011623</td>\n      <td>0.096690</td>\n      <td>0.0531</td>\n      <td>0.18709</td>\n      <td>0.0572</td>\n      <td>0.171990</td>\n      <td>0.084</td>\n      <td>0.2544</td>\n      <td>0.023698</td>\n    </tr>\n    <tr>\n      <th>311</th>\n      <td>0.011382</td>\n      <td>0.084687</td>\n      <td>0.0451</td>\n      <td>0.17518</td>\n      <td>0.0396</td>\n      <td>0.133132</td>\n      <td>0.184</td>\n      <td>0.3755</td>\n      <td>0.022971</td>\n    </tr>\n    <tr>\n      <th>99</th>\n      <td>0.013250</td>\n      <td>0.086590</td>\n      <td>0.0797</td>\n      <td>0.18398</td>\n      <td>0.0937</td>\n      <td>0.144366</td>\n      <td>0.110</td>\n      <td>0.1071</td>\n      <td>0.022118</td>\n    </tr>\n    <tr>\n      <th>47</th>\n      <td>0.008554</td>\n      <td>0.081435</td>\n      <td>0.0256</td>\n      <td>0.16812</td>\n      <td>0.0334</td>\n      <td>0.122264</td>\n      <td>0.054</td>\n      <td>0.7310</td>\n      <td>0.021664</td>\n    </tr>\n    <tr>\n      <th>372</th>\n      <td>0.081749</td>\n      <td>0.139499</td>\n      <td>0.0707</td>\n      <td>0.34810</td>\n      <td>0.1000</td>\n      <td>0.286406</td>\n      <td>0.082</td>\n      <td>0.5753</td>\n      <td>0.021406</td>\n    </tr>\n    <tr>\n      <th>425</th>\n      <td>0.007767</td>\n      <td>0.059241</td>\n      <td>0.0506</td>\n      <td>0.15621</td>\n      <td>0.0417</td>\n      <td>0.132912</td>\n      <td>0.070</td>\n      <td>0.0533</td>\n      <td>0.019474</td>\n    </tr>\n    <tr>\n      <th>145</th>\n      <td>0.011165</td>\n      <td>0.076144</td>\n      <td>0.0684</td>\n      <td>0.17325</td>\n      <td>0.0435</td>\n      <td>0.152224</td>\n      <td>0.056</td>\n      <td>0.0445</td>\n      <td>0.019290</td>\n    </tr>\n    <tr>\n      <th>309</th>\n      <td>0.007660</td>\n      <td>0.068051</td>\n      <td>0.0330</td>\n      <td>0.13646</td>\n      <td>0.0217</td>\n      <td>0.125768</td>\n      <td>0.066</td>\n      <td>0.5642</td>\n      <td>0.018765</td>\n    </tr>\n    <tr>\n      <th>247</th>\n      <td>0.012593</td>\n      <td>0.079966</td>\n      <td>0.0549</td>\n      <td>0.16672</td>\n      <td>0.0478</td>\n      <td>0.139872</td>\n      <td>0.064</td>\n      <td>0.2814</td>\n      <td>0.017903</td>\n    </tr>\n    <tr>\n      <th>217</th>\n      <td>0.010559</td>\n      <td>0.065809</td>\n      <td>0.0938</td>\n      <td>0.15849</td>\n      <td>0.0422</td>\n      <td>0.127276</td>\n      <td>0.050</td>\n      <td>0.0231</td>\n      <td>0.017247</td>\n    </tr>\n    <tr>\n      <th>415</th>\n      <td>0.009625</td>\n      <td>0.079148</td>\n      <td>0.0442</td>\n      <td>0.13358</td>\n      <td>0.0545</td>\n      <td>0.139966</td>\n      <td>0.050</td>\n      <td>0.1770</td>\n      <td>0.017049</td>\n    </tr>\n    <tr>\n      <th>497</th>\n      <td>0.007364</td>\n      <td>0.061973</td>\n      <td>0.0404</td>\n      <td>0.15727</td>\n      <td>0.0240</td>\n      <td>0.108196</td>\n      <td>0.036</td>\n      <td>0.0433</td>\n      <td>0.016926</td>\n    </tr>\n    <tr>\n      <th>205</th>\n      <td>0.010625</td>\n      <td>0.064007</td>\n      <td>0.0809</td>\n      <td>0.13653</td>\n      <td>0.0566</td>\n      <td>0.120754</td>\n      <td>0.108</td>\n      <td>0.0649</td>\n      <td>0.016882</td>\n    </tr>\n  </tbody>\n</table>\n</div>"
     },
     "execution_count": 14,
     "metadata": {},
     "output_type": "execute_result"
    }
   ],
   "source": [
    "df_error = test_n_df.copy()\n",
    "df_error['error'] = np.abs(df_error['energia_ativa_baixa_tensao_kwh'] - y_pred)\n",
    "\n",
    "df_error.sort_values('error', ascending=False).head(20)"
   ],
   "metadata": {
    "collapsed": false,
    "ExecuteTime": {
     "end_time": "2024-05-17T09:07:01.949285Z",
     "start_time": "2024-05-17T09:07:01.941413Z"
    }
   },
   "id": "5aaac483a70ad0b9",
   "execution_count": 14
  }
 ],
 "metadata": {
  "kernelspec": {
   "display_name": "Python 3",
   "language": "python",
   "name": "python3"
  },
  "language_info": {
   "codemirror_mode": {
    "name": "ipython",
    "version": 2
   },
   "file_extension": ".py",
   "mimetype": "text/x-python",
   "name": "python",
   "nbconvert_exporter": "python",
   "pygments_lexer": "ipython2",
   "version": "2.7.6"
  }
 },
 "nbformat": 4,
 "nbformat_minor": 5
}
