{
 "cells": [
  {
   "cell_type": "markdown",
   "source": [
    "### Import das dependências"
   ],
   "metadata": {
    "collapsed": false
   },
   "id": "7fd1c470a1293882"
  },
  {
   "cell_type": "code",
   "outputs": [],
   "source": [
    "import os\n",
    "\n",
    "import numpy as np\n",
    "import pandas as pd\n",
    "\n",
    "%matplotlib inline\n",
    "import matplotlib.pyplot as plt\n",
    "import seaborn as sns\n",
    "\n",
    "sns.set_theme()"
   ],
   "metadata": {
    "collapsed": false,
    "ExecuteTime": {
     "end_time": "2024-04-04T15:38:49.057002Z",
     "start_time": "2024-04-04T15:38:49.034385Z"
    }
   },
   "id": "88a623702cdbc8cb",
   "execution_count": 21
  },
  {
   "cell_type": "markdown",
   "source": [
    "### 1. Importar o dataset - \"Número de ordens de serviço remotas realizadas\""
   ],
   "metadata": {
    "collapsed": false
   },
   "id": "8d7f523ee4c90181"
  },
  {
   "cell_type": "code",
   "outputs": [],
   "source": [
    "data_path = '../data/' if os.path.exists('../data/') else 'https://raw.githubusercontent.com/kreativermario/Projeto-DECD/master/data/'\n",
    "\n",
    "ordens_servico_path = data_path + '15-ordens-de-servico.csv'\n",
    "\n",
    "df_ordens_servico = pd.read_csv(ordens_servico_path, delimiter=';')"
   ],
   "metadata": {
    "collapsed": false,
    "ExecuteTime": {
     "end_time": "2024-04-04T15:38:49.224724Z",
     "start_time": "2024-04-04T15:38:49.059887Z"
    }
   },
   "id": "7a5a7f0fcc76ecd6",
   "execution_count": 22
  },
  {
   "cell_type": "markdown",
   "source": [
    "### 2. Ver o dataset"
   ],
   "metadata": {
    "collapsed": false
   },
   "id": "d7d990145b24ab65"
  },
  {
   "cell_type": "code",
   "outputs": [
    {
     "name": "stdout",
     "output_type": "stream",
     "text": [
      "<class 'pandas.core.frame.DataFrame'>\n",
      "RangeIndex: 194181 entries, 0 to 194180\n",
      "Data columns (total 9 columns):\n",
      " #   Column                         Non-Null Count   Dtype \n",
      "---  ------                         --------------   ----- \n",
      " 0   Ano                            194181 non-null  int64 \n",
      " 1   Mes                            194181 non-null  int64 \n",
      " 2   data                           194181 non-null  object\n",
      " 3   Distrito                       194181 non-null  object\n",
      " 4   Concelho                       194181 non-null  object\n",
      " 5   Freguesia                      194181 non-null  object\n",
      " 6   Tipo de Serviço                194181 non-null  object\n",
      " 7   Ordens Serviço Realizadas (#)  194181 non-null  int64 \n",
      " 8   CodDistritoConcelhoFreguesia   194181 non-null  object\n",
      "dtypes: int64(3), object(6)\n",
      "memory usage: 13.3+ MB\n"
     ]
    }
   ],
   "source": [
    "df_ordens_servico.info()"
   ],
   "metadata": {
    "collapsed": false,
    "ExecuteTime": {
     "end_time": "2024-04-04T15:38:49.253741Z",
     "start_time": "2024-04-04T15:38:49.247771Z"
    }
   },
   "id": "8114e77625efeb74",
   "execution_count": 23
  },
  {
   "cell_type": "markdown",
   "source": [
    "1. Verificar se há elementos null"
   ],
   "metadata": {
    "collapsed": false
   },
   "id": "37f5fbf0408f4b4c"
  },
  {
   "cell_type": "code",
   "outputs": [
    {
     "name": "stdout",
     "output_type": "stream",
     "text": [
      "Número de nulls por coluna:\n",
      "Ano                              0\n",
      "Mes                              0\n",
      "data                             0\n",
      "Distrito                         0\n",
      "Concelho                         0\n",
      "Freguesia                        0\n",
      "Tipo de Serviço                  0\n",
      "Ordens Serviço Realizadas (#)    0\n",
      "CodDistritoConcelhoFreguesia     0\n",
      "dtype: int64\n"
     ]
    },
    {
     "data": {
      "text/plain": "     Ano  Mes     data Distrito              Concelho  \\\n0   2022    8  2022-08  Coimbra                 Soure   \n1   2022    8  2022-08  Coimbra                 Tábua   \n2   2022    8  2022-08  Coimbra  Vila Nova de Poiares   \n3   2022    8  2022-08  Coimbra  Vila Nova de Poiares   \n4   2022    8  2022-08  Coimbra  Vila Nova de Poiares   \n5   2022    8  2022-08     Faro             Albufeira   \n6   2022    8  2022-08     Faro             Albufeira   \n7   2022    8  2022-08     Faro              Alcoutim   \n8   2022    8  2022-08     Faro               Aljezur   \n9   2022    8  2022-08     Faro               Aljezur   \n10  2022    8  2022-08     Faro          Castro Marim   \n11  2022    8  2022-08     Faro          Castro Marim   \n12  2022    9  2022-09    Braga   Cabeceiras de Basto   \n13  2022    9  2022-09    Braga   Cabeceiras de Basto   \n14  2022    9  2022-09    Braga   Cabeceiras de Basto   \n\n                                            Freguesia  \\\n0                                               Soure   \n1   União das freguesias de Covas e Vila Nova de O...   \n2                                            Arrifana   \n3                               Poiares (Santo André)   \n4                               São Miguel de Poiares   \n5                                                Guia   \n6                                                Guia   \n7          União das freguesias de Alcoutim e Pereiro   \n8                                             Aljezur   \n9                                               Rogil   \n10                                             Altura   \n11                                       Castro Marim   \n12                                Cabeceiras de Basto   \n13                                              Cavez   \n14                                              Cavez   \n\n                     Tipo de Serviço  Ordens Serviço Realizadas (#)  \\\n0     Redução de Potência Contratada                             51   \n1                Configuração de EMI                              1   \n2   Reposição de Potência Contratada                              1   \n3      Serviço de Corte e Re-Ligação                              6   \n4   Reposição de Potência Contratada                              1   \n5     Redução de Potência Contratada                              4   \n6   Reposição de Potência Contratada                              6   \n7      Serviço de Corte e Re-Ligação                              4   \n8      Serviço de Corte e Re-Ligação                              7   \n9     Redução de Potência Contratada                              2   \n10     Serviço de Corte e Re-Ligação                              1   \n11  Reposição de Potência Contratada                              8   \n12  Reposição de Potência Contratada                              1   \n13  Reposição de Potência Contratada                              2   \n14     Serviço de Corte e Re-Ligação                              1   \n\n   CodDistritoConcelhoFreguesia  \n0                        061509  \n1                        061617  \n2                        061701  \n3                        061703  \n4                        061704  \n5                        080102  \n6                        080102  \n7                        080206  \n8                        080301  \n9                        080304  \n10                       080404  \n11                       080402  \n12                       030406  \n13                       030407  \n14                       030407  ",
      "text/html": "<div>\n<style scoped>\n    .dataframe tbody tr th:only-of-type {\n        vertical-align: middle;\n    }\n\n    .dataframe tbody tr th {\n        vertical-align: top;\n    }\n\n    .dataframe thead th {\n        text-align: right;\n    }\n</style>\n<table border=\"1\" class=\"dataframe\">\n  <thead>\n    <tr style=\"text-align: right;\">\n      <th></th>\n      <th>Ano</th>\n      <th>Mes</th>\n      <th>data</th>\n      <th>Distrito</th>\n      <th>Concelho</th>\n      <th>Freguesia</th>\n      <th>Tipo de Serviço</th>\n      <th>Ordens Serviço Realizadas (#)</th>\n      <th>CodDistritoConcelhoFreguesia</th>\n    </tr>\n  </thead>\n  <tbody>\n    <tr>\n      <th>0</th>\n      <td>2022</td>\n      <td>8</td>\n      <td>2022-08</td>\n      <td>Coimbra</td>\n      <td>Soure</td>\n      <td>Soure</td>\n      <td>Redução de Potência Contratada</td>\n      <td>51</td>\n      <td>061509</td>\n    </tr>\n    <tr>\n      <th>1</th>\n      <td>2022</td>\n      <td>8</td>\n      <td>2022-08</td>\n      <td>Coimbra</td>\n      <td>Tábua</td>\n      <td>União das freguesias de Covas e Vila Nova de O...</td>\n      <td>Configuração de EMI</td>\n      <td>1</td>\n      <td>061617</td>\n    </tr>\n    <tr>\n      <th>2</th>\n      <td>2022</td>\n      <td>8</td>\n      <td>2022-08</td>\n      <td>Coimbra</td>\n      <td>Vila Nova de Poiares</td>\n      <td>Arrifana</td>\n      <td>Reposição de Potência Contratada</td>\n      <td>1</td>\n      <td>061701</td>\n    </tr>\n    <tr>\n      <th>3</th>\n      <td>2022</td>\n      <td>8</td>\n      <td>2022-08</td>\n      <td>Coimbra</td>\n      <td>Vila Nova de Poiares</td>\n      <td>Poiares (Santo André)</td>\n      <td>Serviço de Corte e Re-Ligação</td>\n      <td>6</td>\n      <td>061703</td>\n    </tr>\n    <tr>\n      <th>4</th>\n      <td>2022</td>\n      <td>8</td>\n      <td>2022-08</td>\n      <td>Coimbra</td>\n      <td>Vila Nova de Poiares</td>\n      <td>São Miguel de Poiares</td>\n      <td>Reposição de Potência Contratada</td>\n      <td>1</td>\n      <td>061704</td>\n    </tr>\n    <tr>\n      <th>5</th>\n      <td>2022</td>\n      <td>8</td>\n      <td>2022-08</td>\n      <td>Faro</td>\n      <td>Albufeira</td>\n      <td>Guia</td>\n      <td>Redução de Potência Contratada</td>\n      <td>4</td>\n      <td>080102</td>\n    </tr>\n    <tr>\n      <th>6</th>\n      <td>2022</td>\n      <td>8</td>\n      <td>2022-08</td>\n      <td>Faro</td>\n      <td>Albufeira</td>\n      <td>Guia</td>\n      <td>Reposição de Potência Contratada</td>\n      <td>6</td>\n      <td>080102</td>\n    </tr>\n    <tr>\n      <th>7</th>\n      <td>2022</td>\n      <td>8</td>\n      <td>2022-08</td>\n      <td>Faro</td>\n      <td>Alcoutim</td>\n      <td>União das freguesias de Alcoutim e Pereiro</td>\n      <td>Serviço de Corte e Re-Ligação</td>\n      <td>4</td>\n      <td>080206</td>\n    </tr>\n    <tr>\n      <th>8</th>\n      <td>2022</td>\n      <td>8</td>\n      <td>2022-08</td>\n      <td>Faro</td>\n      <td>Aljezur</td>\n      <td>Aljezur</td>\n      <td>Serviço de Corte e Re-Ligação</td>\n      <td>7</td>\n      <td>080301</td>\n    </tr>\n    <tr>\n      <th>9</th>\n      <td>2022</td>\n      <td>8</td>\n      <td>2022-08</td>\n      <td>Faro</td>\n      <td>Aljezur</td>\n      <td>Rogil</td>\n      <td>Redução de Potência Contratada</td>\n      <td>2</td>\n      <td>080304</td>\n    </tr>\n    <tr>\n      <th>10</th>\n      <td>2022</td>\n      <td>8</td>\n      <td>2022-08</td>\n      <td>Faro</td>\n      <td>Castro Marim</td>\n      <td>Altura</td>\n      <td>Serviço de Corte e Re-Ligação</td>\n      <td>1</td>\n      <td>080404</td>\n    </tr>\n    <tr>\n      <th>11</th>\n      <td>2022</td>\n      <td>8</td>\n      <td>2022-08</td>\n      <td>Faro</td>\n      <td>Castro Marim</td>\n      <td>Castro Marim</td>\n      <td>Reposição de Potência Contratada</td>\n      <td>8</td>\n      <td>080402</td>\n    </tr>\n    <tr>\n      <th>12</th>\n      <td>2022</td>\n      <td>9</td>\n      <td>2022-09</td>\n      <td>Braga</td>\n      <td>Cabeceiras de Basto</td>\n      <td>Cabeceiras de Basto</td>\n      <td>Reposição de Potência Contratada</td>\n      <td>1</td>\n      <td>030406</td>\n    </tr>\n    <tr>\n      <th>13</th>\n      <td>2022</td>\n      <td>9</td>\n      <td>2022-09</td>\n      <td>Braga</td>\n      <td>Cabeceiras de Basto</td>\n      <td>Cavez</td>\n      <td>Reposição de Potência Contratada</td>\n      <td>2</td>\n      <td>030407</td>\n    </tr>\n    <tr>\n      <th>14</th>\n      <td>2022</td>\n      <td>9</td>\n      <td>2022-09</td>\n      <td>Braga</td>\n      <td>Cabeceiras de Basto</td>\n      <td>Cavez</td>\n      <td>Serviço de Corte e Re-Ligação</td>\n      <td>1</td>\n      <td>030407</td>\n    </tr>\n  </tbody>\n</table>\n</div>"
     },
     "execution_count": 24,
     "metadata": {},
     "output_type": "execute_result"
    }
   ],
   "source": [
    "# Verificar nulls\n",
    "null_counts = df_ordens_servico.isnull().sum()\n",
    "\n",
    "# Ver nulls por coluna\n",
    "print(\"Número de nulls por coluna:\")\n",
    "print(null_counts)\n",
    "\n",
    "df_ordens_servico.head(15)"
   ],
   "metadata": {
    "collapsed": false,
    "ExecuteTime": {
     "end_time": "2024-04-04T15:38:49.295812Z",
     "start_time": "2024-04-04T15:38:49.253213Z"
    }
   },
   "id": "81d1f9dbd40458cf",
   "execution_count": 24
  },
  {
   "cell_type": "markdown",
   "source": [
    "### 3. Tratamento e agregação dos dados\n",
    "\n",
    "1. Remover atributos como a data, CodDistritoConcelhoFreguesia\n",
    "2. Agrupar por concelhos e remover a freguesia\n",
    "3. Agrupar por semestres e anos"
   ],
   "metadata": {
    "collapsed": false
   },
   "id": "65f1c687346bfd90"
  },
  {
   "cell_type": "markdown",
   "source": [
    "1. Remover atributos como a data, CodDistritoConcelhoFreguesia"
   ],
   "metadata": {
    "collapsed": false
   },
   "id": "34322137105b376a"
  },
  {
   "cell_type": "code",
   "outputs": [
    {
     "name": "stdout",
     "output_type": "stream",
     "text": [
      "<class 'pandas.core.frame.DataFrame'>\n",
      "RangeIndex: 194181 entries, 0 to 194180\n",
      "Data columns (total 6 columns):\n",
      " #   Column                         Non-Null Count   Dtype \n",
      "---  ------                         --------------   ----- \n",
      " 0   Ano                            194181 non-null  int64 \n",
      " 1   Mes                            194181 non-null  int64 \n",
      " 2   Concelho                       194181 non-null  object\n",
      " 3   Freguesia                      194181 non-null  object\n",
      " 4   Tipo de Serviço                194181 non-null  object\n",
      " 5   Ordens Serviço Realizadas (#)  194181 non-null  int64 \n",
      "dtypes: int64(3), object(3)\n",
      "memory usage: 8.9+ MB\n"
     ]
    }
   ],
   "source": [
    "# Remover atributos como a data e código, distrito\n",
    "df_ordens_servico.drop(columns=['data', 'CodDistritoConcelhoFreguesia', 'Distrito'], inplace=True)\n",
    "df_ordens_servico.info()"
   ],
   "metadata": {
    "collapsed": false,
    "ExecuteTime": {
     "end_time": "2024-04-04T15:38:49.304872Z",
     "start_time": "2024-04-04T15:38:49.283193Z"
    }
   },
   "id": "9f178cb072874c9a",
   "execution_count": 25
  },
  {
   "cell_type": "markdown",
   "source": [
    "2. Agrupar por concelhos e remover a freguesia"
   ],
   "metadata": {
    "collapsed": false
   },
   "id": "f58cfe883fcef7a5"
  },
  {
   "cell_type": "code",
   "outputs": [
    {
     "data": {
      "text/plain": "   Concelho      Tipo de Serviço   Ano  Mes  Ordens Serviço Realizadas (#)\n0  Abrantes  Configuração de EMI  2022    3                              4\n1  Abrantes  Configuração de EMI  2022    4                             15\n2  Abrantes  Configuração de EMI  2022    5                              6\n3  Abrantes  Configuração de EMI  2022    6                             10\n4  Abrantes  Configuração de EMI  2022    7                              8",
      "text/html": "<div>\n<style scoped>\n    .dataframe tbody tr th:only-of-type {\n        vertical-align: middle;\n    }\n\n    .dataframe tbody tr th {\n        vertical-align: top;\n    }\n\n    .dataframe thead th {\n        text-align: right;\n    }\n</style>\n<table border=\"1\" class=\"dataframe\">\n  <thead>\n    <tr style=\"text-align: right;\">\n      <th></th>\n      <th>Concelho</th>\n      <th>Tipo de Serviço</th>\n      <th>Ano</th>\n      <th>Mes</th>\n      <th>Ordens Serviço Realizadas (#)</th>\n    </tr>\n  </thead>\n  <tbody>\n    <tr>\n      <th>0</th>\n      <td>Abrantes</td>\n      <td>Configuração de EMI</td>\n      <td>2022</td>\n      <td>3</td>\n      <td>4</td>\n    </tr>\n    <tr>\n      <th>1</th>\n      <td>Abrantes</td>\n      <td>Configuração de EMI</td>\n      <td>2022</td>\n      <td>4</td>\n      <td>15</td>\n    </tr>\n    <tr>\n      <th>2</th>\n      <td>Abrantes</td>\n      <td>Configuração de EMI</td>\n      <td>2022</td>\n      <td>5</td>\n      <td>6</td>\n    </tr>\n    <tr>\n      <th>3</th>\n      <td>Abrantes</td>\n      <td>Configuração de EMI</td>\n      <td>2022</td>\n      <td>6</td>\n      <td>10</td>\n    </tr>\n    <tr>\n      <th>4</th>\n      <td>Abrantes</td>\n      <td>Configuração de EMI</td>\n      <td>2022</td>\n      <td>7</td>\n      <td>8</td>\n    </tr>\n  </tbody>\n</table>\n</div>"
     },
     "execution_count": 35,
     "metadata": {},
     "output_type": "execute_result"
    }
   ],
   "source": [
    "df_agrupado = df_ordens_servico.groupby(['Concelho', 'Tipo de Serviço', 'Ano', 'Mes']).sum().reset_index()\n",
    "df_agrupado.drop(columns=['Freguesia'], inplace=True)\n",
    "df_agrupado.head()"
   ],
   "metadata": {
    "collapsed": false,
    "ExecuteTime": {
     "end_time": "2024-04-04T15:39:44.940092Z",
     "start_time": "2024-04-04T15:39:44.890093Z"
    }
   },
   "id": "e96025c517850eb5",
   "execution_count": 35
  },
  {
   "cell_type": "markdown",
   "source": [
    "3. Verificar o número de linhas"
   ],
   "metadata": {
    "collapsed": false
   },
   "id": "666c9c7702fa85c1"
  },
  {
   "cell_type": "code",
   "outputs": [
    {
     "name": "stdout",
     "output_type": "stream",
     "text": [
      "Número de linhas antes do agrupamento: 194181\n",
      "Número de linhas depois do agrupamento: 36598\n",
      "<class 'pandas.core.frame.DataFrame'>\n",
      "RangeIndex: 36598 entries, 0 to 36597\n",
      "Data columns (total 5 columns):\n",
      " #   Column                         Non-Null Count  Dtype \n",
      "---  ------                         --------------  ----- \n",
      " 0   Concelho                       36598 non-null  object\n",
      " 1   Tipo de Serviço                36598 non-null  object\n",
      " 2   Ano                            36598 non-null  int64 \n",
      " 3   Mes                            36598 non-null  int64 \n",
      " 4   Ordens Serviço Realizadas (#)  36598 non-null  int64 \n",
      "dtypes: int64(3), object(2)\n",
      "memory usage: 1.4+ MB\n"
     ]
    },
    {
     "data": {
      "text/plain": "    Concelho      Tipo de Serviço   Ano  Mes  Ordens Serviço Realizadas (#)\n0   Abrantes  Configuração de EMI  2022    3                              4\n1   Abrantes  Configuração de EMI  2022    4                             15\n2   Abrantes  Configuração de EMI  2022    5                              6\n3   Abrantes  Configuração de EMI  2022    6                             10\n4   Abrantes  Configuração de EMI  2022    7                              8\n5   Abrantes  Configuração de EMI  2022    8                              6\n6   Abrantes  Configuração de EMI  2022    9                              4\n7   Abrantes  Configuração de EMI  2022   10                             32\n8   Abrantes  Configuração de EMI  2022   11                            268\n9   Abrantes  Configuração de EMI  2022   12                            382\n10  Abrantes  Configuração de EMI  2023    1                            309\n11  Abrantes  Configuração de EMI  2023    2                            727\n12  Abrantes  Configuração de EMI  2023    3                            374\n13  Abrantes  Configuração de EMI  2023    4                            241\n14  Abrantes  Configuração de EMI  2023    5                            388",
      "text/html": "<div>\n<style scoped>\n    .dataframe tbody tr th:only-of-type {\n        vertical-align: middle;\n    }\n\n    .dataframe tbody tr th {\n        vertical-align: top;\n    }\n\n    .dataframe thead th {\n        text-align: right;\n    }\n</style>\n<table border=\"1\" class=\"dataframe\">\n  <thead>\n    <tr style=\"text-align: right;\">\n      <th></th>\n      <th>Concelho</th>\n      <th>Tipo de Serviço</th>\n      <th>Ano</th>\n      <th>Mes</th>\n      <th>Ordens Serviço Realizadas (#)</th>\n    </tr>\n  </thead>\n  <tbody>\n    <tr>\n      <th>0</th>\n      <td>Abrantes</td>\n      <td>Configuração de EMI</td>\n      <td>2022</td>\n      <td>3</td>\n      <td>4</td>\n    </tr>\n    <tr>\n      <th>1</th>\n      <td>Abrantes</td>\n      <td>Configuração de EMI</td>\n      <td>2022</td>\n      <td>4</td>\n      <td>15</td>\n    </tr>\n    <tr>\n      <th>2</th>\n      <td>Abrantes</td>\n      <td>Configuração de EMI</td>\n      <td>2022</td>\n      <td>5</td>\n      <td>6</td>\n    </tr>\n    <tr>\n      <th>3</th>\n      <td>Abrantes</td>\n      <td>Configuração de EMI</td>\n      <td>2022</td>\n      <td>6</td>\n      <td>10</td>\n    </tr>\n    <tr>\n      <th>4</th>\n      <td>Abrantes</td>\n      <td>Configuração de EMI</td>\n      <td>2022</td>\n      <td>7</td>\n      <td>8</td>\n    </tr>\n    <tr>\n      <th>5</th>\n      <td>Abrantes</td>\n      <td>Configuração de EMI</td>\n      <td>2022</td>\n      <td>8</td>\n      <td>6</td>\n    </tr>\n    <tr>\n      <th>6</th>\n      <td>Abrantes</td>\n      <td>Configuração de EMI</td>\n      <td>2022</td>\n      <td>9</td>\n      <td>4</td>\n    </tr>\n    <tr>\n      <th>7</th>\n      <td>Abrantes</td>\n      <td>Configuração de EMI</td>\n      <td>2022</td>\n      <td>10</td>\n      <td>32</td>\n    </tr>\n    <tr>\n      <th>8</th>\n      <td>Abrantes</td>\n      <td>Configuração de EMI</td>\n      <td>2022</td>\n      <td>11</td>\n      <td>268</td>\n    </tr>\n    <tr>\n      <th>9</th>\n      <td>Abrantes</td>\n      <td>Configuração de EMI</td>\n      <td>2022</td>\n      <td>12</td>\n      <td>382</td>\n    </tr>\n    <tr>\n      <th>10</th>\n      <td>Abrantes</td>\n      <td>Configuração de EMI</td>\n      <td>2023</td>\n      <td>1</td>\n      <td>309</td>\n    </tr>\n    <tr>\n      <th>11</th>\n      <td>Abrantes</td>\n      <td>Configuração de EMI</td>\n      <td>2023</td>\n      <td>2</td>\n      <td>727</td>\n    </tr>\n    <tr>\n      <th>12</th>\n      <td>Abrantes</td>\n      <td>Configuração de EMI</td>\n      <td>2023</td>\n      <td>3</td>\n      <td>374</td>\n    </tr>\n    <tr>\n      <th>13</th>\n      <td>Abrantes</td>\n      <td>Configuração de EMI</td>\n      <td>2023</td>\n      <td>4</td>\n      <td>241</td>\n    </tr>\n    <tr>\n      <th>14</th>\n      <td>Abrantes</td>\n      <td>Configuração de EMI</td>\n      <td>2023</td>\n      <td>5</td>\n      <td>388</td>\n    </tr>\n  </tbody>\n</table>\n</div>"
     },
     "execution_count": 36,
     "metadata": {},
     "output_type": "execute_result"
    }
   ],
   "source": [
    "# Contagem de linhas antes do agrupamento\n",
    "num_linhas_antes = len(df_ordens_servico)\n",
    "\n",
    "# Contagem de linhas depois do agrupamento\n",
    "num_linhas_depois = len(df_agrupado)\n",
    "\n",
    "# Exibição das contagens\n",
    "print(\"Número de linhas antes do agrupamento:\", num_linhas_antes)\n",
    "print(\"Número de linhas depois do agrupamento:\", num_linhas_depois)\n",
    "\n",
    "df_agrupado.info()\n",
    "\n",
    "df_agrupado.head(15)\n"
   ],
   "metadata": {
    "collapsed": false,
    "ExecuteTime": {
     "end_time": "2024-04-04T15:39:48.800876Z",
     "start_time": "2024-04-04T15:39:48.784456Z"
    }
   },
   "id": "a3b893ec03affcb7",
   "execution_count": 36
  },
  {
   "cell_type": "markdown",
   "source": [
    "4. Verificar se está tudo bem"
   ],
   "metadata": {
    "collapsed": false
   },
   "id": "9c8b57bdef8c6fde"
  },
  {
   "cell_type": "code",
   "outputs": [
    {
     "name": "stdout",
     "output_type": "stream",
     "text": [
      "<class 'pandas.core.frame.DataFrame'>\n",
      "Index: 159 entries, 14579 to 14737\n",
      "Data columns (total 5 columns):\n",
      " #   Column                         Non-Null Count  Dtype \n",
      "---  ------                         --------------  ----- \n",
      " 0   Concelho                       159 non-null    object\n",
      " 1   Tipo de Serviço                159 non-null    object\n",
      " 2   Ano                            159 non-null    int64 \n",
      " 3   Mes                            159 non-null    int64 \n",
      " 4   Ordens Serviço Realizadas (#)  159 non-null    int64 \n",
      "dtypes: int64(3), object(2)\n",
      "memory usage: 7.5+ KB\n"
     ]
    }
   ],
   "source": [
    "# Para a coleção de Consumos Mensais por Concelho\n",
    "df_consumos_lisboa = df_agrupado[df_agrupado['Concelho'] == 'Lisboa']\n",
    "df_consumos_lisboa.info()"
   ],
   "metadata": {
    "collapsed": false,
    "ExecuteTime": {
     "end_time": "2024-04-04T15:40:06.964789Z",
     "start_time": "2024-04-04T15:40:06.952322Z"
    }
   },
   "id": "dab9b45a76dc2f32",
   "execution_count": 37
  },
  {
   "cell_type": "code",
   "outputs": [
    {
     "data": {
      "text/plain": "      Concelho                Tipo de Serviço   Ano  Mes  \\\n14579   Lisboa            Configuração de EMI  2022    3   \n14580   Lisboa            Configuração de EMI  2022    4   \n14581   Lisboa            Configuração de EMI  2022    5   \n14582   Lisboa            Configuração de EMI  2022    6   \n14583   Lisboa            Configuração de EMI  2022    7   \n...        ...                            ...   ...  ...   \n14733   Lisboa  Serviço de Corte e Re-Ligação  2023   11   \n14734   Lisboa  Serviço de Corte e Re-Ligação  2023   12   \n14735   Lisboa  Serviço de Corte e Re-Ligação  2024    1   \n14736   Lisboa  Serviço de Corte e Re-Ligação  2024    2   \n14737   Lisboa  Serviço de Corte e Re-Ligação  2024    3   \n\n       Ordens Serviço Realizadas (#)  \n14579                             12  \n14580                             23  \n14581                             17  \n14582                             12  \n14583                             20  \n...                              ...  \n14733                            734  \n14734                            544  \n14735                            660  \n14736                            395  \n14737                            402  \n\n[159 rows x 5 columns]",
      "text/html": "<div>\n<style scoped>\n    .dataframe tbody tr th:only-of-type {\n        vertical-align: middle;\n    }\n\n    .dataframe tbody tr th {\n        vertical-align: top;\n    }\n\n    .dataframe thead th {\n        text-align: right;\n    }\n</style>\n<table border=\"1\" class=\"dataframe\">\n  <thead>\n    <tr style=\"text-align: right;\">\n      <th></th>\n      <th>Concelho</th>\n      <th>Tipo de Serviço</th>\n      <th>Ano</th>\n      <th>Mes</th>\n      <th>Ordens Serviço Realizadas (#)</th>\n    </tr>\n  </thead>\n  <tbody>\n    <tr>\n      <th>14579</th>\n      <td>Lisboa</td>\n      <td>Configuração de EMI</td>\n      <td>2022</td>\n      <td>3</td>\n      <td>12</td>\n    </tr>\n    <tr>\n      <th>14580</th>\n      <td>Lisboa</td>\n      <td>Configuração de EMI</td>\n      <td>2022</td>\n      <td>4</td>\n      <td>23</td>\n    </tr>\n    <tr>\n      <th>14581</th>\n      <td>Lisboa</td>\n      <td>Configuração de EMI</td>\n      <td>2022</td>\n      <td>5</td>\n      <td>17</td>\n    </tr>\n    <tr>\n      <th>14582</th>\n      <td>Lisboa</td>\n      <td>Configuração de EMI</td>\n      <td>2022</td>\n      <td>6</td>\n      <td>12</td>\n    </tr>\n    <tr>\n      <th>14583</th>\n      <td>Lisboa</td>\n      <td>Configuração de EMI</td>\n      <td>2022</td>\n      <td>7</td>\n      <td>20</td>\n    </tr>\n    <tr>\n      <th>...</th>\n      <td>...</td>\n      <td>...</td>\n      <td>...</td>\n      <td>...</td>\n      <td>...</td>\n    </tr>\n    <tr>\n      <th>14733</th>\n      <td>Lisboa</td>\n      <td>Serviço de Corte e Re-Ligação</td>\n      <td>2023</td>\n      <td>11</td>\n      <td>734</td>\n    </tr>\n    <tr>\n      <th>14734</th>\n      <td>Lisboa</td>\n      <td>Serviço de Corte e Re-Ligação</td>\n      <td>2023</td>\n      <td>12</td>\n      <td>544</td>\n    </tr>\n    <tr>\n      <th>14735</th>\n      <td>Lisboa</td>\n      <td>Serviço de Corte e Re-Ligação</td>\n      <td>2024</td>\n      <td>1</td>\n      <td>660</td>\n    </tr>\n    <tr>\n      <th>14736</th>\n      <td>Lisboa</td>\n      <td>Serviço de Corte e Re-Ligação</td>\n      <td>2024</td>\n      <td>2</td>\n      <td>395</td>\n    </tr>\n    <tr>\n      <th>14737</th>\n      <td>Lisboa</td>\n      <td>Serviço de Corte e Re-Ligação</td>\n      <td>2024</td>\n      <td>3</td>\n      <td>402</td>\n    </tr>\n  </tbody>\n</table>\n<p>159 rows × 5 columns</p>\n</div>"
     },
     "execution_count": 29,
     "metadata": {},
     "output_type": "execute_result"
    }
   ],
   "source": [
    "df_consumos_lisboa"
   ],
   "metadata": {
    "collapsed": false,
    "ExecuteTime": {
     "end_time": "2024-04-04T15:38:49.448463Z",
     "start_time": "2024-04-04T15:38:49.370779Z"
    }
   },
   "id": "63f37ccc9a913f3",
   "execution_count": 29
  },
  {
   "cell_type": "markdown",
   "source": [
    "5. Guardar num ficheiro"
   ],
   "metadata": {
    "collapsed": false
   },
   "id": "c7071a580d786e4f"
  },
  {
   "cell_type": "code",
   "outputs": [
    {
     "name": "stdout",
     "output_type": "stream",
     "text": [
      "DataFrame guardado em  ../data/treated/ordens_servico_agrupado_por_mes.csv\n"
     ]
    }
   ],
   "source": [
    "file_path = data_path + 'treated/ordens_servico_agrupado_por_mes.csv'\n",
    "\n",
    "df_agrupado.to_csv(file_path, index=False)\n",
    "\n",
    "print(\"DataFrame guardado em \", file_path)\n"
   ],
   "metadata": {
    "collapsed": false,
    "ExecuteTime": {
     "end_time": "2024-04-04T15:40:32.328462Z",
     "start_time": "2024-04-04T15:40:32.283020Z"
    }
   },
   "id": "46f9d5227a8447c6",
   "execution_count": 41
  }
 ],
 "metadata": {
  "kernelspec": {
   "display_name": "Python 3",
   "language": "python",
   "name": "python3"
  },
  "language_info": {
   "codemirror_mode": {
    "name": "ipython",
    "version": 2
   },
   "file_extension": ".py",
   "mimetype": "text/x-python",
   "name": "python",
   "nbconvert_exporter": "python",
   "pygments_lexer": "ipython2",
   "version": "2.7.6"
  }
 },
 "nbformat": 4,
 "nbformat_minor": 5
}
