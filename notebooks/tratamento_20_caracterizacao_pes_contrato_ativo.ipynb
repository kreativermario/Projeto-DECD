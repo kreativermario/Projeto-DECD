{
 "cells": [
  {
   "metadata": {},
   "cell_type": "markdown",
   "source": [
    "### Import das dependências"
   ],
   "id": "468aeb307e35d1a7"
  },
  {
   "metadata": {
    "jupyter": {
     "is_executing": true
    },
    "ExecuteTime": {
     "end_time": "2024-04-04T21:37:11.800521Z",
     "start_time": "2024-04-04T21:37:11.788455Z"
    }
   },
   "cell_type": "code",
   "source": [
    "import os\n",
    "\n",
    "import numpy as np\n",
    "import pandas as pd\n",
    "\n",
    "%matplotlib inline\n",
    "import matplotlib.pyplot as plt\n",
    "import seaborn as sns\n",
    "\n",
    "sns.set_theme()"
   ],
   "id": "6d9c8604312edc25",
   "outputs": [],
   "execution_count": 17
  },
  {
   "metadata": {},
   "cell_type": "markdown",
   "source": [
    "### 1. Importar o dataset - \"Caracterização de Pontos de Consumo (CPEs), com contratos ativos\"\n"
   ],
   "id": "d1d90b977898a693"
  },
  {
   "metadata": {
    "ExecuteTime": {
     "end_time": "2024-04-04T21:37:12.097856Z",
     "start_time": "2024-04-04T21:37:11.790722Z"
    }
   },
   "cell_type": "code",
   "outputs": [],
   "execution_count": 18,
   "source": [
    "data_path = '../data/' if os.path.exists('../data/') else 'https://raw.githubusercontent.com/kreativermario/Projeto-DECD/master/data/'\n",
    "\n",
    "caracterizacao_pes_path = data_path + '20-caracterizacao-pes-contrato-ativo.csv'\n",
    "\n",
    "df_caracterizacao_pes = pd.read_csv(caracterizacao_pes_path, delimiter=';')"
   ],
   "id": "afe204ca384b198d"
  },
  {
   "metadata": {},
   "cell_type": "markdown",
   "source": [
    "### 2. Ver o dataset"
   ],
   "id": "4e9193b592b9c7a7"
  },
  {
   "metadata": {
    "ExecuteTime": {
     "end_time": "2024-04-04T21:37:12.150128Z",
     "start_time": "2024-04-04T21:37:12.098518Z"
    }
   },
   "cell_type": "code",
   "outputs": [
    {
     "name": "stdout",
     "output_type": "stream",
     "text": [
      "<class 'pandas.core.frame.DataFrame'>\n",
      "RangeIndex: 393701 entries, 0 to 393700\n",
      "Data columns (total 9 columns):\n",
      " #   Column                        Non-Null Count   Dtype \n",
      "---  ------                        --------------   ----- \n",
      " 0   Ano                           393701 non-null  int64 \n",
      " 1   Mês                           393701 non-null  int64 \n",
      " 2   CodDistritoConcelhoFreguesia  393701 non-null  object\n",
      " 3   Distrito                      393701 non-null  object\n",
      " 4   Concelho                      393701 non-null  object\n",
      " 5   Freguesia                     393701 non-null  object\n",
      " 6   Tipo de Instalação            393701 non-null  object\n",
      " 7   Nível de Tensão               393701 non-null  object\n",
      " 8   CPEs (#)                      393701 non-null  int64 \n",
      "dtypes: int64(3), object(6)\n",
      "memory usage: 27.0+ MB\n"
     ]
    }
   ],
   "execution_count": 19,
   "source": [
    "df_caracterizacao_pes.info()"
   ],
   "id": "655d737282815dfc"
  },
  {
   "metadata": {},
   "cell_type": "markdown",
   "source": [
    "1. Verificar se há elementos null"
   ],
   "id": "9b9e0f8c7d1322b2"
  },
  {
   "metadata": {
    "ExecuteTime": {
     "end_time": "2024-04-04T21:37:12.201851Z",
     "start_time": "2024-04-04T21:37:12.194431Z"
    }
   },
   "cell_type": "code",
   "outputs": [
    {
     "name": "stdout",
     "output_type": "stream",
     "text": [
      "Número de nulls por coluna:\n",
      "Ano                             0\n",
      "Mês                             0\n",
      "CodDistritoConcelhoFreguesia    0\n",
      "Distrito                        0\n",
      "Concelho                        0\n",
      "Freguesia                       0\n",
      "Tipo de Instalação              0\n",
      "Nível de Tensão                 0\n",
      "CPEs (#)                        0\n",
      "dtype: int64\n"
     ]
    },
    {
     "data": {
      "text/plain": "     Ano  Mês CodDistritoConcelhoFreguesia          Distrito  \\\n0   2022    6                       020205              Beja   \n1   2023    4                       150903           Setúbal   \n2   2022    3                       131436             Porto   \n3   2022    4                       030930             Braga   \n4   2022    4                       130601             Porto   \n5   2022    3                       100935            Leiria   \n6   2022    3                       050302    Castelo Branco   \n7   2022   12                       131140             Porto   \n8   2022   12                       160307  Viana do Castelo   \n9   2022   12                       171217         Vila Real   \n10  2022    8                       091118            Guarda   \n11  2024    1                       182131             Viseu   \n12  2023    1                       090422            Guarda   \n13  2023   12                       050714    Castelo Branco   \n14  2023   12                       030375             Braga   \n\n                       Concelho  \\\n0                     Almodôvar   \n1             Santiago do Cacém   \n2                   Santo Tirso   \n3              Póvoa de Lanhoso   \n4                          Maia   \n5                        Leiria   \n6                       Covilhã   \n7                      Penafiel   \n8                       Melgaço   \n9                      Valpaços   \n10                      Sabugal   \n11                      Tondela   \n12  Figueira de Castelo Rodrigo   \n13                    Penamacor   \n14                        Braga   \n\n                                            Freguesia  Tipo de Instalação  \\\n0                                          Santa Cruz  Iluminação Pública   \n1                                              Cercal           Doméstico   \n2          União das freguesias de Lamelas e Guimarei       Não Doméstico   \n3        União das freguesias de Águas Santas e Moure              Outros   \n4                                        Águas Santas              Outros   \n5        União das freguesias de Monte Real e Carvide       Não Doméstico   \n6                    Aldeia de São Francisco de Assis       Não Doméstico   \n7                                   Luzim e Vila Cova       Não Doméstico   \n8                                               Fiães       Não Doméstico   \n9                                           Rio Torto           Doméstico   \n10                                            Malcata       Não Doméstico   \n11  União das freguesias de São Miguel do Outeiro ...           Doméstico   \n12     União das freguesias do Colmeal e Vilar Torpim  Iluminação Pública   \n13  União das freguesias de Pedrógão de São Pedro ...              Outros   \n14  União das freguesias de Merelim (São Pedro) e ...  Iluminação Pública   \n\n          Nível de Tensão  CPEs (#)  \n0     Baixa Tensão Normal        24  \n1     Baixa Tensão Normal      2042  \n2   Baixa Tensão Especial         1  \n3     Baixa Tensão Normal         6  \n4     Baixa Tensão Normal        72  \n5     Baixa Tensão Normal       610  \n6     Baixa Tensão Normal        33  \n7   Baixa Tensão Especial         2  \n8     Baixa Tensão Normal        13  \n9     Baixa Tensão Normal       249  \n10  Baixa Tensão Especial         1  \n11    Baixa Tensão Normal       775  \n12    Baixa Tensão Normal        12  \n13    Baixa Tensão Normal         4  \n14    Baixa Tensão Normal        27  ",
      "text/html": "<div>\n<style scoped>\n    .dataframe tbody tr th:only-of-type {\n        vertical-align: middle;\n    }\n\n    .dataframe tbody tr th {\n        vertical-align: top;\n    }\n\n    .dataframe thead th {\n        text-align: right;\n    }\n</style>\n<table border=\"1\" class=\"dataframe\">\n  <thead>\n    <tr style=\"text-align: right;\">\n      <th></th>\n      <th>Ano</th>\n      <th>Mês</th>\n      <th>CodDistritoConcelhoFreguesia</th>\n      <th>Distrito</th>\n      <th>Concelho</th>\n      <th>Freguesia</th>\n      <th>Tipo de Instalação</th>\n      <th>Nível de Tensão</th>\n      <th>CPEs (#)</th>\n    </tr>\n  </thead>\n  <tbody>\n    <tr>\n      <th>0</th>\n      <td>2022</td>\n      <td>6</td>\n      <td>020205</td>\n      <td>Beja</td>\n      <td>Almodôvar</td>\n      <td>Santa Cruz</td>\n      <td>Iluminação Pública</td>\n      <td>Baixa Tensão Normal</td>\n      <td>24</td>\n    </tr>\n    <tr>\n      <th>1</th>\n      <td>2023</td>\n      <td>4</td>\n      <td>150903</td>\n      <td>Setúbal</td>\n      <td>Santiago do Cacém</td>\n      <td>Cercal</td>\n      <td>Doméstico</td>\n      <td>Baixa Tensão Normal</td>\n      <td>2042</td>\n    </tr>\n    <tr>\n      <th>2</th>\n      <td>2022</td>\n      <td>3</td>\n      <td>131436</td>\n      <td>Porto</td>\n      <td>Santo Tirso</td>\n      <td>União das freguesias de Lamelas e Guimarei</td>\n      <td>Não Doméstico</td>\n      <td>Baixa Tensão Especial</td>\n      <td>1</td>\n    </tr>\n    <tr>\n      <th>3</th>\n      <td>2022</td>\n      <td>4</td>\n      <td>030930</td>\n      <td>Braga</td>\n      <td>Póvoa de Lanhoso</td>\n      <td>União das freguesias de Águas Santas e Moure</td>\n      <td>Outros</td>\n      <td>Baixa Tensão Normal</td>\n      <td>6</td>\n    </tr>\n    <tr>\n      <th>4</th>\n      <td>2022</td>\n      <td>4</td>\n      <td>130601</td>\n      <td>Porto</td>\n      <td>Maia</td>\n      <td>Águas Santas</td>\n      <td>Outros</td>\n      <td>Baixa Tensão Normal</td>\n      <td>72</td>\n    </tr>\n    <tr>\n      <th>5</th>\n      <td>2022</td>\n      <td>3</td>\n      <td>100935</td>\n      <td>Leiria</td>\n      <td>Leiria</td>\n      <td>União das freguesias de Monte Real e Carvide</td>\n      <td>Não Doméstico</td>\n      <td>Baixa Tensão Normal</td>\n      <td>610</td>\n    </tr>\n    <tr>\n      <th>6</th>\n      <td>2022</td>\n      <td>3</td>\n      <td>050302</td>\n      <td>Castelo Branco</td>\n      <td>Covilhã</td>\n      <td>Aldeia de São Francisco de Assis</td>\n      <td>Não Doméstico</td>\n      <td>Baixa Tensão Normal</td>\n      <td>33</td>\n    </tr>\n    <tr>\n      <th>7</th>\n      <td>2022</td>\n      <td>12</td>\n      <td>131140</td>\n      <td>Porto</td>\n      <td>Penafiel</td>\n      <td>Luzim e Vila Cova</td>\n      <td>Não Doméstico</td>\n      <td>Baixa Tensão Especial</td>\n      <td>2</td>\n    </tr>\n    <tr>\n      <th>8</th>\n      <td>2022</td>\n      <td>12</td>\n      <td>160307</td>\n      <td>Viana do Castelo</td>\n      <td>Melgaço</td>\n      <td>Fiães</td>\n      <td>Não Doméstico</td>\n      <td>Baixa Tensão Normal</td>\n      <td>13</td>\n    </tr>\n    <tr>\n      <th>9</th>\n      <td>2022</td>\n      <td>12</td>\n      <td>171217</td>\n      <td>Vila Real</td>\n      <td>Valpaços</td>\n      <td>Rio Torto</td>\n      <td>Doméstico</td>\n      <td>Baixa Tensão Normal</td>\n      <td>249</td>\n    </tr>\n    <tr>\n      <th>10</th>\n      <td>2022</td>\n      <td>8</td>\n      <td>091118</td>\n      <td>Guarda</td>\n      <td>Sabugal</td>\n      <td>Malcata</td>\n      <td>Não Doméstico</td>\n      <td>Baixa Tensão Especial</td>\n      <td>1</td>\n    </tr>\n    <tr>\n      <th>11</th>\n      <td>2024</td>\n      <td>1</td>\n      <td>182131</td>\n      <td>Viseu</td>\n      <td>Tondela</td>\n      <td>União das freguesias de São Miguel do Outeiro ...</td>\n      <td>Doméstico</td>\n      <td>Baixa Tensão Normal</td>\n      <td>775</td>\n    </tr>\n    <tr>\n      <th>12</th>\n      <td>2023</td>\n      <td>1</td>\n      <td>090422</td>\n      <td>Guarda</td>\n      <td>Figueira de Castelo Rodrigo</td>\n      <td>União das freguesias do Colmeal e Vilar Torpim</td>\n      <td>Iluminação Pública</td>\n      <td>Baixa Tensão Normal</td>\n      <td>12</td>\n    </tr>\n    <tr>\n      <th>13</th>\n      <td>2023</td>\n      <td>12</td>\n      <td>050714</td>\n      <td>Castelo Branco</td>\n      <td>Penamacor</td>\n      <td>União das freguesias de Pedrógão de São Pedro ...</td>\n      <td>Outros</td>\n      <td>Baixa Tensão Normal</td>\n      <td>4</td>\n    </tr>\n    <tr>\n      <th>14</th>\n      <td>2023</td>\n      <td>12</td>\n      <td>030375</td>\n      <td>Braga</td>\n      <td>Braga</td>\n      <td>União das freguesias de Merelim (São Pedro) e ...</td>\n      <td>Iluminação Pública</td>\n      <td>Baixa Tensão Normal</td>\n      <td>27</td>\n    </tr>\n  </tbody>\n</table>\n</div>"
     },
     "execution_count": 20,
     "metadata": {},
     "output_type": "execute_result"
    }
   ],
   "execution_count": 20,
   "source": [
    "# Verificar nulls\n",
    "null_counts = df_caracterizacao_pes.isnull().sum()\n",
    "\n",
    "# Ver nulls por coluna\n",
    "print(\"Número de nulls por coluna:\")\n",
    "print(null_counts)\n",
    "\n",
    "df_caracterizacao_pes.head(15)"
   ],
   "id": "535b3b63d2532d98"
  },
  {
   "metadata": {},
   "cell_type": "markdown",
   "source": [
    "### 3. Tratamento e agregação dos dados\n",
    "\n",
    "1. Remover atributos como a Distrito, CodDistritoConcelhoFreguesia \n",
    "2. Agrupar por concelhos e remover a freguesia"
   ],
   "id": "dfbcb9c20628c2fe"
  },
  {
   "metadata": {},
   "cell_type": "markdown",
   "source": [
    "1. Remover atributos como a Distrito, CodDistritoConcelhoFreguesia"
   ],
   "id": "c008dbc37583bad4"
  },
  {
   "metadata": {
    "ExecuteTime": {
     "end_time": "2024-04-04T21:37:12.258927Z",
     "start_time": "2024-04-04T21:37:12.202388Z"
    }
   },
   "cell_type": "code",
   "outputs": [
    {
     "name": "stdout",
     "output_type": "stream",
     "text": [
      "<class 'pandas.core.frame.DataFrame'>\n",
      "RangeIndex: 393701 entries, 0 to 393700\n",
      "Data columns (total 7 columns):\n",
      " #   Column              Non-Null Count   Dtype \n",
      "---  ------              --------------   ----- \n",
      " 0   Ano                 393701 non-null  int64 \n",
      " 1   Mês                 393701 non-null  int64 \n",
      " 2   Concelho            393701 non-null  object\n",
      " 3   Freguesia           393701 non-null  object\n",
      " 4   Tipo de Instalação  393701 non-null  object\n",
      " 5   Nível de Tensão     393701 non-null  object\n",
      " 6   CPEs (#)            393701 non-null  int64 \n",
      "dtypes: int64(3), object(4)\n",
      "memory usage: 21.0+ MB\n"
     ]
    }
   ],
   "execution_count": 21,
   "source": [
    "# Remover atributos como o distrito e código distrito concelho freguesia\n",
    "df_caracterizacao_pes.drop(columns=['Distrito', 'CodDistritoConcelhoFreguesia'], inplace=True)\n",
    "df_caracterizacao_pes.info()"
   ],
   "id": "42a51f0bbe8bee74"
  },
  {
   "metadata": {},
   "cell_type": "markdown",
   "source": [
    "2. Agrupar por concelhos e remover a freguesia"
   ],
   "id": "7b93bff5a24d1eda"
  },
  {
   "metadata": {
    "ExecuteTime": {
     "end_time": "2024-04-04T21:37:12.377076Z",
     "start_time": "2024-04-04T21:37:12.250726Z"
    }
   },
   "cell_type": "code",
   "outputs": [
    {
     "data": {
      "text/plain": "   Concelho Tipo de Instalação        Nível de Tensão   Ano  Mês  CPEs (#)\n0  Abrantes          Doméstico  Baixa Tensão Especial  2022    3         1\n1  Abrantes          Doméstico  Baixa Tensão Especial  2022    4         1\n2  Abrantes          Doméstico  Baixa Tensão Especial  2022    5         1\n3  Abrantes          Doméstico  Baixa Tensão Especial  2022    6         1\n4  Abrantes          Doméstico  Baixa Tensão Especial  2022    7         1",
      "text/html": "<div>\n<style scoped>\n    .dataframe tbody tr th:only-of-type {\n        vertical-align: middle;\n    }\n\n    .dataframe tbody tr th {\n        vertical-align: top;\n    }\n\n    .dataframe thead th {\n        text-align: right;\n    }\n</style>\n<table border=\"1\" class=\"dataframe\">\n  <thead>\n    <tr style=\"text-align: right;\">\n      <th></th>\n      <th>Concelho</th>\n      <th>Tipo de Instalação</th>\n      <th>Nível de Tensão</th>\n      <th>Ano</th>\n      <th>Mês</th>\n      <th>CPEs (#)</th>\n    </tr>\n  </thead>\n  <tbody>\n    <tr>\n      <th>0</th>\n      <td>Abrantes</td>\n      <td>Doméstico</td>\n      <td>Baixa Tensão Especial</td>\n      <td>2022</td>\n      <td>3</td>\n      <td>1</td>\n    </tr>\n    <tr>\n      <th>1</th>\n      <td>Abrantes</td>\n      <td>Doméstico</td>\n      <td>Baixa Tensão Especial</td>\n      <td>2022</td>\n      <td>4</td>\n      <td>1</td>\n    </tr>\n    <tr>\n      <th>2</th>\n      <td>Abrantes</td>\n      <td>Doméstico</td>\n      <td>Baixa Tensão Especial</td>\n      <td>2022</td>\n      <td>5</td>\n      <td>1</td>\n    </tr>\n    <tr>\n      <th>3</th>\n      <td>Abrantes</td>\n      <td>Doméstico</td>\n      <td>Baixa Tensão Especial</td>\n      <td>2022</td>\n      <td>6</td>\n      <td>1</td>\n    </tr>\n    <tr>\n      <th>4</th>\n      <td>Abrantes</td>\n      <td>Doméstico</td>\n      <td>Baixa Tensão Especial</td>\n      <td>2022</td>\n      <td>7</td>\n      <td>1</td>\n    </tr>\n  </tbody>\n</table>\n</div>"
     },
     "execution_count": 22,
     "metadata": {},
     "output_type": "execute_result"
    }
   ],
   "execution_count": 22,
   "source": [
    "df_agrupado_caracterizacao = df_caracterizacao_pes.groupby(['Concelho', 'Tipo de Instalação','Nível de Tensão', 'Ano', 'Mês']).sum().reset_index()\n",
    "df_agrupado_caracterizacao.drop(columns=['Freguesia'], inplace=True)\n",
    "df_agrupado_caracterizacao.head()"
   ],
   "id": "5e0fab24b8050c8a"
  },
  {
   "metadata": {},
   "cell_type": "markdown",
   "source": [
    "### 4. Verificação dos dados\n",
    "\n",
    "1. Verificação número de linhas\n",
    "2. Verificação dados"
   ],
   "id": "7aadb8adec675729"
  },
  {
   "metadata": {},
   "cell_type": "markdown",
   "source": [
    "1. Verificação número de linhas"
   ],
   "id": "903004ed0bacb03f"
  },
  {
   "metadata": {
    "ExecuteTime": {
     "end_time": "2024-04-04T21:37:12.386909Z",
     "start_time": "2024-04-04T21:37:12.379962Z"
    }
   },
   "cell_type": "code",
   "outputs": [
    {
     "name": "stdout",
     "output_type": "stream",
     "text": [
      "Número de linhas antes do agrupamento: 393701\n",
      "Número de linhas depois do agrupamento: 48563\n",
      "<class 'pandas.core.frame.DataFrame'>\n",
      "RangeIndex: 48563 entries, 0 to 48562\n",
      "Data columns (total 6 columns):\n",
      " #   Column              Non-Null Count  Dtype \n",
      "---  ------              --------------  ----- \n",
      " 0   Concelho            48563 non-null  object\n",
      " 1   Tipo de Instalação  48563 non-null  object\n",
      " 2   Nível de Tensão     48563 non-null  object\n",
      " 3   Ano                 48563 non-null  int64 \n",
      " 4   Mês                 48563 non-null  int64 \n",
      " 5   CPEs (#)            48563 non-null  int64 \n",
      "dtypes: int64(3), object(3)\n",
      "memory usage: 2.2+ MB\n"
     ]
    },
    {
     "data": {
      "text/plain": "    Concelho Tipo de Instalação        Nível de Tensão   Ano  Mês  CPEs (#)\n0   Abrantes          Doméstico  Baixa Tensão Especial  2022    3         1\n1   Abrantes          Doméstico  Baixa Tensão Especial  2022    4         1\n2   Abrantes          Doméstico  Baixa Tensão Especial  2022    5         1\n3   Abrantes          Doméstico  Baixa Tensão Especial  2022    6         1\n4   Abrantes          Doméstico  Baixa Tensão Especial  2022    7         1\n5   Abrantes          Doméstico  Baixa Tensão Especial  2022    8         1\n6   Abrantes          Doméstico  Baixa Tensão Especial  2022    9         1\n7   Abrantes          Doméstico  Baixa Tensão Especial  2022   10         1\n8   Abrantes          Doméstico  Baixa Tensão Especial  2022   11         1\n9   Abrantes          Doméstico  Baixa Tensão Especial  2022   12         1\n10  Abrantes          Doméstico  Baixa Tensão Especial  2023    1         1\n11  Abrantes          Doméstico  Baixa Tensão Especial  2023    2         1\n12  Abrantes          Doméstico  Baixa Tensão Especial  2023    3         1\n13  Abrantes          Doméstico  Baixa Tensão Especial  2023    4         1\n14  Abrantes          Doméstico  Baixa Tensão Especial  2023    5         1",
      "text/html": "<div>\n<style scoped>\n    .dataframe tbody tr th:only-of-type {\n        vertical-align: middle;\n    }\n\n    .dataframe tbody tr th {\n        vertical-align: top;\n    }\n\n    .dataframe thead th {\n        text-align: right;\n    }\n</style>\n<table border=\"1\" class=\"dataframe\">\n  <thead>\n    <tr style=\"text-align: right;\">\n      <th></th>\n      <th>Concelho</th>\n      <th>Tipo de Instalação</th>\n      <th>Nível de Tensão</th>\n      <th>Ano</th>\n      <th>Mês</th>\n      <th>CPEs (#)</th>\n    </tr>\n  </thead>\n  <tbody>\n    <tr>\n      <th>0</th>\n      <td>Abrantes</td>\n      <td>Doméstico</td>\n      <td>Baixa Tensão Especial</td>\n      <td>2022</td>\n      <td>3</td>\n      <td>1</td>\n    </tr>\n    <tr>\n      <th>1</th>\n      <td>Abrantes</td>\n      <td>Doméstico</td>\n      <td>Baixa Tensão Especial</td>\n      <td>2022</td>\n      <td>4</td>\n      <td>1</td>\n    </tr>\n    <tr>\n      <th>2</th>\n      <td>Abrantes</td>\n      <td>Doméstico</td>\n      <td>Baixa Tensão Especial</td>\n      <td>2022</td>\n      <td>5</td>\n      <td>1</td>\n    </tr>\n    <tr>\n      <th>3</th>\n      <td>Abrantes</td>\n      <td>Doméstico</td>\n      <td>Baixa Tensão Especial</td>\n      <td>2022</td>\n      <td>6</td>\n      <td>1</td>\n    </tr>\n    <tr>\n      <th>4</th>\n      <td>Abrantes</td>\n      <td>Doméstico</td>\n      <td>Baixa Tensão Especial</td>\n      <td>2022</td>\n      <td>7</td>\n      <td>1</td>\n    </tr>\n    <tr>\n      <th>5</th>\n      <td>Abrantes</td>\n      <td>Doméstico</td>\n      <td>Baixa Tensão Especial</td>\n      <td>2022</td>\n      <td>8</td>\n      <td>1</td>\n    </tr>\n    <tr>\n      <th>6</th>\n      <td>Abrantes</td>\n      <td>Doméstico</td>\n      <td>Baixa Tensão Especial</td>\n      <td>2022</td>\n      <td>9</td>\n      <td>1</td>\n    </tr>\n    <tr>\n      <th>7</th>\n      <td>Abrantes</td>\n      <td>Doméstico</td>\n      <td>Baixa Tensão Especial</td>\n      <td>2022</td>\n      <td>10</td>\n      <td>1</td>\n    </tr>\n    <tr>\n      <th>8</th>\n      <td>Abrantes</td>\n      <td>Doméstico</td>\n      <td>Baixa Tensão Especial</td>\n      <td>2022</td>\n      <td>11</td>\n      <td>1</td>\n    </tr>\n    <tr>\n      <th>9</th>\n      <td>Abrantes</td>\n      <td>Doméstico</td>\n      <td>Baixa Tensão Especial</td>\n      <td>2022</td>\n      <td>12</td>\n      <td>1</td>\n    </tr>\n    <tr>\n      <th>10</th>\n      <td>Abrantes</td>\n      <td>Doméstico</td>\n      <td>Baixa Tensão Especial</td>\n      <td>2023</td>\n      <td>1</td>\n      <td>1</td>\n    </tr>\n    <tr>\n      <th>11</th>\n      <td>Abrantes</td>\n      <td>Doméstico</td>\n      <td>Baixa Tensão Especial</td>\n      <td>2023</td>\n      <td>2</td>\n      <td>1</td>\n    </tr>\n    <tr>\n      <th>12</th>\n      <td>Abrantes</td>\n      <td>Doméstico</td>\n      <td>Baixa Tensão Especial</td>\n      <td>2023</td>\n      <td>3</td>\n      <td>1</td>\n    </tr>\n    <tr>\n      <th>13</th>\n      <td>Abrantes</td>\n      <td>Doméstico</td>\n      <td>Baixa Tensão Especial</td>\n      <td>2023</td>\n      <td>4</td>\n      <td>1</td>\n    </tr>\n    <tr>\n      <th>14</th>\n      <td>Abrantes</td>\n      <td>Doméstico</td>\n      <td>Baixa Tensão Especial</td>\n      <td>2023</td>\n      <td>5</td>\n      <td>1</td>\n    </tr>\n  </tbody>\n</table>\n</div>"
     },
     "execution_count": 23,
     "metadata": {},
     "output_type": "execute_result"
    }
   ],
   "execution_count": 23,
   "source": [
    "# Contagem de linhas antes do agrupamento\n",
    "num_linhas_antes = len(df_caracterizacao_pes)\n",
    "\n",
    "# Contagem de linhas depois do agrupamento\n",
    "num_linhas_depois = len(df_agrupado_caracterizacao)\n",
    "\n",
    "# Exibição das contagens\n",
    "print(\"Número de linhas antes do agrupamento:\", num_linhas_antes)\n",
    "print(\"Número de linhas depois do agrupamento:\", num_linhas_depois)\n",
    "\n",
    "df_agrupado_caracterizacao.info()\n",
    "\n",
    "df_agrupado_caracterizacao.head(15)"
   ],
   "id": "4b6eae11cfe64de6"
  },
  {
   "metadata": {},
   "cell_type": "markdown",
   "source": [
    "2. Verificação de dados"
   ],
   "id": "f00806625af10358"
  },
  {
   "metadata": {
    "ExecuteTime": {
     "end_time": "2024-04-04T21:37:12.392530Z",
     "start_time": "2024-04-04T21:37:12.390121Z"
    }
   },
   "cell_type": "code",
   "outputs": [
    {
     "name": "stdout",
     "output_type": "stream",
     "text": [
      "<class 'pandas.core.frame.DataFrame'>\n",
      "Index: 230 entries, 19578 to 19807\n",
      "Data columns (total 6 columns):\n",
      " #   Column              Non-Null Count  Dtype \n",
      "---  ------              --------------  ----- \n",
      " 0   Concelho            230 non-null    object\n",
      " 1   Tipo de Instalação  230 non-null    object\n",
      " 2   Nível de Tensão     230 non-null    object\n",
      " 3   Ano                 230 non-null    int64 \n",
      " 4   Mês                 230 non-null    int64 \n",
      " 5   CPEs (#)            230 non-null    int64 \n",
      "dtypes: int64(3), object(3)\n",
      "memory usage: 12.6+ KB\n"
     ]
    }
   ],
   "execution_count": 24,
   "source": [
    "# Para a coleção de Consumos Mensais por Concelho\n",
    "df_consumos_lisboa = df_agrupado_caracterizacao[df_agrupado_caracterizacao['Concelho'] == 'Lisboa']\n",
    "df_consumos_lisboa.info()"
   ],
   "id": "f04da481108f2194"
  },
  {
   "metadata": {
    "ExecuteTime": {
     "end_time": "2024-04-04T21:37:12.409169Z",
     "start_time": "2024-04-04T21:37:12.394547Z"
    }
   },
   "cell_type": "code",
   "outputs": [
    {
     "data": {
      "text/plain": "      Concelho Tipo de Instalação                   Nível de Tensão   Ano  \\\n19578   Lisboa          Doméstico             Baixa Tensão Especial  2022   \n19579   Lisboa          Doméstico             Baixa Tensão Especial  2022   \n19580   Lisboa          Doméstico             Baixa Tensão Especial  2022   \n19581   Lisboa          Doméstico             Baixa Tensão Especial  2022   \n19582   Lisboa          Doméstico             Baixa Tensão Especial  2022   \n...        ...                ...                               ...   ...   \n19803   Lisboa             Outros  Muito Alta, Alta e Média Tensões  2022   \n19804   Lisboa             Outros  Muito Alta, Alta e Média Tensões  2022   \n19805   Lisboa             Outros  Muito Alta, Alta e Média Tensões  2022   \n19806   Lisboa             Outros  Muito Alta, Alta e Média Tensões  2022   \n19807   Lisboa             Outros  Muito Alta, Alta e Média Tensões  2022   \n\n       Mês  CPEs (#)  \n19578    3        64  \n19579    4        64  \n19580    5        65  \n19581    6        65  \n19582    7        65  \n...    ...       ...  \n19803    4        16  \n19804    5        16  \n19805    6        32  \n19806    7        32  \n19807    8        32  \n\n[230 rows x 6 columns]",
      "text/html": "<div>\n<style scoped>\n    .dataframe tbody tr th:only-of-type {\n        vertical-align: middle;\n    }\n\n    .dataframe tbody tr th {\n        vertical-align: top;\n    }\n\n    .dataframe thead th {\n        text-align: right;\n    }\n</style>\n<table border=\"1\" class=\"dataframe\">\n  <thead>\n    <tr style=\"text-align: right;\">\n      <th></th>\n      <th>Concelho</th>\n      <th>Tipo de Instalação</th>\n      <th>Nível de Tensão</th>\n      <th>Ano</th>\n      <th>Mês</th>\n      <th>CPEs (#)</th>\n    </tr>\n  </thead>\n  <tbody>\n    <tr>\n      <th>19578</th>\n      <td>Lisboa</td>\n      <td>Doméstico</td>\n      <td>Baixa Tensão Especial</td>\n      <td>2022</td>\n      <td>3</td>\n      <td>64</td>\n    </tr>\n    <tr>\n      <th>19579</th>\n      <td>Lisboa</td>\n      <td>Doméstico</td>\n      <td>Baixa Tensão Especial</td>\n      <td>2022</td>\n      <td>4</td>\n      <td>64</td>\n    </tr>\n    <tr>\n      <th>19580</th>\n      <td>Lisboa</td>\n      <td>Doméstico</td>\n      <td>Baixa Tensão Especial</td>\n      <td>2022</td>\n      <td>5</td>\n      <td>65</td>\n    </tr>\n    <tr>\n      <th>19581</th>\n      <td>Lisboa</td>\n      <td>Doméstico</td>\n      <td>Baixa Tensão Especial</td>\n      <td>2022</td>\n      <td>6</td>\n      <td>65</td>\n    </tr>\n    <tr>\n      <th>19582</th>\n      <td>Lisboa</td>\n      <td>Doméstico</td>\n      <td>Baixa Tensão Especial</td>\n      <td>2022</td>\n      <td>7</td>\n      <td>65</td>\n    </tr>\n    <tr>\n      <th>...</th>\n      <td>...</td>\n      <td>...</td>\n      <td>...</td>\n      <td>...</td>\n      <td>...</td>\n      <td>...</td>\n    </tr>\n    <tr>\n      <th>19803</th>\n      <td>Lisboa</td>\n      <td>Outros</td>\n      <td>Muito Alta, Alta e Média Tensões</td>\n      <td>2022</td>\n      <td>4</td>\n      <td>16</td>\n    </tr>\n    <tr>\n      <th>19804</th>\n      <td>Lisboa</td>\n      <td>Outros</td>\n      <td>Muito Alta, Alta e Média Tensões</td>\n      <td>2022</td>\n      <td>5</td>\n      <td>16</td>\n    </tr>\n    <tr>\n      <th>19805</th>\n      <td>Lisboa</td>\n      <td>Outros</td>\n      <td>Muito Alta, Alta e Média Tensões</td>\n      <td>2022</td>\n      <td>6</td>\n      <td>32</td>\n    </tr>\n    <tr>\n      <th>19806</th>\n      <td>Lisboa</td>\n      <td>Outros</td>\n      <td>Muito Alta, Alta e Média Tensões</td>\n      <td>2022</td>\n      <td>7</td>\n      <td>32</td>\n    </tr>\n    <tr>\n      <th>19807</th>\n      <td>Lisboa</td>\n      <td>Outros</td>\n      <td>Muito Alta, Alta e Média Tensões</td>\n      <td>2022</td>\n      <td>8</td>\n      <td>32</td>\n    </tr>\n  </tbody>\n</table>\n<p>230 rows × 6 columns</p>\n</div>"
     },
     "execution_count": 25,
     "metadata": {},
     "output_type": "execute_result"
    }
   ],
   "execution_count": 25,
   "source": [
    "df_consumos_lisboa"
   ],
   "id": "3a7bdc6cb42429e5"
  },
  {
   "metadata": {},
   "cell_type": "markdown",
   "source": [
    "### 5. Guardar Ficheiro"
   ],
   "id": "406891799873f689"
  },
  {
   "metadata": {
    "ExecuteTime": {
     "end_time": "2024-04-04T21:37:12.487683Z",
     "start_time": "2024-04-04T21:37:12.397891Z"
    }
   },
   "cell_type": "code",
   "outputs": [
    {
     "name": "stdout",
     "output_type": "stream",
     "text": [
      "DataFrame guardado em  ../data/treated/caracterizacao-pes-contrato-ativo.csv\n"
     ]
    }
   ],
   "execution_count": 26,
   "source": [
    "file_path = data_path + 'treated/caracterizacao-pes-contrato-ativo.csv'\n",
    "\n",
    "df_agrupado_caracterizacao.to_csv(file_path, index=False)\n",
    "\n",
    "print(\"DataFrame guardado em \", file_path)"
   ],
   "id": "b2a4fb50502cce51"
  }
 ],
 "metadata": {
  "kernelspec": {
   "display_name": "Python 3",
   "language": "python",
   "name": "python3"
  },
  "language_info": {
   "codemirror_mode": {
    "name": "ipython",
    "version": 2
   },
   "file_extension": ".py",
   "mimetype": "text/x-python",
   "name": "python",
   "nbconvert_exporter": "python",
   "pygments_lexer": "ipython2",
   "version": "2.7.6"
  }
 },
 "nbformat": 4,
 "nbformat_minor": 5
}
