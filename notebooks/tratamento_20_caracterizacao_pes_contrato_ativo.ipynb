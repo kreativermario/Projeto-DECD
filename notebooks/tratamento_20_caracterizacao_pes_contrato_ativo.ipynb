{
 "cells": [
  {
   "metadata": {},
   "cell_type": "markdown",
   "source": [
    "### Import das dependências"
   ],
   "id": "468aeb307e35d1a7"
  },
  {
   "metadata": {
    "ExecuteTime": {
     "end_time": "2024-05-10T11:44:03.786376Z",
     "start_time": "2024-05-10T11:44:03.779341Z"
    }
   },
   "cell_type": "code",
   "source": [
    "import os\n",
    "\n",
    "import numpy as np\n",
    "import pandas as pd\n",
    "\n",
    "%matplotlib inline\n",
    "import matplotlib.pyplot as plt\n",
    "import seaborn as sns\n",
    "\n",
    "sns.set_theme()"
   ],
   "id": "6d9c8604312edc25",
   "outputs": [],
   "execution_count": 1
  },
  {
   "metadata": {},
   "cell_type": "markdown",
   "source": [
    "### 1. Importar o dataset - \"Caracterização de Pontos de Consumo (CPEs), com contratos ativos\"\n"
   ],
   "id": "d1d90b977898a693"
  },
  {
   "metadata": {
    "ExecuteTime": {
     "end_time": "2024-05-10T11:44:04.106146Z",
     "start_time": "2024-05-10T11:44:03.786409Z"
    }
   },
   "cell_type": "code",
   "source": [
    "data_path = '../data/' if os.path.exists('../data/') else 'https://raw.githubusercontent.com/kreativermario/Projeto-DECD/master/data/'\n",
    "\n",
    "caracterizacao_pes_path = data_path + '20-caracterizacao-pes-contrato-ativo.csv'\n",
    "\n",
    "df_caracterizacao_pes = pd.read_csv(caracterizacao_pes_path, delimiter=';')"
   ],
   "id": "afe204ca384b198d",
   "outputs": [],
   "execution_count": 2
  },
  {
   "metadata": {},
   "cell_type": "markdown",
   "source": [
    "### 2. Ver o dataset"
   ],
   "id": "4e9193b592b9c7a7"
  },
  {
   "metadata": {
    "ExecuteTime": {
     "end_time": "2024-05-10T11:44:04.160408Z",
     "start_time": "2024-05-10T11:44:04.151875Z"
    }
   },
   "cell_type": "code",
   "source": [
    "df_caracterizacao_pes.info()"
   ],
   "id": "655d737282815dfc",
   "outputs": [
    {
     "name": "stdout",
     "output_type": "stream",
     "text": [
      "<class 'pandas.core.frame.DataFrame'>\n",
      "RangeIndex: 393706 entries, 0 to 393705\n",
      "Data columns (total 9 columns):\n",
      " #   Column                        Non-Null Count   Dtype \n",
      "---  ------                        --------------   ----- \n",
      " 0   Ano                           393706 non-null  int64 \n",
      " 1   Mês                           393706 non-null  int64 \n",
      " 2   CodDistritoConcelhoFreguesia  393706 non-null  object\n",
      " 3   Distrito                      393706 non-null  object\n",
      " 4   Concelho                      393706 non-null  object\n",
      " 5   Freguesia                     393706 non-null  object\n",
      " 6   Tipo de Instalação            393706 non-null  object\n",
      " 7   Nível de Tensão               393706 non-null  object\n",
      " 8   CPEs (#)                      393706 non-null  int64 \n",
      "dtypes: int64(3), object(6)\n",
      "memory usage: 27.0+ MB\n"
     ]
    }
   ],
   "execution_count": 3
  },
  {
   "metadata": {},
   "cell_type": "markdown",
   "source": [
    "1. Verificar se há elementos null"
   ],
   "id": "9b9e0f8c7d1322b2"
  },
  {
   "metadata": {
    "ExecuteTime": {
     "end_time": "2024-05-10T11:44:04.214586Z",
     "start_time": "2024-05-10T11:44:04.204486Z"
    }
   },
   "cell_type": "code",
   "source": [
    "# Verificar nulls\n",
    "null_counts = df_caracterizacao_pes.isnull().sum()\n",
    "\n",
    "# Ver nulls por coluna\n",
    "print(\"Número de nulls por coluna:\")\n",
    "print(null_counts)\n",
    "\n",
    "df_caracterizacao_pes.head(15)"
   ],
   "id": "535b3b63d2532d98",
   "outputs": [
    {
     "name": "stdout",
     "output_type": "stream",
     "text": [
      "Número de nulls por coluna:\n",
      "Ano                             0\n",
      "Mês                             0\n",
      "CodDistritoConcelhoFreguesia    0\n",
      "Distrito                        0\n",
      "Concelho                        0\n",
      "Freguesia                       0\n",
      "Tipo de Instalação              0\n",
      "Nível de Tensão                 0\n",
      "CPEs (#)                        0\n",
      "dtype: int64\n"
     ]
    },
    {
     "data": {
      "text/plain": "     Ano  Mês CodDistritoConcelhoFreguesia          Distrito  \\\n0   2023   12                       160626  Viana do Castelo   \n1   2023   12                       010805            Aveiro   \n2   2023   12                       111603            Lisboa   \n3   2023    3                       170636         Vila Real   \n4   2023    3                       011109            Aveiro   \n5   2024    3                       061201           Coimbra   \n6   2024    3                       011109            Aveiro   \n7   2024    3                       121103        Portalegre   \n8   2024    3                       181210             Viseu   \n9   2023    7                       160434  Viana do Castelo   \n10  2023    7                       140212          Santarém   \n11  2022    7                       020606              Beja   \n12  2024    2                       080103              Faro   \n13  2024    2                       180722             Viseu   \n14  2022    7                       170705         Vila Real   \n\n               Concelho                                          Freguesia  \\\n0        Ponte da Barca  União das freguesias de Crasto, Ruivos e Grovelas   \n1             Estarreja                                           Pardilhó   \n2              Odivelas                                           Odivelas   \n3            Montalegre  União das freguesias de Cambeses do Rio, Donõe...   \n4              Mealhada  União das freguesias da Mealhada, Ventosa do B...   \n5   Pampilhosa da Serra                                             Cabril   \n6              Mealhada  União das freguesias da Mealhada, Ventosa do B...   \n7              Monforte                                       Santo Aleixo   \n8              Penedono          União das freguesias de Antas e Ourozinho   \n9                Monção             União das freguesias de Anhões e Luzio   \n10             Alcanena  União das freguesias de Malhou, Louriceira e E...   \n11         Castro Verde     União das freguesias de Castro Verde e Casével   \n12            Albufeira                                            Paderne   \n13    Moimenta da Beira  União das freguesias de Pêra Velha, Aldeia de ...   \n14                Murça                                              Murça   \n\n    Tipo de Instalação                   Nível de Tensão  CPEs (#)  \n0        Não Doméstico             Baixa Tensão Especial         1  \n1        Não Doméstico             Baixa Tensão Especial         4  \n2        Não Doméstico  Muito Alta, Alta e Média Tensões        22  \n3        Não Doméstico               Baixa Tensão Normal        42  \n4        Não Doméstico  Muito Alta, Alta e Média Tensões        23  \n5        Não Doméstico               Baixa Tensão Normal        46  \n6        Não Doméstico               Baixa Tensão Normal       911  \n7        Não Doméstico               Baixa Tensão Normal        61  \n8        Não Doméstico               Baixa Tensão Normal        51  \n9   Iluminação Pública               Baixa Tensão Normal         4  \n10              Outros               Baixa Tensão Normal         2  \n11       Não Doméstico               Baixa Tensão Normal       509  \n12       Não Doméstico             Baixa Tensão Especial        14  \n13       Não Doméstico  Muito Alta, Alta e Média Tensões         6  \n14  Iluminação Pública               Baixa Tensão Normal        17  ",
      "text/html": "<div>\n<style scoped>\n    .dataframe tbody tr th:only-of-type {\n        vertical-align: middle;\n    }\n\n    .dataframe tbody tr th {\n        vertical-align: top;\n    }\n\n    .dataframe thead th {\n        text-align: right;\n    }\n</style>\n<table border=\"1\" class=\"dataframe\">\n  <thead>\n    <tr style=\"text-align: right;\">\n      <th></th>\n      <th>Ano</th>\n      <th>Mês</th>\n      <th>CodDistritoConcelhoFreguesia</th>\n      <th>Distrito</th>\n      <th>Concelho</th>\n      <th>Freguesia</th>\n      <th>Tipo de Instalação</th>\n      <th>Nível de Tensão</th>\n      <th>CPEs (#)</th>\n    </tr>\n  </thead>\n  <tbody>\n    <tr>\n      <th>0</th>\n      <td>2023</td>\n      <td>12</td>\n      <td>160626</td>\n      <td>Viana do Castelo</td>\n      <td>Ponte da Barca</td>\n      <td>União das freguesias de Crasto, Ruivos e Grovelas</td>\n      <td>Não Doméstico</td>\n      <td>Baixa Tensão Especial</td>\n      <td>1</td>\n    </tr>\n    <tr>\n      <th>1</th>\n      <td>2023</td>\n      <td>12</td>\n      <td>010805</td>\n      <td>Aveiro</td>\n      <td>Estarreja</td>\n      <td>Pardilhó</td>\n      <td>Não Doméstico</td>\n      <td>Baixa Tensão Especial</td>\n      <td>4</td>\n    </tr>\n    <tr>\n      <th>2</th>\n      <td>2023</td>\n      <td>12</td>\n      <td>111603</td>\n      <td>Lisboa</td>\n      <td>Odivelas</td>\n      <td>Odivelas</td>\n      <td>Não Doméstico</td>\n      <td>Muito Alta, Alta e Média Tensões</td>\n      <td>22</td>\n    </tr>\n    <tr>\n      <th>3</th>\n      <td>2023</td>\n      <td>3</td>\n      <td>170636</td>\n      <td>Vila Real</td>\n      <td>Montalegre</td>\n      <td>União das freguesias de Cambeses do Rio, Donõe...</td>\n      <td>Não Doméstico</td>\n      <td>Baixa Tensão Normal</td>\n      <td>42</td>\n    </tr>\n    <tr>\n      <th>4</th>\n      <td>2023</td>\n      <td>3</td>\n      <td>011109</td>\n      <td>Aveiro</td>\n      <td>Mealhada</td>\n      <td>União das freguesias da Mealhada, Ventosa do B...</td>\n      <td>Não Doméstico</td>\n      <td>Muito Alta, Alta e Média Tensões</td>\n      <td>23</td>\n    </tr>\n    <tr>\n      <th>5</th>\n      <td>2024</td>\n      <td>3</td>\n      <td>061201</td>\n      <td>Coimbra</td>\n      <td>Pampilhosa da Serra</td>\n      <td>Cabril</td>\n      <td>Não Doméstico</td>\n      <td>Baixa Tensão Normal</td>\n      <td>46</td>\n    </tr>\n    <tr>\n      <th>6</th>\n      <td>2024</td>\n      <td>3</td>\n      <td>011109</td>\n      <td>Aveiro</td>\n      <td>Mealhada</td>\n      <td>União das freguesias da Mealhada, Ventosa do B...</td>\n      <td>Não Doméstico</td>\n      <td>Baixa Tensão Normal</td>\n      <td>911</td>\n    </tr>\n    <tr>\n      <th>7</th>\n      <td>2024</td>\n      <td>3</td>\n      <td>121103</td>\n      <td>Portalegre</td>\n      <td>Monforte</td>\n      <td>Santo Aleixo</td>\n      <td>Não Doméstico</td>\n      <td>Baixa Tensão Normal</td>\n      <td>61</td>\n    </tr>\n    <tr>\n      <th>8</th>\n      <td>2024</td>\n      <td>3</td>\n      <td>181210</td>\n      <td>Viseu</td>\n      <td>Penedono</td>\n      <td>União das freguesias de Antas e Ourozinho</td>\n      <td>Não Doméstico</td>\n      <td>Baixa Tensão Normal</td>\n      <td>51</td>\n    </tr>\n    <tr>\n      <th>9</th>\n      <td>2023</td>\n      <td>7</td>\n      <td>160434</td>\n      <td>Viana do Castelo</td>\n      <td>Monção</td>\n      <td>União das freguesias de Anhões e Luzio</td>\n      <td>Iluminação Pública</td>\n      <td>Baixa Tensão Normal</td>\n      <td>4</td>\n    </tr>\n    <tr>\n      <th>10</th>\n      <td>2023</td>\n      <td>7</td>\n      <td>140212</td>\n      <td>Santarém</td>\n      <td>Alcanena</td>\n      <td>União das freguesias de Malhou, Louriceira e E...</td>\n      <td>Outros</td>\n      <td>Baixa Tensão Normal</td>\n      <td>2</td>\n    </tr>\n    <tr>\n      <th>11</th>\n      <td>2022</td>\n      <td>7</td>\n      <td>020606</td>\n      <td>Beja</td>\n      <td>Castro Verde</td>\n      <td>União das freguesias de Castro Verde e Casével</td>\n      <td>Não Doméstico</td>\n      <td>Baixa Tensão Normal</td>\n      <td>509</td>\n    </tr>\n    <tr>\n      <th>12</th>\n      <td>2024</td>\n      <td>2</td>\n      <td>080103</td>\n      <td>Faro</td>\n      <td>Albufeira</td>\n      <td>Paderne</td>\n      <td>Não Doméstico</td>\n      <td>Baixa Tensão Especial</td>\n      <td>14</td>\n    </tr>\n    <tr>\n      <th>13</th>\n      <td>2024</td>\n      <td>2</td>\n      <td>180722</td>\n      <td>Viseu</td>\n      <td>Moimenta da Beira</td>\n      <td>União das freguesias de Pêra Velha, Aldeia de ...</td>\n      <td>Não Doméstico</td>\n      <td>Muito Alta, Alta e Média Tensões</td>\n      <td>6</td>\n    </tr>\n    <tr>\n      <th>14</th>\n      <td>2022</td>\n      <td>7</td>\n      <td>170705</td>\n      <td>Vila Real</td>\n      <td>Murça</td>\n      <td>Murça</td>\n      <td>Iluminação Pública</td>\n      <td>Baixa Tensão Normal</td>\n      <td>17</td>\n    </tr>\n  </tbody>\n</table>\n</div>"
     },
     "execution_count": 4,
     "metadata": {},
     "output_type": "execute_result"
    }
   ],
   "execution_count": 4
  },
  {
   "metadata": {},
   "cell_type": "markdown",
   "source": [
    "### 3. Tratamento e agregação dos dados\n",
    "\n",
    "1. Remover atributos como a Distrito, CodDistritoConcelhoFreguesia \n",
    "2. Agrupar por concelhos e remover a freguesia"
   ],
   "id": "dfbcb9c20628c2fe"
  },
  {
   "metadata": {},
   "cell_type": "markdown",
   "source": [
    "1. Remover atributos como a Distrito, CodDistritoConcelhoFreguesia"
   ],
   "id": "c008dbc37583bad4"
  },
  {
   "metadata": {
    "ExecuteTime": {
     "end_time": "2024-05-10T11:44:04.304466Z",
     "start_time": "2024-05-10T11:44:04.212422Z"
    }
   },
   "cell_type": "code",
   "source": [
    "# Remover atributos como o distrito e código distrito concelho freguesia\n",
    "df_caracterizacao_pes.drop(columns=['Distrito', 'CodDistritoConcelhoFreguesia'], inplace=True)\n",
    "df_caracterizacao_pes.info()"
   ],
   "id": "42a51f0bbe8bee74",
   "outputs": [
    {
     "name": "stdout",
     "output_type": "stream",
     "text": [
      "<class 'pandas.core.frame.DataFrame'>\n",
      "RangeIndex: 393706 entries, 0 to 393705\n",
      "Data columns (total 7 columns):\n",
      " #   Column              Non-Null Count   Dtype \n",
      "---  ------              --------------   ----- \n",
      " 0   Ano                 393706 non-null  int64 \n",
      " 1   Mês                 393706 non-null  int64 \n",
      " 2   Concelho            393706 non-null  object\n",
      " 3   Freguesia           393706 non-null  object\n",
      " 4   Tipo de Instalação  393706 non-null  object\n",
      " 5   Nível de Tensão     393706 non-null  object\n",
      " 6   CPEs (#)            393706 non-null  int64 \n",
      "dtypes: int64(3), object(4)\n",
      "memory usage: 21.0+ MB\n"
     ]
    }
   ],
   "execution_count": 5
  },
  {
   "metadata": {},
   "cell_type": "markdown",
   "source": [
    "2. Agrupar por concelhos e remover a freguesia"
   ],
   "id": "7b93bff5a24d1eda"
  },
  {
   "metadata": {
    "ExecuteTime": {
     "end_time": "2024-05-10T11:44:04.391307Z",
     "start_time": "2024-05-10T11:44:04.263911Z"
    }
   },
   "cell_type": "code",
   "source": [
    "df_agrupado_caracterizacao = df_caracterizacao_pes.groupby(['Concelho', 'Tipo de Instalação','Nível de Tensão', 'Ano', 'Mês']).sum().reset_index()\n",
    "df_agrupado_caracterizacao.drop(columns=['Freguesia'], inplace=True)\n",
    "df_agrupado_caracterizacao.rename(columns={'Concelho': 'concelho', 'Tipo de Instalação':'tipo_de_instalacao', 'Nível de Tensão':'nivel_de_tensao', 'Ano':'ano', 'Mês':'mes', 'CPEs (#)':'cpes_quantidade'}, inplace=True)\n",
    "df_agrupado_caracterizacao.head()"
   ],
   "id": "5e0fab24b8050c8a",
   "outputs": [
    {
     "data": {
      "text/plain": "   concelho tipo_de_instalacao        nivel_de_tensao   ano  mes  \\\n0  Abrantes          Doméstico  Baixa Tensão Especial  2022    3   \n1  Abrantes          Doméstico  Baixa Tensão Especial  2022    4   \n2  Abrantes          Doméstico  Baixa Tensão Especial  2022    5   \n3  Abrantes          Doméstico  Baixa Tensão Especial  2022    6   \n4  Abrantes          Doméstico  Baixa Tensão Especial  2022    7   \n\n   cpes_quantidade  \n0                1  \n1                1  \n2                1  \n3                1  \n4                1  ",
      "text/html": "<div>\n<style scoped>\n    .dataframe tbody tr th:only-of-type {\n        vertical-align: middle;\n    }\n\n    .dataframe tbody tr th {\n        vertical-align: top;\n    }\n\n    .dataframe thead th {\n        text-align: right;\n    }\n</style>\n<table border=\"1\" class=\"dataframe\">\n  <thead>\n    <tr style=\"text-align: right;\">\n      <th></th>\n      <th>concelho</th>\n      <th>tipo_de_instalacao</th>\n      <th>nivel_de_tensao</th>\n      <th>ano</th>\n      <th>mes</th>\n      <th>cpes_quantidade</th>\n    </tr>\n  </thead>\n  <tbody>\n    <tr>\n      <th>0</th>\n      <td>Abrantes</td>\n      <td>Doméstico</td>\n      <td>Baixa Tensão Especial</td>\n      <td>2022</td>\n      <td>3</td>\n      <td>1</td>\n    </tr>\n    <tr>\n      <th>1</th>\n      <td>Abrantes</td>\n      <td>Doméstico</td>\n      <td>Baixa Tensão Especial</td>\n      <td>2022</td>\n      <td>4</td>\n      <td>1</td>\n    </tr>\n    <tr>\n      <th>2</th>\n      <td>Abrantes</td>\n      <td>Doméstico</td>\n      <td>Baixa Tensão Especial</td>\n      <td>2022</td>\n      <td>5</td>\n      <td>1</td>\n    </tr>\n    <tr>\n      <th>3</th>\n      <td>Abrantes</td>\n      <td>Doméstico</td>\n      <td>Baixa Tensão Especial</td>\n      <td>2022</td>\n      <td>6</td>\n      <td>1</td>\n    </tr>\n    <tr>\n      <th>4</th>\n      <td>Abrantes</td>\n      <td>Doméstico</td>\n      <td>Baixa Tensão Especial</td>\n      <td>2022</td>\n      <td>7</td>\n      <td>1</td>\n    </tr>\n  </tbody>\n</table>\n</div>"
     },
     "execution_count": 6,
     "metadata": {},
     "output_type": "execute_result"
    }
   ],
   "execution_count": 6
  },
  {
   "metadata": {},
   "cell_type": "markdown",
   "source": [
    "### 4. Verificação dos dados\n",
    "\n",
    "1. Verificação número de linhas\n",
    "2. Verificação dados"
   ],
   "id": "7aadb8adec675729"
  },
  {
   "metadata": {},
   "cell_type": "markdown",
   "source": [
    "1. Verificação número de linhas"
   ],
   "id": "903004ed0bacb03f"
  },
  {
   "metadata": {
    "ExecuteTime": {
     "end_time": "2024-05-10T11:44:04.397960Z",
     "start_time": "2024-05-10T11:44:04.391774Z"
    }
   },
   "cell_type": "code",
   "source": [
    "# Contagem de linhas antes do agrupamento\n",
    "num_linhas_antes = len(df_caracterizacao_pes)\n",
    "\n",
    "# Contagem de linhas depois do agrupamento\n",
    "num_linhas_depois = len(df_agrupado_caracterizacao)\n",
    "\n",
    "# Exibição das contagens\n",
    "print(\"Número de linhas antes do agrupamento:\", num_linhas_antes)\n",
    "print(\"Número de linhas depois do agrupamento:\", num_linhas_depois)\n",
    "\n",
    "df_agrupado_caracterizacao.info()\n",
    "\n",
    "df_agrupado_caracterizacao.head(15)"
   ],
   "id": "4b6eae11cfe64de6",
   "outputs": [
    {
     "name": "stdout",
     "output_type": "stream",
     "text": [
      "Número de linhas antes do agrupamento: 393706\n",
      "Número de linhas depois do agrupamento: 48562\n",
      "<class 'pandas.core.frame.DataFrame'>\n",
      "RangeIndex: 48562 entries, 0 to 48561\n",
      "Data columns (total 6 columns):\n",
      " #   Column              Non-Null Count  Dtype \n",
      "---  ------              --------------  ----- \n",
      " 0   concelho            48562 non-null  object\n",
      " 1   tipo_de_instalacao  48562 non-null  object\n",
      " 2   nivel_de_tensao     48562 non-null  object\n",
      " 3   ano                 48562 non-null  int64 \n",
      " 4   mes                 48562 non-null  int64 \n",
      " 5   cpes_quantidade     48562 non-null  int64 \n",
      "dtypes: int64(3), object(3)\n",
      "memory usage: 2.2+ MB\n"
     ]
    },
    {
     "data": {
      "text/plain": "    concelho tipo_de_instalacao        nivel_de_tensao   ano  mes  \\\n0   Abrantes          Doméstico  Baixa Tensão Especial  2022    3   \n1   Abrantes          Doméstico  Baixa Tensão Especial  2022    4   \n2   Abrantes          Doméstico  Baixa Tensão Especial  2022    5   \n3   Abrantes          Doméstico  Baixa Tensão Especial  2022    6   \n4   Abrantes          Doméstico  Baixa Tensão Especial  2022    7   \n5   Abrantes          Doméstico  Baixa Tensão Especial  2022    8   \n6   Abrantes          Doméstico  Baixa Tensão Especial  2022    9   \n7   Abrantes          Doméstico  Baixa Tensão Especial  2022   10   \n8   Abrantes          Doméstico  Baixa Tensão Especial  2022   11   \n9   Abrantes          Doméstico  Baixa Tensão Especial  2022   12   \n10  Abrantes          Doméstico  Baixa Tensão Especial  2023    1   \n11  Abrantes          Doméstico  Baixa Tensão Especial  2023    2   \n12  Abrantes          Doméstico  Baixa Tensão Especial  2023    3   \n13  Abrantes          Doméstico  Baixa Tensão Especial  2023    4   \n14  Abrantes          Doméstico  Baixa Tensão Especial  2023    5   \n\n    cpes_quantidade  \n0                 1  \n1                 1  \n2                 1  \n3                 1  \n4                 1  \n5                 1  \n6                 1  \n7                 1  \n8                 1  \n9                 1  \n10                1  \n11                1  \n12                1  \n13                1  \n14                1  ",
      "text/html": "<div>\n<style scoped>\n    .dataframe tbody tr th:only-of-type {\n        vertical-align: middle;\n    }\n\n    .dataframe tbody tr th {\n        vertical-align: top;\n    }\n\n    .dataframe thead th {\n        text-align: right;\n    }\n</style>\n<table border=\"1\" class=\"dataframe\">\n  <thead>\n    <tr style=\"text-align: right;\">\n      <th></th>\n      <th>concelho</th>\n      <th>tipo_de_instalacao</th>\n      <th>nivel_de_tensao</th>\n      <th>ano</th>\n      <th>mes</th>\n      <th>cpes_quantidade</th>\n    </tr>\n  </thead>\n  <tbody>\n    <tr>\n      <th>0</th>\n      <td>Abrantes</td>\n      <td>Doméstico</td>\n      <td>Baixa Tensão Especial</td>\n      <td>2022</td>\n      <td>3</td>\n      <td>1</td>\n    </tr>\n    <tr>\n      <th>1</th>\n      <td>Abrantes</td>\n      <td>Doméstico</td>\n      <td>Baixa Tensão Especial</td>\n      <td>2022</td>\n      <td>4</td>\n      <td>1</td>\n    </tr>\n    <tr>\n      <th>2</th>\n      <td>Abrantes</td>\n      <td>Doméstico</td>\n      <td>Baixa Tensão Especial</td>\n      <td>2022</td>\n      <td>5</td>\n      <td>1</td>\n    </tr>\n    <tr>\n      <th>3</th>\n      <td>Abrantes</td>\n      <td>Doméstico</td>\n      <td>Baixa Tensão Especial</td>\n      <td>2022</td>\n      <td>6</td>\n      <td>1</td>\n    </tr>\n    <tr>\n      <th>4</th>\n      <td>Abrantes</td>\n      <td>Doméstico</td>\n      <td>Baixa Tensão Especial</td>\n      <td>2022</td>\n      <td>7</td>\n      <td>1</td>\n    </tr>\n    <tr>\n      <th>5</th>\n      <td>Abrantes</td>\n      <td>Doméstico</td>\n      <td>Baixa Tensão Especial</td>\n      <td>2022</td>\n      <td>8</td>\n      <td>1</td>\n    </tr>\n    <tr>\n      <th>6</th>\n      <td>Abrantes</td>\n      <td>Doméstico</td>\n      <td>Baixa Tensão Especial</td>\n      <td>2022</td>\n      <td>9</td>\n      <td>1</td>\n    </tr>\n    <tr>\n      <th>7</th>\n      <td>Abrantes</td>\n      <td>Doméstico</td>\n      <td>Baixa Tensão Especial</td>\n      <td>2022</td>\n      <td>10</td>\n      <td>1</td>\n    </tr>\n    <tr>\n      <th>8</th>\n      <td>Abrantes</td>\n      <td>Doméstico</td>\n      <td>Baixa Tensão Especial</td>\n      <td>2022</td>\n      <td>11</td>\n      <td>1</td>\n    </tr>\n    <tr>\n      <th>9</th>\n      <td>Abrantes</td>\n      <td>Doméstico</td>\n      <td>Baixa Tensão Especial</td>\n      <td>2022</td>\n      <td>12</td>\n      <td>1</td>\n    </tr>\n    <tr>\n      <th>10</th>\n      <td>Abrantes</td>\n      <td>Doméstico</td>\n      <td>Baixa Tensão Especial</td>\n      <td>2023</td>\n      <td>1</td>\n      <td>1</td>\n    </tr>\n    <tr>\n      <th>11</th>\n      <td>Abrantes</td>\n      <td>Doméstico</td>\n      <td>Baixa Tensão Especial</td>\n      <td>2023</td>\n      <td>2</td>\n      <td>1</td>\n    </tr>\n    <tr>\n      <th>12</th>\n      <td>Abrantes</td>\n      <td>Doméstico</td>\n      <td>Baixa Tensão Especial</td>\n      <td>2023</td>\n      <td>3</td>\n      <td>1</td>\n    </tr>\n    <tr>\n      <th>13</th>\n      <td>Abrantes</td>\n      <td>Doméstico</td>\n      <td>Baixa Tensão Especial</td>\n      <td>2023</td>\n      <td>4</td>\n      <td>1</td>\n    </tr>\n    <tr>\n      <th>14</th>\n      <td>Abrantes</td>\n      <td>Doméstico</td>\n      <td>Baixa Tensão Especial</td>\n      <td>2023</td>\n      <td>5</td>\n      <td>1</td>\n    </tr>\n  </tbody>\n</table>\n</div>"
     },
     "execution_count": 7,
     "metadata": {},
     "output_type": "execute_result"
    }
   ],
   "execution_count": 7
  },
  {
   "metadata": {},
   "cell_type": "markdown",
   "source": [
    "2. Verificação de dados"
   ],
   "id": "f00806625af10358"
  },
  {
   "metadata": {
    "ExecuteTime": {
     "end_time": "2024-05-10T11:44:04.427609Z",
     "start_time": "2024-05-10T11:44:04.402109Z"
    }
   },
   "cell_type": "code",
   "source": [
    "# Para a coleção de Consumos Mensais por Concelho\n",
    "df_consumos_lisboa = df_agrupado_caracterizacao[df_agrupado_caracterizacao['concelho'] == 'Lisboa']\n",
    "df_consumos_lisboa.info()"
   ],
   "id": "f04da481108f2194",
   "outputs": [
    {
     "name": "stdout",
     "output_type": "stream",
     "text": [
      "<class 'pandas.core.frame.DataFrame'>\n",
      "Index: 230 entries, 19578 to 19807\n",
      "Data columns (total 6 columns):\n",
      " #   Column              Non-Null Count  Dtype \n",
      "---  ------              --------------  ----- \n",
      " 0   concelho            230 non-null    object\n",
      " 1   tipo_de_instalacao  230 non-null    object\n",
      " 2   nivel_de_tensao     230 non-null    object\n",
      " 3   ano                 230 non-null    int64 \n",
      " 4   mes                 230 non-null    int64 \n",
      " 5   cpes_quantidade     230 non-null    int64 \n",
      "dtypes: int64(3), object(3)\n",
      "memory usage: 12.6+ KB\n"
     ]
    }
   ],
   "execution_count": 8
  },
  {
   "metadata": {
    "ExecuteTime": {
     "end_time": "2024-05-10T11:44:04.440398Z",
     "start_time": "2024-05-10T11:44:04.410545Z"
    }
   },
   "cell_type": "code",
   "source": [
    "df_consumos_lisboa"
   ],
   "id": "3a7bdc6cb42429e5",
   "outputs": [
    {
     "data": {
      "text/plain": "      concelho tipo_de_instalacao                   nivel_de_tensao   ano  \\\n19578   Lisboa          Doméstico             Baixa Tensão Especial  2022   \n19579   Lisboa          Doméstico             Baixa Tensão Especial  2022   \n19580   Lisboa          Doméstico             Baixa Tensão Especial  2022   \n19581   Lisboa          Doméstico             Baixa Tensão Especial  2022   \n19582   Lisboa          Doméstico             Baixa Tensão Especial  2022   \n...        ...                ...                               ...   ...   \n19803   Lisboa             Outros  Muito Alta, Alta e Média Tensões  2022   \n19804   Lisboa             Outros  Muito Alta, Alta e Média Tensões  2022   \n19805   Lisboa             Outros  Muito Alta, Alta e Média Tensões  2022   \n19806   Lisboa             Outros  Muito Alta, Alta e Média Tensões  2022   \n19807   Lisboa             Outros  Muito Alta, Alta e Média Tensões  2022   \n\n       mes  cpes_quantidade  \n19578    3               64  \n19579    4               64  \n19580    5               65  \n19581    6               65  \n19582    7               65  \n...    ...              ...  \n19803    4               16  \n19804    5               16  \n19805    6               32  \n19806    7               32  \n19807    8               32  \n\n[230 rows x 6 columns]",
      "text/html": "<div>\n<style scoped>\n    .dataframe tbody tr th:only-of-type {\n        vertical-align: middle;\n    }\n\n    .dataframe tbody tr th {\n        vertical-align: top;\n    }\n\n    .dataframe thead th {\n        text-align: right;\n    }\n</style>\n<table border=\"1\" class=\"dataframe\">\n  <thead>\n    <tr style=\"text-align: right;\">\n      <th></th>\n      <th>concelho</th>\n      <th>tipo_de_instalacao</th>\n      <th>nivel_de_tensao</th>\n      <th>ano</th>\n      <th>mes</th>\n      <th>cpes_quantidade</th>\n    </tr>\n  </thead>\n  <tbody>\n    <tr>\n      <th>19578</th>\n      <td>Lisboa</td>\n      <td>Doméstico</td>\n      <td>Baixa Tensão Especial</td>\n      <td>2022</td>\n      <td>3</td>\n      <td>64</td>\n    </tr>\n    <tr>\n      <th>19579</th>\n      <td>Lisboa</td>\n      <td>Doméstico</td>\n      <td>Baixa Tensão Especial</td>\n      <td>2022</td>\n      <td>4</td>\n      <td>64</td>\n    </tr>\n    <tr>\n      <th>19580</th>\n      <td>Lisboa</td>\n      <td>Doméstico</td>\n      <td>Baixa Tensão Especial</td>\n      <td>2022</td>\n      <td>5</td>\n      <td>65</td>\n    </tr>\n    <tr>\n      <th>19581</th>\n      <td>Lisboa</td>\n      <td>Doméstico</td>\n      <td>Baixa Tensão Especial</td>\n      <td>2022</td>\n      <td>6</td>\n      <td>65</td>\n    </tr>\n    <tr>\n      <th>19582</th>\n      <td>Lisboa</td>\n      <td>Doméstico</td>\n      <td>Baixa Tensão Especial</td>\n      <td>2022</td>\n      <td>7</td>\n      <td>65</td>\n    </tr>\n    <tr>\n      <th>...</th>\n      <td>...</td>\n      <td>...</td>\n      <td>...</td>\n      <td>...</td>\n      <td>...</td>\n      <td>...</td>\n    </tr>\n    <tr>\n      <th>19803</th>\n      <td>Lisboa</td>\n      <td>Outros</td>\n      <td>Muito Alta, Alta e Média Tensões</td>\n      <td>2022</td>\n      <td>4</td>\n      <td>16</td>\n    </tr>\n    <tr>\n      <th>19804</th>\n      <td>Lisboa</td>\n      <td>Outros</td>\n      <td>Muito Alta, Alta e Média Tensões</td>\n      <td>2022</td>\n      <td>5</td>\n      <td>16</td>\n    </tr>\n    <tr>\n      <th>19805</th>\n      <td>Lisboa</td>\n      <td>Outros</td>\n      <td>Muito Alta, Alta e Média Tensões</td>\n      <td>2022</td>\n      <td>6</td>\n      <td>32</td>\n    </tr>\n    <tr>\n      <th>19806</th>\n      <td>Lisboa</td>\n      <td>Outros</td>\n      <td>Muito Alta, Alta e Média Tensões</td>\n      <td>2022</td>\n      <td>7</td>\n      <td>32</td>\n    </tr>\n    <tr>\n      <th>19807</th>\n      <td>Lisboa</td>\n      <td>Outros</td>\n      <td>Muito Alta, Alta e Média Tensões</td>\n      <td>2022</td>\n      <td>8</td>\n      <td>32</td>\n    </tr>\n  </tbody>\n</table>\n<p>230 rows × 6 columns</p>\n</div>"
     },
     "execution_count": 9,
     "metadata": {},
     "output_type": "execute_result"
    }
   ],
   "execution_count": 9
  },
  {
   "metadata": {},
   "cell_type": "markdown",
   "source": [
    "### 5. Guardar Ficheiro"
   ],
   "id": "406891799873f689"
  },
  {
   "metadata": {
    "ExecuteTime": {
     "end_time": "2024-05-10T11:44:04.529874Z",
     "start_time": "2024-05-10T11:44:04.413384Z"
    }
   },
   "cell_type": "code",
   "source": [
    "file_path = data_path + 'treated/caracterizacao-pes-contrato-ativo.csv'\n",
    "\n",
    "df_agrupado_caracterizacao.to_csv(file_path, index=False)\n",
    "\n",
    "print(\"DataFrame guardado em \", file_path)"
   ],
   "id": "b2a4fb50502cce51",
   "outputs": [
    {
     "name": "stdout",
     "output_type": "stream",
     "text": [
      "DataFrame guardado em  ../data/treated/caracterizacao-pes-contrato-ativo.csv\n"
     ]
    }
   ],
   "execution_count": 10
  }
 ],
 "metadata": {
  "kernelspec": {
   "display_name": "Python 3",
   "language": "python",
   "name": "python3"
  },
  "language_info": {
   "codemirror_mode": {
    "name": "ipython",
    "version": 2
   },
   "file_extension": ".py",
   "mimetype": "text/x-python",
   "name": "python",
   "nbconvert_exporter": "python",
   "pygments_lexer": "ipython2",
   "version": "2.7.6"
  }
 },
 "nbformat": 4,
 "nbformat_minor": 5
}
