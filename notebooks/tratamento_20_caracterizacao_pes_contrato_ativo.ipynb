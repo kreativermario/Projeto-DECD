{
 "cells": [
  {
   "metadata": {},
   "cell_type": "markdown",
   "source": "### Import das dependências",
   "id": "468aeb307e35d1a7"
  },
  {
   "metadata": {
    "jupyter": {
     "is_executing": true
    }
   },
   "cell_type": "code",
   "source": [
    "import os\n",
    "\n",
    "import numpy as np\n",
    "import pandas as pd\n",
    "\n",
    "%matplotlib inline\n",
    "import matplotlib.pyplot as plt\n",
    "import seaborn as sns\n",
    "\n",
    "sns.set_theme()"
   ],
   "id": "6d9c8604312edc25",
   "outputs": [],
   "execution_count": null
  },
  {
   "metadata": {},
   "cell_type": "markdown",
   "source": "### 1. Importar o dataset - \"Caracterização de Pontos de Consumo (CPEs), com contratos ativos\"\n",
   "id": "d1d90b977898a693"
  },
  {
   "metadata": {},
   "cell_type": "code",
   "outputs": [],
   "execution_count": null,
   "source": [
    "data_path = '../data/' if os.path.exists('../data/') else 'https://raw.githubusercontent.com/kreativermario/Projeto-DECD/master/data/'\n",
    "\n",
    "caracterizacao_pes_path = data_path + '20-caracterizacao-pes-contrato-ativo.csv'\n",
    "\n",
    "df_caracterizacao_pes = pd.read_csv(caracterizacao_pes_path, delimiter=';')"
   ],
   "id": "afe204ca384b198d"
  },
  {
   "metadata": {},
   "cell_type": "markdown",
   "source": "### 2. Ver o dataset",
   "id": "4e9193b592b9c7a7"
  },
  {
   "metadata": {},
   "cell_type": "code",
   "outputs": [],
   "execution_count": null,
   "source": "df_caracterizacao_pes.info()",
   "id": "655d737282815dfc"
  },
  {
   "metadata": {},
   "cell_type": "markdown",
   "source": "1. Verificar se há elementos null",
   "id": "9b9e0f8c7d1322b2"
  },
  {
   "metadata": {},
   "cell_type": "code",
   "outputs": [],
   "execution_count": null,
   "source": [
    "# Verificar nulls\n",
    "null_counts = df_caracterizacao_pes.isnull().sum()\n",
    "\n",
    "# Ver nulls por coluna\n",
    "print(\"Número de nulls por coluna:\")\n",
    "print(null_counts)\n",
    "\n",
    "df_caracterizacao_pes.head(15)"
   ],
   "id": "535b3b63d2532d98"
  },
  {
   "metadata": {},
   "cell_type": "markdown",
   "source": [
    "### 3. Tratamento e agregação dos dados\n",
    "\n",
    "1. Remover atributos como a Distrito, CodDistritoConcelhoFreguesia \n",
    "2. Agrupar por concelhos e remover a freguesia"
   ],
   "id": "dfbcb9c20628c2fe"
  },
  {
   "metadata": {},
   "cell_type": "markdown",
   "source": "1. Remover atributos como a Distrito, CodDistritoConcelhoFreguesia",
   "id": "c008dbc37583bad4"
  },
  {
   "metadata": {},
   "cell_type": "code",
   "outputs": [],
   "execution_count": null,
   "source": [
    "# Remover atributos como o distrito e código distrito concelho freguesia\n",
    "df_caracterizacao_pes.drop(columns=['Distrito', 'CodDistritoConcelhoFreguesia'], inplace=True)\n",
    "df_caracterizacao_pes.info()"
   ],
   "id": "42a51f0bbe8bee74"
  },
  {
   "metadata": {},
   "cell_type": "markdown",
   "source": "2. Agrupar por concelhos e remover a freguesia",
   "id": "7b93bff5a24d1eda"
  },
  {
   "metadata": {},
   "cell_type": "code",
   "outputs": [],
   "execution_count": null,
   "source": [
    "df_agrupado_caracterizacao = df_caracterizacao_pes.groupby(['Concelho', 'Tipo de Instalação','Nível de Tensão', 'Ano', 'Mes']).sum().reset_index()\n",
    "df_agrupado_caracterizacao.drop(columns=['Freguesia'], inplace=True)\n",
    "df_agrupado_caracterizacao_consumos.head()"
   ],
   "id": "5e0fab24b8050c8a"
  },
  {
   "metadata": {},
   "cell_type": "markdown",
   "source": [
    "### 4. Verificação dos dados\n",
    "\n",
    "1. Verificação número de linhas\n",
    "2. Verificação dados"
   ],
   "id": "7aadb8adec675729"
  },
  {
   "metadata": {},
   "cell_type": "markdown",
   "source": "1. Verificação número de linhas",
   "id": "903004ed0bacb03f"
  },
  {
   "metadata": {},
   "cell_type": "code",
   "outputs": [],
   "execution_count": null,
   "source": [
    "# Contagem de linhas antes do agrupamento\n",
    "num_linhas_antes = len(df_caracterizacao_pes)\n",
    "\n",
    "# Contagem de linhas depois do agrupamento\n",
    "num_linhas_depois = len(df_agrupado_caracterizacao)\n",
    "\n",
    "# Exibição das contagens\n",
    "print(\"Número de linhas antes do agrupamento:\", num_linhas_antes)\n",
    "print(\"Número de linhas depois do agrupamento:\", num_linhas_depois)\n",
    "\n",
    "df_agrupado_caracterizacao.info()\n",
    "\n",
    "df_agrupado_caracterizacao.head(15)"
   ],
   "id": "4b6eae11cfe64de6"
  },
  {
   "metadata": {},
   "cell_type": "markdown",
   "source": "2. Verificação de dados",
   "id": "f00806625af10358"
  },
  {
   "metadata": {},
   "cell_type": "code",
   "outputs": [],
   "execution_count": null,
   "source": [
    "# Para a coleção de Consumos Mensais por Concelho\n",
    "df_consumos_lisboa = df_agrupado[df_agrupado['Concelho'] == 'Lisboa']\n",
    "df_consumos_lisboa.info()"
   ],
   "id": "f04da481108f2194"
  },
  {
   "metadata": {},
   "cell_type": "code",
   "outputs": [],
   "execution_count": null,
   "source": "df_consumos_lisboa",
   "id": "3a7bdc6cb42429e5"
  },
  {
   "metadata": {},
   "cell_type": "markdown",
   "source": "### 5. Guardar Ficheiro",
   "id": "406891799873f689"
  },
  {
   "metadata": {},
   "cell_type": "code",
   "outputs": [],
   "execution_count": null,
   "source": [
    "file_path = data_path + 'treated/caracterizacao-pes-contrato-ativo.csv.csv'\n",
    "\n",
    "df_agrupado_caracterizacao.to_csv(file_path, index=False)\n",
    "\n",
    "print(\"DataFrame guardado em \", file_path)"
   ],
   "id": "b2a4fb50502cce51"
  }
 ],
 "metadata": {
  "kernelspec": {
   "display_name": "Python 3",
   "language": "python",
   "name": "python3"
  },
  "language_info": {
   "codemirror_mode": {
    "name": "ipython",
    "version": 2
   },
   "file_extension": ".py",
   "mimetype": "text/x-python",
   "name": "python",
   "nbconvert_exporter": "python",
   "pygments_lexer": "ipython2",
   "version": "2.7.6"
  }
 },
 "nbformat": 4,
 "nbformat_minor": 5
}
