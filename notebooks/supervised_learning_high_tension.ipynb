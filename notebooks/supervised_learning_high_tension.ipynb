{
 "cells": [
  {
   "cell_type": "code",
   "outputs": [],
   "source": [
    "# Preparação dos dados\n",
    "import os\n",
    "\n",
    "import pandas as pd\n",
    "\n",
    "%matplotlib inline\n",
    "import matplotlib.pyplot as plt\n",
    "import numpy as np\n",
    "import seaborn as sns\n",
    "import pandas as pd\n",
    "from sklearn.ensemble import RandomForestClassifier\n",
    "from sklearn.neighbors import KNeighborsClassifier\n",
    "from sklearn.tree import DecisionTreeClassifier\n",
    "from sklearn.model_selection import cross_val_score\n",
    "from sklearn.metrics import classification_report\n",
    "\n",
    "sns.set_theme()"
   ],
   "metadata": {
    "collapsed": false,
    "ExecuteTime": {
     "end_time": "2024-05-17T17:08:18.783187Z",
     "start_time": "2024-05-17T17:08:18.575865Z"
    }
   },
   "id": "4890bf21c8588bf6",
   "execution_count": 1
  },
  {
   "cell_type": "code",
   "outputs": [],
   "source": [
    "## Importar dataset teste\n",
    "\n",
    "data_path = '../data/' if os.path.exists(\n",
    "    '../data/') else 'https://raw.githubusercontent.com/kreativermario/Projeto-DECD/master/data/'\n",
    "\n",
    "test_path = data_path + 'treated/prepared/categoric/no-dates/test/dataset-categoric-high-tension-test.csv'\n",
    "\n",
    "test_df = pd.read_csv(test_path)"
   ],
   "metadata": {
    "collapsed": false,
    "ExecuteTime": {
     "end_time": "2024-05-17T17:08:18.789882Z",
     "start_time": "2024-05-17T17:08:18.784124Z"
    }
   },
   "id": "18cf3f68ea5384c4",
   "execution_count": 2
  },
  {
   "cell_type": "code",
   "outputs": [],
   "source": [
    "## Importar dataset treino\n",
    "train_path = data_path + 'treated/prepared/categoric/no-dates/train/dataset-categoric-high-tensions-train.csv'\n",
    "\n",
    "train_df = pd.read_csv(train_path)"
   ],
   "metadata": {
    "collapsed": false,
    "ExecuteTime": {
     "end_time": "2024-05-17T17:08:18.793183Z",
     "start_time": "2024-05-17T17:08:18.789040Z"
    }
   },
   "id": "14be88093d292bfa",
   "execution_count": 3
  },
  {
   "cell_type": "code",
   "outputs": [
    {
     "data": {
      "text/plain": "               ano          mes  cpes_domestico_alta_tensao  \\\ncount  4641.000000  4641.000000                 4641.000000   \nmean   2022.705882     7.529412                    0.039647   \nstd       0.455694     3.397902                    0.206940   \nmin    2022.000000     1.000000                    0.000000   \n25%    2022.000000     5.000000                    0.000000   \n50%    2023.000000     8.000000                    0.000000   \n75%    2023.000000    10.000000                    0.000000   \nmax    2023.000000    12.000000                    2.000000   \n\n       cpes_nao_domestico_alta_tensao  cpes_outros_alta_tensao  \\\ncount                     4641.000000              4641.000000   \nmean                        95.380952                 0.408533   \nstd                        121.117813                 4.304804   \nmin                          0.000000                 0.000000   \n25%                         28.000000                 0.000000   \n50%                         51.000000                 0.000000   \n75%                        119.000000                 0.000000   \nmax                       1224.000000                75.000000   \n\n       densidade_populacional_pessoas_km2  num_industrias_extrativas  \\\ncount                         4641.000000                4641.000000   \nmean                           314.542125                   3.549451   \nstd                            856.169267                   7.986558   \nmin                              4.000000                   0.000000   \n25%                             25.000000                   0.000000   \n50%                             66.000000                   1.000000   \n75%                            177.000000                   4.000000   \nmax                           7310.000000                  87.000000   \n\n       num_industrias_transformadoras  \ncount                     4641.000000  \nmean                       243.047619  \nstd                        381.966373  \nmin                          8.000000  \n25%                         43.000000  \n50%                         91.000000  \n75%                        246.000000  \nmax                       2531.000000  ",
      "text/html": "<div>\n<style scoped>\n    .dataframe tbody tr th:only-of-type {\n        vertical-align: middle;\n    }\n\n    .dataframe tbody tr th {\n        vertical-align: top;\n    }\n\n    .dataframe thead th {\n        text-align: right;\n    }\n</style>\n<table border=\"1\" class=\"dataframe\">\n  <thead>\n    <tr style=\"text-align: right;\">\n      <th></th>\n      <th>ano</th>\n      <th>mes</th>\n      <th>cpes_domestico_alta_tensao</th>\n      <th>cpes_nao_domestico_alta_tensao</th>\n      <th>cpes_outros_alta_tensao</th>\n      <th>densidade_populacional_pessoas_km2</th>\n      <th>num_industrias_extrativas</th>\n      <th>num_industrias_transformadoras</th>\n    </tr>\n  </thead>\n  <tbody>\n    <tr>\n      <th>count</th>\n      <td>4641.000000</td>\n      <td>4641.000000</td>\n      <td>4641.000000</td>\n      <td>4641.000000</td>\n      <td>4641.000000</td>\n      <td>4641.000000</td>\n      <td>4641.000000</td>\n      <td>4641.000000</td>\n    </tr>\n    <tr>\n      <th>mean</th>\n      <td>2022.705882</td>\n      <td>7.529412</td>\n      <td>0.039647</td>\n      <td>95.380952</td>\n      <td>0.408533</td>\n      <td>314.542125</td>\n      <td>3.549451</td>\n      <td>243.047619</td>\n    </tr>\n    <tr>\n      <th>std</th>\n      <td>0.455694</td>\n      <td>3.397902</td>\n      <td>0.206940</td>\n      <td>121.117813</td>\n      <td>4.304804</td>\n      <td>856.169267</td>\n      <td>7.986558</td>\n      <td>381.966373</td>\n    </tr>\n    <tr>\n      <th>min</th>\n      <td>2022.000000</td>\n      <td>1.000000</td>\n      <td>0.000000</td>\n      <td>0.000000</td>\n      <td>0.000000</td>\n      <td>4.000000</td>\n      <td>0.000000</td>\n      <td>8.000000</td>\n    </tr>\n    <tr>\n      <th>25%</th>\n      <td>2022.000000</td>\n      <td>5.000000</td>\n      <td>0.000000</td>\n      <td>28.000000</td>\n      <td>0.000000</td>\n      <td>25.000000</td>\n      <td>0.000000</td>\n      <td>43.000000</td>\n    </tr>\n    <tr>\n      <th>50%</th>\n      <td>2023.000000</td>\n      <td>8.000000</td>\n      <td>0.000000</td>\n      <td>51.000000</td>\n      <td>0.000000</td>\n      <td>66.000000</td>\n      <td>1.000000</td>\n      <td>91.000000</td>\n    </tr>\n    <tr>\n      <th>75%</th>\n      <td>2023.000000</td>\n      <td>10.000000</td>\n      <td>0.000000</td>\n      <td>119.000000</td>\n      <td>0.000000</td>\n      <td>177.000000</td>\n      <td>4.000000</td>\n      <td>246.000000</td>\n    </tr>\n    <tr>\n      <th>max</th>\n      <td>2023.000000</td>\n      <td>12.000000</td>\n      <td>2.000000</td>\n      <td>1224.000000</td>\n      <td>75.000000</td>\n      <td>7310.000000</td>\n      <td>87.000000</td>\n      <td>2531.000000</td>\n    </tr>\n  </tbody>\n</table>\n</div>"
     },
     "execution_count": 4,
     "metadata": {},
     "output_type": "execute_result"
    }
   ],
   "source": [
    "train_df.describe()"
   ],
   "metadata": {
    "collapsed": false,
    "ExecuteTime": {
     "end_time": "2024-05-17T17:08:18.809637Z",
     "start_time": "2024-05-17T17:08:18.794174Z"
    }
   },
   "id": "c2950cd11c948251",
   "execution_count": 4
  },
  {
   "cell_type": "code",
   "outputs": [
    {
     "data": {
      "text/plain": "          ano         mes  cpes_domestico_alta_tensao  \\\ncount   546.0  546.000000                  546.000000   \nmean   2024.0    1.500000                    0.047619   \nstd       0.0    0.500459                    0.245181   \nmin    2024.0    1.000000                    0.000000   \n25%    2024.0    1.000000                    0.000000   \n50%    2024.0    1.500000                    0.000000   \n75%    2024.0    2.000000                    0.000000   \nmax    2024.0    2.000000                    2.000000   \n\n       cpes_nao_domestico_alta_tensao  cpes_outros_alta_tensao  \\\ncount                      546.000000                    546.0   \nmean                        96.485348                      0.0   \nstd                        122.640374                      0.0   \nmin                          0.000000                      0.0   \n25%                         29.000000                      0.0   \n50%                         52.000000                      0.0   \n75%                        119.000000                      0.0   \nmax                       1229.000000                      0.0   \n\n       densidade_populacional_pessoas_km2  num_industrias_extrativas  \\\ncount                          546.000000                 546.000000   \nmean                           314.542125                   3.549451   \nstd                            856.862054                   7.993020   \nmin                              4.000000                   0.000000   \n25%                             25.000000                   0.000000   \n50%                             66.000000                   1.000000   \n75%                            177.000000                   4.000000   \nmax                           7310.000000                  87.000000   \n\n       num_industrias_transformadoras  \ncount                      546.000000  \nmean                       243.047619  \nstd                        382.275449  \nmin                          8.000000  \n25%                         43.000000  \n50%                         91.000000  \n75%                        246.000000  \nmax                       2531.000000  ",
      "text/html": "<div>\n<style scoped>\n    .dataframe tbody tr th:only-of-type {\n        vertical-align: middle;\n    }\n\n    .dataframe tbody tr th {\n        vertical-align: top;\n    }\n\n    .dataframe thead th {\n        text-align: right;\n    }\n</style>\n<table border=\"1\" class=\"dataframe\">\n  <thead>\n    <tr style=\"text-align: right;\">\n      <th></th>\n      <th>ano</th>\n      <th>mes</th>\n      <th>cpes_domestico_alta_tensao</th>\n      <th>cpes_nao_domestico_alta_tensao</th>\n      <th>cpes_outros_alta_tensao</th>\n      <th>densidade_populacional_pessoas_km2</th>\n      <th>num_industrias_extrativas</th>\n      <th>num_industrias_transformadoras</th>\n    </tr>\n  </thead>\n  <tbody>\n    <tr>\n      <th>count</th>\n      <td>546.0</td>\n      <td>546.000000</td>\n      <td>546.000000</td>\n      <td>546.000000</td>\n      <td>546.0</td>\n      <td>546.000000</td>\n      <td>546.000000</td>\n      <td>546.000000</td>\n    </tr>\n    <tr>\n      <th>mean</th>\n      <td>2024.0</td>\n      <td>1.500000</td>\n      <td>0.047619</td>\n      <td>96.485348</td>\n      <td>0.0</td>\n      <td>314.542125</td>\n      <td>3.549451</td>\n      <td>243.047619</td>\n    </tr>\n    <tr>\n      <th>std</th>\n      <td>0.0</td>\n      <td>0.500459</td>\n      <td>0.245181</td>\n      <td>122.640374</td>\n      <td>0.0</td>\n      <td>856.862054</td>\n      <td>7.993020</td>\n      <td>382.275449</td>\n    </tr>\n    <tr>\n      <th>min</th>\n      <td>2024.0</td>\n      <td>1.000000</td>\n      <td>0.000000</td>\n      <td>0.000000</td>\n      <td>0.0</td>\n      <td>4.000000</td>\n      <td>0.000000</td>\n      <td>8.000000</td>\n    </tr>\n    <tr>\n      <th>25%</th>\n      <td>2024.0</td>\n      <td>1.000000</td>\n      <td>0.000000</td>\n      <td>29.000000</td>\n      <td>0.0</td>\n      <td>25.000000</td>\n      <td>0.000000</td>\n      <td>43.000000</td>\n    </tr>\n    <tr>\n      <th>50%</th>\n      <td>2024.0</td>\n      <td>1.500000</td>\n      <td>0.000000</td>\n      <td>52.000000</td>\n      <td>0.0</td>\n      <td>66.000000</td>\n      <td>1.000000</td>\n      <td>91.000000</td>\n    </tr>\n    <tr>\n      <th>75%</th>\n      <td>2024.0</td>\n      <td>2.000000</td>\n      <td>0.000000</td>\n      <td>119.000000</td>\n      <td>0.0</td>\n      <td>177.000000</td>\n      <td>4.000000</td>\n      <td>246.000000</td>\n    </tr>\n    <tr>\n      <th>max</th>\n      <td>2024.0</td>\n      <td>2.000000</td>\n      <td>2.000000</td>\n      <td>1229.000000</td>\n      <td>0.0</td>\n      <td>7310.000000</td>\n      <td>87.000000</td>\n      <td>2531.000000</td>\n    </tr>\n  </tbody>\n</table>\n</div>"
     },
     "execution_count": 5,
     "metadata": {},
     "output_type": "execute_result"
    }
   ],
   "source": [
    "test_df.describe()"
   ],
   "metadata": {
    "collapsed": false,
    "ExecuteTime": {
     "end_time": "2024-05-17T17:08:18.819566Z",
     "start_time": "2024-05-17T17:08:18.804941Z"
    }
   },
   "id": "8ed290a532f931b3",
   "execution_count": 5
  },
  {
   "cell_type": "markdown",
   "source": [
    "## Dataset não normalizado"
   ],
   "metadata": {
    "collapsed": false
   },
   "id": "fe8164cf34395c51"
  },
  {
   "cell_type": "code",
   "outputs": [],
   "source": [
    "classifiers = {\n",
    "    'Random Forest': RandomForestClassifier(n_estimators=100),\n",
    "    'k-NN': KNeighborsClassifier(n_neighbors=5),\n",
    "    'Decision Tree': DecisionTreeClassifier(),\n",
    "}"
   ],
   "metadata": {
    "collapsed": false,
    "ExecuteTime": {
     "end_time": "2024-05-17T17:08:18.822678Z",
     "start_time": "2024-05-17T17:08:18.815131Z"
    }
   },
   "id": "73f1568bf8139ec2",
   "execution_count": 6
  },
  {
   "cell_type": "code",
   "outputs": [
    {
     "name": "stderr",
     "output_type": "stream",
     "text": [
      "/Users/caoma/Documents/Programming/GIT/Projeto-DECD/.venv/lib/python3.11/site-packages/sklearn/model_selection/_split.py:737: UserWarning: The least populated class in y has only 4 members, which is less than n_splits=5.\n",
      "  warnings.warn(\n",
      "/Users/caoma/Documents/Programming/GIT/Projeto-DECD/.venv/lib/python3.11/site-packages/sklearn/model_selection/_split.py:737: UserWarning: The least populated class in y has only 4 members, which is less than n_splits=5.\n",
      "  warnings.warn(\n",
      "/Users/caoma/Documents/Programming/GIT/Projeto-DECD/.venv/lib/python3.11/site-packages/sklearn/model_selection/_split.py:737: UserWarning: The least populated class in y has only 4 members, which is less than n_splits=5.\n",
      "  warnings.warn(\n",
      "/Users/caoma/Documents/Programming/GIT/Projeto-DECD/.venv/lib/python3.11/site-packages/sklearn/model_selection/_split.py:737: UserWarning: The least populated class in y has only 4 members, which is less than n_splits=5.\n",
      "  warnings.warn(\n",
      "/Users/caoma/Documents/Programming/GIT/Projeto-DECD/.venv/lib/python3.11/site-packages/sklearn/model_selection/_split.py:737: UserWarning: The least populated class in y has only 4 members, which is less than n_splits=5.\n",
      "  warnings.warn(\n",
      "/Users/caoma/Documents/Programming/GIT/Projeto-DECD/.venv/lib/python3.11/site-packages/sklearn/model_selection/_split.py:737: UserWarning: The least populated class in y has only 4 members, which is less than n_splits=5.\n",
      "  warnings.warn(\n"
     ]
    },
    {
     "data": {
      "text/plain": "       Algorithm  F1-score  Accuracy\n0  Random Forest  0.406659  0.737773\n1           k-NN  0.374073  0.704370\n2  Decision Tree  0.387394  0.709556",
      "text/html": "<div>\n<style scoped>\n    .dataframe tbody tr th:only-of-type {\n        vertical-align: middle;\n    }\n\n    .dataframe tbody tr th {\n        vertical-align: top;\n    }\n\n    .dataframe thead th {\n        text-align: right;\n    }\n</style>\n<table border=\"1\" class=\"dataframe\">\n  <thead>\n    <tr style=\"text-align: right;\">\n      <th></th>\n      <th>Algorithm</th>\n      <th>F1-score</th>\n      <th>Accuracy</th>\n    </tr>\n  </thead>\n  <tbody>\n    <tr>\n      <th>0</th>\n      <td>Random Forest</td>\n      <td>0.406659</td>\n      <td>0.737773</td>\n    </tr>\n    <tr>\n      <th>1</th>\n      <td>k-NN</td>\n      <td>0.374073</td>\n      <td>0.704370</td>\n    </tr>\n    <tr>\n      <th>2</th>\n      <td>Decision Tree</td>\n      <td>0.387394</td>\n      <td>0.709556</td>\n    </tr>\n  </tbody>\n</table>\n</div>"
     },
     "execution_count": 7,
     "metadata": {},
     "output_type": "execute_result"
    }
   ],
   "source": [
    "f1_scores = []\n",
    "accuracy_scores = []\n",
    "algorithm_names = []\n",
    "\n",
    "for name, clf in classifiers.items():\n",
    "    scores_f1 = cross_val_score(clf, \n",
    "                                train_df.drop(columns=['energia_ativa_alta_tensao_kwh']),\n",
    "                                train_df['energia_ativa_alta_tensao_kwh'], \n",
    "                                cv=5, scoring='f1_macro')\n",
    "    \n",
    "    scores_accuracy = cross_val_score(clf, \n",
    "                                      train_df.drop(columns=['energia_ativa_alta_tensao_kwh']), \n",
    "                                      train_df['energia_ativa_alta_tensao_kwh'], \n",
    "                                      cv=5, scoring='accuracy')\n",
    "    \n",
    "    f1_mean = np.mean(scores_f1)\n",
    "    accuracy_mean = np.mean(scores_accuracy)\n",
    "    \n",
    "    f1_scores.append(f1_mean)\n",
    "    accuracy_scores.append(accuracy_mean)\n",
    "    algorithm_names.append(name)\n",
    "\n",
    "cv_results_df = pd.DataFrame({\n",
    "    'Algorithm': algorithm_names,\n",
    "    'F1-score': f1_scores,\n",
    "    'Accuracy': accuracy_scores\n",
    "})\n",
    "\n",
    "cv_results_df\n"
   ],
   "metadata": {
    "collapsed": false,
    "ExecuteTime": {
     "end_time": "2024-05-17T17:08:20.638803Z",
     "start_time": "2024-05-17T17:08:18.822062Z"
    }
   },
   "id": "e37d08a65048ffe6",
   "execution_count": 7
  },
  {
   "cell_type": "markdown",
   "source": [
    "### Ordenar os exemplos do conjunto de teste por ordem decrescente do erro da previsão do regressor e verificar se existe algum padrão relevante. \n"
   ],
   "metadata": {
    "collapsed": false
   },
   "id": "cd485e14f6aa74f6"
  },
  {
   "cell_type": "code",
   "outputs": [
    {
     "name": "stdout",
     "output_type": "stream",
     "text": [
      "Melhor algoritmo baseado no F1-score: Random Forest\n",
      "Melhor algoritmo baseado na Accuracy: Random Forest\n"
     ]
    }
   ],
   "source": [
    "best_f1_index = cv_results_df['F1-score'].idxmax()\n",
    "\n",
    "best_accuracy_index = cv_results_df['Accuracy'].idxmax()\n",
    "\n",
    "best_f1_algorithm = list(classifiers.keys())[best_f1_index]\n",
    "best_accuracy_algorithm = list(classifiers.keys())[best_accuracy_index]\n",
    "\n",
    "print(\"Melhor algoritmo baseado no F1-score:\", best_f1_algorithm)\n",
    "print(\"Melhor algoritmo baseado na Accuracy:\", best_accuracy_algorithm)\n"
   ],
   "metadata": {
    "collapsed": false,
    "ExecuteTime": {
     "end_time": "2024-05-17T17:08:20.641680Z",
     "start_time": "2024-05-17T17:08:20.638089Z"
    }
   },
   "id": "d254ece4e8a35bdc",
   "execution_count": 8
  },
  {
   "cell_type": "code",
   "outputs": [
    {
     "data": {
      "text/plain": "                             precision  recall  f1-score   support\n0.00 - 3349844.95               0.9944  0.8421    0.9119  418.0000\n103745511.62 - 113247611.62     0.5000  1.0000    0.6667    1.0000\n18073778.11 - 27864901.18       0.5000  0.7500    0.6000   12.0000\n27864901.18 - 37334467.99       0.3846  0.7143    0.5000    7.0000\n3349844.95 - 9260857.23         0.4457  0.6029    0.5125   68.0000\n37334467.99 - 46622152.52       0.1818  1.0000    0.3077    2.0000\n46622152.52 - 54159764.39       1.0000  0.6667    0.8000    3.0000\n54159764.39 - 62774847.02       0.0000  0.0000    0.0000    1.0000\n62774847.02 - 72884466.55       0.4000  0.6667    0.5000    3.0000\n72884466.55 - 82179750.18       0.5000  1.0000    0.6667    1.0000\n82179750.18 - 89817122.49       0.5000  1.0000    0.6667    1.0000\n9260857.23 - 18073778.11        0.4545  0.6897    0.5479   29.0000\naccuracy                        0.7985  0.7985    0.7985    0.7985\nmacro avg                       0.4884  0.7444    0.5567  546.0000\nweighted avg                    0.8679  0.7985    0.8226  546.0000",
      "text/html": "<div>\n<style scoped>\n    .dataframe tbody tr th:only-of-type {\n        vertical-align: middle;\n    }\n\n    .dataframe tbody tr th {\n        vertical-align: top;\n    }\n\n    .dataframe thead th {\n        text-align: right;\n    }\n</style>\n<table border=\"1\" class=\"dataframe\">\n  <thead>\n    <tr style=\"text-align: right;\">\n      <th></th>\n      <th>precision</th>\n      <th>recall</th>\n      <th>f1-score</th>\n      <th>support</th>\n    </tr>\n  </thead>\n  <tbody>\n    <tr>\n      <th>0.00 - 3349844.95</th>\n      <td>0.9944</td>\n      <td>0.8421</td>\n      <td>0.9119</td>\n      <td>418.0000</td>\n    </tr>\n    <tr>\n      <th>103745511.62 - 113247611.62</th>\n      <td>0.5000</td>\n      <td>1.0000</td>\n      <td>0.6667</td>\n      <td>1.0000</td>\n    </tr>\n    <tr>\n      <th>18073778.11 - 27864901.18</th>\n      <td>0.5000</td>\n      <td>0.7500</td>\n      <td>0.6000</td>\n      <td>12.0000</td>\n    </tr>\n    <tr>\n      <th>27864901.18 - 37334467.99</th>\n      <td>0.3846</td>\n      <td>0.7143</td>\n      <td>0.5000</td>\n      <td>7.0000</td>\n    </tr>\n    <tr>\n      <th>3349844.95 - 9260857.23</th>\n      <td>0.4457</td>\n      <td>0.6029</td>\n      <td>0.5125</td>\n      <td>68.0000</td>\n    </tr>\n    <tr>\n      <th>37334467.99 - 46622152.52</th>\n      <td>0.1818</td>\n      <td>1.0000</td>\n      <td>0.3077</td>\n      <td>2.0000</td>\n    </tr>\n    <tr>\n      <th>46622152.52 - 54159764.39</th>\n      <td>1.0000</td>\n      <td>0.6667</td>\n      <td>0.8000</td>\n      <td>3.0000</td>\n    </tr>\n    <tr>\n      <th>54159764.39 - 62774847.02</th>\n      <td>0.0000</td>\n      <td>0.0000</td>\n      <td>0.0000</td>\n      <td>1.0000</td>\n    </tr>\n    <tr>\n      <th>62774847.02 - 72884466.55</th>\n      <td>0.4000</td>\n      <td>0.6667</td>\n      <td>0.5000</td>\n      <td>3.0000</td>\n    </tr>\n    <tr>\n      <th>72884466.55 - 82179750.18</th>\n      <td>0.5000</td>\n      <td>1.0000</td>\n      <td>0.6667</td>\n      <td>1.0000</td>\n    </tr>\n    <tr>\n      <th>82179750.18 - 89817122.49</th>\n      <td>0.5000</td>\n      <td>1.0000</td>\n      <td>0.6667</td>\n      <td>1.0000</td>\n    </tr>\n    <tr>\n      <th>9260857.23 - 18073778.11</th>\n      <td>0.4545</td>\n      <td>0.6897</td>\n      <td>0.5479</td>\n      <td>29.0000</td>\n    </tr>\n    <tr>\n      <th>accuracy</th>\n      <td>0.7985</td>\n      <td>0.7985</td>\n      <td>0.7985</td>\n      <td>0.7985</td>\n    </tr>\n    <tr>\n      <th>macro avg</th>\n      <td>0.4884</td>\n      <td>0.7444</td>\n      <td>0.5567</td>\n      <td>546.0000</td>\n    </tr>\n    <tr>\n      <th>weighted avg</th>\n      <td>0.8679</td>\n      <td>0.7985</td>\n      <td>0.8226</td>\n      <td>546.0000</td>\n    </tr>\n  </tbody>\n</table>\n</div>"
     },
     "execution_count": 16,
     "metadata": {},
     "output_type": "execute_result"
    }
   ],
   "source": [
    "best_algorithm = classifiers[best_f1_algorithm] \n",
    "\n",
    "best_algorithm.fit(train_df.drop(columns=['energia_ativa_alta_tensao_kwh']), train_df['energia_ativa_alta_tensao_kwh'])\n",
    "\n",
    "predictions = best_algorithm.predict(test_df.drop(columns=['energia_ativa_alta_tensao_kwh']))\n",
    "\n",
    "report_dict = classification_report(test_df['energia_ativa_alta_tensao_kwh'], predictions, zero_division='warn', output_dict=True)\n",
    "\n",
    "report_df = pd.DataFrame(report_dict).transpose()\n",
    "\n",
    "report_df = report_df.round(4)\n",
    "\n",
    "report_df"
   ],
   "metadata": {
    "collapsed": false,
    "ExecuteTime": {
     "end_time": "2024-05-17T17:11:55.814010Z",
     "start_time": "2024-05-17T17:11:55.620173Z"
    }
   },
   "id": "8924e967895e5ea3",
   "execution_count": 16
  },
  {
   "cell_type": "code",
   "outputs": [],
   "source": [],
   "metadata": {
    "collapsed": false
   },
   "id": "9d39977c2785d5a2"
  }
 ],
 "metadata": {
  "kernelspec": {
   "display_name": "Python 3",
   "language": "python",
   "name": "python3"
  },
  "language_info": {
   "codemirror_mode": {
    "name": "ipython",
    "version": 2
   },
   "file_extension": ".py",
   "mimetype": "text/x-python",
   "name": "python",
   "nbconvert_exporter": "python",
   "pygments_lexer": "ipython2",
   "version": "2.7.6"
  }
 },
 "nbformat": 4,
 "nbformat_minor": 5
}
