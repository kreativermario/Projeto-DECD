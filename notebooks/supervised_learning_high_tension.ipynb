{
 "cells": [
  {
   "metadata": {
    "ExecuteTime": {
     "end_time": "2024-05-09T17:31:08.593457Z",
     "start_time": "2024-05-09T17:31:08.400442Z"
    }
   },
   "cell_type": "code",
   "outputs": [],
   "execution_count": 1,
   "source": [
    "# Preparação dos dados\n",
    "import os\n",
    "\n",
    "import numpy as np\n",
    "import pandas as pd\n",
    "\n",
    "%matplotlib inline\n",
    "import numpy as np\n",
    "import matplotlib.pyplot as plt\n",
    "import seaborn as sns\n",
    "import pandas as pd\n",
    "from sklearn.preprocessing import StandardScaler\n",
    "from sklearn.metrics import r2_score, mean_squared_error, mean_absolute_error\n",
    "from sklearn.linear_model import LinearRegression, Ridge, Lasso, ElasticNet\n",
    "from sklearn.neighbors import KNeighborsRegressor\n",
    "from sklearn.tree import DecisionTreeRegressor\n",
    "from sklearn.ensemble import RandomForestRegressor\n",
    "from sklearn.svm import SVR\n",
    "from sklearn.neural_network import MLPRegressor\n",
    "from sklearn.model_selection import cross_val_score\n",
    "\n",
    "sns.set_theme()"
   ],
   "id": "4890bf21c8588bf6"
  },
  {
   "metadata": {
    "ExecuteTime": {
     "end_time": "2024-05-09T17:31:08.601312Z",
     "start_time": "2024-05-09T17:31:08.593680Z"
    }
   },
   "cell_type": "code",
   "outputs": [],
   "execution_count": 2,
   "source": [
    "## Importar dataset teste\n",
    "\n",
    "data_path = '../data/' if os.path.exists(\n",
    "    '../data/') else 'https://raw.githubusercontent.com/kreativermario/Projeto-DECD/master/data/'\n",
    "\n",
    "test_path = data_path + 'treated/prepared/numeric/no-dates/dataset-numeric-high-tensions-test-no-dates.csv'\n",
    "\n",
    "test_df = pd.read_csv(test_path)"
   ],
   "id": "18cf3f68ea5384c4"
  },
  {
   "metadata": {
    "ExecuteTime": {
     "end_time": "2024-05-09T17:31:08.601938Z",
     "start_time": "2024-05-09T17:31:08.597617Z"
    }
   },
   "cell_type": "code",
   "outputs": [],
   "execution_count": 3,
   "source": [
    "## Importar dataset treino\n",
    "train_path = data_path + 'treated/prepared/numeric/no-dates/dataset-numeric-high-tensions-train-no-dates.csv'\n",
    "\n",
    "train_df = pd.read_csv(train_path)"
   ],
   "id": "14be88093d292bfa"
  },
  {
   "cell_type": "code",
   "outputs": [
    {
     "name": "stdout",
     "output_type": "stream",
     "text": [
      "<class 'pandas.core.frame.DataFrame'>\n",
      "RangeIndex: 4641 entries, 0 to 4640\n",
      "Data columns (total 5 columns):\n",
      " #   Column                              Non-Null Count  Dtype\n",
      "---  ------                              --------------  -----\n",
      " 0   energia_ativa_alta_tensao_kwh       4641 non-null   int64\n",
      " 1   cpes_domestico_alta_tensao          4641 non-null   int64\n",
      " 2   cpes_nao_domestico_alta_tensao      4641 non-null   int64\n",
      " 3   cpes_outros_alta_tensao             4641 non-null   int64\n",
      " 4   densidade_populacional_pessoas_km2  4641 non-null   int64\n",
      "dtypes: int64(5)\n",
      "memory usage: 181.4 KB\n"
     ]
    }
   ],
   "source": [
    "train_df.info()"
   ],
   "metadata": {
    "collapsed": false,
    "ExecuteTime": {
     "end_time": "2024-05-09T17:31:08.609910Z",
     "start_time": "2024-05-09T17:31:08.603952Z"
    }
   },
   "id": "c2950cd11c948251",
   "execution_count": 4
  },
  {
   "cell_type": "code",
   "outputs": [
    {
     "name": "stdout",
     "output_type": "stream",
     "text": [
      "<class 'pandas.core.frame.DataFrame'>\n",
      "RangeIndex: 273 entries, 0 to 272\n",
      "Data columns (total 5 columns):\n",
      " #   Column                              Non-Null Count  Dtype\n",
      "---  ------                              --------------  -----\n",
      " 0   energia_ativa_alta_tensao_kwh       273 non-null    int64\n",
      " 1   cpes_domestico_alta_tensao          273 non-null    int64\n",
      " 2   cpes_nao_domestico_alta_tensao      273 non-null    int64\n",
      " 3   cpes_outros_alta_tensao             273 non-null    int64\n",
      " 4   densidade_populacional_pessoas_km2  273 non-null    int64\n",
      "dtypes: int64(5)\n",
      "memory usage: 10.8 KB\n"
     ]
    }
   ],
   "source": [
    "test_df.info()"
   ],
   "metadata": {
    "collapsed": false,
    "ExecuteTime": {
     "end_time": "2024-05-09T17:31:08.610835Z",
     "start_time": "2024-05-09T17:31:08.607557Z"
    }
   },
   "id": "8ed290a532f931b3",
   "execution_count": 5
  },
  {
   "cell_type": "markdown",
   "source": [
    "# Algoritmos de Aprendizagem supervisionada"
   ],
   "metadata": {
    "collapsed": false
   },
   "id": "e22d9595e83c31f8"
  },
  {
   "cell_type": "code",
   "outputs": [],
   "source": [
    "# Define regressors\n",
    "regressors = {\n",
    "    'Linear Regression': LinearRegression(),\n",
    "    'Ridge': Ridge(alpha=1.0, solver='auto'),  # Adjust alpha if needed\n",
    "    'Lasso': Lasso(alpha=1.0),  # Adjust alpha if needed\n",
    "    'ElasticNet': ElasticNet(alpha=1.0, l1_ratio=0.5),  # Adjust alpha and l1_ratio if needed\n",
    "    'k-NN': KNeighborsRegressor(n_neighbors=5),\n",
    "    'Decision Tree': DecisionTreeRegressor(),\n",
    "    'Random Forest': RandomForestRegressor(n_estimators=100),\n",
    "    'SVM': SVR(kernel='linear', max_iter=10000),\n",
    "    'MLP': MLPRegressor(hidden_layer_sizes=(8,4), max_iter=20000),\n",
    "}"
   ],
   "metadata": {
    "collapsed": false,
    "ExecuteTime": {
     "end_time": "2024-05-09T17:31:08.612476Z",
     "start_time": "2024-05-09T17:31:08.610767Z"
    }
   },
   "id": "73f1568bf8139ec2",
   "execution_count": 6
  },
  {
   "cell_type": "markdown",
   "source": [],
   "metadata": {
    "collapsed": false
   },
   "id": "5c1105ad5b3dac5c"
  },
  {
   "cell_type": "code",
   "outputs": [
    {
     "data": {
      "text/plain": "Linear Regression    0.525342\nRidge                0.525608\nLasso                0.525342\nElasticNet           0.546765\nk-NN                -0.053549\nDecision Tree        0.107463\nRandom Forest        0.313042\nSVM                  0.469171\nMLP                  0.559093\ndtype: float64"
     },
     "execution_count": 7,
     "metadata": {},
     "output_type": "execute_result"
    }
   ],
   "source": [
    "cv_scores = pd.Series({\n",
    "    name: np.mean(cross_val_score(regressor, train_df.drop(columns=['energia_ativa_alta_tensao_kwh']), train_df['energia_ativa_alta_tensao_kwh'], cv=5))\n",
    "    for name, regressor in regressors.items()\n",
    "})\n",
    "\n",
    "cv_scores"
   ],
   "metadata": {
    "collapsed": false,
    "ExecuteTime": {
     "end_time": "2024-05-09T17:31:50.063155Z",
     "start_time": "2024-05-09T17:31:08.615710Z"
    }
   },
   "id": "308e7f9615735b88",
   "execution_count": 7
  },
  {
   "cell_type": "code",
   "outputs": [
    {
     "name": "stdout",
     "output_type": "stream",
     "text": [
      "### MLP ###\n",
      "r2: -12.467247207610427\n",
      "mse: 102325493122337.47\n",
      "mae: 6526089.422055636\n"
     ]
    }
   ],
   "source": [
    "best = cv_scores.sort_values(ascending=False).index[0]\n",
    "best_regressor = regressors[best]\n",
    "best_regressor.fit(train_df.drop(columns=['energia_ativa_alta_tensao_kwh']), train_df['energia_ativa_alta_tensao_kwh'])\n",
    "\n",
    "print(f'### {best} ###')\n",
    "\n",
    "y_pred = best_regressor.predict(test_df.drop(columns=['energia_ativa_alta_tensao_kwh']))\n",
    "\n",
    "print('r2: {}'.format(r2_score(test_df['energia_ativa_alta_tensao_kwh'], y_pred)))\n",
    "print('mse: {}'.format(mean_squared_error(test_df['energia_ativa_alta_tensao_kwh'], y_pred)))\n",
    "print('mae: {}'.format(mean_absolute_error(test_df['energia_ativa_alta_tensao_kwh'], y_pred)))"
   ],
   "metadata": {
    "collapsed": false,
    "ExecuteTime": {
     "end_time": "2024-05-09T17:31:52.951522Z",
     "start_time": "2024-05-09T17:31:50.059661Z"
    }
   },
   "id": "eed34b91a6c7e399",
   "execution_count": 8
  },
  {
   "cell_type": "markdown",
   "source": [
    "## Ordene os exemplos do conjunto de teste por ordem decrescente do erro da previsão do regressor e verifique se existe algum padrão relevante. "
   ],
   "metadata": {
    "collapsed": false
   },
   "id": "cd485e14f6aa74f6"
  },
  {
   "cell_type": "code",
   "outputs": [
    {
     "data": {
      "text/plain": "     energia_ativa_alta_tensao_kwh  cpes_domestico_alta_tensao  \\\n109                       25962882                           2   \n102                       12592033                           0   \n186                       16932236                           1   \n253                        7515787                           0   \n216                        8451642                           1   \n200                        9633627                           1   \n108                        9662301                           0   \n251                       10364095                           1   \n39                         5880938                           0   \n111                        7406105                           1   \n155                        7188597                           0   \n269                        3585288                           0   \n49                        10290235                           0   \n248                        3347272                           1   \n23                         2374551                           0   \n233                        5023436                           0   \n6                          4965990                           0   \n123                        5609025                           0   \n165                        4057093                           0   \n117                        7236526                           0   \n\n     cpes_nao_domestico_alta_tensao  cpes_outros_alta_tensao  \\\n109                            1226                        0   \n102                             581                        0   \n186                             519                        0   \n253                             465                        0   \n216                             486                        0   \n200                             494                        0   \n108                             490                        0   \n251                             482                        0   \n39                              380                        0   \n111                             366                        0   \n155                             293                        0   \n269                             320                        0   \n49                              380                        0   \n248                             291                        0   \n23                              133                        0   \n233                             312                        0   \n6                               305                        0   \n123                             256                        0   \n165                             286                        0   \n117                             286                        0   \n\n     densidade_populacional_pessoas_km2         error  \n109                                5466  7.846280e+07  \n102                                 649  3.368196e+07  \n186                                5753  3.293019e+07  \n253                                1821  3.165511e+07  \n216                                1215  3.143100e+07  \n200                                 639  2.992986e+07  \n108                                 231  2.885432e+07  \n251                                 667  2.831225e+07  \n39                                  308  2.420998e+07  \n111                                1215  2.314762e+07  \n155                                3755  2.177068e+07  \n269                                 139  2.156506e+07  \n49                                 1071  2.104730e+07  \n248                                 433  2.009823e+07  \n23                                 7310  1.995444e+07  \n233                                 210  1.962098e+07  \n6                                   137  1.901497e+07  \n123                                2814  1.893640e+07  \n165                                 152  1.847130e+07  \n117                                1674  1.777856e+07  ",
      "text/html": "<div>\n<style scoped>\n    .dataframe tbody tr th:only-of-type {\n        vertical-align: middle;\n    }\n\n    .dataframe tbody tr th {\n        vertical-align: top;\n    }\n\n    .dataframe thead th {\n        text-align: right;\n    }\n</style>\n<table border=\"1\" class=\"dataframe\">\n  <thead>\n    <tr style=\"text-align: right;\">\n      <th></th>\n      <th>energia_ativa_alta_tensao_kwh</th>\n      <th>cpes_domestico_alta_tensao</th>\n      <th>cpes_nao_domestico_alta_tensao</th>\n      <th>cpes_outros_alta_tensao</th>\n      <th>densidade_populacional_pessoas_km2</th>\n      <th>error</th>\n    </tr>\n  </thead>\n  <tbody>\n    <tr>\n      <th>109</th>\n      <td>25962882</td>\n      <td>2</td>\n      <td>1226</td>\n      <td>0</td>\n      <td>5466</td>\n      <td>7.846280e+07</td>\n    </tr>\n    <tr>\n      <th>102</th>\n      <td>12592033</td>\n      <td>0</td>\n      <td>581</td>\n      <td>0</td>\n      <td>649</td>\n      <td>3.368196e+07</td>\n    </tr>\n    <tr>\n      <th>186</th>\n      <td>16932236</td>\n      <td>1</td>\n      <td>519</td>\n      <td>0</td>\n      <td>5753</td>\n      <td>3.293019e+07</td>\n    </tr>\n    <tr>\n      <th>253</th>\n      <td>7515787</td>\n      <td>0</td>\n      <td>465</td>\n      <td>0</td>\n      <td>1821</td>\n      <td>3.165511e+07</td>\n    </tr>\n    <tr>\n      <th>216</th>\n      <td>8451642</td>\n      <td>1</td>\n      <td>486</td>\n      <td>0</td>\n      <td>1215</td>\n      <td>3.143100e+07</td>\n    </tr>\n    <tr>\n      <th>200</th>\n      <td>9633627</td>\n      <td>1</td>\n      <td>494</td>\n      <td>0</td>\n      <td>639</td>\n      <td>2.992986e+07</td>\n    </tr>\n    <tr>\n      <th>108</th>\n      <td>9662301</td>\n      <td>0</td>\n      <td>490</td>\n      <td>0</td>\n      <td>231</td>\n      <td>2.885432e+07</td>\n    </tr>\n    <tr>\n      <th>251</th>\n      <td>10364095</td>\n      <td>1</td>\n      <td>482</td>\n      <td>0</td>\n      <td>667</td>\n      <td>2.831225e+07</td>\n    </tr>\n    <tr>\n      <th>39</th>\n      <td>5880938</td>\n      <td>0</td>\n      <td>380</td>\n      <td>0</td>\n      <td>308</td>\n      <td>2.420998e+07</td>\n    </tr>\n    <tr>\n      <th>111</th>\n      <td>7406105</td>\n      <td>1</td>\n      <td>366</td>\n      <td>0</td>\n      <td>1215</td>\n      <td>2.314762e+07</td>\n    </tr>\n    <tr>\n      <th>155</th>\n      <td>7188597</td>\n      <td>0</td>\n      <td>293</td>\n      <td>0</td>\n      <td>3755</td>\n      <td>2.177068e+07</td>\n    </tr>\n    <tr>\n      <th>269</th>\n      <td>3585288</td>\n      <td>0</td>\n      <td>320</td>\n      <td>0</td>\n      <td>139</td>\n      <td>2.156506e+07</td>\n    </tr>\n    <tr>\n      <th>49</th>\n      <td>10290235</td>\n      <td>0</td>\n      <td>380</td>\n      <td>0</td>\n      <td>1071</td>\n      <td>2.104730e+07</td>\n    </tr>\n    <tr>\n      <th>248</th>\n      <td>3347272</td>\n      <td>1</td>\n      <td>291</td>\n      <td>0</td>\n      <td>433</td>\n      <td>2.009823e+07</td>\n    </tr>\n    <tr>\n      <th>23</th>\n      <td>2374551</td>\n      <td>0</td>\n      <td>133</td>\n      <td>0</td>\n      <td>7310</td>\n      <td>1.995444e+07</td>\n    </tr>\n    <tr>\n      <th>233</th>\n      <td>5023436</td>\n      <td>0</td>\n      <td>312</td>\n      <td>0</td>\n      <td>210</td>\n      <td>1.962098e+07</td>\n    </tr>\n    <tr>\n      <th>6</th>\n      <td>4965990</td>\n      <td>0</td>\n      <td>305</td>\n      <td>0</td>\n      <td>137</td>\n      <td>1.901497e+07</td>\n    </tr>\n    <tr>\n      <th>123</th>\n      <td>5609025</td>\n      <td>0</td>\n      <td>256</td>\n      <td>0</td>\n      <td>2814</td>\n      <td>1.893640e+07</td>\n    </tr>\n    <tr>\n      <th>165</th>\n      <td>4057093</td>\n      <td>0</td>\n      <td>286</td>\n      <td>0</td>\n      <td>152</td>\n      <td>1.847130e+07</td>\n    </tr>\n    <tr>\n      <th>117</th>\n      <td>7236526</td>\n      <td>0</td>\n      <td>286</td>\n      <td>0</td>\n      <td>1674</td>\n      <td>1.777856e+07</td>\n    </tr>\n  </tbody>\n</table>\n</div>"
     },
     "execution_count": 9,
     "metadata": {},
     "output_type": "execute_result"
    }
   ],
   "source": [
    "df_error = test_df.copy()\n",
    "df_error['error'] = np.abs(df_error['energia_ativa_alta_tensao_kwh'] - y_pred)\n",
    "\n",
    "df_error.sort_values('error', ascending=False).head(20)"
   ],
   "metadata": {
    "collapsed": false,
    "ExecuteTime": {
     "end_time": "2024-05-09T17:31:52.957805Z",
     "start_time": "2024-05-09T17:31:52.950950Z"
    }
   },
   "id": "c366e90f84a12146",
   "execution_count": 9
  },
  {
   "cell_type": "markdown",
   "source": [
    "# Aprendizagem supervisionada com datasets normalizados"
   ],
   "metadata": {
    "collapsed": false
   },
   "id": "70e75b51516a4e67"
  },
  {
   "cell_type": "code",
   "outputs": [],
   "source": [
    "normalized_train_path = data_path + 'treated/prepared/numeric/normalized/train/dataset-numeric-high-tensions-2223-no-dates-zscore.csv'\n",
    "\n",
    "normalized_train_df = pd.read_csv(normalized_train_path)"
   ],
   "metadata": {
    "collapsed": false,
    "ExecuteTime": {
     "end_time": "2024-05-09T17:31:52.962774Z",
     "start_time": "2024-05-09T17:31:52.958262Z"
    }
   },
   "id": "fc1918305d87bea4",
   "execution_count": 10
  },
  {
   "cell_type": "code",
   "outputs": [],
   "source": [
    "normalized_test_path = data_path + 'treated/prepared/numeric/normalized/test/dataset-numeric-high-tensions-2024-no-dates-zscore.csv'\n",
    "\n",
    "normalized_test_df = pd.read_csv(normalized_test_path)"
   ],
   "metadata": {
    "collapsed": false,
    "ExecuteTime": {
     "end_time": "2024-05-09T17:31:52.965617Z",
     "start_time": "2024-05-09T17:31:52.963557Z"
    }
   },
   "id": "7b19916afb5200eb",
   "execution_count": 11
  },
  {
   "cell_type": "code",
   "outputs": [],
   "source": [
    "# Define regressors\n",
    "normalized_regressors = {\n",
    "    'Linear Regression': LinearRegression(),\n",
    "    'Ridge': Ridge(alpha=1e-3, solver='auto'),\n",
    "    'k-NN': KNeighborsRegressor(n_neighbors=5),\n",
    "    'Decision Tree': DecisionTreeRegressor(),\n",
    "    'Random Forest': RandomForestRegressor(n_estimators=100),\n",
    "    'SVM': SVR(kernel='linear', max_iter=100000),\n",
    "    'MLP': MLPRegressor(hidden_layer_sizes=(8,4), max_iter=20000)\n",
    "}"
   ],
   "metadata": {
    "collapsed": false,
    "ExecuteTime": {
     "end_time": "2024-05-09T17:31:52.967932Z",
     "start_time": "2024-05-09T17:31:52.967232Z"
    }
   },
   "id": "653ce131c50c9b50",
   "execution_count": 12
  },
  {
   "cell_type": "code",
   "outputs": [
    {
     "data": {
      "text/plain": "Linear Regression    0.525342\nRidge                0.525342\nk-NN                 0.180841\nDecision Tree        0.229094\nRandom Forest        0.317098\nSVM                  0.513216\nMLP                  0.361249\ndtype: float64"
     },
     "execution_count": 13,
     "metadata": {},
     "output_type": "execute_result"
    }
   ],
   "source": [
    "cv_scores_normalized = pd.Series({\n",
    "    name: np.mean(cross_val_score(regressor, normalized_train_df.drop(columns=['energia_ativa_alta_tensao_kwh']), normalized_train_df['energia_ativa_alta_tensao_kwh'], cv=5))\n",
    "    for name, regressor in normalized_regressors.items()\n",
    "})\n",
    "\n",
    "cv_scores_normalized"
   ],
   "metadata": {
    "collapsed": false,
    "ExecuteTime": {
     "end_time": "2024-05-09T17:31:58.954396Z",
     "start_time": "2024-05-09T17:31:52.970432Z"
    }
   },
   "id": "a7666ecdcbcd0628",
   "execution_count": 13
  },
  {
   "cell_type": "code",
   "outputs": [
    {
     "name": "stdout",
     "output_type": "stream",
     "text": [
      "### MLP ###\n",
      "r2: 0.8070667745138976\n",
      "mse: 0.1929332254861024\n",
      "mae: 0.23876231925457972\n"
     ]
    }
   ],
   "source": [
    "best_normalized = cv_scores.sort_values(ascending=False).index[0]\n",
    "best_regressor_normalized = regressors[best_normalized]\n",
    "best_regressor_normalized.fit(normalized_train_df.drop(columns=['energia_ativa_alta_tensao_kwh']), normalized_train_df['energia_ativa_alta_tensao_kwh'])\n",
    "\n",
    "print(f'### {best_normalized} ###')\n",
    "\n",
    "y_pred = best_regressor_normalized.predict(normalized_test_df.drop(columns=['energia_ativa_alta_tensao_kwh']))\n",
    "\n",
    "print('r2: {}'.format(r2_score(normalized_test_df['energia_ativa_alta_tensao_kwh'], y_pred)))\n",
    "print('mse: {}'.format(mean_squared_error(normalized_test_df['energia_ativa_alta_tensao_kwh'], y_pred)))\n",
    "print('mae: {}'.format(mean_absolute_error(normalized_test_df['energia_ativa_alta_tensao_kwh'], y_pred)))"
   ],
   "metadata": {
    "collapsed": false,
    "ExecuteTime": {
     "end_time": "2024-05-09T17:31:59.592103Z",
     "start_time": "2024-05-09T17:31:58.956537Z"
    }
   },
   "id": "9c60db5392d264c4",
   "execution_count": 14
  },
  {
   "cell_type": "code",
   "outputs": [
    {
     "data": {
      "text/plain": "     energia_ativa_alta_tensao_kwh  cpes_domestico_alta_tensao  \\\n186                       5.588090                    3.887966   \n102                       4.013536                   -0.194398   \n108                       2.950678                   -0.194398   \n158                       2.871325                   -0.194398   \n251                       3.205277                    3.887966   \n49                        3.178482                   -0.194398   \n109                       8.864259                    7.970330   \n204                       2.421974                   -0.194398   \n200                       2.940275                    3.887966   \n60                        0.649553                   -0.194398   \n207                       0.441276                   -0.194398   \n244                       1.512197                   -0.194398   \n98                        0.133902                   -0.194398   \n15                        0.223519                   -0.194398   \n43                       -0.109997                   -0.194398   \n121                       1.703791                   -0.194398   \n248                       0.659690                    3.887966   \n195                       0.718674                   -0.194398   \n202                       1.520282                   -0.194398   \n167                       0.506736                   -0.194398   \n\n     cpes_nao_domestico_alta_tensao  cpes_outros_alta_tensao  \\\n186                        3.450074                      0.0   \n102                        3.956197                      0.0   \n108                        3.213339                      0.0   \n158                        1.213337                      0.0   \n251                        3.148033                      0.0   \n49                         2.315379                      0.0   \n109                        9.221507                      0.0   \n204                        1.115378                      0.0   \n200                        3.245992                      0.0   \n60                         0.960276                      0.0   \n207                        0.576602                      0.0   \n244                        0.543949                      0.0   \n98                         0.576602                      0.0   \n15                         0.274561                      0.0   \n43                         1.058235                      0.0   \n121                        0.911296                      0.0   \n248                        1.588848                      0.0   \n195                        0.184765                      0.0   \n202                        1.580685                      0.0   \n167                        0.952113                      0.0   \n\n     densidade_populacional_pessoas_km2     error  \n186                            6.352767  3.169996  \n102                            0.390687  2.518237  \n108                           -0.097587  1.873522  \n158                            0.116179  1.770836  \n251                            0.411713  1.439724  \n49                             0.883633  1.423210  \n109                            6.017517  1.309189  \n204                            0.210796  1.241312  \n200                            0.379005  1.150703  \n60                             2.197767  1.093600  \n207                            1.700148  1.064592  \n244                           -0.052031  0.944169  \n98                             1.104407  0.933155  \n15                             2.604273  0.837908  \n43                            -0.333547  0.827946  \n121                           -0.119781  0.804534  \n248                            0.138373  0.748951  \n195                           -0.275141  0.744992  \n202                           -0.241266  0.722677  \n167                            0.266866  0.721187  ",
      "text/html": "<div>\n<style scoped>\n    .dataframe tbody tr th:only-of-type {\n        vertical-align: middle;\n    }\n\n    .dataframe tbody tr th {\n        vertical-align: top;\n    }\n\n    .dataframe thead th {\n        text-align: right;\n    }\n</style>\n<table border=\"1\" class=\"dataframe\">\n  <thead>\n    <tr style=\"text-align: right;\">\n      <th></th>\n      <th>energia_ativa_alta_tensao_kwh</th>\n      <th>cpes_domestico_alta_tensao</th>\n      <th>cpes_nao_domestico_alta_tensao</th>\n      <th>cpes_outros_alta_tensao</th>\n      <th>densidade_populacional_pessoas_km2</th>\n      <th>error</th>\n    </tr>\n  </thead>\n  <tbody>\n    <tr>\n      <th>186</th>\n      <td>5.588090</td>\n      <td>3.887966</td>\n      <td>3.450074</td>\n      <td>0.0</td>\n      <td>6.352767</td>\n      <td>3.169996</td>\n    </tr>\n    <tr>\n      <th>102</th>\n      <td>4.013536</td>\n      <td>-0.194398</td>\n      <td>3.956197</td>\n      <td>0.0</td>\n      <td>0.390687</td>\n      <td>2.518237</td>\n    </tr>\n    <tr>\n      <th>108</th>\n      <td>2.950678</td>\n      <td>-0.194398</td>\n      <td>3.213339</td>\n      <td>0.0</td>\n      <td>-0.097587</td>\n      <td>1.873522</td>\n    </tr>\n    <tr>\n      <th>158</th>\n      <td>2.871325</td>\n      <td>-0.194398</td>\n      <td>1.213337</td>\n      <td>0.0</td>\n      <td>0.116179</td>\n      <td>1.770836</td>\n    </tr>\n    <tr>\n      <th>251</th>\n      <td>3.205277</td>\n      <td>3.887966</td>\n      <td>3.148033</td>\n      <td>0.0</td>\n      <td>0.411713</td>\n      <td>1.439724</td>\n    </tr>\n    <tr>\n      <th>49</th>\n      <td>3.178482</td>\n      <td>-0.194398</td>\n      <td>2.315379</td>\n      <td>0.0</td>\n      <td>0.883633</td>\n      <td>1.423210</td>\n    </tr>\n    <tr>\n      <th>109</th>\n      <td>8.864259</td>\n      <td>7.970330</td>\n      <td>9.221507</td>\n      <td>0.0</td>\n      <td>6.017517</td>\n      <td>1.309189</td>\n    </tr>\n    <tr>\n      <th>204</th>\n      <td>2.421974</td>\n      <td>-0.194398</td>\n      <td>1.115378</td>\n      <td>0.0</td>\n      <td>0.210796</td>\n      <td>1.241312</td>\n    </tr>\n    <tr>\n      <th>200</th>\n      <td>2.940275</td>\n      <td>3.887966</td>\n      <td>3.245992</td>\n      <td>0.0</td>\n      <td>0.379005</td>\n      <td>1.150703</td>\n    </tr>\n    <tr>\n      <th>60</th>\n      <td>0.649553</td>\n      <td>-0.194398</td>\n      <td>0.960276</td>\n      <td>0.0</td>\n      <td>2.197767</td>\n      <td>1.093600</td>\n    </tr>\n    <tr>\n      <th>207</th>\n      <td>0.441276</td>\n      <td>-0.194398</td>\n      <td>0.576602</td>\n      <td>0.0</td>\n      <td>1.700148</td>\n      <td>1.064592</td>\n    </tr>\n    <tr>\n      <th>244</th>\n      <td>1.512197</td>\n      <td>-0.194398</td>\n      <td>0.543949</td>\n      <td>0.0</td>\n      <td>-0.052031</td>\n      <td>0.944169</td>\n    </tr>\n    <tr>\n      <th>98</th>\n      <td>0.133902</td>\n      <td>-0.194398</td>\n      <td>0.576602</td>\n      <td>0.0</td>\n      <td>1.104407</td>\n      <td>0.933155</td>\n    </tr>\n    <tr>\n      <th>15</th>\n      <td>0.223519</td>\n      <td>-0.194398</td>\n      <td>0.274561</td>\n      <td>0.0</td>\n      <td>2.604273</td>\n      <td>0.837908</td>\n    </tr>\n    <tr>\n      <th>43</th>\n      <td>-0.109997</td>\n      <td>-0.194398</td>\n      <td>1.058235</td>\n      <td>0.0</td>\n      <td>-0.333547</td>\n      <td>0.827946</td>\n    </tr>\n    <tr>\n      <th>121</th>\n      <td>1.703791</td>\n      <td>-0.194398</td>\n      <td>0.911296</td>\n      <td>0.0</td>\n      <td>-0.119781</td>\n      <td>0.804534</td>\n    </tr>\n    <tr>\n      <th>248</th>\n      <td>0.659690</td>\n      <td>3.887966</td>\n      <td>1.588848</td>\n      <td>0.0</td>\n      <td>0.138373</td>\n      <td>0.748951</td>\n    </tr>\n    <tr>\n      <th>195</th>\n      <td>0.718674</td>\n      <td>-0.194398</td>\n      <td>0.184765</td>\n      <td>0.0</td>\n      <td>-0.275141</td>\n      <td>0.744992</td>\n    </tr>\n    <tr>\n      <th>202</th>\n      <td>1.520282</td>\n      <td>-0.194398</td>\n      <td>1.580685</td>\n      <td>0.0</td>\n      <td>-0.241266</td>\n      <td>0.722677</td>\n    </tr>\n    <tr>\n      <th>167</th>\n      <td>0.506736</td>\n      <td>-0.194398</td>\n      <td>0.952113</td>\n      <td>0.0</td>\n      <td>0.266866</td>\n      <td>0.721187</td>\n    </tr>\n  </tbody>\n</table>\n</div>"
     },
     "execution_count": 15,
     "metadata": {},
     "output_type": "execute_result"
    }
   ],
   "source": [
    "df_error_normalized = normalized_test_df.copy()\n",
    "df_error_normalized['error'] = np.abs(df_error_normalized['energia_ativa_alta_tensao_kwh'] - y_pred)\n",
    "\n",
    "df_error_normalized.sort_values('error', ascending=False).head(20)"
   ],
   "metadata": {
    "collapsed": false,
    "ExecuteTime": {
     "end_time": "2024-05-09T17:31:59.599497Z",
     "start_time": "2024-05-09T17:31:59.592201Z"
    }
   },
   "id": "cec4f4b84714d43b",
   "execution_count": 15
  }
 ],
 "metadata": {
  "kernelspec": {
   "display_name": "Python 3",
   "language": "python",
   "name": "python3"
  },
  "language_info": {
   "codemirror_mode": {
    "name": "ipython",
    "version": 2
   },
   "file_extension": ".py",
   "mimetype": "text/x-python",
   "name": "python",
   "nbconvert_exporter": "python",
   "pygments_lexer": "ipython2",
   "version": "2.7.6"
  }
 },
 "nbformat": 4,
 "nbformat_minor": 5
}
