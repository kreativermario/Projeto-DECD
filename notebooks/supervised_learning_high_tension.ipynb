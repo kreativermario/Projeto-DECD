{
 "cells": [
  {
   "metadata": {
    "ExecuteTime": {
     "end_time": "2024-05-17T09:01:05.632778Z",
     "start_time": "2024-05-17T09:01:05.425122Z"
    }
   },
   "cell_type": "code",
   "outputs": [],
   "execution_count": 1,
   "source": [
    "# Preparação dos dados\n",
    "import os\n",
    "\n",
    "import pandas as pd\n",
    "\n",
    "%matplotlib inline\n",
    "import numpy as np\n",
    "import seaborn as sns\n",
    "import pandas as pd\n",
    "from sklearn.metrics import r2_score, mean_squared_error, mean_absolute_error\n",
    "from sklearn.linear_model import LinearRegression, Ridge, Lasso, ElasticNet\n",
    "from sklearn.neighbors import KNeighborsRegressor\n",
    "from sklearn.tree import DecisionTreeRegressor\n",
    "from sklearn.ensemble import RandomForestRegressor\n",
    "from sklearn.svm import SVR\n",
    "from sklearn.neural_network import MLPRegressor\n",
    "from sklearn.model_selection import cross_val_score\n",
    "\n",
    "sns.set_theme()"
   ],
   "id": "4890bf21c8588bf6"
  },
  {
   "metadata": {
    "ExecuteTime": {
     "end_time": "2024-05-17T09:01:05.638989Z",
     "start_time": "2024-05-17T09:01:05.633828Z"
    }
   },
   "cell_type": "code",
   "outputs": [],
   "execution_count": 2,
   "source": [
    "## Importar dataset teste\n",
    "\n",
    "data_path = '../data/' if os.path.exists(\n",
    "    '../data/') else 'https://raw.githubusercontent.com/kreativermario/Projeto-DECD/master/data/'\n",
    "\n",
    "test_path = data_path + 'treated/prepared/numeric/no-dates/dataset-numeric-high-tensions-test-no-dates.csv'\n",
    "\n",
    "test_df = pd.read_csv(test_path)"
   ],
   "id": "18cf3f68ea5384c4"
  },
  {
   "metadata": {
    "ExecuteTime": {
     "end_time": "2024-05-17T09:01:05.641809Z",
     "start_time": "2024-05-17T09:01:05.637827Z"
    }
   },
   "cell_type": "code",
   "outputs": [],
   "execution_count": 3,
   "source": [
    "## Importar dataset treino\n",
    "train_path = data_path + 'treated/prepared/numeric/no-dates/dataset-numeric-high-tensions-train-no-dates.csv'\n",
    "\n",
    "train_df = pd.read_csv(train_path)"
   ],
   "id": "14be88093d292bfa"
  },
  {
   "cell_type": "code",
   "outputs": [
    {
     "data": {
      "text/plain": "       energia_ativa_alta_tensao_kwh  cpes_domestico_alta_tensao  \\\ncount                   4.641000e+03                 4641.000000   \nmean                    7.185369e+06                    0.039647   \nstd                     1.456594e+07                    0.206940   \nmin                     0.000000e+00                    0.000000   \n25%                     4.570540e+05                    0.000000   \n50%                     1.955336e+06                    0.000000   \n75%                     6.360625e+06                    0.000000   \nmax                     1.279470e+08                    2.000000   \n\n       cpes_nao_domestico_alta_tensao  cpes_outros_alta_tensao  \\\ncount                     4641.000000              4641.000000   \nmean                        95.380952                 0.408533   \nstd                        121.117813                 4.304804   \nmin                          0.000000                 0.000000   \n25%                         28.000000                 0.000000   \n50%                         51.000000                 0.000000   \n75%                        119.000000                 0.000000   \nmax                       1224.000000                75.000000   \n\n       densidade_populacional_pessoas_km2  \ncount                         4641.000000  \nmean                           314.542125  \nstd                            856.169267  \nmin                              4.000000  \n25%                             25.000000  \n50%                             66.000000  \n75%                            177.000000  \nmax                           7310.000000  ",
      "text/html": "<div>\n<style scoped>\n    .dataframe tbody tr th:only-of-type {\n        vertical-align: middle;\n    }\n\n    .dataframe tbody tr th {\n        vertical-align: top;\n    }\n\n    .dataframe thead th {\n        text-align: right;\n    }\n</style>\n<table border=\"1\" class=\"dataframe\">\n  <thead>\n    <tr style=\"text-align: right;\">\n      <th></th>\n      <th>energia_ativa_alta_tensao_kwh</th>\n      <th>cpes_domestico_alta_tensao</th>\n      <th>cpes_nao_domestico_alta_tensao</th>\n      <th>cpes_outros_alta_tensao</th>\n      <th>densidade_populacional_pessoas_km2</th>\n    </tr>\n  </thead>\n  <tbody>\n    <tr>\n      <th>count</th>\n      <td>4.641000e+03</td>\n      <td>4641.000000</td>\n      <td>4641.000000</td>\n      <td>4641.000000</td>\n      <td>4641.000000</td>\n    </tr>\n    <tr>\n      <th>mean</th>\n      <td>7.185369e+06</td>\n      <td>0.039647</td>\n      <td>95.380952</td>\n      <td>0.408533</td>\n      <td>314.542125</td>\n    </tr>\n    <tr>\n      <th>std</th>\n      <td>1.456594e+07</td>\n      <td>0.206940</td>\n      <td>121.117813</td>\n      <td>4.304804</td>\n      <td>856.169267</td>\n    </tr>\n    <tr>\n      <th>min</th>\n      <td>0.000000e+00</td>\n      <td>0.000000</td>\n      <td>0.000000</td>\n      <td>0.000000</td>\n      <td>4.000000</td>\n    </tr>\n    <tr>\n      <th>25%</th>\n      <td>4.570540e+05</td>\n      <td>0.000000</td>\n      <td>28.000000</td>\n      <td>0.000000</td>\n      <td>25.000000</td>\n    </tr>\n    <tr>\n      <th>50%</th>\n      <td>1.955336e+06</td>\n      <td>0.000000</td>\n      <td>51.000000</td>\n      <td>0.000000</td>\n      <td>66.000000</td>\n    </tr>\n    <tr>\n      <th>75%</th>\n      <td>6.360625e+06</td>\n      <td>0.000000</td>\n      <td>119.000000</td>\n      <td>0.000000</td>\n      <td>177.000000</td>\n    </tr>\n    <tr>\n      <th>max</th>\n      <td>1.279470e+08</td>\n      <td>2.000000</td>\n      <td>1224.000000</td>\n      <td>75.000000</td>\n      <td>7310.000000</td>\n    </tr>\n  </tbody>\n</table>\n</div>"
     },
     "execution_count": 4,
     "metadata": {},
     "output_type": "execute_result"
    }
   ],
   "source": [
    "train_df.describe()"
   ],
   "metadata": {
    "collapsed": false,
    "ExecuteTime": {
     "end_time": "2024-05-17T09:01:05.652957Z",
     "start_time": "2024-05-17T09:01:05.641809Z"
    }
   },
   "id": "c2950cd11c948251",
   "execution_count": 4
  },
  {
   "cell_type": "code",
   "outputs": [
    {
     "data": {
      "text/plain": "       energia_ativa_alta_tensao_kwh  cpes_domestico_alta_tensao  \\\ncount                   5.460000e+02                  546.000000   \nmean                    4.366219e+06                    0.047619   \nstd                     1.108600e+07                    0.245181   \nmin                     0.000000e+00                    0.000000   \n25%                     2.135982e+05                    0.000000   \n50%                     8.463970e+05                    0.000000   \n75%                     3.183322e+06                    0.000000   \nmax                     1.118887e+08                    2.000000   \n\n       cpes_nao_domestico_alta_tensao  cpes_outros_alta_tensao  \\\ncount                      546.000000                    546.0   \nmean                        96.485348                      0.0   \nstd                        122.640374                      0.0   \nmin                          0.000000                      0.0   \n25%                         29.000000                      0.0   \n50%                         52.000000                      0.0   \n75%                        119.000000                      0.0   \nmax                       1229.000000                      0.0   \n\n       densidade_populacional_pessoas_km2  \ncount                          546.000000  \nmean                           314.542125  \nstd                            856.862054  \nmin                              4.000000  \n25%                             25.000000  \n50%                             66.000000  \n75%                            177.000000  \nmax                           7310.000000  ",
      "text/html": "<div>\n<style scoped>\n    .dataframe tbody tr th:only-of-type {\n        vertical-align: middle;\n    }\n\n    .dataframe tbody tr th {\n        vertical-align: top;\n    }\n\n    .dataframe thead th {\n        text-align: right;\n    }\n</style>\n<table border=\"1\" class=\"dataframe\">\n  <thead>\n    <tr style=\"text-align: right;\">\n      <th></th>\n      <th>energia_ativa_alta_tensao_kwh</th>\n      <th>cpes_domestico_alta_tensao</th>\n      <th>cpes_nao_domestico_alta_tensao</th>\n      <th>cpes_outros_alta_tensao</th>\n      <th>densidade_populacional_pessoas_km2</th>\n    </tr>\n  </thead>\n  <tbody>\n    <tr>\n      <th>count</th>\n      <td>5.460000e+02</td>\n      <td>546.000000</td>\n      <td>546.000000</td>\n      <td>546.0</td>\n      <td>546.000000</td>\n    </tr>\n    <tr>\n      <th>mean</th>\n      <td>4.366219e+06</td>\n      <td>0.047619</td>\n      <td>96.485348</td>\n      <td>0.0</td>\n      <td>314.542125</td>\n    </tr>\n    <tr>\n      <th>std</th>\n      <td>1.108600e+07</td>\n      <td>0.245181</td>\n      <td>122.640374</td>\n      <td>0.0</td>\n      <td>856.862054</td>\n    </tr>\n    <tr>\n      <th>min</th>\n      <td>0.000000e+00</td>\n      <td>0.000000</td>\n      <td>0.000000</td>\n      <td>0.0</td>\n      <td>4.000000</td>\n    </tr>\n    <tr>\n      <th>25%</th>\n      <td>2.135982e+05</td>\n      <td>0.000000</td>\n      <td>29.000000</td>\n      <td>0.0</td>\n      <td>25.000000</td>\n    </tr>\n    <tr>\n      <th>50%</th>\n      <td>8.463970e+05</td>\n      <td>0.000000</td>\n      <td>52.000000</td>\n      <td>0.0</td>\n      <td>66.000000</td>\n    </tr>\n    <tr>\n      <th>75%</th>\n      <td>3.183322e+06</td>\n      <td>0.000000</td>\n      <td>119.000000</td>\n      <td>0.0</td>\n      <td>177.000000</td>\n    </tr>\n    <tr>\n      <th>max</th>\n      <td>1.118887e+08</td>\n      <td>2.000000</td>\n      <td>1229.000000</td>\n      <td>0.0</td>\n      <td>7310.000000</td>\n    </tr>\n  </tbody>\n</table>\n</div>"
     },
     "execution_count": 5,
     "metadata": {},
     "output_type": "execute_result"
    }
   ],
   "source": [
    "test_df.describe()"
   ],
   "metadata": {
    "collapsed": false,
    "ExecuteTime": {
     "end_time": "2024-05-17T09:01:05.662848Z",
     "start_time": "2024-05-17T09:01:05.652317Z"
    }
   },
   "id": "8ed290a532f931b3",
   "execution_count": 5
  },
  {
   "cell_type": "markdown",
   "source": [
    "# Algoritmos de Aprendizagem supervisionada"
   ],
   "metadata": {
    "collapsed": false
   },
   "id": "e22d9595e83c31f8"
  },
  {
   "cell_type": "markdown",
   "source": [
    "## Dataset não normalizado"
   ],
   "metadata": {
    "collapsed": false
   },
   "id": "fe8164cf34395c51"
  },
  {
   "cell_type": "code",
   "outputs": [],
   "source": [
    "# Define regressors\n",
    "regressors = {\n",
    "    'Linear Regression': LinearRegression(),\n",
    "    'Ridge': Ridge(alpha=1.0, solver='auto'),\n",
    "    'Lasso': Lasso(alpha=1.0), \n",
    "    'ElasticNet': ElasticNet(alpha=1.0, l1_ratio=0.5),\n",
    "    'k-NN': KNeighborsRegressor(n_neighbors=5),\n",
    "    'Decision Tree': DecisionTreeRegressor(),\n",
    "    'Random Forest': RandomForestRegressor(n_estimators=100),\n",
    "    'SVM': SVR(kernel='linear', max_iter=10000),\n",
    "    'MLP': MLPRegressor(hidden_layer_sizes=(8,4), max_iter=20000),\n",
    "}"
   ],
   "metadata": {
    "collapsed": false,
    "ExecuteTime": {
     "end_time": "2024-05-17T09:02:11.829656Z",
     "start_time": "2024-05-17T09:02:11.823120Z"
    }
   },
   "id": "73f1568bf8139ec2",
   "execution_count": 17
  },
  {
   "cell_type": "code",
   "outputs": [
    {
     "data": {
      "text/plain": "Linear Regression    0.525189\nRidge                0.525455\nLasso                0.525189\nElasticNet           0.546666\nk-NN                -0.095929\nDecision Tree       -0.039095\nRandom Forest        0.309895\nSVM                  0.468917\nMLP                  0.549212\ndtype: float64"
     },
     "execution_count": 18,
     "metadata": {},
     "output_type": "execute_result"
    }
   ],
   "source": [
    "cv_scores = pd.Series({\n",
    "    name: np.mean(cross_val_score(regressor, train_df.drop(columns=['energia_ativa_alta_tensao_kwh']), train_df['energia_ativa_alta_tensao_kwh'], cv=5))\n",
    "    for name, regressor in regressors.items()\n",
    "})\n",
    "\n",
    "cv_scores"
   ],
   "metadata": {
    "collapsed": false,
    "ExecuteTime": {
     "end_time": "2024-05-17T09:02:33.808151Z",
     "start_time": "2024-05-17T09:02:12.349780Z"
    }
   },
   "id": "308e7f9615735b88",
   "execution_count": 18
  },
  {
   "cell_type": "code",
   "outputs": [
    {
     "name": "stdout",
     "output_type": "stream",
     "text": [
      "### MLP ###\n",
      "r2: 0.15486207564530774\n",
      "mse: 103676677649176.89\n",
      "mae: 5179072.321153707\n"
     ]
    }
   ],
   "source": [
    "best = cv_scores.sort_values(ascending=False).index[0]\n",
    "best_regressor = regressors[best]\n",
    "best_regressor.fit(train_df.drop(columns=['energia_ativa_alta_tensao_kwh']), train_df['energia_ativa_alta_tensao_kwh'])\n",
    "\n",
    "print(f'### {best} ###')\n",
    "\n",
    "y_pred = best_regressor.predict(test_df.drop(columns=['energia_ativa_alta_tensao_kwh']))\n",
    "\n",
    "print('r2: {}'.format(r2_score(test_df['energia_ativa_alta_tensao_kwh'], y_pred)))\n",
    "print('mse: {}'.format(mean_squared_error(test_df['energia_ativa_alta_tensao_kwh'], y_pred)))\n",
    "print('mae: {}'.format(mean_absolute_error(test_df['energia_ativa_alta_tensao_kwh'], y_pred)))"
   ],
   "metadata": {
    "collapsed": false,
    "ExecuteTime": {
     "end_time": "2024-05-17T09:02:42.765009Z",
     "start_time": "2024-05-17T09:02:33.807264Z"
    }
   },
   "id": "eed34b91a6c7e399",
   "execution_count": 19
  },
  {
   "cell_type": "markdown",
   "source": [
    "### Ordenar os exemplos do conjunto de teste por ordem decrescente do erro da previsão do regressor e verificar se existe algum padrão relevante. \n"
   ],
   "metadata": {
    "collapsed": false
   },
   "id": "cd485e14f6aa74f6"
  },
  {
   "cell_type": "code",
   "outputs": [
    {
     "data": {
      "text/plain": "     energia_ativa_alta_tensao_kwh  cpes_domestico_alta_tensao  \\\n219                       21772335                           2   \n430                       68130804                           0   \n424                       79685358                           0   \n234                       86976336                           0   \n180                       69370033                           0   \n414                       71168543                           0   \n166                       53710759                           0   \n373                       12514870                           1   \n205                       11613559                           0   \n433                        7667556                           1   \n507                        7224132                           0   \n401                        8114184                           1   \n503                        8916100                           1   \n217                        9237801                           0   \n70                        51266278                           0   \n496                       52309447                           1   \n79                         5031186                           0   \n223                        7492949                           1   \n488                       35664827                           0   \n311                        6761972                           0   \n\n     cpes_nao_domestico_alta_tensao  cpes_outros_alta_tensao  \\\n219                            1229                        0   \n430                              70                        0   \n424                             203                        0   \n234                             286                        0   \n180                             151                        0   \n414                             167                        0   \n166                              81                        0   \n373                             521                        0   \n205                             581                        0   \n433                             488                        0   \n507                             465                        0   \n401                             493                        0   \n503                             484                        0   \n217                             490                        0   \n70                              255                        0   \n496                             291                        0   \n79                              380                        0   \n223                             366                        0   \n488                             163                        0   \n311                             293                        0   \n\n     densidade_populacional_pessoas_km2         error  \n219                                5466  8.815431e+07  \n430                                  71  6.347773e+07  \n424                                 533  6.320427e+07  \n234                                1674  6.172177e+07  \n180                                 157  5.783239e+07  \n414                                1770  5.566536e+07  \n166                                 246  4.785611e+07  \n373                                5753  3.894833e+07  \n205                                 649  3.652973e+07  \n433                                1215  3.363937e+07  \n507                                1821  3.317421e+07  \n401                                 639  3.266868e+07  \n503                                 667  3.116312e+07  \n217                                 231  3.064628e+07  \n70                                  420  3.064008e+07  \n496                                 433  2.868170e+07  \n79                                  308  2.581985e+07  \n223                                1215  2.365608e+07  \n488                                 270  2.294356e+07  \n311                                3755  2.247282e+07  ",
      "text/html": "<div>\n<style scoped>\n    .dataframe tbody tr th:only-of-type {\n        vertical-align: middle;\n    }\n\n    .dataframe tbody tr th {\n        vertical-align: top;\n    }\n\n    .dataframe thead th {\n        text-align: right;\n    }\n</style>\n<table border=\"1\" class=\"dataframe\">\n  <thead>\n    <tr style=\"text-align: right;\">\n      <th></th>\n      <th>energia_ativa_alta_tensao_kwh</th>\n      <th>cpes_domestico_alta_tensao</th>\n      <th>cpes_nao_domestico_alta_tensao</th>\n      <th>cpes_outros_alta_tensao</th>\n      <th>densidade_populacional_pessoas_km2</th>\n      <th>error</th>\n    </tr>\n  </thead>\n  <tbody>\n    <tr>\n      <th>219</th>\n      <td>21772335</td>\n      <td>2</td>\n      <td>1229</td>\n      <td>0</td>\n      <td>5466</td>\n      <td>8.815431e+07</td>\n    </tr>\n    <tr>\n      <th>430</th>\n      <td>68130804</td>\n      <td>0</td>\n      <td>70</td>\n      <td>0</td>\n      <td>71</td>\n      <td>6.347773e+07</td>\n    </tr>\n    <tr>\n      <th>424</th>\n      <td>79685358</td>\n      <td>0</td>\n      <td>203</td>\n      <td>0</td>\n      <td>533</td>\n      <td>6.320427e+07</td>\n    </tr>\n    <tr>\n      <th>234</th>\n      <td>86976336</td>\n      <td>0</td>\n      <td>286</td>\n      <td>0</td>\n      <td>1674</td>\n      <td>6.172177e+07</td>\n    </tr>\n    <tr>\n      <th>180</th>\n      <td>69370033</td>\n      <td>0</td>\n      <td>151</td>\n      <td>0</td>\n      <td>157</td>\n      <td>5.783239e+07</td>\n    </tr>\n    <tr>\n      <th>414</th>\n      <td>71168543</td>\n      <td>0</td>\n      <td>167</td>\n      <td>0</td>\n      <td>1770</td>\n      <td>5.566536e+07</td>\n    </tr>\n    <tr>\n      <th>166</th>\n      <td>53710759</td>\n      <td>0</td>\n      <td>81</td>\n      <td>0</td>\n      <td>246</td>\n      <td>4.785611e+07</td>\n    </tr>\n    <tr>\n      <th>373</th>\n      <td>12514870</td>\n      <td>1</td>\n      <td>521</td>\n      <td>0</td>\n      <td>5753</td>\n      <td>3.894833e+07</td>\n    </tr>\n    <tr>\n      <th>205</th>\n      <td>11613559</td>\n      <td>0</td>\n      <td>581</td>\n      <td>0</td>\n      <td>649</td>\n      <td>3.652973e+07</td>\n    </tr>\n    <tr>\n      <th>433</th>\n      <td>7667556</td>\n      <td>1</td>\n      <td>488</td>\n      <td>0</td>\n      <td>1215</td>\n      <td>3.363937e+07</td>\n    </tr>\n    <tr>\n      <th>507</th>\n      <td>7224132</td>\n      <td>0</td>\n      <td>465</td>\n      <td>0</td>\n      <td>1821</td>\n      <td>3.317421e+07</td>\n    </tr>\n    <tr>\n      <th>401</th>\n      <td>8114184</td>\n      <td>1</td>\n      <td>493</td>\n      <td>0</td>\n      <td>639</td>\n      <td>3.266868e+07</td>\n    </tr>\n    <tr>\n      <th>503</th>\n      <td>8916100</td>\n      <td>1</td>\n      <td>484</td>\n      <td>0</td>\n      <td>667</td>\n      <td>3.116312e+07</td>\n    </tr>\n    <tr>\n      <th>217</th>\n      <td>9237801</td>\n      <td>0</td>\n      <td>490</td>\n      <td>0</td>\n      <td>231</td>\n      <td>3.064628e+07</td>\n    </tr>\n    <tr>\n      <th>70</th>\n      <td>51266278</td>\n      <td>0</td>\n      <td>255</td>\n      <td>0</td>\n      <td>420</td>\n      <td>3.064008e+07</td>\n    </tr>\n    <tr>\n      <th>496</th>\n      <td>52309447</td>\n      <td>1</td>\n      <td>291</td>\n      <td>0</td>\n      <td>433</td>\n      <td>2.868170e+07</td>\n    </tr>\n    <tr>\n      <th>79</th>\n      <td>5031186</td>\n      <td>0</td>\n      <td>380</td>\n      <td>0</td>\n      <td>308</td>\n      <td>2.581985e+07</td>\n    </tr>\n    <tr>\n      <th>223</th>\n      <td>7492949</td>\n      <td>1</td>\n      <td>366</td>\n      <td>0</td>\n      <td>1215</td>\n      <td>2.365608e+07</td>\n    </tr>\n    <tr>\n      <th>488</th>\n      <td>35664827</td>\n      <td>0</td>\n      <td>163</td>\n      <td>0</td>\n      <td>270</td>\n      <td>2.294356e+07</td>\n    </tr>\n    <tr>\n      <th>311</th>\n      <td>6761972</td>\n      <td>0</td>\n      <td>293</td>\n      <td>0</td>\n      <td>3755</td>\n      <td>2.247282e+07</td>\n    </tr>\n  </tbody>\n</table>\n</div>"
     },
     "execution_count": 9,
     "metadata": {},
     "output_type": "execute_result"
    }
   ],
   "source": [
    "df_error = test_df.copy()\n",
    "df_error['error'] = np.abs(df_error['energia_ativa_alta_tensao_kwh'] - y_pred)\n",
    "\n",
    "df_error.sort_values('error', ascending=False).head(20)"
   ],
   "metadata": {
    "collapsed": false,
    "ExecuteTime": {
     "end_time": "2024-05-17T09:01:39.028168Z",
     "start_time": "2024-05-17T09:01:39.023195Z"
    }
   },
   "id": "c366e90f84a12146",
   "execution_count": 9
  },
  {
   "cell_type": "markdown",
   "source": [
    "## Aprendizagem supervisionada com datasets normalizados"
   ],
   "metadata": {
    "collapsed": false
   },
   "id": "70e75b51516a4e67"
  },
  {
   "cell_type": "code",
   "outputs": [],
   "source": [
    "normalized_train_path = data_path + 'treated/prepared/numeric/normalized/train/dataset-numeric-high-tensions-2223-no-dates-decimal.csv'\n",
    "\n",
    "normalized_train_df = pd.read_csv(normalized_train_path)"
   ],
   "metadata": {
    "collapsed": false,
    "ExecuteTime": {
     "end_time": "2024-05-17T09:01:39.032854Z",
     "start_time": "2024-05-17T09:01:39.028665Z"
    }
   },
   "id": "fc1918305d87bea4",
   "execution_count": 10
  },
  {
   "cell_type": "code",
   "outputs": [],
   "source": [
    "normalized_test_path = data_path + 'treated/prepared/numeric/normalized/test/dataset-numeric-high-tensions-2024-no-dates-decimal.csv'\n",
    "\n",
    "normalized_test_df = pd.read_csv(normalized_test_path)"
   ],
   "metadata": {
    "collapsed": false,
    "ExecuteTime": {
     "end_time": "2024-05-17T09:01:39.048274Z",
     "start_time": "2024-05-17T09:01:39.032483Z"
    }
   },
   "id": "7b19916afb5200eb",
   "execution_count": 11
  },
  {
   "cell_type": "code",
   "outputs": [],
   "source": [
    "# Define regressors\n",
    "normalized_regressors = {\n",
    "    'Linear Regression': LinearRegression(),\n",
    "    'Ridge': Ridge(alpha=1e-3, solver='auto'),\n",
    "    'Lasso': Lasso(alpha=1.0), \n",
    "    'ElasticNet': ElasticNet(alpha=1.0, l1_ratio=0.5),\n",
    "    'k-NN': KNeighborsRegressor(n_neighbors=5),\n",
    "    'Decision Tree': DecisionTreeRegressor(),\n",
    "    'Random Forest': RandomForestRegressor(n_estimators=100),\n",
    "    'SVM': SVR(kernel='linear', max_iter=100000),\n",
    "    'MLP': MLPRegressor(hidden_layer_sizes=(8,4), max_iter=20000)\n",
    "}"
   ],
   "metadata": {
    "collapsed": false,
    "ExecuteTime": {
     "end_time": "2024-05-17T09:01:39.048566Z",
     "start_time": "2024-05-17T09:01:39.036160Z"
    }
   },
   "id": "653ce131c50c9b50",
   "execution_count": 12
  },
  {
   "cell_type": "code",
   "outputs": [
    {
     "data": {
      "text/plain": "Linear Regression     0.525189\nRidge                 0.525189\nLasso                 0.091344\nElasticNet            0.430484\nk-NN                 -0.062361\nDecision Tree         0.142370\nRandom Forest         0.333740\nSVM                 -19.881272\nMLP                 -79.400330\ndtype: float64"
     },
     "execution_count": 13,
     "metadata": {},
     "output_type": "execute_result"
    }
   ],
   "source": [
    "cv_scores_normalized = pd.Series({\n",
    "    name: np.mean(cross_val_score(regressor, normalized_train_df.drop(columns=['energia_ativa_alta_tensao_kwh']), normalized_train_df['energia_ativa_alta_tensao_kwh'], cv=5))\n",
    "    for name, regressor in normalized_regressors.items()\n",
    "})\n",
    "\n",
    "cv_scores_normalized"
   ],
   "metadata": {
    "collapsed": false,
    "ExecuteTime": {
     "end_time": "2024-05-17T09:01:42.145438Z",
     "start_time": "2024-05-17T09:01:39.039314Z"
    }
   },
   "id": "a7666ecdcbcd0628",
   "execution_count": 13
  },
  {
   "cell_type": "code",
   "outputs": [
    {
     "name": "stdout",
     "output_type": "stream",
     "text": [
      "### Ridge ###\n",
      "r2: 0.14049102425946935\n",
      "mse: 0.00010543963588246996\n",
      "mae: 0.0050770199726011276\n"
     ]
    }
   ],
   "source": [
    "best_normalized = cv_scores_normalized.sort_values(ascending=False).index[0]\n",
    "best_regressor_normalized = normalized_regressors[best_normalized]\n",
    "best_regressor_normalized.fit(normalized_train_df.drop(columns=['energia_ativa_alta_tensao_kwh']), normalized_train_df['energia_ativa_alta_tensao_kwh'])\n",
    "\n",
    "print(f'### {best_normalized} ###')\n",
    "\n",
    "y_pred = best_regressor_normalized.predict(normalized_test_df.drop(columns=['energia_ativa_alta_tensao_kwh']))\n",
    "\n",
    "print('r2: {}'.format(r2_score(normalized_test_df['energia_ativa_alta_tensao_kwh'], y_pred)))\n",
    "print('mse: {}'.format(mean_squared_error(normalized_test_df['energia_ativa_alta_tensao_kwh'], y_pred)))\n",
    "print('mae: {}'.format(mean_absolute_error(normalized_test_df['energia_ativa_alta_tensao_kwh'], y_pred)))"
   ],
   "metadata": {
    "collapsed": false,
    "ExecuteTime": {
     "end_time": "2024-05-17T09:01:42.149730Z",
     "start_time": "2024-05-17T09:01:42.144124Z"
    }
   },
   "id": "9c60db5392d264c4",
   "execution_count": 14
  },
  {
   "cell_type": "code",
   "outputs": [
    {
     "data": {
      "text/plain": "     energia_ativa_alta_tensao_kwh  cpes_domestico_alta_tensao  \\\n219                       0.021772                           2   \n430                       0.068131                           0   \n424                       0.079685                           0   \n234                       0.086976                           0   \n180                       0.069370                           0   \n414                       0.071169                           0   \n166                       0.053711                           0   \n373                       0.012515                           1   \n205                       0.011614                           0   \n433                       0.007668                           1   \n507                       0.007224                           0   \n401                       0.008114                           1   \n503                       0.008916                           1   \n217                       0.009238                           0   \n70                        0.051266                           0   \n496                       0.052309                           1   \n79                        0.005031                           0   \n223                       0.007493                           1   \n488                       0.035665                           0   \n311                       0.006762                           0   \n\n     cpes_nao_domestico_alta_tensao  cpes_outros_alta_tensao  \\\n219                            1229                        0   \n430                              70                        0   \n424                             203                        0   \n234                             286                        0   \n180                             151                        0   \n414                             167                        0   \n166                              81                        0   \n373                             521                        0   \n205                             581                        0   \n433                             488                        0   \n507                             465                        0   \n401                             493                        0   \n503                             484                        0   \n217                             490                        0   \n70                              255                        0   \n496                             291                        0   \n79                              380                        0   \n223                             366                        0   \n488                             163                        0   \n311                             293                        0   \n\n     densidade_populacional_pessoas_km2     error  \n219                                5466  0.087884  \n430                                  71  0.063475  \n424                                 533  0.063166  \n234                                1674  0.061655  \n180                                 157  0.057809  \n414                                1770  0.055626  \n166                                 246  0.047849  \n373                                5753  0.038806  \n205                                 649  0.036660  \n433                                1215  0.033455  \n507                                1821  0.033285  \n401                                 639  0.032481  \n503                                 667  0.030974  \n217                                 231  0.030752  \n70                                  420  0.030590  \n496                                 433  0.028919  \n79                                  308  0.025899  \n223                                1215  0.023442  \n488                                 270  0.022917  \n311                                3755  0.022557  ",
      "text/html": "<div>\n<style scoped>\n    .dataframe tbody tr th:only-of-type {\n        vertical-align: middle;\n    }\n\n    .dataframe tbody tr th {\n        vertical-align: top;\n    }\n\n    .dataframe thead th {\n        text-align: right;\n    }\n</style>\n<table border=\"1\" class=\"dataframe\">\n  <thead>\n    <tr style=\"text-align: right;\">\n      <th></th>\n      <th>energia_ativa_alta_tensao_kwh</th>\n      <th>cpes_domestico_alta_tensao</th>\n      <th>cpes_nao_domestico_alta_tensao</th>\n      <th>cpes_outros_alta_tensao</th>\n      <th>densidade_populacional_pessoas_km2</th>\n      <th>error</th>\n    </tr>\n  </thead>\n  <tbody>\n    <tr>\n      <th>219</th>\n      <td>0.021772</td>\n      <td>2</td>\n      <td>1229</td>\n      <td>0</td>\n      <td>5466</td>\n      <td>0.087884</td>\n    </tr>\n    <tr>\n      <th>430</th>\n      <td>0.068131</td>\n      <td>0</td>\n      <td>70</td>\n      <td>0</td>\n      <td>71</td>\n      <td>0.063475</td>\n    </tr>\n    <tr>\n      <th>424</th>\n      <td>0.079685</td>\n      <td>0</td>\n      <td>203</td>\n      <td>0</td>\n      <td>533</td>\n      <td>0.063166</td>\n    </tr>\n    <tr>\n      <th>234</th>\n      <td>0.086976</td>\n      <td>0</td>\n      <td>286</td>\n      <td>0</td>\n      <td>1674</td>\n      <td>0.061655</td>\n    </tr>\n    <tr>\n      <th>180</th>\n      <td>0.069370</td>\n      <td>0</td>\n      <td>151</td>\n      <td>0</td>\n      <td>157</td>\n      <td>0.057809</td>\n    </tr>\n    <tr>\n      <th>414</th>\n      <td>0.071169</td>\n      <td>0</td>\n      <td>167</td>\n      <td>0</td>\n      <td>1770</td>\n      <td>0.055626</td>\n    </tr>\n    <tr>\n      <th>166</th>\n      <td>0.053711</td>\n      <td>0</td>\n      <td>81</td>\n      <td>0</td>\n      <td>246</td>\n      <td>0.047849</td>\n    </tr>\n    <tr>\n      <th>373</th>\n      <td>0.012515</td>\n      <td>1</td>\n      <td>521</td>\n      <td>0</td>\n      <td>5753</td>\n      <td>0.038806</td>\n    </tr>\n    <tr>\n      <th>205</th>\n      <td>0.011614</td>\n      <td>0</td>\n      <td>581</td>\n      <td>0</td>\n      <td>649</td>\n      <td>0.036660</td>\n    </tr>\n    <tr>\n      <th>433</th>\n      <td>0.007668</td>\n      <td>1</td>\n      <td>488</td>\n      <td>0</td>\n      <td>1215</td>\n      <td>0.033455</td>\n    </tr>\n    <tr>\n      <th>507</th>\n      <td>0.007224</td>\n      <td>0</td>\n      <td>465</td>\n      <td>0</td>\n      <td>1821</td>\n      <td>0.033285</td>\n    </tr>\n    <tr>\n      <th>401</th>\n      <td>0.008114</td>\n      <td>1</td>\n      <td>493</td>\n      <td>0</td>\n      <td>639</td>\n      <td>0.032481</td>\n    </tr>\n    <tr>\n      <th>503</th>\n      <td>0.008916</td>\n      <td>1</td>\n      <td>484</td>\n      <td>0</td>\n      <td>667</td>\n      <td>0.030974</td>\n    </tr>\n    <tr>\n      <th>217</th>\n      <td>0.009238</td>\n      <td>0</td>\n      <td>490</td>\n      <td>0</td>\n      <td>231</td>\n      <td>0.030752</td>\n    </tr>\n    <tr>\n      <th>70</th>\n      <td>0.051266</td>\n      <td>0</td>\n      <td>255</td>\n      <td>0</td>\n      <td>420</td>\n      <td>0.030590</td>\n    </tr>\n    <tr>\n      <th>496</th>\n      <td>0.052309</td>\n      <td>1</td>\n      <td>291</td>\n      <td>0</td>\n      <td>433</td>\n      <td>0.028919</td>\n    </tr>\n    <tr>\n      <th>79</th>\n      <td>0.005031</td>\n      <td>0</td>\n      <td>380</td>\n      <td>0</td>\n      <td>308</td>\n      <td>0.025899</td>\n    </tr>\n    <tr>\n      <th>223</th>\n      <td>0.007493</td>\n      <td>1</td>\n      <td>366</td>\n      <td>0</td>\n      <td>1215</td>\n      <td>0.023442</td>\n    </tr>\n    <tr>\n      <th>488</th>\n      <td>0.035665</td>\n      <td>0</td>\n      <td>163</td>\n      <td>0</td>\n      <td>270</td>\n      <td>0.022917</td>\n    </tr>\n    <tr>\n      <th>311</th>\n      <td>0.006762</td>\n      <td>0</td>\n      <td>293</td>\n      <td>0</td>\n      <td>3755</td>\n      <td>0.022557</td>\n    </tr>\n  </tbody>\n</table>\n</div>"
     },
     "execution_count": 15,
     "metadata": {},
     "output_type": "execute_result"
    }
   ],
   "source": [
    "df_error_normalized = normalized_test_df.copy()\n",
    "df_error_normalized['error'] = np.abs(df_error_normalized['energia_ativa_alta_tensao_kwh'] - y_pred)\n",
    "\n",
    "df_error_normalized.sort_values('error', ascending=False).head(20)"
   ],
   "metadata": {
    "collapsed": false,
    "ExecuteTime": {
     "end_time": "2024-05-17T09:01:42.154175Z",
     "start_time": "2024-05-17T09:01:42.151776Z"
    }
   },
   "id": "cec4f4b84714d43b",
   "execution_count": 15
  },
  {
   "cell_type": "markdown",
   "source": [
    "### Ordenar os exemplos do conjunto de teste por ordem decrescente do erro da previsão do regressor e verificar se existe algum padrão relevante. \n"
   ],
   "metadata": {
    "collapsed": false
   },
   "id": "9eabdd08bcc83e22"
  },
  {
   "cell_type": "code",
   "outputs": [
    {
     "data": {
      "text/plain": "     energia_ativa_alta_tensao_kwh  cpes_domestico_alta_tensao  \\\n219                       0.021772                           2   \n430                       0.068131                           0   \n424                       0.079685                           0   \n234                       0.086976                           0   \n180                       0.069370                           0   \n414                       0.071169                           0   \n166                       0.053711                           0   \n373                       0.012515                           1   \n205                       0.011614                           0   \n433                       0.007668                           1   \n507                       0.007224                           0   \n401                       0.008114                           1   \n503                       0.008916                           1   \n217                       0.009238                           0   \n70                        0.051266                           0   \n496                       0.052309                           1   \n79                        0.005031                           0   \n223                       0.007493                           1   \n488                       0.035665                           0   \n311                       0.006762                           0   \n\n     cpes_nao_domestico_alta_tensao  cpes_outros_alta_tensao  \\\n219                            1229                        0   \n430                              70                        0   \n424                             203                        0   \n234                             286                        0   \n180                             151                        0   \n414                             167                        0   \n166                              81                        0   \n373                             521                        0   \n205                             581                        0   \n433                             488                        0   \n507                             465                        0   \n401                             493                        0   \n503                             484                        0   \n217                             490                        0   \n70                              255                        0   \n496                             291                        0   \n79                              380                        0   \n223                             366                        0   \n488                             163                        0   \n311                             293                        0   \n\n     densidade_populacional_pessoas_km2     error  \n219                                5466  0.087884  \n430                                  71  0.063475  \n424                                 533  0.063166  \n234                                1674  0.061655  \n180                                 157  0.057809  \n414                                1770  0.055626  \n166                                 246  0.047849  \n373                                5753  0.038806  \n205                                 649  0.036660  \n433                                1215  0.033455  \n507                                1821  0.033285  \n401                                 639  0.032481  \n503                                 667  0.030974  \n217                                 231  0.030752  \n70                                  420  0.030590  \n496                                 433  0.028919  \n79                                  308  0.025899  \n223                                1215  0.023442  \n488                                 270  0.022917  \n311                                3755  0.022557  ",
      "text/html": "<div>\n<style scoped>\n    .dataframe tbody tr th:only-of-type {\n        vertical-align: middle;\n    }\n\n    .dataframe tbody tr th {\n        vertical-align: top;\n    }\n\n    .dataframe thead th {\n        text-align: right;\n    }\n</style>\n<table border=\"1\" class=\"dataframe\">\n  <thead>\n    <tr style=\"text-align: right;\">\n      <th></th>\n      <th>energia_ativa_alta_tensao_kwh</th>\n      <th>cpes_domestico_alta_tensao</th>\n      <th>cpes_nao_domestico_alta_tensao</th>\n      <th>cpes_outros_alta_tensao</th>\n      <th>densidade_populacional_pessoas_km2</th>\n      <th>error</th>\n    </tr>\n  </thead>\n  <tbody>\n    <tr>\n      <th>219</th>\n      <td>0.021772</td>\n      <td>2</td>\n      <td>1229</td>\n      <td>0</td>\n      <td>5466</td>\n      <td>0.087884</td>\n    </tr>\n    <tr>\n      <th>430</th>\n      <td>0.068131</td>\n      <td>0</td>\n      <td>70</td>\n      <td>0</td>\n      <td>71</td>\n      <td>0.063475</td>\n    </tr>\n    <tr>\n      <th>424</th>\n      <td>0.079685</td>\n      <td>0</td>\n      <td>203</td>\n      <td>0</td>\n      <td>533</td>\n      <td>0.063166</td>\n    </tr>\n    <tr>\n      <th>234</th>\n      <td>0.086976</td>\n      <td>0</td>\n      <td>286</td>\n      <td>0</td>\n      <td>1674</td>\n      <td>0.061655</td>\n    </tr>\n    <tr>\n      <th>180</th>\n      <td>0.069370</td>\n      <td>0</td>\n      <td>151</td>\n      <td>0</td>\n      <td>157</td>\n      <td>0.057809</td>\n    </tr>\n    <tr>\n      <th>414</th>\n      <td>0.071169</td>\n      <td>0</td>\n      <td>167</td>\n      <td>0</td>\n      <td>1770</td>\n      <td>0.055626</td>\n    </tr>\n    <tr>\n      <th>166</th>\n      <td>0.053711</td>\n      <td>0</td>\n      <td>81</td>\n      <td>0</td>\n      <td>246</td>\n      <td>0.047849</td>\n    </tr>\n    <tr>\n      <th>373</th>\n      <td>0.012515</td>\n      <td>1</td>\n      <td>521</td>\n      <td>0</td>\n      <td>5753</td>\n      <td>0.038806</td>\n    </tr>\n    <tr>\n      <th>205</th>\n      <td>0.011614</td>\n      <td>0</td>\n      <td>581</td>\n      <td>0</td>\n      <td>649</td>\n      <td>0.036660</td>\n    </tr>\n    <tr>\n      <th>433</th>\n      <td>0.007668</td>\n      <td>1</td>\n      <td>488</td>\n      <td>0</td>\n      <td>1215</td>\n      <td>0.033455</td>\n    </tr>\n    <tr>\n      <th>507</th>\n      <td>0.007224</td>\n      <td>0</td>\n      <td>465</td>\n      <td>0</td>\n      <td>1821</td>\n      <td>0.033285</td>\n    </tr>\n    <tr>\n      <th>401</th>\n      <td>0.008114</td>\n      <td>1</td>\n      <td>493</td>\n      <td>0</td>\n      <td>639</td>\n      <td>0.032481</td>\n    </tr>\n    <tr>\n      <th>503</th>\n      <td>0.008916</td>\n      <td>1</td>\n      <td>484</td>\n      <td>0</td>\n      <td>667</td>\n      <td>0.030974</td>\n    </tr>\n    <tr>\n      <th>217</th>\n      <td>0.009238</td>\n      <td>0</td>\n      <td>490</td>\n      <td>0</td>\n      <td>231</td>\n      <td>0.030752</td>\n    </tr>\n    <tr>\n      <th>70</th>\n      <td>0.051266</td>\n      <td>0</td>\n      <td>255</td>\n      <td>0</td>\n      <td>420</td>\n      <td>0.030590</td>\n    </tr>\n    <tr>\n      <th>496</th>\n      <td>0.052309</td>\n      <td>1</td>\n      <td>291</td>\n      <td>0</td>\n      <td>433</td>\n      <td>0.028919</td>\n    </tr>\n    <tr>\n      <th>79</th>\n      <td>0.005031</td>\n      <td>0</td>\n      <td>380</td>\n      <td>0</td>\n      <td>308</td>\n      <td>0.025899</td>\n    </tr>\n    <tr>\n      <th>223</th>\n      <td>0.007493</td>\n      <td>1</td>\n      <td>366</td>\n      <td>0</td>\n      <td>1215</td>\n      <td>0.023442</td>\n    </tr>\n    <tr>\n      <th>488</th>\n      <td>0.035665</td>\n      <td>0</td>\n      <td>163</td>\n      <td>0</td>\n      <td>270</td>\n      <td>0.022917</td>\n    </tr>\n    <tr>\n      <th>311</th>\n      <td>0.006762</td>\n      <td>0</td>\n      <td>293</td>\n      <td>0</td>\n      <td>3755</td>\n      <td>0.022557</td>\n    </tr>\n  </tbody>\n</table>\n</div>"
     },
     "execution_count": 16,
     "metadata": {},
     "output_type": "execute_result"
    }
   ],
   "source": [
    "df_error = normalized_test_df.copy()\n",
    "df_error['error'] = np.abs(df_error['energia_ativa_alta_tensao_kwh'] - y_pred)\n",
    "\n",
    "df_error.sort_values('error', ascending=False).head(20)"
   ],
   "metadata": {
    "collapsed": false,
    "ExecuteTime": {
     "end_time": "2024-05-17T09:01:42.160658Z",
     "start_time": "2024-05-17T09:01:42.155157Z"
    }
   },
   "id": "81e0f15d46c97de6",
   "execution_count": 16
  }
 ],
 "metadata": {
  "kernelspec": {
   "display_name": "Python 3",
   "language": "python",
   "name": "python3"
  },
  "language_info": {
   "codemirror_mode": {
    "name": "ipython",
    "version": 2
   },
   "file_extension": ".py",
   "mimetype": "text/x-python",
   "name": "python",
   "nbconvert_exporter": "python",
   "pygments_lexer": "ipython2",
   "version": "2.7.6"
  }
 },
 "nbformat": 4,
 "nbformat_minor": 5
}
