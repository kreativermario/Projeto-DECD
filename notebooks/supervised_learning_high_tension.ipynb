{
 "cells": [
  {
   "metadata": {
    "ExecuteTime": {
     "end_time": "2024-05-10T12:13:49.679399Z",
     "start_time": "2024-05-10T12:13:49.482467Z"
    }
   },
   "cell_type": "code",
   "outputs": [],
   "execution_count": 1,
   "source": [
    "# Preparação dos dados\n",
    "import os\n",
    "\n",
    "import pandas as pd\n",
    "\n",
    "%matplotlib inline\n",
    "import numpy as np\n",
    "import seaborn as sns\n",
    "import pandas as pd\n",
    "from sklearn.metrics import r2_score, mean_squared_error, mean_absolute_error\n",
    "from sklearn.linear_model import LinearRegression, Ridge, Lasso, ElasticNet\n",
    "from sklearn.neighbors import KNeighborsRegressor\n",
    "from sklearn.tree import DecisionTreeRegressor\n",
    "from sklearn.ensemble import RandomForestRegressor\n",
    "from sklearn.svm import SVR\n",
    "from sklearn.neural_network import MLPRegressor\n",
    "from sklearn.model_selection import cross_val_score\n",
    "\n",
    "sns.set_theme()"
   ],
   "id": "4890bf21c8588bf6"
  },
  {
   "metadata": {
    "ExecuteTime": {
     "end_time": "2024-05-10T12:13:49.682526Z",
     "start_time": "2024-05-10T12:13:49.680261Z"
    }
   },
   "cell_type": "code",
   "outputs": [],
   "execution_count": 2,
   "source": [
    "## Importar dataset teste\n",
    "\n",
    "data_path = '../data/' if os.path.exists(\n",
    "    '../data/') else 'https://raw.githubusercontent.com/kreativermario/Projeto-DECD/master/data/'\n",
    "\n",
    "test_path = data_path + 'treated/prepared/numeric/no-dates/dataset-numeric-high-tensions-test-no-dates.csv'\n",
    "\n",
    "test_df = pd.read_csv(test_path)"
   ],
   "id": "18cf3f68ea5384c4"
  },
  {
   "metadata": {
    "ExecuteTime": {
     "end_time": "2024-05-10T12:13:49.685823Z",
     "start_time": "2024-05-10T12:13:49.683376Z"
    }
   },
   "cell_type": "code",
   "outputs": [],
   "execution_count": 3,
   "source": [
    "## Importar dataset treino\n",
    "train_path = data_path + 'treated/prepared/numeric/no-dates/dataset-numeric-high-tensions-train-no-dates.csv'\n",
    "\n",
    "train_df = pd.read_csv(train_path)"
   ],
   "id": "14be88093d292bfa"
  },
  {
   "cell_type": "code",
   "outputs": [
    {
     "data": {
      "text/plain": "       energia_ativa_alta_tensao_kwh  cpes_domestico_alta_tensao  \\\ncount                   4.641000e+03                 4641.000000   \nmean                    7.185369e+06                    0.039647   \nstd                     1.456594e+07                    0.206940   \nmin                     0.000000e+00                    0.000000   \n25%                     4.570540e+05                    0.000000   \n50%                     1.955336e+06                    0.000000   \n75%                     6.360625e+06                    0.000000   \nmax                     1.279470e+08                    2.000000   \n\n       cpes_nao_domestico_alta_tensao  cpes_outros_alta_tensao  \\\ncount                     4641.000000              4641.000000   \nmean                        95.380952                 0.408533   \nstd                        121.117813                 4.304804   \nmin                          0.000000                 0.000000   \n25%                         28.000000                 0.000000   \n50%                         51.000000                 0.000000   \n75%                        119.000000                 0.000000   \nmax                       1224.000000                75.000000   \n\n       densidade_populacional_pessoas_km2  \ncount                         4641.000000  \nmean                           314.542125  \nstd                            856.169267  \nmin                              4.000000  \n25%                             25.000000  \n50%                             66.000000  \n75%                            177.000000  \nmax                           7310.000000  ",
      "text/html": "<div>\n<style scoped>\n    .dataframe tbody tr th:only-of-type {\n        vertical-align: middle;\n    }\n\n    .dataframe tbody tr th {\n        vertical-align: top;\n    }\n\n    .dataframe thead th {\n        text-align: right;\n    }\n</style>\n<table border=\"1\" class=\"dataframe\">\n  <thead>\n    <tr style=\"text-align: right;\">\n      <th></th>\n      <th>energia_ativa_alta_tensao_kwh</th>\n      <th>cpes_domestico_alta_tensao</th>\n      <th>cpes_nao_domestico_alta_tensao</th>\n      <th>cpes_outros_alta_tensao</th>\n      <th>densidade_populacional_pessoas_km2</th>\n    </tr>\n  </thead>\n  <tbody>\n    <tr>\n      <th>count</th>\n      <td>4.641000e+03</td>\n      <td>4641.000000</td>\n      <td>4641.000000</td>\n      <td>4641.000000</td>\n      <td>4641.000000</td>\n    </tr>\n    <tr>\n      <th>mean</th>\n      <td>7.185369e+06</td>\n      <td>0.039647</td>\n      <td>95.380952</td>\n      <td>0.408533</td>\n      <td>314.542125</td>\n    </tr>\n    <tr>\n      <th>std</th>\n      <td>1.456594e+07</td>\n      <td>0.206940</td>\n      <td>121.117813</td>\n      <td>4.304804</td>\n      <td>856.169267</td>\n    </tr>\n    <tr>\n      <th>min</th>\n      <td>0.000000e+00</td>\n      <td>0.000000</td>\n      <td>0.000000</td>\n      <td>0.000000</td>\n      <td>4.000000</td>\n    </tr>\n    <tr>\n      <th>25%</th>\n      <td>4.570540e+05</td>\n      <td>0.000000</td>\n      <td>28.000000</td>\n      <td>0.000000</td>\n      <td>25.000000</td>\n    </tr>\n    <tr>\n      <th>50%</th>\n      <td>1.955336e+06</td>\n      <td>0.000000</td>\n      <td>51.000000</td>\n      <td>0.000000</td>\n      <td>66.000000</td>\n    </tr>\n    <tr>\n      <th>75%</th>\n      <td>6.360625e+06</td>\n      <td>0.000000</td>\n      <td>119.000000</td>\n      <td>0.000000</td>\n      <td>177.000000</td>\n    </tr>\n    <tr>\n      <th>max</th>\n      <td>1.279470e+08</td>\n      <td>2.000000</td>\n      <td>1224.000000</td>\n      <td>75.000000</td>\n      <td>7310.000000</td>\n    </tr>\n  </tbody>\n</table>\n</div>"
     },
     "execution_count": 4,
     "metadata": {},
     "output_type": "execute_result"
    }
   ],
   "source": [
    "train_df.describe()"
   ],
   "metadata": {
    "collapsed": false,
    "ExecuteTime": {
     "end_time": "2024-05-10T12:13:49.694908Z",
     "start_time": "2024-05-10T12:13:49.686547Z"
    }
   },
   "id": "c2950cd11c948251",
   "execution_count": 4
  },
  {
   "cell_type": "code",
   "outputs": [
    {
     "data": {
      "text/plain": "       energia_ativa_alta_tensao_kwh  cpes_domestico_alta_tensao  \\\ncount                   5.460000e+02                  546.000000   \nmean                    4.366219e+06                    0.047619   \nstd                     1.108600e+07                    0.245181   \nmin                     0.000000e+00                    0.000000   \n25%                     2.135982e+05                    0.000000   \n50%                     8.463970e+05                    0.000000   \n75%                     3.183322e+06                    0.000000   \nmax                     1.118887e+08                    2.000000   \n\n       cpes_nao_domestico_alta_tensao  cpes_outros_alta_tensao  \\\ncount                      546.000000                    546.0   \nmean                        96.485348                      0.0   \nstd                        122.640374                      0.0   \nmin                          0.000000                      0.0   \n25%                         29.000000                      0.0   \n50%                         52.000000                      0.0   \n75%                        119.000000                      0.0   \nmax                       1229.000000                      0.0   \n\n       densidade_populacional_pessoas_km2  \ncount                          546.000000  \nmean                           314.542125  \nstd                            856.862054  \nmin                              4.000000  \n25%                             25.000000  \n50%                             66.000000  \n75%                            177.000000  \nmax                           7310.000000  ",
      "text/html": "<div>\n<style scoped>\n    .dataframe tbody tr th:only-of-type {\n        vertical-align: middle;\n    }\n\n    .dataframe tbody tr th {\n        vertical-align: top;\n    }\n\n    .dataframe thead th {\n        text-align: right;\n    }\n</style>\n<table border=\"1\" class=\"dataframe\">\n  <thead>\n    <tr style=\"text-align: right;\">\n      <th></th>\n      <th>energia_ativa_alta_tensao_kwh</th>\n      <th>cpes_domestico_alta_tensao</th>\n      <th>cpes_nao_domestico_alta_tensao</th>\n      <th>cpes_outros_alta_tensao</th>\n      <th>densidade_populacional_pessoas_km2</th>\n    </tr>\n  </thead>\n  <tbody>\n    <tr>\n      <th>count</th>\n      <td>5.460000e+02</td>\n      <td>546.000000</td>\n      <td>546.000000</td>\n      <td>546.0</td>\n      <td>546.000000</td>\n    </tr>\n    <tr>\n      <th>mean</th>\n      <td>4.366219e+06</td>\n      <td>0.047619</td>\n      <td>96.485348</td>\n      <td>0.0</td>\n      <td>314.542125</td>\n    </tr>\n    <tr>\n      <th>std</th>\n      <td>1.108600e+07</td>\n      <td>0.245181</td>\n      <td>122.640374</td>\n      <td>0.0</td>\n      <td>856.862054</td>\n    </tr>\n    <tr>\n      <th>min</th>\n      <td>0.000000e+00</td>\n      <td>0.000000</td>\n      <td>0.000000</td>\n      <td>0.0</td>\n      <td>4.000000</td>\n    </tr>\n    <tr>\n      <th>25%</th>\n      <td>2.135982e+05</td>\n      <td>0.000000</td>\n      <td>29.000000</td>\n      <td>0.0</td>\n      <td>25.000000</td>\n    </tr>\n    <tr>\n      <th>50%</th>\n      <td>8.463970e+05</td>\n      <td>0.000000</td>\n      <td>52.000000</td>\n      <td>0.0</td>\n      <td>66.000000</td>\n    </tr>\n    <tr>\n      <th>75%</th>\n      <td>3.183322e+06</td>\n      <td>0.000000</td>\n      <td>119.000000</td>\n      <td>0.0</td>\n      <td>177.000000</td>\n    </tr>\n    <tr>\n      <th>max</th>\n      <td>1.118887e+08</td>\n      <td>2.000000</td>\n      <td>1229.000000</td>\n      <td>0.0</td>\n      <td>7310.000000</td>\n    </tr>\n  </tbody>\n</table>\n</div>"
     },
     "execution_count": 5,
     "metadata": {},
     "output_type": "execute_result"
    }
   ],
   "source": [
    "test_df.describe()"
   ],
   "metadata": {
    "collapsed": false,
    "ExecuteTime": {
     "end_time": "2024-05-10T12:13:49.704810Z",
     "start_time": "2024-05-10T12:13:49.695735Z"
    }
   },
   "id": "8ed290a532f931b3",
   "execution_count": 5
  },
  {
   "cell_type": "markdown",
   "source": [
    "# Algoritmos de Aprendizagem supervisionada"
   ],
   "metadata": {
    "collapsed": false
   },
   "id": "e22d9595e83c31f8"
  },
  {
   "cell_type": "markdown",
   "source": [
    "## Dataset não normalizado"
   ],
   "metadata": {
    "collapsed": false
   },
   "id": "fe8164cf34395c51"
  },
  {
   "cell_type": "code",
   "outputs": [],
   "source": [
    "# Define regressors\n",
    "regressors = {\n",
    "    'Linear Regression': LinearRegression(),\n",
    "    'Ridge': Ridge(alpha=1.0, solver='auto'),\n",
    "    'Lasso': Lasso(alpha=1.0), \n",
    "    'ElasticNet': ElasticNet(alpha=1.0, l1_ratio=0.5),\n",
    "    'k-NN': KNeighborsRegressor(n_neighbors=5),\n",
    "    'Decision Tree': DecisionTreeRegressor(),\n",
    "    'Random Forest': RandomForestRegressor(n_estimators=100),\n",
    "    'SVM': SVR(kernel='linear', max_iter=10000),\n",
    "    'MLP': MLPRegressor(hidden_layer_sizes=(8,4), max_iter=20000),\n",
    "}"
   ],
   "metadata": {
    "collapsed": false,
    "ExecuteTime": {
     "end_time": "2024-05-10T12:13:49.712843Z",
     "start_time": "2024-05-10T12:13:49.704348Z"
    }
   },
   "id": "73f1568bf8139ec2",
   "execution_count": 6
  },
  {
   "cell_type": "code",
   "outputs": [
    {
     "data": {
      "text/plain": "Linear Regression    0.525189\nRidge                0.525455\nLasso                0.525189\nElasticNet           0.546666\nk-NN                -0.054153\nDecision Tree        0.297696\nRandom Forest        0.310358\nSVM                  0.468917\nMLP                  0.549180\ndtype: float64"
     },
     "execution_count": 7,
     "metadata": {},
     "output_type": "execute_result"
    }
   ],
   "source": [
    "cv_scores = pd.Series({\n",
    "    name: np.mean(cross_val_score(regressor, train_df.drop(columns=['energia_ativa_alta_tensao_kwh']), train_df['energia_ativa_alta_tensao_kwh'], cv=5))\n",
    "    for name, regressor in regressors.items()\n",
    "})\n",
    "\n",
    "cv_scores"
   ],
   "metadata": {
    "collapsed": false,
    "ExecuteTime": {
     "end_time": "2024-05-10T12:14:31.889176Z",
     "start_time": "2024-05-10T12:13:49.706648Z"
    }
   },
   "id": "308e7f9615735b88",
   "execution_count": 7
  },
  {
   "cell_type": "code",
   "outputs": [
    {
     "name": "stdout",
     "output_type": "stream",
     "text": [
      "### MLP ###\n",
      "r2: 0.13912706288630095\n",
      "mse: 105606958847795.28\n",
      "mae: 5736596.207003404\n"
     ]
    }
   ],
   "source": [
    "best = cv_scores.sort_values(ascending=False).index[0]\n",
    "best_regressor = regressors[best]\n",
    "best_regressor.fit(train_df.drop(columns=['energia_ativa_alta_tensao_kwh']), train_df['energia_ativa_alta_tensao_kwh'])\n",
    "\n",
    "print(f'### {best} ###')\n",
    "\n",
    "y_pred = best_regressor.predict(test_df.drop(columns=['energia_ativa_alta_tensao_kwh']))\n",
    "\n",
    "print('r2: {}'.format(r2_score(test_df['energia_ativa_alta_tensao_kwh'], y_pred)))\n",
    "print('mse: {}'.format(mean_squared_error(test_df['energia_ativa_alta_tensao_kwh'], y_pred)))\n",
    "print('mae: {}'.format(mean_absolute_error(test_df['energia_ativa_alta_tensao_kwh'], y_pred)))"
   ],
   "metadata": {
    "collapsed": false,
    "ExecuteTime": {
     "end_time": "2024-05-10T12:14:34.587099Z",
     "start_time": "2024-05-10T12:14:31.890443Z"
    }
   },
   "id": "eed34b91a6c7e399",
   "execution_count": 8
  },
  {
   "cell_type": "markdown",
   "source": [
    "### Ordenar os exemplos do conjunto de teste por ordem decrescente do erro da previsão do regressor e verificar se existe algum padrão relevante. \n"
   ],
   "metadata": {
    "collapsed": false
   },
   "id": "cd485e14f6aa74f6"
  },
  {
   "cell_type": "code",
   "outputs": [
    {
     "data": {
      "text/plain": "     energia_ativa_alta_tensao_kwh  cpes_domestico_alta_tensao  \\\n219                       21772335                           2   \n424                       79685358                           0   \n430                       68130804                           0   \n234                       86976336                           0   \n180                       69370033                           0   \n414                       71168543                           0   \n166                       53710759                           0   \n373                       12514870                           1   \n205                       11613559                           0   \n433                        7667556                           1   \n507                        7224132                           0   \n401                        8114184                           1   \n70                        51266278                           0   \n503                        8916100                           1   \n217                        9237801                           0   \n496                       52309447                           1   \n79                         5031186                           0   \n223                        7492949                           1   \n488                       35664827                           0   \n311                        6761972                           0   \n\n     cpes_nao_domestico_alta_tensao  cpes_outros_alta_tensao  \\\n219                            1229                        0   \n424                             203                        0   \n430                              70                        0   \n234                             286                        0   \n180                             151                        0   \n414                             167                        0   \n166                              81                        0   \n373                             521                        0   \n205                             581                        0   \n433                             488                        0   \n507                             465                        0   \n401                             493                        0   \n70                              255                        0   \n503                             484                        0   \n217                             490                        0   \n496                             291                        0   \n79                              380                        0   \n223                             366                        0   \n488                             163                        0   \n311                             293                        0   \n\n     densidade_populacional_pessoas_km2         error  \n219                                5466  8.284923e+07  \n424                                 533  6.299679e+07  \n430                                  71  6.252755e+07  \n234                                1674  6.194860e+07  \n180                                 157  5.734122e+07  \n414                                1770  5.521023e+07  \n166                                 246  4.696267e+07  \n373                                5753  3.760590e+07  \n205                                 649  3.458538e+07  \n433                                1215  3.232981e+07  \n507                                1821  3.193155e+07  \n401                                 639  3.131089e+07  \n70                                  420  3.073303e+07  \n503                                 667  2.985762e+07  \n217                                 231  2.920661e+07  \n496                                 433  2.889451e+07  \n79                                  308  2.501016e+07  \n223                                1215  2.304231e+07  \n488                                 270  2.251696e+07  \n311                                3755  2.227730e+07  ",
      "text/html": "<div>\n<style scoped>\n    .dataframe tbody tr th:only-of-type {\n        vertical-align: middle;\n    }\n\n    .dataframe tbody tr th {\n        vertical-align: top;\n    }\n\n    .dataframe thead th {\n        text-align: right;\n    }\n</style>\n<table border=\"1\" class=\"dataframe\">\n  <thead>\n    <tr style=\"text-align: right;\">\n      <th></th>\n      <th>energia_ativa_alta_tensao_kwh</th>\n      <th>cpes_domestico_alta_tensao</th>\n      <th>cpes_nao_domestico_alta_tensao</th>\n      <th>cpes_outros_alta_tensao</th>\n      <th>densidade_populacional_pessoas_km2</th>\n      <th>error</th>\n    </tr>\n  </thead>\n  <tbody>\n    <tr>\n      <th>219</th>\n      <td>21772335</td>\n      <td>2</td>\n      <td>1229</td>\n      <td>0</td>\n      <td>5466</td>\n      <td>8.284923e+07</td>\n    </tr>\n    <tr>\n      <th>424</th>\n      <td>79685358</td>\n      <td>0</td>\n      <td>203</td>\n      <td>0</td>\n      <td>533</td>\n      <td>6.299679e+07</td>\n    </tr>\n    <tr>\n      <th>430</th>\n      <td>68130804</td>\n      <td>0</td>\n      <td>70</td>\n      <td>0</td>\n      <td>71</td>\n      <td>6.252755e+07</td>\n    </tr>\n    <tr>\n      <th>234</th>\n      <td>86976336</td>\n      <td>0</td>\n      <td>286</td>\n      <td>0</td>\n      <td>1674</td>\n      <td>6.194860e+07</td>\n    </tr>\n    <tr>\n      <th>180</th>\n      <td>69370033</td>\n      <td>0</td>\n      <td>151</td>\n      <td>0</td>\n      <td>157</td>\n      <td>5.734122e+07</td>\n    </tr>\n    <tr>\n      <th>414</th>\n      <td>71168543</td>\n      <td>0</td>\n      <td>167</td>\n      <td>0</td>\n      <td>1770</td>\n      <td>5.521023e+07</td>\n    </tr>\n    <tr>\n      <th>166</th>\n      <td>53710759</td>\n      <td>0</td>\n      <td>81</td>\n      <td>0</td>\n      <td>246</td>\n      <td>4.696267e+07</td>\n    </tr>\n    <tr>\n      <th>373</th>\n      <td>12514870</td>\n      <td>1</td>\n      <td>521</td>\n      <td>0</td>\n      <td>5753</td>\n      <td>3.760590e+07</td>\n    </tr>\n    <tr>\n      <th>205</th>\n      <td>11613559</td>\n      <td>0</td>\n      <td>581</td>\n      <td>0</td>\n      <td>649</td>\n      <td>3.458538e+07</td>\n    </tr>\n    <tr>\n      <th>433</th>\n      <td>7667556</td>\n      <td>1</td>\n      <td>488</td>\n      <td>0</td>\n      <td>1215</td>\n      <td>3.232981e+07</td>\n    </tr>\n    <tr>\n      <th>507</th>\n      <td>7224132</td>\n      <td>0</td>\n      <td>465</td>\n      <td>0</td>\n      <td>1821</td>\n      <td>3.193155e+07</td>\n    </tr>\n    <tr>\n      <th>401</th>\n      <td>8114184</td>\n      <td>1</td>\n      <td>493</td>\n      <td>0</td>\n      <td>639</td>\n      <td>3.131089e+07</td>\n    </tr>\n    <tr>\n      <th>70</th>\n      <td>51266278</td>\n      <td>0</td>\n      <td>255</td>\n      <td>0</td>\n      <td>420</td>\n      <td>3.073303e+07</td>\n    </tr>\n    <tr>\n      <th>503</th>\n      <td>8916100</td>\n      <td>1</td>\n      <td>484</td>\n      <td>0</td>\n      <td>667</td>\n      <td>2.985762e+07</td>\n    </tr>\n    <tr>\n      <th>217</th>\n      <td>9237801</td>\n      <td>0</td>\n      <td>490</td>\n      <td>0</td>\n      <td>231</td>\n      <td>2.920661e+07</td>\n    </tr>\n    <tr>\n      <th>496</th>\n      <td>52309447</td>\n      <td>1</td>\n      <td>291</td>\n      <td>0</td>\n      <td>433</td>\n      <td>2.889451e+07</td>\n    </tr>\n    <tr>\n      <th>79</th>\n      <td>5031186</td>\n      <td>0</td>\n      <td>380</td>\n      <td>0</td>\n      <td>308</td>\n      <td>2.501016e+07</td>\n    </tr>\n    <tr>\n      <th>223</th>\n      <td>7492949</td>\n      <td>1</td>\n      <td>366</td>\n      <td>0</td>\n      <td>1215</td>\n      <td>2.304231e+07</td>\n    </tr>\n    <tr>\n      <th>488</th>\n      <td>35664827</td>\n      <td>0</td>\n      <td>163</td>\n      <td>0</td>\n      <td>270</td>\n      <td>2.251696e+07</td>\n    </tr>\n    <tr>\n      <th>311</th>\n      <td>6761972</td>\n      <td>0</td>\n      <td>293</td>\n      <td>0</td>\n      <td>3755</td>\n      <td>2.227730e+07</td>\n    </tr>\n  </tbody>\n</table>\n</div>"
     },
     "execution_count": 9,
     "metadata": {},
     "output_type": "execute_result"
    }
   ],
   "source": [
    "df_error = test_df.copy()\n",
    "df_error['error'] = np.abs(df_error['energia_ativa_alta_tensao_kwh'] - y_pred)\n",
    "\n",
    "df_error.sort_values('error', ascending=False).head(20)"
   ],
   "metadata": {
    "collapsed": false,
    "ExecuteTime": {
     "end_time": "2024-05-10T12:14:34.594199Z",
     "start_time": "2024-05-10T12:14:34.591763Z"
    }
   },
   "id": "c366e90f84a12146",
   "execution_count": 9
  },
  {
   "cell_type": "markdown",
   "source": [
    "## Aprendizagem supervisionada com datasets normalizados"
   ],
   "metadata": {
    "collapsed": false
   },
   "id": "70e75b51516a4e67"
  },
  {
   "cell_type": "code",
   "outputs": [],
   "source": [
    "normalized_train_path = data_path + 'treated/prepared/numeric/normalized/train/dataset-numeric-high-tensions-2223-no-dates-zscore.csv'\n",
    "\n",
    "normalized_train_df = pd.read_csv(normalized_train_path)"
   ],
   "metadata": {
    "collapsed": false,
    "ExecuteTime": {
     "end_time": "2024-05-10T12:14:34.609165Z",
     "start_time": "2024-05-10T12:14:34.596321Z"
    }
   },
   "id": "fc1918305d87bea4",
   "execution_count": 10
  },
  {
   "cell_type": "code",
   "outputs": [],
   "source": [
    "normalized_test_path = data_path + 'treated/prepared/numeric/normalized/test/dataset-numeric-high-tensions-2024-no-dates-zscore.csv'\n",
    "\n",
    "normalized_test_df = pd.read_csv(normalized_test_path)"
   ],
   "metadata": {
    "collapsed": false,
    "ExecuteTime": {
     "end_time": "2024-05-10T12:14:34.609342Z",
     "start_time": "2024-05-10T12:14:34.602211Z"
    }
   },
   "id": "7b19916afb5200eb",
   "execution_count": 11
  },
  {
   "cell_type": "code",
   "outputs": [],
   "source": [
    "# Define regressors\n",
    "normalized_regressors = {\n",
    "    'Linear Regression': LinearRegression(),\n",
    "    'Ridge': Ridge(alpha=1e-3, solver='auto'),\n",
    "    'k-NN': KNeighborsRegressor(n_neighbors=5),\n",
    "    'Decision Tree': DecisionTreeRegressor(),\n",
    "    'Random Forest': RandomForestRegressor(n_estimators=100),\n",
    "    'SVM': SVR(kernel='linear', max_iter=100000),\n",
    "    'MLP': MLPRegressor(hidden_layer_sizes=(8,4), max_iter=20000)\n",
    "}"
   ],
   "metadata": {
    "collapsed": false,
    "ExecuteTime": {
     "end_time": "2024-05-10T12:14:34.615129Z",
     "start_time": "2024-05-10T12:14:34.605803Z"
    }
   },
   "id": "653ce131c50c9b50",
   "execution_count": 12
  },
  {
   "cell_type": "code",
   "outputs": [
    {
     "data": {
      "text/plain": "Linear Regression    0.525189\nRidge                0.525189\nk-NN                 0.180905\nDecision Tree        0.232800\nRandom Forest        0.339819\nSVM                  0.512977\nMLP                  0.200165\ndtype: float64"
     },
     "execution_count": 13,
     "metadata": {},
     "output_type": "execute_result"
    }
   ],
   "source": [
    "cv_scores_normalized = pd.Series({\n",
    "    name: np.mean(cross_val_score(regressor, normalized_train_df.drop(columns=['energia_ativa_alta_tensao_kwh']), normalized_train_df['energia_ativa_alta_tensao_kwh'], cv=5))\n",
    "    for name, regressor in normalized_regressors.items()\n",
    "})\n",
    "\n",
    "cv_scores_normalized"
   ],
   "metadata": {
    "collapsed": false,
    "ExecuteTime": {
     "end_time": "2024-05-10T12:14:40.226696Z",
     "start_time": "2024-05-10T12:14:34.609406Z"
    }
   },
   "id": "a7666ecdcbcd0628",
   "execution_count": 13
  },
  {
   "cell_type": "code",
   "outputs": [
    {
     "name": "stdout",
     "output_type": "stream",
     "text": [
      "### MLP ###\n",
      "r2: 0.35663419536690255\n",
      "mse: 0.6433658046330973\n",
      "mae: 0.354728854584174\n"
     ]
    }
   ],
   "source": [
    "best_normalized = cv_scores.sort_values(ascending=False).index[0]\n",
    "best_regressor_normalized = regressors[best_normalized]\n",
    "best_regressor_normalized.fit(normalized_train_df.drop(columns=['energia_ativa_alta_tensao_kwh']), normalized_train_df['energia_ativa_alta_tensao_kwh'])\n",
    "\n",
    "print(f'### {best_normalized} ###')\n",
    "\n",
    "y_pred = best_regressor_normalized.predict(normalized_test_df.drop(columns=['energia_ativa_alta_tensao_kwh']))\n",
    "\n",
    "print('r2: {}'.format(r2_score(normalized_test_df['energia_ativa_alta_tensao_kwh'], y_pred)))\n",
    "print('mse: {}'.format(mean_squared_error(normalized_test_df['energia_ativa_alta_tensao_kwh'], y_pred)))\n",
    "print('mae: {}'.format(mean_absolute_error(normalized_test_df['energia_ativa_alta_tensao_kwh'], y_pred)))"
   ],
   "metadata": {
    "collapsed": false,
    "ExecuteTime": {
     "end_time": "2024-05-10T12:14:40.683567Z",
     "start_time": "2024-05-10T12:14:40.229131Z"
    }
   },
   "id": "9c60db5392d264c4",
   "execution_count": 14
  },
  {
   "cell_type": "code",
   "outputs": [
    {
     "data": {
      "text/plain": "     energia_ativa_alta_tensao_kwh  cpes_domestico_alta_tensao  \\\n430                       5.757087                   -0.194398   \n219                       1.571539                    7.970330   \n424                       6.800308                   -0.194398   \n180                       5.868973                   -0.194398   \n234                       7.458586                   -0.194398   \n414                       6.031354                   -0.194398   \n166                       4.455150                   -0.194398   \n70                        4.234446                   -0.194398   \n496                       4.328631                    3.887966   \n502                       4.816107                    3.887966   \n507                       0.258031                   -0.194398   \n218                       9.707842                    7.970330   \n488                       2.825845                   -0.194398   \n433                       0.298066                    3.887966   \n235                       0.116807                   -0.194398   \n242                       2.649206                   -0.194398   \n223                       0.282302                    3.887966   \n86                        2.479205                   -0.194398   \n401                       0.338391                    3.887966   \n503                       0.410793                    3.887966   \n\n     cpes_nao_domestico_alta_tensao  cpes_outros_alta_tensao  \\\n430                       -0.216157                      0.0   \n219                        9.242904                      0.0   \n424                        0.869309                      0.0   \n180                        0.444916                      0.0   \n234                        1.546705                      0.0   \n414                        0.575498                      0.0   \n166                       -0.126382                      0.0   \n70                         1.293701                      0.0   \n496                        1.587512                      0.0   \n502                        3.146339                      0.0   \n507                        3.007595                      0.0   \n218                        9.218420                      0.0   \n488                        0.542853                      0.0   \n433                        3.195307                      0.0   \n235                        1.546705                      0.0   \n242                        0.910116                      0.0   \n223                        2.199617                      0.0   \n86                         1.057021                      0.0   \n401                        3.236114                      0.0   \n503                        3.162662                      0.0   \n\n     densidade_populacional_pessoas_km2     error  \n430                           -0.284486  5.999678  \n219                            6.017517  5.818823  \n424                            0.255185  5.778237  \n180                           -0.184028  5.494895  \n234                            1.588009  5.211779  \n414                            1.700148  4.900615  \n166                           -0.080065  4.629214  \n70                             0.123187  3.192927  \n496                            0.138373  2.903693  \n502                            0.411713  2.782874  \n507                            1.759722  2.560655  \n218                            6.017517  2.324260  \n488                           -0.052031  2.243918  \n433                            1.051842  2.162294  \n235                            1.588009  2.130000  \n242                           -0.119781  1.895396  \n223                            1.051842  1.839318  \n86                            -0.333547  1.785351  \n401                            0.379005  1.698574  \n503                            0.411713  1.626961  ",
      "text/html": "<div>\n<style scoped>\n    .dataframe tbody tr th:only-of-type {\n        vertical-align: middle;\n    }\n\n    .dataframe tbody tr th {\n        vertical-align: top;\n    }\n\n    .dataframe thead th {\n        text-align: right;\n    }\n</style>\n<table border=\"1\" class=\"dataframe\">\n  <thead>\n    <tr style=\"text-align: right;\">\n      <th></th>\n      <th>energia_ativa_alta_tensao_kwh</th>\n      <th>cpes_domestico_alta_tensao</th>\n      <th>cpes_nao_domestico_alta_tensao</th>\n      <th>cpes_outros_alta_tensao</th>\n      <th>densidade_populacional_pessoas_km2</th>\n      <th>error</th>\n    </tr>\n  </thead>\n  <tbody>\n    <tr>\n      <th>430</th>\n      <td>5.757087</td>\n      <td>-0.194398</td>\n      <td>-0.216157</td>\n      <td>0.0</td>\n      <td>-0.284486</td>\n      <td>5.999678</td>\n    </tr>\n    <tr>\n      <th>219</th>\n      <td>1.571539</td>\n      <td>7.970330</td>\n      <td>9.242904</td>\n      <td>0.0</td>\n      <td>6.017517</td>\n      <td>5.818823</td>\n    </tr>\n    <tr>\n      <th>424</th>\n      <td>6.800308</td>\n      <td>-0.194398</td>\n      <td>0.869309</td>\n      <td>0.0</td>\n      <td>0.255185</td>\n      <td>5.778237</td>\n    </tr>\n    <tr>\n      <th>180</th>\n      <td>5.868973</td>\n      <td>-0.194398</td>\n      <td>0.444916</td>\n      <td>0.0</td>\n      <td>-0.184028</td>\n      <td>5.494895</td>\n    </tr>\n    <tr>\n      <th>234</th>\n      <td>7.458586</td>\n      <td>-0.194398</td>\n      <td>1.546705</td>\n      <td>0.0</td>\n      <td>1.588009</td>\n      <td>5.211779</td>\n    </tr>\n    <tr>\n      <th>414</th>\n      <td>6.031354</td>\n      <td>-0.194398</td>\n      <td>0.575498</td>\n      <td>0.0</td>\n      <td>1.700148</td>\n      <td>4.900615</td>\n    </tr>\n    <tr>\n      <th>166</th>\n      <td>4.455150</td>\n      <td>-0.194398</td>\n      <td>-0.126382</td>\n      <td>0.0</td>\n      <td>-0.080065</td>\n      <td>4.629214</td>\n    </tr>\n    <tr>\n      <th>70</th>\n      <td>4.234446</td>\n      <td>-0.194398</td>\n      <td>1.293701</td>\n      <td>0.0</td>\n      <td>0.123187</td>\n      <td>3.192927</td>\n    </tr>\n    <tr>\n      <th>496</th>\n      <td>4.328631</td>\n      <td>3.887966</td>\n      <td>1.587512</td>\n      <td>0.0</td>\n      <td>0.138373</td>\n      <td>2.903693</td>\n    </tr>\n    <tr>\n      <th>502</th>\n      <td>4.816107</td>\n      <td>3.887966</td>\n      <td>3.146339</td>\n      <td>0.0</td>\n      <td>0.411713</td>\n      <td>2.782874</td>\n    </tr>\n    <tr>\n      <th>507</th>\n      <td>0.258031</td>\n      <td>-0.194398</td>\n      <td>3.007595</td>\n      <td>0.0</td>\n      <td>1.759722</td>\n      <td>2.560655</td>\n    </tr>\n    <tr>\n      <th>218</th>\n      <td>9.707842</td>\n      <td>7.970330</td>\n      <td>9.218420</td>\n      <td>0.0</td>\n      <td>6.017517</td>\n      <td>2.324260</td>\n    </tr>\n    <tr>\n      <th>488</th>\n      <td>2.825845</td>\n      <td>-0.194398</td>\n      <td>0.542853</td>\n      <td>0.0</td>\n      <td>-0.052031</td>\n      <td>2.243918</td>\n    </tr>\n    <tr>\n      <th>433</th>\n      <td>0.298066</td>\n      <td>3.887966</td>\n      <td>3.195307</td>\n      <td>0.0</td>\n      <td>1.051842</td>\n      <td>2.162294</td>\n    </tr>\n    <tr>\n      <th>235</th>\n      <td>0.116807</td>\n      <td>-0.194398</td>\n      <td>1.546705</td>\n      <td>0.0</td>\n      <td>1.588009</td>\n      <td>2.130000</td>\n    </tr>\n    <tr>\n      <th>242</th>\n      <td>2.649206</td>\n      <td>-0.194398</td>\n      <td>0.910116</td>\n      <td>0.0</td>\n      <td>-0.119781</td>\n      <td>1.895396</td>\n    </tr>\n    <tr>\n      <th>223</th>\n      <td>0.282302</td>\n      <td>3.887966</td>\n      <td>2.199617</td>\n      <td>0.0</td>\n      <td>1.051842</td>\n      <td>1.839318</td>\n    </tr>\n    <tr>\n      <th>86</th>\n      <td>2.479205</td>\n      <td>-0.194398</td>\n      <td>1.057021</td>\n      <td>0.0</td>\n      <td>-0.333547</td>\n      <td>1.785351</td>\n    </tr>\n    <tr>\n      <th>401</th>\n      <td>0.338391</td>\n      <td>3.887966</td>\n      <td>3.236114</td>\n      <td>0.0</td>\n      <td>0.379005</td>\n      <td>1.698574</td>\n    </tr>\n    <tr>\n      <th>503</th>\n      <td>0.410793</td>\n      <td>3.887966</td>\n      <td>3.162662</td>\n      <td>0.0</td>\n      <td>0.411713</td>\n      <td>1.626961</td>\n    </tr>\n  </tbody>\n</table>\n</div>"
     },
     "execution_count": 15,
     "metadata": {},
     "output_type": "execute_result"
    }
   ],
   "source": [
    "df_error_normalized = normalized_test_df.copy()\n",
    "df_error_normalized['error'] = np.abs(df_error_normalized['energia_ativa_alta_tensao_kwh'] - y_pred)\n",
    "\n",
    "df_error_normalized.sort_values('error', ascending=False).head(20)"
   ],
   "metadata": {
    "collapsed": false,
    "ExecuteTime": {
     "end_time": "2024-05-10T12:14:40.690053Z",
     "start_time": "2024-05-10T12:14:40.684650Z"
    }
   },
   "id": "cec4f4b84714d43b",
   "execution_count": 15
  },
  {
   "cell_type": "markdown",
   "source": [
    "### Ordenar os exemplos do conjunto de teste por ordem decrescente do erro da previsão do regressor e verificar se existe algum padrão relevante. \n"
   ],
   "metadata": {
    "collapsed": false
   },
   "id": "9eabdd08bcc83e22"
  },
  {
   "cell_type": "code",
   "outputs": [
    {
     "data": {
      "text/plain": "     energia_ativa_alta_tensao_kwh  cpes_domestico_alta_tensao  \\\n430                       5.757087                   -0.194398   \n219                       1.571539                    7.970330   \n424                       6.800308                   -0.194398   \n180                       5.868973                   -0.194398   \n234                       7.458586                   -0.194398   \n414                       6.031354                   -0.194398   \n166                       4.455150                   -0.194398   \n70                        4.234446                   -0.194398   \n496                       4.328631                    3.887966   \n502                       4.816107                    3.887966   \n507                       0.258031                   -0.194398   \n218                       9.707842                    7.970330   \n488                       2.825845                   -0.194398   \n433                       0.298066                    3.887966   \n235                       0.116807                   -0.194398   \n242                       2.649206                   -0.194398   \n223                       0.282302                    3.887966   \n86                        2.479205                   -0.194398   \n401                       0.338391                    3.887966   \n503                       0.410793                    3.887966   \n\n     cpes_nao_domestico_alta_tensao  cpes_outros_alta_tensao  \\\n430                       -0.216157                      0.0   \n219                        9.242904                      0.0   \n424                        0.869309                      0.0   \n180                        0.444916                      0.0   \n234                        1.546705                      0.0   \n414                        0.575498                      0.0   \n166                       -0.126382                      0.0   \n70                         1.293701                      0.0   \n496                        1.587512                      0.0   \n502                        3.146339                      0.0   \n507                        3.007595                      0.0   \n218                        9.218420                      0.0   \n488                        0.542853                      0.0   \n433                        3.195307                      0.0   \n235                        1.546705                      0.0   \n242                        0.910116                      0.0   \n223                        2.199617                      0.0   \n86                         1.057021                      0.0   \n401                        3.236114                      0.0   \n503                        3.162662                      0.0   \n\n     densidade_populacional_pessoas_km2     error  \n430                           -0.284486  5.999678  \n219                            6.017517  5.818823  \n424                            0.255185  5.778237  \n180                           -0.184028  5.494895  \n234                            1.588009  5.211779  \n414                            1.700148  4.900615  \n166                           -0.080065  4.629214  \n70                             0.123187  3.192927  \n496                            0.138373  2.903693  \n502                            0.411713  2.782874  \n507                            1.759722  2.560655  \n218                            6.017517  2.324260  \n488                           -0.052031  2.243918  \n433                            1.051842  2.162294  \n235                            1.588009  2.130000  \n242                           -0.119781  1.895396  \n223                            1.051842  1.839318  \n86                            -0.333547  1.785351  \n401                            0.379005  1.698574  \n503                            0.411713  1.626961  ",
      "text/html": "<div>\n<style scoped>\n    .dataframe tbody tr th:only-of-type {\n        vertical-align: middle;\n    }\n\n    .dataframe tbody tr th {\n        vertical-align: top;\n    }\n\n    .dataframe thead th {\n        text-align: right;\n    }\n</style>\n<table border=\"1\" class=\"dataframe\">\n  <thead>\n    <tr style=\"text-align: right;\">\n      <th></th>\n      <th>energia_ativa_alta_tensao_kwh</th>\n      <th>cpes_domestico_alta_tensao</th>\n      <th>cpes_nao_domestico_alta_tensao</th>\n      <th>cpes_outros_alta_tensao</th>\n      <th>densidade_populacional_pessoas_km2</th>\n      <th>error</th>\n    </tr>\n  </thead>\n  <tbody>\n    <tr>\n      <th>430</th>\n      <td>5.757087</td>\n      <td>-0.194398</td>\n      <td>-0.216157</td>\n      <td>0.0</td>\n      <td>-0.284486</td>\n      <td>5.999678</td>\n    </tr>\n    <tr>\n      <th>219</th>\n      <td>1.571539</td>\n      <td>7.970330</td>\n      <td>9.242904</td>\n      <td>0.0</td>\n      <td>6.017517</td>\n      <td>5.818823</td>\n    </tr>\n    <tr>\n      <th>424</th>\n      <td>6.800308</td>\n      <td>-0.194398</td>\n      <td>0.869309</td>\n      <td>0.0</td>\n      <td>0.255185</td>\n      <td>5.778237</td>\n    </tr>\n    <tr>\n      <th>180</th>\n      <td>5.868973</td>\n      <td>-0.194398</td>\n      <td>0.444916</td>\n      <td>0.0</td>\n      <td>-0.184028</td>\n      <td>5.494895</td>\n    </tr>\n    <tr>\n      <th>234</th>\n      <td>7.458586</td>\n      <td>-0.194398</td>\n      <td>1.546705</td>\n      <td>0.0</td>\n      <td>1.588009</td>\n      <td>5.211779</td>\n    </tr>\n    <tr>\n      <th>414</th>\n      <td>6.031354</td>\n      <td>-0.194398</td>\n      <td>0.575498</td>\n      <td>0.0</td>\n      <td>1.700148</td>\n      <td>4.900615</td>\n    </tr>\n    <tr>\n      <th>166</th>\n      <td>4.455150</td>\n      <td>-0.194398</td>\n      <td>-0.126382</td>\n      <td>0.0</td>\n      <td>-0.080065</td>\n      <td>4.629214</td>\n    </tr>\n    <tr>\n      <th>70</th>\n      <td>4.234446</td>\n      <td>-0.194398</td>\n      <td>1.293701</td>\n      <td>0.0</td>\n      <td>0.123187</td>\n      <td>3.192927</td>\n    </tr>\n    <tr>\n      <th>496</th>\n      <td>4.328631</td>\n      <td>3.887966</td>\n      <td>1.587512</td>\n      <td>0.0</td>\n      <td>0.138373</td>\n      <td>2.903693</td>\n    </tr>\n    <tr>\n      <th>502</th>\n      <td>4.816107</td>\n      <td>3.887966</td>\n      <td>3.146339</td>\n      <td>0.0</td>\n      <td>0.411713</td>\n      <td>2.782874</td>\n    </tr>\n    <tr>\n      <th>507</th>\n      <td>0.258031</td>\n      <td>-0.194398</td>\n      <td>3.007595</td>\n      <td>0.0</td>\n      <td>1.759722</td>\n      <td>2.560655</td>\n    </tr>\n    <tr>\n      <th>218</th>\n      <td>9.707842</td>\n      <td>7.970330</td>\n      <td>9.218420</td>\n      <td>0.0</td>\n      <td>6.017517</td>\n      <td>2.324260</td>\n    </tr>\n    <tr>\n      <th>488</th>\n      <td>2.825845</td>\n      <td>-0.194398</td>\n      <td>0.542853</td>\n      <td>0.0</td>\n      <td>-0.052031</td>\n      <td>2.243918</td>\n    </tr>\n    <tr>\n      <th>433</th>\n      <td>0.298066</td>\n      <td>3.887966</td>\n      <td>3.195307</td>\n      <td>0.0</td>\n      <td>1.051842</td>\n      <td>2.162294</td>\n    </tr>\n    <tr>\n      <th>235</th>\n      <td>0.116807</td>\n      <td>-0.194398</td>\n      <td>1.546705</td>\n      <td>0.0</td>\n      <td>1.588009</td>\n      <td>2.130000</td>\n    </tr>\n    <tr>\n      <th>242</th>\n      <td>2.649206</td>\n      <td>-0.194398</td>\n      <td>0.910116</td>\n      <td>0.0</td>\n      <td>-0.119781</td>\n      <td>1.895396</td>\n    </tr>\n    <tr>\n      <th>223</th>\n      <td>0.282302</td>\n      <td>3.887966</td>\n      <td>2.199617</td>\n      <td>0.0</td>\n      <td>1.051842</td>\n      <td>1.839318</td>\n    </tr>\n    <tr>\n      <th>86</th>\n      <td>2.479205</td>\n      <td>-0.194398</td>\n      <td>1.057021</td>\n      <td>0.0</td>\n      <td>-0.333547</td>\n      <td>1.785351</td>\n    </tr>\n    <tr>\n      <th>401</th>\n      <td>0.338391</td>\n      <td>3.887966</td>\n      <td>3.236114</td>\n      <td>0.0</td>\n      <td>0.379005</td>\n      <td>1.698574</td>\n    </tr>\n    <tr>\n      <th>503</th>\n      <td>0.410793</td>\n      <td>3.887966</td>\n      <td>3.162662</td>\n      <td>0.0</td>\n      <td>0.411713</td>\n      <td>1.626961</td>\n    </tr>\n  </tbody>\n</table>\n</div>"
     },
     "execution_count": 16,
     "metadata": {},
     "output_type": "execute_result"
    }
   ],
   "source": [
    "df_error = normalized_test_df.copy()\n",
    "df_error['error'] = np.abs(df_error['energia_ativa_alta_tensao_kwh'] - y_pred)\n",
    "\n",
    "df_error.sort_values('error', ascending=False).head(20)"
   ],
   "metadata": {
    "collapsed": false,
    "ExecuteTime": {
     "end_time": "2024-05-10T12:14:40.696339Z",
     "start_time": "2024-05-10T12:14:40.691045Z"
    }
   },
   "id": "81e0f15d46c97de6",
   "execution_count": 16
  }
 ],
 "metadata": {
  "kernelspec": {
   "display_name": "Python 3",
   "language": "python",
   "name": "python3"
  },
  "language_info": {
   "codemirror_mode": {
    "name": "ipython",
    "version": 2
   },
   "file_extension": ".py",
   "mimetype": "text/x-python",
   "name": "python",
   "nbconvert_exporter": "python",
   "pygments_lexer": "ipython2",
   "version": "2.7.6"
  }
 },
 "nbformat": 4,
 "nbformat_minor": 5
}
