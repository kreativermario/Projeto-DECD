{
 "cells": [
  {
   "metadata": {
    "ExecuteTime": {
     "end_time": "2024-05-09T17:06:39.311952Z",
     "start_time": "2024-05-09T17:06:39.146186Z"
    }
   },
   "cell_type": "code",
   "outputs": [],
   "execution_count": 1,
   "source": [
    "# Preparação dos dados\n",
    "import os\n",
    "\n",
    "import numpy as np\n",
    "import pandas as pd\n",
    "\n",
    "%matplotlib inline\n",
    "import numpy as np\n",
    "import matplotlib.pyplot as plt\n",
    "import seaborn as sns\n",
    "import pandas as pd\n",
    "from sklearn.metrics import r2_score, mean_squared_error, mean_absolute_error\n",
    "from sklearn.linear_model import LinearRegression\n",
    "from sklearn.neighbors import KNeighborsRegressor\n",
    "from sklearn.tree import DecisionTreeRegressor\n",
    "from sklearn.ensemble import RandomForestRegressor\n",
    "from sklearn.svm import SVR\n",
    "from sklearn.neural_network import MLPRegressor\n",
    "from sklearn.model_selection import cross_val_score\n",
    "\n",
    "sns.set_theme()"
   ],
   "id": "4890bf21c8588bf6"
  },
  {
   "metadata": {
    "ExecuteTime": {
     "end_time": "2024-05-09T17:06:39.315919Z",
     "start_time": "2024-05-09T17:06:39.312637Z"
    }
   },
   "cell_type": "code",
   "outputs": [],
   "execution_count": 2,
   "source": [
    "## Importar dataset teste\n",
    "\n",
    "data_path = '../data/' if os.path.exists(\n",
    "    '../data/') else 'https://raw.githubusercontent.com/kreativermario/Projeto-DECD/master/data/'\n",
    "\n",
    "test_path = data_path + 'treated/prepared/numeric/no-dates/dataset-numeric-high-tensions-test-no-dates.csv'\n",
    "\n",
    "test_df = pd.read_csv(test_path)"
   ],
   "id": "18cf3f68ea5384c4"
  },
  {
   "metadata": {
    "ExecuteTime": {
     "end_time": "2024-05-09T17:06:39.321103Z",
     "start_time": "2024-05-09T17:06:39.317090Z"
    }
   },
   "cell_type": "code",
   "outputs": [],
   "execution_count": 3,
   "source": [
    "## Importar dataset treino\n",
    "\n",
    "data_path = '../data/' if os.path.exists(\n",
    "    '../data/') else 'https://raw.githubusercontent.com/kreativermario/Projeto-DECD/master/data/'\n",
    "\n",
    "train_path = data_path + 'treated/prepared/numeric/no-dates/dataset-numeric-high-tensions-train-no-dates.csv'\n",
    "\n",
    "train_df = pd.read_csv(train_path)"
   ],
   "id": "14be88093d292bfa"
  },
  {
   "cell_type": "code",
   "outputs": [
    {
     "name": "stdout",
     "output_type": "stream",
     "text": [
      "<class 'pandas.core.frame.DataFrame'>\n",
      "RangeIndex: 4641 entries, 0 to 4640\n",
      "Data columns (total 5 columns):\n",
      " #   Column                              Non-Null Count  Dtype\n",
      "---  ------                              --------------  -----\n",
      " 0   energia_ativa_alta_tensao_kwh       4641 non-null   int64\n",
      " 1   cpes_domestico_alta_tensao          4641 non-null   int64\n",
      " 2   cpes_nao_domestico_alta_tensao      4641 non-null   int64\n",
      " 3   cpes_outros_alta_tensao             4641 non-null   int64\n",
      " 4   densidade_populacional_pessoas_km2  4641 non-null   int64\n",
      "dtypes: int64(5)\n",
      "memory usage: 181.4 KB\n"
     ]
    }
   ],
   "source": [
    "train_df.info()"
   ],
   "metadata": {
    "collapsed": false,
    "ExecuteTime": {
     "end_time": "2024-05-09T17:06:39.326640Z",
     "start_time": "2024-05-09T17:06:39.323729Z"
    }
   },
   "id": "c2950cd11c948251",
   "execution_count": 4
  },
  {
   "cell_type": "code",
   "outputs": [
    {
     "name": "stdout",
     "output_type": "stream",
     "text": [
      "<class 'pandas.core.frame.DataFrame'>\n",
      "RangeIndex: 273 entries, 0 to 272\n",
      "Data columns (total 5 columns):\n",
      " #   Column                              Non-Null Count  Dtype\n",
      "---  ------                              --------------  -----\n",
      " 0   energia_ativa_alta_tensao_kwh       273 non-null    int64\n",
      " 1   cpes_domestico_alta_tensao          273 non-null    int64\n",
      " 2   cpes_nao_domestico_alta_tensao      273 non-null    int64\n",
      " 3   cpes_outros_alta_tensao             273 non-null    int64\n",
      " 4   densidade_populacional_pessoas_km2  273 non-null    int64\n",
      "dtypes: int64(5)\n",
      "memory usage: 10.8 KB\n"
     ]
    }
   ],
   "source": [
    "test_df.info()"
   ],
   "metadata": {
    "collapsed": false,
    "ExecuteTime": {
     "end_time": "2024-05-09T17:06:39.331777Z",
     "start_time": "2024-05-09T17:06:39.327804Z"
    }
   },
   "id": "8ed290a532f931b3",
   "execution_count": 5
  },
  {
   "cell_type": "markdown",
   "source": [
    "# Algoritmos de Aprendizagem supervisionada"
   ],
   "metadata": {
    "collapsed": false
   },
   "id": "e22d9595e83c31f8"
  },
  {
   "cell_type": "code",
   "outputs": [],
   "source": [
    "regressors = {\n",
    "    'Linear Regression': LinearRegression(),\n",
    "    'k-NN': KNeighborsRegressor(n_neighbors=5),\n",
    "    'Decision Tree': DecisionTreeRegressor(),\n",
    "    'Random Forest': RandomForestRegressor(n_estimators=100),\n",
    "    'SVM': SVR(kernel='linear', max_iter=10000),\n",
    "    'MLP': MLPRegressor(hidden_layer_sizes=(8,4), max_iter=20000)\n",
    "}"
   ],
   "metadata": {
    "collapsed": false,
    "ExecuteTime": {
     "end_time": "2024-05-09T17:06:39.332116Z",
     "start_time": "2024-05-09T17:06:39.330479Z"
    }
   },
   "id": "73f1568bf8139ec2",
   "execution_count": 6
  },
  {
   "cell_type": "markdown",
   "source": [],
   "metadata": {
    "collapsed": false
   },
   "id": "5c1105ad5b3dac5c"
  },
  {
   "cell_type": "code",
   "outputs": [
    {
     "data": {
      "text/plain": "Linear Regression    0.525342\nk-NN                -0.053549\nDecision Tree        0.042950\nRandom Forest        0.325033\nSVM                  0.469171\nMLP                  0.550805\ndtype: float64"
     },
     "execution_count": 7,
     "metadata": {},
     "output_type": "execute_result"
    }
   ],
   "source": [
    "cv_scores = pd.Series({\n",
    "    name: np.mean(cross_val_score(regressor, train_df.drop(columns=['energia_ativa_alta_tensao_kwh']), train_df['energia_ativa_alta_tensao_kwh'], cv=5))\n",
    "    for name, regressor in regressors.items()\n",
    "})\n",
    "\n",
    "cv_scores"
   ],
   "metadata": {
    "collapsed": false,
    "ExecuteTime": {
     "end_time": "2024-05-09T17:07:07.602761Z",
     "start_time": "2024-05-09T17:06:39.332960Z"
    }
   },
   "id": "308e7f9615735b88",
   "execution_count": 7
  },
  {
   "cell_type": "code",
   "outputs": [
    {
     "name": "stdout",
     "output_type": "stream",
     "text": [
      "### MLP ###\n",
      "r2: -12.477315763976\n",
      "mse: 102401995022039.36\n",
      "mae: 6532161.613770501\n"
     ]
    }
   ],
   "source": [
    "best = cv_scores.sort_values(ascending=False).index[0]\n",
    "best_regressor = regressors[best]\n",
    "best_regressor.fit(train_df.drop(columns=['energia_ativa_alta_tensao_kwh']), train_df['energia_ativa_alta_tensao_kwh'])\n",
    "\n",
    "print(f'### {best} ###')\n",
    "\n",
    "y_pred = best_regressor.predict(test_df.drop(columns=['energia_ativa_alta_tensao_kwh']))\n",
    "\n",
    "print('r2: {}'.format(r2_score(test_df['energia_ativa_alta_tensao_kwh'], y_pred)))\n",
    "print('mse: {}'.format(mean_squared_error(test_df['energia_ativa_alta_tensao_kwh'], y_pred)))\n",
    "print('mae: {}'.format(mean_absolute_error(test_df['energia_ativa_alta_tensao_kwh'], y_pred)))"
   ],
   "metadata": {
    "collapsed": false,
    "ExecuteTime": {
     "end_time": "2024-05-09T17:07:18.120531Z",
     "start_time": "2024-05-09T17:07:07.602832Z"
    }
   },
   "id": "eed34b91a6c7e399",
   "execution_count": 8
  },
  {
   "cell_type": "markdown",
   "source": [
    "## Ordene os exemplos do conjunto de teste por ordem decrescente do erro da previsão do regressor e verifique se existe algum padrão relevante. "
   ],
   "metadata": {
    "collapsed": false
   },
   "id": "cd485e14f6aa74f6"
  },
  {
   "cell_type": "code",
   "outputs": [
    {
     "data": {
      "text/plain": "     energia_ativa_alta_tensao_kwh  cpes_domestico_alta_tensao  \\\n109                       25962882                           2   \n102                       12592033                           0   \n186                       16932236                           1   \n253                        7515787                           0   \n216                        8451642                           1   \n200                        9633627                           1   \n108                        9662301                           0   \n251                       10364095                           1   \n39                         5880938                           0   \n111                        7406105                           1   \n155                        7188597                           0   \n269                        3585288                           0   \n49                        10290235                           0   \n248                        3347272                           1   \n23                         2374551                           0   \n233                        5023436                           0   \n123                        5609025                           0   \n6                          4965990                           0   \n165                        4057093                           0   \n117                        7236526                           0   \n\n     cpes_nao_domestico_alta_tensao  cpes_outros_alta_tensao  \\\n109                            1226                        0   \n102                             581                        0   \n186                             519                        0   \n253                             465                        0   \n216                             486                        0   \n200                             494                        0   \n108                             490                        0   \n251                             482                        0   \n39                              380                        0   \n111                             366                        0   \n155                             293                        0   \n269                             320                        0   \n49                              380                        0   \n248                             291                        0   \n23                              133                        0   \n233                             312                        0   \n123                             256                        0   \n6                               305                        0   \n165                             286                        0   \n117                             286                        0   \n\n     densidade_populacional_pessoas_km2         error  \n109                                5466  7.852140e+07  \n102                                 649  3.363624e+07  \n186                                5753  3.302650e+07  \n253                                1821  3.167408e+07  \n216                                1215  3.142082e+07  \n200                                 639  2.989482e+07  \n108                                 231  2.880430e+07  \n251                                 667  2.828007e+07  \n39                                  308  2.417874e+07  \n111                                1215  2.315446e+07  \n155                                3755  2.183704e+07  \n269                                 139  2.153536e+07  \n49                                 1071  2.104746e+07  \n248                                 433  2.008351e+07  \n23                                 7310  2.006590e+07  \n233                                 210  1.959535e+07  \n123                                2814  1.898940e+07  \n6                                   137  1.898732e+07  \n165                                 152  1.844696e+07  \n117                                1674  1.781672e+07  ",
      "text/html": "<div>\n<style scoped>\n    .dataframe tbody tr th:only-of-type {\n        vertical-align: middle;\n    }\n\n    .dataframe tbody tr th {\n        vertical-align: top;\n    }\n\n    .dataframe thead th {\n        text-align: right;\n    }\n</style>\n<table border=\"1\" class=\"dataframe\">\n  <thead>\n    <tr style=\"text-align: right;\">\n      <th></th>\n      <th>energia_ativa_alta_tensao_kwh</th>\n      <th>cpes_domestico_alta_tensao</th>\n      <th>cpes_nao_domestico_alta_tensao</th>\n      <th>cpes_outros_alta_tensao</th>\n      <th>densidade_populacional_pessoas_km2</th>\n      <th>error</th>\n    </tr>\n  </thead>\n  <tbody>\n    <tr>\n      <th>109</th>\n      <td>25962882</td>\n      <td>2</td>\n      <td>1226</td>\n      <td>0</td>\n      <td>5466</td>\n      <td>7.852140e+07</td>\n    </tr>\n    <tr>\n      <th>102</th>\n      <td>12592033</td>\n      <td>0</td>\n      <td>581</td>\n      <td>0</td>\n      <td>649</td>\n      <td>3.363624e+07</td>\n    </tr>\n    <tr>\n      <th>186</th>\n      <td>16932236</td>\n      <td>1</td>\n      <td>519</td>\n      <td>0</td>\n      <td>5753</td>\n      <td>3.302650e+07</td>\n    </tr>\n    <tr>\n      <th>253</th>\n      <td>7515787</td>\n      <td>0</td>\n      <td>465</td>\n      <td>0</td>\n      <td>1821</td>\n      <td>3.167408e+07</td>\n    </tr>\n    <tr>\n      <th>216</th>\n      <td>8451642</td>\n      <td>1</td>\n      <td>486</td>\n      <td>0</td>\n      <td>1215</td>\n      <td>3.142082e+07</td>\n    </tr>\n    <tr>\n      <th>200</th>\n      <td>9633627</td>\n      <td>1</td>\n      <td>494</td>\n      <td>0</td>\n      <td>639</td>\n      <td>2.989482e+07</td>\n    </tr>\n    <tr>\n      <th>108</th>\n      <td>9662301</td>\n      <td>0</td>\n      <td>490</td>\n      <td>0</td>\n      <td>231</td>\n      <td>2.880430e+07</td>\n    </tr>\n    <tr>\n      <th>251</th>\n      <td>10364095</td>\n      <td>1</td>\n      <td>482</td>\n      <td>0</td>\n      <td>667</td>\n      <td>2.828007e+07</td>\n    </tr>\n    <tr>\n      <th>39</th>\n      <td>5880938</td>\n      <td>0</td>\n      <td>380</td>\n      <td>0</td>\n      <td>308</td>\n      <td>2.417874e+07</td>\n    </tr>\n    <tr>\n      <th>111</th>\n      <td>7406105</td>\n      <td>1</td>\n      <td>366</td>\n      <td>0</td>\n      <td>1215</td>\n      <td>2.315446e+07</td>\n    </tr>\n    <tr>\n      <th>155</th>\n      <td>7188597</td>\n      <td>0</td>\n      <td>293</td>\n      <td>0</td>\n      <td>3755</td>\n      <td>2.183704e+07</td>\n    </tr>\n    <tr>\n      <th>269</th>\n      <td>3585288</td>\n      <td>0</td>\n      <td>320</td>\n      <td>0</td>\n      <td>139</td>\n      <td>2.153536e+07</td>\n    </tr>\n    <tr>\n      <th>49</th>\n      <td>10290235</td>\n      <td>0</td>\n      <td>380</td>\n      <td>0</td>\n      <td>1071</td>\n      <td>2.104746e+07</td>\n    </tr>\n    <tr>\n      <th>248</th>\n      <td>3347272</td>\n      <td>1</td>\n      <td>291</td>\n      <td>0</td>\n      <td>433</td>\n      <td>2.008351e+07</td>\n    </tr>\n    <tr>\n      <th>23</th>\n      <td>2374551</td>\n      <td>0</td>\n      <td>133</td>\n      <td>0</td>\n      <td>7310</td>\n      <td>2.006590e+07</td>\n    </tr>\n    <tr>\n      <th>233</th>\n      <td>5023436</td>\n      <td>0</td>\n      <td>312</td>\n      <td>0</td>\n      <td>210</td>\n      <td>1.959535e+07</td>\n    </tr>\n    <tr>\n      <th>123</th>\n      <td>5609025</td>\n      <td>0</td>\n      <td>256</td>\n      <td>0</td>\n      <td>2814</td>\n      <td>1.898940e+07</td>\n    </tr>\n    <tr>\n      <th>6</th>\n      <td>4965990</td>\n      <td>0</td>\n      <td>305</td>\n      <td>0</td>\n      <td>137</td>\n      <td>1.898732e+07</td>\n    </tr>\n    <tr>\n      <th>165</th>\n      <td>4057093</td>\n      <td>0</td>\n      <td>286</td>\n      <td>0</td>\n      <td>152</td>\n      <td>1.844696e+07</td>\n    </tr>\n    <tr>\n      <th>117</th>\n      <td>7236526</td>\n      <td>0</td>\n      <td>286</td>\n      <td>0</td>\n      <td>1674</td>\n      <td>1.781672e+07</td>\n    </tr>\n  </tbody>\n</table>\n</div>"
     },
     "execution_count": 9,
     "metadata": {},
     "output_type": "execute_result"
    }
   ],
   "source": [
    "df_error = test_df.copy()\n",
    "df_error['error'] = np.abs(df_error['energia_ativa_alta_tensao_kwh'] - y_pred)\n",
    "\n",
    "df_error.sort_values('error', ascending=False).head(20)"
   ],
   "metadata": {
    "collapsed": false,
    "ExecuteTime": {
     "end_time": "2024-05-09T17:07:34.935129Z",
     "start_time": "2024-05-09T17:07:34.931427Z"
    }
   },
   "id": "c366e90f84a12146",
   "execution_count": 9
  },
  {
   "cell_type": "code",
   "outputs": [],
   "source": [],
   "metadata": {
    "collapsed": false
   },
   "id": "13cc8d1bf6731a2f"
  }
 ],
 "metadata": {
  "kernelspec": {
   "display_name": "Python 3",
   "language": "python",
   "name": "python3"
  },
  "language_info": {
   "codemirror_mode": {
    "name": "ipython",
    "version": 2
   },
   "file_extension": ".py",
   "mimetype": "text/x-python",
   "name": "python",
   "nbconvert_exporter": "python",
   "pygments_lexer": "ipython2",
   "version": "2.7.6"
  }
 },
 "nbformat": 4,
 "nbformat_minor": 5
}
