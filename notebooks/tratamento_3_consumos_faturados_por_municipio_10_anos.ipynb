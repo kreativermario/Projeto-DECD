{
 "cells": [
  {
   "metadata": {},
   "cell_type": "markdown",
   "source": [
    "### Import das dependências"
   ],
   "id": "f612c9694069f7c3"
  },
  {
   "metadata": {
    "ExecuteTime": {
     "end_time": "2024-05-10T11:43:58.418581Z",
     "start_time": "2024-05-10T11:43:58.408673Z"
    }
   },
   "cell_type": "code",
   "source": [
    "import os\n",
    "\n",
    "import numpy as np\n",
    "import pandas as pd\n",
    "\n",
    "%matplotlib inline\n",
    "import matplotlib.pyplot as plt\n",
    "import seaborn as sns\n",
    "\n",
    "sns.set_theme()"
   ],
   "id": "9ba5690e4597c904",
   "outputs": [],
   "execution_count": 1
  },
  {
   "metadata": {},
   "cell_type": "markdown",
   "source": [
    "### 1. Importar o dataset - \"Consumos mensais por concelho\""
   ],
   "id": "58b9a44f8f0d66c"
  },
  {
   "metadata": {
    "ExecuteTime": {
     "end_time": "2024-05-10T11:43:58.567191Z",
     "start_time": "2024-05-10T11:43:58.415540Z"
    }
   },
   "cell_type": "code",
   "source": [
    "data_path = '../data/' if os.path.exists('../data/') else 'https://raw.githubusercontent.com/kreativermario/Projeto-DECD/master/data/'\n",
    "\n",
    "consumos_faturados_path = data_path + '3-consumos-faturados-por-municipio-ultimos-10-anos.csv'\n",
    "\n",
    "df_consumos_faturados = pd.read_csv(consumos_faturados_path, delimiter=';')"
   ],
   "id": "19c81871b6b2f7b8",
   "outputs": [],
   "execution_count": 2
  },
  {
   "metadata": {},
   "cell_type": "markdown",
   "source": [
    "### 2. Ver o dataset"
   ],
   "id": "59ee0ef456be05df"
  },
  {
   "metadata": {
    "ExecuteTime": {
     "end_time": "2024-05-10T11:43:58.605655Z",
     "start_time": "2024-05-10T11:43:58.566860Z"
    }
   },
   "cell_type": "code",
   "source": [
    "df_consumos_faturados.info()"
   ],
   "id": "6d96b801ec920688",
   "outputs": [
    {
     "name": "stdout",
     "output_type": "stream",
     "text": [
      "<class 'pandas.core.frame.DataFrame'>\n",
      "RangeIndex: 178393 entries, 0 to 178392\n",
      "Data columns (total 11 columns):\n",
      " #   Column                        Non-Null Count   Dtype  \n",
      "---  ------                        --------------   -----  \n",
      " 0   Ano                           178393 non-null  int64  \n",
      " 1   Mês                           178393 non-null  int64  \n",
      " 2   Data                          178393 non-null  object \n",
      " 3   Distrito                      178393 non-null  object \n",
      " 4   Concelho                      178393 non-null  object \n",
      " 5   Freguesia                     178393 non-null  object \n",
      " 6   Nível de Tensão               178393 non-null  object \n",
      " 7   Energia Ativa (kWh)           178393 non-null  float64\n",
      " 8   CodDistrito                   178393 non-null  int64  \n",
      " 9   CodDistritoConcelho           178393 non-null  int64  \n",
      " 10  CodDistritoConcelhoFreguesia  177786 non-null  object \n",
      "dtypes: float64(1), int64(4), object(6)\n",
      "memory usage: 15.0+ MB\n"
     ]
    }
   ],
   "execution_count": 3
  },
  {
   "metadata": {},
   "cell_type": "markdown",
   "source": [
    "1. Verificar se há elementos null"
   ],
   "id": "17c51ca8dcc34e2a"
  },
  {
   "metadata": {
    "ExecuteTime": {
     "end_time": "2024-05-10T11:43:58.635388Z",
     "start_time": "2024-05-10T11:43:58.614183Z"
    }
   },
   "cell_type": "code",
   "source": [
    "# Verificar nulls\n",
    "null_counts = df_consumos_faturados.isnull().sum()\n",
    "\n",
    "# Ver nulls por coluna\n",
    "print(\"Número de nulls por coluna:\")\n",
    "print(null_counts)\n",
    "\n",
    "df_consumos_faturados.head(15)"
   ],
   "id": "6c1c16bda04641b6",
   "outputs": [
    {
     "name": "stdout",
     "output_type": "stream",
     "text": [
      "Número de nulls por coluna:\n",
      "Ano                               0\n",
      "Mês                               0\n",
      "Data                              0\n",
      "Distrito                          0\n",
      "Concelho                          0\n",
      "Freguesia                         0\n",
      "Nível de Tensão                   0\n",
      "Energia Ativa (kWh)               0\n",
      "CodDistrito                       0\n",
      "CodDistritoConcelho               0\n",
      "CodDistritoConcelhoFreguesia    607\n",
      "dtype: int64\n"
     ]
    },
    {
     "data": {
      "text/plain": "     Ano  Mês     Data          Distrito           Concelho  \\\n0   2022    3  2022-03            LISBOA            Cascais   \n1   2022    3  2022-03            LISBOA             Loures   \n2   2022    3  2022-03  VIANA DO CASTELO      Ponte de Lima   \n3   2022    3  2022-03         VILA REAL          Vila Real   \n4   2022    3  2022-03             VISEU          Mangualde   \n5   2022    4  2022-04              BEJA            Odemira   \n6   2022    4  2022-04             BRAGA           Barcelos   \n7   2022    4  2022-04             BRAGA  Celorico de Basto   \n8   2022    4  2022-04             BRAGA         Vila Verde   \n9   2022    4  2022-04          BRAGANCA          Mirandela   \n10  2022    4  2022-04            LISBOA             Lisboa   \n11  2022    4  2022-04            LISBOA             Loures   \n12  2022    4  2022-04             PORTO           Amarante   \n13  2022    4  2022-04             PORTO           Amarante   \n14  2022    4  2022-04          SANTAREM          Rio Maior   \n\n                         Freguesia                   Nível de Tensão  \\\n0             SAO DOMINGOS DE RANA  Muito Alta, Alta e Média Tensões   \n1                          BUCELAS  Muito Alta, Alta e Média Tensões   \n2              FORNELOS E QUEIJADA  Muito Alta, Alta e Média Tensões   \n3                          LORDELO  Muito Alta, Alta e Média Tensões   \n4    UF S CASSURRAES POVOA CERVAES                      Baixa Tensão   \n5           BOAVISTA DOS PINHEIROS  Muito Alta, Alta e Média Tensões   \n6                         FORNELOS                      Baixa Tensão   \n7                           ARNOIA                      Baixa Tensão   \n8                           LANHAS                      Baixa Tensão   \n9   UF BARCEL MARMELOS VAL GESTOSA                      Baixa Tensão   \n10                           AJUDA  Muito Alta, Alta e Média Tensões   \n11                           LOUSA                      Baixa Tensão   \n12                           LOMBA  Muito Alta, Alta e Média Tensões   \n13                          TELOES  Muito Alta, Alta e Média Tensões   \n14  UF OUT CORTICADA ARRUDA PISOES                      Baixa Tensão   \n\n    Energia Ativa (kWh)  CodDistrito  CodDistritoConcelho  \\\n0           2285056.105           11                 1105   \n1            746079.940           11                 1107   \n2            189886.628           16                 1607   \n3            606325.087           17                 1714   \n4            161483.633           18                 1806   \n5            477877.604            2                  211   \n6             95256.482            3                  302   \n7            160381.420            3                  305   \n8             66978.475            3                  313   \n9             52685.909            4                  407   \n10           818864.706           11                 1106   \n11           631797.613           11                 1107   \n12            20581.515           13                 1301   \n13           709140.191           13                 1301   \n14           143676.154           14                 1414   \n\n   CodDistritoConcelhoFreguesia  \n0                        110506  \n1                        110702  \n2                        160758  \n3                        171414  \n4                        180621  \n5                        021116  \n6                        030234  \n7                        030502  \n8                        031324  \n9                        040740  \n10                       110601  \n11                       110708  \n12                       130119  \n13                       130135  \n14                       141417  ",
      "text/html": "<div>\n<style scoped>\n    .dataframe tbody tr th:only-of-type {\n        vertical-align: middle;\n    }\n\n    .dataframe tbody tr th {\n        vertical-align: top;\n    }\n\n    .dataframe thead th {\n        text-align: right;\n    }\n</style>\n<table border=\"1\" class=\"dataframe\">\n  <thead>\n    <tr style=\"text-align: right;\">\n      <th></th>\n      <th>Ano</th>\n      <th>Mês</th>\n      <th>Data</th>\n      <th>Distrito</th>\n      <th>Concelho</th>\n      <th>Freguesia</th>\n      <th>Nível de Tensão</th>\n      <th>Energia Ativa (kWh)</th>\n      <th>CodDistrito</th>\n      <th>CodDistritoConcelho</th>\n      <th>CodDistritoConcelhoFreguesia</th>\n    </tr>\n  </thead>\n  <tbody>\n    <tr>\n      <th>0</th>\n      <td>2022</td>\n      <td>3</td>\n      <td>2022-03</td>\n      <td>LISBOA</td>\n      <td>Cascais</td>\n      <td>SAO DOMINGOS DE RANA</td>\n      <td>Muito Alta, Alta e Média Tensões</td>\n      <td>2285056.105</td>\n      <td>11</td>\n      <td>1105</td>\n      <td>110506</td>\n    </tr>\n    <tr>\n      <th>1</th>\n      <td>2022</td>\n      <td>3</td>\n      <td>2022-03</td>\n      <td>LISBOA</td>\n      <td>Loures</td>\n      <td>BUCELAS</td>\n      <td>Muito Alta, Alta e Média Tensões</td>\n      <td>746079.940</td>\n      <td>11</td>\n      <td>1107</td>\n      <td>110702</td>\n    </tr>\n    <tr>\n      <th>2</th>\n      <td>2022</td>\n      <td>3</td>\n      <td>2022-03</td>\n      <td>VIANA DO CASTELO</td>\n      <td>Ponte de Lima</td>\n      <td>FORNELOS E QUEIJADA</td>\n      <td>Muito Alta, Alta e Média Tensões</td>\n      <td>189886.628</td>\n      <td>16</td>\n      <td>1607</td>\n      <td>160758</td>\n    </tr>\n    <tr>\n      <th>3</th>\n      <td>2022</td>\n      <td>3</td>\n      <td>2022-03</td>\n      <td>VILA REAL</td>\n      <td>Vila Real</td>\n      <td>LORDELO</td>\n      <td>Muito Alta, Alta e Média Tensões</td>\n      <td>606325.087</td>\n      <td>17</td>\n      <td>1714</td>\n      <td>171414</td>\n    </tr>\n    <tr>\n      <th>4</th>\n      <td>2022</td>\n      <td>3</td>\n      <td>2022-03</td>\n      <td>VISEU</td>\n      <td>Mangualde</td>\n      <td>UF S CASSURRAES POVOA CERVAES</td>\n      <td>Baixa Tensão</td>\n      <td>161483.633</td>\n      <td>18</td>\n      <td>1806</td>\n      <td>180621</td>\n    </tr>\n    <tr>\n      <th>5</th>\n      <td>2022</td>\n      <td>4</td>\n      <td>2022-04</td>\n      <td>BEJA</td>\n      <td>Odemira</td>\n      <td>BOAVISTA DOS PINHEIROS</td>\n      <td>Muito Alta, Alta e Média Tensões</td>\n      <td>477877.604</td>\n      <td>2</td>\n      <td>211</td>\n      <td>021116</td>\n    </tr>\n    <tr>\n      <th>6</th>\n      <td>2022</td>\n      <td>4</td>\n      <td>2022-04</td>\n      <td>BRAGA</td>\n      <td>Barcelos</td>\n      <td>FORNELOS</td>\n      <td>Baixa Tensão</td>\n      <td>95256.482</td>\n      <td>3</td>\n      <td>302</td>\n      <td>030234</td>\n    </tr>\n    <tr>\n      <th>7</th>\n      <td>2022</td>\n      <td>4</td>\n      <td>2022-04</td>\n      <td>BRAGA</td>\n      <td>Celorico de Basto</td>\n      <td>ARNOIA</td>\n      <td>Baixa Tensão</td>\n      <td>160381.420</td>\n      <td>3</td>\n      <td>305</td>\n      <td>030502</td>\n    </tr>\n    <tr>\n      <th>8</th>\n      <td>2022</td>\n      <td>4</td>\n      <td>2022-04</td>\n      <td>BRAGA</td>\n      <td>Vila Verde</td>\n      <td>LANHAS</td>\n      <td>Baixa Tensão</td>\n      <td>66978.475</td>\n      <td>3</td>\n      <td>313</td>\n      <td>031324</td>\n    </tr>\n    <tr>\n      <th>9</th>\n      <td>2022</td>\n      <td>4</td>\n      <td>2022-04</td>\n      <td>BRAGANCA</td>\n      <td>Mirandela</td>\n      <td>UF BARCEL MARMELOS VAL GESTOSA</td>\n      <td>Baixa Tensão</td>\n      <td>52685.909</td>\n      <td>4</td>\n      <td>407</td>\n      <td>040740</td>\n    </tr>\n    <tr>\n      <th>10</th>\n      <td>2022</td>\n      <td>4</td>\n      <td>2022-04</td>\n      <td>LISBOA</td>\n      <td>Lisboa</td>\n      <td>AJUDA</td>\n      <td>Muito Alta, Alta e Média Tensões</td>\n      <td>818864.706</td>\n      <td>11</td>\n      <td>1106</td>\n      <td>110601</td>\n    </tr>\n    <tr>\n      <th>11</th>\n      <td>2022</td>\n      <td>4</td>\n      <td>2022-04</td>\n      <td>LISBOA</td>\n      <td>Loures</td>\n      <td>LOUSA</td>\n      <td>Baixa Tensão</td>\n      <td>631797.613</td>\n      <td>11</td>\n      <td>1107</td>\n      <td>110708</td>\n    </tr>\n    <tr>\n      <th>12</th>\n      <td>2022</td>\n      <td>4</td>\n      <td>2022-04</td>\n      <td>PORTO</td>\n      <td>Amarante</td>\n      <td>LOMBA</td>\n      <td>Muito Alta, Alta e Média Tensões</td>\n      <td>20581.515</td>\n      <td>13</td>\n      <td>1301</td>\n      <td>130119</td>\n    </tr>\n    <tr>\n      <th>13</th>\n      <td>2022</td>\n      <td>4</td>\n      <td>2022-04</td>\n      <td>PORTO</td>\n      <td>Amarante</td>\n      <td>TELOES</td>\n      <td>Muito Alta, Alta e Média Tensões</td>\n      <td>709140.191</td>\n      <td>13</td>\n      <td>1301</td>\n      <td>130135</td>\n    </tr>\n    <tr>\n      <th>14</th>\n      <td>2022</td>\n      <td>4</td>\n      <td>2022-04</td>\n      <td>SANTAREM</td>\n      <td>Rio Maior</td>\n      <td>UF OUT CORTICADA ARRUDA PISOES</td>\n      <td>Baixa Tensão</td>\n      <td>143676.154</td>\n      <td>14</td>\n      <td>1414</td>\n      <td>141417</td>\n    </tr>\n  </tbody>\n</table>\n</div>"
     },
     "execution_count": 4,
     "metadata": {},
     "output_type": "execute_result"
    }
   ],
   "execution_count": 4
  },
  {
   "metadata": {},
   "cell_type": "markdown",
   "source": [
    "### 3. Tratamento e agregação dos dados\n",
    "\n",
    "1. Remover atributos como a Data, Distrito, CodDistrito CodDistritoConcelho, CodDistritoConcelhoFreguesia \n",
    "2. Agrupar por concelhos e remover a freguesia"
   ],
   "id": "29bb59415ef1309e"
  },
  {
   "metadata": {},
   "cell_type": "markdown",
   "source": [
    "1. Remover atributos como a Data, Distrito, CodDistrito CodDistritoConcelho, CodDistritoConcelhoFreguesia"
   ],
   "id": "a8d2cce07034c90c"
  },
  {
   "metadata": {
    "ExecuteTime": {
     "end_time": "2024-05-10T11:43:58.647086Z",
     "start_time": "2024-05-10T11:43:58.622994Z"
    }
   },
   "cell_type": "code",
   "source": [
    "# Remover atributos como a data, distrito, código distrito, código distrito concelho e código distrito concelho freguesia\n",
    "df_consumos_faturados.drop(columns=['Data', 'Distrito', 'CodDistrito','CodDistritoConcelho', 'CodDistritoConcelhoFreguesia'], inplace=True)\n",
    "df_consumos_faturados.info()"
   ],
   "id": "754e924d638112f5",
   "outputs": [
    {
     "name": "stdout",
     "output_type": "stream",
     "text": [
      "<class 'pandas.core.frame.DataFrame'>\n",
      "RangeIndex: 178393 entries, 0 to 178392\n",
      "Data columns (total 6 columns):\n",
      " #   Column               Non-Null Count   Dtype  \n",
      "---  ------               --------------   -----  \n",
      " 0   Ano                  178393 non-null  int64  \n",
      " 1   Mês                  178393 non-null  int64  \n",
      " 2   Concelho             178393 non-null  object \n",
      " 3   Freguesia            178393 non-null  object \n",
      " 4   Nível de Tensão      178393 non-null  object \n",
      " 5   Energia Ativa (kWh)  178393 non-null  float64\n",
      "dtypes: float64(1), int64(2), object(3)\n",
      "memory usage: 8.2+ MB\n"
     ]
    }
   ],
   "execution_count": 5
  },
  {
   "metadata": {},
   "cell_type": "markdown",
   "source": [
    "2. Agrupar por concelhos e remover a freguesia"
   ],
   "id": "ca1de86caa0e4017"
  },
  {
   "metadata": {
    "ExecuteTime": {
     "end_time": "2024-05-10T11:43:58.718647Z",
     "start_time": "2024-05-10T11:43:58.645111Z"
    }
   },
   "cell_type": "code",
   "source": [
    "df_agrupado_consumos = df_consumos_faturados.groupby(['Concelho', 'Nível de Tensão', 'Ano', 'Mês']).sum().reset_index()\n",
    "df_agrupado_consumos.drop(columns=['Freguesia'], inplace=True)\n",
    "df_agrupado_consumos.rename(columns={'Concelho':'concelho', 'Nível de Tensão':'nivel_de_tensao', 'Ano':'ano', 'Mês':'mes', 'Energia Ativa (kWh)':'energia_ativa_kwh'}, inplace=True)\n",
    "df_agrupado_consumos.head(20)"
   ],
   "id": "4e0b9a420e394f97",
   "outputs": [
    {
     "data": {
      "text/plain": "    concelho nivel_de_tensao   ano  mes  energia_ativa_kwh\n0   Abrantes    Baixa Tensão  2020   11        6028876.823\n1   Abrantes    Baixa Tensão  2020   12        7077695.231\n2   Abrantes    Baixa Tensão  2021    1        7712489.589\n3   Abrantes    Baixa Tensão  2021    2        6002902.204\n4   Abrantes    Baixa Tensão  2021    3        5968053.133\n5   Abrantes    Baixa Tensão  2021    4        5286618.275\n6   Abrantes    Baixa Tensão  2021    5        5273576.492\n7   Abrantes    Baixa Tensão  2021    6        5198165.148\n8   Abrantes    Baixa Tensão  2021    7        5584150.218\n9   Abrantes    Baixa Tensão  2021    8        5647642.591\n10  Abrantes    Baixa Tensão  2021    9        5332372.279\n11  Abrantes    Baixa Tensão  2021   10        5558506.416\n12  Abrantes    Baixa Tensão  2021   11        6229434.446\n13  Abrantes    Baixa Tensão  2021   12        7064244.209\n14  Abrantes    Baixa Tensão  2022    1        7305927.452\n15  Abrantes    Baixa Tensão  2022    2        6260063.341\n16  Abrantes    Baixa Tensão  2022    3        6377125.614\n17  Abrantes    Baixa Tensão  2022    4        5562424.100\n18  Abrantes    Baixa Tensão  2022    5        5483020.699\n19  Abrantes    Baixa Tensão  2022    6        5423066.794",
      "text/html": "<div>\n<style scoped>\n    .dataframe tbody tr th:only-of-type {\n        vertical-align: middle;\n    }\n\n    .dataframe tbody tr th {\n        vertical-align: top;\n    }\n\n    .dataframe thead th {\n        text-align: right;\n    }\n</style>\n<table border=\"1\" class=\"dataframe\">\n  <thead>\n    <tr style=\"text-align: right;\">\n      <th></th>\n      <th>concelho</th>\n      <th>nivel_de_tensao</th>\n      <th>ano</th>\n      <th>mes</th>\n      <th>energia_ativa_kwh</th>\n    </tr>\n  </thead>\n  <tbody>\n    <tr>\n      <th>0</th>\n      <td>Abrantes</td>\n      <td>Baixa Tensão</td>\n      <td>2020</td>\n      <td>11</td>\n      <td>6028876.823</td>\n    </tr>\n    <tr>\n      <th>1</th>\n      <td>Abrantes</td>\n      <td>Baixa Tensão</td>\n      <td>2020</td>\n      <td>12</td>\n      <td>7077695.231</td>\n    </tr>\n    <tr>\n      <th>2</th>\n      <td>Abrantes</td>\n      <td>Baixa Tensão</td>\n      <td>2021</td>\n      <td>1</td>\n      <td>7712489.589</td>\n    </tr>\n    <tr>\n      <th>3</th>\n      <td>Abrantes</td>\n      <td>Baixa Tensão</td>\n      <td>2021</td>\n      <td>2</td>\n      <td>6002902.204</td>\n    </tr>\n    <tr>\n      <th>4</th>\n      <td>Abrantes</td>\n      <td>Baixa Tensão</td>\n      <td>2021</td>\n      <td>3</td>\n      <td>5968053.133</td>\n    </tr>\n    <tr>\n      <th>5</th>\n      <td>Abrantes</td>\n      <td>Baixa Tensão</td>\n      <td>2021</td>\n      <td>4</td>\n      <td>5286618.275</td>\n    </tr>\n    <tr>\n      <th>6</th>\n      <td>Abrantes</td>\n      <td>Baixa Tensão</td>\n      <td>2021</td>\n      <td>5</td>\n      <td>5273576.492</td>\n    </tr>\n    <tr>\n      <th>7</th>\n      <td>Abrantes</td>\n      <td>Baixa Tensão</td>\n      <td>2021</td>\n      <td>6</td>\n      <td>5198165.148</td>\n    </tr>\n    <tr>\n      <th>8</th>\n      <td>Abrantes</td>\n      <td>Baixa Tensão</td>\n      <td>2021</td>\n      <td>7</td>\n      <td>5584150.218</td>\n    </tr>\n    <tr>\n      <th>9</th>\n      <td>Abrantes</td>\n      <td>Baixa Tensão</td>\n      <td>2021</td>\n      <td>8</td>\n      <td>5647642.591</td>\n    </tr>\n    <tr>\n      <th>10</th>\n      <td>Abrantes</td>\n      <td>Baixa Tensão</td>\n      <td>2021</td>\n      <td>9</td>\n      <td>5332372.279</td>\n    </tr>\n    <tr>\n      <th>11</th>\n      <td>Abrantes</td>\n      <td>Baixa Tensão</td>\n      <td>2021</td>\n      <td>10</td>\n      <td>5558506.416</td>\n    </tr>\n    <tr>\n      <th>12</th>\n      <td>Abrantes</td>\n      <td>Baixa Tensão</td>\n      <td>2021</td>\n      <td>11</td>\n      <td>6229434.446</td>\n    </tr>\n    <tr>\n      <th>13</th>\n      <td>Abrantes</td>\n      <td>Baixa Tensão</td>\n      <td>2021</td>\n      <td>12</td>\n      <td>7064244.209</td>\n    </tr>\n    <tr>\n      <th>14</th>\n      <td>Abrantes</td>\n      <td>Baixa Tensão</td>\n      <td>2022</td>\n      <td>1</td>\n      <td>7305927.452</td>\n    </tr>\n    <tr>\n      <th>15</th>\n      <td>Abrantes</td>\n      <td>Baixa Tensão</td>\n      <td>2022</td>\n      <td>2</td>\n      <td>6260063.341</td>\n    </tr>\n    <tr>\n      <th>16</th>\n      <td>Abrantes</td>\n      <td>Baixa Tensão</td>\n      <td>2022</td>\n      <td>3</td>\n      <td>6377125.614</td>\n    </tr>\n    <tr>\n      <th>17</th>\n      <td>Abrantes</td>\n      <td>Baixa Tensão</td>\n      <td>2022</td>\n      <td>4</td>\n      <td>5562424.100</td>\n    </tr>\n    <tr>\n      <th>18</th>\n      <td>Abrantes</td>\n      <td>Baixa Tensão</td>\n      <td>2022</td>\n      <td>5</td>\n      <td>5483020.699</td>\n    </tr>\n    <tr>\n      <th>19</th>\n      <td>Abrantes</td>\n      <td>Baixa Tensão</td>\n      <td>2022</td>\n      <td>6</td>\n      <td>5423066.794</td>\n    </tr>\n  </tbody>\n</table>\n</div>"
     },
     "execution_count": 6,
     "metadata": {},
     "output_type": "execute_result"
    }
   ],
   "execution_count": 6
  },
  {
   "metadata": {},
   "cell_type": "markdown",
   "source": [
    "### 4. Verificação dos dados\n",
    "\n",
    "1. Verificação número de linhas\n",
    "2. Verificação dados"
   ],
   "id": "62d87e8e9d79febd"
  },
  {
   "metadata": {},
   "cell_type": "markdown",
   "source": [
    "1. Verificação número de linhas"
   ],
   "id": "1d377aec05a913a3"
  },
  {
   "metadata": {
    "ExecuteTime": {
     "end_time": "2024-05-10T11:43:58.720205Z",
     "start_time": "2024-05-10T11:43:58.695526Z"
    }
   },
   "cell_type": "code",
   "source": [
    "# Contagem de linhas antes do agrupamento\n",
    "num_linhas_antes = len(df_consumos_faturados)\n",
    "\n",
    "# Contagem de linhas depois do agrupamento\n",
    "num_linhas_depois = len(df_agrupado_consumos)\n",
    "\n",
    "# Exibição das contagens\n",
    "print(\"Número de linhas antes do agrupamento:\", num_linhas_antes)\n",
    "print(\"Número de linhas depois do agrupamento:\", num_linhas_depois)\n",
    "\n",
    "df_agrupado_consumos.info()\n",
    "\n",
    "df_agrupado_consumos.head(15)"
   ],
   "id": "111b020e494f834f",
   "outputs": [
    {
     "name": "stdout",
     "output_type": "stream",
     "text": [
      "Número de linhas antes do agrupamento: 178393\n",
      "Número de linhas depois do agrupamento: 22157\n",
      "<class 'pandas.core.frame.DataFrame'>\n",
      "RangeIndex: 22157 entries, 0 to 22156\n",
      "Data columns (total 5 columns):\n",
      " #   Column             Non-Null Count  Dtype  \n",
      "---  ------             --------------  -----  \n",
      " 0   concelho           22157 non-null  object \n",
      " 1   nivel_de_tensao    22157 non-null  object \n",
      " 2   ano                22157 non-null  int64  \n",
      " 3   mes                22157 non-null  int64  \n",
      " 4   energia_ativa_kwh  22157 non-null  float64\n",
      "dtypes: float64(1), int64(2), object(2)\n",
      "memory usage: 865.6+ KB\n"
     ]
    },
    {
     "data": {
      "text/plain": "    concelho nivel_de_tensao   ano  mes  energia_ativa_kwh\n0   Abrantes    Baixa Tensão  2020   11        6028876.823\n1   Abrantes    Baixa Tensão  2020   12        7077695.231\n2   Abrantes    Baixa Tensão  2021    1        7712489.589\n3   Abrantes    Baixa Tensão  2021    2        6002902.204\n4   Abrantes    Baixa Tensão  2021    3        5968053.133\n5   Abrantes    Baixa Tensão  2021    4        5286618.275\n6   Abrantes    Baixa Tensão  2021    5        5273576.492\n7   Abrantes    Baixa Tensão  2021    6        5198165.148\n8   Abrantes    Baixa Tensão  2021    7        5584150.218\n9   Abrantes    Baixa Tensão  2021    8        5647642.591\n10  Abrantes    Baixa Tensão  2021    9        5332372.279\n11  Abrantes    Baixa Tensão  2021   10        5558506.416\n12  Abrantes    Baixa Tensão  2021   11        6229434.446\n13  Abrantes    Baixa Tensão  2021   12        7064244.209\n14  Abrantes    Baixa Tensão  2022    1        7305927.452",
      "text/html": "<div>\n<style scoped>\n    .dataframe tbody tr th:only-of-type {\n        vertical-align: middle;\n    }\n\n    .dataframe tbody tr th {\n        vertical-align: top;\n    }\n\n    .dataframe thead th {\n        text-align: right;\n    }\n</style>\n<table border=\"1\" class=\"dataframe\">\n  <thead>\n    <tr style=\"text-align: right;\">\n      <th></th>\n      <th>concelho</th>\n      <th>nivel_de_tensao</th>\n      <th>ano</th>\n      <th>mes</th>\n      <th>energia_ativa_kwh</th>\n    </tr>\n  </thead>\n  <tbody>\n    <tr>\n      <th>0</th>\n      <td>Abrantes</td>\n      <td>Baixa Tensão</td>\n      <td>2020</td>\n      <td>11</td>\n      <td>6028876.823</td>\n    </tr>\n    <tr>\n      <th>1</th>\n      <td>Abrantes</td>\n      <td>Baixa Tensão</td>\n      <td>2020</td>\n      <td>12</td>\n      <td>7077695.231</td>\n    </tr>\n    <tr>\n      <th>2</th>\n      <td>Abrantes</td>\n      <td>Baixa Tensão</td>\n      <td>2021</td>\n      <td>1</td>\n      <td>7712489.589</td>\n    </tr>\n    <tr>\n      <th>3</th>\n      <td>Abrantes</td>\n      <td>Baixa Tensão</td>\n      <td>2021</td>\n      <td>2</td>\n      <td>6002902.204</td>\n    </tr>\n    <tr>\n      <th>4</th>\n      <td>Abrantes</td>\n      <td>Baixa Tensão</td>\n      <td>2021</td>\n      <td>3</td>\n      <td>5968053.133</td>\n    </tr>\n    <tr>\n      <th>5</th>\n      <td>Abrantes</td>\n      <td>Baixa Tensão</td>\n      <td>2021</td>\n      <td>4</td>\n      <td>5286618.275</td>\n    </tr>\n    <tr>\n      <th>6</th>\n      <td>Abrantes</td>\n      <td>Baixa Tensão</td>\n      <td>2021</td>\n      <td>5</td>\n      <td>5273576.492</td>\n    </tr>\n    <tr>\n      <th>7</th>\n      <td>Abrantes</td>\n      <td>Baixa Tensão</td>\n      <td>2021</td>\n      <td>6</td>\n      <td>5198165.148</td>\n    </tr>\n    <tr>\n      <th>8</th>\n      <td>Abrantes</td>\n      <td>Baixa Tensão</td>\n      <td>2021</td>\n      <td>7</td>\n      <td>5584150.218</td>\n    </tr>\n    <tr>\n      <th>9</th>\n      <td>Abrantes</td>\n      <td>Baixa Tensão</td>\n      <td>2021</td>\n      <td>8</td>\n      <td>5647642.591</td>\n    </tr>\n    <tr>\n      <th>10</th>\n      <td>Abrantes</td>\n      <td>Baixa Tensão</td>\n      <td>2021</td>\n      <td>9</td>\n      <td>5332372.279</td>\n    </tr>\n    <tr>\n      <th>11</th>\n      <td>Abrantes</td>\n      <td>Baixa Tensão</td>\n      <td>2021</td>\n      <td>10</td>\n      <td>5558506.416</td>\n    </tr>\n    <tr>\n      <th>12</th>\n      <td>Abrantes</td>\n      <td>Baixa Tensão</td>\n      <td>2021</td>\n      <td>11</td>\n      <td>6229434.446</td>\n    </tr>\n    <tr>\n      <th>13</th>\n      <td>Abrantes</td>\n      <td>Baixa Tensão</td>\n      <td>2021</td>\n      <td>12</td>\n      <td>7064244.209</td>\n    </tr>\n    <tr>\n      <th>14</th>\n      <td>Abrantes</td>\n      <td>Baixa Tensão</td>\n      <td>2022</td>\n      <td>1</td>\n      <td>7305927.452</td>\n    </tr>\n  </tbody>\n</table>\n</div>"
     },
     "execution_count": 7,
     "metadata": {},
     "output_type": "execute_result"
    }
   ],
   "execution_count": 7
  },
  {
   "cell_type": "code",
   "outputs": [
    {
     "name": "stdout",
     "output_type": "stream",
     "text": [
      "Número de concelhos antes do agrupamento: 278\n",
      "Número de concelhos depois do agrupamento: 278\n"
     ]
    }
   ],
   "source": [
    "# Contagem de linhas antes do agrupamento\n",
    "num_concelhos_antes = len(df_consumos_faturados['Concelho'].unique())\n",
    "\n",
    "# Contagem de linhas depois do agrupamento\n",
    "num_concelhos_depois = len(df_agrupado_consumos['concelho'].unique())\n",
    "\n",
    "# Exibição das contagens\n",
    "print(\"Número de concelhos antes do agrupamento:\", num_concelhos_antes)\n",
    "print(\"Número de concelhos depois do agrupamento:\", num_concelhos_depois)"
   ],
   "metadata": {
    "collapsed": false,
    "ExecuteTime": {
     "end_time": "2024-05-10T11:43:58.774661Z",
     "start_time": "2024-05-10T11:43:58.706373Z"
    }
   },
   "id": "ada95e783f1b3352",
   "execution_count": 8
  },
  {
   "metadata": {},
   "cell_type": "markdown",
   "source": [
    "2. Verificação de dados"
   ],
   "id": "48453295ec2f22f1"
  },
  {
   "metadata": {
    "ExecuteTime": {
     "end_time": "2024-05-10T11:43:58.830768Z",
     "start_time": "2024-05-10T11:43:58.716166Z"
    }
   },
   "cell_type": "code",
   "source": [
    "# Para a coleção de Consumos Mensais por Concelho\n",
    "df_consumos_lisboa = df_agrupado_consumos[df_agrupado_consumos['concelho'] == 'Lisboa']\n",
    "df_consumos_lisboa.info()"
   ],
   "id": "b53c41a14f2c7bc7",
   "outputs": [
    {
     "name": "stdout",
     "output_type": "stream",
     "text": [
      "<class 'pandas.core.frame.DataFrame'>\n",
      "Index: 80 entries, 8840 to 8919\n",
      "Data columns (total 5 columns):\n",
      " #   Column             Non-Null Count  Dtype  \n",
      "---  ------             --------------  -----  \n",
      " 0   concelho           80 non-null     object \n",
      " 1   nivel_de_tensao    80 non-null     object \n",
      " 2   ano                80 non-null     int64  \n",
      " 3   mes                80 non-null     int64  \n",
      " 4   energia_ativa_kwh  80 non-null     float64\n",
      "dtypes: float64(1), int64(2), object(2)\n",
      "memory usage: 3.8+ KB\n"
     ]
    }
   ],
   "execution_count": 9
  },
  {
   "metadata": {
    "ExecuteTime": {
     "end_time": "2024-05-10T11:43:58.832439Z",
     "start_time": "2024-05-10T11:43:58.721079Z"
    }
   },
   "cell_type": "code",
   "source": [
    "df_consumos_lisboa"
   ],
   "id": "e95c5349890185fe",
   "outputs": [
    {
     "data": {
      "text/plain": "     concelho                   nivel_de_tensao   ano  mes  energia_ativa_kwh\n8840   Lisboa                      Baixa Tensão  2020   11       1.287976e+08\n8841   Lisboa                      Baixa Tensão  2020   12       1.488491e+08\n8842   Lisboa                      Baixa Tensão  2021    1       1.681885e+08\n8843   Lisboa                      Baixa Tensão  2021    2       1.229727e+08\n8844   Lisboa                      Baixa Tensão  2021    3       1.183083e+08\n...       ...                               ...   ...  ...                ...\n8915   Lisboa  Muito Alta, Alta e Média Tensões  2023   10       1.222942e+08\n8916   Lisboa  Muito Alta, Alta e Média Tensões  2023   11       1.104590e+08\n8917   Lisboa  Muito Alta, Alta e Média Tensões  2023   12       1.103051e+08\n8918   Lisboa  Muito Alta, Alta e Média Tensões  2024    1       1.118887e+08\n8919   Lisboa  Muito Alta, Alta e Média Tensões  2024    2       2.177234e+07\n\n[80 rows x 5 columns]",
      "text/html": "<div>\n<style scoped>\n    .dataframe tbody tr th:only-of-type {\n        vertical-align: middle;\n    }\n\n    .dataframe tbody tr th {\n        vertical-align: top;\n    }\n\n    .dataframe thead th {\n        text-align: right;\n    }\n</style>\n<table border=\"1\" class=\"dataframe\">\n  <thead>\n    <tr style=\"text-align: right;\">\n      <th></th>\n      <th>concelho</th>\n      <th>nivel_de_tensao</th>\n      <th>ano</th>\n      <th>mes</th>\n      <th>energia_ativa_kwh</th>\n    </tr>\n  </thead>\n  <tbody>\n    <tr>\n      <th>8840</th>\n      <td>Lisboa</td>\n      <td>Baixa Tensão</td>\n      <td>2020</td>\n      <td>11</td>\n      <td>1.287976e+08</td>\n    </tr>\n    <tr>\n      <th>8841</th>\n      <td>Lisboa</td>\n      <td>Baixa Tensão</td>\n      <td>2020</td>\n      <td>12</td>\n      <td>1.488491e+08</td>\n    </tr>\n    <tr>\n      <th>8842</th>\n      <td>Lisboa</td>\n      <td>Baixa Tensão</td>\n      <td>2021</td>\n      <td>1</td>\n      <td>1.681885e+08</td>\n    </tr>\n    <tr>\n      <th>8843</th>\n      <td>Lisboa</td>\n      <td>Baixa Tensão</td>\n      <td>2021</td>\n      <td>2</td>\n      <td>1.229727e+08</td>\n    </tr>\n    <tr>\n      <th>8844</th>\n      <td>Lisboa</td>\n      <td>Baixa Tensão</td>\n      <td>2021</td>\n      <td>3</td>\n      <td>1.183083e+08</td>\n    </tr>\n    <tr>\n      <th>...</th>\n      <td>...</td>\n      <td>...</td>\n      <td>...</td>\n      <td>...</td>\n      <td>...</td>\n    </tr>\n    <tr>\n      <th>8915</th>\n      <td>Lisboa</td>\n      <td>Muito Alta, Alta e Média Tensões</td>\n      <td>2023</td>\n      <td>10</td>\n      <td>1.222942e+08</td>\n    </tr>\n    <tr>\n      <th>8916</th>\n      <td>Lisboa</td>\n      <td>Muito Alta, Alta e Média Tensões</td>\n      <td>2023</td>\n      <td>11</td>\n      <td>1.104590e+08</td>\n    </tr>\n    <tr>\n      <th>8917</th>\n      <td>Lisboa</td>\n      <td>Muito Alta, Alta e Média Tensões</td>\n      <td>2023</td>\n      <td>12</td>\n      <td>1.103051e+08</td>\n    </tr>\n    <tr>\n      <th>8918</th>\n      <td>Lisboa</td>\n      <td>Muito Alta, Alta e Média Tensões</td>\n      <td>2024</td>\n      <td>1</td>\n      <td>1.118887e+08</td>\n    </tr>\n    <tr>\n      <th>8919</th>\n      <td>Lisboa</td>\n      <td>Muito Alta, Alta e Média Tensões</td>\n      <td>2024</td>\n      <td>2</td>\n      <td>2.177234e+07</td>\n    </tr>\n  </tbody>\n</table>\n<p>80 rows × 5 columns</p>\n</div>"
     },
     "execution_count": 10,
     "metadata": {},
     "output_type": "execute_result"
    }
   ],
   "execution_count": 10
  },
  {
   "metadata": {},
   "cell_type": "markdown",
   "source": [
    "### 5. Guardar Ficheiro"
   ],
   "id": "930aff5aee3177b1"
  },
  {
   "cell_type": "code",
   "source": [
    "file_path = data_path + 'treated/consumos_faturados_por_municipio_10_anos.csv'\n",
    "\n",
    "df_agrupado_consumos.to_csv(file_path, index=False)\n",
    "\n",
    "print(\"DataFrame guardado em \", file_path)"
   ],
   "metadata": {
    "collapsed": false,
    "ExecuteTime": {
     "end_time": "2024-05-10T11:43:58.833748Z",
     "start_time": "2024-05-10T11:43:58.724150Z"
    }
   },
   "id": "a6fb05bc8f979b7d",
   "outputs": [
    {
     "name": "stdout",
     "output_type": "stream",
     "text": [
      "DataFrame guardado em  ../data/treated/consumos_faturados_por_municipio_10_anos.csv\n"
     ]
    }
   ],
   "execution_count": 11
  }
 ],
 "metadata": {
  "kernelspec": {
   "display_name": "Python 3",
   "language": "python",
   "name": "python3"
  },
  "language_info": {
   "codemirror_mode": {
    "name": "ipython",
    "version": 2
   },
   "file_extension": ".py",
   "mimetype": "text/x-python",
   "name": "python",
   "nbconvert_exporter": "python",
   "pygments_lexer": "ipython2",
   "version": "2.7.6"
  }
 },
 "nbformat": 4,
 "nbformat_minor": 5
}
