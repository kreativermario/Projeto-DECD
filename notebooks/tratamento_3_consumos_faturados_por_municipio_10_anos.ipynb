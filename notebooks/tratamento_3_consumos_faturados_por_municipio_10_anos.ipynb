{
 "cells": [
  {
   "metadata": {},
   "cell_type": "markdown",
   "source": [
    "### Import das dependências"
   ],
   "id": "f612c9694069f7c3"
  },
  {
   "metadata": {
    "jupyter": {
     "is_executing": true
    },
    "ExecuteTime": {
     "end_time": "2024-04-17T11:20:47.245101Z",
     "start_time": "2024-04-17T11:20:47.224708Z"
    }
   },
   "cell_type": "code",
   "source": [
    "import os\n",
    "\n",
    "import numpy as np\n",
    "import pandas as pd\n",
    "\n",
    "%matplotlib inline\n",
    "import matplotlib.pyplot as plt\n",
    "import seaborn as sns\n",
    "\n",
    "sns.set_theme()"
   ],
   "id": "9ba5690e4597c904",
   "outputs": [],
   "execution_count": 2
  },
  {
   "metadata": {},
   "cell_type": "markdown",
   "source": [
    "### 1. Importar o dataset - \"Consumos mensais por concelho\""
   ],
   "id": "58b9a44f8f0d66c"
  },
  {
   "metadata": {
    "ExecuteTime": {
     "end_time": "2024-04-17T11:20:47.392587Z",
     "start_time": "2024-04-17T11:20:47.247608Z"
    }
   },
   "cell_type": "code",
   "outputs": [],
   "execution_count": 3,
   "source": [
    "data_path = '../data/' if os.path.exists('../data/') else 'https://raw.githubusercontent.com/kreativermario/Projeto-DECD/master/data/'\n",
    "\n",
    "consumos_faturados_path = data_path + '3-consumos-faturados-por-municipio-ultimos-10-anos.csv'\n",
    "\n",
    "df_consumos_faturados = pd.read_csv(consumos_faturados_path, delimiter=';')"
   ],
   "id": "19c81871b6b2f7b8"
  },
  {
   "metadata": {},
   "cell_type": "markdown",
   "source": [
    "### 2. Ver o dataset"
   ],
   "id": "59ee0ef456be05df"
  },
  {
   "metadata": {
    "ExecuteTime": {
     "end_time": "2024-04-17T11:20:47.418160Z",
     "start_time": "2024-04-17T11:20:47.393015Z"
    }
   },
   "cell_type": "code",
   "outputs": [
    {
     "name": "stdout",
     "output_type": "stream",
     "text": [
      "<class 'pandas.core.frame.DataFrame'>\n",
      "RangeIndex: 173912 entries, 0 to 173911\n",
      "Data columns (total 11 columns):\n",
      " #   Column                        Non-Null Count   Dtype  \n",
      "---  ------                        --------------   -----  \n",
      " 0   Ano                           173912 non-null  int64  \n",
      " 1   Mês                           173912 non-null  int64  \n",
      " 2   Data                          173912 non-null  object \n",
      " 3   Distrito                      173912 non-null  object \n",
      " 4   Concelho                      173912 non-null  object \n",
      " 5   Freguesia                     173912 non-null  object \n",
      " 6   Nível de Tensão               173912 non-null  object \n",
      " 7   Energia Ativa (kWh)           173912 non-null  float64\n",
      " 8   CodDistrito                   173912 non-null  int64  \n",
      " 9   CodDistritoConcelho           173912 non-null  int64  \n",
      " 10  CodDistritoConcelhoFreguesia  173320 non-null  object \n",
      "dtypes: float64(1), int64(4), object(6)\n",
      "memory usage: 14.6+ MB\n"
     ]
    }
   ],
   "execution_count": 4,
   "source": [
    "df_consumos_faturados.info()"
   ],
   "id": "6d96b801ec920688"
  },
  {
   "metadata": {},
   "cell_type": "markdown",
   "source": [
    "1. Verificar se há elementos null"
   ],
   "id": "17c51ca8dcc34e2a"
  },
  {
   "metadata": {
    "ExecuteTime": {
     "end_time": "2024-04-17T11:20:47.452852Z",
     "start_time": "2024-04-17T11:20:47.417881Z"
    }
   },
   "cell_type": "code",
   "outputs": [
    {
     "name": "stdout",
     "output_type": "stream",
     "text": [
      "Número de nulls por coluna:\n",
      "Ano                               0\n",
      "Mês                               0\n",
      "Data                              0\n",
      "Distrito                          0\n",
      "Concelho                          0\n",
      "Freguesia                         0\n",
      "Nível de Tensão                   0\n",
      "Energia Ativa (kWh)               0\n",
      "CodDistrito                       0\n",
      "CodDistritoConcelho               0\n",
      "CodDistritoConcelhoFreguesia    592\n",
      "dtype: int64\n"
     ]
    },
    {
     "data": {
      "text/plain": "     Ano  Mês     Data          Distrito             Concelho  \\\n0   2021    4  2021-04  VIANA DO CASTELO        Ponte de Lima   \n1   2021    5  2021-05             BRAGA               Amares   \n2   2021    5  2021-05             BRAGA               Vizela   \n3   2021    5  2021-05        PORTALEGRE          Campo Maior   \n4   2021    5  2021-05          SANTAREM              Sardoal   \n5   2021    6  2021-06             BRAGA      Vieira do Minho   \n6   2021    6  2021-06            LEIRIA            Bombarral   \n7   2021    6  2021-06             PORTO           Felgueiras   \n8   2021    6  2021-06             PORTO      Póvoa de Varzim   \n9   2021    6  2021-06  VIANA DO CASTELO        Ponte de Lima   \n10  2021    6  2021-06         VILA REAL               Chaves   \n11  2021    6  2021-06             VISEU                Nelas   \n12  2021    7  2021-07            AVEIRO  São João da Madeira   \n13  2021    7  2021-07             BRAGA      Vieira do Minho   \n14  2021    7  2021-07            LISBOA        Torres Vedras   \n\n                        Freguesia                   Nível de Tensão  \\\n0                       CALHEIROS                      Baixa Tensão   \n1                         RENDUFE  Muito Alta, Alta e Média Tensões   \n2                UF CALDAS VIZELA                      Baixa Tensão   \n3   NOSSA SENHORA GRACA DEGOLADOS  Muito Alta, Alta e Média Tensões   \n4          SANTIAGO DE MONTALEGRE                      Baixa Tensão   \n5                        TABUACAS  Muito Alta, Alta e Média Tensões   \n6                       CARVALHAL                      Baixa Tensão   \n7                            AIAO                      Baixa Tensão   \n8          UF AGUCADOURA E NAVAIS                      Baixa Tensão   \n9                       SERDEDELO                      Baixa Tensão   \n10           SAO PEDRO DE AGOSTEM                      Baixa Tensão   \n11                   LAPA DO LOBO                      Baixa Tensão   \n12            SAO JOAO DA MADEIRA                      Baixa Tensão   \n13                       TABUACAS  Muito Alta, Alta e Média Tensões   \n14                       RAMALHAL  Muito Alta, Alta e Média Tensões   \n\n    Energia Ativa (kWh)  CodDistrito  CodDistritoConcelho  \\\n0            104321.726           16                 1607   \n1             45123.071            3                  301   \n2           1669013.735            3                  314   \n3            450138.731           12                 1204   \n4             44856.247           14                 1417   \n5            171359.782            3                  311   \n6            482473.048           10                 1005   \n7            101726.041           13                 1303   \n8            763835.428           13                 1313   \n9             34802.676           16                 1607   \n10           149215.416           17                 1703   \n11            79670.569           18                 1809   \n12          4327808.001            1                  116   \n13           153811.645            3                  311   \n14          3186603.166           11                 1113   \n\n   CodDistritoConcelhoFreguesia  \n0                        160713  \n1                        030118  \n2                        031408  \n3                        120402  \n4                        141702  \n5                        031118  \n6                        100502  \n7                        130301  \n8                        131314  \n9                        160746  \n10                       170333  \n11                       180908  \n12                       011601  \n13                       031118  \n14                       111311  ",
      "text/html": "<div>\n<style scoped>\n    .dataframe tbody tr th:only-of-type {\n        vertical-align: middle;\n    }\n\n    .dataframe tbody tr th {\n        vertical-align: top;\n    }\n\n    .dataframe thead th {\n        text-align: right;\n    }\n</style>\n<table border=\"1\" class=\"dataframe\">\n  <thead>\n    <tr style=\"text-align: right;\">\n      <th></th>\n      <th>Ano</th>\n      <th>Mês</th>\n      <th>Data</th>\n      <th>Distrito</th>\n      <th>Concelho</th>\n      <th>Freguesia</th>\n      <th>Nível de Tensão</th>\n      <th>Energia Ativa (kWh)</th>\n      <th>CodDistrito</th>\n      <th>CodDistritoConcelho</th>\n      <th>CodDistritoConcelhoFreguesia</th>\n    </tr>\n  </thead>\n  <tbody>\n    <tr>\n      <th>0</th>\n      <td>2021</td>\n      <td>4</td>\n      <td>2021-04</td>\n      <td>VIANA DO CASTELO</td>\n      <td>Ponte de Lima</td>\n      <td>CALHEIROS</td>\n      <td>Baixa Tensão</td>\n      <td>104321.726</td>\n      <td>16</td>\n      <td>1607</td>\n      <td>160713</td>\n    </tr>\n    <tr>\n      <th>1</th>\n      <td>2021</td>\n      <td>5</td>\n      <td>2021-05</td>\n      <td>BRAGA</td>\n      <td>Amares</td>\n      <td>RENDUFE</td>\n      <td>Muito Alta, Alta e Média Tensões</td>\n      <td>45123.071</td>\n      <td>3</td>\n      <td>301</td>\n      <td>030118</td>\n    </tr>\n    <tr>\n      <th>2</th>\n      <td>2021</td>\n      <td>5</td>\n      <td>2021-05</td>\n      <td>BRAGA</td>\n      <td>Vizela</td>\n      <td>UF CALDAS VIZELA</td>\n      <td>Baixa Tensão</td>\n      <td>1669013.735</td>\n      <td>3</td>\n      <td>314</td>\n      <td>031408</td>\n    </tr>\n    <tr>\n      <th>3</th>\n      <td>2021</td>\n      <td>5</td>\n      <td>2021-05</td>\n      <td>PORTALEGRE</td>\n      <td>Campo Maior</td>\n      <td>NOSSA SENHORA GRACA DEGOLADOS</td>\n      <td>Muito Alta, Alta e Média Tensões</td>\n      <td>450138.731</td>\n      <td>12</td>\n      <td>1204</td>\n      <td>120402</td>\n    </tr>\n    <tr>\n      <th>4</th>\n      <td>2021</td>\n      <td>5</td>\n      <td>2021-05</td>\n      <td>SANTAREM</td>\n      <td>Sardoal</td>\n      <td>SANTIAGO DE MONTALEGRE</td>\n      <td>Baixa Tensão</td>\n      <td>44856.247</td>\n      <td>14</td>\n      <td>1417</td>\n      <td>141702</td>\n    </tr>\n    <tr>\n      <th>5</th>\n      <td>2021</td>\n      <td>6</td>\n      <td>2021-06</td>\n      <td>BRAGA</td>\n      <td>Vieira do Minho</td>\n      <td>TABUACAS</td>\n      <td>Muito Alta, Alta e Média Tensões</td>\n      <td>171359.782</td>\n      <td>3</td>\n      <td>311</td>\n      <td>031118</td>\n    </tr>\n    <tr>\n      <th>6</th>\n      <td>2021</td>\n      <td>6</td>\n      <td>2021-06</td>\n      <td>LEIRIA</td>\n      <td>Bombarral</td>\n      <td>CARVALHAL</td>\n      <td>Baixa Tensão</td>\n      <td>482473.048</td>\n      <td>10</td>\n      <td>1005</td>\n      <td>100502</td>\n    </tr>\n    <tr>\n      <th>7</th>\n      <td>2021</td>\n      <td>6</td>\n      <td>2021-06</td>\n      <td>PORTO</td>\n      <td>Felgueiras</td>\n      <td>AIAO</td>\n      <td>Baixa Tensão</td>\n      <td>101726.041</td>\n      <td>13</td>\n      <td>1303</td>\n      <td>130301</td>\n    </tr>\n    <tr>\n      <th>8</th>\n      <td>2021</td>\n      <td>6</td>\n      <td>2021-06</td>\n      <td>PORTO</td>\n      <td>Póvoa de Varzim</td>\n      <td>UF AGUCADOURA E NAVAIS</td>\n      <td>Baixa Tensão</td>\n      <td>763835.428</td>\n      <td>13</td>\n      <td>1313</td>\n      <td>131314</td>\n    </tr>\n    <tr>\n      <th>9</th>\n      <td>2021</td>\n      <td>6</td>\n      <td>2021-06</td>\n      <td>VIANA DO CASTELO</td>\n      <td>Ponte de Lima</td>\n      <td>SERDEDELO</td>\n      <td>Baixa Tensão</td>\n      <td>34802.676</td>\n      <td>16</td>\n      <td>1607</td>\n      <td>160746</td>\n    </tr>\n    <tr>\n      <th>10</th>\n      <td>2021</td>\n      <td>6</td>\n      <td>2021-06</td>\n      <td>VILA REAL</td>\n      <td>Chaves</td>\n      <td>SAO PEDRO DE AGOSTEM</td>\n      <td>Baixa Tensão</td>\n      <td>149215.416</td>\n      <td>17</td>\n      <td>1703</td>\n      <td>170333</td>\n    </tr>\n    <tr>\n      <th>11</th>\n      <td>2021</td>\n      <td>6</td>\n      <td>2021-06</td>\n      <td>VISEU</td>\n      <td>Nelas</td>\n      <td>LAPA DO LOBO</td>\n      <td>Baixa Tensão</td>\n      <td>79670.569</td>\n      <td>18</td>\n      <td>1809</td>\n      <td>180908</td>\n    </tr>\n    <tr>\n      <th>12</th>\n      <td>2021</td>\n      <td>7</td>\n      <td>2021-07</td>\n      <td>AVEIRO</td>\n      <td>São João da Madeira</td>\n      <td>SAO JOAO DA MADEIRA</td>\n      <td>Baixa Tensão</td>\n      <td>4327808.001</td>\n      <td>1</td>\n      <td>116</td>\n      <td>011601</td>\n    </tr>\n    <tr>\n      <th>13</th>\n      <td>2021</td>\n      <td>7</td>\n      <td>2021-07</td>\n      <td>BRAGA</td>\n      <td>Vieira do Minho</td>\n      <td>TABUACAS</td>\n      <td>Muito Alta, Alta e Média Tensões</td>\n      <td>153811.645</td>\n      <td>3</td>\n      <td>311</td>\n      <td>031118</td>\n    </tr>\n    <tr>\n      <th>14</th>\n      <td>2021</td>\n      <td>7</td>\n      <td>2021-07</td>\n      <td>LISBOA</td>\n      <td>Torres Vedras</td>\n      <td>RAMALHAL</td>\n      <td>Muito Alta, Alta e Média Tensões</td>\n      <td>3186603.166</td>\n      <td>11</td>\n      <td>1113</td>\n      <td>111311</td>\n    </tr>\n  </tbody>\n</table>\n</div>"
     },
     "execution_count": 5,
     "metadata": {},
     "output_type": "execute_result"
    }
   ],
   "execution_count": 5,
   "source": [
    "# Verificar nulls\n",
    "null_counts = df_consumos_faturados.isnull().sum()\n",
    "\n",
    "# Ver nulls por coluna\n",
    "print(\"Número de nulls por coluna:\")\n",
    "print(null_counts)\n",
    "\n",
    "df_consumos_faturados.head(15)"
   ],
   "id": "6c1c16bda04641b6"
  },
  {
   "metadata": {},
   "cell_type": "markdown",
   "source": [
    "### 3. Tratamento e agregação dos dados\n",
    "\n",
    "1. Remover atributos como a Data, Distrito, CodDistrito CodDistritoConcelho, CodDistritoConcelhoFreguesia \n",
    "2. Agrupar por concelhos e remover a freguesia"
   ],
   "id": "29bb59415ef1309e"
  },
  {
   "metadata": {},
   "cell_type": "markdown",
   "source": [
    "1. Remover atributos como a Data, Distrito, CodDistrito CodDistritoConcelho, CodDistritoConcelhoFreguesia"
   ],
   "id": "a8d2cce07034c90c"
  },
  {
   "metadata": {
    "ExecuteTime": {
     "end_time": "2024-04-17T11:20:47.467598Z",
     "start_time": "2024-04-17T11:20:47.447943Z"
    }
   },
   "cell_type": "code",
   "outputs": [
    {
     "name": "stdout",
     "output_type": "stream",
     "text": [
      "<class 'pandas.core.frame.DataFrame'>\n",
      "RangeIndex: 173912 entries, 0 to 173911\n",
      "Data columns (total 6 columns):\n",
      " #   Column               Non-Null Count   Dtype  \n",
      "---  ------               --------------   -----  \n",
      " 0   Ano                  173912 non-null  int64  \n",
      " 1   Mês                  173912 non-null  int64  \n",
      " 2   Concelho             173912 non-null  object \n",
      " 3   Freguesia            173912 non-null  object \n",
      " 4   Nível de Tensão      173912 non-null  object \n",
      " 5   Energia Ativa (kWh)  173912 non-null  float64\n",
      "dtypes: float64(1), int64(2), object(3)\n",
      "memory usage: 8.0+ MB\n"
     ]
    }
   ],
   "execution_count": 6,
   "source": [
    "# Remover atributos como a data, distrito, código distrito, código distrito concelho e código distrito concelho freguesia\n",
    "df_consumos_faturados.drop(columns=['Data', 'Distrito', 'CodDistrito','CodDistritoConcelho', 'CodDistritoConcelhoFreguesia'], inplace=True)\n",
    "df_consumos_faturados.info()"
   ],
   "id": "754e924d638112f5"
  },
  {
   "metadata": {},
   "cell_type": "markdown",
   "source": [
    "2. Agrupar por concelhos e remover a freguesia"
   ],
   "id": "ca1de86caa0e4017"
  },
  {
   "metadata": {
    "ExecuteTime": {
     "end_time": "2024-04-17T11:20:47.536487Z",
     "start_time": "2024-04-17T11:20:47.469755Z"
    }
   },
   "cell_type": "code",
   "outputs": [
    {
     "data": {
      "text/plain": "       Concelho                   Nível de Tensão   Ano  Mês  \\\n0      Abrantes                      Baixa Tensão  2020   11   \n1      Abrantes                      Baixa Tensão  2020   12   \n2      Abrantes                      Baixa Tensão  2021    1   \n3      Abrantes                      Baixa Tensão  2021    2   \n4      Abrantes                      Baixa Tensão  2021    3   \n...         ...                               ...   ...  ...   \n21598    Óbidos  Muito Alta, Alta e Média Tensões  2023    9   \n21599    Óbidos  Muito Alta, Alta e Média Tensões  2023   10   \n21600    Óbidos  Muito Alta, Alta e Média Tensões  2023   11   \n21601    Óbidos  Muito Alta, Alta e Média Tensões  2023   12   \n21602    Óbidos  Muito Alta, Alta e Média Tensões  2024    1   \n\n       Energia Ativa (kWh)  \n0              6029002.940  \n1              7077870.498  \n2              7712679.751  \n3              6003054.326  \n4              5968195.785  \n...                    ...  \n21598          2362739.409  \n21599          2434894.975  \n21600          2287322.884  \n21601          2324876.442  \n21602           784013.000  \n\n[21603 rows x 5 columns]",
      "text/html": "<div>\n<style scoped>\n    .dataframe tbody tr th:only-of-type {\n        vertical-align: middle;\n    }\n\n    .dataframe tbody tr th {\n        vertical-align: top;\n    }\n\n    .dataframe thead th {\n        text-align: right;\n    }\n</style>\n<table border=\"1\" class=\"dataframe\">\n  <thead>\n    <tr style=\"text-align: right;\">\n      <th></th>\n      <th>Concelho</th>\n      <th>Nível de Tensão</th>\n      <th>Ano</th>\n      <th>Mês</th>\n      <th>Energia Ativa (kWh)</th>\n    </tr>\n  </thead>\n  <tbody>\n    <tr>\n      <th>0</th>\n      <td>Abrantes</td>\n      <td>Baixa Tensão</td>\n      <td>2020</td>\n      <td>11</td>\n      <td>6029002.940</td>\n    </tr>\n    <tr>\n      <th>1</th>\n      <td>Abrantes</td>\n      <td>Baixa Tensão</td>\n      <td>2020</td>\n      <td>12</td>\n      <td>7077870.498</td>\n    </tr>\n    <tr>\n      <th>2</th>\n      <td>Abrantes</td>\n      <td>Baixa Tensão</td>\n      <td>2021</td>\n      <td>1</td>\n      <td>7712679.751</td>\n    </tr>\n    <tr>\n      <th>3</th>\n      <td>Abrantes</td>\n      <td>Baixa Tensão</td>\n      <td>2021</td>\n      <td>2</td>\n      <td>6003054.326</td>\n    </tr>\n    <tr>\n      <th>4</th>\n      <td>Abrantes</td>\n      <td>Baixa Tensão</td>\n      <td>2021</td>\n      <td>3</td>\n      <td>5968195.785</td>\n    </tr>\n    <tr>\n      <th>...</th>\n      <td>...</td>\n      <td>...</td>\n      <td>...</td>\n      <td>...</td>\n      <td>...</td>\n    </tr>\n    <tr>\n      <th>21598</th>\n      <td>Óbidos</td>\n      <td>Muito Alta, Alta e Média Tensões</td>\n      <td>2023</td>\n      <td>9</td>\n      <td>2362739.409</td>\n    </tr>\n    <tr>\n      <th>21599</th>\n      <td>Óbidos</td>\n      <td>Muito Alta, Alta e Média Tensões</td>\n      <td>2023</td>\n      <td>10</td>\n      <td>2434894.975</td>\n    </tr>\n    <tr>\n      <th>21600</th>\n      <td>Óbidos</td>\n      <td>Muito Alta, Alta e Média Tensões</td>\n      <td>2023</td>\n      <td>11</td>\n      <td>2287322.884</td>\n    </tr>\n    <tr>\n      <th>21601</th>\n      <td>Óbidos</td>\n      <td>Muito Alta, Alta e Média Tensões</td>\n      <td>2023</td>\n      <td>12</td>\n      <td>2324876.442</td>\n    </tr>\n    <tr>\n      <th>21602</th>\n      <td>Óbidos</td>\n      <td>Muito Alta, Alta e Média Tensões</td>\n      <td>2024</td>\n      <td>1</td>\n      <td>784013.000</td>\n    </tr>\n  </tbody>\n</table>\n<p>21603 rows × 5 columns</p>\n</div>"
     },
     "execution_count": 7,
     "metadata": {},
     "output_type": "execute_result"
    }
   ],
   "execution_count": 7,
   "source": [
    "df_agrupado_consumos = df_consumos_faturados.groupby(['Concelho', 'Nível de Tensão', 'Ano', 'Mês']).sum().reset_index()\n",
    "df_agrupado_consumos.drop(columns=['Freguesia'], inplace=True)\n",
    "df_agrupado_consumos"
   ],
   "id": "4e0b9a420e394f97"
  },
  {
   "metadata": {},
   "cell_type": "markdown",
   "source": [
    "### 4. Verificação dos dados\n",
    "\n",
    "1. Verificação número de linhas\n",
    "2. Verificação dados"
   ],
   "id": "62d87e8e9d79febd"
  },
  {
   "metadata": {},
   "cell_type": "markdown",
   "source": [
    "1. Verificação número de linhas"
   ],
   "id": "1d377aec05a913a3"
  },
  {
   "metadata": {
    "ExecuteTime": {
     "end_time": "2024-04-17T11:20:47.537209Z",
     "start_time": "2024-04-17T11:20:47.514277Z"
    }
   },
   "cell_type": "code",
   "outputs": [
    {
     "name": "stdout",
     "output_type": "stream",
     "text": [
      "Número de linhas antes do agrupamento: 173912\n",
      "Número de linhas depois do agrupamento: 21603\n",
      "<class 'pandas.core.frame.DataFrame'>\n",
      "RangeIndex: 21603 entries, 0 to 21602\n",
      "Data columns (total 5 columns):\n",
      " #   Column               Non-Null Count  Dtype  \n",
      "---  ------               --------------  -----  \n",
      " 0   Concelho             21603 non-null  object \n",
      " 1   Nível de Tensão      21603 non-null  object \n",
      " 2   Ano                  21603 non-null  int64  \n",
      " 3   Mês                  21603 non-null  int64  \n",
      " 4   Energia Ativa (kWh)  21603 non-null  float64\n",
      "dtypes: float64(1), int64(2), object(2)\n",
      "memory usage: 844.0+ KB\n"
     ]
    },
    {
     "data": {
      "text/plain": "    Concelho Nível de Tensão   Ano  Mês  Energia Ativa (kWh)\n0   Abrantes    Baixa Tensão  2020   11          6029002.940\n1   Abrantes    Baixa Tensão  2020   12          7077870.498\n2   Abrantes    Baixa Tensão  2021    1          7712679.751\n3   Abrantes    Baixa Tensão  2021    2          6003054.326\n4   Abrantes    Baixa Tensão  2021    3          5968195.785\n5   Abrantes    Baixa Tensão  2021    4          5286724.904\n6   Abrantes    Baixa Tensão  2021    5          5273668.184\n7   Abrantes    Baixa Tensão  2021    6          5198261.657\n8   Abrantes    Baixa Tensão  2021    7          5583887.035\n9   Abrantes    Baixa Tensão  2021    8          5645604.343\n10  Abrantes    Baixa Tensão  2021    9          5331470.278\n11  Abrantes    Baixa Tensão  2021   10          5558008.142\n12  Abrantes    Baixa Tensão  2021   11          6229877.074\n13  Abrantes    Baixa Tensão  2021   12          7063338.521\n14  Abrantes    Baixa Tensão  2022    1          7304699.096",
      "text/html": "<div>\n<style scoped>\n    .dataframe tbody tr th:only-of-type {\n        vertical-align: middle;\n    }\n\n    .dataframe tbody tr th {\n        vertical-align: top;\n    }\n\n    .dataframe thead th {\n        text-align: right;\n    }\n</style>\n<table border=\"1\" class=\"dataframe\">\n  <thead>\n    <tr style=\"text-align: right;\">\n      <th></th>\n      <th>Concelho</th>\n      <th>Nível de Tensão</th>\n      <th>Ano</th>\n      <th>Mês</th>\n      <th>Energia Ativa (kWh)</th>\n    </tr>\n  </thead>\n  <tbody>\n    <tr>\n      <th>0</th>\n      <td>Abrantes</td>\n      <td>Baixa Tensão</td>\n      <td>2020</td>\n      <td>11</td>\n      <td>6029002.940</td>\n    </tr>\n    <tr>\n      <th>1</th>\n      <td>Abrantes</td>\n      <td>Baixa Tensão</td>\n      <td>2020</td>\n      <td>12</td>\n      <td>7077870.498</td>\n    </tr>\n    <tr>\n      <th>2</th>\n      <td>Abrantes</td>\n      <td>Baixa Tensão</td>\n      <td>2021</td>\n      <td>1</td>\n      <td>7712679.751</td>\n    </tr>\n    <tr>\n      <th>3</th>\n      <td>Abrantes</td>\n      <td>Baixa Tensão</td>\n      <td>2021</td>\n      <td>2</td>\n      <td>6003054.326</td>\n    </tr>\n    <tr>\n      <th>4</th>\n      <td>Abrantes</td>\n      <td>Baixa Tensão</td>\n      <td>2021</td>\n      <td>3</td>\n      <td>5968195.785</td>\n    </tr>\n    <tr>\n      <th>5</th>\n      <td>Abrantes</td>\n      <td>Baixa Tensão</td>\n      <td>2021</td>\n      <td>4</td>\n      <td>5286724.904</td>\n    </tr>\n    <tr>\n      <th>6</th>\n      <td>Abrantes</td>\n      <td>Baixa Tensão</td>\n      <td>2021</td>\n      <td>5</td>\n      <td>5273668.184</td>\n    </tr>\n    <tr>\n      <th>7</th>\n      <td>Abrantes</td>\n      <td>Baixa Tensão</td>\n      <td>2021</td>\n      <td>6</td>\n      <td>5198261.657</td>\n    </tr>\n    <tr>\n      <th>8</th>\n      <td>Abrantes</td>\n      <td>Baixa Tensão</td>\n      <td>2021</td>\n      <td>7</td>\n      <td>5583887.035</td>\n    </tr>\n    <tr>\n      <th>9</th>\n      <td>Abrantes</td>\n      <td>Baixa Tensão</td>\n      <td>2021</td>\n      <td>8</td>\n      <td>5645604.343</td>\n    </tr>\n    <tr>\n      <th>10</th>\n      <td>Abrantes</td>\n      <td>Baixa Tensão</td>\n      <td>2021</td>\n      <td>9</td>\n      <td>5331470.278</td>\n    </tr>\n    <tr>\n      <th>11</th>\n      <td>Abrantes</td>\n      <td>Baixa Tensão</td>\n      <td>2021</td>\n      <td>10</td>\n      <td>5558008.142</td>\n    </tr>\n    <tr>\n      <th>12</th>\n      <td>Abrantes</td>\n      <td>Baixa Tensão</td>\n      <td>2021</td>\n      <td>11</td>\n      <td>6229877.074</td>\n    </tr>\n    <tr>\n      <th>13</th>\n      <td>Abrantes</td>\n      <td>Baixa Tensão</td>\n      <td>2021</td>\n      <td>12</td>\n      <td>7063338.521</td>\n    </tr>\n    <tr>\n      <th>14</th>\n      <td>Abrantes</td>\n      <td>Baixa Tensão</td>\n      <td>2022</td>\n      <td>1</td>\n      <td>7304699.096</td>\n    </tr>\n  </tbody>\n</table>\n</div>"
     },
     "execution_count": 8,
     "metadata": {},
     "output_type": "execute_result"
    }
   ],
   "execution_count": 8,
   "source": [
    "# Contagem de linhas antes do agrupamento\n",
    "num_linhas_antes = len(df_consumos_faturados)\n",
    "\n",
    "# Contagem de linhas depois do agrupamento\n",
    "num_linhas_depois = len(df_agrupado_consumos)\n",
    "\n",
    "# Exibição das contagens\n",
    "print(\"Número de linhas antes do agrupamento:\", num_linhas_antes)\n",
    "print(\"Número de linhas depois do agrupamento:\", num_linhas_depois)\n",
    "\n",
    "df_agrupado_consumos.info()\n",
    "\n",
    "df_agrupado_consumos.head(15)"
   ],
   "id": "111b020e494f834f"
  },
  {
   "metadata": {},
   "cell_type": "markdown",
   "source": [
    "2. Verificação de dados"
   ],
   "id": "48453295ec2f22f1"
  },
  {
   "metadata": {
    "ExecuteTime": {
     "end_time": "2024-04-17T11:20:47.537558Z",
     "start_time": "2024-04-17T11:20:47.523416Z"
    }
   },
   "cell_type": "code",
   "outputs": [
    {
     "name": "stdout",
     "output_type": "stream",
     "text": [
      "<class 'pandas.core.frame.DataFrame'>\n",
      "Index: 78 entries, 8618 to 8695\n",
      "Data columns (total 5 columns):\n",
      " #   Column               Non-Null Count  Dtype  \n",
      "---  ------               --------------  -----  \n",
      " 0   Concelho             78 non-null     object \n",
      " 1   Nível de Tensão      78 non-null     object \n",
      " 2   Ano                  78 non-null     int64  \n",
      " 3   Mês                  78 non-null     int64  \n",
      " 4   Energia Ativa (kWh)  78 non-null     float64\n",
      "dtypes: float64(1), int64(2), object(2)\n",
      "memory usage: 3.7+ KB\n"
     ]
    }
   ],
   "execution_count": 9,
   "source": [
    "# Para a coleção de Consumos Mensais por Concelho\n",
    "df_consumos_lisboa = df_agrupado_consumos[df_agrupado_consumos['Concelho'] == 'Lisboa']\n",
    "df_consumos_lisboa.info()"
   ],
   "id": "b53c41a14f2c7bc7"
  },
  {
   "metadata": {
    "ExecuteTime": {
     "end_time": "2024-04-17T11:20:47.537954Z",
     "start_time": "2024-04-17T11:20:47.527662Z"
    }
   },
   "cell_type": "code",
   "outputs": [
    {
     "data": {
      "text/plain": "     Concelho                   Nível de Tensão   Ano  Mês  \\\n8618   Lisboa                      Baixa Tensão  2020   11   \n8619   Lisboa                      Baixa Tensão  2020   12   \n8620   Lisboa                      Baixa Tensão  2021    1   \n8621   Lisboa                      Baixa Tensão  2021    2   \n8622   Lisboa                      Baixa Tensão  2021    3   \n...       ...                               ...   ...  ...   \n8691   Lisboa  Muito Alta, Alta e Média Tensões  2023    9   \n8692   Lisboa  Muito Alta, Alta e Média Tensões  2023   10   \n8693   Lisboa  Muito Alta, Alta e Média Tensões  2023   11   \n8694   Lisboa  Muito Alta, Alta e Média Tensões  2023   12   \n8695   Lisboa  Muito Alta, Alta e Média Tensões  2024    1   \n\n      Energia Ativa (kWh)  \n8618         1.288069e+08  \n8619         1.488555e+08  \n8620         1.681914e+08  \n8621         1.229738e+08  \n8622         1.183059e+08  \n...                   ...  \n8691         1.204762e+08  \n8692         1.223003e+08  \n8693         1.104625e+08  \n8694         1.109523e+08  \n8695         2.596288e+07  \n\n[78 rows x 5 columns]",
      "text/html": "<div>\n<style scoped>\n    .dataframe tbody tr th:only-of-type {\n        vertical-align: middle;\n    }\n\n    .dataframe tbody tr th {\n        vertical-align: top;\n    }\n\n    .dataframe thead th {\n        text-align: right;\n    }\n</style>\n<table border=\"1\" class=\"dataframe\">\n  <thead>\n    <tr style=\"text-align: right;\">\n      <th></th>\n      <th>Concelho</th>\n      <th>Nível de Tensão</th>\n      <th>Ano</th>\n      <th>Mês</th>\n      <th>Energia Ativa (kWh)</th>\n    </tr>\n  </thead>\n  <tbody>\n    <tr>\n      <th>8618</th>\n      <td>Lisboa</td>\n      <td>Baixa Tensão</td>\n      <td>2020</td>\n      <td>11</td>\n      <td>1.288069e+08</td>\n    </tr>\n    <tr>\n      <th>8619</th>\n      <td>Lisboa</td>\n      <td>Baixa Tensão</td>\n      <td>2020</td>\n      <td>12</td>\n      <td>1.488555e+08</td>\n    </tr>\n    <tr>\n      <th>8620</th>\n      <td>Lisboa</td>\n      <td>Baixa Tensão</td>\n      <td>2021</td>\n      <td>1</td>\n      <td>1.681914e+08</td>\n    </tr>\n    <tr>\n      <th>8621</th>\n      <td>Lisboa</td>\n      <td>Baixa Tensão</td>\n      <td>2021</td>\n      <td>2</td>\n      <td>1.229738e+08</td>\n    </tr>\n    <tr>\n      <th>8622</th>\n      <td>Lisboa</td>\n      <td>Baixa Tensão</td>\n      <td>2021</td>\n      <td>3</td>\n      <td>1.183059e+08</td>\n    </tr>\n    <tr>\n      <th>...</th>\n      <td>...</td>\n      <td>...</td>\n      <td>...</td>\n      <td>...</td>\n      <td>...</td>\n    </tr>\n    <tr>\n      <th>8691</th>\n      <td>Lisboa</td>\n      <td>Muito Alta, Alta e Média Tensões</td>\n      <td>2023</td>\n      <td>9</td>\n      <td>1.204762e+08</td>\n    </tr>\n    <tr>\n      <th>8692</th>\n      <td>Lisboa</td>\n      <td>Muito Alta, Alta e Média Tensões</td>\n      <td>2023</td>\n      <td>10</td>\n      <td>1.223003e+08</td>\n    </tr>\n    <tr>\n      <th>8693</th>\n      <td>Lisboa</td>\n      <td>Muito Alta, Alta e Média Tensões</td>\n      <td>2023</td>\n      <td>11</td>\n      <td>1.104625e+08</td>\n    </tr>\n    <tr>\n      <th>8694</th>\n      <td>Lisboa</td>\n      <td>Muito Alta, Alta e Média Tensões</td>\n      <td>2023</td>\n      <td>12</td>\n      <td>1.109523e+08</td>\n    </tr>\n    <tr>\n      <th>8695</th>\n      <td>Lisboa</td>\n      <td>Muito Alta, Alta e Média Tensões</td>\n      <td>2024</td>\n      <td>1</td>\n      <td>2.596288e+07</td>\n    </tr>\n  </tbody>\n</table>\n<p>78 rows × 5 columns</p>\n</div>"
     },
     "execution_count": 10,
     "metadata": {},
     "output_type": "execute_result"
    }
   ],
   "execution_count": 10,
   "source": [
    "df_consumos_lisboa"
   ],
   "id": "e95c5349890185fe"
  },
  {
   "metadata": {},
   "cell_type": "markdown",
   "source": [
    "### 5. Guardar Ficheiro"
   ],
   "id": "930aff5aee3177b1"
  },
  {
   "cell_type": "code",
   "outputs": [
    {
     "name": "stdout",
     "output_type": "stream",
     "text": [
      "278\n",
      "DataFrame guardado em  ../data/treated/consumos_faturados_por_municipio_10_anos.csv\n"
     ]
    }
   ],
   "source": [
    "file_path = data_path + 'treated/consumos_faturados_por_municipio_10_anos.csv'\n",
    "\n",
    "df_agrupado_consumos.to_csv(file_path, index=False)\n",
    "\n",
    "print(\"DataFrame guardado em \", file_path)"
   ],
   "metadata": {
    "collapsed": false,
    "ExecuteTime": {
     "end_time": "2024-04-17T11:58:52.378736Z",
     "start_time": "2024-04-17T11:58:52.337730Z"
    }
   },
   "id": "a6fb05bc8f979b7d",
   "execution_count": 13
  },
  {
   "cell_type": "code",
   "outputs": [],
   "source": [],
   "metadata": {
    "collapsed": false
   },
   "id": "fb31df1afc18d6e3"
  }
 ],
 "metadata": {
  "kernelspec": {
   "display_name": "Python 3",
   "language": "python",
   "name": "python3"
  },
  "language_info": {
   "codemirror_mode": {
    "name": "ipython",
    "version": 2
   },
   "file_extension": ".py",
   "mimetype": "text/x-python",
   "name": "python",
   "nbconvert_exporter": "python",
   "pygments_lexer": "ipython2",
   "version": "2.7.6"
  }
 },
 "nbformat": 4,
 "nbformat_minor": 5
}
