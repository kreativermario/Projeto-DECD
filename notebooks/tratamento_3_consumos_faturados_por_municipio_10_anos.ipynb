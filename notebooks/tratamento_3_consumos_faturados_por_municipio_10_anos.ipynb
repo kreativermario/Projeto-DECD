{
 "cells": [
  {
   "metadata": {},
   "cell_type": "markdown",
   "source": "### Import das dependências",
   "id": "f612c9694069f7c3"
  },
  {
   "metadata": {
    "jupyter": {
     "is_executing": true
    }
   },
   "cell_type": "code",
   "source": [
    "import os\n",
    "\n",
    "import numpy as np\n",
    "import pandas as pd\n",
    "\n",
    "%matplotlib inline\n",
    "import matplotlib.pyplot as plt\n",
    "import seaborn as sns\n",
    "\n",
    "sns.set_theme()"
   ],
   "id": "9ba5690e4597c904",
   "outputs": [],
   "execution_count": null
  },
  {
   "metadata": {},
   "cell_type": "markdown",
   "source": "### 1. Importar o dataset - \"Consumos mensais por concelho\"",
   "id": "58b9a44f8f0d66c"
  },
  {
   "metadata": {},
   "cell_type": "code",
   "outputs": [],
   "execution_count": null,
   "source": [
    "data_path = '../data/' if os.path.exists('../data/') else 'https://raw.githubusercontent.com/kreativermario/Projeto-DECD/master/data/'\n",
    "\n",
    "consumos_faturados_path = data_path + '3-consumos-faturados-por-municipio-ultimos-10-anos.csv'\n",
    "\n",
    "df_consumos_faturados = pd.read_csv(consumos_faturados_path, delimiter=';')"
   ],
   "id": "19c81871b6b2f7b8"
  },
  {
   "metadata": {},
   "cell_type": "markdown",
   "source": "### 2. Ver o dataset",
   "id": "59ee0ef456be05df"
  },
  {
   "metadata": {},
   "cell_type": "code",
   "outputs": [],
   "execution_count": null,
   "source": "df_consumos_faturados.info()",
   "id": "6d96b801ec920688"
  },
  {
   "metadata": {},
   "cell_type": "markdown",
   "source": "1. Verificar se há elementos null",
   "id": "17c51ca8dcc34e2a"
  },
  {
   "metadata": {},
   "cell_type": "code",
   "outputs": [],
   "execution_count": null,
   "source": [
    "# Verificar nulls\n",
    "null_counts = df_consumos_faturados.isnull().sum()\n",
    "\n",
    "# Ver nulls por coluna\n",
    "print(\"Número de nulls por coluna:\")\n",
    "print(null_counts)\n",
    "\n",
    "df_consumos_faturados.head(15)"
   ],
   "id": "6c1c16bda04641b6"
  },
  {
   "metadata": {},
   "cell_type": "markdown",
   "source": [
    "### 3. Tratamento e agregação dos dados\n",
    "\n",
    "1. Remover atributos como a Data, Distrito, CodDistrito CodDistritoConcelho, CodDistritoConcelhoFreguesia \n",
    "2. Agrupar por concelhos e remover a freguesia"
   ],
   "id": "29bb59415ef1309e"
  },
  {
   "metadata": {},
   "cell_type": "markdown",
   "source": "1. Remover atributos como a Data, Distrito, CodDistrito CodDistritoConcelho, CodDistritoConcelhoFreguesia",
   "id": "a8d2cce07034c90c"
  },
  {
   "metadata": {},
   "cell_type": "code",
   "outputs": [],
   "execution_count": null,
   "source": [
    "# Remover atributos como a data, distrito, código distrito, código distrito concelho e código distrito concelho freguesia\n",
    "df_consumos_faturados.drop(columns=['Data', 'Distrito', 'CodDistrito','CodDistritoConcelho', 'CodDistritoConcelhoFreguesia', 'Distrito'], inplace=True)\n",
    "df_consumos_faturados.info()"
   ],
   "id": "754e924d638112f5"
  },
  {
   "metadata": {},
   "cell_type": "markdown",
   "source": "2. Agrupar por concelhos e remover a freguesia",
   "id": "ca1de86caa0e4017"
  },
  {
   "metadata": {},
   "cell_type": "code",
   "outputs": [],
   "execution_count": null,
   "source": [
    "df_agrupado_consumos = df_consumos_faturados.groupby(['Concelho', 'Nível de Tensão', 'Ano', 'Mes']).sum().reset_index()\n",
    "df_agrupado.drop(columns=['Freguesia'], inplace=True)\n",
    "df_agrupado_consumos.head()"
   ],
   "id": "4e0b9a420e394f97"
  },
  {
   "metadata": {},
   "cell_type": "markdown",
   "source": [
    "### 4. Verificação dos dados\n",
    "\n",
    "1. Verificação número de linhas\n",
    "2. Verificação dados"
   ],
   "id": "62d87e8e9d79febd"
  },
  {
   "metadata": {},
   "cell_type": "markdown",
   "source": "1. Verificação número de linhas",
   "id": "1d377aec05a913a3"
  },
  {
   "metadata": {},
   "cell_type": "code",
   "outputs": [],
   "execution_count": null,
   "source": [
    "# Contagem de linhas antes do agrupamento\n",
    "num_linhas_antes = len(df_consumos_faturados)\n",
    "\n",
    "# Contagem de linhas depois do agrupamento\n",
    "num_linhas_depois = len(df_agrupado_consumos)\n",
    "\n",
    "# Exibição das contagens\n",
    "print(\"Número de linhas antes do agrupamento:\", num_linhas_antes)\n",
    "print(\"Número de linhas depois do agrupamento:\", num_linhas_depois)\n",
    "\n",
    "df_agrupado_consumos.info()\n",
    "\n",
    "df_agrupado_consumos.head(15)"
   ],
   "id": "111b020e494f834f"
  },
  {
   "metadata": {},
   "cell_type": "markdown",
   "source": "2. Verificação de dados",
   "id": "48453295ec2f22f1"
  },
  {
   "metadata": {},
   "cell_type": "code",
   "outputs": [],
   "execution_count": null,
   "source": [
    "# Para a coleção de Consumos Mensais por Concelho\n",
    "df_consumos_lisboa = df_agrupado[df_agrupado['Concelho'] == 'Lisboa']\n",
    "df_consumos_lisboa.info()"
   ],
   "id": "b53c41a14f2c7bc7"
  },
  {
   "metadata": {},
   "cell_type": "code",
   "outputs": [],
   "execution_count": null,
   "source": "df_consumos_lisboa",
   "id": "e95c5349890185fe"
  },
  {
   "metadata": {},
   "cell_type": "markdown",
   "source": "### 5. Guardar Ficheiro",
   "id": "930aff5aee3177b1"
  },
  {
   "metadata": {},
   "cell_type": "code",
   "outputs": [],
   "execution_count": null,
   "source": [
    "file_path = data_path + 'treated/consumos_faturados_por_municipio_10_anos.csv'\n",
    "\n",
    "df_agrupado_consumos.to_csv(file_path, index=False)\n",
    "\n",
    "print(\"DataFrame guardado em \", file_path)"
   ],
   "id": "a6fb05bc8f979b7d"
  }
 ],
 "metadata": {
  "kernelspec": {
   "display_name": "Python 3",
   "language": "python",
   "name": "python3"
  },
  "language_info": {
   "codemirror_mode": {
    "name": "ipython",
    "version": 2
   },
   "file_extension": ".py",
   "mimetype": "text/x-python",
   "name": "python",
   "nbconvert_exporter": "python",
   "pygments_lexer": "ipython2",
   "version": "2.7.6"
  }
 },
 "nbformat": 4,
 "nbformat_minor": 5
}
